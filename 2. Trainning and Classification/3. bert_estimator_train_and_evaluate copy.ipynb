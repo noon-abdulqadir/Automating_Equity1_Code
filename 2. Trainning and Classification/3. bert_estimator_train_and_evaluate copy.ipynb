{
    "cells": [
        {
            "cell_type": "code",
            "execution_count": 1,
            "id": "50d4c434",
            "metadata": {},
            "outputs": [],
            "source": [
                "import os # isort:skip # fmt:skip # noqa # nopep8\n",
                "import sys # isort:skip # fmt:skip # noqa # nopep8\n",
                "from pathlib import Path # isort:skip # fmt:skip # noqa # nopep8\n",
                "\n",
                "mod = sys.modules[__name__]\n",
                "\n",
                "code_dir = None\n",
                "code_dir_name = 'Code'\n",
                "unwanted_subdir_name = 'Analysis'\n",
                "\n",
                "for _ in range(5):\n",
                "\n",
                "    parent_path = str(Path.cwd().parents[_]).split('/')[-1]\n",
                "\n",
                "    if (code_dir_name in parent_path) and (unwanted_subdir_name not in parent_path):\n",
                "\n",
                "        code_dir = str(Path.cwd().parents[_])\n",
                "\n",
                "        if code_dir is not None:\n",
                "            break\n",
                "\n",
                "sys.path.append(code_dir)\n",
                "# %load_ext autoreload\n",
                "# %autoreload 2\n"
            ]
        },
        {
            "cell_type": "code",
            "execution_count": 2,
            "id": "3abbb866",
            "metadata": {},
            "outputs": [
                {
                    "name": "stdout",
                    "output_type": "stream",
                    "text": [
                        "Using MPS\n"
                    ]
                },
                {
                    "name": "stderr",
                    "output_type": "stream",
                    "text": [
                        "Some weights of the model checkpoint at bert-base-uncased were not used when initializing BertForSequenceClassification: ['cls.predictions.bias', 'cls.predictions.transform.dense.weight', 'cls.predictions.transform.dense.bias', 'cls.predictions.transform.LayerNorm.bias', 'cls.seq_relationship.bias', 'cls.predictions.decoder.weight', 'cls.predictions.transform.LayerNorm.weight', 'cls.seq_relationship.weight']\n",
                        "- This IS expected if you are initializing BertForSequenceClassification from the checkpoint of a model trained on another task or with another architecture (e.g. initializing a BertForSequenceClassification model from a BertForPreTraining model).\n",
                        "- This IS NOT expected if you are initializing BertForSequenceClassification from the checkpoint of a model that you expect to be exactly identical (initializing a BertForSequenceClassification model from a BertForSequenceClassification model).\n",
                        "Some weights of BertForSequenceClassification were not initialized from the model checkpoint at bert-base-uncased and are newly initialized: ['classifier.weight', 'classifier.bias']\n",
                        "You should probably TRAIN this model on a down-stream task to be able to use it for predictions and inference.\n",
                        "/opt/homebrew/Caskroom/mambaforge/base/envs/study1_3.10/lib/python3.10/site-packages/transformers/optimization.py:391: FutureWarning: This implementation of AdamW is deprecated and will be removed in a future version. Use the PyTorch implementation torch.optim.AdamW instead, or set `no_deprecation_warning=True` to disable this warning\n",
                        "  warnings.warn(\n"
                    ]
                },
                {
                    "data": {
                        "application/vnd.jupyter.widget-view+json": {
                            "model_id": "052a1e018cad4d0e95c45557edc186dc",
                            "version_major": 2,
                            "version_minor": 0
                        },
                        "text/plain": [
                            "0it [00:00, ?it/s]"
                        ]
                    },
                    "metadata": {},
                    "output_type": "display_data"
                },
                {
                    "data": {
                        "application/vnd.jupyter.widget-view+json": {
                            "model_id": "257a8bbfe9ed4409a84e779f4de32f00",
                            "version_major": 2,
                            "version_minor": 0
                        },
                        "text/plain": [
                            "0it [00:00, ?it/s]"
                        ]
                    },
                    "metadata": {},
                    "output_type": "display_data"
                }
            ],
            "source": [
                "from setup_module.imports import *  # isort:skip # fmt:skip # noqa # nopep8\n"
            ]
        },
        {
            "cell_type": "code",
            "execution_count": 3,
            "id": "65134b3c",
            "metadata": {},
            "outputs": [
                {
                    "name": "stdout",
                    "output_type": "stream",
                    "text": [
                        "Using MPS\n"
                    ]
                },
                {
                    "name": "stderr",
                    "output_type": "stream",
                    "text": [
                        "Some weights of the model checkpoint at bert-base-uncased were not used when initializing BertForSequenceClassification: ['cls.predictions.bias', 'cls.predictions.transform.dense.weight', 'cls.predictions.transform.dense.bias', 'cls.predictions.transform.LayerNorm.bias', 'cls.seq_relationship.bias', 'cls.predictions.decoder.weight', 'cls.predictions.transform.LayerNorm.weight', 'cls.seq_relationship.weight']\n",
                        "- This IS expected if you are initializing BertForSequenceClassification from the checkpoint of a model trained on another task or with another architecture (e.g. initializing a BertForSequenceClassification model from a BertForPreTraining model).\n",
                        "- This IS NOT expected if you are initializing BertForSequenceClassification from the checkpoint of a model that you expect to be exactly identical (initializing a BertForSequenceClassification model from a BertForSequenceClassification model).\n",
                        "Some weights of BertForSequenceClassification were not initialized from the model checkpoint at bert-base-uncased and are newly initialized: ['classifier.weight', 'classifier.bias']\n",
                        "You should probably TRAIN this model on a down-stream task to be able to use it for predictions and inference.\n",
                        "/opt/homebrew/Caskroom/mambaforge/base/envs/study1_3.10/lib/python3.10/site-packages/transformers/optimization.py:391: FutureWarning: This implementation of AdamW is deprecated and will be removed in a future version. Use the PyTorch implementation torch.optim.AdamW instead, or set `no_deprecation_warning=True` to disable this warning\n",
                        "  warnings.warn(\n"
                    ]
                },
                {
                    "data": {
                        "application/vnd.jupyter.widget-view+json": {
                            "model_id": "b770f86c2f064e0ebdd4fec15eb991e4",
                            "version_major": 2,
                            "version_minor": 0
                        },
                        "text/plain": [
                            "0it [00:00, ?it/s]"
                        ]
                    },
                    "metadata": {},
                    "output_type": "display_data"
                },
                {
                    "data": {
                        "application/vnd.jupyter.widget-view+json": {
                            "model_id": "5636ba5caf0e4cc2a31ec77bd1014951",
                            "version_major": 2,
                            "version_minor": 0
                        },
                        "text/plain": [
                            "0it [00:00, ?it/s]"
                        ]
                    },
                    "metadata": {},
                    "output_type": "display_data"
                }
            ],
            "source": [
                "# Transformer variables\n",
                "method = 'BERT'\n",
                "results_save_path = f'{results_save_path}{method} Results/'\n",
                "t = time.time()\n",
                "n_jobs = -1\n",
                "n_splits = 10\n",
                "n_repeats = 3\n",
                "random_state = 42\n",
                "refit = True\n",
                "class_weight = 'balanced'\n",
                "cv = RepeatedStratifiedKFold(\n",
                "    n_splits=n_splits, n_repeats=n_repeats, random_state=random_state\n",
                ")\n",
                "scoring = 'recall'\n",
                "scores = [\n",
                "    'recall', 'accuracy', 'f1', 'roc_auc',\n",
                "    'explained_variance', 'matthews_corrcoef'\n",
                "]\n",
                "scorers = {\n",
                "    'precision_score': make_scorer(precision_score),\n",
                "    'recall_score': make_scorer(recall_score),\n",
                "    'accuracy_score': make_scorer(accuracy_score),\n",
                "}\n",
                "analysis_columns = ['Warmth', 'Competence']\n",
                "text_col = 'Job Description spacy_sentencized'\n",
                "metrics_dict = {\n",
                "    'Mean Cross Validation Train Score': np.nan,\n",
                "    f'Mean Cross Validation Train - {scoring.title()}': np.nan,\n",
                "    f'Mean Explained Train Variance - {scoring.title()}': np.nan,\n",
                "    'Mean Cross Validation Test Score': np.nan,\n",
                "    f'Mean Cross Validation Test - {scoring.title()}': np.nan,\n",
                "    f'Mean Explained Test Variance - {scoring.title()}': np.nan,\n",
                "    'Explained Variance': np.nan,\n",
                "    'Accuracy': np.nan,\n",
                "    'Balanced Accuracy': np.nan,\n",
                "    'Precision': np.nan,\n",
                "    'Recall': np.nan,\n",
                "    'F1-score': np.nan,\n",
                "    'Matthews Correlation Coefficient': np.nan,\n",
                "    'Fowlkes–Mallows Index': np.nan,\n",
                "    'ROC': np.nan,\n",
                "    'AUC': np.nan,\n",
                "    f'{scoring.title()} Best Threshold': np.nan,\n",
                "    f'{scoring.title()} Best Score': np.nan,\n",
                "    'Log Loss/Cross Entropy': np.nan,\n",
                "    'Cohen’s Kappa': np.nan,\n",
                "    'Geometric Mean': np.nan,\n",
                "    'Classification Report': np.nan,\n",
                "    'Imbalanced Classification Report': np.nan,\n",
                "    'Confusion Matrix': np.nan,\n",
                "    'Normalized Confusion Matrix': np.nan\n",
                "}\n",
                "\n",
                "# Transformer variables\n",
                "max_length = 512\n",
                "returned_tensor = 'pt'\n",
                "cpu_counts = torch.multiprocessing.cpu_count()\n",
                "device = torch.device('mps') if torch.has_mps and torch.backends.mps.is_built() and torch.backends.mps.is_available(\n",
                ") else torch.device('cuda') if torch.cuda.is_available() else torch.device('cpu')\n",
                "device_name = str(device.type)\n",
                "print(f'Using {device_name.upper()}')\n",
                "# Set random seed\n",
                "random.seed(random_state)\n",
                "np.random.seed(random_state)\n",
                "torch.manual_seed(random_state)\n",
                "DetectorFactory.seed = random_state\n",
                "cores = multiprocessing.cpu_count()\n",
                "bert_model_name = 'bert-base-uncased'\n",
                "bert_tokenizer = BertTokenizerFast.from_pretrained(\n",
                "    bert_model_name, strip_accents=True\n",
                ")\n",
                "bert_model = BertForSequenceClassification.from_pretrained(\n",
                "    bert_model_name\n",
                ").to(device)\n",
                "accelerator = Accelerator()\n",
                "optimizer = AdamW(bert_model.parameters(), lr=3e-5)\n",
                "\n",
                "# Plotting variables\n",
                "pp = pprint.PrettyPrinter(indent=4)\n",
                "tqdm.tqdm.pandas(desc='progress-bar')\n",
                "tqdm_auto.tqdm.pandas(desc='progress-bar')\n",
                "tqdm.notebook.tqdm().pandas(desc='progress-bar')\n",
                "tqdm_auto.notebook_tqdm().pandas(desc='progress-bar')\n",
                "# pbar = progressbar.ProgressBar(maxval=10)\n",
                "mpl.use('MacOSX')\n",
                "mpl.style.use(f'{code_dir}/setup_module/apa.mplstyle-main/apa.mplstyle')\n",
                "mpl.rcParams['text.usetex'] = True\n",
                "font = {'family': 'arial', 'weight': 'normal', 'size': 10}\n",
                "mpl.rc('font', **font)\n",
                "plt.style.use('tableau-colorblind10')\n",
                "plt.set_cmap('Blues')\n",
                "pd.set_option('display.max_rows', None)\n",
                "pd.set_option('display.max_columns', None)\n",
                "pd.set_option('display.width', 5000)\n",
                "pd.set_option('display.colheader_justify', 'center')\n",
                "pd.set_option('display.precision', 3)\n",
                "pd.set_option('display.float_format', '{:.2f}'.format)\n"
            ]
        },
        {
            "attachments": {},
            "cell_type": "markdown",
            "id": "55afc383",
            "metadata": {},
            "source": [
                "# Functions"
            ]
        },
        {
            "cell_type": "code",
            "execution_count": 4,
            "id": "0631dc20",
            "metadata": {},
            "outputs": [],
            "source": [
                "def show_and_close_plots():\n",
                "    plt.show()\n",
                "    plt.clf()\n",
                "    plt.cla()\n",
                "    plt.close()\n"
            ]
        },
        {
            "cell_type": "code",
            "execution_count": 5,
            "id": "f7489ea3",
            "metadata": {},
            "outputs": [],
            "source": [
                "def close_plots():\n",
                "    plt.clf()\n",
                "    plt.cla()\n",
                "    plt.close()\n"
            ]
        },
        {
            "cell_type": "code",
            "execution_count": 6,
            "id": "395dffa9",
            "metadata": {},
            "outputs": [],
            "source": [
                "def split_data(df, col, analysis_columns, text_col=text_col):\n",
                "\n",
                "    train_ratio = 0.75\n",
                "    test_ratio = 0.10\n",
                "    validation_ratio = 0.15\n",
                "    test_split = test_size = 1 - train_ratio\n",
                "    validation_split = test_ratio / (test_ratio + validation_ratio)\n",
                "\n",
                "    # Split\n",
                "    print('='*20)\n",
                "    print('Splitting data into training, testing, and validation sets:')\n",
                "    print(f'Ratios: train_size = {train_ratio}, test size = {test_ratio}, validation size = {validation_ratio}')\n",
                "\n",
                "    df = df.dropna(subset=analysis_columns, how='any')\n",
                "    df = df.reset_index(drop=True)\n",
                "\n",
                "    train, test = train_test_split(\n",
                "        df, train_size = 1-test_split, test_size = test_split, random_state=random_state\n",
                "    )\n",
                "\n",
                "    val, test = train_test_split(\n",
                "        test, test_size=validation_split, random_state=random_state\n",
                "    )\n",
                "\n",
                "    X_train = np.array(list(train[text_col].astype('str').values))\n",
                "    y_train = column_or_1d(train[col].astype('int64').values.tolist(), warn=True)\n",
                "\n",
                "    X_test = np.array(list(test[text_col].astype('str').values))\n",
                "    y_test = column_or_1d(test[col].astype('int64').values.tolist(), warn=True)\n",
                "\n",
                "    X_val = np.array(list(val[text_col].astype('str').values))\n",
                "    y_val = column_or_1d(val[col].astype('int64').values.tolist(), warn=True)\n",
                "\n",
                "    class_weights = compute_class_weight(class_weight = 'balanced', classes = [0,1], y = y_train)\n",
                "    class_weights_ratio = class_weights[0]/class_weights[1]\n",
                "    class_weights_dict = dict(zip(np.unique(y_train), class_weights))\n",
                "\n",
                "    print('Done splitting data into training, testing, and validation sets.')\n",
                "\n",
                "    return (\n",
                "        train, X_train, y_train,\n",
                "        test, X_test, y_test,\n",
                "        val, X_val, y_val,\n",
                "        class_weights,\n",
                "        class_weights_ratio,\n",
                "        class_weights_dict\n",
                "    )\n"
            ]
        },
        {
            "cell_type": "code",
            "execution_count": 7,
            "id": "679eb14f",
            "metadata": {},
            "outputs": [],
            "source": [
                "class MyDataset(torch.utils.data.Dataset):\n",
                "    def __init__(self, encodings, encoded):\n",
                "        self.encodings = encodings\n",
                "        self.encoded = encoded\n",
                "\n",
                "    def __getitem__(self, idx):\n",
                "        item = {key: torch.tensor(val[idx], device=device) for key, val in self.encodings.items()}\n",
                "        item['labels'] = torch.tensor(self.encoded[idx], device=device)\n",
                "        return item\n",
                "\n",
                "    def __len__(self):\n",
                "        return len(self.encoded)\n"
            ]
        },
        {
            "cell_type": "code",
            "execution_count": 8,
            "id": "3f3840ba",
            "metadata": {},
            "outputs": [],
            "source": [
                "def encode_data(df, col, analysis_columns, text_col=text_col):\n",
                "\n",
                "    # Split\n",
                "    (\n",
                "        train, X_train, y_train,\n",
                "        test, X_test, y_test,\n",
                "        val, X_val, y_val,\n",
                "        class_weights,\n",
                "        class_weights_ratio,\n",
                "        class_weights_dict\n",
                "    ) = split_data(\n",
                "        df=df_manual, col=col, analysis_columns=analysis_columns, text_col=text_col\n",
                "    )\n",
                "\n",
                "    print('='*20)\n",
                "    print(f'Encoding training, testing, and validation sets with {bert_tokenizer.__class__.__name__}.from_pretrained using {bert_tokenizer.name_or_path}.')\n",
                "\n",
                "    bert_label2id = {label: id_ for id_, label in enumerate(set(y_train))}\n",
                "    bert_id2label = {id_: label for label, id_ in bert_label2id.items()}\n",
                "\n",
                "    X_train_bert_encodings = bert_tokenizer(\n",
                "        X_train.tolist(), truncation=True, padding=True, max_length=max_length, return_tensors=returned_tensor\n",
                "    ).to(device)\n",
                "    y_train_bert_encoded = [bert_label2id[y] for y in y_train]\n",
                "    bert_train_dataset = MyDataset(X_train_bert_encodings, y_train_bert_encoded)\n",
                "\n",
                "    X_test_bert_encodings = bert_tokenizer(\n",
                "        X_test.tolist(), truncation=True, padding=True, max_length=max_length, return_tensors=returned_tensor\n",
                "    ).to(device)\n",
                "    y_test_bert_encoded = [bert_label2id[y] for y in y_test]\n",
                "    bert_test_dataset = MyDataset(X_test_bert_encodings, y_test_bert_encoded)\n",
                "\n",
                "    X_val_bert_encodings = bert_tokenizer(\n",
                "        X_val.tolist(), truncation=True, padding=True, max_length=max_length, return_tensors=returned_tensor\n",
                "    ).to(device)\n",
                "    y_val_bert_encoded = [bert_label2id[y] for y in y_val]\n",
                "    bert_val_dataset = MyDataset(X_val_bert_encodings, y_val_bert_encoded)\n",
                "\n",
                "    print('Done encoding training, testing, and validation sets.')\n",
                "    print('='*20)\n",
                "    print(f'Training set shape: {y_train.shape}')\n",
                "    print('-'*10)\n",
                "    print(f'Training set example:\\n{X_train[0]}')\n",
                "    print('-'*10)\n",
                "    print(f'Training set BERT encodings example:\\n{\" \".join(bert_train_dataset.encodings[0].tokens[:30])}')\n",
                "    print('-'*10)\n",
                "    print(f'Training labels after BERT encoding: {set(y_train_bert_encoded)}')\n",
                "    print('~'*10)\n",
                "    print(f'Testing set shape: {y_test.shape}')\n",
                "    print('-'*10)\n",
                "    print(f'Testing set example:\\n{X_test[0]}')\n",
                "    print('-'*10)\n",
                "    print(f'Testing set BERT encodings example:\\n{\" \".join(bert_test_dataset.encodings[0].tokens[:30])}')\n",
                "    print('-'*10)\n",
                "    print(f'Testing labels after BERT encoding: {set(y_test_bert_encoded)}')\n",
                "    print('~'*10)\n",
                "    print(f'Validation set shape: {y_val.shape}')\n",
                "    print('-'*10)\n",
                "    print(f'Validation set example:\\n{X_val[0]}')\n",
                "    print('-'*10)\n",
                "    print(f'Validation set BERT encodings example:\\n{\" \".join(bert_val_dataset.encodings[0].tokens[:30])}')\n",
                "    print('-'*10)\n",
                "    print(f'Validation labels after BERT encoding: {set(y_val_bert_encoded)}')\n",
                "    print('~'*10)\n",
                "    print(f'Class weights:\\nRatio = {class_weights_ratio:.2f} (0 = {class_weights[0]:.2f}, 1 = {class_weights[1]:.2f})')\n",
                "    print('='*20)\n",
                "\n",
                "    return (\n",
                "        train, X_train, X_train_bert_encodings, y_train, y_train_bert_encoded, bert_train_dataset,\n",
                "        test, X_test, X_test_bert_encodings, y_test, y_test_bert_encoded, bert_test_dataset,\n",
                "        val, X_val, X_val_bert_encodings, y_val, y_val_bert_encoded, bert_val_dataset,\n",
                "        bert_label2id, bert_id2label, class_weights, class_weights_ratio, class_weights_dict\n",
                "    )\n"
            ]
        },
        {
            "cell_type": "code",
            "execution_count": 9,
            "id": "d7c888f5",
            "metadata": {},
            "outputs": [],
            "source": [
                "def compute_metrics_with_y_pred(\n",
                "    y_test, y_test_pred,\n",
                "    pos_label=None, labels=None, zero_division=None, alpha=None\n",
                "):\n",
                "\n",
                "    if pos_label is None:\n",
                "        pos_label = 1\n",
                "    if labels is None:\n",
                "        labels = np.unique(y_test_pred)\n",
                "    if zero_division is None:\n",
                "        zero_division = 0\n",
                "    if alpha is None:\n",
                "        alpha = 0.1\n",
                "\n",
                "    # Using y_pred\n",
                "    explained_variance = metrics.explained_variance_score(y_test, y_test_pred)\n",
                "    accuracy = metrics.accuracy_score(y_test, y_test_pred)\n",
                "    balanced_accuracy = metrics.balanced_accuracy_score(y_test, y_test_pred)\n",
                "    precision = metrics.precision_score(y_test, y_test_pred, pos_label=pos_label, labels=labels, zero_division=zero_division)\n",
                "    recall = metrics.recall_score(y_test, y_test_pred, pos_label=pos_label, labels=labels, zero_division=zero_division)\n",
                "    f1 = metrics.f1_score(y_test, y_test_pred, pos_label=pos_label, labels=labels, zero_division=zero_division)\n",
                "    mcc = metrics.matthews_corrcoef(y_test, y_test_pred)\n",
                "    fm = metrics.fowlkes_mallows_score(y_test, y_test_pred)\n",
                "    kappa = metrics.cohen_kappa_score(y_test, y_test_pred, labels=labels)\n",
                "    gmean_iba = imblearn.metrics.make_index_balanced_accuracy(alpha=alpha, squared=True)(geometric_mean_score)\n",
                "    gmean = gmean_iba(y_test, y_test_pred)\n",
                "    report = metrics.classification_report(y_test, y_test_pred, labels=labels, zero_division=zero_division)\n",
                "    imblearn_report = classification_report_imbalanced(\n",
                "        y_test, y_test_pred, labels=labels, zero_division=zero_division)\n",
                "    cm = metrics.confusion_matrix(y_test, y_test_pred, labels=labels)\n",
                "    cm_normalized = metrics.confusion_matrix(y_test, y_test_pred, normalize='true', labels=labels)\n",
                "\n",
                "    return (\n",
                "        explained_variance, accuracy, balanced_accuracy, precision,\n",
                "        recall, f1, mcc, fm, kappa, gmean, report, cm, cm_normalized\n",
                "    )\n"
            ]
        },
        {
            "cell_type": "code",
            "execution_count": 10,
            "id": "82f234a5",
            "metadata": {},
            "outputs": [],
            "source": [
                "def plot_metrics_with_y_pred(\n",
                "    y_test, y_test_pred,\n",
                "    col, vectorizer_name, classifier_name,\n",
                "    pos_label=None\n",
                "):\n",
                "    if pos_label is None:\n",
                "        pos_label = 1\n",
                "    # Using y_pred_prob\n",
                "    # Displays\n",
                "    close_plots()\n",
                "    cm_curve = metrics.ConfusionMatrixDisplay.from_predictions(\n",
                "        y_test, y_test_pred, display_labels=labels\n",
                "    )\n",
                "    cm_normalized_curve = metrics.ConfusionMatrixDisplay.from_predictions(\n",
                "        y_test, y_test_pred, normalize='true', display_labels=labels\n",
                "    )\n",
                "    roc_curve = metrics.RocCurveDisplay.from_predictions(\n",
                "        y_test, y_test_pred, pos_label=pos_label\n",
                "    )\n",
                "    pr_curve = metrics.PrecisionRecallDisplay.from_predictions(\n",
                "        y_test, y_test_pred, pos_label=pos_label\n",
                "    )\n",
                "    calibration_curve = CalibrationDisplay.from_predictions(\n",
                "        y_test, y_test_pred, pos_label=pos_label\n",
                "    )\n",
                "    close_plots()\n",
                "\n",
                "    # Plots\n",
                "    plots_dict = {\n",
                "        'Confusion Matrix': cm_curve,\n",
                "        'Normalized Confusion Matrix': cm_normalized_curve,\n",
                "        'ROC Curve': roc_curve,\n",
                "        'Precision-Recall Curve': pr_curve,\n",
                "        'Calibration Curve': calibration_curve,\n",
                "    }\n",
                "\n",
                "    print('=' * 20)\n",
                "    close_plots()\n",
                "    print('Plotting metrics with y_pred_prob:')\n",
                "\n",
                "    for plot_name, plot_ in plots_dict.items():\n",
                "        print(f'Plotting {plot_name}:')\n",
                "        fig, ax = plt.subplots()\n",
                "        ax.set_title(\n",
                "            f'{str(col)} - {plot_name} {vectorizer_name} + {classifier_name}')\n",
                "        if plot_name == 'ROC Curve':\n",
                "            ax.plot([0, 1], [0, 1], 'r--', lw=1)\n",
                "        plot_.plot(ax=ax)\n",
                "        show_and_close_plots()\n",
                "        print('=' * 20)\n",
                "\n",
                "        # Save Plots\n",
                "        print(f'Saving {plot_name}...')\n",
                "        for image_save_format in ['eps', 'png', 'svg']:\n",
                "            plt.savefig(\n",
                "                f'{plot_save_path}{method} {str(col)} - {plot_name} {vectorizer_name} + {classifier_name}.{image_save_format}',\n",
                "                format=image_save_format, dpi=3000, bbox_inches='tight'\n",
                "            )\n",
                "        print(f'Saved {plot_name}!')\n",
                "        print('=' * 20)\n",
                "\n",
                "    # # Visualisation with plot_metric\n",
                "    # bc = plot_metric.functions.BinaryClassification(\n",
                "    #     y_test, y_test_pred, labels=[0, 1])\n",
                "\n",
                "    # # Figures\n",
                "    # fig = plt.figure(figsize=(15, 10))\n",
                "    # plt.subplot2grid((2, 6), (1, 1), colspan=2)\n",
                "    # bc.plot_confusion_matrix(colorbar=True)\n",
                "    # plt.subplot2grid((2, 6), (1, 3), colspan=2)\n",
                "    # bc.plot_confusion_matrix(normalize=True, colorbar=True)\n",
                "    # plt.subplot2grid(shape=(2, 6), loc=(0, 0), colspan=2)\n",
                "    # bc.plot_roc_curve()\n",
                "    # plt.subplot2grid((2, 6), (0, 2), colspan=2)\n",
                "    # bc.plot_precision_recall_curve()\n",
                "    # plt.subplot2grid((2, 6), (0, 4), colspan=2)\n",
                "    # bc.plot_class_distribution()\n",
                "    # show_and_close_plots()\n",
                "    # bc.print_report()\n",
                "    # for image_save_format in ['eps', 'png', 'svg']:\n",
                "    #     plt.savefig(\n",
                "    #         f'{plot_save_path}{method} plot_metric Curves {str(col)} - {vectorizer_name} + {classifier_name}.{image_save_format}',\n",
                "    #         format=image_save_format,\n",
                "    #         dpi=3000, bbox_inches='tight'\n",
                "    #     )\n",
                "\n",
                "    # Heatmap\n",
                "    print('Plotting Heatmap:')\n",
                "    close_plots()\n",
                "    classifications_dict = defaultdict(int)\n",
                "    for _y_test, _y_test_pred in zip(y_test, y_test_pred):\n",
                "        if _y_test != _y_test_pred:\n",
                "            classifications_dict[(_y_test, _y_test_pred)] += 1\n",
                "\n",
                "    dicts_to_plot = [\n",
                "        {\n",
                "            f'True {str(col)} value': _y_test,\n",
                "            f'Predicted {str(col)} value': _y_test_pred,\n",
                "            'Number of Classifications': _count,\n",
                "        }\n",
                "        for (_y_test, _y_test_pred), _count in classifications_dict.items()\n",
                "    ]\n",
                "    df_to_plot = pd.DataFrame(dicts_to_plot)\n",
                "    df_wide = df_to_plot.pivot_table(\n",
                "        index=f'True {str(col)} value', \n",
                "        columns=f'Predicted {str(col)} value', \n",
                "        values='Number of Classifications'\n",
                "    )\n",
                "\n",
                "    plt.figure(figsize=(9,7))\n",
                "    sns.set(style='ticks', font_scale=1.2)\n",
                "    sns.heatmap(df_wide, linewidths=1, cmap='Purples')    \n",
                "    plt.xticks(rotation=45, ha='right')\n",
                "    plt.tight_layout()\n",
                "    show_and_close_plots()\n",
                "\n",
                "    return (\n",
                "        cm_curve, cm_normalized_curve, roc_curve, pr_curve, calibration_curve\n",
                "    )\n"
            ]
        },
        {
            "cell_type": "code",
            "execution_count": 11,
            "id": "1e2dcb5c",
            "metadata": {},
            "outputs": [],
            "source": [
                "def compute_metrics_with_y_pred_prob(\n",
                "    y_test, y_test_pred_prob,\n",
                "    pos_label=None\n",
                "):\n",
                "    if pos_label is None:\n",
                "        pos_label = 1\n",
                "\n",
                "    # Using y_pred_prob\n",
                "    average_precision = metrics.average_precision_score(y_test, y_test_pred_prob)\n",
                "    roc_auc = metrics.roc_auc_score(y_test, y_test_pred_prob)\n",
                "    auc = metrics.auc(fpr, tpr)\n",
                "    fpr, tpr, threshold = metrics.roc_curve(y_test, y_test_pred_prob, pos_label=1)\n",
                "    loss = metrics.log_loss(y_test, y_test_pred_prob)\n",
                "    precision_pr, recall_pr, threshold_pr = metrics.precision_recall_curve(y_test, y_test_pred_prob, pos_label=1)\n",
                "\n",
                "    return (\n",
                "        average_precision, roc_auc, auc,\n",
                "        fpr, tpr, threshold,loss,\n",
                "        precision_pr, recall_pr, threshold_pr\n",
                "    )\n"
            ]
        },
        {
            "cell_type": "code",
            "execution_count": 12,
            "id": "81d6916f",
            "metadata": {},
            "outputs": [],
            "source": [
                "def compute_metrics(\n",
                "    predicted_results,\n",
                "    with_y_pred=None,\n",
                "    with_y_pred_prob=None\n",
                "):\n",
                "    if with_y_pred is None:\n",
                "        with_y_pred = True\n",
                "    if with_y_pred_prob is None:\n",
                "        with_y_pred_prob = False\n",
                "    \n",
                "    # Get y_test_pred\n",
                "    y_test = predicted_results.label_ids\n",
                "    y_test_pred = [bert_label2id[l] for l in predicted_results.predictions.argmax(-1).flatten().tolist()]\n",
                "\n",
                "    # # Get y_test_pred_prob\n",
                "    # try:\n",
                "    #     y_test_pred_prob = torch.nn.functional.softmax(torch.tensor(predicted_results.predictions, device=device), dim=-1)\n",
                "    #     print('Using torch.nn.functional.softmax')\n",
                "    # except Exception:\n",
                "    #     y_test_pred_prob = scipy.special.softmax(predicted_results.predictions, axis=1)\n",
                "    #     print('Using scipy.special.softmax')\n",
                "    # except Exception:\n",
                "    #     y_test_pred_prob = predicted_results.predictions[:, 1]\n",
                "    #     print('Using predicted_results.predictions[:, 1]')\n",
                "    # finally:\n",
                "    #     y_test_pred_prob = y_test_pred_prob.flatten().tolist()\n",
                "\n",
                "    # Get metrics\n",
                "    print('='*20)\n",
                "    # Using estimator\n",
                "    if with_estimator:\n",
                "        print('Computing metrics using estimator.')\n",
                "        (\n",
                "            df_cv_score_recall,\n",
                "            cv_train_scores, cv_test_scores,\n",
                "            cv_train_recall, cv_test_recall,\n",
                "            cv_train_explained_variance_recall, cv_test_explained_variance_recall\n",
                "        ) = compute_metrics_using_estimator(\n",
                "            estimator, X_test, y_test, col, vectorizer_name, classifier_name,\n",
                "        )\n",
                "    # Using y_test_pred\n",
                "    if with_y_pred:\n",
                "        print('-'*20)\n",
                "        print('Computing metrics using y_test_pred.')\n",
                "        (\n",
                "            explained_variance, accuracy, balanced_accuracy, precision,\n",
                "            recall, f1, mcc, fm, kappa, gmean, report, imblearn_report, cm, cm_normalized\n",
                "        ) = compute_metrics_with_y_pred(\n",
                "            y_test, y_test_pred, col, vectorizer_name, classifier_name\n",
                "        )\n",
                "    # Using y_test_pred_prob\n",
                "    if with_y_pred_prob:\n",
                "        print('-'*20)\n",
                "        print('Computing metrics using y_test_pred_prob.')\n",
                "        (\n",
                "            average_precision, roc_auc, auc,\n",
                "            fpr, tpr, threshold, loss,\n",
                "            precision_pr, recall_pr, threshold_pr\n",
                "        ) = compute_metrics_with_y_pred_prob(\n",
                "            y_test, y_test_pred_prob, col, vectorizer_name, classifier_name,\n",
                "        )\n",
                "\n",
                "    # Place metrics into dict\n",
                "    print('-'*20)\n",
                "    print('Appending metrics to dict.')\n",
                "    metrics_dict = {\n",
                "        # 'Train - Mean Cross Validation Score': float(cv_train_scores),\n",
                "        # f'Train - Mean Cross Validation - {scoring.title()}': float(cv_train_recall),\n",
                "        # f'Train - Mean Explained Variance - {scoring.title()}': float(cv_train_explained_variance_recall),\n",
                "        # 'Test - Mean Cross Validation Score': float(cv_test_scores),\n",
                "        # f'Test - Mean Cross Validation - {scoring.title()}': float(cv_test_recall),\n",
                "        # f'Test - Mean Explained Variance - {scoring.title()}': float(cv_test_explained_variance_recall),\n",
                "        # 'Explained Variance': float(explained_variance),\n",
                "        'Accuracy': float(accuracy),\n",
                "        'Balanced Accuracy': float(balanced_accuracy),\n",
                "        'Precision': float(precision),\n",
                "        # 'Average Precision': float(average_precision),\n",
                "        'Recall': float(recall),\n",
                "        'F1-score': float(f1),\n",
                "        'Matthews Correlation Coefficient': float(mcc),\n",
                "        'Fowlkes–Mallows Index': float(fm),\n",
                "        # 'ROC': float(roc_auc),\n",
                "        # 'AUC': float(auc),\n",
                "        # f'{scoring.title()} Best Threshold': threshold,\n",
                "        # f'{scoring.title()} Best Score': float(best_train_score),\n",
                "        # 'Log Loss/Cross Entropy': float(loss),\n",
                "        'Cohen’s Kappa': float(kappa),\n",
                "        'Geometric Mean': float(gmean),\n",
                "        'Classification Report': report,\n",
                "        'Imbalanced Classification Report': np.nan,\n",
                "        'Confusion Matrix': cm,\n",
                "        'Normalized Confusion Matrix': cm_normalized\n",
                "    }\n",
                "\n",
                "    return metrics_dict\n",
                "\n",
                "    return metrics_dict\n"
            ]
        },
        {
            "cell_type": "code",
            "execution_count": 13,
            "id": "f2d3da10",
            "metadata": {},
            "outputs": [],
            "source": [
                "def plot_metrics(\n",
                "    estimator, X_test, y_test, y_test_pred, y_test_pred_prob,\n",
                "    col, vectorizer_name, classifier_name, \n",
                "    with_y_pred=None, with_y_pred_prob=None\n",
                "):\n",
                "    if with_y_pred is None:\n",
                "        with_y_pred = True\n",
                "    if with_y_pred_prob is None:\n",
                "        with_y_pred_prob = False\n",
                "\n",
                "    # Plotting\n",
                "    # Using y_test_pred\n",
                "    if with_y_pred:\n",
                "        (\n",
                "            cm_curve, cm_normalized_curve, roc_curve, pr_curve, calibration_curve\n",
                "        ) = plot_metrics_with_y_pred(\n",
                "            y_test, y_test_pred,\n",
                "            col, vectorizer_name, classifier_name, \n",
                "        )\n"
            ]
        },
        {
            "cell_type": "code",
            "execution_count": 14,
            "id": "c44994c4",
            "metadata": {},
            "outputs": [],
            "source": [
                "def evaluation(\n",
                "    metrics_dict, df_metrics,\n",
                "    col, vectorizer_name, classifier_name\n",
                "):\n",
                "\n",
                "    # Print metrics\n",
                "    print('=' * 20)\n",
                "    print('~' * 20)\n",
                "    print(' Metrics:')\n",
                "    print('~' * 20)\n",
                "    print(f'Classification Report:\\n {metrics_dict[\"Classification Report\"]}')\n",
                "    print('-' * 20)\n",
                "    for test_metric_name, metric_value in metrics_dict.items():\n",
                "        if test_metric_name not in ['test_runtime', 'test_samples_per_second', 'test_steps_per_second']:\n",
                "            metric_name = test_metric_name.split(\"test_\")[1].replace('_', ' ').title()\n",
                "            if isinstance(metric_name, float):\n",
                "                print(f'{metric_name}: {round(float(metric_value), 2)}')\n",
                "            else:\n",
                "                print(f'{metric_name}: {metric_value}')\n",
                "            print('-' * 20)\n",
                "\n",
                "            # Fill Table DF\n",
                "            if isinstance(metric_value, float):\n",
                "                df_metrics.loc[\n",
                "                    (classifier_name), (col, vectorizer_name, metric_name)\n",
                "                ] = float(metric_value)\n",
                "            else:\n",
                "                df_metrics.loc[\n",
                "                    (classifier_name), (col, vectorizer_name, metric_name)\n",
                "                ] = str(metric_value)\n",
                "\n",
                "    print('=' * 20)\n",
                "\n",
                "    # Plot Metrics\n",
                "    plot_metrics(\n",
                "        estimator, X_test, y_test, y_test_pred, y_test_pred_prob,\n",
                "        col, vectorizer_name, classifier_name, \n",
                "    )\n",
                "\n",
                "    return df_metrics\n"
            ]
        },
        {
            "cell_type": "code",
            "execution_count": 15,
            "id": "4b48de3a",
            "metadata": {},
            "outputs": [],
            "source": [
                "# Save Model\n",
                "def save_table(df_metrics, estimator, col, vectorizer_name, classifier_name, table_save_path=table_save_path, save_name=None, save_formats_dict=None):\n",
                "    if save_name is None:\n",
                "        save_name = 'Estimators Table'\n",
                "\n",
                "    # Save metrics df\n",
                "    print(f'Saving Model and Table for {vectorizer_name} + {classifier_name}.')\n",
                "    df_metrics.to_csv(f'{table_save_path}{save_name}.csv')\n",
                "    df_metrics.to_pickle(f'{table_save_path}{save_name}.pkl')\n",
                "    df_metrics.to_excel(f'{table_save_path}{save_name}.xlsx')\n",
                "    df_metrics.to_latex(f'{table_save_path}{save_name}.tex')\n",
                "    df_metrics.to_markdown(f'{table_save_path}{save_name}.md')\n",
                "    df_metrics.to_html(f'{table_save_path}{save_name}.html')\n"
            ]
        },
        {
            "cell_type": "code",
            "execution_count": 16,
            "id": "29efbbd2",
            "metadata": {},
            "outputs": [],
            "source": [
                "# Save Model\n",
                "def get_fitted_estimators(results_save_path=results_save_path, method=method):\n",
                "\n",
                "    estimators_list = []\n",
                "\n",
                "    for estimator_path in glob.glob(f'{results_save_path}{method} Estimator - *.pkl'):\n",
                "        with open(estimator_path, 'rb') as f:\n",
                "            estimators_list.append(joblib.load(f))\n",
                "\n",
                "    return estimators_list\n"
            ]
        },
        {
            "cell_type": "code",
            "execution_count": 17,
            "id": "34e44624",
            "metadata": {},
            "outputs": [],
            "source": [
                "def comparison_plots(\n",
                "    estimators_list, X_test, y_test, col,\n",
                "    curves_dict=None, cmap=plt.cm.Blues\n",
                "):\n",
                "\n",
                "    curves_dict = {\n",
                "        'ROC Curve': metrics.RocCurveDisplay,\n",
                "        'Precision Recall Curve': metrics.PrecisionRecallDisplay,\n",
                "        'Calibration Curve': metrics.CalibrationDisplay,\n",
                "    }\n",
                "\n",
                "    assert len(estimators_list) != 0\n",
                "\n",
                "    for curve_name, curve_package in curves_dict.items():\n",
                "        print('-' * 20)\n",
                "        print(f'{str(curve_name)}: {str(col)}')\n",
                "        fig, ax = plt.subplots()\n",
                "        ax.set_title(f'{str(curve_name)}: {str(col)}')\n",
                "        for estimator in estimators_list:\n",
                "            curve = curve_package.from_estimator(\n",
                "                estimator, X_test, y_test, pos_label=1, ax=ax,\n",
                "                name=f'{estimator.steps[0][0]} + {estimator.steps[1][0]} + {estimator.steps[-1][0]}'\n",
                "            )\n",
                "        show_and_close_plots()\n",
                "\n",
                "        # Save Plots\n",
                "        print('Saving plots.')\n",
                "        for image_save_format in ['eps', 'png', 'svg']:\n",
                "            curve.figure_.savefig(\n",
                "                f'{plot_save_path}{method} {str(col)} - All {str(curve_name)}s.{image_save_format}',\n",
                "                format=image_save_format,\n",
                "                dpi=3000, bbox_inches='tight'\n",
                "            )\n"
            ]
        },
        {
            "cell_type": "markdown",
            "id": "10f64ab3",
            "metadata": {},
            "source": [
                "# Training"
            ]
        },
        {
            "cell_type": "markdown",
            "id": "52fe8e7a",
            "metadata": {},
            "source": [
                "### READ DATA"
            ]
        },
        {
            "cell_type": "code",
            "execution_count": 18,
            "id": "f7fbe29f",
            "metadata": {},
            "outputs": [],
            "source": [
                "df_manual = pd.read_pickle(f'{df_save_dir}df_manual_for_trainning.pkl').reset_index(drop=True)\n",
                "# HACK REMOVE THIS!!!!!!\n",
                "df_manual = df_manual.groupby(analysis_columns).sample(n=200).reset_index(drop = True)\n"
            ]
        },
        {
            "cell_type": "code",
            "execution_count": 19,
            "id": "689d84dd",
            "metadata": {},
            "outputs": [
                {
                    "name": "stdout",
                    "output_type": "stream",
                    "text": [
                        "########################################\n",
                        "Starting!\n",
                        "########################################\n"
                    ]
                },
                {
                    "name": "stderr",
                    "output_type": "stream",
                    "text": [
                        "  0%|          | 0/2 [00:00<?, ?it/s]"
                    ]
                },
                {
                    "name": "stdout",
                    "output_type": "stream",
                    "text": [
                        "--------------------\n",
                        "============================== TRAINING DATASET OF LENGTH 800 ON WARMTH ==============================\n",
                        "--------------------\n",
                        "====================\n",
                        "Splitting data into training, testing, and validation sets:\n",
                        "Ratios: train_size = 0.75, test size = 0.1, validation size = 0.15\n",
                        "Done splitting data into training, testing, and validation sets.\n",
                        "====================\n",
                        "Encoding training, testing, and validation sets with BertTokenizerFast.from_pretrained using bert-base-uncased.\n",
                        "Done encoding training, testing, and validation sets.\n",
                        "====================\n",
                        "Training set shape: (600,)\n",
                        "----------\n",
                        "Training set example:\n",
                        "Automate) who will be responsible for preparation and execution of improvements working with the RPA and Microsoft Power\n",
                        "----------\n",
                        "Training set BERT encodings example:\n",
                        "[CLS] auto ##mate ) who will be responsible for preparation and execution of improvements working with the r ##pa and microsoft power [SEP] [PAD] [PAD] [PAD] [PAD] [PAD] [PAD] [PAD]\n",
                        "----------\n",
                        "Training labels after BERT encoding: {0, 1}\n",
                        "~~~~~~~~~~\n",
                        "Testing set shape: (80,)\n",
                        "----------\n",
                        "Testing set example:\n",
                        "self-motivation and a clear dedication to your profession.\n",
                        "----------\n",
                        "Testing set BERT encodings example:\n",
                        "[CLS] self - motivation and a clear dedication to your profession . [SEP] [PAD] [PAD] [PAD] [PAD] [PAD] [PAD] [PAD] [PAD] [PAD] [PAD] [PAD] [PAD] [PAD] [PAD] [PAD] [PAD] [PAD]\n",
                        "----------\n",
                        "Testing labels after BERT encoding: {0, 1}\n",
                        "~~~~~~~~~~\n",
                        "Validation set shape: (120,)\n",
                        "----------\n",
                        "Validation set example:\n",
                        "Create your own nutrition formula with a discount on our products!\n",
                        "----------\n",
                        "Validation set BERT encodings example:\n",
                        "[CLS] create your own nutrition formula with a discount on our products ! [SEP] [PAD] [PAD] [PAD] [PAD] [PAD] [PAD] [PAD] [PAD] [PAD] [PAD] [PAD] [PAD] [PAD] [PAD] [PAD] [PAD]\n",
                        "----------\n",
                        "Validation labels after BERT encoding: {0, 1}\n",
                        "~~~~~~~~~~\n",
                        "Class weights:\n",
                        "Ratio = 0.99 (0 = 0.99, 1 = 1.01)\n",
                        "====================\n"
                    ]
                },
                {
                    "name": "stderr",
                    "output_type": "stream",
                    "text": [
                        "Some weights of the model checkpoint at bert-base-uncased were not used when initializing BertForSequenceClassification: ['cls.predictions.bias', 'cls.predictions.transform.dense.weight', 'cls.predictions.transform.dense.bias', 'cls.predictions.transform.LayerNorm.bias', 'cls.seq_relationship.bias', 'cls.predictions.decoder.weight', 'cls.predictions.transform.LayerNorm.weight', 'cls.seq_relationship.weight']\n",
                        "- This IS expected if you are initializing BertForSequenceClassification from the checkpoint of a model trained on another task or with another architecture (e.g. initializing a BertForSequenceClassification model from a BertForPreTraining model).\n",
                        "- This IS NOT expected if you are initializing BertForSequenceClassification from the checkpoint of a model that you expect to be exactly identical (initializing a BertForSequenceClassification model from a BertForSequenceClassification model).\n",
                        "Some weights of BertForSequenceClassification were not initialized from the model checkpoint at bert-base-uncased and are newly initialized: ['classifier.weight', 'classifier.bias']\n",
                        "You should probably TRAIN this model on a down-stream task to be able to use it for predictions and inference.\n",
                        "The speedups for torchdynamo mostly come wih GPU Ampere or higher and which is not detected here.\n"
                    ]
                },
                {
                    "name": "stdout",
                    "output_type": "stream",
                    "text": [
                        "==============================\n",
                        "Initializing BERT Trainer using BertTokenizerFast + BertForSequenceClassification for Warmth\n",
                        "--------------------\n",
                        "Passing arguments to estimator.\n",
                        "--------------------\n",
                        "Starting training for Warmth.\n"
                    ]
                },
                {
                    "data": {
                        "application/vnd.jupyter.widget-view+json": {
                            "model_id": "09466c4365ad4498b2bdaaf1feecb2a4",
                            "version_major": 2,
                            "version_minor": 0
                        },
                        "text/plain": [
                            "  0%|          | 0/114 [00:00<?, ?it/s]"
                        ]
                    },
                    "metadata": {},
                    "output_type": "display_data"
                },
                {
                    "name": "stderr",
                    "output_type": "stream",
                    "text": [
                        "/var/folders/46/q15p556n1dd63z6gkwyh896c0000gn/T/ipykernel_73742/1230619439.py:7: UserWarning: To copy construct from a tensor, it is recommended to use sourceTensor.clone().detach() or sourceTensor.clone().detach().requires_grad_(True), rather than torch.tensor(sourceTensor).\n",
                        "  item = {key: torch.tensor(val[idx], device=device) for key, val in self.encodings.items()}\n",
                        "You're using a BertTokenizerFast tokenizer. Please note that with a fast tokenizer, using the `__call__` method is faster than using a method to encode the text followed by a call to the `pad` method to get a padded encoding.\n",
                        "/var/folders/46/q15p556n1dd63z6gkwyh896c0000gn/T/ipykernel_73742/1230619439.py:7: UserWarning: To copy construct from a tensor, it is recommended to use sourceTensor.clone().detach() or sourceTensor.clone().detach().requires_grad_(True), rather than torch.tensor(sourceTensor).\n",
                        "  item = {key: torch.tensor(val[idx], device=device) for key, val in self.encodings.items()}\n",
                        "/var/folders/46/q15p556n1dd63z6gkwyh896c0000gn/T/ipykernel_73742/1230619439.py:7: UserWarning: To copy construct from a tensor, it is recommended to use sourceTensor.clone().detach() or sourceTensor.clone().detach().requires_grad_(True), rather than torch.tensor(sourceTensor).\n",
                        "  item = {key: torch.tensor(val[idx], device=device) for key, val in self.encodings.items()}\n",
                        "  0%|          | 0/2 [02:07<?, ?it/s]"
                    ]
                },
                {
                    "name": "stdout",
                    "output_type": "stream",
                    "text": [
                        "{'loss': 0.576, 'learning_rate': 5e-05, 'epoch': 2.63}\n"
                    ]
                },
                {
                    "data": {
                        "application/vnd.jupyter.widget-view+json": {
                            "model_id": "40a0a57bbeab493580fb6fa409faf770",
                            "version_major": 2,
                            "version_minor": 0
                        },
                        "text/plain": [
                            "  0%|          | 0/6 [00:00<?, ?it/s]"
                        ]
                    },
                    "metadata": {},
                    "output_type": "display_data"
                },
                {
                    "name": "stderr",
                    "output_type": "stream",
                    "text": [
                        "/var/folders/46/q15p556n1dd63z6gkwyh896c0000gn/T/ipykernel_73742/1230619439.py:7: UserWarning: To copy construct from a tensor, it is recommended to use sourceTensor.clone().detach() or sourceTensor.clone().detach().requires_grad_(True), rather than torch.tensor(sourceTensor).\n",
                        "  item = {key: torch.tensor(val[idx], device=device) for key, val in self.encodings.items()}\n",
                        "  0%|          | 0/2 [02:16<?, ?it/s]"
                    ]
                },
                {
                    "name": "stdout",
                    "output_type": "stream",
                    "text": [
                        "--------------------\n",
                        "Computing metrics using y_test_pred.\n",
                        "--------------------\n",
                        "Appending metrics to dict.\n",
                        "{'eval_loss': 0.3860863745212555, 'eval_Accuracy': 0.8333333333333334, 'eval_Balanced Accuracy': 0.8211771332019149, 'eval_Precision': 0.8051948051948052, 'eval_Recall': 0.9253731343283582, 'eval_F1-score': 0.8611111111111112, 'eval_Matthews Correlation Coefficient': 0.6652277518598416, 'eval_Fowlkes–Mallows Index': 0.7307681197287689, 'eval_Cohen’s Kappa': 0.6552714737144498, 'eval_Geometric Mean': 0.6634750774429737, 'eval_Classification Report': '              precision    recall  f1-score   support\\n\\n           0       0.88      0.72      0.79        53\\n           1       0.81      0.93      0.86        67\\n\\n    accuracy                           0.83       120\\n   macro avg       0.84      0.82      0.83       120\\nweighted avg       0.84      0.83      0.83       120\\n', 'eval_Confusion Matrix': array([[38, 15],\n",
                        "       [ 5, 62]]), 'eval_Normalized Confusion Matrix': array([[0.71698113, 0.28301887],\n",
                        "       [0.07462687, 0.92537313]]), 'eval_runtime': 9.0987, 'eval_samples_per_second': 13.189, 'eval_steps_per_second': 0.659, 'epoch': 2.63}\n"
                    ]
                },
                {
                    "name": "stderr",
                    "output_type": "stream",
                    "text": [
                        "/var/folders/46/q15p556n1dd63z6gkwyh896c0000gn/T/ipykernel_73742/1230619439.py:7: UserWarning: To copy construct from a tensor, it is recommended to use sourceTensor.clone().detach() or sourceTensor.clone().detach().requires_grad_(True), rather than torch.tensor(sourceTensor).\n",
                        "  item = {key: torch.tensor(val[idx], device=device) for key, val in self.encodings.items()}\n",
                        "  0%|          | 0/2 [02:32<?, ?it/s]"
                    ]
                },
                {
                    "name": "stdout",
                    "output_type": "stream",
                    "text": [
                        "{'train_runtime': 150.537, 'train_samples_per_second': 11.957, 'train_steps_per_second': 0.757, 'train_loss': 0.5485057161565412, 'epoch': 3.0}\n",
                        "Done training!\n",
                        "--------------------\n",
                        "--------------------\n",
                        "Saving model for Warmth.\n",
                        "Done training!\n",
                        "--------------------\n",
                        "--------------------\n",
                        "Evaluating estimator for Warmth.\n"
                    ]
                },
                {
                    "data": {
                        "application/vnd.jupyter.widget-view+json": {
                            "model_id": "25e5cd65825b438bb647aa36eaf05600",
                            "version_major": 2,
                            "version_minor": 0
                        },
                        "text/plain": [
                            "  0%|          | 0/6 [00:00<?, ?it/s]"
                        ]
                    },
                    "metadata": {},
                    "output_type": "display_data"
                },
                {
                    "name": "stdout",
                    "output_type": "stream",
                    "text": [
                        "--------------------\n",
                        "Computing metrics using y_test_pred.\n",
                        "--------------------\n",
                        "Appending metrics to dict.\n",
                        "Done evaluating!\n",
                        "Getting prediction results for Warmth.\n"
                    ]
                },
                {
                    "name": "stderr",
                    "output_type": "stream",
                    "text": [
                        "/var/folders/46/q15p556n1dd63z6gkwyh896c0000gn/T/ipykernel_73742/1230619439.py:7: UserWarning: To copy construct from a tensor, it is recommended to use sourceTensor.clone().detach() or sourceTensor.clone().detach().requires_grad_(True), rather than torch.tensor(sourceTensor).\n",
                        "  item = {key: torch.tensor(val[idx], device=device) for key, val in self.encodings.items()}\n"
                    ]
                },
                {
                    "data": {
                        "application/vnd.jupyter.widget-view+json": {
                            "model_id": "931e1b6e2ced4849bfa35c1bd4ae8d4c",
                            "version_major": 2,
                            "version_minor": 0
                        },
                        "text/plain": [
                            "  0%|          | 0/4 [00:00<?, ?it/s]"
                        ]
                    },
                    "metadata": {},
                    "output_type": "display_data"
                },
                {
                    "name": "stderr",
                    "output_type": "stream",
                    "text": [
                        "/var/folders/46/q15p556n1dd63z6gkwyh896c0000gn/T/ipykernel_73742/1230619439.py:7: UserWarning: To copy construct from a tensor, it is recommended to use sourceTensor.clone().detach() or sourceTensor.clone().detach().requires_grad_(True), rather than torch.tensor(sourceTensor).\n",
                        "  item = {key: torch.tensor(val[idx], device=device) for key, val in self.encodings.items()}\n",
                        "  0%|          | 0/2 [02:41<?, ?it/s]"
                    ]
                },
                {
                    "name": "stdout",
                    "output_type": "stream",
                    "text": [
                        "--------------------\n",
                        "Computing metrics using y_test_pred.\n",
                        "--------------------\n",
                        "Appending metrics to dict.\n",
                        "Predictions shape for Warmth: (80, 2)\n",
                        "--------------------\n",
                        "--------------------\n",
                        "Getting y_test_pred from prediction results for Warmth\n",
                        "Length of y_test_pred: 80\n",
                        "--------------------\n",
                        "--------------------\n",
                        "Getting y_test_pred_prob for Warmth\n",
                        "Using torch.nn.functional.softmax\n",
                        "Length of y_test_pred_prob: 160\n",
                        "--------------------\n",
                        "--------------------\n",
                        "Examining predictions for Warmth\n",
                        "Correctly Classified Reviews:\n",
                        "LABEL: 1\n",
                        "REVIEW TEXT: A true team player and self-claimed computer nerd....\n",
                        "--------------------\n",
                        "\n",
                        "LABEL: 1\n",
                        "REVIEW TEXT: D/DOCK is a spatial and conceptual design community that aims to develop honest and effective spaces...\n",
                        "--------------------\n",
                        "\n",
                        "LABEL: 1\n",
                        "REVIEW TEXT: We are also open for any type of -customer service- oriented work experience: (eg Hotel, Catering, R...\n",
                        "--------------------\n",
                        "\n",
                        "LABEL: 1\n",
                        "REVIEW TEXT: Monitor customer health and risk....\n",
                        "--------------------\n",
                        "\n",
                        "LABEL: 1\n",
                        "REVIEW TEXT: You will train the client’s staff, consult with their architects, and do everything in your power to...\n",
                        "--------------------\n",
                        "\n",
                        "LABEL: 1\n",
                        "REVIEW TEXT: You are self-driven, flexible, and have the ability to maintain high levels of productivity with min...\n",
                        "--------------------\n",
                        "\n",
                        "LABEL: 0\n",
                        "REVIEW TEXT: We keep building it....\n",
                        "--------------------\n",
                        "\n",
                        "LABEL: 1\n",
                        "REVIEW TEXT: Flexible working manner, proactive and stress-resilient...\n",
                        "--------------------\n",
                        "\n",
                        "LABEL: 0\n",
                        "REVIEW TEXT: Proficiency in MS Office...\n",
                        "--------------------\n",
                        "\n",
                        "LABEL: 0\n",
                        "REVIEW TEXT: Don't miss this chance!...\n",
                        "--------------------\n",
                        "\n",
                        "LABEL: 0\n",
                        "REVIEW TEXT: Choice of Mac or Lenovo and a keyboard of your choice...\n",
                        "--------------------\n",
                        "\n",
                        "LABEL: 1\n",
                        "REVIEW TEXT: Excellent project management skills, from both a technical and administrative standpoint, and proven...\n",
                        "--------------------\n",
                        "\n",
                        "LABEL: 1\n",
                        "REVIEW TEXT: Full-time, paid training to help you on your way to success....\n",
                        "--------------------\n",
                        "\n",
                        "LABEL: 0\n",
                        "REVIEW TEXT: Why GSK?...\n",
                        "--------------------\n",
                        "\n",
                        "LABEL: 0\n",
                        "REVIEW TEXT: Interface Design...\n",
                        "--------------------\n",
                        "\n",
                        "Incorrectly Classified Reviews:\n",
                        "TRUE LABEL: 0\n",
                        "PREDICTED LABEL: 1\n",
                        "REVIEW TEXT: Booking.com is currently looking for a world-class lawyer to join a dynamic, top-tier team as the Sr...\n",
                        "\n",
                        "TRUE LABEL: 0\n",
                        "PREDICTED LABEL: 1\n",
                        "REVIEW TEXT: Every day is varied and a new adventure....\n",
                        "\n",
                        "TRUE LABEL: 0\n",
                        "PREDICTED LABEL: 1\n",
                        "REVIEW TEXT: Based in the European Headquarters in Hilversum, the Specialist will be part of the Consumer Direct ...\n",
                        "\n",
                        "TRUE LABEL: 0\n",
                        "PREDICTED LABEL: 1\n",
                        "REVIEW TEXT: Our Commitment...\n",
                        "\n",
                        "TRUE LABEL: 0\n",
                        "PREDICTED LABEL: 1\n",
                        "REVIEW TEXT: You will develop a deep knowledge of our current offerings, map out the market, and identify the gap...\n",
                        "\n",
                        "TRUE LABEL: 0\n",
                        "PREDICTED LABEL: 1\n",
                        "REVIEW TEXT: In order to make sure candidate can find us as a preferred Employer in our industry, You will play a...\n",
                        "\n",
                        "TRUE LABEL: 1\n",
                        "PREDICTED LABEL: 0\n",
                        "REVIEW TEXT: Preparing and presenting collateral for client education and market updates – presentations will oft...\n",
                        "\n",
                        "--------------------\n",
                        "Probs evaluation and ploting metrics for Warmth\n"
                    ]
                },
                {
                    "name": "stderr",
                    "output_type": "stream",
                    "text": [
                        "\n"
                    ]
                },
                {
                    "data": {
                        "text/html": [
                            "<pre style=\"white-space:pre;overflow-x:auto;line-height:normal;font-family:Menlo,'DejaVu Sans Mono',consolas,'Courier New',monospace\"><span style=\"color: #800000; text-decoration-color: #800000\">╭─────────────────────────────── </span><span style=\"color: #800000; text-decoration-color: #800000; font-weight: bold\">Traceback </span><span style=\"color: #bf7f7f; text-decoration-color: #bf7f7f; font-weight: bold\">(most recent call last)</span><span style=\"color: #800000; text-decoration-color: #800000\"> ────────────────────────────────╮</span>\n",
                            "<span style=\"color: #800000; text-decoration-color: #800000\">│</span> <span style=\"color: #bfbf7f; text-decoration-color: #bfbf7f\">/opt/homebrew/Caskroom/mambaforge/base/envs/study1_3.10/lib/python3.10/site-packages/IPython/cor</span> <span style=\"color: #800000; text-decoration-color: #800000\">│</span>\n",
                            "<span style=\"color: #800000; text-decoration-color: #800000\">│</span> <span style=\"color: #bfbf7f; text-decoration-color: #bfbf7f\">e/magics/</span><span style=\"color: #808000; text-decoration-color: #808000; font-weight: bold\">execution.py</span>:<span style=\"color: #0000ff; text-decoration-color: #0000ff\">1319</span> in <span style=\"color: #00ff00; text-decoration-color: #00ff00\">time</span>                                                               <span style=\"color: #800000; text-decoration-color: #800000\">│</span>\n",
                            "<span style=\"color: #800000; text-decoration-color: #800000\">│</span>                                                                                                  <span style=\"color: #800000; text-decoration-color: #800000\">│</span>\n",
                            "<span style=\"color: #800000; text-decoration-color: #800000\">│</span>   <span style=\"color: #7f7f7f; text-decoration-color: #7f7f7f\">1316 │   │   </span><span style=\"color: #0000ff; text-decoration-color: #0000ff\">else</span>:                                                                             <span style=\"color: #800000; text-decoration-color: #800000\">│</span>\n",
                            "<span style=\"color: #800000; text-decoration-color: #800000\">│</span>   <span style=\"color: #7f7f7f; text-decoration-color: #7f7f7f\">1317 │   │   │   </span>st = clock2()                                                                 <span style=\"color: #800000; text-decoration-color: #800000\">│</span>\n",
                            "<span style=\"color: #800000; text-decoration-color: #800000\">│</span>   <span style=\"color: #7f7f7f; text-decoration-color: #7f7f7f\">1318 │   │   │   </span><span style=\"color: #0000ff; text-decoration-color: #0000ff\">try</span>:                                                                          <span style=\"color: #800000; text-decoration-color: #800000\">│</span>\n",
                            "<span style=\"color: #800000; text-decoration-color: #800000\">│</span> <span style=\"color: #800000; text-decoration-color: #800000\">❱ </span>1319 <span style=\"color: #7f7f7f; text-decoration-color: #7f7f7f\">│   │   │   │   </span>exec(code, glob, local_ns)                                                <span style=\"color: #800000; text-decoration-color: #800000\">│</span>\n",
                            "<span style=\"color: #800000; text-decoration-color: #800000\">│</span>   <span style=\"color: #7f7f7f; text-decoration-color: #7f7f7f\">1320 │   │   │   │   </span>out=<span style=\"color: #0000ff; text-decoration-color: #0000ff\">None</span>                                                                  <span style=\"color: #800000; text-decoration-color: #800000\">│</span>\n",
                            "<span style=\"color: #800000; text-decoration-color: #800000\">│</span>   <span style=\"color: #7f7f7f; text-decoration-color: #7f7f7f\">1321 │   │   │   │   # multi-line %%time case</span>                                                  <span style=\"color: #800000; text-decoration-color: #800000\">│</span>\n",
                            "<span style=\"color: #800000; text-decoration-color: #800000\">│</span>   <span style=\"color: #7f7f7f; text-decoration-color: #7f7f7f\">1322 │   │   │   │   </span><span style=\"color: #0000ff; text-decoration-color: #0000ff\">if</span> expr_val <span style=\"color: #ff00ff; text-decoration-color: #ff00ff\">is</span> <span style=\"color: #ff00ff; text-decoration-color: #ff00ff\">not</span> <span style=\"color: #0000ff; text-decoration-color: #0000ff\">None</span>:                                                  <span style=\"color: #800000; text-decoration-color: #800000\">│</span>\n",
                            "<span style=\"color: #800000; text-decoration-color: #800000\">│</span> <span style=\"color: #808000; text-decoration-color: #808000\">&lt;timed exec&gt;</span>:<span style=\"color: #0000ff; text-decoration-color: #0000ff\">150</span> in <span style=\"color: #00ff00; text-decoration-color: #00ff00\">&lt;module&gt;</span>                                                                     <span style=\"color: #800000; text-decoration-color: #800000\">│</span>\n",
                            "<span style=\"color: #800000; text-decoration-color: #800000\">╰──────────────────────────────────────────────────────────────────────────────────────────────────╯</span>\n",
                            "<span style=\"color: #ff0000; text-decoration-color: #ff0000; font-weight: bold\">NameError: </span>name <span style=\"color: #008000; text-decoration-color: #008000\">'df_metrics'</span> is not defined\n",
                            "</pre>\n"
                        ],
                        "text/plain": [
                            "\u001b[31m╭─\u001b[0m\u001b[31m──────────────────────────────\u001b[0m\u001b[31m \u001b[0m\u001b[1;31mTraceback \u001b[0m\u001b[1;2;31m(most recent call last)\u001b[0m\u001b[31m \u001b[0m\u001b[31m───────────────────────────────\u001b[0m\u001b[31m─╮\u001b[0m\n",
                            "\u001b[31m│\u001b[0m \u001b[2;33m/opt/homebrew/Caskroom/mambaforge/base/envs/study1_3.10/lib/python3.10/site-packages/IPython/cor\u001b[0m \u001b[31m│\u001b[0m\n",
                            "\u001b[31m│\u001b[0m \u001b[2;33me/magics/\u001b[0m\u001b[1;33mexecution.py\u001b[0m:\u001b[94m1319\u001b[0m in \u001b[92mtime\u001b[0m                                                               \u001b[31m│\u001b[0m\n",
                            "\u001b[31m│\u001b[0m                                                                                                  \u001b[31m│\u001b[0m\n",
                            "\u001b[31m│\u001b[0m   \u001b[2m1316 \u001b[0m\u001b[2m│   │   \u001b[0m\u001b[94melse\u001b[0m:                                                                             \u001b[31m│\u001b[0m\n",
                            "\u001b[31m│\u001b[0m   \u001b[2m1317 \u001b[0m\u001b[2m│   │   │   \u001b[0mst = clock2()                                                                 \u001b[31m│\u001b[0m\n",
                            "\u001b[31m│\u001b[0m   \u001b[2m1318 \u001b[0m\u001b[2m│   │   │   \u001b[0m\u001b[94mtry\u001b[0m:                                                                          \u001b[31m│\u001b[0m\n",
                            "\u001b[31m│\u001b[0m \u001b[31m❱ \u001b[0m1319 \u001b[2m│   │   │   │   \u001b[0mexec(code, glob, local_ns)                                                \u001b[31m│\u001b[0m\n",
                            "\u001b[31m│\u001b[0m   \u001b[2m1320 \u001b[0m\u001b[2m│   │   │   │   \u001b[0mout=\u001b[94mNone\u001b[0m                                                                  \u001b[31m│\u001b[0m\n",
                            "\u001b[31m│\u001b[0m   \u001b[2m1321 \u001b[0m\u001b[2m│   │   │   │   \u001b[0m\u001b[2m# multi-line %%time case\u001b[0m                                                  \u001b[31m│\u001b[0m\n",
                            "\u001b[31m│\u001b[0m   \u001b[2m1322 \u001b[0m\u001b[2m│   │   │   │   \u001b[0m\u001b[94mif\u001b[0m expr_val \u001b[95mis\u001b[0m \u001b[95mnot\u001b[0m \u001b[94mNone\u001b[0m:                                                  \u001b[31m│\u001b[0m\n",
                            "\u001b[31m│\u001b[0m \u001b[33m<timed exec>\u001b[0m:\u001b[94m150\u001b[0m in \u001b[92m<module>\u001b[0m                                                                     \u001b[31m│\u001b[0m\n",
                            "\u001b[31m╰──────────────────────────────────────────────────────────────────────────────────────────────────╯\u001b[0m\n",
                            "\u001b[1;91mNameError: \u001b[0mname \u001b[32m'df_metrics'\u001b[0m is not defined\n"
                        ]
                    },
                    "metadata": {},
                    "output_type": "display_data"
                }
            ],
            "source": [
                "%%time\n",
                "print('#'*40)\n",
                "print('Starting!')\n",
                "print('#'*40)\n",
                "\n",
                "analysis_columns = ['Warmth', 'Competence']\n",
                "text_col = 'Job Description spacy_sentencized'\n",
                "\n",
                "# Load Table DF\n",
                "# df_metrics = pd.read_pickle(f'{table_save_path}Classifiers Table.pkl')\n",
                "\n",
                "for col in tqdm.tqdm(analysis_columns):\n",
                "\n",
                "    assert len(df_manual[df_manual[str(col)].map(df_manual[str(col)].value_counts() > 1)]) != 0, f'Dataframe has no {col} values!'\n",
                "    print('-'*20)\n",
                "    print(f'{\"=\"*30} TRAINING DATASET OF LENGTH {len(df_manual)} ON {col.upper()} {\"=\"*30}')\n",
                "    print('-'*20)\n",
                "\n",
                "    # Split\n",
                "    (\n",
                "        train, X_train, X_train_bert_encodings, y_train, y_train_bert_encoded, bert_train_dataset,\n",
                "        test, X_test, X_test_bert_encodings, y_test, y_test_bert_encoded, bert_test_dataset,\n",
                "        val, X_val, X_val_bert_encodings, y_val, y_val_bert_encoded, bert_val_dataset,\n",
                "        bert_label2id, bert_id2label, class_weights, class_weights_ratio, class_weights_dict\n",
                "    ) = encode_data(\n",
                "        df=df_manual, col=col, analysis_columns=analysis_columns, text_col=text_col\n",
                "    )\n",
                "\n",
                "    # Load pre-trained BERT model\n",
                "    bert_model = BertForSequenceClassification.from_pretrained(\n",
                "        bert_model_name, num_labels=len(bert_id2label)\n",
                "    ).to(device)\n",
                "\n",
                "    # Accelerate model\n",
                "    bert_model, bert_train_dataset, bert_test_dataset, bert_val_dataset = accelerator.prepare(bert_model, bert_train_dataset, bert_test_dataset, bert_val_dataset)\n",
                "    # bert_model.eval()\n",
                "\n",
                "    # Initialize BERT Trainer\n",
                "    print('='*30)\n",
                "    tokenizer_name = bert_tokenizer.__class__.__name__\n",
                "    classifier_name = bert_model.__class__.__name__\n",
                "    print(f'Initializing BERT Trainer using {tokenizer_name} + {classifier_name} for {col}')\n",
                "\n",
                "    # Set BERT fine-tuning parameters\n",
                "    bert_training_args = TrainingArguments(\n",
                "        output_dir=f'{results_save_path}{method} Results',\n",
                "        logging_dir=f'{results_save_path}{method} Logs',\n",
                "        seed=random_state,\n",
                "        torch_compile=True,\n",
                "        use_mps_device=True,\n",
                "        optim='adamw_torch',\n",
                "        num_train_epochs=3,\n",
                "        per_device_train_batch_size=16,\n",
                "        per_device_eval_batch_size=20,\n",
                "        learning_rate=5e-5,\n",
                "        warmup_steps=100,\n",
                "        weight_decay=0.01,\n",
                "        logging_steps=100,\n",
                "        evaluation_strategy='steps',\n",
                "    )\n",
                "\n",
                "    # Pass data to trainer \n",
                "    print('-'*20)\n",
                "    print('Passing arguments to estimator.')\n",
                "    with joblib.parallel_backend(backend='multiprocessing', n_jobs=n_jobs):\n",
                "        bert_model, bert_train_dataset, bert_test_dataset, bert_val_dataset = accelerator.prepare(bert_model, bert_train_dataset, bert_test_dataset, bert_val_dataset)\n",
                "        estimator = Trainer(\n",
                "            model=bert_model,\n",
                "            tokenizer=bert_tokenizer,\n",
                "            args=bert_training_args,\n",
                "            train_dataset=bert_train_dataset,\n",
                "            eval_dataset=bert_val_dataset,\n",
                "            compute_metrics=compute_metrics,\n",
                "        )\n",
                "        if estimator.place_model_on_device:\n",
                "            estimator.model.to(device)\n",
                "\n",
                "        # Train trainer\n",
                "        print('-'*20)\n",
                "        print(f'Starting training for {col}.')\n",
                "        estimator.train()\n",
                "        print('Done training!')\n",
                "        print('-'*20)\n",
                "\n",
                "        # Save model\n",
                "        print('-'*20)\n",
                "        print(f'Saving model for {col}.')\n",
                "        estimator.save_model(f'{results_save_path}{method} Estimator {str(col)} - {tokenizer_name} + {classifier_name})')\n",
                "        print('Done training!')\n",
                "        print('-'*20)\n",
                "\n",
                "        # Evaluate\n",
                "        print('-'*20)\n",
                "        print(f'Evaluating estimator for {col}.')\n",
                "        estimator.evaluate()\n",
                "        print('Done evaluating!')\n",
                "\n",
                "        # Get predictions\n",
                "        print(f'Getting prediction results for {col}.')\n",
                "        predicted_results = estimator.predict(bert_test_dataset)\n",
                "        print(f'Predictions shape for {col}: {predicted_results.predictions.shape}')\n",
                "        print('-'*20)\n",
                "    \n",
                "    # Get y_test_pred\n",
                "    print('-'*20)\n",
                "    print(f'Getting y_test_pred from prediction results for {col}')\n",
                "    y_test = predicted_results.label_ids\n",
                "    y_test_pred = [bert_label2id[l] for l in predicted_results.predictions.argmax(-1).flatten().tolist()]\n",
                "    print(f'Length of y_test_pred: {len(y_test_pred)}')\n",
                "    print('-'*20)\n",
                "\n",
                "    # Get y_test_pred_prob\n",
                "    print('-'*20)\n",
                "    print(f'Getting y_test_pred_prob for {col}')\n",
                "    try:\n",
                "        y_test_pred_prob = torch.nn.functional.softmax(torch.tensor(predicted_results.predictions, device=device), dim=-1)\n",
                "        print('Using torch.nn.functional.softmax')\n",
                "    except Exception:\n",
                "        y_test_pred_prob = scipy.special.softmax(predicted_results.predictions, axis=1)\n",
                "        print('Using scipy.special.softmax')\n",
                "    except Exception:\n",
                "        y_test_pred_prob = predicted_results.predictions[:, 1]\n",
                "        print('Using predicted_results.predictions[:, 1]')\n",
                "    finally:\n",
                "        y_test_pred_prob = y_test_pred_prob.flatten().tolist()\n",
                "    print(f'Length of y_test_pred_prob: {len(y_test_pred_prob)}')\n",
                "    print('-'*20)\n",
                "    \n",
                "    # Examine predictions\n",
                "    print('-'*20)\n",
                "    print(f'Examining predictions for {col}')\n",
                "    print('Incorrectly Classified Reviews:')\n",
                "    for _y_test, _y_test_pred, _X_test in random.sample(list(zip(y_test, y_test_pred, X_test)), 20):\n",
                "        if _y_test != _y_test_pred:\n",
                "            print(f'TRUE LABEL: {_y_test}')\n",
                "            print(f'PREDICTED LABEL: {_y_test_pred}')\n",
                "            print(f'REVIEW TEXT: {_X_test[:100]}...')\n",
                "\n",
                "    # Evluate estimator\n",
                "    print('-'*20)\n",
                "    print(f'Probs evaluation and ploting metrics for {col}')\n",
                "    df_metrics = evaluation(predicted_results, df_metrics, col, tokenizer_name, classifier_name)\n",
                "    print()\n",
                "\n",
                "    # Save BERT Model\n",
                "    print('-'*20)\n",
                "    print(f'Saving estimator and metrics table for {col}')\n",
                "    save_table(df_metrics, estimator, col, tokenizer_name, classifier_name)\n",
                "    print()\n",
                "\n",
                "    # Compare Estimators\n",
                "    print('='*20)\n",
                "    print(f'Comparing estimators for {col}')\n",
                "    comparison_plots(get_fitted_estimators().append(estimator), X_test, y_test, col)\n",
                "    print('='*20)\n",
                "    print()\n",
                "\n",
                "print('#'*40)\n",
                "print('DONE!')\n",
                "print('#'*40)\n",
                "\n"
            ]
        },
        {
            "cell_type": "code",
            "execution_count": 20,
            "id": "26af9a3c",
            "metadata": {},
            "outputs": [
                {
                    "name": "stdout",
                    "output_type": "stream",
                    "text": [
                        "--------------------\n",
                        "Getting y_test_pred_prob for Warmth\n",
                        "Using torch.nn.functional.softmax\n",
                        "Length of y_test_pred_prob: 160\n"
                    ]
                }
            ],
            "source": [
                "# Get y_test_pred_prob\n",
                "print('-'*20)\n",
                "print(f'Getting y_test_pred_prob for {col}')\n",
                "try:\n",
                "    y_test_pred_prob = torch.nn.functional.softmax(torch.tensor(predicted_results.predictions, device=device), dim=-1)\n",
                "    print('Using torch.nn.functional.softmax')\n",
                "except Exception:\n",
                "    y_test_pred_prob = scipy.special.softmax(predicted_results.predictions, axis=1)\n",
                "    print('Using scipy.special.softmax')\n",
                "except Exception:\n",
                "    y_test_pred_prob = predicted_results.predictions[:, 1]\n",
                "    print('Using predicted_results.predictions[:, 1]')\n",
                "finally:\n",
                "    y_test_pred_prob = y_test_pred_prob.flatten().tolist()\n",
                "print(f'Length of y_test_pred_prob: {len(y_test_pred_prob)}')"
            ]
        },
        {
            "cell_type": "code",
            "execution_count": 21,
            "id": "b5a9162b",
            "metadata": {},
            "outputs": [
                {
                    "data": {
                        "text/plain": [
                            "numpy.ndarray"
                        ]
                    },
                    "execution_count": 21,
                    "metadata": {},
                    "output_type": "execute_result"
                }
            ],
            "source": [
                "type(y_test)\n"
            ]
        },
        {
            "cell_type": "code",
            "execution_count": 22,
            "id": "01fa6221",
            "metadata": {},
            "outputs": [
                {
                    "name": "stdout",
                    "output_type": "stream",
                    "text": [
                        "--------------------\n",
                        "Examining predictions for Warmth\n",
                        "Correctly Classified Reviews:\n"
                    ]
                },
                {
                    "data": {
                        "text/html": [
                            "<pre style=\"white-space:pre;overflow-x:auto;line-height:normal;font-family:Menlo,'DejaVu Sans Mono',consolas,'Courier New',monospace\"><span style=\"color: #800000; text-decoration-color: #800000\">╭─────────────────────────────── </span><span style=\"color: #800000; text-decoration-color: #800000; font-weight: bold\">Traceback </span><span style=\"color: #bf7f7f; text-decoration-color: #bf7f7f; font-weight: bold\">(most recent call last)</span><span style=\"color: #800000; text-decoration-color: #800000\"> ────────────────────────────────╮</span>\n",
                            "<span style=\"color: #800000; text-decoration-color: #800000\">│</span> <span style=\"color: #bfbf7f; text-decoration-color: #bfbf7f\">/var/folders/46/q15p556n1dd63z6gkwyh896c0000gn/T/ipykernel_73742/</span><span style=\"color: #808000; text-decoration-color: #808000; font-weight: bold\">3618849491.py</span>:<span style=\"color: #0000ff; text-decoration-color: #0000ff\">6</span> in <span style=\"color: #00ff00; text-decoration-color: #00ff00\">&lt;module&gt;</span>     <span style=\"color: #800000; text-decoration-color: #800000\">│</span>\n",
                            "<span style=\"color: #800000; text-decoration-color: #800000\">│</span>                                                                                                  <span style=\"color: #800000; text-decoration-color: #800000\">│</span>\n",
                            "<span style=\"color: #800000; text-decoration-color: #800000\">│</span> <span style=\"color: #800000; text-decoration-color: #800000; font-style: italic\">[Errno 2] No such file or directory: </span>                                                            <span style=\"color: #800000; text-decoration-color: #800000\">│</span>\n",
                            "<span style=\"color: #800000; text-decoration-color: #800000\">│</span> <span style=\"color: #800000; text-decoration-color: #800000; font-style: italic\">'/var/folders/46/q15p556n1dd63z6gkwyh896c0000gn/T/ipykernel_73742/3618849491.py'</span>                 <span style=\"color: #800000; text-decoration-color: #800000\">│</span>\n",
                            "<span style=\"color: #800000; text-decoration-color: #800000\">╰──────────────────────────────────────────────────────────────────────────────────────────────────╯</span>\n",
                            "<span style=\"color: #ff0000; text-decoration-color: #ff0000; font-weight: bold\">ValueError: </span>The truth value of an array with more than one element is ambiguous. Use <span style=\"color: #800080; text-decoration-color: #800080; font-weight: bold\">a.any</span><span style=\"font-weight: bold\">()</span> or <span style=\"color: #800080; text-decoration-color: #800080; font-weight: bold\">a.all</span><span style=\"font-weight: bold\">()</span>\n",
                            "</pre>\n"
                        ],
                        "text/plain": [
                            "\u001b[31m╭─\u001b[0m\u001b[31m──────────────────────────────\u001b[0m\u001b[31m \u001b[0m\u001b[1;31mTraceback \u001b[0m\u001b[1;2;31m(most recent call last)\u001b[0m\u001b[31m \u001b[0m\u001b[31m───────────────────────────────\u001b[0m\u001b[31m─╮\u001b[0m\n",
                            "\u001b[31m│\u001b[0m \u001b[2;33m/var/folders/46/q15p556n1dd63z6gkwyh896c0000gn/T/ipykernel_73742/\u001b[0m\u001b[1;33m3618849491.py\u001b[0m:\u001b[94m6\u001b[0m in \u001b[92m<module>\u001b[0m     \u001b[31m│\u001b[0m\n",
                            "\u001b[31m│\u001b[0m                                                                                                  \u001b[31m│\u001b[0m\n",
                            "\u001b[31m│\u001b[0m \u001b[3;31m[Errno 2] No such file or directory: \u001b[0m                                                            \u001b[31m│\u001b[0m\n",
                            "\u001b[31m│\u001b[0m \u001b[3;31m'/var/folders/46/q15p556n1dd63z6gkwyh896c0000gn/T/ipykernel_73742/3618849491.py'\u001b[0m                 \u001b[31m│\u001b[0m\n",
                            "\u001b[31m╰──────────────────────────────────────────────────────────────────────────────────────────────────╯\u001b[0m\n",
                            "\u001b[1;91mValueError: \u001b[0mThe truth value of an array with more than one element is ambiguous. Use \u001b[1;35ma.any\u001b[0m\u001b[1m(\u001b[0m\u001b[1m)\u001b[0m or \u001b[1;35ma.all\u001b[0m\u001b[1m(\u001b[0m\u001b[1m)\u001b[0m\n"
                        ]
                    },
                    "metadata": {},
                    "output_type": "display_data"
                }
            ],
            "source": [
                "# Examine predictions\n",
                "print('-'*20)\n",
                "print(f'Examining predictions for {col}')\n",
                "print('Correctly Classified Reviews:')\n",
                "for y_test, _y_test_pred, _X_test in random.sample(list(zip(y_test, y_test_pred, X_test)), 20):\n",
                "    if y_test == y_test_pred:\n",
                "        print(f'LABEL: {y_test}')\n",
                "        print(f'REVIEW TEXT: {_X_test[:100]}...')\n",
                "        print('-'*20)\n",
                "        print()\n",
                "\n",
                "# print('Incorrectly Classified Reviews:')\n",
                "# for y_test, y_test_pred, _X_test in random.sample(list(zip(y_test, y_test_pred, X_test)), 20):\n",
                "#     if y_test != y_test_pred:\n",
                "#         print(f'TRUE LABEL: {y_test}')\n",
                "#         print(f'PREDICTED LABEL: {y_test_pred}')\n",
                "#         print(f'REVIEW TEXT: {_X_test[:100]}...')\n",
                "#         print()"
            ]
        },
        {
            "cell_type": "code",
            "execution_count": 23,
            "id": "6961e8f7",
            "metadata": {},
            "outputs": [
                {
                    "data": {
                        "text/plain": [
                            "{'Mean Cross Validation Train Score': nan,\n",
                            " 'Mean Cross Validation Test Score': nan,\n",
                            " 'Mean Explained Train Variance - Recall': nan,\n",
                            " 'Mean Explained Test Variance - Recall': nan,\n",
                            " 'Explained Variance': nan,\n",
                            " 'Accuracy': nan,\n",
                            " 'Balanced Accuracy': nan,\n",
                            " 'Precision': nan,\n",
                            " 'Recall': nan,\n",
                            " 'F1-score': nan,\n",
                            " 'Matthews Correlation Coefficient': nan,\n",
                            " 'Fowlkes–Mallows Index': nan,\n",
                            " 'ROC': nan,\n",
                            " 'AUC': nan,\n",
                            " 'Recall Best Threshold': nan,\n",
                            " 'Recall Best Score': nan,\n",
                            " 'Log Loss/Cross Entropy': nan,\n",
                            " 'Cohen’s Kappa': nan,\n",
                            " 'Geometric Mean': nan,\n",
                            " 'Classification Report': nan,\n",
                            " 'Confusion Matrix': nan,\n",
                            " 'Normalized Confusion Matrix': nan}"
                        ]
                    },
                    "execution_count": 23,
                    "metadata": {},
                    "output_type": "execute_result"
                }
            ],
            "source": [
                "metrics_dict"
            ]
        },
        {
            "cell_type": "code",
            "execution_count": 24,
            "id": "0a155ecb",
            "metadata": {},
            "outputs": [
                {
                    "name": "stdout",
                    "output_type": "stream",
                    "text": [
                        "--------------------\n",
                        "Getting y_test_pred_prob for Warmth\n",
                        "Using torch.nn.functional.softmax\n",
                        "Length of y_test_pred_prob: 160\n"
                    ]
                }
            ],
            "source": [
                "# Get y_test_pred_proba\n",
                "print('-'*20)\n",
                "print(f'Getting y_test_pred_prob for {col}')\n",
                "try:\n",
                "    y_test_pred_prob = torch.nn.functional.softmax(torch.tensor(predicted_results.predictions, device=device), dim=-1)\n",
                "    print('Using torch.nn.functional.softmax')\n",
                "except Exception:\n",
                "    y_test_pred_prob = scipy.special.softmax(predicted_results.predictions, axis=1)\n",
                "    print('Using scipy.special.softmax')\n",
                "except Exception:\n",
                "    y_test_pred_prob = predicted_results.predictions[:, 1]\n",
                "    print('Using predicted_results.predictions[:, 1]')\n",
                "finally:\n",
                "    y_test_pred_prob = y_test_pred_prob.flatten().tolist()\n",
                "print(f'Length of y_test_pred_prob: {len(y_test_pred_prob)}')\n",
                "\n"
            ]
        },
        {
            "cell_type": "code",
            "execution_count": 25,
            "id": "6d27de29",
            "metadata": {},
            "outputs": [
                {
                    "data": {
                        "text/plain": [
                            "{'test_loss': 0.4159638285636902,\n",
                            " 'test_Accuracy': 0.7875,\n",
                            " 'test_Balanced Accuracy': 0.8015873015873016,\n",
                            " 'test_Precision': 0.6956521739130435,\n",
                            " 'test_Recall': 0.9142857142857143,\n",
                            " 'test_F1-score': 0.7901234567901234,\n",
                            " 'test_Matthews Correlation Coefficient': 0.6052920249203222,\n",
                            " 'test_Fowlkes–Mallows Index': 0.6633173894335515,\n",
                            " 'test_Cohen’s Kappa': 0.5828220858895705,\n",
                            " 'test_Geometric Mean': 0.6298412698412699,\n",
                            " 'test_Classification Report': '              precision    recall  f1-score   support\\n\\n           0       0.91      0.69      0.78        45\\n           1       0.70      0.91      0.79        35\\n\\n    accuracy                           0.79        80\\n   macro avg       0.80      0.80      0.79        80\\nweighted avg       0.82      0.79      0.79        80\\n',\n",
                            " 'test_Confusion Matrix': array([[31, 14],\n",
                            "        [ 3, 32]]),\n",
                            " 'test_Normalized Confusion Matrix': array([[0.68888889, 0.31111111],\n",
                            "        [0.08571429, 0.91428571]]),\n",
                            " 'test_runtime': 3.7097,\n",
                            " 'test_samples_per_second': 21.565,\n",
                            " 'test_steps_per_second': 1.078}"
                        ]
                    },
                    "execution_count": 25,
                    "metadata": {},
                    "output_type": "execute_result"
                }
            ],
            "source": [
                "predicted_results.metrics"
            ]
        },
        {
            "cell_type": "code",
            "execution_count": 26,
            "id": "88c27631",
            "metadata": {},
            "outputs": [
                {
                    "name": "stdout",
                    "output_type": "stream",
                    "text": [
                        "--------------------\n",
                        "Probs evaluation and ploting metrics for Warmth\n"
                    ]
                },
                {
                    "data": {
                        "text/html": [
                            "<pre style=\"white-space:pre;overflow-x:auto;line-height:normal;font-family:Menlo,'DejaVu Sans Mono',consolas,'Courier New',monospace\"><span style=\"color: #800000; text-decoration-color: #800000\">╭─────────────────────────────── </span><span style=\"color: #800000; text-decoration-color: #800000; font-weight: bold\">Traceback </span><span style=\"color: #bf7f7f; text-decoration-color: #bf7f7f; font-weight: bold\">(most recent call last)</span><span style=\"color: #800000; text-decoration-color: #800000\"> ────────────────────────────────╮</span>\n",
                            "<span style=\"color: #800000; text-decoration-color: #800000\">│</span> <span style=\"color: #bfbf7f; text-decoration-color: #bfbf7f\">/var/folders/46/q15p556n1dd63z6gkwyh896c0000gn/T/ipykernel_73742/</span><span style=\"color: #808000; text-decoration-color: #808000; font-weight: bold\">1347204323.py</span>:<span style=\"color: #0000ff; text-decoration-color: #0000ff\">4</span> in <span style=\"color: #00ff00; text-decoration-color: #00ff00\">&lt;module&gt;</span>     <span style=\"color: #800000; text-decoration-color: #800000\">│</span>\n",
                            "<span style=\"color: #800000; text-decoration-color: #800000\">│</span>                                                                                                  <span style=\"color: #800000; text-decoration-color: #800000\">│</span>\n",
                            "<span style=\"color: #800000; text-decoration-color: #800000\">│</span> <span style=\"color: #800000; text-decoration-color: #800000; font-style: italic\">[Errno 2] No such file or directory: </span>                                                            <span style=\"color: #800000; text-decoration-color: #800000\">│</span>\n",
                            "<span style=\"color: #800000; text-decoration-color: #800000\">│</span> <span style=\"color: #800000; text-decoration-color: #800000; font-style: italic\">'/var/folders/46/q15p556n1dd63z6gkwyh896c0000gn/T/ipykernel_73742/1347204323.py'</span>                 <span style=\"color: #800000; text-decoration-color: #800000\">│</span>\n",
                            "<span style=\"color: #800000; text-decoration-color: #800000\">╰──────────────────────────────────────────────────────────────────────────────────────────────────╯</span>\n",
                            "<span style=\"color: #ff0000; text-decoration-color: #ff0000; font-weight: bold\">NameError: </span>name <span style=\"color: #008000; text-decoration-color: #008000\">'df_metrics'</span> is not defined\n",
                            "</pre>\n"
                        ],
                        "text/plain": [
                            "\u001b[31m╭─\u001b[0m\u001b[31m──────────────────────────────\u001b[0m\u001b[31m \u001b[0m\u001b[1;31mTraceback \u001b[0m\u001b[1;2;31m(most recent call last)\u001b[0m\u001b[31m \u001b[0m\u001b[31m───────────────────────────────\u001b[0m\u001b[31m─╮\u001b[0m\n",
                            "\u001b[31m│\u001b[0m \u001b[2;33m/var/folders/46/q15p556n1dd63z6gkwyh896c0000gn/T/ipykernel_73742/\u001b[0m\u001b[1;33m1347204323.py\u001b[0m:\u001b[94m4\u001b[0m in \u001b[92m<module>\u001b[0m     \u001b[31m│\u001b[0m\n",
                            "\u001b[31m│\u001b[0m                                                                                                  \u001b[31m│\u001b[0m\n",
                            "\u001b[31m│\u001b[0m \u001b[3;31m[Errno 2] No such file or directory: \u001b[0m                                                            \u001b[31m│\u001b[0m\n",
                            "\u001b[31m│\u001b[0m \u001b[3;31m'/var/folders/46/q15p556n1dd63z6gkwyh896c0000gn/T/ipykernel_73742/1347204323.py'\u001b[0m                 \u001b[31m│\u001b[0m\n",
                            "\u001b[31m╰──────────────────────────────────────────────────────────────────────────────────────────────────╯\u001b[0m\n",
                            "\u001b[1;91mNameError: \u001b[0mname \u001b[32m'df_metrics'\u001b[0m is not defined\n"
                        ]
                    },
                    "metadata": {},
                    "output_type": "display_data"
                }
            ],
            "source": [
                "# Evluate estimator\n",
                "print('-'*20)\n",
                "print(f'Probs evaluation and ploting metrics for {col}')\n",
                "df_metrics = evaluation(predicted_results, df_metrics, col, classifier_name, tokenizer_name)\n"
            ]
        },
        {
            "cell_type": "code",
            "execution_count": 27,
            "id": "3b34da0c",
            "metadata": {},
            "outputs": [
                {
                    "data": {
                        "text/plain": [
                            "False"
                        ]
                    },
                    "execution_count": 27,
                    "metadata": {},
                    "output_type": "execute_result"
                }
            ],
            "source": [
                "estimator.is_model_parallel\n"
            ]
        },
        {
            "cell_type": "code",
            "execution_count": 28,
            "id": "d9419be1",
            "metadata": {},
            "outputs": [
                {
                    "data": {
                        "text/plain": [
                            "1"
                        ]
                    },
                    "execution_count": 28,
                    "metadata": {},
                    "output_type": "execute_result"
                }
            ],
            "source": [
                "estimator.args.n_gpu"
            ]
        },
        {
            "cell_type": "code",
            "execution_count": 29,
            "id": "fae6833c",
            "metadata": {},
            "outputs": [
                {
                    "data": {
                        "text/html": [
                            "<pre style=\"white-space:pre;overflow-x:auto;line-height:normal;font-family:Menlo,'DejaVu Sans Mono',consolas,'Courier New',monospace\"><span style=\"color: #800000; text-decoration-color: #800000\">╭─────────────────────────────── </span><span style=\"color: #800000; text-decoration-color: #800000; font-weight: bold\">Traceback </span><span style=\"color: #bf7f7f; text-decoration-color: #bf7f7f; font-weight: bold\">(most recent call last)</span><span style=\"color: #800000; text-decoration-color: #800000\"> ────────────────────────────────╮</span>\n",
                            "<span style=\"color: #800000; text-decoration-color: #800000\">│</span> <span style=\"color: #bfbf7f; text-decoration-color: #bfbf7f\">/var/folders/46/q15p556n1dd63z6gkwyh896c0000gn/T/ipykernel_73742/</span><span style=\"color: #808000; text-decoration-color: #808000; font-weight: bold\">457744598.py</span>:<span style=\"color: #0000ff; text-decoration-color: #0000ff\">3</span> in <span style=\"color: #00ff00; text-decoration-color: #00ff00\">&lt;module&gt;</span>      <span style=\"color: #800000; text-decoration-color: #800000\">│</span>\n",
                            "<span style=\"color: #800000; text-decoration-color: #800000\">│</span>                                                                                                  <span style=\"color: #800000; text-decoration-color: #800000\">│</span>\n",
                            "<span style=\"color: #800000; text-decoration-color: #800000\">│</span> <span style=\"color: #800000; text-decoration-color: #800000; font-style: italic\">[Errno 2] No such file or directory: </span>                                                            <span style=\"color: #800000; text-decoration-color: #800000\">│</span>\n",
                            "<span style=\"color: #800000; text-decoration-color: #800000\">│</span> <span style=\"color: #800000; text-decoration-color: #800000; font-style: italic\">'/var/folders/46/q15p556n1dd63z6gkwyh896c0000gn/T/ipykernel_73742/457744598.py'</span>                  <span style=\"color: #800000; text-decoration-color: #800000\">│</span>\n",
                            "<span style=\"color: #800000; text-decoration-color: #800000\">╰──────────────────────────────────────────────────────────────────────────────────────────────────╯</span>\n",
                            "<span style=\"color: #ff0000; text-decoration-color: #ff0000; font-weight: bold\">NameError: </span>name <span style=\"color: #008000; text-decoration-color: #008000\">'sentence'</span> is not defined\n",
                            "</pre>\n"
                        ],
                        "text/plain": [
                            "\u001b[31m╭─\u001b[0m\u001b[31m──────────────────────────────\u001b[0m\u001b[31m \u001b[0m\u001b[1;31mTraceback \u001b[0m\u001b[1;2;31m(most recent call last)\u001b[0m\u001b[31m \u001b[0m\u001b[31m───────────────────────────────\u001b[0m\u001b[31m─╮\u001b[0m\n",
                            "\u001b[31m│\u001b[0m \u001b[2;33m/var/folders/46/q15p556n1dd63z6gkwyh896c0000gn/T/ipykernel_73742/\u001b[0m\u001b[1;33m457744598.py\u001b[0m:\u001b[94m3\u001b[0m in \u001b[92m<module>\u001b[0m      \u001b[31m│\u001b[0m\n",
                            "\u001b[31m│\u001b[0m                                                                                                  \u001b[31m│\u001b[0m\n",
                            "\u001b[31m│\u001b[0m \u001b[3;31m[Errno 2] No such file or directory: \u001b[0m                                                            \u001b[31m│\u001b[0m\n",
                            "\u001b[31m│\u001b[0m \u001b[3;31m'/var/folders/46/q15p556n1dd63z6gkwyh896c0000gn/T/ipykernel_73742/457744598.py'\u001b[0m                  \u001b[31m│\u001b[0m\n",
                            "\u001b[31m╰──────────────────────────────────────────────────────────────────────────────────────────────────╯\u001b[0m\n",
                            "\u001b[1;91mNameError: \u001b[0mname \u001b[32m'sentence'\u001b[0m is not defined\n"
                        ]
                    },
                    "metadata": {},
                    "output_type": "display_data"
                }
            ],
            "source": [
                "df_manual['Bert Preditcions'] = df_manual['Job Description spacy_sentencized'].progress_apply(\n",
                "    lambda sentence: estimator.predict(sent)\n",
                "    for sent in sentence\n",
                "    if sent and isinstance(sent, (str, list)) and isinstance(sentence, list)\n",
                ")"
            ]
        },
        {
            "cell_type": "code",
            "execution_count": 30,
            "id": "80575d70",
            "metadata": {},
            "outputs": [
                {
                    "name": "stderr",
                    "output_type": "stream",
                    "text": [
                        "/var/folders/46/q15p556n1dd63z6gkwyh896c0000gn/T/ipykernel_73742/1230619439.py:7: UserWarning: To copy construct from a tensor, it is recommended to use sourceTensor.clone().detach() or sourceTensor.clone().detach().requires_grad_(True), rather than torch.tensor(sourceTensor).\n",
                        "  item = {key: torch.tensor(val[idx], device=device) for key, val in self.encodings.items()}\n"
                    ]
                },
                {
                    "data": {
                        "application/vnd.jupyter.widget-view+json": {
                            "model_id": "40cb48b3979f47a3b769d27c55e46525",
                            "version_major": 2,
                            "version_minor": 0
                        },
                        "text/plain": [
                            "  0%|          | 0/6 [00:00<?, ?it/s]"
                        ]
                    },
                    "metadata": {},
                    "output_type": "display_data"
                },
                {
                    "name": "stdout",
                    "output_type": "stream",
                    "text": [
                        "--------------------\n",
                        "Computing metrics using y_test_pred.\n",
                        "--------------------\n",
                        "Appending metrics to dict.\n"
                    ]
                }
            ],
            "source": [
                "metrics_dict = estimator.evaluate()\n"
            ]
        },
        {
            "cell_type": "code",
            "execution_count": 31,
            "id": "c00b3367",
            "metadata": {},
            "outputs": [
                {
                    "data": {
                        "text/plain": [
                            "{'eval_loss': 0.41402167081832886,\n",
                            " 'eval_Accuracy': 0.8166666666666667,\n",
                            " 'eval_Balanced Accuracy': 0.8042804843705997,\n",
                            " 'eval_Precision': 0.7922077922077922,\n",
                            " 'eval_Recall': 0.9104477611940298,\n",
                            " 'eval_F1-score': 0.8472222222222222,\n",
                            " 'eval_Matthews Correlation Coefficient': 0.6302311143222787,\n",
                            " 'eval_Fowlkes–Mallows Index': 0.7097271771895131,\n",
                            " 'eval_Cohen’s Kappa': 0.6207986210858949,\n",
                            " 'eval_Geometric Mean': 0.6355956068713038,\n",
                            " 'eval_Classification Report': '              precision    recall  f1-score   support\\n\\n           0       0.86      0.70      0.77        53\\n           1       0.79      0.91      0.85        67\\n\\n    accuracy                           0.82       120\\n   macro avg       0.83      0.80      0.81       120\\nweighted avg       0.82      0.82      0.81       120\\n',\n",
                            " 'eval_Confusion Matrix': array([[37, 16],\n",
                            "        [ 6, 61]]),\n",
                            " 'eval_Normalized Confusion Matrix': array([[0.69811321, 0.30188679],\n",
                            "        [0.08955224, 0.91044776]]),\n",
                            " 'eval_runtime': 4.8902,\n",
                            " 'eval_samples_per_second': 24.539,\n",
                            " 'eval_steps_per_second': 1.227,\n",
                            " 'epoch': 3.0}"
                        ]
                    },
                    "execution_count": 31,
                    "metadata": {},
                    "output_type": "execute_result"
                }
            ],
            "source": [
                "metrics_dict\n"
            ]
        },
        {
            "cell_type": "code",
            "execution_count": 32,
            "id": "9c06dc23",
            "metadata": {},
            "outputs": [
                {
                    "name": "stderr",
                    "output_type": "stream",
                    "text": [
                        "/var/folders/46/q15p556n1dd63z6gkwyh896c0000gn/T/ipykernel_73742/1230619439.py:7: UserWarning: To copy construct from a tensor, it is recommended to use sourceTensor.clone().detach() or sourceTensor.clone().detach().requires_grad_(True), rather than torch.tensor(sourceTensor).\n",
                        "  item = {key: torch.tensor(val[idx], device=device) for key, val in self.encodings.items()}\n"
                    ]
                },
                {
                    "data": {
                        "application/vnd.jupyter.widget-view+json": {
                            "model_id": "ab76c24d07004874a64ac72c0e527183",
                            "version_major": 2,
                            "version_minor": 0
                        },
                        "text/plain": [
                            "  0%|          | 0/6 [00:00<?, ?it/s]"
                        ]
                    },
                    "metadata": {},
                    "output_type": "display_data"
                },
                {
                    "name": "stdout",
                    "output_type": "stream",
                    "text": [
                        "--------------------\n",
                        "Computing metrics using y_test_pred.\n",
                        "--------------------\n",
                        "Appending metrics to dict.\n"
                    ]
                }
            ],
            "source": [
                "predicted_results = estimator.predict(bert_val_dataset)"
            ]
        },
        {
            "cell_type": "code",
            "execution_count": 33,
            "id": "a378b6c1",
            "metadata": {},
            "outputs": [
                {
                    "data": {
                        "text/plain": [
                            "{'test_loss': 0.41402167081832886,\n",
                            " 'test_Accuracy': 0.8166666666666667,\n",
                            " 'test_Balanced Accuracy': 0.8042804843705997,\n",
                            " 'test_Precision': 0.7922077922077922,\n",
                            " 'test_Recall': 0.9104477611940298,\n",
                            " 'test_F1-score': 0.8472222222222222,\n",
                            " 'test_Matthews Correlation Coefficient': 0.6302311143222787,\n",
                            " 'test_Fowlkes–Mallows Index': 0.7097271771895131,\n",
                            " 'test_Cohen’s Kappa': 0.6207986210858949,\n",
                            " 'test_Geometric Mean': 0.6355956068713038,\n",
                            " 'test_Classification Report': '              precision    recall  f1-score   support\\n\\n           0       0.86      0.70      0.77        53\\n           1       0.79      0.91      0.85        67\\n\\n    accuracy                           0.82       120\\n   macro avg       0.83      0.80      0.81       120\\nweighted avg       0.82      0.82      0.81       120\\n',\n",
                            " 'test_Confusion Matrix': array([[37, 16],\n",
                            "        [ 6, 61]]),\n",
                            " 'test_Normalized Confusion Matrix': array([[0.69811321, 0.30188679],\n",
                            "        [0.08955224, 0.91044776]]),\n",
                            " 'test_runtime': 4.5608,\n",
                            " 'test_samples_per_second': 26.311,\n",
                            " 'test_steps_per_second': 1.316}"
                        ]
                    },
                    "execution_count": 33,
                    "metadata": {},
                    "output_type": "execute_result"
                }
            ],
            "source": [
                "predicted_results.metrics\n"
            ]
        },
        {
            "cell_type": "code",
            "execution_count": null,
            "id": "98aa1b57",
            "metadata": {},
            "outputs": [],
            "source": []
        }
    ],
    "metadata": {
        "kernelspec": {
            "display_name": "Python 3 (ipykernel)",
            "language": "python",
            "name": "python3"
        },
        "language_info": {
            "codemirror_mode": {
                "name": "ipython",
                "version": 3
            },
            "file_extension": ".py",
            "mimetype": "text/x-python",
            "name": "python",
            "nbconvert_exporter": "python",
            "pygments_lexer": "ipython3",
            "version": "3.10.10"
        },
        "varInspector": {
            "cols": {
                "lenName": 16,
                "lenType": 16,
                "lenVar": 40
            },
            "kernels_config": {
                "python": {
                    "delete_cmd_postfix": "",
                    "delete_cmd_prefix": "del ",
                    "library": "var_list.py",
                    "varRefreshCmd": "print(var_dic_list())"
                },
                "r": {
                    "delete_cmd_postfix": ") ",
                    "delete_cmd_prefix": "rm(",
                    "library": "var_list.r",
                    "varRefreshCmd": "cat(var_dic_list()) "
                }
            },
            "types_to_exclude": [
                "module",
                "function",
                "builtin_function_or_method",
                "instance",
                "_Feature"
            ],
            "window_display": false
        },
        "widgets": {
            "application/vnd.jupyter.widget-state+json": {
                "state": {},
                "version_major": 2,
                "version_minor": 0
            }
        }
    },
    "nbformat": 4,
    "nbformat_minor": 5
}
