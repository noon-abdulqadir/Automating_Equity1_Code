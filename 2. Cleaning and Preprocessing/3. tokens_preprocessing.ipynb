{
    "cells": [
        {
            "cell_type": "markdown",
            "id": "6373c116",
            "metadata": {},
            "source": [
                "# ATTN: This script should be run AFTER spacy sentence splitting is completed.\n"
            ]
        },
        {
            "attachments": {},
            "cell_type": "markdown",
            "id": "993064a6",
            "metadata": {},
            "source": [
                "# Explode DF on sentences\n"
            ]
        },
        {
            "cell_type": "markdown",
            "id": "c744a550",
            "metadata": {},
            "source": [
                "### START HERE IF SOURCING FROM DF_JOBS_SENTENCIZED\n",
                "### PLEASE SET CORRECT DIRECTORY PATHS BELOW\n"
            ]
        },
        {
            "cell_type": "code",
            "execution_count": 1,
            "id": "b997d96c",
            "metadata": {},
            "outputs": [],
            "source": [
                "import os # type:ignore # isort:skip # fmt:skip # noqa # nopep8\n",
                "import sys # type:ignore # isort:skip # fmt:skip # noqa # nopep8\n",
                "from pathlib import Path # type:ignore # isort:skip # fmt:skip # noqa # nopep8\n",
                "\n",
                "mod = sys.modules[__name__]\n",
                "\n",
                "code_dir = None\n",
                "code_dir_name = 'Code'\n",
                "unwanted_subdir_name = 'Analysis'\n",
                "\n",
                "for _ in range(5):\n",
                "\n",
                "    parent_path = str(Path.cwd().parents[_]).split('/')[-1]\n",
                "\n",
                "    if (code_dir_name in parent_path) and (unwanted_subdir_name not in parent_path):\n",
                "\n",
                "        code_dir = str(Path.cwd().parents[_])\n",
                "\n",
                "        if code_dir is not None:\n",
                "            break\n",
                "\n",
                "sys.path.append(code_dir)\n",
                "# %load_ext autoreload\n",
                "# %autoreload 2\n"
            ]
        },
        {
            "cell_type": "code",
            "execution_count": 2,
            "id": "dc6c9e4c",
            "metadata": {},
            "outputs": [
                {
                    "name": "stdout",
                    "output_type": "stream",
                    "text": [
                        "Using MPS\n"
                    ]
                },
                {
                    "data": {
                        "application/vnd.jupyter.widget-view+json": {
                            "model_id": "f59dff49af6944088ffac552cd8f079e",
                            "version_major": 2,
                            "version_minor": 0
                        },
                        "text/plain": [
                            "0it [00:00, ?it/s]"
                        ]
                    },
                    "metadata": {},
                    "output_type": "display_data"
                },
                {
                    "data": {
                        "text/plain": [
                            "<Figure size 640x480 with 0 Axes>"
                        ]
                    },
                    "metadata": {},
                    "output_type": "display_data"
                }
            ],
            "source": [
                "from setup_module.imports import * # type:ignore # isort:skip # fmt:skip # noqa # nopep8\n"
            ]
        },
        {
            "cell_type": "code",
            "execution_count": 3,
            "id": "3d31a583",
            "metadata": {},
            "outputs": [],
            "source": [
                "df_jobs = pd.read_pickle(f'{df_save_dir}df_jobs_sentencized.pkl')\n"
            ]
        },
        {
            "cell_type": "code",
            "execution_count": 4,
            "id": "1899a0d9",
            "metadata": {},
            "outputs": [
                {
                    "name": "stdout",
                    "output_type": "stream",
                    "text": [
                        "<class 'pandas.core.frame.DataFrame'>\n",
                        "Int64Index: 17592 entries, 0 to 17592\n",
                        "Data columns (total 62 columns):\n",
                        " #   Column                               Non-Null Count  Dtype   \n",
                        "---  ------                               --------------  -----   \n",
                        " 0   Search Keyword                       17592 non-null  object  \n",
                        " 1   Platform                             17592 non-null  category\n",
                        " 2   Job ID                               17592 non-null  object  \n",
                        " 3   Job Title                            17592 non-null  object  \n",
                        " 4   Company Name                         17590 non-null  object  \n",
                        " 5   Location                             17592 non-null  object  \n",
                        " 6   Job Description                      17592 non-null  object  \n",
                        " 7   Rating                               3780 non-null   float64 \n",
                        " 8   Employment Type                      17010 non-null  object  \n",
                        " 9   Company URL                          15954 non-null  object  \n",
                        " 10  Job URL                              17592 non-null  object  \n",
                        " 11  Job Age                              17592 non-null  object  \n",
                        " 12  Job Age Number                       17592 non-null  object  \n",
                        " 13  Collection Date                      17592 non-null  object  \n",
                        " 14  Data Row                             13809 non-null  float64 \n",
                        " 15  Tracking ID                          13809 non-null  object  \n",
                        " 16  Industry                             14394 non-null  object  \n",
                        " 17  Job Date                             13812 non-null  object  \n",
                        " 18  Type of ownership                    582 non-null    object  \n",
                        " 19  Language                             17592 non-null  object  \n",
                        " 20  Dutch Requirement in Job Ad          17592 non-null  category\n",
                        " 21  English Requirement in Job Ad        17592 non-null  category\n",
                        " 22  Dutch Requirement in Job Ad_No       17592 non-null  uint8   \n",
                        " 23  Dutch Requirement in Job Ad_Yes      17592 non-null  uint8   \n",
                        " 24  English Requirement in Job Ad_No     17592 non-null  uint8   \n",
                        " 25  English Requirement in Job Ad_Yes    17592 non-null  uint8   \n",
                        " 26  Sector Code                          17592 non-null  object  \n",
                        " 27  Sector                               17592 non-null  object  \n",
                        " 28  Keywords Count                       17592 non-null  float64 \n",
                        " 29  Gender_Female_n                      17592 non-null  float64 \n",
                        " 30  Gender_Female_% per Sector           17592 non-null  float64 \n",
                        " 31  Gender_Female_% per Social Category  17592 non-null  float64 \n",
                        " 32  Gender_Female_% per Workforce        17592 non-null  float64 \n",
                        " 33  Gender_Male_n                        17592 non-null  float64 \n",
                        " 34  Gender_Male_% per Sector             17592 non-null  float64 \n",
                        " 35  Gender_Male_% per Social Category    17592 non-null  float64 \n",
                        " 36  Gender_Male_% per Workforce          17592 non-null  float64 \n",
                        " 37  Gender                               17592 non-null  category\n",
                        " 38  Age_Older_n                          17592 non-null  float64 \n",
                        " 39  Age_Older_% per Sector               17592 non-null  float64 \n",
                        " 40  Age_Older_% per Social Category      17592 non-null  float64 \n",
                        " 41  Age_Older_% per Workforce            17592 non-null  float64 \n",
                        " 42  Age_Younger_n                        17592 non-null  float64 \n",
                        " 43  Age_Younger_% per Sector             17592 non-null  float64 \n",
                        " 44  Age_Younger_% per Social Category    17592 non-null  float64 \n",
                        " 45  Age_Younger_% per Workforce          17592 non-null  float64 \n",
                        " 46  Age                                  17592 non-null  category\n",
                        " 47  Sector_n                             17592 non-null  float64 \n",
                        " 48  % Sector per Workforce               17592 non-null  float64 \n",
                        " 49  Gender_Female                        17592 non-null  int64   \n",
                        " 50  Gender_Male                          17592 non-null  int64   \n",
                        " 51  Gender_Mixed                         17592 non-null  int64   \n",
                        " 52  Age_Mixed                            17592 non-null  int64   \n",
                        " 53  Age_Older                            17592 non-null  int64   \n",
                        " 54  Age_Younger                          17592 non-null  int64   \n",
                        " 55  Gender_Num                           17592 non-null  int64   \n",
                        " 56  Age_Num                              17592 non-null  int64   \n",
                        " 57  Platform_Num                         17592 non-null  int64   \n",
                        " 58  Platform_LinkedIn                    17592 non-null  int64   \n",
                        " 59  Platform_Indeed                      17592 non-null  int64   \n",
                        " 60  Platform_Glassdoor                   17592 non-null  int64   \n",
                        " 61  Job Description spacy_sentencized    17592 non-null  object  \n",
                        "dtypes: category(5), float64(21), int64(12), object(20), uint8(4)\n",
                        "memory usage: 7.4+ MB\n"
                    ]
                }
            ],
            "source": [
                "# len=17599\n",
                "df_jobs.info()"
            ]
        },
        {
            "cell_type": "code",
            "execution_count": 5,
            "id": "ade74c2a",
            "metadata": {
                "scrolled": false
            },
            "outputs": [
                {
                    "name": "stdout",
                    "output_type": "stream",
                    "text": [
                        "\n",
                        "DF INFO:\n",
                        "\n",
                        "<class 'pandas.core.frame.DataFrame'>\n",
                        "Int64Index: 17592 entries, 0 to 17592\n",
                        "Data columns (total 62 columns):\n",
                        " #   Column                               Non-Null Count  Dtype   \n",
                        "---  ------                               --------------  -----   \n",
                        " 0   Search Keyword                       17592 non-null  object  \n",
                        " 1   Platform                             17592 non-null  category\n",
                        " 2   Job ID                               17592 non-null  object  \n",
                        " 3   Job Title                            17592 non-null  object  \n",
                        " 4   Company Name                         17590 non-null  object  \n",
                        " 5   Location                             17592 non-null  object  \n",
                        " 6   Job Description                      17592 non-null  object  \n",
                        " 7   Rating                               3780 non-null   float64 \n",
                        " 8   Employment Type                      17010 non-null  object  \n",
                        " 9   Company URL                          15954 non-null  object  \n",
                        " 10  Job URL                              17592 non-null  object  \n",
                        " 11  Job Age                              17592 non-null  object  \n",
                        " 12  Job Age Number                       17592 non-null  object  \n",
                        " 13  Collection Date                      17592 non-null  object  \n",
                        " 14  Data Row                             13809 non-null  float64 \n",
                        " 15  Tracking ID                          13809 non-null  object  \n",
                        " 16  Industry                             14394 non-null  object  \n",
                        " 17  Job Date                             13812 non-null  object  \n",
                        " 18  Type of ownership                    582 non-null    object  \n",
                        " 19  Language                             17592 non-null  object  \n",
                        " 20  Dutch Requirement in Job Ad          17592 non-null  category\n",
                        " 21  English Requirement in Job Ad        17592 non-null  category\n",
                        " 22  Dutch Requirement in Job Ad_No       17592 non-null  uint8   \n",
                        " 23  Dutch Requirement in Job Ad_Yes      17592 non-null  uint8   \n",
                        " 24  English Requirement in Job Ad_No     17592 non-null  uint8   \n",
                        " 25  English Requirement in Job Ad_Yes    17592 non-null  uint8   \n",
                        " 26  Sector Code                          17592 non-null  object  \n",
                        " 27  Sector                               17592 non-null  object  \n",
                        " 28  Keywords Count                       17592 non-null  float64 \n",
                        " 29  Gender_Female_n                      17592 non-null  float64 \n",
                        " 30  Gender_Female_% per Sector           17592 non-null  float64 \n",
                        " 31  Gender_Female_% per Social Category  17592 non-null  float64 \n",
                        " 32  Gender_Female_% per Workforce        17592 non-null  float64 \n",
                        " 33  Gender_Male_n                        17592 non-null  float64 \n",
                        " 34  Gender_Male_% per Sector             17592 non-null  float64 \n",
                        " 35  Gender_Male_% per Social Category    17592 non-null  float64 \n",
                        " 36  Gender_Male_% per Workforce          17592 non-null  float64 \n",
                        " 37  Gender                               17592 non-null  category\n",
                        " 38  Age_Older_n                          17592 non-null  float64 \n",
                        " 39  Age_Older_% per Sector               17592 non-null  float64 \n",
                        " 40  Age_Older_% per Social Category      17592 non-null  float64 \n",
                        " 41  Age_Older_% per Workforce            17592 non-null  float64 \n",
                        " 42  Age_Younger_n                        17592 non-null  float64 \n",
                        " 43  Age_Younger_% per Sector             17592 non-null  float64 \n",
                        " 44  Age_Younger_% per Social Category    17592 non-null  float64 \n",
                        " 45  Age_Younger_% per Workforce          17592 non-null  float64 \n",
                        " 46  Age                                  17592 non-null  category\n",
                        " 47  Sector_n                             17592 non-null  float64 \n",
                        " 48  % Sector per Workforce               17592 non-null  float64 \n",
                        " 49  Gender_Female                        17592 non-null  int64   \n",
                        " 50  Gender_Male                          17592 non-null  int64   \n",
                        " 51  Gender_Mixed                         17592 non-null  int64   \n",
                        " 52  Age_Mixed                            17592 non-null  int64   \n",
                        " 53  Age_Older                            17592 non-null  int64   \n",
                        " 54  Age_Younger                          17592 non-null  int64   \n",
                        " 55  Gender_Num                           17592 non-null  int64   \n",
                        " 56  Age_Num                              17592 non-null  int64   \n",
                        " 57  Platform_Num                         17592 non-null  int64   \n",
                        " 58  Platform_LinkedIn                    17592 non-null  int64   \n",
                        " 59  Platform_Indeed                      17592 non-null  int64   \n",
                        " 60  Platform_Glassdoor                   17592 non-null  int64   \n",
                        " 61  Job Description spacy_sentencized    17592 non-null  object  \n",
                        "dtypes: category(5), float64(21), int64(12), object(20), uint8(4)\n",
                        "memory usage: 7.4+ MB\n",
                        "====================\n",
                        "Gender:\n",
                        "--------------------\n",
                        "Gender Counts:\n",
                        "Male            6974\n",
                        "Mixed Gender    6664\n",
                        "Female          3954\n",
                        "Name: Gender, dtype: int64\n",
                        "--------------------\n",
                        "Gender Percentages:\n",
                        "Male           39.60\n",
                        "Mixed Gender   37.90\n",
                        "Female         22.50\n",
                        "Name: Gender, dtype: float64\n",
                        "--------------------\n",
                        "Min Gender value: Female\n",
                        "Max Gender value: Male\n",
                        "--------------------\n",
                        "====================\n",
                        "Gender_Num:\n",
                        "--------------------\n",
                        "Gender_Num Counts:\n",
                        "2    6974\n",
                        "1    6664\n",
                        "0    3954\n",
                        "Name: Gender_Num, dtype: int64\n",
                        "--------------------\n",
                        "Gender_Num Percentages:\n",
                        "2   39.60\n",
                        "1   37.90\n",
                        "0   22.50\n",
                        "Name: Gender_Num, dtype: float64\n",
                        "--------------------\n",
                        "Min Gender_Num value: 0\n",
                        "Max Gender_Num value: 2\n",
                        "--------------------\n",
                        "Gender_Num Mean: 1.17\n",
                        "--------------------\n",
                        "Gender_Num Standard Deviation: 0.77\n",
                        "====================\n",
                        "Gender_Female:\n",
                        "--------------------\n",
                        "Gender_Female Counts:\n",
                        "0    13638\n",
                        "1     3954\n",
                        "Name: Gender_Female, dtype: int64\n",
                        "--------------------\n",
                        "Gender_Female Percentages:\n",
                        "0   77.50\n",
                        "1   22.50\n",
                        "Name: Gender_Female, dtype: float64\n",
                        "--------------------\n",
                        "Min Gender_Female value: 0\n",
                        "Max Gender_Female value: 1\n",
                        "--------------------\n",
                        "Gender_Female Mean: 0.22\n",
                        "--------------------\n",
                        "Gender_Female Standard Deviation: 0.42\n",
                        "====================\n",
                        "Gender_Mixed:\n",
                        "--------------------\n",
                        "Gender_Mixed Counts:\n",
                        "0    10928\n",
                        "1     6664\n",
                        "Name: Gender_Mixed, dtype: int64\n",
                        "--------------------\n",
                        "Gender_Mixed Percentages:\n",
                        "0   62.10\n",
                        "1   37.90\n",
                        "Name: Gender_Mixed, dtype: float64\n",
                        "--------------------\n",
                        "Min Gender_Mixed value: 0\n",
                        "Max Gender_Mixed value: 1\n",
                        "--------------------\n",
                        "Gender_Mixed Mean: 0.38\n",
                        "--------------------\n",
                        "Gender_Mixed Standard Deviation: 0.49\n",
                        "====================\n",
                        "Gender_Male:\n",
                        "--------------------\n",
                        "Gender_Male Counts:\n",
                        "0    10618\n",
                        "1     6974\n",
                        "Name: Gender_Male, dtype: int64\n",
                        "--------------------\n",
                        "Gender_Male Percentages:\n",
                        "0   60.40\n",
                        "1   39.60\n",
                        "Name: Gender_Male, dtype: float64\n",
                        "--------------------\n",
                        "Min Gender_Male value: 0\n",
                        "Max Gender_Male value: 1\n",
                        "--------------------\n",
                        "Gender_Male Mean: 0.4\n",
                        "--------------------\n",
                        "Gender_Male Standard Deviation: 0.49\n",
                        "====================\n",
                        "Gender_Female_n:\n",
                        "--------------------\n",
                        "Min Gender_Female_n value: 7.0\n",
                        "Max Gender_Female_n value: 3970.0\n",
                        "--------------------\n",
                        "Gender_Female_n Mean: 637.88\n",
                        "--------------------\n",
                        "Gender_Female_n Standard Deviation: 1041.39\n",
                        "====================\n",
                        "Gender_Male_n:\n",
                        "--------------------\n",
                        "Min Gender_Male_n value: 21.0\n",
                        "Max Gender_Male_n value: 4510.0\n",
                        "--------------------\n",
                        "Gender_Male_n Mean: 759.44\n",
                        "--------------------\n",
                        "Gender_Male_n Standard Deviation: 1302.6\n",
                        "====================\n",
                        "Gender_Female_% per Sector:\n",
                        "--------------------\n",
                        "Min Gender_Female_% per Sector value: 12.5\n",
                        "Max Gender_Female_% per Sector value: 84.2986741102582\n",
                        "--------------------\n",
                        "Gender_Female_% per Sector Mean: 44.01\n",
                        "--------------------\n",
                        "Gender_Female_% per Sector Standard Deviation: 19.08\n",
                        "====================\n",
                        "Gender_Male_% per Sector:\n",
                        "--------------------\n",
                        "Min Gender_Male_% per Sector value: 15.631542219120725\n",
                        "Max Gender_Male_% per Sector value: 87.5\n",
                        "--------------------\n",
                        "Gender_Male_% per Sector Mean: 55.94\n",
                        "--------------------\n",
                        "Gender_Male_% per Sector Standard Deviation: 19.11\n",
                        "====================\n",
                        "Age:\n",
                        "--------------------\n",
                        "Age Counts:\n",
                        "Mixed Age    11463\n",
                        "Older         3778\n",
                        "Younger       2351\n",
                        "Name: Age, dtype: int64\n",
                        "--------------------\n",
                        "Age Percentages:\n",
                        "Mixed Age   65.20\n",
                        "Older       21.50\n",
                        "Younger     13.40\n",
                        "Name: Age, dtype: float64\n",
                        "--------------------\n",
                        "Min Age value: Older\n",
                        "Max Age value: Younger\n",
                        "--------------------\n",
                        "====================\n",
                        "Age_Num:\n",
                        "--------------------\n",
                        "Age_Num Counts:\n",
                        "1    11463\n",
                        "0     3778\n",
                        "2     2351\n",
                        "Name: Age_Num, dtype: int64\n",
                        "--------------------\n",
                        "Age_Num Percentages:\n",
                        "1   65.20\n",
                        "0   21.50\n",
                        "2   13.40\n",
                        "Name: Age_Num, dtype: float64\n",
                        "--------------------\n",
                        "Min Age_Num value: 0\n",
                        "Max Age_Num value: 2\n",
                        "--------------------\n",
                        "Age_Num Mean: 0.92\n",
                        "--------------------\n",
                        "Age_Num Standard Deviation: 0.58\n",
                        "====================\n",
                        "Age_Older:\n",
                        "--------------------\n",
                        "Age_Older Counts:\n",
                        "0    13814\n",
                        "1     3778\n",
                        "Name: Age_Older, dtype: int64\n",
                        "--------------------\n",
                        "Age_Older Percentages:\n",
                        "0   78.50\n",
                        "1   21.50\n",
                        "Name: Age_Older, dtype: float64\n",
                        "--------------------\n",
                        "Min Age_Older value: 0\n",
                        "Max Age_Older value: 1\n",
                        "--------------------\n",
                        "Age_Older Mean: 0.21\n",
                        "--------------------\n",
                        "Age_Older Standard Deviation: 0.41\n",
                        "====================\n",
                        "Age_Mixed:\n",
                        "--------------------\n",
                        "Age_Mixed Counts:\n",
                        "1    11463\n",
                        "0     6129\n",
                        "Name: Age_Mixed, dtype: int64\n",
                        "--------------------\n",
                        "Age_Mixed Percentages:\n",
                        "1   65.20\n",
                        "0   34.80\n",
                        "Name: Age_Mixed, dtype: float64\n",
                        "--------------------\n",
                        "Min Age_Mixed value: 0\n",
                        "Max Age_Mixed value: 1\n",
                        "--------------------\n",
                        "Age_Mixed Mean: 0.65\n",
                        "--------------------\n",
                        "Age_Mixed Standard Deviation: 0.48\n",
                        "====================\n",
                        "Age_Younger:\n",
                        "--------------------\n",
                        "Age_Younger Counts:\n",
                        "0    15241\n",
                        "1     2351\n",
                        "Name: Age_Younger, dtype: int64\n",
                        "--------------------\n",
                        "Age_Younger Percentages:\n",
                        "0   86.60\n",
                        "1   13.40\n",
                        "Name: Age_Younger, dtype: float64\n",
                        "--------------------\n",
                        "Min Age_Younger value: 0\n",
                        "Max Age_Younger value: 1\n",
                        "--------------------\n",
                        "Age_Younger Mean: 0.13\n",
                        "--------------------\n",
                        "Age_Younger Standard Deviation: 0.34\n",
                        "====================\n",
                        "Age_Older_n:\n",
                        "--------------------\n",
                        "Min Age_Older_n value: 15.0\n",
                        "Max Age_Older_n value: 2844.0\n",
                        "--------------------\n",
                        "Age_Older_n Mean: 528.93\n",
                        "--------------------\n",
                        "Age_Older_n Standard Deviation: 800.51\n",
                        "====================\n",
                        "Age_Younger_n:\n",
                        "--------------------\n",
                        "Min Age_Younger_n value: 13.0\n",
                        "Max Age_Younger_n value: 5228.0\n",
                        "--------------------\n",
                        "Age_Younger_n Mean: 868.03\n",
                        "--------------------\n",
                        "Age_Younger_n Standard Deviation: 1509.21\n",
                        "====================\n",
                        "Age_Older_% per Sector:\n",
                        "--------------------\n",
                        "Min Age_Older_% per Sector value: 18.939393939393938\n",
                        "Max Age_Older_% per Sector value: 58.333333333333336\n",
                        "--------------------\n",
                        "Age_Older_% per Sector Mean: 40.62\n",
                        "--------------------\n",
                        "Age_Older_% per Sector Standard Deviation: 10.08\n",
                        "====================\n",
                        "Age_Younger_% per Sector:\n",
                        "--------------------\n",
                        "Min Age_Younger_% per Sector value: 44.44444444444444\n",
                        "Max Age_Younger_% per Sector value: 80.8080808080808\n",
                        "--------------------\n",
                        "Age_Younger_% per Sector Mean: 59.23\n",
                        "--------------------\n",
                        "Age_Younger_% per Sector Standard Deviation: 10.0\n",
                        "\n",
                        "\n"
                    ]
                }
            ],
            "source": [
                "# Job Ad info\n",
                "get_df_info(df_jobs, ivs_all=ivs_all)\n"
            ]
        },
        {
            "cell_type": "code",
            "execution_count": 6,
            "id": "dd7f42d8",
            "metadata": {},
            "outputs": [
                {
                    "data": {
                        "text/plain": [
                            "0    [About Our Client, The Global KYC organisation...\n",
                            "1    [Your role, Were in business to save our home ...\n",
                            "2    [During the past four years Colourful Rebel ha...\n",
                            "3    [Job Description, We are currently recruiting ...\n",
                            "4    [KARL LAGERFELD COMPANY PROFILE, The house of ...\n",
                            "Name: Job Description spacy_sentencized, dtype: object"
                        ]
                    },
                    "execution_count": 6,
                    "metadata": {},
                    "output_type": "execute_result"
                }
            ],
            "source": [
                "df_jobs['Job Description spacy_sentencized'].head()\n"
            ]
        },
        {
            "cell_type": "code",
            "execution_count": 7,
            "id": "3ed9d0f9",
            "metadata": {},
            "outputs": [
                {
                    "data": {
                        "text/plain": [
                            "count                                                 17592\n",
                            "unique                                                16999\n",
                            "top       [THE PROFILEAbercrombie  Fitch Co is a leading...\n",
                            "freq                                                      4\n",
                            "Name: Job Description spacy_sentencized, dtype: object"
                        ]
                    },
                    "execution_count": 7,
                    "metadata": {},
                    "output_type": "execute_result"
                }
            ],
            "source": [
                "df_jobs['Job Description spacy_sentencized'].describe()\n"
            ]
        },
        {
            "cell_type": "code",
            "execution_count": 8,
            "id": "256dcb71",
            "metadata": {},
            "outputs": [],
            "source": [
                "# Explode df so that every row is one sentence\n",
                "df_jobs = df_jobs.explode('Job Description spacy_sentencized', ignore_index=True)\n"
            ]
        },
        {
            "cell_type": "code",
            "execution_count": 9,
            "id": "458b9f3b",
            "metadata": {},
            "outputs": [
                {
                    "data": {
                        "text/plain": [
                            "408599"
                        ]
                    },
                    "execution_count": 9,
                    "metadata": {},
                    "output_type": "execute_result"
                }
            ],
            "source": [
                "# len = 408599\n",
                "len(df_jobs)\n"
            ]
        },
        {
            "cell_type": "code",
            "execution_count": 10,
            "id": "2224df52",
            "metadata": {},
            "outputs": [
                {
                    "name": "stdout",
                    "output_type": "stream",
                    "text": [
                        "<class 'pandas.core.frame.DataFrame'>\n",
                        "RangeIndex: 408599 entries, 0 to 408598\n",
                        "Data columns (total 62 columns):\n",
                        " #   Column                               Non-Null Count   Dtype   \n",
                        "---  ------                               --------------   -----   \n",
                        " 0   Search Keyword                       408599 non-null  object  \n",
                        " 1   Platform                             408599 non-null  category\n",
                        " 2   Job ID                               408599 non-null  object  \n",
                        " 3   Job Title                            408599 non-null  object  \n",
                        " 4   Company Name                         408587 non-null  object  \n",
                        " 5   Location                             408599 non-null  object  \n",
                        " 6   Job Description                      408599 non-null  object  \n",
                        " 7   Rating                               224564 non-null  float64 \n",
                        " 8   Employment Type                      351502 non-null  object  \n",
                        " 9   Company URL                          399603 non-null  object  \n",
                        " 10  Job URL                              408599 non-null  object  \n",
                        " 11  Job Age                              408599 non-null  object  \n",
                        " 12  Job Age Number                       408599 non-null  object  \n",
                        " 13  Collection Date                      408599 non-null  object  \n",
                        " 14  Data Row                             183857 non-null  float64 \n",
                        " 15  Tracking ID                          183857 non-null  object  \n",
                        " 16  Industry                             241132 non-null  object  \n",
                        " 17  Job Date                             184035 non-null  object  \n",
                        " 18  Type of ownership                    57097 non-null   object  \n",
                        " 19  Language                             408599 non-null  object  \n",
                        " 20  Dutch Requirement in Job Ad          408599 non-null  category\n",
                        " 21  English Requirement in Job Ad        408599 non-null  category\n",
                        " 22  Dutch Requirement in Job Ad_No       408599 non-null  uint8   \n",
                        " 23  Dutch Requirement in Job Ad_Yes      408599 non-null  uint8   \n",
                        " 24  English Requirement in Job Ad_No     408599 non-null  uint8   \n",
                        " 25  English Requirement in Job Ad_Yes    408599 non-null  uint8   \n",
                        " 26  Sector Code                          408599 non-null  object  \n",
                        " 27  Sector                               408599 non-null  object  \n",
                        " 28  Keywords Count                       408599 non-null  float64 \n",
                        " 29  Gender_Female_n                      408599 non-null  float64 \n",
                        " 30  Gender_Female_% per Sector           408599 non-null  float64 \n",
                        " 31  Gender_Female_% per Social Category  408599 non-null  float64 \n",
                        " 32  Gender_Female_% per Workforce        408599 non-null  float64 \n",
                        " 33  Gender_Male_n                        408599 non-null  float64 \n",
                        " 34  Gender_Male_% per Sector             408599 non-null  float64 \n",
                        " 35  Gender_Male_% per Social Category    408599 non-null  float64 \n",
                        " 36  Gender_Male_% per Workforce          408599 non-null  float64 \n",
                        " 37  Gender                               408599 non-null  category\n",
                        " 38  Age_Older_n                          408599 non-null  float64 \n",
                        " 39  Age_Older_% per Sector               408599 non-null  float64 \n",
                        " 40  Age_Older_% per Social Category      408599 non-null  float64 \n",
                        " 41  Age_Older_% per Workforce            408599 non-null  float64 \n",
                        " 42  Age_Younger_n                        408599 non-null  float64 \n",
                        " 43  Age_Younger_% per Sector             408599 non-null  float64 \n",
                        " 44  Age_Younger_% per Social Category    408599 non-null  float64 \n",
                        " 45  Age_Younger_% per Workforce          408599 non-null  float64 \n",
                        " 46  Age                                  408599 non-null  category\n",
                        " 47  Sector_n                             408599 non-null  float64 \n",
                        " 48  % Sector per Workforce               408599 non-null  float64 \n",
                        " 49  Gender_Female                        408599 non-null  int64   \n",
                        " 50  Gender_Male                          408599 non-null  int64   \n",
                        " 51  Gender_Mixed                         408599 non-null  int64   \n",
                        " 52  Age_Mixed                            408599 non-null  int64   \n",
                        " 53  Age_Older                            408599 non-null  int64   \n",
                        " 54  Age_Younger                          408599 non-null  int64   \n",
                        " 55  Gender_Num                           408599 non-null  int64   \n",
                        " 56  Age_Num                              408599 non-null  int64   \n",
                        " 57  Platform_Num                         408599 non-null  int64   \n",
                        " 58  Platform_LinkedIn                    408599 non-null  int64   \n",
                        " 59  Platform_Indeed                      408599 non-null  int64   \n",
                        " 60  Platform_Glassdoor                   408599 non-null  int64   \n",
                        " 61  Job Description spacy_sentencized    408599 non-null  object  \n",
                        "dtypes: category(5), float64(21), int64(12), object(20), uint8(4)\n",
                        "memory usage: 168.7+ MB\n"
                    ]
                }
            ],
            "source": [
                "df_jobs.info()\n"
            ]
        },
        {
            "cell_type": "code",
            "execution_count": 11,
            "id": "b92ee727",
            "metadata": {},
            "outputs": [
                {
                    "data": {
                        "text/plain": [
                            "0                                     About Our Client\n",
                            "1    The Global KYC organisation is part of ING's C...\n",
                            "2    Its purpose is Enabling people and organisatio...\n",
                            "3    Our Global KYC organisation is a first line of...\n",
                            "4    In our Global KYC organisation you will be wor...\n",
                            "Name: Job Description spacy_sentencized, dtype: object"
                        ]
                    },
                    "execution_count": 11,
                    "metadata": {},
                    "output_type": "execute_result"
                }
            ],
            "source": [
                "df_jobs['Job Description spacy_sentencized'].head()"
            ]
        },
        {
            "cell_type": "code",
            "execution_count": 12,
            "id": "2c946c0b",
            "metadata": {},
            "outputs": [
                {
                    "data": {
                        "text/plain": [
                            "408594    Your application will be screened closely and ...\n",
                            "408595                 Tom is an equal opportunity employer\n",
                            "408596    We celebrate diversity, thrive on each others ...\n",
                            "408597    Naturally, we do not discriminate against any ...\n",
                            "408598                     Ready to move the world forward?\n",
                            "Name: Job Description spacy_sentencized, dtype: object"
                        ]
                    },
                    "execution_count": 12,
                    "metadata": {},
                    "output_type": "execute_result"
                }
            ],
            "source": [
                "df_jobs['Job Description spacy_sentencized'].tail()"
            ]
        },
        {
            "cell_type": "code",
            "execution_count": 13,
            "id": "02ec54cd",
            "metadata": {},
            "outputs": [
                {
                    "data": {
                        "text/plain": [
                            "count        408599\n",
                            "unique       217755\n",
                            "top       Amsterdam\n",
                            "freq           1410\n",
                            "Name: Job Description spacy_sentencized, dtype: object"
                        ]
                    },
                    "execution_count": 13,
                    "metadata": {},
                    "output_type": "execute_result"
                }
            ],
            "source": [
                "df_jobs['Job Description spacy_sentencized'].describe()\n"
            ]
        },
        {
            "cell_type": "code",
            "execution_count": 14,
            "id": "7d562a68",
            "metadata": {},
            "outputs": [
                {
                    "data": {
                        "text/plain": [
                            "'This starts with performing the actual installation as per procedure and training at the customers site and is followed by troubleshooting, performing repairs, maintenance activities and installing upgrades to our system You will cooperate closely with our Sales team and thus contribute to ramping up our business In more detail, you and mount the Phenospex plant measurement systems and perform quality control checks to ensure correct functioning and customer satisfactionprovide support and training to the customer on the application of the automation technologies and user interfacesregularly interface with technical staff, such as Project Managers and Engineers, both at Phenospex and at the customers site to ensure that installation requirements on site are met in time before the installationdeliver troubleshooting and diagnostic support services to ensure that all products and services function properly and resolve technical support inquiries directlyinform customers on preventive maintenance and complete maintenance of the systems as requiredprovide the CCO with a detailed installation report upon project completionplan service assignments in assigned territories independently and combine trips to different service sites wiselyprovide support during trade showswork in close collaboration with the Sales  Service teamprovide training to relevant groups at Phenospexlog and keep records of all incoming issues and findings in the CRM system and internal databaseanalyze logs to spot common trends and underlying problemssupport the operations team with performing a variety of production development and repairrefurbishment workcomplete special assignments as requestedmaintain a safe and healthy work environment by following and complying with all health and safety policies, procedures and legislation in the workshop and on sitea degree in Biotechnology or Bioinformatics Engineering with focus on plants or a degree in Plant Physiology with a strong interest in technologya passion for working with your hands along with excellent technical and mechanical skillsfamiliarity with the Linux operating system and commands Debiana strong customer focus mentality and passion for challenges and troubleshootingstrong communication skills and good verbal and written English any other language is beneficialexcellent organizational skillsflexibility to travel on short notice and for longer periods of time worldwide roughly 50 of timea valid EU work permit and drivers license'"
                        ]
                    },
                    "execution_count": 14,
                    "metadata": {},
                    "output_type": "execute_result"
                }
            ],
            "source": [
                "# Get longest sentence, sentence does not have any punctuation\n",
                "df_jobs['Job Description spacy_sentencized'].loc[df_jobs['Job Description spacy_sentencized'].apply(len).idxmax()]\n"
            ]
        },
        {
            "cell_type": "code",
            "execution_count": 15,
            "id": "d3938c8a",
            "metadata": {},
            "outputs": [
                {
                    "data": {
                        "text/plain": [
                            "2497"
                        ]
                    },
                    "execution_count": 15,
                    "metadata": {},
                    "output_type": "execute_result"
                }
            ],
            "source": [
                "# Get length of longest sentence, len=2497\n",
                "df_jobs['Job Description spacy_sentencized'].apply(len).max()\n"
            ]
        },
        {
            "cell_type": "code",
            "execution_count": 16,
            "id": "a3f79b59",
            "metadata": {},
            "outputs": [
                {
                    "data": {
                        "text/plain": [
                            "4"
                        ]
                    },
                    "execution_count": 16,
                    "metadata": {},
                    "output_type": "execute_result"
                }
            ],
            "source": [
                "# Get length of shortest sentence, len=4\n",
                "df_jobs['Job Description spacy_sentencized'].apply(len).min()"
            ]
        },
        {
            "cell_type": "code",
            "execution_count": 17,
            "id": "bed13af6",
            "metadata": {},
            "outputs": [
                {
                    "data": {
                        "text/plain": [
                            "'Role'"
                        ]
                    },
                    "execution_count": 17,
                    "metadata": {},
                    "output_type": "execute_result"
                }
            ],
            "source": [
                "# Get shortest sentence, its a punctuation (fullstop)\n",
                "df_jobs['Job Description spacy_sentencized'].loc[df_jobs['Job Description spacy_sentencized'].apply(len).idxmin()]\n"
            ]
        },
        {
            "cell_type": "code",
            "execution_count": 18,
            "id": "85d2b6cc",
            "metadata": {},
            "outputs": [],
            "source": [
                "df_jobs['Job Description spacy_sentencized'] = df_jobs['Job Description spacy_sentencized'].apply(lambda x: unicodedata.normalize('NFKD', x.encode('ascii', 'ignore').decode('utf-8', 'ignore')))\n"
            ]
        },
        {
            "cell_type": "code",
            "execution_count": 19,
            "id": "010e91c3",
            "metadata": {},
            "outputs": [],
            "source": [
                "assert len(df_jobs) > 0 and isinstance(df_jobs, pd.DataFrame), f'ERORR: LENGTH OF DF = {len(df_jobs)}'\n",
                "df_jobs.to_pickle(f'{df_save_dir}df_jobs_sentencized_exploded.pkl')\n",
                "df_jobs.to_csv(f'{df_save_dir}df_jobs_sentencized_exploded.csv', index=False)"
            ]
        },
        {
            "attachments": {},
            "cell_type": "markdown",
            "id": "175328e6",
            "metadata": {},
            "source": [
                "# Validate sentencization and get word frequencies\n"
            ]
        },
        {
            "attachments": {},
            "cell_type": "markdown",
            "id": "3b9448d8",
            "metadata": {},
            "source": [
                "### START HERE IF SOURCING FROM DF_JOBS_SENTENCIZED_EXPLODED\n",
                "### PLEASE SET CORRECT DIRECTORY PATHS BELOW"
            ]
        },
        {
            "cell_type": "code",
            "execution_count": 20,
            "id": "41d91301",
            "metadata": {},
            "outputs": [],
            "source": [
                "import os # type:ignore # isort:skip # fmt:skip # noqa # nopep8\n",
                "import sys # type:ignore # isort:skip # fmt:skip # noqa # nopep8\n",
                "from pathlib import Path # type:ignore # isort:skip # fmt:skip # noqa # nopep8\n",
                "\n",
                "mod = sys.modules[__name__]\n",
                "\n",
                "code_dir = None\n",
                "code_dir_name = 'Code'\n",
                "unwanted_subdir_name = 'Analysis'\n",
                "\n",
                "for _ in range(5):\n",
                "\n",
                "    parent_path = str(Path.cwd().parents[_]).split('/')[-1]\n",
                "\n",
                "    if (code_dir_name in parent_path) and (unwanted_subdir_name not in parent_path):\n",
                "\n",
                "        code_dir = str(Path.cwd().parents[_])\n",
                "\n",
                "        if code_dir is not None:\n",
                "            break\n",
                "\n",
                "sys.path.append(code_dir)\n",
                "# %load_ext autoreload\n",
                "# %autoreload 2\n"
            ]
        },
        {
            "cell_type": "code",
            "execution_count": 21,
            "id": "feb7e1eb",
            "metadata": {},
            "outputs": [],
            "source": [
                "from setup_module.imports import * # type:ignore # isort:skip # fmt:skip # noqa # nopep8\n"
            ]
        },
        {
            "cell_type": "code",
            "execution_count": 22,
            "id": "7a745185",
            "metadata": {},
            "outputs": [],
            "source": [
                "def get_word_num_and_frequency(row, text_col):\n",
                "\n",
                "    with open(f'{data_dir}punctuations.txt', 'rb') as f:\n",
                "        custom_punct_chars = pickle.load(f)\n",
                "    row['Job Description num_words'] = len(str(row[text_col]).split())\n",
                "    row['Job Description num_unique_words'] = len(set(str(row[text_col]).split()))\n",
                "    row['Job Description num_chars'] = len(str(row[text_col]))\n",
                "    row['Job Description num_chars_no_whitespact_and_punt'] = len(\n",
                "        [\n",
                "            c\n",
                "            for c in str(row[text_col])\n",
                "            if c not in custom_punct_chars and c not in list(string.punctuation) and c in list(string.printable) and c not in list(string.whitespace) and c != ' '\n",
                "        ]\n",
                "    )\n",
                "    row['Job Description num_punctuations'] = len(\n",
                "        [\n",
                "            c\n",
                "            for c in str(row[text_col])\n",
                "            if c in custom_punct_chars and c in list(string.punctuation) and c in list(string.printable) and c not in list(string.whitespace) and c != ' '\n",
                "        ]\n",
                "    )\n",
                "\n",
                "    return row\n"
            ]
        },
        {
            "cell_type": "code",
            "execution_count": 23,
            "id": "1786e5b8",
            "metadata": {},
            "outputs": [],
            "source": [
                "df_jobs = pd.read_pickle(f'{df_save_dir}df_jobs_sentencized_exploded.pkl')\n"
            ]
        },
        {
            "cell_type": "code",
            "execution_count": 24,
            "id": "b5545a60",
            "metadata": {},
            "outputs": [],
            "source": [
                "df_jobs['Job Description spacy_sentencized'] = df_jobs['Job Description spacy_sentencized'].apply(lambda x: unicodedata.normalize('NFKD', x.encode('ascii', 'ignore').decode('utf-8', 'ignore')))\n"
            ]
        },
        {
            "cell_type": "code",
            "execution_count": 25,
            "id": "1c2dc86e",
            "metadata": {},
            "outputs": [],
            "source": [
                "df_jobs['Job Description spacy_sentencized'] = df_jobs[\n",
                "    'Job Description spacy_sentencized'\n",
                "].apply(lambda x: x if isinstance(x, str) else ast.literal_eval(x))\n"
            ]
        },
        {
            "cell_type": "code",
            "execution_count": 26,
            "id": "0fc19a8c",
            "metadata": {},
            "outputs": [],
            "source": [
                "df_jobs['Job Description spacy_sentencized'] = df_jobs['Job Description spacy_sentencized'].apply(lambda x: x if isinstance(x, str) else np.nan)\n"
            ]
        },
        {
            "cell_type": "code",
            "execution_count": 27,
            "id": "6aa352f0",
            "metadata": {},
            "outputs": [],
            "source": [
                "df_jobs['Job Description spacy_sentencized'] = df_jobs['Job Description spacy_sentencized'].astype(str)\n"
            ]
        },
        {
            "cell_type": "code",
            "execution_count": 28,
            "id": "ce705aea",
            "metadata": {},
            "outputs": [
                {
                    "data": {
                        "text/plain": [
                            "408599"
                        ]
                    },
                    "execution_count": 28,
                    "metadata": {},
                    "output_type": "execute_result"
                }
            ],
            "source": [
                "#len=408599\n",
                "len(df_jobs)\n"
            ]
        },
        {
            "cell_type": "code",
            "execution_count": 29,
            "id": "70db27d9",
            "metadata": {},
            "outputs": [],
            "source": [
                "df_jobs['Job Description spacy_sentencized'] = df_jobs[\n",
                "    'Job Description spacy_sentencized'\n",
                "].apply(\n",
                "    lambda x: ' '.join(x.split()).strip()\n",
                "    if bool(x)\n",
                "    and isinstance(x, str)\n",
                "    and len(x.split()) > 0\n",
                "    else np.nan\n",
                ")\n"
            ]
        },
        {
            "cell_type": "code",
            "execution_count": 30,
            "id": "6dc34356",
            "metadata": {},
            "outputs": [],
            "source": [
                "df_jobs['Job Description spacy_sentencized'] = df_jobs[\n",
                "    'Job Description spacy_sentencized'\n",
                "].apply(\n",
                "    lambda x: ' '.join(re.split(pattern, x)).strip()\n",
                "    if bool(x)\n",
                "    and isinstance(x, str)\n",
                "    and len(x.split()) > 0\n",
                "    else np.nan\n",
                ")\n"
            ]
        },
        {
            "cell_type": "code",
            "execution_count": 31,
            "id": "47800934",
            "metadata": {},
            "outputs": [
                {
                    "data": {
                        "text/plain": [
                            "408599"
                        ]
                    },
                    "execution_count": 31,
                    "metadata": {},
                    "output_type": "execute_result"
                }
            ],
            "source": [
                "#len=408599\n",
                "len(df_jobs)"
            ]
        },
        {
            "cell_type": "code",
            "execution_count": 32,
            "id": "b1517bf3",
            "metadata": {},
            "outputs": [],
            "source": [
                "df_jobs = df_jobs.dropna(subset=['Job ID', 'Job Description spacy_sentencized'])\n"
            ]
        },
        {
            "cell_type": "code",
            "execution_count": 33,
            "id": "cbb522c9",
            "metadata": {},
            "outputs": [
                {
                    "data": {
                        "text/plain": [
                            "408599"
                        ]
                    },
                    "execution_count": 33,
                    "metadata": {},
                    "output_type": "execute_result"
                }
            ],
            "source": [
                "# len=408599\n",
                "len(df_jobs)\n"
            ]
        },
        {
            "cell_type": "code",
            "execution_count": 34,
            "id": "7cd29095",
            "metadata": {},
            "outputs": [],
            "source": [
                "# Drop na, empty strings, punctuations, and keep only sentences of length more than 0\n",
                "with open(f'{data_dir}punctuations.txt', 'rb') as f:\n",
                "    custom_punct_chars = pickle.load(f)\n",
                "\n",
                "df_jobs = df_jobs.dropna(subset=['Job Description'])\n",
                "df_jobs = df_jobs.loc[\n",
                "    (df_jobs['Job Description spacy_sentencized'].isnull() == False)\n",
                "    & (df_jobs['Job Description spacy_sentencized'].isna() == False)\n",
                "    & (df_jobs['Job Description spacy_sentencized'].notnull() == True)\n",
                "    & (df_jobs['Job Description spacy_sentencized'].notna() == True)\n",
                "    & (df_jobs['Job Description spacy_sentencized'].astype(bool) == True)\n",
                "    & (df_jobs['Job Description spacy_sentencized'].apply(len) > 0)\n",
                "    & (pd.isna(df_jobs['Job Description spacy_sentencized']) == False)\n",
                "    & (df_jobs['Job Description spacy_sentencized'].astype(str).isin(custom_punct_chars) == False)\n",
                "    & (df_jobs['Job Description spacy_sentencized'].astype(str).isin(non_whitespace_nan_list) == False)\n",
                "    & (df_jobs['Job Description spacy_sentencized'].astype(str).isin(list(string.punctuation)) == False)\n",
                "    & (df_jobs['Job Description spacy_sentencized'].astype(str).isin(list(string.whitespace)) == False)\n",
                "]\n",
                "df_jobs = df_jobs.dropna(subset=['Job Description'])\n"
            ]
        },
        {
            "cell_type": "code",
            "execution_count": 35,
            "id": "0a7e681d",
            "metadata": {},
            "outputs": [
                {
                    "data": {
                        "text/plain": [
                            "408599"
                        ]
                    },
                    "execution_count": 35,
                    "metadata": {},
                    "output_type": "execute_result"
                }
            ],
            "source": [
                "# len=408599\n",
                "len(df_jobs)\n"
            ]
        },
        {
            "cell_type": "code",
            "execution_count": 36,
            "id": "32e9c3c5",
            "metadata": {},
            "outputs": [
                {
                    "data": {
                        "text/plain": [
                            "0                                     About Our Client\n",
                            "1    The Global KYC organisation is part of ING's C...\n",
                            "2    Its purpose is Enabling people and organisatio...\n",
                            "3    Our Global KYC organisation is a first line of...\n",
                            "4    In our Global KYC organisation you will be wor...\n",
                            "Name: Job Description spacy_sentencized, dtype: object"
                        ]
                    },
                    "execution_count": 36,
                    "metadata": {},
                    "output_type": "execute_result"
                }
            ],
            "source": [
                "df_jobs['Job Description spacy_sentencized'].head()\n"
            ]
        },
        {
            "cell_type": "code",
            "execution_count": 37,
            "id": "41c40efc",
            "metadata": {},
            "outputs": [
                {
                    "data": {
                        "text/plain": [
                            "count        408599\n",
                            "unique       217622\n",
                            "top       Amsterdam\n",
                            "freq           1410\n",
                            "Name: Job Description spacy_sentencized, dtype: object"
                        ]
                    },
                    "execution_count": 37,
                    "metadata": {},
                    "output_type": "execute_result"
                }
            ],
            "source": [
                "df_jobs['Job Description spacy_sentencized'].describe()\n"
            ]
        },
        {
            "cell_type": "code",
            "execution_count": 38,
            "id": "0503a4e8",
            "metadata": {},
            "outputs": [],
            "source": [
                "df_jobs['Job Description spacy_sentencized'] = df_jobs['Job Description spacy_sentencized'].dropna()\n"
            ]
        },
        {
            "cell_type": "code",
            "execution_count": 39,
            "id": "19b1e42d",
            "metadata": {},
            "outputs": [
                {
                    "data": {
                        "text/plain": [
                            "408599"
                        ]
                    },
                    "execution_count": 39,
                    "metadata": {},
                    "output_type": "execute_result"
                }
            ],
            "source": [
                "# len=408599\n",
                "len(df_jobs)\n"
            ]
        },
        {
            "cell_type": "code",
            "execution_count": 40,
            "id": "d8bd1020",
            "metadata": {},
            "outputs": [
                {
                    "data": {
                        "text/plain": [
                            "0                                     About Our Client\n",
                            "1    The Global KYC organisation is part of ING's C...\n",
                            "2    Its purpose is Enabling people and organisatio...\n",
                            "3    Our Global KYC organisation is a first line of...\n",
                            "4    In our Global KYC organisation you will be wor...\n",
                            "Name: Job Description spacy_sentencized, dtype: object"
                        ]
                    },
                    "execution_count": 40,
                    "metadata": {},
                    "output_type": "execute_result"
                }
            ],
            "source": [
                "df_jobs['Job Description spacy_sentencized'].head()\n"
            ]
        },
        {
            "cell_type": "code",
            "execution_count": 41,
            "id": "8b43c29f",
            "metadata": {},
            "outputs": [
                {
                    "data": {
                        "text/plain": [
                            "count        408599\n",
                            "unique       217622\n",
                            "top       Amsterdam\n",
                            "freq           1410\n",
                            "Name: Job Description spacy_sentencized, dtype: object"
                        ]
                    },
                    "execution_count": 41,
                    "metadata": {},
                    "output_type": "execute_result"
                }
            ],
            "source": [
                "# count=408599, unique=217622\n",
                "df_jobs['Job Description spacy_sentencized'].describe()\n"
            ]
        },
        {
            "cell_type": "code",
            "execution_count": 42,
            "id": "794d6f3c",
            "metadata": {},
            "outputs": [
                {
                    "name": "stderr",
                    "output_type": "stream",
                    "text": [
                        "408599it [2:33:34, 44.35it/s] "
                    ]
                },
                {
                    "name": "stdout",
                    "output_type": "stream",
                    "text": [
                        "CPU times: user 2h 10min 35s, sys: 16min 2s, total: 2h 26min 38s\n",
                        "Wall time: 2h 33min 34s\n"
                    ]
                },
                {
                    "name": "stderr",
                    "output_type": "stream",
                    "text": [
                        "\n"
                    ]
                }
            ],
            "source": [
                "%%time\n",
                "with open(f'{data_dir}punctuations.txt', 'rb') as f:\n",
                "    custom_punct_chars = pickle.load(f)\n",
                "\n",
                "for idx, row in tqdm.tqdm(df_jobs['Job Description spacy_sentencized'].items()):\n",
                "    cleaned_job_sentence = row.split()\n",
                "    cleaned_job_sentence = list(\n",
                "        filter(\n",
                "            lambda items: (\n",
                "                item is not None\n",
                "                and isinstance(item, str)\n",
                "                and item not in nan_list\n",
                "                and item not in list(string.whitespace)\n",
                "                and item in list(string.printable)\n",
                "                for item in items\n",
                "            ),\n",
                "            cleaned_job_sentence\n",
                "        )\n",
                "    )\n",
                "    cleaned_job_sentence = ' '.join(cleaned_job_sentence).strip()\n",
                "\n",
                "    if len(cleaned_job_sentence.split()) > 2:\n",
                "        df_jobs.loc[idx, 'Job Description spacy_sentencized'] = cleaned_job_sentence\n",
                "    else:\n",
                "        df_jobs = df_jobs.drop(idx)\n"
            ]
        },
        {
            "cell_type": "code",
            "execution_count": 43,
            "id": "ca6e0b77",
            "metadata": {},
            "outputs": [
                {
                    "data": {
                        "text/plain": [
                            "347914"
                        ]
                    },
                    "execution_count": 43,
                    "metadata": {},
                    "output_type": "execute_result"
                }
            ],
            "source": [
                "# len = 347914\n",
                "len(df_jobs)"
            ]
        },
        {
            "cell_type": "code",
            "execution_count": 44,
            "id": "95891a51",
            "metadata": {},
            "outputs": [
                {
                    "data": {
                        "text/plain": [
                            "0                                     About Our Client\n",
                            "1    The Global KYC organisation is part of ING's C...\n",
                            "2    Its purpose is Enabling people and organisatio...\n",
                            "3    Our Global KYC organisation is a first line of...\n",
                            "4    In our Global KYC organisation you will be wor...\n",
                            "Name: Job Description spacy_sentencized, dtype: object"
                        ]
                    },
                    "execution_count": 44,
                    "metadata": {},
                    "output_type": "execute_result"
                }
            ],
            "source": [
                "df_jobs['Job Description spacy_sentencized'].head()\n"
            ]
        },
        {
            "cell_type": "code",
            "execution_count": 45,
            "id": "f0d396b3",
            "metadata": {},
            "outputs": [
                {
                    "data": {
                        "text/plain": [
                            "count            347914\n",
                            "unique           202343\n",
                            "top       What we offer\n",
                            "freq                484\n",
                            "Name: Job Description spacy_sentencized, dtype: object"
                        ]
                    },
                    "execution_count": 45,
                    "metadata": {},
                    "output_type": "execute_result"
                }
            ],
            "source": [
                "# count=347914, unique=202343\n",
                "df_jobs['Job Description spacy_sentencized'].describe()\n"
            ]
        },
        {
            "cell_type": "code",
            "execution_count": 46,
            "id": "5ea0e092",
            "metadata": {},
            "outputs": [],
            "source": [
                "df_jobs['Job Description spacy_sentencized'] = df_jobs['Job Description spacy_sentencized'].dropna()\n"
            ]
        },
        {
            "cell_type": "code",
            "execution_count": 47,
            "id": "0c639a80",
            "metadata": {},
            "outputs": [],
            "source": [
                "df_jobs['Job Description spacy_sentencized'] = df_jobs['Job Description spacy_sentencized'].apply(lambda x: unicodedata.normalize('NFKD', x.encode('ascii', 'ignore').decode('utf-8', 'ignore')))\n"
            ]
        },
        {
            "cell_type": "code",
            "execution_count": 48,
            "id": "e34a03dc",
            "metadata": {},
            "outputs": [
                {
                    "data": {
                        "text/plain": [
                            "347914"
                        ]
                    },
                    "execution_count": 48,
                    "metadata": {},
                    "output_type": "execute_result"
                }
            ],
            "source": [
                "# len = 347914\n",
                "len(df_jobs)\n"
            ]
        },
        {
            "cell_type": "code",
            "execution_count": 49,
            "id": "3ae1dcc7",
            "metadata": {},
            "outputs": [
                {
                    "data": {
                        "text/plain": [
                            "0                                     About Our Client\n",
                            "1    The Global KYC organisation is part of ING's C...\n",
                            "2    Its purpose is Enabling people and organisatio...\n",
                            "3    Our Global KYC organisation is a first line of...\n",
                            "4    In our Global KYC organisation you will be wor...\n",
                            "Name: Job Description spacy_sentencized, dtype: object"
                        ]
                    },
                    "execution_count": 49,
                    "metadata": {},
                    "output_type": "execute_result"
                }
            ],
            "source": [
                "df_jobs['Job Description spacy_sentencized'].head()\n"
            ]
        },
        {
            "cell_type": "code",
            "execution_count": 50,
            "id": "dbc2f7ff",
            "metadata": {},
            "outputs": [
                {
                    "data": {
                        "text/plain": [
                            "count            347914\n",
                            "unique           202343\n",
                            "top       What we offer\n",
                            "freq                484\n",
                            "Name: Job Description spacy_sentencized, dtype: object"
                        ]
                    },
                    "execution_count": 50,
                    "metadata": {},
                    "output_type": "execute_result"
                }
            ],
            "source": [
                "# count=347914, unique=202343\n",
                "df_jobs['Job Description spacy_sentencized'].describe()\n"
            ]
        },
        {
            "cell_type": "code",
            "execution_count": 51,
            "id": "61de05bb",
            "metadata": {},
            "outputs": [],
            "source": [
                "# Remove duplicate sentences from the same job ad\n",
                "df_jobs = df_jobs.drop_duplicates(subset=['Job ID', 'Job Description spacy_sentencized'])\n"
            ]
        },
        {
            "cell_type": "code",
            "execution_count": 52,
            "id": "75385881",
            "metadata": {},
            "outputs": [
                {
                    "data": {
                        "text/plain": [
                            "307464"
                        ]
                    },
                    "execution_count": 52,
                    "metadata": {},
                    "output_type": "execute_result"
                }
            ],
            "source": [
                "# len = 307464\n",
                "len(df_jobs)\n"
            ]
        },
        {
            "cell_type": "code",
            "execution_count": 53,
            "id": "004beb18",
            "metadata": {},
            "outputs": [
                {
                    "data": {
                        "text/plain": [
                            "count            307464\n",
                            "unique           202343\n",
                            "top       What we offer\n",
                            "freq                404\n",
                            "Name: Job Description spacy_sentencized, dtype: object"
                        ]
                    },
                    "execution_count": 53,
                    "metadata": {},
                    "output_type": "execute_result"
                }
            ],
            "source": [
                "# count=307464, unique=202343\n",
                "df_jobs['Job Description spacy_sentencized'].describe()\n"
            ]
        },
        {
            "cell_type": "code",
            "execution_count": 54,
            "id": "85d25bc1",
            "metadata": {},
            "outputs": [],
            "source": [
                "df_jobs['Job Description spacy_sentencized'] = df_jobs['Job Description spacy_sentencized'].dropna()\n"
            ]
        },
        {
            "cell_type": "code",
            "execution_count": 55,
            "id": "06530ffb",
            "metadata": {},
            "outputs": [
                {
                    "data": {
                        "text/plain": [
                            "307464"
                        ]
                    },
                    "execution_count": 55,
                    "metadata": {},
                    "output_type": "execute_result"
                }
            ],
            "source": [
                "# len=307464\n",
                "len(df_jobs)\n"
            ]
        },
        {
            "cell_type": "code",
            "execution_count": 56,
            "id": "6479fa85",
            "metadata": {},
            "outputs": [
                {
                    "data": {
                        "text/plain": [
                            "0                                     About Our Client\n",
                            "1    The Global KYC organisation is part of ING's C...\n",
                            "2    Its purpose is Enabling people and organisatio...\n",
                            "3    Our Global KYC organisation is a first line of...\n",
                            "4    In our Global KYC organisation you will be wor...\n",
                            "Name: Job Description spacy_sentencized, dtype: object"
                        ]
                    },
                    "execution_count": 56,
                    "metadata": {},
                    "output_type": "execute_result"
                }
            ],
            "source": [
                "df_jobs['Job Description spacy_sentencized'].head()\n"
            ]
        },
        {
            "cell_type": "code",
            "execution_count": 57,
            "id": "f731381d",
            "metadata": {},
            "outputs": [],
            "source": [
                "# Drop na, empty strings, punctuations, and keep only sentences of length more than 0\n",
                "with open(f'{data_dir}punctuations.txt', 'rb') as f:\n",
                "    custom_punct_chars = pickle.load(f)\n",
                "\n",
                "df_jobs = df_jobs.dropna(subset=['Job Description spacy_sentencized'])\n",
                "df_jobs = df_jobs.loc[\n",
                "    (df_jobs['Job Description spacy_sentencized'].isnull() == False)\n",
                "    & (df_jobs['Job Description spacy_sentencized'].isna() == False)\n",
                "    & (df_jobs['Job Description spacy_sentencized'].notnull() == True)\n",
                "    & (df_jobs['Job Description spacy_sentencized'].notna() == True)\n",
                "    & (df_jobs['Job Description spacy_sentencized'].astype(bool) == True)\n",
                "    & (df_jobs['Job Description spacy_sentencized'].astype(str).apply(len) > 0)\n",
                "    & (pd.isna(df_jobs['Job Description spacy_sentencized']) == False)\n",
                "]\n"
            ]
        },
        {
            "cell_type": "code",
            "execution_count": 58,
            "id": "4afc36eb",
            "metadata": {},
            "outputs": [
                {
                    "data": {
                        "text/plain": [
                            "307464"
                        ]
                    },
                    "execution_count": 58,
                    "metadata": {},
                    "output_type": "execute_result"
                }
            ],
            "source": [
                "# len=307464\n",
                "len(df_jobs)"
            ]
        },
        {
            "cell_type": "code",
            "execution_count": 59,
            "id": "cd546cec",
            "metadata": {},
            "outputs": [
                {
                    "data": {
                        "text/plain": [
                            "count            307464\n",
                            "unique           202343\n",
                            "top       What we offer\n",
                            "freq                404\n",
                            "Name: Job Description spacy_sentencized, dtype: object"
                        ]
                    },
                    "execution_count": 59,
                    "metadata": {},
                    "output_type": "execute_result"
                }
            ],
            "source": [
                "# count=307464, unique=202343\n",
                "df_jobs['Job Description spacy_sentencized'].describe()\n"
            ]
        },
        {
            "cell_type": "code",
            "execution_count": 60,
            "id": "488f6a5a",
            "metadata": {},
            "outputs": [],
            "source": [
                "df_jobs['Job Description spacy_sentencized'] = df_jobs['Job Description spacy_sentencized'].apply(lambda x: ' '.join(re.split(pattern, x)))\n"
            ]
        },
        {
            "cell_type": "code",
            "execution_count": 61,
            "id": "6ebd2583",
            "metadata": {},
            "outputs": [
                {
                    "data": {
                        "text/plain": [
                            "'This starts with performing the actual installation as per procedure and training at the customers site and is followed by troubleshooting, performing repairs, maintenance activities and installing upgrades to our system You will cooperate closely with our Sales team and thus contribute to ramping up our business In more detail, you and mount the Phenospex plant measurement systems and perform quality control checks to ensure correct functioning and customer satisfactionprovide support and training to the customer on the application of the automation technologies and user interfacesregularly interface with technical staff, such as Project Managers and Engineers, both at Phenospex and at the customers site to ensure that installation requirements on site are met in time before the installationdeliver troubleshooting and diagnostic support services to ensure that all products and services function properly and resolve technical support inquiries directlyinform customers on preventive maintenance and complete maintenance of the systems as requiredprovide the CCO with a detailed installation report upon project completionplan service assignments in assigned territories independently and combine trips to different service sites wiselyprovide support during trade showswork in close collaboration with the Sales Service teamprovide training to relevant groups at Phenospexlog and keep records of all incoming issues and findings in the CRM system and internal databaseanalyze logs to spot common trends and underlying problemssupport the operations team with performing a variety of production development and repairrefurbishment workcomplete special assignments as requestedmaintain a safe and healthy work environment by following and complying with all health and safety policies, procedures and legislation in the workshop and on sitea degree in Biotechnology or Bioinformatics Engineering with focus on plants or a degree in Plant Physiology with a strong interest in technologya passion for working with your hands along with excellent technical and mechanical skillsfamiliarity with the Linux operating system and commands Debiana strong customer focus mentality and passion for challenges and troubleshootingstrong communication skills and good verbal and written English any other language is beneficialexcellent organizational skillsflexibility to travel on short notice and for longer periods of time worldwide roughly 50 of timea valid EU work permit and drivers license'"
                        ]
                    },
                    "execution_count": 61,
                    "metadata": {},
                    "output_type": "execute_result"
                }
            ],
            "source": [
                "# Get the longest sentence\n",
                "df_jobs['Job Description spacy_sentencized'].loc[df_jobs['Job Description spacy_sentencized'].apply(len).idxmax()]\n"
            ]
        },
        {
            "cell_type": "code",
            "execution_count": 62,
            "id": "01e9fc82",
            "metadata": {},
            "outputs": [
                {
                    "data": {
                        "text/plain": [
                            "2496"
                        ]
                    },
                    "execution_count": 62,
                    "metadata": {},
                    "output_type": "execute_result"
                }
            ],
            "source": [
                "# len=2496\n",
                "df_jobs['Job Description spacy_sentencized'].apply(len).max()\n"
            ]
        },
        {
            "cell_type": "code",
            "execution_count": 63,
            "id": "994e6919",
            "metadata": {},
            "outputs": [
                {
                    "data": {
                        "text/plain": [
                            "'24 x 7'"
                        ]
                    },
                    "execution_count": 63,
                    "metadata": {},
                    "output_type": "execute_result"
                }
            ],
            "source": [
                "# Get the shortest sentence\n",
                "df_jobs['Job Description spacy_sentencized'].loc[df_jobs['Job Description spacy_sentencized'].apply(len).idxmin()]\n"
            ]
        },
        {
            "cell_type": "code",
            "execution_count": 64,
            "id": "2c8092c0",
            "metadata": {},
            "outputs": [
                {
                    "data": {
                        "text/plain": [
                            "6"
                        ]
                    },
                    "execution_count": 64,
                    "metadata": {},
                    "output_type": "execute_result"
                }
            ],
            "source": [
                "# len=6\n",
                "df_jobs['Job Description spacy_sentencized'].apply(len).min()\n"
            ]
        },
        {
            "cell_type": "code",
            "execution_count": 65,
            "id": "94345b75",
            "metadata": {},
            "outputs": [
                {
                    "data": {
                        "application/vnd.jupyter.widget-view+json": {
                            "model_id": "2679fb0017124e678008fe1b430079ad",
                            "version_major": 2,
                            "version_minor": 0
                        },
                        "text/plain": [
                            "progress-bar:   0%|          | 0/307464 [00:00<?, ?it/s]"
                        ]
                    },
                    "metadata": {},
                    "output_type": "display_data"
                },
                {
                    "name": "stdout",
                    "output_type": "stream",
                    "text": [
                        "CPU times: user 5min 41s, sys: 12.1 s, total: 5min 53s\n",
                        "Wall time: 6min 2s\n"
                    ]
                }
            ],
            "source": [
                "%%time\n",
                "# Get sentence word frequencies\n",
                "df_jobs = df_jobs.progress_apply(\n",
                "    lambda row: get_word_num_and_frequency(\n",
                "        row=row, text_col='Job Description spacy_sentencized'\n",
                "    ), \n",
                "    axis='columns',\n",
                ")\n"
            ]
        },
        {
            "cell_type": "code",
            "execution_count": 66,
            "id": "aa853d04",
            "metadata": {},
            "outputs": [
                {
                    "data": {
                        "text/html": [
                            "<div>\n",
                            "<style scoped>\n",
                            "    .dataframe tbody tr th:only-of-type {\n",
                            "        vertical-align: middle;\n",
                            "    }\n",
                            "\n",
                            "    .dataframe tbody tr th {\n",
                            "        vertical-align: top;\n",
                            "    }\n",
                            "\n",
                            "    .dataframe thead th {\n",
                            "        text-align: right;\n",
                            "    }\n",
                            "</style>\n",
                            "<table border=\"1\" class=\"dataframe\">\n",
                            "  <thead>\n",
                            "    <tr style=\"text-align: center;\">\n",
                            "      <th></th>\n",
                            "      <th>Job Description spacy_sentencized</th>\n",
                            "      <th>Job Description num_words</th>\n",
                            "      <th>Job Description num_unique_words</th>\n",
                            "      <th>Job Description num_chars</th>\n",
                            "      <th>Job Description num_chars_no_whitespact_and_punt</th>\n",
                            "    </tr>\n",
                            "  </thead>\n",
                            "  <tbody>\n",
                            "    <tr>\n",
                            "      <th>0</th>\n",
                            "      <td>About Our Client</td>\n",
                            "      <td>3</td>\n",
                            "      <td>3</td>\n",
                            "      <td>16</td>\n",
                            "      <td>14</td>\n",
                            "    </tr>\n",
                            "    <tr>\n",
                            "      <th>1</th>\n",
                            "      <td>The Global KYC organisation is part of ING's C...</td>\n",
                            "      <td>10</td>\n",
                            "      <td>10</td>\n",
                            "      <td>56</td>\n",
                            "      <td>45</td>\n",
                            "    </tr>\n",
                            "    <tr>\n",
                            "      <th>2</th>\n",
                            "      <td>Its purpose is Enabling people and organisatio...</td>\n",
                            "      <td>20</td>\n",
                            "      <td>19</td>\n",
                            "      <td>131</td>\n",
                            "      <td>111</td>\n",
                            "    </tr>\n",
                            "    <tr>\n",
                            "      <th>3</th>\n",
                            "      <td>Our Global KYC organisation is a first line of...</td>\n",
                            "      <td>34</td>\n",
                            "      <td>31</td>\n",
                            "      <td>239</td>\n",
                            "      <td>203</td>\n",
                            "    </tr>\n",
                            "    <tr>\n",
                            "      <th>4</th>\n",
                            "      <td>In our Global KYC organisation you will be wor...</td>\n",
                            "      <td>18</td>\n",
                            "      <td>18</td>\n",
                            "      <td>128</td>\n",
                            "      <td>109</td>\n",
                            "    </tr>\n",
                            "  </tbody>\n",
                            "</table>\n",
                            "</div>"
                        ],
                        "text/plain": [
                            "          Job Description spacy_sentencized           Job Description num_words  Job Description num_unique_words  Job Description num_chars  Job Description num_chars_no_whitespact_and_punt\n",
                            "0                                   About Our Client              3                              3                             16                                     14                      \n",
                            "1  The Global KYC organisation is part of ING's C...             10                             10                             56                                     45                      \n",
                            "2  Its purpose is Enabling people and organisatio...             20                             19                            131                                    111                      \n",
                            "3  Our Global KYC organisation is a first line of...             34                             31                            239                                    203                      \n",
                            "4  In our Global KYC organisation you will be wor...             18                             18                            128                                    109                      "
                        ]
                    },
                    "execution_count": 66,
                    "metadata": {},
                    "output_type": "execute_result"
                }
            ],
            "source": [
                "df_jobs[\n",
                "    [\n",
                "        'Job Description spacy_sentencized',\n",
                "        'Job Description num_words', 'Job Description num_unique_words',\n",
                "        'Job Description num_chars', 'Job Description num_chars_no_whitespact_and_punt'\n",
                "    ]\n",
                "].head()"
            ]
        },
        {
            "cell_type": "code",
            "execution_count": 67,
            "id": "20c91bfe",
            "metadata": {},
            "outputs": [
                {
                    "data": {
                        "text/plain": [
                            "349"
                        ]
                    },
                    "execution_count": 67,
                    "metadata": {},
                    "output_type": "execute_result"
                }
            ],
            "source": [
                "# Get the longest sentence words = 349\n",
                "df_jobs['Job Description num_words'].max()\n"
            ]
        },
        {
            "cell_type": "code",
            "execution_count": 68,
            "id": "169963d6",
            "metadata": {},
            "outputs": [
                {
                    "data": {
                        "text/plain": [
                            "'This starts with performing the actual installation as per procedure and training at the customers site and is followed by troubleshooting, performing repairs, maintenance activities and installing upgrades to our system You will cooperate closely with our Sales team and thus contribute to ramping up our business In more detail, you and mount the Phenospex plant measurement systems and perform quality control checks to ensure correct functioning and customer satisfactionprovide support and training to the customer on the application of the automation technologies and user interfacesregularly interface with technical staff, such as Project Managers and Engineers, both at Phenospex and at the customers site to ensure that installation requirements on site are met in time before the installationdeliver troubleshooting and diagnostic support services to ensure that all products and services function properly and resolve technical support inquiries directlyinform customers on preventive maintenance and complete maintenance of the systems as requiredprovide the CCO with a detailed installation report upon project completionplan service assignments in assigned territories independently and combine trips to different service sites wiselyprovide support during trade showswork in close collaboration with the Sales Service teamprovide training to relevant groups at Phenospexlog and keep records of all incoming issues and findings in the CRM system and internal databaseanalyze logs to spot common trends and underlying problemssupport the operations team with performing a variety of production development and repairrefurbishment workcomplete special assignments as requestedmaintain a safe and healthy work environment by following and complying with all health and safety policies, procedures and legislation in the workshop and on sitea degree in Biotechnology or Bioinformatics Engineering with focus on plants or a degree in Plant Physiology with a strong interest in technologya passion for working with your hands along with excellent technical and mechanical skillsfamiliarity with the Linux operating system and commands Debiana strong customer focus mentality and passion for challenges and troubleshootingstrong communication skills and good verbal and written English any other language is beneficialexcellent organizational skillsflexibility to travel on short notice and for longer periods of time worldwide roughly 50 of timea valid EU work permit and drivers license'"
                        ]
                    },
                    "execution_count": 68,
                    "metadata": {},
                    "output_type": "execute_result"
                }
            ],
            "source": [
                "# Get the sentence with the max words\n",
                "df_jobs['Job Description spacy_sentencized'].loc[df_jobs['Job Description num_words'].idxmax()]\n"
            ]
        },
        {
            "cell_type": "code",
            "execution_count": 69,
            "id": "ad25b505",
            "metadata": {},
            "outputs": [
                {
                    "data": {
                        "text/plain": [
                            "3"
                        ]
                    },
                    "execution_count": 69,
                    "metadata": {},
                    "output_type": "execute_result"
                }
            ],
            "source": [
                "# Get the longest sentence words = 3\n",
                "df_jobs['Job Description num_words'].min()\n"
            ]
        },
        {
            "cell_type": "code",
            "execution_count": 70,
            "id": "731d94bd",
            "metadata": {},
            "outputs": [
                {
                    "data": {
                        "text/plain": [
                            "'About Our Client'"
                        ]
                    },
                    "execution_count": 70,
                    "metadata": {},
                    "output_type": "execute_result"
                }
            ],
            "source": [
                "# Get the sentence with the min words\n",
                "df_jobs['Job Description spacy_sentencized'].loc[df_jobs['Job Description num_words'].idxmin()]\n"
            ]
        },
        {
            "cell_type": "code",
            "execution_count": 71,
            "id": "bc21643d",
            "metadata": {},
            "outputs": [
                {
                    "data": {
                        "application/vnd.jupyter.widget-view+json": {
                            "model_id": "25e4785478874b5da09520ffa73a648a",
                            "version_major": 2,
                            "version_minor": 0
                        },
                        "text/plain": [
                            "progress-bar:   0%|          | 0/307464 [00:00<?, ?it/s]"
                        ]
                    },
                    "metadata": {},
                    "output_type": "display_data"
                }
            ],
            "source": [
                "df_jobs['Job Description spacy_sentencized_lower'] = df_jobs['Job Description spacy_sentencized'].progress_apply(\n",
                "    lambda job_sentence: job_sentence.strip().lower()\n",
                ")\n"
            ]
        },
        {
            "cell_type": "code",
            "execution_count": 72,
            "id": "1b8dac3e",
            "metadata": {},
            "outputs": [
                {
                    "data": {
                        "text/html": [
                            "<div>\n",
                            "<style scoped>\n",
                            "    .dataframe tbody tr th:only-of-type {\n",
                            "        vertical-align: middle;\n",
                            "    }\n",
                            "\n",
                            "    .dataframe tbody tr th {\n",
                            "        vertical-align: top;\n",
                            "    }\n",
                            "\n",
                            "    .dataframe thead th {\n",
                            "        text-align: right;\n",
                            "    }\n",
                            "</style>\n",
                            "<table border=\"1\" class=\"dataframe\">\n",
                            "  <thead>\n",
                            "    <tr style=\"text-align: center;\">\n",
                            "      <th></th>\n",
                            "      <th>Job Description spacy_sentencized</th>\n",
                            "      <th>Job Description spacy_sentencized_lower</th>\n",
                            "    </tr>\n",
                            "  </thead>\n",
                            "  <tbody>\n",
                            "    <tr>\n",
                            "      <th>0</th>\n",
                            "      <td>About Our Client</td>\n",
                            "      <td>about our client</td>\n",
                            "    </tr>\n",
                            "    <tr>\n",
                            "      <th>1</th>\n",
                            "      <td>The Global KYC organisation is part of ING's C...</td>\n",
                            "      <td>the global kyc organisation is part of ing's c...</td>\n",
                            "    </tr>\n",
                            "    <tr>\n",
                            "      <th>2</th>\n",
                            "      <td>Its purpose is Enabling people and organisatio...</td>\n",
                            "      <td>its purpose is enabling people and organisatio...</td>\n",
                            "    </tr>\n",
                            "    <tr>\n",
                            "      <th>3</th>\n",
                            "      <td>Our Global KYC organisation is a first line of...</td>\n",
                            "      <td>our global kyc organisation is a first line of...</td>\n",
                            "    </tr>\n",
                            "    <tr>\n",
                            "      <th>4</th>\n",
                            "      <td>In our Global KYC organisation you will be wor...</td>\n",
                            "      <td>in our global kyc organisation you will be wor...</td>\n",
                            "    </tr>\n",
                            "  </tbody>\n",
                            "</table>\n",
                            "</div>"
                        ],
                        "text/plain": [
                            "          Job Description spacy_sentencized               Job Description spacy_sentencized_lower      \n",
                            "0                                   About Our Client                                   about our client\n",
                            "1  The Global KYC organisation is part of ING's C...  the global kyc organisation is part of ing's c...\n",
                            "2  Its purpose is Enabling people and organisatio...  its purpose is enabling people and organisatio...\n",
                            "3  Our Global KYC organisation is a first line of...  our global kyc organisation is a first line of...\n",
                            "4  In our Global KYC organisation you will be wor...  in our global kyc organisation you will be wor..."
                        ]
                    },
                    "execution_count": 72,
                    "metadata": {},
                    "output_type": "execute_result"
                }
            ],
            "source": [
                "df_jobs[['Job Description spacy_sentencized', 'Job Description spacy_sentencized_lower']].head()\n"
            ]
        },
        {
            "cell_type": "code",
            "execution_count": 73,
            "id": "7133bfd6",
            "metadata": {},
            "outputs": [
                {
                    "name": "stdout",
                    "output_type": "stream",
                    "text": [
                        "CPU times: user 2min 8s, sys: 370 ms, total: 2min 9s\n",
                        "Wall time: 2min 10s\n"
                    ]
                }
            ],
            "source": [
                "%%time\n",
                "# Add language requirement column\n",
                "# Use regex to find language requirement\n",
                "dutch_requirement_pattern = r'[Dd]utch [Pp]referred | [Dd]utch [Re]quired | [Dd]utch [Ll]anguage |[Pp]roficient in [Dd]utch |[Ss]peak [Dd]utch | [Kk]now [Dd]utch | [Ff]luent in [Dd]utch | [Dd]utch [Nn]ative | * [Dd]utch [Ll]evel'\n",
                "english_requirement_pattern = r'[Ee]nglish [Pp]referred | [Ee]nglish [Re]quired | [Ee]nglish [Ll]anguage |[Pp]roficient in [Ee]nglish |[Ss]peak [Ee]nglish | [Kk]now [Ee]nglish | [Ff]luent in [Ee]nglish | [Ee]nglish [Nn]ative | * [Ee]nglish [Ll]evel'\n",
                "\n",
                "lang_requirements = {\n",
                "    'Dutch Requirement in Sentence': dutch_requirement_pattern, 'English Requirement in Sentence': english_requirement_pattern\n",
                "}\n",
                "\n",
                "for lang_req, lang_req_pattern in lang_requirements.items():\n",
                "\n",
                "    if lang_req in df_jobs.columns:\n",
                "        df_jobs = df_jobs.drop(columns=[lang_req])\n",
                "    df_jobs[lang_req] = np.where(\n",
                "        df_jobs['Job Description'].str.contains(lang_req_pattern),\n",
                "        'Yes',\n",
                "        'No',\n",
                "    )\n",
                "    df_jobs[lang_req] = df_jobs[lang_req].astype('category').cat.reorder_categories(['No', 'Yes'], ordered=True)\n",
                "    df_jobs[lang_req] = pd.Categorical(df_jobs[lang_req], categories=['No', 'Yes'], ordered=True)\n"
            ]
        },
        {
            "cell_type": "code",
            "execution_count": 74,
            "id": "e4744096",
            "metadata": {},
            "outputs": [
                {
                    "data": {
                        "text/plain": [
                            "No     298655\n",
                            "Yes      8809\n",
                            "Name: Dutch Requirement in Job Ad, dtype: int64"
                        ]
                    },
                    "execution_count": 74,
                    "metadata": {},
                    "output_type": "execute_result"
                }
            ],
            "source": [
                "# Yes = 8809 job sentences\n",
                "df_jobs['Dutch Requirement in Job Ad'].value_counts()\n"
            ]
        },
        {
            "cell_type": "code",
            "execution_count": 75,
            "id": "aad0097b",
            "metadata": {},
            "outputs": [
                {
                    "data": {
                        "text/plain": [
                            "No     291456\n",
                            "Yes     16008\n",
                            "Name: English Requirement in Job Ad, dtype: int64"
                        ]
                    },
                    "execution_count": 75,
                    "metadata": {},
                    "output_type": "execute_result"
                }
            ],
            "source": [
                "# Yes = 16008 job sentences\n",
                "df_jobs['English Requirement in Job Ad'].value_counts()\n"
            ]
        },
        {
            "cell_type": "code",
            "execution_count": 76,
            "id": "25dad11d",
            "metadata": {},
            "outputs": [],
            "source": [
                "assert len(df_jobs) > 0 and isinstance(df_jobs, pd.DataFrame), f'ERORR: LENGTH OF DF = {len(df_jobs)}'\n",
                "df_jobs.to_pickle(f'{df_save_dir}df_jobs_sentencized_validated.pkl')\n",
                "df_jobs.to_csv(f'{df_save_dir}df_jobs_sentencized_validated.csv', index=False)\n"
            ]
        },
        {
            "attachments": {},
            "cell_type": "markdown",
            "id": "4e568b2c",
            "metadata": {},
            "source": [
                "# Use spacy to tokenize sentences"
            ]
        },
        {
            "attachments": {},
            "cell_type": "markdown",
            "id": "e4e1c487",
            "metadata": {},
            "source": [
                "### START HERE IF SOURCING FROM DF_JOBS_SENTENCIZED_VALIDATED\n",
                "### PLEASE SET CORRECT DIRECTORY PATHS BELOW"
            ]
        },
        {
            "cell_type": "code",
            "execution_count": 77,
            "id": "c288f82e",
            "metadata": {},
            "outputs": [],
            "source": [
                "import os # type:ignore # isort:skip # fmt:skip # noqa # nopep8\n",
                "import sys # type:ignore # isort:skip # fmt:skip # noqa # nopep8\n",
                "from pathlib import Path # type:ignore # isort:skip # fmt:skip # noqa # nopep8\n",
                "\n",
                "mod = sys.modules[__name__]\n",
                "\n",
                "code_dir = None\n",
                "code_dir_name = 'Code'\n",
                "unwanted_subdir_name = 'Analysis'\n",
                "\n",
                "for _ in range(5):\n",
                "\n",
                "    parent_path = str(Path.cwd().parents[_]).split('/')[-1]\n",
                "\n",
                "    if (code_dir_name in parent_path) and (unwanted_subdir_name not in parent_path):\n",
                "\n",
                "        code_dir = str(Path.cwd().parents[_])\n",
                "\n",
                "        if code_dir is not None:\n",
                "            break\n",
                "\n",
                "sys.path.append(code_dir)\n",
                "# %load_ext autoreload\n",
                "# %autoreload 2\n"
            ]
        },
        {
            "cell_type": "code",
            "execution_count": 78,
            "id": "d09c526c",
            "metadata": {},
            "outputs": [],
            "source": [
                "from setup_module.imports import * # type:ignore # isort:skip # fmt:skip # noqa # nopep8\n"
            ]
        },
        {
            "cell_type": "code",
            "execution_count": 79,
            "id": "8eeb47a5",
            "metadata": {},
            "outputs": [],
            "source": [
                "df_jobs = pd.read_pickle(f'{df_save_dir}df_jobs_sentencized_validated.pkl')\n"
            ]
        },
        {
            "cell_type": "code",
            "execution_count": 80,
            "id": "1cf56055",
            "metadata": {},
            "outputs": [
                {
                    "data": {
                        "application/vnd.jupyter.widget-view+json": {
                            "model_id": "4eb0bdf76f2745a7891351345b336927",
                            "version_major": 2,
                            "version_minor": 0
                        },
                        "text/plain": [
                            "progress-bar:   0%|          | 0/307464 [00:00<?, ?it/s]"
                        ]
                    },
                    "metadata": {},
                    "output_type": "display_data"
                },
                {
                    "name": "stdout",
                    "output_type": "stream",
                    "text": [
                        "CPU times: user 37.3 s, sys: 1.72 s, total: 39.1 s\n",
                        "Wall time: 41.5 s\n"
                    ]
                }
            ],
            "source": [
                "%%time\n",
                "# Spacy tokenize\n",
                "with open(f'{data_dir}punctuations.txt', 'rb') as f:\n",
                "    custom_punct_chars = pickle.load(f)\n",
                "\n",
                "df_jobs['Job Description spacy_tokenized'] = df_jobs['Job Description spacy_sentencized'].progress_apply(\n",
                "    lambda job_sentence: [\n",
                "        str(token.text.strip().lower())\n",
                "        for token in nlp.tokenizer(job_sentence)\n",
                "        if token.text is not None\n",
                "        and len(token) != 0\n",
                "        and len(token.text) != 0\n",
                "        and bool(token)\n",
                "        and bool(token.text)\n",
                "        and token.text != '...'\n",
                "        and not token.is_space\n",
                "        and not token.is_punct\n",
                "        and not token.is_quote\n",
                "        and not token.is_bracket\n",
                "        and not token.like_email\n",
                "    ]\n",
                ")\n",
                "\n",
                "assert len(df_jobs) > 0 and isinstance(df_jobs, pd.DataFrame), f'ERORR: LENGTH OF DF = {len(df_jobs)}'\n",
                "df_jobs.to_pickle(f'{df_save_dir}df_jobs_tokenized_spacy.pkl')\n",
                "df_jobs.to_csv(f'{df_save_dir}df_jobs_tokenized_spacy.csv', index=False)\n"
            ]
        },
        {
            "cell_type": "code",
            "execution_count": 81,
            "id": "bd443d94",
            "metadata": {},
            "outputs": [],
            "source": [
                "df_jobs['Job Description spacy_sentencized_cleaned'] = df_jobs['Job Description spacy_tokenized'].str.join(' ')\n"
            ]
        },
        {
            "cell_type": "code",
            "execution_count": 82,
            "id": "dbaea2bc",
            "metadata": {},
            "outputs": [
                {
                    "name": "stdout",
                    "output_type": "stream",
                    "text": [
                        "<class 'pandas.core.frame.DataFrame'>\n",
                        "Int64Index: 307464 entries, 0 to 408598\n",
                        "Data columns (total 72 columns):\n",
                        " #   Column                                            Non-Null Count   Dtype   \n",
                        "---  ------                                            --------------   -----   \n",
                        " 0   Search Keyword                                    307464 non-null  object  \n",
                        " 1   Platform                                          307464 non-null  object  \n",
                        " 2   Job ID                                            307464 non-null  object  \n",
                        " 3   Job Title                                         307464 non-null  object  \n",
                        " 4   Company Name                                      307454 non-null  object  \n",
                        " 5   Location                                          307464 non-null  object  \n",
                        " 6   Job Description                                   307464 non-null  object  \n",
                        " 7   Rating                                            165995 non-null  float64 \n",
                        " 8   Employment Type                                   281338 non-null  object  \n",
                        " 9   Company URL                                       300868 non-null  object  \n",
                        " 10  Job URL                                           307464 non-null  object  \n",
                        " 11  Job Age                                           307464 non-null  object  \n",
                        " 12  Job Age Number                                    307464 non-null  object  \n",
                        " 13  Collection Date                                   307464 non-null  object  \n",
                        " 14  Data Row                                          141328 non-null  float64 \n",
                        " 15  Tracking ID                                       141328 non-null  object  \n",
                        " 16  Industry                                          167595 non-null  object  \n",
                        " 17  Job Date                                          141469 non-null  object  \n",
                        " 18  Type of ownership                                 26126 non-null   object  \n",
                        " 19  Language                                          307464 non-null  object  \n",
                        " 20  Dutch Requirement in Job Ad                       307464 non-null  object  \n",
                        " 21  English Requirement in Job Ad                     307464 non-null  object  \n",
                        " 22  Dutch Requirement in Job Ad_No                    307464 non-null  int64   \n",
                        " 23  Dutch Requirement in Job Ad_Yes                   307464 non-null  int64   \n",
                        " 24  English Requirement in Job Ad_No                  307464 non-null  int64   \n",
                        " 25  English Requirement in Job Ad_Yes                 307464 non-null  int64   \n",
                        " 26  Sector Code                                       307464 non-null  object  \n",
                        " 27  Sector                                            307464 non-null  object  \n",
                        " 28  Keywords Count                                    307464 non-null  float64 \n",
                        " 29  Gender_Female_n                                   307464 non-null  float64 \n",
                        " 30  Gender_Female_% per Sector                        307464 non-null  float64 \n",
                        " 31  Gender_Female_% per Social Category               307464 non-null  float64 \n",
                        " 32  Gender_Female_% per Workforce                     307464 non-null  float64 \n",
                        " 33  Gender_Male_n                                     307464 non-null  float64 \n",
                        " 34  Gender_Male_% per Sector                          307464 non-null  float64 \n",
                        " 35  Gender_Male_% per Social Category                 307464 non-null  float64 \n",
                        " 36  Gender_Male_% per Workforce                       307464 non-null  float64 \n",
                        " 37  Gender                                            307464 non-null  object  \n",
                        " 38  Age_Older_n                                       307464 non-null  float64 \n",
                        " 39  Age_Older_% per Sector                            307464 non-null  float64 \n",
                        " 40  Age_Older_% per Social Category                   307464 non-null  float64 \n",
                        " 41  Age_Older_% per Workforce                         307464 non-null  float64 \n",
                        " 42  Age_Younger_n                                     307464 non-null  float64 \n",
                        " 43  Age_Younger_% per Sector                          307464 non-null  float64 \n",
                        " 44  Age_Younger_% per Social Category                 307464 non-null  float64 \n",
                        " 45  Age_Younger_% per Workforce                       307464 non-null  float64 \n",
                        " 46  Age                                               307464 non-null  object  \n",
                        " 47  Sector_n                                          307464 non-null  float64 \n",
                        " 48  % Sector per Workforce                            307464 non-null  float64 \n",
                        " 49  Gender_Female                                     307464 non-null  int64   \n",
                        " 50  Gender_Male                                       307464 non-null  int64   \n",
                        " 51  Gender_Mixed                                      307464 non-null  int64   \n",
                        " 52  Age_Mixed                                         307464 non-null  int64   \n",
                        " 53  Age_Older                                         307464 non-null  int64   \n",
                        " 54  Age_Younger                                       307464 non-null  int64   \n",
                        " 55  Gender_Num                                        307464 non-null  int64   \n",
                        " 56  Age_Num                                           307464 non-null  int64   \n",
                        " 57  Platform_Num                                      307464 non-null  int64   \n",
                        " 58  Platform_LinkedIn                                 307464 non-null  int64   \n",
                        " 59  Platform_Indeed                                   307464 non-null  int64   \n",
                        " 60  Platform_Glassdoor                                307464 non-null  int64   \n",
                        " 61  Job Description spacy_sentencized                 307464 non-null  object  \n",
                        " 62  Job Description num_words                         307464 non-null  int64   \n",
                        " 63  Job Description num_unique_words                  307464 non-null  int64   \n",
                        " 64  Job Description num_chars                         307464 non-null  int64   \n",
                        " 65  Job Description num_chars_no_whitespact_and_punt  307464 non-null  int64   \n",
                        " 66  Job Description num_punctuations                  307464 non-null  int64   \n",
                        " 67  Job Description spacy_sentencized_lower           307464 non-null  object  \n",
                        " 68  Dutch Requirement in Sentence                     307464 non-null  category\n",
                        " 69  English Requirement in Sentence                   307464 non-null  category\n",
                        " 70  Job Description spacy_tokenized                   307464 non-null  object  \n",
                        " 71  Job Description spacy_sentencized_cleaned         307464 non-null  object  \n",
                        "dtypes: category(2), float64(21), int64(21), object(28)\n",
                        "memory usage: 167.1+ MB\n"
                    ]
                }
            ],
            "source": [
                "df_jobs.info()\n"
            ]
        },
        {
            "cell_type": "code",
            "execution_count": 83,
            "id": "b24c9976",
            "metadata": {},
            "outputs": [
                {
                    "data": {
                        "text/plain": [
                            "Index(['Search Keyword', 'Platform', 'Job ID', 'Job Title', 'Company Name', 'Location', 'Job Description', 'Rating', 'Employment Type', 'Company URL', 'Job URL', 'Job Age', 'Job Age Number', 'Collection Date', 'Data Row', 'Tracking ID', 'Industry', 'Job Date', 'Type of ownership', 'Language', 'Dutch Requirement in Job Ad', 'English Requirement in Job Ad', 'Dutch Requirement in Job Ad_No', 'Dutch Requirement in Job Ad_Yes', 'English Requirement in Job Ad_No', 'English Requirement in Job Ad_Yes', 'Sector Code', 'Sector', 'Keywords Count', 'Gender_Female_n', 'Gender_Female_% per Sector', 'Gender_Female_% per Social Category', 'Gender_Female_% per Workforce', 'Gender_Male_n', 'Gender_Male_% per Sector', 'Gender_Male_% per Social Category', 'Gender_Male_% per Workforce', 'Gender', 'Age_Older_n', 'Age_Older_% per Sector', 'Age_Older_% per Social Category', 'Age_Older_% per Workforce', 'Age_Younger_n', 'Age_Younger_% per Sector', 'Age_Younger_% per Social Category', 'Age_Younger_% per Workforce', 'Age', 'Sector_n', '% Sector per Workforce', 'Gender_Female', 'Gender_Male', 'Gender_Mixed', 'Age_Mixed', 'Age_Older', 'Age_Younger', 'Gender_Num', 'Age_Num', 'Platform_Num', 'Platform_LinkedIn', 'Platform_Indeed', 'Platform_Glassdoor', 'Job Description spacy_sentencized', 'Job Description num_words', 'Job Description num_unique_words', 'Job Description num_chars', 'Job Description num_chars_no_whitespact_and_punt', 'Job Description num_punctuations', 'Job Description spacy_sentencized_lower', 'Dutch Requirement in Sentence', 'English Requirement in Sentence', 'Job Description spacy_tokenized', 'Job Description spacy_sentencized_cleaned'], dtype='object')"
                        ]
                    },
                    "execution_count": 83,
                    "metadata": {},
                    "output_type": "execute_result"
                }
            ],
            "source": [
                "df_jobs.columns\n"
            ]
        },
        {
            "cell_type": "code",
            "execution_count": 84,
            "id": "ba33d712",
            "metadata": {},
            "outputs": [
                {
                    "name": "stdout",
                    "output_type": "stream",
                    "text": [
                        "\n",
                        "DF INFO:\n",
                        "\n",
                        "<class 'pandas.core.frame.DataFrame'>\n",
                        "Int64Index: 307464 entries, 0 to 408598\n",
                        "Data columns (total 72 columns):\n",
                        " #   Column                                            Non-Null Count   Dtype   \n",
                        "---  ------                                            --------------   -----   \n",
                        " 0   Search Keyword                                    307464 non-null  object  \n",
                        " 1   Platform                                          307464 non-null  object  \n",
                        " 2   Job ID                                            307464 non-null  object  \n",
                        " 3   Job Title                                         307464 non-null  object  \n",
                        " 4   Company Name                                      307454 non-null  object  \n",
                        " 5   Location                                          307464 non-null  object  \n",
                        " 6   Job Description                                   307464 non-null  object  \n",
                        " 7   Rating                                            165995 non-null  float64 \n",
                        " 8   Employment Type                                   281338 non-null  object  \n",
                        " 9   Company URL                                       300868 non-null  object  \n",
                        " 10  Job URL                                           307464 non-null  object  \n",
                        " 11  Job Age                                           307464 non-null  object  \n",
                        " 12  Job Age Number                                    307464 non-null  object  \n",
                        " 13  Collection Date                                   307464 non-null  object  \n",
                        " 14  Data Row                                          141328 non-null  float64 \n",
                        " 15  Tracking ID                                       141328 non-null  object  \n",
                        " 16  Industry                                          167595 non-null  object  \n",
                        " 17  Job Date                                          141469 non-null  object  \n",
                        " 18  Type of ownership                                 26126 non-null   object  \n",
                        " 19  Language                                          307464 non-null  object  \n",
                        " 20  Dutch Requirement in Job Ad                       307464 non-null  object  \n",
                        " 21  English Requirement in Job Ad                     307464 non-null  object  \n",
                        " 22  Dutch Requirement in Job Ad_No                    307464 non-null  int64   \n",
                        " 23  Dutch Requirement in Job Ad_Yes                   307464 non-null  int64   \n",
                        " 24  English Requirement in Job Ad_No                  307464 non-null  int64   \n",
                        " 25  English Requirement in Job Ad_Yes                 307464 non-null  int64   \n",
                        " 26  Sector Code                                       307464 non-null  object  \n",
                        " 27  Sector                                            307464 non-null  object  \n",
                        " 28  Keywords Count                                    307464 non-null  float64 \n",
                        " 29  Gender_Female_n                                   307464 non-null  float64 \n",
                        " 30  Gender_Female_% per Sector                        307464 non-null  float64 \n",
                        " 31  Gender_Female_% per Social Category               307464 non-null  float64 \n",
                        " 32  Gender_Female_% per Workforce                     307464 non-null  float64 \n",
                        " 33  Gender_Male_n                                     307464 non-null  float64 \n",
                        " 34  Gender_Male_% per Sector                          307464 non-null  float64 \n",
                        " 35  Gender_Male_% per Social Category                 307464 non-null  float64 \n",
                        " 36  Gender_Male_% per Workforce                       307464 non-null  float64 \n",
                        " 37  Gender                                            307464 non-null  object  \n",
                        " 38  Age_Older_n                                       307464 non-null  float64 \n",
                        " 39  Age_Older_% per Sector                            307464 non-null  float64 \n",
                        " 40  Age_Older_% per Social Category                   307464 non-null  float64 \n",
                        " 41  Age_Older_% per Workforce                         307464 non-null  float64 \n",
                        " 42  Age_Younger_n                                     307464 non-null  float64 \n",
                        " 43  Age_Younger_% per Sector                          307464 non-null  float64 \n",
                        " 44  Age_Younger_% per Social Category                 307464 non-null  float64 \n",
                        " 45  Age_Younger_% per Workforce                       307464 non-null  float64 \n",
                        " 46  Age                                               307464 non-null  object  \n",
                        " 47  Sector_n                                          307464 non-null  float64 \n",
                        " 48  % Sector per Workforce                            307464 non-null  float64 \n",
                        " 49  Gender_Female                                     307464 non-null  int64   \n",
                        " 50  Gender_Male                                       307464 non-null  int64   \n",
                        " 51  Gender_Mixed                                      307464 non-null  int64   \n",
                        " 52  Age_Mixed                                         307464 non-null  int64   \n",
                        " 53  Age_Older                                         307464 non-null  int64   \n",
                        " 54  Age_Younger                                       307464 non-null  int64   \n",
                        " 55  Gender_Num                                        307464 non-null  int64   \n",
                        " 56  Age_Num                                           307464 non-null  int64   \n",
                        " 57  Platform_Num                                      307464 non-null  int64   \n",
                        " 58  Platform_LinkedIn                                 307464 non-null  int64   \n",
                        " 59  Platform_Indeed                                   307464 non-null  int64   \n",
                        " 60  Platform_Glassdoor                                307464 non-null  int64   \n",
                        " 61  Job Description spacy_sentencized                 307464 non-null  object  \n",
                        " 62  Job Description num_words                         307464 non-null  int64   \n",
                        " 63  Job Description num_unique_words                  307464 non-null  int64   \n",
                        " 64  Job Description num_chars                         307464 non-null  int64   \n",
                        " 65  Job Description num_chars_no_whitespact_and_punt  307464 non-null  int64   \n",
                        " 66  Job Description num_punctuations                  307464 non-null  int64   \n",
                        " 67  Job Description spacy_sentencized_lower           307464 non-null  object  \n",
                        " 68  Dutch Requirement in Sentence                     307464 non-null  category\n",
                        " 69  English Requirement in Sentence                   307464 non-null  category\n",
                        " 70  Job Description spacy_tokenized                   307464 non-null  object  \n",
                        " 71  Job Description spacy_sentencized_cleaned         307464 non-null  object  \n",
                        "dtypes: category(2), float64(21), int64(21), object(28)\n",
                        "memory usage: 167.1+ MB\n",
                        "====================\n",
                        "Gender:\n",
                        "--------------------\n",
                        "Gender Counts:\n",
                        "Mixed Gender    116565\n",
                        "Male            112738\n",
                        "Female           78161\n",
                        "Name: Gender, dtype: int64\n",
                        "--------------------\n",
                        "Gender Percentages:\n",
                        "Mixed Gender   37.90\n",
                        "Male           36.70\n",
                        "Female         25.40\n",
                        "Name: Gender, dtype: float64\n",
                        "--------------------\n",
                        "Min Gender value: Female\n",
                        "Max Gender value: Mixed Gender\n",
                        "--------------------\n",
                        "====================\n",
                        "Gender_Num:\n",
                        "--------------------\n",
                        "Gender_Num Counts:\n",
                        "1    116565\n",
                        "2    112738\n",
                        "0     78161\n",
                        "Name: Gender_Num, dtype: int64\n",
                        "--------------------\n",
                        "Gender_Num Percentages:\n",
                        "1   37.90\n",
                        "2   36.70\n",
                        "0   25.40\n",
                        "Name: Gender_Num, dtype: float64\n",
                        "--------------------\n",
                        "Min Gender_Num value: 0\n",
                        "Max Gender_Num value: 2\n",
                        "--------------------\n",
                        "Gender_Num Mean: 1.11\n",
                        "--------------------\n",
                        "Gender_Num Standard Deviation: 0.78\n",
                        "====================\n",
                        "Gender_Female:\n",
                        "--------------------\n",
                        "Gender_Female Counts:\n",
                        "0    229303\n",
                        "1     78161\n",
                        "Name: Gender_Female, dtype: int64\n",
                        "--------------------\n",
                        "Gender_Female Percentages:\n",
                        "0   74.60\n",
                        "1   25.40\n",
                        "Name: Gender_Female, dtype: float64\n",
                        "--------------------\n",
                        "Min Gender_Female value: 0\n",
                        "Max Gender_Female value: 1\n",
                        "--------------------\n",
                        "Gender_Female Mean: 0.25\n",
                        "--------------------\n",
                        "Gender_Female Standard Deviation: 0.44\n",
                        "====================\n",
                        "Gender_Mixed:\n",
                        "--------------------\n",
                        "Gender_Mixed Counts:\n",
                        "0    190899\n",
                        "1    116565\n",
                        "Name: Gender_Mixed, dtype: int64\n",
                        "--------------------\n",
                        "Gender_Mixed Percentages:\n",
                        "0   62.10\n",
                        "1   37.90\n",
                        "Name: Gender_Mixed, dtype: float64\n",
                        "--------------------\n",
                        "Min Gender_Mixed value: 0\n",
                        "Max Gender_Mixed value: 1\n",
                        "--------------------\n",
                        "Gender_Mixed Mean: 0.38\n",
                        "--------------------\n",
                        "Gender_Mixed Standard Deviation: 0.49\n",
                        "====================\n",
                        "Gender_Male:\n",
                        "--------------------\n",
                        "Gender_Male Counts:\n",
                        "0    194726\n",
                        "1    112738\n",
                        "Name: Gender_Male, dtype: int64\n",
                        "--------------------\n",
                        "Gender_Male Percentages:\n",
                        "0   63.30\n",
                        "1   36.70\n",
                        "Name: Gender_Male, dtype: float64\n",
                        "--------------------\n",
                        "Min Gender_Male value: 0\n",
                        "Max Gender_Male value: 1\n",
                        "--------------------\n",
                        "Gender_Male Mean: 0.37\n",
                        "--------------------\n",
                        "Gender_Male Standard Deviation: 0.48\n",
                        "====================\n",
                        "Gender_Female_n:\n",
                        "--------------------\n",
                        "Min Gender_Female_n value: 7.0\n",
                        "Max Gender_Female_n value: 3970.0\n",
                        "--------------------\n",
                        "Gender_Female_n Mean: 656.76\n",
                        "--------------------\n",
                        "Gender_Female_n Standard Deviation: 1047.62\n",
                        "====================\n",
                        "Gender_Male_n:\n",
                        "--------------------\n",
                        "Min Gender_Male_n value: 21.0\n",
                        "Max Gender_Male_n value: 4510.0\n",
                        "--------------------\n",
                        "Gender_Male_n Mean: 712.02\n",
                        "--------------------\n",
                        "Gender_Male_n Standard Deviation: 1235.19\n",
                        "====================\n",
                        "Gender_Female_% per Sector:\n",
                        "--------------------\n",
                        "Min Gender_Female_% per Sector value: 12.5\n",
                        "Max Gender_Female_% per Sector value: 84.2986741102582\n",
                        "--------------------\n",
                        "Gender_Female_% per Sector Mean: 45.36\n",
                        "--------------------\n",
                        "Gender_Female_% per Sector Standard Deviation: 19.49\n",
                        "====================\n",
                        "Gender_Male_% per Sector:\n",
                        "--------------------\n",
                        "Min Gender_Male_% per Sector value: 15.631542219120725\n",
                        "Max Gender_Male_% per Sector value: 87.5\n",
                        "--------------------\n",
                        "Gender_Male_% per Sector Mean: 54.6\n",
                        "--------------------\n",
                        "Gender_Male_% per Sector Standard Deviation: 19.52\n",
                        "====================\n",
                        "Age:\n",
                        "--------------------\n",
                        "Age Counts:\n",
                        "Mixed Age    197743\n",
                        "Older         62773\n",
                        "Younger       46948\n",
                        "Name: Age, dtype: int64\n",
                        "--------------------\n",
                        "Age Percentages:\n",
                        "Mixed Age   64.30\n",
                        "Older       20.40\n",
                        "Younger     15.30\n",
                        "Name: Age, dtype: float64\n",
                        "--------------------\n",
                        "Min Age value: Mixed Age\n",
                        "Max Age value: Younger\n",
                        "--------------------\n",
                        "====================\n",
                        "Age_Num:\n",
                        "--------------------\n",
                        "Age_Num Counts:\n",
                        "1    197743\n",
                        "0     62773\n",
                        "2     46948\n",
                        "Name: Age_Num, dtype: int64\n",
                        "--------------------\n",
                        "Age_Num Percentages:\n",
                        "1   64.30\n",
                        "0   20.40\n",
                        "2   15.30\n",
                        "Name: Age_Num, dtype: float64\n",
                        "--------------------\n",
                        "Min Age_Num value: 0\n",
                        "Max Age_Num value: 2\n",
                        "--------------------\n",
                        "Age_Num Mean: 0.95\n",
                        "--------------------\n",
                        "Age_Num Standard Deviation: 0.6\n",
                        "====================\n",
                        "Age_Older:\n",
                        "--------------------\n",
                        "Age_Older Counts:\n",
                        "0    244691\n",
                        "1     62773\n",
                        "Name: Age_Older, dtype: int64\n",
                        "--------------------\n",
                        "Age_Older Percentages:\n",
                        "0   79.60\n",
                        "1   20.40\n",
                        "Name: Age_Older, dtype: float64\n",
                        "--------------------\n",
                        "Min Age_Older value: 0\n",
                        "Max Age_Older value: 1\n",
                        "--------------------\n",
                        "Age_Older Mean: 0.2\n",
                        "--------------------\n",
                        "Age_Older Standard Deviation: 0.4\n",
                        "====================\n",
                        "Age_Mixed:\n",
                        "--------------------\n",
                        "Age_Mixed Counts:\n",
                        "1    197743\n",
                        "0    109721\n",
                        "Name: Age_Mixed, dtype: int64\n",
                        "--------------------\n",
                        "Age_Mixed Percentages:\n",
                        "1   64.30\n",
                        "0   35.70\n",
                        "Name: Age_Mixed, dtype: float64\n",
                        "--------------------\n",
                        "Min Age_Mixed value: 0\n",
                        "Max Age_Mixed value: 1\n",
                        "--------------------\n",
                        "Age_Mixed Mean: 0.64\n",
                        "--------------------\n",
                        "Age_Mixed Standard Deviation: 0.48\n",
                        "====================\n",
                        "Age_Younger:\n",
                        "--------------------\n",
                        "Age_Younger Counts:\n",
                        "0    260516\n",
                        "1     46948\n",
                        "Name: Age_Younger, dtype: int64\n",
                        "--------------------\n",
                        "Age_Younger Percentages:\n",
                        "0   84.70\n",
                        "1   15.30\n",
                        "Name: Age_Younger, dtype: float64\n",
                        "--------------------\n",
                        "Min Age_Younger value: 0\n",
                        "Max Age_Younger value: 1\n",
                        "--------------------\n",
                        "Age_Younger Mean: 0.15\n",
                        "--------------------\n",
                        "Age_Younger Standard Deviation: 0.36\n",
                        "====================\n",
                        "Age_Older_n:\n",
                        "--------------------\n",
                        "Min Age_Older_n value: 15.0\n",
                        "Max Age_Older_n value: 2844.0\n",
                        "--------------------\n",
                        "Age_Older_n Mean: 528.39\n",
                        "--------------------\n",
                        "Age_Older_n Standard Deviation: 796.61\n",
                        "====================\n",
                        "Age_Younger_n:\n",
                        "--------------------\n",
                        "Min Age_Younger_n value: 13.0\n",
                        "Max Age_Younger_n value: 5228.0\n",
                        "--------------------\n",
                        "Age_Younger_n Mean: 839.99\n",
                        "--------------------\n",
                        "Age_Younger_n Standard Deviation: 1437.57\n",
                        "====================\n",
                        "Age_Older_% per Sector:\n",
                        "--------------------\n",
                        "Min Age_Older_% per Sector value: 18.939393939393938\n",
                        "Max Age_Older_% per Sector value: 58.333333333333336\n",
                        "--------------------\n",
                        "Age_Older_% per Sector Mean: 40.86\n",
                        "--------------------\n",
                        "Age_Older_% per Sector Standard Deviation: 10.12\n",
                        "====================\n",
                        "Age_Younger_% per Sector:\n",
                        "--------------------\n",
                        "Min Age_Younger_% per Sector value: 44.44444444444444\n",
                        "Max Age_Younger_% per Sector value: 80.8080808080808\n",
                        "--------------------\n",
                        "Age_Younger_% per Sector Mean: 59.04\n",
                        "--------------------\n",
                        "Age_Younger_% per Sector Standard Deviation: 9.98\n",
                        "\n",
                        "\n"
                    ]
                }
            ],
            "source": [
                "# Job Sentence info\n",
                "get_df_info(df_jobs, ivs_all=ivs_all)\n"
            ]
        },
        {
            "cell_type": "code",
            "execution_count": 85,
            "id": "5deddb9d",
            "metadata": {},
            "outputs": [],
            "source": [
                "assert len(df_jobs) > 0 and isinstance(df_jobs, pd.DataFrame), f'ERORR: LENGTH OF DF = {len(df_jobs)}'\n",
                "df_jobs.to_pickle(f'{df_save_dir}df_jobs_tokenized_spacy.pkl')\n",
                "df_jobs.to_csv(f'{df_save_dir}df_jobs_tokenized_spacy.csv', index=False)\n"
            ]
        },
        {
            "cell_type": "markdown",
            "id": "e7f002d2",
            "metadata": {},
            "source": [
                "# Use NLTK to tokenize sentences\n"
            ]
        },
        {
            "cell_type": "markdown",
            "id": "92922872",
            "metadata": {},
            "source": [
                "### START HERE IF SOURCING FROM DF_JOBS_TOKENIZED_SPACY\n",
                "### PLEASE SET CORRECT DIRECTORY PATHS BELOW\n"
            ]
        },
        {
            "cell_type": "code",
            "execution_count": 86,
            "id": "9fae46f4",
            "metadata": {},
            "outputs": [],
            "source": [
                "import os # type:ignore # isort:skip # fmt:skip # noqa # nopep8\n",
                "import sys # type:ignore # isort:skip # fmt:skip # noqa # nopep8\n",
                "from pathlib import Path # type:ignore # isort:skip # fmt:skip # noqa # nopep8\n",
                "\n",
                "mod = sys.modules[__name__]\n",
                "\n",
                "code_dir = None\n",
                "code_dir_name = 'Code'\n",
                "unwanted_subdir_name = 'Analysis'\n",
                "\n",
                "for _ in range(5):\n",
                "\n",
                "    parent_path = str(Path.cwd().parents[_]).split('/')[-1]\n",
                "\n",
                "    if (code_dir_name in parent_path) and (unwanted_subdir_name not in parent_path):\n",
                "\n",
                "        code_dir = str(Path.cwd().parents[_])\n",
                "\n",
                "        if code_dir is not None:\n",
                "            break\n",
                "\n",
                "sys.path.append(code_dir)\n",
                "# %load_ext autoreload\n",
                "# %autoreload 2\n"
            ]
        },
        {
            "cell_type": "code",
            "execution_count": 87,
            "id": "e7cbbc2a",
            "metadata": {},
            "outputs": [],
            "source": [
                "from setup_module.imports import * # type:ignore # isort:skip # fmt:skip # noqa # nopep8\n"
            ]
        },
        {
            "cell_type": "code",
            "execution_count": 88,
            "id": "5011ea0a",
            "metadata": {},
            "outputs": [],
            "source": [
                "df_jobs = pd.read_pickle(f'{df_save_dir}df_jobs_tokenized_spacy.pkl')\n"
            ]
        },
        {
            "cell_type": "code",
            "execution_count": 89,
            "id": "9c8a9f1e",
            "metadata": {},
            "outputs": [
                {
                    "name": "stdout",
                    "output_type": "stream",
                    "text": [
                        "<class 'pandas.core.frame.DataFrame'>\n",
                        "Int64Index: 307464 entries, 0 to 408598\n",
                        "Data columns (total 72 columns):\n",
                        " #   Column                                            Non-Null Count   Dtype   \n",
                        "---  ------                                            --------------   -----   \n",
                        " 0   Search Keyword                                    307464 non-null  object  \n",
                        " 1   Platform                                          307464 non-null  object  \n",
                        " 2   Job ID                                            307464 non-null  object  \n",
                        " 3   Job Title                                         307464 non-null  object  \n",
                        " 4   Company Name                                      307454 non-null  object  \n",
                        " 5   Location                                          307464 non-null  object  \n",
                        " 6   Job Description                                   307464 non-null  object  \n",
                        " 7   Rating                                            165995 non-null  float64 \n",
                        " 8   Employment Type                                   281338 non-null  object  \n",
                        " 9   Company URL                                       300868 non-null  object  \n",
                        " 10  Job URL                                           307464 non-null  object  \n",
                        " 11  Job Age                                           307464 non-null  object  \n",
                        " 12  Job Age Number                                    307464 non-null  object  \n",
                        " 13  Collection Date                                   307464 non-null  object  \n",
                        " 14  Data Row                                          141328 non-null  float64 \n",
                        " 15  Tracking ID                                       141328 non-null  object  \n",
                        " 16  Industry                                          167595 non-null  object  \n",
                        " 17  Job Date                                          141469 non-null  object  \n",
                        " 18  Type of ownership                                 26126 non-null   object  \n",
                        " 19  Language                                          307464 non-null  object  \n",
                        " 20  Dutch Requirement in Job Ad                       307464 non-null  object  \n",
                        " 21  English Requirement in Job Ad                     307464 non-null  object  \n",
                        " 22  Dutch Requirement in Job Ad_No                    307464 non-null  int64   \n",
                        " 23  Dutch Requirement in Job Ad_Yes                   307464 non-null  int64   \n",
                        " 24  English Requirement in Job Ad_No                  307464 non-null  int64   \n",
                        " 25  English Requirement in Job Ad_Yes                 307464 non-null  int64   \n",
                        " 26  Sector Code                                       307464 non-null  object  \n",
                        " 27  Sector                                            307464 non-null  object  \n",
                        " 28  Keywords Count                                    307464 non-null  float64 \n",
                        " 29  Gender_Female_n                                   307464 non-null  float64 \n",
                        " 30  Gender_Female_% per Sector                        307464 non-null  float64 \n",
                        " 31  Gender_Female_% per Social Category               307464 non-null  float64 \n",
                        " 32  Gender_Female_% per Workforce                     307464 non-null  float64 \n",
                        " 33  Gender_Male_n                                     307464 non-null  float64 \n",
                        " 34  Gender_Male_% per Sector                          307464 non-null  float64 \n",
                        " 35  Gender_Male_% per Social Category                 307464 non-null  float64 \n",
                        " 36  Gender_Male_% per Workforce                       307464 non-null  float64 \n",
                        " 37  Gender                                            307464 non-null  object  \n",
                        " 38  Age_Older_n                                       307464 non-null  float64 \n",
                        " 39  Age_Older_% per Sector                            307464 non-null  float64 \n",
                        " 40  Age_Older_% per Social Category                   307464 non-null  float64 \n",
                        " 41  Age_Older_% per Workforce                         307464 non-null  float64 \n",
                        " 42  Age_Younger_n                                     307464 non-null  float64 \n",
                        " 43  Age_Younger_% per Sector                          307464 non-null  float64 \n",
                        " 44  Age_Younger_% per Social Category                 307464 non-null  float64 \n",
                        " 45  Age_Younger_% per Workforce                       307464 non-null  float64 \n",
                        " 46  Age                                               307464 non-null  object  \n",
                        " 47  Sector_n                                          307464 non-null  float64 \n",
                        " 48  % Sector per Workforce                            307464 non-null  float64 \n",
                        " 49  Gender_Female                                     307464 non-null  int64   \n",
                        " 50  Gender_Male                                       307464 non-null  int64   \n",
                        " 51  Gender_Mixed                                      307464 non-null  int64   \n",
                        " 52  Age_Mixed                                         307464 non-null  int64   \n",
                        " 53  Age_Older                                         307464 non-null  int64   \n",
                        " 54  Age_Younger                                       307464 non-null  int64   \n",
                        " 55  Gender_Num                                        307464 non-null  int64   \n",
                        " 56  Age_Num                                           307464 non-null  int64   \n",
                        " 57  Platform_Num                                      307464 non-null  int64   \n",
                        " 58  Platform_LinkedIn                                 307464 non-null  int64   \n",
                        " 59  Platform_Indeed                                   307464 non-null  int64   \n",
                        " 60  Platform_Glassdoor                                307464 non-null  int64   \n",
                        " 61  Job Description spacy_sentencized                 307464 non-null  object  \n",
                        " 62  Job Description num_words                         307464 non-null  int64   \n",
                        " 63  Job Description num_unique_words                  307464 non-null  int64   \n",
                        " 64  Job Description num_chars                         307464 non-null  int64   \n",
                        " 65  Job Description num_chars_no_whitespact_and_punt  307464 non-null  int64   \n",
                        " 66  Job Description num_punctuations                  307464 non-null  int64   \n",
                        " 67  Job Description spacy_sentencized_lower           307464 non-null  object  \n",
                        " 68  Dutch Requirement in Sentence                     307464 non-null  category\n",
                        " 69  English Requirement in Sentence                   307464 non-null  category\n",
                        " 70  Job Description spacy_tokenized                   307464 non-null  object  \n",
                        " 71  Job Description spacy_sentencized_cleaned         307464 non-null  object  \n",
                        "dtypes: category(2), float64(21), int64(21), object(28)\n",
                        "memory usage: 167.1+ MB\n"
                    ]
                }
            ],
            "source": [
                "df_jobs.info()\n"
            ]
        },
        {
            "cell_type": "code",
            "execution_count": 90,
            "id": "4475248f",
            "metadata": {},
            "outputs": [
                {
                    "data": {
                        "application/vnd.jupyter.widget-view+json": {
                            "model_id": "7caf7fe59c0b412085e0b707da85f0c2",
                            "version_major": 2,
                            "version_minor": 0
                        },
                        "text/plain": [
                            "progress-bar:   0%|          | 0/307464 [00:00<?, ?it/s]"
                        ]
                    },
                    "metadata": {},
                    "output_type": "display_data"
                },
                {
                    "name": "stdout",
                    "output_type": "stream",
                    "text": [
                        "CPU times: user 5min 26s, sys: 1min 40s, total: 7min 7s\n",
                        "Wall time: 7min 14s\n"
                    ]
                }
            ],
            "source": [
                "%%time\n",
                "# Tokenize with NLTK\n",
                "stop_words = set(stopwords.words('english'))\n",
                "punctuations = list(string.punctuation)\n",
                "lemmatizer = WordNetLemmatizer()\n",
                "stemmer = PorterStemmer()\n",
                "\n",
                "df_jobs['Job Description nltk_tokenized'] = df_jobs['Job Description spacy_sentencized'].progress_apply(\n",
                "    lambda job_sentence: [\n",
                "        str(token.strip().lower()) \n",
                "        for token in word_tokenize(job_sentence) \n",
                "        if len(token) != 0 \n",
                "        and token != '...' \n",
                "        and not token.lower() in nan_list\n",
                "        and not token.lower() in custom_punct_chars\n",
                "        and not token.lower() in set(stopwords.words('english')) \n",
                "        and not token.lower() in list(string.punctuation)\n",
                "        and not token.lower() in list(string.whitespace)\n",
                "        and (t.lower() in list(string.printable) for t in token.lower())\n",
                "    ]\n",
                ")\n",
                "\n",
                "assert len(df_jobs) > 0 and isinstance(df_jobs, pd.DataFrame), f'ERORR: LENGTH OF DF = {len(df_jobs)}'\n",
                "df_jobs.to_pickle(f'{df_save_dir}df_jobs_tokenized_spacy_nltk.pkl')\n",
                "df_jobs.to_csv(f'{df_save_dir}df_jobs_tokenized_spacy_nltk.csv', index=False)\n"
            ]
        },
        {
            "cell_type": "code",
            "execution_count": 91,
            "id": "3bbd5d3f",
            "metadata": {},
            "outputs": [
                {
                    "data": {
                        "text/plain": [
                            "0                                             [client]\n",
                            "1    [global, kyc, organisation, part, ing, 's, coo...\n",
                            "2    [purpose, enabling, people, organisations, use...\n",
                            "3    [global, kyc, organisation, first, line, defen...\n",
                            "4    [global, kyc, organisation, working, many, col...\n",
                            "Name: Job Description nltk_tokenized, dtype: object"
                        ]
                    },
                    "execution_count": 91,
                    "metadata": {},
                    "output_type": "execute_result"
                }
            ],
            "source": [
                "df_jobs['Job Description nltk_tokenized'].head()\n"
            ]
        },
        {
            "cell_type": "code",
            "execution_count": 92,
            "id": "99aef0ec",
            "metadata": {},
            "outputs": [
                {
                    "data": {
                        "text/plain": [
                            "count     307464\n",
                            "unique    193344\n",
                            "top           []\n",
                            "freq        1173\n",
                            "Name: Job Description nltk_tokenized, dtype: object"
                        ]
                    },
                    "execution_count": 92,
                    "metadata": {},
                    "output_type": "execute_result"
                }
            ],
            "source": [
                "df_jobs['Job Description nltk_tokenized'].describe()\n"
            ]
        },
        {
            "cell_type": "code",
            "execution_count": 93,
            "id": "43044b19",
            "metadata": {},
            "outputs": [],
            "source": [
                "# Keep the some of the [] rows because they contain 'Who are we', 'What we do', etc. and remove '1. ' and '2. ' etc. abd 'T)'\n",
                "df_jobs = df_jobs.loc[~df_jobs['Job Description spacy_sentencized'].str.match('^\\d\\.|.\\)')]\n"
            ]
        },
        {
            "cell_type": "code",
            "execution_count": 94,
            "id": "86da6772",
            "metadata": {},
            "outputs": [
                {
                    "name": "stdout",
                    "output_type": "stream",
                    "text": [
                        "<class 'pandas.core.frame.DataFrame'>\n",
                        "Int64Index: 307300 entries, 0 to 408598\n",
                        "Data columns (total 73 columns):\n",
                        " #   Column                                            Non-Null Count   Dtype   \n",
                        "---  ------                                            --------------   -----   \n",
                        " 0   Search Keyword                                    307300 non-null  object  \n",
                        " 1   Platform                                          307300 non-null  object  \n",
                        " 2   Job ID                                            307300 non-null  object  \n",
                        " 3   Job Title                                         307300 non-null  object  \n",
                        " 4   Company Name                                      307290 non-null  object  \n",
                        " 5   Location                                          307300 non-null  object  \n",
                        " 6   Job Description                                   307300 non-null  object  \n",
                        " 7   Rating                                            165831 non-null  float64 \n",
                        " 8   Employment Type                                   281198 non-null  object  \n",
                        " 9   Company URL                                       300704 non-null  object  \n",
                        " 10  Job URL                                           307300 non-null  object  \n",
                        " 11  Job Age                                           307300 non-null  object  \n",
                        " 12  Job Age Number                                    307300 non-null  object  \n",
                        " 13  Collection Date                                   307300 non-null  object  \n",
                        " 14  Data Row                                          141328 non-null  float64 \n",
                        " 15  Tracking ID                                       141328 non-null  object  \n",
                        " 16  Industry                                          167571 non-null  object  \n",
                        " 17  Job Date                                          141469 non-null  object  \n",
                        " 18  Type of ownership                                 26102 non-null   object  \n",
                        " 19  Language                                          307300 non-null  object  \n",
                        " 20  Dutch Requirement in Job Ad                       307300 non-null  object  \n",
                        " 21  English Requirement in Job Ad                     307300 non-null  object  \n",
                        " 22  Dutch Requirement in Job Ad_No                    307300 non-null  int64   \n",
                        " 23  Dutch Requirement in Job Ad_Yes                   307300 non-null  int64   \n",
                        " 24  English Requirement in Job Ad_No                  307300 non-null  int64   \n",
                        " 25  English Requirement in Job Ad_Yes                 307300 non-null  int64   \n",
                        " 26  Sector Code                                       307300 non-null  object  \n",
                        " 27  Sector                                            307300 non-null  object  \n",
                        " 28  Keywords Count                                    307300 non-null  float64 \n",
                        " 29  Gender_Female_n                                   307300 non-null  float64 \n",
                        " 30  Gender_Female_% per Sector                        307300 non-null  float64 \n",
                        " 31  Gender_Female_% per Social Category               307300 non-null  float64 \n",
                        " 32  Gender_Female_% per Workforce                     307300 non-null  float64 \n",
                        " 33  Gender_Male_n                                     307300 non-null  float64 \n",
                        " 34  Gender_Male_% per Sector                          307300 non-null  float64 \n",
                        " 35  Gender_Male_% per Social Category                 307300 non-null  float64 \n",
                        " 36  Gender_Male_% per Workforce                       307300 non-null  float64 \n",
                        " 37  Gender                                            307300 non-null  object  \n",
                        " 38  Age_Older_n                                       307300 non-null  float64 \n",
                        " 39  Age_Older_% per Sector                            307300 non-null  float64 \n",
                        " 40  Age_Older_% per Social Category                   307300 non-null  float64 \n",
                        " 41  Age_Older_% per Workforce                         307300 non-null  float64 \n",
                        " 42  Age_Younger_n                                     307300 non-null  float64 \n",
                        " 43  Age_Younger_% per Sector                          307300 non-null  float64 \n",
                        " 44  Age_Younger_% per Social Category                 307300 non-null  float64 \n",
                        " 45  Age_Younger_% per Workforce                       307300 non-null  float64 \n",
                        " 46  Age                                               307300 non-null  object  \n",
                        " 47  Sector_n                                          307300 non-null  float64 \n",
                        " 48  % Sector per Workforce                            307300 non-null  float64 \n",
                        " 49  Gender_Female                                     307300 non-null  int64   \n",
                        " 50  Gender_Male                                       307300 non-null  int64   \n",
                        " 51  Gender_Mixed                                      307300 non-null  int64   \n",
                        " 52  Age_Mixed                                         307300 non-null  int64   \n",
                        " 53  Age_Older                                         307300 non-null  int64   \n",
                        " 54  Age_Younger                                       307300 non-null  int64   \n",
                        " 55  Gender_Num                                        307300 non-null  int64   \n",
                        " 56  Age_Num                                           307300 non-null  int64   \n",
                        " 57  Platform_Num                                      307300 non-null  int64   \n",
                        " 58  Platform_LinkedIn                                 307300 non-null  int64   \n",
                        " 59  Platform_Indeed                                   307300 non-null  int64   \n",
                        " 60  Platform_Glassdoor                                307300 non-null  int64   \n",
                        " 61  Job Description spacy_sentencized                 307300 non-null  object  \n",
                        " 62  Job Description num_words                         307300 non-null  int64   \n",
                        " 63  Job Description num_unique_words                  307300 non-null  int64   \n",
                        " 64  Job Description num_chars                         307300 non-null  int64   \n",
                        " 65  Job Description num_chars_no_whitespact_and_punt  307300 non-null  int64   \n",
                        " 66  Job Description num_punctuations                  307300 non-null  int64   \n",
                        " 67  Job Description spacy_sentencized_lower           307300 non-null  object  \n",
                        " 68  Dutch Requirement in Sentence                     307300 non-null  category\n",
                        " 69  English Requirement in Sentence                   307300 non-null  category\n",
                        " 70  Job Description spacy_tokenized                   307300 non-null  object  \n",
                        " 71  Job Description spacy_sentencized_cleaned         307300 non-null  object  \n",
                        " 72  Job Description nltk_tokenized                    307300 non-null  object  \n",
                        "dtypes: category(2), float64(21), int64(21), object(29)\n",
                        "memory usage: 169.4+ MB\n"
                    ]
                }
            ],
            "source": [
                "df_jobs.info()\n"
            ]
        },
        {
            "cell_type": "code",
            "execution_count": 95,
            "id": "69e6640b",
            "metadata": {},
            "outputs": [],
            "source": [
                "assert len(df_jobs) > 0 and isinstance(df_jobs, pd.DataFrame), f'ERORR: LENGTH OF DF = {len(df_jobs)}'\n",
                "df_jobs.to_pickle(f'{df_save_dir}df_jobs_tokenized_spacy_nltk.pkl')\n",
                "df_jobs.to_csv(f'{df_save_dir}df_jobs_tokenized_spacy_nltk.csv', index=False)\n"
            ]
        },
        {
            "cell_type": "markdown",
            "id": "81e54149",
            "metadata": {},
            "source": [
                "# Use gensim to tokenize sentences\n"
            ]
        },
        {
            "cell_type": "markdown",
            "id": "ff307dba",
            "metadata": {},
            "source": [
                "### START HERE IF SOURCING FROM DF_JOBS_TOKENIZED_SPACY_NLTK\n",
                "### PLEASE SET CORRECT DIRECTORY PATHS BELOW\n"
            ]
        },
        {
            "cell_type": "code",
            "execution_count": 96,
            "id": "3f89cb65",
            "metadata": {},
            "outputs": [],
            "source": [
                "import os # type:ignore # isort:skip # fmt:skip # noqa # nopep8\n",
                "import sys # type:ignore # isort:skip # fmt:skip # noqa # nopep8\n",
                "from pathlib import Path # type:ignore # isort:skip # fmt:skip # noqa # nopep8\n",
                "\n",
                "mod = sys.modules[__name__]\n",
                "\n",
                "code_dir = None\n",
                "code_dir_name = 'Code'\n",
                "unwanted_subdir_name = 'Analysis'\n",
                "\n",
                "for _ in range(5):\n",
                "\n",
                "    parent_path = str(Path.cwd().parents[_]).split('/')[-1]\n",
                "\n",
                "    if (code_dir_name in parent_path) and (unwanted_subdir_name not in parent_path):\n",
                "\n",
                "        code_dir = str(Path.cwd().parents[_])\n",
                "\n",
                "        if code_dir is not None:\n",
                "            break\n",
                "\n",
                "sys.path.append(code_dir)\n",
                "# %load_ext autoreload\n",
                "# %autoreload 2\n"
            ]
        },
        {
            "cell_type": "code",
            "execution_count": 97,
            "id": "4ddc01de",
            "metadata": {},
            "outputs": [],
            "source": [
                "from setup_module.imports import * # type:ignore # isort:skip # fmt:skip # noqa # nopep8\n"
            ]
        },
        {
            "cell_type": "code",
            "execution_count": 98,
            "id": "c13d88fb",
            "metadata": {},
            "outputs": [],
            "source": [
                "df_jobs = pd.read_pickle(f'{df_save_dir}df_jobs_tokenized_spacy_nltk.pkl')\n"
            ]
        },
        {
            "cell_type": "code",
            "execution_count": 99,
            "id": "bc48f290",
            "metadata": {},
            "outputs": [
                {
                    "name": "stdout",
                    "output_type": "stream",
                    "text": [
                        "<class 'pandas.core.frame.DataFrame'>\n",
                        "Int64Index: 307300 entries, 0 to 408598\n",
                        "Data columns (total 73 columns):\n",
                        " #   Column                                            Non-Null Count   Dtype   \n",
                        "---  ------                                            --------------   -----   \n",
                        " 0   Search Keyword                                    307300 non-null  object  \n",
                        " 1   Platform                                          307300 non-null  object  \n",
                        " 2   Job ID                                            307300 non-null  object  \n",
                        " 3   Job Title                                         307300 non-null  object  \n",
                        " 4   Company Name                                      307290 non-null  object  \n",
                        " 5   Location                                          307300 non-null  object  \n",
                        " 6   Job Description                                   307300 non-null  object  \n",
                        " 7   Rating                                            165831 non-null  float64 \n",
                        " 8   Employment Type                                   281198 non-null  object  \n",
                        " 9   Company URL                                       300704 non-null  object  \n",
                        " 10  Job URL                                           307300 non-null  object  \n",
                        " 11  Job Age                                           307300 non-null  object  \n",
                        " 12  Job Age Number                                    307300 non-null  object  \n",
                        " 13  Collection Date                                   307300 non-null  object  \n",
                        " 14  Data Row                                          141328 non-null  float64 \n",
                        " 15  Tracking ID                                       141328 non-null  object  \n",
                        " 16  Industry                                          167571 non-null  object  \n",
                        " 17  Job Date                                          141469 non-null  object  \n",
                        " 18  Type of ownership                                 26102 non-null   object  \n",
                        " 19  Language                                          307300 non-null  object  \n",
                        " 20  Dutch Requirement in Job Ad                       307300 non-null  object  \n",
                        " 21  English Requirement in Job Ad                     307300 non-null  object  \n",
                        " 22  Dutch Requirement in Job Ad_No                    307300 non-null  int64   \n",
                        " 23  Dutch Requirement in Job Ad_Yes                   307300 non-null  int64   \n",
                        " 24  English Requirement in Job Ad_No                  307300 non-null  int64   \n",
                        " 25  English Requirement in Job Ad_Yes                 307300 non-null  int64   \n",
                        " 26  Sector Code                                       307300 non-null  object  \n",
                        " 27  Sector                                            307300 non-null  object  \n",
                        " 28  Keywords Count                                    307300 non-null  float64 \n",
                        " 29  Gender_Female_n                                   307300 non-null  float64 \n",
                        " 30  Gender_Female_% per Sector                        307300 non-null  float64 \n",
                        " 31  Gender_Female_% per Social Category               307300 non-null  float64 \n",
                        " 32  Gender_Female_% per Workforce                     307300 non-null  float64 \n",
                        " 33  Gender_Male_n                                     307300 non-null  float64 \n",
                        " 34  Gender_Male_% per Sector                          307300 non-null  float64 \n",
                        " 35  Gender_Male_% per Social Category                 307300 non-null  float64 \n",
                        " 36  Gender_Male_% per Workforce                       307300 non-null  float64 \n",
                        " 37  Gender                                            307300 non-null  object  \n",
                        " 38  Age_Older_n                                       307300 non-null  float64 \n",
                        " 39  Age_Older_% per Sector                            307300 non-null  float64 \n",
                        " 40  Age_Older_% per Social Category                   307300 non-null  float64 \n",
                        " 41  Age_Older_% per Workforce                         307300 non-null  float64 \n",
                        " 42  Age_Younger_n                                     307300 non-null  float64 \n",
                        " 43  Age_Younger_% per Sector                          307300 non-null  float64 \n",
                        " 44  Age_Younger_% per Social Category                 307300 non-null  float64 \n",
                        " 45  Age_Younger_% per Workforce                       307300 non-null  float64 \n",
                        " 46  Age                                               307300 non-null  object  \n",
                        " 47  Sector_n                                          307300 non-null  float64 \n",
                        " 48  % Sector per Workforce                            307300 non-null  float64 \n",
                        " 49  Gender_Female                                     307300 non-null  int64   \n",
                        " 50  Gender_Male                                       307300 non-null  int64   \n",
                        " 51  Gender_Mixed                                      307300 non-null  int64   \n",
                        " 52  Age_Mixed                                         307300 non-null  int64   \n",
                        " 53  Age_Older                                         307300 non-null  int64   \n",
                        " 54  Age_Younger                                       307300 non-null  int64   \n",
                        " 55  Gender_Num                                        307300 non-null  int64   \n",
                        " 56  Age_Num                                           307300 non-null  int64   \n",
                        " 57  Platform_Num                                      307300 non-null  int64   \n",
                        " 58  Platform_LinkedIn                                 307300 non-null  int64   \n",
                        " 59  Platform_Indeed                                   307300 non-null  int64   \n",
                        " 60  Platform_Glassdoor                                307300 non-null  int64   \n",
                        " 61  Job Description spacy_sentencized                 307300 non-null  object  \n",
                        " 62  Job Description num_words                         307300 non-null  int64   \n",
                        " 63  Job Description num_unique_words                  307300 non-null  int64   \n",
                        " 64  Job Description num_chars                         307300 non-null  int64   \n",
                        " 65  Job Description num_chars_no_whitespact_and_punt  307300 non-null  int64   \n",
                        " 66  Job Description num_punctuations                  307300 non-null  int64   \n",
                        " 67  Job Description spacy_sentencized_lower           307300 non-null  object  \n",
                        " 68  Dutch Requirement in Sentence                     307300 non-null  category\n",
                        " 69  English Requirement in Sentence                   307300 non-null  category\n",
                        " 70  Job Description spacy_tokenized                   307300 non-null  object  \n",
                        " 71  Job Description spacy_sentencized_cleaned         307300 non-null  object  \n",
                        " 72  Job Description nltk_tokenized                    307300 non-null  object  \n",
                        "dtypes: category(2), float64(21), int64(21), object(29)\n",
                        "memory usage: 169.4+ MB\n"
                    ]
                }
            ],
            "source": [
                "df_jobs.info()\n"
            ]
        },
        {
            "cell_type": "code",
            "execution_count": 100,
            "id": "e95fec77",
            "metadata": {},
            "outputs": [
                {
                    "data": {
                        "application/vnd.jupyter.widget-view+json": {
                            "model_id": "350270f5f71e429f9261591c2e7e409a",
                            "version_major": 2,
                            "version_minor": 0
                        },
                        "text/plain": [
                            "progress-bar:   0%|          | 0/307300 [00:00<?, ?it/s]"
                        ]
                    },
                    "metadata": {},
                    "output_type": "display_data"
                },
                {
                    "name": "stdout",
                    "output_type": "stream",
                    "text": [
                        "CPU times: user 59.8 s, sys: 2.45 s, total: 1min 2s\n",
                        "Wall time: 1min 5s\n"
                    ]
                }
            ],
            "source": [
                "%%time\n",
                "df_jobs['Job Description gensim_tokenized'] = df_jobs['Job Description spacy_sentencized'].progress_apply(\n",
                "    lambda sentence: preprocess_string(re.sub(pattern, '.', sentence.strip().lower()))\n",
                ")\n",
                "\n",
                "assert len(df_jobs) > 0 and isinstance(df_jobs, pd.DataFrame), f'ERORR: LENGTH OF DF = {len(df_jobs)}'\n",
                "df_jobs.to_pickle(f'{df_save_dir}df_jobs_tokenized_spacy_nltk_gensim.pkl')\n",
                "df_jobs.to_csv(f'{df_save_dir}df_jobs_tokenized_spacy_nltk_gensim.csv', index=False)\n"
            ]
        },
        {
            "cell_type": "code",
            "execution_count": 101,
            "id": "1cc29198",
            "metadata": {},
            "outputs": [
                {
                    "data": {
                        "text/plain": [
                            "0                                             [client]\n",
                            "1             [global, kyc, organis, ing, coo, domain]\n",
                            "2    [purpos, enabl, peopl, organis, us, bank, serv...\n",
                            "3    [global, kyc, organis, line, defenc, depart, p...\n",
                            "4    [global, kyc, organis, work, colleagu, differ,...\n",
                            "Name: Job Description gensim_tokenized, dtype: object"
                        ]
                    },
                    "execution_count": 101,
                    "metadata": {},
                    "output_type": "execute_result"
                }
            ],
            "source": [
                "df_jobs['Job Description gensim_tokenized'].head()\n"
            ]
        },
        {
            "cell_type": "code",
            "execution_count": 102,
            "id": "0a69a8de",
            "metadata": {},
            "outputs": [
                {
                    "name": "stdout",
                    "output_type": "stream",
                    "text": [
                        "<class 'pandas.core.frame.DataFrame'>\n",
                        "Int64Index: 307300 entries, 0 to 408598\n",
                        "Data columns (total 74 columns):\n",
                        " #   Column                                            Non-Null Count   Dtype   \n",
                        "---  ------                                            --------------   -----   \n",
                        " 0   Search Keyword                                    307300 non-null  object  \n",
                        " 1   Platform                                          307300 non-null  object  \n",
                        " 2   Job ID                                            307300 non-null  object  \n",
                        " 3   Job Title                                         307300 non-null  object  \n",
                        " 4   Company Name                                      307290 non-null  object  \n",
                        " 5   Location                                          307300 non-null  object  \n",
                        " 6   Job Description                                   307300 non-null  object  \n",
                        " 7   Rating                                            165831 non-null  float64 \n",
                        " 8   Employment Type                                   281198 non-null  object  \n",
                        " 9   Company URL                                       300704 non-null  object  \n",
                        " 10  Job URL                                           307300 non-null  object  \n",
                        " 11  Job Age                                           307300 non-null  object  \n",
                        " 12  Job Age Number                                    307300 non-null  object  \n",
                        " 13  Collection Date                                   307300 non-null  object  \n",
                        " 14  Data Row                                          141328 non-null  float64 \n",
                        " 15  Tracking ID                                       141328 non-null  object  \n",
                        " 16  Industry                                          167571 non-null  object  \n",
                        " 17  Job Date                                          141469 non-null  object  \n",
                        " 18  Type of ownership                                 26102 non-null   object  \n",
                        " 19  Language                                          307300 non-null  object  \n",
                        " 20  Dutch Requirement in Job Ad                       307300 non-null  object  \n",
                        " 21  English Requirement in Job Ad                     307300 non-null  object  \n",
                        " 22  Dutch Requirement in Job Ad_No                    307300 non-null  int64   \n",
                        " 23  Dutch Requirement in Job Ad_Yes                   307300 non-null  int64   \n",
                        " 24  English Requirement in Job Ad_No                  307300 non-null  int64   \n",
                        " 25  English Requirement in Job Ad_Yes                 307300 non-null  int64   \n",
                        " 26  Sector Code                                       307300 non-null  object  \n",
                        " 27  Sector                                            307300 non-null  object  \n",
                        " 28  Keywords Count                                    307300 non-null  float64 \n",
                        " 29  Gender_Female_n                                   307300 non-null  float64 \n",
                        " 30  Gender_Female_% per Sector                        307300 non-null  float64 \n",
                        " 31  Gender_Female_% per Social Category               307300 non-null  float64 \n",
                        " 32  Gender_Female_% per Workforce                     307300 non-null  float64 \n",
                        " 33  Gender_Male_n                                     307300 non-null  float64 \n",
                        " 34  Gender_Male_% per Sector                          307300 non-null  float64 \n",
                        " 35  Gender_Male_% per Social Category                 307300 non-null  float64 \n",
                        " 36  Gender_Male_% per Workforce                       307300 non-null  float64 \n",
                        " 37  Gender                                            307300 non-null  object  \n",
                        " 38  Age_Older_n                                       307300 non-null  float64 \n",
                        " 39  Age_Older_% per Sector                            307300 non-null  float64 \n",
                        " 40  Age_Older_% per Social Category                   307300 non-null  float64 \n",
                        " 41  Age_Older_% per Workforce                         307300 non-null  float64 \n",
                        " 42  Age_Younger_n                                     307300 non-null  float64 \n",
                        " 43  Age_Younger_% per Sector                          307300 non-null  float64 \n",
                        " 44  Age_Younger_% per Social Category                 307300 non-null  float64 \n",
                        " 45  Age_Younger_% per Workforce                       307300 non-null  float64 \n",
                        " 46  Age                                               307300 non-null  object  \n",
                        " 47  Sector_n                                          307300 non-null  float64 \n",
                        " 48  % Sector per Workforce                            307300 non-null  float64 \n",
                        " 49  Gender_Female                                     307300 non-null  int64   \n",
                        " 50  Gender_Male                                       307300 non-null  int64   \n",
                        " 51  Gender_Mixed                                      307300 non-null  int64   \n",
                        " 52  Age_Mixed                                         307300 non-null  int64   \n",
                        " 53  Age_Older                                         307300 non-null  int64   \n",
                        " 54  Age_Younger                                       307300 non-null  int64   \n",
                        " 55  Gender_Num                                        307300 non-null  int64   \n",
                        " 56  Age_Num                                           307300 non-null  int64   \n",
                        " 57  Platform_Num                                      307300 non-null  int64   \n",
                        " 58  Platform_LinkedIn                                 307300 non-null  int64   \n",
                        " 59  Platform_Indeed                                   307300 non-null  int64   \n",
                        " 60  Platform_Glassdoor                                307300 non-null  int64   \n",
                        " 61  Job Description spacy_sentencized                 307300 non-null  object  \n",
                        " 62  Job Description num_words                         307300 non-null  int64   \n",
                        " 63  Job Description num_unique_words                  307300 non-null  int64   \n",
                        " 64  Job Description num_chars                         307300 non-null  int64   \n",
                        " 65  Job Description num_chars_no_whitespact_and_punt  307300 non-null  int64   \n",
                        " 66  Job Description num_punctuations                  307300 non-null  int64   \n",
                        " 67  Job Description spacy_sentencized_lower           307300 non-null  object  \n",
                        " 68  Dutch Requirement in Sentence                     307300 non-null  category\n",
                        " 69  English Requirement in Sentence                   307300 non-null  category\n",
                        " 70  Job Description spacy_tokenized                   307300 non-null  object  \n",
                        " 71  Job Description spacy_sentencized_cleaned         307300 non-null  object  \n",
                        " 72  Job Description nltk_tokenized                    307300 non-null  object  \n",
                        " 73  Job Description gensim_tokenized                  307300 non-null  object  \n",
                        "dtypes: category(2), float64(21), int64(21), object(30)\n",
                        "memory usage: 171.7+ MB\n"
                    ]
                }
            ],
            "source": [
                "df_jobs.info()\n"
            ]
        },
        {
            "cell_type": "code",
            "execution_count": 103,
            "id": "a62be70e",
            "metadata": {},
            "outputs": [],
            "source": [
                "assert len(df_jobs) > 0 and isinstance(df_jobs, pd.DataFrame), f'ERORR: LENGTH OF DF = {len(df_jobs)}'\n",
                "df_jobs.to_pickle(f'{df_save_dir}df_jobs_tokenized_spacy_nltk_gensim.pkl')\n",
                "df_jobs.to_csv(f'{df_save_dir}df_jobs_tokenized_spacy_nltk_gensim.csv', index=False)\n"
            ]
        },
        {
            "cell_type": "markdown",
            "id": "eeb0131f",
            "metadata": {},
            "source": [
                "# Use BERT to tokenize sentences\n"
            ]
        },
        {
            "cell_type": "markdown",
            "id": "efcf30fc",
            "metadata": {},
            "source": [
                "### START HERE IF SOURCING FROM DF_JOBS_TOKENIZED_SPACY_NLTK_GENSIM\n",
                "### PLEASE SET CORRECT DIRECTORY PATHS BELOW\n"
            ]
        },
        {
            "cell_type": "code",
            "execution_count": 104,
            "id": "c81e981f",
            "metadata": {},
            "outputs": [],
            "source": [
                "import os # type:ignore # isort:skip # fmt:skip # noqa # nopep8\n",
                "import sys # type:ignore # isort:skip # fmt:skip # noqa # nopep8\n",
                "from pathlib import Path # type:ignore # isort:skip # fmt:skip # noqa # nopep8\n",
                "\n",
                "mod = sys.modules[__name__]\n",
                "\n",
                "code_dir = None\n",
                "code_dir_name = 'Code'\n",
                "unwanted_subdir_name = 'Analysis'\n",
                "\n",
                "for _ in range(5):\n",
                "\n",
                "    parent_path = str(Path.cwd().parents[_]).split('/')[-1]\n",
                "\n",
                "    if (code_dir_name in parent_path) and (unwanted_subdir_name not in parent_path):\n",
                "\n",
                "        code_dir = str(Path.cwd().parents[_])\n",
                "\n",
                "        if code_dir is not None:\n",
                "            break\n",
                "\n",
                "sys.path.append(code_dir)\n",
                "# %load_ext autoreload\n",
                "# %autoreload 2\n"
            ]
        },
        {
            "cell_type": "code",
            "execution_count": 105,
            "id": "df5d59b2",
            "metadata": {},
            "outputs": [],
            "source": [
                "from setup_module.imports import *  # type:ignore # isort:skip # fmt:skip # noqa # nopep8\n"
            ]
        },
        {
            "cell_type": "code",
            "execution_count": 106,
            "id": "ec899945",
            "metadata": {},
            "outputs": [],
            "source": [
                "df_jobs = pd.read_pickle(f'{df_save_dir}df_jobs_tokenized_spacy_nltk_gensim.pkl')\n"
            ]
        },
        {
            "cell_type": "code",
            "execution_count": 107,
            "id": "d42a3b60",
            "metadata": {},
            "outputs": [
                {
                    "name": "stdout",
                    "output_type": "stream",
                    "text": [
                        "<class 'pandas.core.frame.DataFrame'>\n",
                        "Int64Index: 307300 entries, 0 to 408598\n",
                        "Data columns (total 74 columns):\n",
                        " #   Column                                            Non-Null Count   Dtype   \n",
                        "---  ------                                            --------------   -----   \n",
                        " 0   Search Keyword                                    307300 non-null  object  \n",
                        " 1   Platform                                          307300 non-null  object  \n",
                        " 2   Job ID                                            307300 non-null  object  \n",
                        " 3   Job Title                                         307300 non-null  object  \n",
                        " 4   Company Name                                      307290 non-null  object  \n",
                        " 5   Location                                          307300 non-null  object  \n",
                        " 6   Job Description                                   307300 non-null  object  \n",
                        " 7   Rating                                            165831 non-null  float64 \n",
                        " 8   Employment Type                                   281198 non-null  object  \n",
                        " 9   Company URL                                       300704 non-null  object  \n",
                        " 10  Job URL                                           307300 non-null  object  \n",
                        " 11  Job Age                                           307300 non-null  object  \n",
                        " 12  Job Age Number                                    307300 non-null  object  \n",
                        " 13  Collection Date                                   307300 non-null  object  \n",
                        " 14  Data Row                                          141328 non-null  float64 \n",
                        " 15  Tracking ID                                       141328 non-null  object  \n",
                        " 16  Industry                                          167571 non-null  object  \n",
                        " 17  Job Date                                          141469 non-null  object  \n",
                        " 18  Type of ownership                                 26102 non-null   object  \n",
                        " 19  Language                                          307300 non-null  object  \n",
                        " 20  Dutch Requirement in Job Ad                       307300 non-null  object  \n",
                        " 21  English Requirement in Job Ad                     307300 non-null  object  \n",
                        " 22  Dutch Requirement in Job Ad_No                    307300 non-null  int64   \n",
                        " 23  Dutch Requirement in Job Ad_Yes                   307300 non-null  int64   \n",
                        " 24  English Requirement in Job Ad_No                  307300 non-null  int64   \n",
                        " 25  English Requirement in Job Ad_Yes                 307300 non-null  int64   \n",
                        " 26  Sector Code                                       307300 non-null  object  \n",
                        " 27  Sector                                            307300 non-null  object  \n",
                        " 28  Keywords Count                                    307300 non-null  float64 \n",
                        " 29  Gender_Female_n                                   307300 non-null  float64 \n",
                        " 30  Gender_Female_% per Sector                        307300 non-null  float64 \n",
                        " 31  Gender_Female_% per Social Category               307300 non-null  float64 \n",
                        " 32  Gender_Female_% per Workforce                     307300 non-null  float64 \n",
                        " 33  Gender_Male_n                                     307300 non-null  float64 \n",
                        " 34  Gender_Male_% per Sector                          307300 non-null  float64 \n",
                        " 35  Gender_Male_% per Social Category                 307300 non-null  float64 \n",
                        " 36  Gender_Male_% per Workforce                       307300 non-null  float64 \n",
                        " 37  Gender                                            307300 non-null  object  \n",
                        " 38  Age_Older_n                                       307300 non-null  float64 \n",
                        " 39  Age_Older_% per Sector                            307300 non-null  float64 \n",
                        " 40  Age_Older_% per Social Category                   307300 non-null  float64 \n",
                        " 41  Age_Older_% per Workforce                         307300 non-null  float64 \n",
                        " 42  Age_Younger_n                                     307300 non-null  float64 \n",
                        " 43  Age_Younger_% per Sector                          307300 non-null  float64 \n",
                        " 44  Age_Younger_% per Social Category                 307300 non-null  float64 \n",
                        " 45  Age_Younger_% per Workforce                       307300 non-null  float64 \n",
                        " 46  Age                                               307300 non-null  object  \n",
                        " 47  Sector_n                                          307300 non-null  float64 \n",
                        " 48  % Sector per Workforce                            307300 non-null  float64 \n",
                        " 49  Gender_Female                                     307300 non-null  int64   \n",
                        " 50  Gender_Male                                       307300 non-null  int64   \n",
                        " 51  Gender_Mixed                                      307300 non-null  int64   \n",
                        " 52  Age_Mixed                                         307300 non-null  int64   \n",
                        " 53  Age_Older                                         307300 non-null  int64   \n",
                        " 54  Age_Younger                                       307300 non-null  int64   \n",
                        " 55  Gender_Num                                        307300 non-null  int64   \n",
                        " 56  Age_Num                                           307300 non-null  int64   \n",
                        " 57  Platform_Num                                      307300 non-null  int64   \n",
                        " 58  Platform_LinkedIn                                 307300 non-null  int64   \n",
                        " 59  Platform_Indeed                                   307300 non-null  int64   \n",
                        " 60  Platform_Glassdoor                                307300 non-null  int64   \n",
                        " 61  Job Description spacy_sentencized                 307300 non-null  object  \n",
                        " 62  Job Description num_words                         307300 non-null  int64   \n",
                        " 63  Job Description num_unique_words                  307300 non-null  int64   \n",
                        " 64  Job Description num_chars                         307300 non-null  int64   \n",
                        " 65  Job Description num_chars_no_whitespact_and_punt  307300 non-null  int64   \n",
                        " 66  Job Description num_punctuations                  307300 non-null  int64   \n",
                        " 67  Job Description spacy_sentencized_lower           307300 non-null  object  \n",
                        " 68  Dutch Requirement in Sentence                     307300 non-null  category\n",
                        " 69  English Requirement in Sentence                   307300 non-null  category\n",
                        " 70  Job Description spacy_tokenized                   307300 non-null  object  \n",
                        " 71  Job Description spacy_sentencized_cleaned         307300 non-null  object  \n",
                        " 72  Job Description nltk_tokenized                    307300 non-null  object  \n",
                        " 73  Job Description gensim_tokenized                  307300 non-null  object  \n",
                        "dtypes: category(2), float64(21), int64(21), object(30)\n",
                        "memory usage: 171.7+ MB\n"
                    ]
                }
            ],
            "source": [
                "df_jobs.info()\n"
            ]
        },
        {
            "cell_type": "code",
            "execution_count": 108,
            "id": "f8bc6622",
            "metadata": {},
            "outputs": [
                {
                    "name": "stdout",
                    "output_type": "stream",
                    "text": [
                        "Using MPS\n"
                    ]
                },
                {
                    "name": "stderr",
                    "output_type": "stream",
                    "text": [
                        "Some weights of the model checkpoint at bert-base-uncased were not used when initializing BertForSequenceClassification: ['cls.seq_relationship.bias', 'cls.predictions.transform.LayerNorm.bias', 'cls.predictions.decoder.weight', 'cls.predictions.transform.dense.bias', 'cls.seq_relationship.weight', 'cls.predictions.transform.LayerNorm.weight', 'cls.predictions.bias', 'cls.predictions.transform.dense.weight']\n",
                        "- This IS expected if you are initializing BertForSequenceClassification from the checkpoint of a model trained on another task or with another architecture (e.g. initializing a BertForSequenceClassification model from a BertForPreTraining model).\n",
                        "- This IS NOT expected if you are initializing BertForSequenceClassification from the checkpoint of a model that you expect to be exactly identical (initializing a BertForSequenceClassification model from a BertForSequenceClassification model).\n",
                        "Some weights of BertForSequenceClassification were not initialized from the model checkpoint at bert-base-uncased and are newly initialized: ['classifier.weight', 'classifier.bias']\n",
                        "You should probably TRAIN this model on a down-stream task to be able to use it for predictions and inference.\n"
                    ]
                },
                {
                    "data": {
                        "application/vnd.jupyter.widget-view+json": {
                            "model_id": "9f7f415388784304847904cb56a050a5",
                            "version_major": 2,
                            "version_minor": 0
                        },
                        "text/plain": [
                            "progress-bar:   0%|          | 0/307300 [00:00<?, ?it/s]"
                        ]
                    },
                    "metadata": {},
                    "output_type": "display_data"
                },
                {
                    "name": "stdout",
                    "output_type": "stream",
                    "text": [
                        "CPU times: user 56.2 s, sys: 3.36 s, total: 59.6 s\n",
                        "Wall time: 1min 3s\n"
                    ]
                }
            ],
            "source": [
                "%%time\n",
                "max_length = 512\n",
                "returned_tensor = 'pt'\n",
                "cpu_counts = torch.multiprocessing.cpu_count()\n",
                "device = torch.device('mps') if torch.has_mps and torch.backends.mps.is_built() and torch.backends.mps.is_available() else torch.device('cuda') if torch.cuda.is_available() else torch.device('cpu')\n",
                "device_name = str(device.type)\n",
                "print(f'Using {device_name.upper()}')\n",
                "bert_model_name = 'bert-base-uncased'\n",
                "bert_tokenizer = BertTokenizerFast.from_pretrained(bert_model_name, strip_accents = True)\n",
                "bert_model = BertForSequenceClassification.from_pretrained(bert_model_name).to(device)\n",
                "\n",
                "df_jobs['Job Description bert_tokenized'] = df_jobs['Job Description spacy_sentencized'].progress_apply(\n",
                "    lambda sentence: bert_tokenizer.tokenize(str(sentence))\n",
                ")\n",
                "\n",
                "assert len(df_jobs) > 0 and isinstance(df_jobs, pd.DataFrame), f'ERORR: LENGTH OF DF = {len(df_jobs)}'\n",
                "df_jobs.to_pickle(f'{df_save_dir}df_jobs_tokenized_spacy_nltk_gensim_bert.pkl')\n",
                "df_jobs.to_csv(f'{df_save_dir}df_jobs_tokenized_spacy_nltk_gensim_bert.csv', index=False)\n"
            ]
        },
        {
            "cell_type": "code",
            "execution_count": 109,
            "id": "9ae92181",
            "metadata": {},
            "outputs": [
                {
                    "data": {
                        "text/plain": [
                            "0                                 [about, our, client]\n",
                            "1    [the, global, ky, ##c, organisation, is, part,...\n",
                            "2    [its, purpose, is, enabling, people, and, orga...\n",
                            "3    [our, global, ky, ##c, organisation, is, a, fi...\n",
                            "4    [in, our, global, ky, ##c, organisation, you, ...\n",
                            "Name: Job Description bert_tokenized, dtype: object"
                        ]
                    },
                    "execution_count": 109,
                    "metadata": {},
                    "output_type": "execute_result"
                }
            ],
            "source": [
                "df_jobs['Job Description bert_tokenized'].head()\n"
            ]
        },
        {
            "cell_type": "code",
            "execution_count": 110,
            "id": "8936c818",
            "metadata": {},
            "outputs": [],
            "source": [
                "assert len(df_jobs) > 0 and isinstance(df_jobs, pd.DataFrame), f'ERORR: LENGTH OF DF = {len(df_jobs)}'\n",
                "# df_jobs.to_pickle(f'{df_save_dir}df_jobs_tokenized_spacy_nltk_gensim_bert.pkl')\n",
                "# df_jobs.to_csv(f'{df_save_dir}df_jobs_tokenized_spacy_nltk_gensim_bert.csv', index=False)\n",
                "df_jobs.to_pickle(f'{df_save_dir}df_jobs_for_classification.pkl')\n",
                "df_jobs.to_csv(f'{df_save_dir}df_jobs_for_classification.csv', index=False)\n"
            ]
        },
        {
            "cell_type": "code",
            "execution_count": 111,
            "id": "45c900fb",
            "metadata": {},
            "outputs": [
                {
                    "name": "stdout",
                    "output_type": "stream",
                    "text": [
                        "Saving df_jobs length 307300 to txt file.\n"
                    ]
                }
            ],
            "source": [
                "print(f'Saving df_jobs length {len(df_jobs)} to txt file.')\n",
                "with open(f'{data_dir}df_jobs_len.txt', 'w') as f:\n",
                "    f.write(str(len(df_jobs)))"
            ]
        },
        {
            "cell_type": "code",
            "execution_count": null,
            "id": "e13d801e",
            "metadata": {},
            "outputs": [],
            "source": []
        }
    ],
    "metadata": {
        "kernelspec": {
            "display_name": "study1_3.10",
            "language": "python",
            "name": "python3"
        },
        "language_info": {
            "codemirror_mode": {
                "name": "ipython",
                "version": 3
            },
            "file_extension": ".py",
            "mimetype": "text/x-python",
            "name": "python",
            "nbconvert_exporter": "python",
            "pygments_lexer": "ipython3",
            "version": "3.10.10"
        },
        "varInspector": {
            "cols": {
                "lenName": 16,
                "lenType": 16,
                "lenVar": 40
            },
            "kernels_config": {
                "python": {
                    "delete_cmd_postfix": "",
                    "delete_cmd_prefix": "del ",
                    "library": "var_list.py",
                    "varRefreshCmd": "print(var_dic_list())"
                },
                "r": {
                    "delete_cmd_postfix": ") ",
                    "delete_cmd_prefix": "rm(",
                    "library": "var_list.r",
                    "varRefreshCmd": "cat(var_dic_list()) "
                }
            },
            "types_to_exclude": [
                "module",
                "function",
                "builtin_function_or_method",
                "instance",
                "_Feature"
            ],
            "window_display": false
        }
    },
    "nbformat": 4,
    "nbformat_minor": 5
}
