{
    "cells": [
        {
            "cell_type": "markdown",
            "id": "a3d9bbd5",
            "metadata": {},
            "source": [
                "# ATTN: This script uses Google translate to detect job description language. Google translate will limit requests and take a very long time. Only run this script if redoing language detection."
            ]
        },
        {
            "attachments": {},
            "cell_type": "markdown",
            "id": "ac2e2d85",
            "metadata": {},
            "source": [
                "## Read from scraped data"
            ]
        },
        {
            "cell_type": "code",
            "execution_count": 1,
            "id": "be8129d5",
            "metadata": {},
            "outputs": [],
            "source": [
                "import os # type:ignore # isort:skip # fmt:skip # noqa # nopep8\n",
                "import sys # type:ignore # isort:skip # fmt:skip # noqa # nopep8\n",
                "from pathlib import Path # type:ignore # isort:skip # fmt:skip # noqa # nopep8\n",
                "\n",
                "mod = sys.modules[__name__]\n",
                "\n",
                "code_dir = None\n",
                "code_dir_name = 'Code'\n",
                "unwanted_subdir_name = 'Analysis'\n",
                "\n",
                "for _ in range(5):\n",
                "\n",
                "    parent_path = str(Path.cwd().parents[_]).split('/')[-1]\n",
                "\n",
                "    if (code_dir_name in parent_path) and (unwanted_subdir_name not in parent_path):\n",
                "\n",
                "        code_dir = str(Path.cwd().parents[_])\n",
                "\n",
                "        if code_dir is not None:\n",
                "            break\n",
                "\n",
                "sys.path.append(code_dir)\n",
                "# %load_ext autoreload\n",
                "# %autoreload 2\n"
            ]
        },
        {
            "cell_type": "code",
            "execution_count": 2,
            "id": "d2271ddb",
            "metadata": {},
            "outputs": [
                {
                    "name": "stdout",
                    "output_type": "stream",
                    "text": [
                        "Using MPS\n"
                    ]
                },
                {
                    "data": {
                        "application/vnd.jupyter.widget-view+json": {
                            "model_id": "9dcaf3789bbd45ca947a05c664e50602",
                            "version_major": 2,
                            "version_minor": 0
                        },
                        "text/plain": [
                            "0it [00:00, ?it/s]"
                        ]
                    },
                    "metadata": {},
                    "output_type": "display_data"
                },
                {
                    "data": {
                        "text/plain": [
                            "<Figure size 640x480 with 0 Axes>"
                        ]
                    },
                    "metadata": {},
                    "output_type": "display_data"
                }
            ],
            "source": [
                "from setup_module.imports import * # type:ignore # isort:skip # fmt:skip # noqa # nopep8\n"
            ]
        },
        {
            "cell_type": "markdown",
            "id": "a840ebcc",
            "metadata": {},
            "source": [
                "#### Read paths"
            ]
        },
        {
            "cell_type": "code",
            "execution_count": 3,
            "id": "999bbb1d",
            "metadata": {},
            "outputs": [],
            "source": [
                "glob_paths = list(set(glob.glob(f'{scraped_data}Coding Material/*Folder/*/Job ID -*- Codebook (Automating Equity).xlsx')))\n"
            ]
        },
        {
            "cell_type": "code",
            "execution_count": 4,
            "id": "4ad7c36f",
            "metadata": {},
            "outputs": [
                {
                    "data": {
                        "text/plain": [
                            "244"
                        ]
                    },
                    "execution_count": 4,
                    "metadata": {},
                    "output_type": "execute_result"
                }
            ],
            "source": [
                "# 244 xlsx files\n",
                "len(glob_paths)\n"
            ]
        },
        {
            "cell_type": "markdown",
            "id": "fbfdd650",
            "metadata": {},
            "source": [
                "#### Use paths to open files, fix keywords, and drop unneeded columns"
            ]
        },
        {
            "cell_type": "code",
            "execution_count": 5,
            "id": "9f2edb5d",
            "metadata": {},
            "outputs": [
                {
                    "name": "stdout",
                    "output_type": "stream",
                    "text": [
                        "CPU times: user 6.05 s, sys: 139 ms, total: 6.19 s\n",
                        "Wall time: 6.6 s\n"
                    ]
                }
            ],
            "source": [
                "%%time\n",
                "# columns\n",
                "cols=['Sector', \n",
                "      'Sector Code', \n",
                "      'Gender', \n",
                "      'Age', \n",
                "      'Language', \n",
                "      'Dutch Requirement in Sentence', \n",
                "      'English Requirement in Sentence', \n",
                "      'Gender_Female', \n",
                "      'Gender_Mixed', \n",
                "      'Gender_Male', \n",
                "      'Age_Older', \n",
                "      'Age_Mixed', \n",
                "      'Age_Younger', \n",
                "      'Gender_Num', \n",
                "      'Age_Num', \n",
                "      '% Female', \n",
                "      '% Male', \n",
                "      '% Older', \n",
                "      '% Younger']\n",
                "\n",
                "# Fix list catches all incorrect/faculty keyword search terms\n",
                "fix_list = []\n",
                "\n",
                "# Appended data catches all the fixed and cleaned dfs\n",
                "appended_data = []\n",
                "\n",
                "for glob_path in glob_paths:\n",
                "\n",
                "    try:\n",
                "        df_temp = pd.read_excel(glob_path)\n",
                "    except ValueError:\n",
                "        fix_list.append(glob_path)\n",
                "\n",
                "    if len(df_temp) > 0 and isinstance(df_temp, pd.DataFrame):\n",
                "        df_temp = df_temp\n",
                "        df_temp = df_temp.drop(columns=cols, axis='columns', errors='ignore')\n",
                "        df_temp = df_temp.drop(\n",
                "        df_temp.columns[\n",
                "                df_temp.columns.str.contains(\n",
                "                    'unnamed|index|level', regex=True, case=False, flags=re.I\n",
                "                )\n",
                "            ],\n",
                "            axis='columns',\n",
                "            errors='ignore',\n",
                "        )\n",
                "\n",
                "        appended_data.append(df_temp)\n",
                "\n",
                "# Concatonate list of dfs into one large df_manual\n",
                "df_manual = pd.concat(appended_data, axis='index')\n",
                "\n",
                "# Save df_manual to file\n",
                "assert len(df_manual) > 0 and isinstance(df_manual, pd.DataFrame), f'ERORR: LENGTH OF DF = {len(df_manual)}'\n",
                "df_manual.to_pickle(f'{df_save_dir}df_manual_raw.pkl')\n",
                "df_manual.to_csv(f'{df_save_dir}df_manual_raw.csv')\n"
            ]
        },
        {
            "cell_type": "code",
            "execution_count": 6,
            "id": "5de12303",
            "metadata": {},
            "outputs": [],
            "source": [
                "# If we couldn't fix some keywords, we add them to list fix_list and write to file\n",
                "if len(fix_list) != 0:\n",
                "    print('Some keywords to fix!')\n",
                "    with open(f'{data_dir}fix_list.txt', 'w') as f:\n",
                "        json.dump(fix_list, f)\n"
            ]
        },
        {
            "cell_type": "code",
            "execution_count": 7,
            "id": "ae1a9362",
            "metadata": {},
            "outputs": [
                {
                    "data": {
                        "text/plain": [
                            "244"
                        ]
                    },
                    "execution_count": 7,
                    "metadata": {},
                    "output_type": "execute_result"
                }
            ],
            "source": [
                "# List of dfs, len = 244\n",
                "len(appended_data)\n"
            ]
        },
        {
            "cell_type": "code",
            "execution_count": 8,
            "id": "78c1c60f",
            "metadata": {},
            "outputs": [],
            "source": [
                "# Concatonate list of dfs into one large df_manual\n",
                "df_manual = pd.concat(appended_data, axis='index')\n"
            ]
        },
        {
            "cell_type": "code",
            "execution_count": 9,
            "id": "47b014ea",
            "metadata": {},
            "outputs": [
                {
                    "data": {
                        "text/plain": [
                            "12400"
                        ]
                    },
                    "execution_count": 9,
                    "metadata": {},
                    "output_type": "execute_result"
                }
            ],
            "source": [
                "# len = 12400\n",
                "len(df_manual)\n"
            ]
        },
        {
            "cell_type": "code",
            "execution_count": 10,
            "id": "0a4606db",
            "metadata": {},
            "outputs": [],
            "source": [
                "# Save df_manual to file\n",
                "assert len(df_manual) > 0 and isinstance(df_manual, pd.DataFrame), f'ERORR: LENGTH OF DF = {len(df_manual)}'\n",
                "df_manual.to_pickle(f'{df_save_dir}df_manual_raw.pkl')\n",
                "df_manual.to_csv(f'{df_save_dir}df_manual_raw.csv')\n"
            ]
        },
        {
            "attachments": {},
            "cell_type": "markdown",
            "id": "3eb6e2dd",
            "metadata": {},
            "source": [
                "## Drop duplicated and missing data"
            ]
        },
        {
            "cell_type": "markdown",
            "id": "bc049d41",
            "metadata": {},
            "source": [
                "### START HERE IF SOURCING FROM df_manual_RAW\n",
                "### PLEASE SET CORRECT DIRECTORY PATHS BELOW"
            ]
        },
        {
            "cell_type": "code",
            "execution_count": 11,
            "id": "eda9efcf",
            "metadata": {},
            "outputs": [],
            "source": [
                "import os # type:ignore # isort:skip # fmt:skip # noqa # nopep8\n",
                "import sys # type:ignore # isort:skip # fmt:skip # noqa # nopep8\n",
                "from pathlib import Path # type:ignore # isort:skip # fmt:skip # noqa # nopep8\n",
                "\n",
                "mod = sys.modules[__name__]\n",
                "\n",
                "code_dir = None\n",
                "code_dir_name = 'Code'\n",
                "unwanted_subdir_name = 'Analysis'\n",
                "\n",
                "for _ in range(5):\n",
                "\n",
                "    parent_path = str(Path.cwd().parents[_]).split('/')[-1]\n",
                "\n",
                "    if (code_dir_name in parent_path) and (unwanted_subdir_name not in parent_path):\n",
                "\n",
                "        code_dir = str(Path.cwd().parents[_])\n",
                "\n",
                "        if code_dir is not None:\n",
                "            break\n",
                "\n",
                "sys.path.append(code_dir)\n",
                "# %load_ext autoreload\n",
                "# %autoreload 2\n"
            ]
        },
        {
            "cell_type": "code",
            "execution_count": 12,
            "id": "4b7e42cc",
            "metadata": {},
            "outputs": [],
            "source": [
                "from setup_module.imports import * # type:ignore # isort:skip # fmt:skip # noqa # nopep8\n"
            ]
        },
        {
            "cell_type": "code",
            "execution_count": 13,
            "id": "a080272c",
            "metadata": {},
            "outputs": [],
            "source": [
                "df_manual = pd.read_pickle(f'{df_save_dir}df_manual_raw.pkl')\n"
            ]
        },
        {
            "cell_type": "code",
            "execution_count": 14,
            "id": "92e65cdc",
            "metadata": {},
            "outputs": [
                {
                    "name": "stdout",
                    "output_type": "stream",
                    "text": [
                        "\n",
                        "DF INFO:\n",
                        "\n",
                        "<class 'pandas.core.frame.DataFrame'>\n",
                        "Int64Index: 12400 entries, 0 to 27\n",
                        "Data columns (total 7 columns):\n",
                        " #   Column           Non-Null Count  Dtype  \n",
                        "---  ------           --------------  -----  \n",
                        " 0   Job ID           12400 non-null  object \n",
                        " 1   Sentence         12396 non-null  object \n",
                        " 2   Warmth           12398 non-null  float64\n",
                        " 3   Competence       12400 non-null  int64  \n",
                        " 4   Task_Mentioned   12398 non-null  float64\n",
                        " 5   Task_Warmth      12398 non-null  float64\n",
                        " 6   Task_Competence  12398 non-null  float64\n",
                        "dtypes: float64(4), int64(1), object(2)\n",
                        "memory usage: 775.0+ KB\n",
                        "====================\n",
                        "Warmth:\n",
                        "--------------------\n",
                        "Warmth Counts:\n",
                        "0.00    9572\n",
                        "1.00    2826\n",
                        "Name: Warmth, dtype: int64\n",
                        "--------------------\n",
                        "Warmth Percentages:\n",
                        "0.00   77.20\n",
                        "1.00   22.80\n",
                        "Name: Warmth, dtype: float64\n",
                        "--------------------\n",
                        "Min Warmth value: 0.0\n",
                        "Max Warmth value: 1.0\n",
                        "--------------------\n",
                        "Warmth Mean: 0.23\n",
                        "--------------------\n",
                        "Warmth Standard Deviation: 0.42\n",
                        "====================\n",
                        "Competence:\n",
                        "--------------------\n",
                        "Competence Counts:\n",
                        "0    7334\n",
                        "1    5066\n",
                        "Name: Competence, dtype: int64\n",
                        "--------------------\n",
                        "Competence Percentages:\n",
                        "0   59.10\n",
                        "1   40.90\n",
                        "Name: Competence, dtype: float64\n",
                        "--------------------\n",
                        "Min Competence value: 0\n",
                        "Max Competence value: 1\n",
                        "--------------------\n",
                        "Competence Mean: 0.41\n",
                        "--------------------\n",
                        "Competence Standard Deviation: 0.49\n",
                        "\n",
                        "\n"
                    ]
                }
            ],
            "source": [
                "get_df_info(df_manual, ivs_all=dvs)\n"
            ]
        },
        {
            "cell_type": "code",
            "execution_count": 15,
            "id": "e92eeb12",
            "metadata": {},
            "outputs": [
                {
                    "data": {
                        "text/plain": [
                            "12400"
                        ]
                    },
                    "execution_count": 15,
                    "metadata": {},
                    "output_type": "execute_result"
                }
            ],
            "source": [
                "# len = 12400\n",
                "len(df_manual)\n"
            ]
        },
        {
            "cell_type": "code",
            "execution_count": 16,
            "id": "78c31c26",
            "metadata": {},
            "outputs": [
                {
                    "name": "stdout",
                    "output_type": "stream",
                    "text": [
                        "<class 'pandas.core.frame.DataFrame'>\n",
                        "Int64Index: 12400 entries, 0 to 27\n",
                        "Data columns (total 7 columns):\n",
                        " #   Column           Non-Null Count  Dtype  \n",
                        "---  ------           --------------  -----  \n",
                        " 0   Job ID           12400 non-null  object \n",
                        " 1   Sentence         12396 non-null  object \n",
                        " 2   Warmth           12398 non-null  float64\n",
                        " 3   Competence       12400 non-null  int64  \n",
                        " 4   Task_Mentioned   12398 non-null  float64\n",
                        " 5   Task_Warmth      12398 non-null  float64\n",
                        " 6   Task_Competence  12398 non-null  float64\n",
                        "dtypes: float64(4), int64(1), object(2)\n",
                        "memory usage: 775.0+ KB\n"
                    ]
                }
            ],
            "source": [
                "df_manual.info()\n"
            ]
        },
        {
            "cell_type": "code",
            "execution_count": 17,
            "id": "1b37b39d",
            "metadata": {},
            "outputs": [
                {
                    "data": {
                        "application/vnd.jupyter.widget-view+json": {
                            "model_id": "b58a87644a474980b75e4c471759f3dc",
                            "version_major": 2,
                            "version_minor": 0
                        },
                        "text/plain": [
                            "progress-bar:   0%|          | 0/7 [00:00<?, ?it/s]"
                        ]
                    },
                    "metadata": {},
                    "output_type": "display_data"
                }
            ],
            "source": [
                "# Clean columns\n",
                "df_manual.columns = df_manual.columns.to_series().progress_apply(lambda x: str(x).strip())"
            ]
        },
        {
            "cell_type": "code",
            "execution_count": 18,
            "id": "bed9cef8",
            "metadata": {},
            "outputs": [
                {
                    "data": {
                        "text/plain": [
                            "0    Do you have a passion for working with substan...\n",
                            "1         Are you eager to learn about energy trading?\n",
                            "2    Does statistical, financial or operational mod...\n",
                            "3               At Priogen we excel in energy trading.\n",
                            "4    Over the years we have honed our craft by cont...\n",
                            "Name: Sentence, dtype: object"
                        ]
                    },
                    "execution_count": 18,
                    "metadata": {},
                    "output_type": "execute_result"
                }
            ],
            "source": [
                "df_manual['Sentence'].head()\n"
            ]
        },
        {
            "cell_type": "code",
            "execution_count": 19,
            "id": "8571e7f7",
            "metadata": {},
            "outputs": [],
            "source": [
                "# Remove columns 'Task_Mentioned', 'Task_Warmth', 'Task_Competence'\n",
                "df_manual = df_manual.drop(\n",
                "    columns=['Task_Mentioned', 'Task_Warmth', 'Task_Competence'],\n",
                "    axis='columns',\n",
                "    errors='ignore'\n",
                ")"
            ]
        },
        {
            "cell_type": "code",
            "execution_count": 20,
            "id": "bfef72ba",
            "metadata": {},
            "outputs": [
                {
                    "name": "stdout",
                    "output_type": "stream",
                    "text": [
                        "<class 'pandas.core.frame.DataFrame'>\n",
                        "Int64Index: 12400 entries, 0 to 27\n",
                        "Data columns (total 4 columns):\n",
                        " #   Column      Non-Null Count  Dtype  \n",
                        "---  ------      --------------  -----  \n",
                        " 0   Job ID      12400 non-null  object \n",
                        " 1   Sentence    12396 non-null  object \n",
                        " 2   Warmth      12398 non-null  float64\n",
                        " 3   Competence  12400 non-null  int64  \n",
                        "dtypes: float64(1), int64(1), object(2)\n",
                        "memory usage: 484.4+ KB\n"
                    ]
                }
            ],
            "source": [
                "df_manual.info()"
            ]
        },
        {
            "cell_type": "code",
            "execution_count": 21,
            "id": "2044253e",
            "metadata": {},
            "outputs": [
                {
                    "data": {
                        "text/plain": [
                            "Job ID        0\n",
                            "Sentence      4\n",
                            "Warmth        2\n",
                            "Competence    0\n",
                            "dtype: int64"
                        ]
                    },
                    "execution_count": 21,
                    "metadata": {},
                    "output_type": "execute_result"
                }
            ],
            "source": [
                "# Missing values: Sentence = 4, Warmth = 2, Competence = 0\n",
                "df_manual.isna().sum()"
            ]
        },
        {
            "cell_type": "code",
            "execution_count": 22,
            "id": "46ab64d1",
            "metadata": {},
            "outputs": [],
            "source": [
                "# Drop NA and non ut8 characters\n",
                "df_manual = df_manual.dropna(axis='index', how='all')\n",
                "df_manual = df_manual.dropna(axis='columns', how='all')\n",
                "df_manual = df_manual.dropna(\n",
                "    subset = ['Sentence', 'Warmth', 'Competence'],\n",
                ")\n",
                "df_manual = df_manual.sort_values(\n",
                "    ['Warmth', 'Competence'], ascending=False\n",
                ").drop_duplicates(\n",
                "    subset=['Job ID', 'Sentence', 'Warmth', 'Competence']\n",
                ")\n",
                "df_manual = df_manual.loc[df_manual['Sentence'].str.len() > 2]\n",
                "df_manual['Sentence'] = df_manual['Sentence'].apply(lambda x: unicodedata.normalize('NFKD', x.encode('ascii', 'ignore').decode('utf-8', 'ignore')))\n"
            ]
        },
        {
            "cell_type": "code",
            "execution_count": 23,
            "id": "2f862de5",
            "metadata": {},
            "outputs": [
                {
                    "data": {
                        "text/plain": [
                            "6966"
                        ]
                    },
                    "execution_count": 23,
                    "metadata": {},
                    "output_type": "execute_result"
                }
            ],
            "source": [
                "# len=6966\n",
                "len(df_manual)\n"
            ]
        },
        {
            "cell_type": "code",
            "execution_count": 24,
            "id": "5789c153",
            "metadata": {},
            "outputs": [
                {
                    "data": {
                        "text/plain": [
                            "0     Do you have a passion for working with substan...\n",
                            "1          Are you eager to learn about energy trading?\n",
                            "0     Are you ready to join a dynamic and diverse cl...\n",
                            "8     Your challenge will be to find the right balan...\n",
                            "18    You are the arranging linking pin between your...\n",
                            "Name: Sentence, dtype: object"
                        ]
                    },
                    "execution_count": 24,
                    "metadata": {},
                    "output_type": "execute_result"
                }
            ],
            "source": [
                "df_manual['Sentence'].head()\n"
            ]
        },
        {
            "cell_type": "code",
            "execution_count": 25,
            "id": "b539d479",
            "metadata": {},
            "outputs": [
                {
                    "data": {
                        "text/plain": [
                            "Job ID        0\n",
                            "Sentence      0\n",
                            "Warmth        0\n",
                            "Competence    0\n",
                            "dtype: int64"
                        ]
                    },
                    "execution_count": 25,
                    "metadata": {},
                    "output_type": "execute_result"
                }
            ],
            "source": [
                "# No na values\n",
                "df_manual.isna().sum()"
            ]
        },
        {
            "cell_type": "code",
            "execution_count": 26,
            "id": "1ee50376",
            "metadata": {},
            "outputs": [
                {
                    "name": "stdout",
                    "output_type": "stream",
                    "text": [
                        "\n",
                        "DF INFO:\n",
                        "\n",
                        "<class 'pandas.core.frame.DataFrame'>\n",
                        "Int64Index: 6966 entries, 0 to 21\n",
                        "Data columns (total 4 columns):\n",
                        " #   Column      Non-Null Count  Dtype  \n",
                        "---  ------      --------------  -----  \n",
                        " 0   Job ID      6966 non-null   object \n",
                        " 1   Sentence    6966 non-null   object \n",
                        " 2   Warmth      6966 non-null   float64\n",
                        " 3   Competence  6966 non-null   int64  \n",
                        "dtypes: float64(1), int64(1), object(2)\n",
                        "memory usage: 272.1+ KB\n",
                        "====================\n",
                        "Warmth:\n",
                        "--------------------\n",
                        "Warmth Counts:\n",
                        "0.00    5225\n",
                        "1.00    1741\n",
                        "Name: Warmth, dtype: int64\n",
                        "--------------------\n",
                        "Warmth Percentages:\n",
                        "0.00   75.00\n",
                        "1.00   25.00\n",
                        "Name: Warmth, dtype: float64\n",
                        "--------------------\n",
                        "Min Warmth value: 0.0\n",
                        "Max Warmth value: 1.0\n",
                        "--------------------\n",
                        "Warmth Mean: 0.25\n",
                        "--------------------\n",
                        "Warmth Standard Deviation: 0.43\n",
                        "====================\n",
                        "Competence:\n",
                        "--------------------\n",
                        "Competence Counts:\n",
                        "0    3923\n",
                        "1    3043\n",
                        "Name: Competence, dtype: int64\n",
                        "--------------------\n",
                        "Competence Percentages:\n",
                        "0   56.30\n",
                        "1   43.70\n",
                        "Name: Competence, dtype: float64\n",
                        "--------------------\n",
                        "Min Competence value: 0\n",
                        "Max Competence value: 1\n",
                        "--------------------\n",
                        "Competence Mean: 0.44\n",
                        "--------------------\n",
                        "Competence Standard Deviation: 0.5\n",
                        "\n",
                        "\n"
                    ]
                }
            ],
            "source": [
                "get_df_info(df_manual, ivs_all=dvs)\n"
            ]
        },
        {
            "cell_type": "code",
            "execution_count": 27,
            "id": "82e2a312",
            "metadata": {},
            "outputs": [
                {
                    "data": {
                        "text/plain": [
                            "Index(['Job ID', 'Sentence', 'Warmth', 'Competence'], dtype='object')"
                        ]
                    },
                    "execution_count": 27,
                    "metadata": {},
                    "output_type": "execute_result"
                }
            ],
            "source": [
                "df_manual.columns"
            ]
        },
        {
            "cell_type": "code",
            "execution_count": 28,
            "id": "5e2ea653",
            "metadata": {},
            "outputs": [
                {
                    "data": {
                        "text/plain": [
                            "0     Do you have a passion for working with substan...\n",
                            "1          Are you eager to learn about energy trading?\n",
                            "0     Are you ready to join a dynamic and diverse cl...\n",
                            "8     Your challenge will be to find the right balan...\n",
                            "18    You are the arranging linking pin between your...\n",
                            "Name: Sentence, dtype: object"
                        ]
                    },
                    "execution_count": 28,
                    "metadata": {},
                    "output_type": "execute_result"
                }
            ],
            "source": [
                "df_manual['Sentence'].head()\n"
            ]
        },
        {
            "cell_type": "code",
            "execution_count": 29,
            "id": "1c5a7d46",
            "metadata": {},
            "outputs": [
                {
                    "data": {
                        "application/vnd.jupyter.widget-view+json": {
                            "model_id": "54fe05fcecc744a4aa7a19bbcb149d2d",
                            "version_major": 2,
                            "version_minor": 0
                        },
                        "text/plain": [
                            "progress-bar:   0%|          | 0/6966 [00:00<?, ?it/s]"
                        ]
                    },
                    "metadata": {},
                    "output_type": "display_data"
                },
                {
                    "name": "stdout",
                    "output_type": "stream",
                    "text": [
                        "Warmth converted to int.\n",
                        "Warmth value counts:\n",
                        "0    5225\n",
                        "1    1741\n",
                        "Name: Warmth, dtype: int64\n"
                    ]
                },
                {
                    "data": {
                        "application/vnd.jupyter.widget-view+json": {
                            "model_id": "0583675ae004431296d5d8f74c8262e5",
                            "version_major": 2,
                            "version_minor": 0
                        },
                        "text/plain": [
                            "progress-bar:   0%|          | 0/6966 [00:00<?, ?it/s]"
                        ]
                    },
                    "metadata": {},
                    "output_type": "display_data"
                },
                {
                    "name": "stdout",
                    "output_type": "stream",
                    "text": [
                        "Competence converted to int.\n",
                        "Competence value counts:\n",
                        "0    3923\n",
                        "1    3043\n",
                        "Name: Competence, dtype: int64\n"
                    ]
                }
            ],
            "source": [
                "# Convert Warmth and Competence to int\n",
                "# Warmth 1 = 1741, Competence 1 = 3043\n",
                "int_cols = [\n",
                "    'Warmth',\n",
                "    'Competence',\n",
                "]\n",
                "\n",
                "for col in int_cols:\n",
                "    df_manual[col] = df_manual[col].astype(np.int64, errors='ignore')\n",
                "    print(f'{col} converted to int.' if all(df_manual[col].progress_apply(lambda x: isinstance(x, int))) else f'{col} NOT converted to int.')\n",
                "    print(f'{col} value counts:\\n{df_manual[col].value_counts()}')\n"
            ]
        },
        {
            "cell_type": "code",
            "execution_count": 30,
            "id": "a7666d35",
            "metadata": {},
            "outputs": [
                {
                    "name": "stdout",
                    "output_type": "stream",
                    "text": [
                        "<class 'pandas.core.frame.DataFrame'>\n",
                        "Int64Index: 6966 entries, 0 to 21\n",
                        "Data columns (total 4 columns):\n",
                        " #   Column      Non-Null Count  Dtype \n",
                        "---  ------      --------------  ----- \n",
                        " 0   Job ID      6966 non-null   object\n",
                        " 1   Sentence    6966 non-null   object\n",
                        " 2   Warmth      6966 non-null   int64 \n",
                        " 3   Competence  6966 non-null   int64 \n",
                        "dtypes: int64(2), object(2)\n",
                        "memory usage: 272.1+ KB\n"
                    ]
                }
            ],
            "source": [
                "df_manual.info()\n"
            ]
        },
        {
            "cell_type": "code",
            "execution_count": 31,
            "id": "685dd81e",
            "metadata": {},
            "outputs": [
                {
                    "data": {
                        "text/plain": [
                            "0     Do you have a passion for working with substan...\n",
                            "1          Are you eager to learn about energy trading?\n",
                            "0     Are you ready to join a dynamic and diverse cl...\n",
                            "8     Your challenge will be to find the right balan...\n",
                            "18    You are the arranging linking pin between your...\n",
                            "Name: Sentence, dtype: object"
                        ]
                    },
                    "execution_count": 31,
                    "metadata": {},
                    "output_type": "execute_result"
                }
            ],
            "source": [
                "df_manual['Sentence'].head()\n"
            ]
        },
        {
            "cell_type": "code",
            "execution_count": 32,
            "id": "793c8461",
            "metadata": {},
            "outputs": [
                {
                    "data": {
                        "application/vnd.jupyter.widget-view+json": {
                            "model_id": "62547aa3a43e4717b1ffc57b5a9c37c7",
                            "version_major": 2,
                            "version_minor": 0
                        },
                        "text/plain": [
                            "progress-bar:   0%|          | 0/6966 [00:00<?, ?it/s]"
                        ]
                    },
                    "metadata": {},
                    "output_type": "display_data"
                },
                {
                    "data": {
                        "application/vnd.jupyter.widget-view+json": {
                            "model_id": "f2ba723b43fc4d8ca80b7596d18410ee",
                            "version_major": 2,
                            "version_minor": 0
                        },
                        "text/plain": [
                            "progress-bar:   0%|          | 0/6966 [00:00<?, ?it/s]"
                        ]
                    },
                    "metadata": {},
                    "output_type": "display_data"
                },
                {
                    "name": "stdout",
                    "output_type": "stream",
                    "text": [
                        "Job ID converted to str.\n"
                    ]
                },
                {
                    "data": {
                        "application/vnd.jupyter.widget-view+json": {
                            "model_id": "99c016e50b3b467bba530d01d0c6c880",
                            "version_major": 2,
                            "version_minor": 0
                        },
                        "text/plain": [
                            "progress-bar:   0%|          | 0/6966 [00:00<?, ?it/s]"
                        ]
                    },
                    "metadata": {},
                    "output_type": "display_data"
                },
                {
                    "data": {
                        "application/vnd.jupyter.widget-view+json": {
                            "model_id": "6f27358ada434c38a13931596f6b0a7c",
                            "version_major": 2,
                            "version_minor": 0
                        },
                        "text/plain": [
                            "progress-bar:   0%|          | 0/6966 [00:00<?, ?it/s]"
                        ]
                    },
                    "metadata": {},
                    "output_type": "display_data"
                },
                {
                    "name": "stdout",
                    "output_type": "stream",
                    "text": [
                        "Sentence converted to str.\n",
                        "CPU times: user 55.6 ms, sys: 4.72 ms, total: 60.3 ms\n",
                        "Wall time: 81.4 ms\n"
                    ]
                }
            ],
            "source": [
                "%%time\n",
                "# Conver Job ID and Sentence to str\n",
                "str_cols = [\n",
                "    'Job ID',\n",
                "    'Sentence',\n",
                "]\n",
                "\n",
                "for col in str_cols:\n",
                "    df_manual[col] = df_manual[col].astype(str, errors='ignore').progress_apply(lambda x: x.strip().replace('[', '').replace(']', ''))\n",
                "    print(f'{col} converted to str.' if all(df_manual[col].progress_apply(lambda x: isinstance(x, str))) else f'{col} NOT converted to str.')\n"
            ]
        },
        {
            "cell_type": "code",
            "execution_count": 33,
            "id": "a5caf8c5",
            "metadata": {},
            "outputs": [
                {
                    "data": {
                        "text/plain": [
                            "6966"
                        ]
                    },
                    "execution_count": 33,
                    "metadata": {},
                    "output_type": "execute_result"
                }
            ],
            "source": [
                "# len = 6966\n",
                "len(df_manual)"
            ]
        },
        {
            "cell_type": "code",
            "execution_count": 34,
            "id": "4d2cacdb",
            "metadata": {},
            "outputs": [
                {
                    "name": "stdout",
                    "output_type": "stream",
                    "text": [
                        "<class 'pandas.core.frame.DataFrame'>\n",
                        "Int64Index: 6966 entries, 0 to 21\n",
                        "Data columns (total 4 columns):\n",
                        " #   Column      Non-Null Count  Dtype \n",
                        "---  ------      --------------  ----- \n",
                        " 0   Job ID      6966 non-null   object\n",
                        " 1   Sentence    6966 non-null   object\n",
                        " 2   Warmth      6966 non-null   int64 \n",
                        " 3   Competence  6966 non-null   int64 \n",
                        "dtypes: int64(2), object(2)\n",
                        "memory usage: 272.1+ KB\n"
                    ]
                }
            ],
            "source": [
                "df_manual.info()"
            ]
        },
        {
            "cell_type": "code",
            "execution_count": 35,
            "id": "d3e94265",
            "metadata": {},
            "outputs": [
                {
                    "data": {
                        "text/plain": [
                            "0     Do you have a passion for working with substan...\n",
                            "1          Are you eager to learn about energy trading?\n",
                            "0     Are you ready to join a dynamic and diverse cl...\n",
                            "8     Your challenge will be to find the right balan...\n",
                            "18    You are the arranging linking pin between your...\n",
                            "Name: Sentence, dtype: object"
                        ]
                    },
                    "execution_count": 35,
                    "metadata": {},
                    "output_type": "execute_result"
                }
            ],
            "source": [
                "df_manual['Sentence'].head()\n"
            ]
        },
        {
            "cell_type": "code",
            "execution_count": 36,
            "id": "e57a9f32",
            "metadata": {},
            "outputs": [],
            "source": [
                "# Rename Sentence to 'Job Description spacy_sentencized'\n",
                "df_manual = df_manual.rename(\n",
                "    columns = {\n",
                "        'Sentence': 'Job Description spacy_sentencized'\n",
                "    },\n",
                "    errors='ignore'\n",
                ")"
            ]
        },
        {
            "cell_type": "code",
            "execution_count": 37,
            "id": "1a32f64c",
            "metadata": {},
            "outputs": [
                {
                    "data": {
                        "text/plain": [
                            "Index(['Job ID', 'Job Description spacy_sentencized', 'Warmth', 'Competence'], dtype='object')"
                        ]
                    },
                    "execution_count": 37,
                    "metadata": {},
                    "output_type": "execute_result"
                }
            ],
            "source": [
                "df_manual.columns\n"
            ]
        },
        {
            "cell_type": "code",
            "execution_count": 38,
            "id": "bae3ac26",
            "metadata": {},
            "outputs": [
                {
                    "data": {
                        "text/plain": [
                            "0     Do you have a passion for working with substan...\n",
                            "1          Are you eager to learn about energy trading?\n",
                            "0     Are you ready to join a dynamic and diverse cl...\n",
                            "8     Your challenge will be to find the right balan...\n",
                            "18    You are the arranging linking pin between your...\n",
                            "Name: Job Description spacy_sentencized, dtype: object"
                        ]
                    },
                    "execution_count": 38,
                    "metadata": {},
                    "output_type": "execute_result"
                }
            ],
            "source": [
                "df_manual['Job Description spacy_sentencized'].head()\n"
            ]
        },
        {
            "cell_type": "code",
            "execution_count": 39,
            "id": "ea366ca5",
            "metadata": {},
            "outputs": [
                {
                    "data": {
                        "text/plain": [
                            "count                6966\n",
                            "unique               5662\n",
                            "top       Job Description\n",
                            "freq                   12\n",
                            "Name: Job Description spacy_sentencized, dtype: object"
                        ]
                    },
                    "execution_count": 39,
                    "metadata": {},
                    "output_type": "execute_result"
                }
            ],
            "source": [
                "# count=6966, unique=5662\n",
                "df_manual['Job Description spacy_sentencized'].describe()\n"
            ]
        },
        {
            "cell_type": "code",
            "execution_count": 40,
            "id": "3fb59e5d",
            "metadata": {},
            "outputs": [],
            "source": [
                "# Drop NA\n",
                "df_manual = df_manual.dropna(axis='index', how='all')\n",
                "df_manual = df_manual.dropna(axis='columns', how='all')\n",
                "df_manual = df_manual.dropna(\n",
                "    subset = ['Job Description spacy_sentencized', 'Warmth', 'Competence'],\n",
                ")\n",
                "df_manual = df_manual.sort_values(\n",
                "    ['Warmth', 'Competence'], ascending=False\n",
                ").drop_duplicates(\n",
                "    subset=['Job ID', 'Job Description spacy_sentencized', 'Warmth', 'Competence']\n",
                ")\n",
                "df_manual = df_manual.loc[df_manual['Job Description spacy_sentencized'].str.len() > 2]\n",
                "df_manual['Job Description spacy_sentencized'] = df_manual['Job Description spacy_sentencized'].apply(lambda x: unicodedata.normalize('NFKD', x.encode('ascii', 'ignore').decode('utf-8', 'ignore')))\n",
                "df_manual = df_manual"
            ]
        },
        {
            "cell_type": "code",
            "execution_count": 41,
            "id": "2138c284",
            "metadata": {},
            "outputs": [],
            "source": [
                "# Drop na, empty strings, punctuations, and keep only sentences of length more than 0\n",
                "with open(f'{data_dir}punctuations.txt', 'rb') as f:\n",
                "    custom_punct_chars = pickle.load(f)\n",
                "\n",
                "df_manual = df_manual.dropna(subset=['Job Description spacy_sentencized'])\n",
                "df_manual = df_manual.loc[\n",
                "    (df_manual['Job Description spacy_sentencized'].isnull() == False)\n",
                "    & (df_manual['Job Description spacy_sentencized'].isna() == False)\n",
                "    & (df_manual['Job Description spacy_sentencized'].notnull() == True)\n",
                "    & (df_manual['Job Description spacy_sentencized'].notna() == True)\n",
                "    & (df_manual['Job Description spacy_sentencized'].astype(str).apply(len) > 0)\n",
                "    & (df_manual['Job Description spacy_sentencized'].astype(bool) == True)\n",
                "    & (pd.isna(df_manual['Job Description spacy_sentencized']) == False)\n",
                "    & (df_manual['Job Description spacy_sentencized'].astype(str).isin(custom_punct_chars) == False)\n",
                "    & (df_manual['Job Description spacy_sentencized'].astype(str).isin(non_whitespace_nan_list) == False)\n",
                "    & (df_manual['Job Description spacy_sentencized'].astype(str).isin(list(string.punctuation)) == False)\n",
                "    & (df_manual['Job Description spacy_sentencized'].astype(str).isin(list(string.whitespace)) == False)\n",
                "]\n",
                "df_manual = df_manual.dropna(subset=['Job Description spacy_sentencized'])\n"
            ]
        },
        {
            "cell_type": "code",
            "execution_count": 42,
            "id": "b50c1eb2",
            "metadata": {},
            "outputs": [
                {
                    "data": {
                        "text/plain": [
                            "0     Do you have a passion for working with substan...\n",
                            "1          Are you eager to learn about energy trading?\n",
                            "0     Are you ready to join a dynamic and diverse cl...\n",
                            "8     Your challenge will be to find the right balan...\n",
                            "18    You are the arranging linking pin between your...\n",
                            "Name: Job Description spacy_sentencized, dtype: object"
                        ]
                    },
                    "execution_count": 42,
                    "metadata": {},
                    "output_type": "execute_result"
                }
            ],
            "source": [
                "df_manual['Job Description spacy_sentencized'].head()\n"
            ]
        },
        {
            "cell_type": "code",
            "execution_count": 43,
            "id": "21262246",
            "metadata": {},
            "outputs": [
                {
                    "data": {
                        "text/plain": [
                            "count                6966\n",
                            "unique               5662\n",
                            "top       Job Description\n",
                            "freq                   12\n",
                            "Name: Job Description spacy_sentencized, dtype: object"
                        ]
                    },
                    "execution_count": 43,
                    "metadata": {},
                    "output_type": "execute_result"
                }
            ],
            "source": [
                "# count=6966, unique=5662\n",
                "df_manual['Job Description spacy_sentencized'].describe()\n"
            ]
        },
        {
            "cell_type": "code",
            "execution_count": 44,
            "id": "87338e29",
            "metadata": {},
            "outputs": [
                {
                    "data": {
                        "text/plain": [
                            "10    You have experience in pathway re-design, putt...\n",
                            "10    Constantly seeking to raise the bar, identifyi...\n",
                            "10    You therefore have a sense of enterprise and y...\n",
                            "10    Providing leadership and guidance to the Payme...\n",
                            "10    Be responsible for making sure customer issues...\n",
                            "10    Provide Engineering Technicians with direction...\n",
                            "10    You will be able to fully participate as a tea...\n",
                            "10    You collaborate with people who are energetic,...\n",
                            "10    You will play a key role in the strategy and e...\n",
                            "10    Work with co-workers to understand and quantif...\n",
                            "10                  We make robots, but we hire people.\n",
                            "10    Changes you make for them have direct impact o...\n",
                            "10    On a daily basis you have contact with a remot...\n",
                            "10    Provide medical/scientific leadership and expe...\n",
                            "10    Part of your responsibility will be to build a...\n",
                            "10    We're looking for a CRM Specialist to help con...\n",
                            "10    You'll be working alongside technical colleagu...\n",
                            "10    Job requirements- You have an MBO working and ...\n",
                            "10    Establish a consistent design language across ...\n",
                            "10    You can describe us as passionate, playful, ha...\n",
                            "10    A company in which you are responsible for you...\n",
                            "10    Act as the point of contact for a number of (l...\n",
                            "10    In partnership with the sales and marketing te...\n",
                            "10    Full-time, paid training to help you on your w...\n",
                            "10    enabling best-in-class customer experiences ac...\n",
                            "10    Not only create insights, but to make them und...\n",
                            "10    At Mdecins Sans Frontires (MSF) / Artsen zonde...\n",
                            "10              You have top tier communication skills.\n",
                            "10              Then you should join the G-star family.\n",
                            "10    If your second name is empathy or helper, and ...\n",
                            "10    Execute the further roll-out of HR IT vision t...\n",
                            "10               Sam Media is a big and diverse family.\n",
                            "10    You will also work to coordinate with IAM arch...\n",
                            "10    Not only create insights, but to make them und...\n",
                            "10    Highly collaborative teams that build relation...\n",
                            "10    You'll be working alongside technical colleagu...\n",
                            "10    Full-time, paid training to help you on your w...\n",
                            "10    Full-time, paid training to help you on your w...\n",
                            "10    Full-time, paid training to help you on your w...\n",
                            "10    Financial Institutions is a sector with a glob...\n",
                            "10    Our fenders are used in over 28 countries worl...\n",
                            "10    You are part of our Privacy practice and will ...\n",
                            "10    Goods receipt, put-away, order picking, order ...\n",
                            "10    You are fluent in at least one of the followin...\n",
                            "10    Single point of contact for all global communi...\n",
                            "10    You deal with reservation requests, no shows, ...\n",
                            "10    Job requirements- You have an MBO working and ...\n",
                            "10    You will reflect the operational distinctivene...\n",
                            "10    You will be presented with ongoing opportuniti...\n",
                            "10    In this role you are responsible for managing ...\n",
                            "10    Ensures the quarterly and full year revenue ta...\n",
                            "10    Using channels ranging from retail stores to s...\n",
                            "10    Rebrand existing agents according to our Marke...\n",
                            "10    To tackle these challenges, our clients requir...\n",
                            "10    Design test equipment architecture to control ...\n",
                            "10    Corp is looking for a high-caliber customer fa...\n",
                            "10    Provide Engineering Technicians with direction...\n",
                            "10    Be responsible for making sure customer issues...\n",
                            "10    You will be intensely involved in; you will de...\n",
                            "10    Energetic, highly skilled self-starters would ...\n",
                            "10    To do that we need to make sure that our platf...\n",
                            "10    Are you a smart and adaptable lawyer who sees ...\n",
                            "10                                            Reporting\n",
                            "10                       completion and defence of a Ph\n",
                            "10    You leave the work to the experts, but like ke...\n",
                            "10    On a daily basis you have contact with a remot...\n",
                            "10    Providing assistance as needed with all aspect...\n",
                            "10    supporting the introduction of a regional loya...\n",
                            "10    Today we are Swedens largest PC manufacturer, ...\n",
                            "10    As a sommelier you are the specialist in the f...\n",
                            "10    This requires a clear business focus and inter...\n",
                            "10    Market Introduction Planning, preparing trade ...\n",
                            "10    Will set up the paid search full funnel strate...\n",
                            "10    Individual must also become adept at discussin...\n",
                            "10    X, Jasmine / Mocha), Architecture: Docker, k8s...\n",
                            "10                         Organizational Effectiveness\n",
                            "10    consultative with an ability to articulate pro...\n",
                            "10    Market leader in Europe with international exp...\n",
                            "10    We provide extensive search and book capabilit...\n",
                            "10                       Intermediate level of English.\n",
                            "10    Changes you make for them have direct impact o...\n",
                            "10    Co-create and incubate the market solutions mo...\n",
                            "10    Rebrand existing agents according to our Marke...\n",
                            "10    Taking responsibility for creating sections of...\n",
                            "10    This is a demanding and fast-paced role that r...\n",
                            "10    Our ambition was to go beyond the traditional ...\n",
                            "10    Establish a consistent design language across ...\n",
                            "10    Ensure compliance to all Pharmacovigilance obl...\n",
                            "10    The Cyber Intelligence Analyst will use data a...\n",
                            "10    MSc degree level in a relevant area (network-,...\n",
                            "10    Evangelize technical leadership to our custome...\n",
                            "10    Your main responsibilities as an Junior GIS An...\n",
                            "10    Partner with hiring managers to understand the...\n",
                            "10    Pro-actively researching market/product develo...\n",
                            "10    Pay we have a clear goal: to be the leading pa...\n",
                            "10    The Omnichannel Development, Finance & Busines...\n",
                            "10    Changes you make for them have direct impact o...\n",
                            "10    In addition, you may lead the development of n...\n",
                            "10    Rebrand existing agents according to our Marke...\n",
                            "10                                    What will you do?\n",
                            "10    Digital formulation and farm management tools ...\n",
                            "10    We are looking for a Sr HR Tech & Reporting Sp...\n",
                            "10    Motivated to work in a fast-paced technology s...\n",
                            "10                                    Job Requirements:\n",
                            "10    AAVs which means that in 2021 will see their f...\n",
                            "10    https://www.cisco.com/c/en/us/about/careers/wo...\n",
                            "10            Apps Public Cloud Services business unit.\n",
                            "10                             The Successful Applicant\n",
                            "10      Then you might be our new Affiliate Specialist!\n",
                            "10           Your role as a Trainee  Business Architect\n",
                            "10                                               The Ph\n",
                            "10    Your focus will be learning all about graphic ...\n",
                            "10    Job requirements- You have an MBO working and ...\n",
                            "10     This may well be the job youve been looking for!\n",
                            "10    Our Lease Department includes the complete lea...\n",
                            "10                                Your Responsibilities\n",
                            "10                                           Your role?\n",
                            "10    Through our products, partners and people, we ...\n",
                            "10    You can also work 3 days a week (Monday and Fr...\n",
                            "10    After weve met our definition of done, you wil...\n",
                            "10                                  Job Type: Full-time\n",
                            "10       Your role as a Trainee  Procurement Excellence\n",
                            "10    See below what we offer, what responsibilities...\n",
                            "10                                     Responsibilities\n",
                            "10                                             The role\n",
                            "10    Maintains equipment by completing preventive m...\n",
                            "10                                            You will:\n",
                            "10                       Pharmaceutical , Life Sciences\n",
                            "10                                         Good salary;\n",
                            "10    As Business Development Manager you will have ...\n",
                            "10    You'll be working alongside technical colleagu...\n",
                            "10    You will be intensely involved in; you will de...\n",
                            "10    In this role you are responsible for managing ...\n",
                            "10    You will become part of Outpost24s Ghost Labs ...\n",
                            "10    Taking responsibility for creating sections of...\n",
                            "10    We've recently launched a series of innovative...\n",
                            "10    Accountable for copywriting, concepting and ca...\n",
                            "10    In the role of Application and Technical Suppo...\n",
                            "10    As the Service Delivery Manager (SDM) for Prof...\n",
                            "10                Both curricula are taught in English.\n",
                            "10    As a sommelier you are the specialist in the f...\n",
                            "10                              Next to that, you will:\n",
                            "10    Pro-actively researching market/product develo...\n",
                            "Name: Job Description spacy_sentencized, dtype: object"
                        ]
                    },
                    "execution_count": 44,
                    "metadata": {},
                    "output_type": "execute_result"
                }
            ],
            "source": [
                "# Get the longest sentence\n",
                "df_manual['Job Description spacy_sentencized'].loc[df_manual['Job Description spacy_sentencized'].apply(len).idxmax()]"
            ]
        },
        {
            "cell_type": "code",
            "execution_count": 45,
            "id": "6b996511",
            "metadata": {},
            "outputs": [
                {
                    "data": {
                        "text/plain": [
                            "964"
                        ]
                    },
                    "execution_count": 45,
                    "metadata": {},
                    "output_type": "execute_result"
                }
            ],
            "source": [
                "# len=964\n",
                "df_manual['Job Description spacy_sentencized'].apply(len).max()\n"
            ]
        },
        {
            "cell_type": "code",
            "execution_count": 46,
            "id": "820b4710",
            "metadata": {},
            "outputs": [
                {
                    "data": {
                        "text/plain": [
                            "2    This role is for a highly networked Director o...\n",
                            "2    One day you are handling administrative tasks ...\n",
                            "2    Youll work in a highly dynamic studio collabor...\n",
                            "2    The ideal candidate will seek to improve other...\n",
                            "2    Are YOU energized by an opportunity to acceler...\n",
                            "2    These revolutionary technologies are helping t...\n",
                            "2    Our work is more than the delivery of packages...\n",
                            "2    This growth creates interesting positions for ...\n",
                            "2    We're looking for bright, ambitious individual...\n",
                            "2    Whether focusing on a geographical area, produ...\n",
                            "2    Did you know that 85% of your effectiveness at...\n",
                            "2    These disruptions are not only vital to the fu...\n",
                            "2    Our commitment to pursuing growth and continue...\n",
                            "2    Managing both internal and external designers ...\n",
                            "2    We are a team of architects, engineers, design...\n",
                            "2    The Experience Center is part of a multination...\n",
                            "2    MSF is an international, independent medical h...\n",
                            "2    You will also be translating between business ...\n",
                            "2                                        Its personal.\n",
                            "2    Youll report to our COO, and be part of our la...\n",
                            "2    We have a team culture that is highly collabor...\n",
                            "2    We power brands that drive fashion forward  fo...\n",
                            "2    With our solutions we inspire and enable our c...\n",
                            "2    Does statistical, financial or operational mod...\n",
                            "2    Want to build a stronger, more sustainable fut...\n",
                            "2    Since its start in 2012, Fender Innovations ha...\n",
                            "2    This includes providing comprehensive renewabl...\n",
                            "2    These revolutionary technologies are helping t...\n",
                            "2    Experience the great work Cisco is doing for S...\n",
                            "2    Would you like to work in a dynamic and innova...\n",
                            "2    One day you are in the warehouse in the import...\n",
                            "2    Whether serving in a performance improvement a...\n",
                            "2    To achieve this, we are looking for hardcore t...\n",
                            "2    Individuals that challenge the way we think, l...\n",
                            "2    NIKE, Inc. does more than outfit the worlds be...\n",
                            "2    Booking Holdings is a leading Fortune 500 e-co...\n",
                            "2    As one of the worlds largest fashion retailers...\n",
                            "2    That's why we've made it our goal to accelerat...\n",
                            "2    Your role will contribute to this mission by e...\n",
                            "2    With strategic long-term investments into what...\n",
                            "2    You learn more about your chosen discipline an...\n",
                            "2    Did you know that 85% of your effectiveness at...\n",
                            "2    Booking Holdings is a leading Fortune 500 e-co...\n",
                            "2               Do you have experience closing B2B Saa\n",
                            "2    Booking Holdings is a leading Fortune 500 e-co...\n",
                            "2    Microsoft Office Suite knowledge will prove ne...\n",
                            "2    Individuals that challenge the way we think, l...\n",
                            "2    As Loyalty Program Manager, you will be leadin...\n",
                            "2    Here is an opportunity to contribute to ideas ...\n",
                            "2    Premium, we bring creativity to digital advert...\n",
                            "2    Delivering this caliber of support isn't easy ...\n",
                            "2    Our agile, unique technology is proven to redu...\n",
                            "2    Do you have broad knowledge in the field of wi...\n",
                            "2    Extensive experience in requirements analysis ...\n",
                            "2    You will have a combination of strong financia...\n",
                            "2    For nearly 20 years, Delta EMEA continues to d...\n",
                            "2    We have established our name in the Fintech & ...\n",
                            "2    This includes providing comprehensive renewabl...\n",
                            "2    Today, we're the payments platform of choice f...\n",
                            "2    To achieve this, we are looking for hardcore t...\n",
                            "2    You will be working on the UI of a very popula...\n",
                            "2    In partnership with our clients, we help reduc...\n",
                            "2    NIKE, Inc. does more than outfit the worlds be...\n",
                            "2    Are you passionate about technology and keen t...\n",
                            "2    One city at a time, all across the globe we ma...\n",
                            "2    Our Consulting Services team offer end-to-end ...\n",
                            "2    We are looking for an experienced, self-driven...\n",
                            "2    Then you cannot pass on the opportunity to wor...\n",
                            "2    You will be working for our client, one of the...\n",
                            "2    You are skilled and experienced within the dig...\n",
                            "2    Managing both internal and external designers ...\n",
                            "2    Zanders Netherlands has established itself as ...\n",
                            "2    Preferably with International teaching experie...\n",
                            "2    Whether our customers sell shoes in e-commerce...\n",
                            "2    The company is looking for a Global Head of Ma...\n",
                            "2                                             Your job\n",
                            "2                                         Requirements\n",
                            "2    At Palo Alto Networks everything starts and en...\n",
                            "2                         Marketing and sales-oriented\n",
                            "2    This growth creates interesting positions for ...\n",
                            "2                                        Company: Akzo\n",
                            "2                                                  Net\n",
                            "2                                      Job Description\n",
                            "2    Ready to take your content writing skills to t...\n",
                            "2                  The company is headquartered in St.\n",
                            "2    Specialising in selling Commercial solutions t...\n",
                            "2                     Opleidingsniveau Master's degree\n",
                            "2    One day you are in the warehouse in the import...\n",
                            "2               Do you have experience closing B2B Saa\n",
                            "2                                        Its personal.\n",
                            "2    IQVIA is looking for experienced Key Account M...\n",
                            "2                                                Hashi\n",
                            "2                               Kite, A Gilead Company\n",
                            "2                                     Job Description:\n",
                            "2                          What does the work involve?\n",
                            "2                    Location  Utrecht or Amsterdam NL\n",
                            "2    Magnus Red is looking for a Consultant Interna...\n",
                            "2                        And innovation is everywhere.\n",
                            "2                                       Job positions:\n",
                            "2                       Than Tesla is looking for you!\n",
                            "2                     Opleidingsniveau Master's degree\n",
                            "2    As a Digital Platform Strategist with a specia...\n",
                            "2                                      Job description\n",
                            "2    We are hiring an IT Security Specialist with t...\n",
                            "2    Apply now for the role of Digital Product Mana...\n",
                            "2                                      The Opportunity\n",
                            "2    You will be working for our client, one of the...\n",
                            "2                                     Job Description:\n",
                            "2                                            Platform.\n",
                            "2                           It drives the way we work.\n",
                            "2                                      Job Description\n",
                            "2                                      Job Description\n",
                            "2    REPORTS TO: Manager, Human Resources (US & Eur...\n",
                            "2                                            Amsterdam\n",
                            "2    Location: Sweden, Germany, the Netherlands, Be...\n",
                            "2    Tech start up as the first person on the groun...\n",
                            "2    During this internship you will be working fro...\n",
                            "2    Contact me @ 020 30 585 41 or Daniel.scheepbou...\n",
                            "2      The professional main responsibilities will be:\n",
                            "2    Today, we're the payments platform of choice f...\n",
                            "2                                      Job Description\n",
                            "2    We make the process of designing and ordering ...\n",
                            "2                                        Its personal.\n",
                            "2    In this we aim to provide Canon EMEA with a fu...\n",
                            "2    Netflix is the world's leading streaming enter...\n",
                            "2                           Group: Mindshare Worldwide\n",
                            "2                                      Job Description\n",
                            "2                                            Position:\n",
                            "2    Our Consulting Services team offer end-to-end ...\n",
                            "2                                     Responsibilities\n",
                            "2    Versa is providing an end-to-end solution that...\n",
                            "2    We operate in Sweden, Denmark, Germany, the Ne...\n",
                            "2                                            Platform.\n",
                            "2                  The company is headquartered in St.\n",
                            "2    At Palo Alto Networks everything starts and en...\n",
                            "2    Do you have broad knowledge in the field of wi...\n",
                            "2                           Employee Performance Bonus\n",
                            "2    With strategic long-term investments into what...\n",
                            "2    With strategic long-term investments into what...\n",
                            "2    Originally we have started focusing on biofuel...\n",
                            "2    Zanders Netherlands has established itself as ...\n",
                            "2                                        Its personal.\n",
                            "2    There are only a few sectors that are currentl...\n",
                            "2    With strategic long-term investments into what...\n",
                            "Name: Job Description spacy_sentencized, dtype: object"
                        ]
                    },
                    "execution_count": 46,
                    "metadata": {},
                    "output_type": "execute_result"
                }
            ],
            "source": [
                "# Get the shortest sentence\n",
                "df_manual['Job Description spacy_sentencized'].loc[df_manual['Job Description spacy_sentencized'].apply(len).idxmin()]\n"
            ]
        },
        {
            "cell_type": "code",
            "execution_count": 47,
            "id": "441843ae",
            "metadata": {},
            "outputs": [
                {
                    "data": {
                        "text/plain": [
                            "3"
                        ]
                    },
                    "execution_count": 47,
                    "metadata": {},
                    "output_type": "execute_result"
                }
            ],
            "source": [
                "# len=3\n",
                "df_manual['Job Description spacy_sentencized'].apply(len).min()"
            ]
        },
        {
            "cell_type": "code",
            "execution_count": 48,
            "id": "25218a8b",
            "metadata": {},
            "outputs": [
                {
                    "data": {
                        "text/plain": [
                            "6966"
                        ]
                    },
                    "execution_count": 48,
                    "metadata": {},
                    "output_type": "execute_result"
                }
            ],
            "source": [
                "# len = 6966\n",
                "len(df_manual)\n"
            ]
        },
        {
            "cell_type": "code",
            "execution_count": 49,
            "id": "025e7b62",
            "metadata": {},
            "outputs": [
                {
                    "data": {
                        "text/plain": [
                            "133"
                        ]
                    },
                    "execution_count": 49,
                    "metadata": {},
                    "output_type": "execute_result"
                }
            ],
            "source": [
                "# len = 133\n",
                "len(df_manual.groupby(['Job ID'])['Job ID'].unique())\n"
            ]
        },
        {
            "cell_type": "code",
            "execution_count": 50,
            "id": "e3126f47",
            "metadata": {},
            "outputs": [],
            "source": [
                "# Drop duplicates on subset of 'Job ID' and 'Sentence' after sorting by 'Warmth' and 'Competence' (to keep order)\n",
                "random.seed(random_state)\n",
                "np.random.seed(random_state)\n",
                "df_manual = df_manual.sort_values(\n",
                "    ['Warmth', 'Competence'], ascending=False\n",
                ").drop_duplicates(\n",
                "    subset=['Job ID', 'Job Description spacy_sentencized'], keep='first'\n",
                ")\n"
            ]
        },
        {
            "cell_type": "code",
            "execution_count": 51,
            "id": "67baaa73",
            "metadata": {},
            "outputs": [
                {
                    "data": {
                        "text/plain": [
                            "6376"
                        ]
                    },
                    "execution_count": 51,
                    "metadata": {},
                    "output_type": "execute_result"
                }
            ],
            "source": [
                "# len = 6376\n",
                "len(df_manual)\n"
            ]
        },
        {
            "cell_type": "code",
            "execution_count": 52,
            "id": "3ec0bc22",
            "metadata": {},
            "outputs": [],
            "source": [
                "# Remove any rows with missing 'Job ID'\n",
                "df_manual = df_manual.drop(\n",
                "    df_manual[\n",
                "        (df_manual['Job ID'].isin(nan_list)) | \n",
                "        (df_manual['Job ID'].isnull()) | \n",
                "        (df_manual['Job ID'].isna())\n",
                "    ].index, \n",
                "    axis='index',\n",
                ")\n"
            ]
        },
        {
            "cell_type": "code",
            "execution_count": 53,
            "id": "21a098a0",
            "metadata": {},
            "outputs": [
                {
                    "data": {
                        "text/plain": [
                            "6376"
                        ]
                    },
                    "execution_count": 53,
                    "metadata": {},
                    "output_type": "execute_result"
                }
            ],
            "source": [
                "# len = 6376\n",
                "len(df_manual)\n"
            ]
        },
        {
            "cell_type": "code",
            "execution_count": 54,
            "id": "705e11d2",
            "metadata": {},
            "outputs": [
                {
                    "name": "stdout",
                    "output_type": "stream",
                    "text": [
                        "\n",
                        "DF INFO:\n",
                        "\n",
                        "<class 'pandas.core.frame.DataFrame'>\n",
                        "Int64Index: 6376 entries, 0 to 21\n",
                        "Data columns (total 4 columns):\n",
                        " #   Column                             Non-Null Count  Dtype \n",
                        "---  ------                             --------------  ----- \n",
                        " 0   Job ID                             6376 non-null   object\n",
                        " 1   Job Description spacy_sentencized  6376 non-null   object\n",
                        " 2   Warmth                             6376 non-null   int64 \n",
                        " 3   Competence                         6376 non-null   int64 \n",
                        "dtypes: int64(2), object(2)\n",
                        "memory usage: 249.1+ KB\n",
                        "====================\n",
                        "Warmth:\n",
                        "--------------------\n",
                        "Warmth Counts:\n",
                        "0    4682\n",
                        "1    1694\n",
                        "Name: Warmth, dtype: int64\n",
                        "--------------------\n",
                        "Warmth Percentages:\n",
                        "0   73.40\n",
                        "1   26.60\n",
                        "Name: Warmth, dtype: float64\n",
                        "--------------------\n",
                        "Min Warmth value: 0\n",
                        "Max Warmth value: 1\n",
                        "--------------------\n",
                        "Warmth Mean: 0.27\n",
                        "--------------------\n",
                        "Warmth Standard Deviation: 0.44\n",
                        "====================\n",
                        "Competence:\n",
                        "--------------------\n",
                        "Competence Counts:\n",
                        "0    3451\n",
                        "1    2925\n",
                        "Name: Competence, dtype: int64\n",
                        "--------------------\n",
                        "Competence Percentages:\n",
                        "0   54.10\n",
                        "1   45.90\n",
                        "Name: Competence, dtype: float64\n",
                        "--------------------\n",
                        "Min Competence value: 0\n",
                        "Max Competence value: 1\n",
                        "--------------------\n",
                        "Competence Mean: 0.46\n",
                        "--------------------\n",
                        "Competence Standard Deviation: 0.5\n",
                        "\n",
                        "\n"
                    ]
                }
            ],
            "source": [
                "# Warmth 1 = 1567 (24.90%), Competence 1 = 2827 (44.30%)\n",
                "get_df_info(df_manual, ivs_all=dvs)\n"
            ]
        },
        {
            "cell_type": "code",
            "execution_count": 55,
            "id": "19e08303",
            "metadata": {},
            "outputs": [],
            "source": [
                "# Save df_manual to file\n",
                "assert len(df_manual) > 0 and isinstance(df_manual, pd.DataFrame), f'ERORR: LENGTH OF DF = {len(df_manual)}'\n",
                "df_manual.to_pickle(f'{df_save_dir}df_manual_raw_dropped.pkl')\n",
                "df_manual.to_csv(f'{df_save_dir}df_manual_raw_dropped.csv')\n"
            ]
        },
        {
            "attachments": {},
            "cell_type": "markdown",
            "id": "3bae0b99",
            "metadata": {},
            "source": [
                "## Add English and Dutch language requirement columns"
            ]
        },
        {
            "cell_type": "markdown",
            "id": "eb838f06",
            "metadata": {},
            "source": [
                "### START HERE IF SOURCING FROM df_manual_RAW_DROPPED\n",
                "### PLEASE SET CORRECT DIRECTORY PATHS BELOW\n"
            ]
        },
        {
            "cell_type": "code",
            "execution_count": 56,
            "id": "489a38aa",
            "metadata": {},
            "outputs": [],
            "source": [
                "import os # type:ignore # isort:skip # fmt:skip # noqa # nopep8\n",
                "import sys # type:ignore # isort:skip # fmt:skip # noqa # nopep8\n",
                "from pathlib import Path # type:ignore # isort:skip # fmt:skip # noqa # nopep8\n",
                "\n",
                "mod = sys.modules[__name__]\n",
                "\n",
                "code_dir = None\n",
                "code_dir_name = 'Code'\n",
                "unwanted_subdir_name = 'Analysis'\n",
                "\n",
                "for _ in range(5):\n",
                "\n",
                "    parent_path = str(Path.cwd().parents[_]).split('/')[-1]\n",
                "\n",
                "    if (code_dir_name in parent_path) and (unwanted_subdir_name not in parent_path):\n",
                "\n",
                "        code_dir = str(Path.cwd().parents[_])\n",
                "\n",
                "        if code_dir is not None:\n",
                "            break\n",
                "\n",
                "sys.path.append(code_dir)\n",
                "# %load_ext autoreload\n",
                "# %autoreload 2\n"
            ]
        },
        {
            "cell_type": "code",
            "execution_count": 57,
            "id": "f7cda531",
            "metadata": {},
            "outputs": [],
            "source": [
                "from setup_module.imports import * # type:ignore # isort:skip # fmt:skip # noqa # nopep8\n"
            ]
        },
        {
            "cell_type": "code",
            "execution_count": 58,
            "id": "a13ef5b9",
            "metadata": {},
            "outputs": [],
            "source": [
                "df_manual = pd.read_pickle(f'{df_save_dir}df_manual_raw_dropped.pkl')#\n"
            ]
        },
        {
            "cell_type": "code",
            "execution_count": 59,
            "id": "9b3501aa",
            "metadata": {},
            "outputs": [
                {
                    "name": "stdout",
                    "output_type": "stream",
                    "text": [
                        "\n",
                        "DF INFO:\n",
                        "\n",
                        "<class 'pandas.core.frame.DataFrame'>\n",
                        "Int64Index: 6376 entries, 0 to 21\n",
                        "Data columns (total 4 columns):\n",
                        " #   Column                             Non-Null Count  Dtype \n",
                        "---  ------                             --------------  ----- \n",
                        " 0   Job ID                             6376 non-null   object\n",
                        " 1   Job Description spacy_sentencized  6376 non-null   object\n",
                        " 2   Warmth                             6376 non-null   int64 \n",
                        " 3   Competence                         6376 non-null   int64 \n",
                        "dtypes: int64(2), object(2)\n",
                        "memory usage: 249.1+ KB\n",
                        "====================\n",
                        "Warmth:\n",
                        "--------------------\n",
                        "Warmth Counts:\n",
                        "0    4682\n",
                        "1    1694\n",
                        "Name: Warmth, dtype: int64\n",
                        "--------------------\n",
                        "Warmth Percentages:\n",
                        "0   73.40\n",
                        "1   26.60\n",
                        "Name: Warmth, dtype: float64\n",
                        "--------------------\n",
                        "Min Warmth value: 0\n",
                        "Max Warmth value: 1\n",
                        "--------------------\n",
                        "Warmth Mean: 0.27\n",
                        "--------------------\n",
                        "Warmth Standard Deviation: 0.44\n",
                        "====================\n",
                        "Competence:\n",
                        "--------------------\n",
                        "Competence Counts:\n",
                        "0    3451\n",
                        "1    2925\n",
                        "Name: Competence, dtype: int64\n",
                        "--------------------\n",
                        "Competence Percentages:\n",
                        "0   54.10\n",
                        "1   45.90\n",
                        "Name: Competence, dtype: float64\n",
                        "--------------------\n",
                        "Min Competence value: 0\n",
                        "Max Competence value: 1\n",
                        "--------------------\n",
                        "Competence Mean: 0.46\n",
                        "--------------------\n",
                        "Competence Standard Deviation: 0.5\n",
                        "\n",
                        "\n"
                    ]
                }
            ],
            "source": [
                "# Warmth 1 = 1577 (24.90%), Competence 1 = 2821 (44.30%)\n",
                "get_df_info(df_manual, ivs_all=dvs)\n"
            ]
        },
        {
            "cell_type": "code",
            "execution_count": 60,
            "id": "3b5aa5a8",
            "metadata": {},
            "outputs": [
                {
                    "data": {
                        "text/plain": [
                            "6376"
                        ]
                    },
                    "execution_count": 60,
                    "metadata": {},
                    "output_type": "execute_result"
                }
            ],
            "source": [
                "# 6376\n",
                "len(df_manual)\n"
            ]
        },
        {
            "cell_type": "code",
            "execution_count": 61,
            "id": "e2e2a0c6",
            "metadata": {},
            "outputs": [
                {
                    "name": "stdout",
                    "output_type": "stream",
                    "text": [
                        "<class 'pandas.core.frame.DataFrame'>\n",
                        "Int64Index: 6376 entries, 0 to 21\n",
                        "Data columns (total 4 columns):\n",
                        " #   Column                             Non-Null Count  Dtype \n",
                        "---  ------                             --------------  ----- \n",
                        " 0   Job ID                             6376 non-null   object\n",
                        " 1   Job Description spacy_sentencized  6376 non-null   object\n",
                        " 2   Warmth                             6376 non-null   int64 \n",
                        " 3   Competence                         6376 non-null   int64 \n",
                        "dtypes: int64(2), object(2)\n",
                        "memory usage: 249.1+ KB\n"
                    ]
                }
            ],
            "source": [
                "df_manual.info()\n"
            ]
        },
        {
            "cell_type": "code",
            "execution_count": 62,
            "id": "8418d404",
            "metadata": {},
            "outputs": [
                {
                    "name": "stdout",
                    "output_type": "stream",
                    "text": [
                        "CPU times: user 77.4 ms, sys: 6.25 ms, total: 83.6 ms\n",
                        "Wall time: 95.5 ms\n"
                    ]
                }
            ],
            "source": [
                "%%time\n",
                "# Add language requirement column\n",
                "# Use regex to find language requirement\n",
                "dutch_requirement_pattern = r'[Ll]anguage: [Dd]utch|[Dd]utch [Pp]referred|[Dd]utch [Re]quired|[Dd]utch [Ll]anguage|[Pp]roficient in [Dd]utch|[Ss]peak [Dd]utch|[Kk]now [Dd]utch'\n",
                "english_requirement_pattern = r'[Ll]anguage: [Ee]nglish|[Ee]nglish [Pp]referred|[Ee]nglish [Re]quired|[Ee]nglish [Ll]anguage|[Pp]roficient in [Ee]nglish|[Ss]peak [Ee]nglish|[Kk]now [Ee]nglish'\n",
                "\n",
                "lang_requirements = {\n",
                "    'Dutch Requirement in Sentence': dutch_requirement_pattern, 'English Requirement in Sentence': english_requirement_pattern\n",
                "}\n",
                "\n",
                "for lang_req, lang_req_pattern in lang_requirements.items():\n",
                "    if lang_req in df_manual.columns:\n",
                "        df_manual = df_manual.drop(columns=[lang_req])\n",
                "    df_manual[lang_req] = np.where(\n",
                "        df_manual['Job Description spacy_sentencized'].str.contains(lang_req_pattern),\n",
                "        'Yes',\n",
                "        'No',\n",
                "    )\n",
                "\n",
                "    df_manual[lang_req] = df_manual[lang_req].astype('category').cat.reorder_categories(['No', 'Yes'], ordered=True)\n",
                "    df_manual[lang_req] = pd.Categorical(df_manual[lang_req], categories=['No', 'Yes'], ordered=True)\n",
                "\n",
                "assert len(df_manual) > 0 and isinstance(df_manual, pd.DataFrame), f'ERORR: LENGTH OF DF = {len(df_manual)}'\n",
                "df_manual.to_pickle(f'{df_save_dir}df_manual_raw_language_requirement.pkl')\n",
                "df_manual.to_csv(f'{df_save_dir}df_manual_raw_english_requirement.csv')\n"
            ]
        },
        {
            "cell_type": "code",
            "execution_count": 63,
            "id": "33b1e721",
            "metadata": {},
            "outputs": [
                {
                    "data": {
                        "text/plain": [
                            "No     6369\n",
                            "Yes       7\n",
                            "Name: Dutch Requirement in Sentence, dtype: int64"
                        ]
                    },
                    "execution_count": 63,
                    "metadata": {},
                    "output_type": "execute_result"
                }
            ],
            "source": [
                "# Yes = 7\n",
                "df_manual['Dutch Requirement in Sentence'].value_counts()\n"
            ]
        },
        {
            "cell_type": "code",
            "execution_count": 64,
            "id": "6330c696",
            "metadata": {},
            "outputs": [
                {
                    "data": {
                        "text/plain": [
                            "No     6368\n",
                            "Yes       8\n",
                            "Name: English Requirement in Sentence, dtype: int64"
                        ]
                    },
                    "execution_count": 64,
                    "metadata": {},
                    "output_type": "execute_result"
                }
            ],
            "source": [
                "# Yes = 8\n",
                "df_manual['English Requirement in Sentence'].value_counts()"
            ]
        },
        {
            "cell_type": "code",
            "execution_count": 65,
            "id": "56a0149b",
            "metadata": {},
            "outputs": [],
            "source": [
                "# Dummy coding for language requirement\n",
                "df_manual = df_manual.join(pd.get_dummies(df_manual[['Dutch Requirement in Sentence', 'English Requirement in Sentence']]))\n"
            ]
        },
        {
            "cell_type": "code",
            "execution_count": 66,
            "id": "468595a1",
            "metadata": {},
            "outputs": [
                {
                    "data": {
                        "text/plain": [
                            "0    669214\n",
                            "1       812\n",
                            "Name: Dutch Requirement in Sentence_Yes, dtype: int64"
                        ]
                    },
                    "execution_count": 66,
                    "metadata": {},
                    "output_type": "execute_result"
                }
            ],
            "source": [
                "# Yes = 7\n",
                "df_manual['Dutch Requirement in Sentence_Yes'].value_counts()\n"
            ]
        },
        {
            "cell_type": "code",
            "execution_count": 67,
            "id": "8934ae65",
            "metadata": {},
            "outputs": [
                {
                    "data": {
                        "text/plain": [
                            "0    669129\n",
                            "1       897\n",
                            "Name: English Requirement in Sentence_Yes, dtype: int64"
                        ]
                    },
                    "execution_count": 67,
                    "metadata": {},
                    "output_type": "execute_result"
                }
            ],
            "source": [
                "df_manual['English Requirement in Sentence_Yes'].value_counts()\n"
            ]
        },
        {
            "cell_type": "code",
            "execution_count": 68,
            "id": "5c3ddedd",
            "metadata": {},
            "outputs": [],
            "source": [
                "assert len(df_manual) > 0 and isinstance(df_manual, pd.DataFrame), f'ERORR: LENGTH OF DF = {len(df_manual)}'\n",
                "df_manual.to_pickle(f'{df_save_dir}df_manual_raw_language_requirement.pkl')\n",
                "df_manual.to_csv(f'{df_save_dir}df_manual_raw_language_requirement.csv')\n"
            ]
        },
        {
            "attachments": {},
            "cell_type": "markdown",
            "id": "e79cea97",
            "metadata": {},
            "source": [
                "## Add data from Sectors dataframe (see CBS directory under '1. Scraping' directory) and Categorical data\n"
            ]
        },
        {
            "cell_type": "markdown",
            "id": "69513116",
            "metadata": {},
            "source": [
                "### START HERE IF SOURCING FROM df_manual_RAW_LANGUAGE_REQUIREMENT\n",
                "### PLEASE SET CORRECT DIRECTORY PATHS BELOW\n"
            ]
        },
        {
            "cell_type": "code",
            "execution_count": 69,
            "id": "10b32849",
            "metadata": {},
            "outputs": [],
            "source": [
                "import os # type:ignore # isort:skip # fmt:skip # noqa # nopep8\n",
                "import sys # type:ignore # isort:skip # fmt:skip # noqa # nopep8\n",
                "from pathlib import Path # type:ignore # isort:skip # fmt:skip # noqa # nopep8\n",
                "\n",
                "mod = sys.modules[__name__]\n",
                "\n",
                "code_dir = None\n",
                "code_dir_name = 'Code'\n",
                "unwanted_subdir_name = 'Analysis'\n",
                "\n",
                "for _ in range(5):\n",
                "\n",
                "    parent_path = str(Path.cwd().parents[_]).split('/')[-1]\n",
                "\n",
                "    if (code_dir_name in parent_path) and (unwanted_subdir_name not in parent_path):\n",
                "\n",
                "        code_dir = str(Path.cwd().parents[_])\n",
                "\n",
                "        if code_dir is not None:\n",
                "            break\n",
                "\n",
                "sys.path.append(code_dir)\n",
                "# %load_ext autoreload\n",
                "# %autoreload 2\n"
            ]
        },
        {
            "cell_type": "code",
            "execution_count": 70,
            "id": "875fd370",
            "metadata": {},
            "outputs": [],
            "source": [
                "from setup_module.imports import * # type:ignore # isort:skip # fmt:skip # noqa # nopep8\n"
            ]
        },
        {
            "cell_type": "code",
            "execution_count": 71,
            "id": "79fe759f",
            "metadata": {},
            "outputs": [],
            "source": [
                "df_manual = pd.read_pickle(f'{df_save_dir}df_manual_raw_language_requirement.pkl')\n"
            ]
        },
        {
            "cell_type": "code",
            "execution_count": 72,
            "id": "8664a939",
            "metadata": {},
            "outputs": [
                {
                    "name": "stdout",
                    "output_type": "stream",
                    "text": [
                        "\n",
                        "DF INFO:\n",
                        "\n",
                        "<class 'pandas.core.frame.DataFrame'>\n",
                        "Int64Index: 670026 entries, 0 to 239\n",
                        "Data columns (total 10 columns):\n",
                        " #   Column                               Non-Null Count   Dtype   \n",
                        "---  ------                               --------------   -----   \n",
                        " 0   Job ID                               670026 non-null  object  \n",
                        " 1   Job Description spacy_sentencized    670026 non-null  object  \n",
                        " 2   Warmth                               670026 non-null  int64   \n",
                        " 3   Competence                           670026 non-null  int64   \n",
                        " 4   Dutch Requirement in Sentence        670026 non-null  category\n",
                        " 5   English Requirement in Sentence      670026 non-null  category\n",
                        " 6   Dutch Requirement in Sentence_No     670026 non-null  uint8   \n",
                        " 7   Dutch Requirement in Sentence_Yes    670026 non-null  uint8   \n",
                        " 8   English Requirement in Sentence_No   670026 non-null  uint8   \n",
                        " 9   English Requirement in Sentence_Yes  670026 non-null  uint8   \n",
                        "dtypes: category(2), int64(2), object(2), uint8(4)\n",
                        "memory usage: 29.4+ MB\n",
                        "====================\n",
                        "Warmth:\n",
                        "--------------------\n",
                        "Warmth Counts:\n",
                        "0    487232\n",
                        "1    182794\n",
                        "Name: Warmth, dtype: int64\n",
                        "--------------------\n",
                        "Warmth Percentages:\n",
                        "0   72.70\n",
                        "1   27.30\n",
                        "Name: Warmth, dtype: float64\n",
                        "--------------------\n",
                        "Min Warmth value: 0\n",
                        "Max Warmth value: 1\n",
                        "--------------------\n",
                        "Warmth Mean: 0.27\n",
                        "--------------------\n",
                        "Warmth Standard Deviation: 0.45\n",
                        "====================\n",
                        "Competence:\n",
                        "--------------------\n",
                        "Competence Counts:\n",
                        "0    341849\n",
                        "1    328177\n",
                        "Name: Competence, dtype: int64\n",
                        "--------------------\n",
                        "Competence Percentages:\n",
                        "0   51.00\n",
                        "1   49.00\n",
                        "Name: Competence, dtype: float64\n",
                        "--------------------\n",
                        "Min Competence value: 0\n",
                        "Max Competence value: 1\n",
                        "--------------------\n",
                        "Competence Mean: 0.49\n",
                        "--------------------\n",
                        "Competence Standard Deviation: 0.5\n",
                        "\n",
                        "\n"
                    ]
                }
            ],
            "source": [
                "# Warmth 1 = 1567 (24.90%), Competence 1 = 2827 (44.30%)\n",
                "get_df_info(df_manual, ivs_all=dvs)\n"
            ]
        },
        {
            "cell_type": "code",
            "execution_count": 73,
            "id": "40156303",
            "metadata": {},
            "outputs": [
                {
                    "name": "stdout",
                    "output_type": "stream",
                    "text": [
                        "<class 'pandas.core.frame.DataFrame'>\n",
                        "Int64Index: 670026 entries, 0 to 239\n",
                        "Data columns (total 10 columns):\n",
                        " #   Column                               Non-Null Count   Dtype   \n",
                        "---  ------                               --------------   -----   \n",
                        " 0   Job ID                               670026 non-null  object  \n",
                        " 1   Job Description spacy_sentencized    670026 non-null  object  \n",
                        " 2   Warmth                               670026 non-null  int64   \n",
                        " 3   Competence                           670026 non-null  int64   \n",
                        " 4   Dutch Requirement in Sentence        670026 non-null  category\n",
                        " 5   English Requirement in Sentence      670026 non-null  category\n",
                        " 6   Dutch Requirement in Sentence_No     670026 non-null  uint8   \n",
                        " 7   Dutch Requirement in Sentence_Yes    670026 non-null  uint8   \n",
                        " 8   English Requirement in Sentence_No   670026 non-null  uint8   \n",
                        " 9   English Requirement in Sentence_Yes  670026 non-null  uint8   \n",
                        "dtypes: category(2), int64(2), object(2), uint8(4)\n",
                        "memory usage: 29.4+ MB\n"
                    ]
                }
            ],
            "source": [
                "df_manual.info()\n"
            ]
        },
        {
            "cell_type": "code",
            "execution_count": 74,
            "id": "db503aad",
            "metadata": {},
            "outputs": [
                {
                    "data": {
                        "application/vnd.jupyter.widget-view+json": {
                            "model_id": "20d344c4505d45268fa0eec887ee4c04",
                            "version_major": 2,
                            "version_minor": 0
                        },
                        "text/plain": [
                            "progress-bar:   0%|          | 0/670026 [00:00<?, ?it/s]"
                        ]
                    },
                    "metadata": {},
                    "output_type": "display_data"
                }
            ],
            "source": [
                "df_manual['Job ID'] = df_manual['Job ID'].progress_apply(lambda x: str(x).lower().strip())\n"
            ]
        },
        {
            "cell_type": "code",
            "execution_count": 75,
            "id": "98694f16",
            "metadata": {},
            "outputs": [],
            "source": [
                "df_jobs = pd.read_pickle(f'{df_save_dir}df_jobs_including_sector_genage_data.pkl')\n"
            ]
        },
        {
            "cell_type": "code",
            "execution_count": 76,
            "id": "8d5116df",
            "metadata": {},
            "outputs": [
                {
                    "name": "stdout",
                    "output_type": "stream",
                    "text": [
                        "<class 'pandas.core.frame.DataFrame'>\n",
                        "Int64Index: 17593 entries, 0 to 17592\n",
                        "Data columns (total 61 columns):\n",
                        " #   Column                               Non-Null Count  Dtype   \n",
                        "---  ------                               --------------  -----   \n",
                        " 0   Search Keyword                       17593 non-null  object  \n",
                        " 1   Platform                             17593 non-null  category\n",
                        " 2   Job ID                               17593 non-null  object  \n",
                        " 3   Job Title                            17593 non-null  object  \n",
                        " 4   Company Name                         17591 non-null  object  \n",
                        " 5   Location                             17593 non-null  object  \n",
                        " 6   Job Description                      17593 non-null  object  \n",
                        " 7   Rating                               3780 non-null   float64 \n",
                        " 8   Employment Type                      17011 non-null  object  \n",
                        " 9   Company URL                          15954 non-null  object  \n",
                        " 10  Job URL                              17593 non-null  object  \n",
                        " 11  Job Age                              17593 non-null  object  \n",
                        " 12  Job Age Number                       17593 non-null  object  \n",
                        " 13  Collection Date                      17593 non-null  object  \n",
                        " 14  Data Row                             13810 non-null  float64 \n",
                        " 15  Tracking ID                          13810 non-null  object  \n",
                        " 16  Industry                             14395 non-null  object  \n",
                        " 17  Job Date                             13813 non-null  object  \n",
                        " 18  Type of ownership                    582 non-null    object  \n",
                        " 19  Language                             17593 non-null  object  \n",
                        " 20  Dutch Requirement in Job Ad          17593 non-null  category\n",
                        " 21  English Requirement in Job Ad        17593 non-null  category\n",
                        " 22  Dutch Requirement in Job Ad_No       17593 non-null  uint8   \n",
                        " 23  Dutch Requirement in Job Ad_Yes      17593 non-null  uint8   \n",
                        " 24  English Requirement in Job Ad_No     17593 non-null  uint8   \n",
                        " 25  English Requirement in Job Ad_Yes    17593 non-null  uint8   \n",
                        " 26  Sector Code                          17593 non-null  object  \n",
                        " 27  Sector                               17593 non-null  object  \n",
                        " 28  Keywords Count                       17593 non-null  float64 \n",
                        " 29  Gender_Female_n                      17593 non-null  float64 \n",
                        " 30  Gender_Female_% per Sector           17593 non-null  float64 \n",
                        " 31  Gender_Female_% per Social Category  17593 non-null  float64 \n",
                        " 32  Gender_Female_% per Workforce        17593 non-null  float64 \n",
                        " 33  Gender_Male_n                        17593 non-null  float64 \n",
                        " 34  Gender_Male_% per Sector             17593 non-null  float64 \n",
                        " 35  Gender_Male_% per Social Category    17593 non-null  float64 \n",
                        " 36  Gender_Male_% per Workforce          17593 non-null  float64 \n",
                        " 37  Gender                               17593 non-null  category\n",
                        " 38  Age_Older_n                          17593 non-null  float64 \n",
                        " 39  Age_Older_% per Sector               17593 non-null  float64 \n",
                        " 40  Age_Older_% per Social Category      17593 non-null  float64 \n",
                        " 41  Age_Older_% per Workforce            17593 non-null  float64 \n",
                        " 42  Age_Younger_n                        17593 non-null  float64 \n",
                        " 43  Age_Younger_% per Sector             17593 non-null  float64 \n",
                        " 44  Age_Younger_% per Social Category    17593 non-null  float64 \n",
                        " 45  Age_Younger_% per Workforce          17593 non-null  float64 \n",
                        " 46  Age                                  17593 non-null  category\n",
                        " 47  Sector_n                             17593 non-null  float64 \n",
                        " 48  % Sector per Workforce               17593 non-null  float64 \n",
                        " 49  Gender_Female                        17593 non-null  int64   \n",
                        " 50  Gender_Male                          17593 non-null  int64   \n",
                        " 51  Gender_Mixed                         17593 non-null  int64   \n",
                        " 52  Age_Mixed                            17593 non-null  int64   \n",
                        " 53  Age_Older                            17593 non-null  int64   \n",
                        " 54  Age_Younger                          17593 non-null  int64   \n",
                        " 55  Gender_Num                           17593 non-null  int64   \n",
                        " 56  Age_Num                              17593 non-null  int64   \n",
                        " 57  Platform_Num                         17593 non-null  int64   \n",
                        " 58  Platform_LinkedIn                    17593 non-null  int64   \n",
                        " 59  Platform_Indeed                      17593 non-null  int64   \n",
                        " 60  Platform_Glassdoor                   17593 non-null  int64   \n",
                        "dtypes: category(5), float64(21), int64(12), object(19), uint8(4)\n",
                        "memory usage: 7.3+ MB\n"
                    ]
                }
            ],
            "source": [
                "df_jobs.info()"
            ]
        },
        {
            "cell_type": "code",
            "execution_count": 77,
            "id": "49391453",
            "metadata": {},
            "outputs": [
                {
                    "data": {
                        "application/vnd.jupyter.widget-view+json": {
                            "model_id": "e0bc597c9cd64bc78b9ee5c52787a4a1",
                            "version_major": 2,
                            "version_minor": 0
                        },
                        "text/plain": [
                            "progress-bar:   0%|          | 0/17593 [00:00<?, ?it/s]"
                        ]
                    },
                    "metadata": {},
                    "output_type": "display_data"
                }
            ],
            "source": [
                "df_jobs['Job ID'] = df_jobs['Job ID'].progress_apply(lambda x: str(x).lower().strip())\n"
            ]
        },
        {
            "cell_type": "code",
            "execution_count": 78,
            "id": "f5aa6dcf",
            "metadata": {},
            "outputs": [
                {
                    "data": {
                        "text/plain": [
                            "Index(['Search Keyword', 'Platform', 'Job ID', 'Job Title', 'Company Name', 'Location', 'Job Description', 'Rating', 'Employment Type', 'Company URL', 'Job URL', 'Job Age', 'Job Age Number', 'Collection Date', 'Data Row', 'Tracking ID', 'Industry', 'Job Date', 'Type of ownership', 'Language', 'Dutch Requirement in Job Ad', 'English Requirement in Job Ad', 'Dutch Requirement in Job Ad_No', 'Dutch Requirement in Job Ad_Yes', 'English Requirement in Job Ad_No', 'English Requirement in Job Ad_Yes', 'Sector Code', 'Sector', 'Keywords Count', 'Gender_Female_n', 'Gender_Female_% per Sector', 'Gender_Female_% per Social Category', 'Gender_Female_% per Workforce', 'Gender_Male_n', 'Gender_Male_% per Sector', 'Gender_Male_% per Social Category', 'Gender_Male_% per Workforce', 'Gender', 'Age_Older_n', 'Age_Older_% per Sector', 'Age_Older_% per Social Category', 'Age_Older_% per Workforce', 'Age_Younger_n', 'Age_Younger_% per Sector', 'Age_Younger_% per Social Category', 'Age_Younger_% per Workforce', 'Age', 'Sector_n', '% Sector per Workforce', 'Gender_Female', 'Gender_Male', 'Gender_Mixed', 'Age_Mixed', 'Age_Older', 'Age_Younger', 'Gender_Num', 'Age_Num', 'Platform_Num', 'Platform_LinkedIn', 'Platform_Indeed', 'Platform_Glassdoor'], dtype='object')"
                        ]
                    },
                    "execution_count": 78,
                    "metadata": {},
                    "output_type": "execute_result"
                }
            ],
            "source": [
                "df_jobs.columns\n"
            ]
        },
        {
            "cell_type": "code",
            "execution_count": 79,
            "id": "82178d30",
            "metadata": {},
            "outputs": [],
            "source": [
                "df_jobs = df_jobs.drop(\n",
                "    columns = [\n",
                "        'Job Description', 'Rating', 'Employment Type',\n",
                "        'Company URL', 'Job URL', 'Job Age', 'Job Age Number',\n",
                "        'Collection Date', 'Data Row', 'Tracking ID', 'Job Date',\n",
                "        'Type of ownership', 'Language', 'Dutch Requirement in Sentence', 'English Requirement in Sentence', \n",
                "    ],\n",
                "    errors='ignore'\n",
                ")"
            ]
        },
        {
            "cell_type": "code",
            "execution_count": 80,
            "id": "9bba117b",
            "metadata": {},
            "outputs": [
                {
                    "data": {
                        "text/plain": [
                            "Index(['Search Keyword', 'Platform', 'Job ID', 'Job Title', 'Company Name', 'Location', 'Industry', 'Dutch Requirement in Job Ad', 'English Requirement in Job Ad', 'Dutch Requirement in Job Ad_No', 'Dutch Requirement in Job Ad_Yes', 'English Requirement in Job Ad_No', 'English Requirement in Job Ad_Yes', 'Sector Code', 'Sector', 'Keywords Count', 'Gender_Female_n', 'Gender_Female_% per Sector', 'Gender_Female_% per Social Category', 'Gender_Female_% per Workforce', 'Gender_Male_n', 'Gender_Male_% per Sector', 'Gender_Male_% per Social Category', 'Gender_Male_% per Workforce', 'Gender', 'Age_Older_n', 'Age_Older_% per Sector', 'Age_Older_% per Social Category', 'Age_Older_% per Workforce', 'Age_Younger_n', 'Age_Younger_% per Sector', 'Age_Younger_% per Social Category', 'Age_Younger_% per Workforce', 'Age', 'Sector_n', '% Sector per Workforce', 'Gender_Female', 'Gender_Male', 'Gender_Mixed', 'Age_Mixed', 'Age_Older', 'Age_Younger', 'Gender_Num', 'Age_Num', 'Platform_Num', 'Platform_LinkedIn', 'Platform_Indeed', 'Platform_Glassdoor'], dtype='object')"
                        ]
                    },
                    "execution_count": 80,
                    "metadata": {},
                    "output_type": "execute_result"
                }
            ],
            "source": [
                "df_jobs.columns\n"
            ]
        },
        {
            "cell_type": "code",
            "execution_count": 81,
            "id": "f11e0e01",
            "metadata": {},
            "outputs": [],
            "source": [
                "# Add sector and categorical data from df_jobs\n",
                "df_manual = df_manual.merge(df_jobs, on='Job ID', how='inner')\n"
            ]
        },
        {
            "cell_type": "code",
            "execution_count": 82,
            "id": "47f24060",
            "metadata": {},
            "outputs": [
                {
                    "data": {
                        "text/plain": [
                            "623749"
                        ]
                    },
                    "execution_count": 82,
                    "metadata": {},
                    "output_type": "execute_result"
                }
            ],
            "source": [
                "# len = 5955\n",
                "len(df_manual)\n"
            ]
        },
        {
            "cell_type": "code",
            "execution_count": 83,
            "id": "4fa2c4a7",
            "metadata": {},
            "outputs": [
                {
                    "name": "stdout",
                    "output_type": "stream",
                    "text": [
                        "<class 'pandas.core.frame.DataFrame'>\n",
                        "Int64Index: 623749 entries, 0 to 623748\n",
                        "Data columns (total 57 columns):\n",
                        " #   Column                               Non-Null Count   Dtype   \n",
                        "---  ------                               --------------   -----   \n",
                        " 0   Job ID                               623749 non-null  object  \n",
                        " 1   Job Description spacy_sentencized    623749 non-null  object  \n",
                        " 2   Warmth                               623749 non-null  int64   \n",
                        " 3   Competence                           623749 non-null  int64   \n",
                        " 4   Dutch Requirement in Sentence        623749 non-null  category\n",
                        " 5   English Requirement in Sentence      623749 non-null  category\n",
                        " 6   Dutch Requirement in Sentence_No     623749 non-null  uint8   \n",
                        " 7   Dutch Requirement in Sentence_Yes    623749 non-null  uint8   \n",
                        " 8   English Requirement in Sentence_No   623749 non-null  uint8   \n",
                        " 9   English Requirement in Sentence_Yes  623749 non-null  uint8   \n",
                        " 10  Search Keyword                       623749 non-null  object  \n",
                        " 11  Platform                             623749 non-null  category\n",
                        " 12  Job Title                            623749 non-null  object  \n",
                        " 13  Company Name                         623749 non-null  object  \n",
                        " 14  Location                             623749 non-null  object  \n",
                        " 15  Industry                             29831 non-null   object  \n",
                        " 16  Dutch Requirement in Job Ad          623749 non-null  category\n",
                        " 17  English Requirement in Job Ad        623749 non-null  category\n",
                        " 18  Dutch Requirement in Job Ad_No       623749 non-null  uint8   \n",
                        " 19  Dutch Requirement in Job Ad_Yes      623749 non-null  uint8   \n",
                        " 20  English Requirement in Job Ad_No     623749 non-null  uint8   \n",
                        " 21  English Requirement in Job Ad_Yes    623749 non-null  uint8   \n",
                        " 22  Sector Code                          623749 non-null  object  \n",
                        " 23  Sector                               623749 non-null  object  \n",
                        " 24  Keywords Count                       623749 non-null  float64 \n",
                        " 25  Gender_Female_n                      623749 non-null  float64 \n",
                        " 26  Gender_Female_% per Sector           623749 non-null  float64 \n",
                        " 27  Gender_Female_% per Social Category  623749 non-null  float64 \n",
                        " 28  Gender_Female_% per Workforce        623749 non-null  float64 \n",
                        " 29  Gender_Male_n                        623749 non-null  float64 \n",
                        " 30  Gender_Male_% per Sector             623749 non-null  float64 \n",
                        " 31  Gender_Male_% per Social Category    623749 non-null  float64 \n",
                        " 32  Gender_Male_% per Workforce          623749 non-null  float64 \n",
                        " 33  Gender                               623749 non-null  category\n",
                        " 34  Age_Older_n                          623749 non-null  float64 \n",
                        " 35  Age_Older_% per Sector               623749 non-null  float64 \n",
                        " 36  Age_Older_% per Social Category      623749 non-null  float64 \n",
                        " 37  Age_Older_% per Workforce            623749 non-null  float64 \n",
                        " 38  Age_Younger_n                        623749 non-null  float64 \n",
                        " 39  Age_Younger_% per Sector             623749 non-null  float64 \n",
                        " 40  Age_Younger_% per Social Category    623749 non-null  float64 \n",
                        " 41  Age_Younger_% per Workforce          623749 non-null  float64 \n",
                        " 42  Age                                  623749 non-null  category\n",
                        " 43  Sector_n                             623749 non-null  float64 \n",
                        " 44  % Sector per Workforce               623749 non-null  float64 \n",
                        " 45  Gender_Female                        623749 non-null  int64   \n",
                        " 46  Gender_Male                          623749 non-null  int64   \n",
                        " 47  Gender_Mixed                         623749 non-null  int64   \n",
                        " 48  Age_Mixed                            623749 non-null  int64   \n",
                        " 49  Age_Older                            623749 non-null  int64   \n",
                        " 50  Age_Younger                          623749 non-null  int64   \n",
                        " 51  Gender_Num                           623749 non-null  int64   \n",
                        " 52  Age_Num                              623749 non-null  int64   \n",
                        " 53  Platform_Num                         623749 non-null  int64   \n",
                        " 54  Platform_LinkedIn                    623749 non-null  int64   \n",
                        " 55  Platform_Indeed                      623749 non-null  int64   \n",
                        " 56  Platform_Glassdoor                   623749 non-null  int64   \n",
                        "dtypes: category(7), float64(19), int64(14), object(9), uint8(8)\n",
                        "memory usage: 213.6+ MB\n"
                    ]
                }
            ],
            "source": [
                "df_manual.info()\n"
            ]
        },
        {
            "cell_type": "code",
            "execution_count": 84,
            "id": "40fa3bc0",
            "metadata": {},
            "outputs": [
                {
                    "data": {
                        "text/html": [
                            "<div>\n",
                            "<style scoped>\n",
                            "    .dataframe tbody tr th:only-of-type {\n",
                            "        vertical-align: middle;\n",
                            "    }\n",
                            "\n",
                            "    .dataframe tbody tr th {\n",
                            "        vertical-align: top;\n",
                            "    }\n",
                            "\n",
                            "    .dataframe thead th {\n",
                            "        text-align: right;\n",
                            "    }\n",
                            "</style>\n",
                            "<table border=\"1\" class=\"dataframe\">\n",
                            "  <thead>\n",
                            "    <tr style=\"text-align: center;\">\n",
                            "      <th></th>\n",
                            "      <th>Job ID</th>\n",
                            "      <th>Job Description spacy_sentencized</th>\n",
                            "      <th>Warmth</th>\n",
                            "      <th>Competence</th>\n",
                            "      <th>Dutch Requirement in Sentence</th>\n",
                            "      <th>English Requirement in Sentence</th>\n",
                            "      <th>Dutch Requirement in Sentence_No</th>\n",
                            "      <th>Dutch Requirement in Sentence_Yes</th>\n",
                            "      <th>English Requirement in Sentence_No</th>\n",
                            "      <th>English Requirement in Sentence_Yes</th>\n",
                            "      <th>Search Keyword</th>\n",
                            "      <th>Platform</th>\n",
                            "      <th>Job Title</th>\n",
                            "      <th>Company Name</th>\n",
                            "      <th>Location</th>\n",
                            "      <th>Industry</th>\n",
                            "      <th>Dutch Requirement in Job Ad</th>\n",
                            "      <th>English Requirement in Job Ad</th>\n",
                            "      <th>Dutch Requirement in Job Ad_No</th>\n",
                            "      <th>Dutch Requirement in Job Ad_Yes</th>\n",
                            "      <th>English Requirement in Job Ad_No</th>\n",
                            "      <th>English Requirement in Job Ad_Yes</th>\n",
                            "      <th>Sector Code</th>\n",
                            "      <th>Sector</th>\n",
                            "      <th>Keywords Count</th>\n",
                            "      <th>Gender_Female_n</th>\n",
                            "      <th>Gender_Female_% per Sector</th>\n",
                            "      <th>Gender_Female_% per Social Category</th>\n",
                            "      <th>Gender_Female_% per Workforce</th>\n",
                            "      <th>Gender_Male_n</th>\n",
                            "      <th>Gender_Male_% per Sector</th>\n",
                            "      <th>Gender_Male_% per Social Category</th>\n",
                            "      <th>Gender_Male_% per Workforce</th>\n",
                            "      <th>Gender</th>\n",
                            "      <th>Age_Older_n</th>\n",
                            "      <th>Age_Older_% per Sector</th>\n",
                            "      <th>Age_Older_% per Social Category</th>\n",
                            "      <th>Age_Older_% per Workforce</th>\n",
                            "      <th>Age_Younger_n</th>\n",
                            "      <th>Age_Younger_% per Sector</th>\n",
                            "      <th>Age_Younger_% per Social Category</th>\n",
                            "      <th>Age_Younger_% per Workforce</th>\n",
                            "      <th>Age</th>\n",
                            "      <th>Sector_n</th>\n",
                            "      <th>% Sector per Workforce</th>\n",
                            "      <th>Gender_Female</th>\n",
                            "      <th>Gender_Male</th>\n",
                            "      <th>Gender_Mixed</th>\n",
                            "      <th>Age_Mixed</th>\n",
                            "      <th>Age_Older</th>\n",
                            "      <th>Age_Younger</th>\n",
                            "      <th>Gender_Num</th>\n",
                            "      <th>Age_Num</th>\n",
                            "      <th>Platform_Num</th>\n",
                            "      <th>Platform_LinkedIn</th>\n",
                            "      <th>Platform_Indeed</th>\n",
                            "      <th>Platform_Glassdoor</th>\n",
                            "    </tr>\n",
                            "  </thead>\n",
                            "  <tbody>\n",
                            "    <tr>\n",
                            "      <th>0</th>\n",
                            "      <td>p_4f901d97aab7b3a5</td>\n",
                            "      <td>Do you have a passion for working with substan...</td>\n",
                            "      <td>1</td>\n",
                            "      <td>1</td>\n",
                            "      <td>No</td>\n",
                            "      <td>No</td>\n",
                            "      <td>1</td>\n",
                            "      <td>0</td>\n",
                            "      <td>1</td>\n",
                            "      <td>0</td>\n",
                            "      <td>electricity</td>\n",
                            "      <td>Indeed</td>\n",
                            "      <td>Trainee Trader/Analyst</td>\n",
                            "      <td>Priogen</td>\n",
                            "      <td>Amsterdam</td>\n",
                            "      <td>NaN</td>\n",
                            "      <td>No</td>\n",
                            "      <td>No</td>\n",
                            "      <td>1</td>\n",
                            "      <td>0</td>\n",
                            "      <td>1</td>\n",
                            "      <td>0</td>\n",
                            "      <td>D</td>\n",
                            "      <td>Energy supply</td>\n",
                            "      <td>3.00</td>\n",
                            "      <td>8.00</td>\n",
                            "      <td>27.59</td>\n",
                            "      <td>0.07</td>\n",
                            "      <td>0.03</td>\n",
                            "      <td>21.00</td>\n",
                            "      <td>72.41</td>\n",
                            "      <td>0.16</td>\n",
                            "      <td>0.08</td>\n",
                            "      <td>Male</td>\n",
                            "      <td>15.00</td>\n",
                            "      <td>51.72</td>\n",
                            "      <td>0.14</td>\n",
                            "      <td>0.06</td>\n",
                            "      <td>13.00</td>\n",
                            "      <td>44.83</td>\n",
                            "      <td>0.09</td>\n",
                            "      <td>0.05</td>\n",
                            "      <td>Mixed Age</td>\n",
                            "      <td>29.00</td>\n",
                            "      <td>0.11</td>\n",
                            "      <td>0</td>\n",
                            "      <td>1</td>\n",
                            "      <td>0</td>\n",
                            "      <td>1</td>\n",
                            "      <td>0</td>\n",
                            "      <td>0</td>\n",
                            "      <td>2</td>\n",
                            "      <td>1</td>\n",
                            "      <td>1</td>\n",
                            "      <td>0</td>\n",
                            "      <td>1</td>\n",
                            "      <td>0</td>\n",
                            "    </tr>\n",
                            "    <tr>\n",
                            "      <th>1</th>\n",
                            "      <td>p_4f901d97aab7b3a5</td>\n",
                            "      <td>Do you have a passion for working with substan...</td>\n",
                            "      <td>1</td>\n",
                            "      <td>1</td>\n",
                            "      <td>No</td>\n",
                            "      <td>No</td>\n",
                            "      <td>1</td>\n",
                            "      <td>0</td>\n",
                            "      <td>1</td>\n",
                            "      <td>0</td>\n",
                            "      <td>electricity</td>\n",
                            "      <td>Indeed</td>\n",
                            "      <td>Trainee Trader/Analyst</td>\n",
                            "      <td>Priogen</td>\n",
                            "      <td>Amsterdam</td>\n",
                            "      <td>NaN</td>\n",
                            "      <td>No</td>\n",
                            "      <td>No</td>\n",
                            "      <td>1</td>\n",
                            "      <td>0</td>\n",
                            "      <td>1</td>\n",
                            "      <td>0</td>\n",
                            "      <td>D</td>\n",
                            "      <td>Energy supply</td>\n",
                            "      <td>3.00</td>\n",
                            "      <td>8.00</td>\n",
                            "      <td>27.59</td>\n",
                            "      <td>0.07</td>\n",
                            "      <td>0.03</td>\n",
                            "      <td>21.00</td>\n",
                            "      <td>72.41</td>\n",
                            "      <td>0.16</td>\n",
                            "      <td>0.08</td>\n",
                            "      <td>Male</td>\n",
                            "      <td>15.00</td>\n",
                            "      <td>51.72</td>\n",
                            "      <td>0.14</td>\n",
                            "      <td>0.06</td>\n",
                            "      <td>13.00</td>\n",
                            "      <td>44.83</td>\n",
                            "      <td>0.09</td>\n",
                            "      <td>0.05</td>\n",
                            "      <td>Mixed Age</td>\n",
                            "      <td>29.00</td>\n",
                            "      <td>0.11</td>\n",
                            "      <td>0</td>\n",
                            "      <td>1</td>\n",
                            "      <td>0</td>\n",
                            "      <td>1</td>\n",
                            "      <td>0</td>\n",
                            "      <td>0</td>\n",
                            "      <td>2</td>\n",
                            "      <td>1</td>\n",
                            "      <td>1</td>\n",
                            "      <td>0</td>\n",
                            "      <td>1</td>\n",
                            "      <td>0</td>\n",
                            "    </tr>\n",
                            "    <tr>\n",
                            "      <th>2</th>\n",
                            "      <td>p_4f901d97aab7b3a5</td>\n",
                            "      <td>Do you have a passion for working with substan...</td>\n",
                            "      <td>1</td>\n",
                            "      <td>1</td>\n",
                            "      <td>No</td>\n",
                            "      <td>No</td>\n",
                            "      <td>1</td>\n",
                            "      <td>0</td>\n",
                            "      <td>1</td>\n",
                            "      <td>0</td>\n",
                            "      <td>electricity</td>\n",
                            "      <td>Indeed</td>\n",
                            "      <td>Trainee Trader/Analyst</td>\n",
                            "      <td>Priogen</td>\n",
                            "      <td>Amsterdam</td>\n",
                            "      <td>NaN</td>\n",
                            "      <td>No</td>\n",
                            "      <td>No</td>\n",
                            "      <td>1</td>\n",
                            "      <td>0</td>\n",
                            "      <td>1</td>\n",
                            "      <td>0</td>\n",
                            "      <td>D</td>\n",
                            "      <td>Energy supply</td>\n",
                            "      <td>3.00</td>\n",
                            "      <td>8.00</td>\n",
                            "      <td>27.59</td>\n",
                            "      <td>0.07</td>\n",
                            "      <td>0.03</td>\n",
                            "      <td>21.00</td>\n",
                            "      <td>72.41</td>\n",
                            "      <td>0.16</td>\n",
                            "      <td>0.08</td>\n",
                            "      <td>Male</td>\n",
                            "      <td>15.00</td>\n",
                            "      <td>51.72</td>\n",
                            "      <td>0.14</td>\n",
                            "      <td>0.06</td>\n",
                            "      <td>13.00</td>\n",
                            "      <td>44.83</td>\n",
                            "      <td>0.09</td>\n",
                            "      <td>0.05</td>\n",
                            "      <td>Mixed Age</td>\n",
                            "      <td>29.00</td>\n",
                            "      <td>0.11</td>\n",
                            "      <td>0</td>\n",
                            "      <td>1</td>\n",
                            "      <td>0</td>\n",
                            "      <td>1</td>\n",
                            "      <td>0</td>\n",
                            "      <td>0</td>\n",
                            "      <td>2</td>\n",
                            "      <td>1</td>\n",
                            "      <td>1</td>\n",
                            "      <td>0</td>\n",
                            "      <td>1</td>\n",
                            "      <td>0</td>\n",
                            "    </tr>\n",
                            "    <tr>\n",
                            "      <th>3</th>\n",
                            "      <td>p_4f901d97aab7b3a5</td>\n",
                            "      <td>Do you have a passion for working with substan...</td>\n",
                            "      <td>1</td>\n",
                            "      <td>1</td>\n",
                            "      <td>No</td>\n",
                            "      <td>No</td>\n",
                            "      <td>1</td>\n",
                            "      <td>0</td>\n",
                            "      <td>1</td>\n",
                            "      <td>0</td>\n",
                            "      <td>electricity</td>\n",
                            "      <td>Indeed</td>\n",
                            "      <td>Trainee Trader/Analyst</td>\n",
                            "      <td>Priogen</td>\n",
                            "      <td>Amsterdam</td>\n",
                            "      <td>NaN</td>\n",
                            "      <td>No</td>\n",
                            "      <td>No</td>\n",
                            "      <td>1</td>\n",
                            "      <td>0</td>\n",
                            "      <td>1</td>\n",
                            "      <td>0</td>\n",
                            "      <td>D</td>\n",
                            "      <td>Energy supply</td>\n",
                            "      <td>3.00</td>\n",
                            "      <td>8.00</td>\n",
                            "      <td>27.59</td>\n",
                            "      <td>0.07</td>\n",
                            "      <td>0.03</td>\n",
                            "      <td>21.00</td>\n",
                            "      <td>72.41</td>\n",
                            "      <td>0.16</td>\n",
                            "      <td>0.08</td>\n",
                            "      <td>Male</td>\n",
                            "      <td>15.00</td>\n",
                            "      <td>51.72</td>\n",
                            "      <td>0.14</td>\n",
                            "      <td>0.06</td>\n",
                            "      <td>13.00</td>\n",
                            "      <td>44.83</td>\n",
                            "      <td>0.09</td>\n",
                            "      <td>0.05</td>\n",
                            "      <td>Mixed Age</td>\n",
                            "      <td>29.00</td>\n",
                            "      <td>0.11</td>\n",
                            "      <td>0</td>\n",
                            "      <td>1</td>\n",
                            "      <td>0</td>\n",
                            "      <td>1</td>\n",
                            "      <td>0</td>\n",
                            "      <td>0</td>\n",
                            "      <td>2</td>\n",
                            "      <td>1</td>\n",
                            "      <td>1</td>\n",
                            "      <td>0</td>\n",
                            "      <td>1</td>\n",
                            "      <td>0</td>\n",
                            "    </tr>\n",
                            "    <tr>\n",
                            "      <th>4</th>\n",
                            "      <td>p_4f901d97aab7b3a5</td>\n",
                            "      <td>Do you have a passion for working with substan...</td>\n",
                            "      <td>1</td>\n",
                            "      <td>1</td>\n",
                            "      <td>No</td>\n",
                            "      <td>No</td>\n",
                            "      <td>1</td>\n",
                            "      <td>0</td>\n",
                            "      <td>1</td>\n",
                            "      <td>0</td>\n",
                            "      <td>electricity</td>\n",
                            "      <td>Indeed</td>\n",
                            "      <td>Trainee Trader/Analyst</td>\n",
                            "      <td>Priogen</td>\n",
                            "      <td>Amsterdam</td>\n",
                            "      <td>NaN</td>\n",
                            "      <td>No</td>\n",
                            "      <td>No</td>\n",
                            "      <td>1</td>\n",
                            "      <td>0</td>\n",
                            "      <td>1</td>\n",
                            "      <td>0</td>\n",
                            "      <td>D</td>\n",
                            "      <td>Energy supply</td>\n",
                            "      <td>3.00</td>\n",
                            "      <td>8.00</td>\n",
                            "      <td>27.59</td>\n",
                            "      <td>0.07</td>\n",
                            "      <td>0.03</td>\n",
                            "      <td>21.00</td>\n",
                            "      <td>72.41</td>\n",
                            "      <td>0.16</td>\n",
                            "      <td>0.08</td>\n",
                            "      <td>Male</td>\n",
                            "      <td>15.00</td>\n",
                            "      <td>51.72</td>\n",
                            "      <td>0.14</td>\n",
                            "      <td>0.06</td>\n",
                            "      <td>13.00</td>\n",
                            "      <td>44.83</td>\n",
                            "      <td>0.09</td>\n",
                            "      <td>0.05</td>\n",
                            "      <td>Mixed Age</td>\n",
                            "      <td>29.00</td>\n",
                            "      <td>0.11</td>\n",
                            "      <td>0</td>\n",
                            "      <td>1</td>\n",
                            "      <td>0</td>\n",
                            "      <td>1</td>\n",
                            "      <td>0</td>\n",
                            "      <td>0</td>\n",
                            "      <td>2</td>\n",
                            "      <td>1</td>\n",
                            "      <td>1</td>\n",
                            "      <td>0</td>\n",
                            "      <td>1</td>\n",
                            "      <td>0</td>\n",
                            "    </tr>\n",
                            "  </tbody>\n",
                            "</table>\n",
                            "</div>"
                        ],
                        "text/plain": [
                            "         Job ID               Job Description spacy_sentencized           Warmth  Competence Dutch Requirement in Sentence English Requirement in Sentence  Dutch Requirement in Sentence_No  Dutch Requirement in Sentence_Yes  English Requirement in Sentence_No  English Requirement in Sentence_Yes Search Keyword Platform        Job Title        Company Name   Location  Industry Dutch Requirement in Job Ad English Requirement in Job Ad  Dutch Requirement in Job Ad_No  Dutch Requirement in Job Ad_Yes  English Requirement in Job Ad_No  English Requirement in Job Ad_Yes Sector Code     Sector      Keywords Count  Gender_Female_n  Gender_Female_% per Sector  Gender_Female_% per Social Category  Gender_Female_% per Workforce  Gender_Male_n  Gender_Male_% per Sector  Gender_Male_% per Social Category  Gender_Male_% per Workforce Gender  Age_Older_n  Age_Older_% per Sector  Age_Older_% per Social Category  Age_Older_% per Workforce  Age_Younger_n  Age_Younger_% per Sector  Age_Younger_% per Social Category  Age_Younger_% per Workforce    Age      Sector_n  % Sector per Workforce  Gender_Female  Gender_Male  Gender_Mixed  Age_Mixed  Age_Older  Age_Younger  Gender_Num  Age_Num  Platform_Num  Platform_LinkedIn  Platform_Indeed  Platform_Glassdoor\n",
                            "0  p_4f901d97aab7b3a5  Do you have a passion for working with substan...     1         1                   No                             No                                1                                 0                                   1                                   0                    electricity   Indeed   Trainee Trader/Analyst    Priogen     Amsterdam    NaN                No                           No                              1                               0                                 1                                 0                       D      Energy supply       3.00            8.00                  27.59                            0.07                              0.03                  21.00                72.41                          0.16                            0.08              Male     15.00              51.72                        0.14                          0.06                13.00                44.83                          0.09                            0.05              Mixed Age   29.00             0.11                 0             1             0           1          0           0            2         1           1               0                 1                  0        \n",
                            "1  p_4f901d97aab7b3a5  Do you have a passion for working with substan...     1         1                   No                             No                                1                                 0                                   1                                   0                    electricity   Indeed   Trainee Trader/Analyst    Priogen     Amsterdam    NaN                No                           No                              1                               0                                 1                                 0                       D      Energy supply       3.00            8.00                  27.59                            0.07                              0.03                  21.00                72.41                          0.16                            0.08              Male     15.00              51.72                        0.14                          0.06                13.00                44.83                          0.09                            0.05              Mixed Age   29.00             0.11                 0             1             0           1          0           0            2         1           1               0                 1                  0        \n",
                            "2  p_4f901d97aab7b3a5  Do you have a passion for working with substan...     1         1                   No                             No                                1                                 0                                   1                                   0                    electricity   Indeed   Trainee Trader/Analyst    Priogen     Amsterdam    NaN                No                           No                              1                               0                                 1                                 0                       D      Energy supply       3.00            8.00                  27.59                            0.07                              0.03                  21.00                72.41                          0.16                            0.08              Male     15.00              51.72                        0.14                          0.06                13.00                44.83                          0.09                            0.05              Mixed Age   29.00             0.11                 0             1             0           1          0           0            2         1           1               0                 1                  0        \n",
                            "3  p_4f901d97aab7b3a5  Do you have a passion for working with substan...     1         1                   No                             No                                1                                 0                                   1                                   0                    electricity   Indeed   Trainee Trader/Analyst    Priogen     Amsterdam    NaN                No                           No                              1                               0                                 1                                 0                       D      Energy supply       3.00            8.00                  27.59                            0.07                              0.03                  21.00                72.41                          0.16                            0.08              Male     15.00              51.72                        0.14                          0.06                13.00                44.83                          0.09                            0.05              Mixed Age   29.00             0.11                 0             1             0           1          0           0            2         1           1               0                 1                  0        \n",
                            "4  p_4f901d97aab7b3a5  Do you have a passion for working with substan...     1         1                   No                             No                                1                                 0                                   1                                   0                    electricity   Indeed   Trainee Trader/Analyst    Priogen     Amsterdam    NaN                No                           No                              1                               0                                 1                                 0                       D      Energy supply       3.00            8.00                  27.59                            0.07                              0.03                  21.00                72.41                          0.16                            0.08              Male     15.00              51.72                        0.14                          0.06                13.00                44.83                          0.09                            0.05              Mixed Age   29.00             0.11                 0             1             0           1          0           0            2         1           1               0                 1                  0        "
                        ]
                    },
                    "execution_count": 84,
                    "metadata": {},
                    "output_type": "execute_result"
                }
            ],
            "source": [
                "df_manual.head()"
            ]
        },
        {
            "cell_type": "markdown",
            "id": "1d889ec9",
            "metadata": {},
            "source": [
                "#### Check if there is any missing sector data in the merged dataframe"
            ]
        },
        {
            "cell_type": "code",
            "execution_count": 85,
            "id": "43ddadb7",
            "metadata": {},
            "outputs": [
                {
                    "data": {
                        "text/plain": [
                            "0"
                        ]
                    },
                    "execution_count": 85,
                    "metadata": {},
                    "output_type": "execute_result"
                }
            ],
            "source": [
                "df_manual['Sector'].isna().sum()"
            ]
        },
        {
            "cell_type": "code",
            "execution_count": 86,
            "id": "cb5b9064",
            "metadata": {},
            "outputs": [],
            "source": [
                "if df_manual['Sector'].isna().sum() != 0:\n",
                "    print('Some search keywords did not match a sector. Fixing')\n",
                "    print(set(df_manual['Search Keyword'].loc[df_manual['Sector'].isna()].to_list()))\n",
                "    print(len(df_manual['Search Keyword'].loc[df_manual['Search Keyword'].isin(list(keyword_trans_dict.keys()))]))\n",
                "    df_manual = fix_keywords(df_manual)\n",
                "    print(set(df_manual['Search Keyword'].loc[df_manual['Sector'].isna()].to_list()))\n",
                "    print(len(df_manual['Search Keyword'].loc[df_manual['Search Keyword'].isin(list(keyword_trans_dict.keys()))]))\n"
            ]
        },
        {
            "cell_type": "code",
            "execution_count": 87,
            "id": "d0d24ae2",
            "metadata": {},
            "outputs": [
                {
                    "name": "stdout",
                    "output_type": "stream",
                    "text": [
                        "\n",
                        "DF INFO:\n",
                        "\n",
                        "<class 'pandas.core.frame.DataFrame'>\n",
                        "Index: 117 entries, 3768944208 to pj_a4ac3e531abef752\n",
                        "Data columns (total 56 columns):\n",
                        " #   Column                               Non-Null Count  Dtype   \n",
                        "---  ------                               --------------  -----   \n",
                        " 0   Job Description spacy_sentencized    117 non-null    object  \n",
                        " 1   Warmth                               117 non-null    int64   \n",
                        " 2   Competence                           117 non-null    int64   \n",
                        " 3   Dutch Requirement in Sentence        117 non-null    category\n",
                        " 4   English Requirement in Sentence      117 non-null    category\n",
                        " 5   Dutch Requirement in Sentence_No     117 non-null    uint8   \n",
                        " 6   Dutch Requirement in Sentence_Yes    117 non-null    uint8   \n",
                        " 7   English Requirement in Sentence_No   117 non-null    uint8   \n",
                        " 8   English Requirement in Sentence_Yes  117 non-null    uint8   \n",
                        " 9   Search Keyword                       117 non-null    object  \n",
                        " 10  Platform                             117 non-null    category\n",
                        " 11  Job Title                            117 non-null    object  \n",
                        " 12  Company Name                         117 non-null    object  \n",
                        " 13  Location                             117 non-null    object  \n",
                        " 14  Industry                             5 non-null      object  \n",
                        " 15  Dutch Requirement in Job Ad          117 non-null    category\n",
                        " 16  English Requirement in Job Ad        117 non-null    category\n",
                        " 17  Dutch Requirement in Job Ad_No       117 non-null    uint8   \n",
                        " 18  Dutch Requirement in Job Ad_Yes      117 non-null    uint8   \n",
                        " 19  English Requirement in Job Ad_No     117 non-null    uint8   \n",
                        " 20  English Requirement in Job Ad_Yes    117 non-null    uint8   \n",
                        " 21  Sector Code                          117 non-null    object  \n",
                        " 22  Sector                               117 non-null    object  \n",
                        " 23  Keywords Count                       117 non-null    float64 \n",
                        " 24  Gender_Female_n                      117 non-null    float64 \n",
                        " 25  Gender_Female_% per Sector           117 non-null    float64 \n",
                        " 26  Gender_Female_% per Social Category  117 non-null    float64 \n",
                        " 27  Gender_Female_% per Workforce        117 non-null    float64 \n",
                        " 28  Gender_Male_n                        117 non-null    float64 \n",
                        " 29  Gender_Male_% per Sector             117 non-null    float64 \n",
                        " 30  Gender_Male_% per Social Category    117 non-null    float64 \n",
                        " 31  Gender_Male_% per Workforce          117 non-null    float64 \n",
                        " 32  Gender                               117 non-null    category\n",
                        " 33  Age_Older_n                          117 non-null    float64 \n",
                        " 34  Age_Older_% per Sector               117 non-null    float64 \n",
                        " 35  Age_Older_% per Social Category      117 non-null    float64 \n",
                        " 36  Age_Older_% per Workforce            117 non-null    float64 \n",
                        " 37  Age_Younger_n                        117 non-null    float64 \n",
                        " 38  Age_Younger_% per Sector             117 non-null    float64 \n",
                        " 39  Age_Younger_% per Social Category    117 non-null    float64 \n",
                        " 40  Age_Younger_% per Workforce          117 non-null    float64 \n",
                        " 41  Age                                  117 non-null    category\n",
                        " 42  Sector_n                             117 non-null    float64 \n",
                        " 43  % Sector per Workforce               117 non-null    float64 \n",
                        " 44  Gender_Female                        117 non-null    int64   \n",
                        " 45  Gender_Male                          117 non-null    int64   \n",
                        " 46  Gender_Mixed                         117 non-null    int64   \n",
                        " 47  Age_Mixed                            117 non-null    int64   \n",
                        " 48  Age_Older                            117 non-null    int64   \n",
                        " 49  Age_Younger                          117 non-null    int64   \n",
                        " 50  Gender_Num                           117 non-null    int64   \n",
                        " 51  Age_Num                              117 non-null    int64   \n",
                        " 52  Platform_Num                         117 non-null    int64   \n",
                        " 53  Platform_LinkedIn                    117 non-null    int64   \n",
                        " 54  Platform_Indeed                      117 non-null    int64   \n",
                        " 55  Platform_Glassdoor                   117 non-null    int64   \n",
                        "dtypes: category(7), float64(19), int64(14), object(8), uint8(8)\n",
                        "memory usage: 41.0+ KB\n",
                        "====================\n",
                        "Gender:\n",
                        "--------------------\n",
                        "Gender Counts:\n",
                        "Mixed Gender    72\n",
                        "Male            27\n",
                        "Female          18\n",
                        "Name: Gender, dtype: int64\n",
                        "--------------------\n",
                        "Gender Percentages:\n",
                        "Mixed Gender   61.50\n",
                        "Male           23.10\n",
                        "Female         15.40\n",
                        "Name: Gender, dtype: float64\n",
                        "--------------------\n",
                        "Min Gender value: Female\n",
                        "Max Gender value: Male\n",
                        "--------------------\n",
                        "====================\n",
                        "Gender_Num:\n",
                        "--------------------\n",
                        "Gender_Num Counts:\n",
                        "1    72\n",
                        "2    27\n",
                        "0    18\n",
                        "Name: Gender_Num, dtype: int64\n",
                        "--------------------\n",
                        "Gender_Num Percentages:\n",
                        "1   61.50\n",
                        "2   23.10\n",
                        "0   15.40\n",
                        "Name: Gender_Num, dtype: float64\n",
                        "--------------------\n",
                        "Min Gender_Num value: 0\n",
                        "Max Gender_Num value: 2\n",
                        "--------------------\n",
                        "Gender_Num Mean: 1.08\n",
                        "--------------------\n",
                        "Gender_Num Standard Deviation: 0.62\n",
                        "====================\n",
                        "Gender_Female:\n",
                        "--------------------\n",
                        "Gender_Female Counts:\n",
                        "0    99\n",
                        "1    18\n",
                        "Name: Gender_Female, dtype: int64\n",
                        "--------------------\n",
                        "Gender_Female Percentages:\n",
                        "0   84.60\n",
                        "1   15.40\n",
                        "Name: Gender_Female, dtype: float64\n",
                        "--------------------\n",
                        "Min Gender_Female value: 0\n",
                        "Max Gender_Female value: 1\n",
                        "--------------------\n",
                        "Gender_Female Mean: 0.15\n",
                        "--------------------\n",
                        "Gender_Female Standard Deviation: 0.36\n",
                        "====================\n",
                        "Gender_Mixed:\n",
                        "--------------------\n",
                        "Gender_Mixed Counts:\n",
                        "1    72\n",
                        "0    45\n",
                        "Name: Gender_Mixed, dtype: int64\n",
                        "--------------------\n",
                        "Gender_Mixed Percentages:\n",
                        "1   61.50\n",
                        "0   38.50\n",
                        "Name: Gender_Mixed, dtype: float64\n",
                        "--------------------\n",
                        "Min Gender_Mixed value: 0\n",
                        "Max Gender_Mixed value: 1\n",
                        "--------------------\n",
                        "Gender_Mixed Mean: 0.62\n",
                        "--------------------\n",
                        "Gender_Mixed Standard Deviation: 0.49\n",
                        "====================\n",
                        "Gender_Male:\n",
                        "--------------------\n",
                        "Gender_Male Counts:\n",
                        "0    90\n",
                        "1    27\n",
                        "Name: Gender_Male, dtype: int64\n",
                        "--------------------\n",
                        "Gender_Male Percentages:\n",
                        "0   76.90\n",
                        "1   23.10\n",
                        "Name: Gender_Male, dtype: float64\n",
                        "--------------------\n",
                        "Min Gender_Male value: 0\n",
                        "Max Gender_Male value: 1\n",
                        "--------------------\n",
                        "Gender_Male Mean: 0.23\n",
                        "--------------------\n",
                        "Gender_Male Standard Deviation: 0.42\n",
                        "====================\n",
                        "Gender_Female_n:\n",
                        "--------------------\n",
                        "Min Gender_Female_n value: 7.0\n",
                        "Max Gender_Female_n value: 3970.0\n",
                        "--------------------\n",
                        "Gender_Female_n Mean: 555.51\n",
                        "--------------------\n",
                        "Gender_Female_n Standard Deviation: 785.27\n",
                        "====================\n",
                        "Gender_Male_n:\n",
                        "--------------------\n",
                        "Min Gender_Male_n value: 21.0\n",
                        "Max Gender_Male_n value: 4510.0\n",
                        "--------------------\n",
                        "Gender_Male_n Mean: 586.63\n",
                        "--------------------\n",
                        "Gender_Male_n Standard Deviation: 728.09\n",
                        "====================\n",
                        "Gender_Female_% per Sector:\n",
                        "--------------------\n",
                        "Min Gender_Female_% per Sector value: 19.444444444444446\n",
                        "Max Gender_Female_% per Sector value: 84.2986741102582\n",
                        "--------------------\n",
                        "Gender_Female_% per Sector Mean: 44.39\n",
                        "--------------------\n",
                        "Gender_Female_% per Sector Standard Deviation: 16.17\n",
                        "====================\n",
                        "Gender_Male_% per Sector:\n",
                        "--------------------\n",
                        "Min Gender_Male_% per Sector value: 15.631542219120725\n",
                        "Max Gender_Male_% per Sector value: 80.55555555555556\n",
                        "--------------------\n",
                        "Gender_Male_% per Sector Mean: 55.59\n",
                        "--------------------\n",
                        "Gender_Male_% per Sector Standard Deviation: 16.19\n",
                        "====================\n",
                        "Age:\n",
                        "--------------------\n",
                        "Age Counts:\n",
                        "Younger      60\n",
                        "Mixed Age    42\n",
                        "Older        15\n",
                        "Name: Age, dtype: int64\n",
                        "--------------------\n",
                        "Age Percentages:\n",
                        "Younger     51.30\n",
                        "Mixed Age   35.90\n",
                        "Older       12.80\n",
                        "Name: Age, dtype: float64\n",
                        "--------------------\n",
                        "Min Age value: Older\n",
                        "Max Age value: Younger\n",
                        "--------------------\n",
                        "====================\n",
                        "Age_Num:\n",
                        "--------------------\n",
                        "Age_Num Counts:\n",
                        "2    60\n",
                        "1    42\n",
                        "0    15\n",
                        "Name: Age_Num, dtype: int64\n",
                        "--------------------\n",
                        "Age_Num Percentages:\n",
                        "2   51.30\n",
                        "1   35.90\n",
                        "0   12.80\n",
                        "Name: Age_Num, dtype: float64\n",
                        "--------------------\n",
                        "Min Age_Num value: 0\n",
                        "Max Age_Num value: 2\n",
                        "--------------------\n",
                        "Age_Num Mean: 1.38\n",
                        "--------------------\n",
                        "Age_Num Standard Deviation: 0.71\n",
                        "====================\n",
                        "Age_Older:\n",
                        "--------------------\n",
                        "Age_Older Counts:\n",
                        "0    102\n",
                        "1     15\n",
                        "Name: Age_Older, dtype: int64\n",
                        "--------------------\n",
                        "Age_Older Percentages:\n",
                        "0   87.20\n",
                        "1   12.80\n",
                        "Name: Age_Older, dtype: float64\n",
                        "--------------------\n",
                        "Min Age_Older value: 0\n",
                        "Max Age_Older value: 1\n",
                        "--------------------\n",
                        "Age_Older Mean: 0.13\n",
                        "--------------------\n",
                        "Age_Older Standard Deviation: 0.34\n",
                        "====================\n",
                        "Age_Mixed:\n",
                        "--------------------\n",
                        "Age_Mixed Counts:\n",
                        "0    75\n",
                        "1    42\n",
                        "Name: Age_Mixed, dtype: int64\n",
                        "--------------------\n",
                        "Age_Mixed Percentages:\n",
                        "0   64.10\n",
                        "1   35.90\n",
                        "Name: Age_Mixed, dtype: float64\n",
                        "--------------------\n",
                        "Min Age_Mixed value: 0\n",
                        "Max Age_Mixed value: 1\n",
                        "--------------------\n",
                        "Age_Mixed Mean: 0.36\n",
                        "--------------------\n",
                        "Age_Mixed Standard Deviation: 0.48\n",
                        "====================\n",
                        "Age_Younger:\n",
                        "--------------------\n",
                        "Age_Younger Counts:\n",
                        "1    60\n",
                        "0    57\n",
                        "Name: Age_Younger, dtype: int64\n",
                        "--------------------\n",
                        "Age_Younger Percentages:\n",
                        "1   51.30\n",
                        "0   48.70\n",
                        "Name: Age_Younger, dtype: float64\n",
                        "--------------------\n",
                        "Min Age_Younger value: 0\n",
                        "Max Age_Younger value: 1\n",
                        "--------------------\n",
                        "Age_Younger Mean: 0.51\n",
                        "--------------------\n",
                        "Age_Younger Standard Deviation: 0.5\n",
                        "====================\n",
                        "Age_Older_n:\n",
                        "--------------------\n",
                        "Min Age_Older_n value: 15.0\n",
                        "Max Age_Older_n value: 2844.0\n",
                        "--------------------\n",
                        "Age_Older_n Mean: 440.05\n",
                        "--------------------\n",
                        "Age_Older_n Standard Deviation: 576.53\n",
                        "====================\n",
                        "Age_Younger_n:\n",
                        "--------------------\n",
                        "Min Age_Younger_n value: 13.0\n",
                        "Max Age_Younger_n value: 5228.0\n",
                        "--------------------\n",
                        "Age_Younger_n Mean: 700.86\n",
                        "--------------------\n",
                        "Age_Younger_n Standard Deviation: 868.11\n",
                        "====================\n",
                        "Age_Older_% per Sector:\n",
                        "--------------------\n",
                        "Min Age_Older_% per Sector value: 18.939393939393938\n",
                        "Max Age_Older_% per Sector value: 58.333333333333336\n",
                        "--------------------\n",
                        "Age_Older_% per Sector Mean: 38.68\n",
                        "--------------------\n",
                        "Age_Older_% per Sector Standard Deviation: 9.05\n",
                        "====================\n",
                        "Age_Younger_% per Sector:\n",
                        "--------------------\n",
                        "Min Age_Younger_% per Sector value: 44.44444444444444\n",
                        "Max Age_Younger_% per Sector value: 80.8080808080808\n",
                        "--------------------\n",
                        "Age_Younger_% per Sector Mean: 61.05\n",
                        "--------------------\n",
                        "Age_Younger_% per Sector Standard Deviation: 9.18\n",
                        "\n",
                        "\n"
                    ]
                }
            ],
            "source": [
                "# Manual Job Ad info, len = 117\n",
                "get_df_info(df_manual.groupby(['Job ID']).first(), ivs_all=ivs_all)\n"
            ]
        },
        {
            "cell_type": "code",
            "execution_count": 88,
            "id": "d4d65547",
            "metadata": {},
            "outputs": [
                {
                    "name": "stdout",
                    "output_type": "stream",
                    "text": [
                        "\n",
                        "DF INFO:\n",
                        "\n",
                        "<class 'pandas.core.frame.DataFrame'>\n",
                        "Int64Index: 623749 entries, 0 to 623748\n",
                        "Data columns (total 57 columns):\n",
                        " #   Column                               Non-Null Count   Dtype   \n",
                        "---  ------                               --------------   -----   \n",
                        " 0   Job ID                               623749 non-null  object  \n",
                        " 1   Job Description spacy_sentencized    623749 non-null  object  \n",
                        " 2   Warmth                               623749 non-null  int64   \n",
                        " 3   Competence                           623749 non-null  int64   \n",
                        " 4   Dutch Requirement in Sentence        623749 non-null  category\n",
                        " 5   English Requirement in Sentence      623749 non-null  category\n",
                        " 6   Dutch Requirement in Sentence_No     623749 non-null  uint8   \n",
                        " 7   Dutch Requirement in Sentence_Yes    623749 non-null  uint8   \n",
                        " 8   English Requirement in Sentence_No   623749 non-null  uint8   \n",
                        " 9   English Requirement in Sentence_Yes  623749 non-null  uint8   \n",
                        " 10  Search Keyword                       623749 non-null  object  \n",
                        " 11  Platform                             623749 non-null  category\n",
                        " 12  Job Title                            623749 non-null  object  \n",
                        " 13  Company Name                         623749 non-null  object  \n",
                        " 14  Location                             623749 non-null  object  \n",
                        " 15  Industry                             29831 non-null   object  \n",
                        " 16  Dutch Requirement in Job Ad          623749 non-null  category\n",
                        " 17  English Requirement in Job Ad        623749 non-null  category\n",
                        " 18  Dutch Requirement in Job Ad_No       623749 non-null  uint8   \n",
                        " 19  Dutch Requirement in Job Ad_Yes      623749 non-null  uint8   \n",
                        " 20  English Requirement in Job Ad_No     623749 non-null  uint8   \n",
                        " 21  English Requirement in Job Ad_Yes    623749 non-null  uint8   \n",
                        " 22  Sector Code                          623749 non-null  object  \n",
                        " 23  Sector                               623749 non-null  object  \n",
                        " 24  Keywords Count                       623749 non-null  float64 \n",
                        " 25  Gender_Female_n                      623749 non-null  float64 \n",
                        " 26  Gender_Female_% per Sector           623749 non-null  float64 \n",
                        " 27  Gender_Female_% per Social Category  623749 non-null  float64 \n",
                        " 28  Gender_Female_% per Workforce        623749 non-null  float64 \n",
                        " 29  Gender_Male_n                        623749 non-null  float64 \n",
                        " 30  Gender_Male_% per Sector             623749 non-null  float64 \n",
                        " 31  Gender_Male_% per Social Category    623749 non-null  float64 \n",
                        " 32  Gender_Male_% per Workforce          623749 non-null  float64 \n",
                        " 33  Gender                               623749 non-null  category\n",
                        " 34  Age_Older_n                          623749 non-null  float64 \n",
                        " 35  Age_Older_% per Sector               623749 non-null  float64 \n",
                        " 36  Age_Older_% per Social Category      623749 non-null  float64 \n",
                        " 37  Age_Older_% per Workforce            623749 non-null  float64 \n",
                        " 38  Age_Younger_n                        623749 non-null  float64 \n",
                        " 39  Age_Younger_% per Sector             623749 non-null  float64 \n",
                        " 40  Age_Younger_% per Social Category    623749 non-null  float64 \n",
                        " 41  Age_Younger_% per Workforce          623749 non-null  float64 \n",
                        " 42  Age                                  623749 non-null  category\n",
                        " 43  Sector_n                             623749 non-null  float64 \n",
                        " 44  % Sector per Workforce               623749 non-null  float64 \n",
                        " 45  Gender_Female                        623749 non-null  int64   \n",
                        " 46  Gender_Male                          623749 non-null  int64   \n",
                        " 47  Gender_Mixed                         623749 non-null  int64   \n",
                        " 48  Age_Mixed                            623749 non-null  int64   \n",
                        " 49  Age_Older                            623749 non-null  int64   \n",
                        " 50  Age_Younger                          623749 non-null  int64   \n",
                        " 51  Gender_Num                           623749 non-null  int64   \n",
                        " 52  Age_Num                              623749 non-null  int64   \n",
                        " 53  Platform_Num                         623749 non-null  int64   \n",
                        " 54  Platform_LinkedIn                    623749 non-null  int64   \n",
                        " 55  Platform_Indeed                      623749 non-null  int64   \n",
                        " 56  Platform_Glassdoor                   623749 non-null  int64   \n",
                        "dtypes: category(7), float64(19), int64(14), object(9), uint8(8)\n",
                        "memory usage: 213.6+ MB\n",
                        "====================\n",
                        "Gender:\n",
                        "--------------------\n",
                        "Gender Counts:\n",
                        "Mixed Gender    398402\n",
                        "Male            126481\n",
                        "Female           98866\n",
                        "Name: Gender, dtype: int64\n",
                        "--------------------\n",
                        "Gender Percentages:\n",
                        "Mixed Gender   63.90\n",
                        "Male           20.30\n",
                        "Female         15.90\n",
                        "Name: Gender, dtype: float64\n",
                        "--------------------\n",
                        "Min Gender value: Female\n",
                        "Max Gender value: Male\n",
                        "--------------------\n",
                        "====================\n",
                        "Gender_Num:\n",
                        "--------------------\n",
                        "Gender_Num Counts:\n",
                        "1    398402\n",
                        "2    126481\n",
                        "0     98866\n",
                        "Name: Gender_Num, dtype: int64\n",
                        "--------------------\n",
                        "Gender_Num Percentages:\n",
                        "1   63.90\n",
                        "2   20.30\n",
                        "0   15.90\n",
                        "Name: Gender_Num, dtype: float64\n",
                        "--------------------\n",
                        "Min Gender_Num value: 0\n",
                        "Max Gender_Num value: 2\n",
                        "--------------------\n",
                        "Gender_Num Mean: 1.04\n",
                        "--------------------\n",
                        "Gender_Num Standard Deviation: 0.6\n",
                        "====================\n",
                        "Gender_Female:\n",
                        "--------------------\n",
                        "Gender_Female Counts:\n",
                        "0    524883\n",
                        "1     98866\n",
                        "Name: Gender_Female, dtype: int64\n",
                        "--------------------\n",
                        "Gender_Female Percentages:\n",
                        "0   84.10\n",
                        "1   15.90\n",
                        "Name: Gender_Female, dtype: float64\n",
                        "--------------------\n",
                        "Min Gender_Female value: 0\n",
                        "Max Gender_Female value: 1\n",
                        "--------------------\n",
                        "Gender_Female Mean: 0.16\n",
                        "--------------------\n",
                        "Gender_Female Standard Deviation: 0.37\n",
                        "====================\n",
                        "Gender_Mixed:\n",
                        "--------------------\n",
                        "Gender_Mixed Counts:\n",
                        "1    398402\n",
                        "0    225347\n",
                        "Name: Gender_Mixed, dtype: int64\n",
                        "--------------------\n",
                        "Gender_Mixed Percentages:\n",
                        "1   63.90\n",
                        "0   36.10\n",
                        "Name: Gender_Mixed, dtype: float64\n",
                        "--------------------\n",
                        "Min Gender_Mixed value: 0\n",
                        "Max Gender_Mixed value: 1\n",
                        "--------------------\n",
                        "Gender_Mixed Mean: 0.64\n",
                        "--------------------\n",
                        "Gender_Mixed Standard Deviation: 0.48\n",
                        "====================\n",
                        "Gender_Male:\n",
                        "--------------------\n",
                        "Gender_Male Counts:\n",
                        "0    497268\n",
                        "1    126481\n",
                        "Name: Gender_Male, dtype: int64\n",
                        "--------------------\n",
                        "Gender_Male Percentages:\n",
                        "0   79.70\n",
                        "1   20.30\n",
                        "Name: Gender_Male, dtype: float64\n",
                        "--------------------\n",
                        "Min Gender_Male value: 0\n",
                        "Max Gender_Male value: 1\n",
                        "--------------------\n",
                        "Gender_Male Mean: 0.2\n",
                        "--------------------\n",
                        "Gender_Male Standard Deviation: 0.4\n",
                        "====================\n",
                        "Gender_Female_n:\n",
                        "--------------------\n",
                        "Min Gender_Female_n value: 7.0\n",
                        "Max Gender_Female_n value: 3970.0\n",
                        "--------------------\n",
                        "Gender_Female_n Mean: 553.23\n",
                        "--------------------\n",
                        "Gender_Female_n Standard Deviation: 762.64\n",
                        "====================\n",
                        "Gender_Male_n:\n",
                        "--------------------\n",
                        "Min Gender_Male_n value: 21.0\n",
                        "Max Gender_Male_n value: 4510.0\n",
                        "--------------------\n",
                        "Gender_Male_n Mean: 588.01\n",
                        "--------------------\n",
                        "Gender_Male_n Standard Deviation: 712.29\n",
                        "====================\n",
                        "Gender_Female_% per Sector:\n",
                        "--------------------\n",
                        "Min Gender_Female_% per Sector value: 19.444444444444446\n",
                        "Max Gender_Female_% per Sector value: 84.2986741102582\n",
                        "--------------------\n",
                        "Gender_Female_% per Sector Mean: 44.9\n",
                        "--------------------\n",
                        "Gender_Female_% per Sector Standard Deviation: 15.77\n",
                        "====================\n",
                        "Gender_Male_% per Sector:\n",
                        "--------------------\n",
                        "Min Gender_Male_% per Sector value: 15.631542219120725\n",
                        "Max Gender_Male_% per Sector value: 80.55555555555556\n",
                        "--------------------\n",
                        "Gender_Male_% per Sector Mean: 55.08\n",
                        "--------------------\n",
                        "Gender_Male_% per Sector Standard Deviation: 15.8\n",
                        "====================\n",
                        "Age:\n",
                        "--------------------\n",
                        "Age Counts:\n",
                        "Younger      336194\n",
                        "Mixed Age    217029\n",
                        "Older         70526\n",
                        "Name: Age, dtype: int64\n",
                        "--------------------\n",
                        "Age Percentages:\n",
                        "Younger     53.90\n",
                        "Mixed Age   34.80\n",
                        "Older       11.30\n",
                        "Name: Age, dtype: float64\n",
                        "--------------------\n",
                        "Min Age value: Older\n",
                        "Max Age value: Younger\n",
                        "--------------------\n",
                        "====================\n",
                        "Age_Num:\n",
                        "--------------------\n",
                        "Age_Num Counts:\n",
                        "2    336194\n",
                        "1    217029\n",
                        "0     70526\n",
                        "Name: Age_Num, dtype: int64\n",
                        "--------------------\n",
                        "Age_Num Percentages:\n",
                        "2   53.90\n",
                        "1   34.80\n",
                        "0   11.30\n",
                        "Name: Age_Num, dtype: float64\n",
                        "--------------------\n",
                        "Min Age_Num value: 0\n",
                        "Max Age_Num value: 2\n",
                        "--------------------\n",
                        "Age_Num Mean: 1.43\n",
                        "--------------------\n",
                        "Age_Num Standard Deviation: 0.69\n",
                        "====================\n",
                        "Age_Older:\n",
                        "--------------------\n",
                        "Age_Older Counts:\n",
                        "0    553223\n",
                        "1     70526\n",
                        "Name: Age_Older, dtype: int64\n",
                        "--------------------\n",
                        "Age_Older Percentages:\n",
                        "0   88.70\n",
                        "1   11.30\n",
                        "Name: Age_Older, dtype: float64\n",
                        "--------------------\n",
                        "Min Age_Older value: 0\n",
                        "Max Age_Older value: 1\n",
                        "--------------------\n",
                        "Age_Older Mean: 0.11\n",
                        "--------------------\n",
                        "Age_Older Standard Deviation: 0.32\n",
                        "====================\n",
                        "Age_Mixed:\n",
                        "--------------------\n",
                        "Age_Mixed Counts:\n",
                        "0    406720\n",
                        "1    217029\n",
                        "Name: Age_Mixed, dtype: int64\n",
                        "--------------------\n",
                        "Age_Mixed Percentages:\n",
                        "0   65.20\n",
                        "1   34.80\n",
                        "Name: Age_Mixed, dtype: float64\n",
                        "--------------------\n",
                        "Min Age_Mixed value: 0\n",
                        "Max Age_Mixed value: 1\n",
                        "--------------------\n",
                        "Age_Mixed Mean: 0.35\n",
                        "--------------------\n",
                        "Age_Mixed Standard Deviation: 0.48\n",
                        "====================\n",
                        "Age_Younger:\n",
                        "--------------------\n",
                        "Age_Younger Counts:\n",
                        "1    336194\n",
                        "0    287555\n",
                        "Name: Age_Younger, dtype: int64\n",
                        "--------------------\n",
                        "Age_Younger Percentages:\n",
                        "1   53.90\n",
                        "0   46.10\n",
                        "Name: Age_Younger, dtype: float64\n",
                        "--------------------\n",
                        "Min Age_Younger value: 0\n",
                        "Max Age_Younger value: 1\n",
                        "--------------------\n",
                        "Age_Younger Mean: 0.54\n",
                        "--------------------\n",
                        "Age_Younger Standard Deviation: 0.5\n",
                        "====================\n",
                        "Age_Older_n:\n",
                        "--------------------\n",
                        "Min Age_Older_n value: 15.0\n",
                        "Max Age_Older_n value: 2844.0\n",
                        "--------------------\n",
                        "Age_Older_n Mean: 436.32\n",
                        "--------------------\n",
                        "Age_Older_n Standard Deviation: 561.72\n",
                        "====================\n",
                        "Age_Younger_n:\n",
                        "--------------------\n",
                        "Min Age_Younger_n value: 13.0\n",
                        "Max Age_Younger_n value: 5228.0\n",
                        "--------------------\n",
                        "Age_Younger_n Mean: 703.63\n",
                        "--------------------\n",
                        "Age_Younger_n Standard Deviation: 845.35\n",
                        "====================\n",
                        "Age_Older_% per Sector:\n",
                        "--------------------\n",
                        "Min Age_Older_% per Sector value: 18.939393939393938\n",
                        "Max Age_Older_% per Sector value: 58.333333333333336\n",
                        "--------------------\n",
                        "Age_Older_% per Sector Mean: 38.14\n",
                        "--------------------\n",
                        "Age_Older_% per Sector Standard Deviation: 8.76\n",
                        "====================\n",
                        "Age_Younger_% per Sector:\n",
                        "--------------------\n",
                        "Min Age_Younger_% per Sector value: 44.44444444444444\n",
                        "Max Age_Younger_% per Sector value: 80.8080808080808\n",
                        "--------------------\n",
                        "Age_Younger_% per Sector Mean: 61.59\n",
                        "--------------------\n",
                        "Age_Younger_% per Sector Standard Deviation: 8.86\n",
                        "\n",
                        "\n"
                    ]
                }
            ],
            "source": [
                "# Manual Job Sentence info\n",
                "get_df_info(df_manual, ivs_all=ivs_all)\n"
            ]
        },
        {
            "cell_type": "code",
            "execution_count": 89,
            "id": "d1d8a085",
            "metadata": {},
            "outputs": [
                {
                    "name": "stdout",
                    "output_type": "stream",
                    "text": [
                        "\n",
                        "DF INFO:\n",
                        "\n",
                        "<class 'pandas.core.frame.DataFrame'>\n",
                        "Int64Index: 623749 entries, 0 to 623748\n",
                        "Data columns (total 57 columns):\n",
                        " #   Column                               Non-Null Count   Dtype   \n",
                        "---  ------                               --------------   -----   \n",
                        " 0   Job ID                               623749 non-null  object  \n",
                        " 1   Job Description spacy_sentencized    623749 non-null  object  \n",
                        " 2   Warmth                               623749 non-null  int64   \n",
                        " 3   Competence                           623749 non-null  int64   \n",
                        " 4   Dutch Requirement in Sentence        623749 non-null  category\n",
                        " 5   English Requirement in Sentence      623749 non-null  category\n",
                        " 6   Dutch Requirement in Sentence_No     623749 non-null  uint8   \n",
                        " 7   Dutch Requirement in Sentence_Yes    623749 non-null  uint8   \n",
                        " 8   English Requirement in Sentence_No   623749 non-null  uint8   \n",
                        " 9   English Requirement in Sentence_Yes  623749 non-null  uint8   \n",
                        " 10  Search Keyword                       623749 non-null  object  \n",
                        " 11  Platform                             623749 non-null  category\n",
                        " 12  Job Title                            623749 non-null  object  \n",
                        " 13  Company Name                         623749 non-null  object  \n",
                        " 14  Location                             623749 non-null  object  \n",
                        " 15  Industry                             29831 non-null   object  \n",
                        " 16  Dutch Requirement in Job Ad          623749 non-null  category\n",
                        " 17  English Requirement in Job Ad        623749 non-null  category\n",
                        " 18  Dutch Requirement in Job Ad_No       623749 non-null  uint8   \n",
                        " 19  Dutch Requirement in Job Ad_Yes      623749 non-null  uint8   \n",
                        " 20  English Requirement in Job Ad_No     623749 non-null  uint8   \n",
                        " 21  English Requirement in Job Ad_Yes    623749 non-null  uint8   \n",
                        " 22  Sector Code                          623749 non-null  object  \n",
                        " 23  Sector                               623749 non-null  object  \n",
                        " 24  Keywords Count                       623749 non-null  float64 \n",
                        " 25  Gender_Female_n                      623749 non-null  float64 \n",
                        " 26  Gender_Female_% per Sector           623749 non-null  float64 \n",
                        " 27  Gender_Female_% per Social Category  623749 non-null  float64 \n",
                        " 28  Gender_Female_% per Workforce        623749 non-null  float64 \n",
                        " 29  Gender_Male_n                        623749 non-null  float64 \n",
                        " 30  Gender_Male_% per Sector             623749 non-null  float64 \n",
                        " 31  Gender_Male_% per Social Category    623749 non-null  float64 \n",
                        " 32  Gender_Male_% per Workforce          623749 non-null  float64 \n",
                        " 33  Gender                               623749 non-null  category\n",
                        " 34  Age_Older_n                          623749 non-null  float64 \n",
                        " 35  Age_Older_% per Sector               623749 non-null  float64 \n",
                        " 36  Age_Older_% per Social Category      623749 non-null  float64 \n",
                        " 37  Age_Older_% per Workforce            623749 non-null  float64 \n",
                        " 38  Age_Younger_n                        623749 non-null  float64 \n",
                        " 39  Age_Younger_% per Sector             623749 non-null  float64 \n",
                        " 40  Age_Younger_% per Social Category    623749 non-null  float64 \n",
                        " 41  Age_Younger_% per Workforce          623749 non-null  float64 \n",
                        " 42  Age                                  623749 non-null  category\n",
                        " 43  Sector_n                             623749 non-null  float64 \n",
                        " 44  % Sector per Workforce               623749 non-null  float64 \n",
                        " 45  Gender_Female                        623749 non-null  int64   \n",
                        " 46  Gender_Male                          623749 non-null  int64   \n",
                        " 47  Gender_Mixed                         623749 non-null  int64   \n",
                        " 48  Age_Mixed                            623749 non-null  int64   \n",
                        " 49  Age_Older                            623749 non-null  int64   \n",
                        " 50  Age_Younger                          623749 non-null  int64   \n",
                        " 51  Gender_Num                           623749 non-null  int64   \n",
                        " 52  Age_Num                              623749 non-null  int64   \n",
                        " 53  Platform_Num                         623749 non-null  int64   \n",
                        " 54  Platform_LinkedIn                    623749 non-null  int64   \n",
                        " 55  Platform_Indeed                      623749 non-null  int64   \n",
                        " 56  Platform_Glassdoor                   623749 non-null  int64   \n",
                        "dtypes: category(7), float64(19), int64(14), object(9), uint8(8)\n",
                        "memory usage: 213.6+ MB\n",
                        "====================\n",
                        "Warmth:\n",
                        "--------------------\n",
                        "Warmth Counts:\n",
                        "0    449794\n",
                        "1    173955\n",
                        "Name: Warmth, dtype: int64\n",
                        "--------------------\n",
                        "Warmth Percentages:\n",
                        "0   72.10\n",
                        "1   27.90\n",
                        "Name: Warmth, dtype: float64\n",
                        "--------------------\n",
                        "Min Warmth value: 0\n",
                        "Max Warmth value: 1\n",
                        "--------------------\n",
                        "Warmth Mean: 0.28\n",
                        "--------------------\n",
                        "Warmth Standard Deviation: 0.45\n",
                        "====================\n",
                        "Competence:\n",
                        "--------------------\n",
                        "Competence Counts:\n",
                        "0    313568\n",
                        "1    310181\n",
                        "Name: Competence, dtype: int64\n",
                        "--------------------\n",
                        "Competence Percentages:\n",
                        "0   50.30\n",
                        "1   49.70\n",
                        "Name: Competence, dtype: float64\n",
                        "--------------------\n",
                        "Min Competence value: 0\n",
                        "Max Competence value: 1\n",
                        "--------------------\n",
                        "Competence Mean: 0.5\n",
                        "--------------------\n",
                        "Competence Standard Deviation: 0.5\n",
                        "\n",
                        "\n"
                    ]
                }
            ],
            "source": [
                "# Warmth 1 = 1489 (24.90%), Competence 1 = 2667 (44.30%)\n",
                "get_df_info(df_manual, ivs_all=dvs)\n"
            ]
        },
        {
            "cell_type": "code",
            "execution_count": 90,
            "id": "f599e9cd",
            "metadata": {},
            "outputs": [],
            "source": [
                "if df_manual['Sector'].isna().sum() == 0:\n",
                "    assert len(df_manual) > 0 and isinstance(df_manual, pd.DataFrame), f'ERORR: LENGTH OF DF = {len(df_manual)}'\n",
                "    df_manual.to_pickle(f'{df_save_dir}df_manual_including_sector_genage_data.pkl')\n",
                "    df_manual.to_csv(f'{df_save_dir}df_manual_including_sector_genage_data.csv')\n",
                "else:\n",
                "    print(f\"MISSING SECTOR DATA: COUNT {df_manual['Sector'].isna().sum()}\")"
            ]
        },
        {
            "cell_type": "markdown",
            "id": "6373c116",
            "metadata": {},
            "source": [
                "# ATTN: This script should be run AFTER spacy sentence splitting is completed.\n"
            ]
        },
        {
            "attachments": {},
            "cell_type": "markdown",
            "id": "993064a6",
            "metadata": {},
            "source": [
                "## Use spacy to tokenize sentences\n"
            ]
        },
        {
            "cell_type": "markdown",
            "id": "c744a550",
            "metadata": {},
            "source": [
                "### START HERE IF SOURCING FROM df_manual_SENTENCIZED\n",
                "### PLEASE SET CORRECT DIRECTORY PATHS BELOW\n"
            ]
        },
        {
            "cell_type": "code",
            "execution_count": 91,
            "id": "b997d96c",
            "metadata": {},
            "outputs": [],
            "source": [
                "import os # type:ignore # isort:skip # fmt:skip # noqa # nopep8\n",
                "import sys # type:ignore # isort:skip # fmt:skip # noqa # nopep8\n",
                "from pathlib import Path # type:ignore # isort:skip # fmt:skip # noqa # nopep8\n",
                "\n",
                "mod = sys.modules[__name__]\n",
                "\n",
                "code_dir = None\n",
                "code_dir_name = 'Code'\n",
                "unwanted_subdir_name = 'Analysis'\n",
                "\n",
                "for _ in range(5):\n",
                "\n",
                "    parent_path = str(Path.cwd().parents[_]).split('/')[-1]\n",
                "\n",
                "    if (code_dir_name in parent_path) and (unwanted_subdir_name not in parent_path):\n",
                "\n",
                "        code_dir = str(Path.cwd().parents[_])\n",
                "\n",
                "        if code_dir is not None:\n",
                "            break\n",
                "\n",
                "sys.path.append(code_dir)\n",
                "# %load_ext autoreload\n",
                "# %autoreload 2\n"
            ]
        },
        {
            "cell_type": "code",
            "execution_count": 92,
            "id": "390017aa",
            "metadata": {},
            "outputs": [],
            "source": [
                "from setup_module.imports import * # type:ignore # isort:skip # fmt:skip # noqa # nopep8\n"
            ]
        },
        {
            "cell_type": "code",
            "execution_count": 93,
            "id": "4c3b98f1",
            "metadata": {},
            "outputs": [],
            "source": [
                "def get_word_num_and_frequency(row, text_col):\n",
                "\n",
                "    with open(f'{data_dir}punctuations.txt', 'rb') as f:\n",
                "        custom_punct_chars = pickle.load(f)\n",
                "    row['Job Description num_words'] = len(str(row[text_col]).split())\n",
                "    row['Job Description num_unique_words'] = len(set(str(row[text_col]).split()))\n",
                "    row['Job Description num_chars'] = len(str(row[text_col]))\n",
                "    row['Job Description num_chars_no_whitespact_and_punt'] = len(\n",
                "        [\n",
                "            c\n",
                "            for c in str(row[text_col])\n",
                "            if c not in custom_punct_chars and c not in list(string.punctuation) and c in list(string.printable) and c not in list(string.whitespace) and c != ' '\n",
                "        ]\n",
                "    )\n",
                "    row['Job Description num_punctuations'] = len(\n",
                "        [\n",
                "            c\n",
                "            for c in str(row[text_col])\n",
                "            if c in custom_punct_chars and c in list(string.punctuation) and c in list(string.printable) and c not in list(string.whitespace) and c != ' '\n",
                "        ]\n",
                "    )\n",
                "\n",
                "    return row\n"
            ]
        },
        {
            "cell_type": "code",
            "execution_count": 94,
            "id": "3d31a583",
            "metadata": {},
            "outputs": [],
            "source": [
                "df_manual = pd.read_pickle(f'{df_save_dir}df_manual_including_sector_genage_data.pkl')\n"
            ]
        },
        {
            "cell_type": "code",
            "execution_count": 95,
            "id": "dc6ce729",
            "metadata": {},
            "outputs": [],
            "source": [
                "df_manual['Job Description spacy_sentencized'] = df_manual['Job Description spacy_sentencized'].apply(lambda x: unicodedata.normalize('NFKD', x.encode('ascii', 'ignore').decode('utf-8', 'ignore')))\n"
            ]
        },
        {
            "cell_type": "code",
            "execution_count": 96,
            "id": "130cdd3b",
            "metadata": {},
            "outputs": [
                {
                    "name": "stdout",
                    "output_type": "stream",
                    "text": [
                        "\n",
                        "DF INFO:\n",
                        "\n",
                        "<class 'pandas.core.frame.DataFrame'>\n",
                        "Int64Index: 623749 entries, 0 to 623748\n",
                        "Data columns (total 57 columns):\n",
                        " #   Column                               Non-Null Count   Dtype   \n",
                        "---  ------                               --------------   -----   \n",
                        " 0   Job ID                               623749 non-null  object  \n",
                        " 1   Job Description spacy_sentencized    623749 non-null  object  \n",
                        " 2   Warmth                               623749 non-null  int64   \n",
                        " 3   Competence                           623749 non-null  int64   \n",
                        " 4   Dutch Requirement in Sentence        623749 non-null  category\n",
                        " 5   English Requirement in Sentence      623749 non-null  category\n",
                        " 6   Dutch Requirement in Sentence_No     623749 non-null  uint8   \n",
                        " 7   Dutch Requirement in Sentence_Yes    623749 non-null  uint8   \n",
                        " 8   English Requirement in Sentence_No   623749 non-null  uint8   \n",
                        " 9   English Requirement in Sentence_Yes  623749 non-null  uint8   \n",
                        " 10  Search Keyword                       623749 non-null  object  \n",
                        " 11  Platform                             623749 non-null  category\n",
                        " 12  Job Title                            623749 non-null  object  \n",
                        " 13  Company Name                         623749 non-null  object  \n",
                        " 14  Location                             623749 non-null  object  \n",
                        " 15  Industry                             29831 non-null   object  \n",
                        " 16  Dutch Requirement in Job Ad          623749 non-null  category\n",
                        " 17  English Requirement in Job Ad        623749 non-null  category\n",
                        " 18  Dutch Requirement in Job Ad_No       623749 non-null  uint8   \n",
                        " 19  Dutch Requirement in Job Ad_Yes      623749 non-null  uint8   \n",
                        " 20  English Requirement in Job Ad_No     623749 non-null  uint8   \n",
                        " 21  English Requirement in Job Ad_Yes    623749 non-null  uint8   \n",
                        " 22  Sector Code                          623749 non-null  object  \n",
                        " 23  Sector                               623749 non-null  object  \n",
                        " 24  Keywords Count                       623749 non-null  float64 \n",
                        " 25  Gender_Female_n                      623749 non-null  float64 \n",
                        " 26  Gender_Female_% per Sector           623749 non-null  float64 \n",
                        " 27  Gender_Female_% per Social Category  623749 non-null  float64 \n",
                        " 28  Gender_Female_% per Workforce        623749 non-null  float64 \n",
                        " 29  Gender_Male_n                        623749 non-null  float64 \n",
                        " 30  Gender_Male_% per Sector             623749 non-null  float64 \n",
                        " 31  Gender_Male_% per Social Category    623749 non-null  float64 \n",
                        " 32  Gender_Male_% per Workforce          623749 non-null  float64 \n",
                        " 33  Gender                               623749 non-null  category\n",
                        " 34  Age_Older_n                          623749 non-null  float64 \n",
                        " 35  Age_Older_% per Sector               623749 non-null  float64 \n",
                        " 36  Age_Older_% per Social Category      623749 non-null  float64 \n",
                        " 37  Age_Older_% per Workforce            623749 non-null  float64 \n",
                        " 38  Age_Younger_n                        623749 non-null  float64 \n",
                        " 39  Age_Younger_% per Sector             623749 non-null  float64 \n",
                        " 40  Age_Younger_% per Social Category    623749 non-null  float64 \n",
                        " 41  Age_Younger_% per Workforce          623749 non-null  float64 \n",
                        " 42  Age                                  623749 non-null  category\n",
                        " 43  Sector_n                             623749 non-null  float64 \n",
                        " 44  % Sector per Workforce               623749 non-null  float64 \n",
                        " 45  Gender_Female                        623749 non-null  int64   \n",
                        " 46  Gender_Male                          623749 non-null  int64   \n",
                        " 47  Gender_Mixed                         623749 non-null  int64   \n",
                        " 48  Age_Mixed                            623749 non-null  int64   \n",
                        " 49  Age_Older                            623749 non-null  int64   \n",
                        " 50  Age_Younger                          623749 non-null  int64   \n",
                        " 51  Gender_Num                           623749 non-null  int64   \n",
                        " 52  Age_Num                              623749 non-null  int64   \n",
                        " 53  Platform_Num                         623749 non-null  int64   \n",
                        " 54  Platform_LinkedIn                    623749 non-null  int64   \n",
                        " 55  Platform_Indeed                      623749 non-null  int64   \n",
                        " 56  Platform_Glassdoor                   623749 non-null  int64   \n",
                        "dtypes: category(7), float64(19), int64(14), object(9), uint8(8)\n",
                        "memory usage: 213.6+ MB\n",
                        "====================\n",
                        "Warmth:\n",
                        "--------------------\n",
                        "Warmth Counts:\n",
                        "0    449794\n",
                        "1    173955\n",
                        "Name: Warmth, dtype: int64\n",
                        "--------------------\n",
                        "Warmth Percentages:\n",
                        "0   72.10\n",
                        "1   27.90\n",
                        "Name: Warmth, dtype: float64\n",
                        "--------------------\n",
                        "Min Warmth value: 0\n",
                        "Max Warmth value: 1\n",
                        "--------------------\n",
                        "Warmth Mean: 0.28\n",
                        "--------------------\n",
                        "Warmth Standard Deviation: 0.45\n",
                        "====================\n",
                        "Competence:\n",
                        "--------------------\n",
                        "Competence Counts:\n",
                        "0    313568\n",
                        "1    310181\n",
                        "Name: Competence, dtype: int64\n",
                        "--------------------\n",
                        "Competence Percentages:\n",
                        "0   50.30\n",
                        "1   49.70\n",
                        "Name: Competence, dtype: float64\n",
                        "--------------------\n",
                        "Min Competence value: 0\n",
                        "Max Competence value: 1\n",
                        "--------------------\n",
                        "Competence Mean: 0.5\n",
                        "--------------------\n",
                        "Competence Standard Deviation: 0.5\n",
                        "\n",
                        "\n"
                    ]
                }
            ],
            "source": [
                "# Warmth 1 = 1489 (24.90%), Competence 1 = 2667 (44.30%)\n",
                "get_df_info(df_manual, ivs_all=dvs)\n"
            ]
        },
        {
            "cell_type": "code",
            "execution_count": 97,
            "id": "bc21643d",
            "metadata": {},
            "outputs": [
                {
                    "data": {
                        "application/vnd.jupyter.widget-view+json": {
                            "model_id": "4060485b359b4ccc9eca27db7cfb673b",
                            "version_major": 2,
                            "version_minor": 0
                        },
                        "text/plain": [
                            "progress-bar:   0%|          | 0/623749 [00:00<?, ?it/s]"
                        ]
                    },
                    "metadata": {},
                    "output_type": "display_data"
                }
            ],
            "source": [
                "df_manual['Job Description spacy_sentencized_lower'] = df_manual['Job Description spacy_sentencized'].progress_apply(\n",
                "    lambda job_sentence: job_sentence.strip().lower()\n",
                ")\n"
            ]
        },
        {
            "cell_type": "code",
            "execution_count": 98,
            "id": "1b8dac3e",
            "metadata": {},
            "outputs": [
                {
                    "data": {
                        "text/html": [
                            "<div>\n",
                            "<style scoped>\n",
                            "    .dataframe tbody tr th:only-of-type {\n",
                            "        vertical-align: middle;\n",
                            "    }\n",
                            "\n",
                            "    .dataframe tbody tr th {\n",
                            "        vertical-align: top;\n",
                            "    }\n",
                            "\n",
                            "    .dataframe thead th {\n",
                            "        text-align: right;\n",
                            "    }\n",
                            "</style>\n",
                            "<table border=\"1\" class=\"dataframe\">\n",
                            "  <thead>\n",
                            "    <tr style=\"text-align: center;\">\n",
                            "      <th></th>\n",
                            "      <th>Job Description spacy_sentencized</th>\n",
                            "      <th>Job Description spacy_sentencized_lower</th>\n",
                            "    </tr>\n",
                            "  </thead>\n",
                            "  <tbody>\n",
                            "    <tr>\n",
                            "      <th>0</th>\n",
                            "      <td>Do you have a passion for working with substan...</td>\n",
                            "      <td>do you have a passion for working with substan...</td>\n",
                            "    </tr>\n",
                            "    <tr>\n",
                            "      <th>1</th>\n",
                            "      <td>Do you have a passion for working with substan...</td>\n",
                            "      <td>do you have a passion for working with substan...</td>\n",
                            "    </tr>\n",
                            "    <tr>\n",
                            "      <th>2</th>\n",
                            "      <td>Do you have a passion for working with substan...</td>\n",
                            "      <td>do you have a passion for working with substan...</td>\n",
                            "    </tr>\n",
                            "    <tr>\n",
                            "      <th>3</th>\n",
                            "      <td>Do you have a passion for working with substan...</td>\n",
                            "      <td>do you have a passion for working with substan...</td>\n",
                            "    </tr>\n",
                            "    <tr>\n",
                            "      <th>4</th>\n",
                            "      <td>Do you have a passion for working with substan...</td>\n",
                            "      <td>do you have a passion for working with substan...</td>\n",
                            "    </tr>\n",
                            "  </tbody>\n",
                            "</table>\n",
                            "</div>"
                        ],
                        "text/plain": [
                            "          Job Description spacy_sentencized               Job Description spacy_sentencized_lower      \n",
                            "0  Do you have a passion for working with substan...  do you have a passion for working with substan...\n",
                            "1  Do you have a passion for working with substan...  do you have a passion for working with substan...\n",
                            "2  Do you have a passion for working with substan...  do you have a passion for working with substan...\n",
                            "3  Do you have a passion for working with substan...  do you have a passion for working with substan...\n",
                            "4  Do you have a passion for working with substan...  do you have a passion for working with substan..."
                        ]
                    },
                    "execution_count": 98,
                    "metadata": {},
                    "output_type": "execute_result"
                }
            ],
            "source": [
                "df_manual[['Job Description spacy_sentencized', 'Job Description spacy_sentencized_lower']].head()\n"
            ]
        },
        {
            "cell_type": "code",
            "execution_count": 99,
            "id": "03dc8b21",
            "metadata": {},
            "outputs": [
                {
                    "data": {
                        "text/html": [
                            "<div>\n",
                            "<style scoped>\n",
                            "    .dataframe tbody tr th:only-of-type {\n",
                            "        vertical-align: middle;\n",
                            "    }\n",
                            "\n",
                            "    .dataframe tbody tr th {\n",
                            "        vertical-align: top;\n",
                            "    }\n",
                            "\n",
                            "    .dataframe thead th {\n",
                            "        text-align: right;\n",
                            "    }\n",
                            "</style>\n",
                            "<table border=\"1\" class=\"dataframe\">\n",
                            "  <thead>\n",
                            "    <tr style=\"text-align: center;\">\n",
                            "      <th></th>\n",
                            "      <th>Job Description spacy_sentencized</th>\n",
                            "      <th>Job Description spacy_sentencized_lower</th>\n",
                            "    </tr>\n",
                            "  </thead>\n",
                            "  <tbody>\n",
                            "    <tr>\n",
                            "      <th>count</th>\n",
                            "      <td>623749</td>\n",
                            "      <td>623749</td>\n",
                            "    </tr>\n",
                            "    <tr>\n",
                            "      <th>unique</th>\n",
                            "      <td>5117</td>\n",
                            "      <td>5090</td>\n",
                            "    </tr>\n",
                            "    <tr>\n",
                            "      <th>top</th>\n",
                            "      <td>Job Description</td>\n",
                            "      <td>job description</td>\n",
                            "    </tr>\n",
                            "    <tr>\n",
                            "      <th>freq</th>\n",
                            "      <td>1579</td>\n",
                            "      <td>2212</td>\n",
                            "    </tr>\n",
                            "  </tbody>\n",
                            "</table>\n",
                            "</div>"
                        ],
                        "text/plain": [
                            "       Job Description spacy_sentencized Job Description spacy_sentencized_lower\n",
                            "count                     623749                               623749           \n",
                            "unique                      5117                                 5090           \n",
                            "top              Job Description                      job description           \n",
                            "freq                        1579                                 2212           "
                        ]
                    },
                    "execution_count": 99,
                    "metadata": {},
                    "output_type": "execute_result"
                }
            ],
            "source": [
                "df_manual[['Job Description spacy_sentencized', 'Job Description spacy_sentencized_lower']].describe()\n"
            ]
        },
        {
            "cell_type": "code",
            "execution_count": 100,
            "id": "1cf56055",
            "metadata": {},
            "outputs": [
                {
                    "data": {
                        "application/vnd.jupyter.widget-view+json": {
                            "model_id": "09bc269a30e3444d86a10d1c6e390070",
                            "version_major": 2,
                            "version_minor": 0
                        },
                        "text/plain": [
                            "progress-bar:   0%|          | 0/623749 [00:00<?, ?it/s]"
                        ]
                    },
                    "metadata": {},
                    "output_type": "display_data"
                },
                {
                    "name": "stdout",
                    "output_type": "stream",
                    "text": [
                        "CPU times: user 34.8 s, sys: 1.57 s, total: 36.3 s\n",
                        "Wall time: 38.7 s\n"
                    ]
                }
            ],
            "source": [
                "%%time\n",
                "# Spacy tokenize\n",
                "with open(f'{data_dir}punctuations.txt', 'rb') as f:\n",
                "    custom_punct_chars = pickle.load(f)\n",
                "\n",
                "df_manual['Job Description spacy_tokenized'] = df_manual[\n",
                "    'Job Description spacy_sentencized'\n",
                "].progress_apply(\n",
                "    lambda job_sentence: [\n",
                "        str(token.text.strip().lower())\n",
                "        for token in nlp.tokenizer(job_sentence)\n",
                "        if token.text is not None\n",
                "        and len(token) != 0\n",
                "        and len(token.text) != 0\n",
                "        and bool(token)\n",
                "        and bool(token.text)\n",
                "        and token.text != '...'\n",
                "        and not token.is_space\n",
                "        and not token.is_punct\n",
                "        and not token.is_quote\n",
                "        and not token.is_bracket\n",
                "        and not token.like_email\n",
                "    ]\n",
                ")\n",
                "\n",
                "assert len(df_manual) > 0 and isinstance(df_manual, pd.DataFrame), f'ERORR: LENGTH OF DF = {len(df_manual)}'\n",
                "df_manual.to_pickle(f'{df_save_dir}df_manual_tokenized_spacy.pkl')\n",
                "df_manual.to_csv(f'{df_save_dir}df_manual_tokenized_spacy.csv')\n"
            ]
        },
        {
            "cell_type": "code",
            "execution_count": 101,
            "id": "c42b60d8",
            "metadata": {},
            "outputs": [
                {
                    "data": {
                        "text/html": [
                            "<div>\n",
                            "<style scoped>\n",
                            "    .dataframe tbody tr th:only-of-type {\n",
                            "        vertical-align: middle;\n",
                            "    }\n",
                            "\n",
                            "    .dataframe tbody tr th {\n",
                            "        vertical-align: top;\n",
                            "    }\n",
                            "\n",
                            "    .dataframe thead th {\n",
                            "        text-align: right;\n",
                            "    }\n",
                            "</style>\n",
                            "<table border=\"1\" class=\"dataframe\">\n",
                            "  <thead>\n",
                            "    <tr style=\"text-align: center;\">\n",
                            "      <th></th>\n",
                            "      <th>Job Description spacy_sentencized</th>\n",
                            "      <th>Job Description spacy_tokenized</th>\n",
                            "    </tr>\n",
                            "  </thead>\n",
                            "  <tbody>\n",
                            "    <tr>\n",
                            "      <th>0</th>\n",
                            "      <td>Do you have a passion for working with substan...</td>\n",
                            "      <td>[do, you, have, a, passion, for, working, with...</td>\n",
                            "    </tr>\n",
                            "    <tr>\n",
                            "      <th>1</th>\n",
                            "      <td>Do you have a passion for working with substan...</td>\n",
                            "      <td>[do, you, have, a, passion, for, working, with...</td>\n",
                            "    </tr>\n",
                            "    <tr>\n",
                            "      <th>2</th>\n",
                            "      <td>Do you have a passion for working with substan...</td>\n",
                            "      <td>[do, you, have, a, passion, for, working, with...</td>\n",
                            "    </tr>\n",
                            "    <tr>\n",
                            "      <th>3</th>\n",
                            "      <td>Do you have a passion for working with substan...</td>\n",
                            "      <td>[do, you, have, a, passion, for, working, with...</td>\n",
                            "    </tr>\n",
                            "    <tr>\n",
                            "      <th>4</th>\n",
                            "      <td>Do you have a passion for working with substan...</td>\n",
                            "      <td>[do, you, have, a, passion, for, working, with...</td>\n",
                            "    </tr>\n",
                            "  </tbody>\n",
                            "</table>\n",
                            "</div>"
                        ],
                        "text/plain": [
                            "          Job Description spacy_sentencized                   Job Description spacy_tokenized          \n",
                            "0  Do you have a passion for working with substan...  [do, you, have, a, passion, for, working, with...\n",
                            "1  Do you have a passion for working with substan...  [do, you, have, a, passion, for, working, with...\n",
                            "2  Do you have a passion for working with substan...  [do, you, have, a, passion, for, working, with...\n",
                            "3  Do you have a passion for working with substan...  [do, you, have, a, passion, for, working, with...\n",
                            "4  Do you have a passion for working with substan...  [do, you, have, a, passion, for, working, with..."
                        ]
                    },
                    "execution_count": 101,
                    "metadata": {},
                    "output_type": "execute_result"
                }
            ],
            "source": [
                "df_manual[['Job Description spacy_sentencized', 'Job Description spacy_tokenized']].head()\n"
            ]
        },
        {
            "cell_type": "code",
            "execution_count": 102,
            "id": "ba5edea4",
            "metadata": {},
            "outputs": [
                {
                    "data": {
                        "text/html": [
                            "<div>\n",
                            "<style scoped>\n",
                            "    .dataframe tbody tr th:only-of-type {\n",
                            "        vertical-align: middle;\n",
                            "    }\n",
                            "\n",
                            "    .dataframe tbody tr th {\n",
                            "        vertical-align: top;\n",
                            "    }\n",
                            "\n",
                            "    .dataframe thead th {\n",
                            "        text-align: right;\n",
                            "    }\n",
                            "</style>\n",
                            "<table border=\"1\" class=\"dataframe\">\n",
                            "  <thead>\n",
                            "    <tr style=\"text-align: center;\">\n",
                            "      <th></th>\n",
                            "      <th>Job Description spacy_sentencized</th>\n",
                            "      <th>Job Description spacy_tokenized</th>\n",
                            "    </tr>\n",
                            "  </thead>\n",
                            "  <tbody>\n",
                            "    <tr>\n",
                            "      <th>count</th>\n",
                            "      <td>623749</td>\n",
                            "      <td>623749</td>\n",
                            "    </tr>\n",
                            "    <tr>\n",
                            "      <th>unique</th>\n",
                            "      <td>5117</td>\n",
                            "      <td>5031</td>\n",
                            "    </tr>\n",
                            "    <tr>\n",
                            "      <th>top</th>\n",
                            "      <td>Job Description</td>\n",
                            "      <td>[job, description]</td>\n",
                            "    </tr>\n",
                            "    <tr>\n",
                            "      <th>freq</th>\n",
                            "      <td>1579</td>\n",
                            "      <td>2475</td>\n",
                            "    </tr>\n",
                            "  </tbody>\n",
                            "</table>\n",
                            "</div>"
                        ],
                        "text/plain": [
                            "       Job Description spacy_sentencized Job Description spacy_tokenized\n",
                            "count                     623749                            623749      \n",
                            "unique                      5117                              5031      \n",
                            "top              Job Description                [job, description]      \n",
                            "freq                        1579                              2475      "
                        ]
                    },
                    "execution_count": 102,
                    "metadata": {},
                    "output_type": "execute_result"
                }
            ],
            "source": [
                "df_manual[['Job Description spacy_sentencized', 'Job Description spacy_tokenized']].describe()\n"
            ]
        },
        {
            "cell_type": "code",
            "execution_count": 103,
            "id": "18118ad8",
            "metadata": {},
            "outputs": [],
            "source": [
                "# These are all emails\n",
                "df_manual = df_manual.loc[df_manual['Job Description spacy_tokenized'].apply(lambda c: c!=[])]\n"
            ]
        },
        {
            "cell_type": "code",
            "execution_count": 104,
            "id": "0055d64f",
            "metadata": {},
            "outputs": [
                {
                    "data": {
                        "text/plain": [
                            "623222"
                        ]
                    },
                    "execution_count": 104,
                    "metadata": {},
                    "output_type": "execute_result"
                }
            ],
            "source": [
                "# len=5948\n",
                "len(df_manual)\n"
            ]
        },
        {
            "cell_type": "code",
            "execution_count": 105,
            "id": "a07bd696",
            "metadata": {},
            "outputs": [
                {
                    "name": "stdout",
                    "output_type": "stream",
                    "text": [
                        "<class 'pandas.core.frame.DataFrame'>\n",
                        "Int64Index: 623222 entries, 0 to 623748\n",
                        "Data columns (total 59 columns):\n",
                        " #   Column                                   Non-Null Count   Dtype   \n",
                        "---  ------                                   --------------   -----   \n",
                        " 0   Job ID                                   623222 non-null  object  \n",
                        " 1   Job Description spacy_sentencized        623222 non-null  object  \n",
                        " 2   Warmth                                   623222 non-null  int64   \n",
                        " 3   Competence                               623222 non-null  int64   \n",
                        " 4   Dutch Requirement in Sentence            623222 non-null  category\n",
                        " 5   English Requirement in Sentence          623222 non-null  category\n",
                        " 6   Dutch Requirement in Sentence_No         623222 non-null  uint8   \n",
                        " 7   Dutch Requirement in Sentence_Yes        623222 non-null  uint8   \n",
                        " 8   English Requirement in Sentence_No       623222 non-null  uint8   \n",
                        " 9   English Requirement in Sentence_Yes      623222 non-null  uint8   \n",
                        " 10  Search Keyword                           623222 non-null  object  \n",
                        " 11  Platform                                 623222 non-null  category\n",
                        " 12  Job Title                                623222 non-null  object  \n",
                        " 13  Company Name                             623222 non-null  object  \n",
                        " 14  Location                                 623222 non-null  object  \n",
                        " 15  Industry                                 29831 non-null   object  \n",
                        " 16  Dutch Requirement in Job Ad              623222 non-null  category\n",
                        " 17  English Requirement in Job Ad            623222 non-null  category\n",
                        " 18  Dutch Requirement in Job Ad_No           623222 non-null  uint8   \n",
                        " 19  Dutch Requirement in Job Ad_Yes          623222 non-null  uint8   \n",
                        " 20  English Requirement in Job Ad_No         623222 non-null  uint8   \n",
                        " 21  English Requirement in Job Ad_Yes        623222 non-null  uint8   \n",
                        " 22  Sector Code                              623222 non-null  object  \n",
                        " 23  Sector                                   623222 non-null  object  \n",
                        " 24  Keywords Count                           623222 non-null  float64 \n",
                        " 25  Gender_Female_n                          623222 non-null  float64 \n",
                        " 26  Gender_Female_% per Sector               623222 non-null  float64 \n",
                        " 27  Gender_Female_% per Social Category      623222 non-null  float64 \n",
                        " 28  Gender_Female_% per Workforce            623222 non-null  float64 \n",
                        " 29  Gender_Male_n                            623222 non-null  float64 \n",
                        " 30  Gender_Male_% per Sector                 623222 non-null  float64 \n",
                        " 31  Gender_Male_% per Social Category        623222 non-null  float64 \n",
                        " 32  Gender_Male_% per Workforce              623222 non-null  float64 \n",
                        " 33  Gender                                   623222 non-null  category\n",
                        " 34  Age_Older_n                              623222 non-null  float64 \n",
                        " 35  Age_Older_% per Sector                   623222 non-null  float64 \n",
                        " 36  Age_Older_% per Social Category          623222 non-null  float64 \n",
                        " 37  Age_Older_% per Workforce                623222 non-null  float64 \n",
                        " 38  Age_Younger_n                            623222 non-null  float64 \n",
                        " 39  Age_Younger_% per Sector                 623222 non-null  float64 \n",
                        " 40  Age_Younger_% per Social Category        623222 non-null  float64 \n",
                        " 41  Age_Younger_% per Workforce              623222 non-null  float64 \n",
                        " 42  Age                                      623222 non-null  category\n",
                        " 43  Sector_n                                 623222 non-null  float64 \n",
                        " 44  % Sector per Workforce                   623222 non-null  float64 \n",
                        " 45  Gender_Female                            623222 non-null  int64   \n",
                        " 46  Gender_Male                              623222 non-null  int64   \n",
                        " 47  Gender_Mixed                             623222 non-null  int64   \n",
                        " 48  Age_Mixed                                623222 non-null  int64   \n",
                        " 49  Age_Older                                623222 non-null  int64   \n",
                        " 50  Age_Younger                              623222 non-null  int64   \n",
                        " 51  Gender_Num                               623222 non-null  int64   \n",
                        " 52  Age_Num                                  623222 non-null  int64   \n",
                        " 53  Platform_Num                             623222 non-null  int64   \n",
                        " 54  Platform_LinkedIn                        623222 non-null  int64   \n",
                        " 55  Platform_Indeed                          623222 non-null  int64   \n",
                        " 56  Platform_Glassdoor                       623222 non-null  int64   \n",
                        " 57  Job Description spacy_sentencized_lower  623222 non-null  object  \n",
                        " 58  Job Description spacy_tokenized          623222 non-null  object  \n",
                        "dtypes: category(7), float64(19), int64(14), object(11), uint8(8)\n",
                        "memory usage: 222.9+ MB\n"
                    ]
                }
            ],
            "source": [
                "df_manual.info()\n"
            ]
        },
        {
            "cell_type": "code",
            "execution_count": 106,
            "id": "2114c23a",
            "metadata": {},
            "outputs": [
                {
                    "name": "stdout",
                    "output_type": "stream",
                    "text": [
                        "\n",
                        "DF INFO:\n",
                        "\n",
                        "<class 'pandas.core.frame.DataFrame'>\n",
                        "Int64Index: 623222 entries, 0 to 623748\n",
                        "Data columns (total 59 columns):\n",
                        " #   Column                                   Non-Null Count   Dtype   \n",
                        "---  ------                                   --------------   -----   \n",
                        " 0   Job ID                                   623222 non-null  object  \n",
                        " 1   Job Description spacy_sentencized        623222 non-null  object  \n",
                        " 2   Warmth                                   623222 non-null  int64   \n",
                        " 3   Competence                               623222 non-null  int64   \n",
                        " 4   Dutch Requirement in Sentence            623222 non-null  category\n",
                        " 5   English Requirement in Sentence          623222 non-null  category\n",
                        " 6   Dutch Requirement in Sentence_No         623222 non-null  uint8   \n",
                        " 7   Dutch Requirement in Sentence_Yes        623222 non-null  uint8   \n",
                        " 8   English Requirement in Sentence_No       623222 non-null  uint8   \n",
                        " 9   English Requirement in Sentence_Yes      623222 non-null  uint8   \n",
                        " 10  Search Keyword                           623222 non-null  object  \n",
                        " 11  Platform                                 623222 non-null  category\n",
                        " 12  Job Title                                623222 non-null  object  \n",
                        " 13  Company Name                             623222 non-null  object  \n",
                        " 14  Location                                 623222 non-null  object  \n",
                        " 15  Industry                                 29831 non-null   object  \n",
                        " 16  Dutch Requirement in Job Ad              623222 non-null  category\n",
                        " 17  English Requirement in Job Ad            623222 non-null  category\n",
                        " 18  Dutch Requirement in Job Ad_No           623222 non-null  uint8   \n",
                        " 19  Dutch Requirement in Job Ad_Yes          623222 non-null  uint8   \n",
                        " 20  English Requirement in Job Ad_No         623222 non-null  uint8   \n",
                        " 21  English Requirement in Job Ad_Yes        623222 non-null  uint8   \n",
                        " 22  Sector Code                              623222 non-null  object  \n",
                        " 23  Sector                                   623222 non-null  object  \n",
                        " 24  Keywords Count                           623222 non-null  float64 \n",
                        " 25  Gender_Female_n                          623222 non-null  float64 \n",
                        " 26  Gender_Female_% per Sector               623222 non-null  float64 \n",
                        " 27  Gender_Female_% per Social Category      623222 non-null  float64 \n",
                        " 28  Gender_Female_% per Workforce            623222 non-null  float64 \n",
                        " 29  Gender_Male_n                            623222 non-null  float64 \n",
                        " 30  Gender_Male_% per Sector                 623222 non-null  float64 \n",
                        " 31  Gender_Male_% per Social Category        623222 non-null  float64 \n",
                        " 32  Gender_Male_% per Workforce              623222 non-null  float64 \n",
                        " 33  Gender                                   623222 non-null  category\n",
                        " 34  Age_Older_n                              623222 non-null  float64 \n",
                        " 35  Age_Older_% per Sector                   623222 non-null  float64 \n",
                        " 36  Age_Older_% per Social Category          623222 non-null  float64 \n",
                        " 37  Age_Older_% per Workforce                623222 non-null  float64 \n",
                        " 38  Age_Younger_n                            623222 non-null  float64 \n",
                        " 39  Age_Younger_% per Sector                 623222 non-null  float64 \n",
                        " 40  Age_Younger_% per Social Category        623222 non-null  float64 \n",
                        " 41  Age_Younger_% per Workforce              623222 non-null  float64 \n",
                        " 42  Age                                      623222 non-null  category\n",
                        " 43  Sector_n                                 623222 non-null  float64 \n",
                        " 44  % Sector per Workforce                   623222 non-null  float64 \n",
                        " 45  Gender_Female                            623222 non-null  int64   \n",
                        " 46  Gender_Male                              623222 non-null  int64   \n",
                        " 47  Gender_Mixed                             623222 non-null  int64   \n",
                        " 48  Age_Mixed                                623222 non-null  int64   \n",
                        " 49  Age_Older                                623222 non-null  int64   \n",
                        " 50  Age_Younger                              623222 non-null  int64   \n",
                        " 51  Gender_Num                               623222 non-null  int64   \n",
                        " 52  Age_Num                                  623222 non-null  int64   \n",
                        " 53  Platform_Num                             623222 non-null  int64   \n",
                        " 54  Platform_LinkedIn                        623222 non-null  int64   \n",
                        " 55  Platform_Indeed                          623222 non-null  int64   \n",
                        " 56  Platform_Glassdoor                       623222 non-null  int64   \n",
                        " 57  Job Description spacy_sentencized_lower  623222 non-null  object  \n",
                        " 58  Job Description spacy_tokenized          623222 non-null  object  \n",
                        "dtypes: category(7), float64(19), int64(14), object(11), uint8(8)\n",
                        "memory usage: 222.9+ MB\n",
                        "====================\n",
                        "Gender:\n",
                        "--------------------\n",
                        "Gender Counts:\n",
                        "Mixed Gender    397979\n",
                        "Male            126419\n",
                        "Female           98824\n",
                        "Name: Gender, dtype: int64\n",
                        "--------------------\n",
                        "Gender Percentages:\n",
                        "Mixed Gender   63.90\n",
                        "Male           20.30\n",
                        "Female         15.90\n",
                        "Name: Gender, dtype: float64\n",
                        "--------------------\n",
                        "Min Gender value: Female\n",
                        "Max Gender value: Male\n",
                        "--------------------\n",
                        "====================\n",
                        "Gender_Num:\n",
                        "--------------------\n",
                        "Gender_Num Counts:\n",
                        "1    397979\n",
                        "2    126419\n",
                        "0     98824\n",
                        "Name: Gender_Num, dtype: int64\n",
                        "--------------------\n",
                        "Gender_Num Percentages:\n",
                        "1   63.90\n",
                        "2   20.30\n",
                        "0   15.90\n",
                        "Name: Gender_Num, dtype: float64\n",
                        "--------------------\n",
                        "Min Gender_Num value: 0\n",
                        "Max Gender_Num value: 2\n",
                        "--------------------\n",
                        "Gender_Num Mean: 1.04\n",
                        "--------------------\n",
                        "Gender_Num Standard Deviation: 0.6\n",
                        "====================\n",
                        "Gender_Female:\n",
                        "--------------------\n",
                        "Gender_Female Counts:\n",
                        "0    524398\n",
                        "1     98824\n",
                        "Name: Gender_Female, dtype: int64\n",
                        "--------------------\n",
                        "Gender_Female Percentages:\n",
                        "0   84.10\n",
                        "1   15.90\n",
                        "Name: Gender_Female, dtype: float64\n",
                        "--------------------\n",
                        "Min Gender_Female value: 0\n",
                        "Max Gender_Female value: 1\n",
                        "--------------------\n",
                        "Gender_Female Mean: 0.16\n",
                        "--------------------\n",
                        "Gender_Female Standard Deviation: 0.37\n",
                        "====================\n",
                        "Gender_Mixed:\n",
                        "--------------------\n",
                        "Gender_Mixed Counts:\n",
                        "1    397979\n",
                        "0    225243\n",
                        "Name: Gender_Mixed, dtype: int64\n",
                        "--------------------\n",
                        "Gender_Mixed Percentages:\n",
                        "1   63.90\n",
                        "0   36.10\n",
                        "Name: Gender_Mixed, dtype: float64\n",
                        "--------------------\n",
                        "Min Gender_Mixed value: 0\n",
                        "Max Gender_Mixed value: 1\n",
                        "--------------------\n",
                        "Gender_Mixed Mean: 0.64\n",
                        "--------------------\n",
                        "Gender_Mixed Standard Deviation: 0.48\n",
                        "====================\n",
                        "Gender_Male:\n",
                        "--------------------\n",
                        "Gender_Male Counts:\n",
                        "0    496803\n",
                        "1    126419\n",
                        "Name: Gender_Male, dtype: int64\n",
                        "--------------------\n",
                        "Gender_Male Percentages:\n",
                        "0   79.70\n",
                        "1   20.30\n",
                        "Name: Gender_Male, dtype: float64\n",
                        "--------------------\n",
                        "Min Gender_Male value: 0\n",
                        "Max Gender_Male value: 1\n",
                        "--------------------\n",
                        "Gender_Male Mean: 0.2\n",
                        "--------------------\n",
                        "Gender_Male Standard Deviation: 0.4\n",
                        "====================\n",
                        "Gender_Female_n:\n",
                        "--------------------\n",
                        "Min Gender_Female_n value: 7.0\n",
                        "Max Gender_Female_n value: 3970.0\n",
                        "--------------------\n",
                        "Gender_Female_n Mean: 553.36\n",
                        "--------------------\n",
                        "Gender_Female_n Standard Deviation: 762.95\n",
                        "====================\n",
                        "Gender_Male_n:\n",
                        "--------------------\n",
                        "Min Gender_Male_n value: 21.0\n",
                        "Max Gender_Male_n value: 4510.0\n",
                        "--------------------\n",
                        "Gender_Male_n Mean: 588.01\n",
                        "--------------------\n",
                        "Gender_Male_n Standard Deviation: 712.56\n",
                        "====================\n",
                        "Gender_Female_% per Sector:\n",
                        "--------------------\n",
                        "Min Gender_Female_% per Sector value: 19.444444444444446\n",
                        "Max Gender_Female_% per Sector value: 84.2986741102582\n",
                        "--------------------\n",
                        "Gender_Female_% per Sector Mean: 44.9\n",
                        "--------------------\n",
                        "Gender_Female_% per Sector Standard Deviation: 15.78\n",
                        "====================\n",
                        "Gender_Male_% per Sector:\n",
                        "--------------------\n",
                        "Min Gender_Male_% per Sector value: 15.631542219120725\n",
                        "Max Gender_Male_% per Sector value: 80.55555555555556\n",
                        "--------------------\n",
                        "Gender_Male_% per Sector Mean: 55.08\n",
                        "--------------------\n",
                        "Gender_Male_% per Sector Standard Deviation: 15.8\n",
                        "====================\n",
                        "Age:\n",
                        "--------------------\n",
                        "Age Counts:\n",
                        "Younger      335771\n",
                        "Mixed Age    216925\n",
                        "Older         70526\n",
                        "Name: Age, dtype: int64\n",
                        "--------------------\n",
                        "Age Percentages:\n",
                        "Younger     53.90\n",
                        "Mixed Age   34.80\n",
                        "Older       11.30\n",
                        "Name: Age, dtype: float64\n",
                        "--------------------\n",
                        "Min Age value: Older\n",
                        "Max Age value: Younger\n",
                        "--------------------\n",
                        "====================\n",
                        "Age_Num:\n",
                        "--------------------\n",
                        "Age_Num Counts:\n",
                        "2    335771\n",
                        "1    216925\n",
                        "0     70526\n",
                        "Name: Age_Num, dtype: int64\n",
                        "--------------------\n",
                        "Age_Num Percentages:\n",
                        "2   53.90\n",
                        "1   34.80\n",
                        "0   11.30\n",
                        "Name: Age_Num, dtype: float64\n",
                        "--------------------\n",
                        "Min Age_Num value: 0\n",
                        "Max Age_Num value: 2\n",
                        "--------------------\n",
                        "Age_Num Mean: 1.43\n",
                        "--------------------\n",
                        "Age_Num Standard Deviation: 0.69\n",
                        "====================\n",
                        "Age_Older:\n",
                        "--------------------\n",
                        "Age_Older Counts:\n",
                        "0    552696\n",
                        "1     70526\n",
                        "Name: Age_Older, dtype: int64\n",
                        "--------------------\n",
                        "Age_Older Percentages:\n",
                        "0   88.70\n",
                        "1   11.30\n",
                        "Name: Age_Older, dtype: float64\n",
                        "--------------------\n",
                        "Min Age_Older value: 0\n",
                        "Max Age_Older value: 1\n",
                        "--------------------\n",
                        "Age_Older Mean: 0.11\n",
                        "--------------------\n",
                        "Age_Older Standard Deviation: 0.32\n",
                        "====================\n",
                        "Age_Mixed:\n",
                        "--------------------\n",
                        "Age_Mixed Counts:\n",
                        "0    406297\n",
                        "1    216925\n",
                        "Name: Age_Mixed, dtype: int64\n",
                        "--------------------\n",
                        "Age_Mixed Percentages:\n",
                        "0   65.20\n",
                        "1   34.80\n",
                        "Name: Age_Mixed, dtype: float64\n",
                        "--------------------\n",
                        "Min Age_Mixed value: 0\n",
                        "Max Age_Mixed value: 1\n",
                        "--------------------\n",
                        "Age_Mixed Mean: 0.35\n",
                        "--------------------\n",
                        "Age_Mixed Standard Deviation: 0.48\n",
                        "====================\n",
                        "Age_Younger:\n",
                        "--------------------\n",
                        "Age_Younger Counts:\n",
                        "1    335771\n",
                        "0    287451\n",
                        "Name: Age_Younger, dtype: int64\n",
                        "--------------------\n",
                        "Age_Younger Percentages:\n",
                        "1   53.90\n",
                        "0   46.10\n",
                        "Name: Age_Younger, dtype: float64\n",
                        "--------------------\n",
                        "Min Age_Younger value: 0\n",
                        "Max Age_Younger value: 1\n",
                        "--------------------\n",
                        "Age_Younger Mean: 0.54\n",
                        "--------------------\n",
                        "Age_Younger Standard Deviation: 0.5\n",
                        "====================\n",
                        "Age_Older_n:\n",
                        "--------------------\n",
                        "Min Age_Older_n value: 15.0\n",
                        "Max Age_Older_n value: 2844.0\n",
                        "--------------------\n",
                        "Age_Older_n Mean: 436.4\n",
                        "--------------------\n",
                        "Age_Older_n Standard Deviation: 561.94\n",
                        "====================\n",
                        "Age_Younger_n:\n",
                        "--------------------\n",
                        "Min Age_Younger_n value: 13.0\n",
                        "Max Age_Younger_n value: 5228.0\n",
                        "--------------------\n",
                        "Age_Younger_n Mean: 703.68\n",
                        "--------------------\n",
                        "Age_Younger_n Standard Deviation: 845.7\n",
                        "====================\n",
                        "Age_Older_% per Sector:\n",
                        "--------------------\n",
                        "Min Age_Older_% per Sector value: 18.939393939393938\n",
                        "Max Age_Older_% per Sector value: 58.333333333333336\n",
                        "--------------------\n",
                        "Age_Older_% per Sector Mean: 38.14\n",
                        "--------------------\n",
                        "Age_Older_% per Sector Standard Deviation: 8.76\n",
                        "====================\n",
                        "Age_Younger_% per Sector:\n",
                        "--------------------\n",
                        "Min Age_Younger_% per Sector value: 44.44444444444444\n",
                        "Max Age_Younger_% per Sector value: 80.8080808080808\n",
                        "--------------------\n",
                        "Age_Younger_% per Sector Mean: 61.59\n",
                        "--------------------\n",
                        "Age_Younger_% per Sector Standard Deviation: 8.86\n",
                        "\n",
                        "\n"
                    ]
                }
            ],
            "source": [
                "get_df_info(df_manual, ivs_all=ivs_all)\n"
            ]
        },
        {
            "cell_type": "code",
            "execution_count": 107,
            "id": "4839ee7b",
            "metadata": {},
            "outputs": [
                {
                    "name": "stdout",
                    "output_type": "stream",
                    "text": [
                        "\n",
                        "DF INFO:\n",
                        "\n",
                        "<class 'pandas.core.frame.DataFrame'>\n",
                        "Int64Index: 623222 entries, 0 to 623748\n",
                        "Data columns (total 59 columns):\n",
                        " #   Column                                   Non-Null Count   Dtype   \n",
                        "---  ------                                   --------------   -----   \n",
                        " 0   Job ID                                   623222 non-null  object  \n",
                        " 1   Job Description spacy_sentencized        623222 non-null  object  \n",
                        " 2   Warmth                                   623222 non-null  int64   \n",
                        " 3   Competence                               623222 non-null  int64   \n",
                        " 4   Dutch Requirement in Sentence            623222 non-null  category\n",
                        " 5   English Requirement in Sentence          623222 non-null  category\n",
                        " 6   Dutch Requirement in Sentence_No         623222 non-null  uint8   \n",
                        " 7   Dutch Requirement in Sentence_Yes        623222 non-null  uint8   \n",
                        " 8   English Requirement in Sentence_No       623222 non-null  uint8   \n",
                        " 9   English Requirement in Sentence_Yes      623222 non-null  uint8   \n",
                        " 10  Search Keyword                           623222 non-null  object  \n",
                        " 11  Platform                                 623222 non-null  category\n",
                        " 12  Job Title                                623222 non-null  object  \n",
                        " 13  Company Name                             623222 non-null  object  \n",
                        " 14  Location                                 623222 non-null  object  \n",
                        " 15  Industry                                 29831 non-null   object  \n",
                        " 16  Dutch Requirement in Job Ad              623222 non-null  category\n",
                        " 17  English Requirement in Job Ad            623222 non-null  category\n",
                        " 18  Dutch Requirement in Job Ad_No           623222 non-null  uint8   \n",
                        " 19  Dutch Requirement in Job Ad_Yes          623222 non-null  uint8   \n",
                        " 20  English Requirement in Job Ad_No         623222 non-null  uint8   \n",
                        " 21  English Requirement in Job Ad_Yes        623222 non-null  uint8   \n",
                        " 22  Sector Code                              623222 non-null  object  \n",
                        " 23  Sector                                   623222 non-null  object  \n",
                        " 24  Keywords Count                           623222 non-null  float64 \n",
                        " 25  Gender_Female_n                          623222 non-null  float64 \n",
                        " 26  Gender_Female_% per Sector               623222 non-null  float64 \n",
                        " 27  Gender_Female_% per Social Category      623222 non-null  float64 \n",
                        " 28  Gender_Female_% per Workforce            623222 non-null  float64 \n",
                        " 29  Gender_Male_n                            623222 non-null  float64 \n",
                        " 30  Gender_Male_% per Sector                 623222 non-null  float64 \n",
                        " 31  Gender_Male_% per Social Category        623222 non-null  float64 \n",
                        " 32  Gender_Male_% per Workforce              623222 non-null  float64 \n",
                        " 33  Gender                                   623222 non-null  category\n",
                        " 34  Age_Older_n                              623222 non-null  float64 \n",
                        " 35  Age_Older_% per Sector                   623222 non-null  float64 \n",
                        " 36  Age_Older_% per Social Category          623222 non-null  float64 \n",
                        " 37  Age_Older_% per Workforce                623222 non-null  float64 \n",
                        " 38  Age_Younger_n                            623222 non-null  float64 \n",
                        " 39  Age_Younger_% per Sector                 623222 non-null  float64 \n",
                        " 40  Age_Younger_% per Social Category        623222 non-null  float64 \n",
                        " 41  Age_Younger_% per Workforce              623222 non-null  float64 \n",
                        " 42  Age                                      623222 non-null  category\n",
                        " 43  Sector_n                                 623222 non-null  float64 \n",
                        " 44  % Sector per Workforce                   623222 non-null  float64 \n",
                        " 45  Gender_Female                            623222 non-null  int64   \n",
                        " 46  Gender_Male                              623222 non-null  int64   \n",
                        " 47  Gender_Mixed                             623222 non-null  int64   \n",
                        " 48  Age_Mixed                                623222 non-null  int64   \n",
                        " 49  Age_Older                                623222 non-null  int64   \n",
                        " 50  Age_Younger                              623222 non-null  int64   \n",
                        " 51  Gender_Num                               623222 non-null  int64   \n",
                        " 52  Age_Num                                  623222 non-null  int64   \n",
                        " 53  Platform_Num                             623222 non-null  int64   \n",
                        " 54  Platform_LinkedIn                        623222 non-null  int64   \n",
                        " 55  Platform_Indeed                          623222 non-null  int64   \n",
                        " 56  Platform_Glassdoor                       623222 non-null  int64   \n",
                        " 57  Job Description spacy_sentencized_lower  623222 non-null  object  \n",
                        " 58  Job Description spacy_tokenized          623222 non-null  object  \n",
                        "dtypes: category(7), float64(19), int64(14), object(11), uint8(8)\n",
                        "memory usage: 222.9+ MB\n",
                        "====================\n",
                        "Warmth:\n",
                        "--------------------\n",
                        "Warmth Counts:\n",
                        "0    449267\n",
                        "1    173955\n",
                        "Name: Warmth, dtype: int64\n",
                        "--------------------\n",
                        "Warmth Percentages:\n",
                        "0   72.10\n",
                        "1   27.90\n",
                        "Name: Warmth, dtype: float64\n",
                        "--------------------\n",
                        "Min Warmth value: 0\n",
                        "Max Warmth value: 1\n",
                        "--------------------\n",
                        "Warmth Mean: 0.28\n",
                        "--------------------\n",
                        "Warmth Standard Deviation: 0.45\n",
                        "====================\n",
                        "Competence:\n",
                        "--------------------\n",
                        "Competence Counts:\n",
                        "0    313041\n",
                        "1    310181\n",
                        "Name: Competence, dtype: int64\n",
                        "--------------------\n",
                        "Competence Percentages:\n",
                        "0   50.20\n",
                        "1   49.80\n",
                        "Name: Competence, dtype: float64\n",
                        "--------------------\n",
                        "Min Competence value: 0\n",
                        "Max Competence value: 1\n",
                        "--------------------\n",
                        "Competence Mean: 0.5\n",
                        "--------------------\n",
                        "Competence Standard Deviation: 0.5\n",
                        "\n",
                        "\n"
                    ]
                }
            ],
            "source": [
                "# Warmth 1 = 1489 (25.1%), Competence 1 = 2667 (44.4%)\n",
                "get_df_info(df_manual, ivs_all=dvs)\n"
            ]
        },
        {
            "cell_type": "code",
            "execution_count": 108,
            "id": "bd443d94",
            "metadata": {},
            "outputs": [],
            "source": [
                "df_manual['Job Description spacy_sentencized_cleaned'] = df_manual['Job Description spacy_tokenized'].str.join(' ')\n"
            ]
        },
        {
            "cell_type": "code",
            "execution_count": 109,
            "id": "65043f92",
            "metadata": {},
            "outputs": [
                {
                    "data": {
                        "application/vnd.jupyter.widget-view+json": {
                            "model_id": "1cf7da178d3d4307aaf6dcaa93685425",
                            "version_major": 2,
                            "version_minor": 0
                        },
                        "text/plain": [
                            "progress-bar:   0%|          | 0/623222 [00:00<?, ?it/s]"
                        ]
                    },
                    "metadata": {},
                    "output_type": "display_data"
                }
            ],
            "source": [
                "%%time\n",
                "# Get sentence word frequencies\n",
                "df_manual = df_manual.progress_apply(\n",
                "    lambda row: get_word_num_and_frequency(\n",
                "        row=row, text_col='Job Description spacy_sentencized'\n",
                "    ), \n",
                "    axis='columns',\n",
                ")\n"
            ]
        },
        {
            "cell_type": "code",
            "execution_count": null,
            "id": "68abe4db",
            "metadata": {},
            "outputs": [],
            "source": [
                "df_manual[\n",
                "    [\n",
                "        'Job Description spacy_sentencized',\n",
                "        'Job Description num_words', 'Job Description num_unique_words',\n",
                "        'Job Description num_chars', 'Job Description num_chars_no_whitespact_and_punt'\n",
                "    ]\n",
                "].head()\n"
            ]
        },
        {
            "cell_type": "code",
            "execution_count": null,
            "id": "d1797bdc",
            "metadata": {},
            "outputs": [],
            "source": [
                "df_manual[\n",
                "    [\n",
                "        'Job Description spacy_sentencized',\n",
                "        'Job Description num_words', 'Job Description num_unique_words',\n",
                "        'Job Description num_chars', 'Job Description num_chars_no_whitespact_and_punt'\n",
                "    ]\n",
                "].describe()\n"
            ]
        },
        {
            "cell_type": "code",
            "execution_count": null,
            "id": "8d1c589a",
            "metadata": {},
            "outputs": [],
            "source": [
                "# Get the highest num_words\n",
                "# len=131\n",
                "df_manual['Job Description num_words'].max()\n"
            ]
        },
        {
            "cell_type": "code",
            "execution_count": null,
            "id": "81efb88b",
            "metadata": {},
            "outputs": [],
            "source": [
                "# Get the Job Description spacy_sentencized row with the highest num_words value\n",
                "df_manual['Job Description spacy_sentencized'].loc[df_manual['Job Description num_words'].idxmax()]\n"
            ]
        },
        {
            "cell_type": "code",
            "execution_count": null,
            "id": "d7c08e47",
            "metadata": {},
            "outputs": [],
            "source": [
                "# Get the lowest num_words\n",
                "# len=1\n",
                "df_manual['Job Description num_words'].min()\n"
            ]
        },
        {
            "cell_type": "code",
            "execution_count": null,
            "id": "076bde40",
            "metadata": {},
            "outputs": [],
            "source": [
                "# Get the Job Description spacy_sentencized row with the lowest num_words value\n",
                "df_manual['Job Description spacy_sentencized'].loc[df_manual['Job Description num_words'].idxmin()]\n"
            ]
        },
        {
            "cell_type": "code",
            "execution_count": null,
            "id": "f2acfe7f",
            "metadata": {},
            "outputs": [],
            "source": [
                "df_manual.columns\n"
            ]
        },
        {
            "cell_type": "code",
            "execution_count": null,
            "id": "e42686c1",
            "metadata": {},
            "outputs": [],
            "source": [
                "get_df_info(df_manual, ivs_all=ivs_all)"
            ]
        },
        {
            "cell_type": "code",
            "execution_count": null,
            "id": "69f70b14",
            "metadata": {},
            "outputs": [],
            "source": [
                "# Warmth 1 = 1499 (25.1%), Competence 1 = 2649 (44.4%)\n",
                "get_df_info(df_manual, ivs_all=dvs)\n"
            ]
        },
        {
            "cell_type": "code",
            "execution_count": null,
            "id": "5deddb9d",
            "metadata": {},
            "outputs": [],
            "source": [
                "assert len(df_manual) > 0 and isinstance(df_manual, pd.DataFrame), f'ERORR: LENGTH OF DF = {len(df_manual)}'\n",
                "df_manual.to_pickle(f'{df_save_dir}df_manual_tokenized_spacy.pkl')\n",
                "df_manual.to_csv(f'{df_save_dir}df_manual_tokenized_spacy.csv')\n"
            ]
        },
        {
            "attachments": {},
            "cell_type": "markdown",
            "id": "e7f002d2",
            "metadata": {},
            "source": [
                "## Use NLTK to tokenize sentences\n"
            ]
        },
        {
            "cell_type": "markdown",
            "id": "92922872",
            "metadata": {},
            "source": [
                "### START HERE IF SOURCING FROM df_manual_TOKENIZED_SPACY\n",
                "### PLEASE SET CORRECT DIRECTORY PATHS BELOW\n"
            ]
        },
        {
            "cell_type": "code",
            "execution_count": null,
            "id": "9fae46f4",
            "metadata": {},
            "outputs": [],
            "source": [
                "import os # type:ignore # isort:skip # fmt:skip # noqa # nopep8\n",
                "import sys # type:ignore # isort:skip # fmt:skip # noqa # nopep8\n",
                "from pathlib import Path # type:ignore # isort:skip # fmt:skip # noqa # nopep8\n",
                "\n",
                "mod = sys.modules[__name__]\n",
                "\n",
                "code_dir = None\n",
                "code_dir_name = 'Code'\n",
                "unwanted_subdir_name = 'Analysis'\n",
                "\n",
                "for _ in range(5):\n",
                "\n",
                "    parent_path = str(Path.cwd().parents[_]).split('/')[-1]\n",
                "\n",
                "    if (code_dir_name in parent_path) and (unwanted_subdir_name not in parent_path):\n",
                "\n",
                "        code_dir = str(Path.cwd().parents[_])\n",
                "\n",
                "        if code_dir is not None:\n",
                "            break\n",
                "\n",
                "sys.path.append(code_dir)\n",
                "# %load_ext autoreload\n",
                "# %autoreload 2\n"
            ]
        },
        {
            "cell_type": "code",
            "execution_count": null,
            "id": "3d4f11d1",
            "metadata": {},
            "outputs": [],
            "source": [
                "from setup_module.imports import * # type:ignore # isort:skip # fmt:skip # noqa # nopep8\n"
            ]
        },
        {
            "cell_type": "code",
            "execution_count": null,
            "id": "5011ea0a",
            "metadata": {},
            "outputs": [],
            "source": [
                "df_manual = pd.read_pickle(f'{df_save_dir}df_manual_tokenized_spacy.pkl')\n"
            ]
        },
        {
            "cell_type": "code",
            "execution_count": null,
            "id": "4e40645d",
            "metadata": {},
            "outputs": [],
            "source": [
                "# Warmth 1 = 1595 (24.90%), Competence 1 = 2836 (44.30%)\n",
                "get_df_info(df_manual, ivs_all=dvs)\n"
            ]
        },
        {
            "cell_type": "code",
            "execution_count": null,
            "id": "9c8a9f1e",
            "metadata": {},
            "outputs": [],
            "source": [
                "df_manual.info()\n"
            ]
        },
        {
            "cell_type": "code",
            "execution_count": null,
            "id": "c2a2b936",
            "metadata": {},
            "outputs": [],
            "source": [
                "df_manual['Job Description spacy_sentencized'].head()\n"
            ]
        },
        {
            "cell_type": "code",
            "execution_count": null,
            "id": "a04cbc03",
            "metadata": {},
            "outputs": [],
            "source": [
                "df_manual['Job Description spacy_sentencized'].describe()\n"
            ]
        },
        {
            "cell_type": "code",
            "execution_count": null,
            "id": "e13e5d1f",
            "metadata": {},
            "outputs": [],
            "source": [
                "df_manual['Job Description spacy_sentencized'] = df_manual['Job Description spacy_sentencized'].apply(lambda x: unicodedata.normalize('NFKD', x.encode('ascii', 'ignore').decode('utf-8', 'ignore')))\n"
            ]
        },
        {
            "cell_type": "code",
            "execution_count": null,
            "id": "4475248f",
            "metadata": {},
            "outputs": [],
            "source": [
                "%%time\n",
                "# Tokenize with NLTK\n",
                "stop_words = set(stopwords.words('english'))\n",
                "punctuations = list(string.punctuation)\n",
                "lemmatizer = WordNetLemmatizer()\n",
                "stemmer = PorterStemmer()\n",
                "\n",
                "df_manual['Job Description nltk_tokenized'] = df_manual['Job Description spacy_sentencized'].progress_apply(\n",
                "    lambda job_sentence: [\n",
                "        str(token.strip().lower()) \n",
                "        for token in word_tokenize(job_sentence)\n",
                "        if len(token) != 0 \n",
                "        and token != '...' \n",
                "        and not token.lower() in nan_list\n",
                "        and not token.lower() in custom_punct_chars\n",
                "        and not token.lower() in set(stopwords.words('english')) \n",
                "        and not token.lower() in list(string.punctuation)\n",
                "        and not token.lower() in list(string.whitespace)\n",
                "        and (t.lower() in list(string.printable) for t in token.lower())\n",
                "    ]\n",
                ")\n",
                "\n",
                "assert len(df_manual) > 0 and isinstance(df_manual, pd.DataFrame), f'ERORR: LENGTH OF DF = {len(df_manual)}'\n",
                "df_manual.to_pickle(f'{df_save_dir}df_manual_tokenized_spacy_nltk.pkl')\n",
                "df_manual.to_csv(f'{df_save_dir}df_manual_tokenized_spacy_nltk.csv')\n"
            ]
        },
        {
            "cell_type": "code",
            "execution_count": null,
            "id": "3bbd5d3f",
            "metadata": {},
            "outputs": [],
            "source": [
                "df_manual['Job Description nltk_tokenized'].head()\n"
            ]
        },
        {
            "cell_type": "code",
            "execution_count": null,
            "id": "81d75dfc",
            "metadata": {},
            "outputs": [],
            "source": [
                "df_manual['Job Description nltk_tokenized'].describe()\n"
            ]
        },
        {
            "cell_type": "code",
            "execution_count": null,
            "id": "638f133c",
            "metadata": {},
            "outputs": [],
            "source": [
                "# Keep the some of the [] rows because they contain 'Who are we', 'What we do', etc. and remove '1. ' and '2. ' etc. abd 'T)'\n",
                "df_manual = df_manual.loc[~df_manual['Job Description spacy_sentencized'].str.match('^\\d\\.|.\\)')]\n"
            ]
        },
        {
            "cell_type": "code",
            "execution_count": null,
            "id": "f48c18e8",
            "metadata": {},
            "outputs": [],
            "source": [
                "df_manual['Job Description spacy_sentencized'].head()\n"
            ]
        },
        {
            "cell_type": "code",
            "execution_count": null,
            "id": "fdbe73d6",
            "metadata": {},
            "outputs": [],
            "source": [
                "df_manual['Job Description spacy_sentencized'].describe()\n"
            ]
        },
        {
            "cell_type": "code",
            "execution_count": null,
            "id": "86da6772",
            "metadata": {},
            "outputs": [],
            "source": [
                "df_manual.info()\n"
            ]
        },
        {
            "cell_type": "code",
            "execution_count": null,
            "id": "69e6640b",
            "metadata": {},
            "outputs": [],
            "source": [
                "assert len(df_manual) > 0 and isinstance(df_manual, pd.DataFrame), f'ERORR: LENGTH OF DF = {len(df_manual)}'\n",
                "df_manual.to_pickle(f'{df_save_dir}df_manual_tokenized_spacy_nltk.pkl')\n",
                "df_manual.to_csv(f'{df_save_dir}df_manual_tokenized_spacy_nltk.csv')\n"
            ]
        },
        {
            "attachments": {},
            "cell_type": "markdown",
            "id": "81e54149",
            "metadata": {},
            "source": [
                "## Use gensim to tokenize sentences\n"
            ]
        },
        {
            "cell_type": "markdown",
            "id": "ff307dba",
            "metadata": {},
            "source": [
                "### START HERE IF SOURCING FROM df_manual_TOKENIZED_SPACY_NLTK\n",
                "### PLEASE SET CORRECT DIRECTORY PATHS BELOW\n"
            ]
        },
        {
            "cell_type": "code",
            "execution_count": null,
            "id": "3f89cb65",
            "metadata": {},
            "outputs": [],
            "source": [
                "import os # type:ignore # isort:skip # fmt:skip # noqa # nopep8\n",
                "import sys # type:ignore # isort:skip # fmt:skip # noqa # nopep8\n",
                "from pathlib import Path # type:ignore # isort:skip # fmt:skip # noqa # nopep8\n",
                "\n",
                "mod = sys.modules[__name__]\n",
                "\n",
                "code_dir = None\n",
                "code_dir_name = 'Code'\n",
                "unwanted_subdir_name = 'Analysis'\n",
                "\n",
                "for _ in range(5):\n",
                "\n",
                "    parent_path = str(Path.cwd().parents[_]).split('/')[-1]\n",
                "\n",
                "    if (code_dir_name in parent_path) and (unwanted_subdir_name not in parent_path):\n",
                "\n",
                "        code_dir = str(Path.cwd().parents[_])\n",
                "\n",
                "        if code_dir is not None:\n",
                "            break\n",
                "\n",
                "sys.path.append(code_dir)\n",
                "# %load_ext autoreload\n",
                "# %autoreload 2\n"
            ]
        },
        {
            "cell_type": "code",
            "execution_count": null,
            "id": "ac2ae121",
            "metadata": {},
            "outputs": [],
            "source": [
                "from setup_module.imports import * # type:ignore # isort:skip # fmt:skip # noqa # nopep8\n"
            ]
        },
        {
            "cell_type": "code",
            "execution_count": null,
            "id": "c13d88fb",
            "metadata": {},
            "outputs": [],
            "source": [
                "df_manual = pd.read_pickle(f'{df_save_dir}df_manual_tokenized_spacy_nltk.pkl')\n"
            ]
        },
        {
            "cell_type": "code",
            "execution_count": null,
            "id": "58941640",
            "metadata": {},
            "outputs": [],
            "source": [
                "# Warmth 1 = 1595 (24.90%), Competence 1 = 2836 (44.30%)\n",
                "get_df_info(df_manual, ivs_all=dvs)\n"
            ]
        },
        {
            "cell_type": "code",
            "execution_count": null,
            "id": "bc48f290",
            "metadata": {},
            "outputs": [],
            "source": [
                "df_manual.info()\n"
            ]
        },
        {
            "cell_type": "code",
            "execution_count": null,
            "id": "e95fec77",
            "metadata": {},
            "outputs": [],
            "source": [
                "%%time\n",
                "df_manual['Job Description gensim_tokenized'] = df_manual['Job Description spacy_sentencized'].progress_apply(\n",
                "    lambda sentence: preprocess_string(re.sub(pattern, '.', sentence.strip().lower()))\n",
                ")\n",
                "\n",
                "assert len(df_manual) > 0 and isinstance(df_manual, pd.DataFrame), f'ERORR: LENGTH OF DF = {len(df_manual)}'\n",
                "df_manual.to_pickle(f'{df_save_dir}df_manual_tokenized_spacy_nltk_gensim.pkl')\n",
                "df_manual.to_csv(f'{df_save_dir}df_manual_tokenized_spacy_nltk_gensim.csv')\n"
            ]
        },
        {
            "cell_type": "code",
            "execution_count": null,
            "id": "1cc29198",
            "metadata": {},
            "outputs": [],
            "source": [
                "df_manual['Job Description gensim_tokenized'].head()\n"
            ]
        },
        {
            "cell_type": "code",
            "execution_count": null,
            "id": "4ab443ce",
            "metadata": {},
            "outputs": [],
            "source": [
                "df_manual['Job Description gensim_tokenized'].describe()\n"
            ]
        },
        {
            "cell_type": "code",
            "execution_count": null,
            "id": "164c2ad0",
            "metadata": {},
            "outputs": [],
            "source": [
                "# Keep the some of the [] rows because they contain 'Who are we', 'What we do', etc. and remove '1. ' and '2. ' etc.\n",
                "df_manual = df_manual.loc[~df_manual['Job Description spacy_sentencized'].str.match('^\\d\\.|.\\)')]\n"
            ]
        },
        {
            "cell_type": "code",
            "execution_count": null,
            "id": "0a69a8de",
            "metadata": {},
            "outputs": [],
            "source": [
                "df_manual.info()\n"
            ]
        },
        {
            "cell_type": "code",
            "execution_count": null,
            "id": "a62be70e",
            "metadata": {},
            "outputs": [],
            "source": [
                "assert len(df_manual) > 0 and isinstance(df_manual, pd.DataFrame), f'ERORR: LENGTH OF DF = {len(df_manual)}'\n",
                "df_manual.to_pickle(f'{df_save_dir}df_manual_tokenized_spacy_nltk_gensim.pkl')\n",
                "df_manual.to_csv(f'{df_save_dir}df_manual_tokenized_spacy_nltk_gensim.csv')\n"
            ]
        },
        {
            "attachments": {},
            "cell_type": "markdown",
            "id": "eeb0131f",
            "metadata": {},
            "source": [
                "## Use BERT to tokenize sentences\n"
            ]
        },
        {
            "cell_type": "markdown",
            "id": "efcf30fc",
            "metadata": {},
            "source": [
                "### START HERE IF SOURCING FROM df_manual_TOKENIZED_SPACY_NLTK_GENSIM\n",
                "### PLEASE SET CORRECT DIRECTORY PATHS BELOW\n"
            ]
        },
        {
            "cell_type": "code",
            "execution_count": null,
            "id": "5b9f9509",
            "metadata": {},
            "outputs": [],
            "source": [
                "import os # type:ignore # isort:skip # fmt:skip # noqa # nopep8\n",
                "import sys # type:ignore # isort:skip # fmt:skip # noqa # nopep8\n",
                "from pathlib import Path # type:ignore # isort:skip # fmt:skip # noqa # nopep8\n",
                "\n",
                "mod = sys.modules[__name__]\n",
                "\n",
                "code_dir = None\n",
                "code_dir_name = 'Code'\n",
                "unwanted_subdir_name = 'Analysis'\n",
                "\n",
                "for _ in range(5):\n",
                "\n",
                "    parent_path = str(Path.cwd().parents[_]).split('/')[-1]\n",
                "\n",
                "    if (code_dir_name in parent_path) and (unwanted_subdir_name not in parent_path):\n",
                "\n",
                "        code_dir = str(Path.cwd().parents[_])\n",
                "\n",
                "        if code_dir is not None:\n",
                "            break\n",
                "\n",
                "sys.path.append(code_dir)\n",
                "# %load_ext autoreload\n",
                "# %autoreload 2\n"
            ]
        },
        {
            "cell_type": "code",
            "execution_count": null,
            "id": "6f6ae091",
            "metadata": {},
            "outputs": [],
            "source": [
                "from setup_module.imports import * # type:ignore # isort:skip # fmt:skip # noqa # nopep8\n"
            ]
        },
        {
            "cell_type": "code",
            "execution_count": null,
            "id": "ec899945",
            "metadata": {},
            "outputs": [],
            "source": [
                "df_manual = pd.read_pickle(f'{df_save_dir}df_manual_tokenized_spacy_nltk_gensim.pkl')\n"
            ]
        },
        {
            "cell_type": "code",
            "execution_count": null,
            "id": "316d9ace",
            "metadata": {},
            "outputs": [],
            "source": [
                "# Warmth 1 = 1504 (24.90%), Competence 1 = 2709 (44.30%)\n",
                "get_df_info(df_manual, ivs_all=dvs)\n"
            ]
        },
        {
            "cell_type": "code",
            "execution_count": null,
            "id": "d42a3b60",
            "metadata": {},
            "outputs": [],
            "source": [
                "df_manual.info()\n"
            ]
        },
        {
            "cell_type": "code",
            "execution_count": null,
            "id": "f8bc6622",
            "metadata": {},
            "outputs": [],
            "source": [
                "%%time\n",
                "max_length = 512\n",
                "returned_tensor = 'pt'\n",
                "cpu_counts = torch.multiprocessing.cpu_count()\n",
                "device = torch.device('mps') if torch.has_mps and torch.backends.mps.is_built() and torch.backends.mps.is_available() else torch.device('cuda') if torch.cuda.is_available() else torch.device('cpu')\n",
                "device_name = str(device.type)\n",
                "print(f'Using {device_name.upper()}')\n",
                "bert_model_name = 'bert-base-uncased'\n",
                "bert_tokenizer = BertTokenizerFast.from_pretrained(bert_model_name, strip_accents = True)\n",
                "bert_model = BertForSequenceClassification.from_pretrained(bert_model_name).to(device)\n",
                "\n",
                "df_manual['Job Description bert_tokenized'] = df_manual['Job Description spacy_sentencized'].progress_apply(\n",
                "    lambda sentence: bert_tokenizer.tokenize(str(sentence))\n",
                ")\n",
                "\n",
                "assert len(df_manual) > 0 and isinstance(df_manual, pd.DataFrame), f'ERORR: LENGTH OF DF = {len(df_manual)}'\n",
                "df_manual.to_pickle(f'{df_save_dir}df_manual_tokenized_spacy_nltk_gensim_bert.pkl')\n",
                "df_manual.to_csv(f'{df_save_dir}df_manual_tokenized_spacy_nltk_gensim_bert.csv')\n"
            ]
        },
        {
            "cell_type": "code",
            "execution_count": null,
            "id": "9ae92181",
            "metadata": {},
            "outputs": [],
            "source": [
                "df_manual['Job Description bert_tokenized'].head()\n"
            ]
        },
        {
            "cell_type": "code",
            "execution_count": null,
            "id": "88502ee9",
            "metadata": {},
            "outputs": [],
            "source": [
                "df_manual['Job Description bert_tokenized'].describe()\n"
            ]
        },
        {
            "cell_type": "code",
            "execution_count": null,
            "id": "ebbbdf54",
            "metadata": {},
            "outputs": [],
            "source": [
                "assert len(df_manual) > 0 and isinstance(df_manual, pd.DataFrame), f'ERORR: LENGTH OF DF = {len(df_manual)}'\n",
                "df_manual.to_pickle(f'{df_save_dir}df_manual_for_trainning.pkl')\n",
                "df_manual.to_csv(f'{df_save_dir}df_manual_for_trainning.csv')\n"
            ]
        },
        {
            "cell_type": "code",
            "execution_count": null,
            "id": "853b13fc",
            "metadata": {},
            "outputs": [],
            "source": [
                "print(f'Saving df_manual length {len(df_manual)} to txt file.')\n",
                "with open(f'{data_dir}df_manual_len.txt', 'w') as f:\n",
                "    f.write(str(len(df_manual)))\n"
            ]
        },
        {
            "attachments": {},
            "cell_type": "markdown",
            "id": "6e01aab5",
            "metadata": {},
            "source": [
                "## Check data"
            ]
        },
        {
            "attachments": {},
            "cell_type": "markdown",
            "id": "e4351f1b",
            "metadata": {},
            "source": [
                "### START HERE IF SOURCING FROM df_manual_FOR_TRAINNING\n",
                "### PLEASE SET CORRECT DIRECTORY PATHS BELOW"
            ]
        },
        {
            "cell_type": "code",
            "execution_count": null,
            "id": "0966a7cb",
            "metadata": {},
            "outputs": [],
            "source": [
                "import os # type:ignore # isort:skip # fmt:skip # noqa # nopep8\n",
                "import sys # type:ignore # isort:skip # fmt:skip # noqa # nopep8\n",
                "from pathlib import Path # type:ignore # isort:skip # fmt:skip # noqa # nopep8\n",
                "\n",
                "mod = sys.modules[__name__]\n",
                "\n",
                "code_dir = None\n",
                "code_dir_name = 'Code'\n",
                "unwanted_subdir_name = 'Analysis'\n",
                "\n",
                "for _ in range(5):\n",
                "\n",
                "    parent_path = str(Path.cwd().parents[_]).split('/')[-1]\n",
                "\n",
                "    if (code_dir_name in parent_path) and (unwanted_subdir_name not in parent_path):\n",
                "\n",
                "        code_dir = str(Path.cwd().parents[_])\n",
                "\n",
                "        if code_dir is not None:\n",
                "            break\n",
                "\n",
                "sys.path.append(code_dir)\n",
                "# %load_ext autoreload\n",
                "# %autoreload 2\n"
            ]
        },
        {
            "cell_type": "code",
            "execution_count": null,
            "id": "b82cb314",
            "metadata": {},
            "outputs": [],
            "source": [
                "from setup_module.imports import * # type:ignore # isort:skip # fmt:skip # noqa # nopep8\n"
            ]
        },
        {
            "cell_type": "code",
            "execution_count": null,
            "id": "e93a7324",
            "metadata": {},
            "outputs": [],
            "source": [
                "with open(f'{data_dir}df_manual_len.txt', 'r') as f:\n",
                "    df_manual_len = int(f.read())\n",
                "\n",
                "df_manual = pd.read_pickle(f'{df_save_dir}df_manual_for_trainning.pkl')\n",
                "assert len(df_manual) == df_manual_len, f'DATAFRAME MISSING DATA! DF SHOULD BE OF LENGTH {df_manual_len} BUT IS OF LENGTH {len(df_manual)}'\n",
                "print(f'Dataframe loaded with shape: {df_manual.shape}')"
            ]
        },
        {
            "cell_type": "code",
            "execution_count": null,
            "id": "97993ad7",
            "metadata": {},
            "outputs": [],
            "source": [
                "df_manual.columns.tolist()"
            ]
        },
        {
            "cell_type": "code",
            "execution_count": null,
            "id": "382e2d0b",
            "metadata": {},
            "outputs": [],
            "source": [
                "get_df_info(df_manual, ivs_all=dvs)"
            ]
        },
        {
            "cell_type": "code",
            "execution_count": null,
            "id": "468b8e4d",
            "metadata": {},
            "outputs": [],
            "source": [
                "get_df_info(df_manual, ivs_all=ivs)"
            ]
        },
        {
            "cell_type": "code",
            "execution_count": null,
            "id": "a97574cd",
            "metadata": {},
            "outputs": [],
            "source": [
                "get_df_info(df_manual, ivs_all=ivs_dummy)"
            ]
        },
        {
            "cell_type": "code",
            "execution_count": null,
            "id": "cb4e2dfd",
            "metadata": {},
            "outputs": [],
            "source": [
                "get_df_info(df_manual, ivs_all=ivs_perc)"
            ]
        },
        {
            "cell_type": "code",
            "execution_count": null,
            "id": "37efbd85",
            "metadata": {},
            "outputs": [],
            "source": [
                "ivs_dummy+[controls[2], controls[3]]"
            ]
        },
        {
            "cell_type": "code",
            "execution_count": null,
            "id": "dc48845a",
            "metadata": {},
            "outputs": [],
            "source": [
                "from setup_module import specification_curve_fork as specy # type:ignore # isort:skip # fmt:skip # noqa # nopep8\n",
                "\n",
                "print(f'Running specification curve analysis with:\\nDEPENDENT VARIABLES = {dvs}\\nINDEPENDENT VARIABLES = {ivs_dummy}\\nCONTROLS = {controls}')\n",
                "sc = specy.SpecificationCurve(df=df_manual, y_endog=dvs, x_exog=ivs_dummy, controls=controls)\n",
                "sc.fit(estimator=sm.OLS)\n",
                "sc.plot(show_plot=True)\n"
            ]
        },
        {
            "cell_type": "code",
            "execution_count": null,
            "id": "6bcdc7c2",
            "metadata": {},
            "outputs": [],
            "source": [
                "from setup_module import specification_curve_fork as specy # type:ignore # isort:skip # fmt:skip # noqa # nopep8\n",
                "\n",
                "print(f'Running specification curve analysis with:\\nDEPENDENT VARIABLES = {dvs}\\nINDEPENDENT VARIABLES = {ivs_perc}\\nCONTROLS = {controls}')\n",
                "sc = specy.SpecificationCurve(df=df_manual, y_endog=dvs, x_exog=ivs_perc, controls=controls)\n",
                "sc.fit(estimator=sm.Logit)\n",
                "sc.plot(show_plot=True)\n"
            ]
        },
        {
            "cell_type": "code",
            "execution_count": null,
            "id": "9c60b870",
            "metadata": {},
            "outputs": [],
            "source": [
                "from setup_module import specification_curve_fork as specy # type:ignore # isort:skip # fmt:skip # noqa # nopep8\n",
                "\n",
                "print(f'Running specification curve analysis with:\\nDEPENDENT VARIABLES = {dvs}\\nINDEPENDENT VARIABLES = {ivs_perc+ivs_dummy}\\nCONTROLS = {controls}')\n",
                "sc = specy.SpecificationCurve(df=df_manual, y_endog=dvs, x_exog=ivs_perc+ivs_dummy, controls=controls)\n",
                "sc.fit(estimator=sm.Logit)\n",
                "sc.plot(show_plot=True)\n"
            ]
        },
        {
            "cell_type": "code",
            "execution_count": null,
            "id": "8936c818",
            "metadata": {},
            "outputs": [],
            "source": [
                "# assert len(df_manual) > 0 and isinstance(df_manual, pd.DataFrame), f'ERORR: LENGTH OF DF = {len(df_manual)}'\n",
                "# df_manual.to_pickle(f'{df_save_dir}df_manual_tokenized_spacy_nltk_gensim_bert.pkl')\n",
                "# df_manual.to_csv(f'{df_save_dir}df_manual_tokenized_spacy_nltk_gensim_bert.csv')\n"
            ]
        },
        {
            "cell_type": "markdown",
            "id": "72e4a4f3",
            "metadata": {},
            "source": [
                "# ATTN: This script should be run AFTER all tokenization (spacy, nltk, gensim, and BERT) completed.\n"
            ]
        },
        {
            "cell_type": "markdown",
            "id": "b376a87e",
            "metadata": {},
            "source": [
                "## Use spacy to create Parts-Of-Speech (POS) tags, lemmas, and stems\n"
            ]
        },
        {
            "cell_type": "markdown",
            "id": "67abb044",
            "metadata": {},
            "source": [
                "### START HERE IF SOURCING FROM df_manual_TOKENIZED_SPACY_NLTK_GENSIM_BERT\n",
                "### PLEASE SET CORRECT DIRECTORY PATHS BELOW\n"
            ]
        },
        {
            "cell_type": "code",
            "execution_count": null,
            "id": "75edc613",
            "metadata": {},
            "outputs": [],
            "source": [
                "# import os # type:ignore # isort:skip # fmt:skip # noqa # nopep8\n",
                "# import sys # type:ignore # isort:skip # fmt:skip # noqa # nopep8\n",
                "# from pathlib import Path # type:ignore # isort:skip # fmt:skip # noqa # nopep8\n",
                "\n",
                "# mod = sys.modules[__name__]\n",
                "\n",
                "# code_dir = None\n",
                "# code_dir_name = 'Code'\n",
                "# unwanted_subdir_name = 'Analysis'\n",
                "\n",
                "# for _ in range(5):\n",
                "\n",
                "#     parent_path = str(Path.cwd().parents[_]).split('/')[-1]\n",
                "\n",
                "#     if (code_dir_name in parent_path) and (unwanted_subdir_name not in parent_path):\n",
                "\n",
                "#         code_dir = str(Path.cwd().parents[_])\n",
                "\n",
                "#         if code_dir is not None:\n",
                "#             break\n",
                "\n",
                "# sys.path.append(code_dir)\n",
                "# # %load_ext autoreload\n",
                "# # %autoreload 2\n"
            ]
        },
        {
            "cell_type": "code",
            "execution_count": null,
            "id": "f3ecf3fb",
            "metadata": {},
            "outputs": [],
            "source": [
                "# from setup_module.imports import * # type:ignore # isort:skip # fmt:skip # noqa # nopep8\n"
            ]
        },
        {
            "cell_type": "code",
            "execution_count": null,
            "id": "108d5619",
            "metadata": {},
            "outputs": [],
            "source": [
                "# df_manual = pd.read_pickle(f'{df_save_dir}df_manual_tokenized_spacy_nltk_gensim_bert.pkl')\n"
            ]
        },
        {
            "cell_type": "code",
            "execution_count": null,
            "id": "c882af7d",
            "metadata": {},
            "outputs": [],
            "source": [
                "## Warmth 1 = 1595 (24.90%), Competence 1 = 2836 (44.30%)\n",
                "# get_df_info(df_manual, ivs_all=dvs)\n"
            ]
        },
        {
            "cell_type": "code",
            "execution_count": null,
            "id": "2b826df2",
            "metadata": {},
            "outputs": [],
            "source": [
                "# df_manual.info()\n"
            ]
        },
        {
            "cell_type": "code",
            "execution_count": null,
            "id": "8707126e",
            "metadata": {},
            "outputs": [],
            "source": [
                "# %%time\n",
                "# # Load customer characters\n",
                "# with open(f'{data_dir}punctuations.txt', 'rb') as f:\n",
                "#     custom_punct_chars = pickle.load(f)\n",
                "\n",
                "# # POS tagging\n",
                "# df_manual['Job Description spacy_token_tags'] = df_manual[\n",
                "#     'Job Description spacy_sentencized'\n",
                "# ].progress_apply(\n",
                "#     lambda job_sentence: [\n",
                "#         (token.text.strip().lower(), token.tag_) for token in nlp(job_sentence)\n",
                "#     ]\n",
                "# )\n",
                "\n",
                "# # Lemmatization\n",
                "# df_manual['Job Description spacy_lemmas'] = df_manual['Job Description spacy_sentencized'].progress_apply(\n",
                "#     lambda job_sentence: [\n",
                "#         token.lemma_.strip().lower()\n",
                "#         for token in nlp(job_sentence)\n",
                "#         if token.text is not None\n",
                "#         and len(token.text) != 0\n",
                "#         and token.text != '...'\n",
                "#         and not token.is_space\n",
                "#         and not token.is_stop\n",
                "#         and not token.is_punct\n",
                "#         and not token.is_quote\n",
                "#         and token.is_ascii\n",
                "#         and not token.is_bracket\n",
                "#         and not token.like_email\n",
                "#     ]\n",
                "# )\n",
                "\n",
                "# # Stemming\n",
                "# df_manual['Job Description spacy_stems'] = df_manual['Job Description spacy_sentencized'].progress_apply(\n",
                "#     lambda job_sentence: [\n",
                "#         stemmer.stem(token.text.strip().lower())\n",
                "#         for token in nlp(job_sentence)\n",
                "#         if token.text is not None\n",
                "#         and len(token) != 0\n",
                "#         and len(token.text) != 0\n",
                "#         and bool(token)\n",
                "#         and bool(token.text)\n",
                "#         and token.text != '...'\n",
                "#         and not token.is_space\n",
                "#         and not token.is_punct\n",
                "#         and not token.is_quote\n",
                "#         and not token.is_bracket\n",
                "#         and not token.like_email\n",
                "#     ]\n",
                "# )\n",
                "\n",
                "# assert len(df_manual) > 0 and isinstance(df_manual, pd.DataFrame), f'ERORR: LENGTH OF DF = {len(df_manual)}'\n",
                "# df_manual.to_pickle(f'{df_save_dir}df_manual_tags_lemmas_stems_spacy.pkl')\n",
                "# df_manual.to_csv(f'{df_save_dir}df_manual_tags_lemmas_stems_spacy.csv')\n"
            ]
        },
        {
            "cell_type": "code",
            "execution_count": null,
            "id": "aa791d2c",
            "metadata": {},
            "outputs": [],
            "source": [
                "# df_manual.info()\n"
            ]
        },
        {
            "cell_type": "code",
            "execution_count": null,
            "id": "80ec3614",
            "metadata": {},
            "outputs": [],
            "source": [
                "# df_manual[\n",
                "#     [\n",
                "#         'Job Description spacy_token_tags',\n",
                "#         'Job Description spacy_lemmas',\n",
                "#         'Job Description spacy_stems'\n",
                "#     ]\n",
                "# ].head()\n"
            ]
        },
        {
            "cell_type": "code",
            "execution_count": null,
            "id": "80467339",
            "metadata": {},
            "outputs": [],
            "source": [
                "# assert len(df_manual) > 0 and isinstance(df_manual, pd.DataFrame), f'ERORR: LENGTH OF DF = {len(df_manual)}'\n",
                "# df_manual.to_pickle(f'{df_save_dir}df_manual_tags_lemmas_stems_spacy.pkl')\n",
                "# df_manual.to_csv(f'{df_save_dir}df_manual_tags_lemmas_stems_spacy.csv')\n"
            ]
        },
        {
            "cell_type": "markdown",
            "id": "9923c074",
            "metadata": {},
            "source": [
                "## Use NLTK to create Parts-Of-Speech (POS) tags, lemmas, and stems\n"
            ]
        },
        {
            "cell_type": "markdown",
            "id": "9b5f6733",
            "metadata": {},
            "source": [
                "### START HERE IF SOURCING FROM df_manual_TAGS_LEMMAS_STEMS_SPACY\n",
                "### PLEASE SET CORRECT DIRECTORY PATHS BELOW\n"
            ]
        },
        {
            "cell_type": "code",
            "execution_count": null,
            "id": "d1e6c51e",
            "metadata": {},
            "outputs": [],
            "source": [
                "# import os # type:ignore # isort:skip # fmt:skip # noqa # nopep8\n",
                "# import sys # type:ignore # isort:skip # fmt:skip # noqa # nopep8\n",
                "# from pathlib import Path # type:ignore # isort:skip # fmt:skip # noqa # nopep8\n",
                "\n",
                "# mod = sys.modules[__name__]\n",
                "\n",
                "# code_dir = None\n",
                "# code_dir_name = 'Code'\n",
                "# unwanted_subdir_name = 'Analysis'\n",
                "\n",
                "# for _ in range(5):\n",
                "\n",
                "#     parent_path = str(Path.cwd().parents[_]).split('/')[-1]\n",
                "\n",
                "#     if (code_dir_name in parent_path) and (unwanted_subdir_name not in parent_path):\n",
                "\n",
                "#         code_dir = str(Path.cwd().parents[_])\n",
                "\n",
                "#         if code_dir is not None:\n",
                "#             break\n",
                "\n",
                "# sys.path.append(code_dir)\n",
                "# # %load_ext autoreload\n",
                "# # %autoreload 2\n"
            ]
        },
        {
            "cell_type": "code",
            "execution_count": null,
            "id": "b13a9c3f",
            "metadata": {},
            "outputs": [],
            "source": [
                "# from setup_module.imports import * # type:ignore # isort:skip # fmt:skip # noqa # nopep8\n"
            ]
        },
        {
            "cell_type": "code",
            "execution_count": null,
            "id": "c60ab001",
            "metadata": {},
            "outputs": [],
            "source": [
                "# def get_wordnet_pos(token):\n",
                "#     \"\"\"Map POS tag to first character lemmatize() accepts\"\"\"\n",
                "#     tag = nltk.pos_tag([token])[0][1][0].upper()\n",
                "#     tag_dict = {\"J\": wordnet.ADJ,\n",
                "#                 \"N\": wordnet.NOUN,\n",
                "#                 \"V\": wordnet.VERB,\n",
                "#                 \"R\": wordnet.ADV}\n",
                "\n",
                "#     return tag_dict.get(tag, wordnet.NOUN)\n"
            ]
        },
        {
            "cell_type": "code",
            "execution_count": null,
            "id": "451fd7e1",
            "metadata": {},
            "outputs": [],
            "source": [
                "# df_manual = pd.read_pickle(f'{df_save_dir}df_manual_tags_lemmas_stems_spacy.pkl')\n"
            ]
        },
        {
            "cell_type": "code",
            "execution_count": null,
            "id": "88230e7f",
            "metadata": {},
            "outputs": [],
            "source": [
                "# get_df_info(df_manual, ivs_all=dvs)\n"
            ]
        },
        {
            "cell_type": "code",
            "execution_count": null,
            "id": "f668190d",
            "metadata": {},
            "outputs": [],
            "source": [
                "# df_manual.info()\n"
            ]
        },
        {
            "cell_type": "code",
            "execution_count": null,
            "id": "1710f8b5",
            "metadata": {},
            "outputs": [],
            "source": [
                "# %%time\n",
                "# # POS tagging\n",
                "# df_manual['Job Description nltk_token_tags'] = df_manual['Job Description spacy_tokenized'].progress_apply(\n",
                "#     lambda token: pos_tag(token)\n",
                "# )\n",
                "\n",
                "# # Lemmatization\n",
                "# df_manual['Job Description nltk_lemmas'] = df_manual['Job Description spacy_tokenized'].progress_apply(\n",
                "#     lambda tokens: [\n",
                "#         lemmatizer.lemmatize(\n",
                "#             token, get_wordnet_pos(\n",
                "#                 unicodedata.normalize('NFKD', str(token.strip().lower())).encode('ascii', 'ignore').decode('utf-8', 'ignore')\n",
                "#             )\n",
                "#         )\n",
                "#         for token in tokens\n",
                "#     ]\n",
                "# )\n",
                "\n",
                "# # Stemming\n",
                "# df_manual['Job Description nltk_stems'] = df_manual['Job Description spacy_tokenized'].progress_apply(\n",
                "#     lambda tokens: [\n",
                "#         stemmer.stem(\n",
                "#             unicodedata.normalize('NFKD', str(token.strip().lower())).encode('ascii', 'ignore').decode('utf-8', 'ignore')\n",
                "#         )\n",
                "#         for token in tokens\n",
                "#     ]\n",
                "# )\n",
                "\n",
                "# assert len(df_manual) > 0 and isinstance(df_manual, pd.DataFrame), f'ERORR: LENGTH OF DF = {len(df_manual)}'\n",
                "# df_manual.to_pickle(f'{df_save_dir}df_manual_tags_lemmas_stems_spacy_nltk.pkl')\n",
                "# df_manual.to_csv(f'{df_save_dir}df_manual_tags_lemmas_stems_spacy_nltk.csv')\n"
            ]
        },
        {
            "cell_type": "code",
            "execution_count": null,
            "id": "b52e3777",
            "metadata": {},
            "outputs": [],
            "source": [
                "# df_manual.info()\n"
            ]
        },
        {
            "cell_type": "code",
            "execution_count": null,
            "id": "afb9968b",
            "metadata": {},
            "outputs": [],
            "source": [
                "# df_manual[['Job Description nltk_token_tags', 'Job Description nltk_lemmas', 'Job Description nltk_stems']].head()\n"
            ]
        },
        {
            "cell_type": "code",
            "execution_count": null,
            "id": "bbba0d31",
            "metadata": {},
            "outputs": [],
            "source": [
                "# assert len(df_manual) > 0 and isinstance(df_manual, pd.DataFrame), f'ERORR: LENGTH OF DF = {len(df_manual)}'\n",
                "# df_manual.to_pickle(f'{df_save_dir}df_manual_tags_lemmas_stems_spacy_nltk.pkl')\n",
                "# df_manual.to_csv(f'{df_save_dir}df_manual_tags_lemmas_stems_spacy_nltk.csv')\n"
            ]
        },
        {
            "cell_type": "markdown",
            "id": "56d7ecad",
            "metadata": {},
            "source": [
                "## Use BERT to create Parts-Of-Speech (POS) tags, lemmas, and stems\n"
            ]
        },
        {
            "cell_type": "markdown",
            "id": "fb3049c9",
            "metadata": {},
            "source": [
                "### START HERE IF SOURCING FROM df_manual_TAGS_LEMMAS_STEMS_SPACY_NLTK\n",
                "### PLEASE SET CORRECT DIRECTORY PATHS BELOW\n"
            ]
        },
        {
            "cell_type": "code",
            "execution_count": null,
            "id": "5c090eda",
            "metadata": {},
            "outputs": [],
            "source": [
                "# import os # type:ignore # isort:skip # fmt:skip # noqa # nopep8\n",
                "# import sys # type:ignore # isort:skip # fmt:skip # noqa # nopep8\n",
                "# from pathlib import Path # type:ignore # isort:skip # fmt:skip # noqa # nopep8\n",
                "\n",
                "# mod = sys.modules[__name__]\n",
                "\n",
                "# code_dir = None\n",
                "# code_dir_name = 'Code'\n",
                "# unwanted_subdir_name = 'Analysis'\n",
                "\n",
                "# for _ in range(5):\n",
                "\n",
                "#     parent_path = str(Path.cwd().parents[_]).split('/')[-1]\n",
                "\n",
                "#     if (code_dir_name in parent_path) and (unwanted_subdir_name not in parent_path):\n",
                "\n",
                "#         code_dir = str(Path.cwd().parents[_])\n",
                "\n",
                "#         if code_dir is not None:\n",
                "#             break\n",
                "\n",
                "# sys.path.append(code_dir)\n",
                "# # %load_ext autoreload\n",
                "# # %autoreload 2\n"
            ]
        },
        {
            "cell_type": "code",
            "execution_count": null,
            "id": "3ba8a95d",
            "metadata": {},
            "outputs": [],
            "source": [
                "# from setup_module.imports import * # type:ignore # isort:skip # fmt:skip # noqa # nopep8\n"
            ]
        },
        {
            "cell_type": "code",
            "execution_count": null,
            "id": "1a303b5f",
            "metadata": {},
            "outputs": [],
            "source": [
                "# df_manual = pd.read_pickle(f'{df_save_dir}df_manual_tags_lemmas_stems_spacy_nltk.pkl')\n"
            ]
        },
        {
            "cell_type": "code",
            "execution_count": null,
            "id": "923053ae",
            "metadata": {},
            "outputs": [],
            "source": [
                "# get_df_info(df_manual, ivs_all=dvs)\n"
            ]
        },
        {
            "cell_type": "code",
            "execution_count": null,
            "id": "889d5f89",
            "metadata": {},
            "outputs": [],
            "source": [
                "# %%time\n",
                "# bert_pos_model_name = 'QCRI/bert-base-multilingual-cased-pos-english'\n",
                "# bert_pos_model = AutoModelForTokenClassification.from_pretrained(bert_pos_model_name).to(device)\n",
                "# bert_pos_tagger = TokenClassificationPipeline(model=bert_pos_model, tokenizer=bert_tokenizer).to(device)\n",
                "\n",
                "# df_manual['Job Description bert_token_tags_with_scores'] = df_manual['Job Description spacy_sentencized'].progress_apply(\n",
                "#     lambda sentence: [\n",
                "#         (bert_pos_tag['word'], bert_pos_tag['entity'], bert_pos_tag['score'])\n",
                "#         for i in range(len(sentence.split()))\n",
                "#         for bert_pos_tag in bert_pos_tagger(sentence)\n",
                "#     ]\n",
                "# )\n",
                "\n",
                "# df_manual['Job Description bert_token_tags'] = df_manual['Job Description bert_token_tags_with_scores'].progress_apply(\n",
                "#     lambda tag_list: [\n",
                "#         [(tag_list[i][0], tag_list[i][1])]\n",
                "#         for tag_tuple in tag_list\n",
                "#         for i in range(len(tag_list))\n",
                "#     ]\n",
                "# )\n",
                "\n",
                "\n",
                "# assert len(df_manual) > 0 and isinstance(df_manual, pd.DataFrame), f'ERORR: LENGTH OF DF = {len(df_manual)}'\n",
                "# df_manual.to_pickle(f'{df_save_dir}df_manual_tags_lemmas_stems_spacy_nltk_bert.pkl')\n",
                "# df_manual.to_csv(f'{df_save_dir}df_manual_tags_lemmas_stems_spacy_nltk_bert.csv')\n"
            ]
        },
        {
            "cell_type": "code",
            "execution_count": null,
            "id": "d77b1224",
            "metadata": {},
            "outputs": [],
            "source": [
                "# df_manual['Job Description bert_token_tags'].head()"
            ]
        },
        {
            "cell_type": "code",
            "execution_count": null,
            "id": "43c03a2c",
            "metadata": {},
            "outputs": [],
            "source": [
                "# assert len(df_manual) > 0 and isinstance(df_manual, pd.DataFrame), f'ERORR: LENGTH OF DF = {len(df_manual)}'\n",
                "# df_manual.to_pickle(f'{df_save_dir}df_manual_tags_lemmas_stems_spacy_nltk_bert.pkl')\n",
                "# df_manual.to_csv(f'{df_save_dir}df_manual_tags_lemmas_stems_spacy_nltk_bert.csv')\n"
            ]
        },
        {
            "cell_type": "markdown",
            "id": "51665e58",
            "metadata": {},
            "source": [
                "# ATTN: This script should be run AFTER all POS tagging, lemmatization, and stemming (spacy and nltk) completed. If BERT POS tagging was done, change pkl file loading\n"
            ]
        },
        {
            "cell_type": "markdown",
            "id": "dc6e96cc",
            "metadata": {},
            "source": [
                "## Use spacy to create bi and trigrams\n"
            ]
        },
        {
            "cell_type": "markdown",
            "id": "e88b5858",
            "metadata": {},
            "source": [
                "### START HERE IF SOURCING FROM df_manual_TAGS_LEMMAS_STEMS_SPACY_NLTK\n",
                "### PLEASE SET CORRECT DIRECTORY PATHS BELOW\n"
            ]
        },
        {
            "cell_type": "code",
            "execution_count": null,
            "id": "b6376abd",
            "metadata": {},
            "outputs": [],
            "source": [
                "# import os\n",
                "# import sys\n",
                "# import importlib\n",
                "# from pathlib import Path\n",
                "# import numpy as np\n",
                "\n",
                "# mod = sys.modules[__name__]\n",
                "\n",
                "# code_dir = None\n",
                "# code_dir_name = 'Code'\n",
                "# unwanted_subdir_name = 'Analysis'\n",
                "\n",
                "# for _ in range(5):\n",
                "\n",
                "#     parent_path = str(Path.cwd().parents[_]).split('/')[-1]\n",
                "\n",
                "#     if (code_dir_name in parent_path) and (unwanted_subdir_name not in parent_path):\n",
                "\n",
                "#         code_dir = str(Path.cwd().parents[_])\n",
                "\n",
                "#         if code_dir is not None:\n",
                "#             break\n",
                "\n",
                "# sys.path.append(code_dir)\n",
                "# # %load_ext autoreload\n",
                "# # %autoreload 2\n"
            ]
        },
        {
            "cell_type": "code",
            "execution_count": null,
            "id": "0760b42b",
            "metadata": {},
            "outputs": [],
            "source": [
                "# from setup_module.imports import * # type:ignore # isort:skip # fmt:skip # noqa # nopep8\n"
            ]
        },
        {
            "cell_type": "code",
            "execution_count": null,
            "id": "3f0286d1",
            "metadata": {},
            "outputs": [],
            "source": [
                "# def spacy_make_ngrams(sentence, matcher, gram_type):\n",
                "\n",
                "#     doc = nlp(sentence)\n",
                "#     matches = matcher(doc)\n",
                "#     matches_list = []\n",
                "\n",
                "#     for idx in range(len(matches)):\n",
                "#         for match_id, start, end in matches:\n",
                "#             if nlp.vocab.strings[match_id].split('_')[0] == gram_type:\n",
                "#                 match = doc[matches[idx][1]: matches[idx][2]].text\n",
                "#                 matches_list.append(match.lower())\n",
                "\n",
                "#     return list(set(matches_list))\n"
            ]
        },
        {
            "cell_type": "code",
            "execution_count": null,
            "id": "a170297e",
            "metadata": {},
            "outputs": [],
            "source": [
                "# df_manual = pd.read_pickle(f'{df_save_dir}df_manual_tags_lemmas_stems_spacy_nltk_bert.pkl')\n"
            ]
        },
        {
            "cell_type": "code",
            "execution_count": null,
            "id": "e9c2ed17",
            "metadata": {},
            "outputs": [],
            "source": [
                "# get_df_info(df_manual, ivs_all=dvs)\n"
            ]
        },
        {
            "cell_type": "code",
            "execution_count": null,
            "id": "52405b8a",
            "metadata": {},
            "outputs": [],
            "source": [
                "# %%time\n",
                "# df_manual['Job Description spacy_1grams_original_list'] = df_manual['Job Description spacy_tokenized']\n",
                "# df_manual['Job Description spacy_1grams'] = df_manual['Job Description spacy_tokenized'].progress_apply(\n",
                "#     lambda tokens: [\n",
                "#         tuple(token.split())\n",
                "#         for token in tokens\n",
                "#     ]\n",
                "# )\n"
            ]
        },
        {
            "cell_type": "code",
            "execution_count": null,
            "id": "53d8289c",
            "metadata": {},
            "outputs": [],
            "source": [
                "# %%time\n",
                "# # Spacy bi and trigrams\n",
                "# matcher = Matcher(nlp.vocab)\n",
                "\n",
                "# bigram_rules = [\n",
                "#     ['NOUN', 'VERB'],\n",
                "#     ['VERB', 'NOUN'],\n",
                "#     ['ADJ', 'NOUN'],\n",
                "#     ['ADJ', 'PROPN'],\n",
                "#     # more rules here...\n",
                "# ]\n",
                "\n",
                "# trigram_rules = [\n",
                "#     ['VERB', 'ADJ', 'NOUN'],\n",
                "#     ['NOUN', 'VERB', 'ADV'],\n",
                "#     ['NOUN', 'ADP', 'NOUN'],\n",
                "#     # more rules here...\n",
                "# ]\n",
                "\n",
                "# patters_dict = {\n",
                "#     'bigram_patterns': [[{'POS': i} for i in j] for j in bigram_rules],\n",
                "#     'trigram_patterns': [[{'POS': i} for i in j] for j in trigram_rules],\n",
                "# }\n",
                "\n",
                "# ngram_dict = {\n",
                "#     'bigram': 2,\n",
                "#     'trigram': 3,\n",
                "# }\n",
                "\n",
                "# for ngram_name, ngram_num in tqdm.tqdm(ngram_dict.items()):\n",
                "\n",
                "#     matcher.add(f'{ngram_name}_patterns', patters_dict[f'{ngram_name}_patterns'])\n",
                "\n",
                "#     df_manual[f'Job Description spacy_{str(ngram_num)}grams_original_list'] = df_manual['Job Description spacy_sentencized'].progress_apply(\n",
                "#         lambda sentence: \n",
                "#             [\n",
                "#                 '_'.join(ngram_.split())\n",
                "#                 for ngram_ in spacy_make_ngrams(sentence, matcher, ngram_name)\n",
                "#             ]\n",
                "#     )\n",
                "\n",
                "#     df_manual[f'Job Description spacy_{str(ngram_num)}grams'] = df_manual['Job Description spacy_sentencized'].progress_apply(\n",
                "#         lambda sentence: \n",
                "#             [\n",
                "#                 tuple(ngram_.split())\n",
                "#                 for ngram_ in spacy_make_ngrams(sentence, matcher, ngram_name)\n",
                "#             ]\n",
                "#     )\n",
                "\n",
                "#     df_manual[f'Job Description spacy_{str(ngram_num)}grams_in_sent'] = df_manual['Job Description spacy_sentencized'].str.lower().replace(\n",
                "#         regex = {\n",
                "#             re.escape(' '.join(ngram_.split('_'))): re.escape(ngram_)\n",
                "#             for ngrams_list in df_manual[f'Job Description spacy_{str(ngram_num)}grams_original_list']\n",
                "#             for ngram_ in ngrams_list\n",
                "#             if '_' in ngram_\n",
                "#         }\n",
                "#     )\n",
                "\n",
                "#     if f'{ngram_name}_patterns' in matcher:\n",
                "#         matcher.remove(f'{ngram_name}_patterns')\n",
                "#     assert f'{ngram_name}_patterns' not in matcher\n"
            ]
        },
        {
            "cell_type": "code",
            "execution_count": null,
            "id": "dd8bd6b9",
            "metadata": {},
            "outputs": [],
            "source": [
                "# %%time\n",
                "# # Spacy Allgrams\n",
                "# df_manual['Job Description spacy_123grams_original_list'] = df_manual['Job Description spacy_tokenized'] + df_manual['Job Description spacy_2grams_original_list'] + df_manual['Job Description spacy_3grams_original_list']\n",
                "# df_manual['Job Description spacy_123grams'] = df_manual['Job Description spacy_1grams'] + df_manual['Job Description spacy_2grams'] + df_manual['Job Description spacy_3grams']\n",
                "# df_manual['Job Description spacy_123grams_in_sent'] = (\n",
                "#     df_manual['Job Description spacy_sentencized']\n",
                "#     .str.lower()\n",
                "#     .replace(\n",
                "#         regex={\n",
                "#             re.escape(' '.join(ngram_.split('_'))): re.escape(ngram_)\n",
                "#             for ngrams_list in df_manual[\n",
                "#                 'Job Description spacy_123grams_original_list'\n",
                "#             ]\n",
                "#             for ngram_ in ngrams_list\n",
                "#             if '_' in ngram_\n",
                "#         }\n",
                "#     )\n",
                "# )\n"
            ]
        },
        {
            "cell_type": "code",
            "execution_count": null,
            "id": "023a05b1",
            "metadata": {},
            "outputs": [],
            "source": [
                "# assert len(df_manual) > 0 and isinstance(df_manual, pd.DataFrame), f'ERORR: LENGTH OF DF = {len(df_manual)}'\n",
                "# df_manual.to_pickle(f'{df_save_dir}df_manual_ngrams_spacy.pkl')\n",
                "# df_manual.to_csv(f'{df_save_dir}df_manual_ngrams_spacy.csv')\n"
            ]
        },
        {
            "cell_type": "markdown",
            "id": "83153ef0",
            "metadata": {},
            "source": [
                "## Use NLTK to create bi and trigrams\n"
            ]
        },
        {
            "cell_type": "markdown",
            "id": "6276c5ad",
            "metadata": {},
            "source": [
                "### START HERE IF SOURCING FROM df_manual_NGRAMS_SPACY\n",
                "### PLEASE SET CORRECT DIRECTORY PATHS BELOW\n"
            ]
        },
        {
            "cell_type": "code",
            "execution_count": null,
            "id": "93b81c36",
            "metadata": {},
            "outputs": [],
            "source": [
                "# import os # type:ignore # isort:skip # fmt:skip # noqa # nopep8\n",
                "# import sys # type:ignore # isort:skip # fmt:skip # noqa # nopep8\n",
                "# from pathlib import Path # type:ignore # isort:skip # fmt:skip # noqa # nopep8\n",
                "\n",
                "# mod = sys.modules[__name__]\n",
                "\n",
                "# code_dir = None\n",
                "# code_dir_name = 'Code'\n",
                "# unwanted_subdir_name = 'Analysis'\n",
                "\n",
                "# for _ in range(5):\n",
                "\n",
                "#     parent_path = str(Path.cwd().parents[_]).split('/')[-1]\n",
                "\n",
                "#     if (code_dir_name in parent_path) and (unwanted_subdir_name not in parent_path):\n",
                "\n",
                "#         code_dir = str(Path.cwd().parents[_])\n",
                "\n",
                "#         if code_dir is not None:\n",
                "#             break\n",
                "\n",
                "# sys.path.append(code_dir)\n",
                "# # %load_ext autoreload\n",
                "# # %autoreload 2\n"
            ]
        },
        {
            "cell_type": "code",
            "execution_count": null,
            "id": "133c5578",
            "metadata": {},
            "outputs": [],
            "source": [
                "# from setup_module.imports import * # type:ignore # isort:skip # fmt:skip # noqa # nopep8\n"
            ]
        },
        {
            "cell_type": "code",
            "execution_count": null,
            "id": "a73a21da",
            "metadata": {},
            "outputs": [],
            "source": [
                "# df_manual = pd.read_pickle(f'{df_save_dir}df_manual_ngrams_spacy.pkl')\n"
            ]
        },
        {
            "cell_type": "code",
            "execution_count": null,
            "id": "3e9ef52e",
            "metadata": {},
            "outputs": [],
            "source": [
                "# get_df_info(df_manual, ivs_all=dvs)\n"
            ]
        },
        {
            "cell_type": "code",
            "execution_count": null,
            "id": "91d1a5b8",
            "metadata": {},
            "outputs": [],
            "source": [
                "# %%time\n",
                "# df_manual['Job Description nltk_1grams_original_list'] = df_manual['Job Description nltk_tokenized']\n",
                "# df_manual['Job Description nltk_1grams'] = df_manual['Job Description nltk_tokenized'].progress_apply(\n",
                "#     lambda tokens: [\n",
                "#         tuple(token.split())\n",
                "#         for token in tokens\n",
                "#     ]\n",
                "# )\n"
            ]
        },
        {
            "cell_type": "code",
            "execution_count": null,
            "id": "5fe5d598",
            "metadata": {},
            "outputs": [],
            "source": [
                "# %%time\n",
                "# # NLTK bi and trigrams\n",
                "# ngram_dict = {\n",
                "#     'bigram': 2,\n",
                "#     'trigram': 3\n",
                "# }\n",
                "\n",
                "# for ngram_name, ngram_num in tqdm.tqdm(ngram_dict.items()):\n",
                "\n",
                "#     df_manual[f'Job Description nltk_{str(ngram_num)}grams_original_list'] = df_manual['Job Description nltk_tokenized'].progress_apply(\n",
                "#         lambda tokens:\n",
                "#             list(\n",
                "#                 '_'.join(ngram_list)\n",
                "#                 for ngram_list in nltk.ngrams(tokens, ngram_num)\n",
                "#             )\n",
                "#     )\n",
                "\n",
                "#     df_manual[f'Job Description nltk_{str(ngram_num)}grams'] = df_manual['Job Description nltk_tokenized'].progress_apply(\n",
                "#         lambda tokens: list(nltk.ngrams(tokens, ngram_num))\n",
                "#     )\n",
                "\n",
                "#     df_manual[f'Job Description nltk_{str(ngram_num)}grams_in_sent'] = df_manual['Job Description spacy_sentencized'].str.lower().replace(\n",
                "#         regex = {\n",
                "#             re.escape(' '.join(ngram_.split('_'))): re.escape(ngram_)\n",
                "#             for ngrams_list in df_manual[f'Job Description nltk_{str(ngram_num)}grams_original_list']\n",
                "#             for ngram_ in ngrams_list\n",
                "#             if '_' in ngram_\n",
                "#         }\n",
                "#     )\n"
            ]
        },
        {
            "cell_type": "code",
            "execution_count": null,
            "id": "3226afac",
            "metadata": {},
            "outputs": [],
            "source": [
                "# %%time\n",
                "# # NLTK Allgrams\n",
                "# df_manual['Job Description nltk_123grams_original_list'] = (\n",
                "#     df_manual['Job Description nltk_tokenized']\n",
                "#     + df_manual['Job Description nltk_2grams_original_list']\n",
                "#     + df_manual['Job Description nltk_3grams_original_list']\n",
                "# )\n",
                "# df_manual['Job Description nltk_123grams'] = (\n",
                "#     df_manual['Job Description nltk_1grams']\n",
                "#     + df_manual['Job Description nltk_2grams']\n",
                "#     + df_manual['Job Description nltk_3grams']\n",
                "# )\n",
                "# df_manual['Job Description nltk_123grams_in_sent'] = (\n",
                "#     df_manual['Job Description spacy_sentencized']\n",
                "#     .str.lower()\n",
                "#     .replace(\n",
                "#         regex={\n",
                "#             re.escape(' '.join(ngram_.split('_'))): re.escape(ngram_)\n",
                "#             for ngrams_list in df_manual[\n",
                "#                 'Job Description nltk_123grams_original_list'\n",
                "#             ]\n",
                "#             for ngram_ in ngrams_list\n",
                "#             if '_' in ngram_\n",
                "#         }\n",
                "#     )\n",
                "# )\n"
            ]
        },
        {
            "cell_type": "code",
            "execution_count": null,
            "id": "f0e1b66d",
            "metadata": {},
            "outputs": [],
            "source": [
                "# assert len(df_manual) > 0 and isinstance(df_manual, pd.DataFrame), f'ERORR: LENGTH OF DF = {len(df_manual)}'\n",
                "# df_manual.to_pickle(f'{df_save_dir}df_manual_ngrams_spacy_nltk.pkl')\n",
                "# df_manual.to_csv(f'{df_save_dir}df_manual_ngrams_spacy_nltk.csv')\n"
            ]
        },
        {
            "cell_type": "markdown",
            "id": "2663ad25",
            "metadata": {},
            "source": [
                "## Use Gensim to create bi and trigrams\n"
            ]
        },
        {
            "cell_type": "markdown",
            "id": "9e7a975e",
            "metadata": {},
            "source": [
                "### START HERE IF SOURCING FROM df_manual_NGRAMS_SPACY_NLTK\n",
                "### PLEASE SET CORRECT DIRECTORY PATHS BELOW\n"
            ]
        },
        {
            "cell_type": "code",
            "execution_count": null,
            "id": "23ff67d8",
            "metadata": {},
            "outputs": [],
            "source": [
                "# import os # type:ignore # isort:skip # fmt:skip # noqa # nopep8\n",
                "# import sys # type:ignore # isort:skip # fmt:skip # noqa # nopep8\n",
                "# from pathlib import Path # type:ignore # isort:skip # fmt:skip # noqa # nopep8\n",
                "\n",
                "# mod = sys.modules[__name__]\n",
                "\n",
                "# code_dir = None\n",
                "# code_dir_name = 'Code'\n",
                "# unwanted_subdir_name = 'Analysis'\n",
                "\n",
                "# for _ in range(5):\n",
                "\n",
                "#     parent_path = str(Path.cwd().parents[_]).split('/')[-1]\n",
                "\n",
                "#     if (code_dir_name in parent_path) and (unwanted_subdir_name not in parent_path):\n",
                "\n",
                "#         code_dir = str(Path.cwd().parents[_])\n",
                "\n",
                "#         if code_dir is not None:\n",
                "#             break\n",
                "\n",
                "# sys.path.append(code_dir)\n",
                "# # %load_ext autoreload\n",
                "# # %autoreload 2\n"
            ]
        },
        {
            "cell_type": "code",
            "execution_count": null,
            "id": "c6340feb",
            "metadata": {},
            "outputs": [],
            "source": [
                "# from setup_module.imports import * # type:ignore # isort:skip # fmt:skip # noqa # nopep8\n"
            ]
        },
        {
            "cell_type": "code",
            "execution_count": null,
            "id": "7e27e12e",
            "metadata": {},
            "outputs": [],
            "source": [
                "# df_manual = pd.read_pickle(f'{df_save_dir}df_manual_ngrams_spacy_nltk.pkl')\n"
            ]
        },
        {
            "cell_type": "code",
            "execution_count": null,
            "id": "111e7dd3",
            "metadata": {},
            "outputs": [],
            "source": [
                "# get_df_info(df_manual, ivs_all=dvs)\n"
            ]
        },
        {
            "cell_type": "code",
            "execution_count": null,
            "id": "69b5c7e2",
            "metadata": {},
            "outputs": [],
            "source": [
                "# df_manual['Job Description gensim_1grams_original_list'] = df_manual['Job Description gensim_tokenized']\n",
                "# df_manual['Job Description gensim_1grams'] = df_manual['Job Description gensim_tokenized'].progress_apply(\n",
                "#     lambda tokens: [\n",
                "#         tuple(token.split())\n",
                "#         for token in tokens\n",
                "#     ]\n",
                "# )\n"
            ]
        },
        {
            "cell_type": "code",
            "execution_count": null,
            "id": "f8ae9d43",
            "metadata": {},
            "outputs": [],
            "source": [
                "# %%time\n",
                "# # Gensim bi and trigrams\n",
                "# # Gensim Bigrams\n",
                "# bigram = Phraser(Phrases(df_manual['Job Description gensim_tokenized'], connector_words=ENGLISH_CONNECTOR_WORDS, min_count=1, threshold=1))\n",
                "# df_manual['Job Description gensim_2grams_original_list_all'] = bigram[df_manual['Job Description gensim_tokenized']]\n",
                "# df_manual['Job Description gensim_2grams_original_list'] = df_manual['Job Description gensim_2grams_original_list_all'].progress_apply(\n",
                "#     lambda ngrams_list: [\n",
                "#         ngram_\n",
                "#         for ngram_ in ngrams_list\n",
                "#         if len(re.findall('[a-zA-Z]*\\_[a-zA-Z]*', ngram_)) != 0\n",
                "#     ]\n",
                "# )\n",
                "# df_manual['Job Description gensim_2grams'] = df_manual['Job Description gensim_2grams_original_list'].progress_apply(\n",
                "#     lambda ngrams: [\n",
                "#         tuple(ngram.split('_'))\n",
                "#         for ngram in ngrams\n",
                "#         if '_' in ngram\n",
                "#     ]\n",
                "# )\n",
                "# df_manual['Job Description gensim_2grams_in_sent'] = (\n",
                "#     df_manual['Job Description spacy_sentencized']\n",
                "#     .str.lower()\n",
                "#     .progress_apply(\n",
                "#         lambda sentence: ' '.join(\n",
                "#             preprocess_string(re.sub(pattern, ' ', sentence.strip().lower()))\n",
                "#         )\n",
                "#     )\n",
                "#     .replace(\n",
                "#         regex={\n",
                "#             re.escape(' '.join(ngram_.split('_'))): re.escape(ngram_)\n",
                "#             for ngrams_list in df_manual[\n",
                "#                 'Job Description gensim_2grams_original_list'\n",
                "#             ]\n",
                "#             for ngram_ in ngrams_list\n",
                "#             if '_' in ngram_\n",
                "#         }\n",
                "#     )\n",
                "# )\n",
                "\n",
                "# # Gensim Trigrams\n",
                "# trigram = Phraser(Phrases(df_manual['Job Description gensim_2grams_original_list_all'], connector_words=ENGLISH_CONNECTOR_WORDS, min_count=1, threshold=1))\n",
                "# df_manual['Job Description gensim_3grams_original_list_all'] = trigram[df_manual['Job Description gensim_2grams_original_list_all']]\n",
                "# df_manual['Job Description gensim_3grams_original_list'] = df_manual['Job Description gensim_3grams_original_list_all'].progress_apply(\n",
                "#     lambda ngrams_list: [\n",
                "#         ngram_\n",
                "#         for ngram_ in ngrams_list\n",
                "#         if len(re.findall('[a-zA-Z]*\\_[a-zA-Z]*\\_[a-zA-Z]*', ngram_)) != 0\n",
                "#     ]\n",
                "# )\n",
                "# df_manual['Job Description gensim_3grams'] = df_manual['Job Description gensim_3grams_original_list'].progress_apply(\n",
                "#     lambda ngrams: [\n",
                "#         tuple(ngram.split('_'))\n",
                "#         for ngram in ngrams\n",
                "#         if '_' in ngram\n",
                "#     ]\n",
                "# )\n",
                "# df_manual['Job Description gensim_3grams_in_sent'] = (\n",
                "#     df_manual['Job Description spacy_sentencized']\n",
                "#     .str.lower()\n",
                "#     .progress_apply(\n",
                "#         lambda sentence: ' '.join(\n",
                "#             preprocess_string(re.sub(pattern, ' ', sentence.strip().lower()))\n",
                "#         )\n",
                "#     )\n",
                "#     .replace(\n",
                "#         regex={\n",
                "#             re.escape(' '.join(ngram_.split('_'))): re.escape(ngram_)\n",
                "#             for ngrams_list in df_manual[\n",
                "#                 'Job Description gensim_3grams_original_list'\n",
                "#             ]\n",
                "#             for ngram_ in ngrams_list\n",
                "#             if '_' in ngram_\n",
                "#         }\n",
                "#     )\n",
                "# )\n"
            ]
        },
        {
            "cell_type": "code",
            "execution_count": null,
            "id": "3d9e51cb",
            "metadata": {},
            "outputs": [],
            "source": [
                "# %%time\n",
                "# # Gensim Allgrams\n",
                "# pattern = r'[\\n]+|[,]{2,}|[|]{2,}|[\\n\\r]+|(?<=[a-z]\\.)(?=\\s*[A-Z])|(?=\\:+[A-Z])'\n",
                "\n",
                "# df_manual['Job Description gensim_123grams_original_list'] = (\n",
                "#     df_manual['Job Description gensim_tokenized']\n",
                "#     + df_manual['Job Description gensim_2grams_original_list']\n",
                "#     + df_manual['Job Description gensim_3grams_original_list']\n",
                "# )\n",
                "# df_manual['Job Description gensim_123grams'] = (\n",
                "#     df_manual['Job Description gensim_1grams']\n",
                "#     + df_manual['Job Description gensim_2grams']\n",
                "#     + df_manual['Job Description gensim_3grams']\n",
                "# )\n",
                "# df_manual['Job Description gensim_123grams_in_sent'] = (\n",
                "#     df_manual['Job Description spacy_sentencized']\n",
                "#     .str.lower()\n",
                "#     .progress_apply(\n",
                "#         lambda sentence: ' '.join(\n",
                "#             preprocess_string(re.sub(pattern, ' ', sentence.strip().lower()))\n",
                "#         )\n",
                "#     )\n",
                "#     .replace(\n",
                "#         regex={\n",
                "#             re.escape(' '.join(ngram_.split('_'))): re.escape(ngram_)\n",
                "#             for ngrams_list in df_manual[\n",
                "#                 'Job Description gensim_123grams_original_list'\n",
                "#             ]\n",
                "#             for ngram_ in ngrams_list\n",
                "#             if '_' in ngram_\n",
                "#         }\n",
                "#     )\n",
                "# )\n"
            ]
        },
        {
            "cell_type": "code",
            "execution_count": null,
            "id": "f9bc6bb7",
            "metadata": {},
            "outputs": [],
            "source": [
                "# assert len(df_manual) > 0 and isinstance(df_manual, pd.DataFrame), f'ERORR: LENGTH OF DF = {len(df_manual)}'\n",
                "# df_manual.to_pickle(f'{df_save_dir}df_manual_ngrams_spacy_nltk_gensim.pkl')\n",
                "# df_manual.to_csv(f'{df_save_dir}df_manual_ngrams_spacy_nltk_gensim.csv')\n"
            ]
        },
        {
            "cell_type": "markdown",
            "id": "2463a479",
            "metadata": {},
            "source": [
                "## Create word frequencies for uni, bi, and trigrams\n"
            ]
        },
        {
            "cell_type": "markdown",
            "id": "8a485ccc",
            "metadata": {},
            "source": [
                "### START HERE IF SOURCING FROM df_manual_NGRAMS_SPACY_NLTK_GENSIM\n",
                "### PLEASE SET CORRECT DIRECTORY PATHS BELOW\n"
            ]
        },
        {
            "cell_type": "code",
            "execution_count": null,
            "id": "317c5260",
            "metadata": {},
            "outputs": [],
            "source": [
                "# import os # type:ignore # isort:skip # fmt:skip # noqa # nopep8\n",
                "# import sys # type:ignore # isort:skip # fmt:skip # noqa # nopep8\n",
                "# from pathlib import Path # type:ignore # isort:skip # fmt:skip # noqa # nopep8\n",
                "\n",
                "# mod = sys.modules[__name__]\n",
                "\n",
                "# code_dir = None\n",
                "# code_dir_name = 'Code'\n",
                "# unwanted_subdir_name = 'Analysis'\n",
                "\n",
                "# for _ in range(5):\n",
                "\n",
                "#     parent_path = str(Path.cwd().parents[_]).split('/')[-1]\n",
                "\n",
                "#     if (code_dir_name in parent_path) and (unwanted_subdir_name not in parent_path):\n",
                "\n",
                "#         code_dir = str(Path.cwd().parents[_])\n",
                "\n",
                "#         if code_dir is not None:\n",
                "#             break\n",
                "\n",
                "# sys.path.append(code_dir)\n",
                "# # %load_ext autoreload\n",
                "# # %autoreload 2\n"
            ]
        },
        {
            "cell_type": "code",
            "execution_count": null,
            "id": "b80a110f",
            "metadata": {},
            "outputs": [],
            "source": [
                "# from setup_module.imports import * # type:ignore # isort:skip # fmt:skip # noqa # nopep8\n"
            ]
        },
        {
            "cell_type": "code",
            "execution_count": null,
            "id": "da0c371b",
            "metadata": {},
            "outputs": [],
            "source": [
                "# def get_abs_frequency(row, text_col, ngram_num, embedding_library):\n",
                "\n",
                "#     abs_word_freq = defaultdict(int)\n",
                "#     for word in row[f'Job Description {embedding_library}_{ngram_num}grams_original_list']:\n",
                "#         abs_word_freq[word] += 1\n",
                "\n",
                "#         abs_wtd_df = (\n",
                "#             pd.DataFrame.from_dict(abs_word_freq, orient='index')\n",
                "#             .rename(columns={0: 'abs_word_freq'})\n",
                "#             .sort_values(by=['abs_word_freq'], ascending=False)\n",
                "#             )\n",
                "#         abs_wtd_df.insert(1, 'abs_word_perc', value=abs_wtd_df['abs_word_freq'] / abs_wtd_df['abs_word_freq'].sum())\n",
                "#         abs_wtd_df.insert(2, 'abs_word_perc_cum', abs_wtd_df['abs_word_perc'].cumsum())\n",
                "\n",
                "#         row[f'Job Description {embedding_library}_{ngram_num}grams_abs_word_freq'] = str(abs_wtd_df['abs_word_freq'].to_dict())\n",
                "#         row[f'Job Description {embedding_library}_{ngram_num}grams_abs_word_perc'] = str(abs_wtd_df['abs_word_perc'].to_dict())\n",
                "#         row[f'Job Description {embedding_library}_{ngram_num}grams_abs_word_perc_cum'] = str(abs_wtd_df['abs_word_perc_cum'].to_dict())\n",
                "\n",
                "#     return row\n"
            ]
        },
        {
            "cell_type": "code",
            "execution_count": null,
            "id": "42065976",
            "metadata": {},
            "outputs": [],
            "source": [
                "# df_manual = pd.read_pickle(f'{df_save_dir}df_manual_ngrams_spacy_nltk_gensim.pkl')\n"
            ]
        },
        {
            "cell_type": "code",
            "execution_count": null,
            "id": "00d205ae",
            "metadata": {},
            "outputs": [],
            "source": [
                "# get_df_info(df_manual, ivs_all=dvs)\n"
            ]
        },
        {
            "cell_type": "code",
            "execution_count": null,
            "id": "56493c03",
            "metadata": {},
            "outputs": [],
            "source": [
                "# %%time\n",
                "# ngrams_list=[1, 2, 3, 123]\n",
                "# embedding_libraries_list = ['spacy', 'nltk', 'gensim']\n",
                "\n",
                "# for embedding_library, ngram_num in tqdm_product(embedding_libraries_list, ngrams_list):\n",
                "#     df_manual[f'Job Description {embedding_library}_{ngram_num}grams_count'] = df_manual[f'Job Description {embedding_library}_{ngram_num}grams'].apply(lambda x: len(x))\n",
                "#     df_manual = df_manual.progress_apply(lambda row: get_abs_frequency(row=row, text_col='Job Description spacy_tokenized', ngram_num=ngram_num, embedding_library=embedding_library), axis='columns')\n"
            ]
        },
        {
            "cell_type": "code",
            "execution_count": null,
            "id": "62491c12",
            "metadata": {},
            "outputs": [],
            "source": [
                "# assert len(df_manual) > 0 and isinstance(df_manual, pd.DataFrame), f'ERORR: LENGTH OF DF = {len(df_manual)}'\n",
                "# df_manual.to_pickle(f'{df_save_dir}df_manual_ngrams_frequency.pkl')\n",
                "# df_manual.to_csv(f'{df_save_dir}df_manual_ngrams_frequency.csv')\n"
            ]
        },
        {
            "cell_type": "markdown",
            "id": "b3db7e8c",
            "metadata": {},
            "source": [
                "## Create BoW dictionary, corpus, and tfidf matrix for uni, bi, and trigrams\n"
            ]
        },
        {
            "cell_type": "markdown",
            "id": "6ffb2e84",
            "metadata": {},
            "source": [
                "### START HERE IF SOURCING FROM df_manual_NGRAMS_FREQUENCY\n",
                "### PLEASE SET CORRECT DIRECTORY PATHS BELOW\n"
            ]
        },
        {
            "cell_type": "code",
            "execution_count": null,
            "id": "8d323a33",
            "metadata": {},
            "outputs": [],
            "source": [
                "# import os # type:ignore # isort:skip # fmt:skip # noqa # nopep8\n",
                "# import sys # type:ignore # isort:skip # fmt:skip # noqa # nopep8\n",
                "# from pathlib import Path # type:ignore # isort:skip # fmt:skip # noqa # nopep8\n",
                "\n",
                "# mod = sys.modules[__name__]\n",
                "\n",
                "# code_dir = None\n",
                "# code_dir_name = 'Code'\n",
                "# unwanted_subdir_name = 'Analysis'\n",
                "\n",
                "# for _ in range(5):\n",
                "\n",
                "#     parent_path = str(Path.cwd().parents[_]).split('/')[-1]\n",
                "\n",
                "#     if (code_dir_name in parent_path) and (unwanted_subdir_name not in parent_path):\n",
                "\n",
                "#         code_dir = str(Path.cwd().parents[_])\n",
                "\n",
                "#         if code_dir is not None:\n",
                "#             break\n",
                "\n",
                "# sys.path.append(code_dir)\n",
                "# # %load_ext autoreload\n",
                "# # %autoreload 2\n"
            ]
        },
        {
            "cell_type": "code",
            "execution_count": null,
            "id": "4bdd7c06",
            "metadata": {},
            "outputs": [],
            "source": [
                "# from setup_module.imports import * # type:ignore # isort:skip # fmt:skip # noqa # nopep8\n"
            ]
        },
        {
            "cell_type": "code",
            "execution_count": null,
            "id": "ad2d3083",
            "metadata": {},
            "outputs": [],
            "source": [
                "# def get_corpus_and_dictionary(row, ngram_num, embedding_library):\n",
                "\n",
                "#     ngrams_original_list = row[f'Job Description {embedding_library}_{ngram_num}grams_original_list']\n",
                "#     dictionary = Dictionary([ngrams_original_list])\n",
                "#     BoW_corpus = [dictionary.doc2bow(ngrams_original_list)]\n",
                "#     tfidf = TfidfModel(BoW_corpus, smartirs='ntc')\n",
                "#     tfidf_matrix = [tfidf[doc] for doc in BoW_corpus]\n",
                "\n",
                "#     row[f'Job Description {embedding_library}_{ngram_num}grams_dictionary'] = dictionary\n",
                "#     row[f'Job Description {embedding_library}_{ngram_num}grams_BoW_corpus'] = BoW_corpus\n",
                "#     row[f'Job Description {embedding_library}_{ngram_num}grams_tfidf'] = tfidf\n",
                "#     row[f'Job Description {embedding_library}_{ngram_num}grams_tfidf_matrix'] = tfidf_matrix\n",
                "\n",
                "#     return row\n"
            ]
        },
        {
            "cell_type": "code",
            "execution_count": null,
            "id": "81a3d7d6",
            "metadata": {},
            "outputs": [],
            "source": [
                "# df_manual = pd.read_pickle(f'{df_save_dir}df_manual_ngrams_frequency.pkl')\n"
            ]
        },
        {
            "cell_type": "code",
            "execution_count": null,
            "id": "5b4a2467",
            "metadata": {},
            "outputs": [],
            "source": [
                "# get_df_info(df_manual, ivs_all=dvs)\n"
            ]
        },
        {
            "cell_type": "code",
            "execution_count": null,
            "id": "bf89f753",
            "metadata": {},
            "outputs": [],
            "source": [
                "# %%time\n",
                "# ngrams_list=[1, 2, 3, 123]\n",
                "# embedding_libraries_list = ['spacy', 'nltk', 'gensim']\n",
                "# for embedding_library, ngram_num in tqdm_product(embedding_libraries_list, ngrams_list):\n",
                "#     df_manual = df_manual.progress_apply(\n",
                "#         lambda row: get_corpus_and_dictionary(\n",
                "#             row=row, ngram_num=ngram_num, embedding_library=embedding_library\n",
                "#         ),\n",
                "#         axis='columns'\n",
                "#     )\n",
                "\n",
                "# assert len(df_manual) > 0 and isinstance(df_manual, pd.DataFrame), f'ERORR: LENGTH OF DF = {len(df_manual)}'\n",
                "# df_manual.to_pickle(f'{df_save_dir}df_manual_ngrams_frequency.pkl')\n",
                "# df_manual.to_csv(f'{df_save_dir}df_manual_ngrams_BoW.csv')\n"
            ]
        },
        {
            "cell_type": "code",
            "execution_count": null,
            "id": "210fd7f2",
            "metadata": {},
            "outputs": [],
            "source": [
                "# df_manual.columns\n"
            ]
        },
        {
            "cell_type": "code",
            "execution_count": null,
            "id": "67230a0c",
            "metadata": {},
            "outputs": [],
            "source": [
                "# assert len(df_manual) > 0 and isinstance(df_manual, pd.DataFrame), f'ERORR: LENGTH OF DF = {len(df_manual)}'\n",
                "# df_manual.to_pickle(f'{df_save_dir}df_manual_ngrams_BoW.pkl')\n",
                "# df_manual.to_csv(f'{df_save_dir}df_manual_ngrams_BoW.csv')\n"
            ]
        },
        {
            "cell_type": "markdown",
            "id": "5828c6aa",
            "metadata": {},
            "source": [
                "# ATTN: This script should be run AFTER all bi and trigrams (spacy, nltk, and gensim) completed.\n",
                "\n"
            ]
        },
        {
            "cell_type": "markdown",
            "id": "4d9d3463",
            "metadata": {},
            "source": [
                "## Use spacy and nltk for sentiment scoring\n"
            ]
        },
        {
            "cell_type": "markdown",
            "id": "6b5ae804",
            "metadata": {},
            "source": [
                "### START HERE IF SOURCING FROM df_manual_NGRAMS_BOW\n",
                "### PLEASE SET CORRECT DIRECTORY PATHS BELOW\n"
            ]
        },
        {
            "cell_type": "code",
            "execution_count": null,
            "id": "71af1593",
            "metadata": {},
            "outputs": [],
            "source": [
                "# import os # type:ignore # isort:skip # fmt:skip # noqa # nopep8\n",
                "# import sys # type:ignore # isort:skip # fmt:skip # noqa # nopep8\n",
                "# from pathlib import Path # type:ignore # isort:skip # fmt:skip # noqa # nopep8\n",
                "\n",
                "# mod = sys.modules[__name__]\n",
                "\n",
                "# code_dir = None\n",
                "# code_dir_name = 'Code'\n",
                "# unwanted_subdir_name = 'Analysis'\n",
                "\n",
                "# for _ in range(5):\n",
                "\n",
                "#     parent_path = str(Path.cwd().parents[_]).split('/')[-1]\n",
                "\n",
                "#     if (code_dir_name in parent_path) and (unwanted_subdir_name not in parent_path):\n",
                "\n",
                "#         code_dir = str(Path.cwd().parents[_])\n",
                "\n",
                "#         if code_dir is not None:\n",
                "#             break\n",
                "\n",
                "# sys.path.append(code_dir)\n",
                "# # %load_ext autoreload\n",
                "# # %autoreload 2\n"
            ]
        },
        {
            "cell_type": "code",
            "execution_count": null,
            "id": "7e8c1292",
            "metadata": {},
            "outputs": [],
            "source": [
                "# from setup_module.imports import * # type:ignore # isort:skip # fmt:skip # noqa # nopep8\n"
            ]
        },
        {
            "cell_type": "code",
            "execution_count": null,
            "id": "b6c90353",
            "metadata": {},
            "outputs": [],
            "source": [
                "# df_manual = pd.read_pickle(f'{df_save_dir}df_manual_ngrams_BoW.pkl')\n"
            ]
        },
        {
            "cell_type": "code",
            "execution_count": null,
            "id": "26d2dbab",
            "metadata": {},
            "outputs": [],
            "source": [
                "# get_df_info(df_manual, ivs_all=dvs)\n"
            ]
        },
        {
            "cell_type": "code",
            "execution_count": null,
            "id": "43603e1f",
            "metadata": {},
            "outputs": [],
            "source": [
                "# %%time\n",
                "# # Spacy sentiment\n",
                "# if 'spacytextblob' not in nlp.pipe_names:\n",
                "#     nlp.add_pipe('spacytextblob')\n",
                "\n",
                "# df_manual['Job Description spacy_sentiment'] = df_manual['Job Description spacy_sentencized'].progress_apply(\n",
                "#     lambda sentence: float(nlp(sentence)._.blob.polarity)\n",
                "#     if isinstance(sentence, str) else np.nan\n",
                "# )\n"
            ]
        },
        {
            "cell_type": "code",
            "execution_count": null,
            "id": "b030259b",
            "metadata": {},
            "outputs": [],
            "source": [
                "# %%time\n",
                "# # NLTK sentiment\n",
                "# df_manual['Job Description nltk_sentiment'] = df_manual['Job Description spacy_sentencized'].progress_apply(\n",
                "#     lambda sentence: float(sentim_analyzer.polarity_scores(sentence)['compound'])\n",
                "#     if isinstance(sentence, str) else np.nan\n",
                "# )\n"
            ]
        },
        {
            "cell_type": "code",
            "execution_count": null,
            "id": "d89a2ba1",
            "metadata": {},
            "outputs": [],
            "source": [
                "# assert len(df_manual) > 0 and isinstance(df_manual, pd.DataFrame), f'ERORR: LENGTH OF DF = {len(df_manual)}'\n",
                "# df_manual.to_pickle(f'{df_save_dir}df_manual_sentiment_spacy_nltk.pkl')\n",
                "# df_manual.to_csv(f'{df_save_dir}df_manual_sentiment_spacy_nltk.csv')\n"
            ]
        },
        {
            "cell_type": "markdown",
            "id": "1548cd86",
            "metadata": {},
            "source": [
                "# ATTN: This script should be run AFTER all sentiment scoring (spacy and nltk) completed.\n"
            ]
        },
        {
            "cell_type": "markdown",
            "id": "0ade7a1e",
            "metadata": {},
            "source": [
                "## Word2Vec and FastText embeddings\n"
            ]
        },
        {
            "cell_type": "markdown",
            "id": "9e73b044",
            "metadata": {},
            "source": [
                "### START HERE IF SOURCING FROM df_manual_SENTIMENT_SPACY_NLTK\n",
                "### PLEASE SET CORRECT DIRECTORY PATHS BELOW\n"
            ]
        },
        {
            "cell_type": "code",
            "execution_count": null,
            "id": "a50cf828",
            "metadata": {},
            "outputs": [],
            "source": [
                "# import os # type:ignore # isort:skip # fmt:skip # noqa # nopep8\n",
                "# import sys # type:ignore # isort:skip # fmt:skip # noqa # nopep8\n",
                "# from pathlib import Path # type:ignore # isort:skip # fmt:skip # noqa # nopep8\n",
                "\n",
                "# mod = sys.modules[__name__]\n",
                "\n",
                "# code_dir = None\n",
                "# code_dir_name = 'Code'\n",
                "# unwanted_subdir_name = 'Analysis'\n",
                "\n",
                "# for _ in range(5):\n",
                "\n",
                "#     parent_path = str(Path.cwd().parents[_]).split('/')[-1]\n",
                "\n",
                "#     if (code_dir_name in parent_path) and (unwanted_subdir_name not in parent_path):\n",
                "\n",
                "#         code_dir = str(Path.cwd().parents[_])\n",
                "\n",
                "#         if code_dir is not None:\n",
                "#             break\n",
                "\n",
                "# sys.path.append(code_dir)\n",
                "# # %load_ext autoreload\n",
                "# # %autoreload 2\n"
            ]
        },
        {
            "cell_type": "code",
            "execution_count": null,
            "id": "14cfe726",
            "metadata": {},
            "outputs": [],
            "source": [
                "# from setup_module.imports import *  # type:ignore # isort:skip # fmt:skip # noqa # nopep8\n"
            ]
        },
        {
            "cell_type": "code",
            "execution_count": null,
            "id": "0d24b55c",
            "metadata": {},
            "outputs": [],
            "source": [
                "# def build_train_word2vec(df, ngram_number, embedding_library, size = 300, words=None, t = time.time(), cores = multiprocessing.cpu_count()):\n",
                "#     if words is None:\n",
                "#         words = [\n",
                "#             'she',\n",
                "#             'he',\n",
                "#             'support',\n",
                "#             'leader',\n",
                "#             'management',\n",
                "#             'team',\n",
                "#             'business',\n",
                "#             'customer',\n",
                "#             'risk',\n",
                "#             'build',\n",
                "#             'computer',\n",
                "#             'programmer',\n",
                "#         ]\n",
                "#     sentences = df[f'Job Description {embedding_library}_{ngram_number}grams_original_list'].values\n",
                "\n",
                "#     w2v_model = Word2Vec(\n",
                "#         sentences=sentences,\n",
                "#         vector_size=size,\n",
                "#         min_count=0,\n",
                "#         window=2,\n",
                "#         sample=6e-5,\n",
                "#         alpha=0.03,\n",
                "#         min_alpha=0.0007,\n",
                "#         negative=20,\n",
                "#         workers=cores - 1,\n",
                "#         sg = 1,\n",
                "#     )\n",
                "\n",
                "#     w2v_model.build_vocab(sentences, progress_per=10000)\n",
                "#     print(f'Time to train the model for {size}: {round((time.time() - t) / 60, 2)} mins')\n",
                "\n",
                "#     w2v_model.train(\n",
                "#         sentences,\n",
                "#         total_examples=w2v_model.corpus_count,\n",
                "#         epochs=30,\n",
                "#         report_delay=1,\n",
                "#     )\n",
                "\n",
                "#     print(f'Time to build w2v_vocab for {size}: {round((time.time() - t) / 60, 2)} mins')\n",
                "#     w2v_vocab = list(w2v_model.wv.index_to_key)\n",
                "\n",
                "#     print(f'Checking words form list of length {len(words)}')\n",
                "#     print(f'WORDS LIST: {words}')\n",
                "\n",
                "# #     for word in words:\n",
                "# #         print(f'Checking word:\\n{word.upper()}:')\n",
                "# #         try:\n",
                "# # #             print(f'Word2Vec {size}: {w2v_model.wv[word]}')\n",
                "# #             print(f'Length of {size} model vobal: {len(w2v_vocab)}')\n",
                "# #             print(f'{size} - Positive most similar to {word}: {w2v_model.wv.most_similar(positive=word, topn=5)}')\n",
                "# #             print(f'{size} - Negative most similar to {word}: {w2v_model.wv.most_similar(negative=word, topn=5)}')\n",
                "\n",
                "# #         except KeyError as e:\n",
                "# #             print(e)\n",
                "\n",
                "#     return w2v_vocab, w2v_model\n",
                "\n",
                "# def word2vec_embeddings(sentences, w2v_vocab, w2v_model, size=300):\n",
                "\n",
                "#     sentences = [word for word in sentences if word in w2v_vocab]\n",
                "\n",
                "#     return (\n",
                "#         np.mean(w2v_model.wv[sentences], axis=0)\n",
                "#         if sentences\n",
                "#         else np.zeros(size)\n",
                "#     )\n",
                "\n"
            ]
        },
        {
            "cell_type": "code",
            "execution_count": null,
            "id": "e882a3dc",
            "metadata": {},
            "outputs": [],
            "source": [
                "# def build_train_fasttext(df, ngram_number, embedding_library, size = 300, words=None, t = time.time(), cores = multiprocessing.cpu_count()):\n",
                "#     if words is None:\n",
                "#         words = [\n",
                "#             'she',\n",
                "#             'he',\n",
                "#             'support',\n",
                "#             'leader',\n",
                "#             'management',\n",
                "#             'team',\n",
                "#             'business',\n",
                "#             'customer',\n",
                "#             'risk',\n",
                "#             'build',\n",
                "#             'computer',\n",
                "#             'programmer',\n",
                "#         ]\n",
                "#     sentences = df[f'Job Description {embedding_library}_{ngram_number}grams_original_list'].values\n",
                "\n",
                "#     ft_model = FastText(\n",
                "#         sentences=sentences,\n",
                "#         vector_size=size,\n",
                "#         min_count=0,\n",
                "#         window=2,\n",
                "#         sample=6e-5,\n",
                "#         alpha=0.03,\n",
                "#         min_alpha=0.0007,\n",
                "#         negative=20,\n",
                "#         workers=cores - 1,\n",
                "#         sg = 1,\n",
                "#     )\n",
                "\n",
                "#     ft_model.build_vocab(sentences, progress_per=10000)\n",
                "#     print(f'Time to train the model for {size}: {round((time.time() - t) / 60, 2)} mins')\n",
                "\n",
                "#     ft_model.train(\n",
                "#         sentences,\n",
                "#         total_examples=ft_model.corpus_count,\n",
                "#         epochs=30,\n",
                "#         report_delay=1,\n",
                "#     )\n",
                "\n",
                "#     print(f'Time to build vocab for {size}: {round((time.time() - t) / 60, 2)} mins')\n",
                "#     ft_vocab = list(ft_model.wv.index_to_key)\n",
                "\n",
                "#     print(f'Checking words form list of length {len(words)}')\n",
                "#     print(f'WORDS LIST: {words}')\n",
                "\n",
                "# #     for word in words:\n",
                "# #         print(f'Checking word:\\n{word.upper()}:')\n",
                "# #         try:\n",
                "# # #             print(f'FastText {size}: {ft_model_300.wv[word]}')\n",
                "# #             print(f'Length of {size} model vobal: {len(ft_vocab)}')\n",
                "# #             print(f'{size} - Positive most similar to {word}: {ft_model.wv.most_similar(positive=word, topn=5)}')\n",
                "# #             print(f'{size} - Negative most similar to {word}: {ft_model.wv.most_similar(negative=word, topn=5)}')\n",
                "\n",
                "# #         except KeyError as e:\n",
                "# #             print(e)\n",
                "\n",
                "#     return ft_vocab, ft_model\n",
                "\n",
                "# def fasttext_embeddings(sentences, ft_vocab, ft_model, size=300):\n",
                "\n",
                "#     sentences = [word for word in sentences if word in ft_vocab]\n",
                "\n",
                "#     return np.mean(ft_model.wv[sentences], axis=0) if sentences else np.zeros(size)\n"
            ]
        },
        {
            "cell_type": "code",
            "execution_count": null,
            "id": "65131d36",
            "metadata": {},
            "outputs": [],
            "source": [
                "# def get_glove(glove_file = f'{llm_path}gensim/glove/glove.840B.300d.txt'):\n",
                "#     embeddings_index = {}\n",
                "#     with open(glove_file, 'r', encoding='utf8') as glove:\n",
                "\n",
                "#         for line in glove:\n",
                "#             values = line.split()\n",
                "#             word = values[0]\n",
                "\n",
                "#             with contextlib.suppress(ValueError):\n",
                "#                 coefs = np.asarray(values[1:], dtype='float32')\n",
                "#                 embeddings_index[word] = coefs\n",
                "#     print(f'Found {len(embeddings_index)} word vectors.')\n",
                "\n",
                "#     return embeddings_index\n"
            ]
        },
        {
            "cell_type": "code",
            "execution_count": null,
            "id": "28d3f00b",
            "metadata": {},
            "outputs": [],
            "source": [
                "# def sent2vec(sentences, embeddings_index=None, external_glove=True, extra_preprocessing_enabled=False):\n",
                "\n",
                "#     if external_glove is False and embeddings_index is None:\n",
                "#         embeddings_index= get_glove()\n",
                "\n",
                "#     if extra_preprocessing_enabled is False:\n",
                "#         words = sentences\n",
                "\n",
                "#     elif extra_preprocessing_enabled is True:\n",
                "#         stop_words = set(sw.words('english'))\n",
                "#         words = str(sentences).lower()\n",
                "#         words = word_tokenize(words)\n",
                "#         words = [w for w in words if (w not in stop_words) and (w.isalpha())]\n",
                "\n",
                "#     M = []\n",
                "\n",
                "#     try:\n",
                "#         for w in words:\n",
                "#             try:\n",
                "#                 M.append(embeddings_index[w])\n",
                "#             except Exception:\n",
                "#                 continue\n",
                "\n",
                "#         M = np.array(M)\n",
                "#         v = M.sum(axis='index')\n",
                "#         return np.zeros(300) if type(v) != np.ndarray else v / np.sqrt((v ** 2).sum())\n",
                "\n",
                "#     except Exception:\n",
                "#         return np.zeros(300)\n"
            ]
        },
        {
            "cell_type": "code",
            "execution_count": null,
            "id": "1c7e9593",
            "metadata": {},
            "outputs": [],
            "source": [
                "# df_manual = pd.read_pickle(f'{df_save_dir}df_manual_sentiment_spacy_nltk.pkl')\n"
            ]
        },
        {
            "cell_type": "code",
            "execution_count": null,
            "id": "0b71ec5d",
            "metadata": {},
            "outputs": [],
            "source": [
                "# get_df_info(df_manual, ivs_all=dvs)\n"
            ]
        },
        {
            "cell_type": "code",
            "execution_count": null,
            "id": "88398f5f",
            "metadata": {},
            "outputs": [],
            "source": [
                "# embedding_models_dict = {\n",
                "#     'w2v': [build_train_word2vec, word2vec_embeddings, Word2Vec],\n",
                "#     'ft': [build_train_fasttext, fasttext_embeddings, FastText],\n",
                "# }\n"
            ]
        },
        {
            "cell_type": "code",
            "execution_count": null,
            "id": "abf4b3a2",
            "metadata": {},
            "outputs": [],
            "source": [
                "# %%time\n",
                "# # Make embeddings\n",
                "# ngrams_list=[1, 2, 3, 123]\n",
                "# embedding_libraries_list = ['spacy', 'nltk', 'gensim']\n",
                "\n",
                "# for embedding_library, ngram_number in tqdm_product(embedding_libraries_list, ngrams_list):\n",
                "#     print(f'Building {embedding_library}_{ngram_number}grams model and vocabulary.')\n",
                "\n",
                "#     for embed_model_name, embed_func_list in tqdm.tqdm(embedding_models_dict.items()):\n",
                "\n",
                "#         build_train_func, embed_func, model_loader = embed_func_list\n",
                "#         print(f'Building {embed_model_name} from {embed_func.__name__} function.')\n",
                "\n",
                "#         vocab, model = build_train_func(\n",
                "#             df=df_manual,\n",
                "#             ngram_number=ngram_number,\n",
                "#             embedding_library=embedding_library,\n",
                "#         )\n",
                "\n",
                "#         print(f'Getting {embed_model_name} embeddings.')\n",
                "\n",
                "#         df_manual[\n",
                "#             f'Job Description {embedding_library}_{ngram_number}grams_mean_{embed_model_name}_embeddings'\n",
                "#         ] = df_manual[\n",
                "#             f'Job Description {embedding_library}_{ngram_number}grams_original_list'\n",
                "#         ].progress_apply(\n",
                "#             lambda sentences: embed_func(sentences, vocab, model)\n",
                "#         )\n",
                "#         model.save(f'{data_dir}embeddings models/{embedding_library}_{ngram_number}grams_{embed_model_name}_model.model')\n",
                "\n",
                "#     # Sent2Vec\n",
                "#     print('Getting sent2vec embeddings.')\n",
                "#     embeddings_index = get_glove()\n",
                "#     df_manual[f'Job Description {embedding_library}_{ngram_number}grams_sent2vec_embeddings'] = df_manual[f'Job Description {embedding_library}_{ngram_number}grams'].progress_apply(lambda sentences: sent2vec(sentences, embeddings_index=embeddings_index, external_glove=True, extra_preprocessing_enabled=False))\n",
                "#     print('Done getting sent2vec embeddings.')\n"
            ]
        },
        {
            "cell_type": "code",
            "execution_count": null,
            "id": "3cde0242",
            "metadata": {},
            "outputs": [],
            "source": [
                "# assert len(df_manual) > 0 and isinstance(df_manual, pd.DataFrame), f'ERORR: LENGTH OF DF = {len(df_manual)}'\n",
                "# df_manual.to_pickle(f'{df_save_dir}df_manual_for_trainning.pkl')\n",
                "# df_manual.to_csv(f'{df_save_dir}df_manual_for_trainning.csv')\n"
            ]
        },
        {
            "cell_type": "code",
            "execution_count": null,
            "id": "c2411df2",
            "metadata": {},
            "outputs": [],
            "source": [
                "# print(f'Saving df_manual length {len(df_manual)} to txt file.')\n",
                "# with open(f'{data_dir}df_manual_len.txt', 'w') as f:\n",
                "#     f.write(str(len(df_manual)))\n"
            ]
        },
        {
            "cell_type": "code",
            "execution_count": null,
            "id": "5a130971",
            "metadata": {},
            "outputs": [],
            "source": []
        }
    ],
    "metadata": {
        "kernelspec": {
            "display_name": "study1_3.10",
            "language": "python",
            "name": "python3"
        },
        "language_info": {
            "codemirror_mode": {
                "name": "ipython",
                "version": 3
            },
            "file_extension": ".py",
            "mimetype": "text/x-python",
            "name": "python",
            "nbconvert_exporter": "python",
            "pygments_lexer": "ipython3",
            "version": "3.10.10"
        },
        "varInspector": {
            "cols": {
                "lenName": 16,
                "lenType": 16,
                "lenVar": 40
            },
            "kernels_config": {
                "python": {
                    "delete_cmd_postfix": "",
                    "delete_cmd_prefix": "del ",
                    "library": "var_list.py",
                    "varRefreshCmd": "print(var_dic_list())"
                },
                "r": {
                    "delete_cmd_postfix": ") ",
                    "delete_cmd_prefix": "rm(",
                    "library": "var_list.r",
                    "varRefreshCmd": "cat(var_dic_list()) "
                }
            },
            "types_to_exclude": [
                "module",
                "function",
                "builtin_function_or_method",
                "instance",
                "_Feature"
            ],
            "window_display": false
        },
        "widgets": {
            "application/vnd.jupyter.widget-state+json": {
                "state": {},
                "version_major": 2,
                "version_minor": 0
            }
        }
    },
    "nbformat": 4,
    "nbformat_minor": 5
}
