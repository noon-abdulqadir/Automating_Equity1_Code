{
    "cells": [
        {
            "attachments": {},
            "cell_type": "markdown",
            "metadata": {},
            "source": [
                "# ATTN: This script should be run AFTER language detection is completed."
            ]
        },
        {
            "attachments": {},
            "cell_type": "markdown",
            "metadata": {},
            "source": [
                "# Drop non-English job descriptions"
            ]
        },
        {
            "attachments": {},
            "cell_type": "markdown",
            "metadata": {},
            "source": [
                "### START HERE IF SOURCING FROM DF_JOBS_RAW_LANGUAGE_DETECTED\n",
                "### PLEASE SET CORRECT DIRECTORY PATHS BELOW\n"
            ]
        },
        {
            "cell_type": "code",
            "execution_count": 1,
            "metadata": {},
            "outputs": [],
            "source": [
                "import os # type:ignore # isort:skip # fmt:skip # noqa # nopep8\n",
                "import sys # type:ignore # isort:skip # fmt:skip # noqa # nopep8\n",
                "from pathlib import Path # type:ignore # isort:skip # fmt:skip # noqa # nopep8\n",
                "\n",
                "mod = sys.modules[__name__]\n",
                "\n",
                "code_dir = None\n",
                "code_dir_name = 'Code'\n",
                "unwanted_subdir_name = 'Analysis'\n",
                "\n",
                "if code_dir_name not in str(Path.cwd()).split('/')[-1]:\n",
                "    for _ in range(5):\n",
                "\n",
                "        parent_path = str(Path.cwd().parents[_]).split('/')[-1]\n",
                "\n",
                "        if (code_dir_name in parent_path) and (unwanted_subdir_name not in parent_path):\n",
                "\n",
                "            code_dir = str(Path.cwd().parents[_])\n",
                "\n",
                "            if code_dir is not None:\n",
                "                break\n",
                "else:\n",
                "    code_dir = str(Path.cwd())\n",
                "sys.path.append(code_dir)\n",
                "\n",
                "# %load_ext autoreload\n",
                "# %autoreload 2\n"
            ]
        },
        {
            "cell_type": "code",
            "execution_count": 2,
            "metadata": {},
            "outputs": [
                {
                    "name": "stdout",
                    "output_type": "stream",
                    "text": [
                        "Using MPS\n"
                    ]
                },
                {
                    "data": {
                        "application/vnd.jupyter.widget-view+json": {
                            "model_id": "6ea9caf8032b4e29aa6efef73d3b2d74",
                            "version_major": 2,
                            "version_minor": 0
                        },
                        "text/plain": [
                            "0it [00:00, ?it/s]"
                        ]
                    },
                    "metadata": {},
                    "output_type": "display_data"
                },
                {
                    "data": {
                        "text/plain": [
                            "<Figure size 640x480 with 0 Axes>"
                        ]
                    },
                    "metadata": {},
                    "output_type": "display_data"
                }
            ],
            "source": [
                "from setup_module.imports import * # type:ignore # isort:skip # fmt:skip # noqa # nopep8\n"
            ]
        },
        {
            "cell_type": "code",
            "execution_count": 3,
            "metadata": {},
            "outputs": [],
            "source": [
                "df_jobs = pd.read_pickle(f'{df_save_dir}df_jobs_raw_language_detected.pkl')\n"
            ]
        },
        {
            "cell_type": "code",
            "execution_count": 4,
            "metadata": {},
            "outputs": [
                {
                    "name": "stdout",
                    "output_type": "stream",
                    "text": [
                        "<class 'pandas.core.frame.DataFrame'>\n",
                        "RangeIndex: 62577 entries, 0 to 62576\n",
                        "Data columns (total 20 columns):\n",
                        " #   Column             Non-Null Count  Dtype  \n",
                        "---  ------             --------------  -----  \n",
                        " 0   Search Keyword     62577 non-null  object \n",
                        " 1   Platform           62577 non-null  object \n",
                        " 2   Job ID             62577 non-null  object \n",
                        " 3   Job Title          62577 non-null  object \n",
                        " 4   Company Name       62574 non-null  object \n",
                        " 5   Location           62577 non-null  object \n",
                        " 6   Job Description    62577 non-null  object \n",
                        " 7   Rating             3975 non-null   float64\n",
                        " 8   Employment Type    61995 non-null  object \n",
                        " 9   Company URL        59263 non-null  object \n",
                        " 10  Job URL            62577 non-null  object \n",
                        " 11  Job Age            62577 non-null  object \n",
                        " 12  Job Age Number     62577 non-null  object \n",
                        " 13  Collection Date    62577 non-null  object \n",
                        " 14  Data Row           58599 non-null  float64\n",
                        " 15  Tracking ID        58599 non-null  object \n",
                        " 16  Industry           59184 non-null  object \n",
                        " 17  Job Date           58602 non-null  object \n",
                        " 18  Type of ownership  582 non-null    object \n",
                        " 19  Language           62577 non-null  object \n",
                        "dtypes: float64(2), object(18)\n",
                        "memory usage: 9.5+ MB\n"
                    ]
                }
            ],
            "source": [
                "# len = 62577\n",
                "df_jobs.info()\n"
            ]
        },
        {
            "cell_type": "code",
            "execution_count": 5,
            "metadata": {},
            "outputs": [
                {
                    "data": {
                        "text/plain": [
                            "Language\n",
                            "nl              44863\n",
                            "en              17591\n",
                            "de                 53\n",
                            "fr                 36\n",
                            "['nl', 'en']        9\n",
                            "['en', 'nl']        8\n",
                            "pl                  5\n",
                            "id                  4\n",
                            "da                  4\n",
                            "tr                  1\n",
                            "['nl', 'af']        1\n",
                            "st                  1\n",
                            "af                  1\n",
                            "Name: count, dtype: int64"
                        ]
                    },
                    "execution_count": 5,
                    "metadata": {},
                    "output_type": "execute_result"
                }
            ],
            "source": [
                "# nl = 44863, en = 17591, ['en', 'nl'] = 8, ['nl', 'en'] = 9\n",
                "df_jobs['Language'].value_counts()\n"
            ]
        },
        {
            "cell_type": "code",
            "execution_count": 6,
            "metadata": {},
            "outputs": [
                {
                    "data": {
                        "application/vnd.jupyter.widget-view+json": {
                            "model_id": "3d9a0db85b3f41e4b545219a653c9da8",
                            "version_major": 2,
                            "version_minor": 0
                        },
                        "text/plain": [
                            "progress-bar:   0%|          | 0/62577 [00:00<?, ?it/s]"
                        ]
                    },
                    "metadata": {},
                    "output_type": "display_data"
                },
                {
                    "name": "stdout",
                    "output_type": "stream",
                    "text": [
                        "CPU times: user 46 ms, sys: 3.04 ms, total: 49.1 ms\n",
                        "Wall time: 51.8 ms\n"
                    ]
                }
            ],
            "source": [
                "%%time\n",
                "# The majority of ['en', 'nl'] labeled job descriptions contain mostly English\n",
                "df_jobs['Language'] = df_jobs['Language'].progress_apply(\n",
                "    lambda lang: 'en' if lang == \"['en', 'nl']\" else lang\n",
                ")\n"
            ]
        },
        {
            "cell_type": "code",
            "execution_count": 7,
            "metadata": {},
            "outputs": [],
            "source": [
                "# Drop non-English ads\n",
                "df_jobs = df_jobs.drop(\n",
                "    df_jobs[\n",
                "        df_jobs['Language'] != 'en'\n",
                "    ].index,\n",
                "        axis='index',\n",
                ")\n"
            ]
        },
        {
            "cell_type": "code",
            "execution_count": 8,
            "metadata": {},
            "outputs": [
                {
                    "data": {
                        "text/plain": [
                            "17599"
                        ]
                    },
                    "execution_count": 8,
                    "metadata": {},
                    "output_type": "execute_result"
                }
            ],
            "source": [
                "# 17599\n",
                "len(df_jobs)\n"
            ]
        },
        {
            "cell_type": "code",
            "execution_count": 9,
            "metadata": {},
            "outputs": [],
            "source": [
                "assert len(df_jobs) > 0 and isinstance(df_jobs, pd.DataFrame), f'ERORR: LENGTH OF DF = {len(df_jobs)}'\n",
                "df_jobs.to_pickle(f'{df_save_dir}df_jobs_raw_english_only.pkl')\n",
                "df_jobs.to_csv(f'{df_save_dir}df_jobs_raw_english_only.csv', index=False)\n"
            ]
        },
        {
            "attachments": {},
            "cell_type": "markdown",
            "metadata": {},
            "source": [
                "# Fix abbreviations in job descriptions"
            ]
        },
        {
            "attachments": {},
            "cell_type": "markdown",
            "metadata": {},
            "source": [
                "### START HERE IF SOURCING FROM DF_JOBS_RAW_ENGLISH_ONLY\n",
                "### PLEASE SET CORRECT DIRECTORY PATHS BELOW\n"
            ]
        },
        {
            "cell_type": "code",
            "execution_count": 10,
            "metadata": {},
            "outputs": [],
            "source": [
                "import os # type:ignore # isort:skip # fmt:skip # noqa # nopep8\n",
                "import sys # type:ignore # isort:skip # fmt:skip # noqa # nopep8\n",
                "from pathlib import Path # type:ignore # isort:skip # fmt:skip # noqa # nopep8\n",
                "\n",
                "mod = sys.modules[__name__]\n",
                "\n",
                "code_dir = None\n",
                "code_dir_name = 'Code'\n",
                "unwanted_subdir_name = 'Analysis'\n",
                "\n",
                "if code_dir_name not in str(Path.cwd()).split('/')[-1]:\n",
                "    for _ in range(5):\n",
                "\n",
                "        parent_path = str(Path.cwd().parents[_]).split('/')[-1]\n",
                "\n",
                "        if (code_dir_name in parent_path) and (unwanted_subdir_name not in parent_path):\n",
                "\n",
                "            code_dir = str(Path.cwd().parents[_])\n",
                "\n",
                "            if code_dir is not None:\n",
                "                break\n",
                "else:\n",
                "    code_dir = str(Path.cwd())\n",
                "sys.path.append(code_dir)\n",
                "\n",
                "# %load_ext autoreload\n",
                "# %autoreload 2\n"
            ]
        },
        {
            "cell_type": "code",
            "execution_count": 11,
            "metadata": {},
            "outputs": [],
            "source": [
                "from setup_module.imports import * # type:ignore # isort:skip # fmt:skip # noqa # nopep8\n"
            ]
        },
        {
            "cell_type": "code",
            "execution_count": 12,
            "metadata": {},
            "outputs": [],
            "source": [
                "# Function to make a list of punctuations that determine sentence boundry, i.e., split characters\n",
                "def make_custom_punct_chars(main_punct_chars=None, repeated_punct_chars=None):\n",
                "    if main_punct_chars is None:\n",
                "        main_punct_chars = [':', '|']\n",
                "    if repeated_punct_chars is None:\n",
                "        repeated_punct_chars = ['\\n', ',']\n",
                "    custom_punct_chars = []\n",
                "    temp_multi = []\n",
                "    temp_spaced = []\n",
                "\n",
                "    for punct_char in main_punct_chars:\n",
                "        custom_punct_chars+= f'{punct_char}', f'{punct_char} '\n",
                "\n",
                "    for idx in range(4):\n",
                "        for punct_char in repeated_punct_chars:\n",
                "            temp_multi.append(f'{punct_char}'*int(idx+1))\n",
                "            temp_spaced.append(f'{punct_char} '*int(idx+1))\n",
                "\n",
                "    for multi, spaced in zip(temp_multi, temp_spaced):\n",
                "        custom_punct_chars+= multi, spaced\n",
                "\n",
                "    custom_punct_chars.remove(',')\n",
                "    custom_punct_chars.remove(', ')\n",
                "\n",
                "    return custom_punct_chars\n"
            ]
        },
        {
            "cell_type": "code",
            "execution_count": 13,
            "metadata": {},
            "outputs": [],
            "source": [
                "df_jobs = pd.read_pickle(f'{df_save_dir}df_jobs_raw_english_only.pkl')\n"
            ]
        },
        {
            "cell_type": "code",
            "execution_count": 14,
            "metadata": {},
            "outputs": [
                {
                    "name": "stdout",
                    "output_type": "stream",
                    "text": [
                        "<class 'pandas.core.frame.DataFrame'>\n",
                        "Index: 17599 entries, 0 to 62535\n",
                        "Data columns (total 20 columns):\n",
                        " #   Column             Non-Null Count  Dtype  \n",
                        "---  ------             --------------  -----  \n",
                        " 0   Search Keyword     17599 non-null  object \n",
                        " 1   Platform           17599 non-null  object \n",
                        " 2   Job ID             17599 non-null  object \n",
                        " 3   Job Title          17599 non-null  object \n",
                        " 4   Company Name       17597 non-null  object \n",
                        " 5   Location           17599 non-null  object \n",
                        " 6   Job Description    17599 non-null  object \n",
                        " 7   Rating             3780 non-null   float64\n",
                        " 8   Employment Type    17017 non-null  object \n",
                        " 9   Company URL        15959 non-null  object \n",
                        " 10  Job URL            17599 non-null  object \n",
                        " 11  Job Age            17599 non-null  object \n",
                        " 12  Job Age Number     17599 non-null  object \n",
                        " 13  Collection Date    17599 non-null  object \n",
                        " 14  Data Row           13816 non-null  float64\n",
                        " 15  Tracking ID        13816 non-null  object \n",
                        " 16  Industry           14401 non-null  object \n",
                        " 17  Job Date           13819 non-null  object \n",
                        " 18  Type of ownership  582 non-null    object \n",
                        " 19  Language           17599 non-null  object \n",
                        "dtypes: float64(2), object(18)\n",
                        "memory usage: 2.8+ MB\n"
                    ]
                }
            ],
            "source": [
                "# len = 17599\n",
                "df_jobs.info()\n"
            ]
        },
        {
            "cell_type": "code",
            "execution_count": 15,
            "metadata": {},
            "outputs": [
                {
                    "data": {
                        "application/vnd.jupyter.widget-view+json": {
                            "model_id": "4c52edb1a5e34378aa3aeb8d8cebeef2",
                            "version_major": 2,
                            "version_minor": 0
                        },
                        "text/plain": [
                            "progress-bar:   0%|          | 0/17599 [00:00<?, ?it/s]"
                        ]
                    },
                    "metadata": {},
                    "output_type": "display_data"
                },
                {
                    "name": "stdout",
                    "output_type": "stream",
                    "text": [
                        "Job ID converted to str.\n"
                    ]
                },
                {
                    "data": {
                        "application/vnd.jupyter.widget-view+json": {
                            "model_id": "e26b5438d9314c008758bac4ee49eae1",
                            "version_major": 2,
                            "version_minor": 0
                        },
                        "text/plain": [
                            "progress-bar:   0%|          | 0/17599 [00:00<?, ?it/s]"
                        ]
                    },
                    "metadata": {},
                    "output_type": "display_data"
                },
                {
                    "name": "stdout",
                    "output_type": "stream",
                    "text": [
                        "Job Description converted to str.\n"
                    ]
                }
            ],
            "source": [
                "# Conver Job ID and Sentence to str\n",
                "str_cols = [\n",
                "    'Job ID',\n",
                "    'Job Description',\n",
                "]\n",
                "\n",
                "for col in str_cols:\n",
                "    df_jobs[col] = df_jobs[col].astype(str)\n",
                "    df_jobs[col] = df_jobs[col].apply(lambda x: x.strip())\n",
                "    df_jobs[col] = df_jobs[col].apply(lambda x: unicodedata.normalize('NFKD', x.encode('ascii', 'ignore').decode('utf-8', 'ignore')))\n",
                "    print(f'{col} converted to str.' if all(df_jobs[col].progress_apply(lambda x: isinstance(x, str))) else f'{col} NOT converted to str.')\n"
            ]
        },
        {
            "cell_type": "code",
            "execution_count": 16,
            "metadata": {},
            "outputs": [
                {
                    "data": {
                        "text/plain": [
                            "0    About Our Client\\nThe Global KYC organisation ...\n",
                            "2    Your role:\\n\\nWere in business to save our hom...\n",
                            "3    During the past four years Colourful Rebel has...\n",
                            "5    Job Description\\nWe are currently recruiting a...\n",
                            "7    KARL LAGERFELD COMPANY PROFILE\\n\\nThe house of...\n",
                            "Name: Job Description, dtype: object"
                        ]
                    },
                    "execution_count": 16,
                    "metadata": {},
                    "output_type": "execute_result"
                }
            ],
            "source": [
                "df_jobs['Job Description'].head()\n"
            ]
        },
        {
            "cell_type": "code",
            "execution_count": 17,
            "metadata": {},
            "outputs": [
                {
                    "data": {
                        "text/plain": [
                            "count                                                 17599\n",
                            "unique                                                17594\n",
                            "top       At SoftwareONE we are customerfocused Delighti...\n",
                            "freq                                                      3\n",
                            "Name: Job Description, dtype: object"
                        ]
                    },
                    "execution_count": 17,
                    "metadata": {},
                    "output_type": "execute_result"
                }
            ],
            "source": [
                "# count=17599, unique=17594, top=, freq=1\n",
                "df_jobs['Job Description'].describe()\n"
            ]
        },
        {
            "cell_type": "code",
            "execution_count": 18,
            "metadata": {},
            "outputs": [],
            "source": [
                "df_jobs = df_jobs.drop_duplicates(subset=['Job Description'], keep='first')\n"
            ]
        },
        {
            "cell_type": "code",
            "execution_count": 19,
            "metadata": {},
            "outputs": [
                {
                    "data": {
                        "text/plain": [
                            "17594"
                        ]
                    },
                    "execution_count": 19,
                    "metadata": {},
                    "output_type": "execute_result"
                }
            ],
            "source": [
                "# len=17594\n",
                "len(df_jobs)\n"
            ]
        },
        {
            "cell_type": "code",
            "execution_count": 20,
            "metadata": {},
            "outputs": [
                {
                    "data": {
                        "text/plain": [
                            "0    About Our Client\\nThe Global KYC organisation ...\n",
                            "2    Your role:\\n\\nWere in business to save our hom...\n",
                            "3    During the past four years Colourful Rebel has...\n",
                            "5    Job Description\\nWe are currently recruiting a...\n",
                            "7    KARL LAGERFELD COMPANY PROFILE\\n\\nThe house of...\n",
                            "Name: Job Description, dtype: object"
                        ]
                    },
                    "execution_count": 20,
                    "metadata": {},
                    "output_type": "execute_result"
                }
            ],
            "source": [
                "df_jobs['Job Description'].head()\n"
            ]
        },
        {
            "cell_type": "code",
            "execution_count": 21,
            "metadata": {},
            "outputs": [
                {
                    "data": {
                        "text/plain": [
                            "count                                                 17594\n",
                            "unique                                                17594\n",
                            "top       About Our Client\\nThe Global KYC organisation ...\n",
                            "freq                                                      1\n",
                            "Name: Job Description, dtype: object"
                        ]
                    },
                    "execution_count": 21,
                    "metadata": {},
                    "output_type": "execute_result"
                }
            ],
            "source": [
                "# count=17594, unique=17594, top=, freq=1\n",
                "df_jobs['Job Description'].describe()\n"
            ]
        },
        {
            "cell_type": "code",
            "execution_count": 22,
            "metadata": {},
            "outputs": [
                {
                    "name": "stdout",
                    "output_type": "stream",
                    "text": [
                        "[':', ': ', '|', '| ', '\\n', '\\n ', '\\n\\n', '\\n \\n ', ',,', ', , ', '\\n\\n\\n', '\\n \\n \\n ', ',,,', ', , , ', '\\n\\n\\n\\n', '\\n \\n \\n \\n ', ',,,,', ', , , , ']\n"
                    ]
                }
            ],
            "source": [
                "custom_punct_chars = make_custom_punct_chars()\n",
                "print(custom_punct_chars)\n"
            ]
        },
        {
            "cell_type": "code",
            "execution_count": 23,
            "metadata": {},
            "outputs": [],
            "source": [
                "# Drop na, empty strings, punctuations, and keep only sentences of length more than 0\n",
                "with open(f'{data_dir}punctuations.txt', 'rb') as f:\n",
                "    custom_punct_chars = pickle.load(f)\n",
                "\n",
                "df_jobs = df_jobs.dropna(subset=['Job Description'])\n",
                "df_jobs = df_jobs.loc[\n",
                "    (df_jobs['Job Description'].isnull() == False)\n",
                "    & (df_jobs['Job Description'].isna() == False)\n",
                "    & (df_jobs['Job Description'].notnull() == True)\n",
                "    & (df_jobs['Job Description'].notna() == True)\n",
                "    & (df_jobs['Job Description'].astype(bool) == True)\n",
                "    & (df_jobs['Job Description'].apply(len) > 0)\n",
                "    & (pd.isna(df_jobs['Job Description']) == False)\n",
                "    & (df_jobs['Job Description'].astype(str).isin(custom_punct_chars) == False)\n",
                "    & (df_jobs['Job Description'].astype(str).isin(non_whitespace_nan_list) == False)\n",
                "    & (df_jobs['Job Description'].astype(str).isin(list(string.punctuation)) == False)\n",
                "    & (df_jobs['Job Description'].astype(str).isin(list(string.whitespace)) == False)\n",
                "]\n",
                "df_jobs = df_jobs.dropna(subset=['Job Description'])\n"
            ]
        },
        {
            "cell_type": "code",
            "execution_count": 24,
            "metadata": {},
            "outputs": [
                {
                    "data": {
                        "text/plain": [
                            "0    About Our Client\\nThe Global KYC organisation ...\n",
                            "2    Your role:\\n\\nWere in business to save our hom...\n",
                            "3    During the past four years Colourful Rebel has...\n",
                            "5    Job Description\\nWe are currently recruiting a...\n",
                            "7    KARL LAGERFELD COMPANY PROFILE\\n\\nThe house of...\n",
                            "Name: Job Description, dtype: object"
                        ]
                    },
                    "execution_count": 24,
                    "metadata": {},
                    "output_type": "execute_result"
                }
            ],
            "source": [
                "df_jobs['Job Description'].head()\n"
            ]
        },
        {
            "cell_type": "code",
            "execution_count": 25,
            "metadata": {},
            "outputs": [
                {
                    "data": {
                        "text/plain": [
                            "count                                                 17593\n",
                            "unique                                                17593\n",
                            "top       About Our Client\\nThe Global KYC organisation ...\n",
                            "freq                                                      1\n",
                            "Name: Job Description, dtype: object"
                        ]
                    },
                    "execution_count": 25,
                    "metadata": {},
                    "output_type": "execute_result"
                }
            ],
            "source": [
                "df_jobs['Job Description'].describe()\n"
            ]
        },
        {
            "cell_type": "code",
            "execution_count": 26,
            "metadata": {},
            "outputs": [],
            "source": [
                "# Remove duplicate sentences from the same job ad\n",
                "df_jobs = df_jobs.drop_duplicates(subset=['Job ID', 'Job Description'])\n"
            ]
        },
        {
            "cell_type": "code",
            "execution_count": 27,
            "metadata": {},
            "outputs": [],
            "source": [
                "# Check row are string or invalid\n",
                "for idx, row in df_jobs['Job Description'].items():\n",
                "    if (not isinstance(row, str)) or (row in nan_list) or (row in custom_punct_chars) or (row in list(string.punctuation)) or (pd.isna(row) == True):\n",
                "        print(idx, row)\n"
            ]
        },
        {
            "cell_type": "code",
            "execution_count": 28,
            "metadata": {},
            "outputs": [
                {
                    "data": {
                        "text/plain": [
                            "17593"
                        ]
                    },
                    "execution_count": 28,
                    "metadata": {},
                    "output_type": "execute_result"
                }
            ],
            "source": [
                "# len=17593\n",
                "len(df_jobs)\n"
            ]
        },
        {
            "cell_type": "code",
            "execution_count": 29,
            "metadata": {},
            "outputs": [
                {
                    "data": {
                        "text/plain": [
                            "0    About Our Client\\nThe Global KYC organisation ...\n",
                            "2    Your role:\\n\\nWere in business to save our hom...\n",
                            "3    During the past four years Colourful Rebel has...\n",
                            "5    Job Description\\nWe are currently recruiting a...\n",
                            "7    KARL LAGERFELD COMPANY PROFILE\\n\\nThe house of...\n",
                            "Name: Job Description, dtype: object"
                        ]
                    },
                    "execution_count": 29,
                    "metadata": {},
                    "output_type": "execute_result"
                }
            ],
            "source": [
                "df_jobs['Job Description'].head()\n"
            ]
        },
        {
            "cell_type": "code",
            "execution_count": 30,
            "metadata": {},
            "outputs": [
                {
                    "data": {
                        "text/plain": [
                            "count                                                 17593\n",
                            "unique                                                17593\n",
                            "top       About Our Client\\nThe Global KYC organisation ...\n",
                            "freq                                                      1\n",
                            "Name: Job Description, dtype: object"
                        ]
                    },
                    "execution_count": 30,
                    "metadata": {},
                    "output_type": "execute_result"
                }
            ],
            "source": [
                "# count=17593, unique=17593\n",
                "df_jobs['Job Description'].describe()\n"
            ]
        },
        {
            "cell_type": "code",
            "execution_count": 31,
            "metadata": {},
            "outputs": [
                {
                    "data": {
                        "application/vnd.jupyter.widget-view+json": {
                            "model_id": "d651f8952acd49329b8cbee57d65804d",
                            "version_major": 2,
                            "version_minor": 0
                        },
                        "text/plain": [
                            "progress-bar:   0%|          | 0/17593 [00:00<?, ?it/s]"
                        ]
                    },
                    "metadata": {},
                    "output_type": "display_data"
                }
            ],
            "source": [
                "df_jobs['Job Description'] = df_jobs.loc[df_jobs['Job Description'].notnull(), 'Job Description'].progress_apply(\n",
                "    lambda job_description: ' '.join(job_description.split('/')) if '/' in job_description else job_description\n",
                ")\n"
            ]
        },
        {
            "cell_type": "code",
            "execution_count": 32,
            "metadata": {},
            "outputs": [],
            "source": [
                "abb_dict = {\n",
                "    r'incl\\.': 'including',\n",
                "    r'e\\.g\\.': 'for example',\n",
                "    r'e\\.g': 'for example',\n",
                "    r'etc\\.': 'et cetera',\n",
                "    r'\\\"': '',\n",
                "}\n"
            ]
        },
        {
            "cell_type": "code",
            "execution_count": 33,
            "metadata": {},
            "outputs": [
                {
                    "name": "stdout",
                    "output_type": "stream",
                    "text": [
                        "CPU times: user 255 ms, sys: 1.87 ms, total: 257 ms\n",
                        "Wall time: 256 ms\n"
                    ]
                }
            ],
            "source": [
                "%%time\n",
                "df_jobs['Job Description'] = df_jobs['Job Description'].replace(abb_dict, regex=True)\n"
            ]
        },
        {
            "cell_type": "code",
            "execution_count": 34,
            "metadata": {},
            "outputs": [
                {
                    "data": {
                        "text/plain": [
                            "0    About Our Client\\nThe Global KYC organisation ...\n",
                            "2    Your role:\\n\\nWere in business to save our hom...\n",
                            "3    During the past four years Colourful Rebel has...\n",
                            "5    Job Description\\nWe are currently recruiting a...\n",
                            "7    KARL LAGERFELD COMPANY PROFILE\\n\\nThe house of...\n",
                            "Name: Job Description, dtype: object"
                        ]
                    },
                    "execution_count": 34,
                    "metadata": {},
                    "output_type": "execute_result"
                }
            ],
            "source": [
                "df_jobs['Job Description'].head()\n"
            ]
        },
        {
            "cell_type": "code",
            "execution_count": 35,
            "metadata": {},
            "outputs": [
                {
                    "data": {
                        "text/plain": [
                            "count                                                 17593\n",
                            "unique                                                17593\n",
                            "top       About Our Client\\nThe Global KYC organisation ...\n",
                            "freq                                                      1\n",
                            "Name: Job Description, dtype: object"
                        ]
                    },
                    "execution_count": 35,
                    "metadata": {},
                    "output_type": "execute_result"
                }
            ],
            "source": [
                "# count= 17593, unique= 17593\n",
                "df_jobs['Job Description'].describe()\n"
            ]
        },
        {
            "cell_type": "code",
            "execution_count": 36,
            "metadata": {},
            "outputs": [],
            "source": [
                "assert len(df_jobs) > 0 and isinstance(df_jobs, pd.DataFrame), f'ERORR: LENGTH OF DF = {len(df_jobs)}'\n",
                "df_jobs.to_pickle(f'{df_save_dir}df_jobs_raw_fixed_abbreviations.pkl')\n",
                "df_jobs.to_csv(f'{df_save_dir}df_jobs_raw_fixed_abbreviations.csv', index=False)\n"
            ]
        },
        {
            "attachments": {},
            "cell_type": "markdown",
            "metadata": {},
            "source": [
                "# Add English and Dutch language requirement columns"
            ]
        },
        {
            "attachments": {},
            "cell_type": "markdown",
            "metadata": {},
            "source": [
                "### START HERE IF SOURCING FROM DF_JOBS_RAW_FIXED_ABBREVIATIONS\n",
                "### PLEASE SET CORRECT DIRECTORY PATHS BELOW\n"
            ]
        },
        {
            "cell_type": "code",
            "execution_count": 37,
            "metadata": {},
            "outputs": [],
            "source": [
                "import os # type:ignore # isort:skip # fmt:skip # noqa # nopep8\n",
                "import sys # type:ignore # isort:skip # fmt:skip # noqa # nopep8\n",
                "from pathlib import Path # type:ignore # isort:skip # fmt:skip # noqa # nopep8\n",
                "\n",
                "mod = sys.modules[__name__]\n",
                "\n",
                "code_dir = None\n",
                "code_dir_name = 'Code'\n",
                "unwanted_subdir_name = 'Analysis'\n",
                "\n",
                "if code_dir_name not in str(Path.cwd()).split('/')[-1]:\n",
                "    for _ in range(5):\n",
                "\n",
                "        parent_path = str(Path.cwd().parents[_]).split('/')[-1]\n",
                "\n",
                "        if (code_dir_name in parent_path) and (unwanted_subdir_name not in parent_path):\n",
                "\n",
                "            code_dir = str(Path.cwd().parents[_])\n",
                "\n",
                "            if code_dir is not None:\n",
                "                break\n",
                "else:\n",
                "    code_dir = str(Path.cwd())\n",
                "sys.path.append(code_dir)\n",
                "\n",
                "# %load_ext autoreload\n",
                "# %autoreload 2\n"
            ]
        },
        {
            "cell_type": "code",
            "execution_count": 38,
            "metadata": {},
            "outputs": [],
            "source": [
                "from setup_module.imports import * # type:ignore # isort:skip # fmt:skip # noqa # nopep8\n"
            ]
        },
        {
            "cell_type": "code",
            "execution_count": 39,
            "metadata": {},
            "outputs": [],
            "source": [
                "df_jobs = pd.read_pickle(f'{df_save_dir}df_jobs_raw_fixed_abbreviations.pkl')\n"
            ]
        },
        {
            "cell_type": "code",
            "execution_count": 40,
            "metadata": {},
            "outputs": [
                {
                    "name": "stdout",
                    "output_type": "stream",
                    "text": [
                        "<class 'pandas.core.frame.DataFrame'>\n",
                        "Index: 17593 entries, 0 to 62535\n",
                        "Data columns (total 20 columns):\n",
                        " #   Column             Non-Null Count  Dtype  \n",
                        "---  ------             --------------  -----  \n",
                        " 0   Search Keyword     17593 non-null  object \n",
                        " 1   Platform           17593 non-null  object \n",
                        " 2   Job ID             17593 non-null  object \n",
                        " 3   Job Title          17593 non-null  object \n",
                        " 4   Company Name       17591 non-null  object \n",
                        " 5   Location           17593 non-null  object \n",
                        " 6   Job Description    17593 non-null  object \n",
                        " 7   Rating             3780 non-null   float64\n",
                        " 8   Employment Type    17011 non-null  object \n",
                        " 9   Company URL        15954 non-null  object \n",
                        " 10  Job URL            17593 non-null  object \n",
                        " 11  Job Age            17593 non-null  object \n",
                        " 12  Job Age Number     17593 non-null  object \n",
                        " 13  Collection Date    17593 non-null  object \n",
                        " 14  Data Row           13810 non-null  float64\n",
                        " 15  Tracking ID        13810 non-null  object \n",
                        " 16  Industry           14395 non-null  object \n",
                        " 17  Job Date           13813 non-null  object \n",
                        " 18  Type of ownership  582 non-null    object \n",
                        " 19  Language           17593 non-null  object \n",
                        "dtypes: float64(2), object(18)\n",
                        "memory usage: 2.8+ MB\n"
                    ]
                }
            ],
            "source": [
                "df_jobs.info()\n"
            ]
        },
        {
            "cell_type": "code",
            "execution_count": 41,
            "metadata": {},
            "outputs": [
                {
                    "name": "stdout",
                    "output_type": "stream",
                    "text": [
                        "CPU times: user 5.35 s, sys: 60 ms, total: 5.41 s\n",
                        "Wall time: 5.44 s\n"
                    ]
                }
            ],
            "source": [
                "%%time\n",
                "# Add language requirement column\n",
                "# Use regex to find language requirement\n",
                "lang_requirements = {\n",
                "    'Dutch Requirement in Job Ad': dutch_requirement_pattern, 'English Requirement in Job Ad': english_requirement_pattern\n",
                "}\n",
                "\n",
                "for lang_req, lang_req_pattern in lang_requirements.items():\n",
                "\n",
                "    if lang_req in df_jobs.columns:\n",
                "        df_jobs = df_jobs.drop(columns=[lang_req])\n",
                "    df_jobs[lang_req] = np.where(\n",
                "        df_jobs['Job Description'].str.contains(lang_req_pattern),\n",
                "        'Yes',\n",
                "        'No',\n",
                "    )\n",
                "    df_jobs[lang_req] = df_jobs[lang_req].astype('category').cat.reorder_categories(['No', 'Yes'], ordered=True)\n",
                "    df_jobs[lang_req] = pd.Categorical(df_jobs[lang_req], categories=['No', 'Yes'], ordered=True)\n",
                "\n",
                "assert len(df_jobs) > 0 and isinstance(df_jobs, pd.DataFrame), f'ERORR: LENGTH OF DF = {len(df_jobs)}'\n",
                "df_jobs.to_pickle(f'{df_save_dir}df_jobs_raw_language_requirement.pkl')\n",
                "df_jobs.to_csv(f'{df_save_dir}df_jobs_raw_english_requirement.csv', index=False)\n"
            ]
        },
        {
            "cell_type": "code",
            "execution_count": 42,
            "metadata": {},
            "outputs": [
                {
                    "data": {
                        "text/plain": [
                            "Dutch Requirement in Job Ad\n",
                            "No     17295\n",
                            "Yes      298\n",
                            "Name: count, dtype: int64"
                        ]
                    },
                    "execution_count": 42,
                    "metadata": {},
                    "output_type": "execute_result"
                }
            ],
            "source": [
                "# Yes = 298 job ads\n",
                "df_jobs['Dutch Requirement in Job Ad'].value_counts()\n"
            ]
        },
        {
            "cell_type": "code",
            "execution_count": 43,
            "metadata": {},
            "outputs": [
                {
                    "data": {
                        "text/plain": [
                            "English Requirement in Job Ad\n",
                            "No     17048\n",
                            "Yes      545\n",
                            "Name: count, dtype: int64"
                        ]
                    },
                    "execution_count": 43,
                    "metadata": {},
                    "output_type": "execute_result"
                }
            ],
            "source": [
                "# Yes = 545 job ads\n",
                "df_jobs['English Requirement in Job Ad'].value_counts()\n"
            ]
        },
        {
            "cell_type": "code",
            "execution_count": 44,
            "metadata": {},
            "outputs": [],
            "source": [
                "# Dummy coding for language requirement\n",
                "df_jobs = df_jobs.join(pd.get_dummies(df_jobs[['Dutch Requirement in Job Ad', 'English Requirement in Job Ad']], dtype='int64'))\n"
            ]
        },
        {
            "cell_type": "code",
            "execution_count": 45,
            "metadata": {},
            "outputs": [
                {
                    "data": {
                        "text/plain": [
                            "Dutch Requirement in Job Ad_Yes\n",
                            "0    17295\n",
                            "1      298\n",
                            "Name: count, dtype: int64"
                        ]
                    },
                    "execution_count": 45,
                    "metadata": {},
                    "output_type": "execute_result"
                }
            ],
            "source": [
                "df_jobs['Dutch Requirement in Job Ad_Yes'].value_counts()\n"
            ]
        },
        {
            "cell_type": "code",
            "execution_count": 46,
            "metadata": {},
            "outputs": [
                {
                    "data": {
                        "text/plain": [
                            "English Requirement in Job Ad_Yes\n",
                            "0    17048\n",
                            "1      545\n",
                            "Name: count, dtype: int64"
                        ]
                    },
                    "execution_count": 46,
                    "metadata": {},
                    "output_type": "execute_result"
                }
            ],
            "source": [
                "df_jobs['English Requirement in Job Ad_Yes'].value_counts()\n"
            ]
        },
        {
            "cell_type": "code",
            "execution_count": 47,
            "metadata": {},
            "outputs": [],
            "source": [
                "assert len(df_jobs) > 0 and isinstance(df_jobs, pd.DataFrame), f'ERORR: LENGTH OF DF = {len(df_jobs)}'\n",
                "df_jobs.to_pickle(f'{df_save_dir}df_jobs_raw_language_requirement.pkl')\n",
                "df_jobs.to_csv(f'{df_save_dir}df_jobs_raw_language_requirement.csv', index=False)\n"
            ]
        },
        {
            "attachments": {},
            "cell_type": "markdown",
            "metadata": {},
            "source": [
                "# Add data from Sectors dataframe (see CBS directory under '1. Scraping' directory)\n"
            ]
        },
        {
            "attachments": {},
            "cell_type": "markdown",
            "metadata": {},
            "source": [
                "### START HERE IF SOURCING FROM DF_JOBS_RAW_LANGUAGE_REQUIREMENT\n",
                "### PLEASE SET CORRECT DIRECTORY PATHS BELOW\n"
            ]
        },
        {
            "cell_type": "code",
            "execution_count": 48,
            "metadata": {},
            "outputs": [],
            "source": [
                "import os # type:ignore # isort:skip # fmt:skip # noqa # nopep8\n",
                "import sys # type:ignore # isort:skip # fmt:skip # noqa # nopep8\n",
                "from pathlib import Path # type:ignore # isort:skip # fmt:skip # noqa # nopep8\n",
                "\n",
                "mod = sys.modules[__name__]\n",
                "\n",
                "code_dir = None\n",
                "code_dir_name = 'Code'\n",
                "unwanted_subdir_name = 'Analysis'\n",
                "\n",
                "if code_dir_name not in str(Path.cwd()).split('/')[-1]:\n",
                "    for _ in range(5):\n",
                "\n",
                "        parent_path = str(Path.cwd().parents[_]).split('/')[-1]\n",
                "\n",
                "        if (code_dir_name in parent_path) and (unwanted_subdir_name not in parent_path):\n",
                "\n",
                "            code_dir = str(Path.cwd().parents[_])\n",
                "\n",
                "            if code_dir is not None:\n",
                "                break\n",
                "else:\n",
                "    code_dir = str(Path.cwd())\n",
                "sys.path.append(code_dir)\n",
                "\n",
                "# %load_ext autoreload\n",
                "# %autoreload 2\n"
            ]
        },
        {
            "cell_type": "code",
            "execution_count": 49,
            "metadata": {},
            "outputs": [],
            "source": [
                "from setup_module.imports import * # type:ignore # isort:skip # fmt:skip # noqa # nopep8\n"
            ]
        },
        {
            "cell_type": "code",
            "execution_count": 50,
            "metadata": {},
            "outputs": [],
            "source": [
                "df_jobs = pd.read_pickle(f'{df_save_dir}df_jobs_raw_language_requirement.pkl')\n"
            ]
        },
        {
            "cell_type": "code",
            "execution_count": 51,
            "metadata": {},
            "outputs": [
                {
                    "name": "stdout",
                    "output_type": "stream",
                    "text": [
                        "<class 'pandas.core.frame.DataFrame'>\n",
                        "Index: 17593 entries, 0 to 62535\n",
                        "Data columns (total 26 columns):\n",
                        " #   Column                             Non-Null Count  Dtype   \n",
                        "---  ------                             --------------  -----   \n",
                        " 0   Search Keyword                     17593 non-null  object  \n",
                        " 1   Platform                           17593 non-null  object  \n",
                        " 2   Job ID                             17593 non-null  object  \n",
                        " 3   Job Title                          17593 non-null  object  \n",
                        " 4   Company Name                       17591 non-null  object  \n",
                        " 5   Location                           17593 non-null  object  \n",
                        " 6   Job Description                    17593 non-null  object  \n",
                        " 7   Rating                             3780 non-null   float64 \n",
                        " 8   Employment Type                    17011 non-null  object  \n",
                        " 9   Company URL                        15954 non-null  object  \n",
                        " 10  Job URL                            17593 non-null  object  \n",
                        " 11  Job Age                            17593 non-null  object  \n",
                        " 12  Job Age Number                     17593 non-null  object  \n",
                        " 13  Collection Date                    17593 non-null  object  \n",
                        " 14  Data Row                           13810 non-null  float64 \n",
                        " 15  Tracking ID                        13810 non-null  object  \n",
                        " 16  Industry                           14395 non-null  object  \n",
                        " 17  Job Date                           13813 non-null  object  \n",
                        " 18  Type of ownership                  582 non-null    object  \n",
                        " 19  Language                           17593 non-null  object  \n",
                        " 20  Dutch Requirement in Job Ad        17593 non-null  category\n",
                        " 21  English Requirement in Job Ad      17593 non-null  category\n",
                        " 22  Dutch Requirement in Job Ad_No     17593 non-null  int64   \n",
                        " 23  Dutch Requirement in Job Ad_Yes    17593 non-null  int64   \n",
                        " 24  English Requirement in Job Ad_No   17593 non-null  int64   \n",
                        " 25  English Requirement in Job Ad_Yes  17593 non-null  int64   \n",
                        "dtypes: category(2), float64(2), int64(4), object(18)\n",
                        "memory usage: 3.4+ MB\n"
                    ]
                }
            ],
            "source": [
                "df_jobs.info()\n"
            ]
        },
        {
            "cell_type": "code",
            "execution_count": 52,
            "metadata": {},
            "outputs": [
                {
                    "data": {
                        "text/html": [
                            "<pre style=\"white-space:pre;overflow-x:auto;line-height:normal;font-family:Menlo,'DejaVu Sans Mono',consolas,'Courier New',monospace\"><span style=\"color: #ff0000; text-decoration-color: #ff0000\">╭──────────────────────────────────────────────────────────────────────────────────────────────────╮</span>\n",
                            "<span style=\"color: #ff0000; text-decoration-color: #ff0000\">│</span> try::                                                                                            <span style=\"color: #ff0000; text-decoration-color: #ff0000\">│</span>\n",
                            "<span style=\"color: #ff0000; text-decoration-color: #ff0000\">│</span>     <span style=\"color: #ff0000; text-decoration-color: #ff0000; font-weight: bold\">▲</span>                                                                                            <span style=\"color: #ff0000; text-decoration-color: #ff0000\">│</span>\n",
                            "<span style=\"color: #ff0000; text-decoration-color: #ff0000\">╰──────────────────────────────────────────────────────────────────────────────────────────────────╯</span>\n",
                            "<span style=\"color: #ff0000; text-decoration-color: #ff0000; font-weight: bold\">SyntaxError: </span>invalid syntax\n",
                            "</pre>\n"
                        ],
                        "text/plain": [
                            "\u001b[91m╭──────────────────────────────────────────────────────────────────────────────────────────────────╮\u001b[0m\n",
                            "\u001b[91m│\u001b[0m try::                                                                                            \u001b[91m│\u001b[0m\n",
                            "\u001b[91m│\u001b[0m     \u001b[1;91m▲\u001b[0m                                                                                            \u001b[91m│\u001b[0m\n",
                            "\u001b[91m╰──────────────────────────────────────────────────────────────────────────────────────────────────╯\u001b[0m\n",
                            "\u001b[1;91mSyntaxError: \u001b[0minvalid syntax\n"
                        ]
                    },
                    "metadata": {},
                    "output_type": "display_data"
                }
            ],
            "source": [
                "try::\n",
                "    df_sectors_all = pd.read_pickle(f'{table_save_path}Sectors Output from script.pkl')\n",
                "except FileNotFoundError:\n",
                "    cbs_notebook = '\\\\'.join(f'{scraped_data}CBS/CBS.ipynb')\n",
                "    %run $cbs_notebook import df_sectors_all # type:ignore # isort:skip # fmt:skip # noqa # nopep8\n"
            ]
        },
        {
            "cell_type": "code",
            "execution_count": 53,
            "metadata": {},
            "outputs": [
                {
                    "data": {
                        "text/html": [
                            "<pre style=\"white-space:pre;overflow-x:auto;line-height:normal;font-family:Menlo,'DejaVu Sans Mono',consolas,'Courier New',monospace\"><span style=\"color: #800000; text-decoration-color: #800000\">╭─────────────────────────────── </span><span style=\"color: #800000; text-decoration-color: #800000; font-weight: bold\">Traceback </span><span style=\"color: #bf7f7f; text-decoration-color: #bf7f7f; font-weight: bold\">(most recent call last)</span><span style=\"color: #800000; text-decoration-color: #800000\"> ────────────────────────────────╮</span>\n",
                            "<span style=\"color: #800000; text-decoration-color: #800000\">│</span> in <span style=\"color: #00ff00; text-decoration-color: #00ff00\">&lt;module&gt;</span>:<span style=\"color: #0000ff; text-decoration-color: #0000ff\">1</span>                                                                                    <span style=\"color: #800000; text-decoration-color: #800000\">│</span>\n",
                            "<span style=\"color: #800000; text-decoration-color: #800000\">│</span>                                                                                                  <span style=\"color: #800000; text-decoration-color: #800000\">│</span>\n",
                            "<span style=\"color: #800000; text-decoration-color: #800000\">│</span> <span style=\"color: #800000; text-decoration-color: #800000\">❱ </span>1 df_sectors_all.columns                                                                       <span style=\"color: #800000; text-decoration-color: #800000\">│</span>\n",
                            "<span style=\"color: #800000; text-decoration-color: #800000\">│</span>   <span style=\"color: #7f7f7f; text-decoration-color: #7f7f7f\">2 </span>                                                                                             <span style=\"color: #800000; text-decoration-color: #800000\">│</span>\n",
                            "<span style=\"color: #800000; text-decoration-color: #800000\">╰──────────────────────────────────────────────────────────────────────────────────────────────────╯</span>\n",
                            "<span style=\"color: #ff0000; text-decoration-color: #ff0000; font-weight: bold\">NameError: </span>name <span style=\"color: #008000; text-decoration-color: #008000\">'df_sectors_all'</span> is not defined\n",
                            "</pre>\n"
                        ],
                        "text/plain": [
                            "\u001b[31m╭─\u001b[0m\u001b[31m──────────────────────────────\u001b[0m\u001b[31m \u001b[0m\u001b[1;31mTraceback \u001b[0m\u001b[1;2;31m(most recent call last)\u001b[0m\u001b[31m \u001b[0m\u001b[31m───────────────────────────────\u001b[0m\u001b[31m─╮\u001b[0m\n",
                            "\u001b[31m│\u001b[0m in \u001b[92m<module>\u001b[0m:\u001b[94m1\u001b[0m                                                                                    \u001b[31m│\u001b[0m\n",
                            "\u001b[31m│\u001b[0m                                                                                                  \u001b[31m│\u001b[0m\n",
                            "\u001b[31m│\u001b[0m \u001b[31m❱ \u001b[0m1 df_sectors_all.columns                                                                       \u001b[31m│\u001b[0m\n",
                            "\u001b[31m│\u001b[0m   \u001b[2m2 \u001b[0m                                                                                             \u001b[31m│\u001b[0m\n",
                            "\u001b[31m╰──────────────────────────────────────────────────────────────────────────────────────────────────╯\u001b[0m\n",
                            "\u001b[1;91mNameError: \u001b[0mname \u001b[32m'df_sectors_all'\u001b[0m is not defined\n"
                        ]
                    },
                    "metadata": {},
                    "output_type": "display_data"
                }
            ],
            "source": [
                "df_sectors_all.columns\n"
            ]
        },
        {
            "cell_type": "code",
            "execution_count": 54,
            "metadata": {},
            "outputs": [
                {
                    "data": {
                        "text/html": [
                            "<pre style=\"white-space:pre;overflow-x:auto;line-height:normal;font-family:Menlo,'DejaVu Sans Mono',consolas,'Courier New',monospace\"><span style=\"color: #800000; text-decoration-color: #800000\">╭─────────────────────────────── </span><span style=\"color: #800000; text-decoration-color: #800000; font-weight: bold\">Traceback </span><span style=\"color: #bf7f7f; text-decoration-color: #bf7f7f; font-weight: bold\">(most recent call last)</span><span style=\"color: #800000; text-decoration-color: #800000\"> ────────────────────────────────╮</span>\n",
                            "<span style=\"color: #800000; text-decoration-color: #800000\">│</span> in <span style=\"color: #00ff00; text-decoration-color: #00ff00\">&lt;module&gt;</span>:<span style=\"color: #0000ff; text-decoration-color: #0000ff\">6</span>                                                                                    <span style=\"color: #800000; text-decoration-color: #800000\">│</span>\n",
                            "<span style=\"color: #800000; text-decoration-color: #800000\">│</span>                                                                                                  <span style=\"color: #800000; text-decoration-color: #800000\">│</span>\n",
                            "<span style=\"color: #800000; text-decoration-color: #800000\">│</span>   <span style=\"color: #7f7f7f; text-decoration-color: #7f7f7f\">3 </span><span style=\"color: #7f7f7f; text-decoration-color: #7f7f7f\">│   </span><span style=\"color: #0000ff; text-decoration-color: #0000ff\">if</span> <span style=\"color: #808000; text-decoration-color: #808000\">'SBI Sector Titles'</span> <span style=\"color: #ff00ff; text-decoration-color: #ff00ff\">not</span> <span style=\"color: #ff00ff; text-decoration-color: #ff00ff\">in</span> col                                                        <span style=\"color: #800000; text-decoration-color: #800000\">│</span>\n",
                            "<span style=\"color: #800000; text-decoration-color: #800000\">│</span>   <span style=\"color: #7f7f7f; text-decoration-color: #7f7f7f\">4 </span><span style=\"color: #7f7f7f; text-decoration-color: #7f7f7f\">│   </span><span style=\"color: #ff00ff; text-decoration-color: #ff00ff\">and</span> <span style=\"color: #808000; text-decoration-color: #808000\">'Total Workforce'</span> <span style=\"color: #ff00ff; text-decoration-color: #ff00ff\">not</span> <span style=\"color: #ff00ff; text-decoration-color: #ff00ff\">in</span> col                                                         <span style=\"color: #800000; text-decoration-color: #800000\">│</span>\n",
                            "<span style=\"color: #800000; text-decoration-color: #800000\">│</span>   <span style=\"color: #7f7f7f; text-decoration-color: #7f7f7f\">5 </span><span style=\"color: #7f7f7f; text-decoration-color: #7f7f7f\">│   </span><span style=\"color: #0000ff; text-decoration-color: #0000ff\">else</span> col[-<span style=\"color: #0000ff; text-decoration-color: #0000ff\">1</span>]                                                                             <span style=\"color: #800000; text-decoration-color: #800000\">│</span>\n",
                            "<span style=\"color: #800000; text-decoration-color: #800000\">│</span> <span style=\"color: #800000; text-decoration-color: #800000\">❱ </span>6 <span style=\"color: #7f7f7f; text-decoration-color: #7f7f7f\">│   </span><span style=\"color: #0000ff; text-decoration-color: #0000ff\">for</span> col <span style=\"color: #ff00ff; text-decoration-color: #ff00ff\">in</span> df_sectors_all.columns                                                        <span style=\"color: #800000; text-decoration-color: #800000\">│</span>\n",
                            "<span style=\"color: #800000; text-decoration-color: #800000\">│</span>   <span style=\"color: #7f7f7f; text-decoration-color: #7f7f7f\">7 </span>]                                                                                            <span style=\"color: #800000; text-decoration-color: #800000\">│</span>\n",
                            "<span style=\"color: #800000; text-decoration-color: #800000\">│</span>   <span style=\"color: #7f7f7f; text-decoration-color: #7f7f7f\">8 </span>                                                                                             <span style=\"color: #800000; text-decoration-color: #800000\">│</span>\n",
                            "<span style=\"color: #800000; text-decoration-color: #800000\">╰──────────────────────────────────────────────────────────────────────────────────────────────────╯</span>\n",
                            "<span style=\"color: #ff0000; text-decoration-color: #ff0000; font-weight: bold\">NameError: </span>name <span style=\"color: #008000; text-decoration-color: #008000\">'df_sectors_all'</span> is not defined\n",
                            "</pre>\n"
                        ],
                        "text/plain": [
                            "\u001b[31m╭─\u001b[0m\u001b[31m──────────────────────────────\u001b[0m\u001b[31m \u001b[0m\u001b[1;31mTraceback \u001b[0m\u001b[1;2;31m(most recent call last)\u001b[0m\u001b[31m \u001b[0m\u001b[31m───────────────────────────────\u001b[0m\u001b[31m─╮\u001b[0m\n",
                            "\u001b[31m│\u001b[0m in \u001b[92m<module>\u001b[0m:\u001b[94m6\u001b[0m                                                                                    \u001b[31m│\u001b[0m\n",
                            "\u001b[31m│\u001b[0m                                                                                                  \u001b[31m│\u001b[0m\n",
                            "\u001b[31m│\u001b[0m   \u001b[2m3 \u001b[0m\u001b[2m│   \u001b[0m\u001b[94mif\u001b[0m \u001b[33m'\u001b[0m\u001b[33mSBI Sector Titles\u001b[0m\u001b[33m'\u001b[0m \u001b[95mnot\u001b[0m \u001b[95min\u001b[0m col                                                        \u001b[31m│\u001b[0m\n",
                            "\u001b[31m│\u001b[0m   \u001b[2m4 \u001b[0m\u001b[2m│   \u001b[0m\u001b[95mand\u001b[0m \u001b[33m'\u001b[0m\u001b[33mTotal Workforce\u001b[0m\u001b[33m'\u001b[0m \u001b[95mnot\u001b[0m \u001b[95min\u001b[0m col                                                         \u001b[31m│\u001b[0m\n",
                            "\u001b[31m│\u001b[0m   \u001b[2m5 \u001b[0m\u001b[2m│   \u001b[0m\u001b[94melse\u001b[0m col[-\u001b[94m1\u001b[0m]                                                                             \u001b[31m│\u001b[0m\n",
                            "\u001b[31m│\u001b[0m \u001b[31m❱ \u001b[0m6 \u001b[2m│   \u001b[0m\u001b[94mfor\u001b[0m col \u001b[95min\u001b[0m df_sectors_all.columns                                                        \u001b[31m│\u001b[0m\n",
                            "\u001b[31m│\u001b[0m   \u001b[2m7 \u001b[0m]                                                                                            \u001b[31m│\u001b[0m\n",
                            "\u001b[31m│\u001b[0m   \u001b[2m8 \u001b[0m                                                                                             \u001b[31m│\u001b[0m\n",
                            "\u001b[31m╰──────────────────────────────────────────────────────────────────────────────────────────────────╯\u001b[0m\n",
                            "\u001b[1;91mNameError: \u001b[0mname \u001b[32m'df_sectors_all'\u001b[0m is not defined\n"
                        ]
                    },
                    "metadata": {},
                    "output_type": "display_data"
                }
            ],
            "source": [
                "df_sectors_all.columns = [\n",
                "    '_'.join(col)\n",
                "    if 'SBI Sector Titles' not in col\n",
                "    and 'Total Workforce' not in col\n",
                "    else col[-1]\n",
                "    for col in df_sectors_all.columns\n",
                "]\n"
            ]
        },
        {
            "cell_type": "code",
            "execution_count": 55,
            "metadata": {},
            "outputs": [
                {
                    "data": {
                        "text/html": [
                            "<pre style=\"white-space:pre;overflow-x:auto;line-height:normal;font-family:Menlo,'DejaVu Sans Mono',consolas,'Courier New',monospace\"><span style=\"color: #800000; text-decoration-color: #800000\">╭─────────────────────────────── </span><span style=\"color: #800000; text-decoration-color: #800000; font-weight: bold\">Traceback </span><span style=\"color: #bf7f7f; text-decoration-color: #bf7f7f; font-weight: bold\">(most recent call last)</span><span style=\"color: #800000; text-decoration-color: #800000\"> ────────────────────────────────╮</span>\n",
                            "<span style=\"color: #800000; text-decoration-color: #800000\">│</span> in <span style=\"color: #00ff00; text-decoration-color: #00ff00\">&lt;module&gt;</span>:<span style=\"color: #0000ff; text-decoration-color: #0000ff\">1</span>                                                                                    <span style=\"color: #800000; text-decoration-color: #800000\">│</span>\n",
                            "<span style=\"color: #800000; text-decoration-color: #800000\">│</span>                                                                                                  <span style=\"color: #800000; text-decoration-color: #800000\">│</span>\n",
                            "<span style=\"color: #800000; text-decoration-color: #800000\">│</span> <span style=\"color: #800000; text-decoration-color: #800000\">❱ </span> 1 df_sectors_all = df_sectors_all.rename(                                                     <span style=\"color: #800000; text-decoration-color: #800000\">│</span>\n",
                            "<span style=\"color: #800000; text-decoration-color: #800000\">│</span>   <span style=\"color: #7f7f7f; text-decoration-color: #7f7f7f\"> 2 </span><span style=\"color: #7f7f7f; text-decoration-color: #7f7f7f\">│   </span>columns={                                                                               <span style=\"color: #800000; text-decoration-color: #800000\">│</span>\n",
                            "<span style=\"color: #800000; text-decoration-color: #800000\">│</span>   <span style=\"color: #7f7f7f; text-decoration-color: #7f7f7f\"> 3 </span><span style=\"color: #7f7f7f; text-decoration-color: #7f7f7f\">│   │   </span><span style=\"color: #808000; text-decoration-color: #808000\">'Keywords'</span>: <span style=\"color: #808000; text-decoration-color: #808000\">'Search Keyword'</span>,                                                       <span style=\"color: #800000; text-decoration-color: #800000\">│</span>\n",
                            "<span style=\"color: #800000; text-decoration-color: #800000\">│</span>   <span style=\"color: #7f7f7f; text-decoration-color: #7f7f7f\"> 4 </span><span style=\"color: #7f7f7f; text-decoration-color: #7f7f7f\">│   │   </span><span style=\"color: #808000; text-decoration-color: #808000\">'Code'</span>: <span style=\"color: #808000; text-decoration-color: #808000\">'Sector Code'</span>,                                                              <span style=\"color: #800000; text-decoration-color: #800000\">│</span>\n",
                            "<span style=\"color: #800000; text-decoration-color: #800000\">╰──────────────────────────────────────────────────────────────────────────────────────────────────╯</span>\n",
                            "<span style=\"color: #ff0000; text-decoration-color: #ff0000; font-weight: bold\">NameError: </span>name <span style=\"color: #008000; text-decoration-color: #008000\">'df_sectors_all'</span> is not defined\n",
                            "</pre>\n"
                        ],
                        "text/plain": [
                            "\u001b[31m╭─\u001b[0m\u001b[31m──────────────────────────────\u001b[0m\u001b[31m \u001b[0m\u001b[1;31mTraceback \u001b[0m\u001b[1;2;31m(most recent call last)\u001b[0m\u001b[31m \u001b[0m\u001b[31m───────────────────────────────\u001b[0m\u001b[31m─╮\u001b[0m\n",
                            "\u001b[31m│\u001b[0m in \u001b[92m<module>\u001b[0m:\u001b[94m1\u001b[0m                                                                                    \u001b[31m│\u001b[0m\n",
                            "\u001b[31m│\u001b[0m                                                                                                  \u001b[31m│\u001b[0m\n",
                            "\u001b[31m│\u001b[0m \u001b[31m❱ \u001b[0m 1 df_sectors_all = df_sectors_all.rename(                                                     \u001b[31m│\u001b[0m\n",
                            "\u001b[31m│\u001b[0m   \u001b[2m 2 \u001b[0m\u001b[2m│   \u001b[0mcolumns={                                                                               \u001b[31m│\u001b[0m\n",
                            "\u001b[31m│\u001b[0m   \u001b[2m 3 \u001b[0m\u001b[2m│   │   \u001b[0m\u001b[33m'\u001b[0m\u001b[33mKeywords\u001b[0m\u001b[33m'\u001b[0m: \u001b[33m'\u001b[0m\u001b[33mSearch Keyword\u001b[0m\u001b[33m'\u001b[0m,                                                       \u001b[31m│\u001b[0m\n",
                            "\u001b[31m│\u001b[0m   \u001b[2m 4 \u001b[0m\u001b[2m│   │   \u001b[0m\u001b[33m'\u001b[0m\u001b[33mCode\u001b[0m\u001b[33m'\u001b[0m: \u001b[33m'\u001b[0m\u001b[33mSector Code\u001b[0m\u001b[33m'\u001b[0m,                                                              \u001b[31m│\u001b[0m\n",
                            "\u001b[31m╰──────────────────────────────────────────────────────────────────────────────────────────────────╯\u001b[0m\n",
                            "\u001b[1;91mNameError: \u001b[0mname \u001b[32m'df_sectors_all'\u001b[0m is not defined\n"
                        ]
                    },
                    "metadata": {},
                    "output_type": "display_data"
                }
            ],
            "source": [
                "df_sectors_all = df_sectors_all.rename(\n",
                "    columns={\n",
                "        'Keywords': 'Search Keyword',\n",
                "        'Code': 'Sector Code',\n",
                "        'Sector Name': 'Sector',\n",
                "        'Gender_Sectoral Gender Segregation_Dominant Category': 'Gender',\n",
                "        'Age_Sectoral Age Segregation_Dominant Category': 'Age',\n",
                "        'n': 'Sector_n',\n",
                "    },\n",
                ")\n",
                "df_sectors_all = df_sectors_all.rename(columns={element: re.sub(r' \\(\\W*45 years\\)', '', element) for element in df_sectors_all.columns.tolist()})\n"
            ]
        },
        {
            "cell_type": "code",
            "execution_count": 56,
            "metadata": {},
            "outputs": [
                {
                    "data": {
                        "text/html": [
                            "<pre style=\"white-space:pre;overflow-x:auto;line-height:normal;font-family:Menlo,'DejaVu Sans Mono',consolas,'Courier New',monospace\"><span style=\"color: #800000; text-decoration-color: #800000\">╭─────────────────────────────── </span><span style=\"color: #800000; text-decoration-color: #800000; font-weight: bold\">Traceback </span><span style=\"color: #bf7f7f; text-decoration-color: #bf7f7f; font-weight: bold\">(most recent call last)</span><span style=\"color: #800000; text-decoration-color: #800000\"> ────────────────────────────────╮</span>\n",
                            "<span style=\"color: #800000; text-decoration-color: #800000\">│</span> in <span style=\"color: #00ff00; text-decoration-color: #00ff00\">&lt;module&gt;</span>:<span style=\"color: #0000ff; text-decoration-color: #0000ff\">1</span>                                                                                    <span style=\"color: #800000; text-decoration-color: #800000\">│</span>\n",
                            "<span style=\"color: #800000; text-decoration-color: #800000\">│</span>                                                                                                  <span style=\"color: #800000; text-decoration-color: #800000\">│</span>\n",
                            "<span style=\"color: #800000; text-decoration-color: #800000\">│</span> <span style=\"color: #800000; text-decoration-color: #800000\">❱ </span>1 df_sectors_all.columns                                                                       <span style=\"color: #800000; text-decoration-color: #800000\">│</span>\n",
                            "<span style=\"color: #800000; text-decoration-color: #800000\">│</span>   <span style=\"color: #7f7f7f; text-decoration-color: #7f7f7f\">2 </span>                                                                                             <span style=\"color: #800000; text-decoration-color: #800000\">│</span>\n",
                            "<span style=\"color: #800000; text-decoration-color: #800000\">╰──────────────────────────────────────────────────────────────────────────────────────────────────╯</span>\n",
                            "<span style=\"color: #ff0000; text-decoration-color: #ff0000; font-weight: bold\">NameError: </span>name <span style=\"color: #008000; text-decoration-color: #008000\">'df_sectors_all'</span> is not defined\n",
                            "</pre>\n"
                        ],
                        "text/plain": [
                            "\u001b[31m╭─\u001b[0m\u001b[31m──────────────────────────────\u001b[0m\u001b[31m \u001b[0m\u001b[1;31mTraceback \u001b[0m\u001b[1;2;31m(most recent call last)\u001b[0m\u001b[31m \u001b[0m\u001b[31m───────────────────────────────\u001b[0m\u001b[31m─╮\u001b[0m\n",
                            "\u001b[31m│\u001b[0m in \u001b[92m<module>\u001b[0m:\u001b[94m1\u001b[0m                                                                                    \u001b[31m│\u001b[0m\n",
                            "\u001b[31m│\u001b[0m                                                                                                  \u001b[31m│\u001b[0m\n",
                            "\u001b[31m│\u001b[0m \u001b[31m❱ \u001b[0m1 df_sectors_all.columns                                                                       \u001b[31m│\u001b[0m\n",
                            "\u001b[31m│\u001b[0m   \u001b[2m2 \u001b[0m                                                                                             \u001b[31m│\u001b[0m\n",
                            "\u001b[31m╰──────────────────────────────────────────────────────────────────────────────────────────────────╯\u001b[0m\n",
                            "\u001b[1;91mNameError: \u001b[0mname \u001b[32m'df_sectors_all'\u001b[0m is not defined\n"
                        ]
                    },
                    "metadata": {},
                    "output_type": "display_data"
                }
            ],
            "source": [
                "df_sectors_all.columns\n"
            ]
        },
        {
            "cell_type": "code",
            "execution_count": 57,
            "metadata": {},
            "outputs": [
                {
                    "data": {
                        "text/html": [
                            "<pre style=\"white-space:pre;overflow-x:auto;line-height:normal;font-family:Menlo,'DejaVu Sans Mono',consolas,'Courier New',monospace\"><span style=\"color: #800000; text-decoration-color: #800000\">╭─────────────────────────────── </span><span style=\"color: #800000; text-decoration-color: #800000; font-weight: bold\">Traceback </span><span style=\"color: #bf7f7f; text-decoration-color: #bf7f7f; font-weight: bold\">(most recent call last)</span><span style=\"color: #800000; text-decoration-color: #800000\"> ────────────────────────────────╮</span>\n",
                            "<span style=\"color: #800000; text-decoration-color: #800000\">│</span> in <span style=\"color: #00ff00; text-decoration-color: #00ff00\">&lt;module&gt;</span>:<span style=\"color: #0000ff; text-decoration-color: #0000ff\">1</span>                                                                                    <span style=\"color: #800000; text-decoration-color: #800000\">│</span>\n",
                            "<span style=\"color: #800000; text-decoration-color: #800000\">│</span>                                                                                                  <span style=\"color: #800000; text-decoration-color: #800000\">│</span>\n",
                            "<span style=\"color: #800000; text-decoration-color: #800000\">│</span> <span style=\"color: #800000; text-decoration-color: #800000\">❱ </span>1 df_sectors_all = df_sectors_all.explode(                                                     <span style=\"color: #800000; text-decoration-color: #800000\">│</span>\n",
                            "<span style=\"color: #800000; text-decoration-color: #800000\">│</span>   <span style=\"color: #7f7f7f; text-decoration-color: #7f7f7f\">2 </span><span style=\"color: #7f7f7f; text-decoration-color: #7f7f7f\">│   </span><span style=\"color: #808000; text-decoration-color: #808000\">'Search Keyword'</span>, ignore_index=<span style=\"color: #0000ff; text-decoration-color: #0000ff\">True</span>                                                      <span style=\"color: #800000; text-decoration-color: #800000\">│</span>\n",
                            "<span style=\"color: #800000; text-decoration-color: #800000\">│</span>   <span style=\"color: #7f7f7f; text-decoration-color: #7f7f7f\">3 </span>)                                                                                            <span style=\"color: #800000; text-decoration-color: #800000\">│</span>\n",
                            "<span style=\"color: #800000; text-decoration-color: #800000\">│</span>   <span style=\"color: #7f7f7f; text-decoration-color: #7f7f7f\">4 </span>                                                                                             <span style=\"color: #800000; text-decoration-color: #800000\">│</span>\n",
                            "<span style=\"color: #800000; text-decoration-color: #800000\">╰──────────────────────────────────────────────────────────────────────────────────────────────────╯</span>\n",
                            "<span style=\"color: #ff0000; text-decoration-color: #ff0000; font-weight: bold\">NameError: </span>name <span style=\"color: #008000; text-decoration-color: #008000\">'df_sectors_all'</span> is not defined\n",
                            "</pre>\n"
                        ],
                        "text/plain": [
                            "\u001b[31m╭─\u001b[0m\u001b[31m──────────────────────────────\u001b[0m\u001b[31m \u001b[0m\u001b[1;31mTraceback \u001b[0m\u001b[1;2;31m(most recent call last)\u001b[0m\u001b[31m \u001b[0m\u001b[31m───────────────────────────────\u001b[0m\u001b[31m─╮\u001b[0m\n",
                            "\u001b[31m│\u001b[0m in \u001b[92m<module>\u001b[0m:\u001b[94m1\u001b[0m                                                                                    \u001b[31m│\u001b[0m\n",
                            "\u001b[31m│\u001b[0m                                                                                                  \u001b[31m│\u001b[0m\n",
                            "\u001b[31m│\u001b[0m \u001b[31m❱ \u001b[0m1 df_sectors_all = df_sectors_all.explode(                                                     \u001b[31m│\u001b[0m\n",
                            "\u001b[31m│\u001b[0m   \u001b[2m2 \u001b[0m\u001b[2m│   \u001b[0m\u001b[33m'\u001b[0m\u001b[33mSearch Keyword\u001b[0m\u001b[33m'\u001b[0m, ignore_index=\u001b[94mTrue\u001b[0m                                                      \u001b[31m│\u001b[0m\n",
                            "\u001b[31m│\u001b[0m   \u001b[2m3 \u001b[0m)                                                                                            \u001b[31m│\u001b[0m\n",
                            "\u001b[31m│\u001b[0m   \u001b[2m4 \u001b[0m                                                                                             \u001b[31m│\u001b[0m\n",
                            "\u001b[31m╰──────────────────────────────────────────────────────────────────────────────────────────────────╯\u001b[0m\n",
                            "\u001b[1;91mNameError: \u001b[0mname \u001b[32m'df_sectors_all'\u001b[0m is not defined\n"
                        ]
                    },
                    "metadata": {},
                    "output_type": "display_data"
                }
            ],
            "source": [
                "df_sectors_all = df_sectors_all.explode(\n",
                "    'Search Keyword', ignore_index=True\n",
                ")\n"
            ]
        },
        {
            "cell_type": "code",
            "execution_count": 58,
            "metadata": {},
            "outputs": [
                {
                    "data": {
                        "text/html": [
                            "<pre style=\"white-space:pre;overflow-x:auto;line-height:normal;font-family:Menlo,'DejaVu Sans Mono',consolas,'Courier New',monospace\"><span style=\"color: #800000; text-decoration-color: #800000\">╭─────────────────────────────── </span><span style=\"color: #800000; text-decoration-color: #800000; font-weight: bold\">Traceback </span><span style=\"color: #bf7f7f; text-decoration-color: #bf7f7f; font-weight: bold\">(most recent call last)</span><span style=\"color: #800000; text-decoration-color: #800000\"> ────────────────────────────────╮</span>\n",
                            "<span style=\"color: #800000; text-decoration-color: #800000\">│</span> in <span style=\"color: #00ff00; text-decoration-color: #00ff00\">&lt;module&gt;</span>:<span style=\"color: #0000ff; text-decoration-color: #0000ff\">1</span>                                                                                    <span style=\"color: #800000; text-decoration-color: #800000\">│</span>\n",
                            "<span style=\"color: #800000; text-decoration-color: #800000\">│</span>                                                                                                  <span style=\"color: #800000; text-decoration-color: #800000\">│</span>\n",
                            "<span style=\"color: #800000; text-decoration-color: #800000\">│</span> <span style=\"color: #800000; text-decoration-color: #800000\">❱ </span>1 df_sectors_all.columns                                                                       <span style=\"color: #800000; text-decoration-color: #800000\">│</span>\n",
                            "<span style=\"color: #800000; text-decoration-color: #800000\">│</span>   <span style=\"color: #7f7f7f; text-decoration-color: #7f7f7f\">2 </span>                                                                                             <span style=\"color: #800000; text-decoration-color: #800000\">│</span>\n",
                            "<span style=\"color: #800000; text-decoration-color: #800000\">╰──────────────────────────────────────────────────────────────────────────────────────────────────╯</span>\n",
                            "<span style=\"color: #ff0000; text-decoration-color: #ff0000; font-weight: bold\">NameError: </span>name <span style=\"color: #008000; text-decoration-color: #008000\">'df_sectors_all'</span> is not defined\n",
                            "</pre>\n"
                        ],
                        "text/plain": [
                            "\u001b[31m╭─\u001b[0m\u001b[31m──────────────────────────────\u001b[0m\u001b[31m \u001b[0m\u001b[1;31mTraceback \u001b[0m\u001b[1;2;31m(most recent call last)\u001b[0m\u001b[31m \u001b[0m\u001b[31m───────────────────────────────\u001b[0m\u001b[31m─╮\u001b[0m\n",
                            "\u001b[31m│\u001b[0m in \u001b[92m<module>\u001b[0m:\u001b[94m1\u001b[0m                                                                                    \u001b[31m│\u001b[0m\n",
                            "\u001b[31m│\u001b[0m                                                                                                  \u001b[31m│\u001b[0m\n",
                            "\u001b[31m│\u001b[0m \u001b[31m❱ \u001b[0m1 df_sectors_all.columns                                                                       \u001b[31m│\u001b[0m\n",
                            "\u001b[31m│\u001b[0m   \u001b[2m2 \u001b[0m                                                                                             \u001b[31m│\u001b[0m\n",
                            "\u001b[31m╰──────────────────────────────────────────────────────────────────────────────────────────────────╯\u001b[0m\n",
                            "\u001b[1;91mNameError: \u001b[0mname \u001b[32m'df_sectors_all'\u001b[0m is not defined\n"
                        ]
                    },
                    "metadata": {},
                    "output_type": "display_data"
                }
            ],
            "source": [
                "df_sectors_all.columns\n"
            ]
        },
        {
            "cell_type": "code",
            "execution_count": 59,
            "metadata": {},
            "outputs": [
                {
                    "data": {
                        "text/html": [
                            "<pre style=\"white-space:pre;overflow-x:auto;line-height:normal;font-family:Menlo,'DejaVu Sans Mono',consolas,'Courier New',monospace\"><span style=\"color: #800000; text-decoration-color: #800000\">╭─────────────────────────────── </span><span style=\"color: #800000; text-decoration-color: #800000; font-weight: bold\">Traceback </span><span style=\"color: #bf7f7f; text-decoration-color: #bf7f7f; font-weight: bold\">(most recent call last)</span><span style=\"color: #800000; text-decoration-color: #800000\"> ────────────────────────────────╮</span>\n",
                            "<span style=\"color: #800000; text-decoration-color: #800000\">│</span> in <span style=\"color: #00ff00; text-decoration-color: #00ff00\">&lt;module&gt;</span>:<span style=\"color: #0000ff; text-decoration-color: #0000ff\">2</span>                                                                                    <span style=\"color: #800000; text-decoration-color: #800000\">│</span>\n",
                            "<span style=\"color: #800000; text-decoration-color: #800000\">│</span>                                                                                                  <span style=\"color: #800000; text-decoration-color: #800000\">│</span>\n",
                            "<span style=\"color: #800000; text-decoration-color: #800000\">│</span>   <span style=\"color: #7f7f7f; text-decoration-color: #7f7f7f\">1 # len 101</span>                                                                                    <span style=\"color: #800000; text-decoration-color: #800000\">│</span>\n",
                            "<span style=\"color: #800000; text-decoration-color: #800000\">│</span> <span style=\"color: #800000; text-decoration-color: #800000\">❱ </span>2 <span style=\"color: #00ffff; text-decoration-color: #00ffff\">len</span>(df_sectors_all)                                                                          <span style=\"color: #800000; text-decoration-color: #800000\">│</span>\n",
                            "<span style=\"color: #800000; text-decoration-color: #800000\">│</span>   <span style=\"color: #7f7f7f; text-decoration-color: #7f7f7f\">3 </span>                                                                                             <span style=\"color: #800000; text-decoration-color: #800000\">│</span>\n",
                            "<span style=\"color: #800000; text-decoration-color: #800000\">╰──────────────────────────────────────────────────────────────────────────────────────────────────╯</span>\n",
                            "<span style=\"color: #ff0000; text-decoration-color: #ff0000; font-weight: bold\">NameError: </span>name <span style=\"color: #008000; text-decoration-color: #008000\">'df_sectors_all'</span> is not defined\n",
                            "</pre>\n"
                        ],
                        "text/plain": [
                            "\u001b[31m╭─\u001b[0m\u001b[31m──────────────────────────────\u001b[0m\u001b[31m \u001b[0m\u001b[1;31mTraceback \u001b[0m\u001b[1;2;31m(most recent call last)\u001b[0m\u001b[31m \u001b[0m\u001b[31m───────────────────────────────\u001b[0m\u001b[31m─╮\u001b[0m\n",
                            "\u001b[31m│\u001b[0m in \u001b[92m<module>\u001b[0m:\u001b[94m2\u001b[0m                                                                                    \u001b[31m│\u001b[0m\n",
                            "\u001b[31m│\u001b[0m                                                                                                  \u001b[31m│\u001b[0m\n",
                            "\u001b[31m│\u001b[0m   \u001b[2m1 \u001b[0m\u001b[2m# len 101\u001b[0m                                                                                    \u001b[31m│\u001b[0m\n",
                            "\u001b[31m│\u001b[0m \u001b[31m❱ \u001b[0m2 \u001b[96mlen\u001b[0m(df_sectors_all)                                                                          \u001b[31m│\u001b[0m\n",
                            "\u001b[31m│\u001b[0m   \u001b[2m3 \u001b[0m                                                                                             \u001b[31m│\u001b[0m\n",
                            "\u001b[31m╰──────────────────────────────────────────────────────────────────────────────────────────────────╯\u001b[0m\n",
                            "\u001b[1;91mNameError: \u001b[0mname \u001b[32m'df_sectors_all'\u001b[0m is not defined\n"
                        ]
                    },
                    "metadata": {},
                    "output_type": "display_data"
                }
            ],
            "source": [
                "# len 101\n",
                "len(df_sectors_all)\n"
            ]
        },
        {
            "attachments": {},
            "cell_type": "markdown",
            "metadata": {},
            "source": [
                "#### Before adding sector data, make sure keywords are correct as to not have any missing sector data when merging"
            ]
        },
        {
            "cell_type": "code",
            "execution_count": 60,
            "metadata": {},
            "outputs": [],
            "source": [
                "# This is a manually collected dictionary of incorrect/faulty keywords in scraped site data\n",
                "with open(f'{scraped_data}CBS/Data/keyword_trans_dict.txt') as f:\n",
                "    keyword_trans_dict = json.load(f)\n",
                "\n",
                "def fix_keywords(df_temp):\n",
                "\n",
                "    if len(df_temp) > 0 and isinstance(df_temp, pd.DataFrame):\n",
                "        for key, value in keyword_trans_dict.items():\n",
                "            df_temp.loc[\n",
                "                df_temp[df_temp['Search Keyword'].notnull()]['Search Keyword'].astype(str).progress_apply(\n",
                "                lambda x: x.lower().strip()\n",
                "                ) == str(key).lower().strip(), 'Search Keyword'\n",
                "            ] = str(value).lower().strip()\n",
                "\n",
                "        unfixed = df_temp.loc[\n",
                "            df_temp[df_temp['Search Keyword'].notnull()]['Search Keyword'].astype(str).progress_apply(lambda x: x.lower().strip()).isin([x.lower().strip() for x in list(keyword_trans_dict.keys())])\n",
                "        ]\n",
                "\n",
                "        if len(unfixed) != 0:\n",
                "            for key, value in keyword_trans_dict.items():\n",
                "                for idx, row in df_temp.iterrows():\n",
                "                    if row['Search Keyword'].astype(str).lower().strip() == str(key).lower().strip():\n",
                "                        df_temp.loc[idx, 'Search Keyword'] = str(value).lower().strip()\n",
                "\n",
                "        unfixed = df_temp.loc[\n",
                "                df_temp[df_temp['Search Keyword'].notnull()]['Search Keyword'].astype(str).progress_apply(lambda x: x.lower().strip()).isin([x.lower().strip() for x in list(keyword_trans_dict.keys())])\n",
                "            ]\n",
                "        if len(unfixed) != 0:\n",
                "            print('Some keywords were not fixed. Please check file unfixed_keywords.txt in data directory.')\n",
                "            with open(f'{data_dir}unfixed_keywords.txt', 'w') as f:\n",
                "                json.dump(unfixed, f)\n",
                "\n",
                "    return df_temp\n",
                "\n",
                "# Fix keywords\n",
                "if len(df_jobs['Search Keyword'].loc[df_jobs['Search Keyword'].isin(list(keyword_trans_dict.keys()))]) != 0:\n",
                "    print('Some search keywords did not match a sector. Fixing')\n",
                "#     print(set(df_jobs['Search Keyword'].loc[df_jobs['Sector'].isna()].to_list()))\n",
                "    print(len(df_jobs['Search Keyword'].loc[df_jobs['Search Keyword'].isin(list(keyword_trans_dict.keys()))]))\n",
                "    df_jobs = fix_keywords(df_jobs)\n",
                "#     print(set(df_jobs['Search Keyword'].loc[df_jobs['Sector'].isna()].to_list()))\n",
                "    print(len(df_jobs['Search Keyword'].loc[df_jobs['Search Keyword'].isin(list(keyword_trans_dict.keys()))]))\n"
            ]
        },
        {
            "cell_type": "code",
            "execution_count": 61,
            "metadata": {},
            "outputs": [
                {
                    "data": {
                        "text/html": [
                            "<pre style=\"white-space:pre;overflow-x:auto;line-height:normal;font-family:Menlo,'DejaVu Sans Mono',consolas,'Courier New',monospace\"><span style=\"color: #800000; text-decoration-color: #800000\">╭─────────────────────────────── </span><span style=\"color: #800000; text-decoration-color: #800000; font-weight: bold\">Traceback </span><span style=\"color: #bf7f7f; text-decoration-color: #bf7f7f; font-weight: bold\">(most recent call last)</span><span style=\"color: #800000; text-decoration-color: #800000\"> ────────────────────────────────╮</span>\n",
                            "<span style=\"color: #800000; text-decoration-color: #800000\">│</span> in <span style=\"color: #00ff00; text-decoration-color: #00ff00\">&lt;module&gt;</span>:<span style=\"color: #0000ff; text-decoration-color: #0000ff\">1</span>                                                                                    <span style=\"color: #800000; text-decoration-color: #800000\">│</span>\n",
                            "<span style=\"color: #800000; text-decoration-color: #800000\">│</span>                                                                                                  <span style=\"color: #800000; text-decoration-color: #800000\">│</span>\n",
                            "<span style=\"color: #800000; text-decoration-color: #800000\">│</span> <span style=\"color: #800000; text-decoration-color: #800000\">❱ </span>1 df_jobs = df_jobs.merge(df_sectors_all, on=<span style=\"color: #808000; text-decoration-color: #808000\">'Search Keyword'</span>, how=<span style=\"color: #808000; text-decoration-color: #808000\">'left'</span>)                     <span style=\"color: #800000; text-decoration-color: #800000\">│</span>\n",
                            "<span style=\"color: #800000; text-decoration-color: #800000\">│</span>   <span style=\"color: #7f7f7f; text-decoration-color: #7f7f7f\">2 </span>                                                                                             <span style=\"color: #800000; text-decoration-color: #800000\">│</span>\n",
                            "<span style=\"color: #800000; text-decoration-color: #800000\">╰──────────────────────────────────────────────────────────────────────────────────────────────────╯</span>\n",
                            "<span style=\"color: #ff0000; text-decoration-color: #ff0000; font-weight: bold\">NameError: </span>name <span style=\"color: #008000; text-decoration-color: #008000\">'df_sectors_all'</span> is not defined\n",
                            "</pre>\n"
                        ],
                        "text/plain": [
                            "\u001b[31m╭─\u001b[0m\u001b[31m──────────────────────────────\u001b[0m\u001b[31m \u001b[0m\u001b[1;31mTraceback \u001b[0m\u001b[1;2;31m(most recent call last)\u001b[0m\u001b[31m \u001b[0m\u001b[31m───────────────────────────────\u001b[0m\u001b[31m─╮\u001b[0m\n",
                            "\u001b[31m│\u001b[0m in \u001b[92m<module>\u001b[0m:\u001b[94m1\u001b[0m                                                                                    \u001b[31m│\u001b[0m\n",
                            "\u001b[31m│\u001b[0m                                                                                                  \u001b[31m│\u001b[0m\n",
                            "\u001b[31m│\u001b[0m \u001b[31m❱ \u001b[0m1 df_jobs = df_jobs.merge(df_sectors_all, on=\u001b[33m'\u001b[0m\u001b[33mSearch Keyword\u001b[0m\u001b[33m'\u001b[0m, how=\u001b[33m'\u001b[0m\u001b[33mleft\u001b[0m\u001b[33m'\u001b[0m)                     \u001b[31m│\u001b[0m\n",
                            "\u001b[31m│\u001b[0m   \u001b[2m2 \u001b[0m                                                                                             \u001b[31m│\u001b[0m\n",
                            "\u001b[31m╰──────────────────────────────────────────────────────────────────────────────────────────────────╯\u001b[0m\n",
                            "\u001b[1;91mNameError: \u001b[0mname \u001b[32m'df_sectors_all'\u001b[0m is not defined\n"
                        ]
                    },
                    "metadata": {},
                    "output_type": "display_data"
                }
            ],
            "source": [
                "df_jobs = df_jobs.merge(df_sectors_all, on='Search Keyword', how='left')\n"
            ]
        },
        {
            "cell_type": "code",
            "execution_count": 62,
            "metadata": {},
            "outputs": [
                {
                    "data": {
                        "text/plain": [
                            "17593"
                        ]
                    },
                    "execution_count": 62,
                    "metadata": {},
                    "output_type": "execute_result"
                }
            ],
            "source": [
                "# 17593\n",
                "len(df_jobs)\n"
            ]
        },
        {
            "cell_type": "code",
            "execution_count": 63,
            "metadata": {},
            "outputs": [
                {
                    "name": "stdout",
                    "output_type": "stream",
                    "text": [
                        "<class 'pandas.core.frame.DataFrame'>\n",
                        "Index: 17593 entries, 0 to 62535\n",
                        "Data columns (total 26 columns):\n",
                        " #   Column                             Non-Null Count  Dtype   \n",
                        "---  ------                             --------------  -----   \n",
                        " 0   Search Keyword                     17593 non-null  object  \n",
                        " 1   Platform                           17593 non-null  object  \n",
                        " 2   Job ID                             17593 non-null  object  \n",
                        " 3   Job Title                          17593 non-null  object  \n",
                        " 4   Company Name                       17591 non-null  object  \n",
                        " 5   Location                           17593 non-null  object  \n",
                        " 6   Job Description                    17593 non-null  object  \n",
                        " 7   Rating                             3780 non-null   float64 \n",
                        " 8   Employment Type                    17011 non-null  object  \n",
                        " 9   Company URL                        15954 non-null  object  \n",
                        " 10  Job URL                            17593 non-null  object  \n",
                        " 11  Job Age                            17593 non-null  object  \n",
                        " 12  Job Age Number                     17593 non-null  object  \n",
                        " 13  Collection Date                    17593 non-null  object  \n",
                        " 14  Data Row                           13810 non-null  float64 \n",
                        " 15  Tracking ID                        13810 non-null  object  \n",
                        " 16  Industry                           14395 non-null  object  \n",
                        " 17  Job Date                           13813 non-null  object  \n",
                        " 18  Type of ownership                  582 non-null    object  \n",
                        " 19  Language                           17593 non-null  object  \n",
                        " 20  Dutch Requirement in Job Ad        17593 non-null  category\n",
                        " 21  English Requirement in Job Ad      17593 non-null  category\n",
                        " 22  Dutch Requirement in Job Ad_No     17593 non-null  int64   \n",
                        " 23  Dutch Requirement in Job Ad_Yes    17593 non-null  int64   \n",
                        " 24  English Requirement in Job Ad_No   17593 non-null  int64   \n",
                        " 25  English Requirement in Job Ad_Yes  17593 non-null  int64   \n",
                        "dtypes: category(2), float64(2), int64(4), object(18)\n",
                        "memory usage: 3.4+ MB\n"
                    ]
                }
            ],
            "source": [
                "df_jobs.info()\n"
            ]
        },
        {
            "attachments": {},
            "cell_type": "markdown",
            "metadata": {},
            "source": [
                "#### Check if there is any missing sector data in the merged dataframe"
            ]
        },
        {
            "cell_type": "code",
            "execution_count": 64,
            "metadata": {},
            "outputs": [
                {
                    "data": {
                        "text/html": [
                            "<pre style=\"white-space:pre;overflow-x:auto;line-height:normal;font-family:Menlo,'DejaVu Sans Mono',consolas,'Courier New',monospace\"><span style=\"color: #800000; text-decoration-color: #800000\">╭─────────────────────────────── </span><span style=\"color: #800000; text-decoration-color: #800000; font-weight: bold\">Traceback </span><span style=\"color: #bf7f7f; text-decoration-color: #bf7f7f; font-weight: bold\">(most recent call last)</span><span style=\"color: #800000; text-decoration-color: #800000\"> ────────────────────────────────╮</span>\n",
                            "<span style=\"color: #800000; text-decoration-color: #800000\">│</span> <span style=\"color: #bfbf7f; text-decoration-color: #bfbf7f\">/opt/homebrew/Caskroom/mambaforge/base/envs/Automating_Equity1/lib/python3.10/site-packages/pand</span> <span style=\"color: #800000; text-decoration-color: #800000\">│</span>\n",
                            "<span style=\"color: #800000; text-decoration-color: #800000\">│</span> <span style=\"color: #bfbf7f; text-decoration-color: #bfbf7f\">as/core/indexes/</span><span style=\"color: #808000; text-decoration-color: #808000; font-weight: bold\">base.py</span>:<span style=\"color: #0000ff; text-decoration-color: #0000ff\">3653</span> in <span style=\"color: #00ff00; text-decoration-color: #00ff00\">get_loc</span>                                                          <span style=\"color: #800000; text-decoration-color: #800000\">│</span>\n",
                            "<span style=\"color: #800000; text-decoration-color: #800000\">│</span>                                                                                                  <span style=\"color: #800000; text-decoration-color: #800000\">│</span>\n",
                            "<span style=\"color: #800000; text-decoration-color: #800000\">│</span>   <span style=\"color: #7f7f7f; text-decoration-color: #7f7f7f\">3650 </span><span style=\"color: #bfbf7f; text-decoration-color: #bfbf7f\">│   │   </span><span style=\"color: #808000; text-decoration-color: #808000\">\"\"\"</span>                                                                               <span style=\"color: #800000; text-decoration-color: #800000\">│</span>\n",
                            "<span style=\"color: #800000; text-decoration-color: #800000\">│</span>   <span style=\"color: #7f7f7f; text-decoration-color: #7f7f7f\">3651 </span><span style=\"color: #7f7f7f; text-decoration-color: #7f7f7f\">│   │   </span>casted_key = <span style=\"color: #00ffff; text-decoration-color: #00ffff\">self</span>._maybe_cast_indexer(key)                                        <span style=\"color: #800000; text-decoration-color: #800000\">│</span>\n",
                            "<span style=\"color: #800000; text-decoration-color: #800000\">│</span>   <span style=\"color: #7f7f7f; text-decoration-color: #7f7f7f\">3652 </span><span style=\"color: #7f7f7f; text-decoration-color: #7f7f7f\">│   │   </span><span style=\"color: #0000ff; text-decoration-color: #0000ff\">try</span>:                                                                              <span style=\"color: #800000; text-decoration-color: #800000\">│</span>\n",
                            "<span style=\"color: #800000; text-decoration-color: #800000\">│</span> <span style=\"color: #800000; text-decoration-color: #800000\">❱ </span>3653 <span style=\"color: #7f7f7f; text-decoration-color: #7f7f7f\">│   │   │   </span><span style=\"color: #0000ff; text-decoration-color: #0000ff\">return</span> <span style=\"color: #00ffff; text-decoration-color: #00ffff\">self</span>._engine.get_loc(casted_key)                                       <span style=\"color: #800000; text-decoration-color: #800000\">│</span>\n",
                            "<span style=\"color: #800000; text-decoration-color: #800000\">│</span>   <span style=\"color: #7f7f7f; text-decoration-color: #7f7f7f\">3654 </span><span style=\"color: #7f7f7f; text-decoration-color: #7f7f7f\">│   │   </span><span style=\"color: #0000ff; text-decoration-color: #0000ff\">except</span> <span style=\"color: #00ffff; text-decoration-color: #00ffff\">KeyError</span> <span style=\"color: #0000ff; text-decoration-color: #0000ff\">as</span> err:                                                           <span style=\"color: #800000; text-decoration-color: #800000\">│</span>\n",
                            "<span style=\"color: #800000; text-decoration-color: #800000\">│</span>   <span style=\"color: #7f7f7f; text-decoration-color: #7f7f7f\">3655 </span><span style=\"color: #7f7f7f; text-decoration-color: #7f7f7f\">│   │   │   </span><span style=\"color: #0000ff; text-decoration-color: #0000ff\">raise</span> <span style=\"color: #00ffff; text-decoration-color: #00ffff\">KeyError</span>(key) <span style=\"color: #0000ff; text-decoration-color: #0000ff\">from</span> <span style=\"color: #00ffff; text-decoration-color: #00ffff; text-decoration: underline\">err</span>                                                  <span style=\"color: #800000; text-decoration-color: #800000\">│</span>\n",
                            "<span style=\"color: #800000; text-decoration-color: #800000\">│</span>   <span style=\"color: #7f7f7f; text-decoration-color: #7f7f7f\">3656 </span><span style=\"color: #7f7f7f; text-decoration-color: #7f7f7f\">│   │   </span><span style=\"color: #0000ff; text-decoration-color: #0000ff\">except</span> <span style=\"color: #00ffff; text-decoration-color: #00ffff\">TypeError</span>:                                                                 <span style=\"color: #800000; text-decoration-color: #800000\">│</span>\n",
                            "<span style=\"color: #800000; text-decoration-color: #800000\">│</span>                                                                                                  <span style=\"color: #800000; text-decoration-color: #800000\">│</span>\n",
                            "<span style=\"color: #800000; text-decoration-color: #800000\">│</span> in <span style=\"color: #00ff00; text-decoration-color: #00ff00\">pandas._libs.index.IndexEngine.get_loc</span>:<span style=\"color: #0000ff; text-decoration-color: #0000ff\">147</span>                                                    <span style=\"color: #800000; text-decoration-color: #800000\">│</span>\n",
                            "<span style=\"color: #800000; text-decoration-color: #800000\">│</span>                                                                                                  <span style=\"color: #800000; text-decoration-color: #800000\">│</span>\n",
                            "<span style=\"color: #800000; text-decoration-color: #800000\">│</span> in <span style=\"color: #00ff00; text-decoration-color: #00ff00\">pandas._libs.index.IndexEngine.get_loc</span>:<span style=\"color: #0000ff; text-decoration-color: #0000ff\">176</span>                                                    <span style=\"color: #800000; text-decoration-color: #800000\">│</span>\n",
                            "<span style=\"color: #800000; text-decoration-color: #800000\">│</span>                                                                                                  <span style=\"color: #800000; text-decoration-color: #800000\">│</span>\n",
                            "<span style=\"color: #800000; text-decoration-color: #800000\">│</span> in <span style=\"color: #00ff00; text-decoration-color: #00ff00\">pandas._libs.hashtable.PyObjectHashTable.get_item</span>:<span style=\"color: #0000ff; text-decoration-color: #0000ff\">7080</span>                                        <span style=\"color: #800000; text-decoration-color: #800000\">│</span>\n",
                            "<span style=\"color: #800000; text-decoration-color: #800000\">│</span>                                                                                                  <span style=\"color: #800000; text-decoration-color: #800000\">│</span>\n",
                            "<span style=\"color: #800000; text-decoration-color: #800000\">│</span> in <span style=\"color: #00ff00; text-decoration-color: #00ff00\">pandas._libs.hashtable.PyObjectHashTable.get_item</span>:<span style=\"color: #0000ff; text-decoration-color: #0000ff\">7088</span>                                        <span style=\"color: #800000; text-decoration-color: #800000\">│</span>\n",
                            "<span style=\"color: #800000; text-decoration-color: #800000\">╰──────────────────────────────────────────────────────────────────────────────────────────────────╯</span>\n",
                            "<span style=\"color: #ff0000; text-decoration-color: #ff0000; font-weight: bold\">KeyError: </span><span style=\"color: #008000; text-decoration-color: #008000\">'Sector'</span>\n",
                            "\n",
                            "<span style=\"font-style: italic\">The above exception was the direct cause of the following exception:</span>\n",
                            "\n",
                            "<span style=\"color: #800000; text-decoration-color: #800000\">╭─────────────────────────────── </span><span style=\"color: #800000; text-decoration-color: #800000; font-weight: bold\">Traceback </span><span style=\"color: #bf7f7f; text-decoration-color: #bf7f7f; font-weight: bold\">(most recent call last)</span><span style=\"color: #800000; text-decoration-color: #800000\"> ────────────────────────────────╮</span>\n",
                            "<span style=\"color: #800000; text-decoration-color: #800000\">│</span> in <span style=\"color: #00ff00; text-decoration-color: #00ff00\">&lt;module&gt;</span>:<span style=\"color: #0000ff; text-decoration-color: #0000ff\">1</span>                                                                                    <span style=\"color: #800000; text-decoration-color: #800000\">│</span>\n",
                            "<span style=\"color: #800000; text-decoration-color: #800000\">│</span>                                                                                                  <span style=\"color: #800000; text-decoration-color: #800000\">│</span>\n",
                            "<span style=\"color: #800000; text-decoration-color: #800000\">│</span> <span style=\"color: #800000; text-decoration-color: #800000\">❱ </span>1 df_jobs[<span style=\"color: #808000; text-decoration-color: #808000\">'Sector'</span>].isna().sum()                                                               <span style=\"color: #800000; text-decoration-color: #800000\">│</span>\n",
                            "<span style=\"color: #800000; text-decoration-color: #800000\">│</span>   <span style=\"color: #7f7f7f; text-decoration-color: #7f7f7f\">2 </span>                                                                                             <span style=\"color: #800000; text-decoration-color: #800000\">│</span>\n",
                            "<span style=\"color: #800000; text-decoration-color: #800000\">│</span>                                                                                                  <span style=\"color: #800000; text-decoration-color: #800000\">│</span>\n",
                            "<span style=\"color: #800000; text-decoration-color: #800000\">│</span> <span style=\"color: #bfbf7f; text-decoration-color: #bfbf7f\">/opt/homebrew/Caskroom/mambaforge/base/envs/Automating_Equity1/lib/python3.10/site-packages/pand</span> <span style=\"color: #800000; text-decoration-color: #800000\">│</span>\n",
                            "<span style=\"color: #800000; text-decoration-color: #800000\">│</span> <span style=\"color: #bfbf7f; text-decoration-color: #bfbf7f\">as/core/</span><span style=\"color: #808000; text-decoration-color: #808000; font-weight: bold\">frame.py</span>:<span style=\"color: #0000ff; text-decoration-color: #0000ff\">3761</span> in <span style=\"color: #00ff00; text-decoration-color: #00ff00\">__getitem__</span>                                                             <span style=\"color: #800000; text-decoration-color: #800000\">│</span>\n",
                            "<span style=\"color: #800000; text-decoration-color: #800000\">│</span>                                                                                                  <span style=\"color: #800000; text-decoration-color: #800000\">│</span>\n",
                            "<span style=\"color: #800000; text-decoration-color: #800000\">│</span>   <span style=\"color: #7f7f7f; text-decoration-color: #7f7f7f\"> 3758 </span><span style=\"color: #7f7f7f; text-decoration-color: #7f7f7f\">│   │   </span><span style=\"color: #0000ff; text-decoration-color: #0000ff\">if</span> is_single_key:                                                                <span style=\"color: #800000; text-decoration-color: #800000\">│</span>\n",
                            "<span style=\"color: #800000; text-decoration-color: #800000\">│</span>   <span style=\"color: #7f7f7f; text-decoration-color: #7f7f7f\"> 3759 </span><span style=\"color: #7f7f7f; text-decoration-color: #7f7f7f\">│   │   │   </span><span style=\"color: #0000ff; text-decoration-color: #0000ff\">if</span> <span style=\"color: #00ffff; text-decoration-color: #00ffff\">self</span>.columns.nlevels &gt; <span style=\"color: #0000ff; text-decoration-color: #0000ff\">1</span>:                                                 <span style=\"color: #800000; text-decoration-color: #800000\">│</span>\n",
                            "<span style=\"color: #800000; text-decoration-color: #800000\">│</span>   <span style=\"color: #7f7f7f; text-decoration-color: #7f7f7f\"> 3760 </span><span style=\"color: #7f7f7f; text-decoration-color: #7f7f7f\">│   │   │   │   </span><span style=\"color: #0000ff; text-decoration-color: #0000ff\">return</span> <span style=\"color: #00ffff; text-decoration-color: #00ffff\">self</span>._getitem_multilevel(key)                                     <span style=\"color: #800000; text-decoration-color: #800000\">│</span>\n",
                            "<span style=\"color: #800000; text-decoration-color: #800000\">│</span> <span style=\"color: #800000; text-decoration-color: #800000\">❱ </span> 3761 <span style=\"color: #7f7f7f; text-decoration-color: #7f7f7f\">│   │   │   </span>indexer = <span style=\"color: #00ffff; text-decoration-color: #00ffff\">self</span>.columns.get_loc(key)                                          <span style=\"color: #800000; text-decoration-color: #800000\">│</span>\n",
                            "<span style=\"color: #800000; text-decoration-color: #800000\">│</span>   <span style=\"color: #7f7f7f; text-decoration-color: #7f7f7f\"> 3762 </span><span style=\"color: #7f7f7f; text-decoration-color: #7f7f7f\">│   │   │   </span><span style=\"color: #0000ff; text-decoration-color: #0000ff\">if</span> is_integer(indexer):                                                      <span style=\"color: #800000; text-decoration-color: #800000\">│</span>\n",
                            "<span style=\"color: #800000; text-decoration-color: #800000\">│</span>   <span style=\"color: #7f7f7f; text-decoration-color: #7f7f7f\"> 3763 </span><span style=\"color: #7f7f7f; text-decoration-color: #7f7f7f\">│   │   │   │   </span>indexer = [indexer]                                                      <span style=\"color: #800000; text-decoration-color: #800000\">│</span>\n",
                            "<span style=\"color: #800000; text-decoration-color: #800000\">│</span>   <span style=\"color: #7f7f7f; text-decoration-color: #7f7f7f\"> 3764 </span><span style=\"color: #7f7f7f; text-decoration-color: #7f7f7f\">│   │   </span><span style=\"color: #0000ff; text-decoration-color: #0000ff\">else</span>:                                                                            <span style=\"color: #800000; text-decoration-color: #800000\">│</span>\n",
                            "<span style=\"color: #800000; text-decoration-color: #800000\">│</span>                                                                                                  <span style=\"color: #800000; text-decoration-color: #800000\">│</span>\n",
                            "<span style=\"color: #800000; text-decoration-color: #800000\">│</span> <span style=\"color: #bfbf7f; text-decoration-color: #bfbf7f\">/opt/homebrew/Caskroom/mambaforge/base/envs/Automating_Equity1/lib/python3.10/site-packages/pand</span> <span style=\"color: #800000; text-decoration-color: #800000\">│</span>\n",
                            "<span style=\"color: #800000; text-decoration-color: #800000\">│</span> <span style=\"color: #bfbf7f; text-decoration-color: #bfbf7f\">as/core/indexes/</span><span style=\"color: #808000; text-decoration-color: #808000; font-weight: bold\">base.py</span>:<span style=\"color: #0000ff; text-decoration-color: #0000ff\">3655</span> in <span style=\"color: #00ff00; text-decoration-color: #00ff00\">get_loc</span>                                                          <span style=\"color: #800000; text-decoration-color: #800000\">│</span>\n",
                            "<span style=\"color: #800000; text-decoration-color: #800000\">│</span>                                                                                                  <span style=\"color: #800000; text-decoration-color: #800000\">│</span>\n",
                            "<span style=\"color: #800000; text-decoration-color: #800000\">│</span>   <span style=\"color: #7f7f7f; text-decoration-color: #7f7f7f\">3652 </span><span style=\"color: #7f7f7f; text-decoration-color: #7f7f7f\">│   │   </span><span style=\"color: #0000ff; text-decoration-color: #0000ff\">try</span>:                                                                              <span style=\"color: #800000; text-decoration-color: #800000\">│</span>\n",
                            "<span style=\"color: #800000; text-decoration-color: #800000\">│</span>   <span style=\"color: #7f7f7f; text-decoration-color: #7f7f7f\">3653 </span><span style=\"color: #7f7f7f; text-decoration-color: #7f7f7f\">│   │   │   </span><span style=\"color: #0000ff; text-decoration-color: #0000ff\">return</span> <span style=\"color: #00ffff; text-decoration-color: #00ffff\">self</span>._engine.get_loc(casted_key)                                       <span style=\"color: #800000; text-decoration-color: #800000\">│</span>\n",
                            "<span style=\"color: #800000; text-decoration-color: #800000\">│</span>   <span style=\"color: #7f7f7f; text-decoration-color: #7f7f7f\">3654 </span><span style=\"color: #7f7f7f; text-decoration-color: #7f7f7f\">│   │   </span><span style=\"color: #0000ff; text-decoration-color: #0000ff\">except</span> <span style=\"color: #00ffff; text-decoration-color: #00ffff\">KeyError</span> <span style=\"color: #0000ff; text-decoration-color: #0000ff\">as</span> err:                                                           <span style=\"color: #800000; text-decoration-color: #800000\">│</span>\n",
                            "<span style=\"color: #800000; text-decoration-color: #800000\">│</span> <span style=\"color: #800000; text-decoration-color: #800000\">❱ </span>3655 <span style=\"color: #7f7f7f; text-decoration-color: #7f7f7f\">│   │   │   </span><span style=\"color: #0000ff; text-decoration-color: #0000ff\">raise</span> <span style=\"color: #00ffff; text-decoration-color: #00ffff\">KeyError</span>(key) <span style=\"color: #0000ff; text-decoration-color: #0000ff\">from</span> <span style=\"color: #00ffff; text-decoration-color: #00ffff; text-decoration: underline\">err</span>                                                  <span style=\"color: #800000; text-decoration-color: #800000\">│</span>\n",
                            "<span style=\"color: #800000; text-decoration-color: #800000\">│</span>   <span style=\"color: #7f7f7f; text-decoration-color: #7f7f7f\">3656 </span><span style=\"color: #7f7f7f; text-decoration-color: #7f7f7f\">│   │   </span><span style=\"color: #0000ff; text-decoration-color: #0000ff\">except</span> <span style=\"color: #00ffff; text-decoration-color: #00ffff\">TypeError</span>:                                                                 <span style=\"color: #800000; text-decoration-color: #800000\">│</span>\n",
                            "<span style=\"color: #800000; text-decoration-color: #800000\">│</span>   <span style=\"color: #7f7f7f; text-decoration-color: #7f7f7f\">3657 </span><span style=\"color: #7f7f7f; text-decoration-color: #7f7f7f\">│   │   │   </span><span style=\"color: #7f7f7f; text-decoration-color: #7f7f7f\"># If we have a listlike key, _check_indexing_error will raise</span>                 <span style=\"color: #800000; text-decoration-color: #800000\">│</span>\n",
                            "<span style=\"color: #800000; text-decoration-color: #800000\">│</span>   <span style=\"color: #7f7f7f; text-decoration-color: #7f7f7f\">3658 </span><span style=\"color: #7f7f7f; text-decoration-color: #7f7f7f\">│   │   │   </span><span style=\"color: #7f7f7f; text-decoration-color: #7f7f7f\">#  InvalidIndexError. Otherwise we fall through and re-raise</span>                  <span style=\"color: #800000; text-decoration-color: #800000\">│</span>\n",
                            "<span style=\"color: #800000; text-decoration-color: #800000\">╰──────────────────────────────────────────────────────────────────────────────────────────────────╯</span>\n",
                            "<span style=\"color: #ff0000; text-decoration-color: #ff0000; font-weight: bold\">KeyError: </span><span style=\"color: #008000; text-decoration-color: #008000\">'Sector'</span>\n",
                            "</pre>\n"
                        ],
                        "text/plain": [
                            "\u001b[31m╭─\u001b[0m\u001b[31m──────────────────────────────\u001b[0m\u001b[31m \u001b[0m\u001b[1;31mTraceback \u001b[0m\u001b[1;2;31m(most recent call last)\u001b[0m\u001b[31m \u001b[0m\u001b[31m───────────────────────────────\u001b[0m\u001b[31m─╮\u001b[0m\n",
                            "\u001b[31m│\u001b[0m \u001b[2;33m/opt/homebrew/Caskroom/mambaforge/base/envs/Automating_Equity1/lib/python3.10/site-packages/pand\u001b[0m \u001b[31m│\u001b[0m\n",
                            "\u001b[31m│\u001b[0m \u001b[2;33mas/core/indexes/\u001b[0m\u001b[1;33mbase.py\u001b[0m:\u001b[94m3653\u001b[0m in \u001b[92mget_loc\u001b[0m                                                          \u001b[31m│\u001b[0m\n",
                            "\u001b[31m│\u001b[0m                                                                                                  \u001b[31m│\u001b[0m\n",
                            "\u001b[31m│\u001b[0m   \u001b[2m3650 \u001b[0m\u001b[2;33m│   │   \u001b[0m\u001b[33m\"\"\"\u001b[0m                                                                               \u001b[31m│\u001b[0m\n",
                            "\u001b[31m│\u001b[0m   \u001b[2m3651 \u001b[0m\u001b[2m│   │   \u001b[0mcasted_key = \u001b[96mself\u001b[0m._maybe_cast_indexer(key)                                        \u001b[31m│\u001b[0m\n",
                            "\u001b[31m│\u001b[0m   \u001b[2m3652 \u001b[0m\u001b[2m│   │   \u001b[0m\u001b[94mtry\u001b[0m:                                                                              \u001b[31m│\u001b[0m\n",
                            "\u001b[31m│\u001b[0m \u001b[31m❱ \u001b[0m3653 \u001b[2m│   │   │   \u001b[0m\u001b[94mreturn\u001b[0m \u001b[96mself\u001b[0m._engine.get_loc(casted_key)                                       \u001b[31m│\u001b[0m\n",
                            "\u001b[31m│\u001b[0m   \u001b[2m3654 \u001b[0m\u001b[2m│   │   \u001b[0m\u001b[94mexcept\u001b[0m \u001b[96mKeyError\u001b[0m \u001b[94mas\u001b[0m err:                                                           \u001b[31m│\u001b[0m\n",
                            "\u001b[31m│\u001b[0m   \u001b[2m3655 \u001b[0m\u001b[2m│   │   │   \u001b[0m\u001b[94mraise\u001b[0m \u001b[96mKeyError\u001b[0m(key) \u001b[94mfrom\u001b[0m \u001b[4;96merr\u001b[0m                                                  \u001b[31m│\u001b[0m\n",
                            "\u001b[31m│\u001b[0m   \u001b[2m3656 \u001b[0m\u001b[2m│   │   \u001b[0m\u001b[94mexcept\u001b[0m \u001b[96mTypeError\u001b[0m:                                                                 \u001b[31m│\u001b[0m\n",
                            "\u001b[31m│\u001b[0m                                                                                                  \u001b[31m│\u001b[0m\n",
                            "\u001b[31m│\u001b[0m in \u001b[92mpandas._libs.index.IndexEngine.get_loc\u001b[0m:\u001b[94m147\u001b[0m                                                    \u001b[31m│\u001b[0m\n",
                            "\u001b[31m│\u001b[0m                                                                                                  \u001b[31m│\u001b[0m\n",
                            "\u001b[31m│\u001b[0m in \u001b[92mpandas._libs.index.IndexEngine.get_loc\u001b[0m:\u001b[94m176\u001b[0m                                                    \u001b[31m│\u001b[0m\n",
                            "\u001b[31m│\u001b[0m                                                                                                  \u001b[31m│\u001b[0m\n",
                            "\u001b[31m│\u001b[0m in \u001b[92mpandas._libs.hashtable.PyObjectHashTable.get_item\u001b[0m:\u001b[94m7080\u001b[0m                                        \u001b[31m│\u001b[0m\n",
                            "\u001b[31m│\u001b[0m                                                                                                  \u001b[31m│\u001b[0m\n",
                            "\u001b[31m│\u001b[0m in \u001b[92mpandas._libs.hashtable.PyObjectHashTable.get_item\u001b[0m:\u001b[94m7088\u001b[0m                                        \u001b[31m│\u001b[0m\n",
                            "\u001b[31m╰──────────────────────────────────────────────────────────────────────────────────────────────────╯\u001b[0m\n",
                            "\u001b[1;91mKeyError: \u001b[0m\u001b[32m'Sector'\u001b[0m\n",
                            "\n",
                            "\u001b[3mThe above exception was the direct cause of the following exception:\u001b[0m\n",
                            "\n",
                            "\u001b[31m╭─\u001b[0m\u001b[31m──────────────────────────────\u001b[0m\u001b[31m \u001b[0m\u001b[1;31mTraceback \u001b[0m\u001b[1;2;31m(most recent call last)\u001b[0m\u001b[31m \u001b[0m\u001b[31m───────────────────────────────\u001b[0m\u001b[31m─╮\u001b[0m\n",
                            "\u001b[31m│\u001b[0m in \u001b[92m<module>\u001b[0m:\u001b[94m1\u001b[0m                                                                                    \u001b[31m│\u001b[0m\n",
                            "\u001b[31m│\u001b[0m                                                                                                  \u001b[31m│\u001b[0m\n",
                            "\u001b[31m│\u001b[0m \u001b[31m❱ \u001b[0m1 df_jobs[\u001b[33m'\u001b[0m\u001b[33mSector\u001b[0m\u001b[33m'\u001b[0m].isna().sum()                                                               \u001b[31m│\u001b[0m\n",
                            "\u001b[31m│\u001b[0m   \u001b[2m2 \u001b[0m                                                                                             \u001b[31m│\u001b[0m\n",
                            "\u001b[31m│\u001b[0m                                                                                                  \u001b[31m│\u001b[0m\n",
                            "\u001b[31m│\u001b[0m \u001b[2;33m/opt/homebrew/Caskroom/mambaforge/base/envs/Automating_Equity1/lib/python3.10/site-packages/pand\u001b[0m \u001b[31m│\u001b[0m\n",
                            "\u001b[31m│\u001b[0m \u001b[2;33mas/core/\u001b[0m\u001b[1;33mframe.py\u001b[0m:\u001b[94m3761\u001b[0m in \u001b[92m__getitem__\u001b[0m                                                             \u001b[31m│\u001b[0m\n",
                            "\u001b[31m│\u001b[0m                                                                                                  \u001b[31m│\u001b[0m\n",
                            "\u001b[31m│\u001b[0m   \u001b[2m 3758 \u001b[0m\u001b[2m│   │   \u001b[0m\u001b[94mif\u001b[0m is_single_key:                                                                \u001b[31m│\u001b[0m\n",
                            "\u001b[31m│\u001b[0m   \u001b[2m 3759 \u001b[0m\u001b[2m│   │   │   \u001b[0m\u001b[94mif\u001b[0m \u001b[96mself\u001b[0m.columns.nlevels > \u001b[94m1\u001b[0m:                                                 \u001b[31m│\u001b[0m\n",
                            "\u001b[31m│\u001b[0m   \u001b[2m 3760 \u001b[0m\u001b[2m│   │   │   │   \u001b[0m\u001b[94mreturn\u001b[0m \u001b[96mself\u001b[0m._getitem_multilevel(key)                                     \u001b[31m│\u001b[0m\n",
                            "\u001b[31m│\u001b[0m \u001b[31m❱ \u001b[0m 3761 \u001b[2m│   │   │   \u001b[0mindexer = \u001b[96mself\u001b[0m.columns.get_loc(key)                                          \u001b[31m│\u001b[0m\n",
                            "\u001b[31m│\u001b[0m   \u001b[2m 3762 \u001b[0m\u001b[2m│   │   │   \u001b[0m\u001b[94mif\u001b[0m is_integer(indexer):                                                      \u001b[31m│\u001b[0m\n",
                            "\u001b[31m│\u001b[0m   \u001b[2m 3763 \u001b[0m\u001b[2m│   │   │   │   \u001b[0mindexer = [indexer]                                                      \u001b[31m│\u001b[0m\n",
                            "\u001b[31m│\u001b[0m   \u001b[2m 3764 \u001b[0m\u001b[2m│   │   \u001b[0m\u001b[94melse\u001b[0m:                                                                            \u001b[31m│\u001b[0m\n",
                            "\u001b[31m│\u001b[0m                                                                                                  \u001b[31m│\u001b[0m\n",
                            "\u001b[31m│\u001b[0m \u001b[2;33m/opt/homebrew/Caskroom/mambaforge/base/envs/Automating_Equity1/lib/python3.10/site-packages/pand\u001b[0m \u001b[31m│\u001b[0m\n",
                            "\u001b[31m│\u001b[0m \u001b[2;33mas/core/indexes/\u001b[0m\u001b[1;33mbase.py\u001b[0m:\u001b[94m3655\u001b[0m in \u001b[92mget_loc\u001b[0m                                                          \u001b[31m│\u001b[0m\n",
                            "\u001b[31m│\u001b[0m                                                                                                  \u001b[31m│\u001b[0m\n",
                            "\u001b[31m│\u001b[0m   \u001b[2m3652 \u001b[0m\u001b[2m│   │   \u001b[0m\u001b[94mtry\u001b[0m:                                                                              \u001b[31m│\u001b[0m\n",
                            "\u001b[31m│\u001b[0m   \u001b[2m3653 \u001b[0m\u001b[2m│   │   │   \u001b[0m\u001b[94mreturn\u001b[0m \u001b[96mself\u001b[0m._engine.get_loc(casted_key)                                       \u001b[31m│\u001b[0m\n",
                            "\u001b[31m│\u001b[0m   \u001b[2m3654 \u001b[0m\u001b[2m│   │   \u001b[0m\u001b[94mexcept\u001b[0m \u001b[96mKeyError\u001b[0m \u001b[94mas\u001b[0m err:                                                           \u001b[31m│\u001b[0m\n",
                            "\u001b[31m│\u001b[0m \u001b[31m❱ \u001b[0m3655 \u001b[2m│   │   │   \u001b[0m\u001b[94mraise\u001b[0m \u001b[96mKeyError\u001b[0m(key) \u001b[94mfrom\u001b[0m \u001b[4;96merr\u001b[0m                                                  \u001b[31m│\u001b[0m\n",
                            "\u001b[31m│\u001b[0m   \u001b[2m3656 \u001b[0m\u001b[2m│   │   \u001b[0m\u001b[94mexcept\u001b[0m \u001b[96mTypeError\u001b[0m:                                                                 \u001b[31m│\u001b[0m\n",
                            "\u001b[31m│\u001b[0m   \u001b[2m3657 \u001b[0m\u001b[2m│   │   │   \u001b[0m\u001b[2m# If we have a listlike key, _check_indexing_error will raise\u001b[0m                 \u001b[31m│\u001b[0m\n",
                            "\u001b[31m│\u001b[0m   \u001b[2m3658 \u001b[0m\u001b[2m│   │   │   \u001b[0m\u001b[2m#  InvalidIndexError. Otherwise we fall through and re-raise\u001b[0m                  \u001b[31m│\u001b[0m\n",
                            "\u001b[31m╰──────────────────────────────────────────────────────────────────────────────────────────────────╯\u001b[0m\n",
                            "\u001b[1;91mKeyError: \u001b[0m\u001b[32m'Sector'\u001b[0m\n"
                        ]
                    },
                    "metadata": {},
                    "output_type": "display_data"
                }
            ],
            "source": [
                "df_jobs['Sector'].isna().sum()\n"
            ]
        },
        {
            "cell_type": "code",
            "execution_count": 65,
            "metadata": {},
            "outputs": [
                {
                    "data": {
                        "text/html": [
                            "<pre style=\"white-space:pre;overflow-x:auto;line-height:normal;font-family:Menlo,'DejaVu Sans Mono',consolas,'Courier New',monospace\"><span style=\"color: #800000; text-decoration-color: #800000\">╭─────────────────────────────── </span><span style=\"color: #800000; text-decoration-color: #800000; font-weight: bold\">Traceback </span><span style=\"color: #bf7f7f; text-decoration-color: #bf7f7f; font-weight: bold\">(most recent call last)</span><span style=\"color: #800000; text-decoration-color: #800000\"> ────────────────────────────────╮</span>\n",
                            "<span style=\"color: #800000; text-decoration-color: #800000\">│</span> <span style=\"color: #bfbf7f; text-decoration-color: #bfbf7f\">/opt/homebrew/Caskroom/mambaforge/base/envs/Automating_Equity1/lib/python3.10/site-packages/pand</span> <span style=\"color: #800000; text-decoration-color: #800000\">│</span>\n",
                            "<span style=\"color: #800000; text-decoration-color: #800000\">│</span> <span style=\"color: #bfbf7f; text-decoration-color: #bfbf7f\">as/core/indexes/</span><span style=\"color: #808000; text-decoration-color: #808000; font-weight: bold\">base.py</span>:<span style=\"color: #0000ff; text-decoration-color: #0000ff\">3653</span> in <span style=\"color: #00ff00; text-decoration-color: #00ff00\">get_loc</span>                                                          <span style=\"color: #800000; text-decoration-color: #800000\">│</span>\n",
                            "<span style=\"color: #800000; text-decoration-color: #800000\">│</span>                                                                                                  <span style=\"color: #800000; text-decoration-color: #800000\">│</span>\n",
                            "<span style=\"color: #800000; text-decoration-color: #800000\">│</span>   <span style=\"color: #7f7f7f; text-decoration-color: #7f7f7f\">3650 </span><span style=\"color: #bfbf7f; text-decoration-color: #bfbf7f\">│   │   </span><span style=\"color: #808000; text-decoration-color: #808000\">\"\"\"</span>                                                                               <span style=\"color: #800000; text-decoration-color: #800000\">│</span>\n",
                            "<span style=\"color: #800000; text-decoration-color: #800000\">│</span>   <span style=\"color: #7f7f7f; text-decoration-color: #7f7f7f\">3651 </span><span style=\"color: #7f7f7f; text-decoration-color: #7f7f7f\">│   │   </span>casted_key = <span style=\"color: #00ffff; text-decoration-color: #00ffff\">self</span>._maybe_cast_indexer(key)                                        <span style=\"color: #800000; text-decoration-color: #800000\">│</span>\n",
                            "<span style=\"color: #800000; text-decoration-color: #800000\">│</span>   <span style=\"color: #7f7f7f; text-decoration-color: #7f7f7f\">3652 </span><span style=\"color: #7f7f7f; text-decoration-color: #7f7f7f\">│   │   </span><span style=\"color: #0000ff; text-decoration-color: #0000ff\">try</span>:                                                                              <span style=\"color: #800000; text-decoration-color: #800000\">│</span>\n",
                            "<span style=\"color: #800000; text-decoration-color: #800000\">│</span> <span style=\"color: #800000; text-decoration-color: #800000\">❱ </span>3653 <span style=\"color: #7f7f7f; text-decoration-color: #7f7f7f\">│   │   │   </span><span style=\"color: #0000ff; text-decoration-color: #0000ff\">return</span> <span style=\"color: #00ffff; text-decoration-color: #00ffff\">self</span>._engine.get_loc(casted_key)                                       <span style=\"color: #800000; text-decoration-color: #800000\">│</span>\n",
                            "<span style=\"color: #800000; text-decoration-color: #800000\">│</span>   <span style=\"color: #7f7f7f; text-decoration-color: #7f7f7f\">3654 </span><span style=\"color: #7f7f7f; text-decoration-color: #7f7f7f\">│   │   </span><span style=\"color: #0000ff; text-decoration-color: #0000ff\">except</span> <span style=\"color: #00ffff; text-decoration-color: #00ffff\">KeyError</span> <span style=\"color: #0000ff; text-decoration-color: #0000ff\">as</span> err:                                                           <span style=\"color: #800000; text-decoration-color: #800000\">│</span>\n",
                            "<span style=\"color: #800000; text-decoration-color: #800000\">│</span>   <span style=\"color: #7f7f7f; text-decoration-color: #7f7f7f\">3655 </span><span style=\"color: #7f7f7f; text-decoration-color: #7f7f7f\">│   │   │   </span><span style=\"color: #0000ff; text-decoration-color: #0000ff\">raise</span> <span style=\"color: #00ffff; text-decoration-color: #00ffff\">KeyError</span>(key) <span style=\"color: #0000ff; text-decoration-color: #0000ff\">from</span> <span style=\"color: #00ffff; text-decoration-color: #00ffff; text-decoration: underline\">err</span>                                                  <span style=\"color: #800000; text-decoration-color: #800000\">│</span>\n",
                            "<span style=\"color: #800000; text-decoration-color: #800000\">│</span>   <span style=\"color: #7f7f7f; text-decoration-color: #7f7f7f\">3656 </span><span style=\"color: #7f7f7f; text-decoration-color: #7f7f7f\">│   │   </span><span style=\"color: #0000ff; text-decoration-color: #0000ff\">except</span> <span style=\"color: #00ffff; text-decoration-color: #00ffff\">TypeError</span>:                                                                 <span style=\"color: #800000; text-decoration-color: #800000\">│</span>\n",
                            "<span style=\"color: #800000; text-decoration-color: #800000\">│</span>                                                                                                  <span style=\"color: #800000; text-decoration-color: #800000\">│</span>\n",
                            "<span style=\"color: #800000; text-decoration-color: #800000\">│</span> in <span style=\"color: #00ff00; text-decoration-color: #00ff00\">pandas._libs.index.IndexEngine.get_loc</span>:<span style=\"color: #0000ff; text-decoration-color: #0000ff\">147</span>                                                    <span style=\"color: #800000; text-decoration-color: #800000\">│</span>\n",
                            "<span style=\"color: #800000; text-decoration-color: #800000\">│</span>                                                                                                  <span style=\"color: #800000; text-decoration-color: #800000\">│</span>\n",
                            "<span style=\"color: #800000; text-decoration-color: #800000\">│</span> in <span style=\"color: #00ff00; text-decoration-color: #00ff00\">pandas._libs.index.IndexEngine.get_loc</span>:<span style=\"color: #0000ff; text-decoration-color: #0000ff\">176</span>                                                    <span style=\"color: #800000; text-decoration-color: #800000\">│</span>\n",
                            "<span style=\"color: #800000; text-decoration-color: #800000\">│</span>                                                                                                  <span style=\"color: #800000; text-decoration-color: #800000\">│</span>\n",
                            "<span style=\"color: #800000; text-decoration-color: #800000\">│</span> in <span style=\"color: #00ff00; text-decoration-color: #00ff00\">pandas._libs.hashtable.PyObjectHashTable.get_item</span>:<span style=\"color: #0000ff; text-decoration-color: #0000ff\">7080</span>                                        <span style=\"color: #800000; text-decoration-color: #800000\">│</span>\n",
                            "<span style=\"color: #800000; text-decoration-color: #800000\">│</span>                                                                                                  <span style=\"color: #800000; text-decoration-color: #800000\">│</span>\n",
                            "<span style=\"color: #800000; text-decoration-color: #800000\">│</span> in <span style=\"color: #00ff00; text-decoration-color: #00ff00\">pandas._libs.hashtable.PyObjectHashTable.get_item</span>:<span style=\"color: #0000ff; text-decoration-color: #0000ff\">7088</span>                                        <span style=\"color: #800000; text-decoration-color: #800000\">│</span>\n",
                            "<span style=\"color: #800000; text-decoration-color: #800000\">╰──────────────────────────────────────────────────────────────────────────────────────────────────╯</span>\n",
                            "<span style=\"color: #ff0000; text-decoration-color: #ff0000; font-weight: bold\">KeyError: </span><span style=\"color: #008000; text-decoration-color: #008000\">'Sector'</span>\n",
                            "\n",
                            "<span style=\"font-style: italic\">The above exception was the direct cause of the following exception:</span>\n",
                            "\n",
                            "<span style=\"color: #800000; text-decoration-color: #800000\">╭─────────────────────────────── </span><span style=\"color: #800000; text-decoration-color: #800000; font-weight: bold\">Traceback </span><span style=\"color: #bf7f7f; text-decoration-color: #bf7f7f; font-weight: bold\">(most recent call last)</span><span style=\"color: #800000; text-decoration-color: #800000\"> ────────────────────────────────╮</span>\n",
                            "<span style=\"color: #800000; text-decoration-color: #800000\">│</span> in <span style=\"color: #00ff00; text-decoration-color: #00ff00\">&lt;module&gt;</span>:<span style=\"color: #0000ff; text-decoration-color: #0000ff\">1</span>                                                                                    <span style=\"color: #800000; text-decoration-color: #800000\">│</span>\n",
                            "<span style=\"color: #800000; text-decoration-color: #800000\">│</span>                                                                                                  <span style=\"color: #800000; text-decoration-color: #800000\">│</span>\n",
                            "<span style=\"color: #800000; text-decoration-color: #800000\">│</span> <span style=\"color: #800000; text-decoration-color: #800000\">❱ </span>1 <span style=\"color: #0000ff; text-decoration-color: #0000ff\">if</span> df_jobs[<span style=\"color: #808000; text-decoration-color: #808000\">'Sector'</span>].isna().sum() != <span style=\"color: #0000ff; text-decoration-color: #0000ff\">0</span>:                                                      <span style=\"color: #800000; text-decoration-color: #800000\">│</span>\n",
                            "<span style=\"color: #800000; text-decoration-color: #800000\">│</span>   <span style=\"color: #7f7f7f; text-decoration-color: #7f7f7f\">2 </span><span style=\"color: #7f7f7f; text-decoration-color: #7f7f7f\">│   </span><span style=\"color: #00ffff; text-decoration-color: #00ffff\">print</span>(<span style=\"color: #808000; text-decoration-color: #808000\">'Some search keywords did not match a sector. Fixing'</span>)                             <span style=\"color: #800000; text-decoration-color: #800000\">│</span>\n",
                            "<span style=\"color: #800000; text-decoration-color: #800000\">│</span>   <span style=\"color: #7f7f7f; text-decoration-color: #7f7f7f\">3 </span><span style=\"color: #7f7f7f; text-decoration-color: #7f7f7f\">│   </span><span style=\"color: #00ffff; text-decoration-color: #00ffff\">print</span>(<span style=\"color: #00ffff; text-decoration-color: #00ffff\">set</span>(df_jobs[<span style=\"color: #808000; text-decoration-color: #808000\">'Search Keyword'</span>].loc[df_jobs[<span style=\"color: #808000; text-decoration-color: #808000\">'Sector'</span>].isna()].to_list()))            <span style=\"color: #800000; text-decoration-color: #800000\">│</span>\n",
                            "<span style=\"color: #800000; text-decoration-color: #800000\">│</span>   <span style=\"color: #7f7f7f; text-decoration-color: #7f7f7f\">4 </span><span style=\"color: #7f7f7f; text-decoration-color: #7f7f7f\">│   </span><span style=\"color: #00ffff; text-decoration-color: #00ffff\">print</span>(<span style=\"color: #00ffff; text-decoration-color: #00ffff\">len</span>(df_jobs[<span style=\"color: #808000; text-decoration-color: #808000\">'Search Keyword'</span>].loc[df_jobs[<span style=\"color: #808000; text-decoration-color: #808000\">'Search Keyword'</span>].isin(<span style=\"color: #00ffff; text-decoration-color: #00ffff\">list</span>(keyword_     <span style=\"color: #800000; text-decoration-color: #800000\">│</span>\n",
                            "<span style=\"color: #800000; text-decoration-color: #800000\">│</span>                                                                                                  <span style=\"color: #800000; text-decoration-color: #800000\">│</span>\n",
                            "<span style=\"color: #800000; text-decoration-color: #800000\">│</span> <span style=\"color: #bfbf7f; text-decoration-color: #bfbf7f\">/opt/homebrew/Caskroom/mambaforge/base/envs/Automating_Equity1/lib/python3.10/site-packages/pand</span> <span style=\"color: #800000; text-decoration-color: #800000\">│</span>\n",
                            "<span style=\"color: #800000; text-decoration-color: #800000\">│</span> <span style=\"color: #bfbf7f; text-decoration-color: #bfbf7f\">as/core/</span><span style=\"color: #808000; text-decoration-color: #808000; font-weight: bold\">frame.py</span>:<span style=\"color: #0000ff; text-decoration-color: #0000ff\">3761</span> in <span style=\"color: #00ff00; text-decoration-color: #00ff00\">__getitem__</span>                                                             <span style=\"color: #800000; text-decoration-color: #800000\">│</span>\n",
                            "<span style=\"color: #800000; text-decoration-color: #800000\">│</span>                                                                                                  <span style=\"color: #800000; text-decoration-color: #800000\">│</span>\n",
                            "<span style=\"color: #800000; text-decoration-color: #800000\">│</span>   <span style=\"color: #7f7f7f; text-decoration-color: #7f7f7f\"> 3758 </span><span style=\"color: #7f7f7f; text-decoration-color: #7f7f7f\">│   │   </span><span style=\"color: #0000ff; text-decoration-color: #0000ff\">if</span> is_single_key:                                                                <span style=\"color: #800000; text-decoration-color: #800000\">│</span>\n",
                            "<span style=\"color: #800000; text-decoration-color: #800000\">│</span>   <span style=\"color: #7f7f7f; text-decoration-color: #7f7f7f\"> 3759 </span><span style=\"color: #7f7f7f; text-decoration-color: #7f7f7f\">│   │   │   </span><span style=\"color: #0000ff; text-decoration-color: #0000ff\">if</span> <span style=\"color: #00ffff; text-decoration-color: #00ffff\">self</span>.columns.nlevels &gt; <span style=\"color: #0000ff; text-decoration-color: #0000ff\">1</span>:                                                 <span style=\"color: #800000; text-decoration-color: #800000\">│</span>\n",
                            "<span style=\"color: #800000; text-decoration-color: #800000\">│</span>   <span style=\"color: #7f7f7f; text-decoration-color: #7f7f7f\"> 3760 </span><span style=\"color: #7f7f7f; text-decoration-color: #7f7f7f\">│   │   │   │   </span><span style=\"color: #0000ff; text-decoration-color: #0000ff\">return</span> <span style=\"color: #00ffff; text-decoration-color: #00ffff\">self</span>._getitem_multilevel(key)                                     <span style=\"color: #800000; text-decoration-color: #800000\">│</span>\n",
                            "<span style=\"color: #800000; text-decoration-color: #800000\">│</span> <span style=\"color: #800000; text-decoration-color: #800000\">❱ </span> 3761 <span style=\"color: #7f7f7f; text-decoration-color: #7f7f7f\">│   │   │   </span>indexer = <span style=\"color: #00ffff; text-decoration-color: #00ffff\">self</span>.columns.get_loc(key)                                          <span style=\"color: #800000; text-decoration-color: #800000\">│</span>\n",
                            "<span style=\"color: #800000; text-decoration-color: #800000\">│</span>   <span style=\"color: #7f7f7f; text-decoration-color: #7f7f7f\"> 3762 </span><span style=\"color: #7f7f7f; text-decoration-color: #7f7f7f\">│   │   │   </span><span style=\"color: #0000ff; text-decoration-color: #0000ff\">if</span> is_integer(indexer):                                                      <span style=\"color: #800000; text-decoration-color: #800000\">│</span>\n",
                            "<span style=\"color: #800000; text-decoration-color: #800000\">│</span>   <span style=\"color: #7f7f7f; text-decoration-color: #7f7f7f\"> 3763 </span><span style=\"color: #7f7f7f; text-decoration-color: #7f7f7f\">│   │   │   │   </span>indexer = [indexer]                                                      <span style=\"color: #800000; text-decoration-color: #800000\">│</span>\n",
                            "<span style=\"color: #800000; text-decoration-color: #800000\">│</span>   <span style=\"color: #7f7f7f; text-decoration-color: #7f7f7f\"> 3764 </span><span style=\"color: #7f7f7f; text-decoration-color: #7f7f7f\">│   │   </span><span style=\"color: #0000ff; text-decoration-color: #0000ff\">else</span>:                                                                            <span style=\"color: #800000; text-decoration-color: #800000\">│</span>\n",
                            "<span style=\"color: #800000; text-decoration-color: #800000\">│</span>                                                                                                  <span style=\"color: #800000; text-decoration-color: #800000\">│</span>\n",
                            "<span style=\"color: #800000; text-decoration-color: #800000\">│</span> <span style=\"color: #bfbf7f; text-decoration-color: #bfbf7f\">/opt/homebrew/Caskroom/mambaforge/base/envs/Automating_Equity1/lib/python3.10/site-packages/pand</span> <span style=\"color: #800000; text-decoration-color: #800000\">│</span>\n",
                            "<span style=\"color: #800000; text-decoration-color: #800000\">│</span> <span style=\"color: #bfbf7f; text-decoration-color: #bfbf7f\">as/core/indexes/</span><span style=\"color: #808000; text-decoration-color: #808000; font-weight: bold\">base.py</span>:<span style=\"color: #0000ff; text-decoration-color: #0000ff\">3655</span> in <span style=\"color: #00ff00; text-decoration-color: #00ff00\">get_loc</span>                                                          <span style=\"color: #800000; text-decoration-color: #800000\">│</span>\n",
                            "<span style=\"color: #800000; text-decoration-color: #800000\">│</span>                                                                                                  <span style=\"color: #800000; text-decoration-color: #800000\">│</span>\n",
                            "<span style=\"color: #800000; text-decoration-color: #800000\">│</span>   <span style=\"color: #7f7f7f; text-decoration-color: #7f7f7f\">3652 </span><span style=\"color: #7f7f7f; text-decoration-color: #7f7f7f\">│   │   </span><span style=\"color: #0000ff; text-decoration-color: #0000ff\">try</span>:                                                                              <span style=\"color: #800000; text-decoration-color: #800000\">│</span>\n",
                            "<span style=\"color: #800000; text-decoration-color: #800000\">│</span>   <span style=\"color: #7f7f7f; text-decoration-color: #7f7f7f\">3653 </span><span style=\"color: #7f7f7f; text-decoration-color: #7f7f7f\">│   │   │   </span><span style=\"color: #0000ff; text-decoration-color: #0000ff\">return</span> <span style=\"color: #00ffff; text-decoration-color: #00ffff\">self</span>._engine.get_loc(casted_key)                                       <span style=\"color: #800000; text-decoration-color: #800000\">│</span>\n",
                            "<span style=\"color: #800000; text-decoration-color: #800000\">│</span>   <span style=\"color: #7f7f7f; text-decoration-color: #7f7f7f\">3654 </span><span style=\"color: #7f7f7f; text-decoration-color: #7f7f7f\">│   │   </span><span style=\"color: #0000ff; text-decoration-color: #0000ff\">except</span> <span style=\"color: #00ffff; text-decoration-color: #00ffff\">KeyError</span> <span style=\"color: #0000ff; text-decoration-color: #0000ff\">as</span> err:                                                           <span style=\"color: #800000; text-decoration-color: #800000\">│</span>\n",
                            "<span style=\"color: #800000; text-decoration-color: #800000\">│</span> <span style=\"color: #800000; text-decoration-color: #800000\">❱ </span>3655 <span style=\"color: #7f7f7f; text-decoration-color: #7f7f7f\">│   │   │   </span><span style=\"color: #0000ff; text-decoration-color: #0000ff\">raise</span> <span style=\"color: #00ffff; text-decoration-color: #00ffff\">KeyError</span>(key) <span style=\"color: #0000ff; text-decoration-color: #0000ff\">from</span> <span style=\"color: #00ffff; text-decoration-color: #00ffff; text-decoration: underline\">err</span>                                                  <span style=\"color: #800000; text-decoration-color: #800000\">│</span>\n",
                            "<span style=\"color: #800000; text-decoration-color: #800000\">│</span>   <span style=\"color: #7f7f7f; text-decoration-color: #7f7f7f\">3656 </span><span style=\"color: #7f7f7f; text-decoration-color: #7f7f7f\">│   │   </span><span style=\"color: #0000ff; text-decoration-color: #0000ff\">except</span> <span style=\"color: #00ffff; text-decoration-color: #00ffff\">TypeError</span>:                                                                 <span style=\"color: #800000; text-decoration-color: #800000\">│</span>\n",
                            "<span style=\"color: #800000; text-decoration-color: #800000\">│</span>   <span style=\"color: #7f7f7f; text-decoration-color: #7f7f7f\">3657 </span><span style=\"color: #7f7f7f; text-decoration-color: #7f7f7f\">│   │   │   </span><span style=\"color: #7f7f7f; text-decoration-color: #7f7f7f\"># If we have a listlike key, _check_indexing_error will raise</span>                 <span style=\"color: #800000; text-decoration-color: #800000\">│</span>\n",
                            "<span style=\"color: #800000; text-decoration-color: #800000\">│</span>   <span style=\"color: #7f7f7f; text-decoration-color: #7f7f7f\">3658 </span><span style=\"color: #7f7f7f; text-decoration-color: #7f7f7f\">│   │   │   </span><span style=\"color: #7f7f7f; text-decoration-color: #7f7f7f\">#  InvalidIndexError. Otherwise we fall through and re-raise</span>                  <span style=\"color: #800000; text-decoration-color: #800000\">│</span>\n",
                            "<span style=\"color: #800000; text-decoration-color: #800000\">╰──────────────────────────────────────────────────────────────────────────────────────────────────╯</span>\n",
                            "<span style=\"color: #ff0000; text-decoration-color: #ff0000; font-weight: bold\">KeyError: </span><span style=\"color: #008000; text-decoration-color: #008000\">'Sector'</span>\n",
                            "</pre>\n"
                        ],
                        "text/plain": [
                            "\u001b[31m╭─\u001b[0m\u001b[31m──────────────────────────────\u001b[0m\u001b[31m \u001b[0m\u001b[1;31mTraceback \u001b[0m\u001b[1;2;31m(most recent call last)\u001b[0m\u001b[31m \u001b[0m\u001b[31m───────────────────────────────\u001b[0m\u001b[31m─╮\u001b[0m\n",
                            "\u001b[31m│\u001b[0m \u001b[2;33m/opt/homebrew/Caskroom/mambaforge/base/envs/Automating_Equity1/lib/python3.10/site-packages/pand\u001b[0m \u001b[31m│\u001b[0m\n",
                            "\u001b[31m│\u001b[0m \u001b[2;33mas/core/indexes/\u001b[0m\u001b[1;33mbase.py\u001b[0m:\u001b[94m3653\u001b[0m in \u001b[92mget_loc\u001b[0m                                                          \u001b[31m│\u001b[0m\n",
                            "\u001b[31m│\u001b[0m                                                                                                  \u001b[31m│\u001b[0m\n",
                            "\u001b[31m│\u001b[0m   \u001b[2m3650 \u001b[0m\u001b[2;33m│   │   \u001b[0m\u001b[33m\"\"\"\u001b[0m                                                                               \u001b[31m│\u001b[0m\n",
                            "\u001b[31m│\u001b[0m   \u001b[2m3651 \u001b[0m\u001b[2m│   │   \u001b[0mcasted_key = \u001b[96mself\u001b[0m._maybe_cast_indexer(key)                                        \u001b[31m│\u001b[0m\n",
                            "\u001b[31m│\u001b[0m   \u001b[2m3652 \u001b[0m\u001b[2m│   │   \u001b[0m\u001b[94mtry\u001b[0m:                                                                              \u001b[31m│\u001b[0m\n",
                            "\u001b[31m│\u001b[0m \u001b[31m❱ \u001b[0m3653 \u001b[2m│   │   │   \u001b[0m\u001b[94mreturn\u001b[0m \u001b[96mself\u001b[0m._engine.get_loc(casted_key)                                       \u001b[31m│\u001b[0m\n",
                            "\u001b[31m│\u001b[0m   \u001b[2m3654 \u001b[0m\u001b[2m│   │   \u001b[0m\u001b[94mexcept\u001b[0m \u001b[96mKeyError\u001b[0m \u001b[94mas\u001b[0m err:                                                           \u001b[31m│\u001b[0m\n",
                            "\u001b[31m│\u001b[0m   \u001b[2m3655 \u001b[0m\u001b[2m│   │   │   \u001b[0m\u001b[94mraise\u001b[0m \u001b[96mKeyError\u001b[0m(key) \u001b[94mfrom\u001b[0m \u001b[4;96merr\u001b[0m                                                  \u001b[31m│\u001b[0m\n",
                            "\u001b[31m│\u001b[0m   \u001b[2m3656 \u001b[0m\u001b[2m│   │   \u001b[0m\u001b[94mexcept\u001b[0m \u001b[96mTypeError\u001b[0m:                                                                 \u001b[31m│\u001b[0m\n",
                            "\u001b[31m│\u001b[0m                                                                                                  \u001b[31m│\u001b[0m\n",
                            "\u001b[31m│\u001b[0m in \u001b[92mpandas._libs.index.IndexEngine.get_loc\u001b[0m:\u001b[94m147\u001b[0m                                                    \u001b[31m│\u001b[0m\n",
                            "\u001b[31m│\u001b[0m                                                                                                  \u001b[31m│\u001b[0m\n",
                            "\u001b[31m│\u001b[0m in \u001b[92mpandas._libs.index.IndexEngine.get_loc\u001b[0m:\u001b[94m176\u001b[0m                                                    \u001b[31m│\u001b[0m\n",
                            "\u001b[31m│\u001b[0m                                                                                                  \u001b[31m│\u001b[0m\n",
                            "\u001b[31m│\u001b[0m in \u001b[92mpandas._libs.hashtable.PyObjectHashTable.get_item\u001b[0m:\u001b[94m7080\u001b[0m                                        \u001b[31m│\u001b[0m\n",
                            "\u001b[31m│\u001b[0m                                                                                                  \u001b[31m│\u001b[0m\n",
                            "\u001b[31m│\u001b[0m in \u001b[92mpandas._libs.hashtable.PyObjectHashTable.get_item\u001b[0m:\u001b[94m7088\u001b[0m                                        \u001b[31m│\u001b[0m\n",
                            "\u001b[31m╰──────────────────────────────────────────────────────────────────────────────────────────────────╯\u001b[0m\n",
                            "\u001b[1;91mKeyError: \u001b[0m\u001b[32m'Sector'\u001b[0m\n",
                            "\n",
                            "\u001b[3mThe above exception was the direct cause of the following exception:\u001b[0m\n",
                            "\n",
                            "\u001b[31m╭─\u001b[0m\u001b[31m──────────────────────────────\u001b[0m\u001b[31m \u001b[0m\u001b[1;31mTraceback \u001b[0m\u001b[1;2;31m(most recent call last)\u001b[0m\u001b[31m \u001b[0m\u001b[31m───────────────────────────────\u001b[0m\u001b[31m─╮\u001b[0m\n",
                            "\u001b[31m│\u001b[0m in \u001b[92m<module>\u001b[0m:\u001b[94m1\u001b[0m                                                                                    \u001b[31m│\u001b[0m\n",
                            "\u001b[31m│\u001b[0m                                                                                                  \u001b[31m│\u001b[0m\n",
                            "\u001b[31m│\u001b[0m \u001b[31m❱ \u001b[0m1 \u001b[94mif\u001b[0m df_jobs[\u001b[33m'\u001b[0m\u001b[33mSector\u001b[0m\u001b[33m'\u001b[0m].isna().sum() != \u001b[94m0\u001b[0m:                                                      \u001b[31m│\u001b[0m\n",
                            "\u001b[31m│\u001b[0m   \u001b[2m2 \u001b[0m\u001b[2m│   \u001b[0m\u001b[96mprint\u001b[0m(\u001b[33m'\u001b[0m\u001b[33mSome search keywords did not match a sector. Fixing\u001b[0m\u001b[33m'\u001b[0m)                             \u001b[31m│\u001b[0m\n",
                            "\u001b[31m│\u001b[0m   \u001b[2m3 \u001b[0m\u001b[2m│   \u001b[0m\u001b[96mprint\u001b[0m(\u001b[96mset\u001b[0m(df_jobs[\u001b[33m'\u001b[0m\u001b[33mSearch Keyword\u001b[0m\u001b[33m'\u001b[0m].loc[df_jobs[\u001b[33m'\u001b[0m\u001b[33mSector\u001b[0m\u001b[33m'\u001b[0m].isna()].to_list()))            \u001b[31m│\u001b[0m\n",
                            "\u001b[31m│\u001b[0m   \u001b[2m4 \u001b[0m\u001b[2m│   \u001b[0m\u001b[96mprint\u001b[0m(\u001b[96mlen\u001b[0m(df_jobs[\u001b[33m'\u001b[0m\u001b[33mSearch Keyword\u001b[0m\u001b[33m'\u001b[0m].loc[df_jobs[\u001b[33m'\u001b[0m\u001b[33mSearch Keyword\u001b[0m\u001b[33m'\u001b[0m].isin(\u001b[96mlist\u001b[0m(keyword_     \u001b[31m│\u001b[0m\n",
                            "\u001b[31m│\u001b[0m                                                                                                  \u001b[31m│\u001b[0m\n",
                            "\u001b[31m│\u001b[0m \u001b[2;33m/opt/homebrew/Caskroom/mambaforge/base/envs/Automating_Equity1/lib/python3.10/site-packages/pand\u001b[0m \u001b[31m│\u001b[0m\n",
                            "\u001b[31m│\u001b[0m \u001b[2;33mas/core/\u001b[0m\u001b[1;33mframe.py\u001b[0m:\u001b[94m3761\u001b[0m in \u001b[92m__getitem__\u001b[0m                                                             \u001b[31m│\u001b[0m\n",
                            "\u001b[31m│\u001b[0m                                                                                                  \u001b[31m│\u001b[0m\n",
                            "\u001b[31m│\u001b[0m   \u001b[2m 3758 \u001b[0m\u001b[2m│   │   \u001b[0m\u001b[94mif\u001b[0m is_single_key:                                                                \u001b[31m│\u001b[0m\n",
                            "\u001b[31m│\u001b[0m   \u001b[2m 3759 \u001b[0m\u001b[2m│   │   │   \u001b[0m\u001b[94mif\u001b[0m \u001b[96mself\u001b[0m.columns.nlevels > \u001b[94m1\u001b[0m:                                                 \u001b[31m│\u001b[0m\n",
                            "\u001b[31m│\u001b[0m   \u001b[2m 3760 \u001b[0m\u001b[2m│   │   │   │   \u001b[0m\u001b[94mreturn\u001b[0m \u001b[96mself\u001b[0m._getitem_multilevel(key)                                     \u001b[31m│\u001b[0m\n",
                            "\u001b[31m│\u001b[0m \u001b[31m❱ \u001b[0m 3761 \u001b[2m│   │   │   \u001b[0mindexer = \u001b[96mself\u001b[0m.columns.get_loc(key)                                          \u001b[31m│\u001b[0m\n",
                            "\u001b[31m│\u001b[0m   \u001b[2m 3762 \u001b[0m\u001b[2m│   │   │   \u001b[0m\u001b[94mif\u001b[0m is_integer(indexer):                                                      \u001b[31m│\u001b[0m\n",
                            "\u001b[31m│\u001b[0m   \u001b[2m 3763 \u001b[0m\u001b[2m│   │   │   │   \u001b[0mindexer = [indexer]                                                      \u001b[31m│\u001b[0m\n",
                            "\u001b[31m│\u001b[0m   \u001b[2m 3764 \u001b[0m\u001b[2m│   │   \u001b[0m\u001b[94melse\u001b[0m:                                                                            \u001b[31m│\u001b[0m\n",
                            "\u001b[31m│\u001b[0m                                                                                                  \u001b[31m│\u001b[0m\n",
                            "\u001b[31m│\u001b[0m \u001b[2;33m/opt/homebrew/Caskroom/mambaforge/base/envs/Automating_Equity1/lib/python3.10/site-packages/pand\u001b[0m \u001b[31m│\u001b[0m\n",
                            "\u001b[31m│\u001b[0m \u001b[2;33mas/core/indexes/\u001b[0m\u001b[1;33mbase.py\u001b[0m:\u001b[94m3655\u001b[0m in \u001b[92mget_loc\u001b[0m                                                          \u001b[31m│\u001b[0m\n",
                            "\u001b[31m│\u001b[0m                                                                                                  \u001b[31m│\u001b[0m\n",
                            "\u001b[31m│\u001b[0m   \u001b[2m3652 \u001b[0m\u001b[2m│   │   \u001b[0m\u001b[94mtry\u001b[0m:                                                                              \u001b[31m│\u001b[0m\n",
                            "\u001b[31m│\u001b[0m   \u001b[2m3653 \u001b[0m\u001b[2m│   │   │   \u001b[0m\u001b[94mreturn\u001b[0m \u001b[96mself\u001b[0m._engine.get_loc(casted_key)                                       \u001b[31m│\u001b[0m\n",
                            "\u001b[31m│\u001b[0m   \u001b[2m3654 \u001b[0m\u001b[2m│   │   \u001b[0m\u001b[94mexcept\u001b[0m \u001b[96mKeyError\u001b[0m \u001b[94mas\u001b[0m err:                                                           \u001b[31m│\u001b[0m\n",
                            "\u001b[31m│\u001b[0m \u001b[31m❱ \u001b[0m3655 \u001b[2m│   │   │   \u001b[0m\u001b[94mraise\u001b[0m \u001b[96mKeyError\u001b[0m(key) \u001b[94mfrom\u001b[0m \u001b[4;96merr\u001b[0m                                                  \u001b[31m│\u001b[0m\n",
                            "\u001b[31m│\u001b[0m   \u001b[2m3656 \u001b[0m\u001b[2m│   │   \u001b[0m\u001b[94mexcept\u001b[0m \u001b[96mTypeError\u001b[0m:                                                                 \u001b[31m│\u001b[0m\n",
                            "\u001b[31m│\u001b[0m   \u001b[2m3657 \u001b[0m\u001b[2m│   │   │   \u001b[0m\u001b[2m# If we have a listlike key, _check_indexing_error will raise\u001b[0m                 \u001b[31m│\u001b[0m\n",
                            "\u001b[31m│\u001b[0m   \u001b[2m3658 \u001b[0m\u001b[2m│   │   │   \u001b[0m\u001b[2m#  InvalidIndexError. Otherwise we fall through and re-raise\u001b[0m                  \u001b[31m│\u001b[0m\n",
                            "\u001b[31m╰──────────────────────────────────────────────────────────────────────────────────────────────────╯\u001b[0m\n",
                            "\u001b[1;91mKeyError: \u001b[0m\u001b[32m'Sector'\u001b[0m\n"
                        ]
                    },
                    "metadata": {},
                    "output_type": "display_data"
                }
            ],
            "source": [
                "if df_jobs['Sector'].isna().sum() != 0:\n",
                "    print('Some search keywords did not match a sector. Fixing')\n",
                "    print(set(df_jobs['Search Keyword'].loc[df_jobs['Sector'].isna()].to_list()))\n",
                "    print(len(df_jobs['Search Keyword'].loc[df_jobs['Search Keyword'].isin(list(keyword_trans_dict.keys()))]))\n",
                "    df_jobs = fix_keywords(df_jobs)\n",
                "    print(set(df_jobs['Search Keyword'].loc[df_jobs['Sector'].isna()].to_list()))\n",
                "    print(len(df_jobs['Search Keyword'].loc[df_jobs['Search Keyword'].isin(list(keyword_trans_dict.keys()))]))\n"
            ]
        },
        {
            "cell_type": "code",
            "execution_count": 66,
            "metadata": {},
            "outputs": [
                {
                    "data": {
                        "text/html": [
                            "<pre style=\"white-space:pre;overflow-x:auto;line-height:normal;font-family:Menlo,'DejaVu Sans Mono',consolas,'Courier New',monospace\"><span style=\"color: #800000; text-decoration-color: #800000\">╭─────────────────────────────── </span><span style=\"color: #800000; text-decoration-color: #800000; font-weight: bold\">Traceback </span><span style=\"color: #bf7f7f; text-decoration-color: #bf7f7f; font-weight: bold\">(most recent call last)</span><span style=\"color: #800000; text-decoration-color: #800000\"> ────────────────────────────────╮</span>\n",
                            "<span style=\"color: #800000; text-decoration-color: #800000\">│</span> <span style=\"color: #bfbf7f; text-decoration-color: #bfbf7f\">/opt/homebrew/Caskroom/mambaforge/base/envs/Automating_Equity1/lib/python3.10/site-packages/pand</span> <span style=\"color: #800000; text-decoration-color: #800000\">│</span>\n",
                            "<span style=\"color: #800000; text-decoration-color: #800000\">│</span> <span style=\"color: #bfbf7f; text-decoration-color: #bfbf7f\">as/core/indexes/</span><span style=\"color: #808000; text-decoration-color: #808000; font-weight: bold\">base.py</span>:<span style=\"color: #0000ff; text-decoration-color: #0000ff\">3653</span> in <span style=\"color: #00ff00; text-decoration-color: #00ff00\">get_loc</span>                                                          <span style=\"color: #800000; text-decoration-color: #800000\">│</span>\n",
                            "<span style=\"color: #800000; text-decoration-color: #800000\">│</span>                                                                                                  <span style=\"color: #800000; text-decoration-color: #800000\">│</span>\n",
                            "<span style=\"color: #800000; text-decoration-color: #800000\">│</span>   <span style=\"color: #7f7f7f; text-decoration-color: #7f7f7f\">3650 </span><span style=\"color: #bfbf7f; text-decoration-color: #bfbf7f\">│   │   </span><span style=\"color: #808000; text-decoration-color: #808000\">\"\"\"</span>                                                                               <span style=\"color: #800000; text-decoration-color: #800000\">│</span>\n",
                            "<span style=\"color: #800000; text-decoration-color: #800000\">│</span>   <span style=\"color: #7f7f7f; text-decoration-color: #7f7f7f\">3651 </span><span style=\"color: #7f7f7f; text-decoration-color: #7f7f7f\">│   │   </span>casted_key = <span style=\"color: #00ffff; text-decoration-color: #00ffff\">self</span>._maybe_cast_indexer(key)                                        <span style=\"color: #800000; text-decoration-color: #800000\">│</span>\n",
                            "<span style=\"color: #800000; text-decoration-color: #800000\">│</span>   <span style=\"color: #7f7f7f; text-decoration-color: #7f7f7f\">3652 </span><span style=\"color: #7f7f7f; text-decoration-color: #7f7f7f\">│   │   </span><span style=\"color: #0000ff; text-decoration-color: #0000ff\">try</span>:                                                                              <span style=\"color: #800000; text-decoration-color: #800000\">│</span>\n",
                            "<span style=\"color: #800000; text-decoration-color: #800000\">│</span> <span style=\"color: #800000; text-decoration-color: #800000\">❱ </span>3653 <span style=\"color: #7f7f7f; text-decoration-color: #7f7f7f\">│   │   │   </span><span style=\"color: #0000ff; text-decoration-color: #0000ff\">return</span> <span style=\"color: #00ffff; text-decoration-color: #00ffff\">self</span>._engine.get_loc(casted_key)                                       <span style=\"color: #800000; text-decoration-color: #800000\">│</span>\n",
                            "<span style=\"color: #800000; text-decoration-color: #800000\">│</span>   <span style=\"color: #7f7f7f; text-decoration-color: #7f7f7f\">3654 </span><span style=\"color: #7f7f7f; text-decoration-color: #7f7f7f\">│   │   </span><span style=\"color: #0000ff; text-decoration-color: #0000ff\">except</span> <span style=\"color: #00ffff; text-decoration-color: #00ffff\">KeyError</span> <span style=\"color: #0000ff; text-decoration-color: #0000ff\">as</span> err:                                                           <span style=\"color: #800000; text-decoration-color: #800000\">│</span>\n",
                            "<span style=\"color: #800000; text-decoration-color: #800000\">│</span>   <span style=\"color: #7f7f7f; text-decoration-color: #7f7f7f\">3655 </span><span style=\"color: #7f7f7f; text-decoration-color: #7f7f7f\">│   │   │   </span><span style=\"color: #0000ff; text-decoration-color: #0000ff\">raise</span> <span style=\"color: #00ffff; text-decoration-color: #00ffff\">KeyError</span>(key) <span style=\"color: #0000ff; text-decoration-color: #0000ff\">from</span> <span style=\"color: #00ffff; text-decoration-color: #00ffff; text-decoration: underline\">err</span>                                                  <span style=\"color: #800000; text-decoration-color: #800000\">│</span>\n",
                            "<span style=\"color: #800000; text-decoration-color: #800000\">│</span>   <span style=\"color: #7f7f7f; text-decoration-color: #7f7f7f\">3656 </span><span style=\"color: #7f7f7f; text-decoration-color: #7f7f7f\">│   │   </span><span style=\"color: #0000ff; text-decoration-color: #0000ff\">except</span> <span style=\"color: #00ffff; text-decoration-color: #00ffff\">TypeError</span>:                                                                 <span style=\"color: #800000; text-decoration-color: #800000\">│</span>\n",
                            "<span style=\"color: #800000; text-decoration-color: #800000\">│</span>                                                                                                  <span style=\"color: #800000; text-decoration-color: #800000\">│</span>\n",
                            "<span style=\"color: #800000; text-decoration-color: #800000\">│</span> in <span style=\"color: #00ff00; text-decoration-color: #00ff00\">pandas._libs.index.IndexEngine.get_loc</span>:<span style=\"color: #0000ff; text-decoration-color: #0000ff\">147</span>                                                    <span style=\"color: #800000; text-decoration-color: #800000\">│</span>\n",
                            "<span style=\"color: #800000; text-decoration-color: #800000\">│</span>                                                                                                  <span style=\"color: #800000; text-decoration-color: #800000\">│</span>\n",
                            "<span style=\"color: #800000; text-decoration-color: #800000\">│</span> in <span style=\"color: #00ff00; text-decoration-color: #00ff00\">pandas._libs.index.IndexEngine.get_loc</span>:<span style=\"color: #0000ff; text-decoration-color: #0000ff\">176</span>                                                    <span style=\"color: #800000; text-decoration-color: #800000\">│</span>\n",
                            "<span style=\"color: #800000; text-decoration-color: #800000\">│</span>                                                                                                  <span style=\"color: #800000; text-decoration-color: #800000\">│</span>\n",
                            "<span style=\"color: #800000; text-decoration-color: #800000\">│</span> in <span style=\"color: #00ff00; text-decoration-color: #00ff00\">pandas._libs.hashtable.PyObjectHashTable.get_item</span>:<span style=\"color: #0000ff; text-decoration-color: #0000ff\">7080</span>                                        <span style=\"color: #800000; text-decoration-color: #800000\">│</span>\n",
                            "<span style=\"color: #800000; text-decoration-color: #800000\">│</span>                                                                                                  <span style=\"color: #800000; text-decoration-color: #800000\">│</span>\n",
                            "<span style=\"color: #800000; text-decoration-color: #800000\">│</span> in <span style=\"color: #00ff00; text-decoration-color: #00ff00\">pandas._libs.hashtable.PyObjectHashTable.get_item</span>:<span style=\"color: #0000ff; text-decoration-color: #0000ff\">7088</span>                                        <span style=\"color: #800000; text-decoration-color: #800000\">│</span>\n",
                            "<span style=\"color: #800000; text-decoration-color: #800000\">╰──────────────────────────────────────────────────────────────────────────────────────────────────╯</span>\n",
                            "<span style=\"color: #ff0000; text-decoration-color: #ff0000; font-weight: bold\">KeyError: </span><span style=\"color: #008000; text-decoration-color: #008000\">'Gender'</span>\n",
                            "\n",
                            "<span style=\"font-style: italic\">The above exception was the direct cause of the following exception:</span>\n",
                            "\n",
                            "<span style=\"color: #800000; text-decoration-color: #800000\">╭─────────────────────────────── </span><span style=\"color: #800000; text-decoration-color: #800000; font-weight: bold\">Traceback </span><span style=\"color: #bf7f7f; text-decoration-color: #bf7f7f; font-weight: bold\">(most recent call last)</span><span style=\"color: #800000; text-decoration-color: #800000\"> ────────────────────────────────╮</span>\n",
                            "<span style=\"color: #800000; text-decoration-color: #800000\">│</span> in <span style=\"color: #00ff00; text-decoration-color: #00ff00\">&lt;module&gt;</span>:<span style=\"color: #0000ff; text-decoration-color: #0000ff\">2</span>                                                                                    <span style=\"color: #800000; text-decoration-color: #800000\">│</span>\n",
                            "<span style=\"color: #800000; text-decoration-color: #800000\">│</span>                                                                                                  <span style=\"color: #800000; text-decoration-color: #800000\">│</span>\n",
                            "<span style=\"color: #800000; text-decoration-color: #800000\">│</span>   <span style=\"color: #7f7f7f; text-decoration-color: #7f7f7f\">1 # Female=3955, Male=6974, Mixed Gender=6664</span>                                                  <span style=\"color: #800000; text-decoration-color: #800000\">│</span>\n",
                            "<span style=\"color: #800000; text-decoration-color: #800000\">│</span> <span style=\"color: #800000; text-decoration-color: #800000\">❱ </span>2 df_jobs[<span style=\"color: #808000; text-decoration-color: #808000\">'Gender'</span>].value_counts()                                                             <span style=\"color: #800000; text-decoration-color: #800000\">│</span>\n",
                            "<span style=\"color: #800000; text-decoration-color: #800000\">│</span>   <span style=\"color: #7f7f7f; text-decoration-color: #7f7f7f\">3 </span>                                                                                             <span style=\"color: #800000; text-decoration-color: #800000\">│</span>\n",
                            "<span style=\"color: #800000; text-decoration-color: #800000\">│</span>                                                                                                  <span style=\"color: #800000; text-decoration-color: #800000\">│</span>\n",
                            "<span style=\"color: #800000; text-decoration-color: #800000\">│</span> <span style=\"color: #bfbf7f; text-decoration-color: #bfbf7f\">/opt/homebrew/Caskroom/mambaforge/base/envs/Automating_Equity1/lib/python3.10/site-packages/pand</span> <span style=\"color: #800000; text-decoration-color: #800000\">│</span>\n",
                            "<span style=\"color: #800000; text-decoration-color: #800000\">│</span> <span style=\"color: #bfbf7f; text-decoration-color: #bfbf7f\">as/core/</span><span style=\"color: #808000; text-decoration-color: #808000; font-weight: bold\">frame.py</span>:<span style=\"color: #0000ff; text-decoration-color: #0000ff\">3761</span> in <span style=\"color: #00ff00; text-decoration-color: #00ff00\">__getitem__</span>                                                             <span style=\"color: #800000; text-decoration-color: #800000\">│</span>\n",
                            "<span style=\"color: #800000; text-decoration-color: #800000\">│</span>                                                                                                  <span style=\"color: #800000; text-decoration-color: #800000\">│</span>\n",
                            "<span style=\"color: #800000; text-decoration-color: #800000\">│</span>   <span style=\"color: #7f7f7f; text-decoration-color: #7f7f7f\"> 3758 </span><span style=\"color: #7f7f7f; text-decoration-color: #7f7f7f\">│   │   </span><span style=\"color: #0000ff; text-decoration-color: #0000ff\">if</span> is_single_key:                                                                <span style=\"color: #800000; text-decoration-color: #800000\">│</span>\n",
                            "<span style=\"color: #800000; text-decoration-color: #800000\">│</span>   <span style=\"color: #7f7f7f; text-decoration-color: #7f7f7f\"> 3759 </span><span style=\"color: #7f7f7f; text-decoration-color: #7f7f7f\">│   │   │   </span><span style=\"color: #0000ff; text-decoration-color: #0000ff\">if</span> <span style=\"color: #00ffff; text-decoration-color: #00ffff\">self</span>.columns.nlevels &gt; <span style=\"color: #0000ff; text-decoration-color: #0000ff\">1</span>:                                                 <span style=\"color: #800000; text-decoration-color: #800000\">│</span>\n",
                            "<span style=\"color: #800000; text-decoration-color: #800000\">│</span>   <span style=\"color: #7f7f7f; text-decoration-color: #7f7f7f\"> 3760 </span><span style=\"color: #7f7f7f; text-decoration-color: #7f7f7f\">│   │   │   │   </span><span style=\"color: #0000ff; text-decoration-color: #0000ff\">return</span> <span style=\"color: #00ffff; text-decoration-color: #00ffff\">self</span>._getitem_multilevel(key)                                     <span style=\"color: #800000; text-decoration-color: #800000\">│</span>\n",
                            "<span style=\"color: #800000; text-decoration-color: #800000\">│</span> <span style=\"color: #800000; text-decoration-color: #800000\">❱ </span> 3761 <span style=\"color: #7f7f7f; text-decoration-color: #7f7f7f\">│   │   │   </span>indexer = <span style=\"color: #00ffff; text-decoration-color: #00ffff\">self</span>.columns.get_loc(key)                                          <span style=\"color: #800000; text-decoration-color: #800000\">│</span>\n",
                            "<span style=\"color: #800000; text-decoration-color: #800000\">│</span>   <span style=\"color: #7f7f7f; text-decoration-color: #7f7f7f\"> 3762 </span><span style=\"color: #7f7f7f; text-decoration-color: #7f7f7f\">│   │   │   </span><span style=\"color: #0000ff; text-decoration-color: #0000ff\">if</span> is_integer(indexer):                                                      <span style=\"color: #800000; text-decoration-color: #800000\">│</span>\n",
                            "<span style=\"color: #800000; text-decoration-color: #800000\">│</span>   <span style=\"color: #7f7f7f; text-decoration-color: #7f7f7f\"> 3763 </span><span style=\"color: #7f7f7f; text-decoration-color: #7f7f7f\">│   │   │   │   </span>indexer = [indexer]                                                      <span style=\"color: #800000; text-decoration-color: #800000\">│</span>\n",
                            "<span style=\"color: #800000; text-decoration-color: #800000\">│</span>   <span style=\"color: #7f7f7f; text-decoration-color: #7f7f7f\"> 3764 </span><span style=\"color: #7f7f7f; text-decoration-color: #7f7f7f\">│   │   </span><span style=\"color: #0000ff; text-decoration-color: #0000ff\">else</span>:                                                                            <span style=\"color: #800000; text-decoration-color: #800000\">│</span>\n",
                            "<span style=\"color: #800000; text-decoration-color: #800000\">│</span>                                                                                                  <span style=\"color: #800000; text-decoration-color: #800000\">│</span>\n",
                            "<span style=\"color: #800000; text-decoration-color: #800000\">│</span> <span style=\"color: #bfbf7f; text-decoration-color: #bfbf7f\">/opt/homebrew/Caskroom/mambaforge/base/envs/Automating_Equity1/lib/python3.10/site-packages/pand</span> <span style=\"color: #800000; text-decoration-color: #800000\">│</span>\n",
                            "<span style=\"color: #800000; text-decoration-color: #800000\">│</span> <span style=\"color: #bfbf7f; text-decoration-color: #bfbf7f\">as/core/indexes/</span><span style=\"color: #808000; text-decoration-color: #808000; font-weight: bold\">base.py</span>:<span style=\"color: #0000ff; text-decoration-color: #0000ff\">3655</span> in <span style=\"color: #00ff00; text-decoration-color: #00ff00\">get_loc</span>                                                          <span style=\"color: #800000; text-decoration-color: #800000\">│</span>\n",
                            "<span style=\"color: #800000; text-decoration-color: #800000\">│</span>                                                                                                  <span style=\"color: #800000; text-decoration-color: #800000\">│</span>\n",
                            "<span style=\"color: #800000; text-decoration-color: #800000\">│</span>   <span style=\"color: #7f7f7f; text-decoration-color: #7f7f7f\">3652 </span><span style=\"color: #7f7f7f; text-decoration-color: #7f7f7f\">│   │   </span><span style=\"color: #0000ff; text-decoration-color: #0000ff\">try</span>:                                                                              <span style=\"color: #800000; text-decoration-color: #800000\">│</span>\n",
                            "<span style=\"color: #800000; text-decoration-color: #800000\">│</span>   <span style=\"color: #7f7f7f; text-decoration-color: #7f7f7f\">3653 </span><span style=\"color: #7f7f7f; text-decoration-color: #7f7f7f\">│   │   │   </span><span style=\"color: #0000ff; text-decoration-color: #0000ff\">return</span> <span style=\"color: #00ffff; text-decoration-color: #00ffff\">self</span>._engine.get_loc(casted_key)                                       <span style=\"color: #800000; text-decoration-color: #800000\">│</span>\n",
                            "<span style=\"color: #800000; text-decoration-color: #800000\">│</span>   <span style=\"color: #7f7f7f; text-decoration-color: #7f7f7f\">3654 </span><span style=\"color: #7f7f7f; text-decoration-color: #7f7f7f\">│   │   </span><span style=\"color: #0000ff; text-decoration-color: #0000ff\">except</span> <span style=\"color: #00ffff; text-decoration-color: #00ffff\">KeyError</span> <span style=\"color: #0000ff; text-decoration-color: #0000ff\">as</span> err:                                                           <span style=\"color: #800000; text-decoration-color: #800000\">│</span>\n",
                            "<span style=\"color: #800000; text-decoration-color: #800000\">│</span> <span style=\"color: #800000; text-decoration-color: #800000\">❱ </span>3655 <span style=\"color: #7f7f7f; text-decoration-color: #7f7f7f\">│   │   │   </span><span style=\"color: #0000ff; text-decoration-color: #0000ff\">raise</span> <span style=\"color: #00ffff; text-decoration-color: #00ffff\">KeyError</span>(key) <span style=\"color: #0000ff; text-decoration-color: #0000ff\">from</span> <span style=\"color: #00ffff; text-decoration-color: #00ffff; text-decoration: underline\">err</span>                                                  <span style=\"color: #800000; text-decoration-color: #800000\">│</span>\n",
                            "<span style=\"color: #800000; text-decoration-color: #800000\">│</span>   <span style=\"color: #7f7f7f; text-decoration-color: #7f7f7f\">3656 </span><span style=\"color: #7f7f7f; text-decoration-color: #7f7f7f\">│   │   </span><span style=\"color: #0000ff; text-decoration-color: #0000ff\">except</span> <span style=\"color: #00ffff; text-decoration-color: #00ffff\">TypeError</span>:                                                                 <span style=\"color: #800000; text-decoration-color: #800000\">│</span>\n",
                            "<span style=\"color: #800000; text-decoration-color: #800000\">│</span>   <span style=\"color: #7f7f7f; text-decoration-color: #7f7f7f\">3657 </span><span style=\"color: #7f7f7f; text-decoration-color: #7f7f7f\">│   │   │   </span><span style=\"color: #7f7f7f; text-decoration-color: #7f7f7f\"># If we have a listlike key, _check_indexing_error will raise</span>                 <span style=\"color: #800000; text-decoration-color: #800000\">│</span>\n",
                            "<span style=\"color: #800000; text-decoration-color: #800000\">│</span>   <span style=\"color: #7f7f7f; text-decoration-color: #7f7f7f\">3658 </span><span style=\"color: #7f7f7f; text-decoration-color: #7f7f7f\">│   │   │   </span><span style=\"color: #7f7f7f; text-decoration-color: #7f7f7f\">#  InvalidIndexError. Otherwise we fall through and re-raise</span>                  <span style=\"color: #800000; text-decoration-color: #800000\">│</span>\n",
                            "<span style=\"color: #800000; text-decoration-color: #800000\">╰──────────────────────────────────────────────────────────────────────────────────────────────────╯</span>\n",
                            "<span style=\"color: #ff0000; text-decoration-color: #ff0000; font-weight: bold\">KeyError: </span><span style=\"color: #008000; text-decoration-color: #008000\">'Gender'</span>\n",
                            "</pre>\n"
                        ],
                        "text/plain": [
                            "\u001b[31m╭─\u001b[0m\u001b[31m──────────────────────────────\u001b[0m\u001b[31m \u001b[0m\u001b[1;31mTraceback \u001b[0m\u001b[1;2;31m(most recent call last)\u001b[0m\u001b[31m \u001b[0m\u001b[31m───────────────────────────────\u001b[0m\u001b[31m─╮\u001b[0m\n",
                            "\u001b[31m│\u001b[0m \u001b[2;33m/opt/homebrew/Caskroom/mambaforge/base/envs/Automating_Equity1/lib/python3.10/site-packages/pand\u001b[0m \u001b[31m│\u001b[0m\n",
                            "\u001b[31m│\u001b[0m \u001b[2;33mas/core/indexes/\u001b[0m\u001b[1;33mbase.py\u001b[0m:\u001b[94m3653\u001b[0m in \u001b[92mget_loc\u001b[0m                                                          \u001b[31m│\u001b[0m\n",
                            "\u001b[31m│\u001b[0m                                                                                                  \u001b[31m│\u001b[0m\n",
                            "\u001b[31m│\u001b[0m   \u001b[2m3650 \u001b[0m\u001b[2;33m│   │   \u001b[0m\u001b[33m\"\"\"\u001b[0m                                                                               \u001b[31m│\u001b[0m\n",
                            "\u001b[31m│\u001b[0m   \u001b[2m3651 \u001b[0m\u001b[2m│   │   \u001b[0mcasted_key = \u001b[96mself\u001b[0m._maybe_cast_indexer(key)                                        \u001b[31m│\u001b[0m\n",
                            "\u001b[31m│\u001b[0m   \u001b[2m3652 \u001b[0m\u001b[2m│   │   \u001b[0m\u001b[94mtry\u001b[0m:                                                                              \u001b[31m│\u001b[0m\n",
                            "\u001b[31m│\u001b[0m \u001b[31m❱ \u001b[0m3653 \u001b[2m│   │   │   \u001b[0m\u001b[94mreturn\u001b[0m \u001b[96mself\u001b[0m._engine.get_loc(casted_key)                                       \u001b[31m│\u001b[0m\n",
                            "\u001b[31m│\u001b[0m   \u001b[2m3654 \u001b[0m\u001b[2m│   │   \u001b[0m\u001b[94mexcept\u001b[0m \u001b[96mKeyError\u001b[0m \u001b[94mas\u001b[0m err:                                                           \u001b[31m│\u001b[0m\n",
                            "\u001b[31m│\u001b[0m   \u001b[2m3655 \u001b[0m\u001b[2m│   │   │   \u001b[0m\u001b[94mraise\u001b[0m \u001b[96mKeyError\u001b[0m(key) \u001b[94mfrom\u001b[0m \u001b[4;96merr\u001b[0m                                                  \u001b[31m│\u001b[0m\n",
                            "\u001b[31m│\u001b[0m   \u001b[2m3656 \u001b[0m\u001b[2m│   │   \u001b[0m\u001b[94mexcept\u001b[0m \u001b[96mTypeError\u001b[0m:                                                                 \u001b[31m│\u001b[0m\n",
                            "\u001b[31m│\u001b[0m                                                                                                  \u001b[31m│\u001b[0m\n",
                            "\u001b[31m│\u001b[0m in \u001b[92mpandas._libs.index.IndexEngine.get_loc\u001b[0m:\u001b[94m147\u001b[0m                                                    \u001b[31m│\u001b[0m\n",
                            "\u001b[31m│\u001b[0m                                                                                                  \u001b[31m│\u001b[0m\n",
                            "\u001b[31m│\u001b[0m in \u001b[92mpandas._libs.index.IndexEngine.get_loc\u001b[0m:\u001b[94m176\u001b[0m                                                    \u001b[31m│\u001b[0m\n",
                            "\u001b[31m│\u001b[0m                                                                                                  \u001b[31m│\u001b[0m\n",
                            "\u001b[31m│\u001b[0m in \u001b[92mpandas._libs.hashtable.PyObjectHashTable.get_item\u001b[0m:\u001b[94m7080\u001b[0m                                        \u001b[31m│\u001b[0m\n",
                            "\u001b[31m│\u001b[0m                                                                                                  \u001b[31m│\u001b[0m\n",
                            "\u001b[31m│\u001b[0m in \u001b[92mpandas._libs.hashtable.PyObjectHashTable.get_item\u001b[0m:\u001b[94m7088\u001b[0m                                        \u001b[31m│\u001b[0m\n",
                            "\u001b[31m╰──────────────────────────────────────────────────────────────────────────────────────────────────╯\u001b[0m\n",
                            "\u001b[1;91mKeyError: \u001b[0m\u001b[32m'Gender'\u001b[0m\n",
                            "\n",
                            "\u001b[3mThe above exception was the direct cause of the following exception:\u001b[0m\n",
                            "\n",
                            "\u001b[31m╭─\u001b[0m\u001b[31m──────────────────────────────\u001b[0m\u001b[31m \u001b[0m\u001b[1;31mTraceback \u001b[0m\u001b[1;2;31m(most recent call last)\u001b[0m\u001b[31m \u001b[0m\u001b[31m───────────────────────────────\u001b[0m\u001b[31m─╮\u001b[0m\n",
                            "\u001b[31m│\u001b[0m in \u001b[92m<module>\u001b[0m:\u001b[94m2\u001b[0m                                                                                    \u001b[31m│\u001b[0m\n",
                            "\u001b[31m│\u001b[0m                                                                                                  \u001b[31m│\u001b[0m\n",
                            "\u001b[31m│\u001b[0m   \u001b[2m1 \u001b[0m\u001b[2m# Female=3955, Male=6974, Mixed Gender=6664\u001b[0m                                                  \u001b[31m│\u001b[0m\n",
                            "\u001b[31m│\u001b[0m \u001b[31m❱ \u001b[0m2 df_jobs[\u001b[33m'\u001b[0m\u001b[33mGender\u001b[0m\u001b[33m'\u001b[0m].value_counts()                                                             \u001b[31m│\u001b[0m\n",
                            "\u001b[31m│\u001b[0m   \u001b[2m3 \u001b[0m                                                                                             \u001b[31m│\u001b[0m\n",
                            "\u001b[31m│\u001b[0m                                                                                                  \u001b[31m│\u001b[0m\n",
                            "\u001b[31m│\u001b[0m \u001b[2;33m/opt/homebrew/Caskroom/mambaforge/base/envs/Automating_Equity1/lib/python3.10/site-packages/pand\u001b[0m \u001b[31m│\u001b[0m\n",
                            "\u001b[31m│\u001b[0m \u001b[2;33mas/core/\u001b[0m\u001b[1;33mframe.py\u001b[0m:\u001b[94m3761\u001b[0m in \u001b[92m__getitem__\u001b[0m                                                             \u001b[31m│\u001b[0m\n",
                            "\u001b[31m│\u001b[0m                                                                                                  \u001b[31m│\u001b[0m\n",
                            "\u001b[31m│\u001b[0m   \u001b[2m 3758 \u001b[0m\u001b[2m│   │   \u001b[0m\u001b[94mif\u001b[0m is_single_key:                                                                \u001b[31m│\u001b[0m\n",
                            "\u001b[31m│\u001b[0m   \u001b[2m 3759 \u001b[0m\u001b[2m│   │   │   \u001b[0m\u001b[94mif\u001b[0m \u001b[96mself\u001b[0m.columns.nlevels > \u001b[94m1\u001b[0m:                                                 \u001b[31m│\u001b[0m\n",
                            "\u001b[31m│\u001b[0m   \u001b[2m 3760 \u001b[0m\u001b[2m│   │   │   │   \u001b[0m\u001b[94mreturn\u001b[0m \u001b[96mself\u001b[0m._getitem_multilevel(key)                                     \u001b[31m│\u001b[0m\n",
                            "\u001b[31m│\u001b[0m \u001b[31m❱ \u001b[0m 3761 \u001b[2m│   │   │   \u001b[0mindexer = \u001b[96mself\u001b[0m.columns.get_loc(key)                                          \u001b[31m│\u001b[0m\n",
                            "\u001b[31m│\u001b[0m   \u001b[2m 3762 \u001b[0m\u001b[2m│   │   │   \u001b[0m\u001b[94mif\u001b[0m is_integer(indexer):                                                      \u001b[31m│\u001b[0m\n",
                            "\u001b[31m│\u001b[0m   \u001b[2m 3763 \u001b[0m\u001b[2m│   │   │   │   \u001b[0mindexer = [indexer]                                                      \u001b[31m│\u001b[0m\n",
                            "\u001b[31m│\u001b[0m   \u001b[2m 3764 \u001b[0m\u001b[2m│   │   \u001b[0m\u001b[94melse\u001b[0m:                                                                            \u001b[31m│\u001b[0m\n",
                            "\u001b[31m│\u001b[0m                                                                                                  \u001b[31m│\u001b[0m\n",
                            "\u001b[31m│\u001b[0m \u001b[2;33m/opt/homebrew/Caskroom/mambaforge/base/envs/Automating_Equity1/lib/python3.10/site-packages/pand\u001b[0m \u001b[31m│\u001b[0m\n",
                            "\u001b[31m│\u001b[0m \u001b[2;33mas/core/indexes/\u001b[0m\u001b[1;33mbase.py\u001b[0m:\u001b[94m3655\u001b[0m in \u001b[92mget_loc\u001b[0m                                                          \u001b[31m│\u001b[0m\n",
                            "\u001b[31m│\u001b[0m                                                                                                  \u001b[31m│\u001b[0m\n",
                            "\u001b[31m│\u001b[0m   \u001b[2m3652 \u001b[0m\u001b[2m│   │   \u001b[0m\u001b[94mtry\u001b[0m:                                                                              \u001b[31m│\u001b[0m\n",
                            "\u001b[31m│\u001b[0m   \u001b[2m3653 \u001b[0m\u001b[2m│   │   │   \u001b[0m\u001b[94mreturn\u001b[0m \u001b[96mself\u001b[0m._engine.get_loc(casted_key)                                       \u001b[31m│\u001b[0m\n",
                            "\u001b[31m│\u001b[0m   \u001b[2m3654 \u001b[0m\u001b[2m│   │   \u001b[0m\u001b[94mexcept\u001b[0m \u001b[96mKeyError\u001b[0m \u001b[94mas\u001b[0m err:                                                           \u001b[31m│\u001b[0m\n",
                            "\u001b[31m│\u001b[0m \u001b[31m❱ \u001b[0m3655 \u001b[2m│   │   │   \u001b[0m\u001b[94mraise\u001b[0m \u001b[96mKeyError\u001b[0m(key) \u001b[94mfrom\u001b[0m \u001b[4;96merr\u001b[0m                                                  \u001b[31m│\u001b[0m\n",
                            "\u001b[31m│\u001b[0m   \u001b[2m3656 \u001b[0m\u001b[2m│   │   \u001b[0m\u001b[94mexcept\u001b[0m \u001b[96mTypeError\u001b[0m:                                                                 \u001b[31m│\u001b[0m\n",
                            "\u001b[31m│\u001b[0m   \u001b[2m3657 \u001b[0m\u001b[2m│   │   │   \u001b[0m\u001b[2m# If we have a listlike key, _check_indexing_error will raise\u001b[0m                 \u001b[31m│\u001b[0m\n",
                            "\u001b[31m│\u001b[0m   \u001b[2m3658 \u001b[0m\u001b[2m│   │   │   \u001b[0m\u001b[2m#  InvalidIndexError. Otherwise we fall through and re-raise\u001b[0m                  \u001b[31m│\u001b[0m\n",
                            "\u001b[31m╰──────────────────────────────────────────────────────────────────────────────────────────────────╯\u001b[0m\n",
                            "\u001b[1;91mKeyError: \u001b[0m\u001b[32m'Gender'\u001b[0m\n"
                        ]
                    },
                    "metadata": {},
                    "output_type": "display_data"
                }
            ],
            "source": [
                "# Female=3955, Male=6974, Mixed Gender=6664\n",
                "df_jobs['Gender'].value_counts()\n"
            ]
        },
        {
            "cell_type": "code",
            "execution_count": 67,
            "metadata": {},
            "outputs": [
                {
                    "data": {
                        "text/html": [
                            "<pre style=\"white-space:pre;overflow-x:auto;line-height:normal;font-family:Menlo,'DejaVu Sans Mono',consolas,'Courier New',monospace\"><span style=\"color: #800000; text-decoration-color: #800000\">╭─────────────────────────────── </span><span style=\"color: #800000; text-decoration-color: #800000; font-weight: bold\">Traceback </span><span style=\"color: #bf7f7f; text-decoration-color: #bf7f7f; font-weight: bold\">(most recent call last)</span><span style=\"color: #800000; text-decoration-color: #800000\"> ────────────────────────────────╮</span>\n",
                            "<span style=\"color: #800000; text-decoration-color: #800000\">│</span> <span style=\"color: #bfbf7f; text-decoration-color: #bfbf7f\">/opt/homebrew/Caskroom/mambaforge/base/envs/Automating_Equity1/lib/python3.10/site-packages/pand</span> <span style=\"color: #800000; text-decoration-color: #800000\">│</span>\n",
                            "<span style=\"color: #800000; text-decoration-color: #800000\">│</span> <span style=\"color: #bfbf7f; text-decoration-color: #bfbf7f\">as/core/indexes/</span><span style=\"color: #808000; text-decoration-color: #808000; font-weight: bold\">base.py</span>:<span style=\"color: #0000ff; text-decoration-color: #0000ff\">3653</span> in <span style=\"color: #00ff00; text-decoration-color: #00ff00\">get_loc</span>                                                          <span style=\"color: #800000; text-decoration-color: #800000\">│</span>\n",
                            "<span style=\"color: #800000; text-decoration-color: #800000\">│</span>                                                                                                  <span style=\"color: #800000; text-decoration-color: #800000\">│</span>\n",
                            "<span style=\"color: #800000; text-decoration-color: #800000\">│</span>   <span style=\"color: #7f7f7f; text-decoration-color: #7f7f7f\">3650 </span><span style=\"color: #bfbf7f; text-decoration-color: #bfbf7f\">│   │   </span><span style=\"color: #808000; text-decoration-color: #808000\">\"\"\"</span>                                                                               <span style=\"color: #800000; text-decoration-color: #800000\">│</span>\n",
                            "<span style=\"color: #800000; text-decoration-color: #800000\">│</span>   <span style=\"color: #7f7f7f; text-decoration-color: #7f7f7f\">3651 </span><span style=\"color: #7f7f7f; text-decoration-color: #7f7f7f\">│   │   </span>casted_key = <span style=\"color: #00ffff; text-decoration-color: #00ffff\">self</span>._maybe_cast_indexer(key)                                        <span style=\"color: #800000; text-decoration-color: #800000\">│</span>\n",
                            "<span style=\"color: #800000; text-decoration-color: #800000\">│</span>   <span style=\"color: #7f7f7f; text-decoration-color: #7f7f7f\">3652 </span><span style=\"color: #7f7f7f; text-decoration-color: #7f7f7f\">│   │   </span><span style=\"color: #0000ff; text-decoration-color: #0000ff\">try</span>:                                                                              <span style=\"color: #800000; text-decoration-color: #800000\">│</span>\n",
                            "<span style=\"color: #800000; text-decoration-color: #800000\">│</span> <span style=\"color: #800000; text-decoration-color: #800000\">❱ </span>3653 <span style=\"color: #7f7f7f; text-decoration-color: #7f7f7f\">│   │   │   </span><span style=\"color: #0000ff; text-decoration-color: #0000ff\">return</span> <span style=\"color: #00ffff; text-decoration-color: #00ffff\">self</span>._engine.get_loc(casted_key)                                       <span style=\"color: #800000; text-decoration-color: #800000\">│</span>\n",
                            "<span style=\"color: #800000; text-decoration-color: #800000\">│</span>   <span style=\"color: #7f7f7f; text-decoration-color: #7f7f7f\">3654 </span><span style=\"color: #7f7f7f; text-decoration-color: #7f7f7f\">│   │   </span><span style=\"color: #0000ff; text-decoration-color: #0000ff\">except</span> <span style=\"color: #00ffff; text-decoration-color: #00ffff\">KeyError</span> <span style=\"color: #0000ff; text-decoration-color: #0000ff\">as</span> err:                                                           <span style=\"color: #800000; text-decoration-color: #800000\">│</span>\n",
                            "<span style=\"color: #800000; text-decoration-color: #800000\">│</span>   <span style=\"color: #7f7f7f; text-decoration-color: #7f7f7f\">3655 </span><span style=\"color: #7f7f7f; text-decoration-color: #7f7f7f\">│   │   │   </span><span style=\"color: #0000ff; text-decoration-color: #0000ff\">raise</span> <span style=\"color: #00ffff; text-decoration-color: #00ffff\">KeyError</span>(key) <span style=\"color: #0000ff; text-decoration-color: #0000ff\">from</span> <span style=\"color: #00ffff; text-decoration-color: #00ffff; text-decoration: underline\">err</span>                                                  <span style=\"color: #800000; text-decoration-color: #800000\">│</span>\n",
                            "<span style=\"color: #800000; text-decoration-color: #800000\">│</span>   <span style=\"color: #7f7f7f; text-decoration-color: #7f7f7f\">3656 </span><span style=\"color: #7f7f7f; text-decoration-color: #7f7f7f\">│   │   </span><span style=\"color: #0000ff; text-decoration-color: #0000ff\">except</span> <span style=\"color: #00ffff; text-decoration-color: #00ffff\">TypeError</span>:                                                                 <span style=\"color: #800000; text-decoration-color: #800000\">│</span>\n",
                            "<span style=\"color: #800000; text-decoration-color: #800000\">│</span>                                                                                                  <span style=\"color: #800000; text-decoration-color: #800000\">│</span>\n",
                            "<span style=\"color: #800000; text-decoration-color: #800000\">│</span> in <span style=\"color: #00ff00; text-decoration-color: #00ff00\">pandas._libs.index.IndexEngine.get_loc</span>:<span style=\"color: #0000ff; text-decoration-color: #0000ff\">147</span>                                                    <span style=\"color: #800000; text-decoration-color: #800000\">│</span>\n",
                            "<span style=\"color: #800000; text-decoration-color: #800000\">│</span>                                                                                                  <span style=\"color: #800000; text-decoration-color: #800000\">│</span>\n",
                            "<span style=\"color: #800000; text-decoration-color: #800000\">│</span> in <span style=\"color: #00ff00; text-decoration-color: #00ff00\">pandas._libs.index.IndexEngine.get_loc</span>:<span style=\"color: #0000ff; text-decoration-color: #0000ff\">176</span>                                                    <span style=\"color: #800000; text-decoration-color: #800000\">│</span>\n",
                            "<span style=\"color: #800000; text-decoration-color: #800000\">│</span>                                                                                                  <span style=\"color: #800000; text-decoration-color: #800000\">│</span>\n",
                            "<span style=\"color: #800000; text-decoration-color: #800000\">│</span> in <span style=\"color: #00ff00; text-decoration-color: #00ff00\">pandas._libs.hashtable.PyObjectHashTable.get_item</span>:<span style=\"color: #0000ff; text-decoration-color: #0000ff\">7080</span>                                        <span style=\"color: #800000; text-decoration-color: #800000\">│</span>\n",
                            "<span style=\"color: #800000; text-decoration-color: #800000\">│</span>                                                                                                  <span style=\"color: #800000; text-decoration-color: #800000\">│</span>\n",
                            "<span style=\"color: #800000; text-decoration-color: #800000\">│</span> in <span style=\"color: #00ff00; text-decoration-color: #00ff00\">pandas._libs.hashtable.PyObjectHashTable.get_item</span>:<span style=\"color: #0000ff; text-decoration-color: #0000ff\">7088</span>                                        <span style=\"color: #800000; text-decoration-color: #800000\">│</span>\n",
                            "<span style=\"color: #800000; text-decoration-color: #800000\">╰──────────────────────────────────────────────────────────────────────────────────────────────────╯</span>\n",
                            "<span style=\"color: #ff0000; text-decoration-color: #ff0000; font-weight: bold\">KeyError: </span><span style=\"color: #008000; text-decoration-color: #008000\">'Age'</span>\n",
                            "\n",
                            "<span style=\"font-style: italic\">The above exception was the direct cause of the following exception:</span>\n",
                            "\n",
                            "<span style=\"color: #800000; text-decoration-color: #800000\">╭─────────────────────────────── </span><span style=\"color: #800000; text-decoration-color: #800000; font-weight: bold\">Traceback </span><span style=\"color: #bf7f7f; text-decoration-color: #bf7f7f; font-weight: bold\">(most recent call last)</span><span style=\"color: #800000; text-decoration-color: #800000\"> ────────────────────────────────╮</span>\n",
                            "<span style=\"color: #800000; text-decoration-color: #800000\">│</span> in <span style=\"color: #00ff00; text-decoration-color: #00ff00\">&lt;module&gt;</span>:<span style=\"color: #0000ff; text-decoration-color: #0000ff\">2</span>                                                                                    <span style=\"color: #800000; text-decoration-color: #800000\">│</span>\n",
                            "<span style=\"color: #800000; text-decoration-color: #800000\">│</span>                                                                                                  <span style=\"color: #800000; text-decoration-color: #800000\">│</span>\n",
                            "<span style=\"color: #800000; text-decoration-color: #800000\">│</span>   <span style=\"color: #7f7f7f; text-decoration-color: #7f7f7f\">1 # Older=3778, Younger=2351, Mixed Age=11464</span>                                                  <span style=\"color: #800000; text-decoration-color: #800000\">│</span>\n",
                            "<span style=\"color: #800000; text-decoration-color: #800000\">│</span> <span style=\"color: #800000; text-decoration-color: #800000\">❱ </span>2 df_jobs[<span style=\"color: #808000; text-decoration-color: #808000\">'Age'</span>].value_counts()                                                                <span style=\"color: #800000; text-decoration-color: #800000\">│</span>\n",
                            "<span style=\"color: #800000; text-decoration-color: #800000\">│</span>   <span style=\"color: #7f7f7f; text-decoration-color: #7f7f7f\">3 </span>                                                                                             <span style=\"color: #800000; text-decoration-color: #800000\">│</span>\n",
                            "<span style=\"color: #800000; text-decoration-color: #800000\">│</span>                                                                                                  <span style=\"color: #800000; text-decoration-color: #800000\">│</span>\n",
                            "<span style=\"color: #800000; text-decoration-color: #800000\">│</span> <span style=\"color: #bfbf7f; text-decoration-color: #bfbf7f\">/opt/homebrew/Caskroom/mambaforge/base/envs/Automating_Equity1/lib/python3.10/site-packages/pand</span> <span style=\"color: #800000; text-decoration-color: #800000\">│</span>\n",
                            "<span style=\"color: #800000; text-decoration-color: #800000\">│</span> <span style=\"color: #bfbf7f; text-decoration-color: #bfbf7f\">as/core/</span><span style=\"color: #808000; text-decoration-color: #808000; font-weight: bold\">frame.py</span>:<span style=\"color: #0000ff; text-decoration-color: #0000ff\">3761</span> in <span style=\"color: #00ff00; text-decoration-color: #00ff00\">__getitem__</span>                                                             <span style=\"color: #800000; text-decoration-color: #800000\">│</span>\n",
                            "<span style=\"color: #800000; text-decoration-color: #800000\">│</span>                                                                                                  <span style=\"color: #800000; text-decoration-color: #800000\">│</span>\n",
                            "<span style=\"color: #800000; text-decoration-color: #800000\">│</span>   <span style=\"color: #7f7f7f; text-decoration-color: #7f7f7f\"> 3758 </span><span style=\"color: #7f7f7f; text-decoration-color: #7f7f7f\">│   │   </span><span style=\"color: #0000ff; text-decoration-color: #0000ff\">if</span> is_single_key:                                                                <span style=\"color: #800000; text-decoration-color: #800000\">│</span>\n",
                            "<span style=\"color: #800000; text-decoration-color: #800000\">│</span>   <span style=\"color: #7f7f7f; text-decoration-color: #7f7f7f\"> 3759 </span><span style=\"color: #7f7f7f; text-decoration-color: #7f7f7f\">│   │   │   </span><span style=\"color: #0000ff; text-decoration-color: #0000ff\">if</span> <span style=\"color: #00ffff; text-decoration-color: #00ffff\">self</span>.columns.nlevels &gt; <span style=\"color: #0000ff; text-decoration-color: #0000ff\">1</span>:                                                 <span style=\"color: #800000; text-decoration-color: #800000\">│</span>\n",
                            "<span style=\"color: #800000; text-decoration-color: #800000\">│</span>   <span style=\"color: #7f7f7f; text-decoration-color: #7f7f7f\"> 3760 </span><span style=\"color: #7f7f7f; text-decoration-color: #7f7f7f\">│   │   │   │   </span><span style=\"color: #0000ff; text-decoration-color: #0000ff\">return</span> <span style=\"color: #00ffff; text-decoration-color: #00ffff\">self</span>._getitem_multilevel(key)                                     <span style=\"color: #800000; text-decoration-color: #800000\">│</span>\n",
                            "<span style=\"color: #800000; text-decoration-color: #800000\">│</span> <span style=\"color: #800000; text-decoration-color: #800000\">❱ </span> 3761 <span style=\"color: #7f7f7f; text-decoration-color: #7f7f7f\">│   │   │   </span>indexer = <span style=\"color: #00ffff; text-decoration-color: #00ffff\">self</span>.columns.get_loc(key)                                          <span style=\"color: #800000; text-decoration-color: #800000\">│</span>\n",
                            "<span style=\"color: #800000; text-decoration-color: #800000\">│</span>   <span style=\"color: #7f7f7f; text-decoration-color: #7f7f7f\"> 3762 </span><span style=\"color: #7f7f7f; text-decoration-color: #7f7f7f\">│   │   │   </span><span style=\"color: #0000ff; text-decoration-color: #0000ff\">if</span> is_integer(indexer):                                                      <span style=\"color: #800000; text-decoration-color: #800000\">│</span>\n",
                            "<span style=\"color: #800000; text-decoration-color: #800000\">│</span>   <span style=\"color: #7f7f7f; text-decoration-color: #7f7f7f\"> 3763 </span><span style=\"color: #7f7f7f; text-decoration-color: #7f7f7f\">│   │   │   │   </span>indexer = [indexer]                                                      <span style=\"color: #800000; text-decoration-color: #800000\">│</span>\n",
                            "<span style=\"color: #800000; text-decoration-color: #800000\">│</span>   <span style=\"color: #7f7f7f; text-decoration-color: #7f7f7f\"> 3764 </span><span style=\"color: #7f7f7f; text-decoration-color: #7f7f7f\">│   │   </span><span style=\"color: #0000ff; text-decoration-color: #0000ff\">else</span>:                                                                            <span style=\"color: #800000; text-decoration-color: #800000\">│</span>\n",
                            "<span style=\"color: #800000; text-decoration-color: #800000\">│</span>                                                                                                  <span style=\"color: #800000; text-decoration-color: #800000\">│</span>\n",
                            "<span style=\"color: #800000; text-decoration-color: #800000\">│</span> <span style=\"color: #bfbf7f; text-decoration-color: #bfbf7f\">/opt/homebrew/Caskroom/mambaforge/base/envs/Automating_Equity1/lib/python3.10/site-packages/pand</span> <span style=\"color: #800000; text-decoration-color: #800000\">│</span>\n",
                            "<span style=\"color: #800000; text-decoration-color: #800000\">│</span> <span style=\"color: #bfbf7f; text-decoration-color: #bfbf7f\">as/core/indexes/</span><span style=\"color: #808000; text-decoration-color: #808000; font-weight: bold\">base.py</span>:<span style=\"color: #0000ff; text-decoration-color: #0000ff\">3655</span> in <span style=\"color: #00ff00; text-decoration-color: #00ff00\">get_loc</span>                                                          <span style=\"color: #800000; text-decoration-color: #800000\">│</span>\n",
                            "<span style=\"color: #800000; text-decoration-color: #800000\">│</span>                                                                                                  <span style=\"color: #800000; text-decoration-color: #800000\">│</span>\n",
                            "<span style=\"color: #800000; text-decoration-color: #800000\">│</span>   <span style=\"color: #7f7f7f; text-decoration-color: #7f7f7f\">3652 </span><span style=\"color: #7f7f7f; text-decoration-color: #7f7f7f\">│   │   </span><span style=\"color: #0000ff; text-decoration-color: #0000ff\">try</span>:                                                                              <span style=\"color: #800000; text-decoration-color: #800000\">│</span>\n",
                            "<span style=\"color: #800000; text-decoration-color: #800000\">│</span>   <span style=\"color: #7f7f7f; text-decoration-color: #7f7f7f\">3653 </span><span style=\"color: #7f7f7f; text-decoration-color: #7f7f7f\">│   │   │   </span><span style=\"color: #0000ff; text-decoration-color: #0000ff\">return</span> <span style=\"color: #00ffff; text-decoration-color: #00ffff\">self</span>._engine.get_loc(casted_key)                                       <span style=\"color: #800000; text-decoration-color: #800000\">│</span>\n",
                            "<span style=\"color: #800000; text-decoration-color: #800000\">│</span>   <span style=\"color: #7f7f7f; text-decoration-color: #7f7f7f\">3654 </span><span style=\"color: #7f7f7f; text-decoration-color: #7f7f7f\">│   │   </span><span style=\"color: #0000ff; text-decoration-color: #0000ff\">except</span> <span style=\"color: #00ffff; text-decoration-color: #00ffff\">KeyError</span> <span style=\"color: #0000ff; text-decoration-color: #0000ff\">as</span> err:                                                           <span style=\"color: #800000; text-decoration-color: #800000\">│</span>\n",
                            "<span style=\"color: #800000; text-decoration-color: #800000\">│</span> <span style=\"color: #800000; text-decoration-color: #800000\">❱ </span>3655 <span style=\"color: #7f7f7f; text-decoration-color: #7f7f7f\">│   │   │   </span><span style=\"color: #0000ff; text-decoration-color: #0000ff\">raise</span> <span style=\"color: #00ffff; text-decoration-color: #00ffff\">KeyError</span>(key) <span style=\"color: #0000ff; text-decoration-color: #0000ff\">from</span> <span style=\"color: #00ffff; text-decoration-color: #00ffff; text-decoration: underline\">err</span>                                                  <span style=\"color: #800000; text-decoration-color: #800000\">│</span>\n",
                            "<span style=\"color: #800000; text-decoration-color: #800000\">│</span>   <span style=\"color: #7f7f7f; text-decoration-color: #7f7f7f\">3656 </span><span style=\"color: #7f7f7f; text-decoration-color: #7f7f7f\">│   │   </span><span style=\"color: #0000ff; text-decoration-color: #0000ff\">except</span> <span style=\"color: #00ffff; text-decoration-color: #00ffff\">TypeError</span>:                                                                 <span style=\"color: #800000; text-decoration-color: #800000\">│</span>\n",
                            "<span style=\"color: #800000; text-decoration-color: #800000\">│</span>   <span style=\"color: #7f7f7f; text-decoration-color: #7f7f7f\">3657 </span><span style=\"color: #7f7f7f; text-decoration-color: #7f7f7f\">│   │   │   </span><span style=\"color: #7f7f7f; text-decoration-color: #7f7f7f\"># If we have a listlike key, _check_indexing_error will raise</span>                 <span style=\"color: #800000; text-decoration-color: #800000\">│</span>\n",
                            "<span style=\"color: #800000; text-decoration-color: #800000\">│</span>   <span style=\"color: #7f7f7f; text-decoration-color: #7f7f7f\">3658 </span><span style=\"color: #7f7f7f; text-decoration-color: #7f7f7f\">│   │   │   </span><span style=\"color: #7f7f7f; text-decoration-color: #7f7f7f\">#  InvalidIndexError. Otherwise we fall through and re-raise</span>                  <span style=\"color: #800000; text-decoration-color: #800000\">│</span>\n",
                            "<span style=\"color: #800000; text-decoration-color: #800000\">╰──────────────────────────────────────────────────────────────────────────────────────────────────╯</span>\n",
                            "<span style=\"color: #ff0000; text-decoration-color: #ff0000; font-weight: bold\">KeyError: </span><span style=\"color: #008000; text-decoration-color: #008000\">'Age'</span>\n",
                            "</pre>\n"
                        ],
                        "text/plain": [
                            "\u001b[31m╭─\u001b[0m\u001b[31m──────────────────────────────\u001b[0m\u001b[31m \u001b[0m\u001b[1;31mTraceback \u001b[0m\u001b[1;2;31m(most recent call last)\u001b[0m\u001b[31m \u001b[0m\u001b[31m───────────────────────────────\u001b[0m\u001b[31m─╮\u001b[0m\n",
                            "\u001b[31m│\u001b[0m \u001b[2;33m/opt/homebrew/Caskroom/mambaforge/base/envs/Automating_Equity1/lib/python3.10/site-packages/pand\u001b[0m \u001b[31m│\u001b[0m\n",
                            "\u001b[31m│\u001b[0m \u001b[2;33mas/core/indexes/\u001b[0m\u001b[1;33mbase.py\u001b[0m:\u001b[94m3653\u001b[0m in \u001b[92mget_loc\u001b[0m                                                          \u001b[31m│\u001b[0m\n",
                            "\u001b[31m│\u001b[0m                                                                                                  \u001b[31m│\u001b[0m\n",
                            "\u001b[31m│\u001b[0m   \u001b[2m3650 \u001b[0m\u001b[2;33m│   │   \u001b[0m\u001b[33m\"\"\"\u001b[0m                                                                               \u001b[31m│\u001b[0m\n",
                            "\u001b[31m│\u001b[0m   \u001b[2m3651 \u001b[0m\u001b[2m│   │   \u001b[0mcasted_key = \u001b[96mself\u001b[0m._maybe_cast_indexer(key)                                        \u001b[31m│\u001b[0m\n",
                            "\u001b[31m│\u001b[0m   \u001b[2m3652 \u001b[0m\u001b[2m│   │   \u001b[0m\u001b[94mtry\u001b[0m:                                                                              \u001b[31m│\u001b[0m\n",
                            "\u001b[31m│\u001b[0m \u001b[31m❱ \u001b[0m3653 \u001b[2m│   │   │   \u001b[0m\u001b[94mreturn\u001b[0m \u001b[96mself\u001b[0m._engine.get_loc(casted_key)                                       \u001b[31m│\u001b[0m\n",
                            "\u001b[31m│\u001b[0m   \u001b[2m3654 \u001b[0m\u001b[2m│   │   \u001b[0m\u001b[94mexcept\u001b[0m \u001b[96mKeyError\u001b[0m \u001b[94mas\u001b[0m err:                                                           \u001b[31m│\u001b[0m\n",
                            "\u001b[31m│\u001b[0m   \u001b[2m3655 \u001b[0m\u001b[2m│   │   │   \u001b[0m\u001b[94mraise\u001b[0m \u001b[96mKeyError\u001b[0m(key) \u001b[94mfrom\u001b[0m \u001b[4;96merr\u001b[0m                                                  \u001b[31m│\u001b[0m\n",
                            "\u001b[31m│\u001b[0m   \u001b[2m3656 \u001b[0m\u001b[2m│   │   \u001b[0m\u001b[94mexcept\u001b[0m \u001b[96mTypeError\u001b[0m:                                                                 \u001b[31m│\u001b[0m\n",
                            "\u001b[31m│\u001b[0m                                                                                                  \u001b[31m│\u001b[0m\n",
                            "\u001b[31m│\u001b[0m in \u001b[92mpandas._libs.index.IndexEngine.get_loc\u001b[0m:\u001b[94m147\u001b[0m                                                    \u001b[31m│\u001b[0m\n",
                            "\u001b[31m│\u001b[0m                                                                                                  \u001b[31m│\u001b[0m\n",
                            "\u001b[31m│\u001b[0m in \u001b[92mpandas._libs.index.IndexEngine.get_loc\u001b[0m:\u001b[94m176\u001b[0m                                                    \u001b[31m│\u001b[0m\n",
                            "\u001b[31m│\u001b[0m                                                                                                  \u001b[31m│\u001b[0m\n",
                            "\u001b[31m│\u001b[0m in \u001b[92mpandas._libs.hashtable.PyObjectHashTable.get_item\u001b[0m:\u001b[94m7080\u001b[0m                                        \u001b[31m│\u001b[0m\n",
                            "\u001b[31m│\u001b[0m                                                                                                  \u001b[31m│\u001b[0m\n",
                            "\u001b[31m│\u001b[0m in \u001b[92mpandas._libs.hashtable.PyObjectHashTable.get_item\u001b[0m:\u001b[94m7088\u001b[0m                                        \u001b[31m│\u001b[0m\n",
                            "\u001b[31m╰──────────────────────────────────────────────────────────────────────────────────────────────────╯\u001b[0m\n",
                            "\u001b[1;91mKeyError: \u001b[0m\u001b[32m'Age'\u001b[0m\n",
                            "\n",
                            "\u001b[3mThe above exception was the direct cause of the following exception:\u001b[0m\n",
                            "\n",
                            "\u001b[31m╭─\u001b[0m\u001b[31m──────────────────────────────\u001b[0m\u001b[31m \u001b[0m\u001b[1;31mTraceback \u001b[0m\u001b[1;2;31m(most recent call last)\u001b[0m\u001b[31m \u001b[0m\u001b[31m───────────────────────────────\u001b[0m\u001b[31m─╮\u001b[0m\n",
                            "\u001b[31m│\u001b[0m in \u001b[92m<module>\u001b[0m:\u001b[94m2\u001b[0m                                                                                    \u001b[31m│\u001b[0m\n",
                            "\u001b[31m│\u001b[0m                                                                                                  \u001b[31m│\u001b[0m\n",
                            "\u001b[31m│\u001b[0m   \u001b[2m1 \u001b[0m\u001b[2m# Older=3778, Younger=2351, Mixed Age=11464\u001b[0m                                                  \u001b[31m│\u001b[0m\n",
                            "\u001b[31m│\u001b[0m \u001b[31m❱ \u001b[0m2 df_jobs[\u001b[33m'\u001b[0m\u001b[33mAge\u001b[0m\u001b[33m'\u001b[0m].value_counts()                                                                \u001b[31m│\u001b[0m\n",
                            "\u001b[31m│\u001b[0m   \u001b[2m3 \u001b[0m                                                                                             \u001b[31m│\u001b[0m\n",
                            "\u001b[31m│\u001b[0m                                                                                                  \u001b[31m│\u001b[0m\n",
                            "\u001b[31m│\u001b[0m \u001b[2;33m/opt/homebrew/Caskroom/mambaforge/base/envs/Automating_Equity1/lib/python3.10/site-packages/pand\u001b[0m \u001b[31m│\u001b[0m\n",
                            "\u001b[31m│\u001b[0m \u001b[2;33mas/core/\u001b[0m\u001b[1;33mframe.py\u001b[0m:\u001b[94m3761\u001b[0m in \u001b[92m__getitem__\u001b[0m                                                             \u001b[31m│\u001b[0m\n",
                            "\u001b[31m│\u001b[0m                                                                                                  \u001b[31m│\u001b[0m\n",
                            "\u001b[31m│\u001b[0m   \u001b[2m 3758 \u001b[0m\u001b[2m│   │   \u001b[0m\u001b[94mif\u001b[0m is_single_key:                                                                \u001b[31m│\u001b[0m\n",
                            "\u001b[31m│\u001b[0m   \u001b[2m 3759 \u001b[0m\u001b[2m│   │   │   \u001b[0m\u001b[94mif\u001b[0m \u001b[96mself\u001b[0m.columns.nlevels > \u001b[94m1\u001b[0m:                                                 \u001b[31m│\u001b[0m\n",
                            "\u001b[31m│\u001b[0m   \u001b[2m 3760 \u001b[0m\u001b[2m│   │   │   │   \u001b[0m\u001b[94mreturn\u001b[0m \u001b[96mself\u001b[0m._getitem_multilevel(key)                                     \u001b[31m│\u001b[0m\n",
                            "\u001b[31m│\u001b[0m \u001b[31m❱ \u001b[0m 3761 \u001b[2m│   │   │   \u001b[0mindexer = \u001b[96mself\u001b[0m.columns.get_loc(key)                                          \u001b[31m│\u001b[0m\n",
                            "\u001b[31m│\u001b[0m   \u001b[2m 3762 \u001b[0m\u001b[2m│   │   │   \u001b[0m\u001b[94mif\u001b[0m is_integer(indexer):                                                      \u001b[31m│\u001b[0m\n",
                            "\u001b[31m│\u001b[0m   \u001b[2m 3763 \u001b[0m\u001b[2m│   │   │   │   \u001b[0mindexer = [indexer]                                                      \u001b[31m│\u001b[0m\n",
                            "\u001b[31m│\u001b[0m   \u001b[2m 3764 \u001b[0m\u001b[2m│   │   \u001b[0m\u001b[94melse\u001b[0m:                                                                            \u001b[31m│\u001b[0m\n",
                            "\u001b[31m│\u001b[0m                                                                                                  \u001b[31m│\u001b[0m\n",
                            "\u001b[31m│\u001b[0m \u001b[2;33m/opt/homebrew/Caskroom/mambaforge/base/envs/Automating_Equity1/lib/python3.10/site-packages/pand\u001b[0m \u001b[31m│\u001b[0m\n",
                            "\u001b[31m│\u001b[0m \u001b[2;33mas/core/indexes/\u001b[0m\u001b[1;33mbase.py\u001b[0m:\u001b[94m3655\u001b[0m in \u001b[92mget_loc\u001b[0m                                                          \u001b[31m│\u001b[0m\n",
                            "\u001b[31m│\u001b[0m                                                                                                  \u001b[31m│\u001b[0m\n",
                            "\u001b[31m│\u001b[0m   \u001b[2m3652 \u001b[0m\u001b[2m│   │   \u001b[0m\u001b[94mtry\u001b[0m:                                                                              \u001b[31m│\u001b[0m\n",
                            "\u001b[31m│\u001b[0m   \u001b[2m3653 \u001b[0m\u001b[2m│   │   │   \u001b[0m\u001b[94mreturn\u001b[0m \u001b[96mself\u001b[0m._engine.get_loc(casted_key)                                       \u001b[31m│\u001b[0m\n",
                            "\u001b[31m│\u001b[0m   \u001b[2m3654 \u001b[0m\u001b[2m│   │   \u001b[0m\u001b[94mexcept\u001b[0m \u001b[96mKeyError\u001b[0m \u001b[94mas\u001b[0m err:                                                           \u001b[31m│\u001b[0m\n",
                            "\u001b[31m│\u001b[0m \u001b[31m❱ \u001b[0m3655 \u001b[2m│   │   │   \u001b[0m\u001b[94mraise\u001b[0m \u001b[96mKeyError\u001b[0m(key) \u001b[94mfrom\u001b[0m \u001b[4;96merr\u001b[0m                                                  \u001b[31m│\u001b[0m\n",
                            "\u001b[31m│\u001b[0m   \u001b[2m3656 \u001b[0m\u001b[2m│   │   \u001b[0m\u001b[94mexcept\u001b[0m \u001b[96mTypeError\u001b[0m:                                                                 \u001b[31m│\u001b[0m\n",
                            "\u001b[31m│\u001b[0m   \u001b[2m3657 \u001b[0m\u001b[2m│   │   │   \u001b[0m\u001b[2m# If we have a listlike key, _check_indexing_error will raise\u001b[0m                 \u001b[31m│\u001b[0m\n",
                            "\u001b[31m│\u001b[0m   \u001b[2m3658 \u001b[0m\u001b[2m│   │   │   \u001b[0m\u001b[2m#  InvalidIndexError. Otherwise we fall through and re-raise\u001b[0m                  \u001b[31m│\u001b[0m\n",
                            "\u001b[31m╰──────────────────────────────────────────────────────────────────────────────────────────────────╯\u001b[0m\n",
                            "\u001b[1;91mKeyError: \u001b[0m\u001b[32m'Age'\u001b[0m\n"
                        ]
                    },
                    "metadata": {},
                    "output_type": "display_data"
                }
            ],
            "source": [
                "# Older=3778, Younger=2351, Mixed Age=11464\n",
                "df_jobs['Age'].value_counts()\n"
            ]
        },
        {
            "cell_type": "code",
            "execution_count": 68,
            "metadata": {},
            "outputs": [
                {
                    "data": {
                        "text/html": [
                            "<pre style=\"white-space:pre;overflow-x:auto;line-height:normal;font-family:Menlo,'DejaVu Sans Mono',consolas,'Courier New',monospace\"><span style=\"color: #800000; text-decoration-color: #800000\">╭─────────────────────────────── </span><span style=\"color: #800000; text-decoration-color: #800000; font-weight: bold\">Traceback </span><span style=\"color: #bf7f7f; text-decoration-color: #bf7f7f; font-weight: bold\">(most recent call last)</span><span style=\"color: #800000; text-decoration-color: #800000\"> ────────────────────────────────╮</span>\n",
                            "<span style=\"color: #800000; text-decoration-color: #800000\">│</span> <span style=\"color: #bfbf7f; text-decoration-color: #bfbf7f\">/opt/homebrew/Caskroom/mambaforge/base/envs/Automating_Equity1/lib/python3.10/site-packages/pand</span> <span style=\"color: #800000; text-decoration-color: #800000\">│</span>\n",
                            "<span style=\"color: #800000; text-decoration-color: #800000\">│</span> <span style=\"color: #bfbf7f; text-decoration-color: #bfbf7f\">as/core/indexes/</span><span style=\"color: #808000; text-decoration-color: #808000; font-weight: bold\">base.py</span>:<span style=\"color: #0000ff; text-decoration-color: #0000ff\">3653</span> in <span style=\"color: #00ff00; text-decoration-color: #00ff00\">get_loc</span>                                                          <span style=\"color: #800000; text-decoration-color: #800000\">│</span>\n",
                            "<span style=\"color: #800000; text-decoration-color: #800000\">│</span>                                                                                                  <span style=\"color: #800000; text-decoration-color: #800000\">│</span>\n",
                            "<span style=\"color: #800000; text-decoration-color: #800000\">│</span>   <span style=\"color: #7f7f7f; text-decoration-color: #7f7f7f\">3650 </span><span style=\"color: #bfbf7f; text-decoration-color: #bfbf7f\">│   │   </span><span style=\"color: #808000; text-decoration-color: #808000\">\"\"\"</span>                                                                               <span style=\"color: #800000; text-decoration-color: #800000\">│</span>\n",
                            "<span style=\"color: #800000; text-decoration-color: #800000\">│</span>   <span style=\"color: #7f7f7f; text-decoration-color: #7f7f7f\">3651 </span><span style=\"color: #7f7f7f; text-decoration-color: #7f7f7f\">│   │   </span>casted_key = <span style=\"color: #00ffff; text-decoration-color: #00ffff\">self</span>._maybe_cast_indexer(key)                                        <span style=\"color: #800000; text-decoration-color: #800000\">│</span>\n",
                            "<span style=\"color: #800000; text-decoration-color: #800000\">│</span>   <span style=\"color: #7f7f7f; text-decoration-color: #7f7f7f\">3652 </span><span style=\"color: #7f7f7f; text-decoration-color: #7f7f7f\">│   │   </span><span style=\"color: #0000ff; text-decoration-color: #0000ff\">try</span>:                                                                              <span style=\"color: #800000; text-decoration-color: #800000\">│</span>\n",
                            "<span style=\"color: #800000; text-decoration-color: #800000\">│</span> <span style=\"color: #800000; text-decoration-color: #800000\">❱ </span>3653 <span style=\"color: #7f7f7f; text-decoration-color: #7f7f7f\">│   │   │   </span><span style=\"color: #0000ff; text-decoration-color: #0000ff\">return</span> <span style=\"color: #00ffff; text-decoration-color: #00ffff\">self</span>._engine.get_loc(casted_key)                                       <span style=\"color: #800000; text-decoration-color: #800000\">│</span>\n",
                            "<span style=\"color: #800000; text-decoration-color: #800000\">│</span>   <span style=\"color: #7f7f7f; text-decoration-color: #7f7f7f\">3654 </span><span style=\"color: #7f7f7f; text-decoration-color: #7f7f7f\">│   │   </span><span style=\"color: #0000ff; text-decoration-color: #0000ff\">except</span> <span style=\"color: #00ffff; text-decoration-color: #00ffff\">KeyError</span> <span style=\"color: #0000ff; text-decoration-color: #0000ff\">as</span> err:                                                           <span style=\"color: #800000; text-decoration-color: #800000\">│</span>\n",
                            "<span style=\"color: #800000; text-decoration-color: #800000\">│</span>   <span style=\"color: #7f7f7f; text-decoration-color: #7f7f7f\">3655 </span><span style=\"color: #7f7f7f; text-decoration-color: #7f7f7f\">│   │   │   </span><span style=\"color: #0000ff; text-decoration-color: #0000ff\">raise</span> <span style=\"color: #00ffff; text-decoration-color: #00ffff\">KeyError</span>(key) <span style=\"color: #0000ff; text-decoration-color: #0000ff\">from</span> <span style=\"color: #00ffff; text-decoration-color: #00ffff; text-decoration: underline\">err</span>                                                  <span style=\"color: #800000; text-decoration-color: #800000\">│</span>\n",
                            "<span style=\"color: #800000; text-decoration-color: #800000\">│</span>   <span style=\"color: #7f7f7f; text-decoration-color: #7f7f7f\">3656 </span><span style=\"color: #7f7f7f; text-decoration-color: #7f7f7f\">│   │   </span><span style=\"color: #0000ff; text-decoration-color: #0000ff\">except</span> <span style=\"color: #00ffff; text-decoration-color: #00ffff\">TypeError</span>:                                                                 <span style=\"color: #800000; text-decoration-color: #800000\">│</span>\n",
                            "<span style=\"color: #800000; text-decoration-color: #800000\">│</span>                                                                                                  <span style=\"color: #800000; text-decoration-color: #800000\">│</span>\n",
                            "<span style=\"color: #800000; text-decoration-color: #800000\">│</span> in <span style=\"color: #00ff00; text-decoration-color: #00ff00\">pandas._libs.index.IndexEngine.get_loc</span>:<span style=\"color: #0000ff; text-decoration-color: #0000ff\">147</span>                                                    <span style=\"color: #800000; text-decoration-color: #800000\">│</span>\n",
                            "<span style=\"color: #800000; text-decoration-color: #800000\">│</span>                                                                                                  <span style=\"color: #800000; text-decoration-color: #800000\">│</span>\n",
                            "<span style=\"color: #800000; text-decoration-color: #800000\">│</span> in <span style=\"color: #00ff00; text-decoration-color: #00ff00\">pandas._libs.index.IndexEngine.get_loc</span>:<span style=\"color: #0000ff; text-decoration-color: #0000ff\">176</span>                                                    <span style=\"color: #800000; text-decoration-color: #800000\">│</span>\n",
                            "<span style=\"color: #800000; text-decoration-color: #800000\">│</span>                                                                                                  <span style=\"color: #800000; text-decoration-color: #800000\">│</span>\n",
                            "<span style=\"color: #800000; text-decoration-color: #800000\">│</span> in <span style=\"color: #00ff00; text-decoration-color: #00ff00\">pandas._libs.hashtable.PyObjectHashTable.get_item</span>:<span style=\"color: #0000ff; text-decoration-color: #0000ff\">7080</span>                                        <span style=\"color: #800000; text-decoration-color: #800000\">│</span>\n",
                            "<span style=\"color: #800000; text-decoration-color: #800000\">│</span>                                                                                                  <span style=\"color: #800000; text-decoration-color: #800000\">│</span>\n",
                            "<span style=\"color: #800000; text-decoration-color: #800000\">│</span> in <span style=\"color: #00ff00; text-decoration-color: #00ff00\">pandas._libs.hashtable.PyObjectHashTable.get_item</span>:<span style=\"color: #0000ff; text-decoration-color: #0000ff\">7088</span>                                        <span style=\"color: #800000; text-decoration-color: #800000\">│</span>\n",
                            "<span style=\"color: #800000; text-decoration-color: #800000\">╰──────────────────────────────────────────────────────────────────────────────────────────────────╯</span>\n",
                            "<span style=\"color: #ff0000; text-decoration-color: #ff0000; font-weight: bold\">KeyError: </span><span style=\"color: #008000; text-decoration-color: #008000\">'Sector'</span>\n",
                            "\n",
                            "<span style=\"font-style: italic\">The above exception was the direct cause of the following exception:</span>\n",
                            "\n",
                            "<span style=\"color: #800000; text-decoration-color: #800000\">╭─────────────────────────────── </span><span style=\"color: #800000; text-decoration-color: #800000; font-weight: bold\">Traceback </span><span style=\"color: #bf7f7f; text-decoration-color: #bf7f7f; font-weight: bold\">(most recent call last)</span><span style=\"color: #800000; text-decoration-color: #800000\"> ────────────────────────────────╮</span>\n",
                            "<span style=\"color: #800000; text-decoration-color: #800000\">│</span> in <span style=\"color: #00ff00; text-decoration-color: #00ff00\">&lt;module&gt;</span>:<span style=\"color: #0000ff; text-decoration-color: #0000ff\">1</span>                                                                                    <span style=\"color: #800000; text-decoration-color: #800000\">│</span>\n",
                            "<span style=\"color: #800000; text-decoration-color: #800000\">│</span>                                                                                                  <span style=\"color: #800000; text-decoration-color: #800000\">│</span>\n",
                            "<span style=\"color: #800000; text-decoration-color: #800000\">│</span> <span style=\"color: #800000; text-decoration-color: #800000\">❱ </span>1 <span style=\"color: #0000ff; text-decoration-color: #0000ff\">if</span> df_jobs[<span style=\"color: #808000; text-decoration-color: #808000\">'Sector'</span>].isna().sum() == <span style=\"color: #0000ff; text-decoration-color: #0000ff\">0</span>:                                                      <span style=\"color: #800000; text-decoration-color: #800000\">│</span>\n",
                            "<span style=\"color: #800000; text-decoration-color: #800000\">│</span>   <span style=\"color: #7f7f7f; text-decoration-color: #7f7f7f\">2 </span><span style=\"color: #7f7f7f; text-decoration-color: #7f7f7f\">│   </span><span style=\"color: #0000ff; text-decoration-color: #0000ff\">assert</span> <span style=\"color: #00ffff; text-decoration-color: #00ffff\">len</span>(df_jobs) &gt; <span style=\"color: #0000ff; text-decoration-color: #0000ff\">0</span> <span style=\"color: #ff00ff; text-decoration-color: #ff00ff\">and</span> <span style=\"color: #00ffff; text-decoration-color: #00ffff\">isinstance</span>(df_jobs, pd.DataFrame), <span style=\"color: #808000; text-decoration-color: #808000\">f'ERORR: LENGTH OF DF</span>     <span style=\"color: #800000; text-decoration-color: #800000\">│</span>\n",
                            "<span style=\"color: #800000; text-decoration-color: #800000\">│</span>   <span style=\"color: #7f7f7f; text-decoration-color: #7f7f7f\">3 </span><span style=\"color: #7f7f7f; text-decoration-color: #7f7f7f\">│   </span>df_jobs.to_pickle(<span style=\"color: #808000; text-decoration-color: #808000\">f'{</span>df_save_dir<span style=\"color: #808000; text-decoration-color: #808000\">}df_jobs_including_sector_data.pkl'</span>)                     <span style=\"color: #800000; text-decoration-color: #800000\">│</span>\n",
                            "<span style=\"color: #800000; text-decoration-color: #800000\">│</span>   <span style=\"color: #7f7f7f; text-decoration-color: #7f7f7f\">4 </span><span style=\"color: #7f7f7f; text-decoration-color: #7f7f7f\">│   </span>df_jobs.to_csv(<span style=\"color: #808000; text-decoration-color: #808000\">f'{</span>df_save_dir<span style=\"color: #808000; text-decoration-color: #808000\">}df_jobs_including_sector_data.csv'</span>, index=<span style=\"color: #0000ff; text-decoration-color: #0000ff\">False</span>)           <span style=\"color: #800000; text-decoration-color: #800000\">│</span>\n",
                            "<span style=\"color: #800000; text-decoration-color: #800000\">│</span>                                                                                                  <span style=\"color: #800000; text-decoration-color: #800000\">│</span>\n",
                            "<span style=\"color: #800000; text-decoration-color: #800000\">│</span> <span style=\"color: #bfbf7f; text-decoration-color: #bfbf7f\">/opt/homebrew/Caskroom/mambaforge/base/envs/Automating_Equity1/lib/python3.10/site-packages/pand</span> <span style=\"color: #800000; text-decoration-color: #800000\">│</span>\n",
                            "<span style=\"color: #800000; text-decoration-color: #800000\">│</span> <span style=\"color: #bfbf7f; text-decoration-color: #bfbf7f\">as/core/</span><span style=\"color: #808000; text-decoration-color: #808000; font-weight: bold\">frame.py</span>:<span style=\"color: #0000ff; text-decoration-color: #0000ff\">3761</span> in <span style=\"color: #00ff00; text-decoration-color: #00ff00\">__getitem__</span>                                                             <span style=\"color: #800000; text-decoration-color: #800000\">│</span>\n",
                            "<span style=\"color: #800000; text-decoration-color: #800000\">│</span>                                                                                                  <span style=\"color: #800000; text-decoration-color: #800000\">│</span>\n",
                            "<span style=\"color: #800000; text-decoration-color: #800000\">│</span>   <span style=\"color: #7f7f7f; text-decoration-color: #7f7f7f\"> 3758 </span><span style=\"color: #7f7f7f; text-decoration-color: #7f7f7f\">│   │   </span><span style=\"color: #0000ff; text-decoration-color: #0000ff\">if</span> is_single_key:                                                                <span style=\"color: #800000; text-decoration-color: #800000\">│</span>\n",
                            "<span style=\"color: #800000; text-decoration-color: #800000\">│</span>   <span style=\"color: #7f7f7f; text-decoration-color: #7f7f7f\"> 3759 </span><span style=\"color: #7f7f7f; text-decoration-color: #7f7f7f\">│   │   │   </span><span style=\"color: #0000ff; text-decoration-color: #0000ff\">if</span> <span style=\"color: #00ffff; text-decoration-color: #00ffff\">self</span>.columns.nlevels &gt; <span style=\"color: #0000ff; text-decoration-color: #0000ff\">1</span>:                                                 <span style=\"color: #800000; text-decoration-color: #800000\">│</span>\n",
                            "<span style=\"color: #800000; text-decoration-color: #800000\">│</span>   <span style=\"color: #7f7f7f; text-decoration-color: #7f7f7f\"> 3760 </span><span style=\"color: #7f7f7f; text-decoration-color: #7f7f7f\">│   │   │   │   </span><span style=\"color: #0000ff; text-decoration-color: #0000ff\">return</span> <span style=\"color: #00ffff; text-decoration-color: #00ffff\">self</span>._getitem_multilevel(key)                                     <span style=\"color: #800000; text-decoration-color: #800000\">│</span>\n",
                            "<span style=\"color: #800000; text-decoration-color: #800000\">│</span> <span style=\"color: #800000; text-decoration-color: #800000\">❱ </span> 3761 <span style=\"color: #7f7f7f; text-decoration-color: #7f7f7f\">│   │   │   </span>indexer = <span style=\"color: #00ffff; text-decoration-color: #00ffff\">self</span>.columns.get_loc(key)                                          <span style=\"color: #800000; text-decoration-color: #800000\">│</span>\n",
                            "<span style=\"color: #800000; text-decoration-color: #800000\">│</span>   <span style=\"color: #7f7f7f; text-decoration-color: #7f7f7f\"> 3762 </span><span style=\"color: #7f7f7f; text-decoration-color: #7f7f7f\">│   │   │   </span><span style=\"color: #0000ff; text-decoration-color: #0000ff\">if</span> is_integer(indexer):                                                      <span style=\"color: #800000; text-decoration-color: #800000\">│</span>\n",
                            "<span style=\"color: #800000; text-decoration-color: #800000\">│</span>   <span style=\"color: #7f7f7f; text-decoration-color: #7f7f7f\"> 3763 </span><span style=\"color: #7f7f7f; text-decoration-color: #7f7f7f\">│   │   │   │   </span>indexer = [indexer]                                                      <span style=\"color: #800000; text-decoration-color: #800000\">│</span>\n",
                            "<span style=\"color: #800000; text-decoration-color: #800000\">│</span>   <span style=\"color: #7f7f7f; text-decoration-color: #7f7f7f\"> 3764 </span><span style=\"color: #7f7f7f; text-decoration-color: #7f7f7f\">│   │   </span><span style=\"color: #0000ff; text-decoration-color: #0000ff\">else</span>:                                                                            <span style=\"color: #800000; text-decoration-color: #800000\">│</span>\n",
                            "<span style=\"color: #800000; text-decoration-color: #800000\">│</span>                                                                                                  <span style=\"color: #800000; text-decoration-color: #800000\">│</span>\n",
                            "<span style=\"color: #800000; text-decoration-color: #800000\">│</span> <span style=\"color: #bfbf7f; text-decoration-color: #bfbf7f\">/opt/homebrew/Caskroom/mambaforge/base/envs/Automating_Equity1/lib/python3.10/site-packages/pand</span> <span style=\"color: #800000; text-decoration-color: #800000\">│</span>\n",
                            "<span style=\"color: #800000; text-decoration-color: #800000\">│</span> <span style=\"color: #bfbf7f; text-decoration-color: #bfbf7f\">as/core/indexes/</span><span style=\"color: #808000; text-decoration-color: #808000; font-weight: bold\">base.py</span>:<span style=\"color: #0000ff; text-decoration-color: #0000ff\">3655</span> in <span style=\"color: #00ff00; text-decoration-color: #00ff00\">get_loc</span>                                                          <span style=\"color: #800000; text-decoration-color: #800000\">│</span>\n",
                            "<span style=\"color: #800000; text-decoration-color: #800000\">│</span>                                                                                                  <span style=\"color: #800000; text-decoration-color: #800000\">│</span>\n",
                            "<span style=\"color: #800000; text-decoration-color: #800000\">│</span>   <span style=\"color: #7f7f7f; text-decoration-color: #7f7f7f\">3652 </span><span style=\"color: #7f7f7f; text-decoration-color: #7f7f7f\">│   │   </span><span style=\"color: #0000ff; text-decoration-color: #0000ff\">try</span>:                                                                              <span style=\"color: #800000; text-decoration-color: #800000\">│</span>\n",
                            "<span style=\"color: #800000; text-decoration-color: #800000\">│</span>   <span style=\"color: #7f7f7f; text-decoration-color: #7f7f7f\">3653 </span><span style=\"color: #7f7f7f; text-decoration-color: #7f7f7f\">│   │   │   </span><span style=\"color: #0000ff; text-decoration-color: #0000ff\">return</span> <span style=\"color: #00ffff; text-decoration-color: #00ffff\">self</span>._engine.get_loc(casted_key)                                       <span style=\"color: #800000; text-decoration-color: #800000\">│</span>\n",
                            "<span style=\"color: #800000; text-decoration-color: #800000\">│</span>   <span style=\"color: #7f7f7f; text-decoration-color: #7f7f7f\">3654 </span><span style=\"color: #7f7f7f; text-decoration-color: #7f7f7f\">│   │   </span><span style=\"color: #0000ff; text-decoration-color: #0000ff\">except</span> <span style=\"color: #00ffff; text-decoration-color: #00ffff\">KeyError</span> <span style=\"color: #0000ff; text-decoration-color: #0000ff\">as</span> err:                                                           <span style=\"color: #800000; text-decoration-color: #800000\">│</span>\n",
                            "<span style=\"color: #800000; text-decoration-color: #800000\">│</span> <span style=\"color: #800000; text-decoration-color: #800000\">❱ </span>3655 <span style=\"color: #7f7f7f; text-decoration-color: #7f7f7f\">│   │   │   </span><span style=\"color: #0000ff; text-decoration-color: #0000ff\">raise</span> <span style=\"color: #00ffff; text-decoration-color: #00ffff\">KeyError</span>(key) <span style=\"color: #0000ff; text-decoration-color: #0000ff\">from</span> <span style=\"color: #00ffff; text-decoration-color: #00ffff; text-decoration: underline\">err</span>                                                  <span style=\"color: #800000; text-decoration-color: #800000\">│</span>\n",
                            "<span style=\"color: #800000; text-decoration-color: #800000\">│</span>   <span style=\"color: #7f7f7f; text-decoration-color: #7f7f7f\">3656 </span><span style=\"color: #7f7f7f; text-decoration-color: #7f7f7f\">│   │   </span><span style=\"color: #0000ff; text-decoration-color: #0000ff\">except</span> <span style=\"color: #00ffff; text-decoration-color: #00ffff\">TypeError</span>:                                                                 <span style=\"color: #800000; text-decoration-color: #800000\">│</span>\n",
                            "<span style=\"color: #800000; text-decoration-color: #800000\">│</span>   <span style=\"color: #7f7f7f; text-decoration-color: #7f7f7f\">3657 </span><span style=\"color: #7f7f7f; text-decoration-color: #7f7f7f\">│   │   │   </span><span style=\"color: #7f7f7f; text-decoration-color: #7f7f7f\"># If we have a listlike key, _check_indexing_error will raise</span>                 <span style=\"color: #800000; text-decoration-color: #800000\">│</span>\n",
                            "<span style=\"color: #800000; text-decoration-color: #800000\">│</span>   <span style=\"color: #7f7f7f; text-decoration-color: #7f7f7f\">3658 </span><span style=\"color: #7f7f7f; text-decoration-color: #7f7f7f\">│   │   │   </span><span style=\"color: #7f7f7f; text-decoration-color: #7f7f7f\">#  InvalidIndexError. Otherwise we fall through and re-raise</span>                  <span style=\"color: #800000; text-decoration-color: #800000\">│</span>\n",
                            "<span style=\"color: #800000; text-decoration-color: #800000\">╰──────────────────────────────────────────────────────────────────────────────────────────────────╯</span>\n",
                            "<span style=\"color: #ff0000; text-decoration-color: #ff0000; font-weight: bold\">KeyError: </span><span style=\"color: #008000; text-decoration-color: #008000\">'Sector'</span>\n",
                            "</pre>\n"
                        ],
                        "text/plain": [
                            "\u001b[31m╭─\u001b[0m\u001b[31m──────────────────────────────\u001b[0m\u001b[31m \u001b[0m\u001b[1;31mTraceback \u001b[0m\u001b[1;2;31m(most recent call last)\u001b[0m\u001b[31m \u001b[0m\u001b[31m───────────────────────────────\u001b[0m\u001b[31m─╮\u001b[0m\n",
                            "\u001b[31m│\u001b[0m \u001b[2;33m/opt/homebrew/Caskroom/mambaforge/base/envs/Automating_Equity1/lib/python3.10/site-packages/pand\u001b[0m \u001b[31m│\u001b[0m\n",
                            "\u001b[31m│\u001b[0m \u001b[2;33mas/core/indexes/\u001b[0m\u001b[1;33mbase.py\u001b[0m:\u001b[94m3653\u001b[0m in \u001b[92mget_loc\u001b[0m                                                          \u001b[31m│\u001b[0m\n",
                            "\u001b[31m│\u001b[0m                                                                                                  \u001b[31m│\u001b[0m\n",
                            "\u001b[31m│\u001b[0m   \u001b[2m3650 \u001b[0m\u001b[2;33m│   │   \u001b[0m\u001b[33m\"\"\"\u001b[0m                                                                               \u001b[31m│\u001b[0m\n",
                            "\u001b[31m│\u001b[0m   \u001b[2m3651 \u001b[0m\u001b[2m│   │   \u001b[0mcasted_key = \u001b[96mself\u001b[0m._maybe_cast_indexer(key)                                        \u001b[31m│\u001b[0m\n",
                            "\u001b[31m│\u001b[0m   \u001b[2m3652 \u001b[0m\u001b[2m│   │   \u001b[0m\u001b[94mtry\u001b[0m:                                                                              \u001b[31m│\u001b[0m\n",
                            "\u001b[31m│\u001b[0m \u001b[31m❱ \u001b[0m3653 \u001b[2m│   │   │   \u001b[0m\u001b[94mreturn\u001b[0m \u001b[96mself\u001b[0m._engine.get_loc(casted_key)                                       \u001b[31m│\u001b[0m\n",
                            "\u001b[31m│\u001b[0m   \u001b[2m3654 \u001b[0m\u001b[2m│   │   \u001b[0m\u001b[94mexcept\u001b[0m \u001b[96mKeyError\u001b[0m \u001b[94mas\u001b[0m err:                                                           \u001b[31m│\u001b[0m\n",
                            "\u001b[31m│\u001b[0m   \u001b[2m3655 \u001b[0m\u001b[2m│   │   │   \u001b[0m\u001b[94mraise\u001b[0m \u001b[96mKeyError\u001b[0m(key) \u001b[94mfrom\u001b[0m \u001b[4;96merr\u001b[0m                                                  \u001b[31m│\u001b[0m\n",
                            "\u001b[31m│\u001b[0m   \u001b[2m3656 \u001b[0m\u001b[2m│   │   \u001b[0m\u001b[94mexcept\u001b[0m \u001b[96mTypeError\u001b[0m:                                                                 \u001b[31m│\u001b[0m\n",
                            "\u001b[31m│\u001b[0m                                                                                                  \u001b[31m│\u001b[0m\n",
                            "\u001b[31m│\u001b[0m in \u001b[92mpandas._libs.index.IndexEngine.get_loc\u001b[0m:\u001b[94m147\u001b[0m                                                    \u001b[31m│\u001b[0m\n",
                            "\u001b[31m│\u001b[0m                                                                                                  \u001b[31m│\u001b[0m\n",
                            "\u001b[31m│\u001b[0m in \u001b[92mpandas._libs.index.IndexEngine.get_loc\u001b[0m:\u001b[94m176\u001b[0m                                                    \u001b[31m│\u001b[0m\n",
                            "\u001b[31m│\u001b[0m                                                                                                  \u001b[31m│\u001b[0m\n",
                            "\u001b[31m│\u001b[0m in \u001b[92mpandas._libs.hashtable.PyObjectHashTable.get_item\u001b[0m:\u001b[94m7080\u001b[0m                                        \u001b[31m│\u001b[0m\n",
                            "\u001b[31m│\u001b[0m                                                                                                  \u001b[31m│\u001b[0m\n",
                            "\u001b[31m│\u001b[0m in \u001b[92mpandas._libs.hashtable.PyObjectHashTable.get_item\u001b[0m:\u001b[94m7088\u001b[0m                                        \u001b[31m│\u001b[0m\n",
                            "\u001b[31m╰──────────────────────────────────────────────────────────────────────────────────────────────────╯\u001b[0m\n",
                            "\u001b[1;91mKeyError: \u001b[0m\u001b[32m'Sector'\u001b[0m\n",
                            "\n",
                            "\u001b[3mThe above exception was the direct cause of the following exception:\u001b[0m\n",
                            "\n",
                            "\u001b[31m╭─\u001b[0m\u001b[31m──────────────────────────────\u001b[0m\u001b[31m \u001b[0m\u001b[1;31mTraceback \u001b[0m\u001b[1;2;31m(most recent call last)\u001b[0m\u001b[31m \u001b[0m\u001b[31m───────────────────────────────\u001b[0m\u001b[31m─╮\u001b[0m\n",
                            "\u001b[31m│\u001b[0m in \u001b[92m<module>\u001b[0m:\u001b[94m1\u001b[0m                                                                                    \u001b[31m│\u001b[0m\n",
                            "\u001b[31m│\u001b[0m                                                                                                  \u001b[31m│\u001b[0m\n",
                            "\u001b[31m│\u001b[0m \u001b[31m❱ \u001b[0m1 \u001b[94mif\u001b[0m df_jobs[\u001b[33m'\u001b[0m\u001b[33mSector\u001b[0m\u001b[33m'\u001b[0m].isna().sum() == \u001b[94m0\u001b[0m:                                                      \u001b[31m│\u001b[0m\n",
                            "\u001b[31m│\u001b[0m   \u001b[2m2 \u001b[0m\u001b[2m│   \u001b[0m\u001b[94massert\u001b[0m \u001b[96mlen\u001b[0m(df_jobs) > \u001b[94m0\u001b[0m \u001b[95mand\u001b[0m \u001b[96misinstance\u001b[0m(df_jobs, pd.DataFrame), \u001b[33mf\u001b[0m\u001b[33m'\u001b[0m\u001b[33mERORR: LENGTH OF DF\u001b[0m     \u001b[31m│\u001b[0m\n",
                            "\u001b[31m│\u001b[0m   \u001b[2m3 \u001b[0m\u001b[2m│   \u001b[0mdf_jobs.to_pickle(\u001b[33mf\u001b[0m\u001b[33m'\u001b[0m\u001b[33m{\u001b[0mdf_save_dir\u001b[33m}\u001b[0m\u001b[33mdf_jobs_including_sector_data.pkl\u001b[0m\u001b[33m'\u001b[0m)                     \u001b[31m│\u001b[0m\n",
                            "\u001b[31m│\u001b[0m   \u001b[2m4 \u001b[0m\u001b[2m│   \u001b[0mdf_jobs.to_csv(\u001b[33mf\u001b[0m\u001b[33m'\u001b[0m\u001b[33m{\u001b[0mdf_save_dir\u001b[33m}\u001b[0m\u001b[33mdf_jobs_including_sector_data.csv\u001b[0m\u001b[33m'\u001b[0m, index=\u001b[94mFalse\u001b[0m)           \u001b[31m│\u001b[0m\n",
                            "\u001b[31m│\u001b[0m                                                                                                  \u001b[31m│\u001b[0m\n",
                            "\u001b[31m│\u001b[0m \u001b[2;33m/opt/homebrew/Caskroom/mambaforge/base/envs/Automating_Equity1/lib/python3.10/site-packages/pand\u001b[0m \u001b[31m│\u001b[0m\n",
                            "\u001b[31m│\u001b[0m \u001b[2;33mas/core/\u001b[0m\u001b[1;33mframe.py\u001b[0m:\u001b[94m3761\u001b[0m in \u001b[92m__getitem__\u001b[0m                                                             \u001b[31m│\u001b[0m\n",
                            "\u001b[31m│\u001b[0m                                                                                                  \u001b[31m│\u001b[0m\n",
                            "\u001b[31m│\u001b[0m   \u001b[2m 3758 \u001b[0m\u001b[2m│   │   \u001b[0m\u001b[94mif\u001b[0m is_single_key:                                                                \u001b[31m│\u001b[0m\n",
                            "\u001b[31m│\u001b[0m   \u001b[2m 3759 \u001b[0m\u001b[2m│   │   │   \u001b[0m\u001b[94mif\u001b[0m \u001b[96mself\u001b[0m.columns.nlevels > \u001b[94m1\u001b[0m:                                                 \u001b[31m│\u001b[0m\n",
                            "\u001b[31m│\u001b[0m   \u001b[2m 3760 \u001b[0m\u001b[2m│   │   │   │   \u001b[0m\u001b[94mreturn\u001b[0m \u001b[96mself\u001b[0m._getitem_multilevel(key)                                     \u001b[31m│\u001b[0m\n",
                            "\u001b[31m│\u001b[0m \u001b[31m❱ \u001b[0m 3761 \u001b[2m│   │   │   \u001b[0mindexer = \u001b[96mself\u001b[0m.columns.get_loc(key)                                          \u001b[31m│\u001b[0m\n",
                            "\u001b[31m│\u001b[0m   \u001b[2m 3762 \u001b[0m\u001b[2m│   │   │   \u001b[0m\u001b[94mif\u001b[0m is_integer(indexer):                                                      \u001b[31m│\u001b[0m\n",
                            "\u001b[31m│\u001b[0m   \u001b[2m 3763 \u001b[0m\u001b[2m│   │   │   │   \u001b[0mindexer = [indexer]                                                      \u001b[31m│\u001b[0m\n",
                            "\u001b[31m│\u001b[0m   \u001b[2m 3764 \u001b[0m\u001b[2m│   │   \u001b[0m\u001b[94melse\u001b[0m:                                                                            \u001b[31m│\u001b[0m\n",
                            "\u001b[31m│\u001b[0m                                                                                                  \u001b[31m│\u001b[0m\n",
                            "\u001b[31m│\u001b[0m \u001b[2;33m/opt/homebrew/Caskroom/mambaforge/base/envs/Automating_Equity1/lib/python3.10/site-packages/pand\u001b[0m \u001b[31m│\u001b[0m\n",
                            "\u001b[31m│\u001b[0m \u001b[2;33mas/core/indexes/\u001b[0m\u001b[1;33mbase.py\u001b[0m:\u001b[94m3655\u001b[0m in \u001b[92mget_loc\u001b[0m                                                          \u001b[31m│\u001b[0m\n",
                            "\u001b[31m│\u001b[0m                                                                                                  \u001b[31m│\u001b[0m\n",
                            "\u001b[31m│\u001b[0m   \u001b[2m3652 \u001b[0m\u001b[2m│   │   \u001b[0m\u001b[94mtry\u001b[0m:                                                                              \u001b[31m│\u001b[0m\n",
                            "\u001b[31m│\u001b[0m   \u001b[2m3653 \u001b[0m\u001b[2m│   │   │   \u001b[0m\u001b[94mreturn\u001b[0m \u001b[96mself\u001b[0m._engine.get_loc(casted_key)                                       \u001b[31m│\u001b[0m\n",
                            "\u001b[31m│\u001b[0m   \u001b[2m3654 \u001b[0m\u001b[2m│   │   \u001b[0m\u001b[94mexcept\u001b[0m \u001b[96mKeyError\u001b[0m \u001b[94mas\u001b[0m err:                                                           \u001b[31m│\u001b[0m\n",
                            "\u001b[31m│\u001b[0m \u001b[31m❱ \u001b[0m3655 \u001b[2m│   │   │   \u001b[0m\u001b[94mraise\u001b[0m \u001b[96mKeyError\u001b[0m(key) \u001b[94mfrom\u001b[0m \u001b[4;96merr\u001b[0m                                                  \u001b[31m│\u001b[0m\n",
                            "\u001b[31m│\u001b[0m   \u001b[2m3656 \u001b[0m\u001b[2m│   │   \u001b[0m\u001b[94mexcept\u001b[0m \u001b[96mTypeError\u001b[0m:                                                                 \u001b[31m│\u001b[0m\n",
                            "\u001b[31m│\u001b[0m   \u001b[2m3657 \u001b[0m\u001b[2m│   │   │   \u001b[0m\u001b[2m# If we have a listlike key, _check_indexing_error will raise\u001b[0m                 \u001b[31m│\u001b[0m\n",
                            "\u001b[31m│\u001b[0m   \u001b[2m3658 \u001b[0m\u001b[2m│   │   │   \u001b[0m\u001b[2m#  InvalidIndexError. Otherwise we fall through and re-raise\u001b[0m                  \u001b[31m│\u001b[0m\n",
                            "\u001b[31m╰──────────────────────────────────────────────────────────────────────────────────────────────────╯\u001b[0m\n",
                            "\u001b[1;91mKeyError: \u001b[0m\u001b[32m'Sector'\u001b[0m\n"
                        ]
                    },
                    "metadata": {},
                    "output_type": "display_data"
                }
            ],
            "source": [
                "if df_jobs['Sector'].isna().sum() == 0:\n",
                "    assert len(df_jobs) > 0 and isinstance(df_jobs, pd.DataFrame), f'ERORR: LENGTH OF DF = {len(df_jobs)}'\n",
                "    df_jobs.to_pickle(f'{df_save_dir}df_jobs_including_sector_data.pkl')\n",
                "    df_jobs.to_csv(f'{df_save_dir}df_jobs_including_sector_data.csv', index=False)\n",
                "\n",
                "else:\n",
                "    print(f\"MISSING SECTOR DATA: COUNT {df_jobs['Sector'].isna().sum()}\")\n"
            ]
        },
        {
            "attachments": {},
            "cell_type": "markdown",
            "metadata": {},
            "source": [
                "# Add interaction terms and categorical data\n"
            ]
        },
        {
            "attachments": {},
            "cell_type": "markdown",
            "metadata": {},
            "source": [
                "### START HERE IF SOURCING FROM DF_JOBS_INCLUDING_SECTOR_DATA\n",
                "### PLEASE SET CORRECT DIRECTORY PATHS BELOW\n"
            ]
        },
        {
            "cell_type": "code",
            "execution_count": 69,
            "metadata": {},
            "outputs": [],
            "source": [
                "import os # type:ignore # isort:skip # fmt:skip # noqa # nopep8\n",
                "import sys # type:ignore # isort:skip # fmt:skip # noqa # nopep8\n",
                "from pathlib import Path # type:ignore # isort:skip # fmt:skip # noqa # nopep8\n",
                "\n",
                "mod = sys.modules[__name__]\n",
                "\n",
                "code_dir = None\n",
                "code_dir_name = 'Code'\n",
                "unwanted_subdir_name = 'Analysis'\n",
                "\n",
                "if code_dir_name not in str(Path.cwd()).split('/')[-1]:\n",
                "    for _ in range(5):\n",
                "\n",
                "        parent_path = str(Path.cwd().parents[_]).split('/')[-1]\n",
                "\n",
                "        if (code_dir_name in parent_path) and (unwanted_subdir_name not in parent_path):\n",
                "\n",
                "            code_dir = str(Path.cwd().parents[_])\n",
                "\n",
                "            if code_dir is not None:\n",
                "                break\n",
                "else:\n",
                "    code_dir = str(Path.cwd())\n",
                "sys.path.append(code_dir)\n",
                "\n",
                "# %load_ext autoreload\n",
                "# %autoreload 2\n"
            ]
        },
        {
            "cell_type": "code",
            "execution_count": 70,
            "metadata": {},
            "outputs": [],
            "source": [
                "from setup_module.imports import * # type:ignore # isort:skip # fmt:skip # noqa # nopep8\n"
            ]
        },
        {
            "cell_type": "code",
            "execution_count": 71,
            "metadata": {},
            "outputs": [],
            "source": [
                "df_jobs = pd.read_pickle(f'{df_save_dir}df_jobs_including_sector_data.pkl')\n"
            ]
        },
        {
            "cell_type": "code",
            "execution_count": 72,
            "metadata": {},
            "outputs": [
                {
                    "name": "stdout",
                    "output_type": "stream",
                    "text": [
                        "<class 'pandas.core.frame.DataFrame'>\n",
                        "RangeIndex: 17593 entries, 0 to 17592\n",
                        "Data columns (total 49 columns):\n",
                        " #   Column                               Non-Null Count  Dtype   \n",
                        "---  ------                               --------------  -----   \n",
                        " 0   Search Keyword                       17593 non-null  object  \n",
                        " 1   Platform                             17593 non-null  object  \n",
                        " 2   Job ID                               17593 non-null  object  \n",
                        " 3   Job Title                            17593 non-null  object  \n",
                        " 4   Company Name                         17591 non-null  object  \n",
                        " 5   Location                             17593 non-null  object  \n",
                        " 6   Job Description                      17593 non-null  object  \n",
                        " 7   Rating                               3780 non-null   float64 \n",
                        " 8   Employment Type                      17011 non-null  object  \n",
                        " 9   Company URL                          15954 non-null  object  \n",
                        " 10  Job URL                              17593 non-null  object  \n",
                        " 11  Job Age                              17593 non-null  object  \n",
                        " 12  Job Age Number                       17593 non-null  object  \n",
                        " 13  Collection Date                      17593 non-null  object  \n",
                        " 14  Data Row                             13810 non-null  float64 \n",
                        " 15  Tracking ID                          13810 non-null  object  \n",
                        " 16  Industry                             14395 non-null  object  \n",
                        " 17  Job Date                             13813 non-null  object  \n",
                        " 18  Type of ownership                    582 non-null    object  \n",
                        " 19  Language                             17593 non-null  object  \n",
                        " 20  Dutch Requirement in Job Ad          17593 non-null  category\n",
                        " 21  English Requirement in Job Ad        17593 non-null  category\n",
                        " 22  Dutch Requirement in Job Ad_No       17593 non-null  int64   \n",
                        " 23  Dutch Requirement in Job Ad_Yes      17593 non-null  int64   \n",
                        " 24  English Requirement in Job Ad_No     17593 non-null  int64   \n",
                        " 25  English Requirement in Job Ad_Yes    17593 non-null  int64   \n",
                        " 26  Sector Code                          17593 non-null  object  \n",
                        " 27  Sector                               17593 non-null  object  \n",
                        " 28  Keywords Count                       17593 non-null  float64 \n",
                        " 29  Gender_Female_n                      17593 non-null  float64 \n",
                        " 30  Gender_Female_% per Sector           17593 non-null  float64 \n",
                        " 31  Gender_Female_% per Social Category  17593 non-null  float64 \n",
                        " 32  Gender_Female_% per Workforce        17593 non-null  float64 \n",
                        " 33  Gender_Male_n                        17593 non-null  float64 \n",
                        " 34  Gender_Male_% per Sector             17593 non-null  float64 \n",
                        " 35  Gender_Male_% per Social Category    17593 non-null  float64 \n",
                        " 36  Gender_Male_% per Workforce          17593 non-null  float64 \n",
                        " 37  Gender                               17593 non-null  object  \n",
                        " 38  Age_Older_n                          17593 non-null  float64 \n",
                        " 39  Age_Older_% per Sector               17593 non-null  float64 \n",
                        " 40  Age_Older_% per Social Category      17593 non-null  float64 \n",
                        " 41  Age_Older_% per Workforce            17593 non-null  float64 \n",
                        " 42  Age_Younger_n                        17593 non-null  float64 \n",
                        " 43  Age_Younger_% per Sector             17593 non-null  float64 \n",
                        " 44  Age_Younger_% per Social Category    17593 non-null  float64 \n",
                        " 45  Age_Younger_% per Workforce          17593 non-null  float64 \n",
                        " 46  Age                                  17593 non-null  object  \n",
                        " 47  Sector_n                             17593 non-null  float64 \n",
                        " 48  % Sector per Workforce               17593 non-null  float64 \n",
                        "dtypes: category(2), float64(21), int64(4), object(22)\n",
                        "memory usage: 6.3+ MB\n"
                    ]
                }
            ],
            "source": [
                "df_jobs.info()\n"
            ]
        },
        {
            "cell_type": "code",
            "execution_count": 73,
            "metadata": {},
            "outputs": [],
            "source": [
                "df_jobs = df_jobs.join(pd.get_dummies(df_jobs[['Gender', 'Age']], dtype='int64'))\n",
                "df_jobs = df_jobs.rename({'Gender_Mixed Gender': 'Gender_Mixed', 'Age_Mixed Age': 'Age_Mixed'}, axis='columns')\n"
            ]
        },
        {
            "cell_type": "code",
            "execution_count": 74,
            "metadata": {},
            "outputs": [
                {
                    "data": {
                        "text/plain": [
                            "Index(['Search Keyword', 'Platform', 'Job ID', 'Job Title', 'Company Name', 'Location', 'Job Description', 'Rating', 'Employment Type', 'Company URL', 'Job URL', 'Job Age', 'Job Age Number', 'Collection Date', 'Data Row', 'Tracking ID', 'Industry', 'Job Date', 'Type of ownership', 'Language', 'Dutch Requirement in Job Ad', 'English Requirement in Job Ad', 'Dutch Requirement in Job Ad_No', 'Dutch Requirement in Job Ad_Yes', 'English Requirement in Job Ad_No', 'English Requirement in Job Ad_Yes', 'Sector Code', 'Sector', 'Keywords Count', 'Gender_Female_n', 'Gender_Female_% per Sector', 'Gender_Female_% per Social Category', 'Gender_Female_% per Workforce', 'Gender_Male_n', 'Gender_Male_% per Sector', 'Gender_Male_% per Social Category', 'Gender_Male_% per Workforce', 'Gender', 'Age_Older_n', 'Age_Older_% per Sector', 'Age_Older_% per Social Category', 'Age_Older_% per Workforce', 'Age_Younger_n', 'Age_Younger_% per Sector', 'Age_Younger_% per Social Category', 'Age_Younger_% per Workforce', 'Age', 'Sector_n', '% Sector per Workforce', 'Gender_Female', 'Gender_Male', 'Gender_Mixed', 'Age_Mixed', 'Age_Older', 'Age_Younger'], dtype='object')"
                        ]
                    },
                    "execution_count": 74,
                    "metadata": {},
                    "output_type": "execute_result"
                }
            ],
            "source": [
                "df_jobs.columns\n"
            ]
        },
        {
            "cell_type": "code",
            "execution_count": 75,
            "metadata": {},
            "outputs": [],
            "source": [
                "df_jobs = categorize_df_gender_age(df_jobs)\n"
            ]
        },
        {
            "cell_type": "code",
            "execution_count": 76,
            "metadata": {},
            "outputs": [],
            "source": [
                "df_jobs['Interaction_Female_Older_% per Sector'] = df_jobs['Gender_Female_% per Sector'] * df_jobs['Age_Older_% per Sector']\n",
                "df_jobs['Interaction_Female_Younger_% per Sector'] = df_jobs['Gender_Female_% per Sector'] * df_jobs['Age_Younger_% per Sector']\n",
                "df_jobs['Interaction_Male_Older_% per Sector'] = df_jobs['Gender_Male_% per Sector'] * df_jobs['Age_Older_% per Sector']\n",
                "df_jobs['Interaction_Male_Younger_% per Sector'] = df_jobs['Gender_Male_% per Sector'] * df_jobs['Age_Younger_% per Sector']\n"
            ]
        },
        {
            "cell_type": "code",
            "execution_count": 77,
            "metadata": {},
            "outputs": [
                {
                    "data": {
                        "text/plain": [
                            "Index(['Search Keyword', 'Platform', 'Job ID', 'Job Title', 'Company Name', 'Location', 'Job Description', 'Rating', 'Employment Type', 'Company URL', 'Job URL', 'Job Age', 'Job Age Number', 'Collection Date', 'Data Row', 'Tracking ID', 'Industry', 'Job Date', 'Type of ownership', 'Language', 'Dutch Requirement in Job Ad', 'English Requirement in Job Ad', 'Dutch Requirement in Job Ad_No', 'Dutch Requirement in Job Ad_Yes', 'English Requirement in Job Ad_No', 'English Requirement in Job Ad_Yes', 'Sector Code', 'Sector', 'Keywords Count', 'Gender_Female_n', 'Gender_Female_% per Sector', 'Gender_Female_% per Social Category', 'Gender_Female_% per Workforce', 'Gender_Male_n', 'Gender_Male_% per Sector', 'Gender_Male_% per Social Category', 'Gender_Male_% per Workforce', 'Gender', 'Age_Older_n', 'Age_Older_% per Sector', 'Age_Older_% per Social Category', 'Age_Older_% per Workforce', 'Age_Younger_n', 'Age_Younger_% per Sector', 'Age_Younger_% per Social Category', 'Age_Younger_% per Workforce', 'Age', 'Sector_n', '% Sector per Workforce', 'Gender_Female', 'Gender_Male', 'Gender_Mixed', 'Age_Mixed', 'Age_Older', 'Age_Younger', 'Gender_Num', 'Age_Num', 'Interaction_Female_Older_% per Sector', 'Interaction_Female_Younger_% per Sector', 'Interaction_Male_Older_% per Sector', 'Interaction_Male_Younger_% per Sector'], dtype='object')"
                        ]
                    },
                    "execution_count": 77,
                    "metadata": {},
                    "output_type": "execute_result"
                }
            ],
            "source": [
                "df_jobs.columns\n"
            ]
        },
        {
            "cell_type": "code",
            "execution_count": 78,
            "metadata": {},
            "outputs": [
                {
                    "name": "stdout",
                    "output_type": "stream",
                    "text": [
                        "\n",
                        "DF INFO:\n",
                        "\n",
                        "<class 'pandas.core.frame.DataFrame'>\n",
                        "RangeIndex: 17593 entries, 0 to 17592\n",
                        "Data columns (total 61 columns):\n",
                        " #   Column                                   Non-Null Count  Dtype   \n",
                        "---  ------                                   --------------  -----   \n",
                        " 0   Search Keyword                           17593 non-null  object  \n",
                        " 1   Platform                                 17593 non-null  object  \n",
                        " 2   Job ID                                   17593 non-null  object  \n",
                        " 3   Job Title                                17593 non-null  object  \n",
                        " 4   Company Name                             17591 non-null  object  \n",
                        " 5   Location                                 17593 non-null  object  \n",
                        " 6   Job Description                          17593 non-null  object  \n",
                        " 7   Rating                                   3780 non-null   float64 \n",
                        " 8   Employment Type                          17011 non-null  object  \n",
                        " 9   Company URL                              15954 non-null  object  \n",
                        " 10  Job URL                                  17593 non-null  object  \n",
                        " 11  Job Age                                  17593 non-null  object  \n",
                        " 12  Job Age Number                           17593 non-null  object  \n",
                        " 13  Collection Date                          17593 non-null  object  \n",
                        " 14  Data Row                                 13810 non-null  float64 \n",
                        " 15  Tracking ID                              13810 non-null  object  \n",
                        " 16  Industry                                 14395 non-null  object  \n",
                        " 17  Job Date                                 13813 non-null  object  \n",
                        " 18  Type of ownership                        582 non-null    object  \n",
                        " 19  Language                                 17593 non-null  object  \n",
                        " 20  Dutch Requirement in Job Ad              17593 non-null  category\n",
                        " 21  English Requirement in Job Ad            17593 non-null  category\n",
                        " 22  Dutch Requirement in Job Ad_No           17593 non-null  int64   \n",
                        " 23  Dutch Requirement in Job Ad_Yes          17593 non-null  int64   \n",
                        " 24  English Requirement in Job Ad_No         17593 non-null  int64   \n",
                        " 25  English Requirement in Job Ad_Yes        17593 non-null  int64   \n",
                        " 26  Sector Code                              17593 non-null  object  \n",
                        " 27  Sector                                   17593 non-null  object  \n",
                        " 28  Keywords Count                           17593 non-null  float64 \n",
                        " 29  Gender_Female_n                          17593 non-null  float64 \n",
                        " 30  Gender_Female_% per Sector               17593 non-null  float64 \n",
                        " 31  Gender_Female_% per Social Category      17593 non-null  float64 \n",
                        " 32  Gender_Female_% per Workforce            17593 non-null  float64 \n",
                        " 33  Gender_Male_n                            17593 non-null  float64 \n",
                        " 34  Gender_Male_% per Sector                 17593 non-null  float64 \n",
                        " 35  Gender_Male_% per Social Category        17593 non-null  float64 \n",
                        " 36  Gender_Male_% per Workforce              17593 non-null  float64 \n",
                        " 37  Gender                                   17593 non-null  category\n",
                        " 38  Age_Older_n                              17593 non-null  float64 \n",
                        " 39  Age_Older_% per Sector                   17593 non-null  float64 \n",
                        " 40  Age_Older_% per Social Category          17593 non-null  float64 \n",
                        " 41  Age_Older_% per Workforce                17593 non-null  float64 \n",
                        " 42  Age_Younger_n                            17593 non-null  float64 \n",
                        " 43  Age_Younger_% per Sector                 17593 non-null  float64 \n",
                        " 44  Age_Younger_% per Social Category        17593 non-null  float64 \n",
                        " 45  Age_Younger_% per Workforce              17593 non-null  float64 \n",
                        " 46  Age                                      17593 non-null  category\n",
                        " 47  Sector_n                                 17593 non-null  float64 \n",
                        " 48  % Sector per Workforce                   17593 non-null  float64 \n",
                        " 49  Gender_Female                            17593 non-null  int64   \n",
                        " 50  Gender_Male                              17593 non-null  int64   \n",
                        " 51  Gender_Mixed                             17593 non-null  int64   \n",
                        " 52  Age_Mixed                                17593 non-null  int64   \n",
                        " 53  Age_Older                                17593 non-null  int64   \n",
                        " 54  Age_Younger                              17593 non-null  int64   \n",
                        " 55  Gender_Num                               17593 non-null  int64   \n",
                        " 56  Age_Num                                  17593 non-null  int64   \n",
                        " 57  Interaction_Female_Older_% per Sector    17593 non-null  float64 \n",
                        " 58  Interaction_Female_Younger_% per Sector  17593 non-null  float64 \n",
                        " 59  Interaction_Male_Older_% per Sector      17593 non-null  float64 \n",
                        " 60  Interaction_Male_Younger_% per Sector    17593 non-null  float64 \n",
                        "dtypes: category(4), float64(25), int64(12), object(20)\n",
                        "memory usage: 7.7+ MB\n",
                        "====================\n",
                        "Gender:\n",
                        "--------------------\n",
                        "Gender Counts:\n",
                        "Gender\n",
                        "Male            6974\n",
                        "Mixed Gender    6664\n",
                        "Female          3955\n",
                        "Name: count, dtype: int64\n",
                        "--------------------\n",
                        "Gender Percentages:\n",
                        "Gender\n",
                        "Male           39.60\n",
                        "Mixed Gender   37.90\n",
                        "Female         22.50\n",
                        "Name: proportion, dtype: float64\n",
                        "--------------------\n",
                        "Gender not available.\n",
                        "====================\n",
                        "Gender_Num:\n",
                        "--------------------\n",
                        "Gender_Num Counts:\n",
                        "Gender_Num\n",
                        "2    6974\n",
                        "1    6664\n",
                        "0    3955\n",
                        "Name: count, dtype: int64\n",
                        "--------------------\n",
                        "Gender_Num Percentages:\n",
                        "Gender_Num\n",
                        "2   39.60\n",
                        "1   37.90\n",
                        "0   22.50\n",
                        "Name: proportion, dtype: float64\n",
                        "--------------------\n",
                        "Min Gender_Num value: 0.0\n",
                        "Max Gender_Num value: 2.0\n",
                        "--------------------\n",
                        "Gender_Num Mean: 1.17\n",
                        "--------------------\n",
                        "Gender_Num Standard Deviation: 0.77\n",
                        "====================\n",
                        "Gender_Female:\n",
                        "--------------------\n",
                        "Gender_Female Counts:\n",
                        "Gender_Female\n",
                        "0    13638\n",
                        "1     3955\n",
                        "Name: count, dtype: int64\n",
                        "--------------------\n",
                        "Gender_Female Percentages:\n",
                        "Gender_Female\n",
                        "0   77.50\n",
                        "1   22.50\n",
                        "Name: proportion, dtype: float64\n",
                        "--------------------\n",
                        "Min Gender_Female value: 0.0\n",
                        "Max Gender_Female value: 1.0\n",
                        "--------------------\n",
                        "Gender_Female Mean: 0.22\n",
                        "--------------------\n",
                        "Gender_Female Standard Deviation: 0.42\n",
                        "====================\n",
                        "Gender_Mixed:\n",
                        "--------------------\n",
                        "Gender_Mixed Counts:\n",
                        "Gender_Mixed\n",
                        "0    10929\n",
                        "1     6664\n",
                        "Name: count, dtype: int64\n",
                        "--------------------\n",
                        "Gender_Mixed Percentages:\n",
                        "Gender_Mixed\n",
                        "0   62.10\n",
                        "1   37.90\n",
                        "Name: proportion, dtype: float64\n",
                        "--------------------\n",
                        "Min Gender_Mixed value: 0.0\n",
                        "Max Gender_Mixed value: 1.0\n",
                        "--------------------\n",
                        "Gender_Mixed Mean: 0.38\n",
                        "--------------------\n",
                        "Gender_Mixed Standard Deviation: 0.49\n",
                        "====================\n",
                        "Gender_Male:\n",
                        "--------------------\n",
                        "Gender_Male Counts:\n",
                        "Gender_Male\n",
                        "0    10619\n",
                        "1     6974\n",
                        "Name: count, dtype: int64\n",
                        "--------------------\n",
                        "Gender_Male Percentages:\n",
                        "Gender_Male\n",
                        "0   60.40\n",
                        "1   39.60\n",
                        "Name: proportion, dtype: float64\n",
                        "--------------------\n",
                        "Min Gender_Male value: 0.0\n",
                        "Max Gender_Male value: 1.0\n",
                        "--------------------\n",
                        "Gender_Male Mean: 0.4\n",
                        "--------------------\n",
                        "Gender_Male Standard Deviation: 0.49\n",
                        "====================\n",
                        "Gender_Female_n:\n",
                        "--------------------\n",
                        "Min Gender_Female_n value: 7.0\n",
                        "Max Gender_Female_n value: 3970.0\n",
                        "--------------------\n",
                        "Gender_Female_n Mean: 637.85\n",
                        "--------------------\n",
                        "Gender_Female_n Standard Deviation: 1041.37\n",
                        "====================\n",
                        "Gender_Male_n:\n",
                        "--------------------\n",
                        "Min Gender_Male_n value: 21.0\n",
                        "Max Gender_Male_n value: 4510.0\n",
                        "--------------------\n",
                        "Gender_Male_n Mean: 759.4\n",
                        "--------------------\n",
                        "Gender_Male_n Standard Deviation: 1302.58\n",
                        "====================\n",
                        "Gender_Female_% per Sector:\n",
                        "--------------------\n",
                        "Min Gender_Female_% per Sector value: 12.5\n",
                        "Max Gender_Female_% per Sector value: 84.299\n",
                        "--------------------\n",
                        "Gender_Female_% per Sector Mean: 44.01\n",
                        "--------------------\n",
                        "Gender_Female_% per Sector Standard Deviation: 19.08\n",
                        "====================\n",
                        "Gender_Male_% per Sector:\n",
                        "--------------------\n",
                        "Min Gender_Male_% per Sector value: 15.632\n",
                        "Max Gender_Male_% per Sector value: 87.5\n",
                        "--------------------\n",
                        "Gender_Male_% per Sector Mean: 55.94\n",
                        "--------------------\n",
                        "Gender_Male_% per Sector Standard Deviation: 19.11\n",
                        "====================\n",
                        "Age:\n",
                        "--------------------\n",
                        "Age Counts:\n",
                        "Age\n",
                        "Mixed Age    11464\n",
                        "Older         3778\n",
                        "Younger       2351\n",
                        "Name: count, dtype: int64\n",
                        "--------------------\n",
                        "Age Percentages:\n",
                        "Age\n",
                        "Mixed Age   65.20\n",
                        "Older       21.50\n",
                        "Younger     13.40\n",
                        "Name: proportion, dtype: float64\n",
                        "--------------------\n",
                        "Age not available.\n",
                        "====================\n",
                        "Age_Num:\n",
                        "--------------------\n",
                        "Age_Num Counts:\n",
                        "Age_Num\n",
                        "1    11464\n",
                        "0     3778\n",
                        "2     2351\n",
                        "Name: count, dtype: int64\n",
                        "--------------------\n",
                        "Age_Num Percentages:\n",
                        "Age_Num\n",
                        "1   65.20\n",
                        "0   21.50\n",
                        "2   13.40\n",
                        "Name: proportion, dtype: float64\n",
                        "--------------------\n",
                        "Min Age_Num value: 0.0\n",
                        "Max Age_Num value: 2.0\n",
                        "--------------------\n",
                        "Age_Num Mean: 0.92\n",
                        "--------------------\n",
                        "Age_Num Standard Deviation: 0.58\n",
                        "====================\n",
                        "Age_Older:\n",
                        "--------------------\n",
                        "Age_Older Counts:\n",
                        "Age_Older\n",
                        "0    13815\n",
                        "1     3778\n",
                        "Name: count, dtype: int64\n",
                        "--------------------\n",
                        "Age_Older Percentages:\n",
                        "Age_Older\n",
                        "0   78.50\n",
                        "1   21.50\n",
                        "Name: proportion, dtype: float64\n",
                        "--------------------\n",
                        "Min Age_Older value: 0.0\n",
                        "Max Age_Older value: 1.0\n",
                        "--------------------\n",
                        "Age_Older Mean: 0.21\n",
                        "--------------------\n",
                        "Age_Older Standard Deviation: 0.41\n",
                        "====================\n",
                        "Age_Mixed:\n",
                        "--------------------\n",
                        "Age_Mixed Counts:\n",
                        "Age_Mixed\n",
                        "1    11464\n",
                        "0     6129\n",
                        "Name: count, dtype: int64\n",
                        "--------------------\n",
                        "Age_Mixed Percentages:\n",
                        "Age_Mixed\n",
                        "1   65.20\n",
                        "0   34.80\n",
                        "Name: proportion, dtype: float64\n",
                        "--------------------\n",
                        "Min Age_Mixed value: 0.0\n",
                        "Max Age_Mixed value: 1.0\n",
                        "--------------------\n",
                        "Age_Mixed Mean: 0.65\n",
                        "--------------------\n",
                        "Age_Mixed Standard Deviation: 0.48\n",
                        "====================\n",
                        "Age_Younger:\n",
                        "--------------------\n",
                        "Age_Younger Counts:\n",
                        "Age_Younger\n",
                        "0    15242\n",
                        "1     2351\n",
                        "Name: count, dtype: int64\n",
                        "--------------------\n",
                        "Age_Younger Percentages:\n",
                        "Age_Younger\n",
                        "0   86.60\n",
                        "1   13.40\n",
                        "Name: proportion, dtype: float64\n",
                        "--------------------\n",
                        "Min Age_Younger value: 0.0\n",
                        "Max Age_Younger value: 1.0\n",
                        "--------------------\n",
                        "Age_Younger Mean: 0.13\n",
                        "--------------------\n",
                        "Age_Younger Standard Deviation: 0.34\n",
                        "====================\n",
                        "Age_Older_n:\n",
                        "--------------------\n",
                        "Min Age_Older_n value: 15.0\n",
                        "Max Age_Older_n value: 2844.0\n",
                        "--------------------\n",
                        "Age_Older_n Mean: 528.9\n",
                        "--------------------\n",
                        "Age_Older_n Standard Deviation: 800.49\n",
                        "====================\n",
                        "Age_Younger_n:\n",
                        "--------------------\n",
                        "Min Age_Younger_n value: 13.0\n",
                        "Max Age_Younger_n value: 5228.0\n",
                        "--------------------\n",
                        "Age_Younger_n Mean: 867.99\n",
                        "--------------------\n",
                        "Age_Younger_n Standard Deviation: 1509.18\n",
                        "====================\n",
                        "Age_Older_% per Sector:\n",
                        "--------------------\n",
                        "Min Age_Older_% per Sector value: 18.939\n",
                        "Max Age_Older_% per Sector value: 58.333\n",
                        "--------------------\n",
                        "Age_Older_% per Sector Mean: 40.62\n",
                        "--------------------\n",
                        "Age_Older_% per Sector Standard Deviation: 10.08\n",
                        "====================\n",
                        "Age_Younger_% per Sector:\n",
                        "--------------------\n",
                        "Min Age_Younger_% per Sector value: 44.444\n",
                        "Max Age_Younger_% per Sector value: 80.808\n",
                        "--------------------\n",
                        "Age_Younger_% per Sector Mean: 59.23\n",
                        "--------------------\n",
                        "Age_Younger_% per Sector Standard Deviation: 10.0\n",
                        "====================\n",
                        "Interaction_Female_Older_% per Sector:\n",
                        "--------------------\n",
                        "Min Interaction_Female_Older_% per Sector value: 595.238\n",
                        "Max Interaction_Female_Older_% per Sector value: 3888.445\n",
                        "--------------------\n",
                        "Interaction_Female_Older_% per Sector Mean: 1769.6\n",
                        "--------------------\n",
                        "Interaction_Female_Older_% per Sector Standard Deviation: 927.16\n",
                        "====================\n",
                        "Interaction_Female_Younger_% per Sector:\n",
                        "--------------------\n",
                        "Min Interaction_Female_Younger_% per Sector value: 662.202\n",
                        "Max Interaction_Female_Younger_% per Sector value: 4529.657\n",
                        "--------------------\n",
                        "Interaction_Female_Younger_% per Sector Mean: 2621.27\n",
                        "--------------------\n",
                        "Interaction_Female_Younger_% per Sector Standard Deviation: 1143.53\n",
                        "====================\n",
                        "Interaction_Male_Older_% per Sector:\n",
                        "--------------------\n",
                        "Min Interaction_Male_Older_% per Sector value: 721.036\n",
                        "Max Interaction_Male_Older_% per Sector value: 4699.074\n",
                        "--------------------\n",
                        "Interaction_Male_Older_% per Sector Mean: 2291.11\n",
                        "--------------------\n",
                        "Interaction_Male_Older_% per Sector Standard Deviation: 1114.18\n",
                        "====================\n",
                        "Interaction_Male_Younger_% per Sector:\n",
                        "--------------------\n",
                        "Min Interaction_Male_Younger_% per Sector value: 839.936\n",
                        "Max Interaction_Male_Younger_% per Sector value: 4869.203\n",
                        "--------------------\n",
                        "Interaction_Male_Younger_% per Sector Mean: 3298.63\n",
                        "--------------------\n",
                        "Interaction_Male_Younger_% per Sector Standard Deviation: 1166.3\n",
                        "\n",
                        "\n"
                    ]
                }
            ],
            "source": [
                "get_df_info(df_jobs, ivs_all=ivs_all)\n"
            ]
        },
        {
            "cell_type": "code",
            "execution_count": 79,
            "metadata": {},
            "outputs": [
                {
                    "name": "stdout",
                    "output_type": "stream",
                    "text": [
                        "\n",
                        "DF INFO:\n",
                        "\n",
                        "<class 'pandas.core.frame.DataFrame'>\n",
                        "RangeIndex: 17593 entries, 0 to 17592\n",
                        "Data columns (total 61 columns):\n",
                        " #   Column                                   Non-Null Count  Dtype   \n",
                        "---  ------                                   --------------  -----   \n",
                        " 0   Search Keyword                           17593 non-null  object  \n",
                        " 1   Platform                                 17593 non-null  object  \n",
                        " 2   Job ID                                   17593 non-null  object  \n",
                        " 3   Job Title                                17593 non-null  object  \n",
                        " 4   Company Name                             17591 non-null  object  \n",
                        " 5   Location                                 17593 non-null  object  \n",
                        " 6   Job Description                          17593 non-null  object  \n",
                        " 7   Rating                                   3780 non-null   float64 \n",
                        " 8   Employment Type                          17011 non-null  object  \n",
                        " 9   Company URL                              15954 non-null  object  \n",
                        " 10  Job URL                                  17593 non-null  object  \n",
                        " 11  Job Age                                  17593 non-null  object  \n",
                        " 12  Job Age Number                           17593 non-null  object  \n",
                        " 13  Collection Date                          17593 non-null  object  \n",
                        " 14  Data Row                                 13810 non-null  float64 \n",
                        " 15  Tracking ID                              13810 non-null  object  \n",
                        " 16  Industry                                 14395 non-null  object  \n",
                        " 17  Job Date                                 13813 non-null  object  \n",
                        " 18  Type of ownership                        582 non-null    object  \n",
                        " 19  Language                                 17593 non-null  object  \n",
                        " 20  Dutch Requirement in Job Ad              17593 non-null  category\n",
                        " 21  English Requirement in Job Ad            17593 non-null  category\n",
                        " 22  Dutch Requirement in Job Ad_No           17593 non-null  int64   \n",
                        " 23  Dutch Requirement in Job Ad_Yes          17593 non-null  int64   \n",
                        " 24  English Requirement in Job Ad_No         17593 non-null  int64   \n",
                        " 25  English Requirement in Job Ad_Yes        17593 non-null  int64   \n",
                        " 26  Sector Code                              17593 non-null  object  \n",
                        " 27  Sector                                   17593 non-null  object  \n",
                        " 28  Keywords Count                           17593 non-null  float64 \n",
                        " 29  Gender_Female_n                          17593 non-null  float64 \n",
                        " 30  Gender_Female_% per Sector               17593 non-null  float64 \n",
                        " 31  Gender_Female_% per Social Category      17593 non-null  float64 \n",
                        " 32  Gender_Female_% per Workforce            17593 non-null  float64 \n",
                        " 33  Gender_Male_n                            17593 non-null  float64 \n",
                        " 34  Gender_Male_% per Sector                 17593 non-null  float64 \n",
                        " 35  Gender_Male_% per Social Category        17593 non-null  float64 \n",
                        " 36  Gender_Male_% per Workforce              17593 non-null  float64 \n",
                        " 37  Gender                                   17593 non-null  category\n",
                        " 38  Age_Older_n                              17593 non-null  float64 \n",
                        " 39  Age_Older_% per Sector                   17593 non-null  float64 \n",
                        " 40  Age_Older_% per Social Category          17593 non-null  float64 \n",
                        " 41  Age_Older_% per Workforce                17593 non-null  float64 \n",
                        " 42  Age_Younger_n                            17593 non-null  float64 \n",
                        " 43  Age_Younger_% per Sector                 17593 non-null  float64 \n",
                        " 44  Age_Younger_% per Social Category        17593 non-null  float64 \n",
                        " 45  Age_Younger_% per Workforce              17593 non-null  float64 \n",
                        " 46  Age                                      17593 non-null  category\n",
                        " 47  Sector_n                                 17593 non-null  float64 \n",
                        " 48  % Sector per Workforce                   17593 non-null  float64 \n",
                        " 49  Gender_Female                            17593 non-null  int64   \n",
                        " 50  Gender_Male                              17593 non-null  int64   \n",
                        " 51  Gender_Mixed                             17593 non-null  int64   \n",
                        " 52  Age_Mixed                                17593 non-null  int64   \n",
                        " 53  Age_Older                                17593 non-null  int64   \n",
                        " 54  Age_Younger                              17593 non-null  int64   \n",
                        " 55  Gender_Num                               17593 non-null  int64   \n",
                        " 56  Age_Num                                  17593 non-null  int64   \n",
                        " 57  Interaction_Female_Older_% per Sector    17593 non-null  float64 \n",
                        " 58  Interaction_Female_Younger_% per Sector  17593 non-null  float64 \n",
                        " 59  Interaction_Male_Older_% per Sector      17593 non-null  float64 \n",
                        " 60  Interaction_Male_Younger_% per Sector    17593 non-null  float64 \n",
                        "dtypes: category(4), float64(25), int64(12), object(20)\n",
                        "memory usage: 7.7+ MB\n",
                        "====================\n",
                        "Warmth:\n",
                        "--------------------\n",
                        "Warmth not available.\n",
                        "====================\n",
                        "Competence:\n",
                        "--------------------\n",
                        "Competence not available.\n",
                        "\n",
                        "\n"
                    ]
                }
            ],
            "source": [
                "get_df_info(df_jobs, ivs_all=dvs)\n"
            ]
        },
        {
            "cell_type": "code",
            "execution_count": 80,
            "metadata": {},
            "outputs": [
                {
                    "data": {
                        "text/plain": [
                            "Gender\n",
                            "Male            6974\n",
                            "Mixed Gender    6664\n",
                            "Female          3955\n",
                            "Name: count, dtype: int64"
                        ]
                    },
                    "execution_count": 80,
                    "metadata": {},
                    "output_type": "execute_result"
                }
            ],
            "source": [
                "df_jobs['Gender'].value_counts()\n"
            ]
        },
        {
            "cell_type": "code",
            "execution_count": 81,
            "metadata": {},
            "outputs": [
                {
                    "data": {
                        "text/plain": [
                            "Gender_Female\n",
                            "0    13638\n",
                            "1     3955\n",
                            "Name: count, dtype: int64"
                        ]
                    },
                    "execution_count": 81,
                    "metadata": {},
                    "output_type": "execute_result"
                }
            ],
            "source": [
                "df_jobs['Gender_Female'].value_counts()\n"
            ]
        },
        {
            "cell_type": "code",
            "execution_count": 82,
            "metadata": {},
            "outputs": [
                {
                    "data": {
                        "text/plain": [
                            "Gender_Num\n",
                            "2    6974\n",
                            "1    6664\n",
                            "0    3955\n",
                            "Name: count, dtype: int64"
                        ]
                    },
                    "execution_count": 82,
                    "metadata": {},
                    "output_type": "execute_result"
                }
            ],
            "source": [
                "df_jobs['Gender_Num'].value_counts()\n"
            ]
        },
        {
            "cell_type": "code",
            "execution_count": 83,
            "metadata": {},
            "outputs": [
                {
                    "data": {
                        "text/plain": [
                            "Platform\n",
                            "LinkedIn     13813\n",
                            "Indeed        3198\n",
                            "Glassdoor      582\n",
                            "Name: count, dtype: int64"
                        ]
                    },
                    "execution_count": 83,
                    "metadata": {},
                    "output_type": "execute_result"
                }
            ],
            "source": [
                "df_jobs['Platform'].value_counts()\n"
            ]
        },
        {
            "cell_type": "code",
            "execution_count": 84,
            "metadata": {},
            "outputs": [],
            "source": [
                "df_jobs['Platform'] = df_jobs['Platform'].astype('category').cat.reorder_categories(platform_order, ordered=True)\n",
                "df_jobs['Platform'] = pd.Categorical(df_jobs['Platform'], categories=platform_order, ordered=True)\n",
                "df_jobs['Platform_Num'] = pd.to_numeric(df_jobs['Platform'].cat.codes).astype('int64')\n",
                "df_jobs = df_jobs.join(pd.get_dummies(df_jobs[['Platform']], dtype='int64'))\n"
            ]
        },
        {
            "cell_type": "code",
            "execution_count": 85,
            "metadata": {},
            "outputs": [
                {
                    "data": {
                        "text/plain": [
                            "Platform_Num  Platform_LinkedIn  Platform_Indeed  Platform_Glassdoor\n",
                            "0             1                  0                0                     13813\n",
                            "1             0                  1                0                      3198\n",
                            "2             0                  0                1                       582\n",
                            "Name: count, dtype: int64"
                        ]
                    },
                    "execution_count": 85,
                    "metadata": {},
                    "output_type": "execute_result"
                }
            ],
            "source": [
                "# LinkedIn=13818, Indeed=3198, Glassdoor=3198\n",
                "df_jobs[['Platform_Num', 'Platform_LinkedIn', 'Platform_Indeed', 'Platform_Glassdoor']].value_counts()\n"
            ]
        },
        {
            "cell_type": "code",
            "execution_count": 86,
            "metadata": {},
            "outputs": [],
            "source": [
                "assert len(df_jobs) > 0 and isinstance(df_jobs, pd.DataFrame), f'ERORR: LENGTH OF DF = {len(df_jobs)}'\n",
                "df_jobs.to_pickle(f'{df_save_dir}df_jobs_including_sector_genage_data.pkl')\n",
                "df_jobs.to_csv(f'{df_save_dir}df_jobs_including_sector_genage_data.csv', index=False)\n"
            ]
        },
        {
            "attachments": {},
            "cell_type": "markdown",
            "metadata": {},
            "source": [
                "# Use spacy to split job ads to sentences\n"
            ]
        },
        {
            "attachments": {},
            "cell_type": "markdown",
            "metadata": {},
            "source": [
                "### START HERE IF SOURCING FROM DF_JOBS_INCLUDING_SECTOR_GENAGE_DATA\n",
                "### PLEASE SET CORRECT DIRECTORY PATHS BELOW\n"
            ]
        },
        {
            "cell_type": "code",
            "execution_count": 87,
            "metadata": {},
            "outputs": [],
            "source": [
                "import os # type:ignore # isort:skip # fmt:skip # noqa # nopep8\n",
                "import sys # type:ignore # isort:skip # fmt:skip # noqa # nopep8\n",
                "from pathlib import Path # type:ignore # isort:skip # fmt:skip # noqa # nopep8\n",
                "\n",
                "mod = sys.modules[__name__]\n",
                "\n",
                "code_dir = None\n",
                "code_dir_name = 'Code'\n",
                "unwanted_subdir_name = 'Analysis'\n",
                "\n",
                "if code_dir_name not in str(Path.cwd()).split('/')[-1]:\n",
                "    for _ in range(5):\n",
                "\n",
                "        parent_path = str(Path.cwd().parents[_]).split('/')[-1]\n",
                "\n",
                "        if (code_dir_name in parent_path) and (unwanted_subdir_name not in parent_path):\n",
                "\n",
                "            code_dir = str(Path.cwd().parents[_])\n",
                "\n",
                "            if code_dir is not None:\n",
                "                break\n",
                "else:\n",
                "    code_dir = str(Path.cwd())\n",
                "sys.path.append(code_dir)\n",
                "\n",
                "# %load_ext autoreload\n",
                "# %autoreload 2\n"
            ]
        },
        {
            "cell_type": "code",
            "execution_count": 88,
            "metadata": {},
            "outputs": [],
            "source": [
                "from setup_module.imports import *  # type:ignore # isort:skip # fmt:skip # noqa # nopep8\n"
            ]
        },
        {
            "cell_type": "code",
            "execution_count": 89,
            "metadata": {},
            "outputs": [],
            "source": [
                "df_jobs = pd.read_pickle(f'{df_save_dir}df_jobs_including_sector_genage_data.pkl')\n"
            ]
        },
        {
            "cell_type": "code",
            "execution_count": 90,
            "metadata": {},
            "outputs": [
                {
                    "name": "stdout",
                    "output_type": "stream",
                    "text": [
                        "<class 'pandas.core.frame.DataFrame'>\n",
                        "RangeIndex: 17593 entries, 0 to 17592\n",
                        "Data columns (total 65 columns):\n",
                        " #   Column                                   Non-Null Count  Dtype   \n",
                        "---  ------                                   --------------  -----   \n",
                        " 0   Search Keyword                           17593 non-null  object  \n",
                        " 1   Platform                                 17593 non-null  category\n",
                        " 2   Job ID                                   17593 non-null  object  \n",
                        " 3   Job Title                                17593 non-null  object  \n",
                        " 4   Company Name                             17591 non-null  object  \n",
                        " 5   Location                                 17593 non-null  object  \n",
                        " 6   Job Description                          17593 non-null  object  \n",
                        " 7   Rating                                   3780 non-null   float64 \n",
                        " 8   Employment Type                          17011 non-null  object  \n",
                        " 9   Company URL                              15954 non-null  object  \n",
                        " 10  Job URL                                  17593 non-null  object  \n",
                        " 11  Job Age                                  17593 non-null  object  \n",
                        " 12  Job Age Number                           17593 non-null  object  \n",
                        " 13  Collection Date                          17593 non-null  object  \n",
                        " 14  Data Row                                 13810 non-null  float64 \n",
                        " 15  Tracking ID                              13810 non-null  object  \n",
                        " 16  Industry                                 14395 non-null  object  \n",
                        " 17  Job Date                                 13813 non-null  object  \n",
                        " 18  Type of ownership                        582 non-null    object  \n",
                        " 19  Language                                 17593 non-null  object  \n",
                        " 20  Dutch Requirement in Job Ad              17593 non-null  category\n",
                        " 21  English Requirement in Job Ad            17593 non-null  category\n",
                        " 22  Dutch Requirement in Job Ad_No           17593 non-null  int64   \n",
                        " 23  Dutch Requirement in Job Ad_Yes          17593 non-null  int64   \n",
                        " 24  English Requirement in Job Ad_No         17593 non-null  int64   \n",
                        " 25  English Requirement in Job Ad_Yes        17593 non-null  int64   \n",
                        " 26  Sector Code                              17593 non-null  object  \n",
                        " 27  Sector                                   17593 non-null  object  \n",
                        " 28  Keywords Count                           17593 non-null  float64 \n",
                        " 29  Gender_Female_n                          17593 non-null  float64 \n",
                        " 30  Gender_Female_% per Sector               17593 non-null  float64 \n",
                        " 31  Gender_Female_% per Social Category      17593 non-null  float64 \n",
                        " 32  Gender_Female_% per Workforce            17593 non-null  float64 \n",
                        " 33  Gender_Male_n                            17593 non-null  float64 \n",
                        " 34  Gender_Male_% per Sector                 17593 non-null  float64 \n",
                        " 35  Gender_Male_% per Social Category        17593 non-null  float64 \n",
                        " 36  Gender_Male_% per Workforce              17593 non-null  float64 \n",
                        " 37  Gender                                   17593 non-null  category\n",
                        " 38  Age_Older_n                              17593 non-null  float64 \n",
                        " 39  Age_Older_% per Sector                   17593 non-null  float64 \n",
                        " 40  Age_Older_% per Social Category          17593 non-null  float64 \n",
                        " 41  Age_Older_% per Workforce                17593 non-null  float64 \n",
                        " 42  Age_Younger_n                            17593 non-null  float64 \n",
                        " 43  Age_Younger_% per Sector                 17593 non-null  float64 \n",
                        " 44  Age_Younger_% per Social Category        17593 non-null  float64 \n",
                        " 45  Age_Younger_% per Workforce              17593 non-null  float64 \n",
                        " 46  Age                                      17593 non-null  category\n",
                        " 47  Sector_n                                 17593 non-null  float64 \n",
                        " 48  % Sector per Workforce                   17593 non-null  float64 \n",
                        " 49  Gender_Female                            17593 non-null  int64   \n",
                        " 50  Gender_Male                              17593 non-null  int64   \n",
                        " 51  Gender_Mixed                             17593 non-null  int64   \n",
                        " 52  Age_Mixed                                17593 non-null  int64   \n",
                        " 53  Age_Older                                17593 non-null  int64   \n",
                        " 54  Age_Younger                              17593 non-null  int64   \n",
                        " 55  Gender_Num                               17593 non-null  int64   \n",
                        " 56  Age_Num                                  17593 non-null  int64   \n",
                        " 57  Interaction_Female_Older_% per Sector    17593 non-null  float64 \n",
                        " 58  Interaction_Female_Younger_% per Sector  17593 non-null  float64 \n",
                        " 59  Interaction_Male_Older_% per Sector      17593 non-null  float64 \n",
                        " 60  Interaction_Male_Younger_% per Sector    17593 non-null  float64 \n",
                        " 61  Platform_Num                             17593 non-null  int64   \n",
                        " 62  Platform_LinkedIn                        17593 non-null  int64   \n",
                        " 63  Platform_Indeed                          17593 non-null  int64   \n",
                        " 64  Platform_Glassdoor                       17593 non-null  int64   \n",
                        "dtypes: category(5), float64(25), int64(16), object(19)\n",
                        "memory usage: 8.1+ MB\n"
                    ]
                }
            ],
            "source": [
                "df_jobs.info()\n"
            ]
        },
        {
            "cell_type": "code",
            "execution_count": 91,
            "metadata": {},
            "outputs": [],
            "source": [
                "df_jobs['Job Description'] = df_jobs['Job Description'].apply(lambda x: unicodedata.normalize('NFKD', x.encode('ascii', 'ignore').decode('utf-8', 'ignore')))\n"
            ]
        },
        {
            "cell_type": "code",
            "execution_count": 92,
            "metadata": {},
            "outputs": [
                {
                    "data": {
                        "text/plain": [
                            "0    About Our Client\\nThe Global KYC organisation ...\n",
                            "1    Your role:\\n\\nWere in business to save our hom...\n",
                            "2    During the past four years Colourful Rebel has...\n",
                            "3    Job Description\\nWe are currently recruiting a...\n",
                            "4    KARL LAGERFELD COMPANY PROFILE\\n\\nThe house of...\n",
                            "Name: Job Description, dtype: object"
                        ]
                    },
                    "execution_count": 92,
                    "metadata": {},
                    "output_type": "execute_result"
                }
            ],
            "source": [
                "df_jobs['Job Description'].head()\n"
            ]
        },
        {
            "cell_type": "code",
            "execution_count": 93,
            "metadata": {},
            "outputs": [
                {
                    "name": "stdout",
                    "output_type": "stream",
                    "text": [
                        "CPU times: user 2.84 ms, sys: 1.14 ms, total: 3.98 ms\n",
                        "Wall time: 3.48 ms\n"
                    ]
                }
            ],
            "source": [
                "%%time\n",
                "# Add sentencizer to spacy pipe and set custom punctuations\n",
                "with open(f'{data_dir}punctuations.txt', 'rb') as f:\n",
                "    custom_punct_chars = pickle.load(f)\n",
                "\n",
                "if 'sentencizer' not in nlp.pipe_names:\n",
                "    sentencizer = nlp.add_pipe('sentencizer')\n",
                "sentencizer.punct_chars.update(custom_punct_chars)\n",
                "\n",
                "if all(custom_punct_char in sentencizer.punct_chars for custom_punct_char in custom_punct_chars):\n",
                "    with open(f'{data_dir}punctuations.txt', 'wb') as f:\n",
                "        pickle.dump(sentencizer.punct_chars, f)\n",
                "\n",
                "with open(f'{data_dir}punctuations.txt', 'rb') as f:\n",
                "    custom_punct_chars = pickle.load(f)\n"
            ]
        },
        {
            "cell_type": "code",
            "execution_count": 94,
            "metadata": {},
            "outputs": [],
            "source": [
                "# Add special cases to spacy\n",
                "special_cases_dict = {\n",
                "    'incl.': [{65: 'incl', 67: 'including'}],\n",
                "    'incl. ': [{65: 'incl', 67: 'including'}],\n",
                "    '(incl.': [{65: 'incl', 67: 'including'}],\n",
                "    'etc.': [{65: 'etc', 67: 'et cetera'}],\n",
                "    'etc. ': [{65: 'etc', 67: 'et cetera'}],\n",
                "    'e.g.': [{65: 'e.g', 67: 'for example'}],\n",
                "    'e.g. ': [{65: 'e.g', 67: 'for example'}],\n",
                "    'andor ': [{65: 'andor', 67: 'and or'}],\n",
                "    'and/or ': [{65: 'andor', 67: 'and or'}],\n",
                "}\n",
                "\n",
                "nlp.tokenizer.rules.update(special_cases_dict)\n"
            ]
        },
        {
            "cell_type": "code",
            "execution_count": 95,
            "metadata": {},
            "outputs": [
                {
                    "data": {
                        "text/plain": [
                            "0    About Our Client\\nThe Global KYC organisation ...\n",
                            "1    Your role:\\n\\nWere in business to save our hom...\n",
                            "2    During the past four years Colourful Rebel has...\n",
                            "3    Job Description\\nWe are currently recruiting a...\n",
                            "4    KARL LAGERFELD COMPANY PROFILE\\n\\nThe house of...\n",
                            "Name: Job Description, dtype: object"
                        ]
                    },
                    "execution_count": 95,
                    "metadata": {},
                    "output_type": "execute_result"
                }
            ],
            "source": [
                "df_jobs['Job Description'].head()\n"
            ]
        },
        {
            "cell_type": "code",
            "execution_count": 96,
            "metadata": {},
            "outputs": [
                {
                    "data": {
                        "text/plain": [
                            "count                                                 17593\n",
                            "unique                                                17593\n",
                            "top       About Our Client\\nThe Global KYC organisation ...\n",
                            "freq                                                      1\n",
                            "Name: Job Description, dtype: object"
                        ]
                    },
                    "execution_count": 96,
                    "metadata": {},
                    "output_type": "execute_result"
                }
            ],
            "source": [
                "df_jobs['Job Description'].describe()\n"
            ]
        },
        {
            "cell_type": "code",
            "execution_count": 97,
            "metadata": {},
            "outputs": [
                {
                    "data": {
                        "application/vnd.jupyter.widget-view+json": {
                            "model_id": "058f7e9f5d614d209ded5719880a5151",
                            "version_major": 2,
                            "version_minor": 0
                        },
                        "text/plain": [
                            "progress-bar:   0%|          | 0/17593 [00:00<?, ?it/s]"
                        ]
                    },
                    "metadata": {},
                    "output_type": "display_data"
                },
                {
                    "name": "stdout",
                    "output_type": "stream",
                    "text": [
                        "CPU times: user 18min 31s, sys: 24.3 s, total: 18min 55s\n",
                        "Wall time: 42min 12s\n"
                    ]
                }
            ],
            "source": [
                "%%time\n",
                "# Spacy sentencize\n",
                "if all(custom_punct_char in sentencizer.punct_chars for custom_punct_char in custom_punct_chars):\n",
                "    df_jobs['Job Description spacy_sentencized'] = df_jobs['Job Description'].progress_apply(\n",
                "        lambda job_description: [\n",
                "            sent\n",
                "            for sentence in nlp(job_description).sents\n",
                "            for sent in re.split(pattern, sentence.text)\n",
                "            if sent is not None\n",
                "            and bool(sent) == True\n",
                "            and isinstance(sent, str)\n",
                "            and sent != '...'\n",
                "            and sent not in nan_list\n",
                "            and sent not in custom_punct_chars\n",
                "            and sent not in list(string.punctuation)\n",
                "            and sent not in list(string.whitespace)\n",
                "            ]\n",
                "    )\n",
                "\n",
                "assert len(df_jobs) > 0 and isinstance(df_jobs, pd.DataFrame), f'ERORR: LENGTH OF DF = {len(df_jobs)}'\n",
                "df_jobs.to_pickle(f'{df_save_dir}df_jobs_sentencized.pkl')\n",
                "df_jobs.to_csv(f'{df_save_dir}df_jobs_sentencized.csv', index=False)\n"
            ]
        },
        {
            "cell_type": "code",
            "execution_count": 98,
            "metadata": {},
            "outputs": [
                {
                    "data": {
                        "text/plain": [
                            "17593"
                        ]
                    },
                    "execution_count": 98,
                    "metadata": {},
                    "output_type": "execute_result"
                }
            ],
            "source": [
                "# len=17593\n",
                "len(df_jobs)\n"
            ]
        },
        {
            "cell_type": "code",
            "execution_count": 99,
            "metadata": {},
            "outputs": [
                {
                    "data": {
                        "text/plain": [
                            "0    [About Our Client, The Global KYC organisation...\n",
                            "1    [Your role, Were in business to save our home ...\n",
                            "2    [During the past four years Colourful Rebel ha...\n",
                            "3    [Job Description, We are currently recruiting ...\n",
                            "4    [KARL LAGERFELD COMPANY PROFILE, The house of ...\n",
                            "Name: Job Description spacy_sentencized, dtype: object"
                        ]
                    },
                    "execution_count": 99,
                    "metadata": {},
                    "output_type": "execute_result"
                }
            ],
            "source": [
                "df_jobs['Job Description spacy_sentencized'].head()\n"
            ]
        },
        {
            "cell_type": "code",
            "execution_count": 100,
            "metadata": {},
            "outputs": [
                {
                    "data": {
                        "text/plain": [
                            "count                                                 17593\n",
                            "unique                                                17028\n",
                            "top       [For our Global KYC Screening Pillar we are lo...\n",
                            "freq                                                      3\n",
                            "Name: Job Description spacy_sentencized, dtype: object"
                        ]
                    },
                    "execution_count": 100,
                    "metadata": {},
                    "output_type": "execute_result"
                }
            ],
            "source": [
                "df_jobs['Job Description spacy_sentencized'].describe()\n"
            ]
        },
        {
            "cell_type": "code",
            "execution_count": 101,
            "metadata": {},
            "outputs": [],
            "source": [
                "# Drop na, empty strings, punctuations, and keep only sentences of length more than 0\n",
                "df_jobs = df_jobs.dropna(subset=['Job Description spacy_sentencized'])\n",
                "df_jobs = df_jobs.loc[\n",
                "    (df_jobs['Job Description spacy_sentencized'].isnull() == False)\n",
                "    & (df_jobs['Job Description spacy_sentencized'].isna() == False)\n",
                "    & (df_jobs['Job Description spacy_sentencized'].notnull() == True)\n",
                "    & (df_jobs['Job Description spacy_sentencized'].notna() == True)\n",
                "    & (df_jobs['Job Description spacy_sentencized'].astype(bool) == True)\n",
                "    & (df_jobs['Job Description spacy_sentencized'].astype(str).apply(len) > 0)\n",
                "    & (pd.isna(df_jobs['Job Description spacy_sentencized']) == False)\n",
                "    & (df_jobs['Job Description spacy_sentencized'].astype(str).isin(custom_punct_chars) == False)\n",
                "    & (df_jobs['Job Description spacy_sentencized'].astype(str).isin(non_whitespace_nan_list) == False)\n",
                "    & (df_jobs['Job Description spacy_sentencized'].astype(str).isin(list(string.punctuation)) == False)\n",
                "    & (df_jobs['Job Description spacy_sentencized'].astype(str).isin(list(string.whitespace)) == False)\n",
                "]\n",
                "df_jobs = df_jobs.dropna(subset=['Job Description spacy_sentencized'])\n"
            ]
        },
        {
            "cell_type": "code",
            "execution_count": 102,
            "metadata": {},
            "outputs": [
                {
                    "data": {
                        "text/plain": [
                            "17593"
                        ]
                    },
                    "execution_count": 102,
                    "metadata": {},
                    "output_type": "execute_result"
                }
            ],
            "source": [
                "# len=17593\n",
                "len(df_jobs)\n"
            ]
        },
        {
            "cell_type": "code",
            "execution_count": 103,
            "metadata": {},
            "outputs": [
                {
                    "data": {
                        "text/plain": [
                            "0    [About Our Client, The Global KYC organisation...\n",
                            "1    [Your role, Were in business to save our home ...\n",
                            "2    [During the past four years Colourful Rebel ha...\n",
                            "3    [Job Description, We are currently recruiting ...\n",
                            "4    [KARL LAGERFELD COMPANY PROFILE, The house of ...\n",
                            "Name: Job Description spacy_sentencized, dtype: object"
                        ]
                    },
                    "execution_count": 103,
                    "metadata": {},
                    "output_type": "execute_result"
                }
            ],
            "source": [
                "df_jobs['Job Description spacy_sentencized'].head()\n"
            ]
        },
        {
            "cell_type": "code",
            "execution_count": 104,
            "metadata": {},
            "outputs": [
                {
                    "data": {
                        "text/plain": [
                            "count                                                 17593\n",
                            "unique                                                17028\n",
                            "top       [For our Global KYC Screening Pillar we are lo...\n",
                            "freq                                                      3\n",
                            "Name: Job Description spacy_sentencized, dtype: object"
                        ]
                    },
                    "execution_count": 104,
                    "metadata": {},
                    "output_type": "execute_result"
                }
            ],
            "source": [
                "# count=17593, unique=17028\n",
                "df_jobs['Job Description spacy_sentencized'].describe()\n"
            ]
        },
        {
            "cell_type": "code",
            "execution_count": 105,
            "metadata": {},
            "outputs": [
                {
                    "data": {
                        "text/plain": [
                            "1007"
                        ]
                    },
                    "execution_count": 105,
                    "metadata": {},
                    "output_type": "execute_result"
                }
            ],
            "source": [
                "# sentences=1007\n",
                "df_jobs['Job Description spacy_sentencized'].apply(len).max()\n"
            ]
        },
        {
            "cell_type": "code",
            "execution_count": 106,
            "metadata": {},
            "outputs": [
                {
                    "data": {
                        "text/plain": [
                            "['A leading company in the yacht building industry is looking for a Structural Specialist who will be in charge of structural calculations and FEM analysis for different projects within the engineering department Your role will be challenging as you work on cuttingedge yacht designs and see them brought to life']"
                        ]
                    },
                    "execution_count": 106,
                    "metadata": {},
                    "output_type": "execute_result"
                }
            ],
            "source": [
                "df_jobs['Job Description spacy_sentencized'].loc[df_jobs['Job Description spacy_sentencized'].apply(len).idxmin()]\n"
            ]
        },
        {
            "cell_type": "code",
            "execution_count": 107,
            "metadata": {},
            "outputs": [
                {
                    "data": {
                        "application/vnd.jupyter.widget-view+json": {
                            "model_id": "5ac35d06690f440492f614ad676b686d",
                            "version_major": 2,
                            "version_minor": 0
                        },
                        "text/plain": [
                            "progress-bar:   0%|          | 0/17593 [00:00<?, ?it/s]"
                        ]
                    },
                    "metadata": {},
                    "output_type": "display_data"
                }
            ],
            "source": [
                "# Remove sentences with only punctuations, whitespace, and nan, etc from list of sentences\n",
                "with open(f'{data_dir}punctuations.txt', 'rb') as f:\n",
                "    custom_punct_chars = pickle.load(f)\n",
                "\n",
                "df_jobs['Job Description spacy_sentencized'] = df_jobs['Job Description spacy_sentencized'].progress_apply(\n",
                "    lambda job_sentences_list: [\n",
                "        sentence.strip()\n",
                "        for sentence in job_sentences_list\n",
                "        if sentence is not None\n",
                "        and len(sentence) > 5\n",
                "        and sentence not in nan_list\n",
                "        and sentence not in custom_punct_chars\n",
                "        and sentence not in list(string.punctuation)\n",
                "        and sentence not in list(string.whitespace)\n",
                "    ]\n",
                ")\n"
            ]
        },
        {
            "cell_type": "code",
            "execution_count": 108,
            "metadata": {},
            "outputs": [
                {
                    "data": {
                        "text/plain": [
                            "0    [About Our Client, The Global KYC organisation...\n",
                            "1    [Your role, Were in business to save our home ...\n",
                            "2    [During the past four years Colourful Rebel ha...\n",
                            "3    [Job Description, We are currently recruiting ...\n",
                            "4    [KARL LAGERFELD COMPANY PROFILE, The house of ...\n",
                            "Name: Job Description spacy_sentencized, dtype: object"
                        ]
                    },
                    "execution_count": 108,
                    "metadata": {},
                    "output_type": "execute_result"
                }
            ],
            "source": [
                "df_jobs['Job Description spacy_sentencized'].head()\n"
            ]
        },
        {
            "cell_type": "code",
            "execution_count": 109,
            "metadata": {},
            "outputs": [
                {
                    "data": {
                        "text/plain": [
                            "count                                                 17593\n",
                            "unique                                                17000\n",
                            "top       [THE PROFILEAbercrombie  Fitch Co is a leading...\n",
                            "freq                                                      4\n",
                            "Name: Job Description spacy_sentencized, dtype: object"
                        ]
                    },
                    "execution_count": 109,
                    "metadata": {},
                    "output_type": "execute_result"
                }
            ],
            "source": [
                "# count=17593, unique=17000\n",
                "df_jobs['Job Description spacy_sentencized'].describe()\n"
            ]
        },
        {
            "cell_type": "code",
            "execution_count": 110,
            "metadata": {},
            "outputs": [],
            "source": [
                "# Drop na, empty strings, punctuations, and keep only sentences of length more than 0\n",
                "df_jobs = df_jobs.dropna(subset=['Job Description spacy_sentencized'])\n",
                "df_jobs = df_jobs.loc[\n",
                "    (df_jobs['Job Description spacy_sentencized'].isnull() == False)\n",
                "    & (df_jobs['Job Description spacy_sentencized'].isna() == False)\n",
                "    & (df_jobs['Job Description spacy_sentencized'].notnull() == True)\n",
                "    & (df_jobs['Job Description spacy_sentencized'].notna() == True)\n",
                "    & (df_jobs['Job Description spacy_sentencized'].astype(bool) == True)\n",
                "    & (df_jobs['Job Description spacy_sentencized'].astype(str).apply(len) > 0)\n",
                "    & (pd.isna(df_jobs['Job Description spacy_sentencized']) == False)\n",
                "    & (df_jobs['Job Description spacy_sentencized'].astype(str).isin(custom_punct_chars) == False)\n",
                "    & (df_jobs['Job Description spacy_sentencized'].astype(str).isin(non_whitespace_nan_list) == False)\n",
                "    & (df_jobs['Job Description spacy_sentencized'].astype(str).isin(list(string.punctuation)) == False)\n",
                "    & (df_jobs['Job Description spacy_sentencized'].astype(str).isin(list(string.whitespace)) == False)\n",
                "]\n",
                "df_jobs = df_jobs.dropna(subset=['Job Description spacy_sentencized'])\n"
            ]
        },
        {
            "cell_type": "code",
            "execution_count": 111,
            "metadata": {},
            "outputs": [
                {
                    "data": {
                        "text/plain": [
                            "17592"
                        ]
                    },
                    "execution_count": 111,
                    "metadata": {},
                    "output_type": "execute_result"
                }
            ],
            "source": [
                "# len=17592\n",
                "len(df_jobs)\n"
            ]
        },
        {
            "cell_type": "code",
            "execution_count": 112,
            "metadata": {},
            "outputs": [
                {
                    "name": "stdout",
                    "output_type": "stream",
                    "text": [
                        "<class 'pandas.core.frame.DataFrame'>\n",
                        "Index: 17592 entries, 0 to 17592\n",
                        "Data columns (total 66 columns):\n",
                        " #   Column                                   Non-Null Count  Dtype   \n",
                        "---  ------                                   --------------  -----   \n",
                        " 0   Search Keyword                           17592 non-null  object  \n",
                        " 1   Platform                                 17592 non-null  category\n",
                        " 2   Job ID                                   17592 non-null  object  \n",
                        " 3   Job Title                                17592 non-null  object  \n",
                        " 4   Company Name                             17590 non-null  object  \n",
                        " 5   Location                                 17592 non-null  object  \n",
                        " 6   Job Description                          17592 non-null  object  \n",
                        " 7   Rating                                   3780 non-null   float64 \n",
                        " 8   Employment Type                          17010 non-null  object  \n",
                        " 9   Company URL                              15954 non-null  object  \n",
                        " 10  Job URL                                  17592 non-null  object  \n",
                        " 11  Job Age                                  17592 non-null  object  \n",
                        " 12  Job Age Number                           17592 non-null  object  \n",
                        " 13  Collection Date                          17592 non-null  object  \n",
                        " 14  Data Row                                 13809 non-null  float64 \n",
                        " 15  Tracking ID                              13809 non-null  object  \n",
                        " 16  Industry                                 14394 non-null  object  \n",
                        " 17  Job Date                                 13812 non-null  object  \n",
                        " 18  Type of ownership                        582 non-null    object  \n",
                        " 19  Language                                 17592 non-null  object  \n",
                        " 20  Dutch Requirement in Job Ad              17592 non-null  category\n",
                        " 21  English Requirement in Job Ad            17592 non-null  category\n",
                        " 22  Dutch Requirement in Job Ad_No           17592 non-null  int64   \n",
                        " 23  Dutch Requirement in Job Ad_Yes          17592 non-null  int64   \n",
                        " 24  English Requirement in Job Ad_No         17592 non-null  int64   \n",
                        " 25  English Requirement in Job Ad_Yes        17592 non-null  int64   \n",
                        " 26  Sector Code                              17592 non-null  object  \n",
                        " 27  Sector                                   17592 non-null  object  \n",
                        " 28  Keywords Count                           17592 non-null  float64 \n",
                        " 29  Gender_Female_n                          17592 non-null  float64 \n",
                        " 30  Gender_Female_% per Sector               17592 non-null  float64 \n",
                        " 31  Gender_Female_% per Social Category      17592 non-null  float64 \n",
                        " 32  Gender_Female_% per Workforce            17592 non-null  float64 \n",
                        " 33  Gender_Male_n                            17592 non-null  float64 \n",
                        " 34  Gender_Male_% per Sector                 17592 non-null  float64 \n",
                        " 35  Gender_Male_% per Social Category        17592 non-null  float64 \n",
                        " 36  Gender_Male_% per Workforce              17592 non-null  float64 \n",
                        " 37  Gender                                   17592 non-null  category\n",
                        " 38  Age_Older_n                              17592 non-null  float64 \n",
                        " 39  Age_Older_% per Sector                   17592 non-null  float64 \n",
                        " 40  Age_Older_% per Social Category          17592 non-null  float64 \n",
                        " 41  Age_Older_% per Workforce                17592 non-null  float64 \n",
                        " 42  Age_Younger_n                            17592 non-null  float64 \n",
                        " 43  Age_Younger_% per Sector                 17592 non-null  float64 \n",
                        " 44  Age_Younger_% per Social Category        17592 non-null  float64 \n",
                        " 45  Age_Younger_% per Workforce              17592 non-null  float64 \n",
                        " 46  Age                                      17592 non-null  category\n",
                        " 47  Sector_n                                 17592 non-null  float64 \n",
                        " 48  % Sector per Workforce                   17592 non-null  float64 \n",
                        " 49  Gender_Female                            17592 non-null  int64   \n",
                        " 50  Gender_Male                              17592 non-null  int64   \n",
                        " 51  Gender_Mixed                             17592 non-null  int64   \n",
                        " 52  Age_Mixed                                17592 non-null  int64   \n",
                        " 53  Age_Older                                17592 non-null  int64   \n",
                        " 54  Age_Younger                              17592 non-null  int64   \n",
                        " 55  Gender_Num                               17592 non-null  int64   \n",
                        " 56  Age_Num                                  17592 non-null  int64   \n",
                        " 57  Interaction_Female_Older_% per Sector    17592 non-null  float64 \n",
                        " 58  Interaction_Female_Younger_% per Sector  17592 non-null  float64 \n",
                        " 59  Interaction_Male_Older_% per Sector      17592 non-null  float64 \n",
                        " 60  Interaction_Male_Younger_% per Sector    17592 non-null  float64 \n",
                        " 61  Platform_Num                             17592 non-null  int64   \n",
                        " 62  Platform_LinkedIn                        17592 non-null  int64   \n",
                        " 63  Platform_Indeed                          17592 non-null  int64   \n",
                        " 64  Platform_Glassdoor                       17592 non-null  int64   \n",
                        " 65  Job Description spacy_sentencized        17592 non-null  object  \n",
                        "dtypes: category(5), float64(25), int64(16), object(20)\n",
                        "memory usage: 8.4+ MB\n"
                    ]
                }
            ],
            "source": [
                "df_jobs.info()\n"
            ]
        },
        {
            "cell_type": "code",
            "execution_count": 113,
            "metadata": {},
            "outputs": [
                {
                    "data": {
                        "text/plain": [
                            "0    [About Our Client, The Global KYC organisation...\n",
                            "1    [Your role, Were in business to save our home ...\n",
                            "2    [During the past four years Colourful Rebel ha...\n",
                            "3    [Job Description, We are currently recruiting ...\n",
                            "4    [KARL LAGERFELD COMPANY PROFILE, The house of ...\n",
                            "Name: Job Description spacy_sentencized, dtype: object"
                        ]
                    },
                    "execution_count": 113,
                    "metadata": {},
                    "output_type": "execute_result"
                }
            ],
            "source": [
                "df_jobs['Job Description spacy_sentencized'].head()\n"
            ]
        },
        {
            "cell_type": "code",
            "execution_count": 114,
            "metadata": {},
            "outputs": [
                {
                    "data": {
                        "text/plain": [
                            "count                                                 17592\n",
                            "unique                                                16999\n",
                            "top       [THE PROFILEAbercrombie  Fitch Co is a leading...\n",
                            "freq                                                      4\n",
                            "Name: Job Description spacy_sentencized, dtype: object"
                        ]
                    },
                    "execution_count": 114,
                    "metadata": {},
                    "output_type": "execute_result"
                }
            ],
            "source": [
                "# count=17592, unique=16999\n",
                "df_jobs['Job Description spacy_sentencized'].describe()\n"
            ]
        },
        {
            "cell_type": "code",
            "execution_count": 115,
            "metadata": {},
            "outputs": [],
            "source": [
                "assert len(df_jobs) > 0 and isinstance(df_jobs, pd.DataFrame), f'ERORR: LENGTH OF DF = {len(df_jobs)}'\n",
                "df_jobs.to_pickle(f'{df_save_dir}df_jobs_sentencized.pkl')\n",
                "df_jobs.to_csv(f'{df_save_dir}df_jobs_sentencized.csv', index=False)\n"
            ]
        },
        {
            "cell_type": "code",
            "execution_count": null,
            "metadata": {},
            "outputs": [],
            "source": []
        }
    ],
    "metadata": {
        "kernelspec": {
            "display_name": "Automating_Equity1_3.10",
            "language": "python",
            "name": "python3"
        },
        "language_info": {
            "codemirror_mode": {
                "name": "ipython",
                "version": 3
            },
            "file_extension": ".py",
            "mimetype": "text/x-python",
            "name": "python",
            "nbconvert_exporter": "python",
            "pygments_lexer": "ipython3",
            "version": "3.10.11"
        },
        "varInspector": {
            "cols": {
                "lenName": 16,
                "lenType": 16,
                "lenVar": 40
            },
            "kernels_config": {
                "python": {
                    "delete_cmd_postfix": "",
                    "delete_cmd_prefix": "del ",
                    "library": "var_list.py",
                    "varRefreshCmd": "print(var_dic_list())"
                },
                "r": {
                    "delete_cmd_postfix": ") ",
                    "delete_cmd_prefix": "rm(",
                    "library": "var_list.r",
                    "varRefreshCmd": "cat(var_dic_list()) "
                }
            },
            "types_to_exclude": [
                "module",
                "function",
                "builtin_function_or_method",
                "instance",
                "_Feature"
            ],
            "window_display": false
        },
        "widgets": {
            "application/vnd.jupyter.widget-state+json": {
                "state": {},
                "version_major": 2,
                "version_minor": 0
            }
        }
    },
    "nbformat": 4,
    "nbformat_minor": 4
}
