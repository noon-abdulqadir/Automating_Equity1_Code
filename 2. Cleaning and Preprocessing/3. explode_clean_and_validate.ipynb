{
    "cells": [
        {
            "cell_type": "markdown",
            "id": "6373c116",
            "metadata": {},
            "source": [
                "# ATTN: This script should be run AFTER spacy sentence splitting is completed.\n"
            ]
        },
        {
            "attachments": {},
            "cell_type": "markdown",
            "id": "993064a6",
            "metadata": {},
            "source": [
                "# Explode DF on sentences\n"
            ]
        },
        {
            "cell_type": "markdown",
            "id": "c744a550",
            "metadata": {},
            "source": [
                "### START HERE IF SOURCING FROM DF_JOBS_SENTENCIZED\n",
                "### PLEASE SET CORRECT DIRECTORY PATHS BELOW\n"
            ]
        },
        {
            "cell_type": "code",
            "execution_count": 1,
            "id": "b997d96c",
            "metadata": {},
            "outputs": [],
            "source": [
                "import os # type:ignore # isort:skip # fmt:skip # noqa # nopep8\n",
                "import sys # type:ignore # isort:skip # fmt:skip # noqa # nopep8\n",
                "from pathlib import Path # type:ignore # isort:skip # fmt:skip # noqa # nopep8\n",
                "\n",
                "mod = sys.modules[__name__]\n",
                "\n",
                "code_dir = None\n",
                "code_dir_name = 'Code'\n",
                "unwanted_subdir_name = 'Analysis'\n",
                "\n",
                "if code_dir_name not in str(Path.cwd()).split('/')[-1]:\n",
                "    for _ in range(5):\n",
                "\n",
                "        parent_path = str(Path.cwd().parents[_]).split('/')[-1]\n",
                "\n",
                "        if (code_dir_name in parent_path) and (unwanted_subdir_name not in parent_path):\n",
                "\n",
                "            code_dir = str(Path.cwd().parents[_])\n",
                "\n",
                "            if code_dir is not None:\n",
                "                break\n",
                "else:\n",
                "    code_dir = str(Path.cwd())\n",
                "sys.path.append(code_dir)\n",
                "\n",
                "# %load_ext autoreload\n",
                "# %autoreload 2\n"
            ]
        },
        {
            "cell_type": "code",
            "execution_count": 2,
            "id": "dc6c9e4c",
            "metadata": {},
            "outputs": [
                {
                    "name": "stdout",
                    "output_type": "stream",
                    "text": [
                        "Using MPS\n"
                    ]
                },
                {
                    "data": {
                        "application/vnd.jupyter.widget-view+json": {
                            "model_id": "d5f90de1e5a04ab08e70e2a4870ad3fe",
                            "version_major": 2,
                            "version_minor": 0
                        },
                        "text/plain": [
                            "0it [00:00, ?it/s]"
                        ]
                    },
                    "metadata": {},
                    "output_type": "display_data"
                },
                {
                    "data": {
                        "text/plain": [
                            "<Figure size 640x480 with 0 Axes>"
                        ]
                    },
                    "metadata": {},
                    "output_type": "display_data"
                }
            ],
            "source": [
                "from setup_module.imports import * # type:ignore # isort:skip # fmt:skip # noqa # nopep8\n"
            ]
        },
        {
            "cell_type": "code",
            "execution_count": 3,
            "id": "3d31a583",
            "metadata": {},
            "outputs": [],
            "source": [
                "df_jobs = pd.read_pickle(f'{df_save_dir}df_jobs_sentencized.pkl')\n"
            ]
        },
        {
            "cell_type": "code",
            "execution_count": 4,
            "id": "1899a0d9",
            "metadata": {},
            "outputs": [
                {
                    "name": "stdout",
                    "output_type": "stream",
                    "text": [
                        "<class 'pandas.core.frame.DataFrame'>\n",
                        "Index: 17592 entries, 0 to 17592\n",
                        "Data columns (total 62 columns):\n",
                        " #   Column                               Non-Null Count  Dtype   \n",
                        "---  ------                               --------------  -----   \n",
                        " 0   Search Keyword                       17592 non-null  object  \n",
                        " 1   Platform                             17592 non-null  category\n",
                        " 2   Job ID                               17592 non-null  object  \n",
                        " 3   Job Title                            17592 non-null  object  \n",
                        " 4   Company Name                         17590 non-null  object  \n",
                        " 5   Location                             17592 non-null  object  \n",
                        " 6   Job Description                      17592 non-null  object  \n",
                        " 7   Rating                               3780 non-null   float64 \n",
                        " 8   Employment Type                      17010 non-null  object  \n",
                        " 9   Company URL                          15954 non-null  object  \n",
                        " 10  Job URL                              17592 non-null  object  \n",
                        " 11  Job Age                              17592 non-null  object  \n",
                        " 12  Job Age Number                       17592 non-null  object  \n",
                        " 13  Collection Date                      17592 non-null  object  \n",
                        " 14  Data Row                             13809 non-null  float64 \n",
                        " 15  Tracking ID                          13809 non-null  object  \n",
                        " 16  Industry                             14394 non-null  object  \n",
                        " 17  Job Date                             13812 non-null  object  \n",
                        " 18  Type of ownership                    582 non-null    object  \n",
                        " 19  Language                             17592 non-null  object  \n",
                        " 20  Dutch Requirement in Job Ad          17592 non-null  category\n",
                        " 21  English Requirement in Job Ad        17592 non-null  category\n",
                        " 22  Dutch Requirement in Job Ad_No       17592 non-null  int64   \n",
                        " 23  Dutch Requirement in Job Ad_Yes      17592 non-null  int64   \n",
                        " 24  English Requirement in Job Ad_No     17592 non-null  int64   \n",
                        " 25  English Requirement in Job Ad_Yes    17592 non-null  int64   \n",
                        " 26  Sector Code                          17592 non-null  object  \n",
                        " 27  Sector                               17592 non-null  object  \n",
                        " 28  Keywords Count                       17592 non-null  float64 \n",
                        " 29  Gender_Female_n                      17592 non-null  float64 \n",
                        " 30  Gender_Female_% per Sector           17592 non-null  float64 \n",
                        " 31  Gender_Female_% per Social Category  17592 non-null  float64 \n",
                        " 32  Gender_Female_% per Workforce        17592 non-null  float64 \n",
                        " 33  Gender_Male_n                        17592 non-null  float64 \n",
                        " 34  Gender_Male_% per Sector             17592 non-null  float64 \n",
                        " 35  Gender_Male_% per Social Category    17592 non-null  float64 \n",
                        " 36  Gender_Male_% per Workforce          17592 non-null  float64 \n",
                        " 37  Gender                               17592 non-null  category\n",
                        " 38  Age_Older_n                          17592 non-null  float64 \n",
                        " 39  Age_Older_% per Sector               17592 non-null  float64 \n",
                        " 40  Age_Older_% per Social Category      17592 non-null  float64 \n",
                        " 41  Age_Older_% per Workforce            17592 non-null  float64 \n",
                        " 42  Age_Younger_n                        17592 non-null  float64 \n",
                        " 43  Age_Younger_% per Sector             17592 non-null  float64 \n",
                        " 44  Age_Younger_% per Social Category    17592 non-null  float64 \n",
                        " 45  Age_Younger_% per Workforce          17592 non-null  float64 \n",
                        " 46  Age                                  17592 non-null  category\n",
                        " 47  Sector_n                             17592 non-null  float64 \n",
                        " 48  % Sector per Workforce               17592 non-null  float64 \n",
                        " 49  Gender_Female                        17592 non-null  int64   \n",
                        " 50  Gender_Male                          17592 non-null  int64   \n",
                        " 51  Gender_Mixed                         17592 non-null  int64   \n",
                        " 52  Age_Mixed                            17592 non-null  int64   \n",
                        " 53  Age_Older                            17592 non-null  int64   \n",
                        " 54  Age_Younger                          17592 non-null  int64   \n",
                        " 55  Gender_Num                           17592 non-null  int64   \n",
                        " 56  Age_Num                              17592 non-null  int64   \n",
                        " 57  Platform_Num                         17592 non-null  int64   \n",
                        " 58  Platform_LinkedIn                    17592 non-null  int64   \n",
                        " 59  Platform_Indeed                      17592 non-null  int64   \n",
                        " 60  Platform_Glassdoor                   17592 non-null  int64   \n",
                        " 61  Job Description spacy_sentencized    17592 non-null  object  \n",
                        "dtypes: category(5), float64(21), int64(16), object(20)\n",
                        "memory usage: 7.9+ MB\n"
                    ]
                }
            ],
            "source": [
                "# len=17599\n",
                "df_jobs.info()"
            ]
        },
        {
            "cell_type": "code",
            "execution_count": 5,
            "id": "ade74c2a",
            "metadata": {
                "scrolled": false
            },
            "outputs": [
                {
                    "name": "stdout",
                    "output_type": "stream",
                    "text": [
                        "\n",
                        "DF INFO:\n",
                        "\n",
                        "<class 'pandas.core.frame.DataFrame'>\n",
                        "Index: 17592 entries, 0 to 17592\n",
                        "Data columns (total 62 columns):\n",
                        " #   Column                               Non-Null Count  Dtype   \n",
                        "---  ------                               --------------  -----   \n",
                        " 0   Search Keyword                       17592 non-null  object  \n",
                        " 1   Platform                             17592 non-null  category\n",
                        " 2   Job ID                               17592 non-null  object  \n",
                        " 3   Job Title                            17592 non-null  object  \n",
                        " 4   Company Name                         17590 non-null  object  \n",
                        " 5   Location                             17592 non-null  object  \n",
                        " 6   Job Description                      17592 non-null  object  \n",
                        " 7   Rating                               3780 non-null   float64 \n",
                        " 8   Employment Type                      17010 non-null  object  \n",
                        " 9   Company URL                          15954 non-null  object  \n",
                        " 10  Job URL                              17592 non-null  object  \n",
                        " 11  Job Age                              17592 non-null  object  \n",
                        " 12  Job Age Number                       17592 non-null  object  \n",
                        " 13  Collection Date                      17592 non-null  object  \n",
                        " 14  Data Row                             13809 non-null  float64 \n",
                        " 15  Tracking ID                          13809 non-null  object  \n",
                        " 16  Industry                             14394 non-null  object  \n",
                        " 17  Job Date                             13812 non-null  object  \n",
                        " 18  Type of ownership                    582 non-null    object  \n",
                        " 19  Language                             17592 non-null  object  \n",
                        " 20  Dutch Requirement in Job Ad          17592 non-null  category\n",
                        " 21  English Requirement in Job Ad        17592 non-null  category\n",
                        " 22  Dutch Requirement in Job Ad_No       17592 non-null  int64   \n",
                        " 23  Dutch Requirement in Job Ad_Yes      17592 non-null  int64   \n",
                        " 24  English Requirement in Job Ad_No     17592 non-null  int64   \n",
                        " 25  English Requirement in Job Ad_Yes    17592 non-null  int64   \n",
                        " 26  Sector Code                          17592 non-null  object  \n",
                        " 27  Sector                               17592 non-null  object  \n",
                        " 28  Keywords Count                       17592 non-null  float64 \n",
                        " 29  Gender_Female_n                      17592 non-null  float64 \n",
                        " 30  Gender_Female_% per Sector           17592 non-null  float64 \n",
                        " 31  Gender_Female_% per Social Category  17592 non-null  float64 \n",
                        " 32  Gender_Female_% per Workforce        17592 non-null  float64 \n",
                        " 33  Gender_Male_n                        17592 non-null  float64 \n",
                        " 34  Gender_Male_% per Sector             17592 non-null  float64 \n",
                        " 35  Gender_Male_% per Social Category    17592 non-null  float64 \n",
                        " 36  Gender_Male_% per Workforce          17592 non-null  float64 \n",
                        " 37  Gender                               17592 non-null  category\n",
                        " 38  Age_Older_n                          17592 non-null  float64 \n",
                        " 39  Age_Older_% per Sector               17592 non-null  float64 \n",
                        " 40  Age_Older_% per Social Category      17592 non-null  float64 \n",
                        " 41  Age_Older_% per Workforce            17592 non-null  float64 \n",
                        " 42  Age_Younger_n                        17592 non-null  float64 \n",
                        " 43  Age_Younger_% per Sector             17592 non-null  float64 \n",
                        " 44  Age_Younger_% per Social Category    17592 non-null  float64 \n",
                        " 45  Age_Younger_% per Workforce          17592 non-null  float64 \n",
                        " 46  Age                                  17592 non-null  category\n",
                        " 47  Sector_n                             17592 non-null  float64 \n",
                        " 48  % Sector per Workforce               17592 non-null  float64 \n",
                        " 49  Gender_Female                        17592 non-null  int64   \n",
                        " 50  Gender_Male                          17592 non-null  int64   \n",
                        " 51  Gender_Mixed                         17592 non-null  int64   \n",
                        " 52  Age_Mixed                            17592 non-null  int64   \n",
                        " 53  Age_Older                            17592 non-null  int64   \n",
                        " 54  Age_Younger                          17592 non-null  int64   \n",
                        " 55  Gender_Num                           17592 non-null  int64   \n",
                        " 56  Age_Num                              17592 non-null  int64   \n",
                        " 57  Platform_Num                         17592 non-null  int64   \n",
                        " 58  Platform_LinkedIn                    17592 non-null  int64   \n",
                        " 59  Platform_Indeed                      17592 non-null  int64   \n",
                        " 60  Platform_Glassdoor                   17592 non-null  int64   \n",
                        " 61  Job Description spacy_sentencized    17592 non-null  object  \n",
                        "dtypes: category(5), float64(21), int64(16), object(20)\n",
                        "memory usage: 7.9+ MB\n",
                        "====================\n",
                        "Gender:\n",
                        "--------------------\n",
                        "Gender Counts:\n",
                        "Gender\n",
                        "Male            6974\n",
                        "Mixed Gender    6664\n",
                        "Female          3954\n",
                        "Name: count, dtype: int64\n",
                        "--------------------\n",
                        "Gender Percentages:\n",
                        "Gender\n",
                        "Male           39.60\n",
                        "Mixed Gender   37.90\n",
                        "Female         22.50\n",
                        "Name: proportion, dtype: float64\n",
                        "--------------------\n",
                        "Gender not available.\n",
                        "====================\n",
                        "Gender_Num:\n",
                        "--------------------\n",
                        "Gender_Num Counts:\n",
                        "Gender_Num\n",
                        "2    6974\n",
                        "1    6664\n",
                        "0    3954\n",
                        "Name: count, dtype: int64\n",
                        "--------------------\n",
                        "Gender_Num Percentages:\n",
                        "Gender_Num\n",
                        "2   39.60\n",
                        "1   37.90\n",
                        "0   22.50\n",
                        "Name: proportion, dtype: float64\n",
                        "--------------------\n",
                        "Min Gender_Num value: 0.0\n",
                        "Max Gender_Num value: 2.0\n",
                        "--------------------\n",
                        "Gender_Num Mean: 1.17\n",
                        "--------------------\n",
                        "Gender_Num Standard Deviation: 0.77\n",
                        "====================\n",
                        "Gender_Female:\n",
                        "--------------------\n",
                        "Gender_Female Counts:\n",
                        "Gender_Female\n",
                        "0    13638\n",
                        "1     3954\n",
                        "Name: count, dtype: int64\n",
                        "--------------------\n",
                        "Gender_Female Percentages:\n",
                        "Gender_Female\n",
                        "0   77.50\n",
                        "1   22.50\n",
                        "Name: proportion, dtype: float64\n",
                        "--------------------\n",
                        "Min Gender_Female value: 0.0\n",
                        "Max Gender_Female value: 1.0\n",
                        "--------------------\n",
                        "Gender_Female Mean: 0.22\n",
                        "--------------------\n",
                        "Gender_Female Standard Deviation: 0.42\n",
                        "====================\n",
                        "Gender_Mixed:\n",
                        "--------------------\n",
                        "Gender_Mixed Counts:\n",
                        "Gender_Mixed\n",
                        "0    10928\n",
                        "1     6664\n",
                        "Name: count, dtype: int64\n",
                        "--------------------\n",
                        "Gender_Mixed Percentages:\n",
                        "Gender_Mixed\n",
                        "0   62.10\n",
                        "1   37.90\n",
                        "Name: proportion, dtype: float64\n",
                        "--------------------\n",
                        "Min Gender_Mixed value: 0.0\n",
                        "Max Gender_Mixed value: 1.0\n",
                        "--------------------\n",
                        "Gender_Mixed Mean: 0.38\n",
                        "--------------------\n",
                        "Gender_Mixed Standard Deviation: 0.49\n",
                        "====================\n",
                        "Gender_Male:\n",
                        "--------------------\n",
                        "Gender_Male Counts:\n",
                        "Gender_Male\n",
                        "0    10618\n",
                        "1     6974\n",
                        "Name: count, dtype: int64\n",
                        "--------------------\n",
                        "Gender_Male Percentages:\n",
                        "Gender_Male\n",
                        "0   60.40\n",
                        "1   39.60\n",
                        "Name: proportion, dtype: float64\n",
                        "--------------------\n",
                        "Min Gender_Male value: 0.0\n",
                        "Max Gender_Male value: 1.0\n",
                        "--------------------\n",
                        "Gender_Male Mean: 0.4\n",
                        "--------------------\n",
                        "Gender_Male Standard Deviation: 0.49\n",
                        "====================\n",
                        "Gender_Female_n:\n",
                        "--------------------\n",
                        "Min Gender_Female_n value: 7.0\n",
                        "Max Gender_Female_n value: 3970.0\n",
                        "--------------------\n",
                        "Gender_Female_n Mean: 637.88\n",
                        "--------------------\n",
                        "Gender_Female_n Standard Deviation: 1041.39\n",
                        "====================\n",
                        "Gender_Male_n:\n",
                        "--------------------\n",
                        "Min Gender_Male_n value: 21.0\n",
                        "Max Gender_Male_n value: 4510.0\n",
                        "--------------------\n",
                        "Gender_Male_n Mean: 759.44\n",
                        "--------------------\n",
                        "Gender_Male_n Standard Deviation: 1302.6\n",
                        "====================\n",
                        "Gender_Female_% per Sector:\n",
                        "--------------------\n",
                        "Min Gender_Female_% per Sector value: 12.5\n",
                        "Max Gender_Female_% per Sector value: 84.3\n",
                        "--------------------\n",
                        "Gender_Female_% per Sector Mean: 44.01\n",
                        "--------------------\n",
                        "Gender_Female_% per Sector Standard Deviation: 19.08\n",
                        "====================\n",
                        "Gender_Male_% per Sector:\n",
                        "--------------------\n",
                        "Min Gender_Male_% per Sector value: 15.63\n",
                        "Max Gender_Male_% per Sector value: 87.5\n",
                        "--------------------\n",
                        "Gender_Male_% per Sector Mean: 55.94\n",
                        "--------------------\n",
                        "Gender_Male_% per Sector Standard Deviation: 19.11\n",
                        "====================\n",
                        "Age:\n",
                        "--------------------\n",
                        "Age Counts:\n",
                        "Age\n",
                        "Mixed Age    11463\n",
                        "Older         3778\n",
                        "Younger       2351\n",
                        "Name: count, dtype: int64\n",
                        "--------------------\n",
                        "Age Percentages:\n",
                        "Age\n",
                        "Mixed Age   65.20\n",
                        "Older       21.50\n",
                        "Younger     13.40\n",
                        "Name: proportion, dtype: float64\n",
                        "--------------------\n",
                        "Age not available.\n",
                        "====================\n",
                        "Age_Num:\n",
                        "--------------------\n",
                        "Age_Num Counts:\n",
                        "Age_Num\n",
                        "1    11463\n",
                        "0     3778\n",
                        "2     2351\n",
                        "Name: count, dtype: int64\n",
                        "--------------------\n",
                        "Age_Num Percentages:\n",
                        "Age_Num\n",
                        "1   65.20\n",
                        "0   21.50\n",
                        "2   13.40\n",
                        "Name: proportion, dtype: float64\n",
                        "--------------------\n",
                        "Min Age_Num value: 0.0\n",
                        "Max Age_Num value: 2.0\n",
                        "--------------------\n",
                        "Age_Num Mean: 0.92\n",
                        "--------------------\n",
                        "Age_Num Standard Deviation: 0.58\n",
                        "====================\n",
                        "Age_Older:\n",
                        "--------------------\n",
                        "Age_Older Counts:\n",
                        "Age_Older\n",
                        "0    13814\n",
                        "1     3778\n",
                        "Name: count, dtype: int64\n",
                        "--------------------\n",
                        "Age_Older Percentages:\n",
                        "Age_Older\n",
                        "0   78.50\n",
                        "1   21.50\n",
                        "Name: proportion, dtype: float64\n",
                        "--------------------\n",
                        "Min Age_Older value: 0.0\n",
                        "Max Age_Older value: 1.0\n",
                        "--------------------\n",
                        "Age_Older Mean: 0.21\n",
                        "--------------------\n",
                        "Age_Older Standard Deviation: 0.41\n",
                        "====================\n",
                        "Age_Mixed:\n",
                        "--------------------\n",
                        "Age_Mixed Counts:\n",
                        "Age_Mixed\n",
                        "1    11463\n",
                        "0     6129\n",
                        "Name: count, dtype: int64\n",
                        "--------------------\n",
                        "Age_Mixed Percentages:\n",
                        "Age_Mixed\n",
                        "1   65.20\n",
                        "0   34.80\n",
                        "Name: proportion, dtype: float64\n",
                        "--------------------\n",
                        "Min Age_Mixed value: 0.0\n",
                        "Max Age_Mixed value: 1.0\n",
                        "--------------------\n",
                        "Age_Mixed Mean: 0.65\n",
                        "--------------------\n",
                        "Age_Mixed Standard Deviation: 0.48\n",
                        "====================\n",
                        "Age_Younger:\n",
                        "--------------------\n",
                        "Age_Younger Counts:\n",
                        "Age_Younger\n",
                        "0    15241\n",
                        "1     2351\n",
                        "Name: count, dtype: int64\n",
                        "--------------------\n",
                        "Age_Younger Percentages:\n",
                        "Age_Younger\n",
                        "0   86.60\n",
                        "1   13.40\n",
                        "Name: proportion, dtype: float64\n",
                        "--------------------\n",
                        "Min Age_Younger value: 0.0\n",
                        "Max Age_Younger value: 1.0\n",
                        "--------------------\n",
                        "Age_Younger Mean: 0.13\n",
                        "--------------------\n",
                        "Age_Younger Standard Deviation: 0.34\n",
                        "====================\n",
                        "Age_Older_n:\n",
                        "--------------------\n",
                        "Min Age_Older_n value: 15.0\n",
                        "Max Age_Older_n value: 2844.0\n",
                        "--------------------\n",
                        "Age_Older_n Mean: 528.93\n",
                        "--------------------\n",
                        "Age_Older_n Standard Deviation: 800.51\n",
                        "====================\n",
                        "Age_Younger_n:\n",
                        "--------------------\n",
                        "Min Age_Younger_n value: 13.0\n",
                        "Max Age_Younger_n value: 5228.0\n",
                        "--------------------\n",
                        "Age_Younger_n Mean: 868.03\n",
                        "--------------------\n",
                        "Age_Younger_n Standard Deviation: 1509.21\n",
                        "====================\n",
                        "Age_Older_% per Sector:\n",
                        "--------------------\n",
                        "Min Age_Older_% per Sector value: 18.94\n",
                        "Max Age_Older_% per Sector value: 58.33\n",
                        "--------------------\n",
                        "Age_Older_% per Sector Mean: 40.62\n",
                        "--------------------\n",
                        "Age_Older_% per Sector Standard Deviation: 10.08\n",
                        "====================\n",
                        "Age_Younger_% per Sector:\n",
                        "--------------------\n",
                        "Min Age_Younger_% per Sector value: 44.44\n",
                        "Max Age_Younger_% per Sector value: 80.81\n",
                        "--------------------\n",
                        "Age_Younger_% per Sector Mean: 59.23\n",
                        "--------------------\n",
                        "Age_Younger_% per Sector Standard Deviation: 10.0\n",
                        "\n",
                        "\n"
                    ]
                }
            ],
            "source": [
                "# Job Ad info\n",
                "get_df_info(df_jobs, ivs_all=ivs_all)\n"
            ]
        },
        {
            "cell_type": "code",
            "execution_count": 6,
            "id": "dd7f42d8",
            "metadata": {},
            "outputs": [
                {
                    "data": {
                        "text/plain": [
                            "0    [About Our Client, The Global KYC organisation...\n",
                            "1    [Your role, Were in business to save our home ...\n",
                            "2    [During the past four years Colourful Rebel ha...\n",
                            "3    [Job Description, We are currently recruiting ...\n",
                            "4    [KARL LAGERFELD COMPANY PROFILE, The house of ...\n",
                            "Name: Job Description spacy_sentencized, dtype: object"
                        ]
                    },
                    "execution_count": 6,
                    "metadata": {},
                    "output_type": "execute_result"
                }
            ],
            "source": [
                "df_jobs['Job Description spacy_sentencized'].head()\n"
            ]
        },
        {
            "cell_type": "code",
            "execution_count": 7,
            "id": "3ed9d0f9",
            "metadata": {},
            "outputs": [
                {
                    "data": {
                        "text/plain": [
                            "count                                                 17592\n",
                            "unique                                                16999\n",
                            "top       [THE PROFILEAbercrombie  Fitch Co is a leading...\n",
                            "freq                                                      4\n",
                            "Name: Job Description spacy_sentencized, dtype: object"
                        ]
                    },
                    "execution_count": 7,
                    "metadata": {},
                    "output_type": "execute_result"
                }
            ],
            "source": [
                "df_jobs['Job Description spacy_sentencized'].describe()\n"
            ]
        },
        {
            "cell_type": "code",
            "execution_count": 8,
            "id": "256dcb71",
            "metadata": {},
            "outputs": [],
            "source": [
                "# Explode df so that every row is one sentence\n",
                "df_jobs = df_jobs.explode('Job Description spacy_sentencized', ignore_index=True)\n"
            ]
        },
        {
            "cell_type": "code",
            "execution_count": 9,
            "id": "458b9f3b",
            "metadata": {},
            "outputs": [
                {
                    "data": {
                        "text/plain": [
                            "408599"
                        ]
                    },
                    "execution_count": 9,
                    "metadata": {},
                    "output_type": "execute_result"
                }
            ],
            "source": [
                "# len = 408599\n",
                "len(df_jobs)\n"
            ]
        },
        {
            "cell_type": "code",
            "execution_count": 10,
            "id": "2224df52",
            "metadata": {},
            "outputs": [
                {
                    "name": "stdout",
                    "output_type": "stream",
                    "text": [
                        "<class 'pandas.core.frame.DataFrame'>\n",
                        "RangeIndex: 408599 entries, 0 to 408598\n",
                        "Data columns (total 62 columns):\n",
                        " #   Column                               Non-Null Count   Dtype   \n",
                        "---  ------                               --------------   -----   \n",
                        " 0   Search Keyword                       408599 non-null  object  \n",
                        " 1   Platform                             408599 non-null  category\n",
                        " 2   Job ID                               408599 non-null  object  \n",
                        " 3   Job Title                            408599 non-null  object  \n",
                        " 4   Company Name                         408587 non-null  object  \n",
                        " 5   Location                             408599 non-null  object  \n",
                        " 6   Job Description                      408599 non-null  object  \n",
                        " 7   Rating                               224564 non-null  float64 \n",
                        " 8   Employment Type                      351502 non-null  object  \n",
                        " 9   Company URL                          399603 non-null  object  \n",
                        " 10  Job URL                              408599 non-null  object  \n",
                        " 11  Job Age                              408599 non-null  object  \n",
                        " 12  Job Age Number                       408599 non-null  object  \n",
                        " 13  Collection Date                      408599 non-null  object  \n",
                        " 14  Data Row                             183857 non-null  float64 \n",
                        " 15  Tracking ID                          183857 non-null  object  \n",
                        " 16  Industry                             241132 non-null  object  \n",
                        " 17  Job Date                             184035 non-null  object  \n",
                        " 18  Type of ownership                    57097 non-null   object  \n",
                        " 19  Language                             408599 non-null  object  \n",
                        " 20  Dutch Requirement in Job Ad          408599 non-null  category\n",
                        " 21  English Requirement in Job Ad        408599 non-null  category\n",
                        " 22  Dutch Requirement in Job Ad_No       408599 non-null  int64   \n",
                        " 23  Dutch Requirement in Job Ad_Yes      408599 non-null  int64   \n",
                        " 24  English Requirement in Job Ad_No     408599 non-null  int64   \n",
                        " 25  English Requirement in Job Ad_Yes    408599 non-null  int64   \n",
                        " 26  Sector Code                          408599 non-null  object  \n",
                        " 27  Sector                               408599 non-null  object  \n",
                        " 28  Keywords Count                       408599 non-null  float64 \n",
                        " 29  Gender_Female_n                      408599 non-null  float64 \n",
                        " 30  Gender_Female_% per Sector           408599 non-null  float64 \n",
                        " 31  Gender_Female_% per Social Category  408599 non-null  float64 \n",
                        " 32  Gender_Female_% per Workforce        408599 non-null  float64 \n",
                        " 33  Gender_Male_n                        408599 non-null  float64 \n",
                        " 34  Gender_Male_% per Sector             408599 non-null  float64 \n",
                        " 35  Gender_Male_% per Social Category    408599 non-null  float64 \n",
                        " 36  Gender_Male_% per Workforce          408599 non-null  float64 \n",
                        " 37  Gender                               408599 non-null  category\n",
                        " 38  Age_Older_n                          408599 non-null  float64 \n",
                        " 39  Age_Older_% per Sector               408599 non-null  float64 \n",
                        " 40  Age_Older_% per Social Category      408599 non-null  float64 \n",
                        " 41  Age_Older_% per Workforce            408599 non-null  float64 \n",
                        " 42  Age_Younger_n                        408599 non-null  float64 \n",
                        " 43  Age_Younger_% per Sector             408599 non-null  float64 \n",
                        " 44  Age_Younger_% per Social Category    408599 non-null  float64 \n",
                        " 45  Age_Younger_% per Workforce          408599 non-null  float64 \n",
                        " 46  Age                                  408599 non-null  category\n",
                        " 47  Sector_n                             408599 non-null  float64 \n",
                        " 48  % Sector per Workforce               408599 non-null  float64 \n",
                        " 49  Gender_Female                        408599 non-null  int64   \n",
                        " 50  Gender_Male                          408599 non-null  int64   \n",
                        " 51  Gender_Mixed                         408599 non-null  int64   \n",
                        " 52  Age_Mixed                            408599 non-null  int64   \n",
                        " 53  Age_Older                            408599 non-null  int64   \n",
                        " 54  Age_Younger                          408599 non-null  int64   \n",
                        " 55  Gender_Num                           408599 non-null  int64   \n",
                        " 56  Age_Num                              408599 non-null  int64   \n",
                        " 57  Platform_Num                         408599 non-null  int64   \n",
                        " 58  Platform_LinkedIn                    408599 non-null  int64   \n",
                        " 59  Platform_Indeed                      408599 non-null  int64   \n",
                        " 60  Platform_Glassdoor                   408599 non-null  int64   \n",
                        " 61  Job Description spacy_sentencized    408599 non-null  object  \n",
                        "dtypes: category(5), float64(21), int64(16), object(20)\n",
                        "memory usage: 179.6+ MB\n"
                    ]
                }
            ],
            "source": [
                "df_jobs.info()\n"
            ]
        },
        {
            "cell_type": "code",
            "execution_count": 11,
            "id": "b92ee727",
            "metadata": {},
            "outputs": [
                {
                    "data": {
                        "text/plain": [
                            "0                                     About Our Client\n",
                            "1    The Global KYC organisation is part of ING's C...\n",
                            "2    Its purpose is Enabling people and organisatio...\n",
                            "3    Our Global KYC organisation is a first line of...\n",
                            "4    In our Global KYC organisation you will be wor...\n",
                            "Name: Job Description spacy_sentencized, dtype: object"
                        ]
                    },
                    "execution_count": 11,
                    "metadata": {},
                    "output_type": "execute_result"
                }
            ],
            "source": [
                "df_jobs['Job Description spacy_sentencized'].head()"
            ]
        },
        {
            "cell_type": "code",
            "execution_count": 12,
            "id": "2c946c0b",
            "metadata": {},
            "outputs": [
                {
                    "data": {
                        "text/plain": [
                            "408594    Your application will be screened closely and ...\n",
                            "408595                 Tom is an equal opportunity employer\n",
                            "408596    We celebrate diversity, thrive on each others ...\n",
                            "408597    Naturally, we do not discriminate against any ...\n",
                            "408598                     Ready to move the world forward?\n",
                            "Name: Job Description spacy_sentencized, dtype: object"
                        ]
                    },
                    "execution_count": 12,
                    "metadata": {},
                    "output_type": "execute_result"
                }
            ],
            "source": [
                "df_jobs['Job Description spacy_sentencized'].tail()"
            ]
        },
        {
            "cell_type": "code",
            "execution_count": 13,
            "id": "02ec54cd",
            "metadata": {},
            "outputs": [
                {
                    "data": {
                        "text/plain": [
                            "count        408599\n",
                            "unique       217755\n",
                            "top       Amsterdam\n",
                            "freq           1410\n",
                            "Name: Job Description spacy_sentencized, dtype: object"
                        ]
                    },
                    "execution_count": 13,
                    "metadata": {},
                    "output_type": "execute_result"
                }
            ],
            "source": [
                "df_jobs['Job Description spacy_sentencized'].describe()\n"
            ]
        },
        {
            "cell_type": "code",
            "execution_count": 14,
            "id": "7d562a68",
            "metadata": {},
            "outputs": [
                {
                    "data": {
                        "text/plain": [
                            "'This starts with performing the actual installation as per procedure and training at the customers site and is followed by troubleshooting, performing repairs, maintenance activities and installing upgrades to our system You will cooperate closely with our Sales team and thus contribute to ramping up our business In more detail, you and mount the Phenospex plant measurement systems and perform quality control checks to ensure correct functioning and customer satisfactionprovide support and training to the customer on the application of the automation technologies and user interfacesregularly interface with technical staff, such as Project Managers and Engineers, both at Phenospex and at the customers site to ensure that installation requirements on site are met in time before the installationdeliver troubleshooting and diagnostic support services to ensure that all products and services function properly and resolve technical support inquiries directlyinform customers on preventive maintenance and complete maintenance of the systems as requiredprovide the CCO with a detailed installation report upon project completionplan service assignments in assigned territories independently and combine trips to different service sites wiselyprovide support during trade showswork in close collaboration with the Sales  Service teamprovide training to relevant groups at Phenospexlog and keep records of all incoming issues and findings in the CRM system and internal databaseanalyze logs to spot common trends and underlying problemssupport the operations team with performing a variety of production development and repairrefurbishment workcomplete special assignments as requestedmaintain a safe and healthy work environment by following and complying with all health and safety policies, procedures and legislation in the workshop and on sitea degree in Biotechnology or Bioinformatics Engineering with focus on plants or a degree in Plant Physiology with a strong interest in technologya passion for working with your hands along with excellent technical and mechanical skillsfamiliarity with the Linux operating system and commands Debiana strong customer focus mentality and passion for challenges and troubleshootingstrong communication skills and good verbal and written English any other language is beneficialexcellent organizational skillsflexibility to travel on short notice and for longer periods of time worldwide roughly 50 of timea valid EU work permit and drivers license'"
                        ]
                    },
                    "execution_count": 14,
                    "metadata": {},
                    "output_type": "execute_result"
                }
            ],
            "source": [
                "# Get longest sentence, sentence does not have any punctuation\n",
                "df_jobs['Job Description spacy_sentencized'].loc[df_jobs['Job Description spacy_sentencized'].apply(len).idxmax()]\n"
            ]
        },
        {
            "cell_type": "code",
            "execution_count": 15,
            "id": "d3938c8a",
            "metadata": {},
            "outputs": [
                {
                    "data": {
                        "text/plain": [
                            "2497"
                        ]
                    },
                    "execution_count": 15,
                    "metadata": {},
                    "output_type": "execute_result"
                }
            ],
            "source": [
                "# Get length of longest sentence, len=2497\n",
                "df_jobs['Job Description spacy_sentencized'].apply(len).max()\n"
            ]
        },
        {
            "cell_type": "code",
            "execution_count": 16,
            "id": "a3f79b59",
            "metadata": {},
            "outputs": [
                {
                    "data": {
                        "text/plain": [
                            "4"
                        ]
                    },
                    "execution_count": 16,
                    "metadata": {},
                    "output_type": "execute_result"
                }
            ],
            "source": [
                "# Get length of shortest sentence, len=4\n",
                "df_jobs['Job Description spacy_sentencized'].apply(len).min()"
            ]
        },
        {
            "cell_type": "code",
            "execution_count": 17,
            "id": "bed13af6",
            "metadata": {},
            "outputs": [
                {
                    "data": {
                        "text/plain": [
                            "'Role'"
                        ]
                    },
                    "execution_count": 17,
                    "metadata": {},
                    "output_type": "execute_result"
                }
            ],
            "source": [
                "# Get shortest sentence, its a punctuation (fullstop)\n",
                "df_jobs['Job Description spacy_sentencized'].loc[df_jobs['Job Description spacy_sentencized'].apply(len).idxmin()]\n"
            ]
        },
        {
            "cell_type": "code",
            "execution_count": 18,
            "id": "85d2b6cc",
            "metadata": {},
            "outputs": [],
            "source": [
                "df_jobs['Job Description spacy_sentencized'] = df_jobs['Job Description spacy_sentencized'].apply(lambda x: unicodedata.normalize('NFKD', x.encode('ascii', 'ignore').decode('utf-8', 'ignore')))\n"
            ]
        },
        {
            "cell_type": "code",
            "execution_count": 19,
            "id": "010e91c3",
            "metadata": {},
            "outputs": [],
            "source": [
                "assert len(df_jobs) > 0 and isinstance(df_jobs, pd.DataFrame), f'ERORR: LENGTH OF DF = {len(df_jobs)}'\n",
                "df_jobs.to_pickle(f'{df_save_dir}df_jobs_sentencized_exploded.pkl')\n",
                "df_jobs.to_csv(f'{df_save_dir}df_jobs_sentencized_exploded.csv', index=False)"
            ]
        },
        {
            "attachments": {},
            "cell_type": "markdown",
            "id": "175328e6",
            "metadata": {},
            "source": [
                "# Validate sentencization and get word frequencies\n"
            ]
        },
        {
            "attachments": {},
            "cell_type": "markdown",
            "id": "3b9448d8",
            "metadata": {},
            "source": [
                "### START HERE IF SOURCING FROM DF_JOBS_SENTENCIZED_EXPLODED\n",
                "### PLEASE SET CORRECT DIRECTORY PATHS BELOW"
            ]
        },
        {
            "cell_type": "code",
            "execution_count": 20,
            "id": "41d91301",
            "metadata": {},
            "outputs": [],
            "source": [
                "import os # type:ignore # isort:skip # fmt:skip # noqa # nopep8\n",
                "import sys # type:ignore # isort:skip # fmt:skip # noqa # nopep8\n",
                "from pathlib import Path # type:ignore # isort:skip # fmt:skip # noqa # nopep8\n",
                "\n",
                "mod = sys.modules[__name__]\n",
                "\n",
                "code_dir = None\n",
                "code_dir_name = 'Code'\n",
                "unwanted_subdir_name = 'Analysis'\n",
                "\n",
                "if code_dir_name not in str(Path.cwd()).split('/')[-1]:\n",
                "    for _ in range(5):\n",
                "\n",
                "        parent_path = str(Path.cwd().parents[_]).split('/')[-1]\n",
                "\n",
                "        if (code_dir_name in parent_path) and (unwanted_subdir_name not in parent_path):\n",
                "\n",
                "            code_dir = str(Path.cwd().parents[_])\n",
                "\n",
                "            if code_dir is not None:\n",
                "                break\n",
                "else:\n",
                "    code_dir = str(Path.cwd())\n",
                "sys.path.append(code_dir)\n",
                "\n",
                "# %load_ext autoreload\n",
                "# %autoreload 2\n"
            ]
        },
        {
            "cell_type": "code",
            "execution_count": 21,
            "id": "feb7e1eb",
            "metadata": {},
            "outputs": [],
            "source": [
                "from setup_module.imports import * # type:ignore # isort:skip # fmt:skip # noqa # nopep8\n"
            ]
        },
        {
            "cell_type": "code",
            "execution_count": 22,
            "id": "7a745185",
            "metadata": {},
            "outputs": [],
            "source": [
                "def get_word_num_and_frequency(row, text_col):\n",
                "\n",
                "    with open(f'{data_dir}punctuations.txt', 'rb') as f:\n",
                "        custom_punct_chars = pickle.load(f)\n",
                "    row['Job Description num_words'] = len(str(row[text_col]).split())\n",
                "    row['Job Description num_unique_words'] = len(set(str(row[text_col]).split()))\n",
                "    row['Job Description num_chars'] = len(str(row[text_col]))\n",
                "    row['Job Description num_chars_no_whitespact_and_punt'] = len(\n",
                "        [\n",
                "            c\n",
                "            for c in str(row[text_col])\n",
                "            if c not in custom_punct_chars and c not in list(string.punctuation) and c in list(string.printable) and c not in list(string.whitespace) and c != ' '\n",
                "        ]\n",
                "    )\n",
                "    row['Job Description num_punctuations'] = len(\n",
                "        [\n",
                "            c\n",
                "            for c in str(row[text_col])\n",
                "            if c in custom_punct_chars and c in list(string.punctuation) and c in list(string.printable) and c not in list(string.whitespace) and c != ' '\n",
                "        ]\n",
                "    )\n",
                "\n",
                "    return row\n"
            ]
        },
        {
            "cell_type": "code",
            "execution_count": 23,
            "id": "1786e5b8",
            "metadata": {},
            "outputs": [],
            "source": [
                "df_jobs = pd.read_pickle(f'{df_save_dir}df_jobs_sentencized_exploded.pkl')\n"
            ]
        },
        {
            "cell_type": "code",
            "execution_count": 24,
            "id": "b5545a60",
            "metadata": {},
            "outputs": [],
            "source": [
                "df_jobs['Job Description spacy_sentencized'] = df_jobs['Job Description spacy_sentencized'].apply(lambda x: unicodedata.normalize('NFKD', x.encode('ascii', 'ignore').decode('utf-8', 'ignore')))\n"
            ]
        },
        {
            "cell_type": "code",
            "execution_count": 25,
            "id": "1c2dc86e",
            "metadata": {},
            "outputs": [],
            "source": [
                "df_jobs['Job Description spacy_sentencized'] = df_jobs[\n",
                "    'Job Description spacy_sentencized'\n",
                "].apply(lambda x: x if isinstance(x, str) else ast.literal_eval(x))\n"
            ]
        },
        {
            "cell_type": "code",
            "execution_count": 26,
            "id": "0fc19a8c",
            "metadata": {},
            "outputs": [],
            "source": [
                "df_jobs['Job Description spacy_sentencized'] = df_jobs['Job Description spacy_sentencized'].apply(lambda x: x if isinstance(x, str) else np.nan)\n"
            ]
        },
        {
            "cell_type": "code",
            "execution_count": 27,
            "id": "6aa352f0",
            "metadata": {},
            "outputs": [],
            "source": [
                "df_jobs['Job Description spacy_sentencized'] = df_jobs['Job Description spacy_sentencized'].astype(str)\n"
            ]
        },
        {
            "cell_type": "code",
            "execution_count": 28,
            "id": "ce705aea",
            "metadata": {},
            "outputs": [
                {
                    "data": {
                        "text/plain": [
                            "408599"
                        ]
                    },
                    "execution_count": 28,
                    "metadata": {},
                    "output_type": "execute_result"
                }
            ],
            "source": [
                "#len=408599\n",
                "len(df_jobs)\n"
            ]
        },
        {
            "cell_type": "code",
            "execution_count": 29,
            "id": "70db27d9",
            "metadata": {},
            "outputs": [],
            "source": [
                "df_jobs['Job Description spacy_sentencized'] = df_jobs[\n",
                "    'Job Description spacy_sentencized'\n",
                "].apply(\n",
                "    lambda x: ' '.join(x.split()).strip()\n",
                "    if bool(x)\n",
                "    and isinstance(x, str)\n",
                "    and len(x.split()) > 0\n",
                "    else np.nan\n",
                ")\n"
            ]
        },
        {
            "cell_type": "code",
            "execution_count": 30,
            "id": "6dc34356",
            "metadata": {},
            "outputs": [],
            "source": [
                "df_jobs['Job Description spacy_sentencized'] = df_jobs[\n",
                "    'Job Description spacy_sentencized'\n",
                "].apply(\n",
                "    lambda x: ' '.join(re.split(pattern, x)).strip()\n",
                "    if bool(x)\n",
                "    and isinstance(x, str)\n",
                "    and len(x.split()) > 0\n",
                "    else np.nan\n",
                ")\n"
            ]
        },
        {
            "cell_type": "code",
            "execution_count": 31,
            "id": "47800934",
            "metadata": {},
            "outputs": [
                {
                    "data": {
                        "text/plain": [
                            "408599"
                        ]
                    },
                    "execution_count": 31,
                    "metadata": {},
                    "output_type": "execute_result"
                }
            ],
            "source": [
                "#len=408599\n",
                "len(df_jobs)"
            ]
        },
        {
            "cell_type": "code",
            "execution_count": 32,
            "id": "b1517bf3",
            "metadata": {},
            "outputs": [],
            "source": [
                "df_jobs = df_jobs.dropna(subset=['Job ID', 'Job Description spacy_sentencized'])\n"
            ]
        },
        {
            "cell_type": "code",
            "execution_count": 33,
            "id": "cbb522c9",
            "metadata": {},
            "outputs": [
                {
                    "data": {
                        "text/plain": [
                            "408599"
                        ]
                    },
                    "execution_count": 33,
                    "metadata": {},
                    "output_type": "execute_result"
                }
            ],
            "source": [
                "# len=408599\n",
                "len(df_jobs)\n"
            ]
        },
        {
            "cell_type": "code",
            "execution_count": 34,
            "id": "7cd29095",
            "metadata": {},
            "outputs": [],
            "source": [
                "# Drop na, empty strings, punctuations, and keep only sentences of length more than 0\n",
                "with open(f'{data_dir}punctuations.txt', 'rb') as f:\n",
                "    custom_punct_chars = pickle.load(f)\n",
                "\n",
                "df_jobs = df_jobs.dropna(subset=['Job Description'])\n",
                "df_jobs = df_jobs.loc[\n",
                "    (df_jobs['Job Description spacy_sentencized'].isnull() == False)\n",
                "    & (df_jobs['Job Description spacy_sentencized'].isna() == False)\n",
                "    & (df_jobs['Job Description spacy_sentencized'].notnull() == True)\n",
                "    & (df_jobs['Job Description spacy_sentencized'].notna() == True)\n",
                "    & (df_jobs['Job Description spacy_sentencized'].astype(bool) == True)\n",
                "    & (df_jobs['Job Description spacy_sentencized'].apply(len) > 0)\n",
                "    & (pd.isna(df_jobs['Job Description spacy_sentencized']) == False)\n",
                "    & (df_jobs['Job Description spacy_sentencized'].astype(str).isin(custom_punct_chars) == False)\n",
                "    & (df_jobs['Job Description spacy_sentencized'].astype(str).isin(non_whitespace_nan_list) == False)\n",
                "    & (df_jobs['Job Description spacy_sentencized'].astype(str).isin(list(string.punctuation)) == False)\n",
                "    & (df_jobs['Job Description spacy_sentencized'].astype(str).isin(list(string.whitespace)) == False)\n",
                "]\n",
                "df_jobs = df_jobs.dropna(subset=['Job Description'])\n"
            ]
        },
        {
            "cell_type": "code",
            "execution_count": 35,
            "id": "0a7e681d",
            "metadata": {},
            "outputs": [
                {
                    "data": {
                        "text/plain": [
                            "408599"
                        ]
                    },
                    "execution_count": 35,
                    "metadata": {},
                    "output_type": "execute_result"
                }
            ],
            "source": [
                "# len=408599\n",
                "len(df_jobs)\n"
            ]
        },
        {
            "cell_type": "code",
            "execution_count": 36,
            "id": "32e9c3c5",
            "metadata": {},
            "outputs": [
                {
                    "data": {
                        "text/plain": [
                            "0                                     About Our Client\n",
                            "1    The Global KYC organisation is part of ING's C...\n",
                            "2    Its purpose is Enabling people and organisatio...\n",
                            "3    Our Global KYC organisation is a first line of...\n",
                            "4    In our Global KYC organisation you will be wor...\n",
                            "Name: Job Description spacy_sentencized, dtype: object"
                        ]
                    },
                    "execution_count": 36,
                    "metadata": {},
                    "output_type": "execute_result"
                }
            ],
            "source": [
                "df_jobs['Job Description spacy_sentencized'].head()\n"
            ]
        },
        {
            "cell_type": "code",
            "execution_count": 37,
            "id": "41c40efc",
            "metadata": {},
            "outputs": [
                {
                    "data": {
                        "text/plain": [
                            "count        408599\n",
                            "unique       217622\n",
                            "top       Amsterdam\n",
                            "freq           1410\n",
                            "Name: Job Description spacy_sentencized, dtype: object"
                        ]
                    },
                    "execution_count": 37,
                    "metadata": {},
                    "output_type": "execute_result"
                }
            ],
            "source": [
                "df_jobs['Job Description spacy_sentencized'].describe()\n"
            ]
        },
        {
            "cell_type": "code",
            "execution_count": 38,
            "id": "0503a4e8",
            "metadata": {},
            "outputs": [],
            "source": [
                "df_jobs['Job Description spacy_sentencized'] = df_jobs['Job Description spacy_sentencized'].dropna()\n"
            ]
        },
        {
            "cell_type": "code",
            "execution_count": 39,
            "id": "19b1e42d",
            "metadata": {},
            "outputs": [
                {
                    "data": {
                        "text/plain": [
                            "408599"
                        ]
                    },
                    "execution_count": 39,
                    "metadata": {},
                    "output_type": "execute_result"
                }
            ],
            "source": [
                "# len=408599\n",
                "len(df_jobs)\n"
            ]
        },
        {
            "cell_type": "code",
            "execution_count": 40,
            "id": "d8bd1020",
            "metadata": {},
            "outputs": [
                {
                    "data": {
                        "text/plain": [
                            "0                                     About Our Client\n",
                            "1    The Global KYC organisation is part of ING's C...\n",
                            "2    Its purpose is Enabling people and organisatio...\n",
                            "3    Our Global KYC organisation is a first line of...\n",
                            "4    In our Global KYC organisation you will be wor...\n",
                            "Name: Job Description spacy_sentencized, dtype: object"
                        ]
                    },
                    "execution_count": 40,
                    "metadata": {},
                    "output_type": "execute_result"
                }
            ],
            "source": [
                "df_jobs['Job Description spacy_sentencized'].head()\n"
            ]
        },
        {
            "cell_type": "code",
            "execution_count": 41,
            "id": "8b43c29f",
            "metadata": {},
            "outputs": [
                {
                    "data": {
                        "text/plain": [
                            "count        408599\n",
                            "unique       217622\n",
                            "top       Amsterdam\n",
                            "freq           1410\n",
                            "Name: Job Description spacy_sentencized, dtype: object"
                        ]
                    },
                    "execution_count": 41,
                    "metadata": {},
                    "output_type": "execute_result"
                }
            ],
            "source": [
                "# count=408599, unique=217622\n",
                "df_jobs['Job Description spacy_sentencized'].describe()\n"
            ]
        },
        {
            "cell_type": "code",
            "execution_count": 42,
            "id": "794d6f3c",
            "metadata": {},
            "outputs": [
                {
                    "name": "stderr",
                    "output_type": "stream",
                    "text": [
                        "408599it [2:20:32, 48.46it/s] "
                    ]
                },
                {
                    "name": "stdout",
                    "output_type": "stream",
                    "text": [
                        "CPU times: user 2h 1min 20s, sys: 15min 13s, total: 2h 16min 33s\n",
                        "Wall time: 2h 20min 32s\n"
                    ]
                },
                {
                    "name": "stderr",
                    "output_type": "stream",
                    "text": [
                        "\n"
                    ]
                }
            ],
            "source": [
                "%%time\n",
                "with open(f'{data_dir}punctuations.txt', 'rb') as f:\n",
                "    custom_punct_chars = pickle.load(f)\n",
                "\n",
                "for idx, row in tqdm.tqdm(df_jobs['Job Description spacy_sentencized'].items()):\n",
                "    cleaned_job_sentence = row.split()\n",
                "    cleaned_job_sentence = list(\n",
                "        filter(\n",
                "            lambda items: (\n",
                "                item is not None\n",
                "                and isinstance(item, str)\n",
                "                and item not in nan_list\n",
                "                and item not in list(string.whitespace)\n",
                "                and item in list(string.printable)\n",
                "                for item in items\n",
                "            ),\n",
                "            cleaned_job_sentence\n",
                "        )\n",
                "    )\n",
                "    cleaned_job_sentence = ' '.join(cleaned_job_sentence).strip()\n",
                "\n",
                "    if len(cleaned_job_sentence.split()) > 2:\n",
                "        df_jobs.loc[idx, 'Job Description spacy_sentencized'] = cleaned_job_sentence\n",
                "    else:\n",
                "        df_jobs = df_jobs.drop(idx)\n"
            ]
        },
        {
            "cell_type": "code",
            "execution_count": 43,
            "id": "ca6e0b77",
            "metadata": {},
            "outputs": [
                {
                    "data": {
                        "text/plain": [
                            "347914"
                        ]
                    },
                    "execution_count": 43,
                    "metadata": {},
                    "output_type": "execute_result"
                }
            ],
            "source": [
                "# len = 347914\n",
                "len(df_jobs)"
            ]
        },
        {
            "cell_type": "code",
            "execution_count": 44,
            "id": "95891a51",
            "metadata": {},
            "outputs": [
                {
                    "data": {
                        "text/plain": [
                            "0                                     About Our Client\n",
                            "1    The Global KYC organisation is part of ING's C...\n",
                            "2    Its purpose is Enabling people and organisatio...\n",
                            "3    Our Global KYC organisation is a first line of...\n",
                            "4    In our Global KYC organisation you will be wor...\n",
                            "Name: Job Description spacy_sentencized, dtype: object"
                        ]
                    },
                    "execution_count": 44,
                    "metadata": {},
                    "output_type": "execute_result"
                }
            ],
            "source": [
                "df_jobs['Job Description spacy_sentencized'].head()\n"
            ]
        },
        {
            "cell_type": "code",
            "execution_count": 45,
            "id": "f0d396b3",
            "metadata": {},
            "outputs": [
                {
                    "data": {
                        "text/plain": [
                            "count            347914\n",
                            "unique           202343\n",
                            "top       What we offer\n",
                            "freq                484\n",
                            "Name: Job Description spacy_sentencized, dtype: object"
                        ]
                    },
                    "execution_count": 45,
                    "metadata": {},
                    "output_type": "execute_result"
                }
            ],
            "source": [
                "# count=347914, unique=202343\n",
                "df_jobs['Job Description spacy_sentencized'].describe()\n"
            ]
        },
        {
            "cell_type": "code",
            "execution_count": 46,
            "id": "5ea0e092",
            "metadata": {},
            "outputs": [],
            "source": [
                "df_jobs['Job Description spacy_sentencized'] = df_jobs['Job Description spacy_sentencized'].dropna()\n"
            ]
        },
        {
            "cell_type": "code",
            "execution_count": 47,
            "id": "0c639a80",
            "metadata": {},
            "outputs": [],
            "source": [
                "df_jobs['Job Description spacy_sentencized'] = df_jobs['Job Description spacy_sentencized'].apply(lambda x: unicodedata.normalize('NFKD', x.encode('ascii', 'ignore').decode('utf-8', 'ignore')))\n"
            ]
        },
        {
            "cell_type": "code",
            "execution_count": 48,
            "id": "e34a03dc",
            "metadata": {},
            "outputs": [
                {
                    "data": {
                        "text/plain": [
                            "347914"
                        ]
                    },
                    "execution_count": 48,
                    "metadata": {},
                    "output_type": "execute_result"
                }
            ],
            "source": [
                "# len = 347914\n",
                "len(df_jobs)\n"
            ]
        },
        {
            "cell_type": "code",
            "execution_count": 49,
            "id": "3ae1dcc7",
            "metadata": {},
            "outputs": [
                {
                    "data": {
                        "text/plain": [
                            "0                                     About Our Client\n",
                            "1    The Global KYC organisation is part of ING's C...\n",
                            "2    Its purpose is Enabling people and organisatio...\n",
                            "3    Our Global KYC organisation is a first line of...\n",
                            "4    In our Global KYC organisation you will be wor...\n",
                            "Name: Job Description spacy_sentencized, dtype: object"
                        ]
                    },
                    "execution_count": 49,
                    "metadata": {},
                    "output_type": "execute_result"
                }
            ],
            "source": [
                "df_jobs['Job Description spacy_sentencized'].head()\n"
            ]
        },
        {
            "cell_type": "code",
            "execution_count": 50,
            "id": "dbc2f7ff",
            "metadata": {},
            "outputs": [
                {
                    "data": {
                        "text/plain": [
                            "count            347914\n",
                            "unique           202343\n",
                            "top       What we offer\n",
                            "freq                484\n",
                            "Name: Job Description spacy_sentencized, dtype: object"
                        ]
                    },
                    "execution_count": 50,
                    "metadata": {},
                    "output_type": "execute_result"
                }
            ],
            "source": [
                "# count=347914, unique=202343\n",
                "df_jobs['Job Description spacy_sentencized'].describe()\n"
            ]
        },
        {
            "cell_type": "code",
            "execution_count": 51,
            "id": "61de05bb",
            "metadata": {},
            "outputs": [],
            "source": [
                "# Remove duplicate sentences from the same job ad\n",
                "df_jobs = df_jobs.drop_duplicates(subset=['Job ID', 'Job Description spacy_sentencized'])\n"
            ]
        },
        {
            "cell_type": "code",
            "execution_count": 52,
            "id": "75385881",
            "metadata": {},
            "outputs": [
                {
                    "data": {
                        "text/plain": [
                            "307318"
                        ]
                    },
                    "execution_count": 52,
                    "metadata": {},
                    "output_type": "execute_result"
                }
            ],
            "source": [
                "# len = 307318\n",
                "len(df_jobs)\n"
            ]
        },
        {
            "cell_type": "code",
            "execution_count": 53,
            "id": "004beb18",
            "metadata": {},
            "outputs": [
                {
                    "data": {
                        "text/plain": [
                            "count            307318\n",
                            "unique           202343\n",
                            "top       What we offer\n",
                            "freq                404\n",
                            "Name: Job Description spacy_sentencized, dtype: object"
                        ]
                    },
                    "execution_count": 53,
                    "metadata": {},
                    "output_type": "execute_result"
                }
            ],
            "source": [
                "# count=307318, unique=202343\n",
                "df_jobs['Job Description spacy_sentencized'].describe()\n"
            ]
        },
        {
            "cell_type": "code",
            "execution_count": 54,
            "id": "85d25bc1",
            "metadata": {},
            "outputs": [],
            "source": [
                "df_jobs['Job Description spacy_sentencized'] = df_jobs['Job Description spacy_sentencized'].dropna()\n"
            ]
        },
        {
            "cell_type": "code",
            "execution_count": 55,
            "id": "06530ffb",
            "metadata": {},
            "outputs": [
                {
                    "data": {
                        "text/plain": [
                            "307318"
                        ]
                    },
                    "execution_count": 55,
                    "metadata": {},
                    "output_type": "execute_result"
                }
            ],
            "source": [
                "# len=307318\n",
                "len(df_jobs)\n"
            ]
        },
        {
            "cell_type": "code",
            "execution_count": 56,
            "id": "6479fa85",
            "metadata": {},
            "outputs": [
                {
                    "data": {
                        "text/plain": [
                            "0                                     About Our Client\n",
                            "1    The Global KYC organisation is part of ING's C...\n",
                            "2    Its purpose is Enabling people and organisatio...\n",
                            "3    Our Global KYC organisation is a first line of...\n",
                            "4    In our Global KYC organisation you will be wor...\n",
                            "Name: Job Description spacy_sentencized, dtype: object"
                        ]
                    },
                    "execution_count": 56,
                    "metadata": {},
                    "output_type": "execute_result"
                }
            ],
            "source": [
                "df_jobs['Job Description spacy_sentencized'].head()\n"
            ]
        },
        {
            "cell_type": "code",
            "execution_count": 57,
            "id": "f731381d",
            "metadata": {},
            "outputs": [],
            "source": [
                "# Drop na, empty strings, punctuations, and keep only sentences of length more than 0\n",
                "with open(f'{data_dir}punctuations.txt', 'rb') as f:\n",
                "    custom_punct_chars = pickle.load(f)\n",
                "\n",
                "df_jobs = df_jobs.dropna(subset=['Job Description spacy_sentencized'])\n",
                "df_jobs = df_jobs.loc[\n",
                "    (df_jobs['Job Description spacy_sentencized'].isnull() == False)\n",
                "    & (df_jobs['Job Description spacy_sentencized'].isna() == False)\n",
                "    & (df_jobs['Job Description spacy_sentencized'].notnull() == True)\n",
                "    & (df_jobs['Job Description spacy_sentencized'].notna() == True)\n",
                "    & (df_jobs['Job Description spacy_sentencized'].astype(bool) == True)\n",
                "    & (df_jobs['Job Description spacy_sentencized'].astype(str).apply(len) > 0)\n",
                "    & (pd.isna(df_jobs['Job Description spacy_sentencized']) == False)\n",
                "]\n"
            ]
        },
        {
            "cell_type": "code",
            "execution_count": 58,
            "id": "4afc36eb",
            "metadata": {},
            "outputs": [
                {
                    "data": {
                        "text/plain": [
                            "307318"
                        ]
                    },
                    "execution_count": 58,
                    "metadata": {},
                    "output_type": "execute_result"
                }
            ],
            "source": [
                "# len=307318\n",
                "len(df_jobs)"
            ]
        },
        {
            "cell_type": "code",
            "execution_count": 59,
            "id": "cd546cec",
            "metadata": {},
            "outputs": [
                {
                    "data": {
                        "text/plain": [
                            "count            307318\n",
                            "unique           202343\n",
                            "top       What we offer\n",
                            "freq                404\n",
                            "Name: Job Description spacy_sentencized, dtype: object"
                        ]
                    },
                    "execution_count": 59,
                    "metadata": {},
                    "output_type": "execute_result"
                }
            ],
            "source": [
                "# count=307318, unique=202343\n",
                "df_jobs['Job Description spacy_sentencized'].describe()\n"
            ]
        },
        {
            "cell_type": "code",
            "execution_count": 60,
            "id": "488f6a5a",
            "metadata": {},
            "outputs": [],
            "source": [
                "df_jobs['Job Description spacy_sentencized'] = df_jobs['Job Description spacy_sentencized'].apply(lambda x: ' '.join(re.split(pattern, x)))\n"
            ]
        },
        {
            "cell_type": "code",
            "execution_count": 61,
            "id": "6ebd2583",
            "metadata": {},
            "outputs": [
                {
                    "data": {
                        "text/plain": [
                            "'This starts with performing the actual installation as per procedure and training at the customers site and is followed by troubleshooting, performing repairs, maintenance activities and installing upgrades to our system You will cooperate closely with our Sales team and thus contribute to ramping up our business In more detail, you and mount the Phenospex plant measurement systems and perform quality control checks to ensure correct functioning and customer satisfactionprovide support and training to the customer on the application of the automation technologies and user interfacesregularly interface with technical staff, such as Project Managers and Engineers, both at Phenospex and at the customers site to ensure that installation requirements on site are met in time before the installationdeliver troubleshooting and diagnostic support services to ensure that all products and services function properly and resolve technical support inquiries directlyinform customers on preventive maintenance and complete maintenance of the systems as requiredprovide the CCO with a detailed installation report upon project completionplan service assignments in assigned territories independently and combine trips to different service sites wiselyprovide support during trade showswork in close collaboration with the Sales Service teamprovide training to relevant groups at Phenospexlog and keep records of all incoming issues and findings in the CRM system and internal databaseanalyze logs to spot common trends and underlying problemssupport the operations team with performing a variety of production development and repairrefurbishment workcomplete special assignments as requestedmaintain a safe and healthy work environment by following and complying with all health and safety policies, procedures and legislation in the workshop and on sitea degree in Biotechnology or Bioinformatics Engineering with focus on plants or a degree in Plant Physiology with a strong interest in technologya passion for working with your hands along with excellent technical and mechanical skillsfamiliarity with the Linux operating system and commands Debiana strong customer focus mentality and passion for challenges and troubleshootingstrong communication skills and good verbal and written English any other language is beneficialexcellent organizational skillsflexibility to travel on short notice and for longer periods of time worldwide roughly 50 of timea valid EU work permit and drivers license'"
                        ]
                    },
                    "execution_count": 61,
                    "metadata": {},
                    "output_type": "execute_result"
                }
            ],
            "source": [
                "# Get the longest sentence\n",
                "df_jobs['Job Description spacy_sentencized'].loc[df_jobs['Job Description spacy_sentencized'].apply(len).idxmax()]\n"
            ]
        },
        {
            "cell_type": "code",
            "execution_count": 62,
            "id": "01e9fc82",
            "metadata": {},
            "outputs": [
                {
                    "data": {
                        "text/plain": [
                            "2496"
                        ]
                    },
                    "execution_count": 62,
                    "metadata": {},
                    "output_type": "execute_result"
                }
            ],
            "source": [
                "# len=2496\n",
                "df_jobs['Job Description spacy_sentencized'].apply(len).max()\n"
            ]
        },
        {
            "cell_type": "code",
            "execution_count": 63,
            "id": "994e6919",
            "metadata": {},
            "outputs": [
                {
                    "data": {
                        "text/plain": [
                            "'24 x 7'"
                        ]
                    },
                    "execution_count": 63,
                    "metadata": {},
                    "output_type": "execute_result"
                }
            ],
            "source": [
                "# Get the shortest sentence\n",
                "df_jobs['Job Description spacy_sentencized'].loc[df_jobs['Job Description spacy_sentencized'].apply(len).idxmin()]\n"
            ]
        },
        {
            "cell_type": "code",
            "execution_count": 64,
            "id": "2c8092c0",
            "metadata": {},
            "outputs": [
                {
                    "data": {
                        "text/plain": [
                            "6"
                        ]
                    },
                    "execution_count": 64,
                    "metadata": {},
                    "output_type": "execute_result"
                }
            ],
            "source": [
                "# len=6\n",
                "df_jobs['Job Description spacy_sentencized'].apply(len).min()\n"
            ]
        },
        {
            "cell_type": "code",
            "execution_count": 65,
            "id": "94345b75",
            "metadata": {},
            "outputs": [
                {
                    "data": {
                        "application/vnd.jupyter.widget-view+json": {
                            "model_id": "1a3c55fdf7a24e93a7312f6396f21730",
                            "version_major": 2,
                            "version_minor": 0
                        },
                        "text/plain": [
                            "progress-bar:   0%|          | 0/307318 [00:00<?, ?it/s]"
                        ]
                    },
                    "metadata": {},
                    "output_type": "display_data"
                },
                {
                    "name": "stdout",
                    "output_type": "stream",
                    "text": [
                        "CPU times: user 5min 1s, sys: 11.5 s, total: 5min 12s\n",
                        "Wall time: 5min 23s\n"
                    ]
                }
            ],
            "source": [
                "%%time\n",
                "# Get sentence word frequencies\n",
                "df_jobs = df_jobs.progress_apply(\n",
                "    lambda row: get_word_num_and_frequency(\n",
                "        row=row, text_col='Job Description spacy_sentencized'\n",
                "    ), \n",
                "    axis='columns',\n",
                ")\n"
            ]
        },
        {
            "cell_type": "code",
            "execution_count": 66,
            "id": "aa853d04",
            "metadata": {},
            "outputs": [
                {
                    "data": {
                        "text/html": [
                            "<div>\n",
                            "<style scoped>\n",
                            "    .dataframe tbody tr th:only-of-type {\n",
                            "        vertical-align: middle;\n",
                            "    }\n",
                            "\n",
                            "    .dataframe tbody tr th {\n",
                            "        vertical-align: top;\n",
                            "    }\n",
                            "\n",
                            "    .dataframe thead th {\n",
                            "        text-align: right;\n",
                            "    }\n",
                            "</style>\n",
                            "<table border=\"1\" class=\"dataframe\">\n",
                            "  <thead>\n",
                            "    <tr style=\"text-align: center;\">\n",
                            "      <th></th>\n",
                            "      <th>Job Description spacy_sentencized</th>\n",
                            "      <th>Job Description num_words</th>\n",
                            "      <th>Job Description num_unique_words</th>\n",
                            "      <th>Job Description num_chars</th>\n",
                            "      <th>Job Description num_chars_no_whitespact_and_punt</th>\n",
                            "    </tr>\n",
                            "  </thead>\n",
                            "  <tbody>\n",
                            "    <tr>\n",
                            "      <th>0</th>\n",
                            "      <td>About Our Client</td>\n",
                            "      <td>3</td>\n",
                            "      <td>3</td>\n",
                            "      <td>16</td>\n",
                            "      <td>14</td>\n",
                            "    </tr>\n",
                            "    <tr>\n",
                            "      <th>1</th>\n",
                            "      <td>The Global KYC organisation is part of ING's C...</td>\n",
                            "      <td>10</td>\n",
                            "      <td>10</td>\n",
                            "      <td>56</td>\n",
                            "      <td>45</td>\n",
                            "    </tr>\n",
                            "    <tr>\n",
                            "      <th>2</th>\n",
                            "      <td>Its purpose is Enabling people and organisatio...</td>\n",
                            "      <td>20</td>\n",
                            "      <td>19</td>\n",
                            "      <td>131</td>\n",
                            "      <td>111</td>\n",
                            "    </tr>\n",
                            "    <tr>\n",
                            "      <th>3</th>\n",
                            "      <td>Our Global KYC organisation is a first line of...</td>\n",
                            "      <td>34</td>\n",
                            "      <td>31</td>\n",
                            "      <td>239</td>\n",
                            "      <td>203</td>\n",
                            "    </tr>\n",
                            "    <tr>\n",
                            "      <th>4</th>\n",
                            "      <td>In our Global KYC organisation you will be wor...</td>\n",
                            "      <td>18</td>\n",
                            "      <td>18</td>\n",
                            "      <td>128</td>\n",
                            "      <td>109</td>\n",
                            "    </tr>\n",
                            "  </tbody>\n",
                            "</table>\n",
                            "</div>"
                        ],
                        "text/plain": [
                            "          Job Description spacy_sentencized           Job Description num_words  Job Description num_unique_words  Job Description num_chars  Job Description num_chars_no_whitespact_and_punt\n",
                            "0                                   About Our Client              3                              3                             16                                     14                      \n",
                            "1  The Global KYC organisation is part of ING's C...             10                             10                             56                                     45                      \n",
                            "2  Its purpose is Enabling people and organisatio...             20                             19                            131                                    111                      \n",
                            "3  Our Global KYC organisation is a first line of...             34                             31                            239                                    203                      \n",
                            "4  In our Global KYC organisation you will be wor...             18                             18                            128                                    109                      "
                        ]
                    },
                    "execution_count": 66,
                    "metadata": {},
                    "output_type": "execute_result"
                }
            ],
            "source": [
                "df_jobs[\n",
                "    [\n",
                "        'Job Description spacy_sentencized',\n",
                "        'Job Description num_words', 'Job Description num_unique_words',\n",
                "        'Job Description num_chars', 'Job Description num_chars_no_whitespact_and_punt'\n",
                "    ]\n",
                "].head()"
            ]
        },
        {
            "cell_type": "code",
            "execution_count": 67,
            "id": "20c91bfe",
            "metadata": {},
            "outputs": [
                {
                    "data": {
                        "text/plain": [
                            "349"
                        ]
                    },
                    "execution_count": 67,
                    "metadata": {},
                    "output_type": "execute_result"
                }
            ],
            "source": [
                "# Get the longest sentence words = 349\n",
                "df_jobs['Job Description num_words'].max()\n"
            ]
        },
        {
            "cell_type": "code",
            "execution_count": 68,
            "id": "169963d6",
            "metadata": {},
            "outputs": [
                {
                    "data": {
                        "text/plain": [
                            "'This starts with performing the actual installation as per procedure and training at the customers site and is followed by troubleshooting, performing repairs, maintenance activities and installing upgrades to our system You will cooperate closely with our Sales team and thus contribute to ramping up our business In more detail, you and mount the Phenospex plant measurement systems and perform quality control checks to ensure correct functioning and customer satisfactionprovide support and training to the customer on the application of the automation technologies and user interfacesregularly interface with technical staff, such as Project Managers and Engineers, both at Phenospex and at the customers site to ensure that installation requirements on site are met in time before the installationdeliver troubleshooting and diagnostic support services to ensure that all products and services function properly and resolve technical support inquiries directlyinform customers on preventive maintenance and complete maintenance of the systems as requiredprovide the CCO with a detailed installation report upon project completionplan service assignments in assigned territories independently and combine trips to different service sites wiselyprovide support during trade showswork in close collaboration with the Sales Service teamprovide training to relevant groups at Phenospexlog and keep records of all incoming issues and findings in the CRM system and internal databaseanalyze logs to spot common trends and underlying problemssupport the operations team with performing a variety of production development and repairrefurbishment workcomplete special assignments as requestedmaintain a safe and healthy work environment by following and complying with all health and safety policies, procedures and legislation in the workshop and on sitea degree in Biotechnology or Bioinformatics Engineering with focus on plants or a degree in Plant Physiology with a strong interest in technologya passion for working with your hands along with excellent technical and mechanical skillsfamiliarity with the Linux operating system and commands Debiana strong customer focus mentality and passion for challenges and troubleshootingstrong communication skills and good verbal and written English any other language is beneficialexcellent organizational skillsflexibility to travel on short notice and for longer periods of time worldwide roughly 50 of timea valid EU work permit and drivers license'"
                        ]
                    },
                    "execution_count": 68,
                    "metadata": {},
                    "output_type": "execute_result"
                }
            ],
            "source": [
                "# Get the sentence with the max words\n",
                "df_jobs['Job Description spacy_sentencized'].loc[df_jobs['Job Description num_words'].idxmax()]\n"
            ]
        },
        {
            "cell_type": "code",
            "execution_count": 69,
            "id": "ad25b505",
            "metadata": {},
            "outputs": [
                {
                    "data": {
                        "text/plain": [
                            "3"
                        ]
                    },
                    "execution_count": 69,
                    "metadata": {},
                    "output_type": "execute_result"
                }
            ],
            "source": [
                "# Get the longest sentence words = 3\n",
                "df_jobs['Job Description num_words'].min()\n"
            ]
        },
        {
            "cell_type": "code",
            "execution_count": 70,
            "id": "731d94bd",
            "metadata": {},
            "outputs": [
                {
                    "data": {
                        "text/plain": [
                            "'About Our Client'"
                        ]
                    },
                    "execution_count": 70,
                    "metadata": {},
                    "output_type": "execute_result"
                }
            ],
            "source": [
                "# Get the sentence with the min words\n",
                "df_jobs['Job Description spacy_sentencized'].loc[df_jobs['Job Description num_words'].idxmin()]\n"
            ]
        },
        {
            "cell_type": "code",
            "execution_count": 71,
            "id": "bc21643d",
            "metadata": {},
            "outputs": [
                {
                    "data": {
                        "application/vnd.jupyter.widget-view+json": {
                            "model_id": "8f9669e2c0034eab8d5c9aa9934afae5",
                            "version_major": 2,
                            "version_minor": 0
                        },
                        "text/plain": [
                            "progress-bar:   0%|          | 0/307318 [00:00<?, ?it/s]"
                        ]
                    },
                    "metadata": {},
                    "output_type": "display_data"
                }
            ],
            "source": [
                "df_jobs['Job Description spacy_sentencized_lower'] = df_jobs['Job Description spacy_sentencized'].progress_apply(\n",
                "    lambda job_sentence: job_sentence.strip().lower()\n",
                ")\n"
            ]
        },
        {
            "cell_type": "code",
            "execution_count": 72,
            "id": "1b8dac3e",
            "metadata": {},
            "outputs": [
                {
                    "data": {
                        "text/html": [
                            "<div>\n",
                            "<style scoped>\n",
                            "    .dataframe tbody tr th:only-of-type {\n",
                            "        vertical-align: middle;\n",
                            "    }\n",
                            "\n",
                            "    .dataframe tbody tr th {\n",
                            "        vertical-align: top;\n",
                            "    }\n",
                            "\n",
                            "    .dataframe thead th {\n",
                            "        text-align: right;\n",
                            "    }\n",
                            "</style>\n",
                            "<table border=\"1\" class=\"dataframe\">\n",
                            "  <thead>\n",
                            "    <tr style=\"text-align: center;\">\n",
                            "      <th></th>\n",
                            "      <th>Job Description spacy_sentencized</th>\n",
                            "      <th>Job Description spacy_sentencized_lower</th>\n",
                            "    </tr>\n",
                            "  </thead>\n",
                            "  <tbody>\n",
                            "    <tr>\n",
                            "      <th>0</th>\n",
                            "      <td>About Our Client</td>\n",
                            "      <td>about our client</td>\n",
                            "    </tr>\n",
                            "    <tr>\n",
                            "      <th>1</th>\n",
                            "      <td>The Global KYC organisation is part of ING's C...</td>\n",
                            "      <td>the global kyc organisation is part of ing's c...</td>\n",
                            "    </tr>\n",
                            "    <tr>\n",
                            "      <th>2</th>\n",
                            "      <td>Its purpose is Enabling people and organisatio...</td>\n",
                            "      <td>its purpose is enabling people and organisatio...</td>\n",
                            "    </tr>\n",
                            "    <tr>\n",
                            "      <th>3</th>\n",
                            "      <td>Our Global KYC organisation is a first line of...</td>\n",
                            "      <td>our global kyc organisation is a first line of...</td>\n",
                            "    </tr>\n",
                            "    <tr>\n",
                            "      <th>4</th>\n",
                            "      <td>In our Global KYC organisation you will be wor...</td>\n",
                            "      <td>in our global kyc organisation you will be wor...</td>\n",
                            "    </tr>\n",
                            "  </tbody>\n",
                            "</table>\n",
                            "</div>"
                        ],
                        "text/plain": [
                            "          Job Description spacy_sentencized               Job Description spacy_sentencized_lower      \n",
                            "0                                   About Our Client                                   about our client\n",
                            "1  The Global KYC organisation is part of ING's C...  the global kyc organisation is part of ing's c...\n",
                            "2  Its purpose is Enabling people and organisatio...  its purpose is enabling people and organisatio...\n",
                            "3  Our Global KYC organisation is a first line of...  our global kyc organisation is a first line of...\n",
                            "4  In our Global KYC organisation you will be wor...  in our global kyc organisation you will be wor..."
                        ]
                    },
                    "execution_count": 72,
                    "metadata": {},
                    "output_type": "execute_result"
                }
            ],
            "source": [
                "df_jobs[['Job Description spacy_sentencized', 'Job Description spacy_sentencized_lower']].head()\n"
            ]
        },
        {
            "cell_type": "code",
            "execution_count": 73,
            "id": "7133bfd6",
            "metadata": {},
            "outputs": [
                {
                    "name": "stdout",
                    "output_type": "stream",
                    "text": [
                        "CPU times: user 2min 21s, sys: 813 ms, total: 2min 22s\n",
                        "Wall time: 2min 23s\n"
                    ]
                }
            ],
            "source": [
                "%%time\n",
                "# Add language requirement column\n",
                "# Use regex to find language requirement\n",
                "lang_requirements = {\n",
                "    'Dutch Requirement in Sentence': dutch_requirement_pattern, 'English Requirement in Sentence': english_requirement_pattern\n",
                "}\n",
                "\n",
                "for lang_req, lang_req_pattern in lang_requirements.items():\n",
                "\n",
                "    if lang_req in df_jobs.columns:\n",
                "        df_jobs = df_jobs.drop(columns=[lang_req])\n",
                "    df_jobs[lang_req] = np.where(\n",
                "        df_jobs['Job Description'].str.contains(lang_req_pattern),\n",
                "        'Yes',\n",
                "        'No',\n",
                "    )\n",
                "    df_jobs[lang_req] = df_jobs[lang_req].astype('category').cat.reorder_categories(['No', 'Yes'], ordered=True)\n",
                "    df_jobs[lang_req] = pd.Categorical(df_jobs[lang_req], categories=['No', 'Yes'], ordered=True)\n"
            ]
        },
        {
            "cell_type": "code",
            "execution_count": 74,
            "id": "e4744096",
            "metadata": {},
            "outputs": [
                {
                    "data": {
                        "text/plain": [
                            "Dutch Requirement in Sentence\n",
                            "No     297626\n",
                            "Yes      9692\n",
                            "Name: count, dtype: int64"
                        ]
                    },
                    "execution_count": 74,
                    "metadata": {},
                    "output_type": "execute_result"
                }
            ],
            "source": [
                "# Yes = 9692 job sentences\n",
                "df_jobs['Dutch Requirement in Sentence'].value_counts()\n"
            ]
        },
        {
            "cell_type": "code",
            "execution_count": 75,
            "id": "aad0097b",
            "metadata": {},
            "outputs": [
                {
                    "data": {
                        "text/plain": [
                            "English Requirement in Sentence\n",
                            "No     289802\n",
                            "Yes     17516\n",
                            "Name: count, dtype: int64"
                        ]
                    },
                    "execution_count": 75,
                    "metadata": {},
                    "output_type": "execute_result"
                }
            ],
            "source": [
                "# Yes = 17516 job sentences\n",
                "df_jobs['English Requirement in Sentence'].value_counts()\n"
            ]
        },
        {
            "cell_type": "code",
            "execution_count": 76,
            "id": "e5a95898",
            "metadata": {},
            "outputs": [],
            "source": [
                "# Dummy coding for language requirement\n",
                "df_jobs = df_jobs.join(pd.get_dummies(df_jobs[['Dutch Requirement in Sentence', 'English Requirement in Sentence']], dtype='int64'))\n"
            ]
        },
        {
            "cell_type": "code",
            "execution_count": 77,
            "id": "b899560d",
            "metadata": {},
            "outputs": [
                {
                    "data": {
                        "text/plain": [
                            "Dutch Requirement in Sentence_Yes\n",
                            "0    297626\n",
                            "1      9692\n",
                            "Name: count, dtype: int64"
                        ]
                    },
                    "execution_count": 77,
                    "metadata": {},
                    "output_type": "execute_result"
                }
            ],
            "source": [
                "df_jobs['Dutch Requirement in Sentence_Yes'].value_counts()\n"
            ]
        },
        {
            "cell_type": "code",
            "execution_count": 78,
            "id": "0dc01fe4",
            "metadata": {},
            "outputs": [
                {
                    "data": {
                        "text/plain": [
                            "English Requirement in Sentence_Yes\n",
                            "0    289802\n",
                            "1     17516\n",
                            "Name: count, dtype: int64"
                        ]
                    },
                    "execution_count": 78,
                    "metadata": {},
                    "output_type": "execute_result"
                }
            ],
            "source": [
                "df_jobs['English Requirement in Sentence_Yes'].value_counts()\n"
            ]
        },
        {
            "cell_type": "code",
            "execution_count": 79,
            "id": "772ecdc9",
            "metadata": {},
            "outputs": [],
            "source": [
                "# Remove duplicate sentences from the same job ad\n",
                "df_jobs = df_jobs.drop_duplicates(subset=['Job ID', 'Job Description spacy_sentencized'])\n"
            ]
        },
        {
            "cell_type": "code",
            "execution_count": 80,
            "id": "25dad11d",
            "metadata": {},
            "outputs": [],
            "source": [
                "assert len(df_jobs) > 0 and isinstance(df_jobs, pd.DataFrame), f'ERORR: LENGTH OF DF = {len(df_jobs)}'\n",
                "df_jobs.to_pickle(f'{df_save_dir}df_jobs_sentencized_validated.pkl')\n",
                "df_jobs.to_csv(f'{df_save_dir}df_jobs_sentencized_validated.csv', index=False)\n"
            ]
        },
        {
            "cell_type": "code",
            "execution_count": null,
            "id": "e13d801e",
            "metadata": {},
            "outputs": [],
            "source": []
        }
    ],
    "metadata": {
        "kernelspec": {
            "display_name": "Automating_Equity1_3.10",
            "language": "python",
            "name": "python3"
        },
        "language_info": {
            "codemirror_mode": {
                "name": "ipython",
                "version": 3
            },
            "file_extension": ".py",
            "mimetype": "text/x-python",
            "name": "python",
            "nbconvert_exporter": "python",
            "pygments_lexer": "ipython3",
            "version": "3.10.10"
        },
        "varInspector": {
            "cols": {
                "lenName": 16,
                "lenType": 16,
                "lenVar": 40
            },
            "kernels_config": {
                "python": {
                    "delete_cmd_postfix": "",
                    "delete_cmd_prefix": "del ",
                    "library": "var_list.py",
                    "varRefreshCmd": "print(var_dic_list())"
                },
                "r": {
                    "delete_cmd_postfix": ") ",
                    "delete_cmd_prefix": "rm(",
                    "library": "var_list.r",
                    "varRefreshCmd": "cat(var_dic_list()) "
                }
            },
            "types_to_exclude": [
                "module",
                "function",
                "builtin_function_or_method",
                "instance",
                "_Feature"
            ],
            "window_display": false
        }
    },
    "nbformat": 4,
    "nbformat_minor": 5
}
