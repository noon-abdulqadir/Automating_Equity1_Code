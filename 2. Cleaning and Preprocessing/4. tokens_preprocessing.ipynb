{
    "cells": [
        {
            "attachments": {},
            "cell_type": "markdown",
            "id": "2946e411",
            "metadata": {},
            "source": [
                "# ATTN: This script should be run AFTER spacy sentence cleaning and validation is completed."
            ]
        },
        {
            "attachments": {},
            "cell_type": "markdown",
            "id": "4e568b2c",
            "metadata": {},
            "source": [
                "# Use spacy to tokenize sentences"
            ]
        },
        {
            "attachments": {},
            "cell_type": "markdown",
            "id": "e4e1c487",
            "metadata": {},
            "source": [
                "### START HERE IF SOURCING FROM DF_JOBS_SENTENCIZED_VALIDATED\n",
                "### PLEASE SET CORRECT DIRECTORY PATHS BELOW"
            ]
        },
        {
            "cell_type": "code",
            "execution_count": 1,
            "id": "c288f82e",
            "metadata": {},
            "outputs": [],
            "source": [
                "import os # type:ignore # isort:skip # fmt:skip # noqa # nopep8\n",
                "import sys # type:ignore # isort:skip # fmt:skip # noqa # nopep8\n",
                "from pathlib import Path # type:ignore # isort:skip # fmt:skip # noqa # nopep8\n",
                "\n",
                "mod = sys.modules[__name__]\n",
                "\n",
                "code_dir = None\n",
                "code_dir_name = 'Code'\n",
                "unwanted_subdir_name = 'Analysis'\n",
                "\n",
                "if code_dir_name not in str(Path.cwd()).split('/')[-1]:\n",
                "    for _ in range(5):\n",
                "\n",
                "        parent_path = str(Path.cwd().parents[_]).split('/')[-1]\n",
                "\n",
                "        if (code_dir_name in parent_path) and (unwanted_subdir_name not in parent_path):\n",
                "\n",
                "            code_dir = str(Path.cwd().parents[_])\n",
                "\n",
                "            if code_dir is not None:\n",
                "                break\n",
                "else:\n",
                "    code_dir = Path.cwd()\n",
                "sys.path.append(code_dir)\n",
                "\n",
                "# %load_ext autoreload\n",
                "# %autoreload 2\n"
            ]
        },
        {
            "cell_type": "code",
            "execution_count": 2,
            "id": "d09c526c",
            "metadata": {},
            "outputs": [
                {
                    "name": "stdout",
                    "output_type": "stream",
                    "text": [
                        "Using MPS\n"
                    ]
                },
                {
                    "data": {
                        "application/vnd.jupyter.widget-view+json": {
                            "model_id": "85edd2bee01c42c2b3dd8ab8e995d91d",
                            "version_major": 2,
                            "version_minor": 0
                        },
                        "text/plain": [
                            "0it [00:00, ?it/s]"
                        ]
                    },
                    "metadata": {},
                    "output_type": "display_data"
                },
                {
                    "data": {
                        "text/plain": [
                            "<Figure size 640x480 with 0 Axes>"
                        ]
                    },
                    "metadata": {},
                    "output_type": "display_data"
                }
            ],
            "source": [
                "from setup_module.imports import * # type:ignore # isort:skip # fmt:skip # noqa # nopep8\n"
            ]
        },
        {
            "cell_type": "code",
            "execution_count": 3,
            "id": "8eeb47a5",
            "metadata": {},
            "outputs": [],
            "source": [
                "df_jobs = pd.read_pickle(f'{df_save_dir}df_jobs_sentencized_validated.pkl')\n"
            ]
        },
        {
            "cell_type": "code",
            "execution_count": 4,
            "id": "1cf56055",
            "metadata": {},
            "outputs": [
                {
                    "data": {
                        "application/vnd.jupyter.widget-view+json": {
                            "model_id": "b0dd8577143141be8d9b401e8667f281",
                            "version_major": 2,
                            "version_minor": 0
                        },
                        "text/plain": [
                            "progress-bar:   0%|          | 0/307318 [00:00<?, ?it/s]"
                        ]
                    },
                    "metadata": {},
                    "output_type": "display_data"
                },
                {
                    "name": "stdout",
                    "output_type": "stream",
                    "text": [
                        "CPU times: user 37.4 s, sys: 2.2 s, total: 39.6 s\n",
                        "Wall time: 44 s\n"
                    ]
                }
            ],
            "source": [
                "%%time\n",
                "# Spacy tokenize\n",
                "with open(f'{data_dir}punctuations.txt', 'rb') as f:\n",
                "    custom_punct_chars = pickle.load(f)\n",
                "\n",
                "df_jobs['Job Description spacy_tokenized'] = df_jobs['Job Description spacy_sentencized'].progress_apply(\n",
                "    lambda job_sentence: [\n",
                "        str(token.text.strip().lower())\n",
                "        for token in nlp.tokenizer(job_sentence)\n",
                "        if token.text is not None\n",
                "        and len(token) != 0\n",
                "        and len(token.text) != 0\n",
                "        and bool(token)\n",
                "        and bool(token.text)\n",
                "        and token.text != '...'\n",
                "        and not token.is_space\n",
                "        and not token.is_punct\n",
                "        and not token.is_quote\n",
                "        and not token.is_bracket\n",
                "        and not token.like_email\n",
                "    ]\n",
                ")\n",
                "\n",
                "assert len(df_jobs) > 0 and isinstance(df_jobs, pd.DataFrame), f'ERORR: LENGTH OF DF = {len(df_jobs)}'\n",
                "df_jobs.to_pickle(f'{df_save_dir}df_jobs_tokenized_spacy.pkl')\n",
                "df_jobs.to_csv(f'{df_save_dir}df_jobs_tokenized_spacy.csv', index=False)\n"
            ]
        },
        {
            "cell_type": "code",
            "execution_count": 5,
            "id": "bd443d94",
            "metadata": {},
            "outputs": [],
            "source": [
                "df_jobs['Job Description spacy_sentencized_cleaned'] = df_jobs['Job Description spacy_tokenized'].str.join(' ')\n"
            ]
        },
        {
            "cell_type": "code",
            "execution_count": 6,
            "id": "dbaea2bc",
            "metadata": {},
            "outputs": [
                {
                    "name": "stdout",
                    "output_type": "stream",
                    "text": [
                        "<class 'pandas.core.frame.DataFrame'>\n",
                        "Index: 307318 entries, 0 to 408598\n",
                        "Data columns (total 76 columns):\n",
                        " #   Column                                            Non-Null Count   Dtype   \n",
                        "---  ------                                            --------------   -----   \n",
                        " 0   Search Keyword                                    307318 non-null  object  \n",
                        " 1   Platform                                          307318 non-null  object  \n",
                        " 2   Job ID                                            307318 non-null  object  \n",
                        " 3   Job Title                                         307318 non-null  object  \n",
                        " 4   Company Name                                      307313 non-null  object  \n",
                        " 5   Location                                          307318 non-null  object  \n",
                        " 6   Job Description                                   307318 non-null  object  \n",
                        " 7   Rating                                            165995 non-null  float64 \n",
                        " 8   Employment Type                                   281192 non-null  object  \n",
                        " 9   Company URL                                       300725 non-null  object  \n",
                        " 10  Job URL                                           307318 non-null  object  \n",
                        " 11  Job Age                                           307318 non-null  object  \n",
                        " 12  Job Age Number                                    307318 non-null  object  \n",
                        " 13  Collection Date                                   307318 non-null  object  \n",
                        " 14  Data Row                                          141182 non-null  float64 \n",
                        " 15  Tracking ID                                       141182 non-null  object  \n",
                        " 16  Industry                                          167449 non-null  object  \n",
                        " 17  Job Date                                          141323 non-null  object  \n",
                        " 18  Type of ownership                                 26126 non-null   object  \n",
                        " 19  Language                                          307318 non-null  object  \n",
                        " 20  Dutch Requirement in Job Ad                       307318 non-null  object  \n",
                        " 21  English Requirement in Job Ad                     307318 non-null  object  \n",
                        " 22  Dutch Requirement in Job Ad_No                    307318 non-null  int64   \n",
                        " 23  Dutch Requirement in Job Ad_Yes                   307318 non-null  int64   \n",
                        " 24  English Requirement in Job Ad_No                  307318 non-null  int64   \n",
                        " 25  English Requirement in Job Ad_Yes                 307318 non-null  int64   \n",
                        " 26  Sector Code                                       307318 non-null  object  \n",
                        " 27  Sector                                            307318 non-null  object  \n",
                        " 28  Keywords Count                                    307318 non-null  float64 \n",
                        " 29  Gender_Female_n                                   307318 non-null  float64 \n",
                        " 30  Gender_Female_% per Sector                        307318 non-null  float64 \n",
                        " 31  Gender_Female_% per Social Category               307318 non-null  float64 \n",
                        " 32  Gender_Female_% per Workforce                     307318 non-null  float64 \n",
                        " 33  Gender_Male_n                                     307318 non-null  float64 \n",
                        " 34  Gender_Male_% per Sector                          307318 non-null  float64 \n",
                        " 35  Gender_Male_% per Social Category                 307318 non-null  float64 \n",
                        " 36  Gender_Male_% per Workforce                       307318 non-null  float64 \n",
                        " 37  Gender                                            307318 non-null  object  \n",
                        " 38  Age_Older_n                                       307318 non-null  float64 \n",
                        " 39  Age_Older_% per Sector                            307318 non-null  float64 \n",
                        " 40  Age_Older_% per Social Category                   307318 non-null  float64 \n",
                        " 41  Age_Older_% per Workforce                         307318 non-null  float64 \n",
                        " 42  Age_Younger_n                                     307318 non-null  float64 \n",
                        " 43  Age_Younger_% per Sector                          307318 non-null  float64 \n",
                        " 44  Age_Younger_% per Social Category                 307318 non-null  float64 \n",
                        " 45  Age_Younger_% per Workforce                       307318 non-null  float64 \n",
                        " 46  Age                                               307318 non-null  object  \n",
                        " 47  Sector_n                                          307318 non-null  float64 \n",
                        " 48  % Sector per Workforce                            307318 non-null  float64 \n",
                        " 49  Gender_Female                                     307318 non-null  int64   \n",
                        " 50  Gender_Male                                       307318 non-null  int64   \n",
                        " 51  Gender_Mixed                                      307318 non-null  int64   \n",
                        " 52  Age_Mixed                                         307318 non-null  int64   \n",
                        " 53  Age_Older                                         307318 non-null  int64   \n",
                        " 54  Age_Younger                                       307318 non-null  int64   \n",
                        " 55  Gender_Num                                        307318 non-null  int64   \n",
                        " 56  Age_Num                                           307318 non-null  int64   \n",
                        " 57  Platform_Num                                      307318 non-null  int64   \n",
                        " 58  Platform_LinkedIn                                 307318 non-null  int64   \n",
                        " 59  Platform_Indeed                                   307318 non-null  int64   \n",
                        " 60  Platform_Glassdoor                                307318 non-null  int64   \n",
                        " 61  Job Description spacy_sentencized                 307318 non-null  object  \n",
                        " 62  Job Description num_words                         307318 non-null  int64   \n",
                        " 63  Job Description num_unique_words                  307318 non-null  int64   \n",
                        " 64  Job Description num_chars                         307318 non-null  int64   \n",
                        " 65  Job Description num_chars_no_whitespact_and_punt  307318 non-null  int64   \n",
                        " 66  Job Description num_punctuations                  307318 non-null  int64   \n",
                        " 67  Job Description spacy_sentencized_lower           307318 non-null  object  \n",
                        " 68  Dutch Requirement in Sentence                     307318 non-null  category\n",
                        " 69  English Requirement in Sentence                   307318 non-null  category\n",
                        " 70  Dutch Requirement in Sentence_No                  307318 non-null  int64   \n",
                        " 71  Dutch Requirement in Sentence_Yes                 307318 non-null  int64   \n",
                        " 72  English Requirement in Sentence_No                307318 non-null  int64   \n",
                        " 73  English Requirement in Sentence_Yes               307318 non-null  int64   \n",
                        " 74  Job Description spacy_tokenized                   307318 non-null  object  \n",
                        " 75  Job Description spacy_sentencized_cleaned         307318 non-null  object  \n",
                        "dtypes: category(2), float64(21), int64(25), object(28)\n",
                        "memory usage: 176.4+ MB\n"
                    ]
                }
            ],
            "source": [
                "# len = 307318\n",
                "df_jobs.info()\n"
            ]
        },
        {
            "cell_type": "code",
            "execution_count": 7,
            "id": "b24c9976",
            "metadata": {},
            "outputs": [
                {
                    "data": {
                        "text/plain": [
                            "Index(['Search Keyword', 'Platform', 'Job ID', 'Job Title', 'Company Name', 'Location', 'Job Description', 'Rating', 'Employment Type', 'Company URL', 'Job URL', 'Job Age', 'Job Age Number', 'Collection Date', 'Data Row', 'Tracking ID', 'Industry', 'Job Date', 'Type of ownership', 'Language', 'Dutch Requirement in Job Ad', 'English Requirement in Job Ad', 'Dutch Requirement in Job Ad_No', 'Dutch Requirement in Job Ad_Yes', 'English Requirement in Job Ad_No', 'English Requirement in Job Ad_Yes', 'Sector Code', 'Sector', 'Keywords Count', 'Gender_Female_n', 'Gender_Female_% per Sector', 'Gender_Female_% per Social Category', 'Gender_Female_% per Workforce', 'Gender_Male_n', 'Gender_Male_% per Sector', 'Gender_Male_% per Social Category', 'Gender_Male_% per Workforce', 'Gender', 'Age_Older_n', 'Age_Older_% per Sector', 'Age_Older_% per Social Category', 'Age_Older_% per Workforce', 'Age_Younger_n', 'Age_Younger_% per Sector', 'Age_Younger_% per Social Category', 'Age_Younger_% per Workforce', 'Age', 'Sector_n', '% Sector per Workforce', 'Gender_Female', 'Gender_Male', 'Gender_Mixed', 'Age_Mixed', 'Age_Older', 'Age_Younger', 'Gender_Num', 'Age_Num', 'Platform_Num', 'Platform_LinkedIn', 'Platform_Indeed', 'Platform_Glassdoor', 'Job Description spacy_sentencized', 'Job Description num_words', 'Job Description num_unique_words', 'Job Description num_chars', 'Job Description num_chars_no_whitespact_and_punt', 'Job Description num_punctuations', 'Job Description spacy_sentencized_lower', 'Dutch Requirement in Sentence', 'English Requirement in Sentence', 'Dutch Requirement in Sentence_No', 'Dutch Requirement in Sentence_Yes', 'English Requirement in Sentence_No', 'English Requirement in Sentence_Yes', 'Job Description spacy_tokenized', 'Job Description spacy_sentencized_cleaned'], dtype='object')"
                        ]
                    },
                    "execution_count": 7,
                    "metadata": {},
                    "output_type": "execute_result"
                }
            ],
            "source": [
                "df_jobs.columns\n"
            ]
        },
        {
            "cell_type": "code",
            "execution_count": 8,
            "id": "ba33d712",
            "metadata": {},
            "outputs": [
                {
                    "name": "stdout",
                    "output_type": "stream",
                    "text": [
                        "\n",
                        "DF INFO:\n",
                        "\n",
                        "<class 'pandas.core.frame.DataFrame'>\n",
                        "Index: 307318 entries, 0 to 408598\n",
                        "Data columns (total 76 columns):\n",
                        " #   Column                                            Non-Null Count   Dtype   \n",
                        "---  ------                                            --------------   -----   \n",
                        " 0   Search Keyword                                    307318 non-null  object  \n",
                        " 1   Platform                                          307318 non-null  object  \n",
                        " 2   Job ID                                            307318 non-null  object  \n",
                        " 3   Job Title                                         307318 non-null  object  \n",
                        " 4   Company Name                                      307313 non-null  object  \n",
                        " 5   Location                                          307318 non-null  object  \n",
                        " 6   Job Description                                   307318 non-null  object  \n",
                        " 7   Rating                                            165995 non-null  float64 \n",
                        " 8   Employment Type                                   281192 non-null  object  \n",
                        " 9   Company URL                                       300725 non-null  object  \n",
                        " 10  Job URL                                           307318 non-null  object  \n",
                        " 11  Job Age                                           307318 non-null  object  \n",
                        " 12  Job Age Number                                    307318 non-null  object  \n",
                        " 13  Collection Date                                   307318 non-null  object  \n",
                        " 14  Data Row                                          141182 non-null  float64 \n",
                        " 15  Tracking ID                                       141182 non-null  object  \n",
                        " 16  Industry                                          167449 non-null  object  \n",
                        " 17  Job Date                                          141323 non-null  object  \n",
                        " 18  Type of ownership                                 26126 non-null   object  \n",
                        " 19  Language                                          307318 non-null  object  \n",
                        " 20  Dutch Requirement in Job Ad                       307318 non-null  object  \n",
                        " 21  English Requirement in Job Ad                     307318 non-null  object  \n",
                        " 22  Dutch Requirement in Job Ad_No                    307318 non-null  int64   \n",
                        " 23  Dutch Requirement in Job Ad_Yes                   307318 non-null  int64   \n",
                        " 24  English Requirement in Job Ad_No                  307318 non-null  int64   \n",
                        " 25  English Requirement in Job Ad_Yes                 307318 non-null  int64   \n",
                        " 26  Sector Code                                       307318 non-null  object  \n",
                        " 27  Sector                                            307318 non-null  object  \n",
                        " 28  Keywords Count                                    307318 non-null  float64 \n",
                        " 29  Gender_Female_n                                   307318 non-null  float64 \n",
                        " 30  Gender_Female_% per Sector                        307318 non-null  float64 \n",
                        " 31  Gender_Female_% per Social Category               307318 non-null  float64 \n",
                        " 32  Gender_Female_% per Workforce                     307318 non-null  float64 \n",
                        " 33  Gender_Male_n                                     307318 non-null  float64 \n",
                        " 34  Gender_Male_% per Sector                          307318 non-null  float64 \n",
                        " 35  Gender_Male_% per Social Category                 307318 non-null  float64 \n",
                        " 36  Gender_Male_% per Workforce                       307318 non-null  float64 \n",
                        " 37  Gender                                            307318 non-null  object  \n",
                        " 38  Age_Older_n                                       307318 non-null  float64 \n",
                        " 39  Age_Older_% per Sector                            307318 non-null  float64 \n",
                        " 40  Age_Older_% per Social Category                   307318 non-null  float64 \n",
                        " 41  Age_Older_% per Workforce                         307318 non-null  float64 \n",
                        " 42  Age_Younger_n                                     307318 non-null  float64 \n",
                        " 43  Age_Younger_% per Sector                          307318 non-null  float64 \n",
                        " 44  Age_Younger_% per Social Category                 307318 non-null  float64 \n",
                        " 45  Age_Younger_% per Workforce                       307318 non-null  float64 \n",
                        " 46  Age                                               307318 non-null  object  \n",
                        " 47  Sector_n                                          307318 non-null  float64 \n",
                        " 48  % Sector per Workforce                            307318 non-null  float64 \n",
                        " 49  Gender_Female                                     307318 non-null  int64   \n",
                        " 50  Gender_Male                                       307318 non-null  int64   \n",
                        " 51  Gender_Mixed                                      307318 non-null  int64   \n",
                        " 52  Age_Mixed                                         307318 non-null  int64   \n",
                        " 53  Age_Older                                         307318 non-null  int64   \n",
                        " 54  Age_Younger                                       307318 non-null  int64   \n",
                        " 55  Gender_Num                                        307318 non-null  int64   \n",
                        " 56  Age_Num                                           307318 non-null  int64   \n",
                        " 57  Platform_Num                                      307318 non-null  int64   \n",
                        " 58  Platform_LinkedIn                                 307318 non-null  int64   \n",
                        " 59  Platform_Indeed                                   307318 non-null  int64   \n",
                        " 60  Platform_Glassdoor                                307318 non-null  int64   \n",
                        " 61  Job Description spacy_sentencized                 307318 non-null  object  \n",
                        " 62  Job Description num_words                         307318 non-null  int64   \n",
                        " 63  Job Description num_unique_words                  307318 non-null  int64   \n",
                        " 64  Job Description num_chars                         307318 non-null  int64   \n",
                        " 65  Job Description num_chars_no_whitespact_and_punt  307318 non-null  int64   \n",
                        " 66  Job Description num_punctuations                  307318 non-null  int64   \n",
                        " 67  Job Description spacy_sentencized_lower           307318 non-null  object  \n",
                        " 68  Dutch Requirement in Sentence                     307318 non-null  category\n",
                        " 69  English Requirement in Sentence                   307318 non-null  category\n",
                        " 70  Dutch Requirement in Sentence_No                  307318 non-null  int64   \n",
                        " 71  Dutch Requirement in Sentence_Yes                 307318 non-null  int64   \n",
                        " 72  English Requirement in Sentence_No                307318 non-null  int64   \n",
                        " 73  English Requirement in Sentence_Yes               307318 non-null  int64   \n",
                        " 74  Job Description spacy_tokenized                   307318 non-null  object  \n",
                        " 75  Job Description spacy_sentencized_cleaned         307318 non-null  object  \n",
                        "dtypes: category(2), float64(21), int64(25), object(28)\n",
                        "memory usage: 176.4+ MB\n",
                        "====================\n",
                        "Gender:\n",
                        "--------------------\n",
                        "Gender Counts:\n",
                        "Gender\n",
                        "Mixed Gender    116494\n",
                        "Male            112667\n",
                        "Female           78157\n",
                        "Name: count, dtype: int64\n",
                        "--------------------\n",
                        "Gender Percentages:\n",
                        "Gender\n",
                        "Mixed Gender   37.90\n",
                        "Male           36.70\n",
                        "Female         25.40\n",
                        "Name: proportion, dtype: float64\n",
                        "--------------------\n",
                        "Gender not available.\n",
                        "====================\n",
                        "Gender_Num:\n",
                        "--------------------\n",
                        "Gender_Num Counts:\n",
                        "Gender_Num\n",
                        "1    116494\n",
                        "2    112667\n",
                        "0     78157\n",
                        "Name: count, dtype: int64\n",
                        "--------------------\n",
                        "Gender_Num Percentages:\n",
                        "Gender_Num\n",
                        "1   37.90\n",
                        "2   36.70\n",
                        "0   25.40\n",
                        "Name: proportion, dtype: float64\n",
                        "--------------------\n",
                        "Min Gender_Num value: 0.0\n",
                        "Max Gender_Num value: 2.0\n",
                        "--------------------\n",
                        "Gender_Num Mean: 1.11\n",
                        "--------------------\n",
                        "Gender_Num Standard Deviation: 0.78\n",
                        "====================\n",
                        "Gender_Female:\n",
                        "--------------------\n",
                        "Gender_Female Counts:\n",
                        "Gender_Female\n",
                        "0    229161\n",
                        "1     78157\n",
                        "Name: count, dtype: int64\n",
                        "--------------------\n",
                        "Gender_Female Percentages:\n",
                        "Gender_Female\n",
                        "0   74.60\n",
                        "1   25.40\n",
                        "Name: proportion, dtype: float64\n",
                        "--------------------\n",
                        "Min Gender_Female value: 0.0\n",
                        "Max Gender_Female value: 1.0\n",
                        "--------------------\n",
                        "Gender_Female Mean: 0.25\n",
                        "--------------------\n",
                        "Gender_Female Standard Deviation: 0.44\n",
                        "====================\n",
                        "Gender_Mixed:\n",
                        "--------------------\n",
                        "Gender_Mixed Counts:\n",
                        "Gender_Mixed\n",
                        "0    190824\n",
                        "1    116494\n",
                        "Name: count, dtype: int64\n",
                        "--------------------\n",
                        "Gender_Mixed Percentages:\n",
                        "Gender_Mixed\n",
                        "0   62.10\n",
                        "1   37.90\n",
                        "Name: proportion, dtype: float64\n",
                        "--------------------\n",
                        "Min Gender_Mixed value: 0.0\n",
                        "Max Gender_Mixed value: 1.0\n",
                        "--------------------\n",
                        "Gender_Mixed Mean: 0.38\n",
                        "--------------------\n",
                        "Gender_Mixed Standard Deviation: 0.49\n",
                        "====================\n",
                        "Gender_Male:\n",
                        "--------------------\n",
                        "Gender_Male Counts:\n",
                        "Gender_Male\n",
                        "0    194651\n",
                        "1    112667\n",
                        "Name: count, dtype: int64\n",
                        "--------------------\n",
                        "Gender_Male Percentages:\n",
                        "Gender_Male\n",
                        "0   63.30\n",
                        "1   36.70\n",
                        "Name: proportion, dtype: float64\n",
                        "--------------------\n",
                        "Min Gender_Male value: 0.0\n",
                        "Max Gender_Male value: 1.0\n",
                        "--------------------\n",
                        "Gender_Male Mean: 0.37\n",
                        "--------------------\n",
                        "Gender_Male Standard Deviation: 0.48\n",
                        "====================\n",
                        "Gender_Female_n:\n",
                        "--------------------\n",
                        "Min Gender_Female_n value: 7.0\n",
                        "Max Gender_Female_n value: 3970.0\n",
                        "--------------------\n",
                        "Gender_Female_n Mean: 656.83\n",
                        "--------------------\n",
                        "Gender_Female_n Standard Deviation: 1047.83\n",
                        "====================\n",
                        "Gender_Male_n:\n",
                        "--------------------\n",
                        "Min Gender_Male_n value: 21.0\n",
                        "Max Gender_Male_n value: 4510.0\n",
                        "--------------------\n",
                        "Gender_Male_n Mean: 711.98\n",
                        "--------------------\n",
                        "Gender_Male_n Standard Deviation: 1235.44\n",
                        "====================\n",
                        "Gender_Female_% per Sector:\n",
                        "--------------------\n",
                        "Min Gender_Female_% per Sector value: 12.5\n",
                        "Max Gender_Female_% per Sector value: 84.299\n",
                        "--------------------\n",
                        "Gender_Female_% per Sector Mean: 45.36\n",
                        "--------------------\n",
                        "Gender_Female_% per Sector Standard Deviation: 19.5\n",
                        "====================\n",
                        "Gender_Male_% per Sector:\n",
                        "--------------------\n",
                        "Min Gender_Male_% per Sector value: 15.632\n",
                        "Max Gender_Male_% per Sector value: 87.5\n",
                        "--------------------\n",
                        "Gender_Male_% per Sector Mean: 54.59\n",
                        "--------------------\n",
                        "Gender_Male_% per Sector Standard Deviation: 19.53\n",
                        "====================\n",
                        "Age:\n",
                        "--------------------\n",
                        "Age Counts:\n",
                        "Age\n",
                        "Mixed Age    197629\n",
                        "Older         62741\n",
                        "Younger       46948\n",
                        "Name: count, dtype: int64\n",
                        "--------------------\n",
                        "Age Percentages:\n",
                        "Age\n",
                        "Mixed Age   64.30\n",
                        "Older       20.40\n",
                        "Younger     15.30\n",
                        "Name: proportion, dtype: float64\n",
                        "--------------------\n",
                        "Age not available.\n",
                        "====================\n",
                        "Age_Num:\n",
                        "--------------------\n",
                        "Age_Num Counts:\n",
                        "Age_Num\n",
                        "1    197629\n",
                        "0     62741\n",
                        "2     46948\n",
                        "Name: count, dtype: int64\n",
                        "--------------------\n",
                        "Age_Num Percentages:\n",
                        "Age_Num\n",
                        "1   64.30\n",
                        "0   20.40\n",
                        "2   15.30\n",
                        "Name: proportion, dtype: float64\n",
                        "--------------------\n",
                        "Min Age_Num value: 0.0\n",
                        "Max Age_Num value: 2.0\n",
                        "--------------------\n",
                        "Age_Num Mean: 0.95\n",
                        "--------------------\n",
                        "Age_Num Standard Deviation: 0.6\n",
                        "====================\n",
                        "Age_Older:\n",
                        "--------------------\n",
                        "Age_Older Counts:\n",
                        "Age_Older\n",
                        "0    244577\n",
                        "1     62741\n",
                        "Name: count, dtype: int64\n",
                        "--------------------\n",
                        "Age_Older Percentages:\n",
                        "Age_Older\n",
                        "0   79.60\n",
                        "1   20.40\n",
                        "Name: proportion, dtype: float64\n",
                        "--------------------\n",
                        "Min Age_Older value: 0.0\n",
                        "Max Age_Older value: 1.0\n",
                        "--------------------\n",
                        "Age_Older Mean: 0.2\n",
                        "--------------------\n",
                        "Age_Older Standard Deviation: 0.4\n",
                        "====================\n",
                        "Age_Mixed:\n",
                        "--------------------\n",
                        "Age_Mixed Counts:\n",
                        "Age_Mixed\n",
                        "1    197629\n",
                        "0    109689\n",
                        "Name: count, dtype: int64\n",
                        "--------------------\n",
                        "Age_Mixed Percentages:\n",
                        "Age_Mixed\n",
                        "1   64.30\n",
                        "0   35.70\n",
                        "Name: proportion, dtype: float64\n",
                        "--------------------\n",
                        "Min Age_Mixed value: 0.0\n",
                        "Max Age_Mixed value: 1.0\n",
                        "--------------------\n",
                        "Age_Mixed Mean: 0.64\n",
                        "--------------------\n",
                        "Age_Mixed Standard Deviation: 0.48\n",
                        "====================\n",
                        "Age_Younger:\n",
                        "--------------------\n",
                        "Age_Younger Counts:\n",
                        "Age_Younger\n",
                        "0    260370\n",
                        "1     46948\n",
                        "Name: count, dtype: int64\n",
                        "--------------------\n",
                        "Age_Younger Percentages:\n",
                        "Age_Younger\n",
                        "0   84.70\n",
                        "1   15.30\n",
                        "Name: proportion, dtype: float64\n",
                        "--------------------\n",
                        "Min Age_Younger value: 0.0\n",
                        "Max Age_Younger value: 1.0\n",
                        "--------------------\n",
                        "Age_Younger Mean: 0.15\n",
                        "--------------------\n",
                        "Age_Younger Standard Deviation: 0.36\n",
                        "====================\n",
                        "Age_Older_n:\n",
                        "--------------------\n",
                        "Min Age_Older_n value: 15.0\n",
                        "Max Age_Older_n value: 2844.0\n",
                        "--------------------\n",
                        "Age_Older_n Mean: 528.4\n",
                        "--------------------\n",
                        "Age_Older_n Standard Deviation: 796.78\n",
                        "====================\n",
                        "Age_Younger_n:\n",
                        "--------------------\n",
                        "Min Age_Younger_n value: 13.0\n",
                        "Max Age_Younger_n value: 5228.0\n",
                        "--------------------\n",
                        "Age_Younger_n Mean: 840.01\n",
                        "--------------------\n",
                        "Age_Younger_n Standard Deviation: 1437.87\n",
                        "====================\n",
                        "Age_Older_% per Sector:\n",
                        "--------------------\n",
                        "Min Age_Older_% per Sector value: 18.939\n",
                        "Max Age_Older_% per Sector value: 58.333\n",
                        "--------------------\n",
                        "Age_Older_% per Sector Mean: 40.86\n",
                        "--------------------\n",
                        "Age_Older_% per Sector Standard Deviation: 10.12\n",
                        "====================\n",
                        "Age_Younger_% per Sector:\n",
                        "--------------------\n",
                        "Min Age_Younger_% per Sector value: 44.444\n",
                        "Max Age_Younger_% per Sector value: 80.808\n",
                        "--------------------\n",
                        "Age_Younger_% per Sector Mean: 59.04\n",
                        "--------------------\n",
                        "Age_Younger_% per Sector Standard Deviation: 9.98\n",
                        "\n",
                        "\n"
                    ]
                }
            ],
            "source": [
                "# Job Sentence info\n",
                "get_df_info(df_jobs, ivs_all=ivs_all)\n"
            ]
        },
        {
            "cell_type": "code",
            "execution_count": 9,
            "id": "5deddb9d",
            "metadata": {},
            "outputs": [],
            "source": [
                "assert len(df_jobs) > 0 and isinstance(df_jobs, pd.DataFrame), f'ERORR: LENGTH OF DF = {len(df_jobs)}'\n",
                "df_jobs.to_pickle(f'{df_save_dir}df_jobs_tokenized_spacy.pkl')\n",
                "df_jobs.to_csv(f'{df_save_dir}df_jobs_tokenized_spacy.csv', index=False)\n"
            ]
        },
        {
            "cell_type": "markdown",
            "id": "e7f002d2",
            "metadata": {},
            "source": [
                "# Use NLTK to tokenize sentences\n"
            ]
        },
        {
            "cell_type": "markdown",
            "id": "92922872",
            "metadata": {},
            "source": [
                "### START HERE IF SOURCING FROM DF_JOBS_TOKENIZED_SPACY\n",
                "### PLEASE SET CORRECT DIRECTORY PATHS BELOW\n"
            ]
        },
        {
            "cell_type": "code",
            "execution_count": 10,
            "id": "9fae46f4",
            "metadata": {},
            "outputs": [],
            "source": [
                "import os # type:ignore # isort:skip # fmt:skip # noqa # nopep8\n",
                "import sys # type:ignore # isort:skip # fmt:skip # noqa # nopep8\n",
                "from pathlib import Path # type:ignore # isort:skip # fmt:skip # noqa # nopep8\n",
                "\n",
                "mod = sys.modules[__name__]\n",
                "\n",
                "code_dir = None\n",
                "code_dir_name = 'Code'\n",
                "unwanted_subdir_name = 'Analysis'\n",
                "\n",
                "if code_dir_name not in str(Path.cwd()).split('/')[-1]:\n",
                "    for _ in range(5):\n",
                "\n",
                "        parent_path = str(Path.cwd().parents[_]).split('/')[-1]\n",
                "\n",
                "        if (code_dir_name in parent_path) and (unwanted_subdir_name not in parent_path):\n",
                "\n",
                "            code_dir = str(Path.cwd().parents[_])\n",
                "\n",
                "            if code_dir is not None:\n",
                "                break\n",
                "else:\n",
                "    code_dir = Path.cwd()\n",
                "sys.path.append(code_dir)\n",
                "\n",
                "# %load_ext autoreload\n",
                "# %autoreload 2\n"
            ]
        },
        {
            "cell_type": "code",
            "execution_count": 11,
            "id": "e7cbbc2a",
            "metadata": {},
            "outputs": [],
            "source": [
                "from setup_module.imports import * # type:ignore # isort:skip # fmt:skip # noqa # nopep8\n"
            ]
        },
        {
            "cell_type": "code",
            "execution_count": 12,
            "id": "5011ea0a",
            "metadata": {},
            "outputs": [],
            "source": [
                "df_jobs = pd.read_pickle(f'{df_save_dir}df_jobs_tokenized_spacy.pkl')\n"
            ]
        },
        {
            "cell_type": "code",
            "execution_count": 13,
            "id": "9c8a9f1e",
            "metadata": {},
            "outputs": [
                {
                    "name": "stdout",
                    "output_type": "stream",
                    "text": [
                        "<class 'pandas.core.frame.DataFrame'>\n",
                        "Index: 307318 entries, 0 to 408598\n",
                        "Data columns (total 76 columns):\n",
                        " #   Column                                            Non-Null Count   Dtype   \n",
                        "---  ------                                            --------------   -----   \n",
                        " 0   Search Keyword                                    307318 non-null  object  \n",
                        " 1   Platform                                          307318 non-null  object  \n",
                        " 2   Job ID                                            307318 non-null  object  \n",
                        " 3   Job Title                                         307318 non-null  object  \n",
                        " 4   Company Name                                      307313 non-null  object  \n",
                        " 5   Location                                          307318 non-null  object  \n",
                        " 6   Job Description                                   307318 non-null  object  \n",
                        " 7   Rating                                            165995 non-null  float64 \n",
                        " 8   Employment Type                                   281192 non-null  object  \n",
                        " 9   Company URL                                       300725 non-null  object  \n",
                        " 10  Job URL                                           307318 non-null  object  \n",
                        " 11  Job Age                                           307318 non-null  object  \n",
                        " 12  Job Age Number                                    307318 non-null  object  \n",
                        " 13  Collection Date                                   307318 non-null  object  \n",
                        " 14  Data Row                                          141182 non-null  float64 \n",
                        " 15  Tracking ID                                       141182 non-null  object  \n",
                        " 16  Industry                                          167449 non-null  object  \n",
                        " 17  Job Date                                          141323 non-null  object  \n",
                        " 18  Type of ownership                                 26126 non-null   object  \n",
                        " 19  Language                                          307318 non-null  object  \n",
                        " 20  Dutch Requirement in Job Ad                       307318 non-null  object  \n",
                        " 21  English Requirement in Job Ad                     307318 non-null  object  \n",
                        " 22  Dutch Requirement in Job Ad_No                    307318 non-null  int64   \n",
                        " 23  Dutch Requirement in Job Ad_Yes                   307318 non-null  int64   \n",
                        " 24  English Requirement in Job Ad_No                  307318 non-null  int64   \n",
                        " 25  English Requirement in Job Ad_Yes                 307318 non-null  int64   \n",
                        " 26  Sector Code                                       307318 non-null  object  \n",
                        " 27  Sector                                            307318 non-null  object  \n",
                        " 28  Keywords Count                                    307318 non-null  float64 \n",
                        " 29  Gender_Female_n                                   307318 non-null  float64 \n",
                        " 30  Gender_Female_% per Sector                        307318 non-null  float64 \n",
                        " 31  Gender_Female_% per Social Category               307318 non-null  float64 \n",
                        " 32  Gender_Female_% per Workforce                     307318 non-null  float64 \n",
                        " 33  Gender_Male_n                                     307318 non-null  float64 \n",
                        " 34  Gender_Male_% per Sector                          307318 non-null  float64 \n",
                        " 35  Gender_Male_% per Social Category                 307318 non-null  float64 \n",
                        " 36  Gender_Male_% per Workforce                       307318 non-null  float64 \n",
                        " 37  Gender                                            307318 non-null  object  \n",
                        " 38  Age_Older_n                                       307318 non-null  float64 \n",
                        " 39  Age_Older_% per Sector                            307318 non-null  float64 \n",
                        " 40  Age_Older_% per Social Category                   307318 non-null  float64 \n",
                        " 41  Age_Older_% per Workforce                         307318 non-null  float64 \n",
                        " 42  Age_Younger_n                                     307318 non-null  float64 \n",
                        " 43  Age_Younger_% per Sector                          307318 non-null  float64 \n",
                        " 44  Age_Younger_% per Social Category                 307318 non-null  float64 \n",
                        " 45  Age_Younger_% per Workforce                       307318 non-null  float64 \n",
                        " 46  Age                                               307318 non-null  object  \n",
                        " 47  Sector_n                                          307318 non-null  float64 \n",
                        " 48  % Sector per Workforce                            307318 non-null  float64 \n",
                        " 49  Gender_Female                                     307318 non-null  int64   \n",
                        " 50  Gender_Male                                       307318 non-null  int64   \n",
                        " 51  Gender_Mixed                                      307318 non-null  int64   \n",
                        " 52  Age_Mixed                                         307318 non-null  int64   \n",
                        " 53  Age_Older                                         307318 non-null  int64   \n",
                        " 54  Age_Younger                                       307318 non-null  int64   \n",
                        " 55  Gender_Num                                        307318 non-null  int64   \n",
                        " 56  Age_Num                                           307318 non-null  int64   \n",
                        " 57  Platform_Num                                      307318 non-null  int64   \n",
                        " 58  Platform_LinkedIn                                 307318 non-null  int64   \n",
                        " 59  Platform_Indeed                                   307318 non-null  int64   \n",
                        " 60  Platform_Glassdoor                                307318 non-null  int64   \n",
                        " 61  Job Description spacy_sentencized                 307318 non-null  object  \n",
                        " 62  Job Description num_words                         307318 non-null  int64   \n",
                        " 63  Job Description num_unique_words                  307318 non-null  int64   \n",
                        " 64  Job Description num_chars                         307318 non-null  int64   \n",
                        " 65  Job Description num_chars_no_whitespact_and_punt  307318 non-null  int64   \n",
                        " 66  Job Description num_punctuations                  307318 non-null  int64   \n",
                        " 67  Job Description spacy_sentencized_lower           307318 non-null  object  \n",
                        " 68  Dutch Requirement in Sentence                     307318 non-null  category\n",
                        " 69  English Requirement in Sentence                   307318 non-null  category\n",
                        " 70  Dutch Requirement in Sentence_No                  307318 non-null  int64   \n",
                        " 71  Dutch Requirement in Sentence_Yes                 307318 non-null  int64   \n",
                        " 72  English Requirement in Sentence_No                307318 non-null  int64   \n",
                        " 73  English Requirement in Sentence_Yes               307318 non-null  int64   \n",
                        " 74  Job Description spacy_tokenized                   307318 non-null  object  \n",
                        " 75  Job Description spacy_sentencized_cleaned         307318 non-null  object  \n",
                        "dtypes: category(2), float64(21), int64(25), object(28)\n",
                        "memory usage: 176.4+ MB\n"
                    ]
                }
            ],
            "source": [
                "df_jobs.info()\n"
            ]
        },
        {
            "cell_type": "code",
            "execution_count": 14,
            "id": "4475248f",
            "metadata": {},
            "outputs": [
                {
                    "data": {
                        "application/vnd.jupyter.widget-view+json": {
                            "model_id": "98223914b1bb4c55a3be69b3d1cf50b8",
                            "version_major": 2,
                            "version_minor": 0
                        },
                        "text/plain": [
                            "progress-bar:   0%|          | 0/307318 [00:00<?, ?it/s]"
                        ]
                    },
                    "metadata": {},
                    "output_type": "display_data"
                },
                {
                    "name": "stdout",
                    "output_type": "stream",
                    "text": [
                        "CPU times: user 5min 22s, sys: 1min 40s, total: 7min 3s\n",
                        "Wall time: 7min 29s\n"
                    ]
                }
            ],
            "source": [
                "%%time\n",
                "# Tokenize with NLTK\n",
                "df_jobs['Job Description nltk_tokenized'] = df_jobs['Job Description spacy_sentencized'].progress_apply(\n",
                "    lambda job_sentence: [\n",
                "        str(token.strip().lower()) \n",
                "        for token in word_tokenize(job_sentence) \n",
                "        if len(token) != 0 \n",
                "        and token != '...' \n",
                "        and not token.lower() in nan_list\n",
                "        and not token.lower() in custom_punct_chars\n",
                "        and not token.lower() in set(stopwords.words('english')) \n",
                "        and not token.lower() in list(string.punctuation)\n",
                "        and not token.lower() in list(string.whitespace)\n",
                "        and (t.lower() in list(string.printable) for t in token.lower())\n",
                "    ]\n",
                ")\n",
                "\n",
                "assert len(df_jobs) > 0 and isinstance(df_jobs, pd.DataFrame), f'ERORR: LENGTH OF DF = {len(df_jobs)}'\n",
                "df_jobs.to_pickle(f'{df_save_dir}df_jobs_tokenized_spacy_nltk.pkl')\n",
                "df_jobs.to_csv(f'{df_save_dir}df_jobs_tokenized_spacy_nltk.csv', index=False)\n"
            ]
        },
        {
            "cell_type": "code",
            "execution_count": 15,
            "id": "3bbd5d3f",
            "metadata": {},
            "outputs": [
                {
                    "data": {
                        "text/plain": [
                            "0                                             [client]\n",
                            "1    [global, kyc, organisation, part, ing, 's, coo...\n",
                            "2    [purpose, enabling, people, organisations, use...\n",
                            "3    [global, kyc, organisation, first, line, defen...\n",
                            "4    [global, kyc, organisation, working, many, col...\n",
                            "Name: Job Description nltk_tokenized, dtype: object"
                        ]
                    },
                    "execution_count": 15,
                    "metadata": {},
                    "output_type": "execute_result"
                }
            ],
            "source": [
                "df_jobs['Job Description nltk_tokenized'].head()\n"
            ]
        },
        {
            "cell_type": "code",
            "execution_count": 16,
            "id": "43044b19",
            "metadata": {},
            "outputs": [],
            "source": [
                "# Keep the some of the [] rows because they contain 'Who are we', 'What we do', etc. and remove '1. ' and '2. ' etc. abd 'T)'\n",
                "df_jobs = df_jobs.loc[~df_jobs['Job Description spacy_sentencized'].str.match('^\\d\\.|.\\)')]\n"
            ]
        },
        {
            "cell_type": "code",
            "execution_count": 17,
            "id": "86da6772",
            "metadata": {},
            "outputs": [
                {
                    "name": "stdout",
                    "output_type": "stream",
                    "text": [
                        "<class 'pandas.core.frame.DataFrame'>\n",
                        "Index: 307154 entries, 0 to 408598\n",
                        "Data columns (total 77 columns):\n",
                        " #   Column                                            Non-Null Count   Dtype   \n",
                        "---  ------                                            --------------   -----   \n",
                        " 0   Search Keyword                                    307154 non-null  object  \n",
                        " 1   Platform                                          307154 non-null  object  \n",
                        " 2   Job ID                                            307154 non-null  object  \n",
                        " 3   Job Title                                         307154 non-null  object  \n",
                        " 4   Company Name                                      307149 non-null  object  \n",
                        " 5   Location                                          307154 non-null  object  \n",
                        " 6   Job Description                                   307154 non-null  object  \n",
                        " 7   Rating                                            165831 non-null  float64 \n",
                        " 8   Employment Type                                   281052 non-null  object  \n",
                        " 9   Company URL                                       300561 non-null  object  \n",
                        " 10  Job URL                                           307154 non-null  object  \n",
                        " 11  Job Age                                           307154 non-null  object  \n",
                        " 12  Job Age Number                                    307154 non-null  object  \n",
                        " 13  Collection Date                                   307154 non-null  object  \n",
                        " 14  Data Row                                          141182 non-null  float64 \n",
                        " 15  Tracking ID                                       141182 non-null  object  \n",
                        " 16  Industry                                          167425 non-null  object  \n",
                        " 17  Job Date                                          141323 non-null  object  \n",
                        " 18  Type of ownership                                 26102 non-null   object  \n",
                        " 19  Language                                          307154 non-null  object  \n",
                        " 20  Dutch Requirement in Job Ad                       307154 non-null  object  \n",
                        " 21  English Requirement in Job Ad                     307154 non-null  object  \n",
                        " 22  Dutch Requirement in Job Ad_No                    307154 non-null  int64   \n",
                        " 23  Dutch Requirement in Job Ad_Yes                   307154 non-null  int64   \n",
                        " 24  English Requirement in Job Ad_No                  307154 non-null  int64   \n",
                        " 25  English Requirement in Job Ad_Yes                 307154 non-null  int64   \n",
                        " 26  Sector Code                                       307154 non-null  object  \n",
                        " 27  Sector                                            307154 non-null  object  \n",
                        " 28  Keywords Count                                    307154 non-null  float64 \n",
                        " 29  Gender_Female_n                                   307154 non-null  float64 \n",
                        " 30  Gender_Female_% per Sector                        307154 non-null  float64 \n",
                        " 31  Gender_Female_% per Social Category               307154 non-null  float64 \n",
                        " 32  Gender_Female_% per Workforce                     307154 non-null  float64 \n",
                        " 33  Gender_Male_n                                     307154 non-null  float64 \n",
                        " 34  Gender_Male_% per Sector                          307154 non-null  float64 \n",
                        " 35  Gender_Male_% per Social Category                 307154 non-null  float64 \n",
                        " 36  Gender_Male_% per Workforce                       307154 non-null  float64 \n",
                        " 37  Gender                                            307154 non-null  object  \n",
                        " 38  Age_Older_n                                       307154 non-null  float64 \n",
                        " 39  Age_Older_% per Sector                            307154 non-null  float64 \n",
                        " 40  Age_Older_% per Social Category                   307154 non-null  float64 \n",
                        " 41  Age_Older_% per Workforce                         307154 non-null  float64 \n",
                        " 42  Age_Younger_n                                     307154 non-null  float64 \n",
                        " 43  Age_Younger_% per Sector                          307154 non-null  float64 \n",
                        " 44  Age_Younger_% per Social Category                 307154 non-null  float64 \n",
                        " 45  Age_Younger_% per Workforce                       307154 non-null  float64 \n",
                        " 46  Age                                               307154 non-null  object  \n",
                        " 47  Sector_n                                          307154 non-null  float64 \n",
                        " 48  % Sector per Workforce                            307154 non-null  float64 \n",
                        " 49  Gender_Female                                     307154 non-null  int64   \n",
                        " 50  Gender_Male                                       307154 non-null  int64   \n",
                        " 51  Gender_Mixed                                      307154 non-null  int64   \n",
                        " 52  Age_Mixed                                         307154 non-null  int64   \n",
                        " 53  Age_Older                                         307154 non-null  int64   \n",
                        " 54  Age_Younger                                       307154 non-null  int64   \n",
                        " 55  Gender_Num                                        307154 non-null  int64   \n",
                        " 56  Age_Num                                           307154 non-null  int64   \n",
                        " 57  Platform_Num                                      307154 non-null  int64   \n",
                        " 58  Platform_LinkedIn                                 307154 non-null  int64   \n",
                        " 59  Platform_Indeed                                   307154 non-null  int64   \n",
                        " 60  Platform_Glassdoor                                307154 non-null  int64   \n",
                        " 61  Job Description spacy_sentencized                 307154 non-null  object  \n",
                        " 62  Job Description num_words                         307154 non-null  int64   \n",
                        " 63  Job Description num_unique_words                  307154 non-null  int64   \n",
                        " 64  Job Description num_chars                         307154 non-null  int64   \n",
                        " 65  Job Description num_chars_no_whitespact_and_punt  307154 non-null  int64   \n",
                        " 66  Job Description num_punctuations                  307154 non-null  int64   \n",
                        " 67  Job Description spacy_sentencized_lower           307154 non-null  object  \n",
                        " 68  Dutch Requirement in Sentence                     307154 non-null  category\n",
                        " 69  English Requirement in Sentence                   307154 non-null  category\n",
                        " 70  Dutch Requirement in Sentence_No                  307154 non-null  int64   \n",
                        " 71  Dutch Requirement in Sentence_Yes                 307154 non-null  int64   \n",
                        " 72  English Requirement in Sentence_No                307154 non-null  int64   \n",
                        " 73  English Requirement in Sentence_Yes               307154 non-null  int64   \n",
                        " 74  Job Description spacy_tokenized                   307154 non-null  object  \n",
                        " 75  Job Description spacy_sentencized_cleaned         307154 non-null  object  \n",
                        " 76  Job Description nltk_tokenized                    307154 non-null  object  \n",
                        "dtypes: category(2), float64(21), int64(25), object(29)\n",
                        "memory usage: 178.7+ MB\n"
                    ]
                }
            ],
            "source": [
                "df_jobs.info()\n"
            ]
        },
        {
            "cell_type": "code",
            "execution_count": 18,
            "id": "69e6640b",
            "metadata": {},
            "outputs": [],
            "source": [
                "assert len(df_jobs) > 0 and isinstance(df_jobs, pd.DataFrame), f'ERORR: LENGTH OF DF = {len(df_jobs)}'\n",
                "df_jobs.to_pickle(f'{df_save_dir}df_jobs_tokenized_spacy_nltk.pkl')\n",
                "df_jobs.to_csv(f'{df_save_dir}df_jobs_tokenized_spacy_nltk.csv', index=False)\n"
            ]
        },
        {
            "cell_type": "markdown",
            "id": "81e54149",
            "metadata": {},
            "source": [
                "# Use gensim to tokenize sentences\n"
            ]
        },
        {
            "cell_type": "markdown",
            "id": "ff307dba",
            "metadata": {},
            "source": [
                "### START HERE IF SOURCING FROM DF_JOBS_TOKENIZED_SPACY_NLTK\n",
                "### PLEASE SET CORRECT DIRECTORY PATHS BELOW\n"
            ]
        },
        {
            "cell_type": "code",
            "execution_count": 19,
            "id": "3f89cb65",
            "metadata": {},
            "outputs": [],
            "source": [
                "import os # type:ignore # isort:skip # fmt:skip # noqa # nopep8\n",
                "import sys # type:ignore # isort:skip # fmt:skip # noqa # nopep8\n",
                "from pathlib import Path # type:ignore # isort:skip # fmt:skip # noqa # nopep8\n",
                "\n",
                "mod = sys.modules[__name__]\n",
                "\n",
                "code_dir = None\n",
                "code_dir_name = 'Code'\n",
                "unwanted_subdir_name = 'Analysis'\n",
                "\n",
                "if code_dir_name not in str(Path.cwd()).split('/')[-1]:\n",
                "    for _ in range(5):\n",
                "\n",
                "        parent_path = str(Path.cwd().parents[_]).split('/')[-1]\n",
                "\n",
                "        if (code_dir_name in parent_path) and (unwanted_subdir_name not in parent_path):\n",
                "\n",
                "            code_dir = str(Path.cwd().parents[_])\n",
                "\n",
                "            if code_dir is not None:\n",
                "                break\n",
                "else:\n",
                "    code_dir = Path.cwd()\n",
                "sys.path.append(code_dir)\n",
                "\n",
                "# %load_ext autoreload\n",
                "# %autoreload 2\n"
            ]
        },
        {
            "cell_type": "code",
            "execution_count": 20,
            "id": "4ddc01de",
            "metadata": {},
            "outputs": [],
            "source": [
                "from setup_module.imports import * # type:ignore # isort:skip # fmt:skip # noqa # nopep8\n"
            ]
        },
        {
            "cell_type": "code",
            "execution_count": 21,
            "id": "c13d88fb",
            "metadata": {},
            "outputs": [],
            "source": [
                "df_jobs = pd.read_pickle(f'{df_save_dir}df_jobs_tokenized_spacy_nltk.pkl')\n"
            ]
        },
        {
            "cell_type": "code",
            "execution_count": 22,
            "id": "bc48f290",
            "metadata": {},
            "outputs": [
                {
                    "name": "stdout",
                    "output_type": "stream",
                    "text": [
                        "<class 'pandas.core.frame.DataFrame'>\n",
                        "Index: 307154 entries, 0 to 408598\n",
                        "Data columns (total 77 columns):\n",
                        " #   Column                                            Non-Null Count   Dtype   \n",
                        "---  ------                                            --------------   -----   \n",
                        " 0   Search Keyword                                    307154 non-null  object  \n",
                        " 1   Platform                                          307154 non-null  object  \n",
                        " 2   Job ID                                            307154 non-null  object  \n",
                        " 3   Job Title                                         307154 non-null  object  \n",
                        " 4   Company Name                                      307149 non-null  object  \n",
                        " 5   Location                                          307154 non-null  object  \n",
                        " 6   Job Description                                   307154 non-null  object  \n",
                        " 7   Rating                                            165831 non-null  float64 \n",
                        " 8   Employment Type                                   281052 non-null  object  \n",
                        " 9   Company URL                                       300561 non-null  object  \n",
                        " 10  Job URL                                           307154 non-null  object  \n",
                        " 11  Job Age                                           307154 non-null  object  \n",
                        " 12  Job Age Number                                    307154 non-null  object  \n",
                        " 13  Collection Date                                   307154 non-null  object  \n",
                        " 14  Data Row                                          141182 non-null  float64 \n",
                        " 15  Tracking ID                                       141182 non-null  object  \n",
                        " 16  Industry                                          167425 non-null  object  \n",
                        " 17  Job Date                                          141323 non-null  object  \n",
                        " 18  Type of ownership                                 26102 non-null   object  \n",
                        " 19  Language                                          307154 non-null  object  \n",
                        " 20  Dutch Requirement in Job Ad                       307154 non-null  object  \n",
                        " 21  English Requirement in Job Ad                     307154 non-null  object  \n",
                        " 22  Dutch Requirement in Job Ad_No                    307154 non-null  int64   \n",
                        " 23  Dutch Requirement in Job Ad_Yes                   307154 non-null  int64   \n",
                        " 24  English Requirement in Job Ad_No                  307154 non-null  int64   \n",
                        " 25  English Requirement in Job Ad_Yes                 307154 non-null  int64   \n",
                        " 26  Sector Code                                       307154 non-null  object  \n",
                        " 27  Sector                                            307154 non-null  object  \n",
                        " 28  Keywords Count                                    307154 non-null  float64 \n",
                        " 29  Gender_Female_n                                   307154 non-null  float64 \n",
                        " 30  Gender_Female_% per Sector                        307154 non-null  float64 \n",
                        " 31  Gender_Female_% per Social Category               307154 non-null  float64 \n",
                        " 32  Gender_Female_% per Workforce                     307154 non-null  float64 \n",
                        " 33  Gender_Male_n                                     307154 non-null  float64 \n",
                        " 34  Gender_Male_% per Sector                          307154 non-null  float64 \n",
                        " 35  Gender_Male_% per Social Category                 307154 non-null  float64 \n",
                        " 36  Gender_Male_% per Workforce                       307154 non-null  float64 \n",
                        " 37  Gender                                            307154 non-null  object  \n",
                        " 38  Age_Older_n                                       307154 non-null  float64 \n",
                        " 39  Age_Older_% per Sector                            307154 non-null  float64 \n",
                        " 40  Age_Older_% per Social Category                   307154 non-null  float64 \n",
                        " 41  Age_Older_% per Workforce                         307154 non-null  float64 \n",
                        " 42  Age_Younger_n                                     307154 non-null  float64 \n",
                        " 43  Age_Younger_% per Sector                          307154 non-null  float64 \n",
                        " 44  Age_Younger_% per Social Category                 307154 non-null  float64 \n",
                        " 45  Age_Younger_% per Workforce                       307154 non-null  float64 \n",
                        " 46  Age                                               307154 non-null  object  \n",
                        " 47  Sector_n                                          307154 non-null  float64 \n",
                        " 48  % Sector per Workforce                            307154 non-null  float64 \n",
                        " 49  Gender_Female                                     307154 non-null  int64   \n",
                        " 50  Gender_Male                                       307154 non-null  int64   \n",
                        " 51  Gender_Mixed                                      307154 non-null  int64   \n",
                        " 52  Age_Mixed                                         307154 non-null  int64   \n",
                        " 53  Age_Older                                         307154 non-null  int64   \n",
                        " 54  Age_Younger                                       307154 non-null  int64   \n",
                        " 55  Gender_Num                                        307154 non-null  int64   \n",
                        " 56  Age_Num                                           307154 non-null  int64   \n",
                        " 57  Platform_Num                                      307154 non-null  int64   \n",
                        " 58  Platform_LinkedIn                                 307154 non-null  int64   \n",
                        " 59  Platform_Indeed                                   307154 non-null  int64   \n",
                        " 60  Platform_Glassdoor                                307154 non-null  int64   \n",
                        " 61  Job Description spacy_sentencized                 307154 non-null  object  \n",
                        " 62  Job Description num_words                         307154 non-null  int64   \n",
                        " 63  Job Description num_unique_words                  307154 non-null  int64   \n",
                        " 64  Job Description num_chars                         307154 non-null  int64   \n",
                        " 65  Job Description num_chars_no_whitespact_and_punt  307154 non-null  int64   \n",
                        " 66  Job Description num_punctuations                  307154 non-null  int64   \n",
                        " 67  Job Description spacy_sentencized_lower           307154 non-null  object  \n",
                        " 68  Dutch Requirement in Sentence                     307154 non-null  category\n",
                        " 69  English Requirement in Sentence                   307154 non-null  category\n",
                        " 70  Dutch Requirement in Sentence_No                  307154 non-null  int64   \n",
                        " 71  Dutch Requirement in Sentence_Yes                 307154 non-null  int64   \n",
                        " 72  English Requirement in Sentence_No                307154 non-null  int64   \n",
                        " 73  English Requirement in Sentence_Yes               307154 non-null  int64   \n",
                        " 74  Job Description spacy_tokenized                   307154 non-null  object  \n",
                        " 75  Job Description spacy_sentencized_cleaned         307154 non-null  object  \n",
                        " 76  Job Description nltk_tokenized                    307154 non-null  object  \n",
                        "dtypes: category(2), float64(21), int64(25), object(29)\n",
                        "memory usage: 178.7+ MB\n"
                    ]
                }
            ],
            "source": [
                "df_jobs.info()\n"
            ]
        },
        {
            "cell_type": "code",
            "execution_count": 23,
            "id": "e95fec77",
            "metadata": {},
            "outputs": [
                {
                    "data": {
                        "application/vnd.jupyter.widget-view+json": {
                            "model_id": "1d591b7a2d874cffbd681b216109384a",
                            "version_major": 2,
                            "version_minor": 0
                        },
                        "text/plain": [
                            "progress-bar:   0%|          | 0/307154 [00:00<?, ?it/s]"
                        ]
                    },
                    "metadata": {},
                    "output_type": "display_data"
                },
                {
                    "name": "stdout",
                    "output_type": "stream",
                    "text": [
                        "CPU times: user 56.8 s, sys: 2.14 s, total: 58.9 s\n",
                        "Wall time: 1min 2s\n"
                    ]
                }
            ],
            "source": [
                "%%time\n",
                "df_jobs['Job Description gensim_tokenized'] = df_jobs['Job Description spacy_sentencized'].progress_apply(\n",
                "    lambda sentence: preprocess_string(re.sub(pattern, '.', sentence.strip().lower()))\n",
                ")\n",
                "\n",
                "assert len(df_jobs) > 0 and isinstance(df_jobs, pd.DataFrame), f'ERORR: LENGTH OF DF = {len(df_jobs)}'\n",
                "df_jobs.to_pickle(f'{df_save_dir}df_jobs_tokenized_spacy_nltk_gensim.pkl')\n",
                "df_jobs.to_csv(f'{df_save_dir}df_jobs_tokenized_spacy_nltk_gensim.csv', index=False)\n"
            ]
        },
        {
            "cell_type": "code",
            "execution_count": 24,
            "id": "1cc29198",
            "metadata": {},
            "outputs": [
                {
                    "data": {
                        "text/plain": [
                            "0                                             [client]\n",
                            "1             [global, kyc, organis, ing, coo, domain]\n",
                            "2    [purpos, enabl, peopl, organis, us, bank, serv...\n",
                            "3    [global, kyc, organis, line, defenc, depart, p...\n",
                            "4    [global, kyc, organis, work, colleagu, differ,...\n",
                            "Name: Job Description gensim_tokenized, dtype: object"
                        ]
                    },
                    "execution_count": 24,
                    "metadata": {},
                    "output_type": "execute_result"
                }
            ],
            "source": [
                "df_jobs['Job Description gensim_tokenized'].head()\n"
            ]
        },
        {
            "cell_type": "code",
            "execution_count": 25,
            "id": "0a69a8de",
            "metadata": {},
            "outputs": [
                {
                    "name": "stdout",
                    "output_type": "stream",
                    "text": [
                        "<class 'pandas.core.frame.DataFrame'>\n",
                        "Index: 307154 entries, 0 to 408598\n",
                        "Data columns (total 78 columns):\n",
                        " #   Column                                            Non-Null Count   Dtype   \n",
                        "---  ------                                            --------------   -----   \n",
                        " 0   Search Keyword                                    307154 non-null  object  \n",
                        " 1   Platform                                          307154 non-null  object  \n",
                        " 2   Job ID                                            307154 non-null  object  \n",
                        " 3   Job Title                                         307154 non-null  object  \n",
                        " 4   Company Name                                      307149 non-null  object  \n",
                        " 5   Location                                          307154 non-null  object  \n",
                        " 6   Job Description                                   307154 non-null  object  \n",
                        " 7   Rating                                            165831 non-null  float64 \n",
                        " 8   Employment Type                                   281052 non-null  object  \n",
                        " 9   Company URL                                       300561 non-null  object  \n",
                        " 10  Job URL                                           307154 non-null  object  \n",
                        " 11  Job Age                                           307154 non-null  object  \n",
                        " 12  Job Age Number                                    307154 non-null  object  \n",
                        " 13  Collection Date                                   307154 non-null  object  \n",
                        " 14  Data Row                                          141182 non-null  float64 \n",
                        " 15  Tracking ID                                       141182 non-null  object  \n",
                        " 16  Industry                                          167425 non-null  object  \n",
                        " 17  Job Date                                          141323 non-null  object  \n",
                        " 18  Type of ownership                                 26102 non-null   object  \n",
                        " 19  Language                                          307154 non-null  object  \n",
                        " 20  Dutch Requirement in Job Ad                       307154 non-null  object  \n",
                        " 21  English Requirement in Job Ad                     307154 non-null  object  \n",
                        " 22  Dutch Requirement in Job Ad_No                    307154 non-null  int64   \n",
                        " 23  Dutch Requirement in Job Ad_Yes                   307154 non-null  int64   \n",
                        " 24  English Requirement in Job Ad_No                  307154 non-null  int64   \n",
                        " 25  English Requirement in Job Ad_Yes                 307154 non-null  int64   \n",
                        " 26  Sector Code                                       307154 non-null  object  \n",
                        " 27  Sector                                            307154 non-null  object  \n",
                        " 28  Keywords Count                                    307154 non-null  float64 \n",
                        " 29  Gender_Female_n                                   307154 non-null  float64 \n",
                        " 30  Gender_Female_% per Sector                        307154 non-null  float64 \n",
                        " 31  Gender_Female_% per Social Category               307154 non-null  float64 \n",
                        " 32  Gender_Female_% per Workforce                     307154 non-null  float64 \n",
                        " 33  Gender_Male_n                                     307154 non-null  float64 \n",
                        " 34  Gender_Male_% per Sector                          307154 non-null  float64 \n",
                        " 35  Gender_Male_% per Social Category                 307154 non-null  float64 \n",
                        " 36  Gender_Male_% per Workforce                       307154 non-null  float64 \n",
                        " 37  Gender                                            307154 non-null  object  \n",
                        " 38  Age_Older_n                                       307154 non-null  float64 \n",
                        " 39  Age_Older_% per Sector                            307154 non-null  float64 \n",
                        " 40  Age_Older_% per Social Category                   307154 non-null  float64 \n",
                        " 41  Age_Older_% per Workforce                         307154 non-null  float64 \n",
                        " 42  Age_Younger_n                                     307154 non-null  float64 \n",
                        " 43  Age_Younger_% per Sector                          307154 non-null  float64 \n",
                        " 44  Age_Younger_% per Social Category                 307154 non-null  float64 \n",
                        " 45  Age_Younger_% per Workforce                       307154 non-null  float64 \n",
                        " 46  Age                                               307154 non-null  object  \n",
                        " 47  Sector_n                                          307154 non-null  float64 \n",
                        " 48  % Sector per Workforce                            307154 non-null  float64 \n",
                        " 49  Gender_Female                                     307154 non-null  int64   \n",
                        " 50  Gender_Male                                       307154 non-null  int64   \n",
                        " 51  Gender_Mixed                                      307154 non-null  int64   \n",
                        " 52  Age_Mixed                                         307154 non-null  int64   \n",
                        " 53  Age_Older                                         307154 non-null  int64   \n",
                        " 54  Age_Younger                                       307154 non-null  int64   \n",
                        " 55  Gender_Num                                        307154 non-null  int64   \n",
                        " 56  Age_Num                                           307154 non-null  int64   \n",
                        " 57  Platform_Num                                      307154 non-null  int64   \n",
                        " 58  Platform_LinkedIn                                 307154 non-null  int64   \n",
                        " 59  Platform_Indeed                                   307154 non-null  int64   \n",
                        " 60  Platform_Glassdoor                                307154 non-null  int64   \n",
                        " 61  Job Description spacy_sentencized                 307154 non-null  object  \n",
                        " 62  Job Description num_words                         307154 non-null  int64   \n",
                        " 63  Job Description num_unique_words                  307154 non-null  int64   \n",
                        " 64  Job Description num_chars                         307154 non-null  int64   \n",
                        " 65  Job Description num_chars_no_whitespact_and_punt  307154 non-null  int64   \n",
                        " 66  Job Description num_punctuations                  307154 non-null  int64   \n",
                        " 67  Job Description spacy_sentencized_lower           307154 non-null  object  \n",
                        " 68  Dutch Requirement in Sentence                     307154 non-null  category\n",
                        " 69  English Requirement in Sentence                   307154 non-null  category\n",
                        " 70  Dutch Requirement in Sentence_No                  307154 non-null  int64   \n",
                        " 71  Dutch Requirement in Sentence_Yes                 307154 non-null  int64   \n",
                        " 72  English Requirement in Sentence_No                307154 non-null  int64   \n",
                        " 73  English Requirement in Sentence_Yes               307154 non-null  int64   \n",
                        " 74  Job Description spacy_tokenized                   307154 non-null  object  \n",
                        " 75  Job Description spacy_sentencized_cleaned         307154 non-null  object  \n",
                        " 76  Job Description nltk_tokenized                    307154 non-null  object  \n",
                        " 77  Job Description gensim_tokenized                  307154 non-null  object  \n",
                        "dtypes: category(2), float64(21), int64(25), object(30)\n",
                        "memory usage: 181.0+ MB\n"
                    ]
                }
            ],
            "source": [
                "df_jobs.info()\n"
            ]
        },
        {
            "cell_type": "code",
            "execution_count": 26,
            "id": "a62be70e",
            "metadata": {},
            "outputs": [],
            "source": [
                "assert len(df_jobs) > 0 and isinstance(df_jobs, pd.DataFrame), f'ERORR: LENGTH OF DF = {len(df_jobs)}'\n",
                "df_jobs.to_pickle(f'{df_save_dir}df_jobs_tokenized_spacy_nltk_gensim.pkl')\n",
                "df_jobs.to_csv(f'{df_save_dir}df_jobs_tokenized_spacy_nltk_gensim.csv', index=False)\n"
            ]
        },
        {
            "cell_type": "markdown",
            "id": "eeb0131f",
            "metadata": {},
            "source": [
                "# Use BERT to tokenize sentences\n"
            ]
        },
        {
            "cell_type": "markdown",
            "id": "efcf30fc",
            "metadata": {},
            "source": [
                "### START HERE IF SOURCING FROM DF_JOBS_TOKENIZED_SPACY_NLTK_GENSIM\n",
                "### PLEASE SET CORRECT DIRECTORY PATHS BELOW\n"
            ]
        },
        {
            "cell_type": "code",
            "execution_count": 27,
            "id": "c81e981f",
            "metadata": {},
            "outputs": [],
            "source": [
                "import os # type:ignore # isort:skip # fmt:skip # noqa # nopep8\n",
                "import sys # type:ignore # isort:skip # fmt:skip # noqa # nopep8\n",
                "from pathlib import Path # type:ignore # isort:skip # fmt:skip # noqa # nopep8\n",
                "\n",
                "mod = sys.modules[__name__]\n",
                "\n",
                "code_dir = None\n",
                "code_dir_name = 'Code'\n",
                "unwanted_subdir_name = 'Analysis'\n",
                "\n",
                "if code_dir_name not in str(Path.cwd()).split('/')[-1]:\n",
                "    for _ in range(5):\n",
                "\n",
                "        parent_path = str(Path.cwd().parents[_]).split('/')[-1]\n",
                "\n",
                "        if (code_dir_name in parent_path) and (unwanted_subdir_name not in parent_path):\n",
                "\n",
                "            code_dir = str(Path.cwd().parents[_])\n",
                "\n",
                "            if code_dir is not None:\n",
                "                break\n",
                "else:\n",
                "    code_dir = Path.cwd()\n",
                "sys.path.append(code_dir)\n",
                "\n",
                "# %load_ext autoreload\n",
                "# %autoreload 2\n"
            ]
        },
        {
            "cell_type": "code",
            "execution_count": 28,
            "id": "df5d59b2",
            "metadata": {},
            "outputs": [],
            "source": [
                "from setup_module.imports import *  # type:ignore # isort:skip # fmt:skip # noqa # nopep8\n"
            ]
        },
        {
            "cell_type": "code",
            "execution_count": 29,
            "id": "ec899945",
            "metadata": {},
            "outputs": [],
            "source": [
                "df_jobs = pd.read_pickle(f'{df_save_dir}df_jobs_tokenized_spacy_nltk_gensim.pkl')\n"
            ]
        },
        {
            "cell_type": "code",
            "execution_count": 30,
            "id": "d42a3b60",
            "metadata": {},
            "outputs": [
                {
                    "name": "stdout",
                    "output_type": "stream",
                    "text": [
                        "<class 'pandas.core.frame.DataFrame'>\n",
                        "Index: 307154 entries, 0 to 408598\n",
                        "Data columns (total 78 columns):\n",
                        " #   Column                                            Non-Null Count   Dtype   \n",
                        "---  ------                                            --------------   -----   \n",
                        " 0   Search Keyword                                    307154 non-null  object  \n",
                        " 1   Platform                                          307154 non-null  object  \n",
                        " 2   Job ID                                            307154 non-null  object  \n",
                        " 3   Job Title                                         307154 non-null  object  \n",
                        " 4   Company Name                                      307149 non-null  object  \n",
                        " 5   Location                                          307154 non-null  object  \n",
                        " 6   Job Description                                   307154 non-null  object  \n",
                        " 7   Rating                                            165831 non-null  float64 \n",
                        " 8   Employment Type                                   281052 non-null  object  \n",
                        " 9   Company URL                                       300561 non-null  object  \n",
                        " 10  Job URL                                           307154 non-null  object  \n",
                        " 11  Job Age                                           307154 non-null  object  \n",
                        " 12  Job Age Number                                    307154 non-null  object  \n",
                        " 13  Collection Date                                   307154 non-null  object  \n",
                        " 14  Data Row                                          141182 non-null  float64 \n",
                        " 15  Tracking ID                                       141182 non-null  object  \n",
                        " 16  Industry                                          167425 non-null  object  \n",
                        " 17  Job Date                                          141323 non-null  object  \n",
                        " 18  Type of ownership                                 26102 non-null   object  \n",
                        " 19  Language                                          307154 non-null  object  \n",
                        " 20  Dutch Requirement in Job Ad                       307154 non-null  object  \n",
                        " 21  English Requirement in Job Ad                     307154 non-null  object  \n",
                        " 22  Dutch Requirement in Job Ad_No                    307154 non-null  int64   \n",
                        " 23  Dutch Requirement in Job Ad_Yes                   307154 non-null  int64   \n",
                        " 24  English Requirement in Job Ad_No                  307154 non-null  int64   \n",
                        " 25  English Requirement in Job Ad_Yes                 307154 non-null  int64   \n",
                        " 26  Sector Code                                       307154 non-null  object  \n",
                        " 27  Sector                                            307154 non-null  object  \n",
                        " 28  Keywords Count                                    307154 non-null  float64 \n",
                        " 29  Gender_Female_n                                   307154 non-null  float64 \n",
                        " 30  Gender_Female_% per Sector                        307154 non-null  float64 \n",
                        " 31  Gender_Female_% per Social Category               307154 non-null  float64 \n",
                        " 32  Gender_Female_% per Workforce                     307154 non-null  float64 \n",
                        " 33  Gender_Male_n                                     307154 non-null  float64 \n",
                        " 34  Gender_Male_% per Sector                          307154 non-null  float64 \n",
                        " 35  Gender_Male_% per Social Category                 307154 non-null  float64 \n",
                        " 36  Gender_Male_% per Workforce                       307154 non-null  float64 \n",
                        " 37  Gender                                            307154 non-null  object  \n",
                        " 38  Age_Older_n                                       307154 non-null  float64 \n",
                        " 39  Age_Older_% per Sector                            307154 non-null  float64 \n",
                        " 40  Age_Older_% per Social Category                   307154 non-null  float64 \n",
                        " 41  Age_Older_% per Workforce                         307154 non-null  float64 \n",
                        " 42  Age_Younger_n                                     307154 non-null  float64 \n",
                        " 43  Age_Younger_% per Sector                          307154 non-null  float64 \n",
                        " 44  Age_Younger_% per Social Category                 307154 non-null  float64 \n",
                        " 45  Age_Younger_% per Workforce                       307154 non-null  float64 \n",
                        " 46  Age                                               307154 non-null  object  \n",
                        " 47  Sector_n                                          307154 non-null  float64 \n",
                        " 48  % Sector per Workforce                            307154 non-null  float64 \n",
                        " 49  Gender_Female                                     307154 non-null  int64   \n",
                        " 50  Gender_Male                                       307154 non-null  int64   \n",
                        " 51  Gender_Mixed                                      307154 non-null  int64   \n",
                        " 52  Age_Mixed                                         307154 non-null  int64   \n",
                        " 53  Age_Older                                         307154 non-null  int64   \n",
                        " 54  Age_Younger                                       307154 non-null  int64   \n",
                        " 55  Gender_Num                                        307154 non-null  int64   \n",
                        " 56  Age_Num                                           307154 non-null  int64   \n",
                        " 57  Platform_Num                                      307154 non-null  int64   \n",
                        " 58  Platform_LinkedIn                                 307154 non-null  int64   \n",
                        " 59  Platform_Indeed                                   307154 non-null  int64   \n",
                        " 60  Platform_Glassdoor                                307154 non-null  int64   \n",
                        " 61  Job Description spacy_sentencized                 307154 non-null  object  \n",
                        " 62  Job Description num_words                         307154 non-null  int64   \n",
                        " 63  Job Description num_unique_words                  307154 non-null  int64   \n",
                        " 64  Job Description num_chars                         307154 non-null  int64   \n",
                        " 65  Job Description num_chars_no_whitespact_and_punt  307154 non-null  int64   \n",
                        " 66  Job Description num_punctuations                  307154 non-null  int64   \n",
                        " 67  Job Description spacy_sentencized_lower           307154 non-null  object  \n",
                        " 68  Dutch Requirement in Sentence                     307154 non-null  category\n",
                        " 69  English Requirement in Sentence                   307154 non-null  category\n",
                        " 70  Dutch Requirement in Sentence_No                  307154 non-null  int64   \n",
                        " 71  Dutch Requirement in Sentence_Yes                 307154 non-null  int64   \n",
                        " 72  English Requirement in Sentence_No                307154 non-null  int64   \n",
                        " 73  English Requirement in Sentence_Yes               307154 non-null  int64   \n",
                        " 74  Job Description spacy_tokenized                   307154 non-null  object  \n",
                        " 75  Job Description spacy_sentencized_cleaned         307154 non-null  object  \n",
                        " 76  Job Description nltk_tokenized                    307154 non-null  object  \n",
                        " 77  Job Description gensim_tokenized                  307154 non-null  object  \n",
                        "dtypes: category(2), float64(21), int64(25), object(30)\n",
                        "memory usage: 181.0+ MB\n"
                    ]
                }
            ],
            "source": [
                "df_jobs.info()\n"
            ]
        },
        {
            "cell_type": "code",
            "execution_count": 31,
            "id": "f8bc6622",
            "metadata": {},
            "outputs": [
                {
                    "name": "stdout",
                    "output_type": "stream",
                    "text": [
                        "Using MPS\n"
                    ]
                },
                {
                    "name": "stderr",
                    "output_type": "stream",
                    "text": [
                        "Some weights of the model checkpoint at bert-base-uncased were not used when initializing BertForSequenceClassification: ['cls.seq_relationship.weight', 'cls.predictions.transform.dense.bias', 'cls.seq_relationship.bias', 'cls.predictions.transform.LayerNorm.weight', 'cls.predictions.bias', 'cls.predictions.transform.dense.weight', 'cls.predictions.decoder.weight', 'cls.predictions.transform.LayerNorm.bias']\n",
                        "- This IS expected if you are initializing BertForSequenceClassification from the checkpoint of a model trained on another task or with another architecture (e.g. initializing a BertForSequenceClassification model from a BertForPreTraining model).\n",
                        "- This IS NOT expected if you are initializing BertForSequenceClassification from the checkpoint of a model that you expect to be exactly identical (initializing a BertForSequenceClassification model from a BertForSequenceClassification model).\n",
                        "Some weights of BertForSequenceClassification were not initialized from the model checkpoint at bert-base-uncased and are newly initialized: ['classifier.bias', 'classifier.weight']\n",
                        "You should probably TRAIN this model on a down-stream task to be able to use it for predictions and inference.\n"
                    ]
                },
                {
                    "data": {
                        "application/vnd.jupyter.widget-view+json": {
                            "model_id": "6ad211cabca241548c8fbf391b45feed",
                            "version_major": 2,
                            "version_minor": 0
                        },
                        "text/plain": [
                            "progress-bar:   0%|          | 0/307154 [00:00<?, ?it/s]"
                        ]
                    },
                    "metadata": {},
                    "output_type": "display_data"
                },
                {
                    "name": "stdout",
                    "output_type": "stream",
                    "text": [
                        "CPU times: user 54.2 s, sys: 3.16 s, total: 57.4 s\n",
                        "Wall time: 1min 3s\n"
                    ]
                }
            ],
            "source": [
                "%%time\n",
                "max_length = 512\n",
                "returned_tensor = 'pt'\n",
                "cpu_counts = torch.multiprocessing.cpu_count()\n",
                "device = torch.device('mps') if torch.has_mps and torch.backends.mps.is_built() and torch.backends.mps.is_available() else torch.device('cuda') if torch.cuda.is_available() else torch.device('cpu')\n",
                "device_name = str(device.type)\n",
                "print(f'Using {device_name.upper()}')\n",
                "bert_model_name = 'bert-base-uncased'\n",
                "bert_tokenizer = BertTokenizerFast.from_pretrained(bert_model_name, strip_accents = True)\n",
                "bert_model = BertForSequenceClassification.from_pretrained(bert_model_name).to(device)\n",
                "\n",
                "df_jobs['Job Description bert_tokenized'] = df_jobs['Job Description spacy_sentencized'].progress_apply(\n",
                "    lambda sentence: bert_tokenizer.tokenize(str(sentence))\n",
                ")\n",
                "\n",
                "assert len(df_jobs) > 0 and isinstance(df_jobs, pd.DataFrame), f'ERORR: LENGTH OF DF = {len(df_jobs)}'\n",
                "df_jobs.to_pickle(f'{df_save_dir}df_jobs_tokenized_spacy_nltk_gensim_bert.pkl')\n",
                "df_jobs.to_csv(f'{df_save_dir}df_jobs_tokenized_spacy_nltk_gensim_bert.csv', index=False)\n"
            ]
        },
        {
            "cell_type": "code",
            "execution_count": 32,
            "id": "9ae92181",
            "metadata": {},
            "outputs": [
                {
                    "data": {
                        "text/plain": [
                            "0                                 [about, our, client]\n",
                            "1    [the, global, ky, ##c, organisation, is, part,...\n",
                            "2    [its, purpose, is, enabling, people, and, orga...\n",
                            "3    [our, global, ky, ##c, organisation, is, a, fi...\n",
                            "4    [in, our, global, ky, ##c, organisation, you, ...\n",
                            "Name: Job Description bert_tokenized, dtype: object"
                        ]
                    },
                    "execution_count": 32,
                    "metadata": {},
                    "output_type": "execute_result"
                }
            ],
            "source": [
                "df_jobs['Job Description bert_tokenized'].head()\n"
            ]
        },
        {
            "cell_type": "code",
            "execution_count": 33,
            "id": "8936c818",
            "metadata": {},
            "outputs": [],
            "source": [
                "assert len(df_jobs) > 0 and isinstance(df_jobs, pd.DataFrame), f'ERORR: LENGTH OF DF = {len(df_jobs)}'\n",
                "# df_jobs.to_pickle(f'{df_save_dir}df_jobs_tokenized_spacy_nltk_gensim_bert.pkl')\n",
                "# df_jobs.to_csv(f'{df_save_dir}df_jobs_tokenized_spacy_nltk_gensim_bert.csv', index=False)\n",
                "df_jobs.to_pickle(f'{df_save_dir}df_jobs_for_classification.pkl')\n",
                "df_jobs.to_csv(f'{df_save_dir}df_jobs_for_classification.csv', index=False)\n"
            ]
        },
        {
            "cell_type": "code",
            "execution_count": 34,
            "id": "45c900fb",
            "metadata": {},
            "outputs": [
                {
                    "name": "stdout",
                    "output_type": "stream",
                    "text": [
                        "Saving df_jobs length 307154 to txt file.\n"
                    ]
                }
            ],
            "source": [
                "print(f'Saving df_jobs length {len(df_jobs)} to txt file.')\n",
                "with open(f'{data_dir}df_jobs_len.txt', 'w') as f:\n",
                "    f.write(str(len(df_jobs)))"
            ]
        },
        {
            "cell_type": "code",
            "execution_count": null,
            "id": "e13d801e",
            "metadata": {},
            "outputs": [],
            "source": []
        }
    ],
    "metadata": {
        "kernelspec": {
            "display_name": "study1_3.10",
            "language": "python",
            "name": "python3"
        },
        "language_info": {
            "codemirror_mode": {
                "name": "ipython",
                "version": 3
            },
            "file_extension": ".py",
            "mimetype": "text/x-python",
            "name": "python",
            "nbconvert_exporter": "python",
            "pygments_lexer": "ipython3",
            "version": "3.10.10"
        },
        "varInspector": {
            "cols": {
                "lenName": 16,
                "lenType": 16,
                "lenVar": 40
            },
            "kernels_config": {
                "python": {
                    "delete_cmd_postfix": "",
                    "delete_cmd_prefix": "del ",
                    "library": "var_list.py",
                    "varRefreshCmd": "print(var_dic_list())"
                },
                "r": {
                    "delete_cmd_postfix": ") ",
                    "delete_cmd_prefix": "rm(",
                    "library": "var_list.r",
                    "varRefreshCmd": "cat(var_dic_list()) "
                }
            },
            "types_to_exclude": [
                "module",
                "function",
                "builtin_function_or_method",
                "instance",
                "_Feature"
            ],
            "window_display": false
        }
    },
    "nbformat": 4,
    "nbformat_minor": 5
}
