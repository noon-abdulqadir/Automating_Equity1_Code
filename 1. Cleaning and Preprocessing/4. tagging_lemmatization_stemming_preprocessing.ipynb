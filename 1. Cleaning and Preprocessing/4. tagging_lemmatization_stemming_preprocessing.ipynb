{
    "cells": [
        {
            "cell_type": "markdown",
            "id": "6c0bfad5",
            "metadata": {},
            "source": [
                "# ATTN: This script should be run AFTER all tokenization (spacy, nltk, gensim, and BERT) completed.\n"
            ]
        },
        {
            "cell_type": "markdown",
            "id": "e4a62460",
            "metadata": {},
            "source": [
                "# Use spacy to create Parts-Of-Speech (POS) tags, lemmas, and stems\n"
            ]
        },
        {
            "cell_type": "markdown",
            "id": "374d2178",
            "metadata": {},
            "source": [
                "### START HERE IF SOURCING FROM DF_JOBS_TOKENIZED_SPACY_NLTK_GENSIM_BERT\n",
                "\n",
                "### PLEASE SET CORRECT DIRECTORY PATHS BELOW\n"
            ]
        },
        {
            "cell_type": "code",
            "execution_count": 1,
            "id": "c74f96a0",
            "metadata": {},
            "outputs": [],
            "source": [
                "import os  # type:ignore # isort:skip # fmt:skip # noqa # nopep8\n",
                "import sys  # type:ignore # isort:skip # fmt:skip # noqa # nopep8\n",
                "from pathlib import Path  # type:ignore # isort:skip # fmt:skip # noqa # nopep8\n",
                "\n",
                "mod = sys.modules[__name__]\n",
                "\n",
                "code_dir = None\n",
                "code_dir_name = 'Code'\n",
                "unwanted_subdir_name = 'Analysis'\n",
                "\n",
                "for _ in range(5):\n",
                "\n",
                "    parent_path = str(Path.cwd().parents[_]).split('/')[-1]\n",
                "\n",
                "    if (code_dir_name in parent_path) and (unwanted_subdir_name not in parent_path):\n",
                "\n",
                "        code_dir = str(Path.cwd().parents[_])\n",
                "\n",
                "        if code_dir is not None:\n",
                "            break\n",
                "\n",
                "sys.path.append(code_dir)\n",
                "# %load_ext autoreload\n",
                "# %autoreload 2\n"
            ]
        },
        {
            "cell_type": "code",
            "execution_count": 2,
            "id": "1dbae468",
            "metadata": {},
            "outputs": [
                {
                    "name": "stdout",
                    "output_type": "stream",
                    "text": [
                        "Using MPS\n"
                    ]
                },
                {
                    "data": {
                        "application/vnd.jupyter.widget-view+json": {
                            "model_id": "727d73af126f4bebbf552cd274971fb5",
                            "version_major": 2,
                            "version_minor": 0
                        },
                        "text/plain": [
                            "0it [00:00, ?it/s]"
                        ]
                    },
                    "metadata": {},
                    "output_type": "display_data"
                },
                {
                    "data": {
                        "text/plain": [
                            "<Figure size 640x480 with 0 Axes>"
                        ]
                    },
                    "metadata": {},
                    "output_type": "display_data"
                }
            ],
            "source": [
                "from setup_module.imports import *  # type:ignore # isort:skip # fmt:skip # noqa # nopep8\n"
            ]
        },
        {
            "cell_type": "code",
            "execution_count": 3,
            "id": "10424739",
            "metadata": {},
            "outputs": [],
            "source": [
                "df_jobs = pd.read_pickle(\n",
                "    f'{df_save_dir}df_jobs_tokenized_spacy_nltk_gensim_bert.pkl'\n",
                ").reset_index(drop=True)\n"
            ]
        },
        {
            "cell_type": "code",
            "execution_count": 4,
            "id": "08c5b9fb",
            "metadata": {},
            "outputs": [
                {
                    "name": "stdout",
                    "output_type": "stream",
                    "text": [
                        "<class 'pandas.core.frame.DataFrame'>\n",
                        "RangeIndex: 194820 entries, 0 to 194819\n",
                        "Data columns (total 72 columns):\n",
                        " #   Column                                            Non-Null Count   Dtype  \n",
                        "---  ------                                            --------------   -----  \n",
                        " 0   Search Keyword                                    194820 non-null  object \n",
                        " 1   Platform                                          194820 non-null  object \n",
                        " 2   Job ID                                            194820 non-null  object \n",
                        " 3   Job Title                                         194820 non-null  object \n",
                        " 4   Company Name                                      194816 non-null  object \n",
                        " 5   Location                                          194820 non-null  object \n",
                        " 6   Job Description                                   194820 non-null  object \n",
                        " 7   Rating                                            170120 non-null  float64\n",
                        " 8   Employment Type                                   163313 non-null  object \n",
                        " 9   Company URL                                       192654 non-null  object \n",
                        " 10  Job URL                                           194820 non-null  object \n",
                        " 11  Job Age                                           194820 non-null  object \n",
                        " 12  Job Age Number                                    194820 non-null  object \n",
                        " 13  Collection Date                                   194820 non-null  object \n",
                        " 14  Data Row                                          24535 non-null   float64\n",
                        " 15  Tracking ID                                       24535 non-null   object \n",
                        " 16  Industry                                          56207 non-null   object \n",
                        " 17  Job Date                                          24700 non-null   object \n",
                        " 18  Type of ownership                                 31507 non-null   object \n",
                        " 19  Language                                          194820 non-null  object \n",
                        " 20  Dutch Requirement                                 194820 non-null  int64  \n",
                        " 21  English Requirement                               194820 non-null  int64  \n",
                        " 22  Sector Code                                       194820 non-null  object \n",
                        " 23  Sector                                            194820 non-null  object \n",
                        " 24  Keywords Count                                    194820 non-null  float64\n",
                        " 25  % per Sector                                      194820 non-null  float64\n",
                        " 26  % per Social Category                             194820 non-null  float64\n",
                        " 27  % per Workforce                                   194820 non-null  float64\n",
                        " 28  Gender_Female_n                                   194820 non-null  float64\n",
                        " 29  Gender_Female_% per Sector                        194820 non-null  float64\n",
                        " 30  Gender_Female_% per Social Category               194820 non-null  float64\n",
                        " 31  Gender_Female_% per Workforce                     194820 non-null  float64\n",
                        " 32  Gender_Male_n                                     194820 non-null  float64\n",
                        " 33  Gender_Male_% per Sector                          194820 non-null  float64\n",
                        " 34  Gender_Male_% per Social Category                 194820 non-null  float64\n",
                        " 35  Gender_Male_% per Workforce                       194820 non-null  float64\n",
                        " 36  Gender                                            194820 non-null  object \n",
                        " 37  Age_Older_n                                       194820 non-null  float64\n",
                        " 38  Age_Older_% per Sector                            194820 non-null  float64\n",
                        " 39  Age_Older_% per Social Category                   194820 non-null  float64\n",
                        " 40  Age_Older_% per Workforce                         194820 non-null  float64\n",
                        " 41  Age_Younger_n                                     194820 non-null  float64\n",
                        " 42  Age_Younger_% per Sector                          194820 non-null  float64\n",
                        " 43  Age_Younger_% per Social Category                 194820 non-null  float64\n",
                        " 44  Age_Younger_% per Workforce                       194820 non-null  float64\n",
                        " 45  Age                                               194820 non-null  object \n",
                        " 46  Sector_n                                          194820 non-null  float64\n",
                        " 47  % Sector per Workforce                            194820 non-null  float64\n",
                        " 48  Gender_Female                                     194820 non-null  int64  \n",
                        " 49  Gender_Male                                       194820 non-null  int64  \n",
                        " 50  Gender_Mixed                                      194820 non-null  int64  \n",
                        " 51  Age_Mixed                                         194820 non-null  int64  \n",
                        " 52  Age_Older                                         194820 non-null  int64  \n",
                        " 53  Age_Younger                                       194820 non-null  int64  \n",
                        " 54  Gender_Num                                        194820 non-null  int64  \n",
                        " 55  Age_Num                                           194820 non-null  int64  \n",
                        " 56  Platform_Num                                      194820 non-null  int64  \n",
                        " 57  Platform_LinkedIn                                 194820 non-null  int64  \n",
                        " 58  Platform_Indeed                                   194820 non-null  int64  \n",
                        " 59  Platform_Glassdoor                                194820 non-null  int64  \n",
                        " 60  Job Description spacy_sentencized                 194820 non-null  object \n",
                        " 61  Job Description spacy_sentencized_lower           194820 non-null  object \n",
                        " 62  Job Description spacy_tokenized                   194820 non-null  object \n",
                        " 63  Job Description spacy_sentencized_cleaned         194820 non-null  object \n",
                        " 64  Job Description num_words                         194820 non-null  int64  \n",
                        " 65  Job Description num_unique_words                  194820 non-null  int64  \n",
                        " 66  Job Description num_chars                         194820 non-null  int64  \n",
                        " 67  Job Description num_chars_no_whitespact_and_punt  194820 non-null  int64  \n",
                        " 68  Job Description num_punctuations                  194820 non-null  int64  \n",
                        " 69  Job Description nltk_tokenized                    194820 non-null  object \n",
                        " 70  Job Description gensim_tokenized                  194820 non-null  object \n",
                        " 71  Job Description bert_tokenized                    194820 non-null  object \n",
                        "dtypes: float64(24), int64(19), object(29)\n",
                        "memory usage: 107.0+ MB\n"
                    ]
                }
            ],
            "source": [
                "df_jobs.info()\n"
            ]
        },
        {
            "cell_type": "code",
            "execution_count": 5,
            "id": "45e45b2c",
            "metadata": {},
            "outputs": [
                {
                    "data": {
                        "application/vnd.jupyter.widget-view+json": {
                            "model_id": "333665bfa8d3416ca33ac17e55c6d892",
                            "version_major": 2,
                            "version_minor": 0
                        },
                        "text/plain": [
                            "progress-bar:   0%|          | 0/194820 [00:00<?, ?it/s]"
                        ]
                    },
                    "metadata": {},
                    "output_type": "display_data"
                },
                {
                    "data": {
                        "application/vnd.jupyter.widget-view+json": {
                            "model_id": "2d171aadb15e4717b7663bc650aa61f5",
                            "version_major": 2,
                            "version_minor": 0
                        },
                        "text/plain": [
                            "progress-bar:   0%|          | 0/194820 [00:00<?, ?it/s]"
                        ]
                    },
                    "metadata": {},
                    "output_type": "display_data"
                },
                {
                    "data": {
                        "application/vnd.jupyter.widget-view+json": {
                            "model_id": "56c263cff2b34ac294443267c33700d6",
                            "version_major": 2,
                            "version_minor": 0
                        },
                        "text/plain": [
                            "progress-bar:   0%|          | 0/194820 [00:00<?, ?it/s]"
                        ]
                    },
                    "metadata": {},
                    "output_type": "display_data"
                },
                {
                    "name": "stdout",
                    "output_type": "stream",
                    "text": [
                        "CPU times: user 1h 7min 20s, sys: 1min 43s, total: 1h 9min 4s\n",
                        "Wall time: 1h 16min 38s\n"
                    ]
                }
            ],
            "source": [
                "%%time\n",
                "# Load customer characters\n",
                "with open(f'{data_dir}punctuations.txt', 'rb') as f:\n",
                "    custom_punct_chars = pickle.load(f)\n",
                "\n",
                "# POS tagging\n",
                "df_jobs['Job Description spacy_token_tags'] = df_jobs['Job Description spacy_sentencized'].progress_apply(\n",
                "    lambda job_sentence: [\n",
                "        tuple([token.text.strip().lower(), token.tag_])\n",
                "        for token in nlp(job_sentence)\n",
                "\n",
                "    ]\n",
                ")\n",
                "\n",
                "# Lemmatization\n",
                "df_jobs['Job Description spacy_lemmas'] = df_jobs['Job Description spacy_sentencized'].progress_apply(\n",
                "    lambda job_sentence: [\n",
                "        token.lemma_.strip().lower()\n",
                "        for token in nlp(job_sentence)\n",
                "        if len(token) != 0 and not token.is_stop and not token.is_punct and token.text not in custom_punct_chars\n",
                "    ]\n",
                ")\n",
                "\n",
                "# Stemming\n",
                "df_jobs['Job Description spacy_stems'] = df_jobs['Job Description spacy_sentencized'].progress_apply(\n",
                "    lambda job_sentence: [\n",
                "        stemmer.stem(token.text.strip().lower())\n",
                "        for token in nlp(job_sentence)\n",
                "        if len(token) != 0 and not token.is_stop and not token.is_punct and token.text not in custom_punct_chars\n",
                "    ]\n",
                ")\n",
                "\n",
                "assert len(df_jobs) > 0 and isinstance(\n",
                "    df_jobs, pd.DataFrame), f'ERORR: LENGTH OF DF = {len(df_jobs)}'\n",
                "df_jobs.to_pickle(f'{df_save_dir}df_jobs_tags_lemmas_stems_spacy.pkl')\n",
                "df_jobs.to_csv(\n",
                "    f'{df_save_dir}df_jobs_tags_lemmas_stems_spacy.csv', index=False)\n"
            ]
        },
        {
            "cell_type": "code",
            "execution_count": 6,
            "id": "9d8332f9",
            "metadata": {},
            "outputs": [
                {
                    "name": "stdout",
                    "output_type": "stream",
                    "text": [
                        "<class 'pandas.core.frame.DataFrame'>\n",
                        "RangeIndex: 194820 entries, 0 to 194819\n",
                        "Data columns (total 75 columns):\n",
                        " #   Column                                            Non-Null Count   Dtype  \n",
                        "---  ------                                            --------------   -----  \n",
                        " 0   Search Keyword                                    194820 non-null  object \n",
                        " 1   Platform                                          194820 non-null  object \n",
                        " 2   Job ID                                            194820 non-null  object \n",
                        " 3   Job Title                                         194820 non-null  object \n",
                        " 4   Company Name                                      194816 non-null  object \n",
                        " 5   Location                                          194820 non-null  object \n",
                        " 6   Job Description                                   194820 non-null  object \n",
                        " 7   Rating                                            170120 non-null  float64\n",
                        " 8   Employment Type                                   163313 non-null  object \n",
                        " 9   Company URL                                       192654 non-null  object \n",
                        " 10  Job URL                                           194820 non-null  object \n",
                        " 11  Job Age                                           194820 non-null  object \n",
                        " 12  Job Age Number                                    194820 non-null  object \n",
                        " 13  Collection Date                                   194820 non-null  object \n",
                        " 14  Data Row                                          24535 non-null   float64\n",
                        " 15  Tracking ID                                       24535 non-null   object \n",
                        " 16  Industry                                          56207 non-null   object \n",
                        " 17  Job Date                                          24700 non-null   object \n",
                        " 18  Type of ownership                                 31507 non-null   object \n",
                        " 19  Language                                          194820 non-null  object \n",
                        " 20  Dutch Requirement                                 194820 non-null  int64  \n",
                        " 21  English Requirement                               194820 non-null  int64  \n",
                        " 22  Sector Code                                       194820 non-null  object \n",
                        " 23  Sector                                            194820 non-null  object \n",
                        " 24  Keywords Count                                    194820 non-null  float64\n",
                        " 25  % per Sector                                      194820 non-null  float64\n",
                        " 26  % per Social Category                             194820 non-null  float64\n",
                        " 27  % per Workforce                                   194820 non-null  float64\n",
                        " 28  Gender_Female_n                                   194820 non-null  float64\n",
                        " 29  Gender_Female_% per Sector                        194820 non-null  float64\n",
                        " 30  Gender_Female_% per Social Category               194820 non-null  float64\n",
                        " 31  Gender_Female_% per Workforce                     194820 non-null  float64\n",
                        " 32  Gender_Male_n                                     194820 non-null  float64\n",
                        " 33  Gender_Male_% per Sector                          194820 non-null  float64\n",
                        " 34  Gender_Male_% per Social Category                 194820 non-null  float64\n",
                        " 35  Gender_Male_% per Workforce                       194820 non-null  float64\n",
                        " 36  Gender                                            194820 non-null  object \n",
                        " 37  Age_Older_n                                       194820 non-null  float64\n",
                        " 38  Age_Older_% per Sector                            194820 non-null  float64\n",
                        " 39  Age_Older_% per Social Category                   194820 non-null  float64\n",
                        " 40  Age_Older_% per Workforce                         194820 non-null  float64\n",
                        " 41  Age_Younger_n                                     194820 non-null  float64\n",
                        " 42  Age_Younger_% per Sector                          194820 non-null  float64\n",
                        " 43  Age_Younger_% per Social Category                 194820 non-null  float64\n",
                        " 44  Age_Younger_% per Workforce                       194820 non-null  float64\n",
                        " 45  Age                                               194820 non-null  object \n",
                        " 46  Sector_n                                          194820 non-null  float64\n",
                        " 47  % Sector per Workforce                            194820 non-null  float64\n",
                        " 48  Gender_Female                                     194820 non-null  int64  \n",
                        " 49  Gender_Male                                       194820 non-null  int64  \n",
                        " 50  Gender_Mixed                                      194820 non-null  int64  \n",
                        " 51  Age_Mixed                                         194820 non-null  int64  \n",
                        " 52  Age_Older                                         194820 non-null  int64  \n",
                        " 53  Age_Younger                                       194820 non-null  int64  \n",
                        " 54  Gender_Num                                        194820 non-null  int64  \n",
                        " 55  Age_Num                                           194820 non-null  int64  \n",
                        " 56  Platform_Num                                      194820 non-null  int64  \n",
                        " 57  Platform_LinkedIn                                 194820 non-null  int64  \n",
                        " 58  Platform_Indeed                                   194820 non-null  int64  \n",
                        " 59  Platform_Glassdoor                                194820 non-null  int64  \n",
                        " 60  Job Description spacy_sentencized                 194820 non-null  object \n",
                        " 61  Job Description spacy_sentencized_lower           194820 non-null  object \n",
                        " 62  Job Description spacy_tokenized                   194820 non-null  object \n",
                        " 63  Job Description spacy_sentencized_cleaned         194820 non-null  object \n",
                        " 64  Job Description num_words                         194820 non-null  int64  \n",
                        " 65  Job Description num_unique_words                  194820 non-null  int64  \n",
                        " 66  Job Description num_chars                         194820 non-null  int64  \n",
                        " 67  Job Description num_chars_no_whitespact_and_punt  194820 non-null  int64  \n",
                        " 68  Job Description num_punctuations                  194820 non-null  int64  \n",
                        " 69  Job Description nltk_tokenized                    194820 non-null  object \n",
                        " 70  Job Description gensim_tokenized                  194820 non-null  object \n",
                        " 71  Job Description bert_tokenized                    194820 non-null  object \n",
                        " 72  Job Description spacy_token_tags                  194820 non-null  object \n",
                        " 73  Job Description spacy_lemmas                      194820 non-null  object \n",
                        " 74  Job Description spacy_stems                       194820 non-null  object \n",
                        "dtypes: float64(24), int64(19), object(32)\n",
                        "memory usage: 111.5+ MB\n"
                    ]
                }
            ],
            "source": [
                "df_jobs.info()\n"
            ]
        },
        {
            "cell_type": "code",
            "execution_count": 7,
            "id": "5d8d37b3",
            "metadata": {},
            "outputs": [
                {
                    "data": {
                        "text/html": [
                            "<div>\n",
                            "<style scoped>\n",
                            "    .dataframe tbody tr th:only-of-type {\n",
                            "        vertical-align: middle;\n",
                            "    }\n",
                            "\n",
                            "    .dataframe tbody tr th {\n",
                            "        vertical-align: top;\n",
                            "    }\n",
                            "\n",
                            "    .dataframe thead th {\n",
                            "        text-align: right;\n",
                            "    }\n",
                            "</style>\n",
                            "<table border=\"1\" class=\"dataframe\">\n",
                            "  <thead>\n",
                            "    <tr style=\"text-align: center;\">\n",
                            "      <th></th>\n",
                            "      <th>Job Description spacy_token_tags</th>\n",
                            "      <th>Job Description spacy_lemmas</th>\n",
                            "      <th>Job Description spacy_stems</th>\n",
                            "    </tr>\n",
                            "  </thead>\n",
                            "  <tbody>\n",
                            "    <tr>\n",
                            "      <th>0</th>\n",
                            "      <td>[(about, IN), (our, PRP$), (client, NNP)]</td>\n",
                            "      <td>[client]</td>\n",
                            "      <td>[client]</td>\n",
                            "    </tr>\n",
                            "    <tr>\n",
                            "      <th>1</th>\n",
                            "      <td>[(the, DT), (global, NNP), (kyc, NNP), (organi...</td>\n",
                            "      <td>[global, kyc, organisation, ing, coo, domain]</td>\n",
                            "      <td>[global, kyc, organis, ing, coo, domain]</td>\n",
                            "    </tr>\n",
                            "    <tr>\n",
                            "      <th>2</th>\n",
                            "      <td>[(its, PRP$), (purpose, NN), (is, VBZ), (enabl...</td>\n",
                            "      <td>[purpose, enable, people, organisation, use, b...</td>\n",
                            "      <td>[purpos, enabl, peopl, organis, use, bank, ser...</td>\n",
                            "    </tr>\n",
                            "    <tr>\n",
                            "      <th>3</th>\n",
                            "      <td>[(our, PRP$), (global, NNP), (kyc, NNP), (orga...</td>\n",
                            "      <td>[global, kyc, organisation, line, defence, dep...</td>\n",
                            "      <td>[global, kyc, organis, line, defenc, depart, p...</td>\n",
                            "    </tr>\n",
                            "    <tr>\n",
                            "      <th>4</th>\n",
                            "      <td>[(in, IN), (our, PRP$), (global, NNP), (kyc, N...</td>\n",
                            "      <td>[global, kyc, organisation, work, colleague, d...</td>\n",
                            "      <td>[global, kyc, organis, work, colleagu, differ,...</td>\n",
                            "    </tr>\n",
                            "  </tbody>\n",
                            "</table>\n",
                            "</div>"
                        ],
                        "text/plain": [
                            "           Job Description spacy_token_tags                     Job Description spacy_lemmas                       Job Description spacy_stems            \n",
                            "0          [(about, IN), (our, PRP$), (client, NNP)]                                           [client]                                           [client]\n",
                            "1  [(the, DT), (global, NNP), (kyc, NNP), (organi...      [global, kyc, organisation, ing, coo, domain]           [global, kyc, organis, ing, coo, domain]\n",
                            "2  [(its, PRP$), (purpose, NN), (is, VBZ), (enabl...  [purpose, enable, people, organisation, use, b...  [purpos, enabl, peopl, organis, use, bank, ser...\n",
                            "3  [(our, PRP$), (global, NNP), (kyc, NNP), (orga...  [global, kyc, organisation, line, defence, dep...  [global, kyc, organis, line, defenc, depart, p...\n",
                            "4  [(in, IN), (our, PRP$), (global, NNP), (kyc, N...  [global, kyc, organisation, work, colleague, d...  [global, kyc, organis, work, colleagu, differ,..."
                        ]
                    },
                    "execution_count": 7,
                    "metadata": {},
                    "output_type": "execute_result"
                }
            ],
            "source": [
                "df_jobs[\n",
                "    [\n",
                "        'Job Description spacy_token_tags',\n",
                "        'Job Description spacy_lemmas',\n",
                "        'Job Description spacy_stems'\n",
                "    ]\n",
                "].head()\n"
            ]
        },
        {
            "cell_type": "code",
            "execution_count": 8,
            "id": "fa7acdc1",
            "metadata": {},
            "outputs": [],
            "source": [
                "assert len(df_jobs) > 0 and isinstance(df_jobs, pd.DataFrame), f'ERORR: LENGTH OF DF = {len(df_jobs)}'\n",
                "df_jobs.to_pickle(f'{df_save_dir}df_jobs_tags_lemmas_stems_spacy.pkl')\n",
                "df_jobs.to_csv(f'{df_save_dir}df_jobs_tags_lemmas_stems_spacy.csv', index=False)\n"
            ]
        },
        {
            "cell_type": "markdown",
            "id": "8c74665a",
            "metadata": {},
            "source": [
                "# Use NLTK to create Parts-Of-Speech (POS) tags, lemmas, and stems\n"
            ]
        },
        {
            "cell_type": "markdown",
            "id": "12fe6cb2",
            "metadata": {},
            "source": [
                "### START HERE IF SOURCING FROM DF_JOBS_TAGS_LEMMAS_STEMS_SPACY\n",
                "\n",
                "### PLEASE SET CORRECT DIRECTORY PATHS BELOW\n"
            ]
        },
        {
            "cell_type": "code",
            "execution_count": 9,
            "id": "7c765e8d",
            "metadata": {},
            "outputs": [],
            "source": [
                "import os  # type:ignore # isort:skip # fmt:skip # noqa # nopep8\n",
                "import sys  # type:ignore # isort:skip # fmt:skip # noqa # nopep8\n",
                "from pathlib import Path  # type:ignore # isort:skip # fmt:skip # noqa # nopep8\n",
                "\n",
                "mod = sys.modules[__name__]\n",
                "\n",
                "code_dir = None\n",
                "code_dir_name = 'Code'\n",
                "unwanted_subdir_name = 'Analysis'\n",
                "\n",
                "for _ in range(5):\n",
                "\n",
                "    parent_path = str(Path.cwd().parents[_]).split('/')[-1]\n",
                "\n",
                "    if (code_dir_name in parent_path) and (unwanted_subdir_name not in parent_path):\n",
                "\n",
                "        code_dir = str(Path.cwd().parents[_])\n",
                "\n",
                "        if code_dir is not None:\n",
                "            break\n",
                "\n",
                "sys.path.append(code_dir)\n",
                "# %load_ext autoreload\n",
                "# %autoreload 2\n"
            ]
        },
        {
            "cell_type": "code",
            "execution_count": 10,
            "id": "d37068ad",
            "metadata": {},
            "outputs": [],
            "source": [
                "from setup_module.imports import *  # type:ignore # isort:skip # fmt:skip # noqa # nopep8\n"
            ]
        },
        {
            "cell_type": "code",
            "execution_count": 11,
            "id": "ac327ec6",
            "metadata": {},
            "outputs": [],
            "source": [
                "def get_wordnet_pos(token):\n",
                "    \"\"\"Map POS tag to first character lemmatize() accepts\"\"\"\n",
                "    tag = nltk.pos_tag([token])[0][1][0].upper()\n",
                "    tag_dict = {\"J\": wordnet.ADJ,\n",
                "                \"N\": wordnet.NOUN,\n",
                "                \"V\": wordnet.VERB,\n",
                "                \"R\": wordnet.ADV}\n",
                "\n",
                "    return tag_dict.get(tag, wordnet.NOUN)\n"
            ]
        },
        {
            "cell_type": "code",
            "execution_count": 12,
            "id": "0b5e476b",
            "metadata": {},
            "outputs": [],
            "source": [
                "df_jobs = pd.read_pickle(\n",
                "    f'{df_save_dir}df_jobs_tags_lemmas_stems_spacy.pkl').reset_index(drop=True)\n"
            ]
        },
        {
            "cell_type": "code",
            "execution_count": 13,
            "id": "6f5c1c44",
            "metadata": {},
            "outputs": [
                {
                    "name": "stdout",
                    "output_type": "stream",
                    "text": [
                        "<class 'pandas.core.frame.DataFrame'>\n",
                        "RangeIndex: 194820 entries, 0 to 194819\n",
                        "Data columns (total 75 columns):\n",
                        " #   Column                                            Non-Null Count   Dtype  \n",
                        "---  ------                                            --------------   -----  \n",
                        " 0   Search Keyword                                    194820 non-null  object \n",
                        " 1   Platform                                          194820 non-null  object \n",
                        " 2   Job ID                                            194820 non-null  object \n",
                        " 3   Job Title                                         194820 non-null  object \n",
                        " 4   Company Name                                      194816 non-null  object \n",
                        " 5   Location                                          194820 non-null  object \n",
                        " 6   Job Description                                   194820 non-null  object \n",
                        " 7   Rating                                            170120 non-null  float64\n",
                        " 8   Employment Type                                   163313 non-null  object \n",
                        " 9   Company URL                                       192654 non-null  object \n",
                        " 10  Job URL                                           194820 non-null  object \n",
                        " 11  Job Age                                           194820 non-null  object \n",
                        " 12  Job Age Number                                    194820 non-null  object \n",
                        " 13  Collection Date                                   194820 non-null  object \n",
                        " 14  Data Row                                          24535 non-null   float64\n",
                        " 15  Tracking ID                                       24535 non-null   object \n",
                        " 16  Industry                                          56207 non-null   object \n",
                        " 17  Job Date                                          24700 non-null   object \n",
                        " 18  Type of ownership                                 31507 non-null   object \n",
                        " 19  Language                                          194820 non-null  object \n",
                        " 20  Dutch Requirement                                 194820 non-null  int64  \n",
                        " 21  English Requirement                               194820 non-null  int64  \n",
                        " 22  Sector Code                                       194820 non-null  object \n",
                        " 23  Sector                                            194820 non-null  object \n",
                        " 24  Keywords Count                                    194820 non-null  float64\n",
                        " 25  % per Sector                                      194820 non-null  float64\n",
                        " 26  % per Social Category                             194820 non-null  float64\n",
                        " 27  % per Workforce                                   194820 non-null  float64\n",
                        " 28  Gender_Female_n                                   194820 non-null  float64\n",
                        " 29  Gender_Female_% per Sector                        194820 non-null  float64\n",
                        " 30  Gender_Female_% per Social Category               194820 non-null  float64\n",
                        " 31  Gender_Female_% per Workforce                     194820 non-null  float64\n",
                        " 32  Gender_Male_n                                     194820 non-null  float64\n",
                        " 33  Gender_Male_% per Sector                          194820 non-null  float64\n",
                        " 34  Gender_Male_% per Social Category                 194820 non-null  float64\n",
                        " 35  Gender_Male_% per Workforce                       194820 non-null  float64\n",
                        " 36  Gender                                            194820 non-null  object \n",
                        " 37  Age_Older_n                                       194820 non-null  float64\n",
                        " 38  Age_Older_% per Sector                            194820 non-null  float64\n",
                        " 39  Age_Older_% per Social Category                   194820 non-null  float64\n",
                        " 40  Age_Older_% per Workforce                         194820 non-null  float64\n",
                        " 41  Age_Younger_n                                     194820 non-null  float64\n",
                        " 42  Age_Younger_% per Sector                          194820 non-null  float64\n",
                        " 43  Age_Younger_% per Social Category                 194820 non-null  float64\n",
                        " 44  Age_Younger_% per Workforce                       194820 non-null  float64\n",
                        " 45  Age                                               194820 non-null  object \n",
                        " 46  Sector_n                                          194820 non-null  float64\n",
                        " 47  % Sector per Workforce                            194820 non-null  float64\n",
                        " 48  Gender_Female                                     194820 non-null  int64  \n",
                        " 49  Gender_Male                                       194820 non-null  int64  \n",
                        " 50  Gender_Mixed                                      194820 non-null  int64  \n",
                        " 51  Age_Mixed                                         194820 non-null  int64  \n",
                        " 52  Age_Older                                         194820 non-null  int64  \n",
                        " 53  Age_Younger                                       194820 non-null  int64  \n",
                        " 54  Gender_Num                                        194820 non-null  int64  \n",
                        " 55  Age_Num                                           194820 non-null  int64  \n",
                        " 56  Platform_Num                                      194820 non-null  int64  \n",
                        " 57  Platform_LinkedIn                                 194820 non-null  int64  \n",
                        " 58  Platform_Indeed                                   194820 non-null  int64  \n",
                        " 59  Platform_Glassdoor                                194820 non-null  int64  \n",
                        " 60  Job Description spacy_sentencized                 194820 non-null  object \n",
                        " 61  Job Description spacy_sentencized_lower           194820 non-null  object \n",
                        " 62  Job Description spacy_tokenized                   194820 non-null  object \n",
                        " 63  Job Description spacy_sentencized_cleaned         194820 non-null  object \n",
                        " 64  Job Description num_words                         194820 non-null  int64  \n",
                        " 65  Job Description num_unique_words                  194820 non-null  int64  \n",
                        " 66  Job Description num_chars                         194820 non-null  int64  \n",
                        " 67  Job Description num_chars_no_whitespact_and_punt  194820 non-null  int64  \n",
                        " 68  Job Description num_punctuations                  194820 non-null  int64  \n",
                        " 69  Job Description nltk_tokenized                    194820 non-null  object \n",
                        " 70  Job Description gensim_tokenized                  194820 non-null  object \n",
                        " 71  Job Description bert_tokenized                    194820 non-null  object \n",
                        " 72  Job Description spacy_token_tags                  194820 non-null  object \n",
                        " 73  Job Description spacy_lemmas                      194820 non-null  object \n",
                        " 74  Job Description spacy_stems                       194820 non-null  object \n",
                        "dtypes: float64(24), int64(19), object(32)\n",
                        "memory usage: 111.5+ MB\n"
                    ]
                }
            ],
            "source": [
                "df_jobs.info()\n"
            ]
        },
        {
            "cell_type": "code",
            "execution_count": 14,
            "id": "92fb117a",
            "metadata": {},
            "outputs": [
                {
                    "data": {
                        "application/vnd.jupyter.widget-view+json": {
                            "model_id": "15ceb256ba694125b290fd855794dd4f",
                            "version_major": 2,
                            "version_minor": 0
                        },
                        "text/plain": [
                            "progress-bar:   0%|          | 0/194820 [00:00<?, ?it/s]"
                        ]
                    },
                    "metadata": {},
                    "output_type": "display_data"
                },
                {
                    "data": {
                        "application/vnd.jupyter.widget-view+json": {
                            "model_id": "0f857d3eb7b643b8ab2fa4964b0e82af",
                            "version_major": 2,
                            "version_minor": 0
                        },
                        "text/plain": [
                            "progress-bar:   0%|          | 0/194820 [00:00<?, ?it/s]"
                        ]
                    },
                    "metadata": {},
                    "output_type": "display_data"
                },
                {
                    "data": {
                        "application/vnd.jupyter.widget-view+json": {
                            "model_id": "8abaef68051746a7a4e3d19447d4c238",
                            "version_major": 2,
                            "version_minor": 0
                        },
                        "text/plain": [
                            "progress-bar:   0%|          | 0/194820 [00:00<?, ?it/s]"
                        ]
                    },
                    "metadata": {},
                    "output_type": "display_data"
                },
                {
                    "name": "stdout",
                    "output_type": "stream",
                    "text": [
                        "CPU times: user 6min 58s, sys: 1min 30s, total: 8min 29s\n",
                        "Wall time: 8min 43s\n"
                    ]
                }
            ],
            "source": [
                "%%time\n",
                "# POS tagging\n",
                "df_jobs['Job Description nltk_token_tags'] = df_jobs['Job Description spacy_tokenized'].progress_apply(\n",
                "    lambda token: pos_tag(token)\n",
                ")\n",
                "\n",
                "# Lemmatization\n",
                "df_jobs['Job Description nltk_lemmas'] = df_jobs['Job Description spacy_tokenized'].progress_apply(\n",
                "    lambda tokens: [\n",
                "        lemmatizer.lemmatize(\n",
                "            token, get_wordnet_pos(\n",
                "                unicodedata.normalize('NFKD', str(token.strip().lower())).encode(\n",
                "                    'ascii', 'ignore').decode('utf-8', 'ignore')\n",
                "            )\n",
                "        )\n",
                "        for token in tokens\n",
                "    ]\n",
                ")\n",
                "\n",
                "# Stemming\n",
                "df_jobs['Job Description nltk_stems'] = df_jobs['Job Description spacy_tokenized'].progress_apply(\n",
                "    lambda tokens: [\n",
                "        stemmer.stem(\n",
                "            unicodedata.normalize('NFKD', str(token.strip().lower())).encode(\n",
                "                'ascii', 'ignore').decode('utf-8', 'ignore')\n",
                "        )\n",
                "        for token in tokens\n",
                "    ]\n",
                ")\n",
                "\n",
                "assert len(df_jobs) > 0 and isinstance(df_jobs, pd.DataFrame), f'ERORR: LENGTH OF DF = {len(df_jobs)}'\n",
                "df_jobs.to_pickle(f'{df_save_dir}df_jobs_tags_lemmas_stems_spacy_nltk.pkl')\n",
                "df_jobs.to_csv(f'{df_save_dir}df_jobs_tags_lemmas_stems_spacy_nltk.csv', index=False)\n"
            ]
        },
        {
            "cell_type": "code",
            "execution_count": 15,
            "id": "2893388c",
            "metadata": {},
            "outputs": [
                {
                    "name": "stdout",
                    "output_type": "stream",
                    "text": [
                        "<class 'pandas.core.frame.DataFrame'>\n",
                        "RangeIndex: 194820 entries, 0 to 194819\n",
                        "Data columns (total 78 columns):\n",
                        " #   Column                                            Non-Null Count   Dtype  \n",
                        "---  ------                                            --------------   -----  \n",
                        " 0   Search Keyword                                    194820 non-null  object \n",
                        " 1   Platform                                          194820 non-null  object \n",
                        " 2   Job ID                                            194820 non-null  object \n",
                        " 3   Job Title                                         194820 non-null  object \n",
                        " 4   Company Name                                      194816 non-null  object \n",
                        " 5   Location                                          194820 non-null  object \n",
                        " 6   Job Description                                   194820 non-null  object \n",
                        " 7   Rating                                            170120 non-null  float64\n",
                        " 8   Employment Type                                   163313 non-null  object \n",
                        " 9   Company URL                                       192654 non-null  object \n",
                        " 10  Job URL                                           194820 non-null  object \n",
                        " 11  Job Age                                           194820 non-null  object \n",
                        " 12  Job Age Number                                    194820 non-null  object \n",
                        " 13  Collection Date                                   194820 non-null  object \n",
                        " 14  Data Row                                          24535 non-null   float64\n",
                        " 15  Tracking ID                                       24535 non-null   object \n",
                        " 16  Industry                                          56207 non-null   object \n",
                        " 17  Job Date                                          24700 non-null   object \n",
                        " 18  Type of ownership                                 31507 non-null   object \n",
                        " 19  Language                                          194820 non-null  object \n",
                        " 20  Dutch Requirement                                 194820 non-null  int64  \n",
                        " 21  English Requirement                               194820 non-null  int64  \n",
                        " 22  Sector Code                                       194820 non-null  object \n",
                        " 23  Sector                                            194820 non-null  object \n",
                        " 24  Keywords Count                                    194820 non-null  float64\n",
                        " 25  % per Sector                                      194820 non-null  float64\n",
                        " 26  % per Social Category                             194820 non-null  float64\n",
                        " 27  % per Workforce                                   194820 non-null  float64\n",
                        " 28  Gender_Female_n                                   194820 non-null  float64\n",
                        " 29  Gender_Female_% per Sector                        194820 non-null  float64\n",
                        " 30  Gender_Female_% per Social Category               194820 non-null  float64\n",
                        " 31  Gender_Female_% per Workforce                     194820 non-null  float64\n",
                        " 32  Gender_Male_n                                     194820 non-null  float64\n",
                        " 33  Gender_Male_% per Sector                          194820 non-null  float64\n",
                        " 34  Gender_Male_% per Social Category                 194820 non-null  float64\n",
                        " 35  Gender_Male_% per Workforce                       194820 non-null  float64\n",
                        " 36  Gender                                            194820 non-null  object \n",
                        " 37  Age_Older_n                                       194820 non-null  float64\n",
                        " 38  Age_Older_% per Sector                            194820 non-null  float64\n",
                        " 39  Age_Older_% per Social Category                   194820 non-null  float64\n",
                        " 40  Age_Older_% per Workforce                         194820 non-null  float64\n",
                        " 41  Age_Younger_n                                     194820 non-null  float64\n",
                        " 42  Age_Younger_% per Sector                          194820 non-null  float64\n",
                        " 43  Age_Younger_% per Social Category                 194820 non-null  float64\n",
                        " 44  Age_Younger_% per Workforce                       194820 non-null  float64\n",
                        " 45  Age                                               194820 non-null  object \n",
                        " 46  Sector_n                                          194820 non-null  float64\n",
                        " 47  % Sector per Workforce                            194820 non-null  float64\n",
                        " 48  Gender_Female                                     194820 non-null  int64  \n",
                        " 49  Gender_Male                                       194820 non-null  int64  \n",
                        " 50  Gender_Mixed                                      194820 non-null  int64  \n",
                        " 51  Age_Mixed                                         194820 non-null  int64  \n",
                        " 52  Age_Older                                         194820 non-null  int64  \n",
                        " 53  Age_Younger                                       194820 non-null  int64  \n",
                        " 54  Gender_Num                                        194820 non-null  int64  \n",
                        " 55  Age_Num                                           194820 non-null  int64  \n",
                        " 56  Platform_Num                                      194820 non-null  int64  \n",
                        " 57  Platform_LinkedIn                                 194820 non-null  int64  \n",
                        " 58  Platform_Indeed                                   194820 non-null  int64  \n",
                        " 59  Platform_Glassdoor                                194820 non-null  int64  \n",
                        " 60  Job Description spacy_sentencized                 194820 non-null  object \n",
                        " 61  Job Description spacy_sentencized_lower           194820 non-null  object \n",
                        " 62  Job Description spacy_tokenized                   194820 non-null  object \n",
                        " 63  Job Description spacy_sentencized_cleaned         194820 non-null  object \n",
                        " 64  Job Description num_words                         194820 non-null  int64  \n",
                        " 65  Job Description num_unique_words                  194820 non-null  int64  \n",
                        " 66  Job Description num_chars                         194820 non-null  int64  \n",
                        " 67  Job Description num_chars_no_whitespact_and_punt  194820 non-null  int64  \n",
                        " 68  Job Description num_punctuations                  194820 non-null  int64  \n",
                        " 69  Job Description nltk_tokenized                    194820 non-null  object \n",
                        " 70  Job Description gensim_tokenized                  194820 non-null  object \n",
                        " 71  Job Description bert_tokenized                    194820 non-null  object \n",
                        " 72  Job Description spacy_token_tags                  194820 non-null  object \n",
                        " 73  Job Description spacy_lemmas                      194820 non-null  object \n",
                        " 74  Job Description spacy_stems                       194820 non-null  object \n",
                        " 75  Job Description nltk_token_tags                   194820 non-null  object \n",
                        " 76  Job Description nltk_lemmas                       194820 non-null  object \n",
                        " 77  Job Description nltk_stems                        194820 non-null  object \n",
                        "dtypes: float64(24), int64(19), object(35)\n",
                        "memory usage: 115.9+ MB\n"
                    ]
                }
            ],
            "source": [
                "df_jobs.info()\n"
            ]
        },
        {
            "cell_type": "code",
            "execution_count": 16,
            "id": "84e2af7a",
            "metadata": {},
            "outputs": [
                {
                    "data": {
                        "text/html": [
                            "<div>\n",
                            "<style scoped>\n",
                            "    .dataframe tbody tr th:only-of-type {\n",
                            "        vertical-align: middle;\n",
                            "    }\n",
                            "\n",
                            "    .dataframe tbody tr th {\n",
                            "        vertical-align: top;\n",
                            "    }\n",
                            "\n",
                            "    .dataframe thead th {\n",
                            "        text-align: right;\n",
                            "    }\n",
                            "</style>\n",
                            "<table border=\"1\" class=\"dataframe\">\n",
                            "  <thead>\n",
                            "    <tr style=\"text-align: center;\">\n",
                            "      <th></th>\n",
                            "      <th>Job Description nltk_token_tags</th>\n",
                            "      <th>Job Description nltk_lemmas</th>\n",
                            "      <th>Job Description nltk_stems</th>\n",
                            "    </tr>\n",
                            "  </thead>\n",
                            "  <tbody>\n",
                            "    <tr>\n",
                            "      <th>0</th>\n",
                            "      <td>[(client, NN)]</td>\n",
                            "      <td>[client]</td>\n",
                            "      <td>[client]</td>\n",
                            "    </tr>\n",
                            "    <tr>\n",
                            "      <th>1</th>\n",
                            "      <td>[(global, JJ), (kyc, NN), (organisation, NN), ...</td>\n",
                            "      <td>[global, kyc, organisation, ing, coo, domain]</td>\n",
                            "      <td>[global, kyc, organis, ing, coo, domain]</td>\n",
                            "    </tr>\n",
                            "    <tr>\n",
                            "      <th>2</th>\n",
                            "      <td>[(purpose, JJ), (enabling, VBG), (people, NNS)...</td>\n",
                            "      <td>[purpose, enable, people, organisation, use, b...</td>\n",
                            "      <td>[purpos, enabl, peopl, organis, use, bank, ser...</td>\n",
                            "    </tr>\n",
                            "    <tr>\n",
                            "      <th>3</th>\n",
                            "      <td>[(global, JJ), (kyc, NN), (organisation, NN), ...</td>\n",
                            "      <td>[global, kyc, organisation, line, defence, dep...</td>\n",
                            "      <td>[global, kyc, organis, line, defenc, depart, p...</td>\n",
                            "    </tr>\n",
                            "    <tr>\n",
                            "      <th>4</th>\n",
                            "      <td>[(global, JJ), (kyc, NN), (organisation, NN), ...</td>\n",
                            "      <td>[global, kyc, organisation, work, colleague, d...</td>\n",
                            "      <td>[global, kyc, organis, work, colleagu, differ,...</td>\n",
                            "    </tr>\n",
                            "  </tbody>\n",
                            "</table>\n",
                            "</div>"
                        ],
                        "text/plain": [
                            "           Job Description nltk_token_tags                      Job Description nltk_lemmas                         Job Description nltk_stems            \n",
                            "0                                     [(client, NN)]                                           [client]                                           [client]\n",
                            "1  [(global, JJ), (kyc, NN), (organisation, NN), ...      [global, kyc, organisation, ing, coo, domain]           [global, kyc, organis, ing, coo, domain]\n",
                            "2  [(purpose, JJ), (enabling, VBG), (people, NNS)...  [purpose, enable, people, organisation, use, b...  [purpos, enabl, peopl, organis, use, bank, ser...\n",
                            "3  [(global, JJ), (kyc, NN), (organisation, NN), ...  [global, kyc, organisation, line, defence, dep...  [global, kyc, organis, line, defenc, depart, p...\n",
                            "4  [(global, JJ), (kyc, NN), (organisation, NN), ...  [global, kyc, organisation, work, colleague, d...  [global, kyc, organis, work, colleagu, differ,..."
                        ]
                    },
                    "execution_count": 16,
                    "metadata": {},
                    "output_type": "execute_result"
                }
            ],
            "source": [
                "df_jobs[\n",
                "    [\n",
                "        'Job Description nltk_token_tags',\n",
                "        'Job Description nltk_lemmas',\n",
                "        'Job Description nltk_stems'\n",
                "    ]\n",
                "].head()\n"
            ]
        },
        {
            "cell_type": "code",
            "execution_count": 17,
            "id": "102509c1",
            "metadata": {},
            "outputs": [],
            "source": [
                "assert len(df_jobs) > 0 and isinstance(df_jobs, pd.DataFrame), f'ERORR: LENGTH OF DF = {len(df_jobs)}'\n",
                "df_jobs.to_pickle(f'{df_save_dir}df_jobs_tags_lemmas_stems_spacy_nltk.pkl')\n",
                "df_jobs.to_csv(f'{df_save_dir}df_jobs_tags_lemmas_stems_spacy_nltk.csv', index=False)\n"
            ]
        },
        {
            "cell_type": "markdown",
            "id": "e5f98098",
            "metadata": {},
            "source": [
                "# Use BERT to create Parts-Of-Speech (POS) tags, lemmas, and stems\n"
            ]
        },
        {
            "cell_type": "markdown",
            "id": "03dd84df",
            "metadata": {},
            "source": [
                "### START HERE IF SOURCING FROM DF_JOBS_TAGS_LEMMAS_STEMS_SPACY_NLTK\n",
                "\n",
                "### PLEASE SET CORRECT DIRECTORY PATHS BELOW\n"
            ]
        },
        {
            "cell_type": "code",
            "execution_count": 18,
            "id": "cfc8511b",
            "metadata": {},
            "outputs": [],
            "source": [
                "# import os  # type:ignore # isort:skip # fmt:skip # noqa # nopep8\n",
                "# import sys  # type:ignore # isort:skip # fmt:skip # noqa # nopep8\n",
                "# from pathlib import Path  # type:ignore # isort:skip # fmt:skip # noqa # nopep8\n",
                "\n",
                "# mod = sys.modules[__name__]\n",
                "\n",
                "# code_dir = None\n",
                "# code_dir_name = 'Code'\n",
                "# unwanted_subdir_name = 'Analysis'\n",
                "\n",
                "# for _ in range(5):\n",
                "\n",
                "#     parent_path = str(Path.cwd().parents[_]).split('/')[-1]\n",
                "\n",
                "#     if (code_dir_name in parent_path) and (unwanted_subdir_name not in parent_path):\n",
                "\n",
                "#         code_dir = str(Path.cwd().parents[_])\n",
                "\n",
                "#         if code_dir is not None:\n",
                "#             break\n",
                "\n",
                "# sys.path.append(code_dir)\n",
                "# # %load_ext autoreload\n",
                "# # %autoreload 2\n"
            ]
        },
        {
            "cell_type": "code",
            "execution_count": 19,
            "id": "1b89fc5e",
            "metadata": {},
            "outputs": [],
            "source": [
                "# from setup_module.imports import *  # type:ignore # isort:skip # fmt:skip # noqa # nopep8\n"
            ]
        },
        {
            "cell_type": "code",
            "execution_count": 20,
            "id": "81972d25",
            "metadata": {},
            "outputs": [],
            "source": [
                "# df_jobs = pd.read_pickle(f'{df_save_dir}df_jobs_tags_lemmas_stems_spacy_nltk.pkl').reset_index(drop=True)\n"
            ]
        },
        {
            "cell_type": "code",
            "execution_count": 21,
            "id": "e0a48ebd",
            "metadata": {},
            "outputs": [],
            "source": [
                "# %%time\n",
                "# max_length = 512\n",
                "# returned_tensor = 'pt'\n",
                "# cpu_counts = torch.multiprocessing.cpu_count()\n",
                "# device = torch.device('mps') if torch.has_mps and torch.backends.mps.is_built() and torch.backends.mps.is_available(\n",
                "# ) else torch.device('cuda') if torch.cuda.is_available() else torch.device('cpu')\n",
                "# device_name = str(device.type)\n",
                "# print(f'Using {device_name.upper()}')\n",
                "# bert_model_name = 'bert-base-uncased'\n",
                "# bert_tokenizer = BertTokenizerFast.from_pretrained(\n",
                "#     bert_model_name, strip_accents=True)\n",
                "# bert_model = BertForSequenceClassification.from_pretrained(\n",
                "#     bert_model_name).to(device)\n",
                "# bert_pos_model_name = 'QCRI/bert-base-multilingual-cased-pos-english'\n",
                "# bert_pos_model = AutoModelForTokenClassification.from_pretrained(bert_pos_model_name).to(device)\n",
                "# bert_pos_tagger = TokenClassificationPipeline(model=bert_pos_model, tokenizer=bert_tokenizer, device=device)\n",
                "\n",
                "# df_jobs['Job Description bert_token_tags_with_scores'] = df_jobs['Job Description spacy_sentencized'].progress_apply(\n",
                "#     lambda sentence: [\n",
                "#         (bert_pos_tag['word'], bert_pos_tag['entity'], bert_pos_tag['score'])\n",
                "#         for i in range(len(sentence.split()))\n",
                "#         for bert_pos_tag in bert_pos_tagger(sentence)\n",
                "#     ]\n",
                "# ).to(device)\n",
                "\n",
                "# assert len(df_jobs) > 0 and isinstance(df_jobs, pd.DataFrame), f'ERORR: LENGTH OF DF = {len(df_jobs)}'\n",
                "# df_jobs.to_pickle(f'{df_save_dir}df_jobs_tags_lemmas_stems_spacy_nltk_bert.pkl')\n",
                "# df_jobs.to_csv(f'{df_save_dir}df_jobs_tags_lemmas_stems_spacy_nltk_bert.csv', index=False)\n",
                "\n",
                "# df_jobs['Job Description bert_token_tags'] = df_jobs['Job Description bert_token_tags_with_scores'].progress_apply(\n",
                "#     lambda tag_list: [\n",
                "#         [(tag_list[i][0], tag_list[i][1])]\n",
                "#         for tag_tuple in tag_list\n",
                "#         for i in range(len(tag_list))\n",
                "#     ]\n",
                "# )\n",
                "\n",
                "# assert len(df_jobs) > 0 and isinstance(df_jobs, pd.DataFrame), f'ERORR: LENGTH OF DF = {len(df_jobs)}'\n",
                "# df_jobs.to_pickle(f'{df_save_dir}df_jobs_tags_lemmas_stems_spacy_nltk_bert.pkl')\n",
                "# df_jobs.to_csv(f'{df_save_dir}df_jobs_tags_lemmas_stems_spacy_nltk_bert.csv', index=False)\n",
                "\n"
            ]
        },
        {
            "cell_type": "code",
            "execution_count": 22,
            "id": "0f7e50a4",
            "metadata": {},
            "outputs": [],
            "source": [
                "# assert len(df_jobs) > 0 and isinstance(df_jobs, pd.DataFrame), f'ERORR: LENGTH OF DF = {len(df_jobs)}'\n",
                "# df_jobs.to_pickle(f'{df_save_dir}df_jobs_tags_lemmas_stems_spacy_nltk_bert.pkl')\n",
                "# df_jobs.to_csv(f'{df_save_dir}df_jobs_tags_lemmas_stems_spacy_nltk_bert.csv', index=False)\n"
            ]
        },
        {
            "cell_type": "code",
            "execution_count": null,
            "id": "ddaf5bf3",
            "metadata": {},
            "outputs": [],
            "source": []
        }
    ],
    "metadata": {
        "kernelspec": {
            "display_name": "study1_3.10",
            "language": "python",
            "name": "python3"
        },
        "language_info": {
            "codemirror_mode": {
                "name": "ipython",
                "version": 3
            },
            "file_extension": ".py",
            "mimetype": "text/x-python",
            "name": "python",
            "nbconvert_exporter": "python",
            "pygments_lexer": "ipython3",
            "version": "3.10.10"
        },
        "varInspector": {
            "cols": {
                "lenName": 16,
                "lenType": 16,
                "lenVar": 40
            },
            "kernels_config": {
                "python": {
                    "delete_cmd_postfix": "",
                    "delete_cmd_prefix": "del ",
                    "library": "var_list.py",
                    "varRefreshCmd": "print(var_dic_list())"
                },
                "r": {
                    "delete_cmd_postfix": ") ",
                    "delete_cmd_prefix": "rm(",
                    "library": "var_list.r",
                    "varRefreshCmd": "cat(var_dic_list()) "
                }
            },
            "types_to_exclude": [
                "module",
                "function",
                "builtin_function_or_method",
                "instance",
                "_Feature"
            ],
            "window_display": false
        }
    },
    "nbformat": 4,
    "nbformat_minor": 5
}
