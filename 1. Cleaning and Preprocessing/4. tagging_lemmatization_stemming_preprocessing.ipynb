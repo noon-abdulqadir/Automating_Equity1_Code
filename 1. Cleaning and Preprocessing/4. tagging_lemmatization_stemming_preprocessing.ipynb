{
 "cells": [
  {
   "cell_type": "markdown",
   "id": "6c0bfad5",
   "metadata": {},
   "source": [
    "# ATTN: This script should be run AFTER all tokenization (spacy, nltk, gensim, and BERT) completed.\n"
   ]
  },
  {
   "cell_type": "markdown",
   "id": "e4a62460",
   "metadata": {},
   "source": [
    "# Use spacy to create Parts-Of-Speech (POS) tags, lemmas, and stems\n"
   ]
  },
  {
   "cell_type": "markdown",
   "id": "374d2178",
   "metadata": {},
   "source": [
    "### START HERE IF SOURCING FROM DF_JOBS_TOKENIZED_SPACY_NLTK_GENSIM_BERT\n",
    "### PLEASE SET CORRECT DIRECTORY PATHS BELOW\n"
   ]
  },
  {
   "cell_type": "code",
   "execution_count": 1,
   "id": "c74f96a0",
   "metadata": {},
   "outputs": [],
   "source": [
    "import os\n",
    "import sys\n",
    "import importlib\n",
    "from pathlib import Path\n",
    "import numpy as np\n",
    "\n",
    "mod = sys.modules[__name__]\n",
    "\n",
    "code_dir = None\n",
    "code_dir_name = 'Code'\n",
    "unwanted_subdir_name = 'Analysis'\n",
    "\n",
    "for _ in range(5):\n",
    "\n",
    "    parent_path = str(Path.cwd().parents[_]).split('/')[-1]\n",
    "\n",
    "    if (code_dir_name in parent_path) and (unwanted_subdir_name not in parent_path):\n",
    "\n",
    "        code_dir = str(Path.cwd().parents[_])\n",
    "\n",
    "        if code_dir is not None:\n",
    "            break\n",
    "\n",
    "sys.path.append(code_dir)\n",
    "# %load_ext autoreload\n",
    "# %autoreload 2\n"
   ]
  },
  {
   "cell_type": "code",
   "execution_count": 2,
   "id": "1dbae468",
   "metadata": {},
   "outputs": [
    {
     "data": {
      "text/html": [
       "<style>.container { width:90% !important; }</style>"
      ],
      "text/plain": [
       "<IPython.core.display.HTML object>"
      ]
     },
     "metadata": {},
     "output_type": "display_data"
    },
    {
     "data": {
      "application/vnd.jupyter.widget-view+json": {
       "model_id": "3d7668be98b946be8c09ef5776e82b21",
       "version_major": 2,
       "version_minor": 0
      },
      "text/plain": [
       "0it [00:00, ?it/s]"
      ]
     },
     "metadata": {},
     "output_type": "display_data"
    },
    {
     "ename": "",
     "evalue": "",
     "output_type": "error",
     "traceback": [
      "\u001b[1;31mThe Kernel crashed while executing code in the the current cell or a previous cell. Please review the code in the cell(s) to identify a possible cause of the failure. Click <a href='https://aka.ms/vscodeJupyterKernelCrash'>here</a> for more info. View Jupyter <a href='command:jupyter.viewOutput'>log</a> for further details."
     ]
    }
   ],
   "source": [
    "from setup_module.imports import *\n"
   ]
  },
  {
   "cell_type": "code",
   "execution_count": 4,
   "id": "10424739",
   "metadata": {},
   "outputs": [],
   "source": [
    "df_jobs = pd.read_pickle(f'{df_save_dir}df_jobs_tokenized_spacy_nltk_gensim_bert.pkl').reset_index(drop=True)\n"
   ]
  },
  {
   "cell_type": "code",
   "execution_count": null,
   "id": "08c5b9fb",
   "metadata": {},
   "outputs": [
    {
     "name": "stdout",
     "output_type": "stream",
     "text": [
      "<class 'pandas.core.frame.DataFrame'>\n",
      "RangeIndex: 194820 entries, 0 to 194819\n",
      "Data columns (total 69 columns):\n",
      " #   Column                                          Non-Null Count   Dtype  \n",
      "---  ------                                          --------------   -----  \n",
      " 0   Search Keyword                                  194820 non-null  object \n",
      " 1   Platform                                        194820 non-null  object \n",
      " 2   Job ID                                          194820 non-null  object \n",
      " 3   Job Title                                       194820 non-null  object \n",
      " 4   Company Name                                    194816 non-null  object \n",
      " 5   Location                                        194820 non-null  object \n",
      " 6   Job Description                                 194820 non-null  object \n",
      " 7   Rating                                          170120 non-null  float64\n",
      " 8   Employment Type                                 163313 non-null  object \n",
      " 9   Company URL                                     192654 non-null  object \n",
      " 10  Job URL                                         194820 non-null  object \n",
      " 11  Job Age                                         194820 non-null  object \n",
      " 12  Job Age Number                                  194820 non-null  object \n",
      " 13  Collection Date                                 194820 non-null  object \n",
      " 14  Data Row                                        24535 non-null   float64\n",
      " 15  Tracking ID                                     24535 non-null   object \n",
      " 16  Industry                                        56207 non-null   object \n",
      " 17  Job Date                                        24700 non-null   object \n",
      " 18  Type of ownership                               31507 non-null   object \n",
      " 19  Language                                        194820 non-null  object \n",
      " 20  Dutch Requirement                               194820 non-null  object \n",
      " 21  English Requirement                             194820 non-null  object \n",
      " 22  Sector Code                                     194820 non-null  object \n",
      " 23  Sector                                          194820 non-null  object \n",
      " 24  Keywords Count                                  194820 non-null  float64\n",
      " 25  % per Sector                                    194820 non-null  float64\n",
      " 26  % per Social Category                           194820 non-null  float64\n",
      " 27  % per Workforce                                 194820 non-null  float64\n",
      " 28  Female Count (x 1000)                           194820 non-null  float64\n",
      " 29  Gender_Female_% per Sector                      194820 non-null  float64\n",
      " 30  Gender_Female_% per Social Category             194820 non-null  float64\n",
      " 31  Gender_Female_% per Workforce                   194820 non-null  float64\n",
      " 32  Male Count (x 1000)                             194820 non-null  float64\n",
      " 33  Gender_Male_% per Sector                        194820 non-null  float64\n",
      " 34  Gender_Male_% per Social Category               194820 non-null  float64\n",
      " 35  Gender_Male_% per Workforce                     194820 non-null  float64\n",
      " 36  Gender                                          194820 non-null  object \n",
      " 37  Age_Older (>= 45 years)_n                       194820 non-null  float64\n",
      " 38  Age_Older (>= 45 years)_% per Sector            194820 non-null  float64\n",
      " 39  Age_Older (>= 45 years)_% per Social Category   194820 non-null  float64\n",
      " 40  Age_Older (>= 45 years)_% per Workforce         194820 non-null  float64\n",
      " 41  Age_Younger (< 45 years)_n                      194820 non-null  float64\n",
      " 42  Age_Younger (< 45 years)_% per Sector           194820 non-null  float64\n",
      " 43  Age_Younger (< 45 years)_% per Social Category  194820 non-null  float64\n",
      " 44  Age_Younger (< 45 years)_% per Workforce        194820 non-null  float64\n",
      " 45  Age                                             194820 non-null  object \n",
      " 46  Sector Count (x 1000)                           194820 non-null  float64\n",
      " 47  % Sector per Workforce                          194820 non-null  float64\n",
      " 48  Gender_Female                                   194820 non-null  int64  \n",
      " 49  Gender_Male                                     194820 non-null  int64  \n",
      " 50  Gender_Mixed Gender                             194820 non-null  int64  \n",
      " 51  Age_Mixed Age                                   194820 non-null  int64  \n",
      " 52  Age_Older                                       194820 non-null  int64  \n",
      " 53  Age_Younger                                     194820 non-null  int64  \n",
      " 54  Gender_Num                                      194820 non-null  int64  \n",
      " 55  Age_Num                                         194820 non-null  int64  \n",
      " 56  Job Description spacy_sentencized               194820 non-null  object \n",
      " 57  Job Description spacy_sentencized_lower         194820 non-null  object \n",
      " 58  Job Description spacy_tokenized                 194820 non-null  object \n",
      " 59  Job Description spacy_sentencized_cleaned       194820 non-null  object \n",
      " 60  Job Description num_words                       194820 non-null  int64  \n",
      " 61  Job Description num_unique_words                194820 non-null  int64  \n",
      " 62  Job Description num_chars                       194820 non-null  int64  \n",
      " 63  Job Description num_punctuations                194820 non-null  int64  \n",
      " 64  Job Description nltk_tokenized                  194820 non-null  object \n",
      " 65  Job Description gensim_tokenized                194820 non-null  object \n",
      " 66  Job Description bert_encodings                  194820 non-null  object \n",
      " 67  Job Description bert_tokenized                  194820 non-null  object \n",
      " 68  Job Description bert_tokenized_to_id            194820 non-null  int64  \n",
      "dtypes: float64(24), int64(13), object(32)\n",
      "memory usage: 102.6+ MB\n"
     ]
    }
   ],
   "source": [
    "df_jobs.info()\n"
   ]
  },
  {
   "cell_type": "code",
   "execution_count": null,
   "id": "45e45b2c",
   "metadata": {},
   "outputs": [
    {
     "name": "stdout",
     "output_type": "stream",
     "text": [
      "CPU times: user 1h 13min 35s, sys: 2min 4s, total: 1h 15min 39s\n",
      "Wall time: 1h 37min 17s\n"
     ]
    }
   ],
   "source": [
    "%%time\n",
    "# Load customer characters\n",
    "with open(f'{data_dir}punctuations.txt', 'rb') as f:\n",
    "    custom_punct_chars = pickle.load(f)\n",
    "\n",
    "# POS tagging\n",
    "df_jobs['Job Description spacy_token_tags'] = df_jobs['Job Description spacy_sentencized'].apply(\n",
    "    lambda job_sentence: [\n",
    "        tuple([token.text.strip().lower(), token.tag_])\n",
    "        for token in nlp(job_sentence)\n",
    "        \n",
    "    ]\n",
    ")\n",
    "\n",
    "# Lemmatization\n",
    "df_jobs['Job Description spacy_lemmas'] = df_jobs['Job Description spacy_sentencized'].apply(\n",
    "    lambda job_sentence: [\n",
    "        token.lemma_.strip().lower()\n",
    "        for token in nlp(job_sentence)\n",
    "        if len(token) != 0 and not token.is_stop and not token.is_punct and token.text not in custom_punct_chars\n",
    "    ]\n",
    ")\n",
    "\n",
    "# Stemming\n",
    "df_jobs['Job Description spacy_stems'] = df_jobs['Job Description spacy_sentencized'].apply(\n",
    "    lambda job_sentence: [\n",
    "        stemmer.stem(token.text.strip().lower())\n",
    "        for token in nlp(job_sentence)\n",
    "        if len(token) != 0 and not token.is_stop and not token.is_punct and token.text not in custom_punct_chars\n",
    "    ]\n",
    ")\n",
    "\n",
    "assert len(df_jobs) > 0 and isinstance(df_jobs, pd.DataFrame), f'ERORR: LENGTH OF DF = {len(df_jobs)}'\n",
    "df_jobs.to_pickle(f'{df_save_dir}df_jobs_tags_lemmas_stems_spacy.pkl')\n",
    "df_jobs.to_csv(f'{df_save_dir}df_jobs_tags_lemmas_stems_spacy.csv', index=False)\n"
   ]
  },
  {
   "cell_type": "code",
   "execution_count": null,
   "id": "9d8332f9",
   "metadata": {},
   "outputs": [
    {
     "name": "stdout",
     "output_type": "stream",
     "text": [
      "<class 'pandas.core.frame.DataFrame'>\n",
      "RangeIndex: 194820 entries, 0 to 194819\n",
      "Data columns (total 72 columns):\n",
      " #   Column                                          Non-Null Count   Dtype  \n",
      "---  ------                                          --------------   -----  \n",
      " 0   Search Keyword                                  194820 non-null  object \n",
      " 1   Platform                                        194820 non-null  object \n",
      " 2   Job ID                                          194820 non-null  object \n",
      " 3   Job Title                                       194820 non-null  object \n",
      " 4   Company Name                                    194816 non-null  object \n",
      " 5   Location                                        194820 non-null  object \n",
      " 6   Job Description                                 194820 non-null  object \n",
      " 7   Rating                                          170120 non-null  float64\n",
      " 8   Employment Type                                 163313 non-null  object \n",
      " 9   Company URL                                     192654 non-null  object \n",
      " 10  Job URL                                         194820 non-null  object \n",
      " 11  Job Age                                         194820 non-null  object \n",
      " 12  Job Age Number                                  194820 non-null  object \n",
      " 13  Collection Date                                 194820 non-null  object \n",
      " 14  Data Row                                        24535 non-null   float64\n",
      " 15  Tracking ID                                     24535 non-null   object \n",
      " 16  Industry                                        56207 non-null   object \n",
      " 17  Job Date                                        24700 non-null   object \n",
      " 18  Type of ownership                               31507 non-null   object \n",
      " 19  Language                                        194820 non-null  object \n",
      " 20  Dutch Requirement                               194820 non-null  object \n",
      " 21  English Requirement                             194820 non-null  object \n",
      " 22  Sector Code                                     194820 non-null  object \n",
      " 23  Sector                                          194820 non-null  object \n",
      " 24  Keywords Count                                  194820 non-null  float64\n",
      " 25  % per Sector                                    194820 non-null  float64\n",
      " 26  % per Social Category                           194820 non-null  float64\n",
      " 27  % per Workforce                                 194820 non-null  float64\n",
      " 28  Female Count (x 1000)                           194820 non-null  float64\n",
      " 29  Gender_Female_% per Sector                      194820 non-null  float64\n",
      " 30  Gender_Female_% per Social Category             194820 non-null  float64\n",
      " 31  Gender_Female_% per Workforce                   194820 non-null  float64\n",
      " 32  Male Count (x 1000)                             194820 non-null  float64\n",
      " 33  Gender_Male_% per Sector                        194820 non-null  float64\n",
      " 34  Gender_Male_% per Social Category               194820 non-null  float64\n",
      " 35  Gender_Male_% per Workforce                     194820 non-null  float64\n",
      " 36  Gender                                          194820 non-null  object \n",
      " 37  Age_Older (>= 45 years)_n                       194820 non-null  float64\n",
      " 38  Age_Older (>= 45 years)_% per Sector            194820 non-null  float64\n",
      " 39  Age_Older (>= 45 years)_% per Social Category   194820 non-null  float64\n",
      " 40  Age_Older (>= 45 years)_% per Workforce         194820 non-null  float64\n",
      " 41  Age_Younger (< 45 years)_n                      194820 non-null  float64\n",
      " 42  Age_Younger (< 45 years)_% per Sector           194820 non-null  float64\n",
      " 43  Age_Younger (< 45 years)_% per Social Category  194820 non-null  float64\n",
      " 44  Age_Younger (< 45 years)_% per Workforce        194820 non-null  float64\n",
      " 45  Age                                             194820 non-null  object \n",
      " 46  Sector Count (x 1000)                           194820 non-null  float64\n",
      " 47  % Sector per Workforce                          194820 non-null  float64\n",
      " 48  Gender_Female                                   194820 non-null  int64  \n",
      " 49  Gender_Male                                     194820 non-null  int64  \n",
      " 50  Gender_Mixed Gender                             194820 non-null  int64  \n",
      " 51  Age_Mixed Age                                   194820 non-null  int64  \n",
      " 52  Age_Older                                       194820 non-null  int64  \n",
      " 53  Age_Younger                                     194820 non-null  int64  \n",
      " 54  Gender_Num                                      194820 non-null  int64  \n",
      " 55  Age_Num                                         194820 non-null  int64  \n",
      " 56  Job Description spacy_sentencized               194820 non-null  object \n",
      " 57  Job Description spacy_sentencized_lower         194820 non-null  object \n",
      " 58  Job Description spacy_tokenized                 194820 non-null  object \n",
      " 59  Job Description spacy_sentencized_cleaned       194820 non-null  object \n",
      " 60  Job Description num_words                       194820 non-null  int64  \n",
      " 61  Job Description num_unique_words                194820 non-null  int64  \n",
      " 62  Job Description num_chars                       194820 non-null  int64  \n",
      " 63  Job Description num_punctuations                194820 non-null  int64  \n",
      " 64  Job Description nltk_tokenized                  194820 non-null  object \n",
      " 65  Job Description gensim_tokenized                194820 non-null  object \n",
      " 66  Job Description bert_encodings                  194820 non-null  object \n",
      " 67  Job Description bert_tokenized                  194820 non-null  object \n",
      " 68  Job Description bert_tokenized_to_id            194820 non-null  int64  \n",
      " 69  Job Description spacy_token_tags                194820 non-null  object \n",
      " 70  Job Description spacy_lemmas                    194820 non-null  object \n",
      " 71  Job Description spacy_stems                     194820 non-null  object \n",
      "dtypes: float64(24), int64(13), object(35)\n",
      "memory usage: 107.0+ MB\n"
     ]
    }
   ],
   "source": [
    "df_jobs.info()\n"
   ]
  },
  {
   "cell_type": "code",
   "execution_count": null,
   "id": "5d8d37b3",
   "metadata": {},
   "outputs": [
    {
     "data": {
      "text/html": [
       "<div>\n",
       "<style scoped>\n",
       "    .dataframe tbody tr th:only-of-type {\n",
       "        vertical-align: middle;\n",
       "    }\n",
       "\n",
       "    .dataframe tbody tr th {\n",
       "        vertical-align: top;\n",
       "    }\n",
       "\n",
       "    .dataframe thead th {\n",
       "        text-align: right;\n",
       "    }\n",
       "</style>\n",
       "<table border=\"1\" class=\"dataframe\">\n",
       "  <thead>\n",
       "    <tr style=\"text-align: right;\">\n",
       "      <th></th>\n",
       "      <th>Job Description spacy_token_tags</th>\n",
       "      <th>Job Description spacy_lemmas</th>\n",
       "      <th>Job Description spacy_stems</th>\n",
       "    </tr>\n",
       "  </thead>\n",
       "  <tbody>\n",
       "    <tr>\n",
       "      <th>0</th>\n",
       "      <td>[(about, IN), (our, PRP$), (client, NNP)]</td>\n",
       "      <td>[client]</td>\n",
       "      <td>[client]</td>\n",
       "    </tr>\n",
       "    <tr>\n",
       "      <th>1</th>\n",
       "      <td>[(the, DT), (global, NNP), (kyc, NNP), (organi...</td>\n",
       "      <td>[global, kyc, organisation, ing, coo, domain]</td>\n",
       "      <td>[global, kyc, organis, ing, coo, domain]</td>\n",
       "    </tr>\n",
       "    <tr>\n",
       "      <th>2</th>\n",
       "      <td>[(its, PRP$), (purpose, NN), (is, VBZ), (enabl...</td>\n",
       "      <td>[purpose, enable, people, organisation, use, b...</td>\n",
       "      <td>[purpos, enabl, peopl, organis, use, bank, ser...</td>\n",
       "    </tr>\n",
       "    <tr>\n",
       "      <th>3</th>\n",
       "      <td>[(our, PRP$), (global, NNP), (kyc, NNP), (orga...</td>\n",
       "      <td>[global, kyc, organisation, line, defence, dep...</td>\n",
       "      <td>[global, kyc, organis, line, defenc, depart, p...</td>\n",
       "    </tr>\n",
       "    <tr>\n",
       "      <th>4</th>\n",
       "      <td>[(in, IN), (our, PRP$), (global, NNP), (kyc, N...</td>\n",
       "      <td>[global, kyc, organisation, work, colleague, d...</td>\n",
       "      <td>[global, kyc, organis, work, colleagu, differ,...</td>\n",
       "    </tr>\n",
       "  </tbody>\n",
       "</table>\n",
       "</div>"
      ],
      "text/plain": [
       "                    Job Description spacy_token_tags  \\\n",
       "0          [(about, IN), (our, PRP$), (client, NNP)]   \n",
       "1  [(the, DT), (global, NNP), (kyc, NNP), (organi...   \n",
       "2  [(its, PRP$), (purpose, NN), (is, VBZ), (enabl...   \n",
       "3  [(our, PRP$), (global, NNP), (kyc, NNP), (orga...   \n",
       "4  [(in, IN), (our, PRP$), (global, NNP), (kyc, N...   \n",
       "\n",
       "                        Job Description spacy_lemmas  \\\n",
       "0                                           [client]   \n",
       "1      [global, kyc, organisation, ing, coo, domain]   \n",
       "2  [purpose, enable, people, organisation, use, b...   \n",
       "3  [global, kyc, organisation, line, defence, dep...   \n",
       "4  [global, kyc, organisation, work, colleague, d...   \n",
       "\n",
       "                         Job Description spacy_stems  \n",
       "0                                           [client]  \n",
       "1           [global, kyc, organis, ing, coo, domain]  \n",
       "2  [purpos, enabl, peopl, organis, use, bank, ser...  \n",
       "3  [global, kyc, organis, line, defenc, depart, p...  \n",
       "4  [global, kyc, organis, work, colleagu, differ,...  "
      ]
     },
     "execution_count": 8,
     "metadata": {},
     "output_type": "execute_result"
    }
   ],
   "source": [
    "df_jobs[\n",
    "    [\n",
    "        'Job Description spacy_token_tags',\n",
    "        'Job Description spacy_lemmas',\n",
    "        'Job Description spacy_stems'\n",
    "    ]\n",
    "].head()\n"
   ]
  },
  {
   "cell_type": "code",
   "execution_count": null,
   "id": "fa7acdc1",
   "metadata": {},
   "outputs": [],
   "source": [
    "assert len(df_jobs) > 0 and isinstance(df_jobs, pd.DataFrame), f'ERORR: LENGTH OF DF = {len(df_jobs)}'\n",
    "df_jobs.to_pickle(f'{df_save_dir}df_jobs_tags_lemmas_stems_spacy.pkl')\n",
    "df_jobs.to_csv(f'{df_save_dir}df_jobs_tags_lemmas_stems_spacy.csv', index=False)\n"
   ]
  },
  {
   "cell_type": "markdown",
   "id": "8c74665a",
   "metadata": {},
   "source": [
    "# Use NLTK to create Parts-Of-Speech (POS) tags, lemmas, and stems\n"
   ]
  },
  {
   "cell_type": "markdown",
   "id": "12fe6cb2",
   "metadata": {},
   "source": [
    "### START HERE IF SOURCING FROM DF_JOBS_TAGS_LEMMAS_STEMS_SPACY\n",
    "### PLEASE SET CORRECT DIRECTORY PATHS BELOW\n"
   ]
  },
  {
   "cell_type": "code",
   "execution_count": null,
   "id": "7c765e8d",
   "metadata": {},
   "outputs": [],
   "source": [
    "import os\n",
    "import sys\n",
    "import importlib\n",
    "from pathlib import Path\n",
    "import numpy as np\n",
    "\n",
    "mod = sys.modules[__name__]\n",
    "\n",
    "code_dir = None\n",
    "code_dir_name = 'Code'\n",
    "unwanted_subdir_name = 'Analysis'\n",
    "\n",
    "for _ in range(5):\n",
    "\n",
    "    parent_path = str(Path.cwd().parents[_]).split('/')[-1]\n",
    "\n",
    "    if (code_dir_name in parent_path) and (unwanted_subdir_name not in parent_path):\n",
    "\n",
    "        code_dir = str(Path.cwd().parents[_])\n",
    "\n",
    "        if code_dir is not None:\n",
    "            break\n",
    "\n",
    "sys.path.append(code_dir)\n",
    "# %load_ext autoreload\n",
    "# %autoreload 2\n"
   ]
  },
  {
   "cell_type": "code",
   "execution_count": null,
   "id": "d37068ad",
   "metadata": {},
   "outputs": [],
   "source": [
    "from setup_module.imports import *\n"
   ]
  },
  {
   "cell_type": "code",
   "execution_count": null,
   "id": "ac327ec6",
   "metadata": {},
   "outputs": [],
   "source": [
    "def get_wordnet_pos(token):\n",
    "    \"\"\"Map POS tag to first character lemmatize() accepts\"\"\"\n",
    "    tag = nltk.pos_tag([token])[0][1][0].upper()\n",
    "    tag_dict = {\"J\": wordnet.ADJ,\n",
    "                \"N\": wordnet.NOUN,\n",
    "                \"V\": wordnet.VERB,\n",
    "                \"R\": wordnet.ADV}\n",
    "\n",
    "    return tag_dict.get(tag, wordnet.NOUN)\n"
   ]
  },
  {
   "cell_type": "code",
   "execution_count": null,
   "id": "0b5e476b",
   "metadata": {},
   "outputs": [],
   "source": [
    "df_jobs = pd.read_pickle(f'{df_save_dir}df_jobs_tags_lemmas_stems_spacy.pkl').reset_index(drop=True)\n"
   ]
  },
  {
   "cell_type": "code",
   "execution_count": null,
   "id": "6f5c1c44",
   "metadata": {},
   "outputs": [
    {
     "name": "stdout",
     "output_type": "stream",
     "text": [
      "<class 'pandas.core.frame.DataFrame'>\n",
      "RangeIndex: 194820 entries, 0 to 194819\n",
      "Data columns (total 72 columns):\n",
      " #   Column                                          Non-Null Count   Dtype  \n",
      "---  ------                                          --------------   -----  \n",
      " 0   Search Keyword                                  194820 non-null  object \n",
      " 1   Platform                                        194820 non-null  object \n",
      " 2   Job ID                                          194820 non-null  object \n",
      " 3   Job Title                                       194820 non-null  object \n",
      " 4   Company Name                                    194816 non-null  object \n",
      " 5   Location                                        194820 non-null  object \n",
      " 6   Job Description                                 194820 non-null  object \n",
      " 7   Rating                                          170120 non-null  float64\n",
      " 8   Employment Type                                 163313 non-null  object \n",
      " 9   Company URL                                     192654 non-null  object \n",
      " 10  Job URL                                         194820 non-null  object \n",
      " 11  Job Age                                         194820 non-null  object \n",
      " 12  Job Age Number                                  194820 non-null  object \n",
      " 13  Collection Date                                 194820 non-null  object \n",
      " 14  Data Row                                        24535 non-null   float64\n",
      " 15  Tracking ID                                     24535 non-null   object \n",
      " 16  Industry                                        56207 non-null   object \n",
      " 17  Job Date                                        24700 non-null   object \n",
      " 18  Type of ownership                               31507 non-null   object \n",
      " 19  Language                                        194820 non-null  object \n",
      " 20  Dutch Requirement                               194820 non-null  object \n",
      " 21  English Requirement                             194820 non-null  object \n",
      " 22  Sector Code                                     194820 non-null  object \n",
      " 23  Sector                                          194820 non-null  object \n",
      " 24  Keywords Count                                  194820 non-null  float64\n",
      " 25  % per Sector                                    194820 non-null  float64\n",
      " 26  % per Social Category                           194820 non-null  float64\n",
      " 27  % per Workforce                                 194820 non-null  float64\n",
      " 28  Female Count (x 1000)                           194820 non-null  float64\n",
      " 29  Gender_Female_% per Sector                      194820 non-null  float64\n",
      " 30  Gender_Female_% per Social Category             194820 non-null  float64\n",
      " 31  Gender_Female_% per Workforce                   194820 non-null  float64\n",
      " 32  Male Count (x 1000)                             194820 non-null  float64\n",
      " 33  Gender_Male_% per Sector                        194820 non-null  float64\n",
      " 34  Gender_Male_% per Social Category               194820 non-null  float64\n",
      " 35  Gender_Male_% per Workforce                     194820 non-null  float64\n",
      " 36  Gender                                          194820 non-null  object \n",
      " 37  Age_Older (>= 45 years)_n                       194820 non-null  float64\n",
      " 38  Age_Older (>= 45 years)_% per Sector            194820 non-null  float64\n",
      " 39  Age_Older (>= 45 years)_% per Social Category   194820 non-null  float64\n",
      " 40  Age_Older (>= 45 years)_% per Workforce         194820 non-null  float64\n",
      " 41  Age_Younger (< 45 years)_n                      194820 non-null  float64\n",
      " 42  Age_Younger (< 45 years)_% per Sector           194820 non-null  float64\n",
      " 43  Age_Younger (< 45 years)_% per Social Category  194820 non-null  float64\n",
      " 44  Age_Younger (< 45 years)_% per Workforce        194820 non-null  float64\n",
      " 45  Age                                             194820 non-null  object \n",
      " 46  Sector Count (x 1000)                           194820 non-null  float64\n",
      " 47  % Sector per Workforce                          194820 non-null  float64\n",
      " 48  Gender_Female                                   194820 non-null  int64  \n",
      " 49  Gender_Male                                     194820 non-null  int64  \n",
      " 50  Gender_Mixed Gender                             194820 non-null  int64  \n",
      " 51  Age_Mixed Age                                   194820 non-null  int64  \n",
      " 52  Age_Older                                       194820 non-null  int64  \n",
      " 53  Age_Younger                                     194820 non-null  int64  \n",
      " 54  Gender_Num                                      194820 non-null  int64  \n",
      " 55  Age_Num                                         194820 non-null  int64  \n",
      " 56  Job Description spacy_sentencized               194820 non-null  object \n",
      " 57  Job Description spacy_sentencized_lower         194820 non-null  object \n",
      " 58  Job Description spacy_tokenized                 194820 non-null  object \n",
      " 59  Job Description spacy_sentencized_cleaned       194820 non-null  object \n",
      " 60  Job Description num_words                       194820 non-null  int64  \n",
      " 61  Job Description num_unique_words                194820 non-null  int64  \n",
      " 62  Job Description num_chars                       194820 non-null  int64  \n",
      " 63  Job Description num_punctuations                194820 non-null  int64  \n",
      " 64  Job Description nltk_tokenized                  194820 non-null  object \n",
      " 65  Job Description gensim_tokenized                194820 non-null  object \n",
      " 66  Job Description bert_encodings                  194820 non-null  object \n",
      " 67  Job Description bert_tokenized                  194820 non-null  object \n",
      " 68  Job Description bert_tokenized_to_id            194820 non-null  int64  \n",
      " 69  Job Description spacy_token_tags                194820 non-null  object \n",
      " 70  Job Description spacy_lemmas                    194820 non-null  object \n",
      " 71  Job Description spacy_stems                     194820 non-null  object \n",
      "dtypes: float64(24), int64(13), object(35)\n",
      "memory usage: 107.0+ MB\n"
     ]
    }
   ],
   "source": [
    "df_jobs.info()\n"
   ]
  },
  {
   "cell_type": "code",
   "execution_count": null,
   "id": "92fb117a",
   "metadata": {},
   "outputs": [
    {
     "name": "stdout",
     "output_type": "stream",
     "text": [
      "CPU times: user 9min 21s, sys: 2min 41s, total: 12min 3s\n",
      "Wall time: 20min 23s\n"
     ]
    }
   ],
   "source": [
    "%%time\n",
    "# POS stagging\n",
    "df_jobs['Job Description nltk_token_tags'] = df_jobs['Job Description spacy_tokenized'].apply(\n",
    "    lambda token: pos_tag(token)\n",
    ")\n",
    "\n",
    "# Lemmatization\n",
    "df_jobs['Job Description nltk_lemmas'] = df_jobs['Job Description spacy_tokenized'].apply(\n",
    "    lambda tokens: [\n",
    "        lemmatizer.lemmatize(\n",
    "            token, get_wordnet_pos(\n",
    "                unicodedata.normalize('NFKD', str(token.strip().lower())).encode('ascii', 'ignore').decode('utf-8', 'ignore')\n",
    "            )\n",
    "        )\n",
    "        for token in tokens\n",
    "    ]\n",
    ")\n",
    "\n",
    "# Stemming\n",
    "df_jobs['Job Description nltk_stems'] = df_jobs['Job Description spacy_tokenized'].apply(\n",
    "    lambda tokens: [\n",
    "        stemmer.stem(\n",
    "            unicodedata.normalize('NFKD', str(token.strip().lower())).encode('ascii', 'ignore').decode('utf-8', 'ignore')\n",
    "        )\n",
    "        for token in tokens\n",
    "    ]\n",
    ")\n",
    "\n",
    "assert len(df_jobs) > 0 and isinstance(df_jobs, pd.DataFrame), f'ERORR: LENGTH OF DF = {len(df_jobs)}'\n",
    "df_jobs.to_pickle(f'{df_save_dir}df_jobs_tags_lemmas_stems_spacy_nltk.pkl')\n",
    "df_jobs.to_csv(f'{df_save_dir}df_jobs_tags_lemmas_stems_spacy_nltk.csv', index=False)\n",
    "\n"
   ]
  },
  {
   "cell_type": "code",
   "execution_count": null,
   "id": "2893388c",
   "metadata": {},
   "outputs": [
    {
     "name": "stdout",
     "output_type": "stream",
     "text": [
      "<class 'pandas.core.frame.DataFrame'>\n",
      "RangeIndex: 194820 entries, 0 to 194819\n",
      "Data columns (total 75 columns):\n",
      " #   Column                                          Non-Null Count   Dtype  \n",
      "---  ------                                          --------------   -----  \n",
      " 0   Search Keyword                                  194820 non-null  object \n",
      " 1   Platform                                        194820 non-null  object \n",
      " 2   Job ID                                          194820 non-null  object \n",
      " 3   Job Title                                       194820 non-null  object \n",
      " 4   Company Name                                    194816 non-null  object \n",
      " 5   Location                                        194820 non-null  object \n",
      " 6   Job Description                                 194820 non-null  object \n",
      " 7   Rating                                          170120 non-null  float64\n",
      " 8   Employment Type                                 163313 non-null  object \n",
      " 9   Company URL                                     192654 non-null  object \n",
      " 10  Job URL                                         194820 non-null  object \n",
      " 11  Job Age                                         194820 non-null  object \n",
      " 12  Job Age Number                                  194820 non-null  object \n",
      " 13  Collection Date                                 194820 non-null  object \n",
      " 14  Data Row                                        24535 non-null   float64\n",
      " 15  Tracking ID                                     24535 non-null   object \n",
      " 16  Industry                                        56207 non-null   object \n",
      " 17  Job Date                                        24700 non-null   object \n",
      " 18  Type of ownership                               31507 non-null   object \n",
      " 19  Language                                        194820 non-null  object \n",
      " 20  Dutch Requirement                               194820 non-null  object \n",
      " 21  English Requirement                             194820 non-null  object \n",
      " 22  Sector Code                                     194820 non-null  object \n",
      " 23  Sector                                          194820 non-null  object \n",
      " 24  Keywords Count                                  194820 non-null  float64\n",
      " 25  % per Sector                                    194820 non-null  float64\n",
      " 26  % per Social Category                           194820 non-null  float64\n",
      " 27  % per Workforce                                 194820 non-null  float64\n",
      " 28  Female Count (x 1000)                           194820 non-null  float64\n",
      " 29  Gender_Female_% per Sector                      194820 non-null  float64\n",
      " 30  Gender_Female_% per Social Category             194820 non-null  float64\n",
      " 31  Gender_Female_% per Workforce                   194820 non-null  float64\n",
      " 32  Male Count (x 1000)                             194820 non-null  float64\n",
      " 33  Gender_Male_% per Sector                        194820 non-null  float64\n",
      " 34  Gender_Male_% per Social Category               194820 non-null  float64\n",
      " 35  Gender_Male_% per Workforce                     194820 non-null  float64\n",
      " 36  Gender                                          194820 non-null  object \n",
      " 37  Age_Older (>= 45 years)_n                       194820 non-null  float64\n",
      " 38  Age_Older (>= 45 years)_% per Sector            194820 non-null  float64\n",
      " 39  Age_Older (>= 45 years)_% per Social Category   194820 non-null  float64\n",
      " 40  Age_Older (>= 45 years)_% per Workforce         194820 non-null  float64\n",
      " 41  Age_Younger (< 45 years)_n                      194820 non-null  float64\n",
      " 42  Age_Younger (< 45 years)_% per Sector           194820 non-null  float64\n",
      " 43  Age_Younger (< 45 years)_% per Social Category  194820 non-null  float64\n",
      " 44  Age_Younger (< 45 years)_% per Workforce        194820 non-null  float64\n",
      " 45  Age                                             194820 non-null  object \n",
      " 46  Sector Count (x 1000)                           194820 non-null  float64\n",
      " 47  % Sector per Workforce                          194820 non-null  float64\n",
      " 48  Gender_Female                                   194820 non-null  int64  \n",
      " 49  Gender_Male                                     194820 non-null  int64  \n",
      " 50  Gender_Mixed Gender                             194820 non-null  int64  \n",
      " 51  Age_Mixed Age                                   194820 non-null  int64  \n",
      " 52  Age_Older                                       194820 non-null  int64  \n",
      " 53  Age_Younger                                     194820 non-null  int64  \n",
      " 54  Gender_Num                                      194820 non-null  int64  \n",
      " 55  Age_Num                                         194820 non-null  int64  \n",
      " 56  Job Description spacy_sentencized               194820 non-null  object \n",
      " 57  Job Description spacy_sentencized_lower         194820 non-null  object \n",
      " 58  Job Description spacy_tokenized                 194820 non-null  object \n",
      " 59  Job Description spacy_sentencized_cleaned       194820 non-null  object \n",
      " 60  Job Description num_words                       194820 non-null  int64  \n",
      " 61  Job Description num_unique_words                194820 non-null  int64  \n",
      " 62  Job Description num_chars                       194820 non-null  int64  \n",
      " 63  Job Description num_punctuations                194820 non-null  int64  \n",
      " 64  Job Description nltk_tokenized                  194820 non-null  object \n",
      " 65  Job Description gensim_tokenized                194820 non-null  object \n",
      " 66  Job Description bert_encodings                  194820 non-null  object \n",
      " 67  Job Description bert_tokenized                  194820 non-null  object \n",
      " 68  Job Description bert_tokenized_to_id            194820 non-null  int64  \n",
      " 69  Job Description spacy_token_tags                194820 non-null  object \n",
      " 70  Job Description spacy_lemmas                    194820 non-null  object \n",
      " 71  Job Description spacy_stems                     194820 non-null  object \n",
      " 72  Job Description nltk_token_tags                 194820 non-null  object \n",
      " 73  Job Description nltk_lemmas                     194820 non-null  object \n",
      " 74  Job Description nltk_stems                      194820 non-null  object \n",
      "dtypes: float64(24), int64(13), object(38)\n",
      "memory usage: 111.5+ MB\n"
     ]
    }
   ],
   "source": [
    "df_jobs.info()\n"
   ]
  },
  {
   "cell_type": "code",
   "execution_count": null,
   "id": "84e2af7a",
   "metadata": {},
   "outputs": [
    {
     "data": {
      "text/html": [
       "<div>\n",
       "<style scoped>\n",
       "    .dataframe tbody tr th:only-of-type {\n",
       "        vertical-align: middle;\n",
       "    }\n",
       "\n",
       "    .dataframe tbody tr th {\n",
       "        vertical-align: top;\n",
       "    }\n",
       "\n",
       "    .dataframe thead th {\n",
       "        text-align: right;\n",
       "    }\n",
       "</style>\n",
       "<table border=\"1\" class=\"dataframe\">\n",
       "  <thead>\n",
       "    <tr style=\"text-align: right;\">\n",
       "      <th></th>\n",
       "      <th>Job Description nltk_token_tags</th>\n",
       "      <th>Job Description nltk_lemmas</th>\n",
       "      <th>Job Description nltk_stems</th>\n",
       "    </tr>\n",
       "  </thead>\n",
       "  <tbody>\n",
       "    <tr>\n",
       "      <th>0</th>\n",
       "      <td>[(client, NN)]</td>\n",
       "      <td>[client]</td>\n",
       "      <td>[client]</td>\n",
       "    </tr>\n",
       "    <tr>\n",
       "      <th>1</th>\n",
       "      <td>[(global, JJ), (kyc, NN), (organisation, NN), ...</td>\n",
       "      <td>[global, kyc, organisation, ing, coo, domain]</td>\n",
       "      <td>[global, kyc, organis, ing, coo, domain]</td>\n",
       "    </tr>\n",
       "    <tr>\n",
       "      <th>2</th>\n",
       "      <td>[(purpose, JJ), (enabling, VBG), (people, NNS)...</td>\n",
       "      <td>[purpose, enable, people, organisation, use, b...</td>\n",
       "      <td>[purpos, enabl, peopl, organis, use, bank, ser...</td>\n",
       "    </tr>\n",
       "    <tr>\n",
       "      <th>3</th>\n",
       "      <td>[(global, JJ), (kyc, NN), (organisation, NN), ...</td>\n",
       "      <td>[global, kyc, organisation, line, defence, dep...</td>\n",
       "      <td>[global, kyc, organis, line, defenc, depart, p...</td>\n",
       "    </tr>\n",
       "    <tr>\n",
       "      <th>4</th>\n",
       "      <td>[(global, JJ), (kyc, NN), (organisation, NN), ...</td>\n",
       "      <td>[global, kyc, organisation, work, colleague, d...</td>\n",
       "      <td>[global, kyc, organis, work, colleagu, differ,...</td>\n",
       "    </tr>\n",
       "  </tbody>\n",
       "</table>\n",
       "</div>"
      ],
      "text/plain": [
       "                     Job Description nltk_token_tags  \\\n",
       "0                                     [(client, NN)]   \n",
       "1  [(global, JJ), (kyc, NN), (organisation, NN), ...   \n",
       "2  [(purpose, JJ), (enabling, VBG), (people, NNS)...   \n",
       "3  [(global, JJ), (kyc, NN), (organisation, NN), ...   \n",
       "4  [(global, JJ), (kyc, NN), (organisation, NN), ...   \n",
       "\n",
       "                         Job Description nltk_lemmas  \\\n",
       "0                                           [client]   \n",
       "1      [global, kyc, organisation, ing, coo, domain]   \n",
       "2  [purpose, enable, people, organisation, use, b...   \n",
       "3  [global, kyc, organisation, line, defence, dep...   \n",
       "4  [global, kyc, organisation, work, colleague, d...   \n",
       "\n",
       "                          Job Description nltk_stems  \n",
       "0                                           [client]  \n",
       "1           [global, kyc, organis, ing, coo, domain]  \n",
       "2  [purpos, enabl, peopl, organis, use, bank, ser...  \n",
       "3  [global, kyc, organis, line, defenc, depart, p...  \n",
       "4  [global, kyc, organis, work, colleagu, differ,...  "
      ]
     },
     "execution_count": 18,
     "metadata": {},
     "output_type": "execute_result"
    }
   ],
   "source": [
    "df_jobs[['Job Description nltk_token_tags', 'Job Description nltk_lemmas', 'Job Description nltk_stems']].head()\n"
   ]
  },
  {
   "cell_type": "code",
   "execution_count": null,
   "id": "102509c1",
   "metadata": {},
   "outputs": [],
   "source": [
    "assert len(df_jobs) > 0 and isinstance(df_jobs, pd.DataFrame), f'ERORR: LENGTH OF DF = {len(df_jobs)}'\n",
    "df_jobs.to_pickle(f'{df_save_dir}df_jobs_tags_lemmas_stems_spacy_nltk.pkl')\n",
    "df_jobs.to_csv(f'{df_save_dir}df_jobs_tags_lemmas_stems_spacy_nltk.csv', index=False)\n",
    "\n"
   ]
  },
  {
   "cell_type": "markdown",
   "id": "e5f98098",
   "metadata": {},
   "source": [
    "# Use BERT to create Parts-Of-Speech (POS) tags, lemmas, and stems\n"
   ]
  },
  {
   "cell_type": "markdown",
   "id": "03dd84df",
   "metadata": {},
   "source": [
    "### START HERE IF SOURCING FROM DF_JOBS_TAGS_LEMMAS_STEMS_SPACY_NLTK\n",
    "### PLEASE SET CORRECT DIRECTORY PATHS BELOW\n"
   ]
  },
  {
   "cell_type": "code",
   "execution_count": 1,
   "id": "cfc8511b",
   "metadata": {},
   "outputs": [],
   "source": [
    "import os\n",
    "import sys\n",
    "import importlib\n",
    "from pathlib import Path\n",
    "import numpy as np\n",
    "\n",
    "mod = sys.modules[__name__]\n",
    "\n",
    "code_dir = None\n",
    "code_dir_name = 'Code'\n",
    "unwanted_subdir_name = 'Analysis'\n",
    "\n",
    "for _ in range(5):\n",
    "\n",
    "    parent_path = str(Path.cwd().parents[_]).split('/')[-1]\n",
    "\n",
    "    if (code_dir_name in parent_path) and (unwanted_subdir_name not in parent_path):\n",
    "\n",
    "        code_dir = str(Path.cwd().parents[_])\n",
    "\n",
    "        if code_dir is not None:\n",
    "            break\n",
    "\n",
    "sys.path.append(code_dir)\n",
    "# %load_ext autoreload\n",
    "# %autoreload 2\n"
   ]
  },
  {
   "cell_type": "code",
   "execution_count": null,
   "id": "1b89fc5e",
   "metadata": {},
   "outputs": [],
   "source": [
    "from setup_module.imports import *\n"
   ]
  },
  {
   "cell_type": "code",
   "execution_count": 5,
   "id": "81972d25",
   "metadata": {},
   "outputs": [],
   "source": [
    "df_jobs = pd.read_pickle(f'{df_save_dir}df_jobs_tags_lemmas_stems_spacy_nltk.pkl').reset_index(drop=True)\n"
   ]
  },
  {
   "cell_type": "code",
   "execution_count": 23,
   "id": "e0a48ebd",
   "metadata": {},
   "outputs": [
    {
     "name": "stderr",
     "output_type": "stream",
     "text": [
      "100%|██████████| 16/16 [00:00<00:00, 98112.37it/s]\n"
     ]
    },
    {
     "ename": "AttributeError",
     "evalue": "'numpy.ndarray' object has no attribute 'split'",
     "output_type": "error",
     "traceback": [
      "\u001b[0;31m---------------------------------------------------------------------------\u001b[0m",
      "\u001b[0;31mRemoteTraceback\u001b[0m                           Traceback (most recent call last)",
      "\u001b[0;31mRemoteTraceback\u001b[0m: \n\"\"\"\nTraceback (most recent call last):\n  File \"/opt/homebrew/Caskroom/miniforge/base/envs/study1_3.10/lib/python3.10/site-packages/multiprocess/pool.py\", line 125, in worker\n    result = (True, func(*args, **kwds))\n  File \"/opt/homebrew/Caskroom/miniforge/base/envs/study1_3.10/lib/python3.10/site-packages/multiprocess/pool.py\", line 48, in mapstar\n    return list(map(*args))\n  File \"/opt/homebrew/Caskroom/miniforge/base/envs/study1_3.10/lib/python3.10/site-packages/pathos/helpers/mp_helper.py\", line 15, in <lambda>\n    func = lambda args: f(*args)\n  File \"<timed exec>\", line 10, in <lambda>\nAttributeError: 'numpy.ndarray' object has no attribute 'split'\n\"\"\"",
      "\nThe above exception was the direct cause of the following exception:\n",
      "\u001b[0;31mAttributeError\u001b[0m                            Traceback (most recent call last)",
      "File \u001b[0;32m<timed exec>:6\u001b[0m\n",
      "Cell \u001b[0;32mIn[8], line 20\u001b[0m, in \u001b[0;36mparallel_apply\u001b[0;34m(df_or_s, func, n_jobs, progress_bar)\u001b[0m\n\u001b[1;32m     17\u001b[0m \u001b[39mif\u001b[39;00m progress_bar \u001b[39mis\u001b[39;00m \u001b[39mTrue\u001b[39;00m:\n\u001b[1;32m     18\u001b[0m     split \u001b[39m=\u001b[39m tqdm\u001b[39m.\u001b[39mtqdm(split)\n\u001b[0;32m---> 20\u001b[0m ret_list \u001b[39m=\u001b[39m pool\u001b[39m.\u001b[39;49mmap(func, split)\n\u001b[1;32m     21\u001b[0m \u001b[39mif\u001b[39;00m progress_bar \u001b[39mis\u001b[39;00m \u001b[39mTrue\u001b[39;00m:\n\u001b[1;32m     22\u001b[0m     ret_list \u001b[39m=\u001b[39m tqdm\u001b[39m.\u001b[39mtqdm(ret_list)\n",
      "File \u001b[0;32m/opt/homebrew/Caskroom/miniforge/base/envs/study1_3.10/lib/python3.10/site-packages/pathos/multiprocessing.py:135\u001b[0m, in \u001b[0;36mProcessPool.map\u001b[0;34m(self, f, *args, **kwds)\u001b[0m\n\u001b[1;32m    133\u001b[0m AbstractWorkerPool\u001b[39m.\u001b[39m_AbstractWorkerPool__map(\u001b[39mself\u001b[39m, f, \u001b[39m*\u001b[39margs, \u001b[39m*\u001b[39m\u001b[39m*\u001b[39mkwds)\n\u001b[1;32m    134\u001b[0m _pool \u001b[39m=\u001b[39m \u001b[39mself\u001b[39m\u001b[39m.\u001b[39m_serve()\n\u001b[0;32m--> 135\u001b[0m \u001b[39mreturn\u001b[39;00m _pool\u001b[39m.\u001b[39;49mmap(star(f), \u001b[39mzip\u001b[39;49m(\u001b[39m*\u001b[39;49margs))\n",
      "File \u001b[0;32m/opt/homebrew/Caskroom/miniforge/base/envs/study1_3.10/lib/python3.10/site-packages/multiprocess/pool.py:367\u001b[0m, in \u001b[0;36mPool.map\u001b[0;34m(self, func, iterable, chunksize)\u001b[0m\n\u001b[1;32m    362\u001b[0m \u001b[39mdef\u001b[39;00m \u001b[39mmap\u001b[39m(\u001b[39mself\u001b[39m, func, iterable, chunksize\u001b[39m=\u001b[39m\u001b[39mNone\u001b[39;00m):\n\u001b[1;32m    363\u001b[0m \u001b[39m    \u001b[39m\u001b[39m'''\u001b[39;00m\n\u001b[1;32m    364\u001b[0m \u001b[39m    Apply `func` to each element in `iterable`, collecting the results\u001b[39;00m\n\u001b[1;32m    365\u001b[0m \u001b[39m    in a list that is returned.\u001b[39;00m\n\u001b[1;32m    366\u001b[0m \u001b[39m    '''\u001b[39;00m\n\u001b[0;32m--> 367\u001b[0m     \u001b[39mreturn\u001b[39;00m \u001b[39mself\u001b[39;49m\u001b[39m.\u001b[39;49m_map_async(func, iterable, mapstar, chunksize)\u001b[39m.\u001b[39;49mget()\n",
      "File \u001b[0;32m/opt/homebrew/Caskroom/miniforge/base/envs/study1_3.10/lib/python3.10/site-packages/multiprocess/pool.py:774\u001b[0m, in \u001b[0;36mApplyResult.get\u001b[0;34m(self, timeout)\u001b[0m\n\u001b[1;32m    772\u001b[0m     \u001b[39mreturn\u001b[39;00m \u001b[39mself\u001b[39m\u001b[39m.\u001b[39m_value\n\u001b[1;32m    773\u001b[0m \u001b[39melse\u001b[39;00m:\n\u001b[0;32m--> 774\u001b[0m     \u001b[39mraise\u001b[39;00m \u001b[39mself\u001b[39m\u001b[39m.\u001b[39m_value\n",
      "\u001b[0;31mAttributeError\u001b[0m: 'numpy.ndarray' object has no attribute 'split'"
     ]
    }
   ],
   "source": [
    "%%time\n",
    "assert torch.has_mps\n",
    "bert_pos_model_name = 'QCRI/bert-base-multilingual-cased-pos-english'\n",
    "bert_pos_model = AutoModelForTokenClassification.from_pretrained(bert_pos_model_name).to(device)\n",
    "bert_pos_tagger = TokenClassificationPipeline(model=bert_pos_model, tokenizer=bert_tokenizer, device=device)\n",
    "\n",
    "df_jobs['Job Description bert_token_tags_with_scores'] = df_jobs['Job Description spacy_sentencized'].apply(\n",
    "    lambda sentence: [\n",
    "        (bert_pos_tag['word'], bert_pos_tag['entity'], bert_pos_tag['score'])\n",
    "        for i in range(len(sentence.split()))\n",
    "        for bert_pos_tag in bert_pos_tagger(sentence)\n",
    "    ]\n",
    ")\n",
    "\n",
    "if len(df_jobs) > 0 and isinstance(df_jobs, pd.DataFrame):\n",
    "    df_jobs.to_pickle(f'{df_save_dir}df_jobs_tags_lemmas_stems_spacy_nltk_bert.pkl')\n",
    "\n",
    "    df_jobs.to_csv(f'{df_save_dir}df_jobs_tags_lemmas_stems_spacy_nltk_bert.csv', index=False)\n",
    "else:\n",
    "    print(f'ERORR: LENGTH OF DF = {len(df_jobs)}')\n",
    "\n",
    "df_jobs['Job Description bert_token_tags'] = df_jobs['Job Description bert_token_tags_with_scores'].apply(\n",
    "    lambda tag_list: [\n",
    "        [(tag_list[i][0], tag_list[i][1])]\n",
    "        for tag_tuple in tag_list\n",
    "        for i in range(len(tag_list))\n",
    "    ]\n",
    ")\n",
    "\n",
    "if len(df_jobs) > 0 and isinstance(df_jobs, pd.DataFrame):\n",
    "    df_jobs.to_pickle(f'{df_save_dir}df_jobs_tags_lemmas_stems_spacy_nltk_bert.pkl')\n",
    "\n",
    "    df_jobs.to_csv(f'{df_save_dir}df_jobs_tags_lemmas_stems_spacy_nltk_bert.csv', index=False)\n",
    "else:\n",
    "    print(f'ERORR: LENGTH OF DF = {len(df_jobs)}')\n"
   ]
  },
  {
   "cell_type": "code",
   "execution_count": null,
   "id": "0f7e50a4",
   "metadata": {},
   "outputs": [],
   "source": [
    "assert len(df_jobs) > 0 and isinstance(df_jobs, pd.DataFrame), f'ERORR: LENGTH OF DF = {len(df_jobs)}'\n",
    "df_jobs.to_pickle(f'{df_save_dir}df_jobs_tags_lemmas_stems_spacy_nltk_bert.pkl')\n",
    "df_jobs.to_csv(f'{df_save_dir}df_jobs_tags_lemmas_stems_spacy_nltk_bert.csv', index=False)\n"
   ]
  },
  {
   "cell_type": "code",
   "execution_count": null,
   "id": "ddaf5bf3",
   "metadata": {},
   "outputs": [],
   "source": []
  }
 ],
 "metadata": {
  "kernelspec": {
   "display_name": "study1_3.10",
   "language": "python",
   "name": "study1_3.10"
  },
  "language_info": {
   "codemirror_mode": {
    "name": "ipython",
    "version": 3
   },
   "file_extension": ".py",
   "mimetype": "text/x-python",
   "name": "python",
   "nbconvert_exporter": "python",
   "pygments_lexer": "ipython3",
   "version": "3.10.9"
  },
  "varInspector": {
   "cols": {
    "lenName": 16,
    "lenType": 16,
    "lenVar": 40
   },
   "kernels_config": {
    "python": {
     "delete_cmd_postfix": "",
     "delete_cmd_prefix": "del ",
     "library": "var_list.py",
     "varRefreshCmd": "print(var_dic_list())"
    },
    "r": {
     "delete_cmd_postfix": ") ",
     "delete_cmd_prefix": "rm(",
     "library": "var_list.r",
     "varRefreshCmd": "cat(var_dic_list()) "
    }
   },
   "types_to_exclude": [
    "module",
    "function",
    "builtin_function_or_method",
    "instance",
    "_Feature"
   ],
   "window_display": false
  }
 },
 "nbformat": 4,
 "nbformat_minor": 5
}
