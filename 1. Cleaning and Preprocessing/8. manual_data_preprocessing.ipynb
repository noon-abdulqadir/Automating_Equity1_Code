{
    "cells": [
        {
            "cell_type": "markdown",
            "id": "a3d9bbd5",
            "metadata": {},
            "source": [
                "# ATTN: This script uses Google translate to detect job description language. Google translate will limit requests and take a very long time. Only run this script if redoing language detection."
            ]
        },
        {
            "cell_type": "markdown",
            "id": "ac2e2d85",
            "metadata": {},
            "source": [
                "# Read from scrapped data"
            ]
        },
        {
            "cell_type": "code",
            "execution_count": 1,
            "id": "be8129d5",
            "metadata": {},
            "outputs": [],
            "source": [
                "import os # type:ignore # isort:skip # fmt:skip # noqa # nopep8\n",
                "import sys # type:ignore # isort:skip # fmt:skip # noqa # nopep8\n",
                "from pathlib import Path # type:ignore # isort:skip # fmt:skip # noqa # nopep8\n",
                "\n",
                "mod = sys.modules[__name__]\n",
                "\n",
                "code_dir = None\n",
                "code_dir_name = 'Code'\n",
                "unwanted_subdir_name = 'Analysis'\n",
                "\n",
                "for _ in range(5):\n",
                "\n",
                "    parent_path = str(Path.cwd().parents[_]).split('/')[-1]\n",
                "\n",
                "    if (code_dir_name in parent_path) and (unwanted_subdir_name not in parent_path):\n",
                "\n",
                "        code_dir = str(Path.cwd().parents[_])\n",
                "\n",
                "        if code_dir is not None:\n",
                "            break\n",
                "\n",
                "sys.path.append(code_dir)\n",
                "# %load_ext autoreload\n",
                "# %autoreload 2\n"
            ]
        },
        {
            "cell_type": "code",
            "execution_count": 2,
            "id": "d2271ddb",
            "metadata": {},
            "outputs": [
                {
                    "name": "stdout",
                    "output_type": "stream",
                    "text": [
                        "Using MPS\n"
                    ]
                },
                {
                    "data": {
                        "application/vnd.jupyter.widget-view+json": {
                            "model_id": "08ebabce21a2474fb5df6237d27e31f8",
                            "version_major": 2,
                            "version_minor": 0
                        },
                        "text/plain": [
                            "0it [00:00, ?it/s]"
                        ]
                    },
                    "metadata": {},
                    "output_type": "display_data"
                },
                {
                    "data": {
                        "text/plain": [
                            "<Figure size 640x480 with 0 Axes>"
                        ]
                    },
                    "metadata": {},
                    "output_type": "display_data"
                }
            ],
            "source": [
                "from setup_module.imports import * # type:ignore # isort:skip # fmt:skip # noqa # nopep8\n"
            ]
        },
        {
            "cell_type": "markdown",
            "id": "a840ebcc",
            "metadata": {},
            "source": [
                "#### Read paths"
            ]
        },
        {
            "cell_type": "code",
            "execution_count": 3,
            "id": "999bbb1d",
            "metadata": {},
            "outputs": [],
            "source": [
                "glob_paths = list(set(glob.glob(f'{scraped_data}Coding Material/*Folder/*/Job ID -*- Codebook (Automating Equity).xlsx')))\n"
            ]
        },
        {
            "cell_type": "code",
            "execution_count": 4,
            "id": "4ad7c36f",
            "metadata": {},
            "outputs": [
                {
                    "data": {
                        "text/plain": [
                            "244"
                        ]
                    },
                    "execution_count": 4,
                    "metadata": {},
                    "output_type": "execute_result"
                }
            ],
            "source": [
                "# 244 xlsx files\n",
                "len(glob_paths)\n"
            ]
        },
        {
            "cell_type": "markdown",
            "id": "fbfdd650",
            "metadata": {},
            "source": [
                "#### Use paths to open files, fix keywords, and drop unneeded columns"
            ]
        },
        {
            "cell_type": "code",
            "execution_count": 5,
            "id": "9f2edb5d",
            "metadata": {},
            "outputs": [
                {
                    "name": "stdout",
                    "output_type": "stream",
                    "text": [
                        "CPU times: user 5.55 s, sys: 114 ms, total: 5.66 s\n",
                        "Wall time: 5.78 s\n"
                    ]
                }
            ],
            "source": [
                "%%time\n",
                "# columns\n",
                "cols=['Sector', \n",
                "      'Sector Code', \n",
                "      'Gender', \n",
                "      'Age', \n",
                "      'Language', \n",
                "      'Dutch Requirement', \n",
                "      'English Requirement', \n",
                "      'Gender_Female', \n",
                "      'Gender_Mixed', \n",
                "      'Gender_Male', \n",
                "      'Age_Older', \n",
                "      'Age_Mixed', \n",
                "      'Age_Younger', \n",
                "      'Gender_Num', \n",
                "      'Age_Num', \n",
                "      '% Female', \n",
                "      '% Male', \n",
                "      '% Older', \n",
                "      '% Younger']\n",
                "\n",
                "# Fix list catches all incorrect/faculty keyword search terms\n",
                "fix_list = []\n",
                "\n",
                "# Appended data catches all the fixed and cleaned dfs\n",
                "appended_data = []\n",
                "\n",
                "for glob_path in glob_paths:\n",
                "\n",
                "    try:\n",
                "        df_temp = pd.read_excel(glob_path).reset_index(drop=True)\n",
                "    except ValueError:\n",
                "        fix_list.append(glob_path)\n",
                "\n",
                "    if len(df_temp) > 0 and isinstance(df_temp, pd.DataFrame):\n",
                "        df_temp = df_temp.reset_index(drop=True)\n",
                "        df_temp = df_temp.drop(columns=cols, axis='columns', errors='ignore')\n",
                "        df_temp = df_temp.drop(\n",
                "        df_temp.columns[\n",
                "                df_temp.columns.str.contains(\n",
                "                    'unnamed|index|level', regex=True, case=False, flags=re.I\n",
                "                )\n",
                "            ],\n",
                "            axis='columns',\n",
                "            errors='ignore',\n",
                "        )\n",
                "\n",
                "        appended_data.append(df_temp.reset_index(drop=True))\n",
                "\n",
                "# Concatonate list of dfs into one large df_manual\n",
                "df_manual = pd.concat(appended_data, axis='index').reset_index(drop=True)\n",
                "\n",
                "# Save df_manual to file\n",
                "assert len(df_manual) > 0 and isinstance(df_manual, pd.DataFrame), f'ERORR: LENGTH OF DF = {len(df_manual)}'\n",
                "df_manual.to_pickle(f'{df_save_dir}df_manual_raw.pkl')\n",
                "df_manual.to_csv(f'{df_save_dir}df_manual_raw.csv', index=False)\n"
            ]
        },
        {
            "cell_type": "code",
            "execution_count": 6,
            "id": "5de12303",
            "metadata": {},
            "outputs": [],
            "source": [
                "# If we couldn't fix some keywords, we add them to list fix_list and write to file\n",
                "if len(fix_list) != 0:\n",
                "    print('Some keywords to fix!')\n",
                "    with open(f'{data_dir}fix_list.txt', 'w') as f:\n",
                "        json.dump(fix_list, f)\n"
            ]
        },
        {
            "cell_type": "code",
            "execution_count": 7,
            "id": "ae1a9362",
            "metadata": {},
            "outputs": [
                {
                    "data": {
                        "text/plain": [
                            "244"
                        ]
                    },
                    "execution_count": 7,
                    "metadata": {},
                    "output_type": "execute_result"
                }
            ],
            "source": [
                "# List of dfs, len = 244\n",
                "len(appended_data)\n"
            ]
        },
        {
            "cell_type": "code",
            "execution_count": 8,
            "id": "78c1c60f",
            "metadata": {},
            "outputs": [],
            "source": [
                "# Concatonate list of dfs into one large df_manual\n",
                "df_manual = pd.concat(appended_data, axis='index').reset_index(drop=True)\n"
            ]
        },
        {
            "cell_type": "code",
            "execution_count": 9,
            "id": "47b014ea",
            "metadata": {},
            "outputs": [
                {
                    "data": {
                        "text/plain": [
                            "12400"
                        ]
                    },
                    "execution_count": 9,
                    "metadata": {},
                    "output_type": "execute_result"
                }
            ],
            "source": [
                "# len = 12400\n",
                "len(df_manual)\n"
            ]
        },
        {
            "cell_type": "code",
            "execution_count": 10,
            "id": "0a4606db",
            "metadata": {},
            "outputs": [],
            "source": [
                "# Save df_manual to file\n",
                "assert len(df_manual) > 0 and isinstance(df_manual, pd.DataFrame), f'ERORR: LENGTH OF DF = {len(df_manual)}'\n",
                "df_manual.to_pickle(f'{df_save_dir}df_manual_raw.pkl')\n",
                "df_manual.to_csv(f'{df_save_dir}df_manual_raw.csv', index=False)\n"
            ]
        },
        {
            "cell_type": "markdown",
            "id": "3eb6e2dd",
            "metadata": {},
            "source": [
                "# Drop duplicated and missing data"
            ]
        },
        {
            "cell_type": "markdown",
            "id": "bc049d41",
            "metadata": {},
            "source": [
                "### START HERE IF SOURCING FROM df_manual_RAW\n",
                "### PLEASE SET CORRECT DIRECTORY PATHS BELOW"
            ]
        },
        {
            "cell_type": "code",
            "execution_count": 11,
            "id": "eda9efcf",
            "metadata": {},
            "outputs": [],
            "source": [
                "import os # type:ignore # isort:skip # fmt:skip # noqa # nopep8\n",
                "import sys # type:ignore # isort:skip # fmt:skip # noqa # nopep8\n",
                "from pathlib import Path # type:ignore # isort:skip # fmt:skip # noqa # nopep8\n",
                "\n",
                "mod = sys.modules[__name__]\n",
                "\n",
                "code_dir = None\n",
                "code_dir_name = 'Code'\n",
                "unwanted_subdir_name = 'Analysis'\n",
                "\n",
                "for _ in range(5):\n",
                "\n",
                "    parent_path = str(Path.cwd().parents[_]).split('/')[-1]\n",
                "\n",
                "    if (code_dir_name in parent_path) and (unwanted_subdir_name not in parent_path):\n",
                "\n",
                "        code_dir = str(Path.cwd().parents[_])\n",
                "\n",
                "        if code_dir is not None:\n",
                "            break\n",
                "\n",
                "sys.path.append(code_dir)\n",
                "# %load_ext autoreload\n",
                "# %autoreload 2\n"
            ]
        },
        {
            "cell_type": "code",
            "execution_count": 12,
            "id": "4b7e42cc",
            "metadata": {},
            "outputs": [],
            "source": [
                "from setup_module.imports import * # type:ignore # isort:skip # fmt:skip # noqa # nopep8"
            ]
        },
        {
            "cell_type": "code",
            "execution_count": 13,
            "id": "a080272c",
            "metadata": {},
            "outputs": [],
            "source": [
                "df_manual = pd.read_pickle(f'{df_save_dir}df_manual_raw.pkl').reset_index(drop=True)\n"
            ]
        },
        {
            "cell_type": "code",
            "execution_count": 14,
            "id": "e92eeb12",
            "metadata": {},
            "outputs": [
                {
                    "data": {
                        "text/plain": [
                            "12400"
                        ]
                    },
                    "execution_count": 14,
                    "metadata": {},
                    "output_type": "execute_result"
                }
            ],
            "source": [
                "# len = 12400\n",
                "len(df_manual)\n"
            ]
        },
        {
            "cell_type": "code",
            "execution_count": 15,
            "id": "78c31c26",
            "metadata": {},
            "outputs": [
                {
                    "name": "stdout",
                    "output_type": "stream",
                    "text": [
                        "<class 'pandas.core.frame.DataFrame'>\n",
                        "RangeIndex: 12400 entries, 0 to 12399\n",
                        "Data columns (total 7 columns):\n",
                        " #   Column           Non-Null Count  Dtype  \n",
                        "---  ------           --------------  -----  \n",
                        " 0   Job ID           12400 non-null  object \n",
                        " 1   Sentence         12396 non-null  object \n",
                        " 2   Warmth           12398 non-null  float64\n",
                        " 3   Competence       12400 non-null  int64  \n",
                        " 4   Task_Mentioned   12398 non-null  float64\n",
                        " 5   Task_Warmth      12398 non-null  float64\n",
                        " 6   Task_Competence  12398 non-null  float64\n",
                        "dtypes: float64(4), int64(1), object(2)\n",
                        "memory usage: 678.2+ KB\n"
                    ]
                }
            ],
            "source": [
                "df_manual.info()\n"
            ]
        },
        {
            "cell_type": "code",
            "execution_count": 16,
            "id": "1b37b39d",
            "metadata": {},
            "outputs": [
                {
                    "data": {
                        "application/vnd.jupyter.widget-view+json": {
                            "model_id": "01bb2fbc99fd4519aebd494ea3b6826c",
                            "version_major": 2,
                            "version_minor": 0
                        },
                        "text/plain": [
                            "progress-bar:   0%|          | 0/7 [00:00<?, ?it/s]"
                        ]
                    },
                    "metadata": {},
                    "output_type": "display_data"
                }
            ],
            "source": [
                "# Clean columns\n",
                "df_manual.columns = df_manual.columns.to_series().progress_apply(lambda x: str(x).strip())"
            ]
        },
        {
            "cell_type": "code",
            "execution_count": 17,
            "id": "8571e7f7",
            "metadata": {},
            "outputs": [],
            "source": [
                "# Remove columns 'Task_Mentioned', 'Task_Warmth', 'Task_Competence'\n",
                "df_manual = df_manual.drop(\n",
                "    columns=['Task_Mentioned', 'Task_Warmth', 'Task_Competence'],\n",
                "    axis='columns',\n",
                "    errors='ignore'\n",
                ")"
            ]
        },
        {
            "cell_type": "code",
            "execution_count": 18,
            "id": "bfef72ba",
            "metadata": {},
            "outputs": [
                {
                    "name": "stdout",
                    "output_type": "stream",
                    "text": [
                        "<class 'pandas.core.frame.DataFrame'>\n",
                        "RangeIndex: 12400 entries, 0 to 12399\n",
                        "Data columns (total 4 columns):\n",
                        " #   Column      Non-Null Count  Dtype  \n",
                        "---  ------      --------------  -----  \n",
                        " 0   Job ID      12400 non-null  object \n",
                        " 1   Sentence    12396 non-null  object \n",
                        " 2   Warmth      12398 non-null  float64\n",
                        " 3   Competence  12400 non-null  int64  \n",
                        "dtypes: float64(1), int64(1), object(2)\n",
                        "memory usage: 387.6+ KB\n"
                    ]
                }
            ],
            "source": [
                "df_manual.info()"
            ]
        },
        {
            "cell_type": "code",
            "execution_count": 19,
            "id": "2044253e",
            "metadata": {},
            "outputs": [
                {
                    "data": {
                        "text/plain": [
                            "Job ID        0\n",
                            "Sentence      4\n",
                            "Warmth        2\n",
                            "Competence    0\n",
                            "dtype: int64"
                        ]
                    },
                    "execution_count": 19,
                    "metadata": {},
                    "output_type": "execute_result"
                }
            ],
            "source": [
                "# Missing values: Sentence = 4, Warmth = 2, Competence = 0\n",
                "df_manual.isna().sum()"
            ]
        },
        {
            "cell_type": "code",
            "execution_count": 20,
            "id": "46ab64d1",
            "metadata": {},
            "outputs": [],
            "source": [
                "# Drop NA\n",
                "df_manual = df_manual.dropna(axis='index', how='all')\n",
                "df_manual = df_manual.dropna(axis='columns', how='all')\n",
                "df_manual = df_manual.dropna(\n",
                "    subset = ['Sentence', 'Warmth', 'Competence'],\n",
                ")"
            ]
        },
        {
            "cell_type": "code",
            "execution_count": 21,
            "id": "b539d479",
            "metadata": {},
            "outputs": [
                {
                    "data": {
                        "text/plain": [
                            "Job ID        0\n",
                            "Sentence      0\n",
                            "Warmth        0\n",
                            "Competence    0\n",
                            "dtype: int64"
                        ]
                    },
                    "execution_count": 21,
                    "metadata": {},
                    "output_type": "execute_result"
                }
            ],
            "source": [
                "# No na values\n",
                "df_manual.isna().sum()"
            ]
        },
        {
            "cell_type": "code",
            "execution_count": 22,
            "id": "82e2a312",
            "metadata": {},
            "outputs": [
                {
                    "data": {
                        "text/plain": [
                            "Index(['Job ID', 'Sentence', 'Warmth', 'Competence'], dtype='object')"
                        ]
                    },
                    "execution_count": 22,
                    "metadata": {},
                    "output_type": "execute_result"
                }
            ],
            "source": [
                "df_manual.columns"
            ]
        },
        {
            "cell_type": "code",
            "execution_count": 23,
            "id": "1c5a7d46",
            "metadata": {},
            "outputs": [
                {
                    "data": {
                        "application/vnd.jupyter.widget-view+json": {
                            "model_id": "0109b522d1684219a5000d7457ed1755",
                            "version_major": 2,
                            "version_minor": 0
                        },
                        "text/plain": [
                            "progress-bar:   0%|          | 0/12394 [00:00<?, ?it/s]"
                        ]
                    },
                    "metadata": {},
                    "output_type": "display_data"
                },
                {
                    "name": "stdout",
                    "output_type": "stream",
                    "text": [
                        "Warmth converted to int.\n",
                        "Warmth value counts:\n",
                        "0    9568\n",
                        "1    2826\n",
                        "Name: Warmth, dtype: int64\n"
                    ]
                },
                {
                    "data": {
                        "application/vnd.jupyter.widget-view+json": {
                            "model_id": "1b0cb6ff0785491f9b52ef2c1e155ceb",
                            "version_major": 2,
                            "version_minor": 0
                        },
                        "text/plain": [
                            "progress-bar:   0%|          | 0/12394 [00:00<?, ?it/s]"
                        ]
                    },
                    "metadata": {},
                    "output_type": "display_data"
                },
                {
                    "name": "stdout",
                    "output_type": "stream",
                    "text": [
                        "Competence converted to int.\n",
                        "Competence value counts:\n",
                        "0    7330\n",
                        "1    5064\n",
                        "Name: Competence, dtype: int64\n"
                    ]
                }
            ],
            "source": [
                "# Convert Warmth and Competence to int\n",
                "int_cols = [\n",
                "    'Warmth',\n",
                "    'Competence',\n",
                "]\n",
                "\n",
                "for col in int_cols:\n",
                "    df_manual[col] = df_manual[col].astype(np.int64, errors='ignore')\n",
                "    print(f'{col} converted to int.' if all(df_manual[col].progress_apply(lambda x: isinstance(x, int))) else f'{col} NOT converted to int.')\n",
                "    print(f'{col} value counts:\\n{df_manual[col].value_counts()}')\n"
            ]
        },
        {
            "cell_type": "code",
            "execution_count": 24,
            "id": "a7666d35",
            "metadata": {},
            "outputs": [
                {
                    "name": "stdout",
                    "output_type": "stream",
                    "text": [
                        "<class 'pandas.core.frame.DataFrame'>\n",
                        "Int64Index: 12394 entries, 0 to 12399\n",
                        "Data columns (total 4 columns):\n",
                        " #   Column      Non-Null Count  Dtype \n",
                        "---  ------      --------------  ----- \n",
                        " 0   Job ID      12394 non-null  object\n",
                        " 1   Sentence    12394 non-null  object\n",
                        " 2   Warmth      12394 non-null  int64 \n",
                        " 3   Competence  12394 non-null  int64 \n",
                        "dtypes: int64(2), object(2)\n",
                        "memory usage: 484.1+ KB\n"
                    ]
                }
            ],
            "source": [
                "df_manual.info()\n"
            ]
        },
        {
            "cell_type": "code",
            "execution_count": 25,
            "id": "793c8461",
            "metadata": {},
            "outputs": [
                {
                    "data": {
                        "application/vnd.jupyter.widget-view+json": {
                            "model_id": "98131e7b47f140558d4a99f72629639e",
                            "version_major": 2,
                            "version_minor": 0
                        },
                        "text/plain": [
                            "progress-bar:   0%|          | 0/12394 [00:00<?, ?it/s]"
                        ]
                    },
                    "metadata": {},
                    "output_type": "display_data"
                },
                {
                    "data": {
                        "application/vnd.jupyter.widget-view+json": {
                            "model_id": "6aa58f1b642c42458b4f6f019f808197",
                            "version_major": 2,
                            "version_minor": 0
                        },
                        "text/plain": [
                            "progress-bar:   0%|          | 0/12394 [00:00<?, ?it/s]"
                        ]
                    },
                    "metadata": {},
                    "output_type": "display_data"
                },
                {
                    "name": "stdout",
                    "output_type": "stream",
                    "text": [
                        "Job ID converted to str.\n"
                    ]
                },
                {
                    "data": {
                        "application/vnd.jupyter.widget-view+json": {
                            "model_id": "ce07db5f893d46daa82fb06c306e352b",
                            "version_major": 2,
                            "version_minor": 0
                        },
                        "text/plain": [
                            "progress-bar:   0%|          | 0/12394 [00:00<?, ?it/s]"
                        ]
                    },
                    "metadata": {},
                    "output_type": "display_data"
                },
                {
                    "data": {
                        "application/vnd.jupyter.widget-view+json": {
                            "model_id": "238ff7eeae5b4d18b44313376fc8cc1c",
                            "version_major": 2,
                            "version_minor": 0
                        },
                        "text/plain": [
                            "progress-bar:   0%|          | 0/12394 [00:00<?, ?it/s]"
                        ]
                    },
                    "metadata": {},
                    "output_type": "display_data"
                },
                {
                    "name": "stdout",
                    "output_type": "stream",
                    "text": [
                        "Sentence converted to str.\n",
                        "CPU times: user 70.6 ms, sys: 5.75 ms, total: 76.4 ms\n",
                        "Wall time: 104 ms\n"
                    ]
                }
            ],
            "source": [
                "%%time\n",
                "# Conver Job ID and Sentence to str\n",
                "str_cols = [\n",
                "    'Job ID',\n",
                "    'Sentence',\n",
                "]\n",
                "\n",
                "for col in str_cols:\n",
                "    df_manual[col] = df_manual[col].astype(str, errors='ignore').progress_apply(lambda x: x.strip().replace('[', '').replace(']', ''))\n",
                "    print(f'{col} converted to str.' if all(df_manual[col].progress_apply(lambda x: isinstance(x, str))) else f'{col} NOT converted to str.')\n"
            ]
        },
        {
            "cell_type": "code",
            "execution_count": 26,
            "id": "a5caf8c5",
            "metadata": {},
            "outputs": [
                {
                    "data": {
                        "text/plain": [
                            "12394"
                        ]
                    },
                    "execution_count": 26,
                    "metadata": {},
                    "output_type": "execute_result"
                }
            ],
            "source": [
                "# len = 12394\n",
                "len(df_manual)"
            ]
        },
        {
            "cell_type": "code",
            "execution_count": 27,
            "id": "4d2cacdb",
            "metadata": {},
            "outputs": [
                {
                    "name": "stdout",
                    "output_type": "stream",
                    "text": [
                        "<class 'pandas.core.frame.DataFrame'>\n",
                        "Int64Index: 12394 entries, 0 to 12399\n",
                        "Data columns (total 4 columns):\n",
                        " #   Column      Non-Null Count  Dtype \n",
                        "---  ------      --------------  ----- \n",
                        " 0   Job ID      12394 non-null  object\n",
                        " 1   Sentence    12394 non-null  object\n",
                        " 2   Warmth      12394 non-null  int64 \n",
                        " 3   Competence  12394 non-null  int64 \n",
                        "dtypes: int64(2), object(2)\n",
                        "memory usage: 484.1+ KB\n"
                    ]
                }
            ],
            "source": [
                "df_manual.info()"
            ]
        },
        {
            "cell_type": "code",
            "execution_count": 28,
            "id": "e57a9f32",
            "metadata": {},
            "outputs": [],
            "source": [
                "# Rename Sentence to 'Job Description spacy_sentencized'\n",
                "df_manual = df_manual.rename(\n",
                "    columns = {\n",
                "        'Sentence': 'Job Description spacy_sentencized'\n",
                "    },\n",
                "    errors='ignore'\n",
                ")"
            ]
        },
        {
            "cell_type": "code",
            "execution_count": 29,
            "id": "1a32f64c",
            "metadata": {},
            "outputs": [
                {
                    "data": {
                        "text/plain": [
                            "Index(['Job ID', 'Job Description spacy_sentencized', 'Warmth', 'Competence'], dtype='object')"
                        ]
                    },
                    "execution_count": 29,
                    "metadata": {},
                    "output_type": "execute_result"
                }
            ],
            "source": [
                "df_manual.columns\n"
            ]
        },
        {
            "cell_type": "code",
            "execution_count": 30,
            "id": "3fb59e5d",
            "metadata": {},
            "outputs": [],
            "source": [
                "# Drop NA\n",
                "df_manual = df_manual.dropna(axis='index', how='all')\n",
                "df_manual = df_manual.dropna(axis='columns', how='all')\n",
                "df_manual = df_manual.dropna(\n",
                "    subset = ['Job Description spacy_sentencized', 'Warmth', 'Competence'],\n",
                ")\n"
            ]
        },
        {
            "cell_type": "code",
            "execution_count": 31,
            "id": "25218a8b",
            "metadata": {},
            "outputs": [
                {
                    "data": {
                        "text/plain": [
                            "12394"
                        ]
                    },
                    "execution_count": 31,
                    "metadata": {},
                    "output_type": "execute_result"
                }
            ],
            "source": [
                "# len = 12394\n",
                "len(df_manual)\n"
            ]
        },
        {
            "cell_type": "code",
            "execution_count": 32,
            "id": "025e7b62",
            "metadata": {},
            "outputs": [
                {
                    "data": {
                        "text/plain": [
                            "133"
                        ]
                    },
                    "execution_count": 32,
                    "metadata": {},
                    "output_type": "execute_result"
                }
            ],
            "source": [
                "# len = 133\n",
                "len(df_manual.groupby(['Job ID'])['Job ID'].unique())\n"
            ]
        },
        {
            "cell_type": "code",
            "execution_count": 33,
            "id": "e3126f47",
            "metadata": {},
            "outputs": [],
            "source": [
                "# Drop duplicates on subset of 'Job ID' and 'Sentence'\n",
                "df_manual = df_manual.drop_duplicates(subset=['Job ID', 'Job Description spacy_sentencized'], keep='first', ignore_index=True)\n"
            ]
        },
        {
            "cell_type": "code",
            "execution_count": 34,
            "id": "67baaa73",
            "metadata": {},
            "outputs": [
                {
                    "data": {
                        "text/plain": [
                            "6400"
                        ]
                    },
                    "execution_count": 34,
                    "metadata": {},
                    "output_type": "execute_result"
                }
            ],
            "source": [
                "# len = 6400\n",
                "len(df_manual)\n"
            ]
        },
        {
            "cell_type": "code",
            "execution_count": 35,
            "id": "3ec0bc22",
            "metadata": {},
            "outputs": [],
            "source": [
                "# Remove any rows with missing 'Job ID'\n",
                "df_manual = df_manual.drop(\n",
                "    df_manual[\n",
                "        (df_manual['Job ID'].isin(nan_list)) | \n",
                "        (df_manual['Job ID'].isnull()) | \n",
                "        (df_manual['Job ID'].isna())\n",
                "    ].index, \n",
                "    axis='index',\n",
                "    errors='ignore'\n",
                ")\n"
            ]
        },
        {
            "cell_type": "code",
            "execution_count": 36,
            "id": "21a098a0",
            "metadata": {},
            "outputs": [
                {
                    "data": {
                        "text/plain": [
                            "6400"
                        ]
                    },
                    "execution_count": 36,
                    "metadata": {},
                    "output_type": "execute_result"
                }
            ],
            "source": [
                "# len = 6400\n",
                "len(df_manual)\n"
            ]
        },
        {
            "cell_type": "code",
            "execution_count": 37,
            "id": "19e08303",
            "metadata": {},
            "outputs": [],
            "source": [
                "# Save df_manual to file\n",
                "assert len(df_manual) > 0 and isinstance(df_manual, pd.DataFrame), f'ERORR: LENGTH OF DF = {len(df_manual)}'\n",
                "df_manual.to_pickle(f'{df_save_dir}df_manual_raw_dropped.pkl')\n",
                "df_manual.to_csv(f'{df_save_dir}df_manual_raw_dropped.csv', index=False)\n"
            ]
        },
        {
            "cell_type": "markdown",
            "id": "3bae0b99",
            "metadata": {},
            "source": [
                "# Add English and Dutch language requirement columns"
            ]
        },
        {
            "cell_type": "markdown",
            "id": "eb838f06",
            "metadata": {},
            "source": [
                "### START HERE IF SOURCING FROM df_manual_RAW_DROPPED\n",
                "### PLEASE SET CORRECT DIRECTORY PATHS BELOW\n"
            ]
        },
        {
            "cell_type": "code",
            "execution_count": 38,
            "id": "489a38aa",
            "metadata": {},
            "outputs": [],
            "source": [
                "import os # type:ignore # isort:skip # fmt:skip # noqa # nopep8\n",
                "import sys # type:ignore # isort:skip # fmt:skip # noqa # nopep8\n",
                "from pathlib import Path # type:ignore # isort:skip # fmt:skip # noqa # nopep8\n",
                "\n",
                "mod = sys.modules[__name__]\n",
                "\n",
                "code_dir = None\n",
                "code_dir_name = 'Code'\n",
                "unwanted_subdir_name = 'Analysis'\n",
                "\n",
                "for _ in range(5):\n",
                "\n",
                "    parent_path = str(Path.cwd().parents[_]).split('/')[-1]\n",
                "\n",
                "    if (code_dir_name in parent_path) and (unwanted_subdir_name not in parent_path):\n",
                "\n",
                "        code_dir = str(Path.cwd().parents[_])\n",
                "\n",
                "        if code_dir is not None:\n",
                "            break\n",
                "\n",
                "sys.path.append(code_dir)\n",
                "# %load_ext autoreload\n",
                "# %autoreload 2\n"
            ]
        },
        {
            "cell_type": "code",
            "execution_count": 39,
            "id": "f7cda531",
            "metadata": {},
            "outputs": [],
            "source": [
                "from setup_module.imports import * # type:ignore # isort:skip # fmt:skip # noqa # nopep8"
            ]
        },
        {
            "cell_type": "code",
            "execution_count": 40,
            "id": "a13ef5b9",
            "metadata": {},
            "outputs": [],
            "source": [
                "df_manual = pd.read_pickle(f'{df_save_dir}df_manual_raw_dropped.pkl').reset_index(drop=True)\n"
            ]
        },
        {
            "cell_type": "code",
            "execution_count": 41,
            "id": "3b5aa5a8",
            "metadata": {},
            "outputs": [
                {
                    "data": {
                        "text/plain": [
                            "6400"
                        ]
                    },
                    "execution_count": 41,
                    "metadata": {},
                    "output_type": "execute_result"
                }
            ],
            "source": [
                "# 6400\n",
                "len(df_manual)\n"
            ]
        },
        {
            "cell_type": "code",
            "execution_count": 42,
            "id": "e2e2a0c6",
            "metadata": {},
            "outputs": [
                {
                    "name": "stdout",
                    "output_type": "stream",
                    "text": [
                        "<class 'pandas.core.frame.DataFrame'>\n",
                        "RangeIndex: 6400 entries, 0 to 6399\n",
                        "Data columns (total 4 columns):\n",
                        " #   Column                             Non-Null Count  Dtype \n",
                        "---  ------                             --------------  ----- \n",
                        " 0   Job ID                             6400 non-null   object\n",
                        " 1   Job Description spacy_sentencized  6400 non-null   object\n",
                        " 2   Warmth                             6400 non-null   int64 \n",
                        " 3   Competence                         6400 non-null   int64 \n",
                        "dtypes: int64(2), object(2)\n",
                        "memory usage: 200.1+ KB\n"
                    ]
                }
            ],
            "source": [
                "df_manual.info()\n"
            ]
        },
        {
            "cell_type": "code",
            "execution_count": 43,
            "id": "8418d404",
            "metadata": {},
            "outputs": [
                {
                    "name": "stdout",
                    "output_type": "stream",
                    "text": [
                        "CPU times: user 70.9 ms, sys: 2.5 ms, total: 73.4 ms\n",
                        "Wall time: 72.5 ms\n"
                    ]
                }
            ],
            "source": [
                "%%time\n",
                "# Add language requirement column\n",
                "# Use regex to find language requirement\n",
                "dutch_requirement_pattern = r'[Ll]anguage: [Dd]utch|[Dd]utch [Pp]referred|[Dd]utch [Re]quired|[Dd]utch [Ll]anguage|[Pp]roficient in [Dd]utch|[Ss]peak [Dd]utch|[Kk]now [Dd]utch'\n",
                "english_requirement_pattern = r'[Ll]anguage: [Ee]nglish|[Ee]nglish [Pp]referred|[Ee]nglish [Re]quired|[Ee]nglish [Ll]anguage|[Pp]roficient in [Ee]nglish|[Ss]peak [Ee]nglish|[Kk]now [Ee]nglish'\n",
                "\n",
                "lang_requirements = {\n",
                "    'Dutch Requirement': dutch_requirement_pattern, 'English Requirement': english_requirement_pattern\n",
                "}\n",
                "\n",
                "for lang_req, lang_req_pattern in lang_requirements.items():\n",
                "    \n",
                "    if lang_req in df_manual.columns:\n",
                "        df_manual = df_manual.drop(columns=[lang_req])\n",
                "    df_manual[lang_req] = np.where(\n",
                "        df_manual['Job Description spacy_sentencized'].str.contains(lang_req_pattern),\n",
                "        'Yes',\n",
                "        'No',\n",
                "    )\n",
                "\n",
                "assert len(df_manual) > 0 and isinstance(df_manual, pd.DataFrame), f'ERORR: LENGTH OF DF = {len(df_manual)}'\n",
                "df_manual.to_pickle(f'{df_save_dir}df_manual_raw_language_requirement.pkl')\n",
                "df_manual.to_csv(f'{df_save_dir}df_manual_raw_english_requirement.csv', index=False)\n"
            ]
        },
        {
            "cell_type": "code",
            "execution_count": 44,
            "id": "33b1e721",
            "metadata": {},
            "outputs": [
                {
                    "data": {
                        "text/plain": [
                            "No     6393\n",
                            "Yes       7\n",
                            "Name: Dutch Requirement, dtype: int64"
                        ]
                    },
                    "execution_count": 44,
                    "metadata": {},
                    "output_type": "execute_result"
                }
            ],
            "source": [
                "# Yes = 235\n",
                "df_manual['Dutch Requirement'].value_counts()\n"
            ]
        },
        {
            "cell_type": "code",
            "execution_count": 45,
            "id": "6330c696",
            "metadata": {},
            "outputs": [
                {
                    "data": {
                        "text/plain": [
                            "No     6392\n",
                            "Yes       8\n",
                            "Name: English Requirement, dtype: int64"
                        ]
                    },
                    "execution_count": 45,
                    "metadata": {},
                    "output_type": "execute_result"
                }
            ],
            "source": [
                "# Yes = 526\n",
                "df_manual['English Requirement'].value_counts()"
            ]
        },
        {
            "cell_type": "code",
            "execution_count": 46,
            "id": "5c3ddedd",
            "metadata": {},
            "outputs": [],
            "source": [
                "assert len(df_manual) > 0 and isinstance(df_manual, pd.DataFrame), f'ERORR: LENGTH OF DF = {len(df_manual)}'\n",
                "df_manual.to_pickle(f'{df_save_dir}df_manual_raw_language_requirement.pkl')\n",
                "df_manual.to_csv(f'{df_save_dir}df_manual_raw_language_requirement.csv', index=False)\n"
            ]
        },
        {
            "cell_type": "markdown",
            "id": "e79cea97",
            "metadata": {},
            "source": [
                "# Add data from Sectors dataframe (see CBS directory under scrapped_data directory) and Categorical data\n"
            ]
        },
        {
            "cell_type": "markdown",
            "id": "69513116",
            "metadata": {},
            "source": [
                "### START HERE IF SOURCING FROM df_manual_RAW_LANGUAGE_REQUIREMENT\n",
                "### PLEASE SET CORRECT DIRECTORY PATHS BELOW\n"
            ]
        },
        {
            "cell_type": "code",
            "execution_count": 47,
            "id": "10b32849",
            "metadata": {},
            "outputs": [],
            "source": [
                "import os # type:ignore # isort:skip # fmt:skip # noqa # nopep8\n",
                "import sys # type:ignore # isort:skip # fmt:skip # noqa # nopep8\n",
                "from pathlib import Path # type:ignore # isort:skip # fmt:skip # noqa # nopep8\n",
                "\n",
                "mod = sys.modules[__name__]\n",
                "\n",
                "code_dir = None\n",
                "code_dir_name = 'Code'\n",
                "unwanted_subdir_name = 'Analysis'\n",
                "\n",
                "for _ in range(5):\n",
                "\n",
                "    parent_path = str(Path.cwd().parents[_]).split('/')[-1]\n",
                "\n",
                "    if (code_dir_name in parent_path) and (unwanted_subdir_name not in parent_path):\n",
                "\n",
                "        code_dir = str(Path.cwd().parents[_])\n",
                "\n",
                "        if code_dir is not None:\n",
                "            break\n",
                "\n",
                "sys.path.append(code_dir)\n",
                "# %load_ext autoreload\n",
                "# %autoreload 2\n"
            ]
        },
        {
            "cell_type": "code",
            "execution_count": 48,
            "id": "875fd370",
            "metadata": {},
            "outputs": [],
            "source": [
                "from setup_module.imports import * # type:ignore # isort:skip # fmt:skip # noqa # nopep8"
            ]
        },
        {
            "cell_type": "code",
            "execution_count": 49,
            "id": "6873d7c6",
            "metadata": {},
            "outputs": [],
            "source": [
                "def df_gender_age_info(df, ivs_all=None):\n",
                "    if ivs_all is None:\n",
                "        ivs_all = [\n",
                "            'Gender',\n",
                "            'Gender_Num',\n",
                "            'Gender_Female',\n",
                "            'Gender_Mixed',\n",
                "            'Gender_Male',\n",
                "            'Age',\n",
                "            'Age_Num',\n",
                "            'Age_Older',\n",
                "            'Age_Mixed',\n",
                "            'Age_Younger',\n",
                "        ]\n",
                "    # Print Info\n",
                "    print('\\nDF INFO:\\n')\n",
                "    df.info()\n",
                "\n",
                "    for iv in ivs_all:\n",
                "        try:\n",
                "            counts = df[f\"{iv}\"].value_counts()\n",
                "            percentages = df[f\"{iv}\"].value_counts(normalize=True).mul(100).round(1).astype(float)\n",
                "            print('='*20)\n",
                "            print(f'{iv}:')\n",
                "            print('-'*20)\n",
                "            print(f'{iv} Counts:\\n{counts}')\n",
                "            print('-'*20)\n",
                "            print(f'{iv} Percentages:\\n{percentages}')\n",
                "\n",
                "            with contextlib.suppress(Exception):\n",
                "                mean = df[f\"{iv}\"].mean().round(2).astype(float)\n",
                "                sd = df[f\"{iv}\"].std().round(2).astype(float)\n",
                "                print('-'*20)\n",
                "                print(f'{iv} Mean: {mean}')\n",
                "                print('-'*20)\n",
                "                print(f'{iv} Standard Deviation: {sd}')\n",
                "\n",
                "        except Exception:\n",
                "            print(f'{iv} not available.')\n",
                "\n",
                "    print('\\n')\n"
            ]
        },
        {
            "cell_type": "code",
            "execution_count": 50,
            "id": "79fe759f",
            "metadata": {},
            "outputs": [],
            "source": [
                "df_manual = pd.read_pickle(f'{df_save_dir}df_manual_raw_language_requirement.pkl').reset_index(drop=True)\n"
            ]
        },
        {
            "cell_type": "code",
            "execution_count": 51,
            "id": "40156303",
            "metadata": {},
            "outputs": [
                {
                    "name": "stdout",
                    "output_type": "stream",
                    "text": [
                        "<class 'pandas.core.frame.DataFrame'>\n",
                        "RangeIndex: 6400 entries, 0 to 6399\n",
                        "Data columns (total 6 columns):\n",
                        " #   Column                             Non-Null Count  Dtype \n",
                        "---  ------                             --------------  ----- \n",
                        " 0   Job ID                             6400 non-null   object\n",
                        " 1   Job Description spacy_sentencized  6400 non-null   object\n",
                        " 2   Warmth                             6400 non-null   int64 \n",
                        " 3   Competence                         6400 non-null   int64 \n",
                        " 4   Dutch Requirement                  6400 non-null   object\n",
                        " 5   English Requirement                6400 non-null   object\n",
                        "dtypes: int64(2), object(4)\n",
                        "memory usage: 300.1+ KB\n"
                    ]
                }
            ],
            "source": [
                "df_manual.info()\n"
            ]
        },
        {
            "cell_type": "code",
            "execution_count": 52,
            "id": "db503aad",
            "metadata": {},
            "outputs": [
                {
                    "data": {
                        "application/vnd.jupyter.widget-view+json": {
                            "model_id": "7be61d5682d0440984afff711af2d324",
                            "version_major": 2,
                            "version_minor": 0
                        },
                        "text/plain": [
                            "progress-bar:   0%|          | 0/6400 [00:00<?, ?it/s]"
                        ]
                    },
                    "metadata": {},
                    "output_type": "display_data"
                }
            ],
            "source": [
                "df_manual['Job ID'] = df_manual['Job ID'].progress_apply(lambda x: str(x).lower().strip())\n"
            ]
        },
        {
            "cell_type": "code",
            "execution_count": 53,
            "id": "98694f16",
            "metadata": {},
            "outputs": [],
            "source": [
                "df_jobs = pd.read_pickle(f'{df_save_dir}df_jobs_including_sector_genage_data.pkl').reset_index(drop=True)\n"
            ]
        },
        {
            "cell_type": "code",
            "execution_count": 54,
            "id": "8d5116df",
            "metadata": {},
            "outputs": [
                {
                    "name": "stdout",
                    "output_type": "stream",
                    "text": [
                        "<class 'pandas.core.frame.DataFrame'>\n",
                        "RangeIndex: 17599 entries, 0 to 17598\n",
                        "Data columns (total 56 columns):\n",
                        " #   Column                                          Non-Null Count  Dtype   \n",
                        "---  ------                                          --------------  -----   \n",
                        " 0   Search Keyword                                  17599 non-null  object  \n",
                        " 1   Platform                                        17599 non-null  object  \n",
                        " 2   Job ID                                          17599 non-null  object  \n",
                        " 3   Job Title                                       17599 non-null  object  \n",
                        " 4   Company Name                                    17597 non-null  object  \n",
                        " 5   Location                                        17599 non-null  object  \n",
                        " 6   Job Description                                 17599 non-null  object  \n",
                        " 7   Rating                                          3780 non-null   float64 \n",
                        " 8   Employment Type                                 17017 non-null  object  \n",
                        " 9   Company URL                                     15959 non-null  object  \n",
                        " 10  Job URL                                         17599 non-null  object  \n",
                        " 11  Job Age                                         17599 non-null  object  \n",
                        " 12  Job Age Number                                  17599 non-null  object  \n",
                        " 13  Collection Date                                 17599 non-null  object  \n",
                        " 14  Data Row                                        13816 non-null  float64 \n",
                        " 15  Tracking ID                                     13816 non-null  object  \n",
                        " 16  Industry                                        14401 non-null  object  \n",
                        " 17  Job Date                                        13819 non-null  object  \n",
                        " 18  Type of ownership                               582 non-null    object  \n",
                        " 19  Language                                        17599 non-null  object  \n",
                        " 20  Dutch Requirement                               17599 non-null  object  \n",
                        " 21  English Requirement                             17599 non-null  object  \n",
                        " 22  Sector Code                                     17599 non-null  object  \n",
                        " 23  Sector                                          17599 non-null  object  \n",
                        " 24  Keywords Count                                  17599 non-null  float64 \n",
                        " 25  % per Sector                                    17599 non-null  float64 \n",
                        " 26  % per Social Category                           17599 non-null  float64 \n",
                        " 27  % per Workforce                                 17599 non-null  float64 \n",
                        " 28  Female Count (x 1000)                           17599 non-null  float64 \n",
                        " 29  Gender_Female_% per Sector                      17599 non-null  float64 \n",
                        " 30  Gender_Female_% per Social Category             17599 non-null  float64 \n",
                        " 31  Gender_Female_% per Workforce                   17599 non-null  float64 \n",
                        " 32  Male Count (x 1000)                             17599 non-null  float64 \n",
                        " 33  Gender_Male_% per Sector                        17599 non-null  float64 \n",
                        " 34  Gender_Male_% per Social Category               17599 non-null  float64 \n",
                        " 35  Gender_Male_% per Workforce                     17599 non-null  float64 \n",
                        " 36  Gender                                          17599 non-null  category\n",
                        " 37  Age_Older (>= 45 years)_n                       17599 non-null  float64 \n",
                        " 38  Age_Older (>= 45 years)_% per Sector            17599 non-null  float64 \n",
                        " 39  Age_Older (>= 45 years)_% per Social Category   17599 non-null  float64 \n",
                        " 40  Age_Older (>= 45 years)_% per Workforce         17599 non-null  float64 \n",
                        " 41  Age_Younger (< 45 years)_n                      17599 non-null  float64 \n",
                        " 42  Age_Younger (< 45 years)_% per Sector           17599 non-null  float64 \n",
                        " 43  Age_Younger (< 45 years)_% per Social Category  17599 non-null  float64 \n",
                        " 44  Age_Younger (< 45 years)_% per Workforce        17599 non-null  float64 \n",
                        " 45  Age                                             17599 non-null  category\n",
                        " 46  Sector Count (x 1000)                           17599 non-null  float64 \n",
                        " 47  % Sector per Workforce                          17599 non-null  float64 \n",
                        " 48  Gender_Female                                   17599 non-null  int64   \n",
                        " 49  Gender_Male                                     17599 non-null  int64   \n",
                        " 50  Gender_Mixed                                    17599 non-null  int64   \n",
                        " 51  Age_Mixed                                       17599 non-null  int64   \n",
                        " 52  Age_Older                                       17599 non-null  int64   \n",
                        " 53  Age_Younger                                     17599 non-null  int64   \n",
                        " 54  Gender_Num                                      17599 non-null  int64   \n",
                        " 55  Age_Num                                         17599 non-null  int64   \n",
                        "dtypes: category(2), float64(24), int64(8), object(22)\n",
                        "memory usage: 7.3+ MB\n"
                    ]
                }
            ],
            "source": [
                "df_jobs.info()"
            ]
        },
        {
            "cell_type": "code",
            "execution_count": 55,
            "id": "49391453",
            "metadata": {},
            "outputs": [
                {
                    "data": {
                        "application/vnd.jupyter.widget-view+json": {
                            "model_id": "4052cd2f21a74be881b0f6ff13428b79",
                            "version_major": 2,
                            "version_minor": 0
                        },
                        "text/plain": [
                            "progress-bar:   0%|          | 0/17599 [00:00<?, ?it/s]"
                        ]
                    },
                    "metadata": {},
                    "output_type": "display_data"
                }
            ],
            "source": [
                "df_jobs['Job ID'] = df_jobs['Job ID'].progress_apply(lambda x: str(x).lower().strip())\n"
            ]
        },
        {
            "cell_type": "code",
            "execution_count": 56,
            "id": "f5aa6dcf",
            "metadata": {},
            "outputs": [
                {
                    "data": {
                        "text/plain": [
                            "Index(['Search Keyword', 'Platform', 'Job ID', 'Job Title', 'Company Name', 'Location', 'Job Description', 'Rating', 'Employment Type', 'Company URL', 'Job URL', 'Job Age', 'Job Age Number', 'Collection Date', 'Data Row', 'Tracking ID', 'Industry', 'Job Date', 'Type of ownership', 'Language', 'Dutch Requirement', 'English Requirement', 'Sector Code', 'Sector', 'Keywords Count', '% per Sector', '% per Social Category', '% per Workforce', 'Female Count (x 1000)', 'Gender_Female_% per Sector', 'Gender_Female_% per Social Category', 'Gender_Female_% per Workforce', 'Male Count (x 1000)', 'Gender_Male_% per Sector', 'Gender_Male_% per Social Category', 'Gender_Male_% per Workforce', 'Gender', 'Age_Older (>= 45 years)_n', 'Age_Older (>= 45 years)_% per Sector', 'Age_Older (>= 45 years)_% per Social Category', 'Age_Older (>= 45 years)_% per Workforce', 'Age_Younger (< 45 years)_n', 'Age_Younger (< 45 years)_% per Sector', 'Age_Younger (< 45 years)_% per Social Category', 'Age_Younger (< 45 years)_% per Workforce', 'Age', 'Sector Count (x 1000)', '% Sector per Workforce', 'Gender_Female', 'Gender_Male', 'Gender_Mixed', 'Age_Mixed', 'Age_Older', 'Age_Younger', 'Gender_Num', 'Age_Num'], dtype='object')"
                        ]
                    },
                    "execution_count": 56,
                    "metadata": {},
                    "output_type": "execute_result"
                }
            ],
            "source": [
                "df_jobs.columns\n"
            ]
        },
        {
            "cell_type": "code",
            "execution_count": 57,
            "id": "82178d30",
            "metadata": {},
            "outputs": [],
            "source": [
                "df_jobs = df_jobs.drop(\n",
                "    columns = [\n",
                "        'Job Description', 'Rating', 'Employment Type',\n",
                "        'Company URL', 'Job URL', 'Job Age', 'Job Age Number',\n",
                "        'Collection Date', 'Data Row', 'Tracking ID', 'Job Date',\n",
                "        'Type of ownership', 'Language', 'Dutch Requirement', 'English Requirement', \n",
                "    ],\n",
                "    errors='ignore'\n",
                ")"
            ]
        },
        {
            "cell_type": "code",
            "execution_count": 58,
            "id": "9bba117b",
            "metadata": {},
            "outputs": [
                {
                    "data": {
                        "text/plain": [
                            "Index(['Search Keyword', 'Platform', 'Job ID', 'Job Title', 'Company Name', 'Location', 'Industry', 'Sector Code', 'Sector', 'Keywords Count', '% per Sector', '% per Social Category', '% per Workforce', 'Female Count (x 1000)', 'Gender_Female_% per Sector', 'Gender_Female_% per Social Category', 'Gender_Female_% per Workforce', 'Male Count (x 1000)', 'Gender_Male_% per Sector', 'Gender_Male_% per Social Category', 'Gender_Male_% per Workforce', 'Gender', 'Age_Older (>= 45 years)_n', 'Age_Older (>= 45 years)_% per Sector', 'Age_Older (>= 45 years)_% per Social Category', 'Age_Older (>= 45 years)_% per Workforce', 'Age_Younger (< 45 years)_n', 'Age_Younger (< 45 years)_% per Sector', 'Age_Younger (< 45 years)_% per Social Category', 'Age_Younger (< 45 years)_% per Workforce', 'Age', 'Sector Count (x 1000)', '% Sector per Workforce', 'Gender_Female', 'Gender_Male', 'Gender_Mixed', 'Age_Mixed', 'Age_Older', 'Age_Younger', 'Gender_Num', 'Age_Num'], dtype='object')"
                        ]
                    },
                    "execution_count": 58,
                    "metadata": {},
                    "output_type": "execute_result"
                }
            ],
            "source": [
                "df_jobs.columns\n"
            ]
        },
        {
            "cell_type": "code",
            "execution_count": 59,
            "id": "f11e0e01",
            "metadata": {},
            "outputs": [],
            "source": [
                "# Add sector and categorical data from df_jobs\n",
                "df_manual = df_manual.merge(df_jobs, on='Job ID', how='inner')\n"
            ]
        },
        {
            "cell_type": "code",
            "execution_count": 60,
            "id": "47f24060",
            "metadata": {},
            "outputs": [
                {
                    "data": {
                        "text/plain": [
                            "5978"
                        ]
                    },
                    "execution_count": 60,
                    "metadata": {},
                    "output_type": "execute_result"
                }
            ],
            "source": [
                "# len = 5978\n",
                "len(df_manual)\n"
            ]
        },
        {
            "cell_type": "code",
            "execution_count": 61,
            "id": "4fa2c4a7",
            "metadata": {},
            "outputs": [
                {
                    "name": "stdout",
                    "output_type": "stream",
                    "text": [
                        "<class 'pandas.core.frame.DataFrame'>\n",
                        "Int64Index: 5978 entries, 0 to 5977\n",
                        "Data columns (total 46 columns):\n",
                        " #   Column                                          Non-Null Count  Dtype   \n",
                        "---  ------                                          --------------  -----   \n",
                        " 0   Job ID                                          5978 non-null   object  \n",
                        " 1   Job Description spacy_sentencized               5978 non-null   object  \n",
                        " 2   Warmth                                          5978 non-null   int64   \n",
                        " 3   Competence                                      5978 non-null   int64   \n",
                        " 4   Dutch Requirement                               5978 non-null   object  \n",
                        " 5   English Requirement                             5978 non-null   object  \n",
                        " 6   Search Keyword                                  5978 non-null   object  \n",
                        " 7   Platform                                        5978 non-null   object  \n",
                        " 8   Job Title                                       5978 non-null   object  \n",
                        " 9   Company Name                                    5978 non-null   object  \n",
                        " 10  Location                                        5978 non-null   object  \n",
                        " 11  Industry                                        291 non-null    object  \n",
                        " 12  Sector Code                                     5978 non-null   object  \n",
                        " 13  Sector                                          5978 non-null   object  \n",
                        " 14  Keywords Count                                  5978 non-null   float64 \n",
                        " 15  % per Sector                                    5978 non-null   float64 \n",
                        " 16  % per Social Category                           5978 non-null   float64 \n",
                        " 17  % per Workforce                                 5978 non-null   float64 \n",
                        " 18  Female Count (x 1000)                           5978 non-null   float64 \n",
                        " 19  Gender_Female_% per Sector                      5978 non-null   float64 \n",
                        " 20  Gender_Female_% per Social Category             5978 non-null   float64 \n",
                        " 21  Gender_Female_% per Workforce                   5978 non-null   float64 \n",
                        " 22  Male Count (x 1000)                             5978 non-null   float64 \n",
                        " 23  Gender_Male_% per Sector                        5978 non-null   float64 \n",
                        " 24  Gender_Male_% per Social Category               5978 non-null   float64 \n",
                        " 25  Gender_Male_% per Workforce                     5978 non-null   float64 \n",
                        " 26  Gender                                          5978 non-null   category\n",
                        " 27  Age_Older (>= 45 years)_n                       5978 non-null   float64 \n",
                        " 28  Age_Older (>= 45 years)_% per Sector            5978 non-null   float64 \n",
                        " 29  Age_Older (>= 45 years)_% per Social Category   5978 non-null   float64 \n",
                        " 30  Age_Older (>= 45 years)_% per Workforce         5978 non-null   float64 \n",
                        " 31  Age_Younger (< 45 years)_n                      5978 non-null   float64 \n",
                        " 32  Age_Younger (< 45 years)_% per Sector           5978 non-null   float64 \n",
                        " 33  Age_Younger (< 45 years)_% per Social Category  5978 non-null   float64 \n",
                        " 34  Age_Younger (< 45 years)_% per Workforce        5978 non-null   float64 \n",
                        " 35  Age                                             5978 non-null   category\n",
                        " 36  Sector Count (x 1000)                           5978 non-null   float64 \n",
                        " 37  % Sector per Workforce                          5978 non-null   float64 \n",
                        " 38  Gender_Female                                   5978 non-null   int64   \n",
                        " 39  Gender_Male                                     5978 non-null   int64   \n",
                        " 40  Gender_Mixed                                    5978 non-null   int64   \n",
                        " 41  Age_Mixed                                       5978 non-null   int64   \n",
                        " 42  Age_Older                                       5978 non-null   int64   \n",
                        " 43  Age_Younger                                     5978 non-null   int64   \n",
                        " 44  Gender_Num                                      5978 non-null   int64   \n",
                        " 45  Age_Num                                         5978 non-null   int64   \n",
                        "dtypes: category(2), float64(22), int64(10), object(12)\n",
                        "memory usage: 2.1+ MB\n"
                    ]
                }
            ],
            "source": [
                "df_manual.info()\n"
            ]
        },
        {
            "cell_type": "code",
            "execution_count": 62,
            "id": "40fa3bc0",
            "metadata": {},
            "outputs": [
                {
                    "data": {
                        "text/html": [
                            "<div>\n",
                            "<style scoped>\n",
                            "    .dataframe tbody tr th:only-of-type {\n",
                            "        vertical-align: middle;\n",
                            "    }\n",
                            "\n",
                            "    .dataframe tbody tr th {\n",
                            "        vertical-align: top;\n",
                            "    }\n",
                            "\n",
                            "    .dataframe thead th {\n",
                            "        text-align: right;\n",
                            "    }\n",
                            "</style>\n",
                            "<table border=\"1\" class=\"dataframe\">\n",
                            "  <thead>\n",
                            "    <tr style=\"text-align: center;\">\n",
                            "      <th></th>\n",
                            "      <th>Job ID</th>\n",
                            "      <th>Job Description spacy_sentencized</th>\n",
                            "      <th>Warmth</th>\n",
                            "      <th>Competence</th>\n",
                            "      <th>Dutch Requirement</th>\n",
                            "      <th>English Requirement</th>\n",
                            "      <th>Search Keyword</th>\n",
                            "      <th>Platform</th>\n",
                            "      <th>Job Title</th>\n",
                            "      <th>Company Name</th>\n",
                            "      <th>Location</th>\n",
                            "      <th>Industry</th>\n",
                            "      <th>Sector Code</th>\n",
                            "      <th>Sector</th>\n",
                            "      <th>Keywords Count</th>\n",
                            "      <th>% per Sector</th>\n",
                            "      <th>% per Social Category</th>\n",
                            "      <th>% per Workforce</th>\n",
                            "      <th>Female Count (x 1000)</th>\n",
                            "      <th>Gender_Female_% per Sector</th>\n",
                            "      <th>Gender_Female_% per Social Category</th>\n",
                            "      <th>Gender_Female_% per Workforce</th>\n",
                            "      <th>Male Count (x 1000)</th>\n",
                            "      <th>Gender_Male_% per Sector</th>\n",
                            "      <th>Gender_Male_% per Social Category</th>\n",
                            "      <th>Gender_Male_% per Workforce</th>\n",
                            "      <th>Gender</th>\n",
                            "      <th>Age_Older (&gt;= 45 years)_n</th>\n",
                            "      <th>Age_Older (&gt;= 45 years)_% per Sector</th>\n",
                            "      <th>Age_Older (&gt;= 45 years)_% per Social Category</th>\n",
                            "      <th>Age_Older (&gt;= 45 years)_% per Workforce</th>\n",
                            "      <th>Age_Younger (&lt; 45 years)_n</th>\n",
                            "      <th>Age_Younger (&lt; 45 years)_% per Sector</th>\n",
                            "      <th>Age_Younger (&lt; 45 years)_% per Social Category</th>\n",
                            "      <th>Age_Younger (&lt; 45 years)_% per Workforce</th>\n",
                            "      <th>Age</th>\n",
                            "      <th>Sector Count (x 1000)</th>\n",
                            "      <th>% Sector per Workforce</th>\n",
                            "      <th>Gender_Female</th>\n",
                            "      <th>Gender_Male</th>\n",
                            "      <th>Gender_Mixed</th>\n",
                            "      <th>Age_Mixed</th>\n",
                            "      <th>Age_Older</th>\n",
                            "      <th>Age_Younger</th>\n",
                            "      <th>Gender_Num</th>\n",
                            "      <th>Age_Num</th>\n",
                            "    </tr>\n",
                            "  </thead>\n",
                            "  <tbody>\n",
                            "    <tr>\n",
                            "      <th>0</th>\n",
                            "      <td>p_2d7b59d35856ba71</td>\n",
                            "      <td>Established in 1996 in Amsterdam, Booking.com ...</td>\n",
                            "      <td>0</td>\n",
                            "      <td>1</td>\n",
                            "      <td>No</td>\n",
                            "      <td>No</td>\n",
                            "      <td>specialised business service</td>\n",
                            "      <td>Indeed</td>\n",
                            "      <td>Sr Managing Counsel - Payments</td>\n",
                            "      <td>Bookingcom</td>\n",
                            "      <td>Amsterdam</td>\n",
                            "      <td>NaN</td>\n",
                            "      <td>N</td>\n",
                            "      <td>Renting and other business support</td>\n",
                            "      <td>8.00</td>\n",
                            "      <td>0.01</td>\n",
                            "      <td>0.08</td>\n",
                            "      <td>0.00</td>\n",
                            "      <td>416.00</td>\n",
                            "      <td>0.43</td>\n",
                            "      <td>0.03</td>\n",
                            "      <td>0.02</td>\n",
                            "      <td>557.00</td>\n",
                            "      <td>0.57</td>\n",
                            "      <td>0.04</td>\n",
                            "      <td>0.02</td>\n",
                            "      <td>Mixed Gender</td>\n",
                            "      <td>311.00</td>\n",
                            "      <td>0.32</td>\n",
                            "      <td>0.03</td>\n",
                            "      <td>0.01</td>\n",
                            "      <td>660.00</td>\n",
                            "      <td>0.68</td>\n",
                            "      <td>0.05</td>\n",
                            "      <td>0.03</td>\n",
                            "      <td>Younger</td>\n",
                            "      <td>973.00</td>\n",
                            "      <td>0.04</td>\n",
                            "      <td>0</td>\n",
                            "      <td>0</td>\n",
                            "      <td>1</td>\n",
                            "      <td>0</td>\n",
                            "      <td>0</td>\n",
                            "      <td>1</td>\n",
                            "      <td>1</td>\n",
                            "      <td>2</td>\n",
                            "    </tr>\n",
                            "    <tr>\n",
                            "      <th>1</th>\n",
                            "      <td>p_2d7b59d35856ba71</td>\n",
                            "      <td>Booking.com is the largest business within Boo...</td>\n",
                            "      <td>0</td>\n",
                            "      <td>0</td>\n",
                            "      <td>No</td>\n",
                            "      <td>No</td>\n",
                            "      <td>specialised business service</td>\n",
                            "      <td>Indeed</td>\n",
                            "      <td>Sr Managing Counsel - Payments</td>\n",
                            "      <td>Bookingcom</td>\n",
                            "      <td>Amsterdam</td>\n",
                            "      <td>NaN</td>\n",
                            "      <td>N</td>\n",
                            "      <td>Renting and other business support</td>\n",
                            "      <td>8.00</td>\n",
                            "      <td>0.01</td>\n",
                            "      <td>0.08</td>\n",
                            "      <td>0.00</td>\n",
                            "      <td>416.00</td>\n",
                            "      <td>0.43</td>\n",
                            "      <td>0.03</td>\n",
                            "      <td>0.02</td>\n",
                            "      <td>557.00</td>\n",
                            "      <td>0.57</td>\n",
                            "      <td>0.04</td>\n",
                            "      <td>0.02</td>\n",
                            "      <td>Mixed Gender</td>\n",
                            "      <td>311.00</td>\n",
                            "      <td>0.32</td>\n",
                            "      <td>0.03</td>\n",
                            "      <td>0.01</td>\n",
                            "      <td>660.00</td>\n",
                            "      <td>0.68</td>\n",
                            "      <td>0.05</td>\n",
                            "      <td>0.03</td>\n",
                            "      <td>Younger</td>\n",
                            "      <td>973.00</td>\n",
                            "      <td>0.04</td>\n",
                            "      <td>0</td>\n",
                            "      <td>0</td>\n",
                            "      <td>1</td>\n",
                            "      <td>0</td>\n",
                            "      <td>0</td>\n",
                            "      <td>1</td>\n",
                            "      <td>1</td>\n",
                            "      <td>2</td>\n",
                            "    </tr>\n",
                            "    <tr>\n",
                            "      <th>2</th>\n",
                            "      <td>p_2d7b59d35856ba71</td>\n",
                            "      <td>Booking Holdings is a leading Fortune 500 e-co...</td>\n",
                            "      <td>0</td>\n",
                            "      <td>1</td>\n",
                            "      <td>No</td>\n",
                            "      <td>No</td>\n",
                            "      <td>specialised business service</td>\n",
                            "      <td>Indeed</td>\n",
                            "      <td>Sr Managing Counsel - Payments</td>\n",
                            "      <td>Bookingcom</td>\n",
                            "      <td>Amsterdam</td>\n",
                            "      <td>NaN</td>\n",
                            "      <td>N</td>\n",
                            "      <td>Renting and other business support</td>\n",
                            "      <td>8.00</td>\n",
                            "      <td>0.01</td>\n",
                            "      <td>0.08</td>\n",
                            "      <td>0.00</td>\n",
                            "      <td>416.00</td>\n",
                            "      <td>0.43</td>\n",
                            "      <td>0.03</td>\n",
                            "      <td>0.02</td>\n",
                            "      <td>557.00</td>\n",
                            "      <td>0.57</td>\n",
                            "      <td>0.04</td>\n",
                            "      <td>0.02</td>\n",
                            "      <td>Mixed Gender</td>\n",
                            "      <td>311.00</td>\n",
                            "      <td>0.32</td>\n",
                            "      <td>0.03</td>\n",
                            "      <td>0.01</td>\n",
                            "      <td>660.00</td>\n",
                            "      <td>0.68</td>\n",
                            "      <td>0.05</td>\n",
                            "      <td>0.03</td>\n",
                            "      <td>Younger</td>\n",
                            "      <td>973.00</td>\n",
                            "      <td>0.04</td>\n",
                            "      <td>0</td>\n",
                            "      <td>0</td>\n",
                            "      <td>1</td>\n",
                            "      <td>0</td>\n",
                            "      <td>0</td>\n",
                            "      <td>1</td>\n",
                            "      <td>1</td>\n",
                            "      <td>2</td>\n",
                            "    </tr>\n",
                            "    <tr>\n",
                            "      <th>3</th>\n",
                            "      <td>p_2d7b59d35856ba71</td>\n",
                            "      <td>With a mission to make it easier for everyone ...</td>\n",
                            "      <td>0</td>\n",
                            "      <td>0</td>\n",
                            "      <td>No</td>\n",
                            "      <td>No</td>\n",
                            "      <td>specialised business service</td>\n",
                            "      <td>Indeed</td>\n",
                            "      <td>Sr Managing Counsel - Payments</td>\n",
                            "      <td>Bookingcom</td>\n",
                            "      <td>Amsterdam</td>\n",
                            "      <td>NaN</td>\n",
                            "      <td>N</td>\n",
                            "      <td>Renting and other business support</td>\n",
                            "      <td>8.00</td>\n",
                            "      <td>0.01</td>\n",
                            "      <td>0.08</td>\n",
                            "      <td>0.00</td>\n",
                            "      <td>416.00</td>\n",
                            "      <td>0.43</td>\n",
                            "      <td>0.03</td>\n",
                            "      <td>0.02</td>\n",
                            "      <td>557.00</td>\n",
                            "      <td>0.57</td>\n",
                            "      <td>0.04</td>\n",
                            "      <td>0.02</td>\n",
                            "      <td>Mixed Gender</td>\n",
                            "      <td>311.00</td>\n",
                            "      <td>0.32</td>\n",
                            "      <td>0.03</td>\n",
                            "      <td>0.01</td>\n",
                            "      <td>660.00</td>\n",
                            "      <td>0.68</td>\n",
                            "      <td>0.05</td>\n",
                            "      <td>0.03</td>\n",
                            "      <td>Younger</td>\n",
                            "      <td>973.00</td>\n",
                            "      <td>0.04</td>\n",
                            "      <td>0</td>\n",
                            "      <td>0</td>\n",
                            "      <td>1</td>\n",
                            "      <td>0</td>\n",
                            "      <td>0</td>\n",
                            "      <td>1</td>\n",
                            "      <td>1</td>\n",
                            "      <td>2</td>\n",
                            "    </tr>\n",
                            "    <tr>\n",
                            "      <th>4</th>\n",
                            "      <td>p_2d7b59d35856ba71</td>\n",
                            "      <td>Booking.com connects travellers with the world...</td>\n",
                            "      <td>0</td>\n",
                            "      <td>1</td>\n",
                            "      <td>No</td>\n",
                            "      <td>No</td>\n",
                            "      <td>specialised business service</td>\n",
                            "      <td>Indeed</td>\n",
                            "      <td>Sr Managing Counsel - Payments</td>\n",
                            "      <td>Bookingcom</td>\n",
                            "      <td>Amsterdam</td>\n",
                            "      <td>NaN</td>\n",
                            "      <td>N</td>\n",
                            "      <td>Renting and other business support</td>\n",
                            "      <td>8.00</td>\n",
                            "      <td>0.01</td>\n",
                            "      <td>0.08</td>\n",
                            "      <td>0.00</td>\n",
                            "      <td>416.00</td>\n",
                            "      <td>0.43</td>\n",
                            "      <td>0.03</td>\n",
                            "      <td>0.02</td>\n",
                            "      <td>557.00</td>\n",
                            "      <td>0.57</td>\n",
                            "      <td>0.04</td>\n",
                            "      <td>0.02</td>\n",
                            "      <td>Mixed Gender</td>\n",
                            "      <td>311.00</td>\n",
                            "      <td>0.32</td>\n",
                            "      <td>0.03</td>\n",
                            "      <td>0.01</td>\n",
                            "      <td>660.00</td>\n",
                            "      <td>0.68</td>\n",
                            "      <td>0.05</td>\n",
                            "      <td>0.03</td>\n",
                            "      <td>Younger</td>\n",
                            "      <td>973.00</td>\n",
                            "      <td>0.04</td>\n",
                            "      <td>0</td>\n",
                            "      <td>0</td>\n",
                            "      <td>1</td>\n",
                            "      <td>0</td>\n",
                            "      <td>0</td>\n",
                            "      <td>1</td>\n",
                            "      <td>1</td>\n",
                            "      <td>2</td>\n",
                            "    </tr>\n",
                            "  </tbody>\n",
                            "</table>\n",
                            "</div>"
                        ],
                        "text/plain": [
                            "         Job ID               Job Description spacy_sentencized           Warmth  Competence Dutch Requirement English Requirement         Search Keyword        Platform            Job Title            Company Name   Location  Industry Sector Code                Sector                Keywords Count  % per Sector  % per Social Category  % per Workforce  Female Count (x 1000)  Gender_Female_% per Sector  Gender_Female_% per Social Category  Gender_Female_% per Workforce  Male Count (x 1000)  Gender_Male_% per Sector  Gender_Male_% per Social Category  Gender_Male_% per Workforce     Gender     Age_Older (>= 45 years)_n  Age_Older (>= 45 years)_% per Sector  Age_Older (>= 45 years)_% per Social Category  Age_Older (>= 45 years)_% per Workforce  Age_Younger (< 45 years)_n  Age_Younger (< 45 years)_% per Sector  Age_Younger (< 45 years)_% per Social Category  Age_Younger (< 45 years)_% per Workforce   Age     Sector Count (x 1000)  % Sector per Workforce  Gender_Female  Gender_Male  Gender_Mixed  Age_Mixed  Age_Older  Age_Younger  Gender_Num  Age_Num\n",
                            "0  p_2d7b59d35856ba71  Established in 1996 in Amsterdam, Booking.com ...     0         1             No                 No          specialised business service  Indeed   Sr Managing Counsel - Payments  Bookingcom    Amsterdam    NaN         N      Renting and other business support       8.00           0.01              0.08                0.00               416.00                     0.43                            0.03                              0.02                     557.00                   0.57                          0.04                            0.02              Mixed Gender           311.00                            0.32                                      0.03                                        0.01                              660.00                            0.68                                        0.05                                         0.03                    Younger         973.00                   0.04                 0             0             1           0          0           1            1         2   \n",
                            "1  p_2d7b59d35856ba71  Booking.com is the largest business within Boo...     0         0             No                 No          specialised business service  Indeed   Sr Managing Counsel - Payments  Bookingcom    Amsterdam    NaN         N      Renting and other business support       8.00           0.01              0.08                0.00               416.00                     0.43                            0.03                              0.02                     557.00                   0.57                          0.04                            0.02              Mixed Gender           311.00                            0.32                                      0.03                                        0.01                              660.00                            0.68                                        0.05                                         0.03                    Younger         973.00                   0.04                 0             0             1           0          0           1            1         2   \n",
                            "2  p_2d7b59d35856ba71  Booking Holdings is a leading Fortune 500 e-co...     0         1             No                 No          specialised business service  Indeed   Sr Managing Counsel - Payments  Bookingcom    Amsterdam    NaN         N      Renting and other business support       8.00           0.01              0.08                0.00               416.00                     0.43                            0.03                              0.02                     557.00                   0.57                          0.04                            0.02              Mixed Gender           311.00                            0.32                                      0.03                                        0.01                              660.00                            0.68                                        0.05                                         0.03                    Younger         973.00                   0.04                 0             0             1           0          0           1            1         2   \n",
                            "3  p_2d7b59d35856ba71  With a mission to make it easier for everyone ...     0         0             No                 No          specialised business service  Indeed   Sr Managing Counsel - Payments  Bookingcom    Amsterdam    NaN         N      Renting and other business support       8.00           0.01              0.08                0.00               416.00                     0.43                            0.03                              0.02                     557.00                   0.57                          0.04                            0.02              Mixed Gender           311.00                            0.32                                      0.03                                        0.01                              660.00                            0.68                                        0.05                                         0.03                    Younger         973.00                   0.04                 0             0             1           0          0           1            1         2   \n",
                            "4  p_2d7b59d35856ba71  Booking.com connects travellers with the world...     0         1             No                 No          specialised business service  Indeed   Sr Managing Counsel - Payments  Bookingcom    Amsterdam    NaN         N      Renting and other business support       8.00           0.01              0.08                0.00               416.00                     0.43                            0.03                              0.02                     557.00                   0.57                          0.04                            0.02              Mixed Gender           311.00                            0.32                                      0.03                                        0.01                              660.00                            0.68                                        0.05                                         0.03                    Younger         973.00                   0.04                 0             0             1           0          0           1            1         2   "
                        ]
                    },
                    "execution_count": 62,
                    "metadata": {},
                    "output_type": "execute_result"
                }
            ],
            "source": [
                "df_manual.head()"
            ]
        },
        {
            "cell_type": "markdown",
            "id": "1d889ec9",
            "metadata": {},
            "source": [
                "#### Check if there is any missing sector data in the merged dataframe"
            ]
        },
        {
            "cell_type": "code",
            "execution_count": 63,
            "id": "43ddadb7",
            "metadata": {},
            "outputs": [
                {
                    "data": {
                        "text/plain": [
                            "0"
                        ]
                    },
                    "execution_count": 63,
                    "metadata": {},
                    "output_type": "execute_result"
                }
            ],
            "source": [
                "df_manual['Sector'].isna().sum()"
            ]
        },
        {
            "cell_type": "code",
            "execution_count": 64,
            "id": "cb5b9064",
            "metadata": {},
            "outputs": [],
            "source": [
                "if df_manual['Sector'].isna().sum() != 0:\n",
                "    print('Some search keywords did not match a sector. Fixing')\n",
                "    print(set(df_manual['Search Keyword'].loc[df_manual['Sector'].isna()].to_list()))\n",
                "    print(len(df_manual['Search Keyword'].loc[df_manual['Search Keyword'].isin(list(keyword_trans_dict.keys()))]))\n",
                "    df_manual = fix_keywords(df_manual)\n",
                "    print(set(df_manual['Search Keyword'].loc[df_manual['Sector'].isna()].to_list()))\n",
                "    print(len(df_manual['Search Keyword'].loc[df_manual['Search Keyword'].isin(list(keyword_trans_dict.keys()))]))\n"
            ]
        },
        {
            "cell_type": "code",
            "execution_count": 65,
            "id": "d0d24ae2",
            "metadata": {},
            "outputs": [
                {
                    "name": "stdout",
                    "output_type": "stream",
                    "text": [
                        "\n",
                        "DF INFO:\n",
                        "\n",
                        "<class 'pandas.core.frame.DataFrame'>\n",
                        "Index: 117 entries, 3768944208 to pj_a4ac3e531abef752\n",
                        "Data columns (total 45 columns):\n",
                        " #   Column                                          Non-Null Count  Dtype   \n",
                        "---  ------                                          --------------  -----   \n",
                        " 0   Job Description spacy_sentencized               117 non-null    object  \n",
                        " 1   Warmth                                          117 non-null    int64   \n",
                        " 2   Competence                                      117 non-null    int64   \n",
                        " 3   Dutch Requirement                               117 non-null    object  \n",
                        " 4   English Requirement                             117 non-null    object  \n",
                        " 5   Search Keyword                                  117 non-null    object  \n",
                        " 6   Platform                                        117 non-null    object  \n",
                        " 7   Job Title                                       117 non-null    object  \n",
                        " 8   Company Name                                    117 non-null    object  \n",
                        " 9   Location                                        117 non-null    object  \n",
                        " 10  Industry                                        5 non-null      object  \n",
                        " 11  Sector Code                                     117 non-null    object  \n",
                        " 12  Sector                                          117 non-null    object  \n",
                        " 13  Keywords Count                                  117 non-null    float64 \n",
                        " 14  % per Sector                                    117 non-null    float64 \n",
                        " 15  % per Social Category                           117 non-null    float64 \n",
                        " 16  % per Workforce                                 117 non-null    float64 \n",
                        " 17  Female Count (x 1000)                           117 non-null    float64 \n",
                        " 18  Gender_Female_% per Sector                      117 non-null    float64 \n",
                        " 19  Gender_Female_% per Social Category             117 non-null    float64 \n",
                        " 20  Gender_Female_% per Workforce                   117 non-null    float64 \n",
                        " 21  Male Count (x 1000)                             117 non-null    float64 \n",
                        " 22  Gender_Male_% per Sector                        117 non-null    float64 \n",
                        " 23  Gender_Male_% per Social Category               117 non-null    float64 \n",
                        " 24  Gender_Male_% per Workforce                     117 non-null    float64 \n",
                        " 25  Gender                                          117 non-null    category\n",
                        " 26  Age_Older (>= 45 years)_n                       117 non-null    float64 \n",
                        " 27  Age_Older (>= 45 years)_% per Sector            117 non-null    float64 \n",
                        " 28  Age_Older (>= 45 years)_% per Social Category   117 non-null    float64 \n",
                        " 29  Age_Older (>= 45 years)_% per Workforce         117 non-null    float64 \n",
                        " 30  Age_Younger (< 45 years)_n                      117 non-null    float64 \n",
                        " 31  Age_Younger (< 45 years)_% per Sector           117 non-null    float64 \n",
                        " 32  Age_Younger (< 45 years)_% per Social Category  117 non-null    float64 \n",
                        " 33  Age_Younger (< 45 years)_% per Workforce        117 non-null    float64 \n",
                        " 34  Age                                             117 non-null    category\n",
                        " 35  Sector Count (x 1000)                           117 non-null    float64 \n",
                        " 36  % Sector per Workforce                          117 non-null    float64 \n",
                        " 37  Gender_Female                                   117 non-null    int64   \n",
                        " 38  Gender_Male                                     117 non-null    int64   \n",
                        " 39  Gender_Mixed                                    117 non-null    int64   \n",
                        " 40  Age_Mixed                                       117 non-null    int64   \n",
                        " 41  Age_Older                                       117 non-null    int64   \n",
                        " 42  Age_Younger                                     117 non-null    int64   \n",
                        " 43  Gender_Num                                      117 non-null    int64   \n",
                        " 44  Age_Num                                         117 non-null    int64   \n",
                        "dtypes: category(2), float64(22), int64(10), object(11)\n",
                        "memory usage: 40.7+ KB\n",
                        "====================\n",
                        "Gender:\n",
                        "--------------------\n",
                        "Gender Counts:\n",
                        "Mixed Gender    89\n",
                        "Male            16\n",
                        "Female          12\n",
                        "Name: Gender, dtype: int64\n",
                        "--------------------\n",
                        "Gender Percentages:\n",
                        "Mixed Gender   76.10\n",
                        "Male           13.70\n",
                        "Female         10.30\n",
                        "Name: Gender, dtype: float64\n",
                        "====================\n",
                        "Gender_Num:\n",
                        "--------------------\n",
                        "Gender_Num Counts:\n",
                        "1    89\n",
                        "2    16\n",
                        "0    12\n",
                        "Name: Gender_Num, dtype: int64\n",
                        "--------------------\n",
                        "Gender_Num Percentages:\n",
                        "1   76.10\n",
                        "2   13.70\n",
                        "0   10.30\n",
                        "Name: Gender_Num, dtype: float64\n",
                        "--------------------\n",
                        "Gender_Num Mean: 1.03\n",
                        "--------------------\n",
                        "Gender_Num Standard Deviation: 0.49\n",
                        "====================\n",
                        "Gender_Female:\n",
                        "--------------------\n",
                        "Gender_Female Counts:\n",
                        "0    105\n",
                        "1     12\n",
                        "Name: Gender_Female, dtype: int64\n",
                        "--------------------\n",
                        "Gender_Female Percentages:\n",
                        "0   89.70\n",
                        "1   10.30\n",
                        "Name: Gender_Female, dtype: float64\n",
                        "--------------------\n",
                        "Gender_Female Mean: 0.1\n",
                        "--------------------\n",
                        "Gender_Female Standard Deviation: 0.3\n",
                        "====================\n",
                        "Gender_Mixed:\n",
                        "--------------------\n",
                        "Gender_Mixed Counts:\n",
                        "1    89\n",
                        "0    28\n",
                        "Name: Gender_Mixed, dtype: int64\n",
                        "--------------------\n",
                        "Gender_Mixed Percentages:\n",
                        "1   76.10\n",
                        "0   23.90\n",
                        "Name: Gender_Mixed, dtype: float64\n",
                        "--------------------\n",
                        "Gender_Mixed Mean: 0.76\n",
                        "--------------------\n",
                        "Gender_Mixed Standard Deviation: 0.43\n",
                        "====================\n",
                        "Gender_Male:\n",
                        "--------------------\n",
                        "Gender_Male Counts:\n",
                        "0    101\n",
                        "1     16\n",
                        "Name: Gender_Male, dtype: int64\n",
                        "--------------------\n",
                        "Gender_Male Percentages:\n",
                        "0   86.30\n",
                        "1   13.70\n",
                        "Name: Gender_Male, dtype: float64\n",
                        "--------------------\n",
                        "Gender_Male Mean: 0.14\n",
                        "--------------------\n",
                        "Gender_Male Standard Deviation: 0.35\n",
                        "====================\n",
                        "Age:\n",
                        "--------------------\n",
                        "Age Counts:\n",
                        "Younger      60\n",
                        "Mixed Age    42\n",
                        "Older        15\n",
                        "Name: Age, dtype: int64\n",
                        "--------------------\n",
                        "Age Percentages:\n",
                        "Younger     51.30\n",
                        "Mixed Age   35.90\n",
                        "Older       12.80\n",
                        "Name: Age, dtype: float64\n",
                        "====================\n",
                        "Age_Num:\n",
                        "--------------------\n",
                        "Age_Num Counts:\n",
                        "2    60\n",
                        "1    42\n",
                        "0    15\n",
                        "Name: Age_Num, dtype: int64\n",
                        "--------------------\n",
                        "Age_Num Percentages:\n",
                        "2   51.30\n",
                        "1   35.90\n",
                        "0   12.80\n",
                        "Name: Age_Num, dtype: float64\n",
                        "--------------------\n",
                        "Age_Num Mean: 1.38\n",
                        "--------------------\n",
                        "Age_Num Standard Deviation: 0.71\n",
                        "====================\n",
                        "Age_Older:\n",
                        "--------------------\n",
                        "Age_Older Counts:\n",
                        "0    102\n",
                        "1     15\n",
                        "Name: Age_Older, dtype: int64\n",
                        "--------------------\n",
                        "Age_Older Percentages:\n",
                        "0   87.20\n",
                        "1   12.80\n",
                        "Name: Age_Older, dtype: float64\n",
                        "--------------------\n",
                        "Age_Older Mean: 0.13\n",
                        "--------------------\n",
                        "Age_Older Standard Deviation: 0.34\n",
                        "====================\n",
                        "Age_Mixed:\n",
                        "--------------------\n",
                        "Age_Mixed Counts:\n",
                        "0    75\n",
                        "1    42\n",
                        "Name: Age_Mixed, dtype: int64\n",
                        "--------------------\n",
                        "Age_Mixed Percentages:\n",
                        "0   64.10\n",
                        "1   35.90\n",
                        "Name: Age_Mixed, dtype: float64\n",
                        "--------------------\n",
                        "Age_Mixed Mean: 0.36\n",
                        "--------------------\n",
                        "Age_Mixed Standard Deviation: 0.48\n",
                        "====================\n",
                        "Age_Younger:\n",
                        "--------------------\n",
                        "Age_Younger Counts:\n",
                        "1    60\n",
                        "0    57\n",
                        "Name: Age_Younger, dtype: int64\n",
                        "--------------------\n",
                        "Age_Younger Percentages:\n",
                        "1   51.30\n",
                        "0   48.70\n",
                        "Name: Age_Younger, dtype: float64\n",
                        "--------------------\n",
                        "Age_Younger Mean: 0.51\n",
                        "--------------------\n",
                        "Age_Younger Standard Deviation: 0.5\n",
                        "\n",
                        "\n"
                    ]
                }
            ],
            "source": [
                "# Manual Job Ad info, len = 117\n",
                "df_gender_age_info(df_manual.groupby(['Job ID']).first())\n"
            ]
        },
        {
            "cell_type": "code",
            "execution_count": 66,
            "id": "d4d65547",
            "metadata": {},
            "outputs": [
                {
                    "name": "stdout",
                    "output_type": "stream",
                    "text": [
                        "\n",
                        "DF INFO:\n",
                        "\n",
                        "<class 'pandas.core.frame.DataFrame'>\n",
                        "Int64Index: 5978 entries, 0 to 5977\n",
                        "Data columns (total 46 columns):\n",
                        " #   Column                                          Non-Null Count  Dtype   \n",
                        "---  ------                                          --------------  -----   \n",
                        " 0   Job ID                                          5978 non-null   object  \n",
                        " 1   Job Description spacy_sentencized               5978 non-null   object  \n",
                        " 2   Warmth                                          5978 non-null   int64   \n",
                        " 3   Competence                                      5978 non-null   int64   \n",
                        " 4   Dutch Requirement                               5978 non-null   object  \n",
                        " 5   English Requirement                             5978 non-null   object  \n",
                        " 6   Search Keyword                                  5978 non-null   object  \n",
                        " 7   Platform                                        5978 non-null   object  \n",
                        " 8   Job Title                                       5978 non-null   object  \n",
                        " 9   Company Name                                    5978 non-null   object  \n",
                        " 10  Location                                        5978 non-null   object  \n",
                        " 11  Industry                                        291 non-null    object  \n",
                        " 12  Sector Code                                     5978 non-null   object  \n",
                        " 13  Sector                                          5978 non-null   object  \n",
                        " 14  Keywords Count                                  5978 non-null   float64 \n",
                        " 15  % per Sector                                    5978 non-null   float64 \n",
                        " 16  % per Social Category                           5978 non-null   float64 \n",
                        " 17  % per Workforce                                 5978 non-null   float64 \n",
                        " 18  Female Count (x 1000)                           5978 non-null   float64 \n",
                        " 19  Gender_Female_% per Sector                      5978 non-null   float64 \n",
                        " 20  Gender_Female_% per Social Category             5978 non-null   float64 \n",
                        " 21  Gender_Female_% per Workforce                   5978 non-null   float64 \n",
                        " 22  Male Count (x 1000)                             5978 non-null   float64 \n",
                        " 23  Gender_Male_% per Sector                        5978 non-null   float64 \n",
                        " 24  Gender_Male_% per Social Category               5978 non-null   float64 \n",
                        " 25  Gender_Male_% per Workforce                     5978 non-null   float64 \n",
                        " 26  Gender                                          5978 non-null   category\n",
                        " 27  Age_Older (>= 45 years)_n                       5978 non-null   float64 \n",
                        " 28  Age_Older (>= 45 years)_% per Sector            5978 non-null   float64 \n",
                        " 29  Age_Older (>= 45 years)_% per Social Category   5978 non-null   float64 \n",
                        " 30  Age_Older (>= 45 years)_% per Workforce         5978 non-null   float64 \n",
                        " 31  Age_Younger (< 45 years)_n                      5978 non-null   float64 \n",
                        " 32  Age_Younger (< 45 years)_% per Sector           5978 non-null   float64 \n",
                        " 33  Age_Younger (< 45 years)_% per Social Category  5978 non-null   float64 \n",
                        " 34  Age_Younger (< 45 years)_% per Workforce        5978 non-null   float64 \n",
                        " 35  Age                                             5978 non-null   category\n",
                        " 36  Sector Count (x 1000)                           5978 non-null   float64 \n",
                        " 37  % Sector per Workforce                          5978 non-null   float64 \n",
                        " 38  Gender_Female                                   5978 non-null   int64   \n",
                        " 39  Gender_Male                                     5978 non-null   int64   \n",
                        " 40  Gender_Mixed                                    5978 non-null   int64   \n",
                        " 41  Age_Mixed                                       5978 non-null   int64   \n",
                        " 42  Age_Older                                       5978 non-null   int64   \n",
                        " 43  Age_Younger                                     5978 non-null   int64   \n",
                        " 44  Gender_Num                                      5978 non-null   int64   \n",
                        " 45  Age_Num                                         5978 non-null   int64   \n",
                        "dtypes: category(2), float64(22), int64(10), object(12)\n",
                        "memory usage: 2.1+ MB\n",
                        "====================\n",
                        "Gender:\n",
                        "--------------------\n",
                        "Gender Counts:\n",
                        "Mixed Gender    4682\n",
                        "Male             664\n",
                        "Female           632\n",
                        "Name: Gender, dtype: int64\n",
                        "--------------------\n",
                        "Gender Percentages:\n",
                        "Mixed Gender   78.30\n",
                        "Male           11.10\n",
                        "Female         10.60\n",
                        "Name: Gender, dtype: float64\n",
                        "====================\n",
                        "Gender_Num:\n",
                        "--------------------\n",
                        "Gender_Num Counts:\n",
                        "1    4682\n",
                        "2     664\n",
                        "0     632\n",
                        "Name: Gender_Num, dtype: int64\n",
                        "--------------------\n",
                        "Gender_Num Percentages:\n",
                        "1   78.30\n",
                        "2   11.10\n",
                        "0   10.60\n",
                        "Name: Gender_Num, dtype: float64\n",
                        "--------------------\n",
                        "Gender_Num Mean: 1.01\n",
                        "--------------------\n",
                        "Gender_Num Standard Deviation: 0.47\n",
                        "====================\n",
                        "Gender_Female:\n",
                        "--------------------\n",
                        "Gender_Female Counts:\n",
                        "0    5346\n",
                        "1     632\n",
                        "Name: Gender_Female, dtype: int64\n",
                        "--------------------\n",
                        "Gender_Female Percentages:\n",
                        "0   89.40\n",
                        "1   10.60\n",
                        "Name: Gender_Female, dtype: float64\n",
                        "--------------------\n",
                        "Gender_Female Mean: 0.11\n",
                        "--------------------\n",
                        "Gender_Female Standard Deviation: 0.31\n",
                        "====================\n",
                        "Gender_Mixed:\n",
                        "--------------------\n",
                        "Gender_Mixed Counts:\n",
                        "1    4682\n",
                        "0    1296\n",
                        "Name: Gender_Mixed, dtype: int64\n",
                        "--------------------\n",
                        "Gender_Mixed Percentages:\n",
                        "1   78.30\n",
                        "0   21.70\n",
                        "Name: Gender_Mixed, dtype: float64\n",
                        "--------------------\n",
                        "Gender_Mixed Mean: 0.78\n",
                        "--------------------\n",
                        "Gender_Mixed Standard Deviation: 0.41\n",
                        "====================\n",
                        "Gender_Male:\n",
                        "--------------------\n",
                        "Gender_Male Counts:\n",
                        "0    5314\n",
                        "1     664\n",
                        "Name: Gender_Male, dtype: int64\n",
                        "--------------------\n",
                        "Gender_Male Percentages:\n",
                        "0   88.90\n",
                        "1   11.10\n",
                        "Name: Gender_Male, dtype: float64\n",
                        "--------------------\n",
                        "Gender_Male Mean: 0.11\n",
                        "--------------------\n",
                        "Gender_Male Standard Deviation: 0.31\n",
                        "====================\n",
                        "Age:\n",
                        "--------------------\n",
                        "Age Counts:\n",
                        "Younger      3237\n",
                        "Mixed Age    2059\n",
                        "Older         682\n",
                        "Name: Age, dtype: int64\n",
                        "--------------------\n",
                        "Age Percentages:\n",
                        "Younger     54.10\n",
                        "Mixed Age   34.40\n",
                        "Older       11.40\n",
                        "Name: Age, dtype: float64\n",
                        "====================\n",
                        "Age_Num:\n",
                        "--------------------\n",
                        "Age_Num Counts:\n",
                        "2    3237\n",
                        "1    2059\n",
                        "0     682\n",
                        "Name: Age_Num, dtype: int64\n",
                        "--------------------\n",
                        "Age_Num Percentages:\n",
                        "2   54.10\n",
                        "1   34.40\n",
                        "0   11.40\n",
                        "Name: Age_Num, dtype: float64\n",
                        "--------------------\n",
                        "Age_Num Mean: 1.43\n",
                        "--------------------\n",
                        "Age_Num Standard Deviation: 0.69\n",
                        "====================\n",
                        "Age_Older:\n",
                        "--------------------\n",
                        "Age_Older Counts:\n",
                        "0    5296\n",
                        "1     682\n",
                        "Name: Age_Older, dtype: int64\n",
                        "--------------------\n",
                        "Age_Older Percentages:\n",
                        "0   88.60\n",
                        "1   11.40\n",
                        "Name: Age_Older, dtype: float64\n",
                        "--------------------\n",
                        "Age_Older Mean: 0.11\n",
                        "--------------------\n",
                        "Age_Older Standard Deviation: 0.32\n",
                        "====================\n",
                        "Age_Mixed:\n",
                        "--------------------\n",
                        "Age_Mixed Counts:\n",
                        "0    3919\n",
                        "1    2059\n",
                        "Name: Age_Mixed, dtype: int64\n",
                        "--------------------\n",
                        "Age_Mixed Percentages:\n",
                        "0   65.60\n",
                        "1   34.40\n",
                        "Name: Age_Mixed, dtype: float64\n",
                        "--------------------\n",
                        "Age_Mixed Mean: 0.34\n",
                        "--------------------\n",
                        "Age_Mixed Standard Deviation: 0.48\n",
                        "====================\n",
                        "Age_Younger:\n",
                        "--------------------\n",
                        "Age_Younger Counts:\n",
                        "1    3237\n",
                        "0    2741\n",
                        "Name: Age_Younger, dtype: int64\n",
                        "--------------------\n",
                        "Age_Younger Percentages:\n",
                        "1   54.10\n",
                        "0   45.90\n",
                        "Name: Age_Younger, dtype: float64\n",
                        "--------------------\n",
                        "Age_Younger Mean: 0.54\n",
                        "--------------------\n",
                        "Age_Younger Standard Deviation: 0.5\n",
                        "\n",
                        "\n"
                    ]
                }
            ],
            "source": [
                "# Manual Job Sentence info\n",
                "df_gender_age_info(df_manual)\n"
            ]
        },
        {
            "cell_type": "code",
            "execution_count": 67,
            "id": "d1d8a085",
            "metadata": {},
            "outputs": [
                {
                    "name": "stdout",
                    "output_type": "stream",
                    "text": [
                        "\n",
                        "DF INFO:\n",
                        "\n",
                        "<class 'pandas.core.frame.DataFrame'>\n",
                        "Int64Index: 5978 entries, 0 to 5977\n",
                        "Data columns (total 46 columns):\n",
                        " #   Column                                          Non-Null Count  Dtype   \n",
                        "---  ------                                          --------------  -----   \n",
                        " 0   Job ID                                          5978 non-null   object  \n",
                        " 1   Job Description spacy_sentencized               5978 non-null   object  \n",
                        " 2   Warmth                                          5978 non-null   int64   \n",
                        " 3   Competence                                      5978 non-null   int64   \n",
                        " 4   Dutch Requirement                               5978 non-null   object  \n",
                        " 5   English Requirement                             5978 non-null   object  \n",
                        " 6   Search Keyword                                  5978 non-null   object  \n",
                        " 7   Platform                                        5978 non-null   object  \n",
                        " 8   Job Title                                       5978 non-null   object  \n",
                        " 9   Company Name                                    5978 non-null   object  \n",
                        " 10  Location                                        5978 non-null   object  \n",
                        " 11  Industry                                        291 non-null    object  \n",
                        " 12  Sector Code                                     5978 non-null   object  \n",
                        " 13  Sector                                          5978 non-null   object  \n",
                        " 14  Keywords Count                                  5978 non-null   float64 \n",
                        " 15  % per Sector                                    5978 non-null   float64 \n",
                        " 16  % per Social Category                           5978 non-null   float64 \n",
                        " 17  % per Workforce                                 5978 non-null   float64 \n",
                        " 18  Female Count (x 1000)                           5978 non-null   float64 \n",
                        " 19  Gender_Female_% per Sector                      5978 non-null   float64 \n",
                        " 20  Gender_Female_% per Social Category             5978 non-null   float64 \n",
                        " 21  Gender_Female_% per Workforce                   5978 non-null   float64 \n",
                        " 22  Male Count (x 1000)                             5978 non-null   float64 \n",
                        " 23  Gender_Male_% per Sector                        5978 non-null   float64 \n",
                        " 24  Gender_Male_% per Social Category               5978 non-null   float64 \n",
                        " 25  Gender_Male_% per Workforce                     5978 non-null   float64 \n",
                        " 26  Gender                                          5978 non-null   category\n",
                        " 27  Age_Older (>= 45 years)_n                       5978 non-null   float64 \n",
                        " 28  Age_Older (>= 45 years)_% per Sector            5978 non-null   float64 \n",
                        " 29  Age_Older (>= 45 years)_% per Social Category   5978 non-null   float64 \n",
                        " 30  Age_Older (>= 45 years)_% per Workforce         5978 non-null   float64 \n",
                        " 31  Age_Younger (< 45 years)_n                      5978 non-null   float64 \n",
                        " 32  Age_Younger (< 45 years)_% per Sector           5978 non-null   float64 \n",
                        " 33  Age_Younger (< 45 years)_% per Social Category  5978 non-null   float64 \n",
                        " 34  Age_Younger (< 45 years)_% per Workforce        5978 non-null   float64 \n",
                        " 35  Age                                             5978 non-null   category\n",
                        " 36  Sector Count (x 1000)                           5978 non-null   float64 \n",
                        " 37  % Sector per Workforce                          5978 non-null   float64 \n",
                        " 38  Gender_Female                                   5978 non-null   int64   \n",
                        " 39  Gender_Male                                     5978 non-null   int64   \n",
                        " 40  Gender_Mixed                                    5978 non-null   int64   \n",
                        " 41  Age_Mixed                                       5978 non-null   int64   \n",
                        " 42  Age_Older                                       5978 non-null   int64   \n",
                        " 43  Age_Younger                                     5978 non-null   int64   \n",
                        " 44  Gender_Num                                      5978 non-null   int64   \n",
                        " 45  Age_Num                                         5978 non-null   int64   \n",
                        "dtypes: category(2), float64(22), int64(10), object(12)\n",
                        "memory usage: 2.1+ MB\n",
                        "====================\n",
                        "Warmth:\n",
                        "--------------------\n",
                        "Warmth Counts:\n",
                        "0    4501\n",
                        "1    1477\n",
                        "Name: Warmth, dtype: int64\n",
                        "--------------------\n",
                        "Warmth Percentages:\n",
                        "0   75.30\n",
                        "1   24.70\n",
                        "Name: Warmth, dtype: float64\n",
                        "--------------------\n",
                        "Warmth Mean: 0.25\n",
                        "--------------------\n",
                        "Warmth Standard Deviation: 0.43\n",
                        "====================\n",
                        "Competence:\n",
                        "--------------------\n",
                        "Competence Counts:\n",
                        "0    3350\n",
                        "1    2628\n",
                        "Name: Competence, dtype: int64\n",
                        "--------------------\n",
                        "Competence Percentages:\n",
                        "0   56.00\n",
                        "1   44.00\n",
                        "Name: Competence, dtype: float64\n",
                        "--------------------\n",
                        "Competence Mean: 0.44\n",
                        "--------------------\n",
                        "Competence Standard Deviation: 0.5\n",
                        "\n",
                        "\n"
                    ]
                }
            ],
            "source": [
                "# Manual Job Sentence info\n",
                "df_gender_age_info(df_manual, ivs_all=['Warmth', 'Competence'])\n"
            ]
        },
        {
            "cell_type": "code",
            "execution_count": 68,
            "id": "f599e9cd",
            "metadata": {},
            "outputs": [],
            "source": [
                "if df_manual['Sector'].isna().sum() == 0:\n",
                "    assert len(df_manual) > 0 and isinstance(df_manual, pd.DataFrame), f'ERORR: LENGTH OF DF = {len(df_manual)}'\n",
                "    df_manual.to_pickle(f'{df_save_dir}df_manual_including_sector_genage_data.pkl')\n",
                "    df_manual.to_csv(f'{df_save_dir}df_manual_including_sector_genage_data.csv', index=False)\n",
                "else:\n",
                "    print(f\"MISSING SECTOR DATA: COUNT {df_manual['Sector'].isna().sum()}\")"
            ]
        },
        {
            "cell_type": "markdown",
            "id": "6373c116",
            "metadata": {},
            "source": [
                "# ATTN: This script should be run AFTER spacy sentence splitting is completed.\n"
            ]
        },
        {
            "cell_type": "markdown",
            "id": "993064a6",
            "metadata": {},
            "source": [
                "# Use spacy to tokenize sentences\n"
            ]
        },
        {
            "cell_type": "markdown",
            "id": "c744a550",
            "metadata": {},
            "source": [
                "### START HERE IF SOURCING FROM df_manual_SENTENCIZED\n",
                "### PLEASE SET CORRECT DIRECTORY PATHS BELOW\n"
            ]
        },
        {
            "cell_type": "code",
            "execution_count": 69,
            "id": "b997d96c",
            "metadata": {},
            "outputs": [],
            "source": [
                "import os # type:ignore # isort:skip # fmt:skip # noqa # nopep8\n",
                "import sys # type:ignore # isort:skip # fmt:skip # noqa # nopep8\n",
                "from pathlib import Path # type:ignore # isort:skip # fmt:skip # noqa # nopep8\n",
                "\n",
                "mod = sys.modules[__name__]\n",
                "\n",
                "code_dir = None\n",
                "code_dir_name = 'Code'\n",
                "unwanted_subdir_name = 'Analysis'\n",
                "\n",
                "for _ in range(5):\n",
                "\n",
                "    parent_path = str(Path.cwd().parents[_]).split('/')[-1]\n",
                "\n",
                "    if (code_dir_name in parent_path) and (unwanted_subdir_name not in parent_path):\n",
                "\n",
                "        code_dir = str(Path.cwd().parents[_])\n",
                "\n",
                "        if code_dir is not None:\n",
                "            break\n",
                "\n",
                "sys.path.append(code_dir)\n",
                "# %load_ext autoreload\n",
                "# %autoreload 2\n"
            ]
        },
        {
            "cell_type": "code",
            "execution_count": 70,
            "id": "390017aa",
            "metadata": {},
            "outputs": [],
            "source": [
                "from setup_module.imports import * # type:ignore # isort:skip # fmt:skip # noqa # nopep8"
            ]
        },
        {
            "cell_type": "code",
            "execution_count": 71,
            "id": "4c3b98f1",
            "metadata": {},
            "outputs": [],
            "source": [
                "def get_word_num_and_frequency(row, text_col):\n",
                "\n",
                "    row['Job Description num_words'] = len(str(row[f'{text_col}']).split())\n",
                "    row['Job Description num_unique_words'] = len(set(str(row[f'{text_col}']).split()))\n",
                "    row['Job Description num_chars'] = len(str(row[f'{text_col}']))\n",
                "    row['Job Description num_punctuations'] = len([c for c in str(row[f'{text_col}']) if c in string.punctuation])\n",
                "\n",
                "    return row\n"
            ]
        },
        {
            "cell_type": "code",
            "execution_count": 72,
            "id": "3d31a583",
            "metadata": {},
            "outputs": [],
            "source": [
                "df_manual = pd.read_pickle(f'{df_save_dir}df_manual_including_sector_genage_data.pkl').reset_index(drop=True)\n"
            ]
        },
        {
            "cell_type": "code",
            "execution_count": 73,
            "id": "bc21643d",
            "metadata": {},
            "outputs": [
                {
                    "data": {
                        "application/vnd.jupyter.widget-view+json": {
                            "model_id": "2da0304365864147bf53e093062c1365",
                            "version_major": 2,
                            "version_minor": 0
                        },
                        "text/plain": [
                            "progress-bar:   0%|          | 0/5978 [00:00<?, ?it/s]"
                        ]
                    },
                    "metadata": {},
                    "output_type": "display_data"
                }
            ],
            "source": [
                "df_manual['Job Description spacy_sentencized_lower'] = df_manual['Job Description spacy_sentencized'].progress_apply(\n",
                "    lambda job_sentence: job_sentence.strip().lower()\n",
                ")\n"
            ]
        },
        {
            "cell_type": "code",
            "execution_count": 74,
            "id": "1b8dac3e",
            "metadata": {},
            "outputs": [
                {
                    "data": {
                        "text/html": [
                            "<div>\n",
                            "<style scoped>\n",
                            "    .dataframe tbody tr th:only-of-type {\n",
                            "        vertical-align: middle;\n",
                            "    }\n",
                            "\n",
                            "    .dataframe tbody tr th {\n",
                            "        vertical-align: top;\n",
                            "    }\n",
                            "\n",
                            "    .dataframe thead th {\n",
                            "        text-align: right;\n",
                            "    }\n",
                            "</style>\n",
                            "<table border=\"1\" class=\"dataframe\">\n",
                            "  <thead>\n",
                            "    <tr style=\"text-align: center;\">\n",
                            "      <th></th>\n",
                            "      <th>Job Description spacy_sentencized</th>\n",
                            "      <th>Job Description spacy_sentencized_lower</th>\n",
                            "    </tr>\n",
                            "  </thead>\n",
                            "  <tbody>\n",
                            "    <tr>\n",
                            "      <th>0</th>\n",
                            "      <td>Established in 1996 in Amsterdam, Booking.com ...</td>\n",
                            "      <td>established in 1996 in amsterdam, booking.com ...</td>\n",
                            "    </tr>\n",
                            "    <tr>\n",
                            "      <th>1</th>\n",
                            "      <td>Booking.com is the largest business within Boo...</td>\n",
                            "      <td>booking.com is the largest business within boo...</td>\n",
                            "    </tr>\n",
                            "    <tr>\n",
                            "      <th>2</th>\n",
                            "      <td>Booking Holdings is a leading Fortune 500 e-co...</td>\n",
                            "      <td>booking holdings is a leading fortune 500 e-co...</td>\n",
                            "    </tr>\n",
                            "    <tr>\n",
                            "      <th>3</th>\n",
                            "      <td>With a mission to make it easier for everyone ...</td>\n",
                            "      <td>with a mission to make it easier for everyone ...</td>\n",
                            "    </tr>\n",
                            "    <tr>\n",
                            "      <th>4</th>\n",
                            "      <td>Booking.com connects travellers with the world...</td>\n",
                            "      <td>booking.com connects travellers with the world...</td>\n",
                            "    </tr>\n",
                            "  </tbody>\n",
                            "</table>\n",
                            "</div>"
                        ],
                        "text/plain": [
                            "          Job Description spacy_sentencized               Job Description spacy_sentencized_lower      \n",
                            "0  Established in 1996 in Amsterdam, Booking.com ...  established in 1996 in amsterdam, booking.com ...\n",
                            "1  Booking.com is the largest business within Boo...  booking.com is the largest business within boo...\n",
                            "2  Booking Holdings is a leading Fortune 500 e-co...  booking holdings is a leading fortune 500 e-co...\n",
                            "3  With a mission to make it easier for everyone ...  with a mission to make it easier for everyone ...\n",
                            "4  Booking.com connects travellers with the world...  booking.com connects travellers with the world..."
                        ]
                    },
                    "execution_count": 74,
                    "metadata": {},
                    "output_type": "execute_result"
                }
            ],
            "source": [
                "df_manual[['Job Description spacy_sentencized', 'Job Description spacy_sentencized_lower']].head()\n"
            ]
        },
        {
            "cell_type": "code",
            "execution_count": 75,
            "id": "1cf56055",
            "metadata": {},
            "outputs": [
                {
                    "data": {
                        "application/vnd.jupyter.widget-view+json": {
                            "model_id": "6ac1c4cf22fa4a8bb03874836126cd5f",
                            "version_major": 2,
                            "version_minor": 0
                        },
                        "text/plain": [
                            "progress-bar:   0%|          | 0/5978 [00:00<?, ?it/s]"
                        ]
                    },
                    "metadata": {},
                    "output_type": "display_data"
                },
                {
                    "name": "stdout",
                    "output_type": "stream",
                    "text": [
                        "CPU times: user 535 ms, sys: 19.2 ms, total: 554 ms\n",
                        "Wall time: 578 ms\n"
                    ]
                }
            ],
            "source": [
                "%%time\n",
                "# Spacy tokenize\n",
                "with open(f'{data_dir}punctuations.txt', 'rb') as f:\n",
                "    custom_punct_chars = pickle.load(f)\n",
                "\n",
                "df_manual['Job Description spacy_tokenized'] = df_manual[\n",
                "    'Job Description spacy_sentencized'\n",
                "].progress_apply(\n",
                "    lambda job_sentence: [\n",
                "        str(token.text.strip().lower())\n",
                "        for token in nlp.tokenizer(job_sentence)\n",
                "        if len(token) != 0\n",
                "        and not token.is_space\n",
                "        and not token.is_stop\n",
                "        and not token.is_punct\n",
                "        and not token.is_bracket\n",
                "        and not token.like_email\n",
                "        and token.text not in custom_punct_chars\n",
                "    ]\n",
                ")\n",
                "\n",
                "assert len(df_manual) > 0 and isinstance(df_manual, pd.DataFrame), f'ERORR: LENGTH OF DF = {len(df_manual)}'\n",
                "df_manual.to_pickle(f'{df_save_dir}df_manual_tokenized_spacy.pkl')\n",
                "df_manual.to_csv(f'{df_save_dir}df_manual_tokenized_spacy.csv', index=False)\n"
            ]
        },
        {
            "cell_type": "code",
            "execution_count": 76,
            "id": "bd443d94",
            "metadata": {},
            "outputs": [],
            "source": [
                "df_manual['Job Description spacy_sentencized_cleaned'] = df_manual['Job Description spacy_tokenized'].str.join(' ')\n"
            ]
        },
        {
            "cell_type": "code",
            "execution_count": 77,
            "id": "65043f92",
            "metadata": {},
            "outputs": [
                {
                    "data": {
                        "application/vnd.jupyter.widget-view+json": {
                            "model_id": "5f61ac05e926449caea814276fb2ece1",
                            "version_major": 2,
                            "version_minor": 0
                        },
                        "text/plain": [
                            "progress-bar:   0%|          | 0/5978 [00:00<?, ?it/s]"
                        ]
                    },
                    "metadata": {},
                    "output_type": "display_data"
                },
                {
                    "name": "stdout",
                    "output_type": "stream",
                    "text": [
                        "CPU times: user 4.32 s, sys: 63.7 ms, total: 4.38 s\n",
                        "Wall time: 4.41 s\n"
                    ]
                }
            ],
            "source": [
                "%%time\n",
                "# Get sentence word frequencies\n",
                "df_manual = df_manual.progress_apply(\n",
                "    lambda row: get_word_num_and_frequency(\n",
                "        row=row, text_col='Job Description spacy_sentencized'\n",
                "    ), \n",
                "    axis='columns',\n",
                "    \n",
                ")\n"
            ]
        },
        {
            "cell_type": "code",
            "execution_count": 78,
            "id": "f2acfe7f",
            "metadata": {},
            "outputs": [
                {
                    "data": {
                        "text/plain": [
                            "Index(['Job ID', 'Job Description spacy_sentencized', 'Warmth', 'Competence', 'Dutch Requirement', 'English Requirement', 'Search Keyword', 'Platform', 'Job Title', 'Company Name', 'Location', 'Industry', 'Sector Code', 'Sector', 'Keywords Count', '% per Sector', '% per Social Category', '% per Workforce', 'Female Count (x 1000)', 'Gender_Female_% per Sector', 'Gender_Female_% per Social Category', 'Gender_Female_% per Workforce', 'Male Count (x 1000)', 'Gender_Male_% per Sector', 'Gender_Male_% per Social Category', 'Gender_Male_% per Workforce', 'Gender', 'Age_Older (>= 45 years)_n', 'Age_Older (>= 45 years)_% per Sector', 'Age_Older (>= 45 years)_% per Social Category', 'Age_Older (>= 45 years)_% per Workforce', 'Age_Younger (< 45 years)_n', 'Age_Younger (< 45 years)_% per Sector', 'Age_Younger (< 45 years)_% per Social Category', 'Age_Younger (< 45 years)_% per Workforce', 'Age', 'Sector Count (x 1000)', '% Sector per Workforce', 'Gender_Female', 'Gender_Male', 'Gender_Mixed', 'Age_Mixed', 'Age_Older', 'Age_Younger', 'Gender_Num', 'Age_Num', 'Job Description spacy_sentencized_lower', 'Job Description spacy_tokenized', 'Job Description spacy_sentencized_cleaned', 'Job Description num_words', 'Job Description num_unique_words', 'Job Description num_chars', 'Job Description num_punctuations'], dtype='object')"
                        ]
                    },
                    "execution_count": 78,
                    "metadata": {},
                    "output_type": "execute_result"
                }
            ],
            "source": [
                "df_manual.columns\n"
            ]
        },
        {
            "cell_type": "code",
            "execution_count": 79,
            "id": "5deddb9d",
            "metadata": {},
            "outputs": [],
            "source": [
                "assert len(df_manual) > 0 and isinstance(df_manual, pd.DataFrame), f'ERORR: LENGTH OF DF = {len(df_manual)}'\n",
                "df_manual.to_pickle(f'{df_save_dir}df_manual_tokenized_spacy.pkl')\n",
                "df_manual.to_csv(f'{df_save_dir}df_manual_tokenized_spacy.csv', index=False)\n"
            ]
        },
        {
            "cell_type": "markdown",
            "id": "e7f002d2",
            "metadata": {},
            "source": [
                "# Use NLTK to tokenize sentences\n"
            ]
        },
        {
            "cell_type": "markdown",
            "id": "92922872",
            "metadata": {},
            "source": [
                "### START HERE IF SOURCING FROM df_manual_TOKENIZED_SPACY\n",
                "### PLEASE SET CORRECT DIRECTORY PATHS BELOW\n"
            ]
        },
        {
            "cell_type": "code",
            "execution_count": 80,
            "id": "9fae46f4",
            "metadata": {},
            "outputs": [],
            "source": [
                "import os # type:ignore # isort:skip # fmt:skip # noqa # nopep8\n",
                "import sys # type:ignore # isort:skip # fmt:skip # noqa # nopep8\n",
                "from pathlib import Path # type:ignore # isort:skip # fmt:skip # noqa # nopep8\n",
                "\n",
                "mod = sys.modules[__name__]\n",
                "\n",
                "code_dir = None\n",
                "code_dir_name = 'Code'\n",
                "unwanted_subdir_name = 'Analysis'\n",
                "\n",
                "for _ in range(5):\n",
                "\n",
                "    parent_path = str(Path.cwd().parents[_]).split('/')[-1]\n",
                "\n",
                "    if (code_dir_name in parent_path) and (unwanted_subdir_name not in parent_path):\n",
                "\n",
                "        code_dir = str(Path.cwd().parents[_])\n",
                "\n",
                "        if code_dir is not None:\n",
                "            break\n",
                "\n",
                "sys.path.append(code_dir)\n",
                "# %load_ext autoreload\n",
                "# %autoreload 2\n"
            ]
        },
        {
            "cell_type": "code",
            "execution_count": 81,
            "id": "3d4f11d1",
            "metadata": {},
            "outputs": [],
            "source": [
                "from setup_module.imports import * # type:ignore # isort:skip # fmt:skip # noqa # nopep8\n"
            ]
        },
        {
            "cell_type": "code",
            "execution_count": 82,
            "id": "5011ea0a",
            "metadata": {},
            "outputs": [],
            "source": [
                "df_manual = pd.read_pickle(f'{df_save_dir}df_manual_tokenized_spacy.pkl').reset_index(drop=True)\n"
            ]
        },
        {
            "cell_type": "code",
            "execution_count": 83,
            "id": "9c8a9f1e",
            "metadata": {},
            "outputs": [
                {
                    "name": "stdout",
                    "output_type": "stream",
                    "text": [
                        "<class 'pandas.core.frame.DataFrame'>\n",
                        "RangeIndex: 5978 entries, 0 to 5977\n",
                        "Data columns (total 53 columns):\n",
                        " #   Column                                          Non-Null Count  Dtype  \n",
                        "---  ------                                          --------------  -----  \n",
                        " 0   Job ID                                          5978 non-null   object \n",
                        " 1   Job Description spacy_sentencized               5978 non-null   object \n",
                        " 2   Warmth                                          5978 non-null   int64  \n",
                        " 3   Competence                                      5978 non-null   int64  \n",
                        " 4   Dutch Requirement                               5978 non-null   object \n",
                        " 5   English Requirement                             5978 non-null   object \n",
                        " 6   Search Keyword                                  5978 non-null   object \n",
                        " 7   Platform                                        5978 non-null   object \n",
                        " 8   Job Title                                       5978 non-null   object \n",
                        " 9   Company Name                                    5978 non-null   object \n",
                        " 10  Location                                        5978 non-null   object \n",
                        " 11  Industry                                        291 non-null    object \n",
                        " 12  Sector Code                                     5978 non-null   object \n",
                        " 13  Sector                                          5978 non-null   object \n",
                        " 14  Keywords Count                                  5978 non-null   float64\n",
                        " 15  % per Sector                                    5978 non-null   float64\n",
                        " 16  % per Social Category                           5978 non-null   float64\n",
                        " 17  % per Workforce                                 5978 non-null   float64\n",
                        " 18  Female Count (x 1000)                           5978 non-null   float64\n",
                        " 19  Gender_Female_% per Sector                      5978 non-null   float64\n",
                        " 20  Gender_Female_% per Social Category             5978 non-null   float64\n",
                        " 21  Gender_Female_% per Workforce                   5978 non-null   float64\n",
                        " 22  Male Count (x 1000)                             5978 non-null   float64\n",
                        " 23  Gender_Male_% per Sector                        5978 non-null   float64\n",
                        " 24  Gender_Male_% per Social Category               5978 non-null   float64\n",
                        " 25  Gender_Male_% per Workforce                     5978 non-null   float64\n",
                        " 26  Gender                                          5978 non-null   object \n",
                        " 27  Age_Older (>= 45 years)_n                       5978 non-null   float64\n",
                        " 28  Age_Older (>= 45 years)_% per Sector            5978 non-null   float64\n",
                        " 29  Age_Older (>= 45 years)_% per Social Category   5978 non-null   float64\n",
                        " 30  Age_Older (>= 45 years)_% per Workforce         5978 non-null   float64\n",
                        " 31  Age_Younger (< 45 years)_n                      5978 non-null   float64\n",
                        " 32  Age_Younger (< 45 years)_% per Sector           5978 non-null   float64\n",
                        " 33  Age_Younger (< 45 years)_% per Social Category  5978 non-null   float64\n",
                        " 34  Age_Younger (< 45 years)_% per Workforce        5978 non-null   float64\n",
                        " 35  Age                                             5978 non-null   object \n",
                        " 36  Sector Count (x 1000)                           5978 non-null   float64\n",
                        " 37  % Sector per Workforce                          5978 non-null   float64\n",
                        " 38  Gender_Female                                   5978 non-null   int64  \n",
                        " 39  Gender_Male                                     5978 non-null   int64  \n",
                        " 40  Gender_Mixed                                    5978 non-null   int64  \n",
                        " 41  Age_Mixed                                       5978 non-null   int64  \n",
                        " 42  Age_Older                                       5978 non-null   int64  \n",
                        " 43  Age_Younger                                     5978 non-null   int64  \n",
                        " 44  Gender_Num                                      5978 non-null   int64  \n",
                        " 45  Age_Num                                         5978 non-null   int64  \n",
                        " 46  Job Description spacy_sentencized_lower         5978 non-null   object \n",
                        " 47  Job Description spacy_tokenized                 5978 non-null   object \n",
                        " 48  Job Description spacy_sentencized_cleaned       5978 non-null   object \n",
                        " 49  Job Description num_words                       5978 non-null   int64  \n",
                        " 50  Job Description num_unique_words                5978 non-null   int64  \n",
                        " 51  Job Description num_chars                       5978 non-null   int64  \n",
                        " 52  Job Description num_punctuations                5978 non-null   int64  \n",
                        "dtypes: float64(22), int64(14), object(17)\n",
                        "memory usage: 2.4+ MB\n"
                    ]
                }
            ],
            "source": [
                "df_manual.info()\n"
            ]
        },
        {
            "cell_type": "code",
            "execution_count": 84,
            "id": "4475248f",
            "metadata": {},
            "outputs": [
                {
                    "data": {
                        "application/vnd.jupyter.widget-view+json": {
                            "model_id": "2dca923ece074cdbbb5c967831bfe970",
                            "version_major": 2,
                            "version_minor": 0
                        },
                        "text/plain": [
                            "progress-bar:   0%|          | 0/5978 [00:00<?, ?it/s]"
                        ]
                    },
                    "metadata": {},
                    "output_type": "display_data"
                },
                {
                    "name": "stdout",
                    "output_type": "stream",
                    "text": [
                        "CPU times: user 5.28 s, sys: 1.73 s, total: 7.01 s\n",
                        "Wall time: 7.18 s\n"
                    ]
                }
            ],
            "source": [
                "%%time\n",
                "# Tokenize with NLTK\n",
                "# stop_words = set(stopwords.words('english'))\n",
                "# punctuations = list(string.punctuation)\n",
                "# lemmatizer = WordNetLemmatizer()\n",
                "# stemmer = PorterStemmer()\n",
                "\n",
                "df_manual['Job Description nltk_tokenized'] = df_manual['Job Description spacy_sentencized'].progress_apply(\n",
                "    lambda job_sentence: [\n",
                "        str(token.strip().lower()) \n",
                "        for token in word_tokenize(job_sentence) \n",
                "        if len(token) != 0 \n",
                "        and token != '...' \n",
                "        and not token.lower() in set(stopwords.words('english')) \n",
                "        and not token.lower() in list(string.punctuation) \n",
                "    ]\n",
                ")\n",
                "\n",
                "assert len(df_manual) > 0 and isinstance(df_manual, pd.DataFrame), f'ERORR: LENGTH OF DF = {len(df_manual)}'\n",
                "df_manual.to_pickle(f'{df_save_dir}df_manual_tokenized_spacy_nltk.pkl')\n",
                "df_manual.to_csv(f'{df_save_dir}df_manual_tokenized_spacy_nltk.csv', index=False)\n"
            ]
        },
        {
            "cell_type": "code",
            "execution_count": 85,
            "id": "3bbd5d3f",
            "metadata": {},
            "outputs": [
                {
                    "data": {
                        "text/plain": [
                            "0    [established, 1996, amsterdam, booking.com, gr...\n",
                            "1    [booking.com, largest, business, within, booki...\n",
                            "2    [booking, holdings, leading, fortune, 500, e-c...\n",
                            "3    [mission, make, easier, everyone, experience, ...\n",
                            "4    [booking.com, connects, travellers, world, ’, ...\n",
                            "Name: Job Description nltk_tokenized, dtype: object"
                        ]
                    },
                    "execution_count": 85,
                    "metadata": {},
                    "output_type": "execute_result"
                }
            ],
            "source": [
                "df_manual['Job Description nltk_tokenized'].head()\n"
            ]
        },
        {
            "cell_type": "code",
            "execution_count": 86,
            "id": "86da6772",
            "metadata": {},
            "outputs": [
                {
                    "name": "stdout",
                    "output_type": "stream",
                    "text": [
                        "<class 'pandas.core.frame.DataFrame'>\n",
                        "RangeIndex: 5978 entries, 0 to 5977\n",
                        "Data columns (total 54 columns):\n",
                        " #   Column                                          Non-Null Count  Dtype  \n",
                        "---  ------                                          --------------  -----  \n",
                        " 0   Job ID                                          5978 non-null   object \n",
                        " 1   Job Description spacy_sentencized               5978 non-null   object \n",
                        " 2   Warmth                                          5978 non-null   int64  \n",
                        " 3   Competence                                      5978 non-null   int64  \n",
                        " 4   Dutch Requirement                               5978 non-null   object \n",
                        " 5   English Requirement                             5978 non-null   object \n",
                        " 6   Search Keyword                                  5978 non-null   object \n",
                        " 7   Platform                                        5978 non-null   object \n",
                        " 8   Job Title                                       5978 non-null   object \n",
                        " 9   Company Name                                    5978 non-null   object \n",
                        " 10  Location                                        5978 non-null   object \n",
                        " 11  Industry                                        291 non-null    object \n",
                        " 12  Sector Code                                     5978 non-null   object \n",
                        " 13  Sector                                          5978 non-null   object \n",
                        " 14  Keywords Count                                  5978 non-null   float64\n",
                        " 15  % per Sector                                    5978 non-null   float64\n",
                        " 16  % per Social Category                           5978 non-null   float64\n",
                        " 17  % per Workforce                                 5978 non-null   float64\n",
                        " 18  Female Count (x 1000)                           5978 non-null   float64\n",
                        " 19  Gender_Female_% per Sector                      5978 non-null   float64\n",
                        " 20  Gender_Female_% per Social Category             5978 non-null   float64\n",
                        " 21  Gender_Female_% per Workforce                   5978 non-null   float64\n",
                        " 22  Male Count (x 1000)                             5978 non-null   float64\n",
                        " 23  Gender_Male_% per Sector                        5978 non-null   float64\n",
                        " 24  Gender_Male_% per Social Category               5978 non-null   float64\n",
                        " 25  Gender_Male_% per Workforce                     5978 non-null   float64\n",
                        " 26  Gender                                          5978 non-null   object \n",
                        " 27  Age_Older (>= 45 years)_n                       5978 non-null   float64\n",
                        " 28  Age_Older (>= 45 years)_% per Sector            5978 non-null   float64\n",
                        " 29  Age_Older (>= 45 years)_% per Social Category   5978 non-null   float64\n",
                        " 30  Age_Older (>= 45 years)_% per Workforce         5978 non-null   float64\n",
                        " 31  Age_Younger (< 45 years)_n                      5978 non-null   float64\n",
                        " 32  Age_Younger (< 45 years)_% per Sector           5978 non-null   float64\n",
                        " 33  Age_Younger (< 45 years)_% per Social Category  5978 non-null   float64\n",
                        " 34  Age_Younger (< 45 years)_% per Workforce        5978 non-null   float64\n",
                        " 35  Age                                             5978 non-null   object \n",
                        " 36  Sector Count (x 1000)                           5978 non-null   float64\n",
                        " 37  % Sector per Workforce                          5978 non-null   float64\n",
                        " 38  Gender_Female                                   5978 non-null   int64  \n",
                        " 39  Gender_Male                                     5978 non-null   int64  \n",
                        " 40  Gender_Mixed                                    5978 non-null   int64  \n",
                        " 41  Age_Mixed                                       5978 non-null   int64  \n",
                        " 42  Age_Older                                       5978 non-null   int64  \n",
                        " 43  Age_Younger                                     5978 non-null   int64  \n",
                        " 44  Gender_Num                                      5978 non-null   int64  \n",
                        " 45  Age_Num                                         5978 non-null   int64  \n",
                        " 46  Job Description spacy_sentencized_lower         5978 non-null   object \n",
                        " 47  Job Description spacy_tokenized                 5978 non-null   object \n",
                        " 48  Job Description spacy_sentencized_cleaned       5978 non-null   object \n",
                        " 49  Job Description num_words                       5978 non-null   int64  \n",
                        " 50  Job Description num_unique_words                5978 non-null   int64  \n",
                        " 51  Job Description num_chars                       5978 non-null   int64  \n",
                        " 52  Job Description num_punctuations                5978 non-null   int64  \n",
                        " 53  Job Description nltk_tokenized                  5978 non-null   object \n",
                        "dtypes: float64(22), int64(14), object(18)\n",
                        "memory usage: 2.5+ MB\n"
                    ]
                }
            ],
            "source": [
                "df_manual.info()\n"
            ]
        },
        {
            "cell_type": "code",
            "execution_count": 87,
            "id": "69e6640b",
            "metadata": {},
            "outputs": [],
            "source": [
                "assert len(df_manual) > 0 and isinstance(df_manual, pd.DataFrame), f'ERORR: LENGTH OF DF = {len(df_manual)}'\n",
                "df_manual.to_pickle(f'{df_save_dir}df_manual_tokenized_spacy_nltk.pkl')\n",
                "df_manual.to_csv(f'{df_save_dir}df_manual_tokenized_spacy_nltk.csv', index=False)\n"
            ]
        },
        {
            "cell_type": "markdown",
            "id": "81e54149",
            "metadata": {},
            "source": [
                "# Use gensim to tokenize sentences\n"
            ]
        },
        {
            "cell_type": "markdown",
            "id": "ff307dba",
            "metadata": {},
            "source": [
                "### START HERE IF SOURCING FROM df_manual_TOKENIZED_SPACY_NLTK\n",
                "### PLEASE SET CORRECT DIRECTORY PATHS BELOW\n"
            ]
        },
        {
            "cell_type": "code",
            "execution_count": 88,
            "id": "3f89cb65",
            "metadata": {},
            "outputs": [],
            "source": [
                "import os # type:ignore # isort:skip # fmt:skip # noqa # nopep8\n",
                "import sys # type:ignore # isort:skip # fmt:skip # noqa # nopep8\n",
                "from pathlib import Path # type:ignore # isort:skip # fmt:skip # noqa # nopep8\n",
                "\n",
                "mod = sys.modules[__name__]\n",
                "\n",
                "code_dir = None\n",
                "code_dir_name = 'Code'\n",
                "unwanted_subdir_name = 'Analysis'\n",
                "\n",
                "for _ in range(5):\n",
                "\n",
                "    parent_path = str(Path.cwd().parents[_]).split('/')[-1]\n",
                "\n",
                "    if (code_dir_name in parent_path) and (unwanted_subdir_name not in parent_path):\n",
                "\n",
                "        code_dir = str(Path.cwd().parents[_])\n",
                "\n",
                "        if code_dir is not None:\n",
                "            break\n",
                "\n",
                "sys.path.append(code_dir)\n",
                "# %load_ext autoreload\n",
                "# %autoreload 2\n"
            ]
        },
        {
            "cell_type": "code",
            "execution_count": 89,
            "id": "ac2ae121",
            "metadata": {},
            "outputs": [],
            "source": [
                "from setup_module.imports import * # type:ignore # isort:skip # fmt:skip # noqa # nopep8\n"
            ]
        },
        {
            "cell_type": "code",
            "execution_count": 90,
            "id": "c13d88fb",
            "metadata": {},
            "outputs": [],
            "source": [
                "df_manual = pd.read_pickle(f'{df_save_dir}df_manual_tokenized_spacy_nltk.pkl').reset_index(drop=True)\n"
            ]
        },
        {
            "cell_type": "code",
            "execution_count": 91,
            "id": "bc48f290",
            "metadata": {},
            "outputs": [
                {
                    "name": "stdout",
                    "output_type": "stream",
                    "text": [
                        "<class 'pandas.core.frame.DataFrame'>\n",
                        "RangeIndex: 5978 entries, 0 to 5977\n",
                        "Data columns (total 54 columns):\n",
                        " #   Column                                          Non-Null Count  Dtype  \n",
                        "---  ------                                          --------------  -----  \n",
                        " 0   Job ID                                          5978 non-null   object \n",
                        " 1   Job Description spacy_sentencized               5978 non-null   object \n",
                        " 2   Warmth                                          5978 non-null   int64  \n",
                        " 3   Competence                                      5978 non-null   int64  \n",
                        " 4   Dutch Requirement                               5978 non-null   object \n",
                        " 5   English Requirement                             5978 non-null   object \n",
                        " 6   Search Keyword                                  5978 non-null   object \n",
                        " 7   Platform                                        5978 non-null   object \n",
                        " 8   Job Title                                       5978 non-null   object \n",
                        " 9   Company Name                                    5978 non-null   object \n",
                        " 10  Location                                        5978 non-null   object \n",
                        " 11  Industry                                        291 non-null    object \n",
                        " 12  Sector Code                                     5978 non-null   object \n",
                        " 13  Sector                                          5978 non-null   object \n",
                        " 14  Keywords Count                                  5978 non-null   float64\n",
                        " 15  % per Sector                                    5978 non-null   float64\n",
                        " 16  % per Social Category                           5978 non-null   float64\n",
                        " 17  % per Workforce                                 5978 non-null   float64\n",
                        " 18  Female Count (x 1000)                           5978 non-null   float64\n",
                        " 19  Gender_Female_% per Sector                      5978 non-null   float64\n",
                        " 20  Gender_Female_% per Social Category             5978 non-null   float64\n",
                        " 21  Gender_Female_% per Workforce                   5978 non-null   float64\n",
                        " 22  Male Count (x 1000)                             5978 non-null   float64\n",
                        " 23  Gender_Male_% per Sector                        5978 non-null   float64\n",
                        " 24  Gender_Male_% per Social Category               5978 non-null   float64\n",
                        " 25  Gender_Male_% per Workforce                     5978 non-null   float64\n",
                        " 26  Gender                                          5978 non-null   object \n",
                        " 27  Age_Older (>= 45 years)_n                       5978 non-null   float64\n",
                        " 28  Age_Older (>= 45 years)_% per Sector            5978 non-null   float64\n",
                        " 29  Age_Older (>= 45 years)_% per Social Category   5978 non-null   float64\n",
                        " 30  Age_Older (>= 45 years)_% per Workforce         5978 non-null   float64\n",
                        " 31  Age_Younger (< 45 years)_n                      5978 non-null   float64\n",
                        " 32  Age_Younger (< 45 years)_% per Sector           5978 non-null   float64\n",
                        " 33  Age_Younger (< 45 years)_% per Social Category  5978 non-null   float64\n",
                        " 34  Age_Younger (< 45 years)_% per Workforce        5978 non-null   float64\n",
                        " 35  Age                                             5978 non-null   object \n",
                        " 36  Sector Count (x 1000)                           5978 non-null   float64\n",
                        " 37  % Sector per Workforce                          5978 non-null   float64\n",
                        " 38  Gender_Female                                   5978 non-null   int64  \n",
                        " 39  Gender_Male                                     5978 non-null   int64  \n",
                        " 40  Gender_Mixed                                    5978 non-null   int64  \n",
                        " 41  Age_Mixed                                       5978 non-null   int64  \n",
                        " 42  Age_Older                                       5978 non-null   int64  \n",
                        " 43  Age_Younger                                     5978 non-null   int64  \n",
                        " 44  Gender_Num                                      5978 non-null   int64  \n",
                        " 45  Age_Num                                         5978 non-null   int64  \n",
                        " 46  Job Description spacy_sentencized_lower         5978 non-null   object \n",
                        " 47  Job Description spacy_tokenized                 5978 non-null   object \n",
                        " 48  Job Description spacy_sentencized_cleaned       5978 non-null   object \n",
                        " 49  Job Description num_words                       5978 non-null   int64  \n",
                        " 50  Job Description num_unique_words                5978 non-null   int64  \n",
                        " 51  Job Description num_chars                       5978 non-null   int64  \n",
                        " 52  Job Description num_punctuations                5978 non-null   int64  \n",
                        " 53  Job Description nltk_tokenized                  5978 non-null   object \n",
                        "dtypes: float64(22), int64(14), object(18)\n",
                        "memory usage: 2.5+ MB\n"
                    ]
                }
            ],
            "source": [
                "df_manual.info()\n"
            ]
        },
        {
            "cell_type": "code",
            "execution_count": 92,
            "id": "e95fec77",
            "metadata": {},
            "outputs": [
                {
                    "data": {
                        "application/vnd.jupyter.widget-view+json": {
                            "model_id": "19b0da9c21c44d97a0ca53db767837d1",
                            "version_major": 2,
                            "version_minor": 0
                        },
                        "text/plain": [
                            "progress-bar:   0%|          | 0/5978 [00:00<?, ?it/s]"
                        ]
                    },
                    "metadata": {},
                    "output_type": "display_data"
                },
                {
                    "name": "stdout",
                    "output_type": "stream",
                    "text": [
                        "CPU times: user 562 ms, sys: 17.1 ms, total: 579 ms\n",
                        "Wall time: 633 ms\n"
                    ]
                }
            ],
            "source": [
                "%%time\n",
                "df_manual['Job Description gensim_tokenized'] = df_manual['Job Description spacy_sentencized'].progress_apply(\n",
                "    lambda sentence: preprocess_string(re.sub(pattern, ' ', sentence.strip().lower()))\n",
                ")\n",
                "\n",
                "assert len(df_manual) > 0 and isinstance(df_manual, pd.DataFrame), f'ERORR: LENGTH OF DF = {len(df_manual)}'\n",
                "df_manual.to_pickle(f'{df_save_dir}df_manual_tokenized_spacy_nltk_gensim.pkl')\n",
                "df_manual.to_csv(f'{df_save_dir}df_manual_tokenized_spacy_nltk_gensim.csv', index=False)\n"
            ]
        },
        {
            "cell_type": "code",
            "execution_count": 93,
            "id": "1cc29198",
            "metadata": {},
            "outputs": [
                {
                    "data": {
                        "text/plain": [
                            "0    [establish, amsterdam, book, com, grown, small...\n",
                            "1    [book, com, largest, busi, book, hold, nasdaq,...\n",
                            "2    [book, hold, lead, fortun, commerc, conglomer,...\n",
                            "3    [mission, easier, experi, world, book, com, in...\n",
                            "4    [book, com, connect, travel, world’, largest, ...\n",
                            "Name: Job Description gensim_tokenized, dtype: object"
                        ]
                    },
                    "execution_count": 93,
                    "metadata": {},
                    "output_type": "execute_result"
                }
            ],
            "source": [
                "df_manual['Job Description gensim_tokenized'].head()\n"
            ]
        },
        {
            "cell_type": "code",
            "execution_count": 94,
            "id": "0a69a8de",
            "metadata": {},
            "outputs": [
                {
                    "name": "stdout",
                    "output_type": "stream",
                    "text": [
                        "<class 'pandas.core.frame.DataFrame'>\n",
                        "RangeIndex: 5978 entries, 0 to 5977\n",
                        "Data columns (total 55 columns):\n",
                        " #   Column                                          Non-Null Count  Dtype  \n",
                        "---  ------                                          --------------  -----  \n",
                        " 0   Job ID                                          5978 non-null   object \n",
                        " 1   Job Description spacy_sentencized               5978 non-null   object \n",
                        " 2   Warmth                                          5978 non-null   int64  \n",
                        " 3   Competence                                      5978 non-null   int64  \n",
                        " 4   Dutch Requirement                               5978 non-null   object \n",
                        " 5   English Requirement                             5978 non-null   object \n",
                        " 6   Search Keyword                                  5978 non-null   object \n",
                        " 7   Platform                                        5978 non-null   object \n",
                        " 8   Job Title                                       5978 non-null   object \n",
                        " 9   Company Name                                    5978 non-null   object \n",
                        " 10  Location                                        5978 non-null   object \n",
                        " 11  Industry                                        291 non-null    object \n",
                        " 12  Sector Code                                     5978 non-null   object \n",
                        " 13  Sector                                          5978 non-null   object \n",
                        " 14  Keywords Count                                  5978 non-null   float64\n",
                        " 15  % per Sector                                    5978 non-null   float64\n",
                        " 16  % per Social Category                           5978 non-null   float64\n",
                        " 17  % per Workforce                                 5978 non-null   float64\n",
                        " 18  Female Count (x 1000)                           5978 non-null   float64\n",
                        " 19  Gender_Female_% per Sector                      5978 non-null   float64\n",
                        " 20  Gender_Female_% per Social Category             5978 non-null   float64\n",
                        " 21  Gender_Female_% per Workforce                   5978 non-null   float64\n",
                        " 22  Male Count (x 1000)                             5978 non-null   float64\n",
                        " 23  Gender_Male_% per Sector                        5978 non-null   float64\n",
                        " 24  Gender_Male_% per Social Category               5978 non-null   float64\n",
                        " 25  Gender_Male_% per Workforce                     5978 non-null   float64\n",
                        " 26  Gender                                          5978 non-null   object \n",
                        " 27  Age_Older (>= 45 years)_n                       5978 non-null   float64\n",
                        " 28  Age_Older (>= 45 years)_% per Sector            5978 non-null   float64\n",
                        " 29  Age_Older (>= 45 years)_% per Social Category   5978 non-null   float64\n",
                        " 30  Age_Older (>= 45 years)_% per Workforce         5978 non-null   float64\n",
                        " 31  Age_Younger (< 45 years)_n                      5978 non-null   float64\n",
                        " 32  Age_Younger (< 45 years)_% per Sector           5978 non-null   float64\n",
                        " 33  Age_Younger (< 45 years)_% per Social Category  5978 non-null   float64\n",
                        " 34  Age_Younger (< 45 years)_% per Workforce        5978 non-null   float64\n",
                        " 35  Age                                             5978 non-null   object \n",
                        " 36  Sector Count (x 1000)                           5978 non-null   float64\n",
                        " 37  % Sector per Workforce                          5978 non-null   float64\n",
                        " 38  Gender_Female                                   5978 non-null   int64  \n",
                        " 39  Gender_Male                                     5978 non-null   int64  \n",
                        " 40  Gender_Mixed                                    5978 non-null   int64  \n",
                        " 41  Age_Mixed                                       5978 non-null   int64  \n",
                        " 42  Age_Older                                       5978 non-null   int64  \n",
                        " 43  Age_Younger                                     5978 non-null   int64  \n",
                        " 44  Gender_Num                                      5978 non-null   int64  \n",
                        " 45  Age_Num                                         5978 non-null   int64  \n",
                        " 46  Job Description spacy_sentencized_lower         5978 non-null   object \n",
                        " 47  Job Description spacy_tokenized                 5978 non-null   object \n",
                        " 48  Job Description spacy_sentencized_cleaned       5978 non-null   object \n",
                        " 49  Job Description num_words                       5978 non-null   int64  \n",
                        " 50  Job Description num_unique_words                5978 non-null   int64  \n",
                        " 51  Job Description num_chars                       5978 non-null   int64  \n",
                        " 52  Job Description num_punctuations                5978 non-null   int64  \n",
                        " 53  Job Description nltk_tokenized                  5978 non-null   object \n",
                        " 54  Job Description gensim_tokenized                5978 non-null   object \n",
                        "dtypes: float64(22), int64(14), object(19)\n",
                        "memory usage: 2.5+ MB\n"
                    ]
                }
            ],
            "source": [
                "df_manual.info()\n"
            ]
        },
        {
            "cell_type": "code",
            "execution_count": 95,
            "id": "a62be70e",
            "metadata": {},
            "outputs": [],
            "source": [
                "assert len(df_manual) > 0 and isinstance(df_manual, pd.DataFrame), f'ERORR: LENGTH OF DF = {len(df_manual)}'\n",
                "df_manual.to_pickle(f'{df_save_dir}df_manual_tokenized_spacy_nltk_gensim.pkl')\n",
                "df_manual.to_csv(f'{df_save_dir}df_manual_tokenized_spacy_nltk_gensim.csv', index=False)\n"
            ]
        },
        {
            "cell_type": "markdown",
            "id": "eeb0131f",
            "metadata": {},
            "source": [
                "# Use BERT to tokenize sentences\n"
            ]
        },
        {
            "cell_type": "markdown",
            "id": "efcf30fc",
            "metadata": {},
            "source": [
                "### START HERE IF SOURCING FROM df_manual_TOKENIZED_SPACY_NLTK_GENSIM\n",
                "### PLEASE SET CORRECT DIRECTORY PATHS BELOW\n"
            ]
        },
        {
            "cell_type": "code",
            "execution_count": 96,
            "id": "c81e981f",
            "metadata": {},
            "outputs": [],
            "source": [
                "import os # type:ignore # isort:skip # fmt:skip # noqa # nopep8\n",
                "import sys # type:ignore # isort:skip # fmt:skip # noqa # nopep8\n",
                "from pathlib import Path # type:ignore # isort:skip # fmt:skip # noqa # nopep8\n",
                "\n",
                "mod = sys.modules[__name__]\n",
                "\n",
                "code_dir = None\n",
                "code_dir_name = 'Code'\n",
                "unwanted_subdir_name = 'Analysis'\n",
                "\n",
                "for _ in range(5):\n",
                "\n",
                "    parent_path = str(Path.cwd().parents[_]).split('/')[-1]\n",
                "\n",
                "    if (code_dir_name in parent_path) and (unwanted_subdir_name not in parent_path):\n",
                "\n",
                "        code_dir = str(Path.cwd().parents[_])\n",
                "\n",
                "        if code_dir is not None:\n",
                "            break\n",
                "\n",
                "sys.path.append(code_dir)\n",
                "# %load_ext autoreload\n",
                "# %autoreload 2\n"
            ]
        },
        {
            "cell_type": "code",
            "execution_count": 97,
            "id": "6f6ae091",
            "metadata": {},
            "outputs": [],
            "source": [
                "from setup_module.imports import * # type:ignore # isort:skip # fmt:skip # noqa # nopep8\n"
            ]
        },
        {
            "cell_type": "code",
            "execution_count": 98,
            "id": "ec899945",
            "metadata": {},
            "outputs": [],
            "source": [
                "df_manual = pd.read_pickle(f'{df_save_dir}df_manual_tokenized_spacy_nltk_gensim.pkl').reset_index(drop=True)\n"
            ]
        },
        {
            "cell_type": "code",
            "execution_count": 99,
            "id": "d42a3b60",
            "metadata": {},
            "outputs": [
                {
                    "name": "stdout",
                    "output_type": "stream",
                    "text": [
                        "<class 'pandas.core.frame.DataFrame'>\n",
                        "RangeIndex: 5978 entries, 0 to 5977\n",
                        "Data columns (total 55 columns):\n",
                        " #   Column                                          Non-Null Count  Dtype  \n",
                        "---  ------                                          --------------  -----  \n",
                        " 0   Job ID                                          5978 non-null   object \n",
                        " 1   Job Description spacy_sentencized               5978 non-null   object \n",
                        " 2   Warmth                                          5978 non-null   int64  \n",
                        " 3   Competence                                      5978 non-null   int64  \n",
                        " 4   Dutch Requirement                               5978 non-null   object \n",
                        " 5   English Requirement                             5978 non-null   object \n",
                        " 6   Search Keyword                                  5978 non-null   object \n",
                        " 7   Platform                                        5978 non-null   object \n",
                        " 8   Job Title                                       5978 non-null   object \n",
                        " 9   Company Name                                    5978 non-null   object \n",
                        " 10  Location                                        5978 non-null   object \n",
                        " 11  Industry                                        291 non-null    object \n",
                        " 12  Sector Code                                     5978 non-null   object \n",
                        " 13  Sector                                          5978 non-null   object \n",
                        " 14  Keywords Count                                  5978 non-null   float64\n",
                        " 15  % per Sector                                    5978 non-null   float64\n",
                        " 16  % per Social Category                           5978 non-null   float64\n",
                        " 17  % per Workforce                                 5978 non-null   float64\n",
                        " 18  Female Count (x 1000)                           5978 non-null   float64\n",
                        " 19  Gender_Female_% per Sector                      5978 non-null   float64\n",
                        " 20  Gender_Female_% per Social Category             5978 non-null   float64\n",
                        " 21  Gender_Female_% per Workforce                   5978 non-null   float64\n",
                        " 22  Male Count (x 1000)                             5978 non-null   float64\n",
                        " 23  Gender_Male_% per Sector                        5978 non-null   float64\n",
                        " 24  Gender_Male_% per Social Category               5978 non-null   float64\n",
                        " 25  Gender_Male_% per Workforce                     5978 non-null   float64\n",
                        " 26  Gender                                          5978 non-null   object \n",
                        " 27  Age_Older (>= 45 years)_n                       5978 non-null   float64\n",
                        " 28  Age_Older (>= 45 years)_% per Sector            5978 non-null   float64\n",
                        " 29  Age_Older (>= 45 years)_% per Social Category   5978 non-null   float64\n",
                        " 30  Age_Older (>= 45 years)_% per Workforce         5978 non-null   float64\n",
                        " 31  Age_Younger (< 45 years)_n                      5978 non-null   float64\n",
                        " 32  Age_Younger (< 45 years)_% per Sector           5978 non-null   float64\n",
                        " 33  Age_Younger (< 45 years)_% per Social Category  5978 non-null   float64\n",
                        " 34  Age_Younger (< 45 years)_% per Workforce        5978 non-null   float64\n",
                        " 35  Age                                             5978 non-null   object \n",
                        " 36  Sector Count (x 1000)                           5978 non-null   float64\n",
                        " 37  % Sector per Workforce                          5978 non-null   float64\n",
                        " 38  Gender_Female                                   5978 non-null   int64  \n",
                        " 39  Gender_Male                                     5978 non-null   int64  \n",
                        " 40  Gender_Mixed                                    5978 non-null   int64  \n",
                        " 41  Age_Mixed                                       5978 non-null   int64  \n",
                        " 42  Age_Older                                       5978 non-null   int64  \n",
                        " 43  Age_Younger                                     5978 non-null   int64  \n",
                        " 44  Gender_Num                                      5978 non-null   int64  \n",
                        " 45  Age_Num                                         5978 non-null   int64  \n",
                        " 46  Job Description spacy_sentencized_lower         5978 non-null   object \n",
                        " 47  Job Description spacy_tokenized                 5978 non-null   object \n",
                        " 48  Job Description spacy_sentencized_cleaned       5978 non-null   object \n",
                        " 49  Job Description num_words                       5978 non-null   int64  \n",
                        " 50  Job Description num_unique_words                5978 non-null   int64  \n",
                        " 51  Job Description num_chars                       5978 non-null   int64  \n",
                        " 52  Job Description num_punctuations                5978 non-null   int64  \n",
                        " 53  Job Description nltk_tokenized                  5978 non-null   object \n",
                        " 54  Job Description gensim_tokenized                5978 non-null   object \n",
                        "dtypes: float64(22), int64(14), object(19)\n",
                        "memory usage: 2.5+ MB\n"
                    ]
                }
            ],
            "source": [
                "df_manual.info()\n"
            ]
        },
        {
            "cell_type": "code",
            "execution_count": 100,
            "id": "f8bc6622",
            "metadata": {},
            "outputs": [
                {
                    "name": "stdout",
                    "output_type": "stream",
                    "text": [
                        "Using MPS\n"
                    ]
                },
                {
                    "name": "stderr",
                    "output_type": "stream",
                    "text": [
                        "Some weights of the model checkpoint at bert-base-uncased were not used when initializing BertForSequenceClassification: ['cls.seq_relationship.bias', 'cls.predictions.transform.LayerNorm.bias', 'cls.seq_relationship.weight', 'cls.predictions.transform.dense.weight', 'cls.predictions.transform.LayerNorm.weight', 'cls.predictions.transform.dense.bias', 'cls.predictions.decoder.weight', 'cls.predictions.bias']\n",
                        "- This IS expected if you are initializing BertForSequenceClassification from the checkpoint of a model trained on another task or with another architecture (e.g. initializing a BertForSequenceClassification model from a BertForPreTraining model).\n",
                        "- This IS NOT expected if you are initializing BertForSequenceClassification from the checkpoint of a model that you expect to be exactly identical (initializing a BertForSequenceClassification model from a BertForSequenceClassification model).\n",
                        "Some weights of BertForSequenceClassification were not initialized from the model checkpoint at bert-base-uncased and are newly initialized: ['classifier.bias', 'classifier.weight']\n",
                        "You should probably TRAIN this model on a down-stream task to be able to use it for predictions and inference.\n"
                    ]
                },
                {
                    "data": {
                        "application/vnd.jupyter.widget-view+json": {
                            "model_id": "97f7e39ad9594a4c993f4950f1242c9b",
                            "version_major": 2,
                            "version_minor": 0
                        },
                        "text/plain": [
                            "progress-bar:   0%|          | 0/5978 [00:00<?, ?it/s]"
                        ]
                    },
                    "metadata": {},
                    "output_type": "display_data"
                },
                {
                    "data": {
                        "application/vnd.jupyter.widget-view+json": {
                            "model_id": "0e33cad82fc742deae5d890563ae72cd",
                            "version_major": 2,
                            "version_minor": 0
                        },
                        "text/plain": [
                            "progress-bar:   0%|          | 0/5978 [00:00<?, ?it/s]"
                        ]
                    },
                    "metadata": {},
                    "output_type": "display_data"
                },
                {
                    "data": {
                        "application/vnd.jupyter.widget-view+json": {
                            "model_id": "a982cff76bfd437caab859b9deb672be",
                            "version_major": 2,
                            "version_minor": 0
                        },
                        "text/plain": [
                            "progress-bar:   0%|          | 0/5978 [00:00<?, ?it/s]"
                        ]
                    },
                    "metadata": {},
                    "output_type": "display_data"
                },
                {
                    "name": "stdout",
                    "output_type": "stream",
                    "text": [
                        "CPU times: user 3.68 s, sys: 692 ms, total: 4.37 s\n",
                        "Wall time: 6.16 s\n"
                    ]
                }
            ],
            "source": [
                "%%time\n",
                "max_length = 512\n",
                "returned_tensor = 'pt'\n",
                "cpu_counts = torch.multiprocessing.cpu_count()\n",
                "device = torch.device('mps') if torch.has_mps and torch.backends.mps.is_built() and torch.backends.mps.is_available() else torch.device('cuda') if torch.cuda.is_available() else torch.device('cpu')\n",
                "device_name = str(device.type)\n",
                "print(f'Using {device_name.upper()}')\n",
                "bert_model_name = 'bert-base-uncased'\n",
                "bert_tokenizer = BertTokenizerFast.from_pretrained(bert_model_name, strip_accents = True)\n",
                "bert_model = BertForSequenceClassification.from_pretrained(bert_model_name).to(device)\n",
                "\n",
                "df_manual['Job Description bert_encodings'] = df_manual['Job Description spacy_sentencized'].progress_apply(\n",
                "    lambda sentence: bert_tokenizer(\n",
                "        str(sentence), truncation=True, padding=True, max_length=max_length, return_tensors=returned_tensor\n",
                "    )\n",
                ")\n",
                "\n",
                "df_manual['Job Description bert_tokenized'] = df_manual['Job Description spacy_sentencized'].progress_apply(\n",
                "    lambda sentence: bert_tokenizer.tokenize(str(sentence))\n",
                ")\n",
                "\n",
                "df_manual['Job Description bert_tokenized_to_id'] = df_manual['Job Description bert_tokenized'].progress_apply(\n",
                "    lambda sentence: bert_tokenizer.convert_tokens_to_ids(str(sentence))\n",
                ")\n",
                "\n",
                "assert len(df_manual) > 0 and isinstance(df_manual, pd.DataFrame), f'ERORR: LENGTH OF DF = {len(df_manual)}'\n",
                "df_manual.to_pickle(f'{df_save_dir}df_manual_tokenized_spacy_nltk_gensim_bert.pkl')\n",
                "df_manual.to_csv(f'{df_save_dir}df_manual_tokenized_spacy_nltk_gensim_bert.csv', index=False)\n"
            ]
        },
        {
            "cell_type": "code",
            "execution_count": 101,
            "id": "1d996bc4",
            "metadata": {},
            "outputs": [
                {
                    "data": {
                        "text/plain": [
                            "0    [input_ids, token_type_ids, attention_mask]\n",
                            "1    [input_ids, token_type_ids, attention_mask]\n",
                            "2    [input_ids, token_type_ids, attention_mask]\n",
                            "3    [input_ids, token_type_ids, attention_mask]\n",
                            "4    [input_ids, token_type_ids, attention_mask]\n",
                            "Name: Job Description bert_encodings, dtype: object"
                        ]
                    },
                    "execution_count": 101,
                    "metadata": {},
                    "output_type": "execute_result"
                }
            ],
            "source": [
                "df_manual['Job Description bert_encodings'].head()\n"
            ]
        },
        {
            "cell_type": "code",
            "execution_count": 102,
            "id": "9ae92181",
            "metadata": {},
            "outputs": [
                {
                    "data": {
                        "text/plain": [
                            "0    [established, in, 1996, in, amsterdam, ,, book...\n",
                            "1    [booking, ., com, is, the, largest, business, ...\n",
                            "2    [booking, holdings, is, a, leading, fortune, 5...\n",
                            "3    [with, a, mission, to, make, it, easier, for, ...\n",
                            "4    [booking, ., com, connects, travellers, with, ...\n",
                            "Name: Job Description bert_tokenized, dtype: object"
                        ]
                    },
                    "execution_count": 102,
                    "metadata": {},
                    "output_type": "execute_result"
                }
            ],
            "source": [
                "df_manual['Job Description bert_tokenized'].head()\n"
            ]
        },
        {
            "cell_type": "code",
            "execution_count": 103,
            "id": "5f7a4ae3",
            "metadata": {},
            "outputs": [
                {
                    "data": {
                        "text/plain": [
                            "0    100\n",
                            "1    100\n",
                            "2    100\n",
                            "3    100\n",
                            "4    100\n",
                            "Name: Job Description bert_tokenized_to_id, dtype: int64"
                        ]
                    },
                    "execution_count": 103,
                    "metadata": {},
                    "output_type": "execute_result"
                }
            ],
            "source": [
                "df_manual['Job Description bert_tokenized_to_id'].head()"
            ]
        },
        {
            "cell_type": "code",
            "execution_count": 104,
            "id": "8936c818",
            "metadata": {},
            "outputs": [],
            "source": [
                "assert len(df_manual) > 0 and isinstance(df_manual, pd.DataFrame), f'ERORR: LENGTH OF DF = {len(df_manual)}'\n",
                "df_manual.to_pickle(f'{df_save_dir}df_manual_tokenized_spacy_nltk_gensim_bert.pkl')\n",
                "df_manual.to_csv(f'{df_save_dir}df_manual_tokenized_spacy_nltk_gensim_bert.csv', index=False)\n"
            ]
        },
        {
            "cell_type": "markdown",
            "id": "6c0bfad5",
            "metadata": {},
            "source": [
                "# ATTN: This script should be run AFTER all tokenization (spacy, nltk, gensim, and BERT) completed.\n"
            ]
        },
        {
            "cell_type": "markdown",
            "id": "e4a62460",
            "metadata": {},
            "source": [
                "# Use spacy to create Parts-Of-Speech (POS) tags, lemmas, and stems\n"
            ]
        },
        {
            "cell_type": "markdown",
            "id": "374d2178",
            "metadata": {},
            "source": [
                "### START HERE IF SOURCING FROM df_manual_TOKENIZED_SPACY_NLTK_GENSIM_BERT\n",
                "### PLEASE SET CORRECT DIRECTORY PATHS BELOW\n"
            ]
        },
        {
            "cell_type": "code",
            "execution_count": 105,
            "id": "c74f96a0",
            "metadata": {},
            "outputs": [],
            "source": [
                "import os # type:ignore # isort:skip # fmt:skip # noqa # nopep8\n",
                "import sys # type:ignore # isort:skip # fmt:skip # noqa # nopep8\n",
                "from pathlib import Path # type:ignore # isort:skip # fmt:skip # noqa # nopep8\n",
                "\n",
                "mod = sys.modules[__name__]\n",
                "\n",
                "code_dir = None\n",
                "code_dir_name = 'Code'\n",
                "unwanted_subdir_name = 'Analysis'\n",
                "\n",
                "for _ in range(5):\n",
                "\n",
                "    parent_path = str(Path.cwd().parents[_]).split('/')[-1]\n",
                "\n",
                "    if (code_dir_name in parent_path) and (unwanted_subdir_name not in parent_path):\n",
                "\n",
                "        code_dir = str(Path.cwd().parents[_])\n",
                "\n",
                "        if code_dir is not None:\n",
                "            break\n",
                "\n",
                "sys.path.append(code_dir)\n",
                "# %load_ext autoreload\n",
                "# %autoreload 2\n"
            ]
        },
        {
            "cell_type": "code",
            "execution_count": 106,
            "id": "0053cd25",
            "metadata": {},
            "outputs": [],
            "source": [
                "from setup_module.imports import * # type:ignore # isort:skip # fmt:skip # noqa # nopep8\n"
            ]
        },
        {
            "cell_type": "code",
            "execution_count": 107,
            "id": "10424739",
            "metadata": {},
            "outputs": [],
            "source": [
                "df_manual = pd.read_pickle(f'{df_save_dir}df_manual_tokenized_spacy_nltk_gensim_bert.pkl').reset_index(drop=True)\n"
            ]
        },
        {
            "cell_type": "code",
            "execution_count": 108,
            "id": "08c5b9fb",
            "metadata": {},
            "outputs": [
                {
                    "name": "stdout",
                    "output_type": "stream",
                    "text": [
                        "<class 'pandas.core.frame.DataFrame'>\n",
                        "RangeIndex: 5978 entries, 0 to 5977\n",
                        "Data columns (total 58 columns):\n",
                        " #   Column                                          Non-Null Count  Dtype  \n",
                        "---  ------                                          --------------  -----  \n",
                        " 0   Job ID                                          5978 non-null   object \n",
                        " 1   Job Description spacy_sentencized               5978 non-null   object \n",
                        " 2   Warmth                                          5978 non-null   int64  \n",
                        " 3   Competence                                      5978 non-null   int64  \n",
                        " 4   Dutch Requirement                               5978 non-null   object \n",
                        " 5   English Requirement                             5978 non-null   object \n",
                        " 6   Search Keyword                                  5978 non-null   object \n",
                        " 7   Platform                                        5978 non-null   object \n",
                        " 8   Job Title                                       5978 non-null   object \n",
                        " 9   Company Name                                    5978 non-null   object \n",
                        " 10  Location                                        5978 non-null   object \n",
                        " 11  Industry                                        291 non-null    object \n",
                        " 12  Sector Code                                     5978 non-null   object \n",
                        " 13  Sector                                          5978 non-null   object \n",
                        " 14  Keywords Count                                  5978 non-null   float64\n",
                        " 15  % per Sector                                    5978 non-null   float64\n",
                        " 16  % per Social Category                           5978 non-null   float64\n",
                        " 17  % per Workforce                                 5978 non-null   float64\n",
                        " 18  Female Count (x 1000)                           5978 non-null   float64\n",
                        " 19  Gender_Female_% per Sector                      5978 non-null   float64\n",
                        " 20  Gender_Female_% per Social Category             5978 non-null   float64\n",
                        " 21  Gender_Female_% per Workforce                   5978 non-null   float64\n",
                        " 22  Male Count (x 1000)                             5978 non-null   float64\n",
                        " 23  Gender_Male_% per Sector                        5978 non-null   float64\n",
                        " 24  Gender_Male_% per Social Category               5978 non-null   float64\n",
                        " 25  Gender_Male_% per Workforce                     5978 non-null   float64\n",
                        " 26  Gender                                          5978 non-null   object \n",
                        " 27  Age_Older (>= 45 years)_n                       5978 non-null   float64\n",
                        " 28  Age_Older (>= 45 years)_% per Sector            5978 non-null   float64\n",
                        " 29  Age_Older (>= 45 years)_% per Social Category   5978 non-null   float64\n",
                        " 30  Age_Older (>= 45 years)_% per Workforce         5978 non-null   float64\n",
                        " 31  Age_Younger (< 45 years)_n                      5978 non-null   float64\n",
                        " 32  Age_Younger (< 45 years)_% per Sector           5978 non-null   float64\n",
                        " 33  Age_Younger (< 45 years)_% per Social Category  5978 non-null   float64\n",
                        " 34  Age_Younger (< 45 years)_% per Workforce        5978 non-null   float64\n",
                        " 35  Age                                             5978 non-null   object \n",
                        " 36  Sector Count (x 1000)                           5978 non-null   float64\n",
                        " 37  % Sector per Workforce                          5978 non-null   float64\n",
                        " 38  Gender_Female                                   5978 non-null   int64  \n",
                        " 39  Gender_Male                                     5978 non-null   int64  \n",
                        " 40  Gender_Mixed                                    5978 non-null   int64  \n",
                        " 41  Age_Mixed                                       5978 non-null   int64  \n",
                        " 42  Age_Older                                       5978 non-null   int64  \n",
                        " 43  Age_Younger                                     5978 non-null   int64  \n",
                        " 44  Gender_Num                                      5978 non-null   int64  \n",
                        " 45  Age_Num                                         5978 non-null   int64  \n",
                        " 46  Job Description spacy_sentencized_lower         5978 non-null   object \n",
                        " 47  Job Description spacy_tokenized                 5978 non-null   object \n",
                        " 48  Job Description spacy_sentencized_cleaned       5978 non-null   object \n",
                        " 49  Job Description num_words                       5978 non-null   int64  \n",
                        " 50  Job Description num_unique_words                5978 non-null   int64  \n",
                        " 51  Job Description num_chars                       5978 non-null   int64  \n",
                        " 52  Job Description num_punctuations                5978 non-null   int64  \n",
                        " 53  Job Description nltk_tokenized                  5978 non-null   object \n",
                        " 54  Job Description gensim_tokenized                5978 non-null   object \n",
                        " 55  Job Description bert_encodings                  5978 non-null   object \n",
                        " 56  Job Description bert_tokenized                  5978 non-null   object \n",
                        " 57  Job Description bert_tokenized_to_id            5978 non-null   int64  \n",
                        "dtypes: float64(22), int64(15), object(21)\n",
                        "memory usage: 2.6+ MB\n"
                    ]
                }
            ],
            "source": [
                "df_manual.info()\n"
            ]
        },
        {
            "cell_type": "code",
            "execution_count": 109,
            "id": "45e45b2c",
            "metadata": {},
            "outputs": [
                {
                    "data": {
                        "application/vnd.jupyter.widget-view+json": {
                            "model_id": "3718a2e5c83742eb867fd829c9f743fe",
                            "version_major": 2,
                            "version_minor": 0
                        },
                        "text/plain": [
                            "progress-bar:   0%|          | 0/5978 [00:00<?, ?it/s]"
                        ]
                    },
                    "metadata": {},
                    "output_type": "display_data"
                },
                {
                    "data": {
                        "application/vnd.jupyter.widget-view+json": {
                            "model_id": "37e4127326fb4e1ea7c0768c24effb5b",
                            "version_major": 2,
                            "version_minor": 0
                        },
                        "text/plain": [
                            "progress-bar:   0%|          | 0/5978 [00:00<?, ?it/s]"
                        ]
                    },
                    "metadata": {},
                    "output_type": "display_data"
                },
                {
                    "data": {
                        "application/vnd.jupyter.widget-view+json": {
                            "model_id": "eb5eb43225c34309a3b442cd29e051c3",
                            "version_major": 2,
                            "version_minor": 0
                        },
                        "text/plain": [
                            "progress-bar:   0%|          | 0/5978 [00:00<?, ?it/s]"
                        ]
                    },
                    "metadata": {},
                    "output_type": "display_data"
                },
                {
                    "name": "stdout",
                    "output_type": "stream",
                    "text": [
                        "CPU times: user 1min 23s, sys: 1.21 s, total: 1min 24s\n",
                        "Wall time: 1min 27s\n"
                    ]
                }
            ],
            "source": [
                "%%time\n",
                "# Load customer characters\n",
                "with open(f'{data_dir}punctuations.txt', 'rb') as f:\n",
                "    custom_punct_chars = pickle.load(f)\n",
                "\n",
                "# POS tagging\n",
                "df_manual['Job Description spacy_token_tags'] = df_manual[\n",
                "    'Job Description spacy_sentencized'\n",
                "].progress_apply(\n",
                "    lambda job_sentence: [\n",
                "        (token.text.strip().lower(), token.tag_) for token in nlp(job_sentence)\n",
                "    ]\n",
                ")\n",
                "\n",
                "# Lemmatization\n",
                "df_manual['Job Description spacy_lemmas'] = df_manual['Job Description spacy_sentencized'].progress_apply(\n",
                "    lambda job_sentence: [\n",
                "        token.lemma_.strip().lower()\n",
                "        for token in nlp(job_sentence)\n",
                "        if len(token) != 0 and not token.is_stop and not token.is_punct and token.text not in custom_punct_chars\n",
                "    ]\n",
                ")\n",
                "\n",
                "# Stemming\n",
                "df_manual['Job Description spacy_stems'] = df_manual['Job Description spacy_sentencized'].progress_apply(\n",
                "    lambda job_sentence: [\n",
                "        stemmer.stem(token.text.strip().lower())\n",
                "        for token in nlp(job_sentence)\n",
                "        if len(token) != 0 and not token.is_stop and not token.is_punct and token.text not in custom_punct_chars\n",
                "    ]\n",
                ")\n",
                "\n",
                "assert len(df_manual) > 0 and isinstance(df_manual, pd.DataFrame), f'ERORR: LENGTH OF DF = {len(df_manual)}'\n",
                "df_manual.to_pickle(f'{df_save_dir}df_manual_tags_lemmas_stems_spacy.pkl')\n",
                "df_manual.to_csv(f'{df_save_dir}df_manual_tags_lemmas_stems_spacy.csv', index=False)\n"
            ]
        },
        {
            "cell_type": "code",
            "execution_count": 110,
            "id": "9d8332f9",
            "metadata": {},
            "outputs": [
                {
                    "name": "stdout",
                    "output_type": "stream",
                    "text": [
                        "<class 'pandas.core.frame.DataFrame'>\n",
                        "RangeIndex: 5978 entries, 0 to 5977\n",
                        "Data columns (total 61 columns):\n",
                        " #   Column                                          Non-Null Count  Dtype  \n",
                        "---  ------                                          --------------  -----  \n",
                        " 0   Job ID                                          5978 non-null   object \n",
                        " 1   Job Description spacy_sentencized               5978 non-null   object \n",
                        " 2   Warmth                                          5978 non-null   int64  \n",
                        " 3   Competence                                      5978 non-null   int64  \n",
                        " 4   Dutch Requirement                               5978 non-null   object \n",
                        " 5   English Requirement                             5978 non-null   object \n",
                        " 6   Search Keyword                                  5978 non-null   object \n",
                        " 7   Platform                                        5978 non-null   object \n",
                        " 8   Job Title                                       5978 non-null   object \n",
                        " 9   Company Name                                    5978 non-null   object \n",
                        " 10  Location                                        5978 non-null   object \n",
                        " 11  Industry                                        291 non-null    object \n",
                        " 12  Sector Code                                     5978 non-null   object \n",
                        " 13  Sector                                          5978 non-null   object \n",
                        " 14  Keywords Count                                  5978 non-null   float64\n",
                        " 15  % per Sector                                    5978 non-null   float64\n",
                        " 16  % per Social Category                           5978 non-null   float64\n",
                        " 17  % per Workforce                                 5978 non-null   float64\n",
                        " 18  Female Count (x 1000)                           5978 non-null   float64\n",
                        " 19  Gender_Female_% per Sector                      5978 non-null   float64\n",
                        " 20  Gender_Female_% per Social Category             5978 non-null   float64\n",
                        " 21  Gender_Female_% per Workforce                   5978 non-null   float64\n",
                        " 22  Male Count (x 1000)                             5978 non-null   float64\n",
                        " 23  Gender_Male_% per Sector                        5978 non-null   float64\n",
                        " 24  Gender_Male_% per Social Category               5978 non-null   float64\n",
                        " 25  Gender_Male_% per Workforce                     5978 non-null   float64\n",
                        " 26  Gender                                          5978 non-null   object \n",
                        " 27  Age_Older (>= 45 years)_n                       5978 non-null   float64\n",
                        " 28  Age_Older (>= 45 years)_% per Sector            5978 non-null   float64\n",
                        " 29  Age_Older (>= 45 years)_% per Social Category   5978 non-null   float64\n",
                        " 30  Age_Older (>= 45 years)_% per Workforce         5978 non-null   float64\n",
                        " 31  Age_Younger (< 45 years)_n                      5978 non-null   float64\n",
                        " 32  Age_Younger (< 45 years)_% per Sector           5978 non-null   float64\n",
                        " 33  Age_Younger (< 45 years)_% per Social Category  5978 non-null   float64\n",
                        " 34  Age_Younger (< 45 years)_% per Workforce        5978 non-null   float64\n",
                        " 35  Age                                             5978 non-null   object \n",
                        " 36  Sector Count (x 1000)                           5978 non-null   float64\n",
                        " 37  % Sector per Workforce                          5978 non-null   float64\n",
                        " 38  Gender_Female                                   5978 non-null   int64  \n",
                        " 39  Gender_Male                                     5978 non-null   int64  \n",
                        " 40  Gender_Mixed                                    5978 non-null   int64  \n",
                        " 41  Age_Mixed                                       5978 non-null   int64  \n",
                        " 42  Age_Older                                       5978 non-null   int64  \n",
                        " 43  Age_Younger                                     5978 non-null   int64  \n",
                        " 44  Gender_Num                                      5978 non-null   int64  \n",
                        " 45  Age_Num                                         5978 non-null   int64  \n",
                        " 46  Job Description spacy_sentencized_lower         5978 non-null   object \n",
                        " 47  Job Description spacy_tokenized                 5978 non-null   object \n",
                        " 48  Job Description spacy_sentencized_cleaned       5978 non-null   object \n",
                        " 49  Job Description num_words                       5978 non-null   int64  \n",
                        " 50  Job Description num_unique_words                5978 non-null   int64  \n",
                        " 51  Job Description num_chars                       5978 non-null   int64  \n",
                        " 52  Job Description num_punctuations                5978 non-null   int64  \n",
                        " 53  Job Description nltk_tokenized                  5978 non-null   object \n",
                        " 54  Job Description gensim_tokenized                5978 non-null   object \n",
                        " 55  Job Description bert_encodings                  5978 non-null   object \n",
                        " 56  Job Description bert_tokenized                  5978 non-null   object \n",
                        " 57  Job Description bert_tokenized_to_id            5978 non-null   int64  \n",
                        " 58  Job Description spacy_token_tags                5978 non-null   object \n",
                        " 59  Job Description spacy_lemmas                    5978 non-null   object \n",
                        " 60  Job Description spacy_stems                     5978 non-null   object \n",
                        "dtypes: float64(22), int64(15), object(24)\n",
                        "memory usage: 2.8+ MB\n"
                    ]
                }
            ],
            "source": [
                "df_manual.info()\n"
            ]
        },
        {
            "cell_type": "code",
            "execution_count": 111,
            "id": "5d8d37b3",
            "metadata": {},
            "outputs": [
                {
                    "data": {
                        "text/html": [
                            "<div>\n",
                            "<style scoped>\n",
                            "    .dataframe tbody tr th:only-of-type {\n",
                            "        vertical-align: middle;\n",
                            "    }\n",
                            "\n",
                            "    .dataframe tbody tr th {\n",
                            "        vertical-align: top;\n",
                            "    }\n",
                            "\n",
                            "    .dataframe thead th {\n",
                            "        text-align: right;\n",
                            "    }\n",
                            "</style>\n",
                            "<table border=\"1\" class=\"dataframe\">\n",
                            "  <thead>\n",
                            "    <tr style=\"text-align: center;\">\n",
                            "      <th></th>\n",
                            "      <th>Job Description spacy_token_tags</th>\n",
                            "      <th>Job Description spacy_lemmas</th>\n",
                            "      <th>Job Description spacy_stems</th>\n",
                            "    </tr>\n",
                            "  </thead>\n",
                            "  <tbody>\n",
                            "    <tr>\n",
                            "      <th>0</th>\n",
                            "      <td>[(established, VBN), (in, IN), (1996, CD), (in...</td>\n",
                            "      <td>[establish, 1996, amsterdam, booking.com, grow...</td>\n",
                            "      <td>[establish, 1996, amsterdam, booking.com, grow...</td>\n",
                            "    </tr>\n",
                            "    <tr>\n",
                            "      <th>1</th>\n",
                            "      <td>[(booking.com, NNP), (is, VBZ), (the, DT), (la...</td>\n",
                            "      <td>[booking.com, large, business, booking, holdin...</td>\n",
                            "      <td>[booking.com, largest, busi, book, hold, nasda...</td>\n",
                            "    </tr>\n",
                            "    <tr>\n",
                            "      <th>2</th>\n",
                            "      <td>[(booking, NNP), (holdings, NNP), (is, VBZ), (...</td>\n",
                            "      <td>[booking, holdings, lead, fortune, 500, e, com...</td>\n",
                            "      <td>[book, hold, lead, fortun, 500, e, commerc, co...</td>\n",
                            "    </tr>\n",
                            "    <tr>\n",
                            "      <th>3</th>\n",
                            "      <td>[(with, IN), (a, DT), (mission, NN), (to, TO),...</td>\n",
                            "      <td>[mission, easy, experience, world, booking.com...</td>\n",
                            "      <td>[mission, easier, experi, world, booking.com, ...</td>\n",
                            "    </tr>\n",
                            "    <tr>\n",
                            "      <th>4</th>\n",
                            "      <td>[(booking.com, NNP), (connects, VBZ), (travell...</td>\n",
                            "      <td>[booking.com, connect, traveller, world, large...</td>\n",
                            "      <td>[booking.com, connect, travel, world, largest,...</td>\n",
                            "    </tr>\n",
                            "  </tbody>\n",
                            "</table>\n",
                            "</div>"
                        ],
                        "text/plain": [
                            "           Job Description spacy_token_tags                     Job Description spacy_lemmas                       Job Description spacy_stems            \n",
                            "0  [(established, VBN), (in, IN), (1996, CD), (in...  [establish, 1996, amsterdam, booking.com, grow...  [establish, 1996, amsterdam, booking.com, grow...\n",
                            "1  [(booking.com, NNP), (is, VBZ), (the, DT), (la...  [booking.com, large, business, booking, holdin...  [booking.com, largest, busi, book, hold, nasda...\n",
                            "2  [(booking, NNP), (holdings, NNP), (is, VBZ), (...  [booking, holdings, lead, fortune, 500, e, com...  [book, hold, lead, fortun, 500, e, commerc, co...\n",
                            "3  [(with, IN), (a, DT), (mission, NN), (to, TO),...  [mission, easy, experience, world, booking.com...  [mission, easier, experi, world, booking.com, ...\n",
                            "4  [(booking.com, NNP), (connects, VBZ), (travell...  [booking.com, connect, traveller, world, large...  [booking.com, connect, travel, world, largest,..."
                        ]
                    },
                    "execution_count": 111,
                    "metadata": {},
                    "output_type": "execute_result"
                }
            ],
            "source": [
                "df_manual[\n",
                "    [\n",
                "        'Job Description spacy_token_tags',\n",
                "        'Job Description spacy_lemmas',\n",
                "        'Job Description spacy_stems'\n",
                "    ]\n",
                "].head()\n"
            ]
        },
        {
            "cell_type": "code",
            "execution_count": 112,
            "id": "fa7acdc1",
            "metadata": {},
            "outputs": [],
            "source": [
                "assert len(df_manual) > 0 and isinstance(df_manual, pd.DataFrame), f'ERORR: LENGTH OF DF = {len(df_manual)}'\n",
                "df_manual.to_pickle(f'{df_save_dir}df_manual_tags_lemmas_stems_spacy.pkl')\n",
                "df_manual.to_csv(f'{df_save_dir}df_manual_tags_lemmas_stems_spacy.csv', index=False)\n"
            ]
        },
        {
            "cell_type": "markdown",
            "id": "8c74665a",
            "metadata": {},
            "source": [
                "# Use NLTK to create Parts-Of-Speech (POS) tags, lemmas, and stems\n"
            ]
        },
        {
            "cell_type": "markdown",
            "id": "12fe6cb2",
            "metadata": {},
            "source": [
                "### START HERE IF SOURCING FROM df_manual_TAGS_LEMMAS_STEMS_SPACY\n",
                "### PLEASE SET CORRECT DIRECTORY PATHS BELOW\n"
            ]
        },
        {
            "cell_type": "code",
            "execution_count": 113,
            "id": "7c765e8d",
            "metadata": {},
            "outputs": [],
            "source": [
                "import os # type:ignore # isort:skip # fmt:skip # noqa # nopep8\n",
                "import sys # type:ignore # isort:skip # fmt:skip # noqa # nopep8\n",
                "from pathlib import Path # type:ignore # isort:skip # fmt:skip # noqa # nopep8\n",
                "\n",
                "mod = sys.modules[__name__]\n",
                "\n",
                "code_dir = None\n",
                "code_dir_name = 'Code'\n",
                "unwanted_subdir_name = 'Analysis'\n",
                "\n",
                "for _ in range(5):\n",
                "\n",
                "    parent_path = str(Path.cwd().parents[_]).split('/')[-1]\n",
                "\n",
                "    if (code_dir_name in parent_path) and (unwanted_subdir_name not in parent_path):\n",
                "\n",
                "        code_dir = str(Path.cwd().parents[_])\n",
                "\n",
                "        if code_dir is not None:\n",
                "            break\n",
                "\n",
                "sys.path.append(code_dir)\n",
                "# %load_ext autoreload\n",
                "# %autoreload 2\n"
            ]
        },
        {
            "cell_type": "code",
            "execution_count": 114,
            "id": "d114a298",
            "metadata": {},
            "outputs": [],
            "source": [
                "from setup_module.imports import * # type:ignore # isort:skip # fmt:skip # noqa # nopep8\n"
            ]
        },
        {
            "cell_type": "code",
            "execution_count": 115,
            "id": "ac327ec6",
            "metadata": {},
            "outputs": [],
            "source": [
                "def get_wordnet_pos(token):\n",
                "    \"\"\"Map POS tag to first character lemmatize() accepts\"\"\"\n",
                "    tag = nltk.pos_tag([token])[0][1][0].upper()\n",
                "    tag_dict = {\"J\": wordnet.ADJ,\n",
                "                \"N\": wordnet.NOUN,\n",
                "                \"V\": wordnet.VERB,\n",
                "                \"R\": wordnet.ADV}\n",
                "\n",
                "    return tag_dict.get(tag, wordnet.NOUN)\n"
            ]
        },
        {
            "cell_type": "code",
            "execution_count": 116,
            "id": "0b5e476b",
            "metadata": {},
            "outputs": [],
            "source": [
                "df_manual = pd.read_pickle(f'{df_save_dir}df_manual_tags_lemmas_stems_spacy.pkl').reset_index(drop=True)\n"
            ]
        },
        {
            "cell_type": "code",
            "execution_count": 117,
            "id": "6f5c1c44",
            "metadata": {},
            "outputs": [
                {
                    "name": "stdout",
                    "output_type": "stream",
                    "text": [
                        "<class 'pandas.core.frame.DataFrame'>\n",
                        "RangeIndex: 5978 entries, 0 to 5977\n",
                        "Data columns (total 61 columns):\n",
                        " #   Column                                          Non-Null Count  Dtype  \n",
                        "---  ------                                          --------------  -----  \n",
                        " 0   Job ID                                          5978 non-null   object \n",
                        " 1   Job Description spacy_sentencized               5978 non-null   object \n",
                        " 2   Warmth                                          5978 non-null   int64  \n",
                        " 3   Competence                                      5978 non-null   int64  \n",
                        " 4   Dutch Requirement                               5978 non-null   object \n",
                        " 5   English Requirement                             5978 non-null   object \n",
                        " 6   Search Keyword                                  5978 non-null   object \n",
                        " 7   Platform                                        5978 non-null   object \n",
                        " 8   Job Title                                       5978 non-null   object \n",
                        " 9   Company Name                                    5978 non-null   object \n",
                        " 10  Location                                        5978 non-null   object \n",
                        " 11  Industry                                        291 non-null    object \n",
                        " 12  Sector Code                                     5978 non-null   object \n",
                        " 13  Sector                                          5978 non-null   object \n",
                        " 14  Keywords Count                                  5978 non-null   float64\n",
                        " 15  % per Sector                                    5978 non-null   float64\n",
                        " 16  % per Social Category                           5978 non-null   float64\n",
                        " 17  % per Workforce                                 5978 non-null   float64\n",
                        " 18  Female Count (x 1000)                           5978 non-null   float64\n",
                        " 19  Gender_Female_% per Sector                      5978 non-null   float64\n",
                        " 20  Gender_Female_% per Social Category             5978 non-null   float64\n",
                        " 21  Gender_Female_% per Workforce                   5978 non-null   float64\n",
                        " 22  Male Count (x 1000)                             5978 non-null   float64\n",
                        " 23  Gender_Male_% per Sector                        5978 non-null   float64\n",
                        " 24  Gender_Male_% per Social Category               5978 non-null   float64\n",
                        " 25  Gender_Male_% per Workforce                     5978 non-null   float64\n",
                        " 26  Gender                                          5978 non-null   object \n",
                        " 27  Age_Older (>= 45 years)_n                       5978 non-null   float64\n",
                        " 28  Age_Older (>= 45 years)_% per Sector            5978 non-null   float64\n",
                        " 29  Age_Older (>= 45 years)_% per Social Category   5978 non-null   float64\n",
                        " 30  Age_Older (>= 45 years)_% per Workforce         5978 non-null   float64\n",
                        " 31  Age_Younger (< 45 years)_n                      5978 non-null   float64\n",
                        " 32  Age_Younger (< 45 years)_% per Sector           5978 non-null   float64\n",
                        " 33  Age_Younger (< 45 years)_% per Social Category  5978 non-null   float64\n",
                        " 34  Age_Younger (< 45 years)_% per Workforce        5978 non-null   float64\n",
                        " 35  Age                                             5978 non-null   object \n",
                        " 36  Sector Count (x 1000)                           5978 non-null   float64\n",
                        " 37  % Sector per Workforce                          5978 non-null   float64\n",
                        " 38  Gender_Female                                   5978 non-null   int64  \n",
                        " 39  Gender_Male                                     5978 non-null   int64  \n",
                        " 40  Gender_Mixed                                    5978 non-null   int64  \n",
                        " 41  Age_Mixed                                       5978 non-null   int64  \n",
                        " 42  Age_Older                                       5978 non-null   int64  \n",
                        " 43  Age_Younger                                     5978 non-null   int64  \n",
                        " 44  Gender_Num                                      5978 non-null   int64  \n",
                        " 45  Age_Num                                         5978 non-null   int64  \n",
                        " 46  Job Description spacy_sentencized_lower         5978 non-null   object \n",
                        " 47  Job Description spacy_tokenized                 5978 non-null   object \n",
                        " 48  Job Description spacy_sentencized_cleaned       5978 non-null   object \n",
                        " 49  Job Description num_words                       5978 non-null   int64  \n",
                        " 50  Job Description num_unique_words                5978 non-null   int64  \n",
                        " 51  Job Description num_chars                       5978 non-null   int64  \n",
                        " 52  Job Description num_punctuations                5978 non-null   int64  \n",
                        " 53  Job Description nltk_tokenized                  5978 non-null   object \n",
                        " 54  Job Description gensim_tokenized                5978 non-null   object \n",
                        " 55  Job Description bert_encodings                  5978 non-null   object \n",
                        " 56  Job Description bert_tokenized                  5978 non-null   object \n",
                        " 57  Job Description bert_tokenized_to_id            5978 non-null   int64  \n",
                        " 58  Job Description spacy_token_tags                5978 non-null   object \n",
                        " 59  Job Description spacy_lemmas                    5978 non-null   object \n",
                        " 60  Job Description spacy_stems                     5978 non-null   object \n",
                        "dtypes: float64(22), int64(15), object(24)\n",
                        "memory usage: 2.8+ MB\n"
                    ]
                }
            ],
            "source": [
                "df_manual.info()\n"
            ]
        },
        {
            "cell_type": "code",
            "execution_count": 118,
            "id": "92fb117a",
            "metadata": {},
            "outputs": [
                {
                    "data": {
                        "application/vnd.jupyter.widget-view+json": {
                            "model_id": "e3e274e9145647ecba5954d926599434",
                            "version_major": 2,
                            "version_minor": 0
                        },
                        "text/plain": [
                            "progress-bar:   0%|          | 0/5978 [00:00<?, ?it/s]"
                        ]
                    },
                    "metadata": {},
                    "output_type": "display_data"
                },
                {
                    "data": {
                        "application/vnd.jupyter.widget-view+json": {
                            "model_id": "435ac2db6b404d86982ab7d783cfb091",
                            "version_major": 2,
                            "version_minor": 0
                        },
                        "text/plain": [
                            "progress-bar:   0%|          | 0/5978 [00:00<?, ?it/s]"
                        ]
                    },
                    "metadata": {},
                    "output_type": "display_data"
                },
                {
                    "data": {
                        "application/vnd.jupyter.widget-view+json": {
                            "model_id": "01819226ae0540f483043dc741c2a6ac",
                            "version_major": 2,
                            "version_minor": 0
                        },
                        "text/plain": [
                            "progress-bar:   0%|          | 0/5978 [00:00<?, ?it/s]"
                        ]
                    },
                    "metadata": {},
                    "output_type": "display_data"
                },
                {
                    "name": "stdout",
                    "output_type": "stream",
                    "text": [
                        "CPU times: user 9.41 s, sys: 1.4 s, total: 10.8 s\n",
                        "Wall time: 11.8 s\n"
                    ]
                }
            ],
            "source": [
                "%%time\n",
                "# POS tagging\n",
                "df_manual['Job Description nltk_token_tags'] = df_manual['Job Description spacy_tokenized'].progress_apply(\n",
                "    lambda token: pos_tag(token)\n",
                ")\n",
                "\n",
                "# Lemmatization\n",
                "df_manual['Job Description nltk_lemmas'] = df_manual['Job Description spacy_tokenized'].progress_apply(\n",
                "    lambda tokens: [\n",
                "        lemmatizer.lemmatize(\n",
                "            token, get_wordnet_pos(\n",
                "                unicodedata.normalize('NFKD', str(token.strip().lower())).encode('ascii', 'ignore').decode('utf-8', 'ignore')\n",
                "            )\n",
                "        )\n",
                "        for token in tokens\n",
                "    ]\n",
                ")\n",
                "\n",
                "# Stemming\n",
                "df_manual['Job Description nltk_stems'] = df_manual['Job Description spacy_tokenized'].progress_apply(\n",
                "    lambda tokens: [\n",
                "        stemmer.stem(\n",
                "            unicodedata.normalize('NFKD', str(token.strip().lower())).encode('ascii', 'ignore').decode('utf-8', 'ignore')\n",
                "        )\n",
                "        for token in tokens\n",
                "    ]\n",
                ")\n",
                "\n",
                "assert len(df_manual) > 0 and isinstance(df_manual, pd.DataFrame), f'ERORR: LENGTH OF DF = {len(df_manual)}'\n",
                "df_manual.to_pickle(f'{df_save_dir}df_manual_tags_lemmas_stems_spacy_nltk.pkl')\n",
                "df_manual.to_csv(f'{df_save_dir}df_manual_tags_lemmas_stems_spacy_nltk.csv', index=False)\n"
            ]
        },
        {
            "cell_type": "code",
            "execution_count": 119,
            "id": "2893388c",
            "metadata": {},
            "outputs": [
                {
                    "name": "stdout",
                    "output_type": "stream",
                    "text": [
                        "<class 'pandas.core.frame.DataFrame'>\n",
                        "RangeIndex: 5978 entries, 0 to 5977\n",
                        "Data columns (total 64 columns):\n",
                        " #   Column                                          Non-Null Count  Dtype  \n",
                        "---  ------                                          --------------  -----  \n",
                        " 0   Job ID                                          5978 non-null   object \n",
                        " 1   Job Description spacy_sentencized               5978 non-null   object \n",
                        " 2   Warmth                                          5978 non-null   int64  \n",
                        " 3   Competence                                      5978 non-null   int64  \n",
                        " 4   Dutch Requirement                               5978 non-null   object \n",
                        " 5   English Requirement                             5978 non-null   object \n",
                        " 6   Search Keyword                                  5978 non-null   object \n",
                        " 7   Platform                                        5978 non-null   object \n",
                        " 8   Job Title                                       5978 non-null   object \n",
                        " 9   Company Name                                    5978 non-null   object \n",
                        " 10  Location                                        5978 non-null   object \n",
                        " 11  Industry                                        291 non-null    object \n",
                        " 12  Sector Code                                     5978 non-null   object \n",
                        " 13  Sector                                          5978 non-null   object \n",
                        " 14  Keywords Count                                  5978 non-null   float64\n",
                        " 15  % per Sector                                    5978 non-null   float64\n",
                        " 16  % per Social Category                           5978 non-null   float64\n",
                        " 17  % per Workforce                                 5978 non-null   float64\n",
                        " 18  Female Count (x 1000)                           5978 non-null   float64\n",
                        " 19  Gender_Female_% per Sector                      5978 non-null   float64\n",
                        " 20  Gender_Female_% per Social Category             5978 non-null   float64\n",
                        " 21  Gender_Female_% per Workforce                   5978 non-null   float64\n",
                        " 22  Male Count (x 1000)                             5978 non-null   float64\n",
                        " 23  Gender_Male_% per Sector                        5978 non-null   float64\n",
                        " 24  Gender_Male_% per Social Category               5978 non-null   float64\n",
                        " 25  Gender_Male_% per Workforce                     5978 non-null   float64\n",
                        " 26  Gender                                          5978 non-null   object \n",
                        " 27  Age_Older (>= 45 years)_n                       5978 non-null   float64\n",
                        " 28  Age_Older (>= 45 years)_% per Sector            5978 non-null   float64\n",
                        " 29  Age_Older (>= 45 years)_% per Social Category   5978 non-null   float64\n",
                        " 30  Age_Older (>= 45 years)_% per Workforce         5978 non-null   float64\n",
                        " 31  Age_Younger (< 45 years)_n                      5978 non-null   float64\n",
                        " 32  Age_Younger (< 45 years)_% per Sector           5978 non-null   float64\n",
                        " 33  Age_Younger (< 45 years)_% per Social Category  5978 non-null   float64\n",
                        " 34  Age_Younger (< 45 years)_% per Workforce        5978 non-null   float64\n",
                        " 35  Age                                             5978 non-null   object \n",
                        " 36  Sector Count (x 1000)                           5978 non-null   float64\n",
                        " 37  % Sector per Workforce                          5978 non-null   float64\n",
                        " 38  Gender_Female                                   5978 non-null   int64  \n",
                        " 39  Gender_Male                                     5978 non-null   int64  \n",
                        " 40  Gender_Mixed                                    5978 non-null   int64  \n",
                        " 41  Age_Mixed                                       5978 non-null   int64  \n",
                        " 42  Age_Older                                       5978 non-null   int64  \n",
                        " 43  Age_Younger                                     5978 non-null   int64  \n",
                        " 44  Gender_Num                                      5978 non-null   int64  \n",
                        " 45  Age_Num                                         5978 non-null   int64  \n",
                        " 46  Job Description spacy_sentencized_lower         5978 non-null   object \n",
                        " 47  Job Description spacy_tokenized                 5978 non-null   object \n",
                        " 48  Job Description spacy_sentencized_cleaned       5978 non-null   object \n",
                        " 49  Job Description num_words                       5978 non-null   int64  \n",
                        " 50  Job Description num_unique_words                5978 non-null   int64  \n",
                        " 51  Job Description num_chars                       5978 non-null   int64  \n",
                        " 52  Job Description num_punctuations                5978 non-null   int64  \n",
                        " 53  Job Description nltk_tokenized                  5978 non-null   object \n",
                        " 54  Job Description gensim_tokenized                5978 non-null   object \n",
                        " 55  Job Description bert_encodings                  5978 non-null   object \n",
                        " 56  Job Description bert_tokenized                  5978 non-null   object \n",
                        " 57  Job Description bert_tokenized_to_id            5978 non-null   int64  \n",
                        " 58  Job Description spacy_token_tags                5978 non-null   object \n",
                        " 59  Job Description spacy_lemmas                    5978 non-null   object \n",
                        " 60  Job Description spacy_stems                     5978 non-null   object \n",
                        " 61  Job Description nltk_token_tags                 5978 non-null   object \n",
                        " 62  Job Description nltk_lemmas                     5978 non-null   object \n",
                        " 63  Job Description nltk_stems                      5978 non-null   object \n",
                        "dtypes: float64(22), int64(15), object(27)\n",
                        "memory usage: 2.9+ MB\n"
                    ]
                }
            ],
            "source": [
                "df_manual.info()\n"
            ]
        },
        {
            "cell_type": "code",
            "execution_count": 120,
            "id": "84e2af7a",
            "metadata": {},
            "outputs": [
                {
                    "data": {
                        "text/html": [
                            "<div>\n",
                            "<style scoped>\n",
                            "    .dataframe tbody tr th:only-of-type {\n",
                            "        vertical-align: middle;\n",
                            "    }\n",
                            "\n",
                            "    .dataframe tbody tr th {\n",
                            "        vertical-align: top;\n",
                            "    }\n",
                            "\n",
                            "    .dataframe thead th {\n",
                            "        text-align: right;\n",
                            "    }\n",
                            "</style>\n",
                            "<table border=\"1\" class=\"dataframe\">\n",
                            "  <thead>\n",
                            "    <tr style=\"text-align: center;\">\n",
                            "      <th></th>\n",
                            "      <th>Job Description nltk_token_tags</th>\n",
                            "      <th>Job Description nltk_lemmas</th>\n",
                            "      <th>Job Description nltk_stems</th>\n",
                            "    </tr>\n",
                            "  </thead>\n",
                            "  <tbody>\n",
                            "    <tr>\n",
                            "      <th>0</th>\n",
                            "      <td>[(established, VBN), (1996, CD), (amsterdam, N...</td>\n",
                            "      <td>[establish, 1996, amsterdam, booking.com, grow...</td>\n",
                            "      <td>[establish, 1996, amsterdam, booking.com, grow...</td>\n",
                            "    </tr>\n",
                            "    <tr>\n",
                            "      <th>1</th>\n",
                            "      <td>[(booking.com, RB), (largest, JJS), (business,...</td>\n",
                            "      <td>[booking.com, large, business, book, holding, ...</td>\n",
                            "      <td>[booking.com, largest, busi, book, hold, nasda...</td>\n",
                            "    </tr>\n",
                            "    <tr>\n",
                            "      <th>2</th>\n",
                            "      <td>[(booking, VBG), (holdings, NNS), (leading, VB...</td>\n",
                            "      <td>[book, holding, lead, fortune, 500, e, commerc...</td>\n",
                            "      <td>[book, hold, lead, fortun, 500, e, commerc, co...</td>\n",
                            "    </tr>\n",
                            "    <tr>\n",
                            "      <th>3</th>\n",
                            "      <td>[(mission, NN), (easier, JJR), (experience, NN...</td>\n",
                            "      <td>[mission, easy, experience, world, booking.com...</td>\n",
                            "      <td>[mission, easier, experi, world, booking.com, ...</td>\n",
                            "    </tr>\n",
                            "    <tr>\n",
                            "      <th>4</th>\n",
                            "      <td>[(booking.com, NN), (connects, VBZ), (travelle...</td>\n",
                            "      <td>[booking.com, connects, traveller, world, larg...</td>\n",
                            "      <td>[booking.com, connect, travel, world, largest,...</td>\n",
                            "    </tr>\n",
                            "  </tbody>\n",
                            "</table>\n",
                            "</div>"
                        ],
                        "text/plain": [
                            "           Job Description nltk_token_tags                      Job Description nltk_lemmas                         Job Description nltk_stems            \n",
                            "0  [(established, VBN), (1996, CD), (amsterdam, N...  [establish, 1996, amsterdam, booking.com, grow...  [establish, 1996, amsterdam, booking.com, grow...\n",
                            "1  [(booking.com, RB), (largest, JJS), (business,...  [booking.com, large, business, book, holding, ...  [booking.com, largest, busi, book, hold, nasda...\n",
                            "2  [(booking, VBG), (holdings, NNS), (leading, VB...  [book, holding, lead, fortune, 500, e, commerc...  [book, hold, lead, fortun, 500, e, commerc, co...\n",
                            "3  [(mission, NN), (easier, JJR), (experience, NN...  [mission, easy, experience, world, booking.com...  [mission, easier, experi, world, booking.com, ...\n",
                            "4  [(booking.com, NN), (connects, VBZ), (travelle...  [booking.com, connects, traveller, world, larg...  [booking.com, connect, travel, world, largest,..."
                        ]
                    },
                    "execution_count": 120,
                    "metadata": {},
                    "output_type": "execute_result"
                }
            ],
            "source": [
                "df_manual[['Job Description nltk_token_tags', 'Job Description nltk_lemmas', 'Job Description nltk_stems']].head()\n"
            ]
        },
        {
            "cell_type": "code",
            "execution_count": 121,
            "id": "102509c1",
            "metadata": {},
            "outputs": [],
            "source": [
                "assert len(df_manual) > 0 and isinstance(df_manual, pd.DataFrame), f'ERORR: LENGTH OF DF = {len(df_manual)}'\n",
                "df_manual.to_pickle(f'{df_save_dir}df_manual_tags_lemmas_stems_spacy_nltk.pkl')\n",
                "df_manual.to_csv(f'{df_save_dir}df_manual_tags_lemmas_stems_spacy_nltk.csv', index=False)\n"
            ]
        },
        {
            "cell_type": "markdown",
            "id": "e5f98098",
            "metadata": {},
            "source": [
                "# Use BERT to create Parts-Of-Speech (POS) tags, lemmas, and stems\n"
            ]
        },
        {
            "cell_type": "markdown",
            "id": "03dd84df",
            "metadata": {},
            "source": [
                "### START HERE IF SOURCING FROM df_manual_TAGS_LEMMAS_STEMS_SPACY_NLTK\n",
                "### PLEASE SET CORRECT DIRECTORY PATHS BELOW\n"
            ]
        },
        {
            "cell_type": "code",
            "execution_count": 122,
            "id": "cfc8511b",
            "metadata": {},
            "outputs": [],
            "source": [
                "# import os # type:ignore # isort:skip # fmt:skip # noqa # nopep8\n",
                "# import sys # type:ignore # isort:skip # fmt:skip # noqa # nopep8\n",
                "# from pathlib import Path # type:ignore # isort:skip # fmt:skip # noqa # nopep8\n",
                "\n",
                "# mod = sys.modules[__name__]\n",
                "\n",
                "# code_dir = None\n",
                "# code_dir_name = 'Code'\n",
                "# unwanted_subdir_name = 'Analysis'\n",
                "\n",
                "# for _ in range(5):\n",
                "\n",
                "#     parent_path = str(Path.cwd().parents[_]).split('/')[-1]\n",
                "\n",
                "#     if (code_dir_name in parent_path) and (unwanted_subdir_name not in parent_path):\n",
                "\n",
                "#         code_dir = str(Path.cwd().parents[_])\n",
                "\n",
                "#         if code_dir is not None:\n",
                "#             break\n",
                "\n",
                "# sys.path.append(code_dir)\n",
                "# # %load_ext autoreload\n",
                "# # %autoreload 2\n"
            ]
        },
        {
            "cell_type": "code",
            "execution_count": 123,
            "id": "ec559046",
            "metadata": {},
            "outputs": [],
            "source": [
                "# from setup_module.imports import * # type:ignore # isort:skip # fmt:skip # noqa # nopep8\n"
            ]
        },
        {
            "cell_type": "code",
            "execution_count": 124,
            "id": "81972d25",
            "metadata": {},
            "outputs": [],
            "source": [
                "# df_manual = pd.read_pickle(f'{df_save_dir}df_manual_tags_lemmas_stems_spacy_nltk.pkl').reset_index(drop=True)\n"
            ]
        },
        {
            "cell_type": "code",
            "execution_count": 125,
            "id": "e0a48ebd",
            "metadata": {},
            "outputs": [],
            "source": [
                "# %%time\n",
                "# bert_pos_model_name = 'QCRI/bert-base-multilingual-cased-pos-english'\n",
                "# bert_pos_model = AutoModelForTokenClassification.from_pretrained(bert_pos_model_name).to(device)\n",
                "# bert_pos_tagger = TokenClassificationPipeline(model=bert_pos_model, tokenizer=bert_tokenizer).to(device)\n",
                "\n",
                "# df_manual['Job Description bert_token_tags_with_scores'] = df_manual['Job Description spacy_sentencized'].progress_apply(\n",
                "#     lambda sentence: [\n",
                "#         (bert_pos_tag['word'], bert_pos_tag['entity'], bert_pos_tag['score'])\n",
                "#         for i in range(len(sentence.split()))\n",
                "#         for bert_pos_tag in bert_pos_tagger(sentence)\n",
                "#     ]\n",
                "# )\n",
                "\n",
                "# df_manual['Job Description bert_token_tags'] = df_manual['Job Description bert_token_tags_with_scores'].progress_apply(\n",
                "#     lambda tag_list: [\n",
                "#         [(tag_list[i][0], tag_list[i][1])]\n",
                "#         for tag_tuple in tag_list\n",
                "#         for i in range(len(tag_list))\n",
                "#     ]\n",
                "# )\n",
                "\n",
                "\n",
                "# assert len(df_manual) > 0 and isinstance(df_manual, pd.DataFrame), f'ERORR: LENGTH OF DF = {len(df_manual)}'\n",
                "# df_manual.to_pickle(f'{df_save_dir}df_manual_tags_lemmas_stems_spacy_nltk_bert.pkl')\n",
                "# df_manual.to_csv(f'{df_save_dir}df_manual_tags_lemmas_stems_spacy_nltk_bert.csv', index=False)\n"
            ]
        },
        {
            "cell_type": "code",
            "execution_count": 126,
            "id": "f4e99e0d",
            "metadata": {},
            "outputs": [],
            "source": [
                "# df_manual['Job Description bert_token_tags'].head()"
            ]
        },
        {
            "cell_type": "code",
            "execution_count": 127,
            "id": "0f7e50a4",
            "metadata": {},
            "outputs": [],
            "source": [
                "# assert len(df_manual) > 0 and isinstance(df_manual, pd.DataFrame), f'ERORR: LENGTH OF DF = {len(df_manual)}'\n",
                "# df_manual.to_pickle(f'{df_save_dir}df_manual_tags_lemmas_stems_spacy_nltk_bert.pkl')\n",
                "# df_manual.to_csv(f'{df_save_dir}df_manual_tags_lemmas_stems_spacy_nltk_bert.csv', index=False)\n"
            ]
        },
        {
            "cell_type": "markdown",
            "id": "1122d883",
            "metadata": {},
            "source": [
                "# ATTN: This script should be run AFTER all POS tagging, lemmatization, and stemming (spacy and nltk) completed.\n",
                "# If BERT POS tagging was done, change pkl file loading\n"
            ]
        },
        {
            "cell_type": "markdown",
            "id": "206a80dd",
            "metadata": {},
            "source": [
                "### START HERE IF SOURCING FROM df_manual_TAGS_LEMMAS_STEMS_SPACY_NLTK\n",
                "### IF BERT POS TAGGING WAS DONE, SOURCING FROM df_manual_TAGS_LEMMAS_STEMS_SPACY_NLTK_BERT\n",
                "### PLEASE SET CORRECT DIRECTORY PATHS BELOW\n"
            ]
        },
        {
            "cell_type": "markdown",
            "id": "e54cb736",
            "metadata": {},
            "source": [
                "# Use spacy to create bi and trigrams\n"
            ]
        },
        {
            "cell_type": "code",
            "execution_count": 128,
            "id": "980b3608",
            "metadata": {},
            "outputs": [],
            "source": [
                "import os\n",
                "import sys\n",
                "import importlib\n",
                "from pathlib import Path\n",
                "import numpy as np\n",
                "\n",
                "mod = sys.modules[__name__]\n",
                "\n",
                "code_dir = None\n",
                "code_dir_name = 'Code'\n",
                "unwanted_subdir_name = 'Analysis'\n",
                "\n",
                "for _ in range(5):\n",
                "\n",
                "    parent_path = str(Path.cwd().parents[_]).split('/')[-1]\n",
                "\n",
                "    if (code_dir_name in parent_path) and (unwanted_subdir_name not in parent_path):\n",
                "\n",
                "        code_dir = str(Path.cwd().parents[_])\n",
                "\n",
                "        if code_dir is not None:\n",
                "            break\n",
                "\n",
                "sys.path.append(code_dir)\n",
                "# %load_ext autoreload\n",
                "# %autoreload 2\n"
            ]
        },
        {
            "cell_type": "code",
            "execution_count": 129,
            "id": "520614c1",
            "metadata": {},
            "outputs": [],
            "source": [
                "from setup_module.imports import * # type:ignore # isort:skip # fmt:skip # noqa # nopep8\n"
            ]
        },
        {
            "cell_type": "code",
            "execution_count": 130,
            "id": "405cfdc3",
            "metadata": {},
            "outputs": [],
            "source": [
                "def spacy_make_ngrams(sentence, matcher, gram_type):\n",
                "\n",
                "    doc = nlp(sentence)\n",
                "    matches = matcher(doc)\n",
                "    matches_list = []\n",
                "\n",
                "    for idx in range(len(matches)):\n",
                "        for match_id, start, end in matches:\n",
                "            if nlp.vocab.strings[match_id].split('_')[0] == gram_type:\n",
                "                match = doc[matches[idx][1]: matches[idx][2]].text\n",
                "                matches_list.append(match.lower())\n",
                "    \n",
                "    return list(set(matches_list))\n"
            ]
        },
        {
            "cell_type": "code",
            "execution_count": 131,
            "id": "b6d7a1b4",
            "metadata": {},
            "outputs": [],
            "source": [
                "df_manual = pd.read_pickle(f'{df_save_dir}df_manual_tags_lemmas_stems_spacy_nltk.pkl').reset_index(drop=True)\n"
            ]
        },
        {
            "cell_type": "code",
            "execution_count": 132,
            "id": "ae54c422",
            "metadata": {},
            "outputs": [
                {
                    "data": {
                        "application/vnd.jupyter.widget-view+json": {
                            "model_id": "b19327284f754231a8e80b1aa6ccb8d7",
                            "version_major": 2,
                            "version_minor": 0
                        },
                        "text/plain": [
                            "progress-bar:   0%|          | 0/5978 [00:00<?, ?it/s]"
                        ]
                    },
                    "metadata": {},
                    "output_type": "display_data"
                },
                {
                    "name": "stdout",
                    "output_type": "stream",
                    "text": [
                        "CPU times: user 19 ms, sys: 2.08 ms, total: 21.1 ms\n",
                        "Wall time: 22.8 ms\n"
                    ]
                }
            ],
            "source": [
                "%%time\n",
                "df_manual['Job Description spacy_1grams_original_list'] = df_manual['Job Description spacy_tokenized']\n",
                "df_manual['Job Description spacy_1grams'] = df_manual['Job Description spacy_tokenized'].progress_apply(\n",
                "    lambda tokens: [\n",
                "        tuple(token.split())\n",
                "        for token in tokens\n",
                "    ]\n",
                ")\n"
            ]
        },
        {
            "cell_type": "code",
            "execution_count": 133,
            "id": "1a0c8ffe",
            "metadata": {},
            "outputs": [
                {
                    "data": {
                        "application/vnd.jupyter.widget-view+json": {
                            "model_id": "3567213b965243a79b7d602d6553e042",
                            "version_major": 2,
                            "version_minor": 0
                        },
                        "text/plain": [
                            "progress-bar:   0%|          | 0/5978 [00:00<?, ?it/s]"
                        ]
                    },
                    "metadata": {},
                    "output_type": "display_data"
                },
                {
                    "data": {
                        "application/vnd.jupyter.widget-view+json": {
                            "model_id": "d66fc3226e4f45229985fa57a58a0511",
                            "version_major": 2,
                            "version_minor": 0
                        },
                        "text/plain": [
                            "progress-bar:   0%|          | 0/5978 [00:00<?, ?it/s]"
                        ]
                    },
                    "metadata": {},
                    "output_type": "display_data"
                },
                {
                    "data": {
                        "application/vnd.jupyter.widget-view+json": {
                            "model_id": "2d881f32e8cd46cd8b8277da2cffbc9f",
                            "version_major": 2,
                            "version_minor": 0
                        },
                        "text/plain": [
                            "progress-bar:   0%|          | 0/5978 [00:00<?, ?it/s]"
                        ]
                    },
                    "metadata": {},
                    "output_type": "display_data"
                },
                {
                    "data": {
                        "application/vnd.jupyter.widget-view+json": {
                            "model_id": "725e028118e7478899b71fab1193715f",
                            "version_major": 2,
                            "version_minor": 0
                        },
                        "text/plain": [
                            "progress-bar:   0%|          | 0/5978 [00:00<?, ?it/s]"
                        ]
                    },
                    "metadata": {},
                    "output_type": "display_data"
                },
                {
                    "name": "stdout",
                    "output_type": "stream",
                    "text": [
                        "CPU times: user 2min 8s, sys: 1.47 s, total: 2min 9s\n",
                        "Wall time: 2min 14s\n"
                    ]
                }
            ],
            "source": [
                "%%time\n",
                "# Spacy bi and trigrams\n",
                "matcher = Matcher(nlp.vocab)\n",
                "\n",
                "bigram_rules = [\n",
                "    ['NOUN', 'VERB'],\n",
                "    ['VERB', 'NOUN'],\n",
                "    ['ADJ', 'NOUN'],\n",
                "    ['ADJ', 'PROPN'],\n",
                "    # more rules here...\n",
                "]\n",
                "\n",
                "trigram_rules = [\n",
                "    ['VERB', 'ADJ', 'NOUN'],\n",
                "    ['NOUN', 'VERB', 'ADV'],\n",
                "    ['NOUN', 'ADP', 'NOUN'],\n",
                "    # more rules here...\n",
                "]\n",
                "\n",
                "patters_dict = {\n",
                "    'bigram_patterns': [[{'POS': i} for i in j] for j in bigram_rules],\n",
                "    'trigram_patterns': [[{'POS': i} for i in j] for j in trigram_rules],\n",
                "}\n",
                "\n",
                "ngram_dict = {\n",
                "    'bigram': 2,\n",
                "    'trigram': 3,\n",
                "}\n",
                "\n",
                "for ngram_name, ngram_num in ngram_dict.items():\n",
                "    \n",
                "    \n",
                "    matcher.add(f'{ngram_name}_patterns', patters_dict[f'{ngram_name}_patterns'])\n",
                "\n",
                "    df_manual[f'Job Description spacy_{str(ngram_num)}grams_original_list'] = df_manual['Job Description spacy_sentencized'].progress_apply(\n",
                "        lambda sentence: \n",
                "            [\n",
                "                '_'.join(ngram_.split())\n",
                "                for ngram_ in spacy_make_ngrams(sentence, matcher, ngram_name)\n",
                "            ]\n",
                "    )\n",
                "    \n",
                "    df_manual[f'Job Description spacy_{str(ngram_num)}grams'] = df_manual['Job Description spacy_sentencized'].progress_apply(\n",
                "        lambda sentence: \n",
                "            [\n",
                "                tuple(ngram_.split())\n",
                "                for ngram_ in spacy_make_ngrams(sentence, matcher, ngram_name)\n",
                "            ]\n",
                "    )\n",
                "\n",
                "    df_manual[f'Job Description spacy_{str(ngram_num)}grams_in_sent'] = df_manual['Job Description spacy_sentencized'].str.lower().replace(\n",
                "        regex = {\n",
                "            re.escape(' '.join(ngram_.split('_'))): re.escape(ngram_)\n",
                "            for ngrams_list in df_manual[f'Job Description spacy_{str(ngram_num)}grams_original_list']\n",
                "            for ngram_ in ngrams_list\n",
                "            if '_' in ngram_\n",
                "        }\n",
                "    )\n",
                "    \n",
                "    if f'{ngram_name}_patterns' in matcher:\n",
                "        matcher.remove(f'{ngram_name}_patterns')\n",
                "    assert f'{ngram_name}_patterns' not in matcher\n"
            ]
        },
        {
            "cell_type": "code",
            "execution_count": 134,
            "id": "9fc3ad40",
            "metadata": {},
            "outputs": [
                {
                    "name": "stdout",
                    "output_type": "stream",
                    "text": [
                        "CPU times: user 23.3 s, sys: 226 ms, total: 23.5 s\n",
                        "Wall time: 24.5 s\n"
                    ]
                }
            ],
            "source": [
                "%%time\n",
                "# Spacy Allgrams\n",
                "df_manual['Job Description spacy_123grams_original_list'] = df_manual['Job Description spacy_tokenized'] + df_manual['Job Description spacy_2grams_original_list'] + df_manual['Job Description spacy_3grams_original_list']\n",
                "df_manual['Job Description spacy_123grams'] = df_manual['Job Description spacy_1grams'] + df_manual['Job Description spacy_2grams'] + df_manual['Job Description spacy_3grams']\n",
                "df_manual['Job Description spacy_123grams_in_sent'] = (\n",
                "    df_manual['Job Description spacy_sentencized']\n",
                "    .str.lower()\n",
                "    .replace(\n",
                "        regex={\n",
                "            re.escape(' '.join(ngram_.split('_'))): re.escape(ngram_)\n",
                "            for ngrams_list in df_manual[\n",
                "                'Job Description spacy_123grams_original_list'\n",
                "            ]\n",
                "            for ngram_ in ngrams_list\n",
                "            if '_' in ngram_\n",
                "        }\n",
                "    )\n",
                ")\n"
            ]
        },
        {
            "cell_type": "code",
            "execution_count": 135,
            "id": "d68848b6",
            "metadata": {},
            "outputs": [],
            "source": [
                "assert len(df_manual) > 0 and isinstance(df_manual, pd.DataFrame), f'ERORR: LENGTH OF DF = {len(df_manual)}'\n",
                "df_manual.to_pickle(f'{df_save_dir}df_manual_ngrams_spacy.pkl')\n",
                "df_manual.to_csv(f'{df_save_dir}df_manual_ngrams_spacy.csv', index=False)\n"
            ]
        },
        {
            "cell_type": "markdown",
            "id": "d258e491",
            "metadata": {},
            "source": [
                "# Use NLTK to create bi and trigrams\n"
            ]
        },
        {
            "cell_type": "markdown",
            "id": "0e767712",
            "metadata": {},
            "source": [
                "### START HERE IF SOURCING FROM df_manual_NGRAMS_SPACY\n",
                "### PLEASE SET CORRECT DIRECTORY PATHS BELOW\n"
            ]
        },
        {
            "cell_type": "code",
            "execution_count": 136,
            "id": "45f3b2f6",
            "metadata": {},
            "outputs": [],
            "source": [
                "import os # type:ignore # isort:skip # fmt:skip # noqa # nopep8\n",
                "import sys # type:ignore # isort:skip # fmt:skip # noqa # nopep8\n",
                "from pathlib import Path # type:ignore # isort:skip # fmt:skip # noqa # nopep8\n",
                "\n",
                "mod = sys.modules[__name__]\n",
                "\n",
                "code_dir = None\n",
                "code_dir_name = 'Code'\n",
                "unwanted_subdir_name = 'Analysis'\n",
                "\n",
                "for _ in range(5):\n",
                "\n",
                "    parent_path = str(Path.cwd().parents[_]).split('/')[-1]\n",
                "\n",
                "    if (code_dir_name in parent_path) and (unwanted_subdir_name not in parent_path):\n",
                "\n",
                "        code_dir = str(Path.cwd().parents[_])\n",
                "\n",
                "        if code_dir is not None:\n",
                "            break\n",
                "\n",
                "sys.path.append(code_dir)\n",
                "# %load_ext autoreload\n",
                "# %autoreload 2\n"
            ]
        },
        {
            "cell_type": "code",
            "execution_count": 137,
            "id": "10cde291",
            "metadata": {},
            "outputs": [],
            "source": [
                "from setup_module.imports import * # type:ignore # isort:skip # fmt:skip # noqa # nopep8\n"
            ]
        },
        {
            "cell_type": "code",
            "execution_count": 138,
            "id": "a61db031",
            "metadata": {},
            "outputs": [],
            "source": [
                "df_manual = pd.read_pickle(f'{df_save_dir}df_manual_ngrams_spacy.pkl').reset_index(drop=True)\n"
            ]
        },
        {
            "cell_type": "code",
            "execution_count": 139,
            "id": "2afc29c7",
            "metadata": {},
            "outputs": [
                {
                    "data": {
                        "application/vnd.jupyter.widget-view+json": {
                            "model_id": "556052faef0e4680b4f502d11e16ac70",
                            "version_major": 2,
                            "version_minor": 0
                        },
                        "text/plain": [
                            "progress-bar:   0%|          | 0/5978 [00:00<?, ?it/s]"
                        ]
                    },
                    "metadata": {},
                    "output_type": "display_data"
                },
                {
                    "name": "stdout",
                    "output_type": "stream",
                    "text": [
                        "CPU times: user 24.9 ms, sys: 3.69 ms, total: 28.6 ms\n",
                        "Wall time: 38.5 ms\n"
                    ]
                }
            ],
            "source": [
                "%%time\n",
                "df_manual['Job Description nltk_1grams_original_list'] = df_manual['Job Description nltk_tokenized']\n",
                "df_manual['Job Description nltk_1grams'] = df_manual['Job Description nltk_tokenized'].progress_apply(\n",
                "    lambda tokens: [\n",
                "        tuple(token.split())\n",
                "        for token in tokens\n",
                "    ]\n",
                ")\n"
            ]
        },
        {
            "cell_type": "code",
            "execution_count": 140,
            "id": "6c5e1032",
            "metadata": {},
            "outputs": [
                {
                    "data": {
                        "application/vnd.jupyter.widget-view+json": {
                            "model_id": "a597d189fabb43a29cd412c8b3bf476e",
                            "version_major": 2,
                            "version_minor": 0
                        },
                        "text/plain": [
                            "progress-bar:   0%|          | 0/5978 [00:00<?, ?it/s]"
                        ]
                    },
                    "metadata": {},
                    "output_type": "display_data"
                },
                {
                    "data": {
                        "application/vnd.jupyter.widget-view+json": {
                            "model_id": "c71d4dce2d4549eabbc183cffb406c69",
                            "version_major": 2,
                            "version_minor": 0
                        },
                        "text/plain": [
                            "progress-bar:   0%|          | 0/5978 [00:00<?, ?it/s]"
                        ]
                    },
                    "metadata": {},
                    "output_type": "display_data"
                },
                {
                    "data": {
                        "application/vnd.jupyter.widget-view+json": {
                            "model_id": "3ef08e6e171e4458a8619f9f627d285b",
                            "version_major": 2,
                            "version_minor": 0
                        },
                        "text/plain": [
                            "progress-bar:   0%|          | 0/5978 [00:00<?, ?it/s]"
                        ]
                    },
                    "metadata": {},
                    "output_type": "display_data"
                },
                {
                    "data": {
                        "application/vnd.jupyter.widget-view+json": {
                            "model_id": "c2a843b44023462d820e57666d78e6d4",
                            "version_major": 2,
                            "version_minor": 0
                        },
                        "text/plain": [
                            "progress-bar:   0%|          | 0/5978 [00:00<?, ?it/s]"
                        ]
                    },
                    "metadata": {},
                    "output_type": "display_data"
                },
                {
                    "name": "stdout",
                    "output_type": "stream",
                    "text": [
                        "CPU times: user 3min 32s, sys: 1.97 s, total: 3min 34s\n",
                        "Wall time: 3min 46s\n"
                    ]
                }
            ],
            "source": [
                "%%time\n",
                "# NLTK bi and trigrams\n",
                "ngram_dict = {\n",
                "    'bigram': 2,\n",
                "    'trigram': 3\n",
                "}\n",
                "\n",
                "for ngram_name, ngram_num in ngram_dict.items():\n",
                "\n",
                "    df_manual[f'Job Description nltk_{str(ngram_num)}grams_original_list'] = df_manual['Job Description nltk_tokenized'].progress_apply(\n",
                "        lambda tokens:\n",
                "            list(\n",
                "                '_'.join(ngram_list)\n",
                "                for ngram_list in nltk.ngrams(tokens, ngram_num)\n",
                "            )\n",
                "    )\n",
                "\n",
                "    df_manual[f'Job Description nltk_{str(ngram_num)}grams'] = df_manual['Job Description nltk_tokenized'].progress_apply(\n",
                "        lambda tokens: list(nltk.ngrams(tokens, ngram_num))\n",
                "    )\n",
                "\n",
                "    df_manual[f'Job Description nltk_{str(ngram_num)}grams_in_sent'] = df_manual['Job Description spacy_sentencized'].str.lower().replace(\n",
                "        regex = {\n",
                "            re.escape(' '.join(ngram_.split('_'))): re.escape(ngram_)\n",
                "            for ngrams_list in df_manual[f'Job Description nltk_{str(ngram_num)}grams_original_list']\n",
                "            for ngram_ in ngrams_list\n",
                "            if '_' in ngram_\n",
                "        }\n",
                "    )\n"
            ]
        },
        {
            "cell_type": "code",
            "execution_count": 141,
            "id": "32f3ae0a",
            "metadata": {},
            "outputs": [
                {
                    "name": "stdout",
                    "output_type": "stream",
                    "text": [
                        "CPU times: user 3min 31s, sys: 2.56 s, total: 3min 34s\n",
                        "Wall time: 3min 41s\n"
                    ]
                }
            ],
            "source": [
                "%%time\n",
                "# NLTK Allgrams\n",
                "df_manual['Job Description nltk_123grams_original_list'] = (\n",
                "    df_manual['Job Description nltk_tokenized']\n",
                "    + df_manual['Job Description nltk_2grams_original_list']\n",
                "    + df_manual['Job Description nltk_3grams_original_list']\n",
                ")\n",
                "df_manual['Job Description nltk_123grams'] = (\n",
                "    df_manual['Job Description nltk_1grams']\n",
                "    + df_manual['Job Description nltk_2grams']\n",
                "    + df_manual['Job Description nltk_3grams']\n",
                ")\n",
                "df_manual['Job Description nltk_123grams_in_sent'] = (\n",
                "    df_manual['Job Description spacy_sentencized']\n",
                "    .str.lower()\n",
                "    .replace(\n",
                "        regex={\n",
                "            re.escape(' '.join(ngram_.split('_'))): re.escape(ngram_)\n",
                "            for ngrams_list in df_manual[\n",
                "                'Job Description nltk_123grams_original_list'\n",
                "            ]\n",
                "            for ngram_ in ngrams_list\n",
                "            if '_' in ngram_\n",
                "        }\n",
                "    )\n",
                ")\n"
            ]
        },
        {
            "cell_type": "code",
            "execution_count": 142,
            "id": "17610cd5",
            "metadata": {},
            "outputs": [],
            "source": [
                "assert len(df_manual) > 0 and isinstance(df_manual, pd.DataFrame), f'ERORR: LENGTH OF DF = {len(df_manual)}'\n",
                "df_manual.to_pickle(f'{df_save_dir}df_manual_ngrams_spacy_nltk.pkl')\n",
                "df_manual.to_csv(f'{df_save_dir}df_manual_ngrams_spacy_nltk.csv', index=False)\n"
            ]
        },
        {
            "cell_type": "markdown",
            "id": "1440bd34",
            "metadata": {},
            "source": [
                "# Use Gensim to create bi and trigrams\n"
            ]
        },
        {
            "cell_type": "markdown",
            "id": "0494636f",
            "metadata": {},
            "source": [
                "### START HERE IF SOURCING FROM df_manual_NGRAMS_SPACY_NLTK\n",
                "### PLEASE SET CORRECT DIRECTORY PATHS BELOW\n"
            ]
        },
        {
            "cell_type": "code",
            "execution_count": 143,
            "id": "dad74074",
            "metadata": {},
            "outputs": [],
            "source": [
                "import os # type:ignore # isort:skip # fmt:skip # noqa # nopep8\n",
                "import sys # type:ignore # isort:skip # fmt:skip # noqa # nopep8\n",
                "from pathlib import Path # type:ignore # isort:skip # fmt:skip # noqa # nopep8\n",
                "\n",
                "mod = sys.modules[__name__]\n",
                "\n",
                "code_dir = None\n",
                "code_dir_name = 'Code'\n",
                "unwanted_subdir_name = 'Analysis'\n",
                "\n",
                "for _ in range(5):\n",
                "\n",
                "    parent_path = str(Path.cwd().parents[_]).split('/')[-1]\n",
                "\n",
                "    if (code_dir_name in parent_path) and (unwanted_subdir_name not in parent_path):\n",
                "\n",
                "        code_dir = str(Path.cwd().parents[_])\n",
                "\n",
                "        if code_dir is not None:\n",
                "            break\n",
                "\n",
                "sys.path.append(code_dir)\n",
                "# %load_ext autoreload\n",
                "# %autoreload 2\n"
            ]
        },
        {
            "cell_type": "code",
            "execution_count": 144,
            "id": "067dda8f",
            "metadata": {},
            "outputs": [],
            "source": [
                "from setup_module.imports import * # type:ignore # isort:skip # fmt:skip # noqa # nopep8\n"
            ]
        },
        {
            "cell_type": "code",
            "execution_count": 145,
            "id": "8c9c33c2",
            "metadata": {},
            "outputs": [],
            "source": [
                "df_manual = pd.read_pickle(f'{df_save_dir}df_manual_ngrams_spacy_nltk.pkl').reset_index(drop=True)\n"
            ]
        },
        {
            "cell_type": "code",
            "execution_count": 146,
            "id": "59d29aaf",
            "metadata": {},
            "outputs": [
                {
                    "data": {
                        "application/vnd.jupyter.widget-view+json": {
                            "model_id": "8534f131d291439da488f169a755df8e",
                            "version_major": 2,
                            "version_minor": 0
                        },
                        "text/plain": [
                            "progress-bar:   0%|          | 0/5978 [00:00<?, ?it/s]"
                        ]
                    },
                    "metadata": {},
                    "output_type": "display_data"
                }
            ],
            "source": [
                "df_manual['Job Description gensim_1grams_original_list'] = df_manual['Job Description gensim_tokenized']\n",
                "df_manual['Job Description gensim_1grams'] = df_manual['Job Description gensim_tokenized'].progress_apply(\n",
                "    lambda tokens: [\n",
                "        tuple(token.split())\n",
                "        for token in tokens\n",
                "    ]\n",
                ")\n"
            ]
        },
        {
            "cell_type": "code",
            "execution_count": 147,
            "id": "becdbf23",
            "metadata": {},
            "outputs": [
                {
                    "data": {
                        "application/vnd.jupyter.widget-view+json": {
                            "model_id": "43af484323904322bc9bab468c5d1e00",
                            "version_major": 2,
                            "version_minor": 0
                        },
                        "text/plain": [
                            "progress-bar:   0%|          | 0/5978 [00:00<?, ?it/s]"
                        ]
                    },
                    "metadata": {},
                    "output_type": "display_data"
                },
                {
                    "data": {
                        "application/vnd.jupyter.widget-view+json": {
                            "model_id": "e8cb24edd10c4d6d807492234e15645d",
                            "version_major": 2,
                            "version_minor": 0
                        },
                        "text/plain": [
                            "progress-bar:   0%|          | 0/5978 [00:00<?, ?it/s]"
                        ]
                    },
                    "metadata": {},
                    "output_type": "display_data"
                },
                {
                    "data": {
                        "application/vnd.jupyter.widget-view+json": {
                            "model_id": "7498cf3833f544c0b398ac521495fa1f",
                            "version_major": 2,
                            "version_minor": 0
                        },
                        "text/plain": [
                            "progress-bar:   0%|          | 0/5978 [00:00<?, ?it/s]"
                        ]
                    },
                    "metadata": {},
                    "output_type": "display_data"
                },
                {
                    "data": {
                        "application/vnd.jupyter.widget-view+json": {
                            "model_id": "18e4cf9f900147148600689405ea58c4",
                            "version_major": 2,
                            "version_minor": 0
                        },
                        "text/plain": [
                            "progress-bar:   0%|          | 0/5978 [00:00<?, ?it/s]"
                        ]
                    },
                    "metadata": {},
                    "output_type": "display_data"
                },
                {
                    "data": {
                        "application/vnd.jupyter.widget-view+json": {
                            "model_id": "d9b0a9f1b20947928e21b63e64ade315",
                            "version_major": 2,
                            "version_minor": 0
                        },
                        "text/plain": [
                            "progress-bar:   0%|          | 0/5978 [00:00<?, ?it/s]"
                        ]
                    },
                    "metadata": {},
                    "output_type": "display_data"
                },
                {
                    "data": {
                        "application/vnd.jupyter.widget-view+json": {
                            "model_id": "f10a39ef69da4014b393410d1d999413",
                            "version_major": 2,
                            "version_minor": 0
                        },
                        "text/plain": [
                            "progress-bar:   0%|          | 0/5978 [00:00<?, ?it/s]"
                        ]
                    },
                    "metadata": {},
                    "output_type": "display_data"
                },
                {
                    "name": "stdout",
                    "output_type": "stream",
                    "text": [
                        "CPU times: user 22 s, sys: 576 ms, total: 22.6 s\n",
                        "Wall time: 25.4 s\n"
                    ]
                }
            ],
            "source": [
                "%%time\n",
                "# Gensim bi and trigrams\n",
                "pattern = r'[\\n]+|[,]{2,}|[|]{2,}|[\\n\\r]+|(?<=[a-z]\\.)(?=\\s*[A-Z])|(?=\\:+[A-Z])'\n",
                "\n",
                "# Gensim Bigrams\n",
                "bigram = Phraser(Phrases(df_manual['Job Description gensim_tokenized'], connector_words=ENGLISH_CONNECTOR_WORDS, min_count=1, threshold=1))\n",
                "df_manual['Job Description gensim_2grams_original_list_all'] = bigram[df_manual['Job Description gensim_tokenized']]\n",
                "df_manual['Job Description gensim_2grams_original_list'] = df_manual['Job Description gensim_2grams_original_list_all'].progress_apply(\n",
                "    lambda ngrams_list: [\n",
                "        ngram_\n",
                "        for ngram_ in ngrams_list\n",
                "        if len(re.findall('[a-zA-Z]*\\_[a-zA-Z]*', ngram_)) != 0\n",
                "    ]\n",
                ")\n",
                "df_manual['Job Description gensim_2grams'] = df_manual['Job Description gensim_2grams_original_list'].progress_apply(\n",
                "    lambda ngrams: [\n",
                "        tuple(ngram.split('_'))\n",
                "        for ngram in ngrams\n",
                "        if '_' in ngram\n",
                "    ]\n",
                ")\n",
                "df_manual['Job Description gensim_2grams_in_sent'] = (\n",
                "    df_manual['Job Description spacy_sentencized']\n",
                "    .str.lower()\n",
                "    .progress_apply(\n",
                "        lambda sentence: ' '.join(\n",
                "            preprocess_string(re.sub(pattern, ' ', sentence.strip().lower()))\n",
                "        )\n",
                "    )\n",
                "    .replace(\n",
                "        regex={\n",
                "            re.escape(' '.join(ngram_.split('_'))): re.escape(ngram_)\n",
                "            for ngrams_list in df_manual[\n",
                "                'Job Description gensim_2grams_original_list'\n",
                "            ]\n",
                "            for ngram_ in ngrams_list\n",
                "            if '_' in ngram_\n",
                "        }\n",
                "    )\n",
                ")\n",
                "\n",
                "# Gensim Trigrams\n",
                "trigram = Phraser(Phrases(df_manual['Job Description gensim_2grams_original_list_all'], connector_words=ENGLISH_CONNECTOR_WORDS, min_count=1, threshold=1))\n",
                "df_manual['Job Description gensim_3grams_original_list_all'] = trigram[df_manual['Job Description gensim_2grams_original_list_all']]\n",
                "df_manual['Job Description gensim_3grams_original_list'] = df_manual['Job Description gensim_3grams_original_list_all'].progress_apply(\n",
                "    lambda ngrams_list: [\n",
                "        ngram_\n",
                "        for ngram_ in ngrams_list\n",
                "        if len(re.findall('[a-zA-Z]*\\_[a-zA-Z]*\\_[a-zA-Z]*', ngram_)) != 0\n",
                "    ]\n",
                ")\n",
                "df_manual['Job Description gensim_3grams'] = df_manual['Job Description gensim_3grams_original_list'].progress_apply(\n",
                "    lambda ngrams: [\n",
                "        tuple(ngram.split('_'))\n",
                "        for ngram in ngrams\n",
                "        if '_' in ngram\n",
                "    ]\n",
                ")\n",
                "df_manual['Job Description gensim_3grams_in_sent'] = (\n",
                "    df_manual['Job Description spacy_sentencized']\n",
                "    .str.lower()\n",
                "    .progress_apply(\n",
                "        lambda sentence: ' '.join(\n",
                "            preprocess_string(re.sub(pattern, ' ', sentence.strip().lower()))\n",
                "        )\n",
                "    )\n",
                "    .replace(\n",
                "        regex={\n",
                "            re.escape(' '.join(ngram_.split('_'))): re.escape(ngram_)\n",
                "            for ngrams_list in df_manual[\n",
                "                'Job Description gensim_3grams_original_list'\n",
                "            ]\n",
                "            for ngram_ in ngrams_list\n",
                "            if '_' in ngram_\n",
                "        }\n",
                "    )\n",
                ")\n"
            ]
        },
        {
            "cell_type": "code",
            "execution_count": 148,
            "id": "84d89c0a",
            "metadata": {},
            "outputs": [
                {
                    "data": {
                        "application/vnd.jupyter.widget-view+json": {
                            "model_id": "e15469f91f074f81918a988a19bb1ebc",
                            "version_major": 2,
                            "version_minor": 0
                        },
                        "text/plain": [
                            "progress-bar:   0%|          | 0/5978 [00:00<?, ?it/s]"
                        ]
                    },
                    "metadata": {},
                    "output_type": "display_data"
                },
                {
                    "name": "stdout",
                    "output_type": "stream",
                    "text": [
                        "CPU times: user 20.9 s, sys: 436 ms, total: 21.3 s\n",
                        "Wall time: 22.3 s\n"
                    ]
                }
            ],
            "source": [
                "%%time\n",
                "# Gensim Allgrams\n",
                "pattern = r'[\\n]+|[,]{2,}|[|]{2,}|[\\n\\r]+|(?<=[a-z]\\.)(?=\\s*[A-Z])|(?=\\:+[A-Z])'\n",
                "\n",
                "df_manual['Job Description gensim_123grams_original_list'] = (\n",
                "    df_manual['Job Description gensim_tokenized']\n",
                "    + df_manual['Job Description gensim_2grams_original_list']\n",
                "    + df_manual['Job Description gensim_3grams_original_list']\n",
                ")\n",
                "df_manual['Job Description gensim_123grams'] = (\n",
                "    df_manual['Job Description gensim_1grams']\n",
                "    + df_manual['Job Description gensim_2grams']\n",
                "    + df_manual['Job Description gensim_3grams']\n",
                ")\n",
                "df_manual['Job Description gensim_123grams_in_sent'] = (\n",
                "    df_manual['Job Description spacy_sentencized']\n",
                "    .str.lower()\n",
                "    .progress_apply(\n",
                "        lambda sentence: ' '.join(\n",
                "            preprocess_string(re.sub(pattern, ' ', sentence.strip().lower()))\n",
                "        )\n",
                "    )\n",
                "    .replace(\n",
                "        regex={\n",
                "            re.escape(' '.join(ngram_.split('_'))): re.escape(ngram_)\n",
                "            for ngrams_list in df_manual[\n",
                "                'Job Description gensim_123grams_original_list'\n",
                "            ]\n",
                "            for ngram_ in ngrams_list\n",
                "            if '_' in ngram_\n",
                "        }\n",
                "    )\n",
                ")\n"
            ]
        },
        {
            "cell_type": "code",
            "execution_count": 149,
            "id": "17e46331",
            "metadata": {},
            "outputs": [],
            "source": [
                "assert len(df_manual) > 0 and isinstance(df_manual, pd.DataFrame), f'ERORR: LENGTH OF DF = {len(df_manual)}'\n",
                "df_manual.to_pickle(f'{df_save_dir}df_manual_ngrams_spacy_nltk_gensim.pkl')\n",
                "df_manual.to_csv(f'{df_save_dir}df_manual_ngrams_spacy_nltk_gensim.csv', index=False)\n"
            ]
        },
        {
            "cell_type": "markdown",
            "id": "6ac58f92",
            "metadata": {},
            "source": [
                "# Create word frequencies for uni, bi, and trigrams\n"
            ]
        },
        {
            "cell_type": "markdown",
            "id": "7c33d9ab",
            "metadata": {},
            "source": [
                "### START HERE IF SOURCING FROM df_manual_NGRAMS_SPACY_NLTK_GENSIM\n",
                "### PLEASE SET CORRECT DIRECTORY PATHS BELOW\n"
            ]
        },
        {
            "cell_type": "code",
            "execution_count": 150,
            "id": "735bed8e",
            "metadata": {},
            "outputs": [],
            "source": [
                "import os # type:ignore # isort:skip # fmt:skip # noqa # nopep8\n",
                "import sys # type:ignore # isort:skip # fmt:skip # noqa # nopep8\n",
                "from pathlib import Path # type:ignore # isort:skip # fmt:skip # noqa # nopep8\n",
                "\n",
                "mod = sys.modules[__name__]\n",
                "\n",
                "code_dir = None\n",
                "code_dir_name = 'Code'\n",
                "unwanted_subdir_name = 'Analysis'\n",
                "\n",
                "for _ in range(5):\n",
                "\n",
                "    parent_path = str(Path.cwd().parents[_]).split('/')[-1]\n",
                "\n",
                "    if (code_dir_name in parent_path) and (unwanted_subdir_name not in parent_path):\n",
                "\n",
                "        code_dir = str(Path.cwd().parents[_])\n",
                "\n",
                "        if code_dir is not None:\n",
                "            break\n",
                "\n",
                "sys.path.append(code_dir)\n",
                "# %load_ext autoreload\n",
                "# %autoreload 2\n"
            ]
        },
        {
            "cell_type": "code",
            "execution_count": 151,
            "id": "024dc14f",
            "metadata": {},
            "outputs": [],
            "source": [
                "from setup_module.imports import * # type:ignore # isort:skip # fmt:skip # noqa # nopep8\n"
            ]
        },
        {
            "cell_type": "code",
            "execution_count": 152,
            "id": "8731dee4",
            "metadata": {},
            "outputs": [],
            "source": [
                "def get_abs_frequency(row, text_col, ngram_num, embedding_library):\n",
                "\n",
                "    abs_word_freq = defaultdict(int)\n",
                "    for word in row[f'Job Description {embedding_library}_{ngram_num}grams_original_list']:\n",
                "        abs_word_freq[word] += 1\n",
                "\n",
                "        abs_wtd_df = (\n",
                "            pd.DataFrame.from_dict(abs_word_freq, orient='index')\n",
                "            .rename(columns={0: 'abs_word_freq'})\n",
                "            .sort_values(by=['abs_word_freq'], ascending=False)\n",
                "            )\n",
                "        abs_wtd_df.insert(1, 'abs_word_perc', value=abs_wtd_df['abs_word_freq'] / abs_wtd_df['abs_word_freq'].sum())\n",
                "        abs_wtd_df.insert(2, 'abs_word_perc_cum', abs_wtd_df['abs_word_perc'].cumsum())\n",
                "\n",
                "        row[f'Job Description {embedding_library}_{ngram_num}grams_abs_word_freq'] = str(abs_wtd_df['abs_word_freq'].to_dict())\n",
                "        row[f'Job Description {embedding_library}_{ngram_num}grams_abs_word_perc'] = str(abs_wtd_df['abs_word_perc'].to_dict())\n",
                "        row[f'Job Description {embedding_library}_{ngram_num}grams_abs_word_perc_cum'] = str(abs_wtd_df['abs_word_perc_cum'].to_dict())\n",
                "\n",
                "    return row\n"
            ]
        },
        {
            "cell_type": "code",
            "execution_count": 153,
            "id": "8e4a92a0",
            "metadata": {},
            "outputs": [],
            "source": [
                "df_manual = pd.read_pickle(f'{df_save_dir}df_manual_ngrams_spacy_nltk_gensim.pkl').reset_index(drop=True)\n"
            ]
        },
        {
            "cell_type": "code",
            "execution_count": 154,
            "id": "43206134",
            "metadata": {},
            "outputs": [
                {
                    "data": {
                        "application/vnd.jupyter.widget-view+json": {
                            "model_id": "8a9d6f8bb6914460bf07d8eb6d9bc204",
                            "version_major": 2,
                            "version_minor": 0
                        },
                        "text/plain": [
                            "  0%|          | 0/12 [00:00<?, ?it/s]"
                        ]
                    },
                    "metadata": {},
                    "output_type": "display_data"
                },
                {
                    "data": {
                        "application/vnd.jupyter.widget-view+json": {
                            "model_id": "e3baa28003ef40ffa16bebc028f05a34",
                            "version_major": 2,
                            "version_minor": 0
                        },
                        "text/plain": [
                            "progress-bar:   0%|          | 0/5978 [00:00<?, ?it/s]"
                        ]
                    },
                    "metadata": {},
                    "output_type": "display_data"
                },
                {
                    "data": {
                        "application/vnd.jupyter.widget-view+json": {
                            "model_id": "596720de63464e91b5e34256fb452fb5",
                            "version_major": 2,
                            "version_minor": 0
                        },
                        "text/plain": [
                            "progress-bar:   0%|          | 0/5978 [00:00<?, ?it/s]"
                        ]
                    },
                    "metadata": {},
                    "output_type": "display_data"
                },
                {
                    "data": {
                        "application/vnd.jupyter.widget-view+json": {
                            "model_id": "f37a6206f04c43119bfabca85b2bd2cd",
                            "version_major": 2,
                            "version_minor": 0
                        },
                        "text/plain": [
                            "progress-bar:   0%|          | 0/5978 [00:00<?, ?it/s]"
                        ]
                    },
                    "metadata": {},
                    "output_type": "display_data"
                },
                {
                    "data": {
                        "application/vnd.jupyter.widget-view+json": {
                            "model_id": "aba296020c0f45eba6748a9998beafd6",
                            "version_major": 2,
                            "version_minor": 0
                        },
                        "text/plain": [
                            "progress-bar:   0%|          | 0/5978 [00:00<?, ?it/s]"
                        ]
                    },
                    "metadata": {},
                    "output_type": "display_data"
                },
                {
                    "data": {
                        "application/vnd.jupyter.widget-view+json": {
                            "model_id": "0772e3313fd048d18cee0b7cb73e0cd6",
                            "version_major": 2,
                            "version_minor": 0
                        },
                        "text/plain": [
                            "progress-bar:   0%|          | 0/5978 [00:00<?, ?it/s]"
                        ]
                    },
                    "metadata": {},
                    "output_type": "display_data"
                },
                {
                    "data": {
                        "application/vnd.jupyter.widget-view+json": {
                            "model_id": "5aff54e80bdd4bc1a901536774aac486",
                            "version_major": 2,
                            "version_minor": 0
                        },
                        "text/plain": [
                            "progress-bar:   0%|          | 0/5978 [00:00<?, ?it/s]"
                        ]
                    },
                    "metadata": {},
                    "output_type": "display_data"
                },
                {
                    "data": {
                        "application/vnd.jupyter.widget-view+json": {
                            "model_id": "7e07f2a99eeb4ac9b1e03d25ebb77521",
                            "version_major": 2,
                            "version_minor": 0
                        },
                        "text/plain": [
                            "progress-bar:   0%|          | 0/5978 [00:00<?, ?it/s]"
                        ]
                    },
                    "metadata": {},
                    "output_type": "display_data"
                },
                {
                    "data": {
                        "application/vnd.jupyter.widget-view+json": {
                            "model_id": "1c0d403820e74f7bbd8c6139b2e41acb",
                            "version_major": 2,
                            "version_minor": 0
                        },
                        "text/plain": [
                            "progress-bar:   0%|          | 0/5978 [00:00<?, ?it/s]"
                        ]
                    },
                    "metadata": {},
                    "output_type": "display_data"
                },
                {
                    "data": {
                        "application/vnd.jupyter.widget-view+json": {
                            "model_id": "e91647e40b624c5a8ffab696714cfe4d",
                            "version_major": 2,
                            "version_minor": 0
                        },
                        "text/plain": [
                            "progress-bar:   0%|          | 0/5978 [00:00<?, ?it/s]"
                        ]
                    },
                    "metadata": {},
                    "output_type": "display_data"
                },
                {
                    "data": {
                        "application/vnd.jupyter.widget-view+json": {
                            "model_id": "a404efbbe51e4b45b6b74d2e26f61961",
                            "version_major": 2,
                            "version_minor": 0
                        },
                        "text/plain": [
                            "progress-bar:   0%|          | 0/5978 [00:00<?, ?it/s]"
                        ]
                    },
                    "metadata": {},
                    "output_type": "display_data"
                },
                {
                    "data": {
                        "application/vnd.jupyter.widget-view+json": {
                            "model_id": "01f64b587dec4484b5709ad0fe6ad6f9",
                            "version_major": 2,
                            "version_minor": 0
                        },
                        "text/plain": [
                            "progress-bar:   0%|          | 0/5978 [00:00<?, ?it/s]"
                        ]
                    },
                    "metadata": {},
                    "output_type": "display_data"
                },
                {
                    "data": {
                        "application/vnd.jupyter.widget-view+json": {
                            "model_id": "ea5fc12592a94fa99f760613d6528473",
                            "version_major": 2,
                            "version_minor": 0
                        },
                        "text/plain": [
                            "progress-bar:   0%|          | 0/5978 [00:00<?, ?it/s]"
                        ]
                    },
                    "metadata": {},
                    "output_type": "display_data"
                },
                {
                    "name": "stdout",
                    "output_type": "stream",
                    "text": [
                        "CPU times: user 7min 20s, sys: 37.1 s, total: 7min 57s\n",
                        "Wall time: 8min 28s\n"
                    ]
                }
            ],
            "source": [
                "%%time\n",
                "ngrams_list=[1, 2, 3, 123]\n",
                "embedding_libraries_list = ['spacy', 'nltk', 'gensim']\n",
                "\n",
                "for embedding_library, ngram_num in tqdm_product(embedding_libraries_list, ngrams_list):\n",
                "    df_manual = df_manual.progress_apply(lambda row: get_abs_frequency(row=row, text_col='Job Description spacy_tokenized', ngram_num=ngram_num, embedding_library=embedding_library), axis='columns')\n"
            ]
        },
        {
            "cell_type": "code",
            "execution_count": 155,
            "id": "30affd16",
            "metadata": {},
            "outputs": [],
            "source": [
                "assert len(df_manual) > 0 and isinstance(df_manual, pd.DataFrame), f'ERORR: LENGTH OF DF = {len(df_manual)}'\n",
                "df_manual.to_pickle(f'{df_save_dir}df_manual_ngrams_frequency.pkl')\n",
                "df_manual.to_csv(f'{df_save_dir}df_manual_ngrams_frequency.csv', index=False)\n"
            ]
        },
        {
            "cell_type": "markdown",
            "id": "1670f255",
            "metadata": {},
            "source": [
                "# Create BoW dictionary, corpus, and tfidf matrix for uni, bi, and trigrams\n"
            ]
        },
        {
            "cell_type": "markdown",
            "id": "16989aa0",
            "metadata": {},
            "source": [
                "### START HERE IF SOURCING FROM df_manual_NGRAMS_FREQUENCY\n",
                "### PLEASE SET CORRECT DIRECTORY PATHS BELOW\n"
            ]
        },
        {
            "cell_type": "code",
            "execution_count": 156,
            "id": "051454b4",
            "metadata": {},
            "outputs": [],
            "source": [
                "import os # type:ignore # isort:skip # fmt:skip # noqa # nopep8\n",
                "import sys # type:ignore # isort:skip # fmt:skip # noqa # nopep8\n",
                "from pathlib import Path # type:ignore # isort:skip # fmt:skip # noqa # nopep8\n",
                "\n",
                "mod = sys.modules[__name__]\n",
                "\n",
                "code_dir = None\n",
                "code_dir_name = 'Code'\n",
                "unwanted_subdir_name = 'Analysis'\n",
                "\n",
                "for _ in range(5):\n",
                "\n",
                "    parent_path = str(Path.cwd().parents[_]).split('/')[-1]\n",
                "\n",
                "    if (code_dir_name in parent_path) and (unwanted_subdir_name not in parent_path):\n",
                "\n",
                "        code_dir = str(Path.cwd().parents[_])\n",
                "\n",
                "        if code_dir is not None:\n",
                "            break\n",
                "\n",
                "sys.path.append(code_dir)\n",
                "# %load_ext autoreload\n",
                "# %autoreload 2\n"
            ]
        },
        {
            "cell_type": "code",
            "execution_count": 157,
            "id": "e09d527a",
            "metadata": {},
            "outputs": [],
            "source": [
                "from setup_module.imports import * # type:ignore # isort:skip # fmt:skip # noqa # nopep8\n"
            ]
        },
        {
            "cell_type": "code",
            "execution_count": 158,
            "id": "57359916",
            "metadata": {},
            "outputs": [],
            "source": [
                "def get_corpus_and_dictionary(row, ngram_num, embedding_library):\n",
                "    \n",
                "    ngrams_original_list = row[f'Job Description {embedding_library}_{ngram_num}grams_original_list']\n",
                "    dictionary = Dictionary([ngrams_original_list])\n",
                "    BoW_corpus = [dictionary.doc2bow(ngrams_original_list)]\n",
                "    tfidf = TfidfModel(BoW_corpus, smartirs='ntc')\n",
                "    tfidf_matrix = [tfidf[doc] for doc in BoW_corpus]\n",
                "\n",
                "    row[f'Job Description {embedding_library}_{ngram_num}grams_dictionary'] = dictionary\n",
                "    row[f'Job Description {embedding_library}_{ngram_num}grams_BoW_corpus'] = BoW_corpus\n",
                "    row[f'Job Description {embedding_library}_{ngram_num}grams_tfidf'] = tfidf\n",
                "    row[f'Job Description {embedding_library}_{ngram_num}grams_tfidf_matrix'] = tfidf_matrix\n",
                "    \n",
                "    return row\n"
            ]
        },
        {
            "cell_type": "code",
            "execution_count": 159,
            "id": "30b00a00",
            "metadata": {},
            "outputs": [],
            "source": [
                "df_manual = pd.read_pickle(f'{df_save_dir}df_manual_ngrams_frequency.pkl').reset_index(drop=True)\n"
            ]
        },
        {
            "cell_type": "code",
            "execution_count": 160,
            "id": "ba6a2c99",
            "metadata": {},
            "outputs": [
                {
                    "data": {
                        "application/vnd.jupyter.widget-view+json": {
                            "model_id": "a8d6418f39a24b88876d53f19a95175e",
                            "version_major": 2,
                            "version_minor": 0
                        },
                        "text/plain": [
                            "  0%|          | 0/12 [00:00<?, ?it/s]"
                        ]
                    },
                    "metadata": {},
                    "output_type": "display_data"
                },
                {
                    "data": {
                        "application/vnd.jupyter.widget-view+json": {
                            "model_id": "82195f9081cc453fbe0da0a26f060027",
                            "version_major": 2,
                            "version_minor": 0
                        },
                        "text/plain": [
                            "progress-bar:   0%|          | 0/5978 [00:00<?, ?it/s]"
                        ]
                    },
                    "metadata": {},
                    "output_type": "display_data"
                },
                {
                    "data": {
                        "application/vnd.jupyter.widget-view+json": {
                            "model_id": "08d5cde701614275965f1952bab88dfe",
                            "version_major": 2,
                            "version_minor": 0
                        },
                        "text/plain": [
                            "progress-bar:   0%|          | 0/5978 [00:00<?, ?it/s]"
                        ]
                    },
                    "metadata": {},
                    "output_type": "display_data"
                },
                {
                    "data": {
                        "application/vnd.jupyter.widget-view+json": {
                            "model_id": "12d3b81866664a5ba1e622ef53364f65",
                            "version_major": 2,
                            "version_minor": 0
                        },
                        "text/plain": [
                            "progress-bar:   0%|          | 0/5978 [00:00<?, ?it/s]"
                        ]
                    },
                    "metadata": {},
                    "output_type": "display_data"
                },
                {
                    "data": {
                        "application/vnd.jupyter.widget-view+json": {
                            "model_id": "7dffb4c3f4ea496abc016b79b2b312f5",
                            "version_major": 2,
                            "version_minor": 0
                        },
                        "text/plain": [
                            "progress-bar:   0%|          | 0/5978 [00:00<?, ?it/s]"
                        ]
                    },
                    "metadata": {},
                    "output_type": "display_data"
                },
                {
                    "data": {
                        "application/vnd.jupyter.widget-view+json": {
                            "model_id": "f50682f839ab429bbcd2f523d8e6a144",
                            "version_major": 2,
                            "version_minor": 0
                        },
                        "text/plain": [
                            "progress-bar:   0%|          | 0/5978 [00:00<?, ?it/s]"
                        ]
                    },
                    "metadata": {},
                    "output_type": "display_data"
                },
                {
                    "data": {
                        "application/vnd.jupyter.widget-view+json": {
                            "model_id": "d8c0de27397e488eb140f866b5b9cc65",
                            "version_major": 2,
                            "version_minor": 0
                        },
                        "text/plain": [
                            "progress-bar:   0%|          | 0/5978 [00:00<?, ?it/s]"
                        ]
                    },
                    "metadata": {},
                    "output_type": "display_data"
                },
                {
                    "data": {
                        "application/vnd.jupyter.widget-view+json": {
                            "model_id": "2b0c1b1757b64824a319700099e1e445",
                            "version_major": 2,
                            "version_minor": 0
                        },
                        "text/plain": [
                            "progress-bar:   0%|          | 0/5978 [00:00<?, ?it/s]"
                        ]
                    },
                    "metadata": {},
                    "output_type": "display_data"
                },
                {
                    "data": {
                        "application/vnd.jupyter.widget-view+json": {
                            "model_id": "f71ce548ded64828b7002497ad015a6f",
                            "version_major": 2,
                            "version_minor": 0
                        },
                        "text/plain": [
                            "progress-bar:   0%|          | 0/5978 [00:00<?, ?it/s]"
                        ]
                    },
                    "metadata": {},
                    "output_type": "display_data"
                },
                {
                    "data": {
                        "application/vnd.jupyter.widget-view+json": {
                            "model_id": "fe8f235eee064440bb3ad0b713f9d871",
                            "version_major": 2,
                            "version_minor": 0
                        },
                        "text/plain": [
                            "progress-bar:   0%|          | 0/5978 [00:00<?, ?it/s]"
                        ]
                    },
                    "metadata": {},
                    "output_type": "display_data"
                },
                {
                    "data": {
                        "application/vnd.jupyter.widget-view+json": {
                            "model_id": "d65e1a4a86cd4f5e9f2338796fc4f03b",
                            "version_major": 2,
                            "version_minor": 0
                        },
                        "text/plain": [
                            "progress-bar:   0%|          | 0/5978 [00:00<?, ?it/s]"
                        ]
                    },
                    "metadata": {},
                    "output_type": "display_data"
                },
                {
                    "data": {
                        "application/vnd.jupyter.widget-view+json": {
                            "model_id": "d31e7538328749558ae518c838292bcc",
                            "version_major": 2,
                            "version_minor": 0
                        },
                        "text/plain": [
                            "progress-bar:   0%|          | 0/5978 [00:00<?, ?it/s]"
                        ]
                    },
                    "metadata": {},
                    "output_type": "display_data"
                },
                {
                    "data": {
                        "application/vnd.jupyter.widget-view+json": {
                            "model_id": "5e920a3d9c3b4f0b89014c87328d3ec0",
                            "version_major": 2,
                            "version_minor": 0
                        },
                        "text/plain": [
                            "progress-bar:   0%|          | 0/5978 [00:00<?, ?it/s]"
                        ]
                    },
                    "metadata": {},
                    "output_type": "display_data"
                },
                {
                    "name": "stdout",
                    "output_type": "stream",
                    "text": [
                        "CPU times: user 1min 13s, sys: 6.48 s, total: 1min 19s\n",
                        "Wall time: 1min 23s\n"
                    ]
                }
            ],
            "source": [
                "%%time\n",
                "ngrams_list=[1, 2, 3, 123]\n",
                "embedding_libraries_list = ['spacy', 'nltk', 'gensim']\n",
                "for embedding_library, ngram_num in tqdm_product(embedding_libraries_list, ngrams_list):\n",
                "    df_manual = df_manual.progress_apply(\n",
                "        lambda row: get_corpus_and_dictionary(\n",
                "            row=row, ngram_num=ngram_num, embedding_library=embedding_library\n",
                "        ),\n",
                "        axis='columns'\n",
                "    )\n",
                "\n",
                "assert len(df_manual) > 0 and isinstance(df_manual, pd.DataFrame), f'ERORR: LENGTH OF DF = {len(df_manual)}'\n",
                "df_manual.to_pickle(f'{df_save_dir}df_manual_ngrams_frequency.pkl')\n",
                "df_manual.to_csv(f'{df_save_dir}df_manual_ngrams_BoW.csv', index=False)\n"
            ]
        },
        {
            "cell_type": "code",
            "execution_count": 161,
            "id": "b51eae79",
            "metadata": {},
            "outputs": [
                {
                    "data": {
                        "text/plain": [
                            "Index(['% Sector per Workforce', '% per Sector', '% per Social Category', '% per Workforce', 'Age', 'Age_Mixed', 'Age_Num', 'Age_Older', 'Age_Older (>= 45 years)_% per Sector', 'Age_Older (>= 45 years)_% per Social Category',\n",
                            "       ...\n",
                            "       'Job Description gensim_2grams_tfidf', 'Job Description gensim_2grams_tfidf_matrix', 'Job Description gensim_3grams_dictionary', 'Job Description gensim_3grams_BoW_corpus', 'Job Description gensim_3grams_tfidf', 'Job Description gensim_3grams_tfidf_matrix', 'Job Description gensim_123grams_dictionary', 'Job Description gensim_123grams_BoW_corpus', 'Job Description gensim_123grams_tfidf', 'Job Description gensim_123grams_tfidf_matrix'], dtype='object', length=183)"
                        ]
                    },
                    "execution_count": 161,
                    "metadata": {},
                    "output_type": "execute_result"
                }
            ],
            "source": [
                "df_manual.columns\n"
            ]
        },
        {
            "cell_type": "code",
            "execution_count": 162,
            "id": "a03d8769",
            "metadata": {},
            "outputs": [],
            "source": [
                "assert len(df_manual) > 0 and isinstance(df_manual, pd.DataFrame), f'ERORR: LENGTH OF DF = {len(df_manual)}'\n",
                "df_manual.to_pickle(f'{df_save_dir}df_manual_ngrams_BoW.pkl')\n",
                "df_manual.to_csv(f'{df_save_dir}df_manual_ngrams_BoW.csv', index=False)\n"
            ]
        },
        {
            "cell_type": "markdown",
            "id": "ec31f120",
            "metadata": {},
            "source": [
                "# ATTN: This script should be run AFTER all bi and trigrams (spacy, nltk, and gensim) completed.\n"
            ]
        },
        {
            "cell_type": "markdown",
            "id": "c976d079",
            "metadata": {},
            "source": [
                "# Use spacy and nltk for sentiment scoring\n"
            ]
        },
        {
            "cell_type": "markdown",
            "id": "d61138e8",
            "metadata": {},
            "source": [
                "### START HERE IF SOURCING FROM df_manual_NGRAMS_BOW\n",
                "### PLEASE SET CORRECT DIRECTORY PATHS BELOW\n"
            ]
        },
        {
            "cell_type": "code",
            "execution_count": 163,
            "id": "47bdc9a2",
            "metadata": {},
            "outputs": [],
            "source": [
                "import os # type:ignore # isort:skip # fmt:skip # noqa # nopep8\n",
                "import sys # type:ignore # isort:skip # fmt:skip # noqa # nopep8\n",
                "from pathlib import Path # type:ignore # isort:skip # fmt:skip # noqa # nopep8\n",
                "\n",
                "mod = sys.modules[__name__]\n",
                "\n",
                "code_dir = None\n",
                "code_dir_name = 'Code'\n",
                "unwanted_subdir_name = 'Analysis'\n",
                "\n",
                "for _ in range(5):\n",
                "\n",
                "    parent_path = str(Path.cwd().parents[_]).split('/')[-1]\n",
                "\n",
                "    if (code_dir_name in parent_path) and (unwanted_subdir_name not in parent_path):\n",
                "\n",
                "        code_dir = str(Path.cwd().parents[_])\n",
                "\n",
                "        if code_dir is not None:\n",
                "            break\n",
                "\n",
                "sys.path.append(code_dir)\n",
                "# %load_ext autoreload\n",
                "# %autoreload 2\n"
            ]
        },
        {
            "cell_type": "code",
            "execution_count": 164,
            "id": "d1bc37fc",
            "metadata": {},
            "outputs": [],
            "source": [
                "from setup_module.imports import * # type:ignore # isort:skip # fmt:skip # noqa # nopep8\n"
            ]
        },
        {
            "cell_type": "code",
            "execution_count": 165,
            "id": "25a35056",
            "metadata": {},
            "outputs": [],
            "source": [
                "df_manual = pd.read_pickle(f'{df_save_dir}df_manual_ngrams_BoW.pkl').reset_index(drop=True)\n"
            ]
        },
        {
            "cell_type": "code",
            "execution_count": 166,
            "id": "795034b1",
            "metadata": {},
            "outputs": [
                {
                    "data": {
                        "application/vnd.jupyter.widget-view+json": {
                            "model_id": "039d1c5f667545b996fad495a718b7fc",
                            "version_major": 2,
                            "version_minor": 0
                        },
                        "text/plain": [
                            "progress-bar:   0%|          | 0/5978 [00:00<?, ?it/s]"
                        ]
                    },
                    "metadata": {},
                    "output_type": "display_data"
                },
                {
                    "name": "stdout",
                    "output_type": "stream",
                    "text": [
                        "CPU times: user 29.4 s, sys: 1.01 s, total: 30.4 s\n",
                        "Wall time: 31.5 s\n"
                    ]
                }
            ],
            "source": [
                "%%time\n",
                "# Spacy sentiment\n",
                "if 'spacytextblob' not in nlp.pipe_names:\n",
                "    nlp.add_pipe('spacytextblob')\n",
                "\n",
                "df_manual['Job Description spacy_sentiment'] = df_manual['Job Description spacy_sentencized'].progress_apply(\n",
                "    lambda sentence: float(nlp(sentence)._.blob.polarity)\n",
                "    if isinstance(sentence, str) else np.nan\n",
                ")\n"
            ]
        },
        {
            "cell_type": "code",
            "execution_count": 167,
            "id": "58173ce5",
            "metadata": {},
            "outputs": [
                {
                    "data": {
                        "application/vnd.jupyter.widget-view+json": {
                            "model_id": "8f9e9b7161b14df3aedb5805a700cfb1",
                            "version_major": 2,
                            "version_minor": 0
                        },
                        "text/plain": [
                            "progress-bar:   0%|          | 0/5978 [00:00<?, ?it/s]"
                        ]
                    },
                    "metadata": {},
                    "output_type": "display_data"
                },
                {
                    "name": "stdout",
                    "output_type": "stream",
                    "text": [
                        "CPU times: user 567 ms, sys: 19.3 ms, total: 587 ms\n",
                        "Wall time: 596 ms\n"
                    ]
                }
            ],
            "source": [
                "%%time\n",
                "# NLTK sentiment\n",
                "df_manual['Job Description nltk_sentiment'] = df_manual['Job Description spacy_sentencized'].progress_apply(\n",
                "    lambda sentence: float(sentim_analyzer.polarity_scores(sentence)['compound'])\n",
                "    if isinstance(sentence, str) else np.nan\n",
                ")\n"
            ]
        },
        {
            "cell_type": "code",
            "execution_count": 168,
            "id": "ec80fe6a",
            "metadata": {},
            "outputs": [],
            "source": [
                "assert len(df_manual) > 0 and isinstance(df_manual, pd.DataFrame), f'ERORR: LENGTH OF DF = {len(df_manual)}'\n",
                "df_manual.to_pickle(f'{df_save_dir}df_manual_sentiment_spacy_nltk.pkl')\n",
                "df_manual.to_csv(f'{df_save_dir}df_manual_sentiment_spacy_nltk.csv', index=False)\n"
            ]
        },
        {
            "cell_type": "markdown",
            "id": "9db5cf4e",
            "metadata": {},
            "source": [
                "# ATTN: This script should be run AFTER all sentiment scoring (spacy and nltk) completed.\n"
            ]
        },
        {
            "cell_type": "markdown",
            "id": "baad73af",
            "metadata": {},
            "source": [
                "### START HERE IF SOURCING FROM df_manual_SENTIMENT_SPACY_NLTK\n",
                "### PLEASE SET CORRECT DIRECTORY PATHS BELOW\n"
            ]
        },
        {
            "cell_type": "markdown",
            "id": "48122d98",
            "metadata": {},
            "source": [
                "# Word2Vec and FastText embeddings\n"
            ]
        },
        {
            "cell_type": "code",
            "execution_count": 169,
            "id": "57105477",
            "metadata": {},
            "outputs": [],
            "source": [
                "import os # type:ignore # isort:skip # fmt:skip # noqa # nopep8\n",
                "import sys # type:ignore # isort:skip # fmt:skip # noqa # nopep8\n",
                "from pathlib import Path # type:ignore # isort:skip # fmt:skip # noqa # nopep8\n",
                "\n",
                "mod = sys.modules[__name__]\n",
                "\n",
                "code_dir = None\n",
                "code_dir_name = 'Code'\n",
                "unwanted_subdir_name = 'Analysis'\n",
                "\n",
                "for _ in range(5):\n",
                "\n",
                "    parent_path = str(Path.cwd().parents[_]).split('/')[-1]\n",
                "\n",
                "    if (code_dir_name in parent_path) and (unwanted_subdir_name not in parent_path):\n",
                "\n",
                "        code_dir = str(Path.cwd().parents[_])\n",
                "\n",
                "        if code_dir is not None:\n",
                "            break\n",
                "\n",
                "sys.path.append(code_dir)\n",
                "# %load_ext autoreload\n",
                "# %autoreload 2\n"
            ]
        },
        {
            "cell_type": "code",
            "execution_count": 170,
            "id": "fb13e58e",
            "metadata": {},
            "outputs": [],
            "source": [
                "from setup_module.imports import *  # type:ignore # isort:skip # fmt:skip # noqa # nopep8\n"
            ]
        },
        {
            "cell_type": "code",
            "execution_count": 171,
            "id": "91117606",
            "metadata": {},
            "outputs": [],
            "source": [
                "def build_train_word2vec(df, ngram_number, embedding_library, size = 300, words=None, t = time.time(), cores = multiprocessing.cpu_count()):\n",
                "    if words is None:\n",
                "        words = [\n",
                "            'she',\n",
                "            'he',\n",
                "            'support',\n",
                "            'leader',\n",
                "            'management',\n",
                "            'team',\n",
                "            'business',\n",
                "            'customer',\n",
                "            'risk',\n",
                "            'build',\n",
                "            'computer',\n",
                "            'programmer',\n",
                "        ]\n",
                "    sentences = df[f'Job Description {embedding_library}_{ngram_number}grams_original_list'].values\n",
                "\n",
                "    w2v_model = Word2Vec(\n",
                "        sentences=sentences,\n",
                "        vector_size=size,\n",
                "        min_count=0,\n",
                "        window=2,\n",
                "        sample=6e-5,\n",
                "        alpha=0.03,\n",
                "        min_alpha=0.0007,\n",
                "        negative=20,\n",
                "        workers=cores - 1,\n",
                "        sg = 1,\n",
                "    )\n",
                "\n",
                "    w2v_model.build_vocab(sentences, progress_per=10000)\n",
                "    print(f'Time to train the model for {size}: {round((time.time() - t) / 60, 2)} mins')\n",
                "\n",
                "    w2v_model.train(\n",
                "        sentences,\n",
                "        total_examples=w2v_model.corpus_count,\n",
                "        epochs=30,\n",
                "        report_delay=1,\n",
                "    )\n",
                "\n",
                "    print(f'Time to build w2v_vocab for {size}: {round((time.time() - t) / 60, 2)} mins')\n",
                "    w2v_vocab = list(w2v_model.wv.index_to_key)\n",
                "\n",
                "    print(f'Checking words form list of length {len(words)}')\n",
                "    print(f'WORDS LIST: {words}')\n",
                "\n",
                "#     for word in words:\n",
                "#         print(f'Checking word:\\n{word.upper()}:')\n",
                "#         try:\n",
                "# #             print(f'Word2Vec {size}: {w2v_model.wv[word]}')\n",
                "#             print(f'Length of {size} model vobal: {len(w2v_vocab)}')\n",
                "#             print(f'{size} - Positive most similar to {word}: {w2v_model.wv.most_similar(positive=word, topn=5)}')\n",
                "#             print(f'{size} - Negative most similar to {word}: {w2v_model.wv.most_similar(negative=word, topn=5)}')\n",
                "\n",
                "#         except KeyError as e:\n",
                "#             print(e)\n",
                "\n",
                "    return w2v_vocab, w2v_model\n",
                "\n",
                "def word2vec_embeddings(sentences, w2v_vocab, w2v_model, size=300):\n",
                "\n",
                "    sentences = [word for word in sentences if word in w2v_vocab]\n",
                "\n",
                "    return (\n",
                "        np.mean(w2v_model.wv[sentences], axis=0)\n",
                "        if sentences\n",
                "        else np.zeros(size)\n",
                "    )\n",
                "\n"
            ]
        },
        {
            "cell_type": "code",
            "execution_count": 172,
            "id": "69dc70f3",
            "metadata": {},
            "outputs": [],
            "source": [
                "def build_train_fasttext(df, ngram_number, embedding_library, size = 300, words=None, t = time.time(), cores = multiprocessing.cpu_count()):\n",
                "    if words is None:\n",
                "        words = [\n",
                "            'she',\n",
                "            'he',\n",
                "            'support',\n",
                "            'leader',\n",
                "            'management',\n",
                "            'team',\n",
                "            'business',\n",
                "            'customer',\n",
                "            'risk',\n",
                "            'build',\n",
                "            'computer',\n",
                "            'programmer',\n",
                "        ]\n",
                "    sentences = df[f'Job Description {embedding_library}_{ngram_number}grams_original_list'].values\n",
                "\n",
                "    ft_model = FastText(\n",
                "        sentences=sentences,\n",
                "        vector_size=size,\n",
                "        min_count=0,\n",
                "        window=2,\n",
                "        sample=6e-5,\n",
                "        alpha=0.03,\n",
                "        min_alpha=0.0007,\n",
                "        negative=20,\n",
                "        workers=cores - 1,\n",
                "        sg = 1,\n",
                "    )\n",
                "\n",
                "    ft_model.build_vocab(sentences, progress_per=10000)\n",
                "    print(f'Time to train the model for {size}: {round((time.time() - t) / 60, 2)} mins')\n",
                "\n",
                "    ft_model.train(\n",
                "        sentences,\n",
                "        total_examples=ft_model.corpus_count,\n",
                "        epochs=30,\n",
                "        report_delay=1,\n",
                "    )\n",
                "\n",
                "    print(f'Time to build vocab for {size}: {round((time.time() - t) / 60, 2)} mins')\n",
                "    ft_vocab = list(ft_model.wv.index_to_key)\n",
                "\n",
                "    print(f'Checking words form list of length {len(words)}')\n",
                "    print(f'WORDS LIST: {words}')\n",
                "\n",
                "#     for word in words:\n",
                "#         print(f'Checking word:\\n{word.upper()}:')\n",
                "#         try:\n",
                "# #             print(f'FastText {size}: {ft_model_300.wv[word]}')\n",
                "#             print(f'Length of {size} model vobal: {len(ft_vocab)}')\n",
                "#             print(f'{size} - Positive most similar to {word}: {ft_model.wv.most_similar(positive=word, topn=5)}')\n",
                "#             print(f'{size} - Negative most similar to {word}: {ft_model.wv.most_similar(negative=word, topn=5)}')\n",
                "\n",
                "#         except KeyError as e:\n",
                "#             print(e)\n",
                "\n",
                "    return ft_vocab, ft_model\n",
                "\n",
                "def fasttext_embeddings(sentences, ft_vocab, ft_model, size=300):\n",
                "\n",
                "    sentences = [word for word in sentences if word in ft_vocab]\n",
                "\n",
                "    return np.mean(ft_model.wv[sentences], axis=0) if sentences else np.zeros(size)\n"
            ]
        },
        {
            "cell_type": "code",
            "execution_count": 173,
            "id": "b6d43d45",
            "metadata": {},
            "outputs": [],
            "source": [
                "def get_glove(glove_file = f'{llm_path}/gensim/glove/glove.840B.300d.txt'):\n",
                "    embeddings_index = {}\n",
                "    with open(glove_file, 'r', encoding='utf8') as glove:\n",
                "\n",
                "        for line in glove:\n",
                "            values = line.split()\n",
                "            word = values[0]\n",
                "\n",
                "            with contextlib.suppress(ValueError):\n",
                "                coefs = np.asarray(values[1:], dtype='float32')\n",
                "                embeddings_index[word] = coefs\n",
                "    print(f'Found {len(embeddings_index)} word vectors.')\n",
                "\n",
                "    return embeddings_index\n"
            ]
        },
        {
            "cell_type": "code",
            "execution_count": 174,
            "id": "1022f815",
            "metadata": {},
            "outputs": [],
            "source": [
                "def sent2vec(sentences, embeddings_index=None, external_glove=True, extra_preprocessing_enabled=False):\n",
                "\n",
                "    if external_glove is False and embeddings_index is None:\n",
                "        embeddings_index= get_glove()\n",
                "\n",
                "    if extra_preprocessing_enabled is False:\n",
                "        words = sentences\n",
                "\n",
                "    elif extra_preprocessing_enabled is True:\n",
                "        stop_words = set(sw.words('english'))\n",
                "        words = str(sentences).lower()\n",
                "        words = word_tokenize(words)\n",
                "        words = [w for w in words if (w not in stop_words) and (w.isalpha())]\n",
                "\n",
                "    M = []\n",
                "\n",
                "    try:\n",
                "        for w in words:\n",
                "            try:\n",
                "                M.append(embeddings_index[w])\n",
                "            except Exception:\n",
                "                continue\n",
                "\n",
                "        M = np.array(M)\n",
                "        v = M.sum(axis='index')\n",
                "        return np.zeros(300) if type(v) != np.ndarray else v / np.sqrt((v ** 2).sum())\n",
                "\n",
                "    except Exception:\n",
                "        return np.zeros(300)\n"
            ]
        },
        {
            "cell_type": "code",
            "execution_count": 175,
            "id": "a512f2b4",
            "metadata": {},
            "outputs": [],
            "source": [
                "df_manual = pd.read_pickle(f'{df_save_dir}df_manual_sentiment_spacy_nltk.pkl').reset_index(drop=True)\n"
            ]
        },
        {
            "cell_type": "code",
            "execution_count": 176,
            "id": "5c0675fd",
            "metadata": {},
            "outputs": [],
            "source": [
                "embedding_models_dict = {\n",
                "    'w2v': [build_train_word2vec, word2vec_embeddings, Word2Vec],\n",
                "    'ft': [build_train_fasttext, fasttext_embeddings, FastText],\n",
                "}\n"
            ]
        },
        {
            "cell_type": "code",
            "execution_count": 177,
            "id": "bd6f55d3",
            "metadata": {},
            "outputs": [
                {
                    "data": {
                        "application/vnd.jupyter.widget-view+json": {
                            "model_id": "d158576e658b4095a16cad8364459c7a",
                            "version_major": 2,
                            "version_minor": 0
                        },
                        "text/plain": [
                            "  0%|          | 0/12 [00:00<?, ?it/s]"
                        ]
                    },
                    "metadata": {},
                    "output_type": "display_data"
                },
                {
                    "name": "stdout",
                    "output_type": "stream",
                    "text": [
                        "Building spacy_1grams model and vocabulary.\n",
                        "Building w2v from word2vec_embeddings function.\n"
                    ]
                },
                {
                    "name": "stderr",
                    "output_type": "stream",
                    "text": [
                        "WARNING:gensim.models.keyedvectors:sorting after vectors have been allocated is expensive & error-prone\n",
                        "WARNING:gensim.models.word2vec:Effective 'alpha' higher than previous training cycles\n"
                    ]
                },
                {
                    "name": "stdout",
                    "output_type": "stream",
                    "text": [
                        "Time to train the model for 300: 0.09 mins\n",
                        "Time to build w2v_vocab for 300: 0.16 mins\n",
                        "Checking words form list of length 12\n",
                        "WORDS LIST: ['she', 'he', 'support', 'leader', 'management', 'team', 'business', 'customer', 'risk', 'build', 'computer', 'programmer']\n",
                        "Getting w2v embeddings.\n"
                    ]
                },
                {
                    "data": {
                        "application/vnd.jupyter.widget-view+json": {
                            "model_id": "d744f27c19b64d05be0841f4b5c3dd1d",
                            "version_major": 2,
                            "version_minor": 0
                        },
                        "text/plain": [
                            "progress-bar:   0%|          | 0/5978 [00:00<?, ?it/s]"
                        ]
                    },
                    "metadata": {},
                    "output_type": "display_data"
                },
                {
                    "name": "stdout",
                    "output_type": "stream",
                    "text": [
                        "Building ft from fasttext_embeddings function.\n"
                    ]
                },
                {
                    "name": "stderr",
                    "output_type": "stream",
                    "text": [
                        "WARNING:gensim.models.keyedvectors:sorting after vectors have been allocated is expensive & error-prone\n",
                        "WARNING:gensim.models.word2vec:Effective 'alpha' higher than previous training cycles\n"
                    ]
                },
                {
                    "name": "stdout",
                    "output_type": "stream",
                    "text": [
                        "Time to train the model for 300: 0.32 mins\n",
                        "Time to build vocab for 300: 0.46 mins\n",
                        "Checking words form list of length 12\n",
                        "WORDS LIST: ['she', 'he', 'support', 'leader', 'management', 'team', 'business', 'customer', 'risk', 'build', 'computer', 'programmer']\n",
                        "Getting ft embeddings.\n"
                    ]
                },
                {
                    "data": {
                        "application/vnd.jupyter.widget-view+json": {
                            "model_id": "ec4ff398e67346ae8f8e669e2b4e4551",
                            "version_major": 2,
                            "version_minor": 0
                        },
                        "text/plain": [
                            "progress-bar:   0%|          | 0/5978 [00:00<?, ?it/s]"
                        ]
                    },
                    "metadata": {},
                    "output_type": "display_data"
                },
                {
                    "name": "stdout",
                    "output_type": "stream",
                    "text": [
                        "Getting sent2vec embeddings.\n",
                        "Found 2195885 word vectors.\n"
                    ]
                },
                {
                    "data": {
                        "application/vnd.jupyter.widget-view+json": {
                            "model_id": "afa3834bdd6d4db69e6eafebda9aa2b1",
                            "version_major": 2,
                            "version_minor": 0
                        },
                        "text/plain": [
                            "progress-bar:   0%|          | 0/5978 [00:00<?, ?it/s]"
                        ]
                    },
                    "metadata": {},
                    "output_type": "display_data"
                },
                {
                    "name": "stdout",
                    "output_type": "stream",
                    "text": [
                        "Done getting sent2vec embeddings.\n",
                        "Building spacy_2grams model and vocabulary.\n",
                        "Building w2v from word2vec_embeddings function.\n"
                    ]
                },
                {
                    "name": "stderr",
                    "output_type": "stream",
                    "text": [
                        "WARNING:gensim.models.keyedvectors:sorting after vectors have been allocated is expensive & error-prone\n",
                        "WARNING:gensim.models.word2vec:Effective 'alpha' higher than previous training cycles\n"
                    ]
                },
                {
                    "name": "stdout",
                    "output_type": "stream",
                    "text": [
                        "Time to train the model for 300: 1.75 mins\n",
                        "Time to build w2v_vocab for 300: 1.77 mins\n",
                        "Checking words form list of length 12\n",
                        "WORDS LIST: ['she', 'he', 'support', 'leader', 'management', 'team', 'business', 'customer', 'risk', 'build', 'computer', 'programmer']\n",
                        "Getting w2v embeddings.\n"
                    ]
                },
                {
                    "data": {
                        "application/vnd.jupyter.widget-view+json": {
                            "model_id": "7e3aaf488360466cb3073d1e28b4e792",
                            "version_major": 2,
                            "version_minor": 0
                        },
                        "text/plain": [
                            "progress-bar:   0%|          | 0/5978 [00:00<?, ?it/s]"
                        ]
                    },
                    "metadata": {},
                    "output_type": "display_data"
                },
                {
                    "name": "stdout",
                    "output_type": "stream",
                    "text": [
                        "Building ft from fasttext_embeddings function.\n"
                    ]
                },
                {
                    "name": "stderr",
                    "output_type": "stream",
                    "text": [
                        "WARNING:gensim.models.keyedvectors:sorting after vectors have been allocated is expensive & error-prone\n",
                        "WARNING:gensim.models.word2vec:Effective 'alpha' higher than previous training cycles\n"
                    ]
                },
                {
                    "name": "stdout",
                    "output_type": "stream",
                    "text": [
                        "Time to train the model for 300: 1.87 mins\n",
                        "Time to build vocab for 300: 1.96 mins\n",
                        "Checking words form list of length 12\n",
                        "WORDS LIST: ['she', 'he', 'support', 'leader', 'management', 'team', 'business', 'customer', 'risk', 'build', 'computer', 'programmer']\n",
                        "Getting ft embeddings.\n"
                    ]
                },
                {
                    "data": {
                        "application/vnd.jupyter.widget-view+json": {
                            "model_id": "792a6a1afd454820bee10e6bafb534d0",
                            "version_major": 2,
                            "version_minor": 0
                        },
                        "text/plain": [
                            "progress-bar:   0%|          | 0/5978 [00:00<?, ?it/s]"
                        ]
                    },
                    "metadata": {},
                    "output_type": "display_data"
                },
                {
                    "name": "stdout",
                    "output_type": "stream",
                    "text": [
                        "Getting sent2vec embeddings.\n",
                        "Found 2195885 word vectors.\n"
                    ]
                },
                {
                    "data": {
                        "application/vnd.jupyter.widget-view+json": {
                            "model_id": "470158c64b28422e84812c29c2e398c2",
                            "version_major": 2,
                            "version_minor": 0
                        },
                        "text/plain": [
                            "progress-bar:   0%|          | 0/5978 [00:00<?, ?it/s]"
                        ]
                    },
                    "metadata": {},
                    "output_type": "display_data"
                },
                {
                    "name": "stdout",
                    "output_type": "stream",
                    "text": [
                        "Done getting sent2vec embeddings.\n",
                        "Building spacy_3grams model and vocabulary.\n",
                        "Building w2v from word2vec_embeddings function.\n"
                    ]
                },
                {
                    "name": "stderr",
                    "output_type": "stream",
                    "text": [
                        "WARNING:gensim.models.keyedvectors:sorting after vectors have been allocated is expensive & error-prone\n",
                        "WARNING:gensim.models.word2vec:Effective 'alpha' higher than previous training cycles\n"
                    ]
                },
                {
                    "name": "stdout",
                    "output_type": "stream",
                    "text": [
                        "Time to train the model for 300: 3.59 mins\n",
                        "Time to build w2v_vocab for 300: 3.59 mins\n",
                        "Checking words form list of length 12\n",
                        "WORDS LIST: ['she', 'he', 'support', 'leader', 'management', 'team', 'business', 'customer', 'risk', 'build', 'computer', 'programmer']\n",
                        "Getting w2v embeddings.\n"
                    ]
                },
                {
                    "data": {
                        "application/vnd.jupyter.widget-view+json": {
                            "model_id": "1f3e9e76a0da428aad49133c1bb15846",
                            "version_major": 2,
                            "version_minor": 0
                        },
                        "text/plain": [
                            "progress-bar:   0%|          | 0/5978 [00:00<?, ?it/s]"
                        ]
                    },
                    "metadata": {},
                    "output_type": "display_data"
                },
                {
                    "name": "stdout",
                    "output_type": "stream",
                    "text": [
                        "Building ft from fasttext_embeddings function.\n"
                    ]
                },
                {
                    "name": "stderr",
                    "output_type": "stream",
                    "text": [
                        "WARNING:gensim.models.keyedvectors:sorting after vectors have been allocated is expensive & error-prone\n",
                        "WARNING:gensim.models.word2vec:Effective 'alpha' higher than previous training cycles\n"
                    ]
                },
                {
                    "name": "stdout",
                    "output_type": "stream",
                    "text": [
                        "Time to train the model for 300: 3.65 mins\n",
                        "Time to build vocab for 300: 3.66 mins\n",
                        "Checking words form list of length 12\n",
                        "WORDS LIST: ['she', 'he', 'support', 'leader', 'management', 'team', 'business', 'customer', 'risk', 'build', 'computer', 'programmer']\n",
                        "Getting ft embeddings.\n"
                    ]
                },
                {
                    "data": {
                        "application/vnd.jupyter.widget-view+json": {
                            "model_id": "abb6f61519ef49bda78e9c33141de70e",
                            "version_major": 2,
                            "version_minor": 0
                        },
                        "text/plain": [
                            "progress-bar:   0%|          | 0/5978 [00:00<?, ?it/s]"
                        ]
                    },
                    "metadata": {},
                    "output_type": "display_data"
                },
                {
                    "name": "stdout",
                    "output_type": "stream",
                    "text": [
                        "Getting sent2vec embeddings.\n",
                        "Found 2195885 word vectors.\n"
                    ]
                },
                {
                    "data": {
                        "application/vnd.jupyter.widget-view+json": {
                            "model_id": "5eb029a7ea2a4c0085278bc2ef57116d",
                            "version_major": 2,
                            "version_minor": 0
                        },
                        "text/plain": [
                            "progress-bar:   0%|          | 0/5978 [00:00<?, ?it/s]"
                        ]
                    },
                    "metadata": {},
                    "output_type": "display_data"
                },
                {
                    "name": "stdout",
                    "output_type": "stream",
                    "text": [
                        "Done getting sent2vec embeddings.\n",
                        "Building spacy_123grams model and vocabulary.\n",
                        "Building w2v from word2vec_embeddings function.\n"
                    ]
                },
                {
                    "name": "stderr",
                    "output_type": "stream",
                    "text": [
                        "WARNING:gensim.models.keyedvectors:sorting after vectors have been allocated is expensive & error-prone\n",
                        "WARNING:gensim.models.word2vec:Effective 'alpha' higher than previous training cycles\n"
                    ]
                },
                {
                    "name": "stdout",
                    "output_type": "stream",
                    "text": [
                        "Time to train the model for 300: 5.09 mins\n",
                        "Time to build w2v_vocab for 300: 5.17 mins\n",
                        "Checking words form list of length 12\n",
                        "WORDS LIST: ['she', 'he', 'support', 'leader', 'management', 'team', 'business', 'customer', 'risk', 'build', 'computer', 'programmer']\n",
                        "Getting w2v embeddings.\n"
                    ]
                },
                {
                    "data": {
                        "application/vnd.jupyter.widget-view+json": {
                            "model_id": "db798c9590c94334ae2a56a243f39029",
                            "version_major": 2,
                            "version_minor": 0
                        },
                        "text/plain": [
                            "progress-bar:   0%|          | 0/5978 [00:00<?, ?it/s]"
                        ]
                    },
                    "metadata": {},
                    "output_type": "display_data"
                },
                {
                    "name": "stdout",
                    "output_type": "stream",
                    "text": [
                        "Building ft from fasttext_embeddings function.\n"
                    ]
                },
                {
                    "name": "stderr",
                    "output_type": "stream",
                    "text": [
                        "WARNING:gensim.models.keyedvectors:sorting after vectors have been allocated is expensive & error-prone\n",
                        "WARNING:gensim.models.word2vec:Effective 'alpha' higher than previous training cycles\n"
                    ]
                },
                {
                    "name": "stdout",
                    "output_type": "stream",
                    "text": [
                        "Time to train the model for 300: 5.3 mins\n",
                        "Time to build vocab for 300: 5.48 mins\n",
                        "Checking words form list of length 12\n",
                        "WORDS LIST: ['she', 'he', 'support', 'leader', 'management', 'team', 'business', 'customer', 'risk', 'build', 'computer', 'programmer']\n",
                        "Getting ft embeddings.\n"
                    ]
                },
                {
                    "data": {
                        "application/vnd.jupyter.widget-view+json": {
                            "model_id": "03cd1d80f3dc408d9044bd6402c2db75",
                            "version_major": 2,
                            "version_minor": 0
                        },
                        "text/plain": [
                            "progress-bar:   0%|          | 0/5978 [00:00<?, ?it/s]"
                        ]
                    },
                    "metadata": {},
                    "output_type": "display_data"
                },
                {
                    "name": "stdout",
                    "output_type": "stream",
                    "text": [
                        "Getting sent2vec embeddings.\n",
                        "Found 2195885 word vectors.\n"
                    ]
                },
                {
                    "data": {
                        "application/vnd.jupyter.widget-view+json": {
                            "model_id": "4c15e9f5e92c43c58c391aa01fc534ca",
                            "version_major": 2,
                            "version_minor": 0
                        },
                        "text/plain": [
                            "progress-bar:   0%|          | 0/5978 [00:00<?, ?it/s]"
                        ]
                    },
                    "metadata": {},
                    "output_type": "display_data"
                },
                {
                    "name": "stdout",
                    "output_type": "stream",
                    "text": [
                        "Done getting sent2vec embeddings.\n",
                        "Building nltk_1grams model and vocabulary.\n",
                        "Building w2v from word2vec_embeddings function.\n"
                    ]
                },
                {
                    "name": "stderr",
                    "output_type": "stream",
                    "text": [
                        "WARNING:gensim.models.keyedvectors:sorting after vectors have been allocated is expensive & error-prone\n",
                        "WARNING:gensim.models.word2vec:Effective 'alpha' higher than previous training cycles\n"
                    ]
                },
                {
                    "name": "stdout",
                    "output_type": "stream",
                    "text": [
                        "Time to train the model for 300: 6.92 mins\n",
                        "Time to build w2v_vocab for 300: 6.98 mins\n",
                        "Checking words form list of length 12\n",
                        "WORDS LIST: ['she', 'he', 'support', 'leader', 'management', 'team', 'business', 'customer', 'risk', 'build', 'computer', 'programmer']\n",
                        "Getting w2v embeddings.\n"
                    ]
                },
                {
                    "data": {
                        "application/vnd.jupyter.widget-view+json": {
                            "model_id": "c118e7414e594cc5869d1fc1da2ebf77",
                            "version_major": 2,
                            "version_minor": 0
                        },
                        "text/plain": [
                            "progress-bar:   0%|          | 0/5978 [00:00<?, ?it/s]"
                        ]
                    },
                    "metadata": {},
                    "output_type": "display_data"
                },
                {
                    "name": "stdout",
                    "output_type": "stream",
                    "text": [
                        "Building ft from fasttext_embeddings function.\n"
                    ]
                },
                {
                    "name": "stderr",
                    "output_type": "stream",
                    "text": [
                        "WARNING:gensim.models.keyedvectors:sorting after vectors have been allocated is expensive & error-prone\n",
                        "WARNING:gensim.models.word2vec:Effective 'alpha' higher than previous training cycles\n"
                    ]
                },
                {
                    "name": "stdout",
                    "output_type": "stream",
                    "text": [
                        "Time to train the model for 300: 7.05 mins\n",
                        "Time to build vocab for 300: 7.16 mins\n",
                        "Checking words form list of length 12\n",
                        "WORDS LIST: ['she', 'he', 'support', 'leader', 'management', 'team', 'business', 'customer', 'risk', 'build', 'computer', 'programmer']\n",
                        "Getting ft embeddings.\n"
                    ]
                },
                {
                    "data": {
                        "application/vnd.jupyter.widget-view+json": {
                            "model_id": "cfa7088891884b9eb2d2dde17f45eded",
                            "version_major": 2,
                            "version_minor": 0
                        },
                        "text/plain": [
                            "progress-bar:   0%|          | 0/5978 [00:00<?, ?it/s]"
                        ]
                    },
                    "metadata": {},
                    "output_type": "display_data"
                },
                {
                    "name": "stdout",
                    "output_type": "stream",
                    "text": [
                        "Getting sent2vec embeddings.\n",
                        "Found 2195885 word vectors.\n"
                    ]
                },
                {
                    "data": {
                        "application/vnd.jupyter.widget-view+json": {
                            "model_id": "9589c62cda144d76a7b7f7731457d96d",
                            "version_major": 2,
                            "version_minor": 0
                        },
                        "text/plain": [
                            "progress-bar:   0%|          | 0/5978 [00:00<?, ?it/s]"
                        ]
                    },
                    "metadata": {},
                    "output_type": "display_data"
                },
                {
                    "name": "stdout",
                    "output_type": "stream",
                    "text": [
                        "Done getting sent2vec embeddings.\n",
                        "Building nltk_2grams model and vocabulary.\n",
                        "Building w2v from word2vec_embeddings function.\n"
                    ]
                },
                {
                    "name": "stderr",
                    "output_type": "stream",
                    "text": [
                        "WARNING:gensim.models.keyedvectors:sorting after vectors have been allocated is expensive & error-prone\n",
                        "WARNING:gensim.models.word2vec:Effective 'alpha' higher than previous training cycles\n"
                    ]
                },
                {
                    "name": "stdout",
                    "output_type": "stream",
                    "text": [
                        "Time to train the model for 300: 8.54 mins\n",
                        "Time to build w2v_vocab for 300: 8.68 mins\n",
                        "Checking words form list of length 12\n",
                        "WORDS LIST: ['she', 'he', 'support', 'leader', 'management', 'team', 'business', 'customer', 'risk', 'build', 'computer', 'programmer']\n",
                        "Getting w2v embeddings.\n"
                    ]
                },
                {
                    "data": {
                        "application/vnd.jupyter.widget-view+json": {
                            "model_id": "10ff661790e54204984176aa7288e050",
                            "version_major": 2,
                            "version_minor": 0
                        },
                        "text/plain": [
                            "progress-bar:   0%|          | 0/5978 [00:00<?, ?it/s]"
                        ]
                    },
                    "metadata": {},
                    "output_type": "display_data"
                },
                {
                    "name": "stdout",
                    "output_type": "stream",
                    "text": [
                        "Building ft from fasttext_embeddings function.\n"
                    ]
                },
                {
                    "name": "stderr",
                    "output_type": "stream",
                    "text": [
                        "WARNING:gensim.models.keyedvectors:sorting after vectors have been allocated is expensive & error-prone\n",
                        "WARNING:gensim.models.word2vec:Effective 'alpha' higher than previous training cycles\n"
                    ]
                },
                {
                    "name": "stdout",
                    "output_type": "stream",
                    "text": [
                        "Time to train the model for 300: 8.97 mins\n",
                        "Time to build vocab for 300: 9.47 mins\n",
                        "Checking words form list of length 12\n",
                        "WORDS LIST: ['she', 'he', 'support', 'leader', 'management', 'team', 'business', 'customer', 'risk', 'build', 'computer', 'programmer']\n",
                        "Getting ft embeddings.\n"
                    ]
                },
                {
                    "data": {
                        "application/vnd.jupyter.widget-view+json": {
                            "model_id": "40119d5a2e06408ba6240fc45930d877",
                            "version_major": 2,
                            "version_minor": 0
                        },
                        "text/plain": [
                            "progress-bar:   0%|          | 0/5978 [00:00<?, ?it/s]"
                        ]
                    },
                    "metadata": {},
                    "output_type": "display_data"
                },
                {
                    "name": "stdout",
                    "output_type": "stream",
                    "text": [
                        "Getting sent2vec embeddings.\n",
                        "Found 2195885 word vectors.\n"
                    ]
                },
                {
                    "data": {
                        "application/vnd.jupyter.widget-view+json": {
                            "model_id": "85ec7f73287248e88931c7a6c054af6a",
                            "version_major": 2,
                            "version_minor": 0
                        },
                        "text/plain": [
                            "progress-bar:   0%|          | 0/5978 [00:00<?, ?it/s]"
                        ]
                    },
                    "metadata": {},
                    "output_type": "display_data"
                },
                {
                    "name": "stdout",
                    "output_type": "stream",
                    "text": [
                        "Done getting sent2vec embeddings.\n",
                        "Building nltk_3grams model and vocabulary.\n",
                        "Building w2v from word2vec_embeddings function.\n"
                    ]
                },
                {
                    "name": "stderr",
                    "output_type": "stream",
                    "text": [
                        "WARNING:gensim.models.keyedvectors:sorting after vectors have been allocated is expensive & error-prone\n",
                        "WARNING:gensim.models.word2vec:Effective 'alpha' higher than previous training cycles\n"
                    ]
                },
                {
                    "name": "stdout",
                    "output_type": "stream",
                    "text": [
                        "Time to train the model for 300: 11.24 mins\n",
                        "Time to build w2v_vocab for 300: 11.43 mins\n",
                        "Checking words form list of length 12\n",
                        "WORDS LIST: ['she', 'he', 'support', 'leader', 'management', 'team', 'business', 'customer', 'risk', 'build', 'computer', 'programmer']\n",
                        "Getting w2v embeddings.\n"
                    ]
                },
                {
                    "data": {
                        "application/vnd.jupyter.widget-view+json": {
                            "model_id": "c4d2b4fa50944c18944897b6cd8075df",
                            "version_major": 2,
                            "version_minor": 0
                        },
                        "text/plain": [
                            "progress-bar:   0%|          | 0/5978 [00:00<?, ?it/s]"
                        ]
                    },
                    "metadata": {},
                    "output_type": "display_data"
                },
                {
                    "name": "stdout",
                    "output_type": "stream",
                    "text": [
                        "Building ft from fasttext_embeddings function.\n"
                    ]
                },
                {
                    "name": "stderr",
                    "output_type": "stream",
                    "text": [
                        "WARNING:gensim.models.keyedvectors:sorting after vectors have been allocated is expensive & error-prone\n",
                        "WARNING:gensim.models.word2vec:Effective 'alpha' higher than previous training cycles\n"
                    ]
                },
                {
                    "name": "stdout",
                    "output_type": "stream",
                    "text": [
                        "Time to train the model for 300: 11.8 mins\n",
                        "Time to build vocab for 300: 12.23 mins\n",
                        "Checking words form list of length 12\n",
                        "WORDS LIST: ['she', 'he', 'support', 'leader', 'management', 'team', 'business', 'customer', 'risk', 'build', 'computer', 'programmer']\n",
                        "Getting ft embeddings.\n"
                    ]
                },
                {
                    "data": {
                        "application/vnd.jupyter.widget-view+json": {
                            "model_id": "0d996cb52c00445e85ffdb2d4abd6d7c",
                            "version_major": 2,
                            "version_minor": 0
                        },
                        "text/plain": [
                            "progress-bar:   0%|          | 0/5978 [00:00<?, ?it/s]"
                        ]
                    },
                    "metadata": {},
                    "output_type": "display_data"
                },
                {
                    "name": "stdout",
                    "output_type": "stream",
                    "text": [
                        "Getting sent2vec embeddings.\n",
                        "Found 2195885 word vectors.\n"
                    ]
                },
                {
                    "data": {
                        "application/vnd.jupyter.widget-view+json": {
                            "model_id": "4bb7694b537e417495ee3d8cc6448fd8",
                            "version_major": 2,
                            "version_minor": 0
                        },
                        "text/plain": [
                            "progress-bar:   0%|          | 0/5978 [00:00<?, ?it/s]"
                        ]
                    },
                    "metadata": {},
                    "output_type": "display_data"
                },
                {
                    "name": "stdout",
                    "output_type": "stream",
                    "text": [
                        "Done getting sent2vec embeddings.\n",
                        "Building nltk_123grams model and vocabulary.\n",
                        "Building w2v from word2vec_embeddings function.\n"
                    ]
                },
                {
                    "name": "stderr",
                    "output_type": "stream",
                    "text": [
                        "WARNING:gensim.models.keyedvectors:sorting after vectors have been allocated is expensive & error-prone\n",
                        "WARNING:gensim.models.word2vec:Effective 'alpha' higher than previous training cycles\n"
                    ]
                },
                {
                    "name": "stdout",
                    "output_type": "stream",
                    "text": [
                        "Time to train the model for 300: 13.97 mins\n",
                        "Time to build w2v_vocab for 300: 14.52 mins\n",
                        "Checking words form list of length 12\n",
                        "WORDS LIST: ['she', 'he', 'support', 'leader', 'management', 'team', 'business', 'customer', 'risk', 'build', 'computer', 'programmer']\n",
                        "Getting w2v embeddings.\n"
                    ]
                },
                {
                    "data": {
                        "application/vnd.jupyter.widget-view+json": {
                            "model_id": "3ca7f33e7b264870a55a6ae4f4e7d769",
                            "version_major": 2,
                            "version_minor": 0
                        },
                        "text/plain": [
                            "progress-bar:   0%|          | 0/5978 [00:00<?, ?it/s]"
                        ]
                    },
                    "metadata": {},
                    "output_type": "display_data"
                },
                {
                    "name": "stdout",
                    "output_type": "stream",
                    "text": [
                        "Building ft from fasttext_embeddings function.\n"
                    ]
                },
                {
                    "name": "stderr",
                    "output_type": "stream",
                    "text": [
                        "WARNING:gensim.models.keyedvectors:sorting after vectors have been allocated is expensive & error-prone\n",
                        "WARNING:gensim.models.word2vec:Effective 'alpha' higher than previous training cycles\n"
                    ]
                },
                {
                    "name": "stdout",
                    "output_type": "stream",
                    "text": [
                        "Time to train the model for 300: 15.69 mins\n",
                        "Time to build vocab for 300: 16.78 mins\n",
                        "Checking words form list of length 12\n",
                        "WORDS LIST: ['she', 'he', 'support', 'leader', 'management', 'team', 'business', 'customer', 'risk', 'build', 'computer', 'programmer']\n",
                        "Getting ft embeddings.\n"
                    ]
                },
                {
                    "data": {
                        "application/vnd.jupyter.widget-view+json": {
                            "model_id": "3a93f1682fdf48818cc7254528009a53",
                            "version_major": 2,
                            "version_minor": 0
                        },
                        "text/plain": [
                            "progress-bar:   0%|          | 0/5978 [00:00<?, ?it/s]"
                        ]
                    },
                    "metadata": {},
                    "output_type": "display_data"
                },
                {
                    "name": "stdout",
                    "output_type": "stream",
                    "text": [
                        "Getting sent2vec embeddings.\n",
                        "Found 2195885 word vectors.\n"
                    ]
                },
                {
                    "data": {
                        "application/vnd.jupyter.widget-view+json": {
                            "model_id": "b2099bd891de4651b68254484207499c",
                            "version_major": 2,
                            "version_minor": 0
                        },
                        "text/plain": [
                            "progress-bar:   0%|          | 0/5978 [00:00<?, ?it/s]"
                        ]
                    },
                    "metadata": {},
                    "output_type": "display_data"
                },
                {
                    "name": "stdout",
                    "output_type": "stream",
                    "text": [
                        "Done getting sent2vec embeddings.\n",
                        "Building gensim_1grams model and vocabulary.\n",
                        "Building w2v from word2vec_embeddings function.\n"
                    ]
                },
                {
                    "name": "stderr",
                    "output_type": "stream",
                    "text": [
                        "WARNING:gensim.models.keyedvectors:sorting after vectors have been allocated is expensive & error-prone\n",
                        "WARNING:gensim.models.word2vec:Effective 'alpha' higher than previous training cycles\n"
                    ]
                },
                {
                    "name": "stdout",
                    "output_type": "stream",
                    "text": [
                        "Time to train the model for 300: 19.27 mins\n",
                        "Time to build w2v_vocab for 300: 19.32 mins\n",
                        "Checking words form list of length 12\n",
                        "WORDS LIST: ['she', 'he', 'support', 'leader', 'management', 'team', 'business', 'customer', 'risk', 'build', 'computer', 'programmer']\n",
                        "Getting w2v embeddings.\n"
                    ]
                },
                {
                    "data": {
                        "application/vnd.jupyter.widget-view+json": {
                            "model_id": "ee68592fa98944f78448885783ba54fc",
                            "version_major": 2,
                            "version_minor": 0
                        },
                        "text/plain": [
                            "progress-bar:   0%|          | 0/5978 [00:00<?, ?it/s]"
                        ]
                    },
                    "metadata": {},
                    "output_type": "display_data"
                },
                {
                    "name": "stdout",
                    "output_type": "stream",
                    "text": [
                        "Building ft from fasttext_embeddings function.\n"
                    ]
                },
                {
                    "name": "stderr",
                    "output_type": "stream",
                    "text": [
                        "WARNING:gensim.models.keyedvectors:sorting after vectors have been allocated is expensive & error-prone\n",
                        "WARNING:gensim.models.word2vec:Effective 'alpha' higher than previous training cycles\n"
                    ]
                },
                {
                    "name": "stdout",
                    "output_type": "stream",
                    "text": [
                        "Time to train the model for 300: 19.5 mins\n",
                        "Time to build vocab for 300: 19.57 mins\n",
                        "Checking words form list of length 12\n",
                        "WORDS LIST: ['she', 'he', 'support', 'leader', 'management', 'team', 'business', 'customer', 'risk', 'build', 'computer', 'programmer']\n",
                        "Getting ft embeddings.\n"
                    ]
                },
                {
                    "data": {
                        "application/vnd.jupyter.widget-view+json": {
                            "model_id": "d9a23454560b4028ab04b6a40321feb8",
                            "version_major": 2,
                            "version_minor": 0
                        },
                        "text/plain": [
                            "progress-bar:   0%|          | 0/5978 [00:00<?, ?it/s]"
                        ]
                    },
                    "metadata": {},
                    "output_type": "display_data"
                },
                {
                    "name": "stdout",
                    "output_type": "stream",
                    "text": [
                        "Getting sent2vec embeddings.\n",
                        "Found 2195885 word vectors.\n"
                    ]
                },
                {
                    "data": {
                        "application/vnd.jupyter.widget-view+json": {
                            "model_id": "57b32f8030ab46428acf05b814def3e1",
                            "version_major": 2,
                            "version_minor": 0
                        },
                        "text/plain": [
                            "progress-bar:   0%|          | 0/5978 [00:00<?, ?it/s]"
                        ]
                    },
                    "metadata": {},
                    "output_type": "display_data"
                },
                {
                    "name": "stdout",
                    "output_type": "stream",
                    "text": [
                        "Done getting sent2vec embeddings.\n",
                        "Building gensim_2grams model and vocabulary.\n",
                        "Building w2v from word2vec_embeddings function.\n"
                    ]
                },
                {
                    "name": "stderr",
                    "output_type": "stream",
                    "text": [
                        "WARNING:gensim.models.keyedvectors:sorting after vectors have been allocated is expensive & error-prone\n",
                        "WARNING:gensim.models.word2vec:Effective 'alpha' higher than previous training cycles\n"
                    ]
                },
                {
                    "name": "stdout",
                    "output_type": "stream",
                    "text": [
                        "Time to train the model for 300: 21.18 mins\n",
                        "Time to build w2v_vocab for 300: 21.23 mins\n",
                        "Checking words form list of length 12\n",
                        "WORDS LIST: ['she', 'he', 'support', 'leader', 'management', 'team', 'business', 'customer', 'risk', 'build', 'computer', 'programmer']\n",
                        "Getting w2v embeddings.\n"
                    ]
                },
                {
                    "data": {
                        "application/vnd.jupyter.widget-view+json": {
                            "model_id": "e38438f7ebb3437db9e61b6ff3b2ee26",
                            "version_major": 2,
                            "version_minor": 0
                        },
                        "text/plain": [
                            "progress-bar:   0%|          | 0/5978 [00:00<?, ?it/s]"
                        ]
                    },
                    "metadata": {},
                    "output_type": "display_data"
                },
                {
                    "name": "stdout",
                    "output_type": "stream",
                    "text": [
                        "Building ft from fasttext_embeddings function.\n"
                    ]
                },
                {
                    "name": "stderr",
                    "output_type": "stream",
                    "text": [
                        "WARNING:gensim.models.keyedvectors:sorting after vectors have been allocated is expensive & error-prone\n",
                        "WARNING:gensim.models.word2vec:Effective 'alpha' higher than previous training cycles\n"
                    ]
                },
                {
                    "name": "stdout",
                    "output_type": "stream",
                    "text": [
                        "Time to train the model for 300: 21.35 mins\n",
                        "Time to build vocab for 300: 21.51 mins\n",
                        "Checking words form list of length 12\n",
                        "WORDS LIST: ['she', 'he', 'support', 'leader', 'management', 'team', 'business', 'customer', 'risk', 'build', 'computer', 'programmer']\n",
                        "Getting ft embeddings.\n"
                    ]
                },
                {
                    "data": {
                        "application/vnd.jupyter.widget-view+json": {
                            "model_id": "974895a321be4ae8aa19255d6dfec6d7",
                            "version_major": 2,
                            "version_minor": 0
                        },
                        "text/plain": [
                            "progress-bar:   0%|          | 0/5978 [00:00<?, ?it/s]"
                        ]
                    },
                    "metadata": {},
                    "output_type": "display_data"
                },
                {
                    "name": "stdout",
                    "output_type": "stream",
                    "text": [
                        "Getting sent2vec embeddings.\n",
                        "Found 2195885 word vectors.\n"
                    ]
                },
                {
                    "data": {
                        "application/vnd.jupyter.widget-view+json": {
                            "model_id": "795615f87656415280939c38c9125c93",
                            "version_major": 2,
                            "version_minor": 0
                        },
                        "text/plain": [
                            "progress-bar:   0%|          | 0/5978 [00:00<?, ?it/s]"
                        ]
                    },
                    "metadata": {},
                    "output_type": "display_data"
                },
                {
                    "name": "stdout",
                    "output_type": "stream",
                    "text": [
                        "Done getting sent2vec embeddings.\n",
                        "Building gensim_3grams model and vocabulary.\n",
                        "Building w2v from word2vec_embeddings function.\n"
                    ]
                },
                {
                    "name": "stderr",
                    "output_type": "stream",
                    "text": [
                        "WARNING:gensim.models.keyedvectors:sorting after vectors have been allocated is expensive & error-prone\n",
                        "WARNING:gensim.models.word2vec:Effective 'alpha' higher than previous training cycles\n"
                    ]
                },
                {
                    "name": "stdout",
                    "output_type": "stream",
                    "text": [
                        "Time to train the model for 300: 23.26 mins\n",
                        "Time to build w2v_vocab for 300: 23.26 mins\n",
                        "Checking words form list of length 12\n",
                        "WORDS LIST: ['she', 'he', 'support', 'leader', 'management', 'team', 'business', 'customer', 'risk', 'build', 'computer', 'programmer']\n",
                        "Getting w2v embeddings.\n"
                    ]
                },
                {
                    "data": {
                        "application/vnd.jupyter.widget-view+json": {
                            "model_id": "0570b103083b421c8889819c3329107c",
                            "version_major": 2,
                            "version_minor": 0
                        },
                        "text/plain": [
                            "progress-bar:   0%|          | 0/5978 [00:00<?, ?it/s]"
                        ]
                    },
                    "metadata": {},
                    "output_type": "display_data"
                },
                {
                    "name": "stdout",
                    "output_type": "stream",
                    "text": [
                        "Building ft from fasttext_embeddings function.\n"
                    ]
                },
                {
                    "name": "stderr",
                    "output_type": "stream",
                    "text": [
                        "WARNING:gensim.models.keyedvectors:sorting after vectors have been allocated is expensive & error-prone\n",
                        "WARNING:gensim.models.word2vec:Effective 'alpha' higher than previous training cycles\n"
                    ]
                },
                {
                    "name": "stdout",
                    "output_type": "stream",
                    "text": [
                        "Time to train the model for 300: 23.37 mins\n",
                        "Time to build vocab for 300: 23.39 mins\n",
                        "Checking words form list of length 12\n",
                        "WORDS LIST: ['she', 'he', 'support', 'leader', 'management', 'team', 'business', 'customer', 'risk', 'build', 'computer', 'programmer']\n",
                        "Getting ft embeddings.\n"
                    ]
                },
                {
                    "data": {
                        "application/vnd.jupyter.widget-view+json": {
                            "model_id": "96228f8c7cfc44b69652f82c4d897cab",
                            "version_major": 2,
                            "version_minor": 0
                        },
                        "text/plain": [
                            "progress-bar:   0%|          | 0/5978 [00:00<?, ?it/s]"
                        ]
                    },
                    "metadata": {},
                    "output_type": "display_data"
                },
                {
                    "name": "stdout",
                    "output_type": "stream",
                    "text": [
                        "Getting sent2vec embeddings.\n",
                        "Found 2195885 word vectors.\n"
                    ]
                },
                {
                    "data": {
                        "application/vnd.jupyter.widget-view+json": {
                            "model_id": "3b9cfba47d034b5ab33ea85876dcba9f",
                            "version_major": 2,
                            "version_minor": 0
                        },
                        "text/plain": [
                            "progress-bar:   0%|          | 0/5978 [00:00<?, ?it/s]"
                        ]
                    },
                    "metadata": {},
                    "output_type": "display_data"
                },
                {
                    "name": "stdout",
                    "output_type": "stream",
                    "text": [
                        "Done getting sent2vec embeddings.\n",
                        "Building gensim_123grams model and vocabulary.\n",
                        "Building w2v from word2vec_embeddings function.\n"
                    ]
                },
                {
                    "name": "stderr",
                    "output_type": "stream",
                    "text": [
                        "WARNING:gensim.models.keyedvectors:sorting after vectors have been allocated is expensive & error-prone\n",
                        "WARNING:gensim.models.word2vec:Effective 'alpha' higher than previous training cycles\n"
                    ]
                },
                {
                    "name": "stdout",
                    "output_type": "stream",
                    "text": [
                        "Time to train the model for 300: 25.07 mins\n",
                        "Time to build w2v_vocab for 300: 25.15 mins\n",
                        "Checking words form list of length 12\n",
                        "WORDS LIST: ['she', 'he', 'support', 'leader', 'management', 'team', 'business', 'customer', 'risk', 'build', 'computer', 'programmer']\n",
                        "Getting w2v embeddings.\n"
                    ]
                },
                {
                    "data": {
                        "application/vnd.jupyter.widget-view+json": {
                            "model_id": "28066686a140420d85cff5552a420a4e",
                            "version_major": 2,
                            "version_minor": 0
                        },
                        "text/plain": [
                            "progress-bar:   0%|          | 0/5978 [00:00<?, ?it/s]"
                        ]
                    },
                    "metadata": {},
                    "output_type": "display_data"
                },
                {
                    "name": "stdout",
                    "output_type": "stream",
                    "text": [
                        "Building ft from fasttext_embeddings function.\n"
                    ]
                },
                {
                    "name": "stderr",
                    "output_type": "stream",
                    "text": [
                        "WARNING:gensim.models.keyedvectors:sorting after vectors have been allocated is expensive & error-prone\n",
                        "WARNING:gensim.models.word2vec:Effective 'alpha' higher than previous training cycles\n"
                    ]
                },
                {
                    "name": "stdout",
                    "output_type": "stream",
                    "text": [
                        "Time to train the model for 300: 25.29 mins\n",
                        "Time to build vocab for 300: 25.51 mins\n",
                        "Checking words form list of length 12\n",
                        "WORDS LIST: ['she', 'he', 'support', 'leader', 'management', 'team', 'business', 'customer', 'risk', 'build', 'computer', 'programmer']\n",
                        "Getting ft embeddings.\n"
                    ]
                },
                {
                    "data": {
                        "application/vnd.jupyter.widget-view+json": {
                            "model_id": "7cbb6712ac454e5d9c748eab3d1e08ab",
                            "version_major": 2,
                            "version_minor": 0
                        },
                        "text/plain": [
                            "progress-bar:   0%|          | 0/5978 [00:00<?, ?it/s]"
                        ]
                    },
                    "metadata": {},
                    "output_type": "display_data"
                },
                {
                    "name": "stdout",
                    "output_type": "stream",
                    "text": [
                        "Getting sent2vec embeddings.\n",
                        "Found 2195885 word vectors.\n"
                    ]
                },
                {
                    "data": {
                        "application/vnd.jupyter.widget-view+json": {
                            "model_id": "60972506cb5142678a6253d9d7950645",
                            "version_major": 2,
                            "version_minor": 0
                        },
                        "text/plain": [
                            "progress-bar:   0%|          | 0/5978 [00:00<?, ?it/s]"
                        ]
                    },
                    "metadata": {},
                    "output_type": "display_data"
                },
                {
                    "name": "stdout",
                    "output_type": "stream",
                    "text": [
                        "Done getting sent2vec embeddings.\n",
                        "CPU times: user 32min 34s, sys: 2min 28s, total: 35min 2s\n",
                        "Wall time: 26min 59s\n"
                    ]
                }
            ],
            "source": [
                "%%time\n",
                "# Make embeddings\n",
                "ngrams_list=[1, 2, 3, 123]\n",
                "embedding_libraries_list = ['spacy', 'nltk', 'gensim']\n",
                "\n",
                "for embedding_library, ngram_number in tqdm_product(embedding_libraries_list, ngrams_list):\n",
                "    print(f'Building {embedding_library}_{ngram_number}grams model and vocabulary.')\n",
                "\n",
                "    for embed_model_name, embed_func_list in embedding_models_dict.items():\n",
                "\n",
                "        build_train_func, embed_func, model_loader = embed_func_list\n",
                "        print(f'Building {embed_model_name} from {embed_func.__name__} function.')\n",
                "\n",
                "        vocab, model = build_train_func(\n",
                "            df=df_manual,\n",
                "            ngram_number=ngram_number,\n",
                "            embedding_library=embedding_library,\n",
                "        )\n",
                "\n",
                "        print(f'Getting {embed_model_name} embeddings.')\n",
                "\n",
                "        df_manual[\n",
                "            f'Job Description {embedding_library}_{ngram_number}grams_mean_{embed_model_name}_embeddings'\n",
                "        ] = df_manual[\n",
                "            f'Job Description {embedding_library}_{ngram_number}grams_original_list'\n",
                "        ].progress_apply(\n",
                "            lambda sentences: embed_func(sentences, vocab, model)\n",
                "        )\n",
                "        model.save(f'{data_dir}embeddings models/{embedding_library}_{ngram_number}grams_{embed_model_name}_model.model')\n",
                "\n",
                "    # Sent2Vec\n",
                "    print('Getting sent2vec embeddings.')\n",
                "    embeddings_index = get_glove()\n",
                "    df_manual[f'Job Description {embedding_library}_{ngram_number}grams_sent2vec_embeddings'] = df_manual[f'Job Description {embedding_library}_{ngram_number}grams'].progress_apply(lambda sentences: sent2vec(sentences, embeddings_index=embeddings_index, external_glove=True, extra_preprocessing_enabled=False))\n",
                "    print('Done getting sent2vec embeddings.')\n"
            ]
        },
        {
            "cell_type": "code",
            "execution_count": 178,
            "id": "f1cd59ac",
            "metadata": {},
            "outputs": [],
            "source": [
                "assert len(df_manual) > 0 and isinstance(df_manual, pd.DataFrame), f'ERORR: LENGTH OF DF = {len(df_manual)}'\n",
                "df_manual.to_pickle(f'{df_save_dir}df_manual_for_trainning.pkl')\n",
                "df_manual.to_csv(f'{df_save_dir}df_manual_for_trainning.csv', index=False)\n"
            ]
        },
        {
            "cell_type": "code",
            "execution_count": null,
            "id": "75c594b6",
            "metadata": {},
            "outputs": [],
            "source": []
        }
    ],
    "metadata": {
        "kernelspec": {
            "display_name": "study1_3.10",
            "language": "python",
            "name": "python3"
        },
        "language_info": {
            "codemirror_mode": {
                "name": "ipython",
                "version": 3
            },
            "file_extension": ".py",
            "mimetype": "text/x-python",
            "name": "python",
            "nbconvert_exporter": "python",
            "pygments_lexer": "ipython3",
            "version": "3.10.10"
        },
        "varInspector": {
            "cols": {
                "lenName": 16,
                "lenType": 16,
                "lenVar": 40
            },
            "kernels_config": {
                "python": {
                    "delete_cmd_postfix": "",
                    "delete_cmd_prefix": "del ",
                    "library": "var_list.py",
                    "varRefreshCmd": "print(var_dic_list())"
                },
                "r": {
                    "delete_cmd_postfix": ") ",
                    "delete_cmd_prefix": "rm(",
                    "library": "var_list.r",
                    "varRefreshCmd": "cat(var_dic_list()) "
                }
            },
            "types_to_exclude": [
                "module",
                "function",
                "builtin_function_or_method",
                "instance",
                "_Feature"
            ],
            "window_display": false
        },
        "widgets": {
            "application/vnd.jupyter.widget-state+json": {
                "state": {},
                "version_major": 2,
                "version_minor": 0
            }
        }
    },
    "nbformat": 4,
    "nbformat_minor": 5
}
