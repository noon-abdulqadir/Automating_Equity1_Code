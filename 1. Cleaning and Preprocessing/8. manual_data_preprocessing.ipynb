{
    "cells": [
        {
            "cell_type": "markdown",
            "id": "a3d9bbd5",
            "metadata": {},
            "source": [
                "# ATTN: This script uses Google translate to detect job description language. Google translate will limit requests and take a very long time. Only run this script if redoing language detection."
            ]
        },
        {
            "cell_type": "markdown",
            "id": "ac2e2d85",
            "metadata": {},
            "source": [
                "# Read from scrapped data"
            ]
        },
        {
            "cell_type": "code",
            "execution_count": 147,
            "id": "be8129d5",
            "metadata": {},
            "outputs": [],
            "source": [
                "import os # type:ignore # isort:skip # fmt:skip # noqa # nopep8\n",
                "import sys # type:ignore # isort:skip # fmt:skip # noqa # nopep8\n",
                "from pathlib import Path # type:ignore # isort:skip # fmt:skip # noqa # nopep8\n",
                "\n",
                "mod = sys.modules[__name__]\n",
                "\n",
                "code_dir = None\n",
                "code_dir_name = 'Code'\n",
                "unwanted_subdir_name = 'Analysis'\n",
                "\n",
                "for _ in range(5):\n",
                "\n",
                "    parent_path = str(Path.cwd().parents[_]).split('/')[-1]\n",
                "\n",
                "    if (code_dir_name in parent_path) and (unwanted_subdir_name not in parent_path):\n",
                "\n",
                "        code_dir = str(Path.cwd().parents[_])\n",
                "\n",
                "        if code_dir is not None:\n",
                "            break\n",
                "\n",
                "sys.path.append(code_dir)\n",
                "# %load_ext autoreload\n",
                "# %autoreload 2\n"
            ]
        },
        {
            "cell_type": "code",
            "execution_count": 148,
            "id": "d2271ddb",
            "metadata": {},
            "outputs": [],
            "source": [
                "from setup_module.imports import * # type:ignore # isort:skip # fmt:skip # noqa # nopep8\n"
            ]
        },
        {
            "cell_type": "markdown",
            "id": "a840ebcc",
            "metadata": {},
            "source": [
                "#### Read paths"
            ]
        },
        {
            "cell_type": "code",
            "execution_count": 149,
            "id": "999bbb1d",
            "metadata": {},
            "outputs": [],
            "source": [
                "glob_paths = list(set(glob.glob(f'{scraped_data}Coding Material/*Folder/*/Job ID -*- Codebook (Automating Equity).xlsx')))\n"
            ]
        },
        {
            "cell_type": "code",
            "execution_count": 150,
            "id": "4ad7c36f",
            "metadata": {},
            "outputs": [
                {
                    "data": {
                        "text/plain": [
                            "244"
                        ]
                    },
                    "execution_count": 150,
                    "metadata": {},
                    "output_type": "execute_result"
                }
            ],
            "source": [
                "# 244 xlsx files\n",
                "len(glob_paths)\n"
            ]
        },
        {
            "cell_type": "markdown",
            "id": "fbfdd650",
            "metadata": {},
            "source": [
                "#### Use paths to open files, fix keywords, and drop unneeded columns"
            ]
        },
        {
            "cell_type": "code",
            "execution_count": 151,
            "id": "9f2edb5d",
            "metadata": {},
            "outputs": [
                {
                    "name": "stdout",
                    "output_type": "stream",
                    "text": [
                        "CPU times: user 5.07 s, sys: 134 ms, total: 5.2 s\n",
                        "Wall time: 5.34 s\n"
                    ]
                }
            ],
            "source": [
                "%%time\n",
                "# columns\n",
                "cols=['Sector', \n",
                "      'Sector Code', \n",
                "      'Gender', \n",
                "      'Age', \n",
                "      'Language', \n",
                "      'Dutch Requirement', \n",
                "      'English Requirement', \n",
                "      'Gender_Female', \n",
                "      'Gender_Mixed', \n",
                "      'Gender_Male', \n",
                "      'Age_Older', \n",
                "      'Age_Mixed', \n",
                "      'Age_Younger', \n",
                "      'Gender_Num', \n",
                "      'Age_Num', \n",
                "      '% Female', \n",
                "      '% Male', \n",
                "      '% Older', \n",
                "      '% Younger']\n",
                "\n",
                "# Fix list catches all incorrect/faculty keyword search terms\n",
                "fix_list = []\n",
                "\n",
                "# Appended data catches all the fixed and cleaned dfs\n",
                "appended_data = []\n",
                "\n",
                "for glob_path in glob_paths:\n",
                "\n",
                "    try:\n",
                "        df_temp = pd.read_excel(glob_path).reset_index(drop=True)\n",
                "    except ValueError:\n",
                "        fix_list.append(glob_path)\n",
                "\n",
                "    if len(df_temp) > 0 and isinstance(df_temp, pd.DataFrame):\n",
                "        df_temp = df_temp.reset_index(drop=True)\n",
                "        df_temp = df_temp.drop(columns=cols, axis='columns', errors='ignore')\n",
                "        df_temp = df_temp.drop(\n",
                "        df_temp.columns[\n",
                "                df_temp.columns.str.contains(\n",
                "                    'unnamed|index|level', regex=True, case=False, flags=re.I\n",
                "                )\n",
                "            ],\n",
                "            axis='columns',\n",
                "            errors='ignore',\n",
                "        )\n",
                "\n",
                "        appended_data.append(df_temp.reset_index(drop=True))\n",
                "\n",
                "# Concatonate list of dfs into one large df_manual\n",
                "df_manual = pd.concat(appended_data, axis='index').reset_index(drop=True)\n",
                "\n",
                "# Save df_manual to file\n",
                "assert len(df_manual) > 0 and isinstance(df_manual, pd.DataFrame), f'ERORR: LENGTH OF DF = {len(df_manual)}'\n",
                "df_manual.to_pickle(f'{df_save_dir}df_manual_raw.pkl')\n",
                "df_manual.to_csv(f'{df_save_dir}df_manual_raw.csv', index=False)\n"
            ]
        },
        {
            "cell_type": "code",
            "execution_count": 152,
            "id": "5de12303",
            "metadata": {},
            "outputs": [],
            "source": [
                "# If we couldn't fix some keywords, we add them to list fix_list and write to file\n",
                "if len(fix_list) != 0:\n",
                "    print('Some keywords to fix!')\n",
                "    with open(f'{data_dir}fix_list.txt', 'w') as f:\n",
                "        json.dump(fix_list, f)\n"
            ]
        },
        {
            "cell_type": "code",
            "execution_count": 153,
            "id": "ae1a9362",
            "metadata": {},
            "outputs": [
                {
                    "data": {
                        "text/plain": [
                            "244"
                        ]
                    },
                    "execution_count": 153,
                    "metadata": {},
                    "output_type": "execute_result"
                }
            ],
            "source": [
                "# List of dfs, len = 244\n",
                "len(appended_data)\n"
            ]
        },
        {
            "cell_type": "code",
            "execution_count": 154,
            "id": "78c1c60f",
            "metadata": {},
            "outputs": [],
            "source": [
                "# Concatonate list of dfs into one large df_manual\n",
                "df_manual = pd.concat(appended_data, axis='index').reset_index(drop=True)\n"
            ]
        },
        {
            "cell_type": "code",
            "execution_count": 155,
            "id": "47b014ea",
            "metadata": {},
            "outputs": [
                {
                    "data": {
                        "text/plain": [
                            "12400"
                        ]
                    },
                    "execution_count": 155,
                    "metadata": {},
                    "output_type": "execute_result"
                }
            ],
            "source": [
                "# len = 12400\n",
                "len(df_manual)\n"
            ]
        },
        {
            "cell_type": "code",
            "execution_count": 156,
            "id": "0a4606db",
            "metadata": {},
            "outputs": [],
            "source": [
                "# Save df_manual to file\n",
                "assert len(df_manual) > 0 and isinstance(df_manual, pd.DataFrame), f'ERORR: LENGTH OF DF = {len(df_manual)}'\n",
                "df_manual.to_pickle(f'{df_save_dir}df_manual_raw.pkl')\n",
                "df_manual.to_csv(f'{df_save_dir}df_manual_raw.csv', index=False)\n"
            ]
        },
        {
            "cell_type": "markdown",
            "id": "3eb6e2dd",
            "metadata": {},
            "source": [
                "# Drop duplicated and missing data"
            ]
        },
        {
            "cell_type": "markdown",
            "id": "bc049d41",
            "metadata": {},
            "source": [
                "### START HERE IF SOURCING FROM df_manual_RAW\n",
                "### PLEASE SET CORRECT DIRECTORY PATHS BELOW"
            ]
        },
        {
            "cell_type": "code",
            "execution_count": 157,
            "id": "eda9efcf",
            "metadata": {},
            "outputs": [],
            "source": [
                "import os # type:ignore # isort:skip # fmt:skip # noqa # nopep8\n",
                "import sys # type:ignore # isort:skip # fmt:skip # noqa # nopep8\n",
                "from pathlib import Path # type:ignore # isort:skip # fmt:skip # noqa # nopep8\n",
                "\n",
                "mod = sys.modules[__name__]\n",
                "\n",
                "code_dir = None\n",
                "code_dir_name = 'Code'\n",
                "unwanted_subdir_name = 'Analysis'\n",
                "\n",
                "for _ in range(5):\n",
                "\n",
                "    parent_path = str(Path.cwd().parents[_]).split('/')[-1]\n",
                "\n",
                "    if (code_dir_name in parent_path) and (unwanted_subdir_name not in parent_path):\n",
                "\n",
                "        code_dir = str(Path.cwd().parents[_])\n",
                "\n",
                "        if code_dir is not None:\n",
                "            break\n",
                "\n",
                "sys.path.append(code_dir)\n",
                "# %load_ext autoreload\n",
                "# %autoreload 2\n"
            ]
        },
        {
            "cell_type": "code",
            "execution_count": 158,
            "id": "4b7e42cc",
            "metadata": {},
            "outputs": [],
            "source": [
                "from setup_module.imports import * # type:ignore # isort:skip # fmt:skip # noqa # nopep8"
            ]
        },
        {
            "cell_type": "code",
            "execution_count": 159,
            "id": "a080272c",
            "metadata": {},
            "outputs": [],
            "source": [
                "df_manual = pd.read_pickle(f'{df_save_dir}df_manual_raw.pkl').reset_index(drop=True)\n"
            ]
        },
        {
            "cell_type": "code",
            "execution_count": 160,
            "id": "e92eeb12",
            "metadata": {},
            "outputs": [
                {
                    "data": {
                        "text/plain": [
                            "12400"
                        ]
                    },
                    "execution_count": 160,
                    "metadata": {},
                    "output_type": "execute_result"
                }
            ],
            "source": [
                "# len = 12400\n",
                "len(df_manual)\n"
            ]
        },
        {
            "cell_type": "code",
            "execution_count": 161,
            "id": "78c31c26",
            "metadata": {},
            "outputs": [
                {
                    "name": "stdout",
                    "output_type": "stream",
                    "text": [
                        "<class 'pandas.core.frame.DataFrame'>\n",
                        "RangeIndex: 12400 entries, 0 to 12399\n",
                        "Data columns (total 7 columns):\n",
                        " #   Column           Non-Null Count  Dtype  \n",
                        "---  ------           --------------  -----  \n",
                        " 0   Job ID           12400 non-null  object \n",
                        " 1   Sentence         12396 non-null  object \n",
                        " 2   Warmth           12398 non-null  float64\n",
                        " 3   Competence       12400 non-null  int64  \n",
                        " 4   Task_Mentioned   12398 non-null  float64\n",
                        " 5   Task_Warmth      12398 non-null  float64\n",
                        " 6   Task_Competence  12398 non-null  float64\n",
                        "dtypes: float64(4), int64(1), object(2)\n",
                        "memory usage: 678.2+ KB\n"
                    ]
                }
            ],
            "source": [
                "df_manual.info()\n"
            ]
        },
        {
            "cell_type": "code",
            "execution_count": 162,
            "id": "1b37b39d",
            "metadata": {},
            "outputs": [
                {
                    "data": {
                        "application/vnd.jupyter.widget-view+json": {
                            "model_id": "f02f1d1b996e43fa9426b302e7a62b38",
                            "version_major": 2,
                            "version_minor": 0
                        },
                        "text/plain": [
                            "progress-bar:   0%|          | 0/7 [00:00<?, ?it/s]"
                        ]
                    },
                    "metadata": {},
                    "output_type": "display_data"
                }
            ],
            "source": [
                "# Clean columns\n",
                "df_manual.columns = df_manual.columns.to_series().progress_apply(lambda x: str(x).strip())"
            ]
        },
        {
            "cell_type": "code",
            "execution_count": 163,
            "id": "8571e7f7",
            "metadata": {},
            "outputs": [],
            "source": [
                "# Remove columns 'Task_Mentioned', 'Task_Warmth', 'Task_Competence'\n",
                "df_manual = df_manual.drop(\n",
                "    columns=['Task_Mentioned', 'Task_Warmth', 'Task_Competence'],\n",
                "    axis='columns',\n",
                "    errors='ignore'\n",
                ")"
            ]
        },
        {
            "cell_type": "code",
            "execution_count": 164,
            "id": "bfef72ba",
            "metadata": {},
            "outputs": [
                {
                    "name": "stdout",
                    "output_type": "stream",
                    "text": [
                        "<class 'pandas.core.frame.DataFrame'>\n",
                        "RangeIndex: 12400 entries, 0 to 12399\n",
                        "Data columns (total 4 columns):\n",
                        " #   Column      Non-Null Count  Dtype  \n",
                        "---  ------      --------------  -----  \n",
                        " 0   Job ID      12400 non-null  object \n",
                        " 1   Sentence    12396 non-null  object \n",
                        " 2   Warmth      12398 non-null  float64\n",
                        " 3   Competence  12400 non-null  int64  \n",
                        "dtypes: float64(1), int64(1), object(2)\n",
                        "memory usage: 387.6+ KB\n"
                    ]
                }
            ],
            "source": [
                "df_manual.info()"
            ]
        },
        {
            "cell_type": "code",
            "execution_count": 165,
            "id": "2044253e",
            "metadata": {},
            "outputs": [
                {
                    "data": {
                        "text/plain": [
                            "Job ID        0\n",
                            "Sentence      4\n",
                            "Warmth        2\n",
                            "Competence    0\n",
                            "dtype: int64"
                        ]
                    },
                    "execution_count": 165,
                    "metadata": {},
                    "output_type": "execute_result"
                }
            ],
            "source": [
                "# Missing values: Sentence = 4, Warmth = 2, Competence = 0\n",
                "df_manual.isna().sum()"
            ]
        },
        {
            "cell_type": "code",
            "execution_count": 166,
            "id": "46ab64d1",
            "metadata": {},
            "outputs": [],
            "source": [
                "# Drop NA\n",
                "df_manual = df_manual.dropna(axis='index', how='all')\n",
                "df_manual = df_manual.dropna(axis='columns', how='all')\n",
                "df_manual = df_manual.dropna(\n",
                "    subset = ['Sentence', 'Warmth', 'Competence'],\n",
                ")"
            ]
        },
        {
            "cell_type": "code",
            "execution_count": 167,
            "id": "b539d479",
            "metadata": {},
            "outputs": [
                {
                    "data": {
                        "text/plain": [
                            "Job ID        0\n",
                            "Sentence      0\n",
                            "Warmth        0\n",
                            "Competence    0\n",
                            "dtype: int64"
                        ]
                    },
                    "execution_count": 167,
                    "metadata": {},
                    "output_type": "execute_result"
                }
            ],
            "source": [
                "# No na values\n",
                "df_manual.isna().sum()"
            ]
        },
        {
            "cell_type": "code",
            "execution_count": 168,
            "id": "82e2a312",
            "metadata": {},
            "outputs": [
                {
                    "data": {
                        "text/plain": [
                            "Index(['Job ID', 'Sentence', 'Warmth', 'Competence'], dtype='object')"
                        ]
                    },
                    "execution_count": 168,
                    "metadata": {},
                    "output_type": "execute_result"
                }
            ],
            "source": [
                "df_manual.columns"
            ]
        },
        {
            "cell_type": "code",
            "execution_count": 169,
            "id": "1c5a7d46",
            "metadata": {},
            "outputs": [
                {
                    "data": {
                        "application/vnd.jupyter.widget-view+json": {
                            "model_id": "cafc08c7d12441108857a4a7a85961c4",
                            "version_major": 2,
                            "version_minor": 0
                        },
                        "text/plain": [
                            "progress-bar:   0%|          | 0/12394 [00:00<?, ?it/s]"
                        ]
                    },
                    "metadata": {},
                    "output_type": "display_data"
                },
                {
                    "name": "stdout",
                    "output_type": "stream",
                    "text": [
                        "Warmth converted to int.\n",
                        "Warmth value counts:\n",
                        "0    9568\n",
                        "1    2826\n",
                        "Name: Warmth, dtype: int64\n"
                    ]
                },
                {
                    "data": {
                        "application/vnd.jupyter.widget-view+json": {
                            "model_id": "cc72928e473d4456bbeeffb6a1be80e1",
                            "version_major": 2,
                            "version_minor": 0
                        },
                        "text/plain": [
                            "progress-bar:   0%|          | 0/12394 [00:00<?, ?it/s]"
                        ]
                    },
                    "metadata": {},
                    "output_type": "display_data"
                },
                {
                    "name": "stdout",
                    "output_type": "stream",
                    "text": [
                        "Competence converted to int.\n",
                        "Competence value counts:\n",
                        "0    7330\n",
                        "1    5064\n",
                        "Name: Competence, dtype: int64\n"
                    ]
                }
            ],
            "source": [
                "# Convert Warmth and Competence to int\n",
                "int_cols = [\n",
                "    'Warmth',\n",
                "    'Competence',\n",
                "]\n",
                "\n",
                "for col in int_cols:\n",
                "    df_manual[col] = df_manual[col].astype(np.int64, errors='ignore')\n",
                "    print(f'{col} converted to int.' if all(df_manual[col].progress_apply(lambda x: isinstance(x, int))) else f'{col} NOT converted to int.')\n",
                "    print(f'{col} value counts:\\n{df_manual[col].value_counts()}')\n"
            ]
        },
        {
            "cell_type": "code",
            "execution_count": 170,
            "id": "a7666d35",
            "metadata": {},
            "outputs": [
                {
                    "name": "stdout",
                    "output_type": "stream",
                    "text": [
                        "<class 'pandas.core.frame.DataFrame'>\n",
                        "Int64Index: 12394 entries, 0 to 12399\n",
                        "Data columns (total 4 columns):\n",
                        " #   Column      Non-Null Count  Dtype \n",
                        "---  ------      --------------  ----- \n",
                        " 0   Job ID      12394 non-null  object\n",
                        " 1   Sentence    12394 non-null  object\n",
                        " 2   Warmth      12394 non-null  int64 \n",
                        " 3   Competence  12394 non-null  int64 \n",
                        "dtypes: int64(2), object(2)\n",
                        "memory usage: 484.1+ KB\n"
                    ]
                }
            ],
            "source": [
                "df_manual.info()\n"
            ]
        },
        {
            "cell_type": "code",
            "execution_count": 171,
            "id": "793c8461",
            "metadata": {},
            "outputs": [
                {
                    "data": {
                        "application/vnd.jupyter.widget-view+json": {
                            "model_id": "cfc211e561db49f3a0b9948aa1815252",
                            "version_major": 2,
                            "version_minor": 0
                        },
                        "text/plain": [
                            "progress-bar:   0%|          | 0/12394 [00:00<?, ?it/s]"
                        ]
                    },
                    "metadata": {},
                    "output_type": "display_data"
                },
                {
                    "data": {
                        "application/vnd.jupyter.widget-view+json": {
                            "model_id": "547a1d3bb2494a9f83c1a0a52e928171",
                            "version_major": 2,
                            "version_minor": 0
                        },
                        "text/plain": [
                            "progress-bar:   0%|          | 0/12394 [00:00<?, ?it/s]"
                        ]
                    },
                    "metadata": {},
                    "output_type": "display_data"
                },
                {
                    "name": "stdout",
                    "output_type": "stream",
                    "text": [
                        "Job ID converted to str.\n"
                    ]
                },
                {
                    "data": {
                        "application/vnd.jupyter.widget-view+json": {
                            "model_id": "bcdebc9e99704739b0abfbd72d445376",
                            "version_major": 2,
                            "version_minor": 0
                        },
                        "text/plain": [
                            "progress-bar:   0%|          | 0/12394 [00:00<?, ?it/s]"
                        ]
                    },
                    "metadata": {},
                    "output_type": "display_data"
                },
                {
                    "data": {
                        "application/vnd.jupyter.widget-view+json": {
                            "model_id": "007cac2249344e0e9623a543189f12f5",
                            "version_major": 2,
                            "version_minor": 0
                        },
                        "text/plain": [
                            "progress-bar:   0%|          | 0/12394 [00:00<?, ?it/s]"
                        ]
                    },
                    "metadata": {},
                    "output_type": "display_data"
                },
                {
                    "name": "stdout",
                    "output_type": "stream",
                    "text": [
                        "Sentence converted to str.\n",
                        "CPU times: user 58.7 ms, sys: 5.41 ms, total: 64.1 ms\n",
                        "Wall time: 64 ms\n"
                    ]
                }
            ],
            "source": [
                "%%time\n",
                "# Conver Job ID and Sentence to str\n",
                "str_cols = [\n",
                "    'Job ID',\n",
                "    'Sentence',\n",
                "]\n",
                "\n",
                "for col in str_cols:\n",
                "    df_manual[col] = df_manual[col].astype(str, errors='ignore').progress_apply(lambda x: x.strip().replace('[', '').replace(']', ''))\n",
                "    print(f'{col} converted to str.' if all(df_manual[col].progress_apply(lambda x: isinstance(x, str))) else f'{col} NOT converted to str.')\n"
            ]
        },
        {
            "cell_type": "code",
            "execution_count": 172,
            "id": "e8d0d7a5",
            "metadata": {},
            "outputs": [],
            "source": [
                "# Remove any rows with missing 'Job ID'\n",
                "df_manual = df_manual.drop(\n",
                "    df_manual[\n",
                "        (df_manual['Sentence'].isin(nan_list)) | \n",
                "        (df_manual['Sentence'].isnull()) | \n",
                "        (df_manual['Sentence'].isna())\n",
                "    ].index, \n",
                "    axis='index',\n",
                "    errors='ignore'\n",
                ")"
            ]
        },
        {
            "cell_type": "code",
            "execution_count": 173,
            "id": "2286ff2e",
            "metadata": {},
            "outputs": [],
            "source": [
                "df_manual = df_manual.drop_duplicates(subset=['Sentence'], keep='first', ignore_index=True)"
            ]
        },
        {
            "cell_type": "code",
            "execution_count": 174,
            "id": "a5caf8c5",
            "metadata": {},
            "outputs": [
                {
                    "data": {
                        "text/plain": [
                            "5681"
                        ]
                    },
                    "execution_count": 174,
                    "metadata": {},
                    "output_type": "execute_result"
                }
            ],
            "source": [
                "# len = 5681\n",
                "len(df_manual)"
            ]
        },
        {
            "cell_type": "code",
            "execution_count": 175,
            "id": "4d2cacdb",
            "metadata": {},
            "outputs": [
                {
                    "name": "stdout",
                    "output_type": "stream",
                    "text": [
                        "<class 'pandas.core.frame.DataFrame'>\n",
                        "RangeIndex: 5681 entries, 0 to 5680\n",
                        "Data columns (total 4 columns):\n",
                        " #   Column      Non-Null Count  Dtype \n",
                        "---  ------      --------------  ----- \n",
                        " 0   Job ID      5681 non-null   object\n",
                        " 1   Sentence    5681 non-null   object\n",
                        " 2   Warmth      5681 non-null   int64 \n",
                        " 3   Competence  5681 non-null   int64 \n",
                        "dtypes: int64(2), object(2)\n",
                        "memory usage: 177.7+ KB\n"
                    ]
                }
            ],
            "source": [
                "df_manual.info()"
            ]
        },
        {
            "cell_type": "code",
            "execution_count": 176,
            "id": "e57a9f32",
            "metadata": {},
            "outputs": [],
            "source": [
                "# Rename Sentence to 'Job Description spacy_sentencized'\n",
                "df_manual = df_manual.rename(\n",
                "    columns = {\n",
                "        'Sentence': 'Job Description spacy_sentencized'\n",
                "    },\n",
                "    errors='ignore'\n",
                ")"
            ]
        },
        {
            "cell_type": "code",
            "execution_count": 177,
            "id": "1a32f64c",
            "metadata": {},
            "outputs": [
                {
                    "data": {
                        "text/plain": [
                            "Index(['Job ID', 'Job Description spacy_sentencized', 'Warmth', 'Competence'], dtype='object')"
                        ]
                    },
                    "execution_count": 177,
                    "metadata": {},
                    "output_type": "execute_result"
                }
            ],
            "source": [
                "df_manual.columns\n"
            ]
        },
        {
            "cell_type": "code",
            "execution_count": 178,
            "id": "3fb59e5d",
            "metadata": {},
            "outputs": [],
            "source": [
                "# Drop NA\n",
                "df_manual = df_manual.dropna(axis='index', how='all')\n",
                "df_manual = df_manual.dropna(axis='columns', how='all')\n",
                "df_manual = df_manual.dropna(\n",
                "    subset = ['Job Description spacy_sentencized', 'Warmth', 'Competence'],\n",
                ")\n"
            ]
        },
        {
            "cell_type": "code",
            "execution_count": 179,
            "id": "25218a8b",
            "metadata": {},
            "outputs": [
                {
                    "data": {
                        "text/plain": [
                            "5681"
                        ]
                    },
                    "execution_count": 179,
                    "metadata": {},
                    "output_type": "execute_result"
                }
            ],
            "source": [
                "# len = 5681\n",
                "len(df_manual)\n"
            ]
        },
        {
            "cell_type": "code",
            "execution_count": 180,
            "id": "025e7b62",
            "metadata": {},
            "outputs": [
                {
                    "data": {
                        "text/plain": [
                            "126"
                        ]
                    },
                    "execution_count": 180,
                    "metadata": {},
                    "output_type": "execute_result"
                }
            ],
            "source": [
                "# len = 126\n",
                "len(df_manual.groupby(['Job ID'])['Job ID'].unique())\n"
            ]
        },
        {
            "cell_type": "code",
            "execution_count": 181,
            "id": "e3126f47",
            "metadata": {},
            "outputs": [],
            "source": [
                "# Drop duplicates on subset of 'Job Description'\n",
                "df_manual = df_manual.drop_duplicates(subset=['Job Description spacy_sentencized'], keep='first', ignore_index=True)\n"
            ]
        },
        {
            "cell_type": "code",
            "execution_count": 182,
            "id": "67baaa73",
            "metadata": {},
            "outputs": [
                {
                    "data": {
                        "text/plain": [
                            "5681"
                        ]
                    },
                    "execution_count": 182,
                    "metadata": {},
                    "output_type": "execute_result"
                }
            ],
            "source": [
                "# len = 5681\n",
                "len(df_manual)\n"
            ]
        },
        {
            "cell_type": "code",
            "execution_count": 183,
            "id": "3ec0bc22",
            "metadata": {},
            "outputs": [],
            "source": [
                "# Remove any rows with missing 'Job ID'\n",
                "df_manual = df_manual.drop(\n",
                "    df_manual[\n",
                "        (df_manual['Job ID'].isin(nan_list)) | \n",
                "        (df_manual['Job ID'].isnull()) | \n",
                "        (df_manual['Job ID'].isna())\n",
                "    ].index, \n",
                "    axis='index',\n",
                "    errors='ignore'\n",
                ")\n"
            ]
        },
        {
            "cell_type": "code",
            "execution_count": 184,
            "id": "c7a71aef",
            "metadata": {},
            "outputs": [],
            "source": [
                "# Remove any rows with missing 'Job Description'\n",
                "df_manual = df_manual.drop(\n",
                "    df_manual[\n",
                "        (df_manual['Job Description spacy_sentencized'].isin(nan_list)) | \n",
                "        (df_manual['Job Description spacy_sentencized'].isnull()) | \n",
                "        (df_manual['Job Description spacy_sentencized'].isna())\n",
                "    ].index, \n",
                "    axis='index',\n",
                "    errors='ignore'\n",
                ")\n"
            ]
        },
        {
            "cell_type": "code",
            "execution_count": 185,
            "id": "21a098a0",
            "metadata": {},
            "outputs": [
                {
                    "data": {
                        "text/plain": [
                            "5681"
                        ]
                    },
                    "execution_count": 185,
                    "metadata": {},
                    "output_type": "execute_result"
                }
            ],
            "source": [
                "# len = 5681\n",
                "len(df_manual)\n"
            ]
        },
        {
            "cell_type": "code",
            "execution_count": 186,
            "id": "19e08303",
            "metadata": {},
            "outputs": [],
            "source": [
                "# Save df_manual to file\n",
                "assert len(df_manual) > 0 and isinstance(df_manual, pd.DataFrame), f'ERORR: LENGTH OF DF = {len(df_manual)}'\n",
                "df_manual.to_pickle(f'{df_save_dir}df_manual_raw_dropped.pkl')\n",
                "df_manual.to_csv(f'{df_save_dir}df_manual_raw_dropped.csv', index=False)\n"
            ]
        },
        {
            "cell_type": "markdown",
            "id": "3bae0b99",
            "metadata": {},
            "source": [
                "# Add English and Dutch language requirement columns"
            ]
        },
        {
            "cell_type": "markdown",
            "id": "eb838f06",
            "metadata": {},
            "source": [
                "### START HERE IF SOURCING FROM df_manual_RAW_DROPPED\n",
                "### PLEASE SET CORRECT DIRECTORY PATHS BELOW\n"
            ]
        },
        {
            "cell_type": "code",
            "execution_count": 187,
            "id": "489a38aa",
            "metadata": {},
            "outputs": [],
            "source": [
                "import os # type:ignore # isort:skip # fmt:skip # noqa # nopep8\n",
                "import sys # type:ignore # isort:skip # fmt:skip # noqa # nopep8\n",
                "from pathlib import Path # type:ignore # isort:skip # fmt:skip # noqa # nopep8\n",
                "\n",
                "mod = sys.modules[__name__]\n",
                "\n",
                "code_dir = None\n",
                "code_dir_name = 'Code'\n",
                "unwanted_subdir_name = 'Analysis'\n",
                "\n",
                "for _ in range(5):\n",
                "\n",
                "    parent_path = str(Path.cwd().parents[_]).split('/')[-1]\n",
                "\n",
                "    if (code_dir_name in parent_path) and (unwanted_subdir_name not in parent_path):\n",
                "\n",
                "        code_dir = str(Path.cwd().parents[_])\n",
                "\n",
                "        if code_dir is not None:\n",
                "            break\n",
                "\n",
                "sys.path.append(code_dir)\n",
                "# %load_ext autoreload\n",
                "# %autoreload 2\n"
            ]
        },
        {
            "cell_type": "code",
            "execution_count": 188,
            "id": "f7cda531",
            "metadata": {},
            "outputs": [],
            "source": [
                "from setup_module.imports import * # type:ignore # isort:skip # fmt:skip # noqa # nopep8"
            ]
        },
        {
            "cell_type": "code",
            "execution_count": 189,
            "id": "a13ef5b9",
            "metadata": {},
            "outputs": [],
            "source": [
                "df_manual = pd.read_pickle(f'{df_save_dir}df_manual_raw_dropped.pkl').reset_index(drop=True)\n"
            ]
        },
        {
            "cell_type": "code",
            "execution_count": 190,
            "id": "3b5aa5a8",
            "metadata": {},
            "outputs": [
                {
                    "data": {
                        "text/plain": [
                            "5681"
                        ]
                    },
                    "execution_count": 190,
                    "metadata": {},
                    "output_type": "execute_result"
                }
            ],
            "source": [
                "# 5681\n",
                "len(df_manual)\n"
            ]
        },
        {
            "cell_type": "code",
            "execution_count": 191,
            "id": "e2e2a0c6",
            "metadata": {},
            "outputs": [
                {
                    "name": "stdout",
                    "output_type": "stream",
                    "text": [
                        "<class 'pandas.core.frame.DataFrame'>\n",
                        "RangeIndex: 5681 entries, 0 to 5680\n",
                        "Data columns (total 4 columns):\n",
                        " #   Column                             Non-Null Count  Dtype \n",
                        "---  ------                             --------------  ----- \n",
                        " 0   Job ID                             5681 non-null   object\n",
                        " 1   Job Description spacy_sentencized  5681 non-null   object\n",
                        " 2   Warmth                             5681 non-null   int64 \n",
                        " 3   Competence                         5681 non-null   int64 \n",
                        "dtypes: int64(2), object(2)\n",
                        "memory usage: 177.7+ KB\n"
                    ]
                }
            ],
            "source": [
                "df_manual.info()\n"
            ]
        },
        {
            "cell_type": "code",
            "execution_count": 192,
            "id": "8418d404",
            "metadata": {},
            "outputs": [
                {
                    "name": "stdout",
                    "output_type": "stream",
                    "text": [
                        "CPU times: user 62.4 ms, sys: 2.5 ms, total: 64.9 ms\n",
                        "Wall time: 64.4 ms\n"
                    ]
                }
            ],
            "source": [
                "%%time\n",
                "# Add language requirement column\n",
                "# Use regex to find language requirement\n",
                "dutch_requirement_pattern = r'[Ll]anguage: [Dd]utch|[Dd]utch [Pp]referred|[Dd]utch [Re]quired|[Dd]utch [Ll]anguage|[Pp]roficient in [Dd]utch|[Ss]peak [Dd]utch|[Kk]now [Dd]utch'\n",
                "english_requirement_pattern = r'[Ll]anguage: [Ee]nglish|[Ee]nglish [Pp]referred|[Ee]nglish [Re]quired|[Ee]nglish [Ll]anguage|[Pp]roficient in [Ee]nglish|[Ss]peak [Ee]nglish|[Kk]now [Ee]nglish'\n",
                "\n",
                "lang_requirements = {\n",
                "    'Dutch Requirement': dutch_requirement_pattern, 'English Requirement': english_requirement_pattern\n",
                "}\n",
                "\n",
                "for lang_req, lang_req_pattern in lang_requirements.items():\n",
                "    \n",
                "    if lang_req in df_manual.columns:\n",
                "        df_manual = df_manual.drop(columns=[lang_req])\n",
                "    df_manual[lang_req] = np.where(\n",
                "        df_manual['Job Description spacy_sentencized'].str.contains(lang_req_pattern),\n",
                "        'Yes',\n",
                "        'No',\n",
                "    )\n",
                "\n",
                "assert len(df_manual) > 0 and isinstance(df_manual, pd.DataFrame), f'ERORR: LENGTH OF DF = {len(df_manual)}'\n",
                "df_manual.to_pickle(f'{df_save_dir}df_manual_raw_language_requirement.pkl')\n",
                "df_manual.to_csv(f'{df_save_dir}df_manual_raw_english_requirement.csv', index=False)\n"
            ]
        },
        {
            "cell_type": "code",
            "execution_count": 193,
            "id": "33b1e721",
            "metadata": {},
            "outputs": [
                {
                    "data": {
                        "text/plain": [
                            "No     5675\n",
                            "Yes       6\n",
                            "Name: Dutch Requirement, dtype: int64"
                        ]
                    },
                    "execution_count": 193,
                    "metadata": {},
                    "output_type": "execute_result"
                }
            ],
            "source": [
                "# Yes = 6\n",
                "df_manual['Dutch Requirement'].value_counts()\n"
            ]
        },
        {
            "cell_type": "code",
            "execution_count": 194,
            "id": "6330c696",
            "metadata": {},
            "outputs": [
                {
                    "data": {
                        "text/plain": [
                            "No     5673\n",
                            "Yes       8\n",
                            "Name: English Requirement, dtype: int64"
                        ]
                    },
                    "execution_count": 194,
                    "metadata": {},
                    "output_type": "execute_result"
                }
            ],
            "source": [
                "# Yes = 8\n",
                "df_manual['English Requirement'].value_counts()"
            ]
        },
        {
            "cell_type": "code",
            "execution_count": 195,
            "id": "5c3ddedd",
            "metadata": {},
            "outputs": [],
            "source": [
                "assert len(df_manual) > 0 and isinstance(df_manual, pd.DataFrame), f'ERORR: LENGTH OF DF = {len(df_manual)}'\n",
                "df_manual.to_pickle(f'{df_save_dir}df_manual_raw_language_requirement.pkl')\n",
                "df_manual.to_csv(f'{df_save_dir}df_manual_raw_language_requirement.csv', index=False)\n"
            ]
        },
        {
            "cell_type": "markdown",
            "id": "e79cea97",
            "metadata": {},
            "source": [
                "# Add data from Sectors dataframe (see CBS directory under scrapped_data directory) and Categorical data\n"
            ]
        },
        {
            "cell_type": "markdown",
            "id": "69513116",
            "metadata": {},
            "source": [
                "### START HERE IF SOURCING FROM df_manual_RAW_LANGUAGE_REQUIREMENT\n",
                "### PLEASE SET CORRECT DIRECTORY PATHS BELOW\n"
            ]
        },
        {
            "cell_type": "code",
            "execution_count": 196,
            "id": "10b32849",
            "metadata": {},
            "outputs": [],
            "source": [
                "import os # type:ignore # isort:skip # fmt:skip # noqa # nopep8\n",
                "import sys # type:ignore # isort:skip # fmt:skip # noqa # nopep8\n",
                "from pathlib import Path # type:ignore # isort:skip # fmt:skip # noqa # nopep8\n",
                "\n",
                "mod = sys.modules[__name__]\n",
                "\n",
                "code_dir = None\n",
                "code_dir_name = 'Code'\n",
                "unwanted_subdir_name = 'Analysis'\n",
                "\n",
                "for _ in range(5):\n",
                "\n",
                "    parent_path = str(Path.cwd().parents[_]).split('/')[-1]\n",
                "\n",
                "    if (code_dir_name in parent_path) and (unwanted_subdir_name not in parent_path):\n",
                "\n",
                "        code_dir = str(Path.cwd().parents[_])\n",
                "\n",
                "        if code_dir is not None:\n",
                "            break\n",
                "\n",
                "sys.path.append(code_dir)\n",
                "# %load_ext autoreload\n",
                "# %autoreload 2\n"
            ]
        },
        {
            "cell_type": "code",
            "execution_count": 197,
            "id": "875fd370",
            "metadata": {},
            "outputs": [],
            "source": [
                "from setup_module.imports import * # type:ignore # isort:skip # fmt:skip # noqa # nopep8"
            ]
        },
        {
            "cell_type": "code",
            "execution_count": 198,
            "id": "6873d7c6",
            "metadata": {},
            "outputs": [],
            "source": [
                "def df_gender_age_info(df, ivs_all=None):\n",
                "    if ivs_all is None:\n",
                "        ivs_all = [\n",
                "            'Gender',\n",
                "            'Gender_Num',\n",
                "            'Gender_Female',\n",
                "            'Gender_Mixed',\n",
                "            'Gender_Male',\n",
                "            'Age',\n",
                "            'Age_Num',\n",
                "            'Age_Older',\n",
                "            'Age_Mixed',\n",
                "            'Age_Younger',\n",
                "        ]\n",
                "    # Print Info\n",
                "    print('\\nDF INFO:\\n')\n",
                "    df.info()\n",
                "\n",
                "    for iv in ivs_all:\n",
                "        try:\n",
                "            counts = df[f\"{iv}\"].value_counts()\n",
                "            percentages = df[f\"{iv}\"].value_counts(normalize=True).mul(100).round(1).astype(float)\n",
                "            print('='*20)\n",
                "            print(f'{iv}:')\n",
                "            print('-'*20)\n",
                "            print(f'{iv} Counts:\\n{counts}')\n",
                "            print('-'*20)\n",
                "            print(f'{iv} Percentages:\\n{percentages}')\n",
                "\n",
                "            with contextlib.suppress(Exception):\n",
                "                mean = df[f\"{iv}\"].mean().round(2).astype(float)\n",
                "                sd = df[f\"{iv}\"].std().round(2).astype(float)\n",
                "                print('-'*20)\n",
                "                print(f'{iv} Mean: {mean}')\n",
                "                print('-'*20)\n",
                "                print(f'{iv} Standard Deviation: {sd}')\n",
                "\n",
                "        except Exception:\n",
                "            print(f'{iv} not available.')\n",
                "\n",
                "    print('\\n')\n"
            ]
        },
        {
            "cell_type": "code",
            "execution_count": 199,
            "id": "79fe759f",
            "metadata": {},
            "outputs": [],
            "source": [
                "df_manual = pd.read_pickle(f'{df_save_dir}df_manual_raw_language_requirement.pkl').reset_index(drop=True)\n"
            ]
        },
        {
            "cell_type": "code",
            "execution_count": 200,
            "id": "40156303",
            "metadata": {},
            "outputs": [
                {
                    "name": "stdout",
                    "output_type": "stream",
                    "text": [
                        "<class 'pandas.core.frame.DataFrame'>\n",
                        "RangeIndex: 5681 entries, 0 to 5680\n",
                        "Data columns (total 6 columns):\n",
                        " #   Column                             Non-Null Count  Dtype \n",
                        "---  ------                             --------------  ----- \n",
                        " 0   Job ID                             5681 non-null   object\n",
                        " 1   Job Description spacy_sentencized  5681 non-null   object\n",
                        " 2   Warmth                             5681 non-null   int64 \n",
                        " 3   Competence                         5681 non-null   int64 \n",
                        " 4   Dutch Requirement                  5681 non-null   object\n",
                        " 5   English Requirement                5681 non-null   object\n",
                        "dtypes: int64(2), object(4)\n",
                        "memory usage: 266.4+ KB\n"
                    ]
                }
            ],
            "source": [
                "df_manual.info()\n"
            ]
        },
        {
            "cell_type": "code",
            "execution_count": 201,
            "id": "db503aad",
            "metadata": {},
            "outputs": [
                {
                    "data": {
                        "application/vnd.jupyter.widget-view+json": {
                            "model_id": "f2eb5881ea234825b1ea24222ebd80cd",
                            "version_major": 2,
                            "version_minor": 0
                        },
                        "text/plain": [
                            "progress-bar:   0%|          | 0/5681 [00:00<?, ?it/s]"
                        ]
                    },
                    "metadata": {},
                    "output_type": "display_data"
                }
            ],
            "source": [
                "df_manual['Job ID'] = df_manual['Job ID'].progress_apply(lambda x: str(x).lower().strip())\n"
            ]
        },
        {
            "cell_type": "code",
            "execution_count": 202,
            "id": "98694f16",
            "metadata": {},
            "outputs": [],
            "source": [
                "df_jobs = pd.read_pickle(f'{df_save_dir}df_jobs_including_sector_genage_data.pkl').reset_index(drop=True)\n"
            ]
        },
        {
            "cell_type": "code",
            "execution_count": 203,
            "id": "8d5116df",
            "metadata": {},
            "outputs": [
                {
                    "name": "stdout",
                    "output_type": "stream",
                    "text": [
                        "<class 'pandas.core.frame.DataFrame'>\n",
                        "RangeIndex: 17599 entries, 0 to 17598\n",
                        "Data columns (total 56 columns):\n",
                        " #   Column                               Non-Null Count  Dtype   \n",
                        "---  ------                               --------------  -----   \n",
                        " 0   Search Keyword                       17599 non-null  object  \n",
                        " 1   Platform                             17599 non-null  object  \n",
                        " 2   Job ID                               17599 non-null  object  \n",
                        " 3   Job Title                            17599 non-null  object  \n",
                        " 4   Company Name                         17597 non-null  object  \n",
                        " 5   Location                             17599 non-null  object  \n",
                        " 6   Job Description                      17599 non-null  object  \n",
                        " 7   Rating                               3780 non-null   float64 \n",
                        " 8   Employment Type                      17017 non-null  object  \n",
                        " 9   Company URL                          15959 non-null  object  \n",
                        " 10  Job URL                              17599 non-null  object  \n",
                        " 11  Job Age                              17599 non-null  object  \n",
                        " 12  Job Age Number                       17599 non-null  object  \n",
                        " 13  Collection Date                      17599 non-null  object  \n",
                        " 14  Data Row                             13816 non-null  float64 \n",
                        " 15  Tracking ID                          13816 non-null  object  \n",
                        " 16  Industry                             14401 non-null  object  \n",
                        " 17  Job Date                             13819 non-null  object  \n",
                        " 18  Type of ownership                    582 non-null    object  \n",
                        " 19  Language                             17599 non-null  object  \n",
                        " 20  Dutch Requirement                    17599 non-null  object  \n",
                        " 21  English Requirement                  17599 non-null  object  \n",
                        " 22  Sector Code                          17599 non-null  object  \n",
                        " 23  Sector                               17599 non-null  object  \n",
                        " 24  Keywords Count                       17599 non-null  float64 \n",
                        " 25  % per Sector                         17599 non-null  float64 \n",
                        " 26  % per Social Category                17599 non-null  float64 \n",
                        " 27  % per Workforce                      17599 non-null  float64 \n",
                        " 28  Female Count (x 1000)                17599 non-null  float64 \n",
                        " 29  Gender_Female_% per Sector           17599 non-null  float64 \n",
                        " 30  Gender_Female_% per Social Category  17599 non-null  float64 \n",
                        " 31  Gender_Female_% per Workforce        17599 non-null  float64 \n",
                        " 32  Male Count (x 1000)                  17599 non-null  float64 \n",
                        " 33  Gender_Male_% per Sector             17599 non-null  float64 \n",
                        " 34  Gender_Male_% per Social Category    17599 non-null  float64 \n",
                        " 35  Gender_Male_% per Workforce          17599 non-null  float64 \n",
                        " 36  Gender                               17599 non-null  category\n",
                        " 37  Age_Older_n                          17599 non-null  float64 \n",
                        " 38  Age_Older_% per Sector               17599 non-null  float64 \n",
                        " 39  Age_Older_% per Social Category      17599 non-null  float64 \n",
                        " 40  Age_Older_% per Workforce            17599 non-null  float64 \n",
                        " 41  Age_Younger_n                        17599 non-null  float64 \n",
                        " 42  Age_Younger_% per Sector             17599 non-null  float64 \n",
                        " 43  Age_Younger_% per Social Category    17599 non-null  float64 \n",
                        " 44  Age_Younger_% per Workforce          17599 non-null  float64 \n",
                        " 45  Age                                  17599 non-null  category\n",
                        " 46  Sector Count (x 1000)                17599 non-null  float64 \n",
                        " 47  % Sector per Workforce               17599 non-null  float64 \n",
                        " 48  Gender_Female                        17599 non-null  int64   \n",
                        " 49  Gender_Male                          17599 non-null  int64   \n",
                        " 50  Gender_Mixed                         17599 non-null  int64   \n",
                        " 51  Age_Mixed                            17599 non-null  int64   \n",
                        " 52  Age_Older                            17599 non-null  int64   \n",
                        " 53  Age_Younger                          17599 non-null  int64   \n",
                        " 54  Gender_Num                           17599 non-null  int64   \n",
                        " 55  Age_Num                              17599 non-null  int64   \n",
                        "dtypes: category(2), float64(24), int64(8), object(22)\n",
                        "memory usage: 7.3+ MB\n"
                    ]
                }
            ],
            "source": [
                "df_jobs.info()"
            ]
        },
        {
            "cell_type": "code",
            "execution_count": 204,
            "id": "49391453",
            "metadata": {},
            "outputs": [
                {
                    "data": {
                        "application/vnd.jupyter.widget-view+json": {
                            "model_id": "29ff35211c03412abdb24ba0a5005da9",
                            "version_major": 2,
                            "version_minor": 0
                        },
                        "text/plain": [
                            "progress-bar:   0%|          | 0/17599 [00:00<?, ?it/s]"
                        ]
                    },
                    "metadata": {},
                    "output_type": "display_data"
                }
            ],
            "source": [
                "df_jobs['Job ID'] = df_jobs['Job ID'].progress_apply(lambda x: str(x).lower().strip())\n"
            ]
        },
        {
            "cell_type": "code",
            "execution_count": 205,
            "id": "f5aa6dcf",
            "metadata": {},
            "outputs": [
                {
                    "data": {
                        "text/plain": [
                            "Index(['Search Keyword', 'Platform', 'Job ID', 'Job Title', 'Company Name', 'Location', 'Job Description', 'Rating', 'Employment Type', 'Company URL', 'Job URL', 'Job Age', 'Job Age Number', 'Collection Date', 'Data Row', 'Tracking ID', 'Industry', 'Job Date', 'Type of ownership', 'Language', 'Dutch Requirement', 'English Requirement', 'Sector Code', 'Sector', 'Keywords Count', '% per Sector', '% per Social Category', '% per Workforce', 'Female Count (x 1000)', 'Gender_Female_% per Sector', 'Gender_Female_% per Social Category', 'Gender_Female_% per Workforce', 'Male Count (x 1000)', 'Gender_Male_% per Sector', 'Gender_Male_% per Social Category', 'Gender_Male_% per Workforce', 'Gender', 'Age_Older_n', 'Age_Older_% per Sector', 'Age_Older_% per Social Category', 'Age_Older_% per Workforce', 'Age_Younger_n', 'Age_Younger_% per Sector', 'Age_Younger_% per Social Category', 'Age_Younger_% per Workforce', 'Age', 'Sector Count (x 1000)', '% Sector per Workforce', 'Gender_Female', 'Gender_Male', 'Gender_Mixed', 'Age_Mixed', 'Age_Older', 'Age_Younger', 'Gender_Num', 'Age_Num'], dtype='object')"
                        ]
                    },
                    "execution_count": 205,
                    "metadata": {},
                    "output_type": "execute_result"
                }
            ],
            "source": [
                "df_jobs.columns\n"
            ]
        },
        {
            "cell_type": "code",
            "execution_count": 206,
            "id": "82178d30",
            "metadata": {},
            "outputs": [],
            "source": [
                "df_jobs = df_jobs.drop(\n",
                "    columns = [\n",
                "        'Job Description', 'Rating', 'Employment Type',\n",
                "        'Company URL', 'Job URL', 'Job Age', 'Job Age Number',\n",
                "        'Collection Date', 'Data Row', 'Tracking ID', 'Job Date',\n",
                "        'Type of ownership', 'Language', 'Dutch Requirement', 'English Requirement', \n",
                "    ],\n",
                "    errors='ignore'\n",
                ")"
            ]
        },
        {
            "cell_type": "code",
            "execution_count": 207,
            "id": "9bba117b",
            "metadata": {},
            "outputs": [
                {
                    "data": {
                        "text/plain": [
                            "Index(['Search Keyword', 'Platform', 'Job ID', 'Job Title', 'Company Name', 'Location', 'Industry', 'Sector Code', 'Sector', 'Keywords Count', '% per Sector', '% per Social Category', '% per Workforce', 'Female Count (x 1000)', 'Gender_Female_% per Sector', 'Gender_Female_% per Social Category', 'Gender_Female_% per Workforce', 'Male Count (x 1000)', 'Gender_Male_% per Sector', 'Gender_Male_% per Social Category', 'Gender_Male_% per Workforce', 'Gender', 'Age_Older_n', 'Age_Older_% per Sector', 'Age_Older_% per Social Category', 'Age_Older_% per Workforce', 'Age_Younger_n', 'Age_Younger_% per Sector', 'Age_Younger_% per Social Category', 'Age_Younger_% per Workforce', 'Age', 'Sector Count (x 1000)', '% Sector per Workforce', 'Gender_Female', 'Gender_Male', 'Gender_Mixed', 'Age_Mixed', 'Age_Older', 'Age_Younger', 'Gender_Num', 'Age_Num'], dtype='object')"
                        ]
                    },
                    "execution_count": 207,
                    "metadata": {},
                    "output_type": "execute_result"
                }
            ],
            "source": [
                "df_jobs.columns\n"
            ]
        },
        {
            "cell_type": "code",
            "execution_count": 208,
            "id": "f11e0e01",
            "metadata": {},
            "outputs": [],
            "source": [
                "# Add sector and categorical data from df_jobs\n",
                "df_manual = df_manual.merge(df_jobs, on='Job ID', how='inner')\n"
            ]
        },
        {
            "cell_type": "code",
            "execution_count": 209,
            "id": "47f24060",
            "metadata": {},
            "outputs": [
                {
                    "data": {
                        "text/plain": [
                            "5298"
                        ]
                    },
                    "execution_count": 209,
                    "metadata": {},
                    "output_type": "execute_result"
                }
            ],
            "source": [
                "# len = 5298\n",
                "len(df_manual)\n"
            ]
        },
        {
            "cell_type": "code",
            "execution_count": 210,
            "id": "4fa2c4a7",
            "metadata": {},
            "outputs": [
                {
                    "name": "stdout",
                    "output_type": "stream",
                    "text": [
                        "<class 'pandas.core.frame.DataFrame'>\n",
                        "Int64Index: 5298 entries, 0 to 5297\n",
                        "Data columns (total 46 columns):\n",
                        " #   Column                               Non-Null Count  Dtype   \n",
                        "---  ------                               --------------  -----   \n",
                        " 0   Job ID                               5298 non-null   object  \n",
                        " 1   Job Description spacy_sentencized    5298 non-null   object  \n",
                        " 2   Warmth                               5298 non-null   int64   \n",
                        " 3   Competence                           5298 non-null   int64   \n",
                        " 4   Dutch Requirement                    5298 non-null   object  \n",
                        " 5   English Requirement                  5298 non-null   object  \n",
                        " 6   Search Keyword                       5298 non-null   object  \n",
                        " 7   Platform                             5298 non-null   object  \n",
                        " 8   Job Title                            5298 non-null   object  \n",
                        " 9   Company Name                         5298 non-null   object  \n",
                        " 10  Location                             5298 non-null   object  \n",
                        " 11  Industry                             184 non-null    object  \n",
                        " 12  Sector Code                          5298 non-null   object  \n",
                        " 13  Sector                               5298 non-null   object  \n",
                        " 14  Keywords Count                       5298 non-null   float64 \n",
                        " 15  % per Sector                         5298 non-null   float64 \n",
                        " 16  % per Social Category                5298 non-null   float64 \n",
                        " 17  % per Workforce                      5298 non-null   float64 \n",
                        " 18  Female Count (x 1000)                5298 non-null   float64 \n",
                        " 19  Gender_Female_% per Sector           5298 non-null   float64 \n",
                        " 20  Gender_Female_% per Social Category  5298 non-null   float64 \n",
                        " 21  Gender_Female_% per Workforce        5298 non-null   float64 \n",
                        " 22  Male Count (x 1000)                  5298 non-null   float64 \n",
                        " 23  Gender_Male_% per Sector             5298 non-null   float64 \n",
                        " 24  Gender_Male_% per Social Category    5298 non-null   float64 \n",
                        " 25  Gender_Male_% per Workforce          5298 non-null   float64 \n",
                        " 26  Gender                               5298 non-null   category\n",
                        " 27  Age_Older_n                          5298 non-null   float64 \n",
                        " 28  Age_Older_% per Sector               5298 non-null   float64 \n",
                        " 29  Age_Older_% per Social Category      5298 non-null   float64 \n",
                        " 30  Age_Older_% per Workforce            5298 non-null   float64 \n",
                        " 31  Age_Younger_n                        5298 non-null   float64 \n",
                        " 32  Age_Younger_% per Sector             5298 non-null   float64 \n",
                        " 33  Age_Younger_% per Social Category    5298 non-null   float64 \n",
                        " 34  Age_Younger_% per Workforce          5298 non-null   float64 \n",
                        " 35  Age                                  5298 non-null   category\n",
                        " 36  Sector Count (x 1000)                5298 non-null   float64 \n",
                        " 37  % Sector per Workforce               5298 non-null   float64 \n",
                        " 38  Gender_Female                        5298 non-null   int64   \n",
                        " 39  Gender_Male                          5298 non-null   int64   \n",
                        " 40  Gender_Mixed                         5298 non-null   int64   \n",
                        " 41  Age_Mixed                            5298 non-null   int64   \n",
                        " 42  Age_Older                            5298 non-null   int64   \n",
                        " 43  Age_Younger                          5298 non-null   int64   \n",
                        " 44  Gender_Num                           5298 non-null   int64   \n",
                        " 45  Age_Num                              5298 non-null   int64   \n",
                        "dtypes: category(2), float64(22), int64(10), object(12)\n",
                        "memory usage: 1.8+ MB\n"
                    ]
                }
            ],
            "source": [
                "df_manual.info()\n"
            ]
        },
        {
            "cell_type": "code",
            "execution_count": 211,
            "id": "40fa3bc0",
            "metadata": {},
            "outputs": [
                {
                    "data": {
                        "text/html": [
                            "<div>\n",
                            "<style scoped>\n",
                            "    .dataframe tbody tr th:only-of-type {\n",
                            "        vertical-align: middle;\n",
                            "    }\n",
                            "\n",
                            "    .dataframe tbody tr th {\n",
                            "        vertical-align: top;\n",
                            "    }\n",
                            "\n",
                            "    .dataframe thead th {\n",
                            "        text-align: right;\n",
                            "    }\n",
                            "</style>\n",
                            "<table border=\"1\" class=\"dataframe\">\n",
                            "  <thead>\n",
                            "    <tr style=\"text-align: center;\">\n",
                            "      <th></th>\n",
                            "      <th>Job ID</th>\n",
                            "      <th>Job Description spacy_sentencized</th>\n",
                            "      <th>Warmth</th>\n",
                            "      <th>Competence</th>\n",
                            "      <th>Dutch Requirement</th>\n",
                            "      <th>English Requirement</th>\n",
                            "      <th>Search Keyword</th>\n",
                            "      <th>Platform</th>\n",
                            "      <th>Job Title</th>\n",
                            "      <th>Company Name</th>\n",
                            "      <th>Location</th>\n",
                            "      <th>Industry</th>\n",
                            "      <th>Sector Code</th>\n",
                            "      <th>Sector</th>\n",
                            "      <th>Keywords Count</th>\n",
                            "      <th>% per Sector</th>\n",
                            "      <th>% per Social Category</th>\n",
                            "      <th>% per Workforce</th>\n",
                            "      <th>Female Count (x 1000)</th>\n",
                            "      <th>Gender_Female_% per Sector</th>\n",
                            "      <th>Gender_Female_% per Social Category</th>\n",
                            "      <th>Gender_Female_% per Workforce</th>\n",
                            "      <th>Male Count (x 1000)</th>\n",
                            "      <th>Gender_Male_% per Sector</th>\n",
                            "      <th>Gender_Male_% per Social Category</th>\n",
                            "      <th>Gender_Male_% per Workforce</th>\n",
                            "      <th>Gender</th>\n",
                            "      <th>Age_Older_n</th>\n",
                            "      <th>Age_Older_% per Sector</th>\n",
                            "      <th>Age_Older_% per Social Category</th>\n",
                            "      <th>Age_Older_% per Workforce</th>\n",
                            "      <th>Age_Younger_n</th>\n",
                            "      <th>Age_Younger_% per Sector</th>\n",
                            "      <th>Age_Younger_% per Social Category</th>\n",
                            "      <th>Age_Younger_% per Workforce</th>\n",
                            "      <th>Age</th>\n",
                            "      <th>Sector Count (x 1000)</th>\n",
                            "      <th>% Sector per Workforce</th>\n",
                            "      <th>Gender_Female</th>\n",
                            "      <th>Gender_Male</th>\n",
                            "      <th>Gender_Mixed</th>\n",
                            "      <th>Age_Mixed</th>\n",
                            "      <th>Age_Older</th>\n",
                            "      <th>Age_Younger</th>\n",
                            "      <th>Gender_Num</th>\n",
                            "      <th>Age_Num</th>\n",
                            "    </tr>\n",
                            "  </thead>\n",
                            "  <tbody>\n",
                            "    <tr>\n",
                            "      <th>0</th>\n",
                            "      <td>p_8b623ceefbda5c0a</td>\n",
                            "      <td>The opportunity where you will make an impact:</td>\n",
                            "      <td>0</td>\n",
                            "      <td>0</td>\n",
                            "      <td>No</td>\n",
                            "      <td>No</td>\n",
                            "      <td>waste management</td>\n",
                            "      <td>Indeed</td>\n",
                            "      <td>Content Strategist &amp; Copywriting Manager</td>\n",
                            "      <td>Body  Fit</td>\n",
                            "      <td>Amsterdam</td>\n",
                            "      <td>NaN</td>\n",
                            "      <td>E</td>\n",
                            "      <td>Water supply and waste management</td>\n",
                            "      <td>4.00</td>\n",
                            "      <td>0.11</td>\n",
                            "      <td>0.04</td>\n",
                            "      <td>0.00</td>\n",
                            "      <td>7.00</td>\n",
                            "      <td>0.19</td>\n",
                            "      <td>0.00</td>\n",
                            "      <td>0.00</td>\n",
                            "      <td>29.00</td>\n",
                            "      <td>0.81</td>\n",
                            "      <td>0.00</td>\n",
                            "      <td>0.00</td>\n",
                            "      <td>Male</td>\n",
                            "      <td>21.00</td>\n",
                            "      <td>0.58</td>\n",
                            "      <td>0.00</td>\n",
                            "      <td>0.00</td>\n",
                            "      <td>16.00</td>\n",
                            "      <td>0.44</td>\n",
                            "      <td>0.00</td>\n",
                            "      <td>0.00</td>\n",
                            "      <td>Older</td>\n",
                            "      <td>36.00</td>\n",
                            "      <td>0.00</td>\n",
                            "      <td>0</td>\n",
                            "      <td>1</td>\n",
                            "      <td>0</td>\n",
                            "      <td>0</td>\n",
                            "      <td>1</td>\n",
                            "      <td>0</td>\n",
                            "      <td>2</td>\n",
                            "      <td>0</td>\n",
                            "    </tr>\n",
                            "    <tr>\n",
                            "      <th>1</th>\n",
                            "      <td>p_8b623ceefbda5c0a</td>\n",
                            "      <td>As our Content Strategist &amp; Copywriting Manage...</td>\n",
                            "      <td>0</td>\n",
                            "      <td>1</td>\n",
                            "      <td>No</td>\n",
                            "      <td>No</td>\n",
                            "      <td>waste management</td>\n",
                            "      <td>Indeed</td>\n",
                            "      <td>Content Strategist &amp; Copywriting Manager</td>\n",
                            "      <td>Body  Fit</td>\n",
                            "      <td>Amsterdam</td>\n",
                            "      <td>NaN</td>\n",
                            "      <td>E</td>\n",
                            "      <td>Water supply and waste management</td>\n",
                            "      <td>4.00</td>\n",
                            "      <td>0.11</td>\n",
                            "      <td>0.04</td>\n",
                            "      <td>0.00</td>\n",
                            "      <td>7.00</td>\n",
                            "      <td>0.19</td>\n",
                            "      <td>0.00</td>\n",
                            "      <td>0.00</td>\n",
                            "      <td>29.00</td>\n",
                            "      <td>0.81</td>\n",
                            "      <td>0.00</td>\n",
                            "      <td>0.00</td>\n",
                            "      <td>Male</td>\n",
                            "      <td>21.00</td>\n",
                            "      <td>0.58</td>\n",
                            "      <td>0.00</td>\n",
                            "      <td>0.00</td>\n",
                            "      <td>16.00</td>\n",
                            "      <td>0.44</td>\n",
                            "      <td>0.00</td>\n",
                            "      <td>0.00</td>\n",
                            "      <td>Older</td>\n",
                            "      <td>36.00</td>\n",
                            "      <td>0.00</td>\n",
                            "      <td>0</td>\n",
                            "      <td>1</td>\n",
                            "      <td>0</td>\n",
                            "      <td>0</td>\n",
                            "      <td>1</td>\n",
                            "      <td>0</td>\n",
                            "      <td>2</td>\n",
                            "      <td>0</td>\n",
                            "    </tr>\n",
                            "    <tr>\n",
                            "      <th>2</th>\n",
                            "      <td>p_8b623ceefbda5c0a</td>\n",
                            "      <td>You are skilled and experienced within the dig...</td>\n",
                            "      <td>0</td>\n",
                            "      <td>1</td>\n",
                            "      <td>No</td>\n",
                            "      <td>No</td>\n",
                            "      <td>waste management</td>\n",
                            "      <td>Indeed</td>\n",
                            "      <td>Content Strategist &amp; Copywriting Manager</td>\n",
                            "      <td>Body  Fit</td>\n",
                            "      <td>Amsterdam</td>\n",
                            "      <td>NaN</td>\n",
                            "      <td>E</td>\n",
                            "      <td>Water supply and waste management</td>\n",
                            "      <td>4.00</td>\n",
                            "      <td>0.11</td>\n",
                            "      <td>0.04</td>\n",
                            "      <td>0.00</td>\n",
                            "      <td>7.00</td>\n",
                            "      <td>0.19</td>\n",
                            "      <td>0.00</td>\n",
                            "      <td>0.00</td>\n",
                            "      <td>29.00</td>\n",
                            "      <td>0.81</td>\n",
                            "      <td>0.00</td>\n",
                            "      <td>0.00</td>\n",
                            "      <td>Male</td>\n",
                            "      <td>21.00</td>\n",
                            "      <td>0.58</td>\n",
                            "      <td>0.00</td>\n",
                            "      <td>0.00</td>\n",
                            "      <td>16.00</td>\n",
                            "      <td>0.44</td>\n",
                            "      <td>0.00</td>\n",
                            "      <td>0.00</td>\n",
                            "      <td>Older</td>\n",
                            "      <td>36.00</td>\n",
                            "      <td>0.00</td>\n",
                            "      <td>0</td>\n",
                            "      <td>1</td>\n",
                            "      <td>0</td>\n",
                            "      <td>0</td>\n",
                            "      <td>1</td>\n",
                            "      <td>0</td>\n",
                            "      <td>2</td>\n",
                            "      <td>0</td>\n",
                            "    </tr>\n",
                            "    <tr>\n",
                            "      <th>3</th>\n",
                            "      <td>p_8b623ceefbda5c0a</td>\n",
                            "      <td>With your team of copywriters (currently 1 Dig...</td>\n",
                            "      <td>1</td>\n",
                            "      <td>1</td>\n",
                            "      <td>No</td>\n",
                            "      <td>No</td>\n",
                            "      <td>waste management</td>\n",
                            "      <td>Indeed</td>\n",
                            "      <td>Content Strategist &amp; Copywriting Manager</td>\n",
                            "      <td>Body  Fit</td>\n",
                            "      <td>Amsterdam</td>\n",
                            "      <td>NaN</td>\n",
                            "      <td>E</td>\n",
                            "      <td>Water supply and waste management</td>\n",
                            "      <td>4.00</td>\n",
                            "      <td>0.11</td>\n",
                            "      <td>0.04</td>\n",
                            "      <td>0.00</td>\n",
                            "      <td>7.00</td>\n",
                            "      <td>0.19</td>\n",
                            "      <td>0.00</td>\n",
                            "      <td>0.00</td>\n",
                            "      <td>29.00</td>\n",
                            "      <td>0.81</td>\n",
                            "      <td>0.00</td>\n",
                            "      <td>0.00</td>\n",
                            "      <td>Male</td>\n",
                            "      <td>21.00</td>\n",
                            "      <td>0.58</td>\n",
                            "      <td>0.00</td>\n",
                            "      <td>0.00</td>\n",
                            "      <td>16.00</td>\n",
                            "      <td>0.44</td>\n",
                            "      <td>0.00</td>\n",
                            "      <td>0.00</td>\n",
                            "      <td>Older</td>\n",
                            "      <td>36.00</td>\n",
                            "      <td>0.00</td>\n",
                            "      <td>0</td>\n",
                            "      <td>1</td>\n",
                            "      <td>0</td>\n",
                            "      <td>0</td>\n",
                            "      <td>1</td>\n",
                            "      <td>0</td>\n",
                            "      <td>2</td>\n",
                            "      <td>0</td>\n",
                            "    </tr>\n",
                            "    <tr>\n",
                            "      <th>4</th>\n",
                            "      <td>p_8b623ceefbda5c0a</td>\n",
                            "      <td>Your role is to create campaigns and content t...</td>\n",
                            "      <td>1</td>\n",
                            "      <td>0</td>\n",
                            "      <td>No</td>\n",
                            "      <td>No</td>\n",
                            "      <td>waste management</td>\n",
                            "      <td>Indeed</td>\n",
                            "      <td>Content Strategist &amp; Copywriting Manager</td>\n",
                            "      <td>Body  Fit</td>\n",
                            "      <td>Amsterdam</td>\n",
                            "      <td>NaN</td>\n",
                            "      <td>E</td>\n",
                            "      <td>Water supply and waste management</td>\n",
                            "      <td>4.00</td>\n",
                            "      <td>0.11</td>\n",
                            "      <td>0.04</td>\n",
                            "      <td>0.00</td>\n",
                            "      <td>7.00</td>\n",
                            "      <td>0.19</td>\n",
                            "      <td>0.00</td>\n",
                            "      <td>0.00</td>\n",
                            "      <td>29.00</td>\n",
                            "      <td>0.81</td>\n",
                            "      <td>0.00</td>\n",
                            "      <td>0.00</td>\n",
                            "      <td>Male</td>\n",
                            "      <td>21.00</td>\n",
                            "      <td>0.58</td>\n",
                            "      <td>0.00</td>\n",
                            "      <td>0.00</td>\n",
                            "      <td>16.00</td>\n",
                            "      <td>0.44</td>\n",
                            "      <td>0.00</td>\n",
                            "      <td>0.00</td>\n",
                            "      <td>Older</td>\n",
                            "      <td>36.00</td>\n",
                            "      <td>0.00</td>\n",
                            "      <td>0</td>\n",
                            "      <td>1</td>\n",
                            "      <td>0</td>\n",
                            "      <td>0</td>\n",
                            "      <td>1</td>\n",
                            "      <td>0</td>\n",
                            "      <td>2</td>\n",
                            "      <td>0</td>\n",
                            "    </tr>\n",
                            "  </tbody>\n",
                            "</table>\n",
                            "</div>"
                        ],
                        "text/plain": [
                            "         Job ID               Job Description spacy_sentencized           Warmth  Competence Dutch Requirement English Requirement   Search Keyword  Platform                 Job Title                 Company Name   Location  Industry Sector Code               Sector                Keywords Count  % per Sector  % per Social Category  % per Workforce  Female Count (x 1000)  Gender_Female_% per Sector  Gender_Female_% per Social Category  Gender_Female_% per Workforce  Male Count (x 1000)  Gender_Male_% per Sector  Gender_Male_% per Social Category  Gender_Male_% per Workforce Gender  Age_Older_n  Age_Older_% per Sector  Age_Older_% per Social Category  Age_Older_% per Workforce  Age_Younger_n  Age_Younger_% per Sector  Age_Younger_% per Social Category  Age_Younger_% per Workforce  Age    Sector Count (x 1000)  % Sector per Workforce  Gender_Female  Gender_Male  Gender_Mixed  Age_Mixed  Age_Older  Age_Younger  Gender_Num  Age_Num\n",
                            "0  p_8b623ceefbda5c0a     The opportunity where you will make an impact:     0         0             No                 No          waste management  Indeed   Content Strategist & Copywriting Manager   Body  Fit    Amsterdam    NaN         E      Water supply and waste management       4.00           0.11              0.04                0.00                7.00                      0.19                            0.00                              0.00                     29.00                    0.81                          0.00                            0.00              Male     21.00               0.58                        0.00                          0.00                16.00                 0.44                          0.00                            0.00              Older         36.00                    0.00                 0             1             0           0          1           0            2         0   \n",
                            "1  p_8b623ceefbda5c0a  As our Content Strategist & Copywriting Manage...     0         1             No                 No          waste management  Indeed   Content Strategist & Copywriting Manager   Body  Fit    Amsterdam    NaN         E      Water supply and waste management       4.00           0.11              0.04                0.00                7.00                      0.19                            0.00                              0.00                     29.00                    0.81                          0.00                            0.00              Male     21.00               0.58                        0.00                          0.00                16.00                 0.44                          0.00                            0.00              Older         36.00                    0.00                 0             1             0           0          1           0            2         0   \n",
                            "2  p_8b623ceefbda5c0a  You are skilled and experienced within the dig...     0         1             No                 No          waste management  Indeed   Content Strategist & Copywriting Manager   Body  Fit    Amsterdam    NaN         E      Water supply and waste management       4.00           0.11              0.04                0.00                7.00                      0.19                            0.00                              0.00                     29.00                    0.81                          0.00                            0.00              Male     21.00               0.58                        0.00                          0.00                16.00                 0.44                          0.00                            0.00              Older         36.00                    0.00                 0             1             0           0          1           0            2         0   \n",
                            "3  p_8b623ceefbda5c0a  With your team of copywriters (currently 1 Dig...     1         1             No                 No          waste management  Indeed   Content Strategist & Copywriting Manager   Body  Fit    Amsterdam    NaN         E      Water supply and waste management       4.00           0.11              0.04                0.00                7.00                      0.19                            0.00                              0.00                     29.00                    0.81                          0.00                            0.00              Male     21.00               0.58                        0.00                          0.00                16.00                 0.44                          0.00                            0.00              Older         36.00                    0.00                 0             1             0           0          1           0            2         0   \n",
                            "4  p_8b623ceefbda5c0a  Your role is to create campaigns and content t...     1         0             No                 No          waste management  Indeed   Content Strategist & Copywriting Manager   Body  Fit    Amsterdam    NaN         E      Water supply and waste management       4.00           0.11              0.04                0.00                7.00                      0.19                            0.00                              0.00                     29.00                    0.81                          0.00                            0.00              Male     21.00               0.58                        0.00                          0.00                16.00                 0.44                          0.00                            0.00              Older         36.00                    0.00                 0             1             0           0          1           0            2         0   "
                        ]
                    },
                    "execution_count": 211,
                    "metadata": {},
                    "output_type": "execute_result"
                }
            ],
            "source": [
                "df_manual.head()"
            ]
        },
        {
            "cell_type": "markdown",
            "id": "1d889ec9",
            "metadata": {},
            "source": [
                "#### Check if there is any missing sector data in the merged dataframe"
            ]
        },
        {
            "cell_type": "code",
            "execution_count": 212,
            "id": "43ddadb7",
            "metadata": {},
            "outputs": [
                {
                    "data": {
                        "text/plain": [
                            "0"
                        ]
                    },
                    "execution_count": 212,
                    "metadata": {},
                    "output_type": "execute_result"
                }
            ],
            "source": [
                "df_manual['Sector'].isna().sum()"
            ]
        },
        {
            "cell_type": "code",
            "execution_count": 213,
            "id": "cb5b9064",
            "metadata": {},
            "outputs": [],
            "source": [
                "if df_manual['Sector'].isna().sum() != 0:\n",
                "    print('Some search keywords did not match a sector. Fixing')\n",
                "    print(set(df_manual['Search Keyword'].loc[df_manual['Sector'].isna()].to_list()))\n",
                "    print(len(df_manual['Search Keyword'].loc[df_manual['Search Keyword'].isin(list(keyword_trans_dict.keys()))]))\n",
                "    df_manual = fix_keywords(df_manual)\n",
                "    print(set(df_manual['Search Keyword'].loc[df_manual['Sector'].isna()].to_list()))\n",
                "    print(len(df_manual['Search Keyword'].loc[df_manual['Search Keyword'].isin(list(keyword_trans_dict.keys()))]))\n"
            ]
        },
        {
            "cell_type": "code",
            "execution_count": 214,
            "id": "d0d24ae2",
            "metadata": {},
            "outputs": [
                {
                    "name": "stdout",
                    "output_type": "stream",
                    "text": [
                        "\n",
                        "DF INFO:\n",
                        "\n",
                        "<class 'pandas.core.frame.DataFrame'>\n",
                        "Index: 113 entries, 3768944208 to pj_a4ac3e531abef752\n",
                        "Data columns (total 45 columns):\n",
                        " #   Column                               Non-Null Count  Dtype   \n",
                        "---  ------                               --------------  -----   \n",
                        " 0   Job Description spacy_sentencized    113 non-null    object  \n",
                        " 1   Warmth                               113 non-null    int64   \n",
                        " 2   Competence                           113 non-null    int64   \n",
                        " 3   Dutch Requirement                    113 non-null    object  \n",
                        " 4   English Requirement                  113 non-null    object  \n",
                        " 5   Search Keyword                       113 non-null    object  \n",
                        " 6   Platform                             113 non-null    object  \n",
                        " 7   Job Title                            113 non-null    object  \n",
                        " 8   Company Name                         113 non-null    object  \n",
                        " 9   Location                             113 non-null    object  \n",
                        " 10  Industry                             5 non-null      object  \n",
                        " 11  Sector Code                          113 non-null    object  \n",
                        " 12  Sector                               113 non-null    object  \n",
                        " 13  Keywords Count                       113 non-null    float64 \n",
                        " 14  % per Sector                         113 non-null    float64 \n",
                        " 15  % per Social Category                113 non-null    float64 \n",
                        " 16  % per Workforce                      113 non-null    float64 \n",
                        " 17  Female Count (x 1000)                113 non-null    float64 \n",
                        " 18  Gender_Female_% per Sector           113 non-null    float64 \n",
                        " 19  Gender_Female_% per Social Category  113 non-null    float64 \n",
                        " 20  Gender_Female_% per Workforce        113 non-null    float64 \n",
                        " 21  Male Count (x 1000)                  113 non-null    float64 \n",
                        " 22  Gender_Male_% per Sector             113 non-null    float64 \n",
                        " 23  Gender_Male_% per Social Category    113 non-null    float64 \n",
                        " 24  Gender_Male_% per Workforce          113 non-null    float64 \n",
                        " 25  Gender                               113 non-null    category\n",
                        " 26  Age_Older_n                          113 non-null    float64 \n",
                        " 27  Age_Older_% per Sector               113 non-null    float64 \n",
                        " 28  Age_Older_% per Social Category      113 non-null    float64 \n",
                        " 29  Age_Older_% per Workforce            113 non-null    float64 \n",
                        " 30  Age_Younger_n                        113 non-null    float64 \n",
                        " 31  Age_Younger_% per Sector             113 non-null    float64 \n",
                        " 32  Age_Younger_% per Social Category    113 non-null    float64 \n",
                        " 33  Age_Younger_% per Workforce          113 non-null    float64 \n",
                        " 34  Age                                  113 non-null    category\n",
                        " 35  Sector Count (x 1000)                113 non-null    float64 \n",
                        " 36  % Sector per Workforce               113 non-null    float64 \n",
                        " 37  Gender_Female                        113 non-null    int64   \n",
                        " 38  Gender_Male                          113 non-null    int64   \n",
                        " 39  Gender_Mixed                         113 non-null    int64   \n",
                        " 40  Age_Mixed                            113 non-null    int64   \n",
                        " 41  Age_Older                            113 non-null    int64   \n",
                        " 42  Age_Younger                          113 non-null    int64   \n",
                        " 43  Gender_Num                           113 non-null    int64   \n",
                        " 44  Age_Num                              113 non-null    int64   \n",
                        "dtypes: category(2), float64(22), int64(10), object(11)\n",
                        "memory usage: 39.3+ KB\n",
                        "====================\n",
                        "Gender:\n",
                        "--------------------\n",
                        "Gender Counts:\n",
                        "Mixed Gender    85\n",
                        "Male            16\n",
                        "Female          12\n",
                        "Name: Gender, dtype: int64\n",
                        "--------------------\n",
                        "Gender Percentages:\n",
                        "Mixed Gender   75.20\n",
                        "Male           14.20\n",
                        "Female         10.60\n",
                        "Name: Gender, dtype: float64\n",
                        "====================\n",
                        "Gender_Num:\n",
                        "--------------------\n",
                        "Gender_Num Counts:\n",
                        "1    85\n",
                        "2    16\n",
                        "0    12\n",
                        "Name: Gender_Num, dtype: int64\n",
                        "--------------------\n",
                        "Gender_Num Percentages:\n",
                        "1   75.20\n",
                        "2   14.20\n",
                        "0   10.60\n",
                        "Name: Gender_Num, dtype: float64\n",
                        "--------------------\n",
                        "Gender_Num Mean: 1.04\n",
                        "--------------------\n",
                        "Gender_Num Standard Deviation: 0.5\n",
                        "====================\n",
                        "Gender_Female:\n",
                        "--------------------\n",
                        "Gender_Female Counts:\n",
                        "0    101\n",
                        "1     12\n",
                        "Name: Gender_Female, dtype: int64\n",
                        "--------------------\n",
                        "Gender_Female Percentages:\n",
                        "0   89.40\n",
                        "1   10.60\n",
                        "Name: Gender_Female, dtype: float64\n",
                        "--------------------\n",
                        "Gender_Female Mean: 0.11\n",
                        "--------------------\n",
                        "Gender_Female Standard Deviation: 0.31\n",
                        "====================\n",
                        "Gender_Mixed:\n",
                        "--------------------\n",
                        "Gender_Mixed Counts:\n",
                        "1    85\n",
                        "0    28\n",
                        "Name: Gender_Mixed, dtype: int64\n",
                        "--------------------\n",
                        "Gender_Mixed Percentages:\n",
                        "1   75.20\n",
                        "0   24.80\n",
                        "Name: Gender_Mixed, dtype: float64\n",
                        "--------------------\n",
                        "Gender_Mixed Mean: 0.75\n",
                        "--------------------\n",
                        "Gender_Mixed Standard Deviation: 0.43\n",
                        "====================\n",
                        "Gender_Male:\n",
                        "--------------------\n",
                        "Gender_Male Counts:\n",
                        "0    97\n",
                        "1    16\n",
                        "Name: Gender_Male, dtype: int64\n",
                        "--------------------\n",
                        "Gender_Male Percentages:\n",
                        "0   85.80\n",
                        "1   14.20\n",
                        "Name: Gender_Male, dtype: float64\n",
                        "--------------------\n",
                        "Gender_Male Mean: 0.14\n",
                        "--------------------\n",
                        "Gender_Male Standard Deviation: 0.35\n",
                        "====================\n",
                        "Age:\n",
                        "--------------------\n",
                        "Age Counts:\n",
                        "Younger      57\n",
                        "Mixed Age    41\n",
                        "Older        15\n",
                        "Name: Age, dtype: int64\n",
                        "--------------------\n",
                        "Age Percentages:\n",
                        "Younger     50.40\n",
                        "Mixed Age   36.30\n",
                        "Older       13.30\n",
                        "Name: Age, dtype: float64\n",
                        "====================\n",
                        "Age_Num:\n",
                        "--------------------\n",
                        "Age_Num Counts:\n",
                        "2    57\n",
                        "1    41\n",
                        "0    15\n",
                        "Name: Age_Num, dtype: int64\n",
                        "--------------------\n",
                        "Age_Num Percentages:\n",
                        "2   50.40\n",
                        "1   36.30\n",
                        "0   13.30\n",
                        "Name: Age_Num, dtype: float64\n",
                        "--------------------\n",
                        "Age_Num Mean: 1.37\n",
                        "--------------------\n",
                        "Age_Num Standard Deviation: 0.71\n",
                        "====================\n",
                        "Age_Older:\n",
                        "--------------------\n",
                        "Age_Older Counts:\n",
                        "0    98\n",
                        "1    15\n",
                        "Name: Age_Older, dtype: int64\n",
                        "--------------------\n",
                        "Age_Older Percentages:\n",
                        "0   86.70\n",
                        "1   13.30\n",
                        "Name: Age_Older, dtype: float64\n",
                        "--------------------\n",
                        "Age_Older Mean: 0.13\n",
                        "--------------------\n",
                        "Age_Older Standard Deviation: 0.34\n",
                        "====================\n",
                        "Age_Mixed:\n",
                        "--------------------\n",
                        "Age_Mixed Counts:\n",
                        "0    72\n",
                        "1    41\n",
                        "Name: Age_Mixed, dtype: int64\n",
                        "--------------------\n",
                        "Age_Mixed Percentages:\n",
                        "0   63.70\n",
                        "1   36.30\n",
                        "Name: Age_Mixed, dtype: float64\n",
                        "--------------------\n",
                        "Age_Mixed Mean: 0.36\n",
                        "--------------------\n",
                        "Age_Mixed Standard Deviation: 0.48\n",
                        "====================\n",
                        "Age_Younger:\n",
                        "--------------------\n",
                        "Age_Younger Counts:\n",
                        "1    57\n",
                        "0    56\n",
                        "Name: Age_Younger, dtype: int64\n",
                        "--------------------\n",
                        "Age_Younger Percentages:\n",
                        "1   50.40\n",
                        "0   49.60\n",
                        "Name: Age_Younger, dtype: float64\n",
                        "--------------------\n",
                        "Age_Younger Mean: 0.5\n",
                        "--------------------\n",
                        "Age_Younger Standard Deviation: 0.5\n",
                        "\n",
                        "\n"
                    ]
                }
            ],
            "source": [
                "# Manual Job Ad info, len = 113\n",
                "df_gender_age_info(df_manual.groupby(['Job ID']).first())\n"
            ]
        },
        {
            "cell_type": "code",
            "execution_count": 215,
            "id": "d4d65547",
            "metadata": {},
            "outputs": [
                {
                    "name": "stdout",
                    "output_type": "stream",
                    "text": [
                        "\n",
                        "DF INFO:\n",
                        "\n",
                        "<class 'pandas.core.frame.DataFrame'>\n",
                        "Int64Index: 5298 entries, 0 to 5297\n",
                        "Data columns (total 46 columns):\n",
                        " #   Column                               Non-Null Count  Dtype   \n",
                        "---  ------                               --------------  -----   \n",
                        " 0   Job ID                               5298 non-null   object  \n",
                        " 1   Job Description spacy_sentencized    5298 non-null   object  \n",
                        " 2   Warmth                               5298 non-null   int64   \n",
                        " 3   Competence                           5298 non-null   int64   \n",
                        " 4   Dutch Requirement                    5298 non-null   object  \n",
                        " 5   English Requirement                  5298 non-null   object  \n",
                        " 6   Search Keyword                       5298 non-null   object  \n",
                        " 7   Platform                             5298 non-null   object  \n",
                        " 8   Job Title                            5298 non-null   object  \n",
                        " 9   Company Name                         5298 non-null   object  \n",
                        " 10  Location                             5298 non-null   object  \n",
                        " 11  Industry                             184 non-null    object  \n",
                        " 12  Sector Code                          5298 non-null   object  \n",
                        " 13  Sector                               5298 non-null   object  \n",
                        " 14  Keywords Count                       5298 non-null   float64 \n",
                        " 15  % per Sector                         5298 non-null   float64 \n",
                        " 16  % per Social Category                5298 non-null   float64 \n",
                        " 17  % per Workforce                      5298 non-null   float64 \n",
                        " 18  Female Count (x 1000)                5298 non-null   float64 \n",
                        " 19  Gender_Female_% per Sector           5298 non-null   float64 \n",
                        " 20  Gender_Female_% per Social Category  5298 non-null   float64 \n",
                        " 21  Gender_Female_% per Workforce        5298 non-null   float64 \n",
                        " 22  Male Count (x 1000)                  5298 non-null   float64 \n",
                        " 23  Gender_Male_% per Sector             5298 non-null   float64 \n",
                        " 24  Gender_Male_% per Social Category    5298 non-null   float64 \n",
                        " 25  Gender_Male_% per Workforce          5298 non-null   float64 \n",
                        " 26  Gender                               5298 non-null   category\n",
                        " 27  Age_Older_n                          5298 non-null   float64 \n",
                        " 28  Age_Older_% per Sector               5298 non-null   float64 \n",
                        " 29  Age_Older_% per Social Category      5298 non-null   float64 \n",
                        " 30  Age_Older_% per Workforce            5298 non-null   float64 \n",
                        " 31  Age_Younger_n                        5298 non-null   float64 \n",
                        " 32  Age_Younger_% per Sector             5298 non-null   float64 \n",
                        " 33  Age_Younger_% per Social Category    5298 non-null   float64 \n",
                        " 34  Age_Younger_% per Workforce          5298 non-null   float64 \n",
                        " 35  Age                                  5298 non-null   category\n",
                        " 36  Sector Count (x 1000)                5298 non-null   float64 \n",
                        " 37  % Sector per Workforce               5298 non-null   float64 \n",
                        " 38  Gender_Female                        5298 non-null   int64   \n",
                        " 39  Gender_Male                          5298 non-null   int64   \n",
                        " 40  Gender_Mixed                         5298 non-null   int64   \n",
                        " 41  Age_Mixed                            5298 non-null   int64   \n",
                        " 42  Age_Older                            5298 non-null   int64   \n",
                        " 43  Age_Younger                          5298 non-null   int64   \n",
                        " 44  Gender_Num                           5298 non-null   int64   \n",
                        " 45  Age_Num                              5298 non-null   int64   \n",
                        "dtypes: category(2), float64(22), int64(10), object(12)\n",
                        "memory usage: 1.8+ MB\n",
                        "====================\n",
                        "Gender:\n",
                        "--------------------\n",
                        "Gender Counts:\n",
                        "Mixed Gender    4121\n",
                        "Male             630\n",
                        "Female           547\n",
                        "Name: Gender, dtype: int64\n",
                        "--------------------\n",
                        "Gender Percentages:\n",
                        "Mixed Gender   77.80\n",
                        "Male           11.90\n",
                        "Female         10.30\n",
                        "Name: Gender, dtype: float64\n",
                        "====================\n",
                        "Gender_Num:\n",
                        "--------------------\n",
                        "Gender_Num Counts:\n",
                        "1    4121\n",
                        "2     630\n",
                        "0     547\n",
                        "Name: Gender_Num, dtype: int64\n",
                        "--------------------\n",
                        "Gender_Num Percentages:\n",
                        "1   77.80\n",
                        "2   11.90\n",
                        "0   10.30\n",
                        "Name: Gender_Num, dtype: float64\n",
                        "--------------------\n",
                        "Gender_Num Mean: 1.02\n",
                        "--------------------\n",
                        "Gender_Num Standard Deviation: 0.47\n",
                        "====================\n",
                        "Gender_Female:\n",
                        "--------------------\n",
                        "Gender_Female Counts:\n",
                        "0    4751\n",
                        "1     547\n",
                        "Name: Gender_Female, dtype: int64\n",
                        "--------------------\n",
                        "Gender_Female Percentages:\n",
                        "0   89.70\n",
                        "1   10.30\n",
                        "Name: Gender_Female, dtype: float64\n",
                        "--------------------\n",
                        "Gender_Female Mean: 0.1\n",
                        "--------------------\n",
                        "Gender_Female Standard Deviation: 0.3\n",
                        "====================\n",
                        "Gender_Mixed:\n",
                        "--------------------\n",
                        "Gender_Mixed Counts:\n",
                        "1    4121\n",
                        "0    1177\n",
                        "Name: Gender_Mixed, dtype: int64\n",
                        "--------------------\n",
                        "Gender_Mixed Percentages:\n",
                        "1   77.80\n",
                        "0   22.20\n",
                        "Name: Gender_Mixed, dtype: float64\n",
                        "--------------------\n",
                        "Gender_Mixed Mean: 0.78\n",
                        "--------------------\n",
                        "Gender_Mixed Standard Deviation: 0.42\n",
                        "====================\n",
                        "Gender_Male:\n",
                        "--------------------\n",
                        "Gender_Male Counts:\n",
                        "0    4668\n",
                        "1     630\n",
                        "Name: Gender_Male, dtype: int64\n",
                        "--------------------\n",
                        "Gender_Male Percentages:\n",
                        "0   88.10\n",
                        "1   11.90\n",
                        "Name: Gender_Male, dtype: float64\n",
                        "--------------------\n",
                        "Gender_Male Mean: 0.12\n",
                        "--------------------\n",
                        "Gender_Male Standard Deviation: 0.32\n",
                        "====================\n",
                        "Age:\n",
                        "--------------------\n",
                        "Age Counts:\n",
                        "Younger      2763\n",
                        "Mixed Age    1886\n",
                        "Older         649\n",
                        "Name: Age, dtype: int64\n",
                        "--------------------\n",
                        "Age Percentages:\n",
                        "Younger     52.20\n",
                        "Mixed Age   35.60\n",
                        "Older       12.20\n",
                        "Name: Age, dtype: float64\n",
                        "====================\n",
                        "Age_Num:\n",
                        "--------------------\n",
                        "Age_Num Counts:\n",
                        "2    2763\n",
                        "1    1886\n",
                        "0     649\n",
                        "Name: Age_Num, dtype: int64\n",
                        "--------------------\n",
                        "Age_Num Percentages:\n",
                        "2   52.20\n",
                        "1   35.60\n",
                        "0   12.20\n",
                        "Name: Age_Num, dtype: float64\n",
                        "--------------------\n",
                        "Age_Num Mean: 1.4\n",
                        "--------------------\n",
                        "Age_Num Standard Deviation: 0.7\n",
                        "====================\n",
                        "Age_Older:\n",
                        "--------------------\n",
                        "Age_Older Counts:\n",
                        "0    4649\n",
                        "1     649\n",
                        "Name: Age_Older, dtype: int64\n",
                        "--------------------\n",
                        "Age_Older Percentages:\n",
                        "0   87.80\n",
                        "1   12.20\n",
                        "Name: Age_Older, dtype: float64\n",
                        "--------------------\n",
                        "Age_Older Mean: 0.12\n",
                        "--------------------\n",
                        "Age_Older Standard Deviation: 0.33\n",
                        "====================\n",
                        "Age_Mixed:\n",
                        "--------------------\n",
                        "Age_Mixed Counts:\n",
                        "0    3412\n",
                        "1    1886\n",
                        "Name: Age_Mixed, dtype: int64\n",
                        "--------------------\n",
                        "Age_Mixed Percentages:\n",
                        "0   64.40\n",
                        "1   35.60\n",
                        "Name: Age_Mixed, dtype: float64\n",
                        "--------------------\n",
                        "Age_Mixed Mean: 0.36\n",
                        "--------------------\n",
                        "Age_Mixed Standard Deviation: 0.48\n",
                        "====================\n",
                        "Age_Younger:\n",
                        "--------------------\n",
                        "Age_Younger Counts:\n",
                        "1    2763\n",
                        "0    2535\n",
                        "Name: Age_Younger, dtype: int64\n",
                        "--------------------\n",
                        "Age_Younger Percentages:\n",
                        "1   52.20\n",
                        "0   47.80\n",
                        "Name: Age_Younger, dtype: float64\n",
                        "--------------------\n",
                        "Age_Younger Mean: 0.52\n",
                        "--------------------\n",
                        "Age_Younger Standard Deviation: 0.5\n",
                        "\n",
                        "\n"
                    ]
                }
            ],
            "source": [
                "# Manual Job Sentence info\n",
                "df_gender_age_info(df_manual)\n"
            ]
        },
        {
            "cell_type": "code",
            "execution_count": 216,
            "id": "d1d8a085",
            "metadata": {},
            "outputs": [
                {
                    "name": "stdout",
                    "output_type": "stream",
                    "text": [
                        "\n",
                        "DF INFO:\n",
                        "\n",
                        "<class 'pandas.core.frame.DataFrame'>\n",
                        "Int64Index: 5298 entries, 0 to 5297\n",
                        "Data columns (total 46 columns):\n",
                        " #   Column                               Non-Null Count  Dtype   \n",
                        "---  ------                               --------------  -----   \n",
                        " 0   Job ID                               5298 non-null   object  \n",
                        " 1   Job Description spacy_sentencized    5298 non-null   object  \n",
                        " 2   Warmth                               5298 non-null   int64   \n",
                        " 3   Competence                           5298 non-null   int64   \n",
                        " 4   Dutch Requirement                    5298 non-null   object  \n",
                        " 5   English Requirement                  5298 non-null   object  \n",
                        " 6   Search Keyword                       5298 non-null   object  \n",
                        " 7   Platform                             5298 non-null   object  \n",
                        " 8   Job Title                            5298 non-null   object  \n",
                        " 9   Company Name                         5298 non-null   object  \n",
                        " 10  Location                             5298 non-null   object  \n",
                        " 11  Industry                             184 non-null    object  \n",
                        " 12  Sector Code                          5298 non-null   object  \n",
                        " 13  Sector                               5298 non-null   object  \n",
                        " 14  Keywords Count                       5298 non-null   float64 \n",
                        " 15  % per Sector                         5298 non-null   float64 \n",
                        " 16  % per Social Category                5298 non-null   float64 \n",
                        " 17  % per Workforce                      5298 non-null   float64 \n",
                        " 18  Female Count (x 1000)                5298 non-null   float64 \n",
                        " 19  Gender_Female_% per Sector           5298 non-null   float64 \n",
                        " 20  Gender_Female_% per Social Category  5298 non-null   float64 \n",
                        " 21  Gender_Female_% per Workforce        5298 non-null   float64 \n",
                        " 22  Male Count (x 1000)                  5298 non-null   float64 \n",
                        " 23  Gender_Male_% per Sector             5298 non-null   float64 \n",
                        " 24  Gender_Male_% per Social Category    5298 non-null   float64 \n",
                        " 25  Gender_Male_% per Workforce          5298 non-null   float64 \n",
                        " 26  Gender                               5298 non-null   category\n",
                        " 27  Age_Older_n                          5298 non-null   float64 \n",
                        " 28  Age_Older_% per Sector               5298 non-null   float64 \n",
                        " 29  Age_Older_% per Social Category      5298 non-null   float64 \n",
                        " 30  Age_Older_% per Workforce            5298 non-null   float64 \n",
                        " 31  Age_Younger_n                        5298 non-null   float64 \n",
                        " 32  Age_Younger_% per Sector             5298 non-null   float64 \n",
                        " 33  Age_Younger_% per Social Category    5298 non-null   float64 \n",
                        " 34  Age_Younger_% per Workforce          5298 non-null   float64 \n",
                        " 35  Age                                  5298 non-null   category\n",
                        " 36  Sector Count (x 1000)                5298 non-null   float64 \n",
                        " 37  % Sector per Workforce               5298 non-null   float64 \n",
                        " 38  Gender_Female                        5298 non-null   int64   \n",
                        " 39  Gender_Male                          5298 non-null   int64   \n",
                        " 40  Gender_Mixed                         5298 non-null   int64   \n",
                        " 41  Age_Mixed                            5298 non-null   int64   \n",
                        " 42  Age_Older                            5298 non-null   int64   \n",
                        " 43  Age_Younger                          5298 non-null   int64   \n",
                        " 44  Gender_Num                           5298 non-null   int64   \n",
                        " 45  Age_Num                              5298 non-null   int64   \n",
                        "dtypes: category(2), float64(22), int64(10), object(12)\n",
                        "memory usage: 1.8+ MB\n",
                        "====================\n",
                        "Warmth:\n",
                        "--------------------\n",
                        "Warmth Counts:\n",
                        "0    3947\n",
                        "1    1351\n",
                        "Name: Warmth, dtype: int64\n",
                        "--------------------\n",
                        "Warmth Percentages:\n",
                        "0   74.50\n",
                        "1   25.50\n",
                        "Name: Warmth, dtype: float64\n",
                        "--------------------\n",
                        "Warmth Mean: 0.26\n",
                        "--------------------\n",
                        "Warmth Standard Deviation: 0.44\n",
                        "====================\n",
                        "Competence:\n",
                        "--------------------\n",
                        "Competence Counts:\n",
                        "0    2847\n",
                        "1    2451\n",
                        "Name: Competence, dtype: int64\n",
                        "--------------------\n",
                        "Competence Percentages:\n",
                        "0   53.70\n",
                        "1   46.30\n",
                        "Name: Competence, dtype: float64\n",
                        "--------------------\n",
                        "Competence Mean: 0.46\n",
                        "--------------------\n",
                        "Competence Standard Deviation: 0.5\n",
                        "\n",
                        "\n"
                    ]
                }
            ],
            "source": [
                "# Manual Job Sentence info\n",
                "df_gender_age_info(df_manual, ivs_all=['Warmth', 'Competence'])\n"
            ]
        },
        {
            "cell_type": "code",
            "execution_count": 217,
            "id": "f599e9cd",
            "metadata": {},
            "outputs": [],
            "source": [
                "if df_manual['Sector'].isna().sum() == 0:\n",
                "    assert len(df_manual) > 0 and isinstance(df_manual, pd.DataFrame), f'ERORR: LENGTH OF DF = {len(df_manual)}'\n",
                "    df_manual.to_pickle(f'{df_save_dir}df_manual_including_sector_genage_data.pkl')\n",
                "    df_manual.to_csv(f'{df_save_dir}df_manual_including_sector_genage_data.csv', index=False)\n",
                "else:\n",
                "    print(f\"MISSING SECTOR DATA: COUNT {df_manual['Sector'].isna().sum()}\")"
            ]
        },
        {
            "cell_type": "markdown",
            "id": "6373c116",
            "metadata": {},
            "source": [
                "# ATTN: This script should be run AFTER spacy sentence splitting is completed.\n"
            ]
        },
        {
            "cell_type": "markdown",
            "id": "993064a6",
            "metadata": {},
            "source": [
                "# Use spacy to tokenize sentences\n"
            ]
        },
        {
            "cell_type": "markdown",
            "id": "c744a550",
            "metadata": {},
            "source": [
                "### START HERE IF SOURCING FROM df_manual_SENTENCIZED\n",
                "### PLEASE SET CORRECT DIRECTORY PATHS BELOW\n"
            ]
        },
        {
            "cell_type": "code",
            "execution_count": 218,
            "id": "b997d96c",
            "metadata": {},
            "outputs": [],
            "source": [
                "import os # type:ignore # isort:skip # fmt:skip # noqa # nopep8\n",
                "import sys # type:ignore # isort:skip # fmt:skip # noqa # nopep8\n",
                "from pathlib import Path # type:ignore # isort:skip # fmt:skip # noqa # nopep8\n",
                "\n",
                "mod = sys.modules[__name__]\n",
                "\n",
                "code_dir = None\n",
                "code_dir_name = 'Code'\n",
                "unwanted_subdir_name = 'Analysis'\n",
                "\n",
                "for _ in range(5):\n",
                "\n",
                "    parent_path = str(Path.cwd().parents[_]).split('/')[-1]\n",
                "\n",
                "    if (code_dir_name in parent_path) and (unwanted_subdir_name not in parent_path):\n",
                "\n",
                "        code_dir = str(Path.cwd().parents[_])\n",
                "\n",
                "        if code_dir is not None:\n",
                "            break\n",
                "\n",
                "sys.path.append(code_dir)\n",
                "# %load_ext autoreload\n",
                "# %autoreload 2\n"
            ]
        },
        {
            "cell_type": "code",
            "execution_count": 219,
            "id": "390017aa",
            "metadata": {},
            "outputs": [],
            "source": [
                "from setup_module.imports import * # type:ignore # isort:skip # fmt:skip # noqa # nopep8"
            ]
        },
        {
            "cell_type": "code",
            "execution_count": 220,
            "id": "4c3b98f1",
            "metadata": {},
            "outputs": [],
            "source": [
                "def get_word_num_and_frequency(row, text_col):\n",
                "\n",
                "    with open(f'{data_dir}punctuations.txt', 'rb') as f:\n",
                "        custom_punct_chars = pickle.load(f)\n",
                "    row['Job Description num_words'] = len(str(row[text_col]).split())\n",
                "    row['Job Description num_unique_words'] = len(set(str(row[text_col]).split()))\n",
                "    row['Job Description num_chars'] = len(str(row[text_col]))\n",
                "    row['Job Description num_chars_no_whitespact_and_punt'] = len(\n",
                "        [\n",
                "            c.translate({ord(s): None for s in string.whitespace})\n",
                "            for c in str(row[text_col])\n",
                "            if c not in custom_punct_chars and c not in string.punctuation\n",
                "        ]\n",
                "    )\n",
                "    row['Job Description num_punctuations'] = len(\n",
                "        [\n",
                "            c\n",
                "            for c in str(row[text_col])\n",
                "            if c in custom_punct_chars and c in string.punctuation\n",
                "        ]\n",
                "    )\n",
                "\n",
                "    return row\n"
            ]
        },
        {
            "cell_type": "code",
            "execution_count": 221,
            "id": "3d31a583",
            "metadata": {},
            "outputs": [],
            "source": [
                "df_manual = pd.read_pickle(f'{df_save_dir}df_manual_including_sector_genage_data.pkl').reset_index(drop=True)\n"
            ]
        },
        {
            "cell_type": "code",
            "execution_count": 222,
            "id": "bc21643d",
            "metadata": {},
            "outputs": [
                {
                    "data": {
                        "application/vnd.jupyter.widget-view+json": {
                            "model_id": "b6ed15f1f1b246638b7f00593db64560",
                            "version_major": 2,
                            "version_minor": 0
                        },
                        "text/plain": [
                            "progress-bar:   0%|          | 0/5298 [00:00<?, ?it/s]"
                        ]
                    },
                    "metadata": {},
                    "output_type": "display_data"
                }
            ],
            "source": [
                "df_manual['Job Description spacy_sentencized_lower'] = df_manual['Job Description spacy_sentencized'].progress_apply(\n",
                "    lambda job_sentence: job_sentence.strip().lower()\n",
                ")\n"
            ]
        },
        {
            "cell_type": "code",
            "execution_count": 223,
            "id": "1b8dac3e",
            "metadata": {},
            "outputs": [
                {
                    "data": {
                        "text/html": [
                            "<div>\n",
                            "<style scoped>\n",
                            "    .dataframe tbody tr th:only-of-type {\n",
                            "        vertical-align: middle;\n",
                            "    }\n",
                            "\n",
                            "    .dataframe tbody tr th {\n",
                            "        vertical-align: top;\n",
                            "    }\n",
                            "\n",
                            "    .dataframe thead th {\n",
                            "        text-align: right;\n",
                            "    }\n",
                            "</style>\n",
                            "<table border=\"1\" class=\"dataframe\">\n",
                            "  <thead>\n",
                            "    <tr style=\"text-align: center;\">\n",
                            "      <th></th>\n",
                            "      <th>Job Description spacy_sentencized</th>\n",
                            "      <th>Job Description spacy_sentencized_lower</th>\n",
                            "    </tr>\n",
                            "  </thead>\n",
                            "  <tbody>\n",
                            "    <tr>\n",
                            "      <th>0</th>\n",
                            "      <td>The opportunity where you will make an impact:</td>\n",
                            "      <td>the opportunity where you will make an impact:</td>\n",
                            "    </tr>\n",
                            "    <tr>\n",
                            "      <th>1</th>\n",
                            "      <td>As our Content Strategist &amp; Copywriting Manage...</td>\n",
                            "      <td>as our content strategist &amp; copywriting manage...</td>\n",
                            "    </tr>\n",
                            "    <tr>\n",
                            "      <th>2</th>\n",
                            "      <td>You are skilled and experienced within the dig...</td>\n",
                            "      <td>you are skilled and experienced within the dig...</td>\n",
                            "    </tr>\n",
                            "    <tr>\n",
                            "      <th>3</th>\n",
                            "      <td>With your team of copywriters (currently 1 Dig...</td>\n",
                            "      <td>with your team of copywriters (currently 1 dig...</td>\n",
                            "    </tr>\n",
                            "    <tr>\n",
                            "      <th>4</th>\n",
                            "      <td>Your role is to create campaigns and content t...</td>\n",
                            "      <td>your role is to create campaigns and content t...</td>\n",
                            "    </tr>\n",
                            "  </tbody>\n",
                            "</table>\n",
                            "</div>"
                        ],
                        "text/plain": [
                            "          Job Description spacy_sentencized               Job Description spacy_sentencized_lower      \n",
                            "0     The opportunity where you will make an impact:     the opportunity where you will make an impact:\n",
                            "1  As our Content Strategist & Copywriting Manage...  as our content strategist & copywriting manage...\n",
                            "2  You are skilled and experienced within the dig...  you are skilled and experienced within the dig...\n",
                            "3  With your team of copywriters (currently 1 Dig...  with your team of copywriters (currently 1 dig...\n",
                            "4  Your role is to create campaigns and content t...  your role is to create campaigns and content t..."
                        ]
                    },
                    "execution_count": 223,
                    "metadata": {},
                    "output_type": "execute_result"
                }
            ],
            "source": [
                "df_manual[['Job Description spacy_sentencized', 'Job Description spacy_sentencized_lower']].head()\n"
            ]
        },
        {
            "cell_type": "code",
            "execution_count": 224,
            "id": "1cf56055",
            "metadata": {},
            "outputs": [
                {
                    "data": {
                        "application/vnd.jupyter.widget-view+json": {
                            "model_id": "022ad41519cd459bb313fb2068086d03",
                            "version_major": 2,
                            "version_minor": 0
                        },
                        "text/plain": [
                            "progress-bar:   0%|          | 0/5298 [00:00<?, ?it/s]"
                        ]
                    },
                    "metadata": {},
                    "output_type": "display_data"
                },
                {
                    "name": "stdout",
                    "output_type": "stream",
                    "text": [
                        "CPU times: user 305 ms, sys: 33.8 ms, total: 338 ms\n",
                        "Wall time: 455 ms\n"
                    ]
                }
            ],
            "source": [
                "%%time\n",
                "# Spacy tokenize\n",
                "with open(f'{data_dir}punctuations.txt', 'rb') as f:\n",
                "    custom_punct_chars = pickle.load(f)\n",
                "\n",
                "df_manual['Job Description spacy_tokenized'] = df_manual[\n",
                "    'Job Description spacy_sentencized'\n",
                "].progress_apply(\n",
                "    lambda job_sentence: [\n",
                "        str(token.text.strip().lower())\n",
                "        for token in nlp.tokenizer(job_sentence)\n",
                "        if len(token) != 0\n",
                "        and not token.is_space\n",
                "        and not token.is_stop\n",
                "        and not token.is_punct\n",
                "        and not token.is_bracket\n",
                "        and not token.like_email\n",
                "        and token.text not in custom_punct_chars\n",
                "    ]\n",
                ")\n",
                "\n",
                "assert len(df_manual) > 0 and isinstance(df_manual, pd.DataFrame), f'ERORR: LENGTH OF DF = {len(df_manual)}'\n",
                "df_manual.to_pickle(f'{df_save_dir}df_manual_tokenized_spacy.pkl')\n",
                "df_manual.to_csv(f'{df_save_dir}df_manual_tokenized_spacy.csv', index=False)\n"
            ]
        },
        {
            "cell_type": "code",
            "execution_count": 225,
            "id": "bd443d94",
            "metadata": {},
            "outputs": [],
            "source": [
                "df_manual['Job Description spacy_sentencized_cleaned'] = df_manual['Job Description spacy_tokenized'].str.join(' ')\n"
            ]
        },
        {
            "cell_type": "code",
            "execution_count": 226,
            "id": "65043f92",
            "metadata": {},
            "outputs": [
                {
                    "data": {
                        "application/vnd.jupyter.widget-view+json": {
                            "model_id": "73b08bb3f79441f2943b6e3e8572103d",
                            "version_major": 2,
                            "version_minor": 0
                        },
                        "text/plain": [
                            "progress-bar:   0%|          | 0/5298 [00:00<?, ?it/s]"
                        ]
                    },
                    "metadata": {},
                    "output_type": "display_data"
                },
                {
                    "name": "stdout",
                    "output_type": "stream",
                    "text": [
                        "CPU times: user 5.48 s, sys: 400 ms, total: 5.88 s\n",
                        "Wall time: 6.1 s\n"
                    ]
                }
            ],
            "source": [
                "%%time\n",
                "# Get sentence word frequencies\n",
                "df_manual = df_manual.progress_apply(\n",
                "    lambda row: get_word_num_and_frequency(\n",
                "        row=row, text_col='Job Description spacy_sentencized'\n",
                "    ), \n",
                "    axis='columns',\n",
                ")\n"
            ]
        },
        {
            "cell_type": "code",
            "execution_count": 227,
            "id": "3e73b58e",
            "metadata": {},
            "outputs": [
                {
                    "data": {
                        "text/plain": [
                            "0       The opportunity where you will make an impact:\n",
                            "1    As our Content Strategist & Copywriting Manage...\n",
                            "2    You are skilled and experienced within the dig...\n",
                            "Name: Job Description spacy_sentencized, dtype: object"
                        ]
                    },
                    "execution_count": 227,
                    "metadata": {},
                    "output_type": "execute_result"
                }
            ],
            "source": [
                "df_manual.loc[:2, 'Job Description spacy_sentencized']"
            ]
        },
        {
            "cell_type": "code",
            "execution_count": 228,
            "id": "fba80745",
            "metadata": {},
            "outputs": [
                {
                    "data": {
                        "text/html": [
                            "<div>\n",
                            "<style scoped>\n",
                            "    .dataframe tbody tr th:only-of-type {\n",
                            "        vertical-align: middle;\n",
                            "    }\n",
                            "\n",
                            "    .dataframe tbody tr th {\n",
                            "        vertical-align: top;\n",
                            "    }\n",
                            "\n",
                            "    .dataframe thead th {\n",
                            "        text-align: right;\n",
                            "    }\n",
                            "</style>\n",
                            "<table border=\"1\" class=\"dataframe\">\n",
                            "  <thead>\n",
                            "    <tr style=\"text-align: center;\">\n",
                            "      <th></th>\n",
                            "      <th>Job Description spacy_sentencized</th>\n",
                            "      <th>Job Description num_words</th>\n",
                            "      <th>Job Description num_unique_words</th>\n",
                            "      <th>Job Description num_chars</th>\n",
                            "      <th>Job Description num_chars_no_whitespact_and_punt</th>\n",
                            "    </tr>\n",
                            "  </thead>\n",
                            "  <tbody>\n",
                            "    <tr>\n",
                            "      <th>0</th>\n",
                            "      <td>The opportunity where you will make an impact:</td>\n",
                            "      <td>8</td>\n",
                            "      <td>8</td>\n",
                            "      <td>46</td>\n",
                            "      <td>45</td>\n",
                            "    </tr>\n",
                            "    <tr>\n",
                            "      <th>1</th>\n",
                            "      <td>As our Content Strategist &amp; Copywriting Manage...</td>\n",
                            "      <td>21</td>\n",
                            "      <td>20</td>\n",
                            "      <td>155</td>\n",
                            "      <td>151</td>\n",
                            "    </tr>\n",
                            "    <tr>\n",
                            "      <th>2</th>\n",
                            "      <td>You are skilled and experienced within the dig...</td>\n",
                            "      <td>25</td>\n",
                            "      <td>20</td>\n",
                            "      <td>168</td>\n",
                            "      <td>166</td>\n",
                            "    </tr>\n",
                            "    <tr>\n",
                            "      <th>3</th>\n",
                            "      <td>With your team of copywriters (currently 1 Dig...</td>\n",
                            "      <td>47</td>\n",
                            "      <td>40</td>\n",
                            "      <td>317</td>\n",
                            "      <td>310</td>\n",
                            "    </tr>\n",
                            "    <tr>\n",
                            "      <th>4</th>\n",
                            "      <td>Your role is to create campaigns and content t...</td>\n",
                            "      <td>27</td>\n",
                            "      <td>22</td>\n",
                            "      <td>158</td>\n",
                            "      <td>157</td>\n",
                            "    </tr>\n",
                            "  </tbody>\n",
                            "</table>\n",
                            "</div>"
                        ],
                        "text/plain": [
                            "          Job Description spacy_sentencized           Job Description num_words  Job Description num_unique_words  Job Description num_chars  Job Description num_chars_no_whitespact_and_punt\n",
                            "0     The opportunity where you will make an impact:              8                              8                             46                                     45                      \n",
                            "1  As our Content Strategist & Copywriting Manage...             21                             20                            155                                    151                      \n",
                            "2  You are skilled and experienced within the dig...             25                             20                            168                                    166                      \n",
                            "3  With your team of copywriters (currently 1 Dig...             47                             40                            317                                    310                      \n",
                            "4  Your role is to create campaigns and content t...             27                             22                            158                                    157                      "
                        ]
                    },
                    "execution_count": 228,
                    "metadata": {},
                    "output_type": "execute_result"
                }
            ],
            "source": [
                "df_manual[\n",
                "    [\n",
                "        'Job Description spacy_sentencized',\n",
                "        'Job Description num_words', 'Job Description num_unique_words',\n",
                "        'Job Description num_chars', 'Job Description num_chars_no_whitespact_and_punt'\n",
                "    ]\n",
                "].head()"
            ]
        },
        {
            "cell_type": "code",
            "execution_count": 229,
            "id": "f2acfe7f",
            "metadata": {},
            "outputs": [
                {
                    "data": {
                        "text/plain": [
                            "Index(['Job ID', 'Job Description spacy_sentencized', 'Warmth', 'Competence', 'Dutch Requirement', 'English Requirement', 'Search Keyword', 'Platform', 'Job Title', 'Company Name', 'Location', 'Industry', 'Sector Code', 'Sector', 'Keywords Count', '% per Sector', '% per Social Category', '% per Workforce', 'Female Count (x 1000)', 'Gender_Female_% per Sector', 'Gender_Female_% per Social Category', 'Gender_Female_% per Workforce', 'Male Count (x 1000)', 'Gender_Male_% per Sector', 'Gender_Male_% per Social Category', 'Gender_Male_% per Workforce', 'Gender', 'Age_Older_n', 'Age_Older_% per Sector', 'Age_Older_% per Social Category', 'Age_Older_% per Workforce', 'Age_Younger_n', 'Age_Younger_% per Sector', 'Age_Younger_% per Social Category', 'Age_Younger_% per Workforce', 'Age', 'Sector Count (x 1000)', '% Sector per Workforce', 'Gender_Female', 'Gender_Male', 'Gender_Mixed', 'Age_Mixed', 'Age_Older', 'Age_Younger', 'Gender_Num', 'Age_Num', 'Job Description spacy_sentencized_lower', 'Job Description spacy_tokenized', 'Job Description spacy_sentencized_cleaned', 'Job Description num_words', 'Job Description num_unique_words', 'Job Description num_chars', 'Job Description num_chars_no_whitespact_and_punt', 'Job Description num_punctuations'], dtype='object')"
                        ]
                    },
                    "execution_count": 229,
                    "metadata": {},
                    "output_type": "execute_result"
                }
            ],
            "source": [
                "df_manual.columns\n"
            ]
        },
        {
            "cell_type": "code",
            "execution_count": 230,
            "id": "3ec60c46",
            "metadata": {},
            "outputs": [
                {
                    "name": "stdout",
                    "output_type": "stream",
                    "text": [
                        "\n",
                        "DF INFO:\n",
                        "\n",
                        "<class 'pandas.core.frame.DataFrame'>\n",
                        "RangeIndex: 5298 entries, 0 to 5297\n",
                        "Data columns (total 54 columns):\n",
                        " #   Column                                            Non-Null Count  Dtype  \n",
                        "---  ------                                            --------------  -----  \n",
                        " 0   Job ID                                            5298 non-null   object \n",
                        " 1   Job Description spacy_sentencized                 5298 non-null   object \n",
                        " 2   Warmth                                            5298 non-null   int64  \n",
                        " 3   Competence                                        5298 non-null   int64  \n",
                        " 4   Dutch Requirement                                 5298 non-null   object \n",
                        " 5   English Requirement                               5298 non-null   object \n",
                        " 6   Search Keyword                                    5298 non-null   object \n",
                        " 7   Platform                                          5298 non-null   object \n",
                        " 8   Job Title                                         5298 non-null   object \n",
                        " 9   Company Name                                      5298 non-null   object \n",
                        " 10  Location                                          5298 non-null   object \n",
                        " 11  Industry                                          184 non-null    object \n",
                        " 12  Sector Code                                       5298 non-null   object \n",
                        " 13  Sector                                            5298 non-null   object \n",
                        " 14  Keywords Count                                    5298 non-null   float64\n",
                        " 15  % per Sector                                      5298 non-null   float64\n",
                        " 16  % per Social Category                             5298 non-null   float64\n",
                        " 17  % per Workforce                                   5298 non-null   float64\n",
                        " 18  Female Count (x 1000)                             5298 non-null   float64\n",
                        " 19  Gender_Female_% per Sector                        5298 non-null   float64\n",
                        " 20  Gender_Female_% per Social Category               5298 non-null   float64\n",
                        " 21  Gender_Female_% per Workforce                     5298 non-null   float64\n",
                        " 22  Male Count (x 1000)                               5298 non-null   float64\n",
                        " 23  Gender_Male_% per Sector                          5298 non-null   float64\n",
                        " 24  Gender_Male_% per Social Category                 5298 non-null   float64\n",
                        " 25  Gender_Male_% per Workforce                       5298 non-null   float64\n",
                        " 26  Gender                                            5298 non-null   object \n",
                        " 27  Age_Older_n                                       5298 non-null   float64\n",
                        " 28  Age_Older_% per Sector                            5298 non-null   float64\n",
                        " 29  Age_Older_% per Social Category                   5298 non-null   float64\n",
                        " 30  Age_Older_% per Workforce                         5298 non-null   float64\n",
                        " 31  Age_Younger_n                                     5298 non-null   float64\n",
                        " 32  Age_Younger_% per Sector                          5298 non-null   float64\n",
                        " 33  Age_Younger_% per Social Category                 5298 non-null   float64\n",
                        " 34  Age_Younger_% per Workforce                       5298 non-null   float64\n",
                        " 35  Age                                               5298 non-null   object \n",
                        " 36  Sector Count (x 1000)                             5298 non-null   float64\n",
                        " 37  % Sector per Workforce                            5298 non-null   float64\n",
                        " 38  Gender_Female                                     5298 non-null   int64  \n",
                        " 39  Gender_Male                                       5298 non-null   int64  \n",
                        " 40  Gender_Mixed                                      5298 non-null   int64  \n",
                        " 41  Age_Mixed                                         5298 non-null   int64  \n",
                        " 42  Age_Older                                         5298 non-null   int64  \n",
                        " 43  Age_Younger                                       5298 non-null   int64  \n",
                        " 44  Gender_Num                                        5298 non-null   int64  \n",
                        " 45  Age_Num                                           5298 non-null   int64  \n",
                        " 46  Job Description spacy_sentencized_lower           5298 non-null   object \n",
                        " 47  Job Description spacy_tokenized                   5298 non-null   object \n",
                        " 48  Job Description spacy_sentencized_cleaned         5298 non-null   object \n",
                        " 49  Job Description num_words                         5298 non-null   int64  \n",
                        " 50  Job Description num_unique_words                  5298 non-null   int64  \n",
                        " 51  Job Description num_chars                         5298 non-null   int64  \n",
                        " 52  Job Description num_chars_no_whitespact_and_punt  5298 non-null   int64  \n",
                        " 53  Job Description num_punctuations                  5298 non-null   int64  \n",
                        "dtypes: float64(22), int64(15), object(17)\n",
                        "memory usage: 2.2+ MB\n",
                        "====================\n",
                        "Gender:\n",
                        "--------------------\n",
                        "Gender Counts:\n",
                        "Mixed Gender    4121\n",
                        "Male             630\n",
                        "Female           547\n",
                        "Name: Gender, dtype: int64\n",
                        "--------------------\n",
                        "Gender Percentages:\n",
                        "Mixed Gender   77.80\n",
                        "Male           11.90\n",
                        "Female         10.30\n",
                        "Name: Gender, dtype: float64\n",
                        "====================\n",
                        "Gender_Num:\n",
                        "--------------------\n",
                        "Gender_Num Counts:\n",
                        "1    4121\n",
                        "2     630\n",
                        "0     547\n",
                        "Name: Gender_Num, dtype: int64\n",
                        "--------------------\n",
                        "Gender_Num Percentages:\n",
                        "1   77.80\n",
                        "2   11.90\n",
                        "0   10.30\n",
                        "Name: Gender_Num, dtype: float64\n",
                        "--------------------\n",
                        "Gender_Num Mean: 1.02\n",
                        "--------------------\n",
                        "Gender_Num Standard Deviation: 0.47\n",
                        "====================\n",
                        "Gender_Female:\n",
                        "--------------------\n",
                        "Gender_Female Counts:\n",
                        "0    4751\n",
                        "1     547\n",
                        "Name: Gender_Female, dtype: int64\n",
                        "--------------------\n",
                        "Gender_Female Percentages:\n",
                        "0   89.70\n",
                        "1   10.30\n",
                        "Name: Gender_Female, dtype: float64\n",
                        "--------------------\n",
                        "Gender_Female Mean: 0.1\n",
                        "--------------------\n",
                        "Gender_Female Standard Deviation: 0.3\n",
                        "====================\n",
                        "Gender_Mixed:\n",
                        "--------------------\n",
                        "Gender_Mixed Counts:\n",
                        "1    4121\n",
                        "0    1177\n",
                        "Name: Gender_Mixed, dtype: int64\n",
                        "--------------------\n",
                        "Gender_Mixed Percentages:\n",
                        "1   77.80\n",
                        "0   22.20\n",
                        "Name: Gender_Mixed, dtype: float64\n",
                        "--------------------\n",
                        "Gender_Mixed Mean: 0.78\n",
                        "--------------------\n",
                        "Gender_Mixed Standard Deviation: 0.42\n",
                        "====================\n",
                        "Gender_Male:\n",
                        "--------------------\n",
                        "Gender_Male Counts:\n",
                        "0    4668\n",
                        "1     630\n",
                        "Name: Gender_Male, dtype: int64\n",
                        "--------------------\n",
                        "Gender_Male Percentages:\n",
                        "0   88.10\n",
                        "1   11.90\n",
                        "Name: Gender_Male, dtype: float64\n",
                        "--------------------\n",
                        "Gender_Male Mean: 0.12\n",
                        "--------------------\n",
                        "Gender_Male Standard Deviation: 0.32\n",
                        "====================\n",
                        "Age:\n",
                        "--------------------\n",
                        "Age Counts:\n",
                        "Younger      2763\n",
                        "Mixed Age    1886\n",
                        "Older         649\n",
                        "Name: Age, dtype: int64\n",
                        "--------------------\n",
                        "Age Percentages:\n",
                        "Younger     52.20\n",
                        "Mixed Age   35.60\n",
                        "Older       12.20\n",
                        "Name: Age, dtype: float64\n",
                        "====================\n",
                        "Age_Num:\n",
                        "--------------------\n",
                        "Age_Num Counts:\n",
                        "2    2763\n",
                        "1    1886\n",
                        "0     649\n",
                        "Name: Age_Num, dtype: int64\n",
                        "--------------------\n",
                        "Age_Num Percentages:\n",
                        "2   52.20\n",
                        "1   35.60\n",
                        "0   12.20\n",
                        "Name: Age_Num, dtype: float64\n",
                        "--------------------\n",
                        "Age_Num Mean: 1.4\n",
                        "--------------------\n",
                        "Age_Num Standard Deviation: 0.7\n",
                        "====================\n",
                        "Age_Older:\n",
                        "--------------------\n",
                        "Age_Older Counts:\n",
                        "0    4649\n",
                        "1     649\n",
                        "Name: Age_Older, dtype: int64\n",
                        "--------------------\n",
                        "Age_Older Percentages:\n",
                        "0   87.80\n",
                        "1   12.20\n",
                        "Name: Age_Older, dtype: float64\n",
                        "--------------------\n",
                        "Age_Older Mean: 0.12\n",
                        "--------------------\n",
                        "Age_Older Standard Deviation: 0.33\n",
                        "====================\n",
                        "Age_Mixed:\n",
                        "--------------------\n",
                        "Age_Mixed Counts:\n",
                        "0    3412\n",
                        "1    1886\n",
                        "Name: Age_Mixed, dtype: int64\n",
                        "--------------------\n",
                        "Age_Mixed Percentages:\n",
                        "0   64.40\n",
                        "1   35.60\n",
                        "Name: Age_Mixed, dtype: float64\n",
                        "--------------------\n",
                        "Age_Mixed Mean: 0.36\n",
                        "--------------------\n",
                        "Age_Mixed Standard Deviation: 0.48\n",
                        "====================\n",
                        "Age_Younger:\n",
                        "--------------------\n",
                        "Age_Younger Counts:\n",
                        "1    2763\n",
                        "0    2535\n",
                        "Name: Age_Younger, dtype: int64\n",
                        "--------------------\n",
                        "Age_Younger Percentages:\n",
                        "1   52.20\n",
                        "0   47.80\n",
                        "Name: Age_Younger, dtype: float64\n",
                        "--------------------\n",
                        "Age_Younger Mean: 0.52\n",
                        "--------------------\n",
                        "Age_Younger Standard Deviation: 0.5\n",
                        "\n",
                        "\n"
                    ]
                }
            ],
            "source": [
                "# Job Sentence info\n",
                "df_gender_age_info(df_manual)"
            ]
        },
        {
            "cell_type": "code",
            "execution_count": 231,
            "id": "32dee70c",
            "metadata": {},
            "outputs": [],
            "source": [
                "with open(f'{data_dir}df_manual_len.txt', 'wb') as f:\n",
                "    pickle.dump(len(df_manual), f)"
            ]
        },
        {
            "cell_type": "code",
            "execution_count": 232,
            "id": "5deddb9d",
            "metadata": {},
            "outputs": [],
            "source": [
                "assert len(df_manual) > 0 and isinstance(df_manual, pd.DataFrame), f'ERORR: LENGTH OF DF = {len(df_manual)}'\n",
                "df_manual.to_pickle(f'{df_save_dir}df_manual_tokenized_spacy.pkl')\n",
                "df_manual.to_csv(f'{df_save_dir}df_manual_tokenized_spacy.csv', index=False)\n"
            ]
        },
        {
            "cell_type": "markdown",
            "id": "e7f002d2",
            "metadata": {},
            "source": [
                "# Use NLTK to tokenize sentences\n"
            ]
        },
        {
            "cell_type": "markdown",
            "id": "92922872",
            "metadata": {},
            "source": [
                "### START HERE IF SOURCING FROM df_manual_TOKENIZED_SPACY\n",
                "### PLEASE SET CORRECT DIRECTORY PATHS BELOW\n"
            ]
        },
        {
            "cell_type": "code",
            "execution_count": 233,
            "id": "9fae46f4",
            "metadata": {},
            "outputs": [],
            "source": [
                "import os # type:ignore # isort:skip # fmt:skip # noqa # nopep8\n",
                "import sys # type:ignore # isort:skip # fmt:skip # noqa # nopep8\n",
                "from pathlib import Path # type:ignore # isort:skip # fmt:skip # noqa # nopep8\n",
                "\n",
                "mod = sys.modules[__name__]\n",
                "\n",
                "code_dir = None\n",
                "code_dir_name = 'Code'\n",
                "unwanted_subdir_name = 'Analysis'\n",
                "\n",
                "for _ in range(5):\n",
                "\n",
                "    parent_path = str(Path.cwd().parents[_]).split('/')[-1]\n",
                "\n",
                "    if (code_dir_name in parent_path) and (unwanted_subdir_name not in parent_path):\n",
                "\n",
                "        code_dir = str(Path.cwd().parents[_])\n",
                "\n",
                "        if code_dir is not None:\n",
                "            break\n",
                "\n",
                "sys.path.append(code_dir)\n",
                "# %load_ext autoreload\n",
                "# %autoreload 2\n"
            ]
        },
        {
            "cell_type": "code",
            "execution_count": 234,
            "id": "3d4f11d1",
            "metadata": {},
            "outputs": [],
            "source": [
                "from setup_module.imports import * # type:ignore # isort:skip # fmt:skip # noqa # nopep8\n"
            ]
        },
        {
            "cell_type": "code",
            "execution_count": 235,
            "id": "5011ea0a",
            "metadata": {},
            "outputs": [],
            "source": [
                "df_manual = pd.read_pickle(f'{df_save_dir}df_manual_tokenized_spacy.pkl').reset_index(drop=True)\n"
            ]
        },
        {
            "cell_type": "code",
            "execution_count": 236,
            "id": "9c8a9f1e",
            "metadata": {},
            "outputs": [
                {
                    "name": "stdout",
                    "output_type": "stream",
                    "text": [
                        "<class 'pandas.core.frame.DataFrame'>\n",
                        "RangeIndex: 5298 entries, 0 to 5297\n",
                        "Data columns (total 54 columns):\n",
                        " #   Column                                            Non-Null Count  Dtype  \n",
                        "---  ------                                            --------------  -----  \n",
                        " 0   Job ID                                            5298 non-null   object \n",
                        " 1   Job Description spacy_sentencized                 5298 non-null   object \n",
                        " 2   Warmth                                            5298 non-null   int64  \n",
                        " 3   Competence                                        5298 non-null   int64  \n",
                        " 4   Dutch Requirement                                 5298 non-null   object \n",
                        " 5   English Requirement                               5298 non-null   object \n",
                        " 6   Search Keyword                                    5298 non-null   object \n",
                        " 7   Platform                                          5298 non-null   object \n",
                        " 8   Job Title                                         5298 non-null   object \n",
                        " 9   Company Name                                      5298 non-null   object \n",
                        " 10  Location                                          5298 non-null   object \n",
                        " 11  Industry                                          184 non-null    object \n",
                        " 12  Sector Code                                       5298 non-null   object \n",
                        " 13  Sector                                            5298 non-null   object \n",
                        " 14  Keywords Count                                    5298 non-null   float64\n",
                        " 15  % per Sector                                      5298 non-null   float64\n",
                        " 16  % per Social Category                             5298 non-null   float64\n",
                        " 17  % per Workforce                                   5298 non-null   float64\n",
                        " 18  Female Count (x 1000)                             5298 non-null   float64\n",
                        " 19  Gender_Female_% per Sector                        5298 non-null   float64\n",
                        " 20  Gender_Female_% per Social Category               5298 non-null   float64\n",
                        " 21  Gender_Female_% per Workforce                     5298 non-null   float64\n",
                        " 22  Male Count (x 1000)                               5298 non-null   float64\n",
                        " 23  Gender_Male_% per Sector                          5298 non-null   float64\n",
                        " 24  Gender_Male_% per Social Category                 5298 non-null   float64\n",
                        " 25  Gender_Male_% per Workforce                       5298 non-null   float64\n",
                        " 26  Gender                                            5298 non-null   object \n",
                        " 27  Age_Older_n                                       5298 non-null   float64\n",
                        " 28  Age_Older_% per Sector                            5298 non-null   float64\n",
                        " 29  Age_Older_% per Social Category                   5298 non-null   float64\n",
                        " 30  Age_Older_% per Workforce                         5298 non-null   float64\n",
                        " 31  Age_Younger_n                                     5298 non-null   float64\n",
                        " 32  Age_Younger_% per Sector                          5298 non-null   float64\n",
                        " 33  Age_Younger_% per Social Category                 5298 non-null   float64\n",
                        " 34  Age_Younger_% per Workforce                       5298 non-null   float64\n",
                        " 35  Age                                               5298 non-null   object \n",
                        " 36  Sector Count (x 1000)                             5298 non-null   float64\n",
                        " 37  % Sector per Workforce                            5298 non-null   float64\n",
                        " 38  Gender_Female                                     5298 non-null   int64  \n",
                        " 39  Gender_Male                                       5298 non-null   int64  \n",
                        " 40  Gender_Mixed                                      5298 non-null   int64  \n",
                        " 41  Age_Mixed                                         5298 non-null   int64  \n",
                        " 42  Age_Older                                         5298 non-null   int64  \n",
                        " 43  Age_Younger                                       5298 non-null   int64  \n",
                        " 44  Gender_Num                                        5298 non-null   int64  \n",
                        " 45  Age_Num                                           5298 non-null   int64  \n",
                        " 46  Job Description spacy_sentencized_lower           5298 non-null   object \n",
                        " 47  Job Description spacy_tokenized                   5298 non-null   object \n",
                        " 48  Job Description spacy_sentencized_cleaned         5298 non-null   object \n",
                        " 49  Job Description num_words                         5298 non-null   int64  \n",
                        " 50  Job Description num_unique_words                  5298 non-null   int64  \n",
                        " 51  Job Description num_chars                         5298 non-null   int64  \n",
                        " 52  Job Description num_chars_no_whitespact_and_punt  5298 non-null   int64  \n",
                        " 53  Job Description num_punctuations                  5298 non-null   int64  \n",
                        "dtypes: float64(22), int64(15), object(17)\n",
                        "memory usage: 2.2+ MB\n"
                    ]
                }
            ],
            "source": [
                "df_manual.info()\n"
            ]
        },
        {
            "cell_type": "code",
            "execution_count": 237,
            "id": "4475248f",
            "metadata": {},
            "outputs": [
                {
                    "data": {
                        "application/vnd.jupyter.widget-view+json": {
                            "model_id": "3f33b4392387401c8f327c4ddf039895",
                            "version_major": 2,
                            "version_minor": 0
                        },
                        "text/plain": [
                            "progress-bar:   0%|          | 0/5298 [00:00<?, ?it/s]"
                        ]
                    },
                    "metadata": {},
                    "output_type": "display_data"
                },
                {
                    "name": "stdout",
                    "output_type": "stream",
                    "text": [
                        "CPU times: user 4.87 s, sys: 1.64 s, total: 6.51 s\n",
                        "Wall time: 7 s\n"
                    ]
                }
            ],
            "source": [
                "%%time\n",
                "# Tokenize with NLTK\n",
                "# stop_words = set(stopwords.words('english'))\n",
                "# punctuations = list(string.punctuation)\n",
                "# lemmatizer = WordNetLemmatizer()\n",
                "# stemmer = PorterStemmer()\n",
                "\n",
                "df_manual['Job Description nltk_tokenized'] = df_manual['Job Description spacy_sentencized'].progress_apply(\n",
                "    lambda job_sentence: [\n",
                "        str(token.strip().lower()) \n",
                "        for token in word_tokenize(job_sentence) \n",
                "        if len(token) != 0 \n",
                "        and token != '...' \n",
                "        and not token.lower() in set(stopwords.words('english')) \n",
                "        and not token.lower() in list(string.punctuation) \n",
                "    ]\n",
                ")\n",
                "\n",
                "assert len(df_manual) > 0 and isinstance(df_manual, pd.DataFrame), f'ERORR: LENGTH OF DF = {len(df_manual)}'\n",
                "df_manual.to_pickle(f'{df_save_dir}df_manual_tokenized_spacy_nltk.pkl')\n",
                "df_manual.to_csv(f'{df_save_dir}df_manual_tokenized_spacy_nltk.csv', index=False)\n"
            ]
        },
        {
            "cell_type": "code",
            "execution_count": 238,
            "id": "3bbd5d3f",
            "metadata": {},
            "outputs": [
                {
                    "data": {
                        "text/plain": [
                            "0                          [opportunity, make, impact]\n",
                            "1    [content, strategist, copywriting, manager, re...\n",
                            "2    [skilled, experienced, within, digital, enviro...\n",
                            "3    [team, copywriters, currently, 1, digital, con...\n",
                            "4    [role, create, campaigns, content, deeply, con...\n",
                            "Name: Job Description nltk_tokenized, dtype: object"
                        ]
                    },
                    "execution_count": 238,
                    "metadata": {},
                    "output_type": "execute_result"
                }
            ],
            "source": [
                "df_manual['Job Description nltk_tokenized'].head()\n"
            ]
        },
        {
            "cell_type": "code",
            "execution_count": 239,
            "id": "86da6772",
            "metadata": {},
            "outputs": [
                {
                    "name": "stdout",
                    "output_type": "stream",
                    "text": [
                        "<class 'pandas.core.frame.DataFrame'>\n",
                        "RangeIndex: 5298 entries, 0 to 5297\n",
                        "Data columns (total 55 columns):\n",
                        " #   Column                                            Non-Null Count  Dtype  \n",
                        "---  ------                                            --------------  -----  \n",
                        " 0   Job ID                                            5298 non-null   object \n",
                        " 1   Job Description spacy_sentencized                 5298 non-null   object \n",
                        " 2   Warmth                                            5298 non-null   int64  \n",
                        " 3   Competence                                        5298 non-null   int64  \n",
                        " 4   Dutch Requirement                                 5298 non-null   object \n",
                        " 5   English Requirement                               5298 non-null   object \n",
                        " 6   Search Keyword                                    5298 non-null   object \n",
                        " 7   Platform                                          5298 non-null   object \n",
                        " 8   Job Title                                         5298 non-null   object \n",
                        " 9   Company Name                                      5298 non-null   object \n",
                        " 10  Location                                          5298 non-null   object \n",
                        " 11  Industry                                          184 non-null    object \n",
                        " 12  Sector Code                                       5298 non-null   object \n",
                        " 13  Sector                                            5298 non-null   object \n",
                        " 14  Keywords Count                                    5298 non-null   float64\n",
                        " 15  % per Sector                                      5298 non-null   float64\n",
                        " 16  % per Social Category                             5298 non-null   float64\n",
                        " 17  % per Workforce                                   5298 non-null   float64\n",
                        " 18  Female Count (x 1000)                             5298 non-null   float64\n",
                        " 19  Gender_Female_% per Sector                        5298 non-null   float64\n",
                        " 20  Gender_Female_% per Social Category               5298 non-null   float64\n",
                        " 21  Gender_Female_% per Workforce                     5298 non-null   float64\n",
                        " 22  Male Count (x 1000)                               5298 non-null   float64\n",
                        " 23  Gender_Male_% per Sector                          5298 non-null   float64\n",
                        " 24  Gender_Male_% per Social Category                 5298 non-null   float64\n",
                        " 25  Gender_Male_% per Workforce                       5298 non-null   float64\n",
                        " 26  Gender                                            5298 non-null   object \n",
                        " 27  Age_Older_n                                       5298 non-null   float64\n",
                        " 28  Age_Older_% per Sector                            5298 non-null   float64\n",
                        " 29  Age_Older_% per Social Category                   5298 non-null   float64\n",
                        " 30  Age_Older_% per Workforce                         5298 non-null   float64\n",
                        " 31  Age_Younger_n                                     5298 non-null   float64\n",
                        " 32  Age_Younger_% per Sector                          5298 non-null   float64\n",
                        " 33  Age_Younger_% per Social Category                 5298 non-null   float64\n",
                        " 34  Age_Younger_% per Workforce                       5298 non-null   float64\n",
                        " 35  Age                                               5298 non-null   object \n",
                        " 36  Sector Count (x 1000)                             5298 non-null   float64\n",
                        " 37  % Sector per Workforce                            5298 non-null   float64\n",
                        " 38  Gender_Female                                     5298 non-null   int64  \n",
                        " 39  Gender_Male                                       5298 non-null   int64  \n",
                        " 40  Gender_Mixed                                      5298 non-null   int64  \n",
                        " 41  Age_Mixed                                         5298 non-null   int64  \n",
                        " 42  Age_Older                                         5298 non-null   int64  \n",
                        " 43  Age_Younger                                       5298 non-null   int64  \n",
                        " 44  Gender_Num                                        5298 non-null   int64  \n",
                        " 45  Age_Num                                           5298 non-null   int64  \n",
                        " 46  Job Description spacy_sentencized_lower           5298 non-null   object \n",
                        " 47  Job Description spacy_tokenized                   5298 non-null   object \n",
                        " 48  Job Description spacy_sentencized_cleaned         5298 non-null   object \n",
                        " 49  Job Description num_words                         5298 non-null   int64  \n",
                        " 50  Job Description num_unique_words                  5298 non-null   int64  \n",
                        " 51  Job Description num_chars                         5298 non-null   int64  \n",
                        " 52  Job Description num_chars_no_whitespact_and_punt  5298 non-null   int64  \n",
                        " 53  Job Description num_punctuations                  5298 non-null   int64  \n",
                        " 54  Job Description nltk_tokenized                    5298 non-null   object \n",
                        "dtypes: float64(22), int64(15), object(18)\n",
                        "memory usage: 2.2+ MB\n"
                    ]
                }
            ],
            "source": [
                "df_manual.info()\n"
            ]
        },
        {
            "cell_type": "code",
            "execution_count": 240,
            "id": "69e6640b",
            "metadata": {},
            "outputs": [],
            "source": [
                "assert len(df_manual) > 0 and isinstance(df_manual, pd.DataFrame), f'ERORR: LENGTH OF DF = {len(df_manual)}'\n",
                "df_manual.to_pickle(f'{df_save_dir}df_manual_tokenized_spacy_nltk.pkl')\n",
                "df_manual.to_csv(f'{df_save_dir}df_manual_tokenized_spacy_nltk.csv', index=False)\n"
            ]
        },
        {
            "cell_type": "markdown",
            "id": "81e54149",
            "metadata": {},
            "source": [
                "# Use gensim to tokenize sentences\n"
            ]
        },
        {
            "cell_type": "markdown",
            "id": "ff307dba",
            "metadata": {},
            "source": [
                "### START HERE IF SOURCING FROM df_manual_TOKENIZED_SPACY_NLTK\n",
                "### PLEASE SET CORRECT DIRECTORY PATHS BELOW\n"
            ]
        },
        {
            "cell_type": "code",
            "execution_count": 241,
            "id": "3f89cb65",
            "metadata": {},
            "outputs": [],
            "source": [
                "import os # type:ignore # isort:skip # fmt:skip # noqa # nopep8\n",
                "import sys # type:ignore # isort:skip # fmt:skip # noqa # nopep8\n",
                "from pathlib import Path # type:ignore # isort:skip # fmt:skip # noqa # nopep8\n",
                "\n",
                "mod = sys.modules[__name__]\n",
                "\n",
                "code_dir = None\n",
                "code_dir_name = 'Code'\n",
                "unwanted_subdir_name = 'Analysis'\n",
                "\n",
                "for _ in range(5):\n",
                "\n",
                "    parent_path = str(Path.cwd().parents[_]).split('/')[-1]\n",
                "\n",
                "    if (code_dir_name in parent_path) and (unwanted_subdir_name not in parent_path):\n",
                "\n",
                "        code_dir = str(Path.cwd().parents[_])\n",
                "\n",
                "        if code_dir is not None:\n",
                "            break\n",
                "\n",
                "sys.path.append(code_dir)\n",
                "# %load_ext autoreload\n",
                "# %autoreload 2\n"
            ]
        },
        {
            "cell_type": "code",
            "execution_count": 242,
            "id": "ac2ae121",
            "metadata": {},
            "outputs": [],
            "source": [
                "from setup_module.imports import * # type:ignore # isort:skip # fmt:skip # noqa # nopep8\n"
            ]
        },
        {
            "cell_type": "code",
            "execution_count": 243,
            "id": "c13d88fb",
            "metadata": {},
            "outputs": [],
            "source": [
                "df_manual = pd.read_pickle(f'{df_save_dir}df_manual_tokenized_spacy_nltk.pkl').reset_index(drop=True)\n"
            ]
        },
        {
            "cell_type": "code",
            "execution_count": 244,
            "id": "bc48f290",
            "metadata": {},
            "outputs": [
                {
                    "name": "stdout",
                    "output_type": "stream",
                    "text": [
                        "<class 'pandas.core.frame.DataFrame'>\n",
                        "RangeIndex: 5298 entries, 0 to 5297\n",
                        "Data columns (total 55 columns):\n",
                        " #   Column                                            Non-Null Count  Dtype  \n",
                        "---  ------                                            --------------  -----  \n",
                        " 0   Job ID                                            5298 non-null   object \n",
                        " 1   Job Description spacy_sentencized                 5298 non-null   object \n",
                        " 2   Warmth                                            5298 non-null   int64  \n",
                        " 3   Competence                                        5298 non-null   int64  \n",
                        " 4   Dutch Requirement                                 5298 non-null   object \n",
                        " 5   English Requirement                               5298 non-null   object \n",
                        " 6   Search Keyword                                    5298 non-null   object \n",
                        " 7   Platform                                          5298 non-null   object \n",
                        " 8   Job Title                                         5298 non-null   object \n",
                        " 9   Company Name                                      5298 non-null   object \n",
                        " 10  Location                                          5298 non-null   object \n",
                        " 11  Industry                                          184 non-null    object \n",
                        " 12  Sector Code                                       5298 non-null   object \n",
                        " 13  Sector                                            5298 non-null   object \n",
                        " 14  Keywords Count                                    5298 non-null   float64\n",
                        " 15  % per Sector                                      5298 non-null   float64\n",
                        " 16  % per Social Category                             5298 non-null   float64\n",
                        " 17  % per Workforce                                   5298 non-null   float64\n",
                        " 18  Female Count (x 1000)                             5298 non-null   float64\n",
                        " 19  Gender_Female_% per Sector                        5298 non-null   float64\n",
                        " 20  Gender_Female_% per Social Category               5298 non-null   float64\n",
                        " 21  Gender_Female_% per Workforce                     5298 non-null   float64\n",
                        " 22  Male Count (x 1000)                               5298 non-null   float64\n",
                        " 23  Gender_Male_% per Sector                          5298 non-null   float64\n",
                        " 24  Gender_Male_% per Social Category                 5298 non-null   float64\n",
                        " 25  Gender_Male_% per Workforce                       5298 non-null   float64\n",
                        " 26  Gender                                            5298 non-null   object \n",
                        " 27  Age_Older_n                                       5298 non-null   float64\n",
                        " 28  Age_Older_% per Sector                            5298 non-null   float64\n",
                        " 29  Age_Older_% per Social Category                   5298 non-null   float64\n",
                        " 30  Age_Older_% per Workforce                         5298 non-null   float64\n",
                        " 31  Age_Younger_n                                     5298 non-null   float64\n",
                        " 32  Age_Younger_% per Sector                          5298 non-null   float64\n",
                        " 33  Age_Younger_% per Social Category                 5298 non-null   float64\n",
                        " 34  Age_Younger_% per Workforce                       5298 non-null   float64\n",
                        " 35  Age                                               5298 non-null   object \n",
                        " 36  Sector Count (x 1000)                             5298 non-null   float64\n",
                        " 37  % Sector per Workforce                            5298 non-null   float64\n",
                        " 38  Gender_Female                                     5298 non-null   int64  \n",
                        " 39  Gender_Male                                       5298 non-null   int64  \n",
                        " 40  Gender_Mixed                                      5298 non-null   int64  \n",
                        " 41  Age_Mixed                                         5298 non-null   int64  \n",
                        " 42  Age_Older                                         5298 non-null   int64  \n",
                        " 43  Age_Younger                                       5298 non-null   int64  \n",
                        " 44  Gender_Num                                        5298 non-null   int64  \n",
                        " 45  Age_Num                                           5298 non-null   int64  \n",
                        " 46  Job Description spacy_sentencized_lower           5298 non-null   object \n",
                        " 47  Job Description spacy_tokenized                   5298 non-null   object \n",
                        " 48  Job Description spacy_sentencized_cleaned         5298 non-null   object \n",
                        " 49  Job Description num_words                         5298 non-null   int64  \n",
                        " 50  Job Description num_unique_words                  5298 non-null   int64  \n",
                        " 51  Job Description num_chars                         5298 non-null   int64  \n",
                        " 52  Job Description num_chars_no_whitespact_and_punt  5298 non-null   int64  \n",
                        " 53  Job Description num_punctuations                  5298 non-null   int64  \n",
                        " 54  Job Description nltk_tokenized                    5298 non-null   object \n",
                        "dtypes: float64(22), int64(15), object(18)\n",
                        "memory usage: 2.2+ MB\n"
                    ]
                }
            ],
            "source": [
                "df_manual.info()\n"
            ]
        },
        {
            "cell_type": "code",
            "execution_count": 245,
            "id": "e95fec77",
            "metadata": {},
            "outputs": [
                {
                    "data": {
                        "application/vnd.jupyter.widget-view+json": {
                            "model_id": "b75522ef215048848e4706fb78db5492",
                            "version_major": 2,
                            "version_minor": 0
                        },
                        "text/plain": [
                            "progress-bar:   0%|          | 0/5298 [00:00<?, ?it/s]"
                        ]
                    },
                    "metadata": {},
                    "output_type": "display_data"
                },
                {
                    "name": "stdout",
                    "output_type": "stream",
                    "text": [
                        "CPU times: user 506 ms, sys: 20.3 ms, total: 526 ms\n",
                        "Wall time: 560 ms\n"
                    ]
                }
            ],
            "source": [
                "%%time\n",
                "df_manual['Job Description gensim_tokenized'] = df_manual['Job Description spacy_sentencized'].progress_apply(\n",
                "    lambda sentence: preprocess_string(re.sub(pattern, ' ', sentence.strip().lower()))\n",
                ")\n",
                "\n",
                "assert len(df_manual) > 0 and isinstance(df_manual, pd.DataFrame), f'ERORR: LENGTH OF DF = {len(df_manual)}'\n",
                "df_manual.to_pickle(f'{df_save_dir}df_manual_tokenized_spacy_nltk_gensim.pkl')\n",
                "df_manual.to_csv(f'{df_save_dir}df_manual_tokenized_spacy_nltk_gensim.csv', index=False)\n"
            ]
        },
        {
            "cell_type": "code",
            "execution_count": 246,
            "id": "1cc29198",
            "metadata": {},
            "outputs": [
                {
                    "data": {
                        "text/plain": [
                            "0                                   [opportun, impact]\n",
                            "1    [content, strategist, copywrit, manag, respons...\n",
                            "2    [skill, experienc, digit, environ, understand,...\n",
                            "3    [team, copywrit, current, digit, content, spec...\n",
                            "4    [role, creat, campaign, content, deepli, conne...\n",
                            "Name: Job Description gensim_tokenized, dtype: object"
                        ]
                    },
                    "execution_count": 246,
                    "metadata": {},
                    "output_type": "execute_result"
                }
            ],
            "source": [
                "df_manual['Job Description gensim_tokenized'].head()\n"
            ]
        },
        {
            "cell_type": "code",
            "execution_count": 247,
            "id": "0a69a8de",
            "metadata": {},
            "outputs": [
                {
                    "name": "stdout",
                    "output_type": "stream",
                    "text": [
                        "<class 'pandas.core.frame.DataFrame'>\n",
                        "RangeIndex: 5298 entries, 0 to 5297\n",
                        "Data columns (total 56 columns):\n",
                        " #   Column                                            Non-Null Count  Dtype  \n",
                        "---  ------                                            --------------  -----  \n",
                        " 0   Job ID                                            5298 non-null   object \n",
                        " 1   Job Description spacy_sentencized                 5298 non-null   object \n",
                        " 2   Warmth                                            5298 non-null   int64  \n",
                        " 3   Competence                                        5298 non-null   int64  \n",
                        " 4   Dutch Requirement                                 5298 non-null   object \n",
                        " 5   English Requirement                               5298 non-null   object \n",
                        " 6   Search Keyword                                    5298 non-null   object \n",
                        " 7   Platform                                          5298 non-null   object \n",
                        " 8   Job Title                                         5298 non-null   object \n",
                        " 9   Company Name                                      5298 non-null   object \n",
                        " 10  Location                                          5298 non-null   object \n",
                        " 11  Industry                                          184 non-null    object \n",
                        " 12  Sector Code                                       5298 non-null   object \n",
                        " 13  Sector                                            5298 non-null   object \n",
                        " 14  Keywords Count                                    5298 non-null   float64\n",
                        " 15  % per Sector                                      5298 non-null   float64\n",
                        " 16  % per Social Category                             5298 non-null   float64\n",
                        " 17  % per Workforce                                   5298 non-null   float64\n",
                        " 18  Female Count (x 1000)                             5298 non-null   float64\n",
                        " 19  Gender_Female_% per Sector                        5298 non-null   float64\n",
                        " 20  Gender_Female_% per Social Category               5298 non-null   float64\n",
                        " 21  Gender_Female_% per Workforce                     5298 non-null   float64\n",
                        " 22  Male Count (x 1000)                               5298 non-null   float64\n",
                        " 23  Gender_Male_% per Sector                          5298 non-null   float64\n",
                        " 24  Gender_Male_% per Social Category                 5298 non-null   float64\n",
                        " 25  Gender_Male_% per Workforce                       5298 non-null   float64\n",
                        " 26  Gender                                            5298 non-null   object \n",
                        " 27  Age_Older_n                                       5298 non-null   float64\n",
                        " 28  Age_Older_% per Sector                            5298 non-null   float64\n",
                        " 29  Age_Older_% per Social Category                   5298 non-null   float64\n",
                        " 30  Age_Older_% per Workforce                         5298 non-null   float64\n",
                        " 31  Age_Younger_n                                     5298 non-null   float64\n",
                        " 32  Age_Younger_% per Sector                          5298 non-null   float64\n",
                        " 33  Age_Younger_% per Social Category                 5298 non-null   float64\n",
                        " 34  Age_Younger_% per Workforce                       5298 non-null   float64\n",
                        " 35  Age                                               5298 non-null   object \n",
                        " 36  Sector Count (x 1000)                             5298 non-null   float64\n",
                        " 37  % Sector per Workforce                            5298 non-null   float64\n",
                        " 38  Gender_Female                                     5298 non-null   int64  \n",
                        " 39  Gender_Male                                       5298 non-null   int64  \n",
                        " 40  Gender_Mixed                                      5298 non-null   int64  \n",
                        " 41  Age_Mixed                                         5298 non-null   int64  \n",
                        " 42  Age_Older                                         5298 non-null   int64  \n",
                        " 43  Age_Younger                                       5298 non-null   int64  \n",
                        " 44  Gender_Num                                        5298 non-null   int64  \n",
                        " 45  Age_Num                                           5298 non-null   int64  \n",
                        " 46  Job Description spacy_sentencized_lower           5298 non-null   object \n",
                        " 47  Job Description spacy_tokenized                   5298 non-null   object \n",
                        " 48  Job Description spacy_sentencized_cleaned         5298 non-null   object \n",
                        " 49  Job Description num_words                         5298 non-null   int64  \n",
                        " 50  Job Description num_unique_words                  5298 non-null   int64  \n",
                        " 51  Job Description num_chars                         5298 non-null   int64  \n",
                        " 52  Job Description num_chars_no_whitespact_and_punt  5298 non-null   int64  \n",
                        " 53  Job Description num_punctuations                  5298 non-null   int64  \n",
                        " 54  Job Description nltk_tokenized                    5298 non-null   object \n",
                        " 55  Job Description gensim_tokenized                  5298 non-null   object \n",
                        "dtypes: float64(22), int64(15), object(19)\n",
                        "memory usage: 2.3+ MB\n"
                    ]
                }
            ],
            "source": [
                "df_manual.info()\n"
            ]
        },
        {
            "cell_type": "code",
            "execution_count": 248,
            "id": "a62be70e",
            "metadata": {},
            "outputs": [],
            "source": [
                "assert len(df_manual) > 0 and isinstance(df_manual, pd.DataFrame), f'ERORR: LENGTH OF DF = {len(df_manual)}'\n",
                "df_manual.to_pickle(f'{df_save_dir}df_manual_tokenized_spacy_nltk_gensim.pkl')\n",
                "df_manual.to_csv(f'{df_save_dir}df_manual_tokenized_spacy_nltk_gensim.csv', index=False)\n"
            ]
        },
        {
            "cell_type": "markdown",
            "id": "eeb0131f",
            "metadata": {},
            "source": [
                "# Use BERT to tokenize sentences\n"
            ]
        },
        {
            "cell_type": "markdown",
            "id": "efcf30fc",
            "metadata": {},
            "source": [
                "### START HERE IF SOURCING FROM df_manual_TOKENIZED_SPACY_NLTK_GENSIM\n",
                "### PLEASE SET CORRECT DIRECTORY PATHS BELOW\n"
            ]
        },
        {
            "cell_type": "code",
            "execution_count": 249,
            "id": "c81e981f",
            "metadata": {},
            "outputs": [],
            "source": [
                "import os # type:ignore # isort:skip # fmt:skip # noqa # nopep8\n",
                "import sys # type:ignore # isort:skip # fmt:skip # noqa # nopep8\n",
                "from pathlib import Path # type:ignore # isort:skip # fmt:skip # noqa # nopep8\n",
                "\n",
                "mod = sys.modules[__name__]\n",
                "\n",
                "code_dir = None\n",
                "code_dir_name = 'Code'\n",
                "unwanted_subdir_name = 'Analysis'\n",
                "\n",
                "for _ in range(5):\n",
                "\n",
                "    parent_path = str(Path.cwd().parents[_]).split('/')[-1]\n",
                "\n",
                "    if (code_dir_name in parent_path) and (unwanted_subdir_name not in parent_path):\n",
                "\n",
                "        code_dir = str(Path.cwd().parents[_])\n",
                "\n",
                "        if code_dir is not None:\n",
                "            break\n",
                "\n",
                "sys.path.append(code_dir)\n",
                "# %load_ext autoreload\n",
                "# %autoreload 2\n"
            ]
        },
        {
            "cell_type": "code",
            "execution_count": 250,
            "id": "6f6ae091",
            "metadata": {},
            "outputs": [],
            "source": [
                "from setup_module.imports import * # type:ignore # isort:skip # fmt:skip # noqa # nopep8\n"
            ]
        },
        {
            "cell_type": "code",
            "execution_count": 251,
            "id": "ec899945",
            "metadata": {},
            "outputs": [],
            "source": [
                "df_manual = pd.read_pickle(f'{df_save_dir}df_manual_tokenized_spacy_nltk_gensim.pkl').reset_index(drop=True)\n"
            ]
        },
        {
            "cell_type": "code",
            "execution_count": 252,
            "id": "d42a3b60",
            "metadata": {},
            "outputs": [
                {
                    "name": "stdout",
                    "output_type": "stream",
                    "text": [
                        "<class 'pandas.core.frame.DataFrame'>\n",
                        "RangeIndex: 5298 entries, 0 to 5297\n",
                        "Data columns (total 56 columns):\n",
                        " #   Column                                            Non-Null Count  Dtype  \n",
                        "---  ------                                            --------------  -----  \n",
                        " 0   Job ID                                            5298 non-null   object \n",
                        " 1   Job Description spacy_sentencized                 5298 non-null   object \n",
                        " 2   Warmth                                            5298 non-null   int64  \n",
                        " 3   Competence                                        5298 non-null   int64  \n",
                        " 4   Dutch Requirement                                 5298 non-null   object \n",
                        " 5   English Requirement                               5298 non-null   object \n",
                        " 6   Search Keyword                                    5298 non-null   object \n",
                        " 7   Platform                                          5298 non-null   object \n",
                        " 8   Job Title                                         5298 non-null   object \n",
                        " 9   Company Name                                      5298 non-null   object \n",
                        " 10  Location                                          5298 non-null   object \n",
                        " 11  Industry                                          184 non-null    object \n",
                        " 12  Sector Code                                       5298 non-null   object \n",
                        " 13  Sector                                            5298 non-null   object \n",
                        " 14  Keywords Count                                    5298 non-null   float64\n",
                        " 15  % per Sector                                      5298 non-null   float64\n",
                        " 16  % per Social Category                             5298 non-null   float64\n",
                        " 17  % per Workforce                                   5298 non-null   float64\n",
                        " 18  Female Count (x 1000)                             5298 non-null   float64\n",
                        " 19  Gender_Female_% per Sector                        5298 non-null   float64\n",
                        " 20  Gender_Female_% per Social Category               5298 non-null   float64\n",
                        " 21  Gender_Female_% per Workforce                     5298 non-null   float64\n",
                        " 22  Male Count (x 1000)                               5298 non-null   float64\n",
                        " 23  Gender_Male_% per Sector                          5298 non-null   float64\n",
                        " 24  Gender_Male_% per Social Category                 5298 non-null   float64\n",
                        " 25  Gender_Male_% per Workforce                       5298 non-null   float64\n",
                        " 26  Gender                                            5298 non-null   object \n",
                        " 27  Age_Older_n                                       5298 non-null   float64\n",
                        " 28  Age_Older_% per Sector                            5298 non-null   float64\n",
                        " 29  Age_Older_% per Social Category                   5298 non-null   float64\n",
                        " 30  Age_Older_% per Workforce                         5298 non-null   float64\n",
                        " 31  Age_Younger_n                                     5298 non-null   float64\n",
                        " 32  Age_Younger_% per Sector                          5298 non-null   float64\n",
                        " 33  Age_Younger_% per Social Category                 5298 non-null   float64\n",
                        " 34  Age_Younger_% per Workforce                       5298 non-null   float64\n",
                        " 35  Age                                               5298 non-null   object \n",
                        " 36  Sector Count (x 1000)                             5298 non-null   float64\n",
                        " 37  % Sector per Workforce                            5298 non-null   float64\n",
                        " 38  Gender_Female                                     5298 non-null   int64  \n",
                        " 39  Gender_Male                                       5298 non-null   int64  \n",
                        " 40  Gender_Mixed                                      5298 non-null   int64  \n",
                        " 41  Age_Mixed                                         5298 non-null   int64  \n",
                        " 42  Age_Older                                         5298 non-null   int64  \n",
                        " 43  Age_Younger                                       5298 non-null   int64  \n",
                        " 44  Gender_Num                                        5298 non-null   int64  \n",
                        " 45  Age_Num                                           5298 non-null   int64  \n",
                        " 46  Job Description spacy_sentencized_lower           5298 non-null   object \n",
                        " 47  Job Description spacy_tokenized                   5298 non-null   object \n",
                        " 48  Job Description spacy_sentencized_cleaned         5298 non-null   object \n",
                        " 49  Job Description num_words                         5298 non-null   int64  \n",
                        " 50  Job Description num_unique_words                  5298 non-null   int64  \n",
                        " 51  Job Description num_chars                         5298 non-null   int64  \n",
                        " 52  Job Description num_chars_no_whitespact_and_punt  5298 non-null   int64  \n",
                        " 53  Job Description num_punctuations                  5298 non-null   int64  \n",
                        " 54  Job Description nltk_tokenized                    5298 non-null   object \n",
                        " 55  Job Description gensim_tokenized                  5298 non-null   object \n",
                        "dtypes: float64(22), int64(15), object(19)\n",
                        "memory usage: 2.3+ MB\n"
                    ]
                }
            ],
            "source": [
                "df_manual.info()\n"
            ]
        },
        {
            "cell_type": "code",
            "execution_count": 253,
            "id": "f8bc6622",
            "metadata": {},
            "outputs": [
                {
                    "name": "stdout",
                    "output_type": "stream",
                    "text": [
                        "Using MPS\n"
                    ]
                },
                {
                    "name": "stderr",
                    "output_type": "stream",
                    "text": [
                        "Some weights of the model checkpoint at bert-base-uncased were not used when initializing BertForSequenceClassification: ['cls.predictions.decoder.weight', 'cls.predictions.transform.LayerNorm.weight', 'cls.predictions.bias', 'cls.predictions.transform.dense.bias', 'cls.seq_relationship.weight', 'cls.predictions.transform.LayerNorm.bias', 'cls.seq_relationship.bias', 'cls.predictions.transform.dense.weight']\n",
                        "- This IS expected if you are initializing BertForSequenceClassification from the checkpoint of a model trained on another task or with another architecture (e.g. initializing a BertForSequenceClassification model from a BertForPreTraining model).\n",
                        "- This IS NOT expected if you are initializing BertForSequenceClassification from the checkpoint of a model that you expect to be exactly identical (initializing a BertForSequenceClassification model from a BertForSequenceClassification model).\n",
                        "Some weights of BertForSequenceClassification were not initialized from the model checkpoint at bert-base-uncased and are newly initialized: ['classifier.weight', 'classifier.bias']\n",
                        "You should probably TRAIN this model on a down-stream task to be able to use it for predictions and inference.\n"
                    ]
                },
                {
                    "data": {
                        "application/vnd.jupyter.widget-view+json": {
                            "model_id": "6d93cc07bfa54a1f8b6f77112116e6a5",
                            "version_major": 2,
                            "version_minor": 0
                        },
                        "text/plain": [
                            "progress-bar:   0%|          | 0/5298 [00:00<?, ?it/s]"
                        ]
                    },
                    "metadata": {},
                    "output_type": "display_data"
                },
                {
                    "data": {
                        "application/vnd.jupyter.widget-view+json": {
                            "model_id": "aba9af0d55314433b0f8e1086c20c1a3",
                            "version_major": 2,
                            "version_minor": 0
                        },
                        "text/plain": [
                            "progress-bar:   0%|          | 0/5298 [00:00<?, ?it/s]"
                        ]
                    },
                    "metadata": {},
                    "output_type": "display_data"
                },
                {
                    "data": {
                        "application/vnd.jupyter.widget-view+json": {
                            "model_id": "9fb05bf0d4094f13a727ab5be63c76c7",
                            "version_major": 2,
                            "version_minor": 0
                        },
                        "text/plain": [
                            "progress-bar:   0%|          | 0/5298 [00:00<?, ?it/s]"
                        ]
                    },
                    "metadata": {},
                    "output_type": "display_data"
                },
                {
                    "name": "stdout",
                    "output_type": "stream",
                    "text": [
                        "CPU times: user 3.18 s, sys: 710 ms, total: 3.89 s\n",
                        "Wall time: 4.65 s\n"
                    ]
                }
            ],
            "source": [
                "%%time\n",
                "max_length = 512\n",
                "returned_tensor = 'pt'\n",
                "cpu_counts = torch.multiprocessing.cpu_count()\n",
                "device = torch.device('mps') if torch.has_mps and torch.backends.mps.is_built() and torch.backends.mps.is_available() else torch.device('cuda') if torch.cuda.is_available() else torch.device('cpu')\n",
                "device_name = str(device.type)\n",
                "print(f'Using {device_name.upper()}')\n",
                "bert_model_name = 'bert-base-uncased'\n",
                "bert_tokenizer = BertTokenizerFast.from_pretrained(bert_model_name, strip_accents = True)\n",
                "bert_model = BertForSequenceClassification.from_pretrained(bert_model_name).to(device)\n",
                "\n",
                "df_manual['Job Description bert_encodings'] = df_manual['Job Description spacy_sentencized'].progress_apply(\n",
                "    lambda sentence: bert_tokenizer(\n",
                "        str(sentence), truncation=True, padding=True, max_length=max_length, return_tensors=returned_tensor\n",
                "    )\n",
                ")\n",
                "\n",
                "df_manual['Job Description bert_tokenized'] = df_manual['Job Description spacy_sentencized'].progress_apply(\n",
                "    lambda sentence: bert_tokenizer.tokenize(str(sentence))\n",
                ")\n",
                "\n",
                "df_manual['Job Description bert_tokenized_to_id'] = df_manual['Job Description bert_tokenized'].progress_apply(\n",
                "    lambda sentence: bert_tokenizer.convert_tokens_to_ids(str(sentence))\n",
                ")\n",
                "\n",
                "assert len(df_manual) > 0 and isinstance(df_manual, pd.DataFrame), f'ERORR: LENGTH OF DF = {len(df_manual)}'\n",
                "df_manual.to_pickle(f'{df_save_dir}df_manual_tokenized_spacy_nltk_gensim_bert.pkl')\n",
                "df_manual.to_csv(f'{df_save_dir}df_manual_tokenized_spacy_nltk_gensim_bert.csv', index=False)\n"
            ]
        },
        {
            "cell_type": "code",
            "execution_count": 254,
            "id": "1d996bc4",
            "metadata": {},
            "outputs": [
                {
                    "data": {
                        "text/plain": [
                            "0    [input_ids, token_type_ids, attention_mask]\n",
                            "1    [input_ids, token_type_ids, attention_mask]\n",
                            "2    [input_ids, token_type_ids, attention_mask]\n",
                            "3    [input_ids, token_type_ids, attention_mask]\n",
                            "4    [input_ids, token_type_ids, attention_mask]\n",
                            "Name: Job Description bert_encodings, dtype: object"
                        ]
                    },
                    "execution_count": 254,
                    "metadata": {},
                    "output_type": "execute_result"
                }
            ],
            "source": [
                "df_manual['Job Description bert_encodings'].head()\n"
            ]
        },
        {
            "cell_type": "code",
            "execution_count": 255,
            "id": "9ae92181",
            "metadata": {},
            "outputs": [
                {
                    "data": {
                        "text/plain": [
                            "0    [the, opportunity, where, you, will, make, an,...\n",
                            "1    [as, our, content, st, ##rate, ##gist, &, copy...\n",
                            "2    [you, are, skilled, and, experienced, within, ...\n",
                            "3    [with, your, team, of, copy, ##writer, ##s, (,...\n",
                            "4    [your, role, is, to, create, campaigns, and, c...\n",
                            "Name: Job Description bert_tokenized, dtype: object"
                        ]
                    },
                    "execution_count": 255,
                    "metadata": {},
                    "output_type": "execute_result"
                }
            ],
            "source": [
                "df_manual['Job Description bert_tokenized'].head()\n"
            ]
        },
        {
            "cell_type": "code",
            "execution_count": 256,
            "id": "5f7a4ae3",
            "metadata": {},
            "outputs": [
                {
                    "data": {
                        "text/plain": [
                            "0    100\n",
                            "1    100\n",
                            "2    100\n",
                            "3    100\n",
                            "4    100\n",
                            "Name: Job Description bert_tokenized_to_id, dtype: int64"
                        ]
                    },
                    "execution_count": 256,
                    "metadata": {},
                    "output_type": "execute_result"
                }
            ],
            "source": [
                "df_manual['Job Description bert_tokenized_to_id'].head()"
            ]
        },
        {
            "cell_type": "code",
            "execution_count": 257,
            "id": "8936c818",
            "metadata": {},
            "outputs": [],
            "source": [
                "assert len(df_manual) > 0 and isinstance(df_manual, pd.DataFrame), f'ERORR: LENGTH OF DF = {len(df_manual)}'\n",
                "df_manual.to_pickle(f'{df_save_dir}df_manual_tokenized_spacy_nltk_gensim_bert.pkl')\n",
                "df_manual.to_csv(f'{df_save_dir}df_manual_tokenized_spacy_nltk_gensim_bert.csv', index=False)\n"
            ]
        },
        {
            "cell_type": "markdown",
            "id": "6c0bfad5",
            "metadata": {},
            "source": [
                "# ATTN: This script should be run AFTER all tokenization (spacy, nltk, gensim, and BERT) completed.\n"
            ]
        },
        {
            "cell_type": "markdown",
            "id": "e4a62460",
            "metadata": {},
            "source": [
                "# Use spacy to create Parts-Of-Speech (POS) tags, lemmas, and stems\n"
            ]
        },
        {
            "cell_type": "markdown",
            "id": "374d2178",
            "metadata": {},
            "source": [
                "### START HERE IF SOURCING FROM df_manual_TOKENIZED_SPACY_NLTK_GENSIM_BERT\n",
                "### PLEASE SET CORRECT DIRECTORY PATHS BELOW\n"
            ]
        },
        {
            "cell_type": "code",
            "execution_count": 258,
            "id": "c74f96a0",
            "metadata": {},
            "outputs": [],
            "source": [
                "import os # type:ignore # isort:skip # fmt:skip # noqa # nopep8\n",
                "import sys # type:ignore # isort:skip # fmt:skip # noqa # nopep8\n",
                "from pathlib import Path # type:ignore # isort:skip # fmt:skip # noqa # nopep8\n",
                "\n",
                "mod = sys.modules[__name__]\n",
                "\n",
                "code_dir = None\n",
                "code_dir_name = 'Code'\n",
                "unwanted_subdir_name = 'Analysis'\n",
                "\n",
                "for _ in range(5):\n",
                "\n",
                "    parent_path = str(Path.cwd().parents[_]).split('/')[-1]\n",
                "\n",
                "    if (code_dir_name in parent_path) and (unwanted_subdir_name not in parent_path):\n",
                "\n",
                "        code_dir = str(Path.cwd().parents[_])\n",
                "\n",
                "        if code_dir is not None:\n",
                "            break\n",
                "\n",
                "sys.path.append(code_dir)\n",
                "# %load_ext autoreload\n",
                "# %autoreload 2\n"
            ]
        },
        {
            "cell_type": "code",
            "execution_count": 259,
            "id": "0053cd25",
            "metadata": {},
            "outputs": [],
            "source": [
                "from setup_module.imports import * # type:ignore # isort:skip # fmt:skip # noqa # nopep8\n"
            ]
        },
        {
            "cell_type": "code",
            "execution_count": 260,
            "id": "10424739",
            "metadata": {},
            "outputs": [],
            "source": [
                "df_manual = pd.read_pickle(f'{df_save_dir}df_manual_tokenized_spacy_nltk_gensim_bert.pkl').reset_index(drop=True)\n"
            ]
        },
        {
            "cell_type": "code",
            "execution_count": 261,
            "id": "08c5b9fb",
            "metadata": {},
            "outputs": [
                {
                    "name": "stdout",
                    "output_type": "stream",
                    "text": [
                        "<class 'pandas.core.frame.DataFrame'>\n",
                        "RangeIndex: 5298 entries, 0 to 5297\n",
                        "Data columns (total 59 columns):\n",
                        " #   Column                                            Non-Null Count  Dtype  \n",
                        "---  ------                                            --------------  -----  \n",
                        " 0   Job ID                                            5298 non-null   object \n",
                        " 1   Job Description spacy_sentencized                 5298 non-null   object \n",
                        " 2   Warmth                                            5298 non-null   int64  \n",
                        " 3   Competence                                        5298 non-null   int64  \n",
                        " 4   Dutch Requirement                                 5298 non-null   object \n",
                        " 5   English Requirement                               5298 non-null   object \n",
                        " 6   Search Keyword                                    5298 non-null   object \n",
                        " 7   Platform                                          5298 non-null   object \n",
                        " 8   Job Title                                         5298 non-null   object \n",
                        " 9   Company Name                                      5298 non-null   object \n",
                        " 10  Location                                          5298 non-null   object \n",
                        " 11  Industry                                          184 non-null    object \n",
                        " 12  Sector Code                                       5298 non-null   object \n",
                        " 13  Sector                                            5298 non-null   object \n",
                        " 14  Keywords Count                                    5298 non-null   float64\n",
                        " 15  % per Sector                                      5298 non-null   float64\n",
                        " 16  % per Social Category                             5298 non-null   float64\n",
                        " 17  % per Workforce                                   5298 non-null   float64\n",
                        " 18  Female Count (x 1000)                             5298 non-null   float64\n",
                        " 19  Gender_Female_% per Sector                        5298 non-null   float64\n",
                        " 20  Gender_Female_% per Social Category               5298 non-null   float64\n",
                        " 21  Gender_Female_% per Workforce                     5298 non-null   float64\n",
                        " 22  Male Count (x 1000)                               5298 non-null   float64\n",
                        " 23  Gender_Male_% per Sector                          5298 non-null   float64\n",
                        " 24  Gender_Male_% per Social Category                 5298 non-null   float64\n",
                        " 25  Gender_Male_% per Workforce                       5298 non-null   float64\n",
                        " 26  Gender                                            5298 non-null   object \n",
                        " 27  Age_Older_n                                       5298 non-null   float64\n",
                        " 28  Age_Older_% per Sector                            5298 non-null   float64\n",
                        " 29  Age_Older_% per Social Category                   5298 non-null   float64\n",
                        " 30  Age_Older_% per Workforce                         5298 non-null   float64\n",
                        " 31  Age_Younger_n                                     5298 non-null   float64\n",
                        " 32  Age_Younger_% per Sector                          5298 non-null   float64\n",
                        " 33  Age_Younger_% per Social Category                 5298 non-null   float64\n",
                        " 34  Age_Younger_% per Workforce                       5298 non-null   float64\n",
                        " 35  Age                                               5298 non-null   object \n",
                        " 36  Sector Count (x 1000)                             5298 non-null   float64\n",
                        " 37  % Sector per Workforce                            5298 non-null   float64\n",
                        " 38  Gender_Female                                     5298 non-null   int64  \n",
                        " 39  Gender_Male                                       5298 non-null   int64  \n",
                        " 40  Gender_Mixed                                      5298 non-null   int64  \n",
                        " 41  Age_Mixed                                         5298 non-null   int64  \n",
                        " 42  Age_Older                                         5298 non-null   int64  \n",
                        " 43  Age_Younger                                       5298 non-null   int64  \n",
                        " 44  Gender_Num                                        5298 non-null   int64  \n",
                        " 45  Age_Num                                           5298 non-null   int64  \n",
                        " 46  Job Description spacy_sentencized_lower           5298 non-null   object \n",
                        " 47  Job Description spacy_tokenized                   5298 non-null   object \n",
                        " 48  Job Description spacy_sentencized_cleaned         5298 non-null   object \n",
                        " 49  Job Description num_words                         5298 non-null   int64  \n",
                        " 50  Job Description num_unique_words                  5298 non-null   int64  \n",
                        " 51  Job Description num_chars                         5298 non-null   int64  \n",
                        " 52  Job Description num_chars_no_whitespact_and_punt  5298 non-null   int64  \n",
                        " 53  Job Description num_punctuations                  5298 non-null   int64  \n",
                        " 54  Job Description nltk_tokenized                    5298 non-null   object \n",
                        " 55  Job Description gensim_tokenized                  5298 non-null   object \n",
                        " 56  Job Description bert_encodings                    5298 non-null   object \n",
                        " 57  Job Description bert_tokenized                    5298 non-null   object \n",
                        " 58  Job Description bert_tokenized_to_id              5298 non-null   int64  \n",
                        "dtypes: float64(22), int64(16), object(21)\n",
                        "memory usage: 2.4+ MB\n"
                    ]
                }
            ],
            "source": [
                "df_manual.info()\n"
            ]
        },
        {
            "cell_type": "code",
            "execution_count": 262,
            "id": "45e45b2c",
            "metadata": {},
            "outputs": [
                {
                    "data": {
                        "application/vnd.jupyter.widget-view+json": {
                            "model_id": "0d6f8e986924428eb686c79226c8da83",
                            "version_major": 2,
                            "version_minor": 0
                        },
                        "text/plain": [
                            "progress-bar:   0%|          | 0/5298 [00:00<?, ?it/s]"
                        ]
                    },
                    "metadata": {},
                    "output_type": "display_data"
                },
                {
                    "data": {
                        "application/vnd.jupyter.widget-view+json": {
                            "model_id": "8b880c0920134976af5b9c238ef79b7f",
                            "version_major": 2,
                            "version_minor": 0
                        },
                        "text/plain": [
                            "progress-bar:   0%|          | 0/5298 [00:00<?, ?it/s]"
                        ]
                    },
                    "metadata": {},
                    "output_type": "display_data"
                },
                {
                    "data": {
                        "application/vnd.jupyter.widget-view+json": {
                            "model_id": "c2c51d49e88844f8907c25684e92e796",
                            "version_major": 2,
                            "version_minor": 0
                        },
                        "text/plain": [
                            "progress-bar:   0%|          | 0/5298 [00:00<?, ?it/s]"
                        ]
                    },
                    "metadata": {},
                    "output_type": "display_data"
                },
                {
                    "name": "stdout",
                    "output_type": "stream",
                    "text": [
                        "CPU times: user 1min 11s, sys: 1.13 s, total: 1min 13s\n",
                        "Wall time: 1min 16s\n"
                    ]
                }
            ],
            "source": [
                "%%time\n",
                "# Load customer characters\n",
                "with open(f'{data_dir}punctuations.txt', 'rb') as f:\n",
                "    custom_punct_chars = pickle.load(f)\n",
                "\n",
                "# POS tagging\n",
                "df_manual['Job Description spacy_token_tags'] = df_manual[\n",
                "    'Job Description spacy_sentencized'\n",
                "].progress_apply(\n",
                "    lambda job_sentence: [\n",
                "        (token.text.strip().lower(), token.tag_) for token in nlp(job_sentence)\n",
                "    ]\n",
                ")\n",
                "\n",
                "# Lemmatization\n",
                "df_manual['Job Description spacy_lemmas'] = df_manual['Job Description spacy_sentencized'].progress_apply(\n",
                "    lambda job_sentence: [\n",
                "        token.lemma_.strip().lower()\n",
                "        for token in nlp(job_sentence)\n",
                "        if len(token) != 0 and not token.is_stop and not token.is_punct and token.text not in custom_punct_chars\n",
                "    ]\n",
                ")\n",
                "\n",
                "# Stemming\n",
                "df_manual['Job Description spacy_stems'] = df_manual['Job Description spacy_sentencized'].progress_apply(\n",
                "    lambda job_sentence: [\n",
                "        stemmer.stem(token.text.strip().lower())\n",
                "        for token in nlp(job_sentence)\n",
                "        if len(token) != 0 and not token.is_stop and not token.is_punct and token.text not in custom_punct_chars\n",
                "    ]\n",
                ")\n",
                "\n",
                "assert len(df_manual) > 0 and isinstance(df_manual, pd.DataFrame), f'ERORR: LENGTH OF DF = {len(df_manual)}'\n",
                "df_manual.to_pickle(f'{df_save_dir}df_manual_tags_lemmas_stems_spacy.pkl')\n",
                "df_manual.to_csv(f'{df_save_dir}df_manual_tags_lemmas_stems_spacy.csv', index=False)\n"
            ]
        },
        {
            "cell_type": "code",
            "execution_count": 263,
            "id": "9d8332f9",
            "metadata": {},
            "outputs": [
                {
                    "name": "stdout",
                    "output_type": "stream",
                    "text": [
                        "<class 'pandas.core.frame.DataFrame'>\n",
                        "RangeIndex: 5298 entries, 0 to 5297\n",
                        "Data columns (total 62 columns):\n",
                        " #   Column                                            Non-Null Count  Dtype  \n",
                        "---  ------                                            --------------  -----  \n",
                        " 0   Job ID                                            5298 non-null   object \n",
                        " 1   Job Description spacy_sentencized                 5298 non-null   object \n",
                        " 2   Warmth                                            5298 non-null   int64  \n",
                        " 3   Competence                                        5298 non-null   int64  \n",
                        " 4   Dutch Requirement                                 5298 non-null   object \n",
                        " 5   English Requirement                               5298 non-null   object \n",
                        " 6   Search Keyword                                    5298 non-null   object \n",
                        " 7   Platform                                          5298 non-null   object \n",
                        " 8   Job Title                                         5298 non-null   object \n",
                        " 9   Company Name                                      5298 non-null   object \n",
                        " 10  Location                                          5298 non-null   object \n",
                        " 11  Industry                                          184 non-null    object \n",
                        " 12  Sector Code                                       5298 non-null   object \n",
                        " 13  Sector                                            5298 non-null   object \n",
                        " 14  Keywords Count                                    5298 non-null   float64\n",
                        " 15  % per Sector                                      5298 non-null   float64\n",
                        " 16  % per Social Category                             5298 non-null   float64\n",
                        " 17  % per Workforce                                   5298 non-null   float64\n",
                        " 18  Female Count (x 1000)                             5298 non-null   float64\n",
                        " 19  Gender_Female_% per Sector                        5298 non-null   float64\n",
                        " 20  Gender_Female_% per Social Category               5298 non-null   float64\n",
                        " 21  Gender_Female_% per Workforce                     5298 non-null   float64\n",
                        " 22  Male Count (x 1000)                               5298 non-null   float64\n",
                        " 23  Gender_Male_% per Sector                          5298 non-null   float64\n",
                        " 24  Gender_Male_% per Social Category                 5298 non-null   float64\n",
                        " 25  Gender_Male_% per Workforce                       5298 non-null   float64\n",
                        " 26  Gender                                            5298 non-null   object \n",
                        " 27  Age_Older_n                                       5298 non-null   float64\n",
                        " 28  Age_Older_% per Sector                            5298 non-null   float64\n",
                        " 29  Age_Older_% per Social Category                   5298 non-null   float64\n",
                        " 30  Age_Older_% per Workforce                         5298 non-null   float64\n",
                        " 31  Age_Younger_n                                     5298 non-null   float64\n",
                        " 32  Age_Younger_% per Sector                          5298 non-null   float64\n",
                        " 33  Age_Younger_% per Social Category                 5298 non-null   float64\n",
                        " 34  Age_Younger_% per Workforce                       5298 non-null   float64\n",
                        " 35  Age                                               5298 non-null   object \n",
                        " 36  Sector Count (x 1000)                             5298 non-null   float64\n",
                        " 37  % Sector per Workforce                            5298 non-null   float64\n",
                        " 38  Gender_Female                                     5298 non-null   int64  \n",
                        " 39  Gender_Male                                       5298 non-null   int64  \n",
                        " 40  Gender_Mixed                                      5298 non-null   int64  \n",
                        " 41  Age_Mixed                                         5298 non-null   int64  \n",
                        " 42  Age_Older                                         5298 non-null   int64  \n",
                        " 43  Age_Younger                                       5298 non-null   int64  \n",
                        " 44  Gender_Num                                        5298 non-null   int64  \n",
                        " 45  Age_Num                                           5298 non-null   int64  \n",
                        " 46  Job Description spacy_sentencized_lower           5298 non-null   object \n",
                        " 47  Job Description spacy_tokenized                   5298 non-null   object \n",
                        " 48  Job Description spacy_sentencized_cleaned         5298 non-null   object \n",
                        " 49  Job Description num_words                         5298 non-null   int64  \n",
                        " 50  Job Description num_unique_words                  5298 non-null   int64  \n",
                        " 51  Job Description num_chars                         5298 non-null   int64  \n",
                        " 52  Job Description num_chars_no_whitespact_and_punt  5298 non-null   int64  \n",
                        " 53  Job Description num_punctuations                  5298 non-null   int64  \n",
                        " 54  Job Description nltk_tokenized                    5298 non-null   object \n",
                        " 55  Job Description gensim_tokenized                  5298 non-null   object \n",
                        " 56  Job Description bert_encodings                    5298 non-null   object \n",
                        " 57  Job Description bert_tokenized                    5298 non-null   object \n",
                        " 58  Job Description bert_tokenized_to_id              5298 non-null   int64  \n",
                        " 59  Job Description spacy_token_tags                  5298 non-null   object \n",
                        " 60  Job Description spacy_lemmas                      5298 non-null   object \n",
                        " 61  Job Description spacy_stems                       5298 non-null   object \n",
                        "dtypes: float64(22), int64(16), object(24)\n",
                        "memory usage: 2.5+ MB\n"
                    ]
                }
            ],
            "source": [
                "df_manual.info()\n"
            ]
        },
        {
            "cell_type": "code",
            "execution_count": 264,
            "id": "5d8d37b3",
            "metadata": {},
            "outputs": [
                {
                    "data": {
                        "text/html": [
                            "<div>\n",
                            "<style scoped>\n",
                            "    .dataframe tbody tr th:only-of-type {\n",
                            "        vertical-align: middle;\n",
                            "    }\n",
                            "\n",
                            "    .dataframe tbody tr th {\n",
                            "        vertical-align: top;\n",
                            "    }\n",
                            "\n",
                            "    .dataframe thead th {\n",
                            "        text-align: right;\n",
                            "    }\n",
                            "</style>\n",
                            "<table border=\"1\" class=\"dataframe\">\n",
                            "  <thead>\n",
                            "    <tr style=\"text-align: center;\">\n",
                            "      <th></th>\n",
                            "      <th>Job Description spacy_token_tags</th>\n",
                            "      <th>Job Description spacy_lemmas</th>\n",
                            "      <th>Job Description spacy_stems</th>\n",
                            "    </tr>\n",
                            "  </thead>\n",
                            "  <tbody>\n",
                            "    <tr>\n",
                            "      <th>0</th>\n",
                            "      <td>[(the, DT), (opportunity, NN), (where, WRB), (...</td>\n",
                            "      <td>[opportunity, impact]</td>\n",
                            "      <td>[opportun, impact]</td>\n",
                            "    </tr>\n",
                            "    <tr>\n",
                            "      <th>1</th>\n",
                            "      <td>[(as, IN), (our, PRP$), (content, NNP), (strat...</td>\n",
                            "      <td>[content, strategist, copywriting, manager, re...</td>\n",
                            "      <td>[content, strategist, copywrit, manag, respons...</td>\n",
                            "    </tr>\n",
                            "    <tr>\n",
                            "      <th>2</th>\n",
                            "      <td>[(you, PRP), (are, VBP), (skilled, JJ), (and, ...</td>\n",
                            "      <td>[skilled, experience, digital, environment, un...</td>\n",
                            "      <td>[skill, experienc, digit, environ, understand,...</td>\n",
                            "    </tr>\n",
                            "    <tr>\n",
                            "      <th>3</th>\n",
                            "      <td>[(with, IN), (your, PRP$), (team, NN), (of, IN...</td>\n",
                            "      <td>[team, copywriter, currently, 1, digital, cont...</td>\n",
                            "      <td>[team, copywrit, current, 1, digit, content, s...</td>\n",
                            "    </tr>\n",
                            "    <tr>\n",
                            "      <th>4</th>\n",
                            "      <td>[(your, PRP$), (role, NN), (is, VBZ), (to, TO)...</td>\n",
                            "      <td>[role, create, campaign, content, deeply, conn...</td>\n",
                            "      <td>[role, creat, campaign, content, deepli, conne...</td>\n",
                            "    </tr>\n",
                            "  </tbody>\n",
                            "</table>\n",
                            "</div>"
                        ],
                        "text/plain": [
                            "           Job Description spacy_token_tags                     Job Description spacy_lemmas                       Job Description spacy_stems            \n",
                            "0  [(the, DT), (opportunity, NN), (where, WRB), (...                              [opportunity, impact]                                 [opportun, impact]\n",
                            "1  [(as, IN), (our, PRP$), (content, NNP), (strat...  [content, strategist, copywriting, manager, re...  [content, strategist, copywrit, manag, respons...\n",
                            "2  [(you, PRP), (are, VBP), (skilled, JJ), (and, ...  [skilled, experience, digital, environment, un...  [skill, experienc, digit, environ, understand,...\n",
                            "3  [(with, IN), (your, PRP$), (team, NN), (of, IN...  [team, copywriter, currently, 1, digital, cont...  [team, copywrit, current, 1, digit, content, s...\n",
                            "4  [(your, PRP$), (role, NN), (is, VBZ), (to, TO)...  [role, create, campaign, content, deeply, conn...  [role, creat, campaign, content, deepli, conne..."
                        ]
                    },
                    "execution_count": 264,
                    "metadata": {},
                    "output_type": "execute_result"
                }
            ],
            "source": [
                "df_manual[\n",
                "    [\n",
                "        'Job Description spacy_token_tags',\n",
                "        'Job Description spacy_lemmas',\n",
                "        'Job Description spacy_stems'\n",
                "    ]\n",
                "].head()\n"
            ]
        },
        {
            "cell_type": "code",
            "execution_count": 265,
            "id": "fa7acdc1",
            "metadata": {},
            "outputs": [],
            "source": [
                "assert len(df_manual) > 0 and isinstance(df_manual, pd.DataFrame), f'ERORR: LENGTH OF DF = {len(df_manual)}'\n",
                "df_manual.to_pickle(f'{df_save_dir}df_manual_tags_lemmas_stems_spacy.pkl')\n",
                "df_manual.to_csv(f'{df_save_dir}df_manual_tags_lemmas_stems_spacy.csv', index=False)\n"
            ]
        },
        {
            "cell_type": "markdown",
            "id": "8c74665a",
            "metadata": {},
            "source": [
                "# Use NLTK to create Parts-Of-Speech (POS) tags, lemmas, and stems\n"
            ]
        },
        {
            "cell_type": "markdown",
            "id": "12fe6cb2",
            "metadata": {},
            "source": [
                "### START HERE IF SOURCING FROM df_manual_TAGS_LEMMAS_STEMS_SPACY\n",
                "### PLEASE SET CORRECT DIRECTORY PATHS BELOW\n"
            ]
        },
        {
            "cell_type": "code",
            "execution_count": 266,
            "id": "7c765e8d",
            "metadata": {},
            "outputs": [],
            "source": [
                "import os # type:ignore # isort:skip # fmt:skip # noqa # nopep8\n",
                "import sys # type:ignore # isort:skip # fmt:skip # noqa # nopep8\n",
                "from pathlib import Path # type:ignore # isort:skip # fmt:skip # noqa # nopep8\n",
                "\n",
                "mod = sys.modules[__name__]\n",
                "\n",
                "code_dir = None\n",
                "code_dir_name = 'Code'\n",
                "unwanted_subdir_name = 'Analysis'\n",
                "\n",
                "for _ in range(5):\n",
                "\n",
                "    parent_path = str(Path.cwd().parents[_]).split('/')[-1]\n",
                "\n",
                "    if (code_dir_name in parent_path) and (unwanted_subdir_name not in parent_path):\n",
                "\n",
                "        code_dir = str(Path.cwd().parents[_])\n",
                "\n",
                "        if code_dir is not None:\n",
                "            break\n",
                "\n",
                "sys.path.append(code_dir)\n",
                "# %load_ext autoreload\n",
                "# %autoreload 2\n"
            ]
        },
        {
            "cell_type": "code",
            "execution_count": 267,
            "id": "d114a298",
            "metadata": {},
            "outputs": [],
            "source": [
                "from setup_module.imports import * # type:ignore # isort:skip # fmt:skip # noqa # nopep8\n"
            ]
        },
        {
            "cell_type": "code",
            "execution_count": 268,
            "id": "ac327ec6",
            "metadata": {},
            "outputs": [],
            "source": [
                "def get_wordnet_pos(token):\n",
                "    \"\"\"Map POS tag to first character lemmatize() accepts\"\"\"\n",
                "    tag = nltk.pos_tag([token])[0][1][0].upper()\n",
                "    tag_dict = {\"J\": wordnet.ADJ,\n",
                "                \"N\": wordnet.NOUN,\n",
                "                \"V\": wordnet.VERB,\n",
                "                \"R\": wordnet.ADV}\n",
                "\n",
                "    return tag_dict.get(tag, wordnet.NOUN)\n"
            ]
        },
        {
            "cell_type": "code",
            "execution_count": 269,
            "id": "0b5e476b",
            "metadata": {},
            "outputs": [],
            "source": [
                "df_manual = pd.read_pickle(f'{df_save_dir}df_manual_tags_lemmas_stems_spacy.pkl').reset_index(drop=True)\n"
            ]
        },
        {
            "cell_type": "code",
            "execution_count": 270,
            "id": "6f5c1c44",
            "metadata": {},
            "outputs": [
                {
                    "name": "stdout",
                    "output_type": "stream",
                    "text": [
                        "<class 'pandas.core.frame.DataFrame'>\n",
                        "RangeIndex: 5298 entries, 0 to 5297\n",
                        "Data columns (total 62 columns):\n",
                        " #   Column                                            Non-Null Count  Dtype  \n",
                        "---  ------                                            --------------  -----  \n",
                        " 0   Job ID                                            5298 non-null   object \n",
                        " 1   Job Description spacy_sentencized                 5298 non-null   object \n",
                        " 2   Warmth                                            5298 non-null   int64  \n",
                        " 3   Competence                                        5298 non-null   int64  \n",
                        " 4   Dutch Requirement                                 5298 non-null   object \n",
                        " 5   English Requirement                               5298 non-null   object \n",
                        " 6   Search Keyword                                    5298 non-null   object \n",
                        " 7   Platform                                          5298 non-null   object \n",
                        " 8   Job Title                                         5298 non-null   object \n",
                        " 9   Company Name                                      5298 non-null   object \n",
                        " 10  Location                                          5298 non-null   object \n",
                        " 11  Industry                                          184 non-null    object \n",
                        " 12  Sector Code                                       5298 non-null   object \n",
                        " 13  Sector                                            5298 non-null   object \n",
                        " 14  Keywords Count                                    5298 non-null   float64\n",
                        " 15  % per Sector                                      5298 non-null   float64\n",
                        " 16  % per Social Category                             5298 non-null   float64\n",
                        " 17  % per Workforce                                   5298 non-null   float64\n",
                        " 18  Female Count (x 1000)                             5298 non-null   float64\n",
                        " 19  Gender_Female_% per Sector                        5298 non-null   float64\n",
                        " 20  Gender_Female_% per Social Category               5298 non-null   float64\n",
                        " 21  Gender_Female_% per Workforce                     5298 non-null   float64\n",
                        " 22  Male Count (x 1000)                               5298 non-null   float64\n",
                        " 23  Gender_Male_% per Sector                          5298 non-null   float64\n",
                        " 24  Gender_Male_% per Social Category                 5298 non-null   float64\n",
                        " 25  Gender_Male_% per Workforce                       5298 non-null   float64\n",
                        " 26  Gender                                            5298 non-null   object \n",
                        " 27  Age_Older_n                                       5298 non-null   float64\n",
                        " 28  Age_Older_% per Sector                            5298 non-null   float64\n",
                        " 29  Age_Older_% per Social Category                   5298 non-null   float64\n",
                        " 30  Age_Older_% per Workforce                         5298 non-null   float64\n",
                        " 31  Age_Younger_n                                     5298 non-null   float64\n",
                        " 32  Age_Younger_% per Sector                          5298 non-null   float64\n",
                        " 33  Age_Younger_% per Social Category                 5298 non-null   float64\n",
                        " 34  Age_Younger_% per Workforce                       5298 non-null   float64\n",
                        " 35  Age                                               5298 non-null   object \n",
                        " 36  Sector Count (x 1000)                             5298 non-null   float64\n",
                        " 37  % Sector per Workforce                            5298 non-null   float64\n",
                        " 38  Gender_Female                                     5298 non-null   int64  \n",
                        " 39  Gender_Male                                       5298 non-null   int64  \n",
                        " 40  Gender_Mixed                                      5298 non-null   int64  \n",
                        " 41  Age_Mixed                                         5298 non-null   int64  \n",
                        " 42  Age_Older                                         5298 non-null   int64  \n",
                        " 43  Age_Younger                                       5298 non-null   int64  \n",
                        " 44  Gender_Num                                        5298 non-null   int64  \n",
                        " 45  Age_Num                                           5298 non-null   int64  \n",
                        " 46  Job Description spacy_sentencized_lower           5298 non-null   object \n",
                        " 47  Job Description spacy_tokenized                   5298 non-null   object \n",
                        " 48  Job Description spacy_sentencized_cleaned         5298 non-null   object \n",
                        " 49  Job Description num_words                         5298 non-null   int64  \n",
                        " 50  Job Description num_unique_words                  5298 non-null   int64  \n",
                        " 51  Job Description num_chars                         5298 non-null   int64  \n",
                        " 52  Job Description num_chars_no_whitespact_and_punt  5298 non-null   int64  \n",
                        " 53  Job Description num_punctuations                  5298 non-null   int64  \n",
                        " 54  Job Description nltk_tokenized                    5298 non-null   object \n",
                        " 55  Job Description gensim_tokenized                  5298 non-null   object \n",
                        " 56  Job Description bert_encodings                    5298 non-null   object \n",
                        " 57  Job Description bert_tokenized                    5298 non-null   object \n",
                        " 58  Job Description bert_tokenized_to_id              5298 non-null   int64  \n",
                        " 59  Job Description spacy_token_tags                  5298 non-null   object \n",
                        " 60  Job Description spacy_lemmas                      5298 non-null   object \n",
                        " 61  Job Description spacy_stems                       5298 non-null   object \n",
                        "dtypes: float64(22), int64(16), object(24)\n",
                        "memory usage: 2.5+ MB\n"
                    ]
                }
            ],
            "source": [
                "df_manual.info()\n"
            ]
        },
        {
            "cell_type": "code",
            "execution_count": 271,
            "id": "92fb117a",
            "metadata": {},
            "outputs": [
                {
                    "data": {
                        "application/vnd.jupyter.widget-view+json": {
                            "model_id": "902a4f664fd548d3bf9c30495a83925e",
                            "version_major": 2,
                            "version_minor": 0
                        },
                        "text/plain": [
                            "progress-bar:   0%|          | 0/5298 [00:00<?, ?it/s]"
                        ]
                    },
                    "metadata": {},
                    "output_type": "display_data"
                },
                {
                    "data": {
                        "application/vnd.jupyter.widget-view+json": {
                            "model_id": "7979938ae04e4d28bb25940e47b69efc",
                            "version_major": 2,
                            "version_minor": 0
                        },
                        "text/plain": [
                            "progress-bar:   0%|          | 0/5298 [00:00<?, ?it/s]"
                        ]
                    },
                    "metadata": {},
                    "output_type": "display_data"
                },
                {
                    "data": {
                        "application/vnd.jupyter.widget-view+json": {
                            "model_id": "09f6193a8aef4364b49e332d26a40f7f",
                            "version_major": 2,
                            "version_minor": 0
                        },
                        "text/plain": [
                            "progress-bar:   0%|          | 0/5298 [00:00<?, ?it/s]"
                        ]
                    },
                    "metadata": {},
                    "output_type": "display_data"
                },
                {
                    "name": "stdout",
                    "output_type": "stream",
                    "text": [
                        "CPU times: user 7.41 s, sys: 1.32 s, total: 8.73 s\n",
                        "Wall time: 9.15 s\n"
                    ]
                }
            ],
            "source": [
                "%%time\n",
                "# POS tagging\n",
                "df_manual['Job Description nltk_token_tags'] = df_manual['Job Description spacy_tokenized'].progress_apply(\n",
                "    lambda token: pos_tag(token)\n",
                ")\n",
                "\n",
                "# Lemmatization\n",
                "df_manual['Job Description nltk_lemmas'] = df_manual['Job Description spacy_tokenized'].progress_apply(\n",
                "    lambda tokens: [\n",
                "        lemmatizer.lemmatize(\n",
                "            token, get_wordnet_pos(\n",
                "                unicodedata.normalize('NFKD', str(token.strip().lower())).encode('ascii', 'ignore').decode('utf-8', 'ignore')\n",
                "            )\n",
                "        )\n",
                "        for token in tokens\n",
                "    ]\n",
                ")\n",
                "\n",
                "# Stemming\n",
                "df_manual['Job Description nltk_stems'] = df_manual['Job Description spacy_tokenized'].progress_apply(\n",
                "    lambda tokens: [\n",
                "        stemmer.stem(\n",
                "            unicodedata.normalize('NFKD', str(token.strip().lower())).encode('ascii', 'ignore').decode('utf-8', 'ignore')\n",
                "        )\n",
                "        for token in tokens\n",
                "    ]\n",
                ")\n",
                "\n",
                "assert len(df_manual) > 0 and isinstance(df_manual, pd.DataFrame), f'ERORR: LENGTH OF DF = {len(df_manual)}'\n",
                "df_manual.to_pickle(f'{df_save_dir}df_manual_tags_lemmas_stems_spacy_nltk.pkl')\n",
                "df_manual.to_csv(f'{df_save_dir}df_manual_tags_lemmas_stems_spacy_nltk.csv', index=False)\n"
            ]
        },
        {
            "cell_type": "code",
            "execution_count": 272,
            "id": "2893388c",
            "metadata": {},
            "outputs": [
                {
                    "name": "stdout",
                    "output_type": "stream",
                    "text": [
                        "<class 'pandas.core.frame.DataFrame'>\n",
                        "RangeIndex: 5298 entries, 0 to 5297\n",
                        "Data columns (total 65 columns):\n",
                        " #   Column                                            Non-Null Count  Dtype  \n",
                        "---  ------                                            --------------  -----  \n",
                        " 0   Job ID                                            5298 non-null   object \n",
                        " 1   Job Description spacy_sentencized                 5298 non-null   object \n",
                        " 2   Warmth                                            5298 non-null   int64  \n",
                        " 3   Competence                                        5298 non-null   int64  \n",
                        " 4   Dutch Requirement                                 5298 non-null   object \n",
                        " 5   English Requirement                               5298 non-null   object \n",
                        " 6   Search Keyword                                    5298 non-null   object \n",
                        " 7   Platform                                          5298 non-null   object \n",
                        " 8   Job Title                                         5298 non-null   object \n",
                        " 9   Company Name                                      5298 non-null   object \n",
                        " 10  Location                                          5298 non-null   object \n",
                        " 11  Industry                                          184 non-null    object \n",
                        " 12  Sector Code                                       5298 non-null   object \n",
                        " 13  Sector                                            5298 non-null   object \n",
                        " 14  Keywords Count                                    5298 non-null   float64\n",
                        " 15  % per Sector                                      5298 non-null   float64\n",
                        " 16  % per Social Category                             5298 non-null   float64\n",
                        " 17  % per Workforce                                   5298 non-null   float64\n",
                        " 18  Female Count (x 1000)                             5298 non-null   float64\n",
                        " 19  Gender_Female_% per Sector                        5298 non-null   float64\n",
                        " 20  Gender_Female_% per Social Category               5298 non-null   float64\n",
                        " 21  Gender_Female_% per Workforce                     5298 non-null   float64\n",
                        " 22  Male Count (x 1000)                               5298 non-null   float64\n",
                        " 23  Gender_Male_% per Sector                          5298 non-null   float64\n",
                        " 24  Gender_Male_% per Social Category                 5298 non-null   float64\n",
                        " 25  Gender_Male_% per Workforce                       5298 non-null   float64\n",
                        " 26  Gender                                            5298 non-null   object \n",
                        " 27  Age_Older_n                                       5298 non-null   float64\n",
                        " 28  Age_Older_% per Sector                            5298 non-null   float64\n",
                        " 29  Age_Older_% per Social Category                   5298 non-null   float64\n",
                        " 30  Age_Older_% per Workforce                         5298 non-null   float64\n",
                        " 31  Age_Younger_n                                     5298 non-null   float64\n",
                        " 32  Age_Younger_% per Sector                          5298 non-null   float64\n",
                        " 33  Age_Younger_% per Social Category                 5298 non-null   float64\n",
                        " 34  Age_Younger_% per Workforce                       5298 non-null   float64\n",
                        " 35  Age                                               5298 non-null   object \n",
                        " 36  Sector Count (x 1000)                             5298 non-null   float64\n",
                        " 37  % Sector per Workforce                            5298 non-null   float64\n",
                        " 38  Gender_Female                                     5298 non-null   int64  \n",
                        " 39  Gender_Male                                       5298 non-null   int64  \n",
                        " 40  Gender_Mixed                                      5298 non-null   int64  \n",
                        " 41  Age_Mixed                                         5298 non-null   int64  \n",
                        " 42  Age_Older                                         5298 non-null   int64  \n",
                        " 43  Age_Younger                                       5298 non-null   int64  \n",
                        " 44  Gender_Num                                        5298 non-null   int64  \n",
                        " 45  Age_Num                                           5298 non-null   int64  \n",
                        " 46  Job Description spacy_sentencized_lower           5298 non-null   object \n",
                        " 47  Job Description spacy_tokenized                   5298 non-null   object \n",
                        " 48  Job Description spacy_sentencized_cleaned         5298 non-null   object \n",
                        " 49  Job Description num_words                         5298 non-null   int64  \n",
                        " 50  Job Description num_unique_words                  5298 non-null   int64  \n",
                        " 51  Job Description num_chars                         5298 non-null   int64  \n",
                        " 52  Job Description num_chars_no_whitespact_and_punt  5298 non-null   int64  \n",
                        " 53  Job Description num_punctuations                  5298 non-null   int64  \n",
                        " 54  Job Description nltk_tokenized                    5298 non-null   object \n",
                        " 55  Job Description gensim_tokenized                  5298 non-null   object \n",
                        " 56  Job Description bert_encodings                    5298 non-null   object \n",
                        " 57  Job Description bert_tokenized                    5298 non-null   object \n",
                        " 58  Job Description bert_tokenized_to_id              5298 non-null   int64  \n",
                        " 59  Job Description spacy_token_tags                  5298 non-null   object \n",
                        " 60  Job Description spacy_lemmas                      5298 non-null   object \n",
                        " 61  Job Description spacy_stems                       5298 non-null   object \n",
                        " 62  Job Description nltk_token_tags                   5298 non-null   object \n",
                        " 63  Job Description nltk_lemmas                       5298 non-null   object \n",
                        " 64  Job Description nltk_stems                        5298 non-null   object \n",
                        "dtypes: float64(22), int64(16), object(27)\n",
                        "memory usage: 2.6+ MB\n"
                    ]
                }
            ],
            "source": [
                "df_manual.info()\n"
            ]
        },
        {
            "cell_type": "code",
            "execution_count": 273,
            "id": "84e2af7a",
            "metadata": {},
            "outputs": [
                {
                    "data": {
                        "text/html": [
                            "<div>\n",
                            "<style scoped>\n",
                            "    .dataframe tbody tr th:only-of-type {\n",
                            "        vertical-align: middle;\n",
                            "    }\n",
                            "\n",
                            "    .dataframe tbody tr th {\n",
                            "        vertical-align: top;\n",
                            "    }\n",
                            "\n",
                            "    .dataframe thead th {\n",
                            "        text-align: right;\n",
                            "    }\n",
                            "</style>\n",
                            "<table border=\"1\" class=\"dataframe\">\n",
                            "  <thead>\n",
                            "    <tr style=\"text-align: center;\">\n",
                            "      <th></th>\n",
                            "      <th>Job Description nltk_token_tags</th>\n",
                            "      <th>Job Description nltk_lemmas</th>\n",
                            "      <th>Job Description nltk_stems</th>\n",
                            "    </tr>\n",
                            "  </thead>\n",
                            "  <tbody>\n",
                            "    <tr>\n",
                            "      <th>0</th>\n",
                            "      <td>[(opportunity, NN), (impact, NN)]</td>\n",
                            "      <td>[opportunity, impact]</td>\n",
                            "      <td>[opportun, impact]</td>\n",
                            "    </tr>\n",
                            "    <tr>\n",
                            "      <th>1</th>\n",
                            "      <td>[(content, JJ), (strategist, NN), (copywriting...</td>\n",
                            "      <td>[content, strategist, copywriting, manager, re...</td>\n",
                            "      <td>[content, strategist, copywrit, manag, respons...</td>\n",
                            "    </tr>\n",
                            "    <tr>\n",
                            "      <th>2</th>\n",
                            "      <td>[(skilled, VBN), (experienced, JJ), (digital, ...</td>\n",
                            "      <td>[skilled, experienced, digital, environment, u...</td>\n",
                            "      <td>[skill, experienc, digit, environ, understand,...</td>\n",
                            "    </tr>\n",
                            "    <tr>\n",
                            "      <th>3</th>\n",
                            "      <td>[(team, NN), (copywriters, NNS), (currently, R...</td>\n",
                            "      <td>[team, copywriter, currently, 1, digital, cont...</td>\n",
                            "      <td>[team, copywrit, current, 1, digit, content, s...</td>\n",
                            "    </tr>\n",
                            "    <tr>\n",
                            "      <th>4</th>\n",
                            "      <td>[(role, NN), (create, NN), (campaigns, NNS), (...</td>\n",
                            "      <td>[role, create, campaign, content, deeply, conn...</td>\n",
                            "      <td>[role, creat, campaign, content, deepli, conne...</td>\n",
                            "    </tr>\n",
                            "  </tbody>\n",
                            "</table>\n",
                            "</div>"
                        ],
                        "text/plain": [
                            "           Job Description nltk_token_tags                      Job Description nltk_lemmas                         Job Description nltk_stems            \n",
                            "0                  [(opportunity, NN), (impact, NN)]                              [opportunity, impact]                                 [opportun, impact]\n",
                            "1  [(content, JJ), (strategist, NN), (copywriting...  [content, strategist, copywriting, manager, re...  [content, strategist, copywrit, manag, respons...\n",
                            "2  [(skilled, VBN), (experienced, JJ), (digital, ...  [skilled, experienced, digital, environment, u...  [skill, experienc, digit, environ, understand,...\n",
                            "3  [(team, NN), (copywriters, NNS), (currently, R...  [team, copywriter, currently, 1, digital, cont...  [team, copywrit, current, 1, digit, content, s...\n",
                            "4  [(role, NN), (create, NN), (campaigns, NNS), (...  [role, create, campaign, content, deeply, conn...  [role, creat, campaign, content, deepli, conne..."
                        ]
                    },
                    "execution_count": 273,
                    "metadata": {},
                    "output_type": "execute_result"
                }
            ],
            "source": [
                "df_manual[['Job Description nltk_token_tags', 'Job Description nltk_lemmas', 'Job Description nltk_stems']].head()\n"
            ]
        },
        {
            "cell_type": "code",
            "execution_count": 274,
            "id": "102509c1",
            "metadata": {},
            "outputs": [],
            "source": [
                "assert len(df_manual) > 0 and isinstance(df_manual, pd.DataFrame), f'ERORR: LENGTH OF DF = {len(df_manual)}'\n",
                "df_manual.to_pickle(f'{df_save_dir}df_manual_tags_lemmas_stems_spacy_nltk.pkl')\n",
                "df_manual.to_csv(f'{df_save_dir}df_manual_tags_lemmas_stems_spacy_nltk.csv', index=False)\n"
            ]
        },
        {
            "cell_type": "markdown",
            "id": "e5f98098",
            "metadata": {},
            "source": [
                "# Use BERT to create Parts-Of-Speech (POS) tags, lemmas, and stems\n"
            ]
        },
        {
            "cell_type": "markdown",
            "id": "03dd84df",
            "metadata": {},
            "source": [
                "### START HERE IF SOURCING FROM df_manual_TAGS_LEMMAS_STEMS_SPACY_NLTK\n",
                "### PLEASE SET CORRECT DIRECTORY PATHS BELOW\n"
            ]
        },
        {
            "cell_type": "code",
            "execution_count": 275,
            "id": "cfc8511b",
            "metadata": {},
            "outputs": [],
            "source": [
                "# import os # type:ignore # isort:skip # fmt:skip # noqa # nopep8\n",
                "# import sys # type:ignore # isort:skip # fmt:skip # noqa # nopep8\n",
                "# from pathlib import Path # type:ignore # isort:skip # fmt:skip # noqa # nopep8\n",
                "\n",
                "# mod = sys.modules[__name__]\n",
                "\n",
                "# code_dir = None\n",
                "# code_dir_name = 'Code'\n",
                "# unwanted_subdir_name = 'Analysis'\n",
                "\n",
                "# for _ in range(5):\n",
                "\n",
                "#     parent_path = str(Path.cwd().parents[_]).split('/')[-1]\n",
                "\n",
                "#     if (code_dir_name in parent_path) and (unwanted_subdir_name not in parent_path):\n",
                "\n",
                "#         code_dir = str(Path.cwd().parents[_])\n",
                "\n",
                "#         if code_dir is not None:\n",
                "#             break\n",
                "\n",
                "# sys.path.append(code_dir)\n",
                "# # %load_ext autoreload\n",
                "# # %autoreload 2\n"
            ]
        },
        {
            "cell_type": "code",
            "execution_count": 276,
            "id": "ec559046",
            "metadata": {},
            "outputs": [],
            "source": [
                "# from setup_module.imports import * # type:ignore # isort:skip # fmt:skip # noqa # nopep8\n"
            ]
        },
        {
            "cell_type": "code",
            "execution_count": 277,
            "id": "81972d25",
            "metadata": {},
            "outputs": [],
            "source": [
                "# df_manual = pd.read_pickle(f'{df_save_dir}df_manual_tags_lemmas_stems_spacy_nltk.pkl').reset_index(drop=True)\n"
            ]
        },
        {
            "cell_type": "code",
            "execution_count": 278,
            "id": "e0a48ebd",
            "metadata": {},
            "outputs": [],
            "source": [
                "# %%time\n",
                "# bert_pos_model_name = 'QCRI/bert-base-multilingual-cased-pos-english'\n",
                "# bert_pos_model = AutoModelForTokenClassification.from_pretrained(bert_pos_model_name).to(device)\n",
                "# bert_pos_tagger = TokenClassificationPipeline(model=bert_pos_model, tokenizer=bert_tokenizer).to(device)\n",
                "\n",
                "# df_manual['Job Description bert_token_tags_with_scores'] = df_manual['Job Description spacy_sentencized'].progress_apply(\n",
                "#     lambda sentence: [\n",
                "#         (bert_pos_tag['word'], bert_pos_tag['entity'], bert_pos_tag['score'])\n",
                "#         for i in range(len(sentence.split()))\n",
                "#         for bert_pos_tag in bert_pos_tagger(sentence)\n",
                "#     ]\n",
                "# )\n",
                "\n",
                "# df_manual['Job Description bert_token_tags'] = df_manual['Job Description bert_token_tags_with_scores'].progress_apply(\n",
                "#     lambda tag_list: [\n",
                "#         [(tag_list[i][0], tag_list[i][1])]\n",
                "#         for tag_tuple in tag_list\n",
                "#         for i in range(len(tag_list))\n",
                "#     ]\n",
                "# )\n",
                "\n",
                "\n",
                "# assert len(df_manual) > 0 and isinstance(df_manual, pd.DataFrame), f'ERORR: LENGTH OF DF = {len(df_manual)}'\n",
                "# df_manual.to_pickle(f'{df_save_dir}df_manual_tags_lemmas_stems_spacy_nltk_bert.pkl')\n",
                "# df_manual.to_csv(f'{df_save_dir}df_manual_tags_lemmas_stems_spacy_nltk_bert.csv', index=False)\n"
            ]
        },
        {
            "cell_type": "code",
            "execution_count": 279,
            "id": "f4e99e0d",
            "metadata": {},
            "outputs": [],
            "source": [
                "# df_manual['Job Description bert_token_tags'].head()"
            ]
        },
        {
            "cell_type": "code",
            "execution_count": 280,
            "id": "0f7e50a4",
            "metadata": {},
            "outputs": [],
            "source": [
                "# assert len(df_manual) > 0 and isinstance(df_manual, pd.DataFrame), f'ERORR: LENGTH OF DF = {len(df_manual)}'\n",
                "# df_manual.to_pickle(f'{df_save_dir}df_manual_tags_lemmas_stems_spacy_nltk_bert.pkl')\n",
                "# df_manual.to_csv(f'{df_save_dir}df_manual_tags_lemmas_stems_spacy_nltk_bert.csv', index=False)\n"
            ]
        },
        {
            "cell_type": "markdown",
            "id": "1122d883",
            "metadata": {},
            "source": [
                "# ATTN: This script should be run AFTER all POS tagging, lemmatization, and stemming (spacy and nltk) completed.\n",
                "# If BERT POS tagging was done, change pkl file loading\n"
            ]
        },
        {
            "cell_type": "markdown",
            "id": "206a80dd",
            "metadata": {},
            "source": [
                "### START HERE IF SOURCING FROM df_manual_TAGS_LEMMAS_STEMS_SPACY_NLTK\n",
                "### IF BERT POS TAGGING WAS DONE, SOURCING FROM df_manual_TAGS_LEMMAS_STEMS_SPACY_NLTK_BERT\n",
                "### PLEASE SET CORRECT DIRECTORY PATHS BELOW\n"
            ]
        },
        {
            "cell_type": "markdown",
            "id": "e54cb736",
            "metadata": {},
            "source": [
                "# Use spacy to create bi and trigrams\n"
            ]
        },
        {
            "cell_type": "code",
            "execution_count": 281,
            "id": "980b3608",
            "metadata": {},
            "outputs": [],
            "source": [
                "import os\n",
                "import sys\n",
                "import importlib\n",
                "from pathlib import Path\n",
                "import numpy as np\n",
                "\n",
                "mod = sys.modules[__name__]\n",
                "\n",
                "code_dir = None\n",
                "code_dir_name = 'Code'\n",
                "unwanted_subdir_name = 'Analysis'\n",
                "\n",
                "for _ in range(5):\n",
                "\n",
                "    parent_path = str(Path.cwd().parents[_]).split('/')[-1]\n",
                "\n",
                "    if (code_dir_name in parent_path) and (unwanted_subdir_name not in parent_path):\n",
                "\n",
                "        code_dir = str(Path.cwd().parents[_])\n",
                "\n",
                "        if code_dir is not None:\n",
                "            break\n",
                "\n",
                "sys.path.append(code_dir)\n",
                "# %load_ext autoreload\n",
                "# %autoreload 2\n"
            ]
        },
        {
            "cell_type": "code",
            "execution_count": 282,
            "id": "520614c1",
            "metadata": {},
            "outputs": [],
            "source": [
                "from setup_module.imports import * # type:ignore # isort:skip # fmt:skip # noqa # nopep8\n"
            ]
        },
        {
            "cell_type": "code",
            "execution_count": 283,
            "id": "405cfdc3",
            "metadata": {},
            "outputs": [],
            "source": [
                "def spacy_make_ngrams(sentence, matcher, gram_type):\n",
                "\n",
                "    doc = nlp(sentence)\n",
                "    matches = matcher(doc)\n",
                "    matches_list = []\n",
                "\n",
                "    for idx in range(len(matches)):\n",
                "        for match_id, start, end in matches:\n",
                "            if nlp.vocab.strings[match_id].split('_')[0] == gram_type:\n",
                "                match = doc[matches[idx][1]: matches[idx][2]].text\n",
                "                matches_list.append(match.lower())\n",
                "    \n",
                "    return list(set(matches_list))\n"
            ]
        },
        {
            "cell_type": "code",
            "execution_count": 284,
            "id": "b6d7a1b4",
            "metadata": {},
            "outputs": [],
            "source": [
                "df_manual = pd.read_pickle(f'{df_save_dir}df_manual_tags_lemmas_stems_spacy_nltk.pkl').reset_index(drop=True)\n"
            ]
        },
        {
            "cell_type": "code",
            "execution_count": 285,
            "id": "ae54c422",
            "metadata": {},
            "outputs": [
                {
                    "data": {
                        "application/vnd.jupyter.widget-view+json": {
                            "model_id": "7003ccc1aedf408385a54f3c9a3327f9",
                            "version_major": 2,
                            "version_minor": 0
                        },
                        "text/plain": [
                            "progress-bar:   0%|          | 0/5298 [00:00<?, ?it/s]"
                        ]
                    },
                    "metadata": {},
                    "output_type": "display_data"
                },
                {
                    "name": "stdout",
                    "output_type": "stream",
                    "text": [
                        "CPU times: user 16.2 ms, sys: 2.45 ms, total: 18.6 ms\n",
                        "Wall time: 18.5 ms\n"
                    ]
                }
            ],
            "source": [
                "%%time\n",
                "df_manual['Job Description spacy_1grams_original_list'] = df_manual['Job Description spacy_tokenized']\n",
                "df_manual['Job Description spacy_1grams'] = df_manual['Job Description spacy_tokenized'].progress_apply(\n",
                "    lambda tokens: [\n",
                "        tuple(token.split())\n",
                "        for token in tokens\n",
                "    ]\n",
                ")\n"
            ]
        },
        {
            "cell_type": "code",
            "execution_count": 286,
            "id": "1a0c8ffe",
            "metadata": {},
            "outputs": [
                {
                    "data": {
                        "application/vnd.jupyter.widget-view+json": {
                            "model_id": "6865da3da6d949c79cab2b81e03b98d6",
                            "version_major": 2,
                            "version_minor": 0
                        },
                        "text/plain": [
                            "progress-bar:   0%|          | 0/5298 [00:00<?, ?it/s]"
                        ]
                    },
                    "metadata": {},
                    "output_type": "display_data"
                },
                {
                    "data": {
                        "application/vnd.jupyter.widget-view+json": {
                            "model_id": "db4cc2670d17434aaad1ff4ebdd7800f",
                            "version_major": 2,
                            "version_minor": 0
                        },
                        "text/plain": [
                            "progress-bar:   0%|          | 0/5298 [00:00<?, ?it/s]"
                        ]
                    },
                    "metadata": {},
                    "output_type": "display_data"
                }
            ],
            "source": [
                "%%time\n",
                "# Spacy bi and trigrams\n",
                "matcher = Matcher(nlp.vocab)\n",
                "\n",
                "bigram_rules = [\n",
                "    ['NOUN', 'VERB'],\n",
                "    ['VERB', 'NOUN'],\n",
                "    ['ADJ', 'NOUN'],\n",
                "    ['ADJ', 'PROPN'],\n",
                "    # more rules here...\n",
                "]\n",
                "\n",
                "trigram_rules = [\n",
                "    ['VERB', 'ADJ', 'NOUN'],\n",
                "    ['NOUN', 'VERB', 'ADV'],\n",
                "    ['NOUN', 'ADP', 'NOUN'],\n",
                "    # more rules here...\n",
                "]\n",
                "\n",
                "patters_dict = {\n",
                "    'bigram_patterns': [[{'POS': i} for i in j] for j in bigram_rules],\n",
                "    'trigram_patterns': [[{'POS': i} for i in j] for j in trigram_rules],\n",
                "}\n",
                "\n",
                "ngram_dict = {\n",
                "    'bigram': 2,\n",
                "    'trigram': 3,\n",
                "}\n",
                "\n",
                "for ngram_name, ngram_num in ngram_dict.items():\n",
                "\n",
                "    matcher.add(f'{ngram_name}_patterns', patters_dict[f'{ngram_name}_patterns'])\n",
                "\n",
                "    df_manual[f'Job Description spacy_{str(ngram_num)}grams_original_list'] = df_manual['Job Description spacy_sentencized'].progress_apply(\n",
                "        lambda sentence: \n",
                "            [\n",
                "                '_'.join(ngram_.split())\n",
                "                for ngram_ in spacy_make_ngrams(sentence, matcher, ngram_name)\n",
                "            ]\n",
                "    )\n",
                "\n",
                "    df_manual[f'Job Description spacy_{str(ngram_num)}grams'] = df_manual['Job Description spacy_sentencized'].progress_apply(\n",
                "        lambda sentence: \n",
                "            [\n",
                "                tuple(ngram_.split())\n",
                "                for ngram_ in spacy_make_ngrams(sentence, matcher, ngram_name)\n",
                "            ]\n",
                "    )\n",
                "\n",
                "    df_manual[f'Job Description spacy_{str(ngram_num)}grams_in_sent'] = df_manual['Job Description spacy_sentencized'].str.lower().replace(\n",
                "        regex = {\n",
                "            re.escape(' '.join(ngram_.split('_'))): re.escape(ngram_)\n",
                "            for ngrams_list in df_manual[f'Job Description spacy_{str(ngram_num)}grams_original_list']\n",
                "            for ngram_ in ngrams_list\n",
                "            if '_' in ngram_\n",
                "        }\n",
                "    )\n",
                "\n",
                "    if f'{ngram_name}_patterns' in matcher:\n",
                "        matcher.remove(f'{ngram_name}_patterns')\n",
                "    assert f'{ngram_name}_patterns' not in matcher\n"
            ]
        },
        {
            "cell_type": "code",
            "execution_count": null,
            "id": "9fc3ad40",
            "metadata": {},
            "outputs": [],
            "source": [
                "%%time\n",
                "# Spacy Allgrams\n",
                "df_manual['Job Description spacy_123grams_original_list'] = df_manual['Job Description spacy_tokenized'] + df_manual['Job Description spacy_2grams_original_list'] + df_manual['Job Description spacy_3grams_original_list']\n",
                "df_manual['Job Description spacy_123grams'] = df_manual['Job Description spacy_1grams'] + df_manual['Job Description spacy_2grams'] + df_manual['Job Description spacy_3grams']\n",
                "df_manual['Job Description spacy_123grams_in_sent'] = (\n",
                "    df_manual['Job Description spacy_sentencized']\n",
                "    .str.lower()\n",
                "    .replace(\n",
                "        regex={\n",
                "            re.escape(' '.join(ngram_.split('_'))): re.escape(ngram_)\n",
                "            for ngrams_list in df_manual[\n",
                "                'Job Description spacy_123grams_original_list'\n",
                "            ]\n",
                "            for ngram_ in ngrams_list\n",
                "            if '_' in ngram_\n",
                "        }\n",
                "    )\n",
                ")\n"
            ]
        },
        {
            "cell_type": "code",
            "execution_count": null,
            "id": "d68848b6",
            "metadata": {},
            "outputs": [],
            "source": [
                "assert len(df_manual) > 0 and isinstance(df_manual, pd.DataFrame), f'ERORR: LENGTH OF DF = {len(df_manual)}'\n",
                "df_manual.to_pickle(f'{df_save_dir}df_manual_ngrams_spacy.pkl')\n",
                "df_manual.to_csv(f'{df_save_dir}df_manual_ngrams_spacy.csv', index=False)\n"
            ]
        },
        {
            "cell_type": "markdown",
            "id": "d258e491",
            "metadata": {},
            "source": [
                "# Use NLTK to create bi and trigrams\n"
            ]
        },
        {
            "cell_type": "markdown",
            "id": "0e767712",
            "metadata": {},
            "source": [
                "### START HERE IF SOURCING FROM df_manual_NGRAMS_SPACY\n",
                "### PLEASE SET CORRECT DIRECTORY PATHS BELOW\n"
            ]
        },
        {
            "cell_type": "code",
            "execution_count": null,
            "id": "45f3b2f6",
            "metadata": {},
            "outputs": [],
            "source": [
                "import os # type:ignore # isort:skip # fmt:skip # noqa # nopep8\n",
                "import sys # type:ignore # isort:skip # fmt:skip # noqa # nopep8\n",
                "from pathlib import Path # type:ignore # isort:skip # fmt:skip # noqa # nopep8\n",
                "\n",
                "mod = sys.modules[__name__]\n",
                "\n",
                "code_dir = None\n",
                "code_dir_name = 'Code'\n",
                "unwanted_subdir_name = 'Analysis'\n",
                "\n",
                "for _ in range(5):\n",
                "\n",
                "    parent_path = str(Path.cwd().parents[_]).split('/')[-1]\n",
                "\n",
                "    if (code_dir_name in parent_path) and (unwanted_subdir_name not in parent_path):\n",
                "\n",
                "        code_dir = str(Path.cwd().parents[_])\n",
                "\n",
                "        if code_dir is not None:\n",
                "            break\n",
                "\n",
                "sys.path.append(code_dir)\n",
                "# %load_ext autoreload\n",
                "# %autoreload 2\n"
            ]
        },
        {
            "cell_type": "code",
            "execution_count": null,
            "id": "10cde291",
            "metadata": {},
            "outputs": [],
            "source": [
                "from setup_module.imports import * # type:ignore # isort:skip # fmt:skip # noqa # nopep8\n"
            ]
        },
        {
            "cell_type": "code",
            "execution_count": null,
            "id": "a61db031",
            "metadata": {},
            "outputs": [],
            "source": [
                "df_manual = pd.read_pickle(f'{df_save_dir}df_manual_ngrams_spacy.pkl').reset_index(drop=True)\n"
            ]
        },
        {
            "cell_type": "code",
            "execution_count": null,
            "id": "2afc29c7",
            "metadata": {},
            "outputs": [],
            "source": [
                "%%time\n",
                "df_manual['Job Description nltk_1grams_original_list'] = df_manual['Job Description nltk_tokenized']\n",
                "df_manual['Job Description nltk_1grams'] = df_manual['Job Description nltk_tokenized'].progress_apply(\n",
                "    lambda tokens: [\n",
                "        tuple(token.split())\n",
                "        for token in tokens\n",
                "    ]\n",
                ")\n"
            ]
        },
        {
            "cell_type": "code",
            "execution_count": null,
            "id": "6c5e1032",
            "metadata": {},
            "outputs": [
                {
                    "data": {
                        "text/html": [
                            "<pre style=\"white-space:pre;overflow-x:auto;line-height:normal;font-family:Menlo,'DejaVu Sans Mono',consolas,'Courier New',monospace\"><span style=\"color: #800000; text-decoration-color: #800000\">╭─────────────────────────────── </span><span style=\"color: #800000; text-decoration-color: #800000; font-weight: bold\">Traceback </span><span style=\"color: #bf7f7f; text-decoration-color: #bf7f7f; font-weight: bold\">(most recent call last)</span><span style=\"color: #800000; text-decoration-color: #800000\"> ────────────────────────────────╮</span>\n",
                            "<span style=\"color: #800000; text-decoration-color: #800000\">│</span> <span style=\"color: #bfbf7f; text-decoration-color: #bfbf7f\">/opt/homebrew/Caskroom/mambaforge/base/envs/study1_3.10/lib/python3.10/site-packages/IPython/cor</span> <span style=\"color: #800000; text-decoration-color: #800000\">│</span>\n",
                            "<span style=\"color: #800000; text-decoration-color: #800000\">│</span> <span style=\"color: #bfbf7f; text-decoration-color: #bfbf7f\">e/magics/</span><span style=\"color: #808000; text-decoration-color: #808000; font-weight: bold\">execution.py</span>:<span style=\"color: #0000ff; text-decoration-color: #0000ff\">1325</span> in <span style=\"color: #00ff00; text-decoration-color: #00ff00\">time</span>                                                               <span style=\"color: #800000; text-decoration-color: #800000\">│</span>\n",
                            "<span style=\"color: #800000; text-decoration-color: #800000\">│</span>                                                                                                  <span style=\"color: #800000; text-decoration-color: #800000\">│</span>\n",
                            "<span style=\"color: #800000; text-decoration-color: #800000\">│</span>   <span style=\"color: #7f7f7f; text-decoration-color: #7f7f7f\">1322 │   │   </span><span style=\"color: #0000ff; text-decoration-color: #0000ff\">else</span>:                                                                             <span style=\"color: #800000; text-decoration-color: #800000\">│</span>\n",
                            "<span style=\"color: #800000; text-decoration-color: #800000\">│</span>   <span style=\"color: #7f7f7f; text-decoration-color: #7f7f7f\">1323 │   │   │   </span>st = clock2()                                                                 <span style=\"color: #800000; text-decoration-color: #800000\">│</span>\n",
                            "<span style=\"color: #800000; text-decoration-color: #800000\">│</span>   <span style=\"color: #7f7f7f; text-decoration-color: #7f7f7f\">1324 │   │   │   </span><span style=\"color: #0000ff; text-decoration-color: #0000ff\">try</span>:                                                                          <span style=\"color: #800000; text-decoration-color: #800000\">│</span>\n",
                            "<span style=\"color: #800000; text-decoration-color: #800000\">│</span> <span style=\"color: #800000; text-decoration-color: #800000\">❱ </span>1325 <span style=\"color: #7f7f7f; text-decoration-color: #7f7f7f\">│   │   │   │   </span>exec(code, glob, local_ns)                                                <span style=\"color: #800000; text-decoration-color: #800000\">│</span>\n",
                            "<span style=\"color: #800000; text-decoration-color: #800000\">│</span>   <span style=\"color: #7f7f7f; text-decoration-color: #7f7f7f\">1326 │   │   │   │   </span>out=<span style=\"color: #0000ff; text-decoration-color: #0000ff\">None</span>                                                                  <span style=\"color: #800000; text-decoration-color: #800000\">│</span>\n",
                            "<span style=\"color: #800000; text-decoration-color: #800000\">│</span>   <span style=\"color: #7f7f7f; text-decoration-color: #7f7f7f\">1327 │   │   │   │   # multi-line %%time case</span>                                                  <span style=\"color: #800000; text-decoration-color: #800000\">│</span>\n",
                            "<span style=\"color: #800000; text-decoration-color: #800000\">│</span>   <span style=\"color: #7f7f7f; text-decoration-color: #7f7f7f\">1328 │   │   │   │   </span><span style=\"color: #0000ff; text-decoration-color: #0000ff\">if</span> expr_val <span style=\"color: #ff00ff; text-decoration-color: #ff00ff\">is</span> <span style=\"color: #ff00ff; text-decoration-color: #ff00ff\">not</span> <span style=\"color: #0000ff; text-decoration-color: #0000ff\">None</span>:                                                  <span style=\"color: #800000; text-decoration-color: #800000\">│</span>\n",
                            "<span style=\"color: #800000; text-decoration-color: #800000\">│</span> <span style=\"color: #808000; text-decoration-color: #808000\">&lt;timed exec&gt;</span>:<span style=\"color: #0000ff; text-decoration-color: #0000ff\">21</span> in <span style=\"color: #00ff00; text-decoration-color: #00ff00\">&lt;module&gt;</span>                                                                      <span style=\"color: #800000; text-decoration-color: #800000\">│</span>\n",
                            "<span style=\"color: #800000; text-decoration-color: #800000\">│</span>                                                                                                  <span style=\"color: #800000; text-decoration-color: #800000\">│</span>\n",
                            "<span style=\"color: #800000; text-decoration-color: #800000\">│</span> <span style=\"color: #bfbf7f; text-decoration-color: #bfbf7f\">/opt/homebrew/Caskroom/mambaforge/base/envs/study1_3.10/lib/python3.10/site-packages/pandas/util</span> <span style=\"color: #800000; text-decoration-color: #800000\">│</span>\n",
                            "<span style=\"color: #800000; text-decoration-color: #800000\">│</span> <span style=\"color: #bfbf7f; text-decoration-color: #bfbf7f\">/</span><span style=\"color: #808000; text-decoration-color: #808000; font-weight: bold\">_decorators.py</span>:<span style=\"color: #0000ff; text-decoration-color: #0000ff\">331</span> in <span style=\"color: #00ff00; text-decoration-color: #00ff00\">wrapper</span>                                                                   <span style=\"color: #800000; text-decoration-color: #800000\">│</span>\n",
                            "<span style=\"color: #800000; text-decoration-color: #800000\">│</span>                                                                                                  <span style=\"color: #800000; text-decoration-color: #800000\">│</span>\n",
                            "<span style=\"color: #800000; text-decoration-color: #800000\">│</span>   <span style=\"color: #7f7f7f; text-decoration-color: #7f7f7f\">328 │   │   │   │   │   </span><span style=\"color: #00ffff; text-decoration-color: #00ffff\">FutureWarning</span>,                                                         <span style=\"color: #800000; text-decoration-color: #800000\">│</span>\n",
                            "<span style=\"color: #800000; text-decoration-color: #800000\">│</span>   <span style=\"color: #7f7f7f; text-decoration-color: #7f7f7f\">329 │   │   │   │   │   </span>stacklevel=find_stack_level(),                                         <span style=\"color: #800000; text-decoration-color: #800000\">│</span>\n",
                            "<span style=\"color: #800000; text-decoration-color: #800000\">│</span>   <span style=\"color: #7f7f7f; text-decoration-color: #7f7f7f\">330 │   │   │   │   </span>)                                                                          <span style=\"color: #800000; text-decoration-color: #800000\">│</span>\n",
                            "<span style=\"color: #800000; text-decoration-color: #800000\">│</span> <span style=\"color: #800000; text-decoration-color: #800000\">❱ </span>331 <span style=\"color: #7f7f7f; text-decoration-color: #7f7f7f\">│   │   │   </span><span style=\"color: #0000ff; text-decoration-color: #0000ff\">return</span> func(*args, **kwargs)                                                   <span style=\"color: #800000; text-decoration-color: #800000\">│</span>\n",
                            "<span style=\"color: #800000; text-decoration-color: #800000\">│</span>   <span style=\"color: #7f7f7f; text-decoration-color: #7f7f7f\">332 │   │   </span>                                                                                   <span style=\"color: #800000; text-decoration-color: #800000\">│</span>\n",
                            "<span style=\"color: #800000; text-decoration-color: #800000\">│</span>   <span style=\"color: #7f7f7f; text-decoration-color: #7f7f7f\">333 │   │   # error: \"Callable[[VarArg(Any), KwArg(Any)], Any]\" has no</span>                         <span style=\"color: #800000; text-decoration-color: #800000\">│</span>\n",
                            "<span style=\"color: #800000; text-decoration-color: #800000\">│</span>   <span style=\"color: #7f7f7f; text-decoration-color: #7f7f7f\">334 │   │   # attribute \"__signature__\"</span>                                                        <span style=\"color: #800000; text-decoration-color: #800000\">│</span>\n",
                            "<span style=\"color: #800000; text-decoration-color: #800000\">│</span>                                                                                                  <span style=\"color: #800000; text-decoration-color: #800000\">│</span>\n",
                            "<span style=\"color: #800000; text-decoration-color: #800000\">│</span> <span style=\"color: #bfbf7f; text-decoration-color: #bfbf7f\">/opt/homebrew/Caskroom/mambaforge/base/envs/study1_3.10/lib/python3.10/site-packages/pandas/core</span> <span style=\"color: #800000; text-decoration-color: #800000\">│</span>\n",
                            "<span style=\"color: #800000; text-decoration-color: #800000\">│</span> <span style=\"color: #bfbf7f; text-decoration-color: #bfbf7f\">/</span><span style=\"color: #808000; text-decoration-color: #808000; font-weight: bold\">series.py</span>:<span style=\"color: #0000ff; text-decoration-color: #0000ff\">5380</span> in <span style=\"color: #00ff00; text-decoration-color: #00ff00\">replace</span>                                                                       <span style=\"color: #800000; text-decoration-color: #800000\">│</span>\n",
                            "<span style=\"color: #800000; text-decoration-color: #800000\">│</span>                                                                                                  <span style=\"color: #800000; text-decoration-color: #800000\">│</span>\n",
                            "<span style=\"color: #800000; text-decoration-color: #800000\">│</span>   <span style=\"color: #7f7f7f; text-decoration-color: #7f7f7f\">5377 │   │   </span>regex: <span style=\"color: #00ffff; text-decoration-color: #00ffff\">bool</span> = <span style=\"color: #0000ff; text-decoration-color: #0000ff\">False</span>,                                                              <span style=\"color: #800000; text-decoration-color: #800000\">│</span>\n",
                            "<span style=\"color: #800000; text-decoration-color: #800000\">│</span>   <span style=\"color: #7f7f7f; text-decoration-color: #7f7f7f\">5378 │   │   </span>method: Literal[<span style=\"color: #808000; text-decoration-color: #808000\">\"pad\"</span>, <span style=\"color: #808000; text-decoration-color: #808000\">\"ffill\"</span>, <span style=\"color: #808000; text-decoration-color: #808000\">\"bfill\"</span>] | lib.NoDefault = lib.no_default,        <span style=\"color: #800000; text-decoration-color: #800000\">│</span>\n",
                            "<span style=\"color: #800000; text-decoration-color: #800000\">│</span>   <span style=\"color: #7f7f7f; text-decoration-color: #7f7f7f\">5379 │   </span>) -&gt; Series | <span style=\"color: #0000ff; text-decoration-color: #0000ff\">None</span>:                                                                   <span style=\"color: #800000; text-decoration-color: #800000\">│</span>\n",
                            "<span style=\"color: #800000; text-decoration-color: #800000\">│</span> <span style=\"color: #800000; text-decoration-color: #800000\">❱ </span>5380 <span style=\"color: #7f7f7f; text-decoration-color: #7f7f7f\">│   │   </span><span style=\"color: #0000ff; text-decoration-color: #0000ff\">return</span> <span style=\"color: #00ffff; text-decoration-color: #00ffff\">super</span>().replace(                                                           <span style=\"color: #800000; text-decoration-color: #800000\">│</span>\n",
                            "<span style=\"color: #800000; text-decoration-color: #800000\">│</span>   <span style=\"color: #7f7f7f; text-decoration-color: #7f7f7f\">5381 │   │   │   </span>to_replace=to_replace,                                                        <span style=\"color: #800000; text-decoration-color: #800000\">│</span>\n",
                            "<span style=\"color: #800000; text-decoration-color: #800000\">│</span>   <span style=\"color: #7f7f7f; text-decoration-color: #7f7f7f\">5382 │   │   │   </span>value=value,                                                                  <span style=\"color: #800000; text-decoration-color: #800000\">│</span>\n",
                            "<span style=\"color: #800000; text-decoration-color: #800000\">│</span>   <span style=\"color: #7f7f7f; text-decoration-color: #7f7f7f\">5383 │   │   │   </span>inplace=inplace,                                                              <span style=\"color: #800000; text-decoration-color: #800000\">│</span>\n",
                            "<span style=\"color: #800000; text-decoration-color: #800000\">│</span>                                                                                                  <span style=\"color: #800000; text-decoration-color: #800000\">│</span>\n",
                            "<span style=\"color: #800000; text-decoration-color: #800000\">│</span> <span style=\"color: #bfbf7f; text-decoration-color: #bfbf7f\">/opt/homebrew/Caskroom/mambaforge/base/envs/study1_3.10/lib/python3.10/site-packages/pandas/util</span> <span style=\"color: #800000; text-decoration-color: #800000\">│</span>\n",
                            "<span style=\"color: #800000; text-decoration-color: #800000\">│</span> <span style=\"color: #bfbf7f; text-decoration-color: #bfbf7f\">/</span><span style=\"color: #808000; text-decoration-color: #808000; font-weight: bold\">_decorators.py</span>:<span style=\"color: #0000ff; text-decoration-color: #0000ff\">331</span> in <span style=\"color: #00ff00; text-decoration-color: #00ff00\">wrapper</span>                                                                   <span style=\"color: #800000; text-decoration-color: #800000\">│</span>\n",
                            "<span style=\"color: #800000; text-decoration-color: #800000\">│</span>                                                                                                  <span style=\"color: #800000; text-decoration-color: #800000\">│</span>\n",
                            "<span style=\"color: #800000; text-decoration-color: #800000\">│</span>   <span style=\"color: #7f7f7f; text-decoration-color: #7f7f7f\">328 │   │   │   │   │   </span><span style=\"color: #00ffff; text-decoration-color: #00ffff\">FutureWarning</span>,                                                         <span style=\"color: #800000; text-decoration-color: #800000\">│</span>\n",
                            "<span style=\"color: #800000; text-decoration-color: #800000\">│</span>   <span style=\"color: #7f7f7f; text-decoration-color: #7f7f7f\">329 │   │   │   │   │   </span>stacklevel=find_stack_level(),                                         <span style=\"color: #800000; text-decoration-color: #800000\">│</span>\n",
                            "<span style=\"color: #800000; text-decoration-color: #800000\">│</span>   <span style=\"color: #7f7f7f; text-decoration-color: #7f7f7f\">330 │   │   │   │   </span>)                                                                          <span style=\"color: #800000; text-decoration-color: #800000\">│</span>\n",
                            "<span style=\"color: #800000; text-decoration-color: #800000\">│</span> <span style=\"color: #800000; text-decoration-color: #800000\">❱ </span>331 <span style=\"color: #7f7f7f; text-decoration-color: #7f7f7f\">│   │   │   </span><span style=\"color: #0000ff; text-decoration-color: #0000ff\">return</span> func(*args, **kwargs)                                                   <span style=\"color: #800000; text-decoration-color: #800000\">│</span>\n",
                            "<span style=\"color: #800000; text-decoration-color: #800000\">│</span>   <span style=\"color: #7f7f7f; text-decoration-color: #7f7f7f\">332 │   │   </span>                                                                                   <span style=\"color: #800000; text-decoration-color: #800000\">│</span>\n",
                            "<span style=\"color: #800000; text-decoration-color: #800000\">│</span>   <span style=\"color: #7f7f7f; text-decoration-color: #7f7f7f\">333 │   │   # error: \"Callable[[VarArg(Any), KwArg(Any)], Any]\" has no</span>                         <span style=\"color: #800000; text-decoration-color: #800000\">│</span>\n",
                            "<span style=\"color: #800000; text-decoration-color: #800000\">│</span>   <span style=\"color: #7f7f7f; text-decoration-color: #7f7f7f\">334 │   │   # attribute \"__signature__\"</span>                                                        <span style=\"color: #800000; text-decoration-color: #800000\">│</span>\n",
                            "<span style=\"color: #800000; text-decoration-color: #800000\">│</span>                                                                                                  <span style=\"color: #800000; text-decoration-color: #800000\">│</span>\n",
                            "<span style=\"color: #800000; text-decoration-color: #800000\">│</span> <span style=\"color: #bfbf7f; text-decoration-color: #bfbf7f\">/opt/homebrew/Caskroom/mambaforge/base/envs/study1_3.10/lib/python3.10/site-packages/pandas/core</span> <span style=\"color: #800000; text-decoration-color: #800000\">│</span>\n",
                            "<span style=\"color: #800000; text-decoration-color: #800000\">│</span> <span style=\"color: #bfbf7f; text-decoration-color: #bfbf7f\">/</span><span style=\"color: #808000; text-decoration-color: #808000; font-weight: bold\">generic.py</span>:<span style=\"color: #0000ff; text-decoration-color: #0000ff\">7188</span> in <span style=\"color: #00ff00; text-decoration-color: #00ff00\">replace</span>                                                                      <span style=\"color: #800000; text-decoration-color: #800000\">│</span>\n",
                            "<span style=\"color: #800000; text-decoration-color: #800000\">│</span>                                                                                                  <span style=\"color: #800000; text-decoration-color: #800000\">│</span>\n",
                            "<span style=\"color: #800000; text-decoration-color: #800000\">│</span>   <span style=\"color: #7f7f7f; text-decoration-color: #7f7f7f\"> 7185 │   │   │   </span><span style=\"color: #0000ff; text-decoration-color: #0000ff\">else</span>:                                                                        <span style=\"color: #800000; text-decoration-color: #800000\">│</span>\n",
                            "<span style=\"color: #800000; text-decoration-color: #800000\">│</span>   <span style=\"color: #7f7f7f; text-decoration-color: #7f7f7f\"> 7186 │   │   │   │   </span>to_replace, value = keys, values                                         <span style=\"color: #800000; text-decoration-color: #800000\">│</span>\n",
                            "<span style=\"color: #800000; text-decoration-color: #800000\">│</span>   <span style=\"color: #7f7f7f; text-decoration-color: #7f7f7f\"> 7187 │   │   │   </span>                                                                             <span style=\"color: #800000; text-decoration-color: #800000\">│</span>\n",
                            "<span style=\"color: #800000; text-decoration-color: #800000\">│</span> <span style=\"color: #800000; text-decoration-color: #800000\">❱ </span> 7188 <span style=\"color: #7f7f7f; text-decoration-color: #7f7f7f\">│   │   │   </span><span style=\"color: #0000ff; text-decoration-color: #0000ff\">return</span> <span style=\"color: #00ffff; text-decoration-color: #00ffff\">self</span>.replace(                                                         <span style=\"color: #800000; text-decoration-color: #800000\">│</span>\n",
                            "<span style=\"color: #800000; text-decoration-color: #800000\">│</span>   <span style=\"color: #7f7f7f; text-decoration-color: #7f7f7f\"> 7189 │   │   │   │   </span>to_replace, value, inplace=inplace, limit=limit, regex=regex             <span style=\"color: #800000; text-decoration-color: #800000\">│</span>\n",
                            "<span style=\"color: #800000; text-decoration-color: #800000\">│</span>   <span style=\"color: #7f7f7f; text-decoration-color: #7f7f7f\"> 7190 │   │   │   </span>)                                                                            <span style=\"color: #800000; text-decoration-color: #800000\">│</span>\n",
                            "<span style=\"color: #800000; text-decoration-color: #800000\">│</span>   <span style=\"color: #7f7f7f; text-decoration-color: #7f7f7f\"> 7191 │   │   </span><span style=\"color: #0000ff; text-decoration-color: #0000ff\">else</span>:                                                                            <span style=\"color: #800000; text-decoration-color: #800000\">│</span>\n",
                            "<span style=\"color: #800000; text-decoration-color: #800000\">│</span>                                                                                                  <span style=\"color: #800000; text-decoration-color: #800000\">│</span>\n",
                            "<span style=\"color: #800000; text-decoration-color: #800000\">│</span> <span style=\"color: #bfbf7f; text-decoration-color: #bfbf7f\">/opt/homebrew/Caskroom/mambaforge/base/envs/study1_3.10/lib/python3.10/site-packages/pandas/util</span> <span style=\"color: #800000; text-decoration-color: #800000\">│</span>\n",
                            "<span style=\"color: #800000; text-decoration-color: #800000\">│</span> <span style=\"color: #bfbf7f; text-decoration-color: #bfbf7f\">/</span><span style=\"color: #808000; text-decoration-color: #808000; font-weight: bold\">_decorators.py</span>:<span style=\"color: #0000ff; text-decoration-color: #0000ff\">331</span> in <span style=\"color: #00ff00; text-decoration-color: #00ff00\">wrapper</span>                                                                   <span style=\"color: #800000; text-decoration-color: #800000\">│</span>\n",
                            "<span style=\"color: #800000; text-decoration-color: #800000\">│</span>                                                                                                  <span style=\"color: #800000; text-decoration-color: #800000\">│</span>\n",
                            "<span style=\"color: #800000; text-decoration-color: #800000\">│</span>   <span style=\"color: #7f7f7f; text-decoration-color: #7f7f7f\">328 │   │   │   │   │   </span><span style=\"color: #00ffff; text-decoration-color: #00ffff\">FutureWarning</span>,                                                         <span style=\"color: #800000; text-decoration-color: #800000\">│</span>\n",
                            "<span style=\"color: #800000; text-decoration-color: #800000\">│</span>   <span style=\"color: #7f7f7f; text-decoration-color: #7f7f7f\">329 │   │   │   │   │   </span>stacklevel=find_stack_level(),                                         <span style=\"color: #800000; text-decoration-color: #800000\">│</span>\n",
                            "<span style=\"color: #800000; text-decoration-color: #800000\">│</span>   <span style=\"color: #7f7f7f; text-decoration-color: #7f7f7f\">330 │   │   │   │   </span>)                                                                          <span style=\"color: #800000; text-decoration-color: #800000\">│</span>\n",
                            "<span style=\"color: #800000; text-decoration-color: #800000\">│</span> <span style=\"color: #800000; text-decoration-color: #800000\">❱ </span>331 <span style=\"color: #7f7f7f; text-decoration-color: #7f7f7f\">│   │   │   </span><span style=\"color: #0000ff; text-decoration-color: #0000ff\">return</span> func(*args, **kwargs)                                                   <span style=\"color: #800000; text-decoration-color: #800000\">│</span>\n",
                            "<span style=\"color: #800000; text-decoration-color: #800000\">│</span>   <span style=\"color: #7f7f7f; text-decoration-color: #7f7f7f\">332 │   │   </span>                                                                                   <span style=\"color: #800000; text-decoration-color: #800000\">│</span>\n",
                            "<span style=\"color: #800000; text-decoration-color: #800000\">│</span>   <span style=\"color: #7f7f7f; text-decoration-color: #7f7f7f\">333 │   │   # error: \"Callable[[VarArg(Any), KwArg(Any)], Any]\" has no</span>                         <span style=\"color: #800000; text-decoration-color: #800000\">│</span>\n",
                            "<span style=\"color: #800000; text-decoration-color: #800000\">│</span>   <span style=\"color: #7f7f7f; text-decoration-color: #7f7f7f\">334 │   │   # attribute \"__signature__\"</span>                                                        <span style=\"color: #800000; text-decoration-color: #800000\">│</span>\n",
                            "<span style=\"color: #800000; text-decoration-color: #800000\">│</span>                                                                                                  <span style=\"color: #800000; text-decoration-color: #800000\">│</span>\n",
                            "<span style=\"color: #800000; text-decoration-color: #800000\">│</span> <span style=\"color: #bfbf7f; text-decoration-color: #bfbf7f\">/opt/homebrew/Caskroom/mambaforge/base/envs/study1_3.10/lib/python3.10/site-packages/pandas/core</span> <span style=\"color: #800000; text-decoration-color: #800000\">│</span>\n",
                            "<span style=\"color: #800000; text-decoration-color: #800000\">│</span> <span style=\"color: #bfbf7f; text-decoration-color: #bfbf7f\">/</span><span style=\"color: #808000; text-decoration-color: #808000; font-weight: bold\">series.py</span>:<span style=\"color: #0000ff; text-decoration-color: #0000ff\">5380</span> in <span style=\"color: #00ff00; text-decoration-color: #00ff00\">replace</span>                                                                       <span style=\"color: #800000; text-decoration-color: #800000\">│</span>\n",
                            "<span style=\"color: #800000; text-decoration-color: #800000\">│</span>                                                                                                  <span style=\"color: #800000; text-decoration-color: #800000\">│</span>\n",
                            "<span style=\"color: #800000; text-decoration-color: #800000\">│</span>   <span style=\"color: #7f7f7f; text-decoration-color: #7f7f7f\">5377 │   │   </span>regex: <span style=\"color: #00ffff; text-decoration-color: #00ffff\">bool</span> = <span style=\"color: #0000ff; text-decoration-color: #0000ff\">False</span>,                                                              <span style=\"color: #800000; text-decoration-color: #800000\">│</span>\n",
                            "<span style=\"color: #800000; text-decoration-color: #800000\">│</span>   <span style=\"color: #7f7f7f; text-decoration-color: #7f7f7f\">5378 │   │   </span>method: Literal[<span style=\"color: #808000; text-decoration-color: #808000\">\"pad\"</span>, <span style=\"color: #808000; text-decoration-color: #808000\">\"ffill\"</span>, <span style=\"color: #808000; text-decoration-color: #808000\">\"bfill\"</span>] | lib.NoDefault = lib.no_default,        <span style=\"color: #800000; text-decoration-color: #800000\">│</span>\n",
                            "<span style=\"color: #800000; text-decoration-color: #800000\">│</span>   <span style=\"color: #7f7f7f; text-decoration-color: #7f7f7f\">5379 │   </span>) -&gt; Series | <span style=\"color: #0000ff; text-decoration-color: #0000ff\">None</span>:                                                                   <span style=\"color: #800000; text-decoration-color: #800000\">│</span>\n",
                            "<span style=\"color: #800000; text-decoration-color: #800000\">│</span> <span style=\"color: #800000; text-decoration-color: #800000\">❱ </span>5380 <span style=\"color: #7f7f7f; text-decoration-color: #7f7f7f\">│   │   </span><span style=\"color: #0000ff; text-decoration-color: #0000ff\">return</span> <span style=\"color: #00ffff; text-decoration-color: #00ffff\">super</span>().replace(                                                           <span style=\"color: #800000; text-decoration-color: #800000\">│</span>\n",
                            "<span style=\"color: #800000; text-decoration-color: #800000\">│</span>   <span style=\"color: #7f7f7f; text-decoration-color: #7f7f7f\">5381 │   │   │   </span>to_replace=to_replace,                                                        <span style=\"color: #800000; text-decoration-color: #800000\">│</span>\n",
                            "<span style=\"color: #800000; text-decoration-color: #800000\">│</span>   <span style=\"color: #7f7f7f; text-decoration-color: #7f7f7f\">5382 │   │   │   </span>value=value,                                                                  <span style=\"color: #800000; text-decoration-color: #800000\">│</span>\n",
                            "<span style=\"color: #800000; text-decoration-color: #800000\">│</span>   <span style=\"color: #7f7f7f; text-decoration-color: #7f7f7f\">5383 │   │   │   </span>inplace=inplace,                                                              <span style=\"color: #800000; text-decoration-color: #800000\">│</span>\n",
                            "<span style=\"color: #800000; text-decoration-color: #800000\">│</span>                                                                                                  <span style=\"color: #800000; text-decoration-color: #800000\">│</span>\n",
                            "<span style=\"color: #800000; text-decoration-color: #800000\">│</span> <span style=\"color: #bfbf7f; text-decoration-color: #bfbf7f\">/opt/homebrew/Caskroom/mambaforge/base/envs/study1_3.10/lib/python3.10/site-packages/pandas/util</span> <span style=\"color: #800000; text-decoration-color: #800000\">│</span>\n",
                            "<span style=\"color: #800000; text-decoration-color: #800000\">│</span> <span style=\"color: #bfbf7f; text-decoration-color: #bfbf7f\">/</span><span style=\"color: #808000; text-decoration-color: #808000; font-weight: bold\">_decorators.py</span>:<span style=\"color: #0000ff; text-decoration-color: #0000ff\">331</span> in <span style=\"color: #00ff00; text-decoration-color: #00ff00\">wrapper</span>                                                                   <span style=\"color: #800000; text-decoration-color: #800000\">│</span>\n",
                            "<span style=\"color: #800000; text-decoration-color: #800000\">│</span>                                                                                                  <span style=\"color: #800000; text-decoration-color: #800000\">│</span>\n",
                            "<span style=\"color: #800000; text-decoration-color: #800000\">│</span>   <span style=\"color: #7f7f7f; text-decoration-color: #7f7f7f\">328 │   │   │   │   │   </span><span style=\"color: #00ffff; text-decoration-color: #00ffff\">FutureWarning</span>,                                                         <span style=\"color: #800000; text-decoration-color: #800000\">│</span>\n",
                            "<span style=\"color: #800000; text-decoration-color: #800000\">│</span>   <span style=\"color: #7f7f7f; text-decoration-color: #7f7f7f\">329 │   │   │   │   │   </span>stacklevel=find_stack_level(),                                         <span style=\"color: #800000; text-decoration-color: #800000\">│</span>\n",
                            "<span style=\"color: #800000; text-decoration-color: #800000\">│</span>   <span style=\"color: #7f7f7f; text-decoration-color: #7f7f7f\">330 │   │   │   │   </span>)                                                                          <span style=\"color: #800000; text-decoration-color: #800000\">│</span>\n",
                            "<span style=\"color: #800000; text-decoration-color: #800000\">│</span> <span style=\"color: #800000; text-decoration-color: #800000\">❱ </span>331 <span style=\"color: #7f7f7f; text-decoration-color: #7f7f7f\">│   │   │   </span><span style=\"color: #0000ff; text-decoration-color: #0000ff\">return</span> func(*args, **kwargs)                                                   <span style=\"color: #800000; text-decoration-color: #800000\">│</span>\n",
                            "<span style=\"color: #800000; text-decoration-color: #800000\">│</span>   <span style=\"color: #7f7f7f; text-decoration-color: #7f7f7f\">332 │   │   </span>                                                                                   <span style=\"color: #800000; text-decoration-color: #800000\">│</span>\n",
                            "<span style=\"color: #800000; text-decoration-color: #800000\">│</span>   <span style=\"color: #7f7f7f; text-decoration-color: #7f7f7f\">333 │   │   # error: \"Callable[[VarArg(Any), KwArg(Any)], Any]\" has no</span>                         <span style=\"color: #800000; text-decoration-color: #800000\">│</span>\n",
                            "<span style=\"color: #800000; text-decoration-color: #800000\">│</span>   <span style=\"color: #7f7f7f; text-decoration-color: #7f7f7f\">334 │   │   # attribute \"__signature__\"</span>                                                        <span style=\"color: #800000; text-decoration-color: #800000\">│</span>\n",
                            "<span style=\"color: #800000; text-decoration-color: #800000\">│</span>                                                                                                  <span style=\"color: #800000; text-decoration-color: #800000\">│</span>\n",
                            "<span style=\"color: #800000; text-decoration-color: #800000\">│</span> <span style=\"color: #bfbf7f; text-decoration-color: #bfbf7f\">/opt/homebrew/Caskroom/mambaforge/base/envs/study1_3.10/lib/python3.10/site-packages/pandas/core</span> <span style=\"color: #800000; text-decoration-color: #800000\">│</span>\n",
                            "<span style=\"color: #800000; text-decoration-color: #800000\">│</span> <span style=\"color: #bfbf7f; text-decoration-color: #bfbf7f\">/</span><span style=\"color: #808000; text-decoration-color: #808000; font-weight: bold\">generic.py</span>:<span style=\"color: #0000ff; text-decoration-color: #0000ff\">7237</span> in <span style=\"color: #00ff00; text-decoration-color: #00ff00\">replace</span>                                                                      <span style=\"color: #800000; text-decoration-color: #800000\">│</span>\n",
                            "<span style=\"color: #800000; text-decoration-color: #800000\">│</span>                                                                                                  <span style=\"color: #800000; text-decoration-color: #800000\">│</span>\n",
                            "<span style=\"color: #800000; text-decoration-color: #800000\">│</span>   <span style=\"color: #7f7f7f; text-decoration-color: #7f7f7f\"> 7234 │   │   │   │   │   │   </span><span style=\"color: #808000; text-decoration-color: #808000\">f\"Replacement lists must match in length. \"</span>                      <span style=\"color: #800000; text-decoration-color: #800000\">│</span>\n",
                            "<span style=\"color: #800000; text-decoration-color: #800000\">│</span>   <span style=\"color: #7f7f7f; text-decoration-color: #7f7f7f\"> 7235 │   │   │   │   │   │   </span><span style=\"color: #808000; text-decoration-color: #808000\">f\"Expecting {</span><span style=\"color: #00ffff; text-decoration-color: #00ffff\">len</span>(to_replace)<span style=\"color: #808000; text-decoration-color: #808000\">} got {</span><span style=\"color: #00ffff; text-decoration-color: #00ffff\">len</span>(value)<span style=\"color: #808000; text-decoration-color: #808000\">} \"</span>                 <span style=\"color: #800000; text-decoration-color: #800000\">│</span>\n",
                            "<span style=\"color: #800000; text-decoration-color: #800000\">│</span>   <span style=\"color: #7f7f7f; text-decoration-color: #7f7f7f\"> 7236 │   │   │   │   │   </span>)                                                                    <span style=\"color: #800000; text-decoration-color: #800000\">│</span>\n",
                            "<span style=\"color: #800000; text-decoration-color: #800000\">│</span> <span style=\"color: #800000; text-decoration-color: #800000\">❱ </span> 7237 <span style=\"color: #7f7f7f; text-decoration-color: #7f7f7f\">│   │   │   │   </span>new_data = <span style=\"color: #00ffff; text-decoration-color: #00ffff\">self</span>._mgr.replace_list(                                       <span style=\"color: #800000; text-decoration-color: #800000\">│</span>\n",
                            "<span style=\"color: #800000; text-decoration-color: #800000\">│</span>   <span style=\"color: #7f7f7f; text-decoration-color: #7f7f7f\"> 7238 │   │   │   │   │   </span>src_list=to_replace,                                                 <span style=\"color: #800000; text-decoration-color: #800000\">│</span>\n",
                            "<span style=\"color: #800000; text-decoration-color: #800000\">│</span>   <span style=\"color: #7f7f7f; text-decoration-color: #7f7f7f\"> 7239 │   │   │   │   │   </span>dest_list=value,                                                     <span style=\"color: #800000; text-decoration-color: #800000\">│</span>\n",
                            "<span style=\"color: #800000; text-decoration-color: #800000\">│</span>   <span style=\"color: #7f7f7f; text-decoration-color: #7f7f7f\"> 7240 │   │   │   │   │   </span>inplace=inplace,                                                     <span style=\"color: #800000; text-decoration-color: #800000\">│</span>\n",
                            "<span style=\"color: #800000; text-decoration-color: #800000\">│</span>                                                                                                  <span style=\"color: #800000; text-decoration-color: #800000\">│</span>\n",
                            "<span style=\"color: #800000; text-decoration-color: #800000\">│</span> <span style=\"color: #bfbf7f; text-decoration-color: #bfbf7f\">/opt/homebrew/Caskroom/mambaforge/base/envs/study1_3.10/lib/python3.10/site-packages/pandas/core</span> <span style=\"color: #800000; text-decoration-color: #800000\">│</span>\n",
                            "<span style=\"color: #800000; text-decoration-color: #800000\">│</span> <span style=\"color: #bfbf7f; text-decoration-color: #bfbf7f\">/internals/</span><span style=\"color: #808000; text-decoration-color: #808000; font-weight: bold\">managers.py</span>:<span style=\"color: #0000ff; text-decoration-color: #0000ff\">487</span> in <span style=\"color: #00ff00; text-decoration-color: #00ff00\">replace_list</span>                                                       <span style=\"color: #800000; text-decoration-color: #800000\">│</span>\n",
                            "<span style=\"color: #800000; text-decoration-color: #800000\">│</span>                                                                                                  <span style=\"color: #800000; text-decoration-color: #800000\">│</span>\n",
                            "<span style=\"color: #800000; text-decoration-color: #800000\">│</span>   <span style=\"color: #7f7f7f; text-decoration-color: #7f7f7f\"> 484 </span><span style=\"color: #bfbfbf; text-decoration-color: #bfbfbf\">│   │   </span><span style=\"color: #808000; text-decoration-color: #808000\">\"\"\"do a list replace\"\"\"</span>                                                           <span style=\"color: #800000; text-decoration-color: #800000\">│</span>\n",
                            "<span style=\"color: #800000; text-decoration-color: #800000\">│</span>   <span style=\"color: #7f7f7f; text-decoration-color: #7f7f7f\"> 485 │   │   </span>inplace = validate_bool_kwarg(inplace, <span style=\"color: #808000; text-decoration-color: #808000\">\"inplace\"</span>)                                 <span style=\"color: #800000; text-decoration-color: #800000\">│</span>\n",
                            "<span style=\"color: #800000; text-decoration-color: #800000\">│</span>   <span style=\"color: #7f7f7f; text-decoration-color: #7f7f7f\"> 486 │   │   </span>                                                                                  <span style=\"color: #800000; text-decoration-color: #800000\">│</span>\n",
                            "<span style=\"color: #800000; text-decoration-color: #800000\">│</span> <span style=\"color: #800000; text-decoration-color: #800000\">❱ </span> 487 <span style=\"color: #7f7f7f; text-decoration-color: #7f7f7f\">│   │   </span>bm = <span style=\"color: #00ffff; text-decoration-color: #00ffff\">self</span>.apply(                                                                  <span style=\"color: #800000; text-decoration-color: #800000\">│</span>\n",
                            "<span style=\"color: #800000; text-decoration-color: #800000\">│</span>   <span style=\"color: #7f7f7f; text-decoration-color: #7f7f7f\"> 488 │   │   │   </span><span style=\"color: #808000; text-decoration-color: #808000\">\"replace_list\"</span>,                                                               <span style=\"color: #800000; text-decoration-color: #800000\">│</span>\n",
                            "<span style=\"color: #800000; text-decoration-color: #800000\">│</span>   <span style=\"color: #7f7f7f; text-decoration-color: #7f7f7f\"> 489 │   │   │   </span>src_list=src_list,                                                            <span style=\"color: #800000; text-decoration-color: #800000\">│</span>\n",
                            "<span style=\"color: #800000; text-decoration-color: #800000\">│</span>   <span style=\"color: #7f7f7f; text-decoration-color: #7f7f7f\"> 490 │   │   │   </span>dest_list=dest_list,                                                          <span style=\"color: #800000; text-decoration-color: #800000\">│</span>\n",
                            "<span style=\"color: #800000; text-decoration-color: #800000\">│</span>                                                                                                  <span style=\"color: #800000; text-decoration-color: #800000\">│</span>\n",
                            "<span style=\"color: #800000; text-decoration-color: #800000\">│</span> <span style=\"color: #bfbf7f; text-decoration-color: #bfbf7f\">/opt/homebrew/Caskroom/mambaforge/base/envs/study1_3.10/lib/python3.10/site-packages/pandas/core</span> <span style=\"color: #800000; text-decoration-color: #800000\">│</span>\n",
                            "<span style=\"color: #800000; text-decoration-color: #800000\">│</span> <span style=\"color: #bfbf7f; text-decoration-color: #bfbf7f\">/internals/</span><span style=\"color: #808000; text-decoration-color: #808000; font-weight: bold\">managers.py</span>:<span style=\"color: #0000ff; text-decoration-color: #0000ff\">352</span> in <span style=\"color: #00ff00; text-decoration-color: #00ff00\">apply</span>                                                              <span style=\"color: #800000; text-decoration-color: #800000\">│</span>\n",
                            "<span style=\"color: #800000; text-decoration-color: #800000\">│</span>                                                                                                  <span style=\"color: #800000; text-decoration-color: #800000\">│</span>\n",
                            "<span style=\"color: #800000; text-decoration-color: #800000\">│</span>   <span style=\"color: #7f7f7f; text-decoration-color: #7f7f7f\"> 349 │   │   │   │   </span><span style=\"color: #0000ff; text-decoration-color: #0000ff\">if</span> callable(f):                                                           <span style=\"color: #800000; text-decoration-color: #800000\">│</span>\n",
                            "<span style=\"color: #800000; text-decoration-color: #800000\">│</span>   <span style=\"color: #7f7f7f; text-decoration-color: #7f7f7f\"> 350 │   │   │   │   │   </span>applied = b.apply(f, **kwargs)                                        <span style=\"color: #800000; text-decoration-color: #800000\">│</span>\n",
                            "<span style=\"color: #800000; text-decoration-color: #800000\">│</span>   <span style=\"color: #7f7f7f; text-decoration-color: #7f7f7f\"> 351 │   │   │   │   </span><span style=\"color: #0000ff; text-decoration-color: #0000ff\">else</span>:                                                                     <span style=\"color: #800000; text-decoration-color: #800000\">│</span>\n",
                            "<span style=\"color: #800000; text-decoration-color: #800000\">│</span> <span style=\"color: #800000; text-decoration-color: #800000\">❱ </span> 352 <span style=\"color: #7f7f7f; text-decoration-color: #7f7f7f\">│   │   │   │   │   </span>applied = <span style=\"color: #00ffff; text-decoration-color: #00ffff\">getattr</span>(b, f)(**kwargs)                                     <span style=\"color: #800000; text-decoration-color: #800000\">│</span>\n",
                            "<span style=\"color: #800000; text-decoration-color: #800000\">│</span>   <span style=\"color: #7f7f7f; text-decoration-color: #7f7f7f\"> 353 │   │   │   </span><span style=\"color: #0000ff; text-decoration-color: #0000ff\">except</span> (<span style=\"color: #00ffff; text-decoration-color: #00ffff\">TypeError</span>, <span style=\"color: #00ffff; text-decoration-color: #00ffff\">NotImplementedError</span>):                                      <span style=\"color: #800000; text-decoration-color: #800000\">│</span>\n",
                            "<span style=\"color: #800000; text-decoration-color: #800000\">│</span>   <span style=\"color: #7f7f7f; text-decoration-color: #7f7f7f\"> 354 │   │   │   │   </span><span style=\"color: #0000ff; text-decoration-color: #0000ff\">if</span> <span style=\"color: #ff00ff; text-decoration-color: #ff00ff\">not</span> ignore_failures:                                                   <span style=\"color: #800000; text-decoration-color: #800000\">│</span>\n",
                            "<span style=\"color: #800000; text-decoration-color: #800000\">│</span>   <span style=\"color: #7f7f7f; text-decoration-color: #7f7f7f\"> 355 │   │   │   │   │   </span><span style=\"color: #0000ff; text-decoration-color: #0000ff\">raise</span>                                                                 <span style=\"color: #800000; text-decoration-color: #800000\">│</span>\n",
                            "<span style=\"color: #800000; text-decoration-color: #800000\">│</span>                                                                                                  <span style=\"color: #800000; text-decoration-color: #800000\">│</span>\n",
                            "<span style=\"color: #800000; text-decoration-color: #800000\">│</span> <span style=\"color: #bfbf7f; text-decoration-color: #bfbf7f\">/opt/homebrew/Caskroom/mambaforge/base/envs/study1_3.10/lib/python3.10/site-packages/pandas/core</span> <span style=\"color: #800000; text-decoration-color: #800000\">│</span>\n",
                            "<span style=\"color: #800000; text-decoration-color: #800000\">│</span> <span style=\"color: #bfbf7f; text-decoration-color: #bfbf7f\">/internals/</span><span style=\"color: #808000; text-decoration-color: #808000; font-weight: bold\">blocks.py</span>:<span style=\"color: #0000ff; text-decoration-color: #0000ff\">705</span> in <span style=\"color: #00ff00; text-decoration-color: #00ff00\">replace_list</span>                                                         <span style=\"color: #800000; text-decoration-color: #800000\">│</span>\n",
                            "<span style=\"color: #800000; text-decoration-color: #800000\">│</span>                                                                                                  <span style=\"color: #800000; text-decoration-color: #800000\">│</span>\n",
                            "<span style=\"color: #800000; text-decoration-color: #800000\">│</span>   <span style=\"color: #7f7f7f; text-decoration-color: #7f7f7f\"> 702 │   │   │   # Calculate the mask once, prior to the call of comp</span>                          <span style=\"color: #800000; text-decoration-color: #800000\">│</span>\n",
                            "<span style=\"color: #800000; text-decoration-color: #800000\">│</span>   <span style=\"color: #7f7f7f; text-decoration-color: #7f7f7f\"> 703 │   │   │   # in order to avoid repeating the same computations</span>                           <span style=\"color: #800000; text-decoration-color: #800000\">│</span>\n",
                            "<span style=\"color: #800000; text-decoration-color: #800000\">│</span>   <span style=\"color: #7f7f7f; text-decoration-color: #7f7f7f\"> 704 │   │   │   </span>mask = ~isna(values)                                                          <span style=\"color: #800000; text-decoration-color: #800000\">│</span>\n",
                            "<span style=\"color: #800000; text-decoration-color: #800000\">│</span> <span style=\"color: #800000; text-decoration-color: #800000\">❱ </span> 705 <span style=\"color: #7f7f7f; text-decoration-color: #7f7f7f\">│   │   │   </span>masks = [                                                                     <span style=\"color: #800000; text-decoration-color: #800000\">│</span>\n",
                            "<span style=\"color: #800000; text-decoration-color: #800000\">│</span>   <span style=\"color: #7f7f7f; text-decoration-color: #7f7f7f\"> 706 │   │   │   │   </span>compare_or_regex_search(values, s[<span style=\"color: #0000ff; text-decoration-color: #0000ff\">0</span>], regex=regex, mask=mask)             <span style=\"color: #800000; text-decoration-color: #800000\">│</span>\n",
                            "<span style=\"color: #800000; text-decoration-color: #800000\">│</span>   <span style=\"color: #7f7f7f; text-decoration-color: #7f7f7f\"> 707 │   │   │   │   </span><span style=\"color: #0000ff; text-decoration-color: #0000ff\">for</span> s <span style=\"color: #ff00ff; text-decoration-color: #ff00ff\">in</span> pairs                                                            <span style=\"color: #800000; text-decoration-color: #800000\">│</span>\n",
                            "<span style=\"color: #800000; text-decoration-color: #800000\">│</span>   <span style=\"color: #7f7f7f; text-decoration-color: #7f7f7f\"> 708 │   │   │   </span>]                                                                             <span style=\"color: #800000; text-decoration-color: #800000\">│</span>\n",
                            "<span style=\"color: #800000; text-decoration-color: #800000\">│</span>                                                                                                  <span style=\"color: #800000; text-decoration-color: #800000\">│</span>\n",
                            "<span style=\"color: #800000; text-decoration-color: #800000\">│</span> <span style=\"color: #bfbf7f; text-decoration-color: #bfbf7f\">/opt/homebrew/Caskroom/mambaforge/base/envs/study1_3.10/lib/python3.10/site-packages/pandas/core</span> <span style=\"color: #800000; text-decoration-color: #800000\">│</span>\n",
                            "<span style=\"color: #800000; text-decoration-color: #800000\">│</span> <span style=\"color: #bfbf7f; text-decoration-color: #bfbf7f\">/internals/</span><span style=\"color: #808000; text-decoration-color: #808000; font-weight: bold\">blocks.py</span>:<span style=\"color: #0000ff; text-decoration-color: #0000ff\">706</span> in <span style=\"color: #00ff00; text-decoration-color: #00ff00\">&lt;listcomp&gt;</span>                                                           <span style=\"color: #800000; text-decoration-color: #800000\">│</span>\n",
                            "<span style=\"color: #800000; text-decoration-color: #800000\">│</span>                                                                                                  <span style=\"color: #800000; text-decoration-color: #800000\">│</span>\n",
                            "<span style=\"color: #800000; text-decoration-color: #800000\">│</span>   <span style=\"color: #7f7f7f; text-decoration-color: #7f7f7f\"> 703 │   │   │   # in order to avoid repeating the same computations</span>                           <span style=\"color: #800000; text-decoration-color: #800000\">│</span>\n",
                            "<span style=\"color: #800000; text-decoration-color: #800000\">│</span>   <span style=\"color: #7f7f7f; text-decoration-color: #7f7f7f\"> 704 │   │   │   </span>mask = ~isna(values)                                                          <span style=\"color: #800000; text-decoration-color: #800000\">│</span>\n",
                            "<span style=\"color: #800000; text-decoration-color: #800000\">│</span>   <span style=\"color: #7f7f7f; text-decoration-color: #7f7f7f\"> 705 │   │   │   </span>masks = [                                                                     <span style=\"color: #800000; text-decoration-color: #800000\">│</span>\n",
                            "<span style=\"color: #800000; text-decoration-color: #800000\">│</span> <span style=\"color: #800000; text-decoration-color: #800000\">❱ </span> 706 <span style=\"color: #7f7f7f; text-decoration-color: #7f7f7f\">│   │   │   │   </span>compare_or_regex_search(values, s[<span style=\"color: #0000ff; text-decoration-color: #0000ff\">0</span>], regex=regex, mask=mask)             <span style=\"color: #800000; text-decoration-color: #800000\">│</span>\n",
                            "<span style=\"color: #800000; text-decoration-color: #800000\">│</span>   <span style=\"color: #7f7f7f; text-decoration-color: #7f7f7f\"> 707 │   │   │   │   </span><span style=\"color: #0000ff; text-decoration-color: #0000ff\">for</span> s <span style=\"color: #ff00ff; text-decoration-color: #ff00ff\">in</span> pairs                                                            <span style=\"color: #800000; text-decoration-color: #800000\">│</span>\n",
                            "<span style=\"color: #800000; text-decoration-color: #800000\">│</span>   <span style=\"color: #7f7f7f; text-decoration-color: #7f7f7f\"> 708 │   │   │   </span>]                                                                             <span style=\"color: #800000; text-decoration-color: #800000\">│</span>\n",
                            "<span style=\"color: #800000; text-decoration-color: #800000\">│</span>   <span style=\"color: #7f7f7f; text-decoration-color: #7f7f7f\"> 709 │   │   </span><span style=\"color: #0000ff; text-decoration-color: #0000ff\">else</span>:                                                                             <span style=\"color: #800000; text-decoration-color: #800000\">│</span>\n",
                            "<span style=\"color: #800000; text-decoration-color: #800000\">│</span>                                                                                                  <span style=\"color: #800000; text-decoration-color: #800000\">│</span>\n",
                            "<span style=\"color: #800000; text-decoration-color: #800000\">│</span> <span style=\"color: #bfbf7f; text-decoration-color: #bfbf7f\">/opt/homebrew/Caskroom/mambaforge/base/envs/study1_3.10/lib/python3.10/site-packages/pandas/core</span> <span style=\"color: #800000; text-decoration-color: #800000\">│</span>\n",
                            "<span style=\"color: #800000; text-decoration-color: #800000\">│</span> <span style=\"color: #bfbf7f; text-decoration-color: #bfbf7f\">/array_algos/</span><span style=\"color: #808000; text-decoration-color: #808000; font-weight: bold\">replace.py</span>:<span style=\"color: #0000ff; text-decoration-color: #0000ff\">84</span> in <span style=\"color: #00ff00; text-decoration-color: #00ff00\">compare_or_regex_search</span>                                            <span style=\"color: #800000; text-decoration-color: #800000\">│</span>\n",
                            "<span style=\"color: #800000; text-decoration-color: #800000\">│</span>                                                                                                  <span style=\"color: #800000; text-decoration-color: #800000\">│</span>\n",
                            "<span style=\"color: #800000; text-decoration-color: #800000\">│</span>   <span style=\"color: #7f7f7f; text-decoration-color: #7f7f7f\"> 81 │   │   │   │   </span><span style=\"color: #808000; text-decoration-color: #808000\">f\"Cannot compare types {</span><span style=\"color: #00ffff; text-decoration-color: #00ffff\">repr</span>(type_names[<span style=\"color: #0000ff; text-decoration-color: #0000ff\">0</span>])<span style=\"color: #808000; text-decoration-color: #808000\">} and {</span><span style=\"color: #00ffff; text-decoration-color: #00ffff\">repr</span>(type_names[<span style=\"color: #0000ff; text-decoration-color: #0000ff\">1</span>])<span style=\"color: #808000; text-decoration-color: #808000\">}\"</span>    <span style=\"color: #800000; text-decoration-color: #800000\">│</span>\n",
                            "<span style=\"color: #800000; text-decoration-color: #800000\">│</span>   <span style=\"color: #7f7f7f; text-decoration-color: #7f7f7f\"> 82 │   │   │   </span>)                                                                              <span style=\"color: #800000; text-decoration-color: #800000\">│</span>\n",
                            "<span style=\"color: #800000; text-decoration-color: #800000\">│</span>   <span style=\"color: #7f7f7f; text-decoration-color: #7f7f7f\"> 83 │   </span>                                                                                       <span style=\"color: #800000; text-decoration-color: #800000\">│</span>\n",
                            "<span style=\"color: #800000; text-decoration-color: #800000\">│</span> <span style=\"color: #800000; text-decoration-color: #800000\">❱ </span> 84 <span style=\"color: #7f7f7f; text-decoration-color: #7f7f7f\">│   </span><span style=\"color: #0000ff; text-decoration-color: #0000ff\">if</span> <span style=\"color: #ff00ff; text-decoration-color: #ff00ff\">not</span> regex <span style=\"color: #ff00ff; text-decoration-color: #ff00ff\">or</span> <span style=\"color: #ff00ff; text-decoration-color: #ff00ff\">not</span> should_use_regex(regex, b):                                        <span style=\"color: #800000; text-decoration-color: #800000\">│</span>\n",
                            "<span style=\"color: #800000; text-decoration-color: #800000\">│</span>   <span style=\"color: #7f7f7f; text-decoration-color: #7f7f7f\"> 85 │   │   # TODO: should use missing.mask_missing?</span>                                           <span style=\"color: #800000; text-decoration-color: #800000\">│</span>\n",
                            "<span style=\"color: #800000; text-decoration-color: #800000\">│</span>   <span style=\"color: #7f7f7f; text-decoration-color: #7f7f7f\"> 86 │   │   </span>op = <span style=\"color: #0000ff; text-decoration-color: #0000ff\">lambda</span> x: operator.eq(x, b)                                                   <span style=\"color: #800000; text-decoration-color: #800000\">│</span>\n",
                            "<span style=\"color: #800000; text-decoration-color: #800000\">│</span>   <span style=\"color: #7f7f7f; text-decoration-color: #7f7f7f\"> 87 │   </span><span style=\"color: #0000ff; text-decoration-color: #0000ff\">else</span>:                                                                                  <span style=\"color: #800000; text-decoration-color: #800000\">│</span>\n",
                            "<span style=\"color: #800000; text-decoration-color: #800000\">│</span>                                                                                                  <span style=\"color: #800000; text-decoration-color: #800000\">│</span>\n",
                            "<span style=\"color: #800000; text-decoration-color: #800000\">│</span> <span style=\"color: #bfbf7f; text-decoration-color: #bfbf7f\">/opt/homebrew/Caskroom/mambaforge/base/envs/study1_3.10/lib/python3.10/site-packages/pandas/core</span> <span style=\"color: #800000; text-decoration-color: #800000\">│</span>\n",
                            "<span style=\"color: #800000; text-decoration-color: #800000\">│</span> <span style=\"color: #bfbf7f; text-decoration-color: #bfbf7f\">/array_algos/</span><span style=\"color: #808000; text-decoration-color: #808000; font-weight: bold\">replace.py</span>:<span style=\"color: #0000ff; text-decoration-color: #0000ff\">38</span> in <span style=\"color: #00ff00; text-decoration-color: #00ff00\">should_use_regex</span>                                                   <span style=\"color: #800000; text-decoration-color: #800000\">│</span>\n",
                            "<span style=\"color: #800000; text-decoration-color: #800000\">│</span>                                                                                                  <span style=\"color: #800000; text-decoration-color: #800000\">│</span>\n",
                            "<span style=\"color: #800000; text-decoration-color: #800000\">│</span>   <span style=\"color: #7f7f7f; text-decoration-color: #7f7f7f\"> 35 │   </span><span style=\"color: #0000ff; text-decoration-color: #0000ff\">if</span> is_re(to_replace):                                                                  <span style=\"color: #800000; text-decoration-color: #800000\">│</span>\n",
                            "<span style=\"color: #800000; text-decoration-color: #800000\">│</span>   <span style=\"color: #7f7f7f; text-decoration-color: #7f7f7f\"> 36 │   │   </span>regex = <span style=\"color: #0000ff; text-decoration-color: #0000ff\">True</span>                                                                       <span style=\"color: #800000; text-decoration-color: #800000\">│</span>\n",
                            "<span style=\"color: #800000; text-decoration-color: #800000\">│</span>   <span style=\"color: #7f7f7f; text-decoration-color: #7f7f7f\"> 37 │   </span>                                                                                       <span style=\"color: #800000; text-decoration-color: #800000\">│</span>\n",
                            "<span style=\"color: #800000; text-decoration-color: #800000\">│</span> <span style=\"color: #800000; text-decoration-color: #800000\">❱ </span> 38 <span style=\"color: #7f7f7f; text-decoration-color: #7f7f7f\">│   </span>regex = regex <span style=\"color: #ff00ff; text-decoration-color: #ff00ff\">and</span> is_re_compilable(to_replace)                                         <span style=\"color: #800000; text-decoration-color: #800000\">│</span>\n",
                            "<span style=\"color: #800000; text-decoration-color: #800000\">│</span>   <span style=\"color: #7f7f7f; text-decoration-color: #7f7f7f\"> 39 │   </span>                                                                                       <span style=\"color: #800000; text-decoration-color: #800000\">│</span>\n",
                            "<span style=\"color: #800000; text-decoration-color: #800000\">│</span>   <span style=\"color: #7f7f7f; text-decoration-color: #7f7f7f\"> 40 │   # Don't use regex if the pattern is empty.</span>                                             <span style=\"color: #800000; text-decoration-color: #800000\">│</span>\n",
                            "<span style=\"color: #800000; text-decoration-color: #800000\">│</span>   <span style=\"color: #7f7f7f; text-decoration-color: #7f7f7f\"> 41 │   </span>regex = regex <span style=\"color: #ff00ff; text-decoration-color: #ff00ff\">and</span> re.compile(to_replace).pattern != <span style=\"color: #808000; text-decoration-color: #808000\">\"\"</span>                                 <span style=\"color: #800000; text-decoration-color: #800000\">│</span>\n",
                            "<span style=\"color: #800000; text-decoration-color: #800000\">│</span>                                                                                                  <span style=\"color: #800000; text-decoration-color: #800000\">│</span>\n",
                            "<span style=\"color: #800000; text-decoration-color: #800000\">│</span> <span style=\"color: #bfbf7f; text-decoration-color: #bfbf7f\">/opt/homebrew/Caskroom/mambaforge/base/envs/study1_3.10/lib/python3.10/site-packages/pandas/core</span> <span style=\"color: #800000; text-decoration-color: #800000\">│</span>\n",
                            "<span style=\"color: #800000; text-decoration-color: #800000\">│</span> <span style=\"color: #bfbf7f; text-decoration-color: #bfbf7f\">/dtypes/</span><span style=\"color: #808000; text-decoration-color: #808000; font-weight: bold\">inference.py</span>:<span style=\"color: #0000ff; text-decoration-color: #0000ff\">181</span> in <span style=\"color: #00ff00; text-decoration-color: #00ff00\">is_re_compilable</span>                                                     <span style=\"color: #800000; text-decoration-color: #800000\">│</span>\n",
                            "<span style=\"color: #800000; text-decoration-color: #800000\">│</span>                                                                                                  <span style=\"color: #800000; text-decoration-color: #800000\">│</span>\n",
                            "<span style=\"color: #800000; text-decoration-color: #800000\">│</span>   <span style=\"color: #7f7f7f; text-decoration-color: #7f7f7f\">178 </span><span style=\"color: #bfbf7f; text-decoration-color: #bfbf7f\">│   </span><span style=\"color: #808000; text-decoration-color: #808000\">False</span>                                                                                  <span style=\"color: #800000; text-decoration-color: #800000\">│</span>\n",
                            "<span style=\"color: #800000; text-decoration-color: #800000\">│</span>   <span style=\"color: #7f7f7f; text-decoration-color: #7f7f7f\">179 </span><span style=\"color: #bfbf7f; text-decoration-color: #bfbf7f\">│   </span><span style=\"color: #808000; text-decoration-color: #808000\">\"\"\"</span>                                                                                    <span style=\"color: #800000; text-decoration-color: #800000\">│</span>\n",
                            "<span style=\"color: #800000; text-decoration-color: #800000\">│</span>   <span style=\"color: #7f7f7f; text-decoration-color: #7f7f7f\">180 │   </span><span style=\"color: #0000ff; text-decoration-color: #0000ff\">try</span>:                                                                                   <span style=\"color: #800000; text-decoration-color: #800000\">│</span>\n",
                            "<span style=\"color: #800000; text-decoration-color: #800000\">│</span> <span style=\"color: #800000; text-decoration-color: #800000\">❱ </span>181 <span style=\"color: #7f7f7f; text-decoration-color: #7f7f7f\">│   │   </span>re.compile(obj)                                                                    <span style=\"color: #800000; text-decoration-color: #800000\">│</span>\n",
                            "<span style=\"color: #800000; text-decoration-color: #800000\">│</span>   <span style=\"color: #7f7f7f; text-decoration-color: #7f7f7f\">182 │   </span><span style=\"color: #0000ff; text-decoration-color: #0000ff\">except</span> <span style=\"color: #00ffff; text-decoration-color: #00ffff\">TypeError</span>:                                                                      <span style=\"color: #800000; text-decoration-color: #800000\">│</span>\n",
                            "<span style=\"color: #800000; text-decoration-color: #800000\">│</span>   <span style=\"color: #7f7f7f; text-decoration-color: #7f7f7f\">183 │   │   </span><span style=\"color: #0000ff; text-decoration-color: #0000ff\">return</span> <span style=\"color: #0000ff; text-decoration-color: #0000ff\">False</span>                                                                       <span style=\"color: #800000; text-decoration-color: #800000\">│</span>\n",
                            "<span style=\"color: #800000; text-decoration-color: #800000\">│</span>   <span style=\"color: #7f7f7f; text-decoration-color: #7f7f7f\">184 │   </span><span style=\"color: #0000ff; text-decoration-color: #0000ff\">else</span>:                                                                                  <span style=\"color: #800000; text-decoration-color: #800000\">│</span>\n",
                            "<span style=\"color: #800000; text-decoration-color: #800000\">│</span>                                                                                                  <span style=\"color: #800000; text-decoration-color: #800000\">│</span>\n",
                            "<span style=\"color: #800000; text-decoration-color: #800000\">│</span> <span style=\"color: #bfbf7f; text-decoration-color: #bfbf7f\">/opt/homebrew/Caskroom/mambaforge/base/envs/study1_3.10/lib/python3.10/</span><span style=\"color: #808000; text-decoration-color: #808000; font-weight: bold\">re.py</span>:<span style=\"color: #0000ff; text-decoration-color: #0000ff\">251</span> in <span style=\"color: #00ff00; text-decoration-color: #00ff00\">compile</span>      <span style=\"color: #800000; text-decoration-color: #800000\">│</span>\n",
                            "<span style=\"color: #800000; text-decoration-color: #800000\">│</span>                                                                                                  <span style=\"color: #800000; text-decoration-color: #800000\">│</span>\n",
                            "<span style=\"color: #800000; text-decoration-color: #800000\">│</span>   <span style=\"color: #7f7f7f; text-decoration-color: #7f7f7f\">248 </span>                                                                                           <span style=\"color: #800000; text-decoration-color: #800000\">│</span>\n",
                            "<span style=\"color: #800000; text-decoration-color: #800000\">│</span>   <span style=\"color: #7f7f7f; text-decoration-color: #7f7f7f\">249 </span><span style=\"color: #0000ff; text-decoration-color: #0000ff\">def</span> <span style=\"color: #00ff00; text-decoration-color: #00ff00\">compile</span>(pattern, flags=<span style=\"color: #0000ff; text-decoration-color: #0000ff\">0</span>):                                                             <span style=\"color: #800000; text-decoration-color: #800000\">│</span>\n",
                            "<span style=\"color: #800000; text-decoration-color: #800000\">│</span>   <span style=\"color: #7f7f7f; text-decoration-color: #7f7f7f\">250 │   </span><span style=\"color: #808000; text-decoration-color: #808000\">\"Compile a regular expression pattern, returning a Pattern object.\"</span>                    <span style=\"color: #800000; text-decoration-color: #800000\">│</span>\n",
                            "<span style=\"color: #800000; text-decoration-color: #800000\">│</span> <span style=\"color: #800000; text-decoration-color: #800000\">❱ </span>251 <span style=\"color: #7f7f7f; text-decoration-color: #7f7f7f\">│   </span><span style=\"color: #0000ff; text-decoration-color: #0000ff\">return</span> _compile(pattern, flags)                                                        <span style=\"color: #800000; text-decoration-color: #800000\">│</span>\n",
                            "<span style=\"color: #800000; text-decoration-color: #800000\">│</span>   <span style=\"color: #7f7f7f; text-decoration-color: #7f7f7f\">252 </span>                                                                                           <span style=\"color: #800000; text-decoration-color: #800000\">│</span>\n",
                            "<span style=\"color: #800000; text-decoration-color: #800000\">│</span>   <span style=\"color: #7f7f7f; text-decoration-color: #7f7f7f\">253 </span><span style=\"color: #0000ff; text-decoration-color: #0000ff\">def</span> <span style=\"color: #00ff00; text-decoration-color: #00ff00\">purge</span>():                                                                               <span style=\"color: #800000; text-decoration-color: #800000\">│</span>\n",
                            "<span style=\"color: #800000; text-decoration-color: #800000\">│</span>   <span style=\"color: #7f7f7f; text-decoration-color: #7f7f7f\">254 │   </span><span style=\"color: #808000; text-decoration-color: #808000\">\"Clear the regular expression caches\"</span>                                                  <span style=\"color: #800000; text-decoration-color: #800000\">│</span>\n",
                            "<span style=\"color: #800000; text-decoration-color: #800000\">│</span>                                                                                                  <span style=\"color: #800000; text-decoration-color: #800000\">│</span>\n",
                            "<span style=\"color: #800000; text-decoration-color: #800000\">│</span> <span style=\"color: #bfbf7f; text-decoration-color: #bfbf7f\">/opt/homebrew/Caskroom/mambaforge/base/envs/study1_3.10/lib/python3.10/</span><span style=\"color: #808000; text-decoration-color: #808000; font-weight: bold\">re.py</span>:<span style=\"color: #0000ff; text-decoration-color: #0000ff\">303</span> in <span style=\"color: #00ff00; text-decoration-color: #00ff00\">_compile</span>     <span style=\"color: #800000; text-decoration-color: #800000\">│</span>\n",
                            "<span style=\"color: #800000; text-decoration-color: #800000\">│</span>                                                                                                  <span style=\"color: #800000; text-decoration-color: #800000\">│</span>\n",
                            "<span style=\"color: #800000; text-decoration-color: #800000\">│</span>   <span style=\"color: #7f7f7f; text-decoration-color: #7f7f7f\">300 │   │   </span><span style=\"color: #0000ff; text-decoration-color: #0000ff\">return</span> pattern                                                                     <span style=\"color: #800000; text-decoration-color: #800000\">│</span>\n",
                            "<span style=\"color: #800000; text-decoration-color: #800000\">│</span>   <span style=\"color: #7f7f7f; text-decoration-color: #7f7f7f\">301 │   </span><span style=\"color: #0000ff; text-decoration-color: #0000ff\">if</span> <span style=\"color: #ff00ff; text-decoration-color: #ff00ff\">not</span> sre_compile.isstring(pattern):                                                  <span style=\"color: #800000; text-decoration-color: #800000\">│</span>\n",
                            "<span style=\"color: #800000; text-decoration-color: #800000\">│</span>   <span style=\"color: #7f7f7f; text-decoration-color: #7f7f7f\">302 │   │   </span><span style=\"color: #0000ff; text-decoration-color: #0000ff\">raise</span> <span style=\"color: #00ffff; text-decoration-color: #00ffff\">TypeError</span>(<span style=\"color: #808000; text-decoration-color: #808000\">\"first argument must be string or compiled pattern\"</span>)               <span style=\"color: #800000; text-decoration-color: #800000\">│</span>\n",
                            "<span style=\"color: #800000; text-decoration-color: #800000\">│</span> <span style=\"color: #800000; text-decoration-color: #800000\">❱ </span>303 <span style=\"color: #7f7f7f; text-decoration-color: #7f7f7f\">│   </span>p = sre_compile.compile(pattern, flags)                                                <span style=\"color: #800000; text-decoration-color: #800000\">│</span>\n",
                            "<span style=\"color: #800000; text-decoration-color: #800000\">│</span>   <span style=\"color: #7f7f7f; text-decoration-color: #7f7f7f\">304 │   </span><span style=\"color: #0000ff; text-decoration-color: #0000ff\">if</span> <span style=\"color: #ff00ff; text-decoration-color: #ff00ff\">not</span> (flags &amp; DEBUG):                                                                <span style=\"color: #800000; text-decoration-color: #800000\">│</span>\n",
                            "<span style=\"color: #800000; text-decoration-color: #800000\">│</span>   <span style=\"color: #7f7f7f; text-decoration-color: #7f7f7f\">305 │   │   </span><span style=\"color: #0000ff; text-decoration-color: #0000ff\">if</span> <span style=\"color: #00ffff; text-decoration-color: #00ffff\">len</span>(_cache) &gt;= _MAXCACHE:                                                       <span style=\"color: #800000; text-decoration-color: #800000\">│</span>\n",
                            "<span style=\"color: #800000; text-decoration-color: #800000\">│</span>   <span style=\"color: #7f7f7f; text-decoration-color: #7f7f7f\">306 │   │   │   # Drop the oldest item</span>                                                         <span style=\"color: #800000; text-decoration-color: #800000\">│</span>\n",
                            "<span style=\"color: #800000; text-decoration-color: #800000\">│</span>                                                                                                  <span style=\"color: #800000; text-decoration-color: #800000\">│</span>\n",
                            "<span style=\"color: #800000; text-decoration-color: #800000\">│</span> <span style=\"color: #bfbf7f; text-decoration-color: #bfbf7f\">/opt/homebrew/Caskroom/mambaforge/base/envs/study1_3.10/lib/python3.10/</span><span style=\"color: #808000; text-decoration-color: #808000; font-weight: bold\">sre_compile.py</span>:<span style=\"color: #0000ff; text-decoration-color: #0000ff\">788</span> in     <span style=\"color: #800000; text-decoration-color: #800000\">│</span>\n",
                            "<span style=\"color: #800000; text-decoration-color: #800000\">│</span> <span style=\"color: #00ff00; text-decoration-color: #00ff00\">compile</span>                                                                                          <span style=\"color: #800000; text-decoration-color: #800000\">│</span>\n",
                            "<span style=\"color: #800000; text-decoration-color: #800000\">│</span>                                                                                                  <span style=\"color: #800000; text-decoration-color: #800000\">│</span>\n",
                            "<span style=\"color: #800000; text-decoration-color: #800000\">│</span>   <span style=\"color: #7f7f7f; text-decoration-color: #7f7f7f\">785 │   </span>                                                                                       <span style=\"color: #800000; text-decoration-color: #800000\">│</span>\n",
                            "<span style=\"color: #800000; text-decoration-color: #800000\">│</span>   <span style=\"color: #7f7f7f; text-decoration-color: #7f7f7f\">786 │   </span><span style=\"color: #0000ff; text-decoration-color: #0000ff\">if</span> isstring(p):                                                                        <span style=\"color: #800000; text-decoration-color: #800000\">│</span>\n",
                            "<span style=\"color: #800000; text-decoration-color: #800000\">│</span>   <span style=\"color: #7f7f7f; text-decoration-color: #7f7f7f\">787 │   │   </span>pattern = p                                                                        <span style=\"color: #800000; text-decoration-color: #800000\">│</span>\n",
                            "<span style=\"color: #800000; text-decoration-color: #800000\">│</span> <span style=\"color: #800000; text-decoration-color: #800000\">❱ </span>788 <span style=\"color: #7f7f7f; text-decoration-color: #7f7f7f\">│   │   </span>p = sre_parse.parse(p, flags)                                                      <span style=\"color: #800000; text-decoration-color: #800000\">│</span>\n",
                            "<span style=\"color: #800000; text-decoration-color: #800000\">│</span>   <span style=\"color: #7f7f7f; text-decoration-color: #7f7f7f\">789 │   </span><span style=\"color: #0000ff; text-decoration-color: #0000ff\">else</span>:                                                                                  <span style=\"color: #800000; text-decoration-color: #800000\">│</span>\n",
                            "<span style=\"color: #800000; text-decoration-color: #800000\">│</span>   <span style=\"color: #7f7f7f; text-decoration-color: #7f7f7f\">790 │   │   </span>pattern = <span style=\"color: #0000ff; text-decoration-color: #0000ff\">None</span>                                                                     <span style=\"color: #800000; text-decoration-color: #800000\">│</span>\n",
                            "<span style=\"color: #800000; text-decoration-color: #800000\">│</span>   <span style=\"color: #7f7f7f; text-decoration-color: #7f7f7f\">791 </span>                                                                                           <span style=\"color: #800000; text-decoration-color: #800000\">│</span>\n",
                            "<span style=\"color: #800000; text-decoration-color: #800000\">│</span>                                                                                                  <span style=\"color: #800000; text-decoration-color: #800000\">│</span>\n",
                            "<span style=\"color: #800000; text-decoration-color: #800000\">│</span> <span style=\"color: #bfbf7f; text-decoration-color: #bfbf7f\">/opt/homebrew/Caskroom/mambaforge/base/envs/study1_3.10/lib/python3.10/</span><span style=\"color: #808000; text-decoration-color: #808000; font-weight: bold\">sre_parse.py</span>:<span style=\"color: #0000ff; text-decoration-color: #0000ff\">955</span> in <span style=\"color: #00ff00; text-decoration-color: #00ff00\">parse</span> <span style=\"color: #800000; text-decoration-color: #800000\">│</span>\n",
                            "<span style=\"color: #800000; text-decoration-color: #800000\">│</span>                                                                                                  <span style=\"color: #800000; text-decoration-color: #800000\">│</span>\n",
                            "<span style=\"color: #800000; text-decoration-color: #800000\">│</span>   <span style=\"color: #7f7f7f; text-decoration-color: #7f7f7f\"> 952 │   </span>state.str = <span style=\"color: #00ffff; text-decoration-color: #00ffff\">str</span>                                                                       <span style=\"color: #800000; text-decoration-color: #800000\">│</span>\n",
                            "<span style=\"color: #800000; text-decoration-color: #800000\">│</span>   <span style=\"color: #7f7f7f; text-decoration-color: #7f7f7f\"> 953 │   </span>                                                                                      <span style=\"color: #800000; text-decoration-color: #800000\">│</span>\n",
                            "<span style=\"color: #800000; text-decoration-color: #800000\">│</span>   <span style=\"color: #7f7f7f; text-decoration-color: #7f7f7f\"> 954 │   </span><span style=\"color: #0000ff; text-decoration-color: #0000ff\">try</span>:                                                                                  <span style=\"color: #800000; text-decoration-color: #800000\">│</span>\n",
                            "<span style=\"color: #800000; text-decoration-color: #800000\">│</span> <span style=\"color: #800000; text-decoration-color: #800000\">❱ </span> 955 <span style=\"color: #7f7f7f; text-decoration-color: #7f7f7f\">│   │   </span>p = _parse_sub(source, state, flags &amp; SRE_FLAG_VERBOSE, <span style=\"color: #0000ff; text-decoration-color: #0000ff\">0</span>)                        <span style=\"color: #800000; text-decoration-color: #800000\">│</span>\n",
                            "<span style=\"color: #800000; text-decoration-color: #800000\">│</span>   <span style=\"color: #7f7f7f; text-decoration-color: #7f7f7f\"> 956 │   </span><span style=\"color: #0000ff; text-decoration-color: #0000ff\">except</span> Verbose:                                                                       <span style=\"color: #800000; text-decoration-color: #800000\">│</span>\n",
                            "<span style=\"color: #800000; text-decoration-color: #800000\">│</span>   <span style=\"color: #7f7f7f; text-decoration-color: #7f7f7f\"> 957 │   │   # the VERBOSE flag was switched on inside the pattern.  to be</span>                     <span style=\"color: #800000; text-decoration-color: #800000\">│</span>\n",
                            "<span style=\"color: #800000; text-decoration-color: #800000\">│</span>   <span style=\"color: #7f7f7f; text-decoration-color: #7f7f7f\"> 958 │   │   # on the safe side, we'll parse the whole thing again...</span>                          <span style=\"color: #800000; text-decoration-color: #800000\">│</span>\n",
                            "<span style=\"color: #800000; text-decoration-color: #800000\">│</span>                                                                                                  <span style=\"color: #800000; text-decoration-color: #800000\">│</span>\n",
                            "<span style=\"color: #800000; text-decoration-color: #800000\">│</span> <span style=\"color: #bfbf7f; text-decoration-color: #bfbf7f\">/opt/homebrew/Caskroom/mambaforge/base/envs/study1_3.10/lib/python3.10/</span><span style=\"color: #808000; text-decoration-color: #808000; font-weight: bold\">sre_parse.py</span>:<span style=\"color: #0000ff; text-decoration-color: #0000ff\">444</span> in       <span style=\"color: #800000; text-decoration-color: #800000\">│</span>\n",
                            "<span style=\"color: #800000; text-decoration-color: #800000\">│</span> <span style=\"color: #00ff00; text-decoration-color: #00ff00\">_parse_sub</span>                                                                                       <span style=\"color: #800000; text-decoration-color: #800000\">│</span>\n",
                            "<span style=\"color: #800000; text-decoration-color: #800000\">│</span>                                                                                                  <span style=\"color: #800000; text-decoration-color: #800000\">│</span>\n",
                            "<span style=\"color: #800000; text-decoration-color: #800000\">│</span>   <span style=\"color: #7f7f7f; text-decoration-color: #7f7f7f\"> 441 │   </span>sourcematch = source.match                                                            <span style=\"color: #800000; text-decoration-color: #800000\">│</span>\n",
                            "<span style=\"color: #800000; text-decoration-color: #800000\">│</span>   <span style=\"color: #7f7f7f; text-decoration-color: #7f7f7f\"> 442 │   </span>start = source.tell()                                                                 <span style=\"color: #800000; text-decoration-color: #800000\">│</span>\n",
                            "<span style=\"color: #800000; text-decoration-color: #800000\">│</span>   <span style=\"color: #7f7f7f; text-decoration-color: #7f7f7f\"> 443 │   </span><span style=\"color: #0000ff; text-decoration-color: #0000ff\">while</span> <span style=\"color: #0000ff; text-decoration-color: #0000ff\">True</span>:                                                                           <span style=\"color: #800000; text-decoration-color: #800000\">│</span>\n",
                            "<span style=\"color: #800000; text-decoration-color: #800000\">│</span> <span style=\"color: #800000; text-decoration-color: #800000\">❱ </span> 444 <span style=\"color: #7f7f7f; text-decoration-color: #7f7f7f\">│   │   </span>itemsappend(_parse(source, state, verbose, nested + <span style=\"color: #0000ff; text-decoration-color: #0000ff\">1</span>,                            <span style=\"color: #800000; text-decoration-color: #800000\">│</span>\n",
                            "<span style=\"color: #800000; text-decoration-color: #800000\">│</span>   <span style=\"color: #7f7f7f; text-decoration-color: #7f7f7f\"> 445 │   │   │   │   │   │      </span><span style=\"color: #ff00ff; text-decoration-color: #ff00ff\">not</span> nested <span style=\"color: #ff00ff; text-decoration-color: #ff00ff\">and</span> <span style=\"color: #ff00ff; text-decoration-color: #ff00ff\">not</span> items))                                     <span style=\"color: #800000; text-decoration-color: #800000\">│</span>\n",
                            "<span style=\"color: #800000; text-decoration-color: #800000\">│</span>   <span style=\"color: #7f7f7f; text-decoration-color: #7f7f7f\"> 446 │   │   </span><span style=\"color: #0000ff; text-decoration-color: #0000ff\">if</span> <span style=\"color: #ff00ff; text-decoration-color: #ff00ff\">not</span> sourcematch(<span style=\"color: #808000; text-decoration-color: #808000\">\"|\"</span>):                                                          <span style=\"color: #800000; text-decoration-color: #800000\">│</span>\n",
                            "<span style=\"color: #800000; text-decoration-color: #800000\">│</span>   <span style=\"color: #7f7f7f; text-decoration-color: #7f7f7f\"> 447 │   │   │   </span><span style=\"color: #0000ff; text-decoration-color: #0000ff\">break</span>                                                                         <span style=\"color: #800000; text-decoration-color: #800000\">│</span>\n",
                            "<span style=\"color: #800000; text-decoration-color: #800000\">│</span>                                                                                                  <span style=\"color: #800000; text-decoration-color: #800000\">│</span>\n",
                            "<span style=\"color: #800000; text-decoration-color: #800000\">│</span> <span style=\"color: #bfbf7f; text-decoration-color: #bfbf7f\">/opt/homebrew/Caskroom/mambaforge/base/envs/study1_3.10/lib/python3.10/</span><span style=\"color: #808000; text-decoration-color: #808000; font-weight: bold\">sre_parse.py</span>:<span style=\"color: #0000ff; text-decoration-color: #0000ff\">508</span> in       <span style=\"color: #800000; text-decoration-color: #800000\">│</span>\n",
                            "<span style=\"color: #800000; text-decoration-color: #800000\">│</span> <span style=\"color: #00ff00; text-decoration-color: #00ff00\">_parse</span>                                                                                           <span style=\"color: #800000; text-decoration-color: #800000\">│</span>\n",
                            "<span style=\"color: #800000; text-decoration-color: #800000\">│</span>                                                                                                  <span style=\"color: #800000; text-decoration-color: #800000\">│</span>\n",
                            "<span style=\"color: #800000; text-decoration-color: #800000\">│</span>   <span style=\"color: #7f7f7f; text-decoration-color: #7f7f7f\"> 505 │   </span><span style=\"color: #0000ff; text-decoration-color: #0000ff\">while</span> <span style=\"color: #0000ff; text-decoration-color: #0000ff\">True</span>:                                                                           <span style=\"color: #800000; text-decoration-color: #800000\">│</span>\n",
                            "<span style=\"color: #800000; text-decoration-color: #800000\">│</span>   <span style=\"color: #7f7f7f; text-decoration-color: #7f7f7f\"> 506 │   │   </span>                                                                                  <span style=\"color: #800000; text-decoration-color: #800000\">│</span>\n",
                            "<span style=\"color: #800000; text-decoration-color: #800000\">│</span>   <span style=\"color: #7f7f7f; text-decoration-color: #7f7f7f\"> 507 │   │   </span>this = source.next                                                                <span style=\"color: #800000; text-decoration-color: #800000\">│</span>\n",
                            "<span style=\"color: #800000; text-decoration-color: #800000\">│</span> <span style=\"color: #800000; text-decoration-color: #800000\">❱ </span> 508 <span style=\"color: #7f7f7f; text-decoration-color: #7f7f7f\">│   │   </span><span style=\"color: #0000ff; text-decoration-color: #0000ff\">if</span> this <span style=\"color: #ff00ff; text-decoration-color: #ff00ff\">is</span> <span style=\"color: #0000ff; text-decoration-color: #0000ff\">None</span>:                                                                  <span style=\"color: #800000; text-decoration-color: #800000\">│</span>\n",
                            "<span style=\"color: #800000; text-decoration-color: #800000\">│</span>   <span style=\"color: #7f7f7f; text-decoration-color: #7f7f7f\"> 509 │   │   │   </span><span style=\"color: #0000ff; text-decoration-color: #0000ff\">break</span> <span style=\"color: #7f7f7f; text-decoration-color: #7f7f7f\"># end of pattern</span>                                                        <span style=\"color: #800000; text-decoration-color: #800000\">│</span>\n",
                            "<span style=\"color: #800000; text-decoration-color: #800000\">│</span>   <span style=\"color: #7f7f7f; text-decoration-color: #7f7f7f\"> 510 │   │   </span><span style=\"color: #0000ff; text-decoration-color: #0000ff\">if</span> this <span style=\"color: #ff00ff; text-decoration-color: #ff00ff\">in</span> <span style=\"color: #808000; text-decoration-color: #808000\">\"|)\"</span>:                                                                  <span style=\"color: #800000; text-decoration-color: #800000\">│</span>\n",
                            "<span style=\"color: #800000; text-decoration-color: #800000\">│</span>   <span style=\"color: #7f7f7f; text-decoration-color: #7f7f7f\"> 511 │   │   │   </span><span style=\"color: #0000ff; text-decoration-color: #0000ff\">break</span> <span style=\"color: #7f7f7f; text-decoration-color: #7f7f7f\"># end of subpattern</span>                                                     <span style=\"color: #800000; text-decoration-color: #800000\">│</span>\n",
                            "<span style=\"color: #800000; text-decoration-color: #800000\">╰──────────────────────────────────────────────────────────────────────────────────────────────────╯</span>\n",
                            "<span style=\"color: #ff0000; text-decoration-color: #ff0000; font-weight: bold\">KeyboardInterrupt</span>\n",
                            "</pre>\n"
                        ],
                        "text/plain": [
                            "\u001b[31m╭─\u001b[0m\u001b[31m──────────────────────────────\u001b[0m\u001b[31m \u001b[0m\u001b[1;31mTraceback \u001b[0m\u001b[1;2;31m(most recent call last)\u001b[0m\u001b[31m \u001b[0m\u001b[31m───────────────────────────────\u001b[0m\u001b[31m─╮\u001b[0m\n",
                            "\u001b[31m│\u001b[0m \u001b[2;33m/opt/homebrew/Caskroom/mambaforge/base/envs/study1_3.10/lib/python3.10/site-packages/IPython/cor\u001b[0m \u001b[31m│\u001b[0m\n",
                            "\u001b[31m│\u001b[0m \u001b[2;33me/magics/\u001b[0m\u001b[1;33mexecution.py\u001b[0m:\u001b[94m1325\u001b[0m in \u001b[92mtime\u001b[0m                                                               \u001b[31m│\u001b[0m\n",
                            "\u001b[31m│\u001b[0m                                                                                                  \u001b[31m│\u001b[0m\n",
                            "\u001b[31m│\u001b[0m   \u001b[2m1322 \u001b[0m\u001b[2m│   │   \u001b[0m\u001b[94melse\u001b[0m:                                                                             \u001b[31m│\u001b[0m\n",
                            "\u001b[31m│\u001b[0m   \u001b[2m1323 \u001b[0m\u001b[2m│   │   │   \u001b[0mst = clock2()                                                                 \u001b[31m│\u001b[0m\n",
                            "\u001b[31m│\u001b[0m   \u001b[2m1324 \u001b[0m\u001b[2m│   │   │   \u001b[0m\u001b[94mtry\u001b[0m:                                                                          \u001b[31m│\u001b[0m\n",
                            "\u001b[31m│\u001b[0m \u001b[31m❱ \u001b[0m1325 \u001b[2m│   │   │   │   \u001b[0mexec(code, glob, local_ns)                                                \u001b[31m│\u001b[0m\n",
                            "\u001b[31m│\u001b[0m   \u001b[2m1326 \u001b[0m\u001b[2m│   │   │   │   \u001b[0mout=\u001b[94mNone\u001b[0m                                                                  \u001b[31m│\u001b[0m\n",
                            "\u001b[31m│\u001b[0m   \u001b[2m1327 \u001b[0m\u001b[2m│   │   │   │   \u001b[0m\u001b[2m# multi-line %%time case\u001b[0m                                                  \u001b[31m│\u001b[0m\n",
                            "\u001b[31m│\u001b[0m   \u001b[2m1328 \u001b[0m\u001b[2m│   │   │   │   \u001b[0m\u001b[94mif\u001b[0m expr_val \u001b[95mis\u001b[0m \u001b[95mnot\u001b[0m \u001b[94mNone\u001b[0m:                                                  \u001b[31m│\u001b[0m\n",
                            "\u001b[31m│\u001b[0m \u001b[33m<timed exec>\u001b[0m:\u001b[94m21\u001b[0m in \u001b[92m<module>\u001b[0m                                                                      \u001b[31m│\u001b[0m\n",
                            "\u001b[31m│\u001b[0m                                                                                                  \u001b[31m│\u001b[0m\n",
                            "\u001b[31m│\u001b[0m \u001b[2;33m/opt/homebrew/Caskroom/mambaforge/base/envs/study1_3.10/lib/python3.10/site-packages/pandas/util\u001b[0m \u001b[31m│\u001b[0m\n",
                            "\u001b[31m│\u001b[0m \u001b[2;33m/\u001b[0m\u001b[1;33m_decorators.py\u001b[0m:\u001b[94m331\u001b[0m in \u001b[92mwrapper\u001b[0m                                                                   \u001b[31m│\u001b[0m\n",
                            "\u001b[31m│\u001b[0m                                                                                                  \u001b[31m│\u001b[0m\n",
                            "\u001b[31m│\u001b[0m   \u001b[2m328 \u001b[0m\u001b[2m│   │   │   │   │   \u001b[0m\u001b[96mFutureWarning\u001b[0m,                                                         \u001b[31m│\u001b[0m\n",
                            "\u001b[31m│\u001b[0m   \u001b[2m329 \u001b[0m\u001b[2m│   │   │   │   │   \u001b[0mstacklevel=find_stack_level(),                                         \u001b[31m│\u001b[0m\n",
                            "\u001b[31m│\u001b[0m   \u001b[2m330 \u001b[0m\u001b[2m│   │   │   │   \u001b[0m)                                                                          \u001b[31m│\u001b[0m\n",
                            "\u001b[31m│\u001b[0m \u001b[31m❱ \u001b[0m331 \u001b[2m│   │   │   \u001b[0m\u001b[94mreturn\u001b[0m func(*args, **kwargs)                                                   \u001b[31m│\u001b[0m\n",
                            "\u001b[31m│\u001b[0m   \u001b[2m332 \u001b[0m\u001b[2m│   │   \u001b[0m                                                                                   \u001b[31m│\u001b[0m\n",
                            "\u001b[31m│\u001b[0m   \u001b[2m333 \u001b[0m\u001b[2m│   │   \u001b[0m\u001b[2m# error: \"Callable[[VarArg(Any), KwArg(Any)], Any]\" has no\u001b[0m                         \u001b[31m│\u001b[0m\n",
                            "\u001b[31m│\u001b[0m   \u001b[2m334 \u001b[0m\u001b[2m│   │   \u001b[0m\u001b[2m# attribute \"__signature__\"\u001b[0m                                                        \u001b[31m│\u001b[0m\n",
                            "\u001b[31m│\u001b[0m                                                                                                  \u001b[31m│\u001b[0m\n",
                            "\u001b[31m│\u001b[0m \u001b[2;33m/opt/homebrew/Caskroom/mambaforge/base/envs/study1_3.10/lib/python3.10/site-packages/pandas/core\u001b[0m \u001b[31m│\u001b[0m\n",
                            "\u001b[31m│\u001b[0m \u001b[2;33m/\u001b[0m\u001b[1;33mseries.py\u001b[0m:\u001b[94m5380\u001b[0m in \u001b[92mreplace\u001b[0m                                                                       \u001b[31m│\u001b[0m\n",
                            "\u001b[31m│\u001b[0m                                                                                                  \u001b[31m│\u001b[0m\n",
                            "\u001b[31m│\u001b[0m   \u001b[2m5377 \u001b[0m\u001b[2m│   │   \u001b[0mregex: \u001b[96mbool\u001b[0m = \u001b[94mFalse\u001b[0m,                                                              \u001b[31m│\u001b[0m\n",
                            "\u001b[31m│\u001b[0m   \u001b[2m5378 \u001b[0m\u001b[2m│   │   \u001b[0mmethod: Literal[\u001b[33m\"\u001b[0m\u001b[33mpad\u001b[0m\u001b[33m\"\u001b[0m, \u001b[33m\"\u001b[0m\u001b[33mffill\u001b[0m\u001b[33m\"\u001b[0m, \u001b[33m\"\u001b[0m\u001b[33mbfill\u001b[0m\u001b[33m\"\u001b[0m] | lib.NoDefault = lib.no_default,        \u001b[31m│\u001b[0m\n",
                            "\u001b[31m│\u001b[0m   \u001b[2m5379 \u001b[0m\u001b[2m│   \u001b[0m) -> Series | \u001b[94mNone\u001b[0m:                                                                   \u001b[31m│\u001b[0m\n",
                            "\u001b[31m│\u001b[0m \u001b[31m❱ \u001b[0m5380 \u001b[2m│   │   \u001b[0m\u001b[94mreturn\u001b[0m \u001b[96msuper\u001b[0m().replace(                                                           \u001b[31m│\u001b[0m\n",
                            "\u001b[31m│\u001b[0m   \u001b[2m5381 \u001b[0m\u001b[2m│   │   │   \u001b[0mto_replace=to_replace,                                                        \u001b[31m│\u001b[0m\n",
                            "\u001b[31m│\u001b[0m   \u001b[2m5382 \u001b[0m\u001b[2m│   │   │   \u001b[0mvalue=value,                                                                  \u001b[31m│\u001b[0m\n",
                            "\u001b[31m│\u001b[0m   \u001b[2m5383 \u001b[0m\u001b[2m│   │   │   \u001b[0minplace=inplace,                                                              \u001b[31m│\u001b[0m\n",
                            "\u001b[31m│\u001b[0m                                                                                                  \u001b[31m│\u001b[0m\n",
                            "\u001b[31m│\u001b[0m \u001b[2;33m/opt/homebrew/Caskroom/mambaforge/base/envs/study1_3.10/lib/python3.10/site-packages/pandas/util\u001b[0m \u001b[31m│\u001b[0m\n",
                            "\u001b[31m│\u001b[0m \u001b[2;33m/\u001b[0m\u001b[1;33m_decorators.py\u001b[0m:\u001b[94m331\u001b[0m in \u001b[92mwrapper\u001b[0m                                                                   \u001b[31m│\u001b[0m\n",
                            "\u001b[31m│\u001b[0m                                                                                                  \u001b[31m│\u001b[0m\n",
                            "\u001b[31m│\u001b[0m   \u001b[2m328 \u001b[0m\u001b[2m│   │   │   │   │   \u001b[0m\u001b[96mFutureWarning\u001b[0m,                                                         \u001b[31m│\u001b[0m\n",
                            "\u001b[31m│\u001b[0m   \u001b[2m329 \u001b[0m\u001b[2m│   │   │   │   │   \u001b[0mstacklevel=find_stack_level(),                                         \u001b[31m│\u001b[0m\n",
                            "\u001b[31m│\u001b[0m   \u001b[2m330 \u001b[0m\u001b[2m│   │   │   │   \u001b[0m)                                                                          \u001b[31m│\u001b[0m\n",
                            "\u001b[31m│\u001b[0m \u001b[31m❱ \u001b[0m331 \u001b[2m│   │   │   \u001b[0m\u001b[94mreturn\u001b[0m func(*args, **kwargs)                                                   \u001b[31m│\u001b[0m\n",
                            "\u001b[31m│\u001b[0m   \u001b[2m332 \u001b[0m\u001b[2m│   │   \u001b[0m                                                                                   \u001b[31m│\u001b[0m\n",
                            "\u001b[31m│\u001b[0m   \u001b[2m333 \u001b[0m\u001b[2m│   │   \u001b[0m\u001b[2m# error: \"Callable[[VarArg(Any), KwArg(Any)], Any]\" has no\u001b[0m                         \u001b[31m│\u001b[0m\n",
                            "\u001b[31m│\u001b[0m   \u001b[2m334 \u001b[0m\u001b[2m│   │   \u001b[0m\u001b[2m# attribute \"__signature__\"\u001b[0m                                                        \u001b[31m│\u001b[0m\n",
                            "\u001b[31m│\u001b[0m                                                                                                  \u001b[31m│\u001b[0m\n",
                            "\u001b[31m│\u001b[0m \u001b[2;33m/opt/homebrew/Caskroom/mambaforge/base/envs/study1_3.10/lib/python3.10/site-packages/pandas/core\u001b[0m \u001b[31m│\u001b[0m\n",
                            "\u001b[31m│\u001b[0m \u001b[2;33m/\u001b[0m\u001b[1;33mgeneric.py\u001b[0m:\u001b[94m7188\u001b[0m in \u001b[92mreplace\u001b[0m                                                                      \u001b[31m│\u001b[0m\n",
                            "\u001b[31m│\u001b[0m                                                                                                  \u001b[31m│\u001b[0m\n",
                            "\u001b[31m│\u001b[0m   \u001b[2m 7185 \u001b[0m\u001b[2m│   │   │   \u001b[0m\u001b[94melse\u001b[0m:                                                                        \u001b[31m│\u001b[0m\n",
                            "\u001b[31m│\u001b[0m   \u001b[2m 7186 \u001b[0m\u001b[2m│   │   │   │   \u001b[0mto_replace, value = keys, values                                         \u001b[31m│\u001b[0m\n",
                            "\u001b[31m│\u001b[0m   \u001b[2m 7187 \u001b[0m\u001b[2m│   │   │   \u001b[0m                                                                             \u001b[31m│\u001b[0m\n",
                            "\u001b[31m│\u001b[0m \u001b[31m❱ \u001b[0m 7188 \u001b[2m│   │   │   \u001b[0m\u001b[94mreturn\u001b[0m \u001b[96mself\u001b[0m.replace(                                                         \u001b[31m│\u001b[0m\n",
                            "\u001b[31m│\u001b[0m   \u001b[2m 7189 \u001b[0m\u001b[2m│   │   │   │   \u001b[0mto_replace, value, inplace=inplace, limit=limit, regex=regex             \u001b[31m│\u001b[0m\n",
                            "\u001b[31m│\u001b[0m   \u001b[2m 7190 \u001b[0m\u001b[2m│   │   │   \u001b[0m)                                                                            \u001b[31m│\u001b[0m\n",
                            "\u001b[31m│\u001b[0m   \u001b[2m 7191 \u001b[0m\u001b[2m│   │   \u001b[0m\u001b[94melse\u001b[0m:                                                                            \u001b[31m│\u001b[0m\n",
                            "\u001b[31m│\u001b[0m                                                                                                  \u001b[31m│\u001b[0m\n",
                            "\u001b[31m│\u001b[0m \u001b[2;33m/opt/homebrew/Caskroom/mambaforge/base/envs/study1_3.10/lib/python3.10/site-packages/pandas/util\u001b[0m \u001b[31m│\u001b[0m\n",
                            "\u001b[31m│\u001b[0m \u001b[2;33m/\u001b[0m\u001b[1;33m_decorators.py\u001b[0m:\u001b[94m331\u001b[0m in \u001b[92mwrapper\u001b[0m                                                                   \u001b[31m│\u001b[0m\n",
                            "\u001b[31m│\u001b[0m                                                                                                  \u001b[31m│\u001b[0m\n",
                            "\u001b[31m│\u001b[0m   \u001b[2m328 \u001b[0m\u001b[2m│   │   │   │   │   \u001b[0m\u001b[96mFutureWarning\u001b[0m,                                                         \u001b[31m│\u001b[0m\n",
                            "\u001b[31m│\u001b[0m   \u001b[2m329 \u001b[0m\u001b[2m│   │   │   │   │   \u001b[0mstacklevel=find_stack_level(),                                         \u001b[31m│\u001b[0m\n",
                            "\u001b[31m│\u001b[0m   \u001b[2m330 \u001b[0m\u001b[2m│   │   │   │   \u001b[0m)                                                                          \u001b[31m│\u001b[0m\n",
                            "\u001b[31m│\u001b[0m \u001b[31m❱ \u001b[0m331 \u001b[2m│   │   │   \u001b[0m\u001b[94mreturn\u001b[0m func(*args, **kwargs)                                                   \u001b[31m│\u001b[0m\n",
                            "\u001b[31m│\u001b[0m   \u001b[2m332 \u001b[0m\u001b[2m│   │   \u001b[0m                                                                                   \u001b[31m│\u001b[0m\n",
                            "\u001b[31m│\u001b[0m   \u001b[2m333 \u001b[0m\u001b[2m│   │   \u001b[0m\u001b[2m# error: \"Callable[[VarArg(Any), KwArg(Any)], Any]\" has no\u001b[0m                         \u001b[31m│\u001b[0m\n",
                            "\u001b[31m│\u001b[0m   \u001b[2m334 \u001b[0m\u001b[2m│   │   \u001b[0m\u001b[2m# attribute \"__signature__\"\u001b[0m                                                        \u001b[31m│\u001b[0m\n",
                            "\u001b[31m│\u001b[0m                                                                                                  \u001b[31m│\u001b[0m\n",
                            "\u001b[31m│\u001b[0m \u001b[2;33m/opt/homebrew/Caskroom/mambaforge/base/envs/study1_3.10/lib/python3.10/site-packages/pandas/core\u001b[0m \u001b[31m│\u001b[0m\n",
                            "\u001b[31m│\u001b[0m \u001b[2;33m/\u001b[0m\u001b[1;33mseries.py\u001b[0m:\u001b[94m5380\u001b[0m in \u001b[92mreplace\u001b[0m                                                                       \u001b[31m│\u001b[0m\n",
                            "\u001b[31m│\u001b[0m                                                                                                  \u001b[31m│\u001b[0m\n",
                            "\u001b[31m│\u001b[0m   \u001b[2m5377 \u001b[0m\u001b[2m│   │   \u001b[0mregex: \u001b[96mbool\u001b[0m = \u001b[94mFalse\u001b[0m,                                                              \u001b[31m│\u001b[0m\n",
                            "\u001b[31m│\u001b[0m   \u001b[2m5378 \u001b[0m\u001b[2m│   │   \u001b[0mmethod: Literal[\u001b[33m\"\u001b[0m\u001b[33mpad\u001b[0m\u001b[33m\"\u001b[0m, \u001b[33m\"\u001b[0m\u001b[33mffill\u001b[0m\u001b[33m\"\u001b[0m, \u001b[33m\"\u001b[0m\u001b[33mbfill\u001b[0m\u001b[33m\"\u001b[0m] | lib.NoDefault = lib.no_default,        \u001b[31m│\u001b[0m\n",
                            "\u001b[31m│\u001b[0m   \u001b[2m5379 \u001b[0m\u001b[2m│   \u001b[0m) -> Series | \u001b[94mNone\u001b[0m:                                                                   \u001b[31m│\u001b[0m\n",
                            "\u001b[31m│\u001b[0m \u001b[31m❱ \u001b[0m5380 \u001b[2m│   │   \u001b[0m\u001b[94mreturn\u001b[0m \u001b[96msuper\u001b[0m().replace(                                                           \u001b[31m│\u001b[0m\n",
                            "\u001b[31m│\u001b[0m   \u001b[2m5381 \u001b[0m\u001b[2m│   │   │   \u001b[0mto_replace=to_replace,                                                        \u001b[31m│\u001b[0m\n",
                            "\u001b[31m│\u001b[0m   \u001b[2m5382 \u001b[0m\u001b[2m│   │   │   \u001b[0mvalue=value,                                                                  \u001b[31m│\u001b[0m\n",
                            "\u001b[31m│\u001b[0m   \u001b[2m5383 \u001b[0m\u001b[2m│   │   │   \u001b[0minplace=inplace,                                                              \u001b[31m│\u001b[0m\n",
                            "\u001b[31m│\u001b[0m                                                                                                  \u001b[31m│\u001b[0m\n",
                            "\u001b[31m│\u001b[0m \u001b[2;33m/opt/homebrew/Caskroom/mambaforge/base/envs/study1_3.10/lib/python3.10/site-packages/pandas/util\u001b[0m \u001b[31m│\u001b[0m\n",
                            "\u001b[31m│\u001b[0m \u001b[2;33m/\u001b[0m\u001b[1;33m_decorators.py\u001b[0m:\u001b[94m331\u001b[0m in \u001b[92mwrapper\u001b[0m                                                                   \u001b[31m│\u001b[0m\n",
                            "\u001b[31m│\u001b[0m                                                                                                  \u001b[31m│\u001b[0m\n",
                            "\u001b[31m│\u001b[0m   \u001b[2m328 \u001b[0m\u001b[2m│   │   │   │   │   \u001b[0m\u001b[96mFutureWarning\u001b[0m,                                                         \u001b[31m│\u001b[0m\n",
                            "\u001b[31m│\u001b[0m   \u001b[2m329 \u001b[0m\u001b[2m│   │   │   │   │   \u001b[0mstacklevel=find_stack_level(),                                         \u001b[31m│\u001b[0m\n",
                            "\u001b[31m│\u001b[0m   \u001b[2m330 \u001b[0m\u001b[2m│   │   │   │   \u001b[0m)                                                                          \u001b[31m│\u001b[0m\n",
                            "\u001b[31m│\u001b[0m \u001b[31m❱ \u001b[0m331 \u001b[2m│   │   │   \u001b[0m\u001b[94mreturn\u001b[0m func(*args, **kwargs)                                                   \u001b[31m│\u001b[0m\n",
                            "\u001b[31m│\u001b[0m   \u001b[2m332 \u001b[0m\u001b[2m│   │   \u001b[0m                                                                                   \u001b[31m│\u001b[0m\n",
                            "\u001b[31m│\u001b[0m   \u001b[2m333 \u001b[0m\u001b[2m│   │   \u001b[0m\u001b[2m# error: \"Callable[[VarArg(Any), KwArg(Any)], Any]\" has no\u001b[0m                         \u001b[31m│\u001b[0m\n",
                            "\u001b[31m│\u001b[0m   \u001b[2m334 \u001b[0m\u001b[2m│   │   \u001b[0m\u001b[2m# attribute \"__signature__\"\u001b[0m                                                        \u001b[31m│\u001b[0m\n",
                            "\u001b[31m│\u001b[0m                                                                                                  \u001b[31m│\u001b[0m\n",
                            "\u001b[31m│\u001b[0m \u001b[2;33m/opt/homebrew/Caskroom/mambaforge/base/envs/study1_3.10/lib/python3.10/site-packages/pandas/core\u001b[0m \u001b[31m│\u001b[0m\n",
                            "\u001b[31m│\u001b[0m \u001b[2;33m/\u001b[0m\u001b[1;33mgeneric.py\u001b[0m:\u001b[94m7237\u001b[0m in \u001b[92mreplace\u001b[0m                                                                      \u001b[31m│\u001b[0m\n",
                            "\u001b[31m│\u001b[0m                                                                                                  \u001b[31m│\u001b[0m\n",
                            "\u001b[31m│\u001b[0m   \u001b[2m 7234 \u001b[0m\u001b[2m│   │   │   │   │   │   \u001b[0m\u001b[33mf\u001b[0m\u001b[33m\"\u001b[0m\u001b[33mReplacement lists must match in length. \u001b[0m\u001b[33m\"\u001b[0m                      \u001b[31m│\u001b[0m\n",
                            "\u001b[31m│\u001b[0m   \u001b[2m 7235 \u001b[0m\u001b[2m│   │   │   │   │   │   \u001b[0m\u001b[33mf\u001b[0m\u001b[33m\"\u001b[0m\u001b[33mExpecting \u001b[0m\u001b[33m{\u001b[0m\u001b[96mlen\u001b[0m(to_replace)\u001b[33m}\u001b[0m\u001b[33m got \u001b[0m\u001b[33m{\u001b[0m\u001b[96mlen\u001b[0m(value)\u001b[33m}\u001b[0m\u001b[33m \u001b[0m\u001b[33m\"\u001b[0m                 \u001b[31m│\u001b[0m\n",
                            "\u001b[31m│\u001b[0m   \u001b[2m 7236 \u001b[0m\u001b[2m│   │   │   │   │   \u001b[0m)                                                                    \u001b[31m│\u001b[0m\n",
                            "\u001b[31m│\u001b[0m \u001b[31m❱ \u001b[0m 7237 \u001b[2m│   │   │   │   \u001b[0mnew_data = \u001b[96mself\u001b[0m._mgr.replace_list(                                       \u001b[31m│\u001b[0m\n",
                            "\u001b[31m│\u001b[0m   \u001b[2m 7238 \u001b[0m\u001b[2m│   │   │   │   │   \u001b[0msrc_list=to_replace,                                                 \u001b[31m│\u001b[0m\n",
                            "\u001b[31m│\u001b[0m   \u001b[2m 7239 \u001b[0m\u001b[2m│   │   │   │   │   \u001b[0mdest_list=value,                                                     \u001b[31m│\u001b[0m\n",
                            "\u001b[31m│\u001b[0m   \u001b[2m 7240 \u001b[0m\u001b[2m│   │   │   │   │   \u001b[0minplace=inplace,                                                     \u001b[31m│\u001b[0m\n",
                            "\u001b[31m│\u001b[0m                                                                                                  \u001b[31m│\u001b[0m\n",
                            "\u001b[31m│\u001b[0m \u001b[2;33m/opt/homebrew/Caskroom/mambaforge/base/envs/study1_3.10/lib/python3.10/site-packages/pandas/core\u001b[0m \u001b[31m│\u001b[0m\n",
                            "\u001b[31m│\u001b[0m \u001b[2;33m/internals/\u001b[0m\u001b[1;33mmanagers.py\u001b[0m:\u001b[94m487\u001b[0m in \u001b[92mreplace_list\u001b[0m                                                       \u001b[31m│\u001b[0m\n",
                            "\u001b[31m│\u001b[0m                                                                                                  \u001b[31m│\u001b[0m\n",
                            "\u001b[31m│\u001b[0m   \u001b[2m 484 \u001b[0m\u001b[2;90m│   │   \u001b[0m\u001b[33m\"\"\"do a list replace\"\"\"\u001b[0m                                                           \u001b[31m│\u001b[0m\n",
                            "\u001b[31m│\u001b[0m   \u001b[2m 485 \u001b[0m\u001b[2m│   │   \u001b[0minplace = validate_bool_kwarg(inplace, \u001b[33m\"\u001b[0m\u001b[33minplace\u001b[0m\u001b[33m\"\u001b[0m)                                 \u001b[31m│\u001b[0m\n",
                            "\u001b[31m│\u001b[0m   \u001b[2m 486 \u001b[0m\u001b[2m│   │   \u001b[0m                                                                                  \u001b[31m│\u001b[0m\n",
                            "\u001b[31m│\u001b[0m \u001b[31m❱ \u001b[0m 487 \u001b[2m│   │   \u001b[0mbm = \u001b[96mself\u001b[0m.apply(                                                                  \u001b[31m│\u001b[0m\n",
                            "\u001b[31m│\u001b[0m   \u001b[2m 488 \u001b[0m\u001b[2m│   │   │   \u001b[0m\u001b[33m\"\u001b[0m\u001b[33mreplace_list\u001b[0m\u001b[33m\"\u001b[0m,                                                               \u001b[31m│\u001b[0m\n",
                            "\u001b[31m│\u001b[0m   \u001b[2m 489 \u001b[0m\u001b[2m│   │   │   \u001b[0msrc_list=src_list,                                                            \u001b[31m│\u001b[0m\n",
                            "\u001b[31m│\u001b[0m   \u001b[2m 490 \u001b[0m\u001b[2m│   │   │   \u001b[0mdest_list=dest_list,                                                          \u001b[31m│\u001b[0m\n",
                            "\u001b[31m│\u001b[0m                                                                                                  \u001b[31m│\u001b[0m\n",
                            "\u001b[31m│\u001b[0m \u001b[2;33m/opt/homebrew/Caskroom/mambaforge/base/envs/study1_3.10/lib/python3.10/site-packages/pandas/core\u001b[0m \u001b[31m│\u001b[0m\n",
                            "\u001b[31m│\u001b[0m \u001b[2;33m/internals/\u001b[0m\u001b[1;33mmanagers.py\u001b[0m:\u001b[94m352\u001b[0m in \u001b[92mapply\u001b[0m                                                              \u001b[31m│\u001b[0m\n",
                            "\u001b[31m│\u001b[0m                                                                                                  \u001b[31m│\u001b[0m\n",
                            "\u001b[31m│\u001b[0m   \u001b[2m 349 \u001b[0m\u001b[2m│   │   │   │   \u001b[0m\u001b[94mif\u001b[0m callable(f):                                                           \u001b[31m│\u001b[0m\n",
                            "\u001b[31m│\u001b[0m   \u001b[2m 350 \u001b[0m\u001b[2m│   │   │   │   │   \u001b[0mapplied = b.apply(f, **kwargs)                                        \u001b[31m│\u001b[0m\n",
                            "\u001b[31m│\u001b[0m   \u001b[2m 351 \u001b[0m\u001b[2m│   │   │   │   \u001b[0m\u001b[94melse\u001b[0m:                                                                     \u001b[31m│\u001b[0m\n",
                            "\u001b[31m│\u001b[0m \u001b[31m❱ \u001b[0m 352 \u001b[2m│   │   │   │   │   \u001b[0mapplied = \u001b[96mgetattr\u001b[0m(b, f)(**kwargs)                                     \u001b[31m│\u001b[0m\n",
                            "\u001b[31m│\u001b[0m   \u001b[2m 353 \u001b[0m\u001b[2m│   │   │   \u001b[0m\u001b[94mexcept\u001b[0m (\u001b[96mTypeError\u001b[0m, \u001b[96mNotImplementedError\u001b[0m):                                      \u001b[31m│\u001b[0m\n",
                            "\u001b[31m│\u001b[0m   \u001b[2m 354 \u001b[0m\u001b[2m│   │   │   │   \u001b[0m\u001b[94mif\u001b[0m \u001b[95mnot\u001b[0m ignore_failures:                                                   \u001b[31m│\u001b[0m\n",
                            "\u001b[31m│\u001b[0m   \u001b[2m 355 \u001b[0m\u001b[2m│   │   │   │   │   \u001b[0m\u001b[94mraise\u001b[0m                                                                 \u001b[31m│\u001b[0m\n",
                            "\u001b[31m│\u001b[0m                                                                                                  \u001b[31m│\u001b[0m\n",
                            "\u001b[31m│\u001b[0m \u001b[2;33m/opt/homebrew/Caskroom/mambaforge/base/envs/study1_3.10/lib/python3.10/site-packages/pandas/core\u001b[0m \u001b[31m│\u001b[0m\n",
                            "\u001b[31m│\u001b[0m \u001b[2;33m/internals/\u001b[0m\u001b[1;33mblocks.py\u001b[0m:\u001b[94m705\u001b[0m in \u001b[92mreplace_list\u001b[0m                                                         \u001b[31m│\u001b[0m\n",
                            "\u001b[31m│\u001b[0m                                                                                                  \u001b[31m│\u001b[0m\n",
                            "\u001b[31m│\u001b[0m   \u001b[2m 702 \u001b[0m\u001b[2m│   │   │   \u001b[0m\u001b[2m# Calculate the mask once, prior to the call of comp\u001b[0m                          \u001b[31m│\u001b[0m\n",
                            "\u001b[31m│\u001b[0m   \u001b[2m 703 \u001b[0m\u001b[2m│   │   │   \u001b[0m\u001b[2m# in order to avoid repeating the same computations\u001b[0m                           \u001b[31m│\u001b[0m\n",
                            "\u001b[31m│\u001b[0m   \u001b[2m 704 \u001b[0m\u001b[2m│   │   │   \u001b[0mmask = ~isna(values)                                                          \u001b[31m│\u001b[0m\n",
                            "\u001b[31m│\u001b[0m \u001b[31m❱ \u001b[0m 705 \u001b[2m│   │   │   \u001b[0mmasks = [                                                                     \u001b[31m│\u001b[0m\n",
                            "\u001b[31m│\u001b[0m   \u001b[2m 706 \u001b[0m\u001b[2m│   │   │   │   \u001b[0mcompare_or_regex_search(values, s[\u001b[94m0\u001b[0m], regex=regex, mask=mask)             \u001b[31m│\u001b[0m\n",
                            "\u001b[31m│\u001b[0m   \u001b[2m 707 \u001b[0m\u001b[2m│   │   │   │   \u001b[0m\u001b[94mfor\u001b[0m s \u001b[95min\u001b[0m pairs                                                            \u001b[31m│\u001b[0m\n",
                            "\u001b[31m│\u001b[0m   \u001b[2m 708 \u001b[0m\u001b[2m│   │   │   \u001b[0m]                                                                             \u001b[31m│\u001b[0m\n",
                            "\u001b[31m│\u001b[0m                                                                                                  \u001b[31m│\u001b[0m\n",
                            "\u001b[31m│\u001b[0m \u001b[2;33m/opt/homebrew/Caskroom/mambaforge/base/envs/study1_3.10/lib/python3.10/site-packages/pandas/core\u001b[0m \u001b[31m│\u001b[0m\n",
                            "\u001b[31m│\u001b[0m \u001b[2;33m/internals/\u001b[0m\u001b[1;33mblocks.py\u001b[0m:\u001b[94m706\u001b[0m in \u001b[92m<listcomp>\u001b[0m                                                           \u001b[31m│\u001b[0m\n",
                            "\u001b[31m│\u001b[0m                                                                                                  \u001b[31m│\u001b[0m\n",
                            "\u001b[31m│\u001b[0m   \u001b[2m 703 \u001b[0m\u001b[2m│   │   │   \u001b[0m\u001b[2m# in order to avoid repeating the same computations\u001b[0m                           \u001b[31m│\u001b[0m\n",
                            "\u001b[31m│\u001b[0m   \u001b[2m 704 \u001b[0m\u001b[2m│   │   │   \u001b[0mmask = ~isna(values)                                                          \u001b[31m│\u001b[0m\n",
                            "\u001b[31m│\u001b[0m   \u001b[2m 705 \u001b[0m\u001b[2m│   │   │   \u001b[0mmasks = [                                                                     \u001b[31m│\u001b[0m\n",
                            "\u001b[31m│\u001b[0m \u001b[31m❱ \u001b[0m 706 \u001b[2m│   │   │   │   \u001b[0mcompare_or_regex_search(values, s[\u001b[94m0\u001b[0m], regex=regex, mask=mask)             \u001b[31m│\u001b[0m\n",
                            "\u001b[31m│\u001b[0m   \u001b[2m 707 \u001b[0m\u001b[2m│   │   │   │   \u001b[0m\u001b[94mfor\u001b[0m s \u001b[95min\u001b[0m pairs                                                            \u001b[31m│\u001b[0m\n",
                            "\u001b[31m│\u001b[0m   \u001b[2m 708 \u001b[0m\u001b[2m│   │   │   \u001b[0m]                                                                             \u001b[31m│\u001b[0m\n",
                            "\u001b[31m│\u001b[0m   \u001b[2m 709 \u001b[0m\u001b[2m│   │   \u001b[0m\u001b[94melse\u001b[0m:                                                                             \u001b[31m│\u001b[0m\n",
                            "\u001b[31m│\u001b[0m                                                                                                  \u001b[31m│\u001b[0m\n",
                            "\u001b[31m│\u001b[0m \u001b[2;33m/opt/homebrew/Caskroom/mambaforge/base/envs/study1_3.10/lib/python3.10/site-packages/pandas/core\u001b[0m \u001b[31m│\u001b[0m\n",
                            "\u001b[31m│\u001b[0m \u001b[2;33m/array_algos/\u001b[0m\u001b[1;33mreplace.py\u001b[0m:\u001b[94m84\u001b[0m in \u001b[92mcompare_or_regex_search\u001b[0m                                            \u001b[31m│\u001b[0m\n",
                            "\u001b[31m│\u001b[0m                                                                                                  \u001b[31m│\u001b[0m\n",
                            "\u001b[31m│\u001b[0m   \u001b[2m 81 \u001b[0m\u001b[2m│   │   │   │   \u001b[0m\u001b[33mf\u001b[0m\u001b[33m\"\u001b[0m\u001b[33mCannot compare types \u001b[0m\u001b[33m{\u001b[0m\u001b[96mrepr\u001b[0m(type_names[\u001b[94m0\u001b[0m])\u001b[33m}\u001b[0m\u001b[33m and \u001b[0m\u001b[33m{\u001b[0m\u001b[96mrepr\u001b[0m(type_names[\u001b[94m1\u001b[0m])\u001b[33m}\u001b[0m\u001b[33m\"\u001b[0m    \u001b[31m│\u001b[0m\n",
                            "\u001b[31m│\u001b[0m   \u001b[2m 82 \u001b[0m\u001b[2m│   │   │   \u001b[0m)                                                                              \u001b[31m│\u001b[0m\n",
                            "\u001b[31m│\u001b[0m   \u001b[2m 83 \u001b[0m\u001b[2m│   \u001b[0m                                                                                       \u001b[31m│\u001b[0m\n",
                            "\u001b[31m│\u001b[0m \u001b[31m❱ \u001b[0m 84 \u001b[2m│   \u001b[0m\u001b[94mif\u001b[0m \u001b[95mnot\u001b[0m regex \u001b[95mor\u001b[0m \u001b[95mnot\u001b[0m should_use_regex(regex, b):                                        \u001b[31m│\u001b[0m\n",
                            "\u001b[31m│\u001b[0m   \u001b[2m 85 \u001b[0m\u001b[2m│   │   \u001b[0m\u001b[2m# TODO: should use missing.mask_missing?\u001b[0m                                           \u001b[31m│\u001b[0m\n",
                            "\u001b[31m│\u001b[0m   \u001b[2m 86 \u001b[0m\u001b[2m│   │   \u001b[0mop = \u001b[94mlambda\u001b[0m x: operator.eq(x, b)                                                   \u001b[31m│\u001b[0m\n",
                            "\u001b[31m│\u001b[0m   \u001b[2m 87 \u001b[0m\u001b[2m│   \u001b[0m\u001b[94melse\u001b[0m:                                                                                  \u001b[31m│\u001b[0m\n",
                            "\u001b[31m│\u001b[0m                                                                                                  \u001b[31m│\u001b[0m\n",
                            "\u001b[31m│\u001b[0m \u001b[2;33m/opt/homebrew/Caskroom/mambaforge/base/envs/study1_3.10/lib/python3.10/site-packages/pandas/core\u001b[0m \u001b[31m│\u001b[0m\n",
                            "\u001b[31m│\u001b[0m \u001b[2;33m/array_algos/\u001b[0m\u001b[1;33mreplace.py\u001b[0m:\u001b[94m38\u001b[0m in \u001b[92mshould_use_regex\u001b[0m                                                   \u001b[31m│\u001b[0m\n",
                            "\u001b[31m│\u001b[0m                                                                                                  \u001b[31m│\u001b[0m\n",
                            "\u001b[31m│\u001b[0m   \u001b[2m 35 \u001b[0m\u001b[2m│   \u001b[0m\u001b[94mif\u001b[0m is_re(to_replace):                                                                  \u001b[31m│\u001b[0m\n",
                            "\u001b[31m│\u001b[0m   \u001b[2m 36 \u001b[0m\u001b[2m│   │   \u001b[0mregex = \u001b[94mTrue\u001b[0m                                                                       \u001b[31m│\u001b[0m\n",
                            "\u001b[31m│\u001b[0m   \u001b[2m 37 \u001b[0m\u001b[2m│   \u001b[0m                                                                                       \u001b[31m│\u001b[0m\n",
                            "\u001b[31m│\u001b[0m \u001b[31m❱ \u001b[0m 38 \u001b[2m│   \u001b[0mregex = regex \u001b[95mand\u001b[0m is_re_compilable(to_replace)                                         \u001b[31m│\u001b[0m\n",
                            "\u001b[31m│\u001b[0m   \u001b[2m 39 \u001b[0m\u001b[2m│   \u001b[0m                                                                                       \u001b[31m│\u001b[0m\n",
                            "\u001b[31m│\u001b[0m   \u001b[2m 40 \u001b[0m\u001b[2m│   \u001b[0m\u001b[2m# Don't use regex if the pattern is empty.\u001b[0m                                             \u001b[31m│\u001b[0m\n",
                            "\u001b[31m│\u001b[0m   \u001b[2m 41 \u001b[0m\u001b[2m│   \u001b[0mregex = regex \u001b[95mand\u001b[0m re.compile(to_replace).pattern != \u001b[33m\"\u001b[0m\u001b[33m\"\u001b[0m                                 \u001b[31m│\u001b[0m\n",
                            "\u001b[31m│\u001b[0m                                                                                                  \u001b[31m│\u001b[0m\n",
                            "\u001b[31m│\u001b[0m \u001b[2;33m/opt/homebrew/Caskroom/mambaforge/base/envs/study1_3.10/lib/python3.10/site-packages/pandas/core\u001b[0m \u001b[31m│\u001b[0m\n",
                            "\u001b[31m│\u001b[0m \u001b[2;33m/dtypes/\u001b[0m\u001b[1;33minference.py\u001b[0m:\u001b[94m181\u001b[0m in \u001b[92mis_re_compilable\u001b[0m                                                     \u001b[31m│\u001b[0m\n",
                            "\u001b[31m│\u001b[0m                                                                                                  \u001b[31m│\u001b[0m\n",
                            "\u001b[31m│\u001b[0m   \u001b[2m178 \u001b[0m\u001b[2;33m│   \u001b[0m\u001b[33mFalse\u001b[0m                                                                                  \u001b[31m│\u001b[0m\n",
                            "\u001b[31m│\u001b[0m   \u001b[2m179 \u001b[0m\u001b[2;33m│   \u001b[0m\u001b[33m\"\"\"\u001b[0m                                                                                    \u001b[31m│\u001b[0m\n",
                            "\u001b[31m│\u001b[0m   \u001b[2m180 \u001b[0m\u001b[2m│   \u001b[0m\u001b[94mtry\u001b[0m:                                                                                   \u001b[31m│\u001b[0m\n",
                            "\u001b[31m│\u001b[0m \u001b[31m❱ \u001b[0m181 \u001b[2m│   │   \u001b[0mre.compile(obj)                                                                    \u001b[31m│\u001b[0m\n",
                            "\u001b[31m│\u001b[0m   \u001b[2m182 \u001b[0m\u001b[2m│   \u001b[0m\u001b[94mexcept\u001b[0m \u001b[96mTypeError\u001b[0m:                                                                      \u001b[31m│\u001b[0m\n",
                            "\u001b[31m│\u001b[0m   \u001b[2m183 \u001b[0m\u001b[2m│   │   \u001b[0m\u001b[94mreturn\u001b[0m \u001b[94mFalse\u001b[0m                                                                       \u001b[31m│\u001b[0m\n",
                            "\u001b[31m│\u001b[0m   \u001b[2m184 \u001b[0m\u001b[2m│   \u001b[0m\u001b[94melse\u001b[0m:                                                                                  \u001b[31m│\u001b[0m\n",
                            "\u001b[31m│\u001b[0m                                                                                                  \u001b[31m│\u001b[0m\n",
                            "\u001b[31m│\u001b[0m \u001b[2;33m/opt/homebrew/Caskroom/mambaforge/base/envs/study1_3.10/lib/python3.10/\u001b[0m\u001b[1;33mre.py\u001b[0m:\u001b[94m251\u001b[0m in \u001b[92mcompile\u001b[0m      \u001b[31m│\u001b[0m\n",
                            "\u001b[31m│\u001b[0m                                                                                                  \u001b[31m│\u001b[0m\n",
                            "\u001b[31m│\u001b[0m   \u001b[2m248 \u001b[0m                                                                                           \u001b[31m│\u001b[0m\n",
                            "\u001b[31m│\u001b[0m   \u001b[2m249 \u001b[0m\u001b[94mdef\u001b[0m \u001b[92mcompile\u001b[0m(pattern, flags=\u001b[94m0\u001b[0m):                                                             \u001b[31m│\u001b[0m\n",
                            "\u001b[31m│\u001b[0m   \u001b[2m250 \u001b[0m\u001b[2m│   \u001b[0m\u001b[33m\"\u001b[0m\u001b[33mCompile a regular expression pattern, returning a Pattern object.\u001b[0m\u001b[33m\"\u001b[0m                    \u001b[31m│\u001b[0m\n",
                            "\u001b[31m│\u001b[0m \u001b[31m❱ \u001b[0m251 \u001b[2m│   \u001b[0m\u001b[94mreturn\u001b[0m _compile(pattern, flags)                                                        \u001b[31m│\u001b[0m\n",
                            "\u001b[31m│\u001b[0m   \u001b[2m252 \u001b[0m                                                                                           \u001b[31m│\u001b[0m\n",
                            "\u001b[31m│\u001b[0m   \u001b[2m253 \u001b[0m\u001b[94mdef\u001b[0m \u001b[92mpurge\u001b[0m():                                                                               \u001b[31m│\u001b[0m\n",
                            "\u001b[31m│\u001b[0m   \u001b[2m254 \u001b[0m\u001b[2m│   \u001b[0m\u001b[33m\"\u001b[0m\u001b[33mClear the regular expression caches\u001b[0m\u001b[33m\"\u001b[0m                                                  \u001b[31m│\u001b[0m\n",
                            "\u001b[31m│\u001b[0m                                                                                                  \u001b[31m│\u001b[0m\n",
                            "\u001b[31m│\u001b[0m \u001b[2;33m/opt/homebrew/Caskroom/mambaforge/base/envs/study1_3.10/lib/python3.10/\u001b[0m\u001b[1;33mre.py\u001b[0m:\u001b[94m303\u001b[0m in \u001b[92m_compile\u001b[0m     \u001b[31m│\u001b[0m\n",
                            "\u001b[31m│\u001b[0m                                                                                                  \u001b[31m│\u001b[0m\n",
                            "\u001b[31m│\u001b[0m   \u001b[2m300 \u001b[0m\u001b[2m│   │   \u001b[0m\u001b[94mreturn\u001b[0m pattern                                                                     \u001b[31m│\u001b[0m\n",
                            "\u001b[31m│\u001b[0m   \u001b[2m301 \u001b[0m\u001b[2m│   \u001b[0m\u001b[94mif\u001b[0m \u001b[95mnot\u001b[0m sre_compile.isstring(pattern):                                                  \u001b[31m│\u001b[0m\n",
                            "\u001b[31m│\u001b[0m   \u001b[2m302 \u001b[0m\u001b[2m│   │   \u001b[0m\u001b[94mraise\u001b[0m \u001b[96mTypeError\u001b[0m(\u001b[33m\"\u001b[0m\u001b[33mfirst argument must be string or compiled pattern\u001b[0m\u001b[33m\"\u001b[0m)               \u001b[31m│\u001b[0m\n",
                            "\u001b[31m│\u001b[0m \u001b[31m❱ \u001b[0m303 \u001b[2m│   \u001b[0mp = sre_compile.compile(pattern, flags)                                                \u001b[31m│\u001b[0m\n",
                            "\u001b[31m│\u001b[0m   \u001b[2m304 \u001b[0m\u001b[2m│   \u001b[0m\u001b[94mif\u001b[0m \u001b[95mnot\u001b[0m (flags & DEBUG):                                                                \u001b[31m│\u001b[0m\n",
                            "\u001b[31m│\u001b[0m   \u001b[2m305 \u001b[0m\u001b[2m│   │   \u001b[0m\u001b[94mif\u001b[0m \u001b[96mlen\u001b[0m(_cache) >= _MAXCACHE:                                                       \u001b[31m│\u001b[0m\n",
                            "\u001b[31m│\u001b[0m   \u001b[2m306 \u001b[0m\u001b[2m│   │   │   \u001b[0m\u001b[2m# Drop the oldest item\u001b[0m                                                         \u001b[31m│\u001b[0m\n",
                            "\u001b[31m│\u001b[0m                                                                                                  \u001b[31m│\u001b[0m\n",
                            "\u001b[31m│\u001b[0m \u001b[2;33m/opt/homebrew/Caskroom/mambaforge/base/envs/study1_3.10/lib/python3.10/\u001b[0m\u001b[1;33msre_compile.py\u001b[0m:\u001b[94m788\u001b[0m in     \u001b[31m│\u001b[0m\n",
                            "\u001b[31m│\u001b[0m \u001b[92mcompile\u001b[0m                                                                                          \u001b[31m│\u001b[0m\n",
                            "\u001b[31m│\u001b[0m                                                                                                  \u001b[31m│\u001b[0m\n",
                            "\u001b[31m│\u001b[0m   \u001b[2m785 \u001b[0m\u001b[2m│   \u001b[0m                                                                                       \u001b[31m│\u001b[0m\n",
                            "\u001b[31m│\u001b[0m   \u001b[2m786 \u001b[0m\u001b[2m│   \u001b[0m\u001b[94mif\u001b[0m isstring(p):                                                                        \u001b[31m│\u001b[0m\n",
                            "\u001b[31m│\u001b[0m   \u001b[2m787 \u001b[0m\u001b[2m│   │   \u001b[0mpattern = p                                                                        \u001b[31m│\u001b[0m\n",
                            "\u001b[31m│\u001b[0m \u001b[31m❱ \u001b[0m788 \u001b[2m│   │   \u001b[0mp = sre_parse.parse(p, flags)                                                      \u001b[31m│\u001b[0m\n",
                            "\u001b[31m│\u001b[0m   \u001b[2m789 \u001b[0m\u001b[2m│   \u001b[0m\u001b[94melse\u001b[0m:                                                                                  \u001b[31m│\u001b[0m\n",
                            "\u001b[31m│\u001b[0m   \u001b[2m790 \u001b[0m\u001b[2m│   │   \u001b[0mpattern = \u001b[94mNone\u001b[0m                                                                     \u001b[31m│\u001b[0m\n",
                            "\u001b[31m│\u001b[0m   \u001b[2m791 \u001b[0m                                                                                           \u001b[31m│\u001b[0m\n",
                            "\u001b[31m│\u001b[0m                                                                                                  \u001b[31m│\u001b[0m\n",
                            "\u001b[31m│\u001b[0m \u001b[2;33m/opt/homebrew/Caskroom/mambaforge/base/envs/study1_3.10/lib/python3.10/\u001b[0m\u001b[1;33msre_parse.py\u001b[0m:\u001b[94m955\u001b[0m in \u001b[92mparse\u001b[0m \u001b[31m│\u001b[0m\n",
                            "\u001b[31m│\u001b[0m                                                                                                  \u001b[31m│\u001b[0m\n",
                            "\u001b[31m│\u001b[0m   \u001b[2m 952 \u001b[0m\u001b[2m│   \u001b[0mstate.str = \u001b[96mstr\u001b[0m                                                                       \u001b[31m│\u001b[0m\n",
                            "\u001b[31m│\u001b[0m   \u001b[2m 953 \u001b[0m\u001b[2m│   \u001b[0m                                                                                      \u001b[31m│\u001b[0m\n",
                            "\u001b[31m│\u001b[0m   \u001b[2m 954 \u001b[0m\u001b[2m│   \u001b[0m\u001b[94mtry\u001b[0m:                                                                                  \u001b[31m│\u001b[0m\n",
                            "\u001b[31m│\u001b[0m \u001b[31m❱ \u001b[0m 955 \u001b[2m│   │   \u001b[0mp = _parse_sub(source, state, flags & SRE_FLAG_VERBOSE, \u001b[94m0\u001b[0m)                        \u001b[31m│\u001b[0m\n",
                            "\u001b[31m│\u001b[0m   \u001b[2m 956 \u001b[0m\u001b[2m│   \u001b[0m\u001b[94mexcept\u001b[0m Verbose:                                                                       \u001b[31m│\u001b[0m\n",
                            "\u001b[31m│\u001b[0m   \u001b[2m 957 \u001b[0m\u001b[2m│   │   \u001b[0m\u001b[2m# the VERBOSE flag was switched on inside the pattern.  to be\u001b[0m                     \u001b[31m│\u001b[0m\n",
                            "\u001b[31m│\u001b[0m   \u001b[2m 958 \u001b[0m\u001b[2m│   │   \u001b[0m\u001b[2m# on the safe side, we'll parse the whole thing again...\u001b[0m                          \u001b[31m│\u001b[0m\n",
                            "\u001b[31m│\u001b[0m                                                                                                  \u001b[31m│\u001b[0m\n",
                            "\u001b[31m│\u001b[0m \u001b[2;33m/opt/homebrew/Caskroom/mambaforge/base/envs/study1_3.10/lib/python3.10/\u001b[0m\u001b[1;33msre_parse.py\u001b[0m:\u001b[94m444\u001b[0m in       \u001b[31m│\u001b[0m\n",
                            "\u001b[31m│\u001b[0m \u001b[92m_parse_sub\u001b[0m                                                                                       \u001b[31m│\u001b[0m\n",
                            "\u001b[31m│\u001b[0m                                                                                                  \u001b[31m│\u001b[0m\n",
                            "\u001b[31m│\u001b[0m   \u001b[2m 441 \u001b[0m\u001b[2m│   \u001b[0msourcematch = source.match                                                            \u001b[31m│\u001b[0m\n",
                            "\u001b[31m│\u001b[0m   \u001b[2m 442 \u001b[0m\u001b[2m│   \u001b[0mstart = source.tell()                                                                 \u001b[31m│\u001b[0m\n",
                            "\u001b[31m│\u001b[0m   \u001b[2m 443 \u001b[0m\u001b[2m│   \u001b[0m\u001b[94mwhile\u001b[0m \u001b[94mTrue\u001b[0m:                                                                           \u001b[31m│\u001b[0m\n",
                            "\u001b[31m│\u001b[0m \u001b[31m❱ \u001b[0m 444 \u001b[2m│   │   \u001b[0mitemsappend(_parse(source, state, verbose, nested + \u001b[94m1\u001b[0m,                            \u001b[31m│\u001b[0m\n",
                            "\u001b[31m│\u001b[0m   \u001b[2m 445 \u001b[0m\u001b[2m│   │   │   │   │   │      \u001b[0m\u001b[95mnot\u001b[0m nested \u001b[95mand\u001b[0m \u001b[95mnot\u001b[0m items))                                     \u001b[31m│\u001b[0m\n",
                            "\u001b[31m│\u001b[0m   \u001b[2m 446 \u001b[0m\u001b[2m│   │   \u001b[0m\u001b[94mif\u001b[0m \u001b[95mnot\u001b[0m sourcematch(\u001b[33m\"\u001b[0m\u001b[33m|\u001b[0m\u001b[33m\"\u001b[0m):                                                          \u001b[31m│\u001b[0m\n",
                            "\u001b[31m│\u001b[0m   \u001b[2m 447 \u001b[0m\u001b[2m│   │   │   \u001b[0m\u001b[94mbreak\u001b[0m                                                                         \u001b[31m│\u001b[0m\n",
                            "\u001b[31m│\u001b[0m                                                                                                  \u001b[31m│\u001b[0m\n",
                            "\u001b[31m│\u001b[0m \u001b[2;33m/opt/homebrew/Caskroom/mambaforge/base/envs/study1_3.10/lib/python3.10/\u001b[0m\u001b[1;33msre_parse.py\u001b[0m:\u001b[94m508\u001b[0m in       \u001b[31m│\u001b[0m\n",
                            "\u001b[31m│\u001b[0m \u001b[92m_parse\u001b[0m                                                                                           \u001b[31m│\u001b[0m\n",
                            "\u001b[31m│\u001b[0m                                                                                                  \u001b[31m│\u001b[0m\n",
                            "\u001b[31m│\u001b[0m   \u001b[2m 505 \u001b[0m\u001b[2m│   \u001b[0m\u001b[94mwhile\u001b[0m \u001b[94mTrue\u001b[0m:                                                                           \u001b[31m│\u001b[0m\n",
                            "\u001b[31m│\u001b[0m   \u001b[2m 506 \u001b[0m\u001b[2m│   │   \u001b[0m                                                                                  \u001b[31m│\u001b[0m\n",
                            "\u001b[31m│\u001b[0m   \u001b[2m 507 \u001b[0m\u001b[2m│   │   \u001b[0mthis = source.next                                                                \u001b[31m│\u001b[0m\n",
                            "\u001b[31m│\u001b[0m \u001b[31m❱ \u001b[0m 508 \u001b[2m│   │   \u001b[0m\u001b[94mif\u001b[0m this \u001b[95mis\u001b[0m \u001b[94mNone\u001b[0m:                                                                  \u001b[31m│\u001b[0m\n",
                            "\u001b[31m│\u001b[0m   \u001b[2m 509 \u001b[0m\u001b[2m│   │   │   \u001b[0m\u001b[94mbreak\u001b[0m \u001b[2m# end of pattern\u001b[0m                                                        \u001b[31m│\u001b[0m\n",
                            "\u001b[31m│\u001b[0m   \u001b[2m 510 \u001b[0m\u001b[2m│   │   \u001b[0m\u001b[94mif\u001b[0m this \u001b[95min\u001b[0m \u001b[33m\"\u001b[0m\u001b[33m|)\u001b[0m\u001b[33m\"\u001b[0m:                                                                  \u001b[31m│\u001b[0m\n",
                            "\u001b[31m│\u001b[0m   \u001b[2m 511 \u001b[0m\u001b[2m│   │   │   \u001b[0m\u001b[94mbreak\u001b[0m \u001b[2m# end of subpattern\u001b[0m                                                     \u001b[31m│\u001b[0m\n",
                            "\u001b[31m╰──────────────────────────────────────────────────────────────────────────────────────────────────╯\u001b[0m\n",
                            "\u001b[1;91mKeyboardInterrupt\u001b[0m\n"
                        ]
                    },
                    "metadata": {},
                    "output_type": "display_data"
                }
            ],
            "source": [
                "%%time\n",
                "# NLTK bi and trigrams\n",
                "ngram_dict = {\n",
                "    'bigram': 2,\n",
                "    'trigram': 3\n",
                "}\n",
                "\n",
                "for ngram_name, ngram_num in ngram_dict.items():\n",
                "\n",
                "    df_manual[f'Job Description nltk_{str(ngram_num)}grams_original_list'] = df_manual['Job Description nltk_tokenized'].progress_apply(\n",
                "        lambda tokens:\n",
                "            list(\n",
                "                '_'.join(ngram_list)\n",
                "                for ngram_list in nltk.ngrams(tokens, ngram_num)\n",
                "            )\n",
                "    )\n",
                "\n",
                "    df_manual[f'Job Description nltk_{str(ngram_num)}grams'] = df_manual['Job Description nltk_tokenized'].progress_apply(\n",
                "        lambda tokens: list(nltk.ngrams(tokens, ngram_num))\n",
                "    )\n",
                "\n",
                "    df_manual[f'Job Description nltk_{str(ngram_num)}grams_in_sent'] = df_manual['Job Description spacy_sentencized'].str.lower().replace(\n",
                "        regex = {\n",
                "            re.escape(' '.join(ngram_.split('_'))): re.escape(ngram_)\n",
                "            for ngrams_list in df_manual[f'Job Description nltk_{str(ngram_num)}grams_original_list']\n",
                "            for ngram_ in ngrams_list\n",
                "            if '_' in ngram_\n",
                "        }\n",
                "    )\n"
            ]
        },
        {
            "cell_type": "code",
            "execution_count": null,
            "id": "32f3ae0a",
            "metadata": {},
            "outputs": [],
            "source": [
                "%%time\n",
                "# NLTK Allgrams\n",
                "df_manual['Job Description nltk_123grams_original_list'] = (\n",
                "    df_manual['Job Description nltk_tokenized']\n",
                "    + df_manual['Job Description nltk_2grams_original_list']\n",
                "    + df_manual['Job Description nltk_3grams_original_list']\n",
                ")\n",
                "df_manual['Job Description nltk_123grams'] = (\n",
                "    df_manual['Job Description nltk_1grams']\n",
                "    + df_manual['Job Description nltk_2grams']\n",
                "    + df_manual['Job Description nltk_3grams']\n",
                ")\n",
                "df_manual['Job Description nltk_123grams_in_sent'] = (\n",
                "    df_manual['Job Description spacy_sentencized']\n",
                "    .str.lower()\n",
                "    .replace(\n",
                "        regex={\n",
                "            re.escape(' '.join(ngram_.split('_'))): re.escape(ngram_)\n",
                "            for ngrams_list in df_manual[\n",
                "                'Job Description nltk_123grams_original_list'\n",
                "            ]\n",
                "            for ngram_ in ngrams_list\n",
                "            if '_' in ngram_\n",
                "        }\n",
                "    )\n",
                ")\n"
            ]
        },
        {
            "cell_type": "code",
            "execution_count": null,
            "id": "17610cd5",
            "metadata": {},
            "outputs": [],
            "source": [
                "assert len(df_manual) > 0 and isinstance(df_manual, pd.DataFrame), f'ERORR: LENGTH OF DF = {len(df_manual)}'\n",
                "df_manual.to_pickle(f'{df_save_dir}df_manual_ngrams_spacy_nltk.pkl')\n",
                "df_manual.to_csv(f'{df_save_dir}df_manual_ngrams_spacy_nltk.csv', index=False)\n"
            ]
        },
        {
            "cell_type": "markdown",
            "id": "1440bd34",
            "metadata": {},
            "source": [
                "# Use Gensim to create bi and trigrams\n"
            ]
        },
        {
            "cell_type": "markdown",
            "id": "0494636f",
            "metadata": {},
            "source": [
                "### START HERE IF SOURCING FROM df_manual_NGRAMS_SPACY_NLTK\n",
                "### PLEASE SET CORRECT DIRECTORY PATHS BELOW\n"
            ]
        },
        {
            "cell_type": "code",
            "execution_count": null,
            "id": "dad74074",
            "metadata": {},
            "outputs": [],
            "source": [
                "import os # type:ignore # isort:skip # fmt:skip # noqa # nopep8\n",
                "import sys # type:ignore # isort:skip # fmt:skip # noqa # nopep8\n",
                "from pathlib import Path # type:ignore # isort:skip # fmt:skip # noqa # nopep8\n",
                "\n",
                "mod = sys.modules[__name__]\n",
                "\n",
                "code_dir = None\n",
                "code_dir_name = 'Code'\n",
                "unwanted_subdir_name = 'Analysis'\n",
                "\n",
                "for _ in range(5):\n",
                "\n",
                "    parent_path = str(Path.cwd().parents[_]).split('/')[-1]\n",
                "\n",
                "    if (code_dir_name in parent_path) and (unwanted_subdir_name not in parent_path):\n",
                "\n",
                "        code_dir = str(Path.cwd().parents[_])\n",
                "\n",
                "        if code_dir is not None:\n",
                "            break\n",
                "\n",
                "sys.path.append(code_dir)\n",
                "# %load_ext autoreload\n",
                "# %autoreload 2\n"
            ]
        },
        {
            "cell_type": "code",
            "execution_count": null,
            "id": "067dda8f",
            "metadata": {},
            "outputs": [],
            "source": [
                "from setup_module.imports import * # type:ignore # isort:skip # fmt:skip # noqa # nopep8\n"
            ]
        },
        {
            "cell_type": "code",
            "execution_count": null,
            "id": "8c9c33c2",
            "metadata": {},
            "outputs": [],
            "source": [
                "df_manual = pd.read_pickle(f'{df_save_dir}df_manual_ngrams_spacy_nltk.pkl').reset_index(drop=True)\n"
            ]
        },
        {
            "cell_type": "code",
            "execution_count": null,
            "id": "59d29aaf",
            "metadata": {},
            "outputs": [],
            "source": [
                "df_manual['Job Description gensim_1grams_original_list'] = df_manual['Job Description gensim_tokenized']\n",
                "df_manual['Job Description gensim_1grams'] = df_manual['Job Description gensim_tokenized'].progress_apply(\n",
                "    lambda tokens: [\n",
                "        tuple(token.split())\n",
                "        for token in tokens\n",
                "    ]\n",
                ")\n"
            ]
        },
        {
            "cell_type": "code",
            "execution_count": null,
            "id": "becdbf23",
            "metadata": {},
            "outputs": [],
            "source": [
                "%%time\n",
                "# Gensim bi and trigrams\n",
                "pattern = r'[\\n]+|[,]{2,}|[|]{2,}|[\\n\\r]+|(?<=[a-z]\\.)(?=\\s*[A-Z])|(?=\\:+[A-Z])'\n",
                "\n",
                "# Gensim Bigrams\n",
                "bigram = Phraser(Phrases(df_manual['Job Description gensim_tokenized'], connector_words=ENGLISH_CONNECTOR_WORDS, min_count=1, threshold=1))\n",
                "df_manual['Job Description gensim_2grams_original_list_all'] = bigram[df_manual['Job Description gensim_tokenized']]\n",
                "df_manual['Job Description gensim_2grams_original_list'] = df_manual['Job Description gensim_2grams_original_list_all'].progress_apply(\n",
                "    lambda ngrams_list: [\n",
                "        ngram_\n",
                "        for ngram_ in ngrams_list\n",
                "        if len(re.findall('[a-zA-Z]*\\_[a-zA-Z]*', ngram_)) != 0\n",
                "    ]\n",
                ")\n",
                "df_manual['Job Description gensim_2grams'] = df_manual['Job Description gensim_2grams_original_list'].progress_apply(\n",
                "    lambda ngrams: [\n",
                "        tuple(ngram.split('_'))\n",
                "        for ngram in ngrams\n",
                "        if '_' in ngram\n",
                "    ]\n",
                ")\n",
                "df_manual['Job Description gensim_2grams_in_sent'] = (\n",
                "    df_manual['Job Description spacy_sentencized']\n",
                "    .str.lower()\n",
                "    .progress_apply(\n",
                "        lambda sentence: ' '.join(\n",
                "            preprocess_string(re.sub(pattern, ' ', sentence.strip().lower()))\n",
                "        )\n",
                "    )\n",
                "    .replace(\n",
                "        regex={\n",
                "            re.escape(' '.join(ngram_.split('_'))): re.escape(ngram_)\n",
                "            for ngrams_list in df_manual[\n",
                "                'Job Description gensim_2grams_original_list'\n",
                "            ]\n",
                "            for ngram_ in ngrams_list\n",
                "            if '_' in ngram_\n",
                "        }\n",
                "    )\n",
                ")\n",
                "\n",
                "# Gensim Trigrams\n",
                "trigram = Phraser(Phrases(df_manual['Job Description gensim_2grams_original_list_all'], connector_words=ENGLISH_CONNECTOR_WORDS, min_count=1, threshold=1))\n",
                "df_manual['Job Description gensim_3grams_original_list_all'] = trigram[df_manual['Job Description gensim_2grams_original_list_all']]\n",
                "df_manual['Job Description gensim_3grams_original_list'] = df_manual['Job Description gensim_3grams_original_list_all'].progress_apply(\n",
                "    lambda ngrams_list: [\n",
                "        ngram_\n",
                "        for ngram_ in ngrams_list\n",
                "        if len(re.findall('[a-zA-Z]*\\_[a-zA-Z]*\\_[a-zA-Z]*', ngram_)) != 0\n",
                "    ]\n",
                ")\n",
                "df_manual['Job Description gensim_3grams'] = df_manual['Job Description gensim_3grams_original_list'].progress_apply(\n",
                "    lambda ngrams: [\n",
                "        tuple(ngram.split('_'))\n",
                "        for ngram in ngrams\n",
                "        if '_' in ngram\n",
                "    ]\n",
                ")\n",
                "df_manual['Job Description gensim_3grams_in_sent'] = (\n",
                "    df_manual['Job Description spacy_sentencized']\n",
                "    .str.lower()\n",
                "    .progress_apply(\n",
                "        lambda sentence: ' '.join(\n",
                "            preprocess_string(re.sub(pattern, ' ', sentence.strip().lower()))\n",
                "        )\n",
                "    )\n",
                "    .replace(\n",
                "        regex={\n",
                "            re.escape(' '.join(ngram_.split('_'))): re.escape(ngram_)\n",
                "            for ngrams_list in df_manual[\n",
                "                'Job Description gensim_3grams_original_list'\n",
                "            ]\n",
                "            for ngram_ in ngrams_list\n",
                "            if '_' in ngram_\n",
                "        }\n",
                "    )\n",
                ")\n"
            ]
        },
        {
            "cell_type": "code",
            "execution_count": null,
            "id": "84d89c0a",
            "metadata": {},
            "outputs": [],
            "source": [
                "%%time\n",
                "# Gensim Allgrams\n",
                "pattern = r'[\\n]+|[,]{2,}|[|]{2,}|[\\n\\r]+|(?<=[a-z]\\.)(?=\\s*[A-Z])|(?=\\:+[A-Z])'\n",
                "\n",
                "df_manual['Job Description gensim_123grams_original_list'] = (\n",
                "    df_manual['Job Description gensim_tokenized']\n",
                "    + df_manual['Job Description gensim_2grams_original_list']\n",
                "    + df_manual['Job Description gensim_3grams_original_list']\n",
                ")\n",
                "df_manual['Job Description gensim_123grams'] = (\n",
                "    df_manual['Job Description gensim_1grams']\n",
                "    + df_manual['Job Description gensim_2grams']\n",
                "    + df_manual['Job Description gensim_3grams']\n",
                ")\n",
                "df_manual['Job Description gensim_123grams_in_sent'] = (\n",
                "    df_manual['Job Description spacy_sentencized']\n",
                "    .str.lower()\n",
                "    .progress_apply(\n",
                "        lambda sentence: ' '.join(\n",
                "            preprocess_string(re.sub(pattern, ' ', sentence.strip().lower()))\n",
                "        )\n",
                "    )\n",
                "    .replace(\n",
                "        regex={\n",
                "            re.escape(' '.join(ngram_.split('_'))): re.escape(ngram_)\n",
                "            for ngrams_list in df_manual[\n",
                "                'Job Description gensim_123grams_original_list'\n",
                "            ]\n",
                "            for ngram_ in ngrams_list\n",
                "            if '_' in ngram_\n",
                "        }\n",
                "    )\n",
                ")\n"
            ]
        },
        {
            "cell_type": "code",
            "execution_count": null,
            "id": "17e46331",
            "metadata": {},
            "outputs": [],
            "source": [
                "assert len(df_manual) > 0 and isinstance(df_manual, pd.DataFrame), f'ERORR: LENGTH OF DF = {len(df_manual)}'\n",
                "df_manual.to_pickle(f'{df_save_dir}df_manual_ngrams_spacy_nltk_gensim.pkl')\n",
                "df_manual.to_csv(f'{df_save_dir}df_manual_ngrams_spacy_nltk_gensim.csv', index=False)\n"
            ]
        },
        {
            "cell_type": "markdown",
            "id": "6ac58f92",
            "metadata": {},
            "source": [
                "# Create word frequencies for uni, bi, and trigrams\n"
            ]
        },
        {
            "cell_type": "markdown",
            "id": "7c33d9ab",
            "metadata": {},
            "source": [
                "### START HERE IF SOURCING FROM df_manual_NGRAMS_SPACY_NLTK_GENSIM\n",
                "### PLEASE SET CORRECT DIRECTORY PATHS BELOW\n"
            ]
        },
        {
            "cell_type": "code",
            "execution_count": null,
            "id": "735bed8e",
            "metadata": {},
            "outputs": [],
            "source": [
                "import os # type:ignore # isort:skip # fmt:skip # noqa # nopep8\n",
                "import sys # type:ignore # isort:skip # fmt:skip # noqa # nopep8\n",
                "from pathlib import Path # type:ignore # isort:skip # fmt:skip # noqa # nopep8\n",
                "\n",
                "mod = sys.modules[__name__]\n",
                "\n",
                "code_dir = None\n",
                "code_dir_name = 'Code'\n",
                "unwanted_subdir_name = 'Analysis'\n",
                "\n",
                "for _ in range(5):\n",
                "\n",
                "    parent_path = str(Path.cwd().parents[_]).split('/')[-1]\n",
                "\n",
                "    if (code_dir_name in parent_path) and (unwanted_subdir_name not in parent_path):\n",
                "\n",
                "        code_dir = str(Path.cwd().parents[_])\n",
                "\n",
                "        if code_dir is not None:\n",
                "            break\n",
                "\n",
                "sys.path.append(code_dir)\n",
                "# %load_ext autoreload\n",
                "# %autoreload 2\n"
            ]
        },
        {
            "cell_type": "code",
            "execution_count": null,
            "id": "024dc14f",
            "metadata": {},
            "outputs": [],
            "source": [
                "from setup_module.imports import * # type:ignore # isort:skip # fmt:skip # noqa # nopep8\n"
            ]
        },
        {
            "cell_type": "code",
            "execution_count": null,
            "id": "8731dee4",
            "metadata": {},
            "outputs": [],
            "source": [
                "def get_abs_frequency(row, text_col, ngram_num, embedding_library):\n",
                "\n",
                "    abs_word_freq = defaultdict(int)\n",
                "    for word in row[f'Job Description {embedding_library}_{ngram_num}grams_original_list']:\n",
                "        abs_word_freq[word] += 1\n",
                "\n",
                "        abs_wtd_df = (\n",
                "            pd.DataFrame.from_dict(abs_word_freq, orient='index')\n",
                "            .rename(columns={0: 'abs_word_freq'})\n",
                "            .sort_values(by=['abs_word_freq'], ascending=False)\n",
                "            )\n",
                "        abs_wtd_df.insert(1, 'word_count', value=abs_wtd_df['abs_word_freq'] / abs_wtd_df['abs_word_freq'].sum())\n",
                "        abs_wtd_df.insert(2, 'abs_word_perc', value=abs_wtd_df['abs_word_freq'] / abs_wtd_df['abs_word_freq'].sum())\n",
                "        abs_wtd_df.insert(3, 'abs_word_perc_cum', abs_wtd_df['abs_word_perc'].cumsum())\n",
                "\n",
                "        row[f'Job Description {embedding_library}_{ngram_num}grams_abs_word_freq'] = str(abs_wtd_df['abs_word_freq'].to_dict())\n",
                "        row[f'Job Description {embedding_library}_{ngram_num}grams_abs_word_perc'] = str(abs_wtd_df['abs_word_perc'].to_dict())\n",
                "        row[f'Job Description {embedding_library}_{ngram_num}grams_abs_word_perc_cum'] = str(abs_wtd_df['abs_word_perc_cum'].to_dict())\n",
                "\n",
                "    return row\n"
            ]
        },
        {
            "cell_type": "code",
            "execution_count": null,
            "id": "8e4a92a0",
            "metadata": {},
            "outputs": [],
            "source": [
                "df_manual = pd.read_pickle(f'{df_save_dir}df_manual_ngrams_spacy_nltk_gensim.pkl').reset_index(drop=True)\n"
            ]
        },
        {
            "cell_type": "code",
            "execution_count": null,
            "id": "43206134",
            "metadata": {},
            "outputs": [],
            "source": [
                "%%time\n",
                "ngrams_list=[1, 2, 3, 123]\n",
                "embedding_libraries_list = ['spacy', 'nltk', 'gensim']\n",
                "\n",
                "for embedding_library, ngram_num in tqdm_product(embedding_libraries_list, ngrams_list):\n",
                "    df_manual[f'Job Description {embedding_library}_{ngram_num}grams_count'] = df_manual[f'Job Description {embedding_library}_{ngram_num}grams'].apply(lambda x: len(x))\n",
                "    df_manual = df_manual.progress_apply(lambda row: get_abs_frequency(row=row, text_col='Job Description spacy_tokenized', ngram_num=ngram_num, embedding_library=embedding_library), axis='columns')\n"
            ]
        },
        {
            "cell_type": "code",
            "execution_count": null,
            "id": "30affd16",
            "metadata": {},
            "outputs": [],
            "source": [
                "assert len(df_manual) > 0 and isinstance(df_manual, pd.DataFrame), f'ERORR: LENGTH OF DF = {len(df_manual)}'\n",
                "df_manual.to_pickle(f'{df_save_dir}df_manual_ngrams_frequency.pkl')\n",
                "df_manual.to_csv(f'{df_save_dir}df_manual_ngrams_frequency.csv', index=False)\n"
            ]
        },
        {
            "cell_type": "markdown",
            "id": "1670f255",
            "metadata": {},
            "source": [
                "# Create BoW dictionary, corpus, and tfidf matrix for uni, bi, and trigrams\n"
            ]
        },
        {
            "cell_type": "markdown",
            "id": "16989aa0",
            "metadata": {},
            "source": [
                "### START HERE IF SOURCING FROM df_manual_NGRAMS_FREQUENCY\n",
                "### PLEASE SET CORRECT DIRECTORY PATHS BELOW\n"
            ]
        },
        {
            "cell_type": "code",
            "execution_count": null,
            "id": "051454b4",
            "metadata": {},
            "outputs": [],
            "source": [
                "import os # type:ignore # isort:skip # fmt:skip # noqa # nopep8\n",
                "import sys # type:ignore # isort:skip # fmt:skip # noqa # nopep8\n",
                "from pathlib import Path # type:ignore # isort:skip # fmt:skip # noqa # nopep8\n",
                "\n",
                "mod = sys.modules[__name__]\n",
                "\n",
                "code_dir = None\n",
                "code_dir_name = 'Code'\n",
                "unwanted_subdir_name = 'Analysis'\n",
                "\n",
                "for _ in range(5):\n",
                "\n",
                "    parent_path = str(Path.cwd().parents[_]).split('/')[-1]\n",
                "\n",
                "    if (code_dir_name in parent_path) and (unwanted_subdir_name not in parent_path):\n",
                "\n",
                "        code_dir = str(Path.cwd().parents[_])\n",
                "\n",
                "        if code_dir is not None:\n",
                "            break\n",
                "\n",
                "sys.path.append(code_dir)\n",
                "# %load_ext autoreload\n",
                "# %autoreload 2\n"
            ]
        },
        {
            "cell_type": "code",
            "execution_count": null,
            "id": "e09d527a",
            "metadata": {},
            "outputs": [],
            "source": [
                "from setup_module.imports import * # type:ignore # isort:skip # fmt:skip # noqa # nopep8\n"
            ]
        },
        {
            "cell_type": "code",
            "execution_count": null,
            "id": "57359916",
            "metadata": {},
            "outputs": [],
            "source": [
                "def get_corpus_and_dictionary(row, ngram_num, embedding_library):\n",
                "    \n",
                "    ngrams_original_list = row[f'Job Description {embedding_library}_{ngram_num}grams_original_list']\n",
                "    dictionary = Dictionary([ngrams_original_list])\n",
                "    BoW_corpus = [dictionary.doc2bow(ngrams_original_list)]\n",
                "    tfidf = TfidfModel(BoW_corpus, smartirs='ntc')\n",
                "    tfidf_matrix = [tfidf[doc] for doc in BoW_corpus]\n",
                "\n",
                "    row[f'Job Description {embedding_library}_{ngram_num}grams_dictionary'] = dictionary\n",
                "    row[f'Job Description {embedding_library}_{ngram_num}grams_BoW_corpus'] = BoW_corpus\n",
                "    row[f'Job Description {embedding_library}_{ngram_num}grams_tfidf'] = tfidf\n",
                "    row[f'Job Description {embedding_library}_{ngram_num}grams_tfidf_matrix'] = tfidf_matrix\n",
                "    \n",
                "    return row\n"
            ]
        },
        {
            "cell_type": "code",
            "execution_count": null,
            "id": "30b00a00",
            "metadata": {},
            "outputs": [],
            "source": [
                "df_manual = pd.read_pickle(f'{df_save_dir}df_manual_ngrams_frequency.pkl').reset_index(drop=True)\n"
            ]
        },
        {
            "cell_type": "code",
            "execution_count": null,
            "id": "ba6a2c99",
            "metadata": {},
            "outputs": [],
            "source": [
                "%%time\n",
                "ngrams_list=[1, 2, 3, 123]\n",
                "embedding_libraries_list = ['spacy', 'nltk', 'gensim']\n",
                "for embedding_library, ngram_num in tqdm_product(embedding_libraries_list, ngrams_list):\n",
                "    df_manual = df_manual.progress_apply(\n",
                "        lambda row: get_corpus_and_dictionary(\n",
                "            row=row, ngram_num=ngram_num, embedding_library=embedding_library\n",
                "        ),\n",
                "        axis='columns'\n",
                "    )\n",
                "\n",
                "assert len(df_manual) > 0 and isinstance(df_manual, pd.DataFrame), f'ERORR: LENGTH OF DF = {len(df_manual)}'\n",
                "df_manual.to_pickle(f'{df_save_dir}df_manual_ngrams_frequency.pkl')\n",
                "df_manual.to_csv(f'{df_save_dir}df_manual_ngrams_BoW.csv', index=False)\n"
            ]
        },
        {
            "cell_type": "code",
            "execution_count": null,
            "id": "b51eae79",
            "metadata": {},
            "outputs": [],
            "source": [
                "df_manual.columns\n"
            ]
        },
        {
            "cell_type": "code",
            "execution_count": null,
            "id": "a03d8769",
            "metadata": {},
            "outputs": [],
            "source": [
                "assert len(df_manual) > 0 and isinstance(df_manual, pd.DataFrame), f'ERORR: LENGTH OF DF = {len(df_manual)}'\n",
                "df_manual.to_pickle(f'{df_save_dir}df_manual_ngrams_BoW.pkl')\n",
                "df_manual.to_csv(f'{df_save_dir}df_manual_ngrams_BoW.csv', index=False)\n"
            ]
        },
        {
            "cell_type": "markdown",
            "id": "ec31f120",
            "metadata": {},
            "source": [
                "# ATTN: This script should be run AFTER all bi and trigrams (spacy, nltk, and gensim) completed.\n"
            ]
        },
        {
            "cell_type": "markdown",
            "id": "c976d079",
            "metadata": {},
            "source": [
                "# Use spacy and nltk for sentiment scoring\n"
            ]
        },
        {
            "cell_type": "markdown",
            "id": "d61138e8",
            "metadata": {},
            "source": [
                "### START HERE IF SOURCING FROM df_manual_NGRAMS_BOW\n",
                "### PLEASE SET CORRECT DIRECTORY PATHS BELOW\n"
            ]
        },
        {
            "cell_type": "code",
            "execution_count": null,
            "id": "47bdc9a2",
            "metadata": {},
            "outputs": [],
            "source": [
                "import os # type:ignore # isort:skip # fmt:skip # noqa # nopep8\n",
                "import sys # type:ignore # isort:skip # fmt:skip # noqa # nopep8\n",
                "from pathlib import Path # type:ignore # isort:skip # fmt:skip # noqa # nopep8\n",
                "\n",
                "mod = sys.modules[__name__]\n",
                "\n",
                "code_dir = None\n",
                "code_dir_name = 'Code'\n",
                "unwanted_subdir_name = 'Analysis'\n",
                "\n",
                "for _ in range(5):\n",
                "\n",
                "    parent_path = str(Path.cwd().parents[_]).split('/')[-1]\n",
                "\n",
                "    if (code_dir_name in parent_path) and (unwanted_subdir_name not in parent_path):\n",
                "\n",
                "        code_dir = str(Path.cwd().parents[_])\n",
                "\n",
                "        if code_dir is not None:\n",
                "            break\n",
                "\n",
                "sys.path.append(code_dir)\n",
                "# %load_ext autoreload\n",
                "# %autoreload 2\n"
            ]
        },
        {
            "cell_type": "code",
            "execution_count": null,
            "id": "d1bc37fc",
            "metadata": {},
            "outputs": [],
            "source": [
                "from setup_module.imports import * # type:ignore # isort:skip # fmt:skip # noqa # nopep8\n"
            ]
        },
        {
            "cell_type": "code",
            "execution_count": null,
            "id": "25a35056",
            "metadata": {},
            "outputs": [],
            "source": [
                "df_manual = pd.read_pickle(f'{df_save_dir}df_manual_ngrams_BoW.pkl').reset_index(drop=True)\n"
            ]
        },
        {
            "cell_type": "code",
            "execution_count": null,
            "id": "795034b1",
            "metadata": {},
            "outputs": [],
            "source": [
                "%%time\n",
                "# Spacy sentiment\n",
                "if 'spacytextblob' not in nlp.pipe_names:\n",
                "    nlp.add_pipe('spacytextblob')\n",
                "\n",
                "df_manual['Job Description spacy_sentiment'] = df_manual['Job Description spacy_sentencized'].progress_apply(\n",
                "    lambda sentence: float(nlp(sentence)._.blob.polarity)\n",
                "    if isinstance(sentence, str) else np.nan\n",
                ")\n"
            ]
        },
        {
            "cell_type": "code",
            "execution_count": null,
            "id": "58173ce5",
            "metadata": {},
            "outputs": [],
            "source": [
                "%%time\n",
                "# NLTK sentiment\n",
                "df_manual['Job Description nltk_sentiment'] = df_manual['Job Description spacy_sentencized'].progress_apply(\n",
                "    lambda sentence: float(sentim_analyzer.polarity_scores(sentence)['compound'])\n",
                "    if isinstance(sentence, str) else np.nan\n",
                ")\n"
            ]
        },
        {
            "cell_type": "code",
            "execution_count": null,
            "id": "ec80fe6a",
            "metadata": {},
            "outputs": [],
            "source": [
                "assert len(df_manual) > 0 and isinstance(df_manual, pd.DataFrame), f'ERORR: LENGTH OF DF = {len(df_manual)}'\n",
                "df_manual.to_pickle(f'{df_save_dir}df_manual_sentiment_spacy_nltk.pkl')\n",
                "df_manual.to_csv(f'{df_save_dir}df_manual_sentiment_spacy_nltk.csv', index=False)\n"
            ]
        },
        {
            "cell_type": "markdown",
            "id": "9db5cf4e",
            "metadata": {},
            "source": [
                "# ATTN: This script should be run AFTER all sentiment scoring (spacy and nltk) completed.\n"
            ]
        },
        {
            "cell_type": "markdown",
            "id": "baad73af",
            "metadata": {},
            "source": [
                "### START HERE IF SOURCING FROM df_manual_SENTIMENT_SPACY_NLTK\n",
                "### PLEASE SET CORRECT DIRECTORY PATHS BELOW\n"
            ]
        },
        {
            "cell_type": "markdown",
            "id": "48122d98",
            "metadata": {},
            "source": [
                "# Word2Vec and FastText embeddings\n"
            ]
        },
        {
            "cell_type": "code",
            "execution_count": null,
            "id": "57105477",
            "metadata": {},
            "outputs": [],
            "source": [
                "import os # type:ignore # isort:skip # fmt:skip # noqa # nopep8\n",
                "import sys # type:ignore # isort:skip # fmt:skip # noqa # nopep8\n",
                "from pathlib import Path # type:ignore # isort:skip # fmt:skip # noqa # nopep8\n",
                "\n",
                "mod = sys.modules[__name__]\n",
                "\n",
                "code_dir = None\n",
                "code_dir_name = 'Code'\n",
                "unwanted_subdir_name = 'Analysis'\n",
                "\n",
                "for _ in range(5):\n",
                "\n",
                "    parent_path = str(Path.cwd().parents[_]).split('/')[-1]\n",
                "\n",
                "    if (code_dir_name in parent_path) and (unwanted_subdir_name not in parent_path):\n",
                "\n",
                "        code_dir = str(Path.cwd().parents[_])\n",
                "\n",
                "        if code_dir is not None:\n",
                "            break\n",
                "\n",
                "sys.path.append(code_dir)\n",
                "# %load_ext autoreload\n",
                "# %autoreload 2\n"
            ]
        },
        {
            "cell_type": "code",
            "execution_count": null,
            "id": "fb13e58e",
            "metadata": {},
            "outputs": [],
            "source": [
                "from setup_module.imports import *  # type:ignore # isort:skip # fmt:skip # noqa # nopep8\n"
            ]
        },
        {
            "cell_type": "code",
            "execution_count": null,
            "id": "91117606",
            "metadata": {},
            "outputs": [],
            "source": [
                "def build_train_word2vec(df, ngram_number, embedding_library, size = 300, words=None, t = time.time(), cores = multiprocessing.cpu_count()):\n",
                "    if words is None:\n",
                "        words = [\n",
                "            'she',\n",
                "            'he',\n",
                "            'support',\n",
                "            'leader',\n",
                "            'management',\n",
                "            'team',\n",
                "            'business',\n",
                "            'customer',\n",
                "            'risk',\n",
                "            'build',\n",
                "            'computer',\n",
                "            'programmer',\n",
                "        ]\n",
                "    sentences = df[f'Job Description {embedding_library}_{ngram_number}grams_original_list'].values\n",
                "\n",
                "    w2v_model = Word2Vec(\n",
                "        sentences=sentences,\n",
                "        vector_size=size,\n",
                "        min_count=0,\n",
                "        window=2,\n",
                "        sample=6e-5,\n",
                "        alpha=0.03,\n",
                "        min_alpha=0.0007,\n",
                "        negative=20,\n",
                "        workers=cores - 1,\n",
                "        sg = 1,\n",
                "    )\n",
                "\n",
                "    w2v_model.build_vocab(sentences, progress_per=10000)\n",
                "    print(f'Time to train the model for {size}: {round((time.time() - t) / 60, 2)} mins')\n",
                "\n",
                "    w2v_model.train(\n",
                "        sentences,\n",
                "        total_examples=w2v_model.corpus_count,\n",
                "        epochs=30,\n",
                "        report_delay=1,\n",
                "    )\n",
                "\n",
                "    print(f'Time to build w2v_vocab for {size}: {round((time.time() - t) / 60, 2)} mins')\n",
                "    w2v_vocab = list(w2v_model.wv.index_to_key)\n",
                "\n",
                "    print(f'Checking words form list of length {len(words)}')\n",
                "    print(f'WORDS LIST: {words}')\n",
                "\n",
                "#     for word in words:\n",
                "#         print(f'Checking word:\\n{word.upper()}:')\n",
                "#         try:\n",
                "# #             print(f'Word2Vec {size}: {w2v_model.wv[word]}')\n",
                "#             print(f'Length of {size} model vobal: {len(w2v_vocab)}')\n",
                "#             print(f'{size} - Positive most similar to {word}: {w2v_model.wv.most_similar(positive=word, topn=5)}')\n",
                "#             print(f'{size} - Negative most similar to {word}: {w2v_model.wv.most_similar(negative=word, topn=5)}')\n",
                "\n",
                "#         except KeyError as e:\n",
                "#             print(e)\n",
                "\n",
                "    return w2v_vocab, w2v_model\n",
                "\n",
                "def word2vec_embeddings(sentences, w2v_vocab, w2v_model, size=300):\n",
                "\n",
                "    sentences = [word for word in sentences if word in w2v_vocab]\n",
                "\n",
                "    return (\n",
                "        np.mean(w2v_model.wv[sentences], axis=0)\n",
                "        if sentences\n",
                "        else np.zeros(size)\n",
                "    )\n",
                "\n"
            ]
        },
        {
            "cell_type": "code",
            "execution_count": null,
            "id": "69dc70f3",
            "metadata": {},
            "outputs": [],
            "source": [
                "def build_train_fasttext(df, ngram_number, embedding_library, size = 300, words=None, t = time.time(), cores = multiprocessing.cpu_count()):\n",
                "    if words is None:\n",
                "        words = [\n",
                "            'she',\n",
                "            'he',\n",
                "            'support',\n",
                "            'leader',\n",
                "            'management',\n",
                "            'team',\n",
                "            'business',\n",
                "            'customer',\n",
                "            'risk',\n",
                "            'build',\n",
                "            'computer',\n",
                "            'programmer',\n",
                "        ]\n",
                "    sentences = df[f'Job Description {embedding_library}_{ngram_number}grams_original_list'].values\n",
                "\n",
                "    ft_model = FastText(\n",
                "        sentences=sentences,\n",
                "        vector_size=size,\n",
                "        min_count=0,\n",
                "        window=2,\n",
                "        sample=6e-5,\n",
                "        alpha=0.03,\n",
                "        min_alpha=0.0007,\n",
                "        negative=20,\n",
                "        workers=cores - 1,\n",
                "        sg = 1,\n",
                "    )\n",
                "\n",
                "    ft_model.build_vocab(sentences, progress_per=10000)\n",
                "    print(f'Time to train the model for {size}: {round((time.time() - t) / 60, 2)} mins')\n",
                "\n",
                "    ft_model.train(\n",
                "        sentences,\n",
                "        total_examples=ft_model.corpus_count,\n",
                "        epochs=30,\n",
                "        report_delay=1,\n",
                "    )\n",
                "\n",
                "    print(f'Time to build vocab for {size}: {round((time.time() - t) / 60, 2)} mins')\n",
                "    ft_vocab = list(ft_model.wv.index_to_key)\n",
                "\n",
                "    print(f'Checking words form list of length {len(words)}')\n",
                "    print(f'WORDS LIST: {words}')\n",
                "\n",
                "#     for word in words:\n",
                "#         print(f'Checking word:\\n{word.upper()}:')\n",
                "#         try:\n",
                "# #             print(f'FastText {size}: {ft_model_300.wv[word]}')\n",
                "#             print(f'Length of {size} model vobal: {len(ft_vocab)}')\n",
                "#             print(f'{size} - Positive most similar to {word}: {ft_model.wv.most_similar(positive=word, topn=5)}')\n",
                "#             print(f'{size} - Negative most similar to {word}: {ft_model.wv.most_similar(negative=word, topn=5)}')\n",
                "\n",
                "#         except KeyError as e:\n",
                "#             print(e)\n",
                "\n",
                "    return ft_vocab, ft_model\n",
                "\n",
                "def fasttext_embeddings(sentences, ft_vocab, ft_model, size=300):\n",
                "\n",
                "    sentences = [word for word in sentences if word in ft_vocab]\n",
                "\n",
                "    return np.mean(ft_model.wv[sentences], axis=0) if sentences else np.zeros(size)\n"
            ]
        },
        {
            "cell_type": "code",
            "execution_count": null,
            "id": "b6d43d45",
            "metadata": {},
            "outputs": [],
            "source": [
                "def get_glove(glove_file = f'{llm_path}/gensim/glove/glove.840B.300d.txt'):\n",
                "    embeddings_index = {}\n",
                "    with open(glove_file, 'r', encoding='utf8') as glove:\n",
                "\n",
                "        for line in glove:\n",
                "            values = line.split()\n",
                "            word = values[0]\n",
                "\n",
                "            with contextlib.suppress(ValueError):\n",
                "                coefs = np.asarray(values[1:], dtype='float32')\n",
                "                embeddings_index[word] = coefs\n",
                "    print(f'Found {len(embeddings_index)} word vectors.')\n",
                "\n",
                "    return embeddings_index\n"
            ]
        },
        {
            "cell_type": "code",
            "execution_count": null,
            "id": "1022f815",
            "metadata": {},
            "outputs": [],
            "source": [
                "def sent2vec(sentences, embeddings_index=None, external_glove=True, extra_preprocessing_enabled=False):\n",
                "\n",
                "    if external_glove is False and embeddings_index is None:\n",
                "        embeddings_index= get_glove()\n",
                "\n",
                "    if extra_preprocessing_enabled is False:\n",
                "        words = sentences\n",
                "\n",
                "    elif extra_preprocessing_enabled is True:\n",
                "        stop_words = set(sw.words('english'))\n",
                "        words = str(sentences).lower()\n",
                "        words = word_tokenize(words)\n",
                "        words = [w for w in words if (w not in stop_words) and (w.isalpha())]\n",
                "\n",
                "    M = []\n",
                "\n",
                "    try:\n",
                "        for w in words:\n",
                "            try:\n",
                "                M.append(embeddings_index[w])\n",
                "            except Exception:\n",
                "                continue\n",
                "\n",
                "        M = np.array(M)\n",
                "        v = M.sum(axis='index')\n",
                "        return np.zeros(300) if type(v) != np.ndarray else v / np.sqrt((v ** 2).sum())\n",
                "\n",
                "    except Exception:\n",
                "        return np.zeros(300)\n"
            ]
        },
        {
            "cell_type": "code",
            "execution_count": null,
            "id": "a512f2b4",
            "metadata": {},
            "outputs": [],
            "source": [
                "df_manual = pd.read_pickle(f'{df_save_dir}df_manual_sentiment_spacy_nltk.pkl').reset_index(drop=True)\n"
            ]
        },
        {
            "cell_type": "code",
            "execution_count": null,
            "id": "5c0675fd",
            "metadata": {},
            "outputs": [],
            "source": [
                "embedding_models_dict = {\n",
                "    'w2v': [build_train_word2vec, word2vec_embeddings, Word2Vec],\n",
                "    'ft': [build_train_fasttext, fasttext_embeddings, FastText],\n",
                "}\n"
            ]
        },
        {
            "cell_type": "code",
            "execution_count": null,
            "id": "bd6f55d3",
            "metadata": {},
            "outputs": [],
            "source": [
                "%%time\n",
                "# Make embeddings\n",
                "ngrams_list=[1, 2, 3, 123]\n",
                "embedding_libraries_list = ['spacy', 'nltk', 'gensim']\n",
                "\n",
                "for embedding_library, ngram_number in tqdm_product(embedding_libraries_list, ngrams_list):\n",
                "    print(f'Building {embedding_library}_{ngram_number}grams model and vocabulary.')\n",
                "\n",
                "    for embed_model_name, embed_func_list in embedding_models_dict.items():\n",
                "\n",
                "        build_train_func, embed_func, model_loader = embed_func_list\n",
                "        print(f'Building {embed_model_name} from {embed_func.__name__} function.')\n",
                "\n",
                "        vocab, model = build_train_func(\n",
                "            df=df_manual,\n",
                "            ngram_number=ngram_number,\n",
                "            embedding_library=embedding_library,\n",
                "        )\n",
                "\n",
                "        print(f'Getting {embed_model_name} embeddings.')\n",
                "\n",
                "        df_manual[\n",
                "            f'Job Description {embedding_library}_{ngram_number}grams_mean_{embed_model_name}_embeddings'\n",
                "        ] = df_manual[\n",
                "            f'Job Description {embedding_library}_{ngram_number}grams_original_list'\n",
                "        ].progress_apply(\n",
                "            lambda sentences: embed_func(sentences, vocab, model)\n",
                "        )\n",
                "        model.save(f'{data_dir}embeddings models/{embedding_library}_{ngram_number}grams_{embed_model_name}_model.model')\n",
                "\n",
                "    # Sent2Vec\n",
                "    print('Getting sent2vec embeddings.')\n",
                "    embeddings_index = get_glove()\n",
                "    df_manual[f'Job Description {embedding_library}_{ngram_number}grams_sent2vec_embeddings'] = df_manual[f'Job Description {embedding_library}_{ngram_number}grams'].progress_apply(lambda sentences: sent2vec(sentences, embeddings_index=embeddings_index, external_glove=True, extra_preprocessing_enabled=False))\n",
                "    print('Done getting sent2vec embeddings.')\n"
            ]
        },
        {
            "cell_type": "code",
            "execution_count": null,
            "id": "f1cd59ac",
            "metadata": {},
            "outputs": [],
            "source": [
                "assert len(df_manual) > 0 and isinstance(df_manual, pd.DataFrame), f'ERORR: LENGTH OF DF = {len(df_manual)}'\n",
                "df_manual.to_pickle(f'{df_save_dir}df_manual_for_trainning.pkl')\n",
                "df_manual.to_csv(f'{df_save_dir}df_manual_for_trainning.csv', index=False)\n"
            ]
        },
        {
            "cell_type": "code",
            "execution_count": null,
            "id": "85d3eef0",
            "metadata": {},
            "outputs": [],
            "source": []
        }
    ],
    "metadata": {
        "kernelspec": {
            "display_name": "study1_3.10",
            "language": "python",
            "name": "python3"
        },
        "language_info": {
            "codemirror_mode": {
                "name": "ipython",
                "version": 3
            },
            "file_extension": ".py",
            "mimetype": "text/x-python",
            "name": "python",
            "nbconvert_exporter": "python",
            "pygments_lexer": "ipython3",
            "version": "3.10.10"
        },
        "varInspector": {
            "cols": {
                "lenName": 16,
                "lenType": 16,
                "lenVar": 40
            },
            "kernels_config": {
                "python": {
                    "delete_cmd_postfix": "",
                    "delete_cmd_prefix": "del ",
                    "library": "var_list.py",
                    "varRefreshCmd": "print(var_dic_list())"
                },
                "r": {
                    "delete_cmd_postfix": ") ",
                    "delete_cmd_prefix": "rm(",
                    "library": "var_list.r",
                    "varRefreshCmd": "cat(var_dic_list()) "
                }
            },
            "types_to_exclude": [
                "module",
                "function",
                "builtin_function_or_method",
                "instance",
                "_Feature"
            ],
            "window_display": false
        },
        "widgets": {
            "application/vnd.jupyter.widget-state+json": {
                "state": {},
                "version_major": 2,
                "version_minor": 0
            }
        }
    },
    "nbformat": 4,
    "nbformat_minor": 5
}
