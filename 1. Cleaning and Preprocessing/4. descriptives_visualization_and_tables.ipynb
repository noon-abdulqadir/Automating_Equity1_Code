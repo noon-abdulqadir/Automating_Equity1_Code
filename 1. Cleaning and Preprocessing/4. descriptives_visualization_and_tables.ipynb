{
	"cells": [
		{
			"cell_type": "markdown",
			"id": "80ad88d4",
			"metadata": {},
			"source": [
				"# ATTN: This script should be run AFTER all embeddings are completed.\n"
			]
		},
		{
			"attachments": {},
			"cell_type": "markdown",
			"id": "17f0f797",
			"metadata": {},
			"source": [
				"### START HERE IF SOURCING FROM DF_JOBS\n",
				"\n",
				"### PLEASE SET CORRECT DIRECTORY PATHS BELOW\n"
			]
		},
		{
			"cell_type": "markdown",
			"id": "b9d749de",
			"metadata": {},
			"source": [
				"# Descriptives and visualization\n"
			]
		},
		{
			"cell_type": "code",
			"execution_count": null,
			"id": "ec2c1ce1",
			"metadata": {},
			"outputs": [],
			"source": [
				"import os  # type:ignore # isort:skip # fmt:skip # noqa # nopep8\n",
				"import sys  # type:ignore # isort:skip # fmt:skip # noqa # nopep8\n",
				"from pathlib import Path  # type:ignore # isort:skip # fmt:skip # noqa # nopep8\n",
				"\n",
				"mod = sys.modules[__name__]\n",
				"\n",
				"code_dir = None\n",
				"code_dir_name = 'Code'\n",
				"unwanted_subdir_name = 'Analysis'\n",
				"\n",
				"for _ in range(5):\n",
				"\n",
				"    parent_path = str(Path.cwd().parents[_]).split('/')[-1]\n",
				"\n",
				"    if (code_dir_name in parent_path) and (unwanted_subdir_name not in parent_path):\n",
				"\n",
				"        code_dir = str(Path.cwd().parents[_])\n",
				"\n",
				"        if code_dir is not None:\n",
				"            break\n",
				"\n",
				"sys.path.append(code_dir)\n",
				"# %load_ext autoreload\n",
				"# %autoreload 2\n"
			]
		},
		{
			"cell_type": "code",
			"execution_count": null,
			"id": "2123b715",
			"metadata": {},
			"outputs": [],
			"source": [
				"from setup_module.imports import *  # type:ignore # isort:skip # fmt:skip # noqa # nopep8\n"
			]
		},
		{
			"cell_type": "code",
			"execution_count": null,
			"id": "31ea63e5",
			"metadata": {},
			"outputs": [],
			"source": [
				"df_jobs = pd.read_pickle(\n",
				"    f'{df_save_dir}df_jobs_for_trainning.pkl')\n"
			]
		},
		{
			"cell_type": "code",
			"execution_count": null,
			"id": "e81174a5",
			"metadata": {},
			"outputs": [],
			"source": [
				"# All info\n",
				"df_jobs.info()\n",
				"\n",
				"# Gender and Age info by job ad\n",
				"print('='*30)\n",
				"print('Gender and Age info at Sentence Level')\n",
				"print('-'*30)\n",
				"get_df_info(df_jobs, ivs_all=ivs_all)\n",
				"\n",
				"# Gender and Age info by job ad\n",
				"print('='*30)\n",
				"print('Gender and Age info at Job Advertisement Level')\n",
				"print('-'*30)\n",
				"get_df_info(df_manual.groupby(['Job ID']).first(), ivs_all=ivs_all)\n"
			]
		},
		{
			"cell_type": "code",
			"execution_count": null,
			"id": "e9bc7643",
			"metadata": {},
			"outputs": [],
			"source": [
				"# Ploting Gender and Age\n",
				"df_gender_transposed = df_jobs['Gender'].value_counts(\n",
				"    normalize=True).mul(100).round(2).astype(float).to_frame().T\n",
				"df_age_transposed = df_jobs['Age'].value_counts(\n",
				"    normalize=True).mul(100).round(2).astype(float).to_frame().T\n",
				"\n",
				"fig, axs = plt.subplots(1, 2)\n",
				"fig.suptitle('Training Dataset: Gender and Age Sentence Percentages')\n",
				"\n",
				"df_gender_transposed.plot(\n",
				"    kind='bar', legend=True, stacked=True, ax=axs[0], color=['C5', 'C2', 'C0']\n",
				")\n",
				"df_age_transposed.plot(\n",
				"    kind='bar', legend=True, stacked=True, ax=axs[1], color=['C5', 'C2', 'C0']\n",
				")\n",
				"\n",
				"for ax in axs:\n",
				"    for container in ax.containers:\n",
				"        labels = [f'{height:.1f}%' for v in container if (\n",
				"            height := v.get_height()) > 0]\n",
				"        ax.bar_label(container, labels=labels,\n",
				"                     label_type='center', color='white')\n",
				"        ax.legend(loc='upper right', fontsize=8)\n",
				"\n",
				"for save_format in ['eps', 'png']:\n",
				"    fig.savefig(\n",
				"        f'{plot_save_path}Collected Gender and Age Sentences.{save_format}',\n",
				"        format=save_format, dpi=3000, bbox_inches='tight'\n",
				"    )\n"
			]
		},
		{
			"cell_type": "markdown",
			"id": "fce5374c",
			"metadata": {},
			"source": [
				"# ATTN: This script should be run AFTER all visualizations are completed.\n"
			]
		},
		{
			"attachments": {},
			"cell_type": "markdown",
			"id": "7ad47be1",
			"metadata": {},
			"source": [
				"### START HERE IF SOURCING FROM DF_JOBS_FOR_TRAINNING\n",
				"\n",
				"### PLEASE SET CORRECT DIRECTORY PATHS BELOW\n"
			]
		},
		{
			"cell_type": "markdown",
			"id": "c595a522",
			"metadata": {},
			"source": [
				"# Make descriptive tables\n"
			]
		},
		{
			"cell_type": "code",
			"execution_count": null,
			"id": "a71ed5cf",
			"metadata": {},
			"outputs": [],
			"source": [
				"import os  # type:ignore # isort:skip # fmt:skip # noqa # nopep8\n",
				"import sys  # type:ignore # isort:skip # fmt:skip # noqa # nopep8\n",
				"from pathlib import Path  # type:ignore # isort:skip # fmt:skip # noqa # nopep8\n",
				"\n",
				"mod = sys.modules[__name__]\n",
				"\n",
				"code_dir = None\n",
				"code_dir_name = 'Code'\n",
				"unwanted_subdir_name = 'Analysis'\n",
				"\n",
				"for _ in range(5):\n",
				"\n",
				"    parent_path = str(Path.cwd().parents[_]).split('/')[-1]\n",
				"\n",
				"    if (code_dir_name in parent_path) and (unwanted_subdir_name not in parent_path):\n",
				"\n",
				"        code_dir = str(Path.cwd().parents[_])\n",
				"\n",
				"        if code_dir is not None:\n",
				"            break\n",
				"\n",
				"sys.path.append(code_dir)\n",
				"# %load_ext autoreload\n",
				"# %autoreload 2\n"
			]
		},
		{
			"cell_type": "code",
			"execution_count": null,
			"id": "90e6cc39",
			"metadata": {},
			"outputs": [],
			"source": [
				"from setup_module.imports import *  # type:ignore # isort:skip # fmt:skip # noqa # nopep8\n"
			]
		},
		{
			"cell_type": "code",
			"execution_count": null,
			"id": "73bfb560",
			"metadata": {},
			"outputs": [],
			"source": [
				"# Function to make descriptives tables\n",
				"def make_descriptives_table(df, v, level):\n",
				"\n",
				"    gender_order = ['Female', 'Male', 'Mixed Gender']\n",
				"    age_order = ['Older', 'Younger', 'Mixed Age']\n",
				"    ivs_dict = {'Gender': gender_order, 'Age': age_order}\n",
				"\n",
				"    binary_order = [0, 1]\n",
				"    dvs_dict = {'Warmth': binary_order, 'Competence': binary_order}\n",
				"\n",
				"    if level.title() == 'Job':\n",
				"        level_df = df.groupby(['Job ID']).first()\n",
				"    elif level.title() == 'Sentence':\n",
				"        level_df = df\n",
				"    else:\n",
				"        raise Exception(f'Specified level {level} not in data.')\n",
				"\n",
				"    if v in list(ivs_dict.keys()):\n",
				"        cat_dict = ivs_dict\n",
				"        index = [\n",
				"            f'{v_cat}-dominated'\n",
				"            if 'Mixed' not in v_cat\n",
				"            else\n",
				"            f'{\"-\".join(iv_cat.split())}'\n",
				"            for v_cat in cat_dict[v]\n",
				"        ]\n",
				"        caption = [\n",
				"            f'{v}_{v_cat.split()[0]}'\n",
				"            for v_cat in cat_dict[v]\n",
				"        ]\n",
				"    elif v in list(dvs_dict.keys()):\n",
				"        cat_dict = dvs_dict\n",
				"        index = str(\n",
				"            f'{v_cat}'\n",
				"            for v_cat in cat_dict[v]\n",
				"        )\n",
				"        caption = level_df[v]\n",
				"\n",
				"    desc_dict = {\n",
				"        'Sectors': index,\n",
				"        'n': [\n",
				"            level_df[v].value_counts()[v_cat]\n",
				"            for v_cat in cat_dict[v]\n",
				"        ],\n",
				"        '%': [\n",
				"            level_df[v].value_counts(normalize=True).mul(\n",
				"                100).round(2).astype(float)[v_cat]\n",
				"            for v_cat in cat_dict[v]\n",
				"        ],\n",
				"        'M': [\n",
				"            level_df[caption].mean().round(2).astype(float)\n",
				"            for v_cat in cat_dict[v]\n",
				"        ],\n",
				"        'S.D.': [\n",
				"            level_df[caption].std().round(2).astype(float)\n",
				"            for v_cat in cat_dict[v]\n",
				"        ]\n",
				"    }\n",
				"\n",
				"    # Make DF from dict\n",
				"    df_desc = pd.DataFrame(desc_dict)\n",
				"    df_desc = df_desc.set_index('Sectors')\n",
				"\n",
				"    return df_desc\n"
			]
		},
		{
			"cell_type": "code",
			"execution_count": null,
			"id": "904993be",
			"metadata": {},
			"outputs": [],
			"source": [
				"def make_multiindex_cols(data_type='Collected', iv='Gender', data_structure='Job Advertisements'):\n",
				"\n",
				"    if iv.title() == 'Gender':\n",
				"        cols = [\n",
				"            (f'{data_type.title()} Job Advertisements',\n",
				"             f'{iv} Groups', data_structure.title(), 'n'),\n",
				"            (f'{data_type.title()} Job Advertisements',\n",
				"             f'{iv} Groups', data_structure.title(), '%'),\n",
				"            (f'{data_type.title()} Job Advertisements',\n",
				"             f'{iv} Groups', data_structure.title(), 'M'),\n",
				"            (f'{data_type.title()} Job Advertisements',\n",
				"             f'{iv} Groups', data_structure.title(), 'S.D.'),\n",
				"        ]\n",
				"    elif iv.title() == 'Age':\n",
				"        cols = [\n",
				"            (f'{iv} Groups', data_structure.title(), 'n'),\n",
				"            (f'{iv} Groups', data_structure.title(), '%'),\n",
				"            (f'{iv} Groups', data_structure.title(), 'M'),\n",
				"            (f'{iv} Groups', data_structure.title(), 'S.D.'),\n",
				"        ]\n",
				"\n",
				"    return cols\n"
			]
		},
		{
			"cell_type": "code",
			"execution_count": null,
			"id": "f6ff05c5",
			"metadata": {},
			"outputs": [],
			"source": [
				"df_jobs = pd.read_pickle(\n",
				"    f'{df_save_dir}df_jobs_for_trainning.pkl')\n"
			]
		},
		{
			"cell_type": "code",
			"execution_count": null,
			"id": "52e4cc5a",
			"metadata": {},
			"outputs": [],
			"source": [
				"# Make dfs for Warmth and Competence\n",
				"df_desc_warmth_job = make_descriptives_table(df_jobs, 'Warmth', 'Job')\n",
				"df_desc_comp_job = make_descriptives_table(df_jobs, 'Competence', 'Job')\n",
				"df_desc_warmth_sent = make_descriptives_table(df_jobs, 'Warmth', 'Sentence')\n",
				"df_desc_comp_sent = make_descriptives_table(df_jobs, 'Competence', 'Sentence')\n"
			]
		},
		{
			"cell_type": "code",
			"execution_count": null,
			"id": "8140ea0f",
			"metadata": {},
			"outputs": [],
			"source": [
				"# Make dfs for Gender and Age\n",
				"df_desc_gender_job = make_descriptives_table(df_jobs, 'Gender', 'Job')\n",
				"df_desc_age_job = make_descriptives_table(df_jobs, 'Age', 'Job')\n",
				"df_desc_gender_sent = make_descriptives_table(df_jobs, 'Gender', 'Sentence')\n",
				"df_desc_age_sent = make_descriptives_table(df_jobs, 'Age', 'Sentence')\n"
			]
		},
		{
			"cell_type": "code",
			"execution_count": null,
			"id": "c34fb4fa",
			"metadata": {},
			"outputs": [],
			"source": [
				"# Make dfs into multiindex dfs\n",
				"df_desc_gender_job.columns = pd.MultiIndex.from_tuples(\n",
				"    make_multiindex_cols(\n",
				"        data_type='Collected', iv='Gender', data_structure='Job Advertisements'\n",
				"    )\n",
				")\n",
				"df_desc_gender_sent.columns = pd.MultiIndex.from_tuples(\n",
				"    make_multiindex_cols(\n",
				"        data_type='Collected', iv='Gender', data_structure='Sentences'\n",
				"    )\n",
				")\n",
				"df_desc_age_job.columns = pd.MultiIndex.from_tuples(\n",
				"    make_multiindex_cols(\n",
				"        data_type='Collected', iv='Age', data_structure='Job Advertisements'\n",
				"    )\n",
				")\n",
				"df_desc_age_sent.columns = pd.MultiIndex.from_tuples(\n",
				"    make_multiindex_cols(\n",
				"        data_type='Collected', iv='Age', data_structure='Sentences'\n",
				"    )\n",
				")\n"
			]
		},
		{
			"cell_type": "code",
			"execution_count": null,
			"id": "c8221f92",
			"metadata": {},
			"outputs": [],
			"source": [
				"# Merge DFs for Gender and Age\n",
				"df_desc_gender = pd.merge(\n",
				"    df_desc_gender_job, df_desc_gender_sent, left_index=True, right_index=True)\n",
				"df_desc_age = pd.merge(df_desc_age_job, df_desc_age_sent,\n",
				"                       left_index=True, right_index=True)\n"
			]
		},
		{
			"cell_type": "code",
			"execution_count": null,
			"id": "b871dfcc",
			"metadata": {},
			"outputs": [],
			"source": [
				"# Save Tables\n",
				"# Gender\n",
				"df_desc_gender.to_csv(\n",
				"    f'{table_save_path}Gender - Collected Job Advertisement Descriptives.csv', index=False)\n",
				"df_desc_gender.to_pickle(\n",
				"    f'{table_save_path}Gender - Collected Job Advertisement Descriptives.pkl')\n",
				"with pd.option_context('max_colwidth', 10000000000):\n",
				"    df_desc_gender.style.to_latex(\n",
				"        f'{table_save_path}Gender - Collected Job Advertisement Descriptives.tex',\n",
				"        convert_css=True,\n",
				"        environment='longtable',\n",
				"        # escape=True,\n",
				"        # multicolumn=True,\n",
				"        multicol_align='c',\n",
				"        position='H',\n",
				"        label='Jobs Count per Sector (x 1000)',\n",
				"        caption='Sectoral Gender and Age Composition and Segregation, Keywords, Counts, and Percentages',\n",
				"    )\n",
				"df_desc_gender.to_markdown(\n",
				"    f'{table_save_path}Gender - Collected Job Advertisement Descriptives.md', index=True)\n",
				"# save_sector_excel(df_sectors_all, data_save_dir)\n",
				"\n",
				"# Age\n",
				"df_desc_age.to_csv(\n",
				"    f'{table_save_path}Age - Collected Job Advertisement Descriptives.csv', index=False)\n",
				"df_desc_age.to_pickle(\n",
				"    f'{table_save_path}Age - Collected Job Advertisement Descriptives.pkl')\n",
				"with pd.option_context('max_colwidth', 10000000000):\n",
				"    df_desc_age.style.to_latex(\n",
				"        f'{table_save_path}Age - Collected Job Advertisement Descriptives.tex',\n",
				"        convert_css=True,\n",
				"        environment='longtable',\n",
				"        # escape=True,\n",
				"        # multicolumn=True,\n",
				"        multicol_align='c',\n",
				"        position='H',\n",
				"        label='Jobs Count per Sector (x 1000)',\n",
				"        caption='Sectoral Gender and Age Composition and Segregation, Keywords, Counts, and Percentages',\n",
				"    )\n",
				"df_desc_age.to_markdown(\n",
				"    f'{table_save_path}Age - Collected Job Advertisement Descriptives.md', index=True)\n",
				"# save_sector_excel(df_sectors_all, data_save_dir)\n"
			]
		},
		{
			"cell_type": "code",
			"execution_count": null,
			"id": "0b2572a6",
			"metadata": {},
			"outputs": [],
			"source": []
		}
	],
	"metadata": {
		"kernelspec": {
			"display_name": "study1_3.10",
			"language": "python",
			"name": "study1_3.10"
		},
		"language_info": {
			"codemirror_mode": {
				"name": "ipython",
				"version": 3
			},
			"file_extension": ".py",
			"mimetype": "text/x-python",
			"name": "python",
			"nbconvert_exporter": "python",
			"pygments_lexer": "ipython3",
			"version": "3.10.10"
		},
		"varInspector": {
			"cols": {
				"lenName": 16,
				"lenType": 16,
				"lenVar": 40
			},
			"kernels_config": {
				"python": {
					"delete_cmd_postfix": "",
					"delete_cmd_prefix": "del ",
					"library": "var_list.py",
					"varRefreshCmd": "print(var_dic_list())"
				},
				"r": {
					"delete_cmd_postfix": ") ",
					"delete_cmd_prefix": "rm(",
					"library": "var_list.r",
					"varRefreshCmd": "cat(var_dic_list()) "
				}
			},
			"types_to_exclude": [
				"module",
				"function",
				"builtin_function_or_method",
				"instance",
				"_Feature"
			],
			"window_display": false
		}
	},
	"nbformat": 4,
	"nbformat_minor": 5
}
