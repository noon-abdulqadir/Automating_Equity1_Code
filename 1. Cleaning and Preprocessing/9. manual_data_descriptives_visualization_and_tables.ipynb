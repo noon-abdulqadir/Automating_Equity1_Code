{
    "cells": [
        {
            "cell_type": "markdown",
            "id": "923f8888",
            "metadata": {},
            "source": [
                "# ATTN: This script should be run AFTER all embeddings are completed.\n"
            ]
        },
        {
            "cell_type": "markdown",
            "id": "1795b68f",
            "metadata": {},
            "source": [
                "### START HERE IF SOURCING FROM df_manual_FOR_TRAINNING\n",
                "### PLEASE SET CORRECT DIRECTORY PATHS BELOW\n"
            ]
        },
        {
            "cell_type": "markdown",
            "id": "79862f16",
            "metadata": {},
            "source": [
                "# Descriptives and visualization\n"
            ]
        },
        {
            "cell_type": "code",
            "execution_count": null,
            "id": "1245d864",
            "metadata": {},
            "outputs": [],
            "source": [
                "import os\n",
                "import sys\n",
                "import importlib\n",
                "from pathlib import Path\n",
                "import numpy as np\n",
                "\n",
                "mod = sys.modules[__name__]\n",
                "\n",
                "code_dir = None\n",
                "code_dir_name = 'Code'\n",
                "unwanted_subdir_name = 'Analysis'\n",
                "\n",
                "for _ in range(5):\n",
                "\n",
                "    parent_path = str(Path.cwd().parents[_]).split('/')[-1]\n",
                "\n",
                "    if (code_dir_name in parent_path) and (unwanted_subdir_name not in parent_path):\n",
                "\n",
                "        code_dir = str(Path.cwd().parents[_])\n",
                "\n",
                "        if code_dir is not None:\n",
                "            break\n",
                "\n",
                "sys.path.append(code_dir)\n",
                "# %load_ext autoreload\n",
                "# %autoreload 2\n"
            ]
        },
        {
            "cell_type": "code",
            "execution_count": null,
            "id": "e1bee517",
            "metadata": {},
            "outputs": [],
            "source": [
                "from setup_module.imports import *\n"
            ]
        },
        {
            "cell_type": "code",
            "execution_count": null,
            "id": "7fb174c3",
            "metadata": {},
            "outputs": [],
            "source": [
                "def df_gender_age_info(df, ivs_all=None):\n",
                "    if ivs_all is None:\n",
                "        ivs_all = [\n",
                "            'Gender',\n",
                "            'Gender_Num',\n",
                "            'Gender_Female',\n",
                "            'Gender_Mixed',\n",
                "            'Gender_Male',\n",
                "            'Age',\n",
                "            'Age_Num',\n",
                "            'Age_Older',\n",
                "            'Age_Mixed',\n",
                "            'Age_Younger',\n",
                "        ]\n",
                "    # Print Info\n",
                "    print('\\nDF INFO:\\n')\n",
                "    df.info()\n",
                "\n",
                "    for iv in ivs_all:\n",
                "        try:\n",
                "            counts = df[f'{iv}'].value_counts()\n",
                "            percentages = df[f'{iv}'].value_counts(normalize=True).mul(100).round(1).astype(float)\n",
                "            print('='*20)\n",
                "            print(f'{iv}:')\n",
                "            print('-'*20)\n",
                "            print(f'{iv} Counts:\\n{counts}')\n",
                "            print('-'*20)\n",
                "            print(f'{iv} Percentages:\\n{percentages}')\n",
                "\n",
                "            with contextlib.suppress(Exception):\n",
                "                mean = df[f\"{iv}\"].mean().round(2).astype(float)\n",
                "                sd = df[f\"{iv}\"].std().round(2).astype(float)\n",
                "                print('-'*20)\n",
                "                print(f'{iv} Mean: {mean}')\n",
                "                print('-'*20)\n",
                "                print(f'{iv} Standard Deviation: {sd}')\n",
                "\n",
                "        except Exception:\n",
                "            print(f'{iv} not available.')\n",
                "\n",
                "    print('\\n')\n"
            ]
        },
        {
            "cell_type": "code",
            "execution_count": null,
            "id": "245dd780",
            "metadata": {},
            "outputs": [],
            "source": [
                "# Function to order categories\n",
                "def categorize_df_gender_age(df, gender_order=None, age_order=None, ivs=None):\n",
                "    if gender_order is None:\n",
                "        gender_order = ['Female', 'Mixed Gender', 'Male']\n",
                "    if age_order is None:\n",
                "        age_order = ['Older', 'Mixed Age', 'Younger']\n",
                "    if ivs is None:\n",
                "        ivs = ['Gender', 'Age']\n",
                "    # Arrange Categories\n",
                "    for iv in ivs:\n",
                "        if iv == 'Gender':\n",
                "            order = gender_order\n",
                "        elif iv == 'Age':\n",
                "            order = age_order\n",
                "        try:\n",
                "            df[iv] = df[iv].astype('category').cat.reorder_categories(order, ordered=True)\n",
                "\n",
                "            df[iv] = pd.Categorical(\n",
                "                df[iv], categories=order, ordered=True\n",
                "            )\n",
                "            df[f'{iv}_Num'] = pd.to_numeric(df[iv].cat.codes).astype('int64')\n",
                "        except ValueError as e:\n",
                "            print(e)\n",
                "\n",
                "    return df\n"
            ]
        },
        {
            "cell_type": "code",
            "execution_count": null,
            "id": "5ff3d20a",
            "metadata": {},
            "outputs": [],
            "source": [
                "df_manual = pd.read_pickle(f'{df_save_dir}df_manual_for_trainning.pkl').reset_index(drop=True)\n"
            ]
        },
        {
            "cell_type": "code",
            "execution_count": null,
            "id": "681db815-a531-4ace-a8a3-cb957945bde1",
            "metadata": {
                "tags": []
            },
            "outputs": [],
            "source": [
                "# All info\n",
                "analysis_columns = [\n",
                "    'Warmth',\n",
                "    'Competence'\n",
                "]\n",
                "\n",
                "df_manual = categorize_df_gender_age(df_manual)\n",
                "\n",
                "df_manual.info()\n",
                "\n",
                "# Gender and Age info by job ad\n",
                "print('='*30)\n",
                "print('Gender and Age info at Sentence Level')\n",
                "print('-'*30)\n",
                "df_gender_age_info(df_manual)\n",
                "\n",
                "# Gender and Age info by job ad\n",
                "print('='*30)\n",
                "print('Gender and Age info at Job Advertisement Level')\n",
                "print('-'*30)\n",
                "df_gender_age_info(df_manual.groupby(['Job ID']).first())\n",
                "\n",
                "# Warmth and Competence info by job ad\n",
                "print('='*30)\n",
                "print('Warmth and Competence info at Sentence Level')\n",
                "print('-'*30)\n",
                "df_gender_age_info(df_manual, ivs_all = analysis_columns)\n",
                "\n",
                "# Warmth and Competence info by job ad\n",
                "print('='*30)\n",
                "print('Warmth and Competence info at Job Advertisement Level')\n",
                "print('-'*30)\n",
                "df_gender_age_info(df_manual.groupby(['Job ID']).first(), ivs_all = analysis_columns)\n"
            ]
        },
        {
            "cell_type": "code",
            "execution_count": null,
            "id": "7dcfd6de-970d-43c0-b29f-5e61cae2bdb8",
            "metadata": {
                "tags": []
            },
            "outputs": [],
            "source": [
                "# Imbalance Ratio\n",
                "warmth_imbalance_ratio = df_manual['Warmth'].loc[\n",
                "    df_manual['Warmth'] == 1].count()/df_manual['Warmth'].loc[df_manual['Warmth'] == 0\n",
                "].count()\n",
                "competence_imbalance_ratio = df_manual['Competence'].loc[\n",
                "    df_manual['Competence'] == 1].count()/df_manual['Competence'].loc[df_manual['Competence'] == 0\n",
                "].count()\n",
                "\n",
                "all_imbalance_ratio_dict = {\n",
                "    'Warmth': warmth_imbalance_ratio,\n",
                "    'Competence': competence_imbalance_ratio\n",
                "}\n",
                "\n",
                "print('='*20)\n",
                "print('Imabalance Ratios')\n",
                "print('-'*10)\n",
                "print(f'Warmth IR: {warmth_imbalance_ratio:.2f}')\n",
                "print(f'Competence IR: {competence_imbalance_ratio:.2f}')\n",
                "print('='*20)\n"
            ]
        },
        {
            "cell_type": "code",
            "execution_count": null,
            "id": "1e139202-9f4b-4a83-8164-d13ca74dff98",
            "metadata": {
                "tags": []
            },
            "outputs": [],
            "source": [
                "# Ploting Warmth and Competence\n",
                "df_warm_comp_transposed = pd.concat(\n",
                "    [\n",
                "        df_manual['Warmth'].value_counts(normalize=True).mul(100).round(2).astype(float).to_frame().T,\n",
                "        df_manual['Competence'].value_counts(normalize=True).mul(100).round(2).astype(float).to_frame().T,\n",
                "    ]\n",
                ")\n",
                "\n",
                "fig, ax = plt.subplots()\n",
                "ax.set_title('Training Dataset: Warmth and Competence Sentence Percentages')\n",
                "ax.set_xlabel('Manually Annotated Sentencence Warmth and Competence Percentage from Total')\n",
                "\n",
                "df_warm_comp_transposed.plot(\n",
                "    kind='barh', legend=True, stacked=True, ax=ax, color=['C5', 'C0'],\n",
                ")\n",
                "ax.legend(['Absent', 'Present'])\n",
                "\n",
                "for container in ax.containers:\n",
                "    labels = [f'{width:.1f}%' for v in container if float(width:= v.get_width())]\n",
                "    ax.bar_label(container, labels=labels, label_type='center', color='white')\n",
                "    ax.set_xlabel('% Job Ad Sentences')\n",
                "\n",
                "for i, tick_label in enumerate(ax.get_ymajorticklabels()):\n",
                "    ax.annotate(\n",
                "        f'IR for {tick_label.get_text()} = {all_imbalance_ratio_dict[tick_label.get_text()]:.2f}',\n",
                "        xy=(48, 0.3+i), ha='center', va='center'\n",
                "    )\n",
                "\n",
                "for save_format in ['eps', 'png']:\n",
                "    fig.savefig(\n",
                "        f'{plot_save_path}Manually Annotated Warmth and Competence Sentences.{save_format}',\n",
                "        format=save_format, dpi=3000, bbox_inches='tight'\n",
                "    )\n"
            ]
        },
        {
            "cell_type": "code",
            "execution_count": null,
            "id": "42c70b2b-8d54-40b1-930c-62b853a3219e",
            "metadata": {
                "scrolled": false,
                "tags": []
            },
            "outputs": [],
            "source": [
                "# Ploting Gender and Age\n",
                "df_gender_transposed = df_manual['Gender'].value_counts(normalize=True).mul(100).round(2).astype(float).to_frame().T\n",
                "df_age_transposed = df_manual['Age'].value_counts(normalize=True).mul(100).round(2).astype(float).to_frame().T\n",
                "\n",
                "fig, axs = plt.subplots(1, 2)\n",
                "fig.suptitle('Training Dataset: Gender and Age Sentence Percentages')\n",
                "\n",
                "df_gender_transposed.plot(\n",
                "    kind='bar', legend=True, stacked=True, ax=axs[0], color=['C5', 'C2', 'C0']\n",
                ")\n",
                "df_age_transposed.plot(\n",
                "    kind='bar', legend=True, stacked=True, ax=axs[1], color=['C5', 'C2', 'C0']\n",
                ")\n",
                "\n",
                "for ax in axs:\n",
                "    for container in ax.containers:\n",
                "        labels = [f'{height:.1f}%' for v in container if float(height:= v.get_height())]\n",
                "        ax.bar_label(container, labels=labels, label_type='center', color='white')\n",
                "        ax.legend(loc='upper right', fontsize=8)\n",
                "        ax.set_ylabel('% Job Ad Sentences')\n",
                "\n",
                "for save_format in ['eps', 'png']:\n",
                "    fig.savefig(\n",
                "        f'{plot_save_path}Manually Annotated Gender and Age Sentences.{save_format}',\n",
                "        format=save_format, dpi=3000, bbox_inches='tight'\n",
                "    )\n"
            ]
        },
        {
            "cell_type": "code",
            "execution_count": null,
            "id": "1f7d3db3",
            "metadata": {},
            "outputs": [],
            "source": [
                "def make_barplot(df, iv, dvs_list):\n",
                "    fig, ax = plt.subplots()\n",
                "    fig.suptitle(f'Training Dataset: Warmth and Competence Sentence Percentages per {iv}')\n",
                "\n",
                "    vars_list = [iv]\n",
                "    vars_list.extend(dvs_list)\n",
                "\n",
                "    df_pivot = df[\n",
                "        vars_list\n",
                "    ].pivot_table(\n",
                "        index=iv, values=dvs_list, fill_value=0, aggfunc=lambda x: (100*x.sum())/len(df)\n",
                "    )\n",
                "\n",
                "    df_pivot.sort_values(by=iv, ascending=False).plot(kind='barh', legend=True, stacked=True, ax=ax, color=['C0', 'C5'])\n",
                "\n",
                "    for _ in ax.containers:\n",
                "        ax.set_xlabel('% Job Ad Sentences')\n",
                "        ax.set_ylabel(iv)\n",
                "\n",
                "    for save_format in ['eps', 'png']:\n",
                "        fig.savefig(\n",
                "            f'{plot_save_path}Barplot - Manually Annotated {iv} x {dvs_list[0]} and {dvs_list[1]} Sentences.{save_format}',\n",
                "            format=save_format, dpi=3000, bbox_inches='tight'\n",
                "        )"
            ]
        },
        {
            "cell_type": "code",
            "execution_count": null,
            "id": "8392efd5",
            "metadata": {},
            "outputs": [],
            "source": [
                "# Make stacked barplots\n",
                "ivs_list = ['Gender', 'Age', 'Sector']\n",
                "\n",
                "for iv in ivs_list:\n",
                "    make_barplot(df_manual, iv=iv, dvs_list=['Warmth', 'Competence'])\n"
            ]
        },
        {
            "cell_type": "code",
            "execution_count": null,
            "id": "8bc39735",
            "metadata": {},
            "outputs": [],
            "source": [
                "def make_lineplot(df, iv, dv):\n",
                "\n",
                "    df = categorize_df_gender_age(df)\n",
                "\n",
                "    title = f'Means of {dv}-related frames in job ads from {iv} segregated sectors'\n",
                "    data = df.groupby(iv)[dv].agg('mean')\n",
                "\n",
                "    line_plot = sns.lineplot(\n",
                "        data=data.astype(float), marker='o', legend='full'\n",
                "    )\n",
                "    line_plot.set(\n",
                "        title=title,\n",
                "        xlabel=f'{iv}-dominated Sector',\n",
                "        ylabel=f'{dv} Mean',\n",
                "    )\n",
                "    fig = line_plot.get_figure()\n",
                "\n",
                "    for save_format in ['eps', 'png']:\n",
                "        fig.savefig(\n",
                "            f'{plot_save_path}Line Plot - Manually Annotated {iv} x {dv} Sentences.{save_format}',\n",
                "            format=save_format, dpi=3000, bbox_inches='tight'\n",
                "        )\n",
                "    plt.show()\n",
                "    plt.clf()\n",
                "    plt.cla()\n",
                "    plt.close()\n"
            ]
        },
        {
            "cell_type": "code",
            "execution_count": null,
            "id": "cf9b62d5",
            "metadata": {},
            "outputs": [],
            "source": [
                "# Make line plots\n",
                "for iv, dv in tqdm_product(['Gender', 'Age'], ['Warmth', 'Competence']):\n",
                "    make_lineplot(df_manual, iv=iv, dv=dv)\n"
            ]
        },
        {
            "cell_type": "markdown",
            "id": "5ae28ed1-d6af-4f68-b871-b2ddb3844ab3",
            "metadata": {},
            "source": [
                "# ATTN: This script should be run AFTER all visualizations are completed.\n"
            ]
        },
        {
            "cell_type": "markdown",
            "id": "26485ee2-7c93-4dfb-9a57-2a5c73b83e17",
            "metadata": {},
            "source": [
                "### START HERE IF SOURCING FROM df_manual_FOR_TRAINNING\n",
                "### PLEASE SET CORRECT DIRECTORY PATHS BELOW\n"
            ]
        },
        {
            "cell_type": "markdown",
            "id": "a4e43151-4bcf-424c-9230-44b7db260f21",
            "metadata": {},
            "source": [
                "# Make descriptive tables\n"
            ]
        },
        {
            "cell_type": "code",
            "execution_count": null,
            "id": "eabd45b6-d549-47cf-aadf-cee03947eda7",
            "metadata": {},
            "outputs": [],
            "source": [
                "import os\n",
                "import sys\n",
                "import importlib\n",
                "from pathlib import Path\n",
                "import numpy as np\n",
                "\n",
                "mod = sys.modules[__name__]\n",
                "\n",
                "code_dir = None\n",
                "code_dir_name = 'Code'\n",
                "unwanted_subdir_name = 'Analysis'\n",
                "\n",
                "for _ in range(5):\n",
                "\n",
                "    parent_path = str(Path.cwd().parents[_]).split('/')[-1]\n",
                "\n",
                "    if (code_dir_name in parent_path) and (unwanted_subdir_name not in parent_path):\n",
                "\n",
                "        code_dir = str(Path.cwd().parents[_])\n",
                "\n",
                "        if code_dir is not None:\n",
                "            break\n",
                "\n",
                "sys.path.append(code_dir)\n",
                "# %load_ext autoreload\n",
                "# %autoreload 2\n"
            ]
        },
        {
            "cell_type": "code",
            "execution_count": null,
            "id": "4c2a4ac8",
            "metadata": {},
            "outputs": [],
            "source": [
                "from setup_module.imports import *\n"
            ]
        },
        {
            "cell_type": "code",
            "execution_count": null,
            "id": "f77c49f9",
            "metadata": {},
            "outputs": [],
            "source": [
                "# Function to order categories\n",
                "def categorize_df_gender_age(df, gender_order=None, age_order=None, ivs=None):\n",
                "    if gender_order is None:\n",
                "        gender_order = ['Female', 'Mixed Gender', 'Male']\n",
                "    if age_order is None:\n",
                "        age_order = ['Older', 'Mixed Age', 'Younger']\n",
                "    if ivs is None:\n",
                "        ivs = ['Gender', 'Age']\n",
                "\n",
                "    # Arrange Categories\n",
                "    for iv in ivs:\n",
                "        if iv == 'Gender':\n",
                "            order = gender_order\n",
                "        elif iv == 'Age':\n",
                "            order = age_order\n",
                "        try:\n",
                "            df[iv] = df[iv].astype('category').cat.reorder_categories(order, ordered=True)\n",
                "\n",
                "            df[iv] = pd.Categorical(\n",
                "                df[iv], categories=order, ordered=True\n",
                "            )\n",
                "            df[f'{iv}_Num'] = pd.to_numeric(df[iv].cat.codes).astype('int64')\n",
                "        except ValueError as e:\n",
                "            print(e)\n",
                "\n",
                "    return df\n"
            ]
        },
        {
            "cell_type": "code",
            "execution_count": null,
            "id": "e34e7473",
            "metadata": {},
            "outputs": [],
            "source": [
                "df_manual = pd.read_pickle(f'{df_save_dir}df_manual_for_trainning.pkl').reset_index(drop=True)\n"
            ]
        },
        {
            "cell_type": "markdown",
            "id": "e5f5f69c",
            "metadata": {},
            "source": [
                "### Gender and Age tables"
            ]
        },
        {
            "cell_type": "code",
            "execution_count": null,
            "id": "aa6d1b15-886f-4891-a749-a3fd218dedf3",
            "metadata": {
                "tags": []
            },
            "outputs": [],
            "source": [
                "# Function to make descriptives tables\n",
                "def genage_make_descriptives_table(df, v, level, gender_order=None, age_order=None):\n",
                "\n",
                "    if gender_order is None:\n",
                "        gender_order = ['Female', 'Male', 'Mixed Gender']\n",
                "    if age_order is None:\n",
                "        age_order = ['Older', 'Younger', 'Mixed Age']\n",
                "    \n",
                "    ivs_dict = {'Gender': gender_order, 'Age': age_order}\n",
                "\n",
                "    df = categorize_df_gender_age(df)\n",
                "\n",
                "    if level.title() == 'Job Advertisement':\n",
                "        level_df = df.groupby(['Job ID']).first()\n",
                "    elif level.title() == 'Sentence':\n",
                "        level_df = df\n",
                "    else:\n",
                "        raise Exception(f'Specified level {level} not in data.')\n",
                "\n",
                "    if v in list(ivs_dict.keys()):\n",
                "        cat_dict = ivs_dict\n",
                "        index = [\n",
                "            f'{v_cat}-dominated'\n",
                "            if 'Mixed' not in v_cat\n",
                "            else\n",
                "            f'{\"-\".join(v_cat.split())}'\n",
                "            for v_cat in cat_dict[v]\n",
                "        ]\n",
                "        caption = [\n",
                "            f'{v}_{v_cat.split()[0]}'\n",
                "            for v_cat in cat_dict[v]\n",
                "        ]\n",
                "\n",
                "    desc_dict = {\n",
                "        'Sectors': index,\n",
                "        'n': [\n",
                "            level_df[v].value_counts()[v_cat]\n",
                "            for v_cat in cat_dict[v]\n",
                "        ],\n",
                "        '%': [\n",
                "            level_df[v].value_counts(normalize=True).mul(100).round(2).astype(float)[v_cat]\n",
                "            for v_cat in cat_dict[v]\n",
                "        ],\n",
                "        'M': [\n",
                "            level_df[caption].mean().round(2).astype(float)[i]\n",
                "            for i in range(len(cat_dict[v]))\n",
                "        ],\n",
                "        'S.D.': [\n",
                "            level_df[caption].std().round(2).astype(float)[i]\n",
                "            for i in range(len(cat_dict[v]))\n",
                "        ]\n",
                "    }\n",
                "\n",
                "    # Make DF from dict\n",
                "    df_desc = pd.DataFrame(desc_dict)\n",
                "    df_desc = df_desc.set_index('Sectors')\n",
                "\n",
                "    return df_desc\n"
            ]
        },
        {
            "cell_type": "code",
            "execution_count": null,
            "id": "bbc26566",
            "metadata": {},
            "outputs": [],
            "source": [
                "df_desc_gender_dict = defaultdict(list)\n",
                "df_desc_age_dict = defaultdict(list)\n",
                "\n",
                "variables = ['Gender', 'Age']\n",
                "levels = ['Job Advertisement', 'Sentence']\n",
                "data_types = ['Manually Annotated', 'Collected']\n",
                "\n",
                "for v, level, data_type in tqdm_product(\n",
                "    variables, levels, data_types\n",
                "):\n",
                "    cols = [\n",
                "        (f'{data_type.title()} Job Advertisements', v, level.title(), 'n'),\n",
                "        (f'{data_type.title()} Job Advertisements', v, level.title(), '%'),\n",
                "        (f'{data_type.title()} Job Advertisements', v, level.title(), 'M'),\n",
                "        (f'{data_type.title()} Job Advertisements', v, level.title(), 'S.D.'),\n",
                "    ]\n",
                "\n",
                "    df_desc_genage = genage_make_descriptives_table(df=df_manual, v=v, level=level)\n",
                "\n",
                "    df_desc_genage.columns = pd.MultiIndex.from_tuples(cols)\n",
                "\n",
                "    if v == 'Gender':\n",
                "        df_desc_gender_dict[data_type].append(df_desc_genage)\n",
                "    elif v == 'Age':\n",
                "        df_desc_age_dict[data_type].append(df_desc_genage)\n"
            ]
        },
        {
            "cell_type": "code",
            "execution_count": null,
            "id": "2de4dfd6",
            "metadata": {},
            "outputs": [],
            "source": [
                "df_desc_genage_dict = defaultdict(list)\n",
                "\n",
                "for df, data_type in tqdm_product(\n",
                "    [df_desc_gender_dict, df_desc_age_dict],\n",
                "    data_types,\n",
                "):\n",
                "    category = df[data_type][0].columns.get_level_values(level=1)[0]\n",
                "    if df[data_type][0].columns.get_level_values(level=2).str.contains('Job Advertisement').all():\n",
                "        df_desc_genage_dict[category].append(\n",
                "            pd.concat(\n",
                "                [\n",
                "                    df[data_type][0], df[data_type][1]\n",
                "                ],\n",
                "                axis='columns'\n",
                "            )\n",
                "        )\n",
                "    else:\n",
                "        df_desc_genage_dict[category].append(\n",
                "            pd.concat(\n",
                "                [\n",
                "                    df[data_type][1], df[data_type][0]\n",
                "                ],\n",
                "                axis='columns'\n",
                "            )\n",
                "        )\n"
            ]
        },
        {
            "cell_type": "code",
            "execution_count": null,
            "id": "5a4f7b15",
            "metadata": {},
            "outputs": [],
            "source": [
                "for cat, df in df_desc_genage_dict.items():\n",
                "    df = pd.concat([df[0], df[1]], axis='columns')\n",
                "\n",
                "    if cat == 'Gender':\n",
                "        df_desc_gender = df\n",
                "    elif cat == 'Age':\n",
                "        df_desc_age = df\n"
            ]
        },
        {
            "cell_type": "code",
            "execution_count": null,
            "id": "cd8c735b-e185-4410-be49-a776ec311452",
            "metadata": {
                "tags": []
            },
            "outputs": [],
            "source": [
                "# Save Tables\n",
                "# Gender\n",
                "df_desc_gender.to_csv(f'{table_save_path}Gender - Job Advertisement Descriptives.csv', index=True)\n",
                "df_desc_gender.to_pickle(f'{table_save_path}Gender - Job Advertisement Descriptives.pkl')\n",
                "with pd.option_context('max_colwidth', 10000000000):\n",
                "    df_desc_gender.to_latex(f'{table_save_path}Gender - Job Advertisement Descriptives.tex', index=True, longtable=True, escape=True, multicolumn=True, multicolumn_format='c', position='H', caption='Number and proportion of job advertisements sample, and resulting sentences for gender and age homogeneous and heterogeneous sectors', label='Descriptives')\n",
                "df_desc_gender.to_markdown(f'{table_save_path}Gender - Job Advertisement Descriptives.md', index=True)\n",
                "# save_sector_excel(df_sectors_all, data_save_dir)\n",
                "\n",
                "# Age\n",
                "df_desc_age.to_csv(f'{table_save_path}Age - Job Advertisement Descriptives.csv', index=True)\n",
                "df_desc_age.to_pickle(f'{table_save_path}Age - Job Advertisement Descriptives.pkl')\n",
                "with pd.option_context('max_colwidth', 10000000000):\n",
                "    df_desc_age.to_latex(f'{table_save_path}Age - Job Advertisement Descriptives.tex', index=True, longtable=True, escape=True, multicolumn=True, multicolumn_format='c', position='H', caption='Number and proportion of job advertisements sample, and resulting sentences for gender and age homogeneous and heterogeneous sectors', label='Descriptives')\n",
                "df_desc_age.to_markdown(f'{table_save_path}Age - Job Advertisement Descriptives.md', index=True)\n",
                "# save_sector_excel(df_sectors_all, data_save_dir)\n"
            ]
        },
        {
            "cell_type": "markdown",
            "id": "adf8e715",
            "metadata": {
                "tags": []
            },
            "source": [
                "### Warmth and Competence tables\n"
            ]
        },
        {
            "cell_type": "code",
            "execution_count": null,
            "id": "1a3b4caa",
            "metadata": {},
            "outputs": [],
            "source": [
                "variables = ['Warmth', 'Competence']\n",
                "\n",
                "cols = [\n",
                "    ('Manually Annotated Job Advertisements', 'n'),\n",
                "    ('Manually Annotated Job Advertisements', '%'),\n",
                "    ('Manually Annotated Job Advertisements', 'M'),\n",
                "    ('Manually Annotated Job Advertisements', 'S.D.'),\n",
                "]\n",
                "\n",
                "binary_order = [0, 1]\n",
                "cat_dict = {'Warmth': binary_order, 'Competence': binary_order}\n",
                "\n",
                "desc_warmcomp_dict = {\n",
                "    'Frames': list(cat_dict.keys()),\n",
                "    'n': [\n",
                "        df_manual[v].value_counts()[1]\n",
                "        for v in variables\n",
                "    ],\n",
                "    '%': [\n",
                "        df_manual[v].value_counts(normalize=True).mul(100).round(2).astype(float)[1]\n",
                "        for v in variables\n",
                "    ],\n",
                "    'M': list(\n",
                "        df_manual[variables].mean().round(2).astype(float)\n",
                "    ),\n",
                "    'S.D.': list(\n",
                "        df_manual[variables].std().round(2).astype(float)\n",
                "    )\n",
                "}\n",
                "    \n",
                "# Make df_manual from dict\n",
                "df_desc_warmcomp = pd.DataFrame(desc_warmcomp_dict)\n",
                "df_desc_warmcomp = df_desc_warmcomp.set_index('Frames')\n",
                "df_desc_warmcomp.columns = pd.MultiIndex.from_tuples(cols)\n"
            ]
        },
        {
            "cell_type": "code",
            "execution_count": null,
            "id": "d3b6a031",
            "metadata": {},
            "outputs": [],
            "source": [
                "# Save Tables\n",
                "df_desc_warmcomp.to_csv(f'{table_save_path}Warmth and Competence - Job Advertisement Descriptives.csv', index=True)\n",
                "df_desc_warmcomp.to_pickle(f'{table_save_path}Warmth and Competence - Job Advertisement Descriptives.pkl')\n",
                "with pd.option_context('max_colwidth', 10000000000):\n",
                "    df_desc_warmcomp.to_latex(f'{table_save_path}Warmth and Competence - Job Advertisement Descriptives.tex', index=True, longtable=True, escape=True, multicolumn=True, multicolumn_format='c', position='H', caption='Number and proportion of job advertisements sample, and resulting sentences for gender and age homogeneous and heterogeneous sectors', label='Descriptives')\n",
                "df_desc_warmcomp.to_markdown(f'{table_save_path}Warmth and Competence - Job Advertisement Descriptives.md', index=True)\n",
                "# save_sector_excel(df_sectors_all, data_save_dir)\n"
            ]
        }
    ],
    "metadata": {
        "kernelspec": {
            "display_name": "study1_3.10",
            "language": "python",
            "name": "study1_3.10"
        },
        "language_info": {
            "codemirror_mode": {
                "name": "ipython",
                "version": 3
            },
            "file_extension": ".py",
            "mimetype": "text/x-python",
            "name": "python",
            "nbconvert_exporter": "python",
                        "pygments_lexer": "ipython3",
                        "version": "3.10.10"
        },
        "varInspector": {
            "cols": {
                "lenName": 16,
                "lenType": 16,
                "lenVar": 40
            },
            "kernels_config": {
                "python": {
                    "delete_cmd_postfix": "",
                    "delete_cmd_prefix": "del ",
                    "library": "var_list.py",
                    "varRefreshCmd": "print(var_dic_list())"
                },
                "r": {
                    "delete_cmd_postfix": ") ",
                    "delete_cmd_prefix": "rm(",
                    "library": "var_list.r",
                    "varRefreshCmd": "cat(var_dic_list()) "
                }
            },
            "types_to_exclude": [
                "module",
                "function",
                "builtin_function_or_method",
                "instance",
                "_Feature"
            ],
            "window_display": false
        },
        "widgets": {
            "application/vnd.jupyter.widget-state+json": {
                "state": {},
                "version_major": 2,
                "version_minor": 0
            }
        }
    },
    "nbformat": 4,
    "nbformat_minor": 5
}
