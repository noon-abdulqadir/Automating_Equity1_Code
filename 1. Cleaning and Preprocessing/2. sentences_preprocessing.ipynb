{
    "cells": [
        {
            "cell_type": "markdown",
            "metadata": {},
            "source": [
                "# ATTN: This script should be run AFTER language detection is completed."
            ]
        },
        {
            "cell_type": "markdown",
            "metadata": {},
            "source": [
                "# Drop non-English job descriptions"
            ]
        },
        {
            "cell_type": "markdown",
            "metadata": {},
            "source": [
                "### START HERE IF SOURCING FROM DF_JOBS_RAW_LANGUAGE_DETECTED\n",
                "### PLEASE SET CORRECT DIRECTORY PATHS BELOW\n"
            ]
        },
        {
            "cell_type": "code",
            "execution_count": 1,
            "metadata": {},
            "outputs": [],
            "source": [
                "import os # type:ignore # isort:skip # fmt:skip # noqa # nopep8\n",
                "import sys # type:ignore # isort:skip # fmt:skip # noqa # nopep8\n",
                "from pathlib import Path # type:ignore # isort:skip # fmt:skip # noqa # nopep8\n",
                "\n",
                "mod = sys.modules[__name__]\n",
                "\n",
                "code_dir = None\n",
                "code_dir_name = 'Code'\n",
                "unwanted_subdir_name = 'Analysis'\n",
                "\n",
                "for _ in range(5):\n",
                "\n",
                "    parent_path = str(Path.cwd().parents[_]).split('/')[-1]\n",
                "\n",
                "    if (code_dir_name in parent_path) and (unwanted_subdir_name not in parent_path):\n",
                "\n",
                "        code_dir = str(Path.cwd().parents[_])\n",
                "\n",
                "        if code_dir is not None:\n",
                "            break\n",
                "\n",
                "sys.path.append(code_dir)\n",
                "# %load_ext autoreload\n",
                "# %autoreload 2\n"
            ]
        },
        {
            "cell_type": "code",
            "execution_count": 2,
            "metadata": {},
            "outputs": [
                {
                    "name": "stdout",
                    "output_type": "stream",
                    "text": [
                        "Using MPS\n"
                    ]
                },
                {
                    "data": {
                        "application/vnd.jupyter.widget-view+json": {
                            "model_id": "9f70c5fa80ca4bd0b5a7f0fa1d741479",
                            "version_major": 2,
                            "version_minor": 0
                        },
                        "text/plain": [
                            "0it [00:00, ?it/s]"
                        ]
                    },
                    "metadata": {},
                    "output_type": "display_data"
                },
                {
                    "data": {
                        "text/plain": [
                            "<Figure size 640x480 with 0 Axes>"
                        ]
                    },
                    "metadata": {},
                    "output_type": "display_data"
                }
            ],
            "source": [
                "from setup_module.imports import * # type:ignore # isort:skip # fmt:skip # noqa # nopep8\n"
            ]
        },
        {
            "cell_type": "code",
            "execution_count": 3,
            "metadata": {},
            "outputs": [],
            "source": [
                "df_jobs = pd.read_pickle(f'{df_save_dir}df_jobs_raw_language_detected.pkl').reset_index(drop=True)\n"
            ]
        },
        {
            "cell_type": "code",
            "execution_count": 4,
            "metadata": {},
            "outputs": [
                {
                    "name": "stdout",
                    "output_type": "stream",
                    "text": [
                        "<class 'pandas.core.frame.DataFrame'>\n",
                        "RangeIndex: 62577 entries, 0 to 62576\n",
                        "Data columns (total 20 columns):\n",
                        " #   Column             Non-Null Count  Dtype  \n",
                        "---  ------             --------------  -----  \n",
                        " 0   Search Keyword     62577 non-null  object \n",
                        " 1   Platform           62577 non-null  object \n",
                        " 2   Job ID             62577 non-null  object \n",
                        " 3   Job Title          62577 non-null  object \n",
                        " 4   Company Name       62574 non-null  object \n",
                        " 5   Location           62577 non-null  object \n",
                        " 6   Job Description    62577 non-null  object \n",
                        " 7   Rating             3975 non-null   float64\n",
                        " 8   Employment Type    61995 non-null  object \n",
                        " 9   Company URL        59263 non-null  object \n",
                        " 10  Job URL            62577 non-null  object \n",
                        " 11  Job Age            62577 non-null  object \n",
                        " 12  Job Age Number     62577 non-null  object \n",
                        " 13  Collection Date    62577 non-null  object \n",
                        " 14  Data Row           58599 non-null  float64\n",
                        " 15  Tracking ID        58599 non-null  object \n",
                        " 16  Industry           59184 non-null  object \n",
                        " 17  Job Date           58602 non-null  object \n",
                        " 18  Type of ownership  582 non-null    object \n",
                        " 19  Language           62577 non-null  object \n",
                        "dtypes: float64(2), object(18)\n",
                        "memory usage: 9.5+ MB\n"
                    ]
                }
            ],
            "source": [
                "# len = 62577\n",
                "df_jobs.info()\n"
            ]
        },
        {
            "cell_type": "code",
            "execution_count": 5,
            "metadata": {},
            "outputs": [
                {
                    "data": {
                        "text/plain": [
                            "nl              44863\n",
                            "en              17591\n",
                            "de                 53\n",
                            "fr                 36\n",
                            "['nl', 'en']        9\n",
                            "['en', 'nl']        8\n",
                            "pl                  5\n",
                            "id                  4\n",
                            "da                  4\n",
                            "tr                  1\n",
                            "['nl', 'af']        1\n",
                            "st                  1\n",
                            "af                  1\n",
                            "Name: Language, dtype: int64"
                        ]
                    },
                    "execution_count": 5,
                    "metadata": {},
                    "output_type": "execute_result"
                }
            ],
            "source": [
                "# nl = 44863, en = 17591, ['en', 'nl'] = 8, ['nl', 'en'] = 9\n",
                "df_jobs['Language'].value_counts()\n"
            ]
        },
        {
            "cell_type": "code",
            "execution_count": 6,
            "metadata": {},
            "outputs": [
                {
                    "data": {
                        "application/vnd.jupyter.widget-view+json": {
                            "model_id": "e1eaed3bd1184cd4a541c9f404a31553",
                            "version_major": 2,
                            "version_minor": 0
                        },
                        "text/plain": [
                            "progress-bar:   0%|          | 0/62577 [00:00<?, ?it/s]"
                        ]
                    },
                    "metadata": {},
                    "output_type": "display_data"
                },
                {
                    "name": "stdout",
                    "output_type": "stream",
                    "text": [
                        "CPU times: user 63.6 ms, sys: 3.84 ms, total: 67.5 ms\n",
                        "Wall time: 78.2 ms\n"
                    ]
                }
            ],
            "source": [
                "%%time\n",
                "# The majority of ['en', 'nl'] labeled job descriptions contain mostly English\n",
                "df_jobs['Language'] = df_jobs['Language'].progress_apply(\n",
                "    lambda lang: 'en' if lang == \"['en', 'nl']\" else lang\n",
                ")\n"
            ]
        },
        {
            "cell_type": "code",
            "execution_count": 7,
            "metadata": {},
            "outputs": [],
            "source": [
                "# Drop non-English ads\n",
                "df_jobs = df_jobs.drop(\n",
                "    df_jobs[\n",
                "        df_jobs['Language'] != 'en'\n",
                "    ].index, \n",
                "        axis='index', \n",
                ")\n"
            ]
        },
        {
            "cell_type": "code",
            "execution_count": 8,
            "metadata": {},
            "outputs": [
                {
                    "data": {
                        "text/plain": [
                            "17599"
                        ]
                    },
                    "execution_count": 8,
                    "metadata": {},
                    "output_type": "execute_result"
                }
            ],
            "source": [
                "# 17599\n",
                "len(df_jobs)\n"
            ]
        },
        {
            "cell_type": "code",
            "execution_count": 9,
            "metadata": {},
            "outputs": [],
            "source": [
                "assert len(df_jobs) > 0 and isinstance(df_jobs, pd.DataFrame), f'ERORR: LENGTH OF DF = {len(df_jobs)}'\n",
                "df_jobs.to_pickle(f'{df_save_dir}df_jobs_raw_english_only.pkl')\n",
                "df_jobs.to_csv(f'{df_save_dir}df_jobs_raw_english_only.csv', index=False)\n"
            ]
        },
        {
            "cell_type": "markdown",
            "metadata": {},
            "source": [
                "# Fix abbreviations in job descriptions"
            ]
        },
        {
            "cell_type": "markdown",
            "metadata": {},
            "source": [
                "### START HERE IF SOURCING FROM DF_JOBS_RAW_ENGLISH_ONLY\n",
                "### PLEASE SET CORRECT DIRECTORY PATHS BELOW\n"
            ]
        },
        {
            "cell_type": "code",
            "execution_count": 10,
            "metadata": {},
            "outputs": [],
            "source": [
                "import os # type:ignore # isort:skip # fmt:skip # noqa # nopep8\n",
                "import sys # type:ignore # isort:skip # fmt:skip # noqa # nopep8\n",
                "from pathlib import Path # type:ignore # isort:skip # fmt:skip # noqa # nopep8\n",
                "\n",
                "mod = sys.modules[__name__]\n",
                "\n",
                "code_dir = None\n",
                "code_dir_name = 'Code'\n",
                "unwanted_subdir_name = 'Analysis'\n",
                "\n",
                "for _ in range(5):\n",
                "\n",
                "    parent_path = str(Path.cwd().parents[_]).split('/')[-1]\n",
                "\n",
                "    if (code_dir_name in parent_path) and (unwanted_subdir_name not in parent_path):\n",
                "\n",
                "        code_dir = str(Path.cwd().parents[_])\n",
                "\n",
                "        if code_dir is not None:\n",
                "            break\n",
                "\n",
                "sys.path.append(code_dir)\n",
                "# %load_ext autoreload\n",
                "# %autoreload 2\n"
            ]
        },
        {
            "cell_type": "code",
            "execution_count": 11,
            "metadata": {},
            "outputs": [],
            "source": [
                "from setup_module.imports import * # type:ignore # isort:skip # fmt:skip # noqa # nopep8\n"
            ]
        },
        {
            "cell_type": "code",
            "execution_count": 12,
            "metadata": {},
            "outputs": [],
            "source": [
                "df_jobs = pd.read_pickle(f'{df_save_dir}df_jobs_raw_english_only.pkl').reset_index(drop=True)\n"
            ]
        },
        {
            "cell_type": "code",
            "execution_count": 13,
            "metadata": {},
            "outputs": [
                {
                    "name": "stdout",
                    "output_type": "stream",
                    "text": [
                        "<class 'pandas.core.frame.DataFrame'>\n",
                        "RangeIndex: 17599 entries, 0 to 17598\n",
                        "Data columns (total 20 columns):\n",
                        " #   Column             Non-Null Count  Dtype  \n",
                        "---  ------             --------------  -----  \n",
                        " 0   Search Keyword     17599 non-null  object \n",
                        " 1   Platform           17599 non-null  object \n",
                        " 2   Job ID             17599 non-null  object \n",
                        " 3   Job Title          17599 non-null  object \n",
                        " 4   Company Name       17597 non-null  object \n",
                        " 5   Location           17599 non-null  object \n",
                        " 6   Job Description    17599 non-null  object \n",
                        " 7   Rating             3780 non-null   float64\n",
                        " 8   Employment Type    17017 non-null  object \n",
                        " 9   Company URL        15959 non-null  object \n",
                        " 10  Job URL            17599 non-null  object \n",
                        " 11  Job Age            17599 non-null  object \n",
                        " 12  Job Age Number     17599 non-null  object \n",
                        " 13  Collection Date    17599 non-null  object \n",
                        " 14  Data Row           13816 non-null  float64\n",
                        " 15  Tracking ID        13816 non-null  object \n",
                        " 16  Industry           14401 non-null  object \n",
                        " 17  Job Date           13819 non-null  object \n",
                        " 18  Type of ownership  582 non-null    object \n",
                        " 19  Language           17599 non-null  object \n",
                        "dtypes: float64(2), object(18)\n",
                        "memory usage: 2.7+ MB\n"
                    ]
                }
            ],
            "source": [
                "# len = 17599\n",
                "df_jobs.info()\n"
            ]
        },
        {
            "cell_type": "code",
            "execution_count": 14,
            "metadata": {},
            "outputs": [
                {
                    "data": {
                        "application/vnd.jupyter.widget-view+json": {
                            "model_id": "9b669fd3067d4383a60553b936c5d037",
                            "version_major": 2,
                            "version_minor": 0
                        },
                        "text/plain": [
                            "progress-bar:   0%|          | 0/17599 [00:00<?, ?it/s]"
                        ]
                    },
                    "metadata": {},
                    "output_type": "display_data"
                }
            ],
            "source": [
                "df_jobs['Job Description'] = df_jobs.loc[df_jobs['Job Description'].notnull(), 'Job Description'].progress_apply(\n",
                "    lambda job_description: ' '.join(job_description.split('/')) if '/' in job_description else job_description\n",
                ")\n"
            ]
        },
        {
            "cell_type": "code",
            "execution_count": 15,
            "metadata": {},
            "outputs": [],
            "source": [
                "abb_dict = {\n",
                "    r'incl\\.': 'including', \n",
                "    r'e\\.g\\.': 'for example', \n",
                "    r'e\\.g': 'for example', \n",
                "    r'etc\\.': 'et cetera', \n",
                "}\n"
            ]
        },
        {
            "cell_type": "code",
            "execution_count": 16,
            "metadata": {},
            "outputs": [
                {
                    "name": "stdout",
                    "output_type": "stream",
                    "text": [
                        "CPU times: user 245 ms, sys: 3.58 ms, total: 249 ms\n",
                        "Wall time: 249 ms\n"
                    ]
                }
            ],
            "source": [
                "%%time\n",
                "df_jobs['Job Description'] = df_jobs['Job Description'].replace(abb_dict, regex=True)\n"
            ]
        },
        {
            "cell_type": "code",
            "execution_count": 17,
            "metadata": {},
            "outputs": [],
            "source": [
                "assert len(df_jobs) > 0 and isinstance(df_jobs, pd.DataFrame), f'ERORR: LENGTH OF DF = {len(df_jobs)}'\n",
                "df_jobs.to_pickle(f'{df_save_dir}df_jobs_raw_fixed_abbreviations.pkl')\n",
                "df_jobs.to_csv(f'{df_save_dir}df_jobs_raw_fixed_abbreviations.csv', index=False)\n"
            ]
        },
        {
            "attachments": {},
            "cell_type": "markdown",
            "metadata": {},
            "source": [
                "# Add English and Dutch language requirement columns"
            ]
        },
        {
            "cell_type": "markdown",
            "metadata": {},
            "source": [
                "### START HERE IF SOURCING FROM DF_JOBS_RAW_FIXED_ABBREVIATIONS\n",
                "### PLEASE SET CORRECT DIRECTORY PATHS BELOW\n"
            ]
        },
        {
            "cell_type": "code",
            "execution_count": 18,
            "metadata": {},
            "outputs": [],
            "source": [
                "import os # type:ignore # isort:skip # fmt:skip # noqa # nopep8\n",
                "import sys # type:ignore # isort:skip # fmt:skip # noqa # nopep8\n",
                "from pathlib import Path # type:ignore # isort:skip # fmt:skip # noqa # nopep8\n",
                "\n",
                "mod = sys.modules[__name__]\n",
                "\n",
                "code_dir = None\n",
                "code_dir_name = 'Code'\n",
                "unwanted_subdir_name = 'Analysis'\n",
                "\n",
                "for _ in range(5):\n",
                "\n",
                "    parent_path = str(Path.cwd().parents[_]).split('/')[-1]\n",
                "\n",
                "    if (code_dir_name in parent_path) and (unwanted_subdir_name not in parent_path):\n",
                "\n",
                "        code_dir = str(Path.cwd().parents[_])\n",
                "\n",
                "        if code_dir is not None:\n",
                "            break\n",
                "\n",
                "sys.path.append(code_dir)\n",
                "# %load_ext autoreload\n",
                "# %autoreload 2\n"
            ]
        },
        {
            "cell_type": "code",
            "execution_count": 19,
            "metadata": {},
            "outputs": [],
            "source": [
                "from setup_module.imports import * # type:ignore # isort:skip # fmt:skip # noqa # nopep8\n"
            ]
        },
        {
            "cell_type": "code",
            "execution_count": 20,
            "metadata": {},
            "outputs": [],
            "source": [
                "df_jobs = pd.read_pickle(f'{df_save_dir}df_jobs_raw_fixed_abbreviations.pkl').reset_index(drop=True)\n"
            ]
        },
        {
            "cell_type": "code",
            "execution_count": 21,
            "metadata": {},
            "outputs": [
                {
                    "name": "stdout",
                    "output_type": "stream",
                    "text": [
                        "<class 'pandas.core.frame.DataFrame'>\n",
                        "RangeIndex: 17599 entries, 0 to 17598\n",
                        "Data columns (total 20 columns):\n",
                        " #   Column             Non-Null Count  Dtype  \n",
                        "---  ------             --------------  -----  \n",
                        " 0   Search Keyword     17599 non-null  object \n",
                        " 1   Platform           17599 non-null  object \n",
                        " 2   Job ID             17599 non-null  object \n",
                        " 3   Job Title          17599 non-null  object \n",
                        " 4   Company Name       17597 non-null  object \n",
                        " 5   Location           17599 non-null  object \n",
                        " 6   Job Description    17599 non-null  object \n",
                        " 7   Rating             3780 non-null   float64\n",
                        " 8   Employment Type    17017 non-null  object \n",
                        " 9   Company URL        15959 non-null  object \n",
                        " 10  Job URL            17599 non-null  object \n",
                        " 11  Job Age            17599 non-null  object \n",
                        " 12  Job Age Number     17599 non-null  object \n",
                        " 13  Collection Date    17599 non-null  object \n",
                        " 14  Data Row           13816 non-null  float64\n",
                        " 15  Tracking ID        13816 non-null  object \n",
                        " 16  Industry           14401 non-null  object \n",
                        " 17  Job Date           13819 non-null  object \n",
                        " 18  Type of ownership  582 non-null    object \n",
                        " 19  Language           17599 non-null  object \n",
                        "dtypes: float64(2), object(18)\n",
                        "memory usage: 2.7+ MB\n"
                    ]
                }
            ],
            "source": [
                "df_jobs.info()\n"
            ]
        },
        {
            "cell_type": "code",
            "execution_count": 22,
            "metadata": {},
            "outputs": [
                {
                    "name": "stdout",
                    "output_type": "stream",
                    "text": [
                        "CPU times: user 4.25 s, sys: 40.6 ms, total: 4.29 s\n",
                        "Wall time: 4.33 s\n"
                    ]
                }
            ],
            "source": [
                "%%time\n",
                "# Add language requirement column\n",
                "# Use regex to find language requirement\n",
                "dutch_requirement_pattern = r'[Ll]anguage: [Dd]utch|[Dd]utch [Pp]referred|[Dd]utch [Re]quired|[Dd]utch [Ll]anguage|[Pp]roficient in [Dd]utch|[Ss]peak [Dd]utch|[Kk]now [Dd]utch'\n",
                "english_requirement_pattern = r'[Ll]anguage: [Ee]nglish|[Ee]nglish [Pp]referred|[Ee]nglish [Re]quired|[Ee]nglish [Ll]anguage|[Pp]roficient in [Ee]nglish|[Ss]peak [Ee]nglish|[Kk]now [Ee]nglish'\n",
                "\n",
                "lang_requirements = {\n",
                "    'Dutch Requirement': dutch_requirement_pattern, 'English Requirement': english_requirement_pattern\n",
                "}\n",
                "\n",
                "for lang_req, lang_req_pattern in lang_requirements.items():\n",
                "\n",
                "    if lang_req in df_jobs.columns:\n",
                "        df_jobs = df_jobs.drop(columns=[lang_req])\n",
                "    df_jobs[lang_req] = np.where(\n",
                "        df_jobs['Job Description'].str.contains(lang_req_pattern),\n",
                "        1,\n",
                "        0,\n",
                "    )\n",
                "\n",
                "if len(df_jobs) > 0 and isinstance(df_jobs, pd.DataFrame):\n",
                "    df_jobs.to_pickle(f'{df_save_dir}df_jobs_raw_language_requirement.pkl')\n",
                "\n",
                "    df_jobs.to_csv(f'{df_save_dir}df_jobs_raw_english_requirement.csv', index=False)\n",
                "else:\n",
                "    print(f'ERORR: LENGTH OF DF = {len(df_jobs)}')\n"
            ]
        },
        {
            "cell_type": "code",
            "execution_count": 23,
            "metadata": {},
            "outputs": [
                {
                    "data": {
                        "text/plain": [
                            "0    17364\n",
                            "1      235\n",
                            "Name: Dutch Requirement, dtype: int64"
                        ]
                    },
                    "execution_count": 23,
                    "metadata": {},
                    "output_type": "execute_result"
                }
            ],
            "source": [
                "# Yes = 235\n",
                "df_jobs['Dutch Requirement'].value_counts()"
            ]
        },
        {
            "cell_type": "code",
            "execution_count": 24,
            "metadata": {},
            "outputs": [
                {
                    "data": {
                        "text/plain": [
                            "0    17073\n",
                            "1      526\n",
                            "Name: English Requirement, dtype: int64"
                        ]
                    },
                    "execution_count": 24,
                    "metadata": {},
                    "output_type": "execute_result"
                }
            ],
            "source": [
                "# Yes = 526\n",
                "df_jobs['English Requirement'].value_counts()\n"
            ]
        },
        {
            "cell_type": "code",
            "execution_count": 25,
            "metadata": {},
            "outputs": [],
            "source": [
                "assert len(df_jobs) > 0 and isinstance(df_jobs, pd.DataFrame), f'ERORR: LENGTH OF DF = {len(df_jobs)}'\n",
                "df_jobs.to_pickle(f'{df_save_dir}df_jobs_raw_language_requirement.pkl')\n",
                "df_jobs.to_csv(f'{df_save_dir}df_jobs_raw_language_requirement.csv', index=False)\n"
            ]
        },
        {
            "cell_type": "markdown",
            "metadata": {},
            "source": [
                "# Add data from Sectors dataframe (see CBS directory under scrapped_data directory)\n"
            ]
        },
        {
            "cell_type": "markdown",
            "metadata": {},
            "source": [
                "### START HERE IF SOURCING FROM DF_JOBS_RAW_LANGUAGE_REQUIREMENT\n",
                "### PLEASE SET CORRECT DIRECTORY PATHS BELOW\n"
            ]
        },
        {
            "cell_type": "code",
            "execution_count": 26,
            "metadata": {},
            "outputs": [],
            "source": [
                "import os # type:ignore # isort:skip # fmt:skip # noqa # nopep8\n",
                "import sys # type:ignore # isort:skip # fmt:skip # noqa # nopep8\n",
                "from pathlib import Path # type:ignore # isort:skip # fmt:skip # noqa # nopep8\n",
                "\n",
                "mod = sys.modules[__name__]\n",
                "\n",
                "code_dir = None\n",
                "code_dir_name = 'Code'\n",
                "unwanted_subdir_name = 'Analysis'\n",
                "\n",
                "for _ in range(5):\n",
                "\n",
                "    parent_path = str(Path.cwd().parents[_]).split('/')[-1]\n",
                "\n",
                "    if (code_dir_name in parent_path) and (unwanted_subdir_name not in parent_path):\n",
                "\n",
                "        code_dir = str(Path.cwd().parents[_])\n",
                "\n",
                "        if code_dir is not None:\n",
                "            break\n",
                "\n",
                "sys.path.append(code_dir)\n",
                "# %load_ext autoreload\n",
                "# %autoreload 2\n"
            ]
        },
        {
            "cell_type": "code",
            "execution_count": 27,
            "metadata": {},
            "outputs": [],
            "source": [
                "from setup_module.imports import * # type:ignore # isort:skip # fmt:skip # noqa # nopep8\n"
            ]
        },
        {
            "cell_type": "code",
            "execution_count": 28,
            "metadata": {},
            "outputs": [],
            "source": [
                "df_jobs = pd.read_pickle(f'{df_save_dir}df_jobs_raw_language_requirement.pkl').reset_index(drop=True)\n"
            ]
        },
        {
            "cell_type": "code",
            "execution_count": 29,
            "metadata": {},
            "outputs": [
                {
                    "name": "stdout",
                    "output_type": "stream",
                    "text": [
                        "<class 'pandas.core.frame.DataFrame'>\n",
                        "RangeIndex: 17599 entries, 0 to 17598\n",
                        "Data columns (total 22 columns):\n",
                        " #   Column               Non-Null Count  Dtype  \n",
                        "---  ------               --------------  -----  \n",
                        " 0   Search Keyword       17599 non-null  object \n",
                        " 1   Platform             17599 non-null  object \n",
                        " 2   Job ID               17599 non-null  object \n",
                        " 3   Job Title            17599 non-null  object \n",
                        " 4   Company Name         17597 non-null  object \n",
                        " 5   Location             17599 non-null  object \n",
                        " 6   Job Description      17599 non-null  object \n",
                        " 7   Rating               3780 non-null   float64\n",
                        " 8   Employment Type      17017 non-null  object \n",
                        " 9   Company URL          15959 non-null  object \n",
                        " 10  Job URL              17599 non-null  object \n",
                        " 11  Job Age              17599 non-null  object \n",
                        " 12  Job Age Number       17599 non-null  object \n",
                        " 13  Collection Date      17599 non-null  object \n",
                        " 14  Data Row             13816 non-null  float64\n",
                        " 15  Tracking ID          13816 non-null  object \n",
                        " 16  Industry             14401 non-null  object \n",
                        " 17  Job Date             13819 non-null  object \n",
                        " 18  Type of ownership    582 non-null    object \n",
                        " 19  Language             17599 non-null  object \n",
                        " 20  Dutch Requirement    17599 non-null  int64  \n",
                        " 21  English Requirement  17599 non-null  int64  \n",
                        "dtypes: float64(2), int64(2), object(18)\n",
                        "memory usage: 3.0+ MB\n"
                    ]
                }
            ],
            "source": [
                "df_jobs.info()\n"
            ]
        },
        {
            "cell_type": "code",
            "execution_count": 30,
            "metadata": {},
            "outputs": [],
            "source": [
                "df_sectors = pd.read_pickle(f'{scraped_data}CBS/Data/Sectors Output from script.pkl').reset_index(drop=True)\n"
            ]
        },
        {
            "cell_type": "code",
            "execution_count": 31,
            "metadata": {},
            "outputs": [
                {
                    "data": {
                        "text/plain": [
                            "MultiIndex([('SBI Sector Titles', 'Industry class / branch (SIC2008)',                   'Code'),\n",
                            "            ('SBI Sector Titles', 'Industry class / branch (SIC2008)',            'Sector Name'),\n",
                            "            ('SBI Sector Titles', 'Industry class / branch (SIC2008)',               'Keywords'),\n",
                            "            ('SBI Sector Titles', 'Industry class / branch (SIC2008)',         'Keywords Count'),\n",
                            "            ('SBI Sector Titles', 'Industry class / branch (SIC2008)',           '% per Sector'),\n",
                            "            ('SBI Sector Titles', 'Industry class / branch (SIC2008)',  '% per Social Category'),\n",
                            "            ('SBI Sector Titles', 'Industry class / branch (SIC2008)',        '% per Workforce'),\n",
                            "            (           'Gender',                            'Female',                      'n'),\n",
                            "            (           'Gender',                            'Female',           '% per Sector'),\n",
                            "            (           'Gender',                            'Female',  '% per Social Category'),\n",
                            "            (           'Gender',                            'Female',        '% per Workforce'),\n",
                            "            (           'Gender',                              'Male',                      'n'),\n",
                            "            (           'Gender',                              'Male',           '% per Sector'),\n",
                            "            (           'Gender',                              'Male',  '% per Social Category'),\n",
                            "            (           'Gender',                              'Male',        '% per Workforce'),\n",
                            "            (           'Gender',       'Sectoral Gender Segregation',      'Dominant Category'),\n",
                            "            (              'Age',               'Older (>= 45 years)',                      'n'),\n",
                            "            (              'Age',               'Older (>= 45 years)',           '% per Sector'),\n",
                            "            (              'Age',               'Older (>= 45 years)',  '% per Social Category'),\n",
                            "            (              'Age',               'Older (>= 45 years)',        '% per Workforce'),\n",
                            "            (              'Age',              'Younger (< 45 years)',                      'n'),\n",
                            "            (              'Age',              'Younger (< 45 years)',           '% per Sector'),\n",
                            "            (              'Age',              'Younger (< 45 years)',  '% per Social Category'),\n",
                            "            (              'Age',              'Younger (< 45 years)',        '% per Workforce'),\n",
                            "            (              'Age',          'Sectoral Age Segregation',      'Dominant Category'),\n",
                            "            (  'Total Workforce',                   'Total Workforce',                      'n'),\n",
                            "            (  'Total Workforce',                   'Total Workforce', '% Sector per Workforce')],\n",
                            "           names=['Variables', 'Categories', 'Counts'])"
                        ]
                    },
                    "execution_count": 31,
                    "metadata": {},
                    "output_type": "execute_result"
                }
            ],
            "source": [
                "df_sectors.columns\n"
            ]
        },
        {
            "cell_type": "code",
            "execution_count": 32,
            "metadata": {},
            "outputs": [],
            "source": [
                "df_sectors.columns = [\n",
                "    '_'.join(col) \n",
                "    if 'SBI Sector Titles' not in col \n",
                "    and 'Total Workforce' not in col \n",
                "    else col[-1] \n",
                "    for col in df_sectors.columns\n",
                "]\n"
            ]
        },
        {
            "cell_type": "code",
            "execution_count": 33,
            "metadata": {},
            "outputs": [],
            "source": [
                "df_sectors = df_sectors.rename(\n",
                "    columns={\n",
                "        'Keywords': 'Search Keyword', \n",
                "        'Code': 'Sector Code', \n",
                "        'Sector Name': 'Sector', \n",
                "        'Gender_Sectoral Gender Segregation_Dominant Category': 'Gender', \n",
                "        'Age_Sectoral Age Segregation_Dominant Category': 'Age', \n",
                "        'n': 'Sector_n', \n",
                "    },\n",
                ")\n",
                "df_sectors = df_sectors.rename(columns={element: re.sub(r' \\(\\W*45 years\\)', '', element) for element in df_sectors.columns.tolist()})\n"
            ]
        },
        {
            "cell_type": "code",
            "execution_count": 34,
            "metadata": {},
            "outputs": [
                {
                    "data": {
                        "text/plain": [
                            "Index(['Sector Code', 'Sector', 'Search Keyword', 'Keywords Count', '% per Sector', '% per Social Category', '% per Workforce', 'Gender_Female_n', 'Gender_Female_% per Sector', 'Gender_Female_% per Social Category', 'Gender_Female_% per Workforce', 'Gender_Male_n', 'Gender_Male_% per Sector', 'Gender_Male_% per Social Category', 'Gender_Male_% per Workforce', 'Gender', 'Age_Older_n', 'Age_Older_% per Sector', 'Age_Older_% per Social Category', 'Age_Older_% per Workforce', 'Age_Younger_n', 'Age_Younger_% per Sector', 'Age_Younger_% per Social Category', 'Age_Younger_% per Workforce', 'Age', 'Sector_n', '% Sector per Workforce'], dtype='object')"
                        ]
                    },
                    "execution_count": 34,
                    "metadata": {},
                    "output_type": "execute_result"
                }
            ],
            "source": [
                "df_sectors.columns"
            ]
        },
        {
            "cell_type": "code",
            "execution_count": 35,
            "metadata": {},
            "outputs": [],
            "source": [
                "df_sectors = df_sectors.explode(\n",
                "    'Search Keyword', ignore_index=True\n",
                ").reset_index(drop=True)\n"
            ]
        },
        {
            "cell_type": "code",
            "execution_count": 36,
            "metadata": {},
            "outputs": [
                {
                    "data": {
                        "text/plain": [
                            "Index(['Sector Code', 'Sector', 'Search Keyword', 'Keywords Count', '% per Sector', '% per Social Category', '% per Workforce', 'Gender_Female_n', 'Gender_Female_% per Sector', 'Gender_Female_% per Social Category', 'Gender_Female_% per Workforce', 'Gender_Male_n', 'Gender_Male_% per Sector', 'Gender_Male_% per Social Category', 'Gender_Male_% per Workforce', 'Gender', 'Age_Older_n', 'Age_Older_% per Sector', 'Age_Older_% per Social Category', 'Age_Older_% per Workforce', 'Age_Younger_n', 'Age_Younger_% per Sector', 'Age_Younger_% per Social Category', 'Age_Younger_% per Workforce', 'Age', 'Sector_n', '% Sector per Workforce'], dtype='object')"
                        ]
                    },
                    "execution_count": 36,
                    "metadata": {},
                    "output_type": "execute_result"
                }
            ],
            "source": [
                "df_sectors.columns"
            ]
        },
        {
            "cell_type": "code",
            "execution_count": 37,
            "metadata": {},
            "outputs": [
                {
                    "data": {
                        "text/plain": [
                            "101"
                        ]
                    },
                    "execution_count": 37,
                    "metadata": {},
                    "output_type": "execute_result"
                }
            ],
            "source": [
                "# len 101\n",
                "len(df_sectors)\n"
            ]
        },
        {
            "cell_type": "markdown",
            "metadata": {},
            "source": [
                "#### Before adding sector data, make sure keywords are correct as to not have any missing sector data when merging"
            ]
        },
        {
            "cell_type": "code",
            "execution_count": 38,
            "metadata": {},
            "outputs": [],
            "source": [
                "# This is a manually collected dictionary of incorrect/faulty keywords in scraped site data\n",
                "with open(f'{scraped_data}CBS/Data/keyword_trans_dict.txt') as f:\n",
                "    keyword_trans_dict = json.load(f)\n",
                "\n",
                "def fix_keywords(df_temp):\n",
                "\n",
                "    if len(df_temp) > 0 and isinstance(df_temp, pd.DataFrame):\n",
                "        for key, value in keyword_trans_dict.items():\n",
                "            df_temp.loc[\n",
                "                df_temp[df_temp['Search Keyword'].notnull()]['Search Keyword'].astype(str).progress_apply(\n",
                "                lambda x: x.lower().strip()\n",
                "                ) == str(key).lower().strip(), 'Search Keyword'\n",
                "            ] = str(value).lower().strip()\n",
                "\n",
                "        unfixed = df_temp.loc[\n",
                "            df_temp[df_temp['Search Keyword'].notnull()]['Search Keyword'].astype(str).progress_apply(lambda x: x.lower().strip()).isin([x.lower().strip() for x in list(keyword_trans_dict.keys())])\n",
                "        ]\n",
                "\n",
                "        if len(unfixed) != 0:\n",
                "            for key, value in keyword_trans_dict.items():\n",
                "                for idx, row in df_temp.iterrows():\n",
                "                    if row['Search Keyword'].astype(str).lower().strip() == str(key).lower().strip():\n",
                "                        df_temp.loc[idx, 'Search Keyword'] = str(value).lower().strip()\n",
                "    \n",
                "        unfixed = df_temp.loc[\n",
                "                df_temp[df_temp['Search Keyword'].notnull()]['Search Keyword'].astype(str).progress_apply(lambda x: x.lower().strip()).isin([x.lower().strip() for x in list(keyword_trans_dict.keys())])\n",
                "            ]\n",
                "        if len(unfixed) != 0:\n",
                "            print('Some keywords were not fixed. Please check file unfixed_keywords.txt in data directory.')\n",
                "            with open(f'{data_dir}unfixed_keywords.txt', 'w') as f:\n",
                "                json.dump(unfixed, f)\n",
                "    \n",
                "    return df_temp\n",
                "\n",
                "# Fix keywords\n",
                "if len(df_jobs['Search Keyword'].loc[df_jobs['Search Keyword'].isin(list(keyword_trans_dict.keys()))]) != 0:\n",
                "    print('Some search keywords did not match a sector. Fixing')\n",
                "#     print(set(df_jobs['Search Keyword'].loc[df_jobs['Sector'].isna()].to_list()))\n",
                "    print(len(df_jobs['Search Keyword'].loc[df_jobs['Search Keyword'].isin(list(keyword_trans_dict.keys()))]))\n",
                "    df_jobs = fix_keywords(df_jobs)\n",
                "#     print(set(df_jobs['Search Keyword'].loc[df_jobs['Sector'].isna()].to_list()))\n",
                "    print(len(df_jobs['Search Keyword'].loc[df_jobs['Search Keyword'].isin(list(keyword_trans_dict.keys()))]))\n"
            ]
        },
        {
            "cell_type": "code",
            "execution_count": 39,
            "metadata": {},
            "outputs": [],
            "source": [
                "df_jobs = df_jobs.merge(df_sectors, on='Search Keyword', how='left')\n"
            ]
        },
        {
            "cell_type": "code",
            "execution_count": 40,
            "metadata": {},
            "outputs": [
                {
                    "data": {
                        "text/plain": [
                            "17599"
                        ]
                    },
                    "execution_count": 40,
                    "metadata": {},
                    "output_type": "execute_result"
                }
            ],
            "source": [
                "# 17599\n",
                "len(df_jobs)\n"
            ]
        },
        {
            "cell_type": "code",
            "execution_count": 41,
            "metadata": {},
            "outputs": [
                {
                    "name": "stdout",
                    "output_type": "stream",
                    "text": [
                        "<class 'pandas.core.frame.DataFrame'>\n",
                        "Int64Index: 17599 entries, 0 to 17598\n",
                        "Data columns (total 48 columns):\n",
                        " #   Column                               Non-Null Count  Dtype  \n",
                        "---  ------                               --------------  -----  \n",
                        " 0   Search Keyword                       17599 non-null  object \n",
                        " 1   Platform                             17599 non-null  object \n",
                        " 2   Job ID                               17599 non-null  object \n",
                        " 3   Job Title                            17599 non-null  object \n",
                        " 4   Company Name                         17597 non-null  object \n",
                        " 5   Location                             17599 non-null  object \n",
                        " 6   Job Description                      17599 non-null  object \n",
                        " 7   Rating                               3780 non-null   float64\n",
                        " 8   Employment Type                      17017 non-null  object \n",
                        " 9   Company URL                          15959 non-null  object \n",
                        " 10  Job URL                              17599 non-null  object \n",
                        " 11  Job Age                              17599 non-null  object \n",
                        " 12  Job Age Number                       17599 non-null  object \n",
                        " 13  Collection Date                      17599 non-null  object \n",
                        " 14  Data Row                             13816 non-null  float64\n",
                        " 15  Tracking ID                          13816 non-null  object \n",
                        " 16  Industry                             14401 non-null  object \n",
                        " 17  Job Date                             13819 non-null  object \n",
                        " 18  Type of ownership                    582 non-null    object \n",
                        " 19  Language                             17599 non-null  object \n",
                        " 20  Dutch Requirement                    17599 non-null  int64  \n",
                        " 21  English Requirement                  17599 non-null  int64  \n",
                        " 22  Sector Code                          17599 non-null  object \n",
                        " 23  Sector                               17599 non-null  object \n",
                        " 24  Keywords Count                       17599 non-null  float64\n",
                        " 25  % per Sector                         17599 non-null  float64\n",
                        " 26  % per Social Category                17599 non-null  float64\n",
                        " 27  % per Workforce                      17599 non-null  float64\n",
                        " 28  Gender_Female_n                      17599 non-null  float64\n",
                        " 29  Gender_Female_% per Sector           17599 non-null  float64\n",
                        " 30  Gender_Female_% per Social Category  17599 non-null  float64\n",
                        " 31  Gender_Female_% per Workforce        17599 non-null  float64\n",
                        " 32  Gender_Male_n                        17599 non-null  float64\n",
                        " 33  Gender_Male_% per Sector             17599 non-null  float64\n",
                        " 34  Gender_Male_% per Social Category    17599 non-null  float64\n",
                        " 35  Gender_Male_% per Workforce          17599 non-null  float64\n",
                        " 36  Gender                               17599 non-null  object \n",
                        " 37  Age_Older_n                          17599 non-null  float64\n",
                        " 38  Age_Older_% per Sector               17599 non-null  float64\n",
                        " 39  Age_Older_% per Social Category      17599 non-null  float64\n",
                        " 40  Age_Older_% per Workforce            17599 non-null  float64\n",
                        " 41  Age_Younger_n                        17599 non-null  float64\n",
                        " 42  Age_Younger_% per Sector             17599 non-null  float64\n",
                        " 43  Age_Younger_% per Social Category    17599 non-null  float64\n",
                        " 44  Age_Younger_% per Workforce          17599 non-null  float64\n",
                        " 45  Age                                  17599 non-null  object \n",
                        " 46  Sector_n                             17599 non-null  float64\n",
                        " 47  % Sector per Workforce               17599 non-null  float64\n",
                        "dtypes: float64(24), int64(2), object(22)\n",
                        "memory usage: 6.6+ MB\n"
                    ]
                }
            ],
            "source": [
                "df_jobs.info()\n"
            ]
        },
        {
            "cell_type": "markdown",
            "metadata": {},
            "source": [
                "#### Check if there is any missing sector data in the merged dataframe"
            ]
        },
        {
            "cell_type": "code",
            "execution_count": 42,
            "metadata": {},
            "outputs": [
                {
                    "data": {
                        "text/plain": [
                            "0"
                        ]
                    },
                    "execution_count": 42,
                    "metadata": {},
                    "output_type": "execute_result"
                }
            ],
            "source": [
                "df_jobs['Sector'].isna().sum()"
            ]
        },
        {
            "cell_type": "code",
            "execution_count": 43,
            "metadata": {},
            "outputs": [],
            "source": [
                "if df_jobs['Sector'].isna().sum() != 0:\n",
                "    print('Some search keywords did not match a sector. Fixing')\n",
                "    print(set(df_jobs['Search Keyword'].loc[df_jobs['Sector'].isna()].to_list()))\n",
                "    print(len(df_jobs['Search Keyword'].loc[df_jobs['Search Keyword'].isin(list(keyword_trans_dict.keys()))]))\n",
                "    df_jobs = fix_keywords(df_jobs)\n",
                "    print(set(df_jobs['Search Keyword'].loc[df_jobs['Sector'].isna()].to_list()))\n",
                "    print(len(df_jobs['Search Keyword'].loc[df_jobs['Search Keyword'].isin(list(keyword_trans_dict.keys()))]))\n"
            ]
        },
        {
            "cell_type": "code",
            "execution_count": 44,
            "metadata": {},
            "outputs": [
                {
                    "data": {
                        "text/plain": [
                            "Mixed Gender    12256\n",
                            "Male             3830\n",
                            "Female           1513\n",
                            "Name: Gender, dtype: int64"
                        ]
                    },
                    "execution_count": 44,
                    "metadata": {},
                    "output_type": "execute_result"
                }
            ],
            "source": [
                "df_jobs['Gender'].value_counts()\n"
            ]
        },
        {
            "cell_type": "code",
            "execution_count": 45,
            "metadata": {},
            "outputs": [
                {
                    "data": {
                        "text/plain": [
                            "Mixed Age    11467\n",
                            "Older         3778\n",
                            "Younger       2354\n",
                            "Name: Age, dtype: int64"
                        ]
                    },
                    "execution_count": 45,
                    "metadata": {},
                    "output_type": "execute_result"
                }
            ],
            "source": [
                "df_jobs['Age'].value_counts()"
            ]
        },
        {
            "cell_type": "code",
            "execution_count": 46,
            "metadata": {},
            "outputs": [],
            "source": [
                "if df_jobs['Sector'].isna().sum() == 0:\n",
                "    assert len(df_jobs) > 0 and isinstance(df_jobs, pd.DataFrame), f'ERORR: LENGTH OF DF = {len(df_jobs)}'\n",
                "    df_jobs.to_pickle(f'{df_save_dir}df_jobs_including_sector_data.pkl')\n",
                "    df_jobs.to_csv(f'{df_save_dir}df_jobs_including_sector_data.csv', index=False)\n",
                "\n",
                "else:\n",
                "    print(f\"MISSING SECTOR DATA: COUNT {df_jobs['Sector'].isna().sum()}\")"
            ]
        },
        {
            "cell_type": "markdown",
            "metadata": {},
            "source": [
                "# Add categorical data\n"
            ]
        },
        {
            "cell_type": "markdown",
            "metadata": {},
            "source": [
                "### START HERE IF SOURCING FROM DF_JOBS_INCLUDING_SECTOR_DATA\n",
                "### PLEASE SET CORRECT DIRECTORY PATHS BELOW\n"
            ]
        },
        {
            "cell_type": "code",
            "execution_count": 47,
            "metadata": {},
            "outputs": [],
            "source": [
                "import os # type:ignore # isort:skip # fmt:skip # noqa # nopep8\n",
                "import sys # type:ignore # isort:skip # fmt:skip # noqa # nopep8\n",
                "from pathlib import Path # type:ignore # isort:skip # fmt:skip # noqa # nopep8\n",
                "\n",
                "mod = sys.modules[__name__]\n",
                "\n",
                "code_dir = None\n",
                "code_dir_name = 'Code'\n",
                "unwanted_subdir_name = 'Analysis'\n",
                "\n",
                "for _ in range(5):\n",
                "\n",
                "    parent_path = str(Path.cwd().parents[_]).split('/')[-1]\n",
                "\n",
                "    if (code_dir_name in parent_path) and (unwanted_subdir_name not in parent_path):\n",
                "\n",
                "        code_dir = str(Path.cwd().parents[_])\n",
                "\n",
                "        if code_dir is not None:\n",
                "            break\n",
                "\n",
                "sys.path.append(code_dir)\n",
                "# %load_ext autoreload\n",
                "# %autoreload 2\n"
            ]
        },
        {
            "cell_type": "code",
            "execution_count": 48,
            "metadata": {},
            "outputs": [],
            "source": [
                "from setup_module.imports import * # type:ignore # isort:skip # fmt:skip # noqa # nopep8\n"
            ]
        },
        {
            "cell_type": "code",
            "execution_count": 49,
            "metadata": {},
            "outputs": [],
            "source": [
                "# Function to order categories\n",
                "def categorize_df_gender_age(df, gender_order=None, age_order=None, ivs=None):\n",
                "    if gender_order is None:\n",
                "        gender_order = ['Female', 'Mixed Gender', 'Male']\n",
                "    if age_order is None:\n",
                "        age_order = ['Older', 'Mixed Age', 'Younger']\n",
                "    if ivs is None:\n",
                "        ivs = ['Gender', 'Age']\n",
                "    # Arrange Categories\n",
                "    for iv in ivs:\n",
                "        if iv == 'Gender':\n",
                "            order = gender_order\n",
                "        elif iv == 'Age':\n",
                "            order = age_order\n",
                "        try:\n",
                "            df[iv] = df[iv].astype('category').cat.reorder_categories(order, ordered=True)\n",
                "\n",
                "            df[iv] = pd.Categorical(\n",
                "                df[iv], categories=order, ordered=True\n",
                "            )\n",
                "            df[f'{iv}_Num'] = pd.to_numeric(df[iv].cat.codes).astype('int64')\n",
                "        except ValueError as e:\n",
                "            print(e)\n",
                "\n",
                "    return df\n"
            ]
        },
        {
            "cell_type": "code",
            "execution_count": 50,
            "metadata": {},
            "outputs": [],
            "source": [
                "# Funtion to print df gender and age info (also for warmth and competence)\n",
                "def get_df_info(df, ivs_all=None):\n",
                "    if ivs_all is None:\n",
                "        ivs_all = [\n",
                "            'Gender',\n",
                "            'Gender_Num',\n",
                "            'Gender_Female',\n",
                "            'Gender_Mixed',\n",
                "            'Gender_Male',\n",
                "            'Age',\n",
                "            'Age_Num',\n",
                "            'Age_Older',\n",
                "            'Age_Mixed',\n",
                "            'Age_Younger',\n",
                "        ]\n",
                "    # Print Info\n",
                "    print('\\nDF INFO:\\n')\n",
                "    df.info()\n",
                "\n",
                "    for iv in ivs_all:\n",
                "        try:\n",
                "            print('='*20)\n",
                "            print(f'{iv}:')\n",
                "            print('-'*20)\n",
                "            print(f'{iv} Counts:\\n{df[iv].value_counts()}')\n",
                "            print('-'*20)\n",
                "            print(f'{iv} Percentages:\\n{df[iv].value_counts(normalize=True).mul(100).round(1).astype(float)}')\n",
                "            try:\n",
                "                print('-'*20)\n",
                "                print(f'{iv} Mean: {df[iv].mean().round(2).astype(float)}')\n",
                "                print('-'*20)\n",
                "                print(f'{iv} Standard Deviation: {df[iv].std().round(2).astype(float)}')\n",
                "            except Exception:\n",
                "                pass\n",
                "        except Exception:\n",
                "            print(f'{iv} not available.')\n",
                "\n",
                "    print('\\n')\n"
            ]
        },
        {
            "cell_type": "code",
            "execution_count": 51,
            "metadata": {},
            "outputs": [],
            "source": [
                "df_jobs = pd.read_pickle(f'{df_save_dir}df_jobs_including_sector_data.pkl').reset_index(drop=True)\n"
            ]
        },
        {
            "cell_type": "code",
            "execution_count": 52,
            "metadata": {},
            "outputs": [
                {
                    "name": "stdout",
                    "output_type": "stream",
                    "text": [
                        "<class 'pandas.core.frame.DataFrame'>\n",
                        "RangeIndex: 17599 entries, 0 to 17598\n",
                        "Data columns (total 48 columns):\n",
                        " #   Column                               Non-Null Count  Dtype  \n",
                        "---  ------                               --------------  -----  \n",
                        " 0   Search Keyword                       17599 non-null  object \n",
                        " 1   Platform                             17599 non-null  object \n",
                        " 2   Job ID                               17599 non-null  object \n",
                        " 3   Job Title                            17599 non-null  object \n",
                        " 4   Company Name                         17597 non-null  object \n",
                        " 5   Location                             17599 non-null  object \n",
                        " 6   Job Description                      17599 non-null  object \n",
                        " 7   Rating                               3780 non-null   float64\n",
                        " 8   Employment Type                      17017 non-null  object \n",
                        " 9   Company URL                          15959 non-null  object \n",
                        " 10  Job URL                              17599 non-null  object \n",
                        " 11  Job Age                              17599 non-null  object \n",
                        " 12  Job Age Number                       17599 non-null  object \n",
                        " 13  Collection Date                      17599 non-null  object \n",
                        " 14  Data Row                             13816 non-null  float64\n",
                        " 15  Tracking ID                          13816 non-null  object \n",
                        " 16  Industry                             14401 non-null  object \n",
                        " 17  Job Date                             13819 non-null  object \n",
                        " 18  Type of ownership                    582 non-null    object \n",
                        " 19  Language                             17599 non-null  object \n",
                        " 20  Dutch Requirement                    17599 non-null  int64  \n",
                        " 21  English Requirement                  17599 non-null  int64  \n",
                        " 22  Sector Code                          17599 non-null  object \n",
                        " 23  Sector                               17599 non-null  object \n",
                        " 24  Keywords Count                       17599 non-null  float64\n",
                        " 25  % per Sector                         17599 non-null  float64\n",
                        " 26  % per Social Category                17599 non-null  float64\n",
                        " 27  % per Workforce                      17599 non-null  float64\n",
                        " 28  Gender_Female_n                      17599 non-null  float64\n",
                        " 29  Gender_Female_% per Sector           17599 non-null  float64\n",
                        " 30  Gender_Female_% per Social Category  17599 non-null  float64\n",
                        " 31  Gender_Female_% per Workforce        17599 non-null  float64\n",
                        " 32  Gender_Male_n                        17599 non-null  float64\n",
                        " 33  Gender_Male_% per Sector             17599 non-null  float64\n",
                        " 34  Gender_Male_% per Social Category    17599 non-null  float64\n",
                        " 35  Gender_Male_% per Workforce          17599 non-null  float64\n",
                        " 36  Gender                               17599 non-null  object \n",
                        " 37  Age_Older_n                          17599 non-null  float64\n",
                        " 38  Age_Older_% per Sector               17599 non-null  float64\n",
                        " 39  Age_Older_% per Social Category      17599 non-null  float64\n",
                        " 40  Age_Older_% per Workforce            17599 non-null  float64\n",
                        " 41  Age_Younger_n                        17599 non-null  float64\n",
                        " 42  Age_Younger_% per Sector             17599 non-null  float64\n",
                        " 43  Age_Younger_% per Social Category    17599 non-null  float64\n",
                        " 44  Age_Younger_% per Workforce          17599 non-null  float64\n",
                        " 45  Age                                  17599 non-null  object \n",
                        " 46  Sector_n                             17599 non-null  float64\n",
                        " 47  % Sector per Workforce               17599 non-null  float64\n",
                        "dtypes: float64(24), int64(2), object(22)\n",
                        "memory usage: 6.4+ MB\n"
                    ]
                }
            ],
            "source": [
                "df_jobs.info()\n"
            ]
        },
        {
            "cell_type": "code",
            "execution_count": 53,
            "metadata": {},
            "outputs": [],
            "source": [
                "df_jobs = df_jobs.join(pd.get_dummies(df_jobs[['Gender', 'Age']], dtype='int64'))\n",
                "df_jobs = df_jobs.rename({'Gender_Mixed Gender': 'Gender_Mixed', 'Age_Mixed Age': 'Age_Mixed'}, axis='columns')\n"
            ]
        },
        {
            "cell_type": "code",
            "execution_count": 54,
            "metadata": {},
            "outputs": [],
            "source": [
                "df_jobs = categorize_df_gender_age(df_jobs)"
            ]
        },
        {
            "cell_type": "code",
            "execution_count": 55,
            "metadata": {},
            "outputs": [
                {
                    "data": {
                        "text/plain": [
                            "Mixed Gender    12256\n",
                            "Male             3830\n",
                            "Female           1513\n",
                            "Name: Gender, dtype: int64"
                        ]
                    },
                    "execution_count": 55,
                    "metadata": {},
                    "output_type": "execute_result"
                }
            ],
            "source": [
                "df_jobs['Gender'].value_counts()"
            ]
        },
        {
            "cell_type": "code",
            "execution_count": 56,
            "metadata": {},
            "outputs": [
                {
                    "data": {
                        "text/plain": [
                            "0    16086\n",
                            "1     1513\n",
                            "Name: Gender_Female, dtype: int64"
                        ]
                    },
                    "execution_count": 56,
                    "metadata": {},
                    "output_type": "execute_result"
                }
            ],
            "source": [
                "df_jobs['Gender_Female'].value_counts()"
            ]
        },
        {
            "cell_type": "code",
            "execution_count": 57,
            "metadata": {},
            "outputs": [
                {
                    "data": {
                        "text/plain": [
                            "1    12256\n",
                            "2     3830\n",
                            "0     1513\n",
                            "Name: Gender_Num, dtype: int64"
                        ]
                    },
                    "execution_count": 57,
                    "metadata": {},
                    "output_type": "execute_result"
                }
            ],
            "source": [
                "df_jobs['Gender_Num'].value_counts()"
            ]
        },
        {
            "cell_type": "code",
            "execution_count": 58,
            "metadata": {},
            "outputs": [
                {
                    "data": {
                        "text/plain": [
                            "LinkedIn     13819\n",
                            "Indeed        3198\n",
                            "Glassdoor      582\n",
                            "Name: Platform, dtype: int64"
                        ]
                    },
                    "execution_count": 58,
                    "metadata": {},
                    "output_type": "execute_result"
                }
            ],
            "source": [
                "df_jobs['Platform'].value_counts()"
            ]
        },
        {
            "cell_type": "code",
            "execution_count": 59,
            "metadata": {},
            "outputs": [],
            "source": [
                "platform_order = ['LinkedIn', 'Indeed', 'Glassdoor']\n",
                "df_jobs['Platform'] = df_jobs['Platform'].astype('category').cat.reorder_categories(platform_order, ordered=True)\n",
                "df_jobs['Platform'] = pd.Categorical(df_jobs['Platform'], categories=platform_order, ordered=True)\n",
                "df_jobs['Platform_Num'] = pd.to_numeric(df_jobs['Platform'].cat.codes).astype('int64')\n",
                "df_jobs = df_jobs.join(pd.get_dummies(df_jobs[['Platform']], dtype='int64'))"
            ]
        },
        {
            "cell_type": "code",
            "execution_count": 60,
            "metadata": {},
            "outputs": [
                {
                    "data": {
                        "text/plain": [
                            "Platform_Num  Platform_LinkedIn  Platform_Indeed  Platform_Glassdoor\n",
                            "0             1                  0                0                     13819\n",
                            "1             0                  1                0                      3198\n",
                            "2             0                  0                1                       582\n",
                            "dtype: int64"
                        ]
                    },
                    "execution_count": 60,
                    "metadata": {},
                    "output_type": "execute_result"
                }
            ],
            "source": [
                "df_jobs[['Platform_Num', 'Platform_LinkedIn', 'Platform_Indeed', 'Platform_Glassdoor']].value_counts()"
            ]
        },
        {
            "cell_type": "code",
            "execution_count": 61,
            "metadata": {},
            "outputs": [],
            "source": [
                "assert len(df_jobs) > 0 and isinstance(df_jobs, pd.DataFrame), f'ERORR: LENGTH OF DF = {len(df_jobs)}'\n",
                "df_jobs.to_pickle(f'{df_save_dir}df_jobs_including_sector_genage_data.pkl')\n",
                "df_jobs.to_csv(f'{df_save_dir}df_jobs_including_sector_genage_data.csv', index=False)\n",
                "\n"
            ]
        },
        {
            "cell_type": "markdown",
            "metadata": {},
            "source": [
                "# Use spacy to split job ads to sentences\n"
            ]
        },
        {
            "cell_type": "markdown",
            "metadata": {},
            "source": [
                "### START HERE IF SOURCING FROM DF_JOBS_INCLUDING_SECTOR_GENAGE_DATA\n",
                "### PLEASE SET CORRECT DIRECTORY PATHS BELOW\n"
            ]
        },
        {
            "cell_type": "code",
            "execution_count": 62,
            "metadata": {},
            "outputs": [],
            "source": [
                "import os # type:ignore # isort:skip # fmt:skip # noqa # nopep8\n",
                "import sys # type:ignore # isort:skip # fmt:skip # noqa # nopep8\n",
                "from pathlib import Path # type:ignore # isort:skip # fmt:skip # noqa # nopep8\n",
                "\n",
                "mod = sys.modules[__name__]\n",
                "\n",
                "code_dir = None\n",
                "code_dir_name = 'Code'\n",
                "unwanted_subdir_name = 'Analysis'\n",
                "\n",
                "for _ in range(5):\n",
                "\n",
                "    parent_path = str(Path.cwd().parents[_]).split('/')[-1]\n",
                "\n",
                "    if (code_dir_name in parent_path) and (unwanted_subdir_name not in parent_path):\n",
                "\n",
                "        code_dir = str(Path.cwd().parents[_])\n",
                "\n",
                "        if code_dir is not None:\n",
                "            break\n",
                "\n",
                "sys.path.append(code_dir)\n",
                "# %load_ext autoreload\n",
                "# %autoreload 2\n"
            ]
        },
        {
            "cell_type": "code",
            "execution_count": 63,
            "metadata": {},
            "outputs": [],
            "source": [
                "from setup_module.imports import *  # type:ignore # isort:skip # fmt:skip # noqa # nopep8\n"
            ]
        },
        {
            "cell_type": "code",
            "execution_count": 64,
            "metadata": {},
            "outputs": [],
            "source": [
                "df_jobs = pd.read_pickle(f'{df_save_dir}df_jobs_including_sector_genage_data.pkl').reset_index(drop=True)\n"
            ]
        },
        {
            "cell_type": "code",
            "execution_count": 65,
            "metadata": {},
            "outputs": [
                {
                    "name": "stdout",
                    "output_type": "stream",
                    "text": [
                        "<class 'pandas.core.frame.DataFrame'>\n",
                        "RangeIndex: 17599 entries, 0 to 17598\n",
                        "Data columns (total 60 columns):\n",
                        " #   Column                               Non-Null Count  Dtype   \n",
                        "---  ------                               --------------  -----   \n",
                        " 0   Search Keyword                       17599 non-null  object  \n",
                        " 1   Platform                             17599 non-null  category\n",
                        " 2   Job ID                               17599 non-null  object  \n",
                        " 3   Job Title                            17599 non-null  object  \n",
                        " 4   Company Name                         17597 non-null  object  \n",
                        " 5   Location                             17599 non-null  object  \n",
                        " 6   Job Description                      17599 non-null  object  \n",
                        " 7   Rating                               3780 non-null   float64 \n",
                        " 8   Employment Type                      17017 non-null  object  \n",
                        " 9   Company URL                          15959 non-null  object  \n",
                        " 10  Job URL                              17599 non-null  object  \n",
                        " 11  Job Age                              17599 non-null  object  \n",
                        " 12  Job Age Number                       17599 non-null  object  \n",
                        " 13  Collection Date                      17599 non-null  object  \n",
                        " 14  Data Row                             13816 non-null  float64 \n",
                        " 15  Tracking ID                          13816 non-null  object  \n",
                        " 16  Industry                             14401 non-null  object  \n",
                        " 17  Job Date                             13819 non-null  object  \n",
                        " 18  Type of ownership                    582 non-null    object  \n",
                        " 19  Language                             17599 non-null  object  \n",
                        " 20  Dutch Requirement                    17599 non-null  int64   \n",
                        " 21  English Requirement                  17599 non-null  int64   \n",
                        " 22  Sector Code                          17599 non-null  object  \n",
                        " 23  Sector                               17599 non-null  object  \n",
                        " 24  Keywords Count                       17599 non-null  float64 \n",
                        " 25  % per Sector                         17599 non-null  float64 \n",
                        " 26  % per Social Category                17599 non-null  float64 \n",
                        " 27  % per Workforce                      17599 non-null  float64 \n",
                        " 28  Gender_Female_n                      17599 non-null  float64 \n",
                        " 29  Gender_Female_% per Sector           17599 non-null  float64 \n",
                        " 30  Gender_Female_% per Social Category  17599 non-null  float64 \n",
                        " 31  Gender_Female_% per Workforce        17599 non-null  float64 \n",
                        " 32  Gender_Male_n                        17599 non-null  float64 \n",
                        " 33  Gender_Male_% per Sector             17599 non-null  float64 \n",
                        " 34  Gender_Male_% per Social Category    17599 non-null  float64 \n",
                        " 35  Gender_Male_% per Workforce          17599 non-null  float64 \n",
                        " 36  Gender                               17599 non-null  category\n",
                        " 37  Age_Older_n                          17599 non-null  float64 \n",
                        " 38  Age_Older_% per Sector               17599 non-null  float64 \n",
                        " 39  Age_Older_% per Social Category      17599 non-null  float64 \n",
                        " 40  Age_Older_% per Workforce            17599 non-null  float64 \n",
                        " 41  Age_Younger_n                        17599 non-null  float64 \n",
                        " 42  Age_Younger_% per Sector             17599 non-null  float64 \n",
                        " 43  Age_Younger_% per Social Category    17599 non-null  float64 \n",
                        " 44  Age_Younger_% per Workforce          17599 non-null  float64 \n",
                        " 45  Age                                  17599 non-null  category\n",
                        " 46  Sector_n                             17599 non-null  float64 \n",
                        " 47  % Sector per Workforce               17599 non-null  float64 \n",
                        " 48  Gender_Female                        17599 non-null  int64   \n",
                        " 49  Gender_Male                          17599 non-null  int64   \n",
                        " 50  Gender_Mixed                         17599 non-null  int64   \n",
                        " 51  Age_Mixed                            17599 non-null  int64   \n",
                        " 52  Age_Older                            17599 non-null  int64   \n",
                        " 53  Age_Younger                          17599 non-null  int64   \n",
                        " 54  Gender_Num                           17599 non-null  int64   \n",
                        " 55  Age_Num                              17599 non-null  int64   \n",
                        " 56  Platform_Num                         17599 non-null  int64   \n",
                        " 57  Platform_LinkedIn                    17599 non-null  int64   \n",
                        " 58  Platform_Indeed                      17599 non-null  int64   \n",
                        " 59  Platform_Glassdoor                   17599 non-null  int64   \n",
                        "dtypes: category(3), float64(24), int64(14), object(19)\n",
                        "memory usage: 7.7+ MB\n"
                    ]
                }
            ],
            "source": [
                "df_jobs.info()\n"
            ]
        },
        {
            "cell_type": "code",
            "execution_count": 66,
            "metadata": {},
            "outputs": [],
            "source": [
                "# Function to make a list of punctuations that determine sentence boundry, i.e., split characters\n",
                "def make_custom_punct_chars(main_punct_chars=None, repeated_punct_chars=None):\n",
                "    if main_punct_chars is None:\n",
                "        main_punct_chars = [':', '|']\n",
                "    if repeated_punct_chars is None:\n",
                "        repeated_punct_chars = ['\\n', ',']\n",
                "    custom_punct_chars = []\n",
                "    temp_multi = []\n",
                "    temp_spaced = []\n",
                "\n",
                "    for punct_char in main_punct_chars:\n",
                "        custom_punct_chars+= f'{punct_char}', f'{punct_char} '\n",
                "\n",
                "    for idx in range(4):\n",
                "        for punct_char in repeated_punct_chars:\n",
                "            temp_multi.append(f'{punct_char}'*int(idx+1))\n",
                "            temp_spaced.append(f'{punct_char} '*int(idx+1))\n",
                "\n",
                "    for multi, spaced in zip(temp_multi, temp_spaced):\n",
                "        custom_punct_chars+= multi, spaced\n",
                "\n",
                "    custom_punct_chars.remove(',')\n",
                "    custom_punct_chars.remove(', ')\n",
                "\n",
                "    return custom_punct_chars\n",
                "\n",
                "custom_punct_chars = make_custom_punct_chars()\n"
            ]
        },
        {
            "cell_type": "code",
            "execution_count": 67,
            "metadata": {},
            "outputs": [
                {
                    "data": {
                        "text/plain": [
                            "[':',\n",
                            " ': ',\n",
                            " '|',\n",
                            " '| ',\n",
                            " '\\n',\n",
                            " '\\n ',\n",
                            " '\\n\\n',\n",
                            " '\\n \\n ',\n",
                            " ',,',\n",
                            " ', , ',\n",
                            " '\\n\\n\\n',\n",
                            " '\\n \\n \\n ',\n",
                            " ',,,',\n",
                            " ', , , ',\n",
                            " '\\n\\n\\n\\n',\n",
                            " '\\n \\n \\n \\n ',\n",
                            " ',,,,',\n",
                            " ', , , , ']"
                        ]
                    },
                    "execution_count": 67,
                    "metadata": {},
                    "output_type": "execute_result"
                }
            ],
            "source": [
                "custom_punct_chars\n"
            ]
        },
        {
            "cell_type": "code",
            "execution_count": 68,
            "metadata": {},
            "outputs": [
                {
                    "name": "stdout",
                    "output_type": "stream",
                    "text": [
                        "CPU times: user 3.14 ms, sys: 1.7 ms, total: 4.84 ms\n",
                        "Wall time: 4.09 ms\n"
                    ]
                }
            ],
            "source": [
                "%%time\n",
                "# Add sentencizer to spacy pipe and set custom punctuations\n",
                "if 'sentencizer' not in nlp.pipe_names:\n",
                "    sentencizer = nlp.add_pipe('sentencizer')\n",
                "sentencizer.punct_chars.update(custom_punct_chars)\n",
                "\n",
                "if all(custom_punct_char in sentencizer.punct_chars for custom_punct_char in custom_punct_chars):\n",
                "    with open(f'{data_dir}punctuations.txt', 'wb') as f:\n",
                "        pickle.dump(sentencizer.punct_chars, f)\n",
                "\n",
                "with open(f'{data_dir}punctuations.txt', 'rb') as f:\n",
                "    custom_punct_chars = pickle.load(f)\n"
            ]
        },
        {
            "cell_type": "code",
            "execution_count": 69,
            "metadata": {},
            "outputs": [],
            "source": [
                "# Add special cases to spacy\n",
                "special_cases_dict = {\n",
                "    'incl.': [{65: 'incl', 67: 'including'}],\n",
                "    'incl. ': [{65: 'incl', 67: 'including'}],\n",
                "    '(incl.': [{65: 'incl', 67: 'including'}],\n",
                "    'etc.': [{65: 'etc', 67: 'et cetera'}],\n",
                "    'etc. ': [{65: 'etc', 67: 'et cetera'}],\n",
                "    'e.g.': [{65: 'e.g', 67: 'for example'}],\n",
                "    'e.g. ': [{65: 'e.g', 67: 'for example'}],\n",
                "}\n",
                "\n",
                "nlp.tokenizer.rules.update(special_cases_dict)\n"
            ]
        },
        {
            "cell_type": "code",
            "execution_count": 70,
            "metadata": {},
            "outputs": [
                {
                    "data": {
                        "application/vnd.jupyter.widget-view+json": {
                            "model_id": "5efc332fe8a64ab9a439161f5c45e23b",
                            "version_major": 2,
                            "version_minor": 0
                        },
                        "text/plain": [
                            "progress-bar:   0%|          | 0/17599 [00:00<?, ?it/s]"
                        ]
                    },
                    "metadata": {},
                    "output_type": "display_data"
                },
                {
                    "name": "stdout",
                    "output_type": "stream",
                    "text": [
                        "CPU times: user 14min 43s, sys: 25.4 s, total: 15min 8s\n",
                        "Wall time: 15min 21s\n"
                    ]
                }
            ],
            "source": [
                "%%time\n",
                "# Spacy sentencize\n",
                "pattern = r'[\\n]+|[,]{2,}|[|]{2,}|[\\n\\r]+|(?<=[a-z]\\.)(?=\\s*[A-Z])|(?=\\:+[A-Z])'\n",
                "if all(custom_punct_char in sentencizer.punct_chars for custom_punct_char in custom_punct_chars):\n",
                "    df_jobs['Job Description spacy_sentencized'] = df_jobs['Job Description'].progress_apply(\n",
                "        lambda job_description: [\n",
                "            sent \n",
                "            for sentence in nlp(job_description).sents \n",
                "            for sent in re.split(pattern, sentence.text) \n",
                "            if len(sent) != 0 \n",
                "        ]\n",
                "    )\n",
                "\n",
                "assert len(df_jobs) > 0 and isinstance(df_jobs, pd.DataFrame), f'ERORR: LENGTH OF DF = {len(df_jobs)}'\n",
                "df_jobs.to_pickle(f'{df_save_dir}df_jobs_sentencized.pkl')\n",
                "df_jobs.to_csv(f'{df_save_dir}df_jobs_sentencized.csv', index=False)\n"
            ]
        },
        {
            "cell_type": "code",
            "execution_count": 71,
            "metadata": {},
            "outputs": [
                {
                    "data": {
                        "text/plain": [
                            "0    [About Our Client, The Global KYC organisation...\n",
                            "1    [Your role:, We’re in business to save our hom...\n",
                            "2    [During the past four years Colourful Rebel ha...\n",
                            "3    [Job Description, We are currently recruiting ...\n",
                            "4    [KARL LAGERFELD COMPANY PROFILE, The house of ...\n",
                            "Name: Job Description spacy_sentencized, dtype: object"
                        ]
                    },
                    "execution_count": 71,
                    "metadata": {},
                    "output_type": "execute_result"
                }
            ],
            "source": [
                "df_jobs['Job Description spacy_sentencized'].head()\n"
            ]
        },
        {
            "cell_type": "code",
            "execution_count": 72,
            "metadata": {},
            "outputs": [],
            "source": [
                "assert len(df_jobs) > 0 and isinstance(df_jobs, pd.DataFrame), f'ERORR: LENGTH OF DF = {len(df_jobs)}'\n",
                "df_jobs.to_pickle(f'{df_save_dir}df_jobs_sentencized.pkl')\n",
                "df_jobs.to_csv(f'{df_save_dir}df_jobs_sentencized.csv', index=False)\n"
            ]
        },
        {
            "cell_type": "code",
            "execution_count": null,
            "metadata": {},
            "outputs": [],
            "source": []
        }
    ],
    "metadata": {
        "kernelspec": {
            "display_name": "study1_3.10",
            "language": "python",
            "name": "python3"
        },
        "language_info": {
            "codemirror_mode": {
                "name": "ipython",
                "version": 3
            },
            "file_extension": ".py",
            "mimetype": "text/x-python",
            "name": "python",
            "nbconvert_exporter": "python",
            "pygments_lexer": "ipython3",
            "version": "3.10.10"
        },
        "varInspector": {
            "cols": {
                "lenName": 16,
                "lenType": 16,
                "lenVar": 40
            },
            "kernels_config": {
                "python": {
                    "delete_cmd_postfix": "",
                    "delete_cmd_prefix": "del ",
                    "library": "var_list.py",
                    "varRefreshCmd": "print(var_dic_list())"
                },
                "r": {
                    "delete_cmd_postfix": ") ",
                    "delete_cmd_prefix": "rm(",
                    "library": "var_list.r",
                    "varRefreshCmd": "cat(var_dic_list()) "
                }
            },
            "types_to_exclude": [
                "module",
                "function",
                "builtin_function_or_method",
                "instance",
                "_Feature"
            ],
            "window_display": false
        },
        "widgets": {
            "application/vnd.jupyter.widget-state+json": {
                "state": {},
                "version_major": 2,
                "version_minor": 0
            }
        }
    },
    "nbformat": 4,
    "nbformat_minor": 4
}
