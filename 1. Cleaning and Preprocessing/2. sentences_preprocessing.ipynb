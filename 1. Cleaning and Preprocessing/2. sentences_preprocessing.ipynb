{
    "cells": [
        {
            "cell_type": "markdown",
            "metadata": {},
            "source": [
                "# ATTN: This script should be run AFTER language detection is completed."
            ]
        },
        {
            "cell_type": "markdown",
            "metadata": {},
            "source": [
                "# Drop non-English job descriptions"
            ]
        },
        {
            "cell_type": "markdown",
            "metadata": {},
            "source": [
                "### START HERE IF SOURCING FROM DF_JOBS_RAW_LANGUAGE_DETECTED\n",
                "### PLEASE SET CORRECT DIRECTORY PATHS BELOW\n"
            ]
        },
        {
            "cell_type": "code",
            "execution_count": 1,
            "metadata": {},
            "outputs": [],
            "source": [
                "import os # type:ignore # isort:skip # fmt:skip # noqa # nopep8\n",
                "import sys # type:ignore # isort:skip # fmt:skip # noqa # nopep8\n",
                "from pathlib import Path # type:ignore # isort:skip # fmt:skip # noqa # nopep8\n",
                "\n",
                "mod = sys.modules[__name__]\n",
                "\n",
                "code_dir = None\n",
                "code_dir_name = 'Code'\n",
                "unwanted_subdir_name = 'Analysis'\n",
                "\n",
                "for _ in range(5):\n",
                "\n",
                "    parent_path = str(Path.cwd().parents[_]).split('/')[-1]\n",
                "\n",
                "    if (code_dir_name in parent_path) and (unwanted_subdir_name not in parent_path):\n",
                "\n",
                "        code_dir = str(Path.cwd().parents[_])\n",
                "\n",
                "        if code_dir is not None:\n",
                "            break\n",
                "\n",
                "sys.path.append(code_dir)\n",
                "# %load_ext autoreload\n",
                "# %autoreload 2\n"
            ]
        },
        {
            "cell_type": "code",
            "execution_count": 2,
            "metadata": {},
            "outputs": [
                {
                    "name": "stdout",
                    "output_type": "stream",
                    "text": [
                        "Using MPS\n"
                    ]
                },
                {
                    "data": {
                        "application/vnd.jupyter.widget-view+json": {
                            "model_id": "a9c6cdb21d684a79b8ea1a68dba23b2d",
                            "version_major": 2,
                            "version_minor": 0
                        },
                        "text/plain": [
                            "0it [00:00, ?it/s]"
                        ]
                    },
                    "metadata": {},
                    "output_type": "display_data"
                },
                {
                    "data": {
                        "text/plain": [
                            "<Figure size 640x480 with 0 Axes>"
                        ]
                    },
                    "metadata": {},
                    "output_type": "display_data"
                }
            ],
            "source": [
                "from setup_module.imports import * # type:ignore # isort:skip # fmt:skip # noqa # nopep8\n"
            ]
        },
        {
            "cell_type": "code",
            "execution_count": 3,
            "metadata": {},
            "outputs": [],
            "source": [
                "df_jobs = pd.read_pickle(f'{df_save_dir}df_jobs_raw_language_detected.pkl')\n"
            ]
        },
        {
            "cell_type": "code",
            "execution_count": 4,
            "metadata": {},
            "outputs": [
                {
                    "name": "stdout",
                    "output_type": "stream",
                    "text": [
                        "<class 'pandas.core.frame.DataFrame'>\n",
                        "RangeIndex: 62577 entries, 0 to 62576\n",
                        "Data columns (total 20 columns):\n",
                        " #   Column             Non-Null Count  Dtype  \n",
                        "---  ------             --------------  -----  \n",
                        " 0   Search Keyword     62577 non-null  object \n",
                        " 1   Platform           62577 non-null  object \n",
                        " 2   Job ID             62577 non-null  object \n",
                        " 3   Job Title          62577 non-null  object \n",
                        " 4   Company Name       62574 non-null  object \n",
                        " 5   Location           62577 non-null  object \n",
                        " 6   Job Description    62577 non-null  object \n",
                        " 7   Rating             3975 non-null   float64\n",
                        " 8   Employment Type    61995 non-null  object \n",
                        " 9   Company URL        59263 non-null  object \n",
                        " 10  Job URL            62577 non-null  object \n",
                        " 11  Job Age            62577 non-null  object \n",
                        " 12  Job Age Number     62577 non-null  object \n",
                        " 13  Collection Date    62577 non-null  object \n",
                        " 14  Data Row           58599 non-null  float64\n",
                        " 15  Tracking ID        58599 non-null  object \n",
                        " 16  Industry           59184 non-null  object \n",
                        " 17  Job Date           58602 non-null  object \n",
                        " 18  Type of ownership  582 non-null    object \n",
                        " 19  Language           62577 non-null  object \n",
                        "dtypes: float64(2), object(18)\n",
                        "memory usage: 9.5+ MB\n"
                    ]
                }
            ],
            "source": [
                "# len = 62577\n",
                "df_jobs.info()\n"
            ]
        },
        {
            "cell_type": "code",
            "execution_count": 5,
            "metadata": {},
            "outputs": [
                {
                    "data": {
                        "text/plain": [
                            "nl              44863\n",
                            "en              17591\n",
                            "de                 53\n",
                            "fr                 36\n",
                            "['nl', 'en']        9\n",
                            "['en', 'nl']        8\n",
                            "pl                  5\n",
                            "id                  4\n",
                            "da                  4\n",
                            "tr                  1\n",
                            "['nl', 'af']        1\n",
                            "st                  1\n",
                            "af                  1\n",
                            "Name: Language, dtype: int64"
                        ]
                    },
                    "execution_count": 5,
                    "metadata": {},
                    "output_type": "execute_result"
                }
            ],
            "source": [
                "# nl = 44863, en = 17591, ['en', 'nl'] = 8, ['nl', 'en'] = 9\n",
                "df_jobs['Language'].value_counts()\n"
            ]
        },
        {
            "cell_type": "code",
            "execution_count": 6,
            "metadata": {},
            "outputs": [
                {
                    "data": {
                        "application/vnd.jupyter.widget-view+json": {
                            "model_id": "d4edbe4006ca4b45a2d05923155b871c",
                            "version_major": 2,
                            "version_minor": 0
                        },
                        "text/plain": [
                            "progress-bar:   0%|          | 0/62577 [00:00<?, ?it/s]"
                        ]
                    },
                    "metadata": {},
                    "output_type": "display_data"
                },
                {
                    "name": "stdout",
                    "output_type": "stream",
                    "text": [
                        "CPU times: user 99.7 ms, sys: 7.67 ms, total: 107 ms\n",
                        "Wall time: 402 ms\n"
                    ]
                }
            ],
            "source": [
                "%%time\n",
                "# The majority of ['en', 'nl'] labeled job descriptions contain mostly English\n",
                "df_jobs['Language'] = df_jobs['Language'].progress_apply(\n",
                "    lambda lang: 'en' if lang == \"['en', 'nl']\" else lang\n",
                ")\n"
            ]
        },
        {
            "cell_type": "code",
            "execution_count": 7,
            "metadata": {},
            "outputs": [],
            "source": [
                "# Drop non-English ads\n",
                "df_jobs = df_jobs.drop(\n",
                "    df_jobs[\n",
                "        df_jobs['Language'] != 'en'\n",
                "    ].index, \n",
                "        axis='index', \n",
                ")\n"
            ]
        },
        {
            "cell_type": "code",
            "execution_count": 8,
            "metadata": {},
            "outputs": [
                {
                    "data": {
                        "text/plain": [
                            "17599"
                        ]
                    },
                    "execution_count": 8,
                    "metadata": {},
                    "output_type": "execute_result"
                }
            ],
            "source": [
                "# 17599\n",
                "len(df_jobs)\n"
            ]
        },
        {
            "cell_type": "code",
            "execution_count": 9,
            "metadata": {},
            "outputs": [],
            "source": [
                "assert len(df_jobs) > 0 and isinstance(df_jobs, pd.DataFrame), f'ERORR: LENGTH OF DF = {len(df_jobs)}'\n",
                "df_jobs.to_pickle(f'{df_save_dir}df_jobs_raw_english_only.pkl')\n",
                "df_jobs.to_csv(f'{df_save_dir}df_jobs_raw_english_only.csv', index=False)\n"
            ]
        },
        {
            "cell_type": "markdown",
            "metadata": {},
            "source": [
                "# Fix abbreviations in job descriptions"
            ]
        },
        {
            "cell_type": "markdown",
            "metadata": {},
            "source": [
                "### START HERE IF SOURCING FROM DF_JOBS_RAW_ENGLISH_ONLY\n",
                "### PLEASE SET CORRECT DIRECTORY PATHS BELOW\n"
            ]
        },
        {
            "cell_type": "code",
            "execution_count": 10,
            "metadata": {},
            "outputs": [],
            "source": [
                "import os # type:ignore # isort:skip # fmt:skip # noqa # nopep8\n",
                "import sys # type:ignore # isort:skip # fmt:skip # noqa # nopep8\n",
                "from pathlib import Path # type:ignore # isort:skip # fmt:skip # noqa # nopep8\n",
                "\n",
                "mod = sys.modules[__name__]\n",
                "\n",
                "code_dir = None\n",
                "code_dir_name = 'Code'\n",
                "unwanted_subdir_name = 'Analysis'\n",
                "\n",
                "for _ in range(5):\n",
                "\n",
                "    parent_path = str(Path.cwd().parents[_]).split('/')[-1]\n",
                "\n",
                "    if (code_dir_name in parent_path) and (unwanted_subdir_name not in parent_path):\n",
                "\n",
                "        code_dir = str(Path.cwd().parents[_])\n",
                "\n",
                "        if code_dir is not None:\n",
                "            break\n",
                "\n",
                "sys.path.append(code_dir)\n",
                "# %load_ext autoreload\n",
                "# %autoreload 2\n"
            ]
        },
        {
            "cell_type": "code",
            "execution_count": 11,
            "metadata": {},
            "outputs": [],
            "source": [
                "from setup_module.imports import * # type:ignore # isort:skip # fmt:skip # noqa # nopep8\n"
            ]
        },
        {
            "cell_type": "code",
            "execution_count": 12,
            "metadata": {},
            "outputs": [],
            "source": [
                "# Function to make a list of punctuations that determine sentence boundry, i.e., split characters\n",
                "def make_custom_punct_chars(main_punct_chars=None, repeated_punct_chars=None):\n",
                "    if main_punct_chars is None:\n",
                "        main_punct_chars = [':', '|']\n",
                "    if repeated_punct_chars is None:\n",
                "        repeated_punct_chars = ['\\n', ',']\n",
                "    custom_punct_chars = []\n",
                "    temp_multi = []\n",
                "    temp_spaced = []\n",
                "\n",
                "    for punct_char in main_punct_chars:\n",
                "        custom_punct_chars+= f'{punct_char}', f'{punct_char} '\n",
                "\n",
                "    for idx in range(4):\n",
                "        for punct_char in repeated_punct_chars:\n",
                "            temp_multi.append(f'{punct_char}'*int(idx+1))\n",
                "            temp_spaced.append(f'{punct_char} '*int(idx+1))\n",
                "\n",
                "    for multi, spaced in zip(temp_multi, temp_spaced):\n",
                "        custom_punct_chars+= multi, spaced\n",
                "\n",
                "    custom_punct_chars.remove(',')\n",
                "    custom_punct_chars.remove(', ')\n",
                "\n",
                "    return custom_punct_chars\n"
            ]
        },
        {
            "cell_type": "code",
            "execution_count": 13,
            "metadata": {},
            "outputs": [],
            "source": [
                "df_jobs = pd.read_pickle(f'{df_save_dir}df_jobs_raw_english_only.pkl')\n"
            ]
        },
        {
            "cell_type": "code",
            "execution_count": 14,
            "metadata": {},
            "outputs": [
                {
                    "name": "stdout",
                    "output_type": "stream",
                    "text": [
                        "<class 'pandas.core.frame.DataFrame'>\n",
                        "Int64Index: 17599 entries, 0 to 62535\n",
                        "Data columns (total 20 columns):\n",
                        " #   Column             Non-Null Count  Dtype  \n",
                        "---  ------             --------------  -----  \n",
                        " 0   Search Keyword     17599 non-null  object \n",
                        " 1   Platform           17599 non-null  object \n",
                        " 2   Job ID             17599 non-null  object \n",
                        " 3   Job Title          17599 non-null  object \n",
                        " 4   Company Name       17597 non-null  object \n",
                        " 5   Location           17599 non-null  object \n",
                        " 6   Job Description    17599 non-null  object \n",
                        " 7   Rating             3780 non-null   float64\n",
                        " 8   Employment Type    17017 non-null  object \n",
                        " 9   Company URL        15959 non-null  object \n",
                        " 10  Job URL            17599 non-null  object \n",
                        " 11  Job Age            17599 non-null  object \n",
                        " 12  Job Age Number     17599 non-null  object \n",
                        " 13  Collection Date    17599 non-null  object \n",
                        " 14  Data Row           13816 non-null  float64\n",
                        " 15  Tracking ID        13816 non-null  object \n",
                        " 16  Industry           14401 non-null  object \n",
                        " 17  Job Date           13819 non-null  object \n",
                        " 18  Type of ownership  582 non-null    object \n",
                        " 19  Language           17599 non-null  object \n",
                        "dtypes: float64(2), object(18)\n",
                        "memory usage: 2.8+ MB\n"
                    ]
                }
            ],
            "source": [
                "# len = 17599\n",
                "df_jobs.info()\n"
            ]
        },
        {
            "cell_type": "code",
            "execution_count": 15,
            "metadata": {},
            "outputs": [],
            "source": [
                "df_jobs['Job Description'] = df_jobs['Job Description'].astype(str)\n"
            ]
        },
        {
            "cell_type": "code",
            "execution_count": 16,
            "metadata": {},
            "outputs": [],
            "source": [
                "df_jobs['Job Description'] = df_jobs['Job Description'].apply(lambda x: x.strip())\n"
            ]
        },
        {
            "cell_type": "code",
            "execution_count": 17,
            "metadata": {},
            "outputs": [],
            "source": [
                "df_jobs['Job Description'] = df_jobs['Job Description'].apply(lambda x: unicodedata.normalize('NFKD', x.encode('ascii', 'ignore').decode('utf-8', 'ignore')))\n"
            ]
        },
        {
            "cell_type": "code",
            "execution_count": 18,
            "metadata": {},
            "outputs": [
                {
                    "data": {
                        "text/plain": [
                            "0    About Our Client\\nThe Global KYC organisation ...\n",
                            "2    Your role:\\n\\nWere in business to save our hom...\n",
                            "3    During the past four years Colourful Rebel has...\n",
                            "5    Job Description\\nWe are currently recruiting a...\n",
                            "7    KARL LAGERFELD COMPANY PROFILE\\n\\nThe house of...\n",
                            "Name: Job Description, dtype: object"
                        ]
                    },
                    "execution_count": 18,
                    "metadata": {},
                    "output_type": "execute_result"
                }
            ],
            "source": [
                "df_jobs['Job Description'].head()\n"
            ]
        },
        {
            "cell_type": "code",
            "execution_count": 19,
            "metadata": {},
            "outputs": [
                {
                    "data": {
                        "text/plain": [
                            "count                                                 17599\n",
                            "unique                                                17594\n",
                            "top       At SoftwareONE we are customerfocused Delighti...\n",
                            "freq                                                      3\n",
                            "Name: Job Description, dtype: object"
                        ]
                    },
                    "execution_count": 19,
                    "metadata": {},
                    "output_type": "execute_result"
                }
            ],
            "source": [
                "# count=17599, unique=17594, top=, freq=1\n",
                "df_jobs['Job Description'].describe()\n"
            ]
        },
        {
            "cell_type": "code",
            "execution_count": 20,
            "metadata": {},
            "outputs": [],
            "source": [
                "df_jobs = df_jobs.drop_duplicates(subset=['Job Description'], keep='first')\n"
            ]
        },
        {
            "cell_type": "code",
            "execution_count": 21,
            "metadata": {},
            "outputs": [
                {
                    "data": {
                        "text/plain": [
                            "17594"
                        ]
                    },
                    "execution_count": 21,
                    "metadata": {},
                    "output_type": "execute_result"
                }
            ],
            "source": [
                "# len=17594\n",
                "len(df_jobs)\n"
            ]
        },
        {
            "cell_type": "code",
            "execution_count": 22,
            "metadata": {},
            "outputs": [
                {
                    "data": {
                        "text/plain": [
                            "0    About Our Client\\nThe Global KYC organisation ...\n",
                            "2    Your role:\\n\\nWere in business to save our hom...\n",
                            "3    During the past four years Colourful Rebel has...\n",
                            "5    Job Description\\nWe are currently recruiting a...\n",
                            "7    KARL LAGERFELD COMPANY PROFILE\\n\\nThe house of...\n",
                            "Name: Job Description, dtype: object"
                        ]
                    },
                    "execution_count": 22,
                    "metadata": {},
                    "output_type": "execute_result"
                }
            ],
            "source": [
                "df_jobs['Job Description'].head()\n"
            ]
        },
        {
            "cell_type": "code",
            "execution_count": 23,
            "metadata": {},
            "outputs": [
                {
                    "data": {
                        "text/plain": [
                            "count                                                 17594\n",
                            "unique                                                17594\n",
                            "top       About Our Client\\nThe Global KYC organisation ...\n",
                            "freq                                                      1\n",
                            "Name: Job Description, dtype: object"
                        ]
                    },
                    "execution_count": 23,
                    "metadata": {},
                    "output_type": "execute_result"
                }
            ],
            "source": [
                "# count=17594, unique=17594, top=, freq=1\n",
                "df_jobs['Job Description'].describe()\n"
            ]
        },
        {
            "cell_type": "code",
            "execution_count": 24,
            "metadata": {},
            "outputs": [
                {
                    "name": "stdout",
                    "output_type": "stream",
                    "text": [
                        "[':', ': ', '|', '| ', '\\n', '\\n ', '\\n\\n', '\\n \\n ', ',,', ', , ', '\\n\\n\\n', '\\n \\n \\n ', ',,,', ', , , ', '\\n\\n\\n\\n', '\\n \\n \\n \\n ', ',,,,', ', , , , ']\n"
                    ]
                }
            ],
            "source": [
                "custom_punct_chars = make_custom_punct_chars()\n",
                "print(custom_punct_chars)\n"
            ]
        },
        {
            "cell_type": "code",
            "execution_count": 25,
            "metadata": {},
            "outputs": [],
            "source": [
                "# Drop na, empty strings, punctuations, and keep only sentences of length more than 0\n",
                "with open(f'{data_dir}punctuations.txt', 'rb') as f:\n",
                "    custom_punct_chars = pickle.load(f)\n",
                "\n",
                "df_jobs = df_jobs.dropna(subset=['Job Description'])\n",
                "df_jobs = df_jobs.loc[\n",
                "    (df_jobs['Job Description'].isnull() == False)\n",
                "    & (df_jobs['Job Description'].isna() == False)\n",
                "    & (df_jobs['Job Description'].notnull() == True)\n",
                "    & (df_jobs['Job Description'].notna() == True)\n",
                "    & (df_jobs['Job Description'].astype(bool) == True)\n",
                "    & (df_jobs['Job Description'].apply(len) > 0)\n",
                "    & (pd.isna(df_jobs['Job Description']) == False)\n",
                "    & (df_jobs['Job Description'].astype(str).isin(custom_punct_chars) == False)\n",
                "    & (df_jobs['Job Description'].astype(str).isin(non_whitespace_nan_list) == False)\n",
                "    & (df_jobs['Job Description'].astype(str).isin(list(string.punctuation)) == False)\n",
                "    & (df_jobs['Job Description'].astype(str).isin(list(string.whitespace)) == False)\n",
                "]\n",
                "df_jobs = df_jobs.dropna(subset=['Job Description'])\n"
            ]
        },
        {
            "cell_type": "code",
            "execution_count": 26,
            "metadata": {},
            "outputs": [
                {
                    "data": {
                        "text/plain": [
                            "0    About Our Client\\nThe Global KYC organisation ...\n",
                            "2    Your role:\\n\\nWere in business to save our hom...\n",
                            "3    During the past four years Colourful Rebel has...\n",
                            "5    Job Description\\nWe are currently recruiting a...\n",
                            "7    KARL LAGERFELD COMPANY PROFILE\\n\\nThe house of...\n",
                            "Name: Job Description, dtype: object"
                        ]
                    },
                    "execution_count": 26,
                    "metadata": {},
                    "output_type": "execute_result"
                }
            ],
            "source": [
                "df_jobs['Job Description'].head()\n"
            ]
        },
        {
            "cell_type": "code",
            "execution_count": 27,
            "metadata": {},
            "outputs": [
                {
                    "data": {
                        "text/plain": [
                            "count                                                 17593\n",
                            "unique                                                17593\n",
                            "top       About Our Client\\nThe Global KYC organisation ...\n",
                            "freq                                                      1\n",
                            "Name: Job Description, dtype: object"
                        ]
                    },
                    "execution_count": 27,
                    "metadata": {},
                    "output_type": "execute_result"
                }
            ],
            "source": [
                "df_jobs['Job Description'].describe()\n"
            ]
        },
        {
            "cell_type": "code",
            "execution_count": 28,
            "metadata": {},
            "outputs": [],
            "source": [
                "# Remove duplicate sentences from the same job ad\n",
                "df_jobs = df_jobs.drop_duplicates(subset=['Job ID', 'Job Description'])\n"
            ]
        },
        {
            "cell_type": "code",
            "execution_count": 29,
            "metadata": {},
            "outputs": [],
            "source": [
                "# Check row are string or invalid\n",
                "for idx, row in df_jobs['Job Description'].items():\n",
                "    if (not isinstance(row, str)) or (row in nan_list) or (row in custom_punct_chars) or (row in list(string.punctuation)) or (pd.isna(row) == True):\n",
                "        print(idx, row)"
            ]
        },
        {
            "cell_type": "code",
            "execution_count": 30,
            "metadata": {},
            "outputs": [
                {
                    "data": {
                        "text/plain": [
                            "17593"
                        ]
                    },
                    "execution_count": 30,
                    "metadata": {},
                    "output_type": "execute_result"
                }
            ],
            "source": [
                "# len=17593\n",
                "len(df_jobs)\n"
            ]
        },
        {
            "cell_type": "code",
            "execution_count": 31,
            "metadata": {},
            "outputs": [
                {
                    "data": {
                        "text/plain": [
                            "0    About Our Client\\nThe Global KYC organisation ...\n",
                            "2    Your role:\\n\\nWere in business to save our hom...\n",
                            "3    During the past four years Colourful Rebel has...\n",
                            "5    Job Description\\nWe are currently recruiting a...\n",
                            "7    KARL LAGERFELD COMPANY PROFILE\\n\\nThe house of...\n",
                            "Name: Job Description, dtype: object"
                        ]
                    },
                    "execution_count": 31,
                    "metadata": {},
                    "output_type": "execute_result"
                }
            ],
            "source": [
                "df_jobs['Job Description'].head()\n"
            ]
        },
        {
            "cell_type": "code",
            "execution_count": 32,
            "metadata": {},
            "outputs": [
                {
                    "data": {
                        "text/plain": [
                            "count                                                 17593\n",
                            "unique                                                17593\n",
                            "top       About Our Client\\nThe Global KYC organisation ...\n",
                            "freq                                                      1\n",
                            "Name: Job Description, dtype: object"
                        ]
                    },
                    "execution_count": 32,
                    "metadata": {},
                    "output_type": "execute_result"
                }
            ],
            "source": [
                "# count=17593, unique=17593\n",
                "df_jobs['Job Description'].describe()\n"
            ]
        },
        {
            "cell_type": "code",
            "execution_count": 33,
            "metadata": {},
            "outputs": [
                {
                    "data": {
                        "application/vnd.jupyter.widget-view+json": {
                            "model_id": "868f0b2fdb0b48c4bd71535f0be0ee75",
                            "version_major": 2,
                            "version_minor": 0
                        },
                        "text/plain": [
                            "progress-bar:   0%|          | 0/17593 [00:00<?, ?it/s]"
                        ]
                    },
                    "metadata": {},
                    "output_type": "display_data"
                }
            ],
            "source": [
                "df_jobs['Job Description'] = df_jobs.loc[df_jobs['Job Description'].notnull(), 'Job Description'].progress_apply(\n",
                "    lambda job_description: ' '.join(job_description.split('/')) if '/' in job_description else job_description\n",
                ")\n"
            ]
        },
        {
            "cell_type": "code",
            "execution_count": 34,
            "metadata": {},
            "outputs": [],
            "source": [
                "abb_dict = {\n",
                "    r'incl\\.': 'including', \n",
                "    r'e\\.g\\.': 'for example', \n",
                "    r'e\\.g': 'for example', \n",
                "    r'etc\\.': 'et cetera', \n",
                "    r'\\\"': '',\n",
                "}\n"
            ]
        },
        {
            "cell_type": "code",
            "execution_count": 35,
            "metadata": {},
            "outputs": [
                {
                    "name": "stdout",
                    "output_type": "stream",
                    "text": [
                        "CPU times: user 322 ms, sys: 4.21 ms, total: 326 ms\n",
                        "Wall time: 357 ms\n"
                    ]
                }
            ],
            "source": [
                "%%time\n",
                "df_jobs['Job Description'] = df_jobs['Job Description'].replace(abb_dict, regex=True)\n"
            ]
        },
        {
            "cell_type": "code",
            "execution_count": 36,
            "metadata": {},
            "outputs": [
                {
                    "data": {
                        "text/plain": [
                            "0    About Our Client\\nThe Global KYC organisation ...\n",
                            "2    Your role:\\n\\nWere in business to save our hom...\n",
                            "3    During the past four years Colourful Rebel has...\n",
                            "5    Job Description\\nWe are currently recruiting a...\n",
                            "7    KARL LAGERFELD COMPANY PROFILE\\n\\nThe house of...\n",
                            "Name: Job Description, dtype: object"
                        ]
                    },
                    "execution_count": 36,
                    "metadata": {},
                    "output_type": "execute_result"
                }
            ],
            "source": [
                "df_jobs['Job Description'].head()\n"
            ]
        },
        {
            "cell_type": "code",
            "execution_count": 37,
            "metadata": {},
            "outputs": [
                {
                    "data": {
                        "text/plain": [
                            "count                                                 17593\n",
                            "unique                                                17593\n",
                            "top       About Our Client\\nThe Global KYC organisation ...\n",
                            "freq                                                      1\n",
                            "Name: Job Description, dtype: object"
                        ]
                    },
                    "execution_count": 37,
                    "metadata": {},
                    "output_type": "execute_result"
                }
            ],
            "source": [
                "# count= 17593, unique= 17593\n",
                "df_jobs['Job Description'].describe()\n"
            ]
        },
        {
            "cell_type": "code",
            "execution_count": 38,
            "metadata": {},
            "outputs": [],
            "source": [
                "assert len(df_jobs) > 0 and isinstance(df_jobs, pd.DataFrame), f'ERORR: LENGTH OF DF = {len(df_jobs)}'\n",
                "df_jobs.to_pickle(f'{df_save_dir}df_jobs_raw_fixed_abbreviations.pkl')\n",
                "df_jobs.to_csv(f'{df_save_dir}df_jobs_raw_fixed_abbreviations.csv', index=False)\n"
            ]
        },
        {
            "attachments": {},
            "cell_type": "markdown",
            "metadata": {},
            "source": [
                "# Add English and Dutch language requirement columns"
            ]
        },
        {
            "cell_type": "markdown",
            "metadata": {},
            "source": [
                "### START HERE IF SOURCING FROM DF_JOBS_RAW_FIXED_ABBREVIATIONS\n",
                "### PLEASE SET CORRECT DIRECTORY PATHS BELOW\n"
            ]
        },
        {
            "cell_type": "code",
            "execution_count": 39,
            "metadata": {},
            "outputs": [],
            "source": [
                "import os # type:ignore # isort:skip # fmt:skip # noqa # nopep8\n",
                "import sys # type:ignore # isort:skip # fmt:skip # noqa # nopep8\n",
                "from pathlib import Path # type:ignore # isort:skip # fmt:skip # noqa # nopep8\n",
                "\n",
                "mod = sys.modules[__name__]\n",
                "\n",
                "code_dir = None\n",
                "code_dir_name = 'Code'\n",
                "unwanted_subdir_name = 'Analysis'\n",
                "\n",
                "for _ in range(5):\n",
                "\n",
                "    parent_path = str(Path.cwd().parents[_]).split('/')[-1]\n",
                "\n",
                "    if (code_dir_name in parent_path) and (unwanted_subdir_name not in parent_path):\n",
                "\n",
                "        code_dir = str(Path.cwd().parents[_])\n",
                "\n",
                "        if code_dir is not None:\n",
                "            break\n",
                "\n",
                "sys.path.append(code_dir)\n",
                "# %load_ext autoreload\n",
                "# %autoreload 2\n"
            ]
        },
        {
            "cell_type": "code",
            "execution_count": 40,
            "metadata": {},
            "outputs": [],
            "source": [
                "from setup_module.imports import * # type:ignore # isort:skip # fmt:skip # noqa # nopep8\n"
            ]
        },
        {
            "cell_type": "code",
            "execution_count": 41,
            "metadata": {},
            "outputs": [],
            "source": [
                "df_jobs = pd.read_pickle(f'{df_save_dir}df_jobs_raw_fixed_abbreviations.pkl')\n"
            ]
        },
        {
            "cell_type": "code",
            "execution_count": 42,
            "metadata": {},
            "outputs": [
                {
                    "name": "stdout",
                    "output_type": "stream",
                    "text": [
                        "<class 'pandas.core.frame.DataFrame'>\n",
                        "Int64Index: 17593 entries, 0 to 62535\n",
                        "Data columns (total 20 columns):\n",
                        " #   Column             Non-Null Count  Dtype  \n",
                        "---  ------             --------------  -----  \n",
                        " 0   Search Keyword     17593 non-null  object \n",
                        " 1   Platform           17593 non-null  object \n",
                        " 2   Job ID             17593 non-null  object \n",
                        " 3   Job Title          17593 non-null  object \n",
                        " 4   Company Name       17591 non-null  object \n",
                        " 5   Location           17593 non-null  object \n",
                        " 6   Job Description    17593 non-null  object \n",
                        " 7   Rating             3780 non-null   float64\n",
                        " 8   Employment Type    17011 non-null  object \n",
                        " 9   Company URL        15954 non-null  object \n",
                        " 10  Job URL            17593 non-null  object \n",
                        " 11  Job Age            17593 non-null  object \n",
                        " 12  Job Age Number     17593 non-null  object \n",
                        " 13  Collection Date    17593 non-null  object \n",
                        " 14  Data Row           13810 non-null  float64\n",
                        " 15  Tracking ID        13810 non-null  object \n",
                        " 16  Industry           14395 non-null  object \n",
                        " 17  Job Date           13813 non-null  object \n",
                        " 18  Type of ownership  582 non-null    object \n",
                        " 19  Language           17593 non-null  object \n",
                        "dtypes: float64(2), object(18)\n",
                        "memory usage: 2.8+ MB\n"
                    ]
                }
            ],
            "source": [
                "df_jobs.info()\n"
            ]
        },
        {
            "cell_type": "code",
            "execution_count": 43,
            "metadata": {},
            "outputs": [
                {
                    "name": "stdout",
                    "output_type": "stream",
                    "text": [
                        "CPU times: user 6.7 s, sys: 196 ms, total: 6.89 s\n",
                        "Wall time: 8.87 s\n"
                    ]
                }
            ],
            "source": [
                "%%time\n",
                "# Add language requirement column\n",
                "# Use regex to find language requirement\n",
                "dutch_requirement_pattern = r'[Dd]utch [Pp]referred | [Dd]utch [Re]quired | [Dd]utch [Ll]anguage |[Pp]roficient in [Dd]utch |[Ss]peak [Dd]utch | [Kk]now [Dd]utch | [Ff]luent in [Dd]utch | [Dd]utch [Nn]ative | * [Dd]utch [Ll]evel'\n",
                "english_requirement_pattern = r'[Ee]nglish [Pp]referred | [Ee]nglish [Re]quired | [Ee]nglish [Ll]anguage |[Pp]roficient in [Ee]nglish |[Ss]peak [Ee]nglish | [Kk]now [Ee]nglish | [Ff]luent in [Ee]nglish | [Ee]nglish [Nn]ative | * [Ee]nglish [Ll]evel'\n",
                "\n",
                "lang_requirements = {\n",
                "    'Dutch Requirement in Job Ad': dutch_requirement_pattern, 'English Requirement in Job Ad': english_requirement_pattern\n",
                "}\n",
                "\n",
                "for lang_req, lang_req_pattern in lang_requirements.items():\n",
                "\n",
                "    if lang_req in df_jobs.columns:\n",
                "        df_jobs = df_jobs.drop(columns=[lang_req])\n",
                "    df_jobs[lang_req] = np.where(\n",
                "        df_jobs['Job Description'].str.contains(lang_req_pattern),\n",
                "        'Yes',\n",
                "        'No',\n",
                "    )\n",
                "    df_jobs[lang_req] = df_jobs[lang_req].astype('category').cat.reorder_categories(['No', 'Yes'], ordered=True)\n",
                "    df_jobs[lang_req] = pd.Categorical(df_jobs[lang_req], categories=['No', 'Yes'], ordered=True)\n",
                "\n",
                "assert len(df_jobs) > 0 and isinstance(df_jobs, pd.DataFrame), f'ERORR: LENGTH OF DF = {len(df_jobs)}'\n",
                "df_jobs.to_pickle(f'{df_save_dir}df_jobs_raw_language_requirement.pkl')\n",
                "df_jobs.to_csv(f'{df_save_dir}df_jobs_raw_english_requirement.csv', index=False)\n"
            ]
        },
        {
            "cell_type": "code",
            "execution_count": 44,
            "metadata": {},
            "outputs": [
                {
                    "data": {
                        "text/plain": [
                            "No     17341\n",
                            "Yes      252\n",
                            "Name: Dutch Requirement in Job Ad, dtype: int64"
                        ]
                    },
                    "execution_count": 44,
                    "metadata": {},
                    "output_type": "execute_result"
                }
            ],
            "source": [
                "# Yes = 252 job ads\n",
                "df_jobs['Dutch Requirement in Job Ad'].value_counts()"
            ]
        },
        {
            "cell_type": "code",
            "execution_count": 45,
            "metadata": {},
            "outputs": [
                {
                    "data": {
                        "text/plain": [
                            "No     17110\n",
                            "Yes      483\n",
                            "Name: English Requirement in Job Ad, dtype: int64"
                        ]
                    },
                    "execution_count": 45,
                    "metadata": {},
                    "output_type": "execute_result"
                }
            ],
            "source": [
                "# Yes = 483 job ads\n",
                "df_jobs['English Requirement in Job Ad'].value_counts()\n"
            ]
        },
        {
            "cell_type": "code",
            "execution_count": 46,
            "metadata": {},
            "outputs": [],
            "source": [
                "assert len(df_jobs) > 0 and isinstance(df_jobs, pd.DataFrame), f'ERORR: LENGTH OF DF = {len(df_jobs)}'\n",
                "df_jobs.to_pickle(f'{df_save_dir}df_jobs_raw_language_requirement.pkl')\n",
                "df_jobs.to_csv(f'{df_save_dir}df_jobs_raw_language_requirement.csv', index=False)\n"
            ]
        },
        {
            "cell_type": "markdown",
            "metadata": {},
            "source": [
                "# Add data from Sectors dataframe (see CBS directory under scrapped_data directory)\n"
            ]
        },
        {
            "cell_type": "markdown",
            "metadata": {},
            "source": [
                "### START HERE IF SOURCING FROM DF_JOBS_RAW_LANGUAGE_REQUIREMENT\n",
                "### PLEASE SET CORRECT DIRECTORY PATHS BELOW\n"
            ]
        },
        {
            "cell_type": "code",
            "execution_count": 47,
            "metadata": {},
            "outputs": [],
            "source": [
                "import os # type:ignore # isort:skip # fmt:skip # noqa # nopep8\n",
                "import sys # type:ignore # isort:skip # fmt:skip # noqa # nopep8\n",
                "from pathlib import Path # type:ignore # isort:skip # fmt:skip # noqa # nopep8\n",
                "\n",
                "mod = sys.modules[__name__]\n",
                "\n",
                "code_dir = None\n",
                "code_dir_name = 'Code'\n",
                "unwanted_subdir_name = 'Analysis'\n",
                "\n",
                "for _ in range(5):\n",
                "\n",
                "    parent_path = str(Path.cwd().parents[_]).split('/')[-1]\n",
                "\n",
                "    if (code_dir_name in parent_path) and (unwanted_subdir_name not in parent_path):\n",
                "\n",
                "        code_dir = str(Path.cwd().parents[_])\n",
                "\n",
                "        if code_dir is not None:\n",
                "            break\n",
                "\n",
                "sys.path.append(code_dir)\n",
                "# %load_ext autoreload\n",
                "# %autoreload 2\n"
            ]
        },
        {
            "cell_type": "code",
            "execution_count": 48,
            "metadata": {},
            "outputs": [],
            "source": [
                "from setup_module.imports import * # type:ignore # isort:skip # fmt:skip # noqa # nopep8\n"
            ]
        },
        {
            "cell_type": "code",
            "execution_count": 49,
            "metadata": {},
            "outputs": [],
            "source": [
                "df_jobs = pd.read_pickle(f'{df_save_dir}df_jobs_raw_language_requirement.pkl')\n"
            ]
        },
        {
            "cell_type": "code",
            "execution_count": 50,
            "metadata": {},
            "outputs": [
                {
                    "name": "stdout",
                    "output_type": "stream",
                    "text": [
                        "<class 'pandas.core.frame.DataFrame'>\n",
                        "Int64Index: 17593 entries, 0 to 62535\n",
                        "Data columns (total 22 columns):\n",
                        " #   Column                         Non-Null Count  Dtype   \n",
                        "---  ------                         --------------  -----   \n",
                        " 0   Search Keyword                 17593 non-null  object  \n",
                        " 1   Platform                       17593 non-null  object  \n",
                        " 2   Job ID                         17593 non-null  object  \n",
                        " 3   Job Title                      17593 non-null  object  \n",
                        " 4   Company Name                   17591 non-null  object  \n",
                        " 5   Location                       17593 non-null  object  \n",
                        " 6   Job Description                17593 non-null  object  \n",
                        " 7   Rating                         3780 non-null   float64 \n",
                        " 8   Employment Type                17011 non-null  object  \n",
                        " 9   Company URL                    15954 non-null  object  \n",
                        " 10  Job URL                        17593 non-null  object  \n",
                        " 11  Job Age                        17593 non-null  object  \n",
                        " 12  Job Age Number                 17593 non-null  object  \n",
                        " 13  Collection Date                17593 non-null  object  \n",
                        " 14  Data Row                       13810 non-null  float64 \n",
                        " 15  Tracking ID                    13810 non-null  object  \n",
                        " 16  Industry                       14395 non-null  object  \n",
                        " 17  Job Date                       13813 non-null  object  \n",
                        " 18  Type of ownership              582 non-null    object  \n",
                        " 19  Language                       17593 non-null  object  \n",
                        " 20  Dutch Requirement in Job Ad    17593 non-null  category\n",
                        " 21  English Requirement in Job Ad  17593 non-null  category\n",
                        "dtypes: category(2), float64(2), object(18)\n",
                        "memory usage: 2.9+ MB\n"
                    ]
                }
            ],
            "source": [
                "df_jobs.info()\n"
            ]
        },
        {
            "cell_type": "code",
            "execution_count": 51,
            "metadata": {},
            "outputs": [],
            "source": [
                "try:\n",
                "    df_sectors_all = pd.read_pickle(f'{scraped_data}CBS/Data/Sectors Output from script.pkl')\n",
                "except FileNotFoundError:\n",
                "    %run f'{scraped_data}CBS/CBS.ipynb' import df_sectors_all # type:ignore # isort:skip # fmt:skip # noqa # nopep8"
            ]
        },
        {
            "cell_type": "code",
            "execution_count": 52,
            "metadata": {},
            "outputs": [
                {
                    "data": {
                        "text/plain": [
                            "MultiIndex([('SBI Sector Titles', 'Industry class / branch (SIC2008)',                   'Code'),\n",
                            "            ('SBI Sector Titles', 'Industry class / branch (SIC2008)',            'Sector Name'),\n",
                            "            ('SBI Sector Titles', 'Industry class / branch (SIC2008)',               'Keywords'),\n",
                            "            ('SBI Sector Titles', 'Industry class / branch (SIC2008)',         'Keywords Count'),\n",
                            "            (           'Gender',                            'Female',                      'n'),\n",
                            "            (           'Gender',                            'Female',           '% per Sector'),\n",
                            "            (           'Gender',                            'Female',  '% per Social Category'),\n",
                            "            (           'Gender',                            'Female',        '% per Workforce'),\n",
                            "            (           'Gender',                              'Male',                      'n'),\n",
                            "            (           'Gender',                              'Male',           '% per Sector'),\n",
                            "            (           'Gender',                              'Male',  '% per Social Category'),\n",
                            "            (           'Gender',                              'Male',        '% per Workforce'),\n",
                            "            (           'Gender',       'Sectoral Gender Segregation',      'Dominant Category'),\n",
                            "            (              'Age',               'Older (>= 45 years)',                      'n'),\n",
                            "            (              'Age',               'Older (>= 45 years)',           '% per Sector'),\n",
                            "            (              'Age',               'Older (>= 45 years)',  '% per Social Category'),\n",
                            "            (              'Age',               'Older (>= 45 years)',        '% per Workforce'),\n",
                            "            (              'Age',              'Younger (< 45 years)',                      'n'),\n",
                            "            (              'Age',              'Younger (< 45 years)',           '% per Sector'),\n",
                            "            (              'Age',              'Younger (< 45 years)',  '% per Social Category'),\n",
                            "            (              'Age',              'Younger (< 45 years)',        '% per Workforce'),\n",
                            "            (              'Age',          'Sectoral Age Segregation',      'Dominant Category'),\n",
                            "            (  'Total Workforce',                   'Total Workforce',                      'n'),\n",
                            "            (  'Total Workforce',                   'Total Workforce', '% Sector per Workforce')],\n",
                            "           names=['Variables', 'Categories', 'Counts'])"
                        ]
                    },
                    "execution_count": 52,
                    "metadata": {},
                    "output_type": "execute_result"
                }
            ],
            "source": [
                "df_sectors_all.columns\n"
            ]
        },
        {
            "cell_type": "code",
            "execution_count": 53,
            "metadata": {},
            "outputs": [],
            "source": [
                "df_sectors_all.columns = [\n",
                "    '_'.join(col) \n",
                "    if 'SBI Sector Titles' not in col \n",
                "    and 'Total Workforce' not in col \n",
                "    else col[-1] \n",
                "    for col in df_sectors_all.columns\n",
                "]\n"
            ]
        },
        {
            "cell_type": "code",
            "execution_count": 54,
            "metadata": {},
            "outputs": [],
            "source": [
                "df_sectors_all = df_sectors_all.rename(\n",
                "    columns={\n",
                "        'Keywords': 'Search Keyword', \n",
                "        'Code': 'Sector Code', \n",
                "        'Sector Name': 'Sector', \n",
                "        'Gender_Sectoral Gender Segregation_Dominant Category': 'Gender', \n",
                "        'Age_Sectoral Age Segregation_Dominant Category': 'Age', \n",
                "        'n': 'Sector_n', \n",
                "    },\n",
                ")\n",
                "df_sectors_all = df_sectors_all.rename(columns={element: re.sub(r' \\(\\W*45 years\\)', '', element) for element in df_sectors_all.columns.tolist()})\n"
            ]
        },
        {
            "cell_type": "code",
            "execution_count": 55,
            "metadata": {},
            "outputs": [
                {
                    "data": {
                        "text/plain": [
                            "Index(['Sector Code', 'Sector', 'Search Keyword', 'Keywords Count', 'Gender_Female_n', 'Gender_Female_% per Sector', 'Gender_Female_% per Social Category', 'Gender_Female_% per Workforce', 'Gender_Male_n', 'Gender_Male_% per Sector', 'Gender_Male_% per Social Category', 'Gender_Male_% per Workforce', 'Gender', 'Age_Older_n', 'Age_Older_% per Sector', 'Age_Older_% per Social Category', 'Age_Older_% per Workforce', 'Age_Younger_n', 'Age_Younger_% per Sector', 'Age_Younger_% per Social Category', 'Age_Younger_% per Workforce', 'Age', 'Sector_n', '% Sector per Workforce'], dtype='object')"
                        ]
                    },
                    "execution_count": 55,
                    "metadata": {},
                    "output_type": "execute_result"
                }
            ],
            "source": [
                "df_sectors_all.columns\n"
            ]
        },
        {
            "cell_type": "code",
            "execution_count": 56,
            "metadata": {},
            "outputs": [],
            "source": [
                "df_sectors_all = df_sectors_all.explode(\n",
                "    'Search Keyword', ignore_index=True\n",
                ")\n"
            ]
        },
        {
            "cell_type": "code",
            "execution_count": 57,
            "metadata": {},
            "outputs": [
                {
                    "data": {
                        "text/plain": [
                            "Index(['Sector Code', 'Sector', 'Search Keyword', 'Keywords Count', 'Gender_Female_n', 'Gender_Female_% per Sector', 'Gender_Female_% per Social Category', 'Gender_Female_% per Workforce', 'Gender_Male_n', 'Gender_Male_% per Sector', 'Gender_Male_% per Social Category', 'Gender_Male_% per Workforce', 'Gender', 'Age_Older_n', 'Age_Older_% per Sector', 'Age_Older_% per Social Category', 'Age_Older_% per Workforce', 'Age_Younger_n', 'Age_Younger_% per Sector', 'Age_Younger_% per Social Category', 'Age_Younger_% per Workforce', 'Age', 'Sector_n', '% Sector per Workforce'], dtype='object')"
                        ]
                    },
                    "execution_count": 57,
                    "metadata": {},
                    "output_type": "execute_result"
                }
            ],
            "source": [
                "df_sectors_all.columns\n"
            ]
        },
        {
            "cell_type": "code",
            "execution_count": 58,
            "metadata": {},
            "outputs": [
                {
                    "data": {
                        "text/plain": [
                            "101"
                        ]
                    },
                    "execution_count": 58,
                    "metadata": {},
                    "output_type": "execute_result"
                }
            ],
            "source": [
                "# len 101\n",
                "len(df_sectors_all)\n"
            ]
        },
        {
            "cell_type": "markdown",
            "metadata": {},
            "source": [
                "#### Before adding sector data, make sure keywords are correct as to not have any missing sector data when merging"
            ]
        },
        {
            "cell_type": "code",
            "execution_count": 59,
            "metadata": {},
            "outputs": [],
            "source": [
                "# This is a manually collected dictionary of incorrect/faulty keywords in scraped site data\n",
                "with open(f'{scraped_data}CBS/Data/keyword_trans_dict.txt') as f:\n",
                "    keyword_trans_dict = json.load(f)\n",
                "\n",
                "def fix_keywords(df_temp):\n",
                "\n",
                "    if len(df_temp) > 0 and isinstance(df_temp, pd.DataFrame):\n",
                "        for key, value in keyword_trans_dict.items():\n",
                "            df_temp.loc[\n",
                "                df_temp[df_temp['Search Keyword'].notnull()]['Search Keyword'].astype(str).progress_apply(\n",
                "                lambda x: x.lower().strip()\n",
                "                ) == str(key).lower().strip(), 'Search Keyword'\n",
                "            ] = str(value).lower().strip()\n",
                "\n",
                "        unfixed = df_temp.loc[\n",
                "            df_temp[df_temp['Search Keyword'].notnull()]['Search Keyword'].astype(str).progress_apply(lambda x: x.lower().strip()).isin([x.lower().strip() for x in list(keyword_trans_dict.keys())])\n",
                "        ]\n",
                "\n",
                "        if len(unfixed) != 0:\n",
                "            for key, value in keyword_trans_dict.items():\n",
                "                for idx, row in df_temp.iterrows():\n",
                "                    if row['Search Keyword'].astype(str).lower().strip() == str(key).lower().strip():\n",
                "                        df_temp.loc[idx, 'Search Keyword'] = str(value).lower().strip()\n",
                "\n",
                "        unfixed = df_temp.loc[\n",
                "                df_temp[df_temp['Search Keyword'].notnull()]['Search Keyword'].astype(str).progress_apply(lambda x: x.lower().strip()).isin([x.lower().strip() for x in list(keyword_trans_dict.keys())])\n",
                "            ]\n",
                "        if len(unfixed) != 0:\n",
                "            print('Some keywords were not fixed. Please check file unfixed_keywords.txt in data directory.')\n",
                "            with open(f'{data_dir}unfixed_keywords.txt', 'w') as f:\n",
                "                json.dump(unfixed, f)\n",
                "\n",
                "    return df_temp\n",
                "\n",
                "# Fix keywords\n",
                "if len(df_jobs['Search Keyword'].loc[df_jobs['Search Keyword'].isin(list(keyword_trans_dict.keys()))]) != 0:\n",
                "    print('Some search keywords did not match a sector. Fixing')\n",
                "#     print(set(df_jobs['Search Keyword'].loc[df_jobs['Sector'].isna()].to_list()))\n",
                "    print(len(df_jobs['Search Keyword'].loc[df_jobs['Search Keyword'].isin(list(keyword_trans_dict.keys()))]))\n",
                "    df_jobs = fix_keywords(df_jobs)\n",
                "#     print(set(df_jobs['Search Keyword'].loc[df_jobs['Sector'].isna()].to_list()))\n",
                "    print(len(df_jobs['Search Keyword'].loc[df_jobs['Search Keyword'].isin(list(keyword_trans_dict.keys()))]))\n"
            ]
        },
        {
            "cell_type": "code",
            "execution_count": 60,
            "metadata": {},
            "outputs": [],
            "source": [
                "df_jobs = df_jobs.merge(df_sectors_all, on='Search Keyword', how='left')\n"
            ]
        },
        {
            "cell_type": "code",
            "execution_count": 61,
            "metadata": {},
            "outputs": [
                {
                    "data": {
                        "text/plain": [
                            "17593"
                        ]
                    },
                    "execution_count": 61,
                    "metadata": {},
                    "output_type": "execute_result"
                }
            ],
            "source": [
                "# 17593\n",
                "len(df_jobs)\n"
            ]
        },
        {
            "cell_type": "code",
            "execution_count": 62,
            "metadata": {},
            "outputs": [
                {
                    "name": "stdout",
                    "output_type": "stream",
                    "text": [
                        "<class 'pandas.core.frame.DataFrame'>\n",
                        "Int64Index: 17593 entries, 0 to 17592\n",
                        "Data columns (total 45 columns):\n",
                        " #   Column                               Non-Null Count  Dtype   \n",
                        "---  ------                               --------------  -----   \n",
                        " 0   Search Keyword                       17593 non-null  object  \n",
                        " 1   Platform                             17593 non-null  object  \n",
                        " 2   Job ID                               17593 non-null  object  \n",
                        " 3   Job Title                            17593 non-null  object  \n",
                        " 4   Company Name                         17591 non-null  object  \n",
                        " 5   Location                             17593 non-null  object  \n",
                        " 6   Job Description                      17593 non-null  object  \n",
                        " 7   Rating                               3780 non-null   float64 \n",
                        " 8   Employment Type                      17011 non-null  object  \n",
                        " 9   Company URL                          15954 non-null  object  \n",
                        " 10  Job URL                              17593 non-null  object  \n",
                        " 11  Job Age                              17593 non-null  object  \n",
                        " 12  Job Age Number                       17593 non-null  object  \n",
                        " 13  Collection Date                      17593 non-null  object  \n",
                        " 14  Data Row                             13810 non-null  float64 \n",
                        " 15  Tracking ID                          13810 non-null  object  \n",
                        " 16  Industry                             14395 non-null  object  \n",
                        " 17  Job Date                             13813 non-null  object  \n",
                        " 18  Type of ownership                    582 non-null    object  \n",
                        " 19  Language                             17593 non-null  object  \n",
                        " 20  Dutch Requirement in Job Ad          17593 non-null  category\n",
                        " 21  English Requirement in Job Ad        17593 non-null  category\n",
                        " 22  Sector Code                          17593 non-null  object  \n",
                        " 23  Sector                               17593 non-null  object  \n",
                        " 24  Keywords Count                       17593 non-null  float64 \n",
                        " 25  Gender_Female_n                      17593 non-null  float64 \n",
                        " 26  Gender_Female_% per Sector           17593 non-null  float64 \n",
                        " 27  Gender_Female_% per Social Category  17593 non-null  float64 \n",
                        " 28  Gender_Female_% per Workforce        17593 non-null  float64 \n",
                        " 29  Gender_Male_n                        17593 non-null  float64 \n",
                        " 30  Gender_Male_% per Sector             17593 non-null  float64 \n",
                        " 31  Gender_Male_% per Social Category    17593 non-null  float64 \n",
                        " 32  Gender_Male_% per Workforce          17593 non-null  float64 \n",
                        " 33  Gender                               17593 non-null  object  \n",
                        " 34  Age_Older_n                          17593 non-null  float64 \n",
                        " 35  Age_Older_% per Sector               17593 non-null  float64 \n",
                        " 36  Age_Older_% per Social Category      17593 non-null  float64 \n",
                        " 37  Age_Older_% per Workforce            17593 non-null  float64 \n",
                        " 38  Age_Younger_n                        17593 non-null  float64 \n",
                        " 39  Age_Younger_% per Sector             17593 non-null  float64 \n",
                        " 40  Age_Younger_% per Social Category    17593 non-null  float64 \n",
                        " 41  Age_Younger_% per Workforce          17593 non-null  float64 \n",
                        " 42  Age                                  17593 non-null  object  \n",
                        " 43  Sector_n                             17593 non-null  float64 \n",
                        " 44  % Sector per Workforce               17593 non-null  float64 \n",
                        "dtypes: category(2), float64(21), object(22)\n",
                        "memory usage: 5.9+ MB\n"
                    ]
                }
            ],
            "source": [
                "df_jobs.info()\n"
            ]
        },
        {
            "cell_type": "markdown",
            "metadata": {},
            "source": [
                "#### Check if there is any missing sector data in the merged dataframe"
            ]
        },
        {
            "cell_type": "code",
            "execution_count": 63,
            "metadata": {},
            "outputs": [
                {
                    "data": {
                        "text/plain": [
                            "0"
                        ]
                    },
                    "execution_count": 63,
                    "metadata": {},
                    "output_type": "execute_result"
                }
            ],
            "source": [
                "df_jobs['Sector'].isna().sum()\n"
            ]
        },
        {
            "cell_type": "code",
            "execution_count": 64,
            "metadata": {},
            "outputs": [],
            "source": [
                "if df_jobs['Sector'].isna().sum() != 0:\n",
                "    print('Some search keywords did not match a sector. Fixing')\n",
                "    print(set(df_jobs['Search Keyword'].loc[df_jobs['Sector'].isna()].to_list()))\n",
                "    print(len(df_jobs['Search Keyword'].loc[df_jobs['Search Keyword'].isin(list(keyword_trans_dict.keys()))]))\n",
                "    df_jobs = fix_keywords(df_jobs)\n",
                "    print(set(df_jobs['Search Keyword'].loc[df_jobs['Sector'].isna()].to_list()))\n",
                "    print(len(df_jobs['Search Keyword'].loc[df_jobs['Search Keyword'].isin(list(keyword_trans_dict.keys()))]))\n"
            ]
        },
        {
            "cell_type": "code",
            "execution_count": 65,
            "metadata": {},
            "outputs": [
                {
                    "data": {
                        "text/plain": [
                            "Male            6974\n",
                            "Mixed Gender    6664\n",
                            "Female          3955\n",
                            "Name: Gender, dtype: int64"
                        ]
                    },
                    "execution_count": 65,
                    "metadata": {},
                    "output_type": "execute_result"
                }
            ],
            "source": [
                "# Female=3955, Male=6974, Mixed Gender=6664\n",
                "df_jobs['Gender'].value_counts()\n"
            ]
        },
        {
            "cell_type": "code",
            "execution_count": 66,
            "metadata": {},
            "outputs": [
                {
                    "data": {
                        "text/plain": [
                            "Mixed Age    11464\n",
                            "Older         3778\n",
                            "Younger       2351\n",
                            "Name: Age, dtype: int64"
                        ]
                    },
                    "execution_count": 66,
                    "metadata": {},
                    "output_type": "execute_result"
                }
            ],
            "source": [
                "# Older=3778, Younger=2351, Mixed Age=11464\n",
                "df_jobs['Age'].value_counts()\n"
            ]
        },
        {
            "cell_type": "code",
            "execution_count": 67,
            "metadata": {},
            "outputs": [],
            "source": [
                "if df_jobs['Sector'].isna().sum() == 0:\n",
                "    assert len(df_jobs) > 0 and isinstance(df_jobs, pd.DataFrame), f'ERORR: LENGTH OF DF = {len(df_jobs)}'\n",
                "    df_jobs.to_pickle(f'{df_save_dir}df_jobs_including_sector_data.pkl')\n",
                "    df_jobs.to_csv(f'{df_save_dir}df_jobs_including_sector_data.csv', index=False)\n",
                "\n",
                "else:\n",
                "    print(f\"MISSING SECTOR DATA: COUNT {df_jobs['Sector'].isna().sum()}\")\n"
            ]
        },
        {
            "cell_type": "markdown",
            "metadata": {},
            "source": [
                "# Add categorical data\n"
            ]
        },
        {
            "cell_type": "markdown",
            "metadata": {},
            "source": [
                "### START HERE IF SOURCING FROM DF_JOBS_INCLUDING_SECTOR_DATA\n",
                "### PLEASE SET CORRECT DIRECTORY PATHS BELOW\n"
            ]
        },
        {
            "cell_type": "code",
            "execution_count": 68,
            "metadata": {},
            "outputs": [],
            "source": [
                "import os # type:ignore # isort:skip # fmt:skip # noqa # nopep8\n",
                "import sys # type:ignore # isort:skip # fmt:skip # noqa # nopep8\n",
                "from pathlib import Path # type:ignore # isort:skip # fmt:skip # noqa # nopep8\n",
                "\n",
                "mod = sys.modules[__name__]\n",
                "\n",
                "code_dir = None\n",
                "code_dir_name = 'Code'\n",
                "unwanted_subdir_name = 'Analysis'\n",
                "\n",
                "for _ in range(5):\n",
                "\n",
                "    parent_path = str(Path.cwd().parents[_]).split('/')[-1]\n",
                "\n",
                "    if (code_dir_name in parent_path) and (unwanted_subdir_name not in parent_path):\n",
                "\n",
                "        code_dir = str(Path.cwd().parents[_])\n",
                "\n",
                "        if code_dir is not None:\n",
                "            break\n",
                "\n",
                "sys.path.append(code_dir)\n",
                "# %load_ext autoreload\n",
                "# %autoreload 2\n"
            ]
        },
        {
            "cell_type": "code",
            "execution_count": 69,
            "metadata": {},
            "outputs": [],
            "source": [
                "from setup_module.imports import * # type:ignore # isort:skip # fmt:skip # noqa # nopep8\n"
            ]
        },
        {
            "cell_type": "code",
            "execution_count": 70,
            "metadata": {},
            "outputs": [],
            "source": [
                "df_jobs = pd.read_pickle(f'{df_save_dir}df_jobs_including_sector_data.pkl')\n"
            ]
        },
        {
            "cell_type": "code",
            "execution_count": 71,
            "metadata": {},
            "outputs": [
                {
                    "name": "stdout",
                    "output_type": "stream",
                    "text": [
                        "<class 'pandas.core.frame.DataFrame'>\n",
                        "Int64Index: 17593 entries, 0 to 17592\n",
                        "Data columns (total 45 columns):\n",
                        " #   Column                               Non-Null Count  Dtype   \n",
                        "---  ------                               --------------  -----   \n",
                        " 0   Search Keyword                       17593 non-null  object  \n",
                        " 1   Platform                             17593 non-null  object  \n",
                        " 2   Job ID                               17593 non-null  object  \n",
                        " 3   Job Title                            17593 non-null  object  \n",
                        " 4   Company Name                         17591 non-null  object  \n",
                        " 5   Location                             17593 non-null  object  \n",
                        " 6   Job Description                      17593 non-null  object  \n",
                        " 7   Rating                               3780 non-null   float64 \n",
                        " 8   Employment Type                      17011 non-null  object  \n",
                        " 9   Company URL                          15954 non-null  object  \n",
                        " 10  Job URL                              17593 non-null  object  \n",
                        " 11  Job Age                              17593 non-null  object  \n",
                        " 12  Job Age Number                       17593 non-null  object  \n",
                        " 13  Collection Date                      17593 non-null  object  \n",
                        " 14  Data Row                             13810 non-null  float64 \n",
                        " 15  Tracking ID                          13810 non-null  object  \n",
                        " 16  Industry                             14395 non-null  object  \n",
                        " 17  Job Date                             13813 non-null  object  \n",
                        " 18  Type of ownership                    582 non-null    object  \n",
                        " 19  Language                             17593 non-null  object  \n",
                        " 20  Dutch Requirement in Job Ad          17593 non-null  category\n",
                        " 21  English Requirement in Job Ad        17593 non-null  category\n",
                        " 22  Sector Code                          17593 non-null  object  \n",
                        " 23  Sector                               17593 non-null  object  \n",
                        " 24  Keywords Count                       17593 non-null  float64 \n",
                        " 25  Gender_Female_n                      17593 non-null  float64 \n",
                        " 26  Gender_Female_% per Sector           17593 non-null  float64 \n",
                        " 27  Gender_Female_% per Social Category  17593 non-null  float64 \n",
                        " 28  Gender_Female_% per Workforce        17593 non-null  float64 \n",
                        " 29  Gender_Male_n                        17593 non-null  float64 \n",
                        " 30  Gender_Male_% per Sector             17593 non-null  float64 \n",
                        " 31  Gender_Male_% per Social Category    17593 non-null  float64 \n",
                        " 32  Gender_Male_% per Workforce          17593 non-null  float64 \n",
                        " 33  Gender                               17593 non-null  object  \n",
                        " 34  Age_Older_n                          17593 non-null  float64 \n",
                        " 35  Age_Older_% per Sector               17593 non-null  float64 \n",
                        " 36  Age_Older_% per Social Category      17593 non-null  float64 \n",
                        " 37  Age_Older_% per Workforce            17593 non-null  float64 \n",
                        " 38  Age_Younger_n                        17593 non-null  float64 \n",
                        " 39  Age_Younger_% per Sector             17593 non-null  float64 \n",
                        " 40  Age_Younger_% per Social Category    17593 non-null  float64 \n",
                        " 41  Age_Younger_% per Workforce          17593 non-null  float64 \n",
                        " 42  Age                                  17593 non-null  object  \n",
                        " 43  Sector_n                             17593 non-null  float64 \n",
                        " 44  % Sector per Workforce               17593 non-null  float64 \n",
                        "dtypes: category(2), float64(21), object(22)\n",
                        "memory usage: 5.9+ MB\n"
                    ]
                }
            ],
            "source": [
                "df_jobs.info()\n"
            ]
        },
        {
            "cell_type": "code",
            "execution_count": 72,
            "metadata": {},
            "outputs": [],
            "source": [
                "df_jobs = df_jobs.join(pd.get_dummies(df_jobs[['Gender', 'Age']], dtype='int64'))\n",
                "df_jobs = df_jobs.rename({'Gender_Mixed Gender': 'Gender_Mixed', 'Age_Mixed Age': 'Age_Mixed'}, axis='columns')\n"
            ]
        },
        {
            "cell_type": "code",
            "execution_count": 73,
            "metadata": {},
            "outputs": [
                {
                    "data": {
                        "text/plain": [
                            "Index(['Search Keyword', 'Platform', 'Job ID', 'Job Title', 'Company Name', 'Location', 'Job Description', 'Rating', 'Employment Type', 'Company URL', 'Job URL', 'Job Age', 'Job Age Number', 'Collection Date', 'Data Row', 'Tracking ID', 'Industry', 'Job Date', 'Type of ownership', 'Language', 'Dutch Requirement in Job Ad', 'English Requirement in Job Ad', 'Sector Code', 'Sector', 'Keywords Count', 'Gender_Female_n', 'Gender_Female_% per Sector', 'Gender_Female_% per Social Category', 'Gender_Female_% per Workforce', 'Gender_Male_n', 'Gender_Male_% per Sector', 'Gender_Male_% per Social Category', 'Gender_Male_% per Workforce', 'Gender', 'Age_Older_n', 'Age_Older_% per Sector', 'Age_Older_% per Social Category', 'Age_Older_% per Workforce', 'Age_Younger_n', 'Age_Younger_% per Sector', 'Age_Younger_% per Social Category', 'Age_Younger_% per Workforce', 'Age', 'Sector_n', '% Sector per Workforce', 'Gender_Female', 'Gender_Male', 'Gender_Mixed', 'Age_Mixed', 'Age_Older', 'Age_Younger'], dtype='object')"
                        ]
                    },
                    "execution_count": 73,
                    "metadata": {},
                    "output_type": "execute_result"
                }
            ],
            "source": [
                "df_jobs.columns\n"
            ]
        },
        {
            "cell_type": "code",
            "execution_count": 74,
            "metadata": {},
            "outputs": [],
            "source": [
                "df_jobs = categorize_df_gender_age(df_jobs)"
            ]
        },
        {
            "cell_type": "code",
            "execution_count": 75,
            "metadata": {},
            "outputs": [
                {
                    "data": {
                        "text/plain": [
                            "Index(['Search Keyword', 'Platform', 'Job ID', 'Job Title', 'Company Name', 'Location', 'Job Description', 'Rating', 'Employment Type', 'Company URL', 'Job URL', 'Job Age', 'Job Age Number', 'Collection Date', 'Data Row', 'Tracking ID', 'Industry', 'Job Date', 'Type of ownership', 'Language', 'Dutch Requirement in Job Ad', 'English Requirement in Job Ad', 'Sector Code', 'Sector', 'Keywords Count', 'Gender_Female_n', 'Gender_Female_% per Sector', 'Gender_Female_% per Social Category', 'Gender_Female_% per Workforce', 'Gender_Male_n', 'Gender_Male_% per Sector', 'Gender_Male_% per Social Category', 'Gender_Male_% per Workforce', 'Gender', 'Age_Older_n', 'Age_Older_% per Sector', 'Age_Older_% per Social Category', 'Age_Older_% per Workforce', 'Age_Younger_n', 'Age_Younger_% per Sector', 'Age_Younger_% per Social Category', 'Age_Younger_% per Workforce', 'Age', 'Sector_n', '% Sector per Workforce', 'Gender_Female', 'Gender_Male', 'Gender_Mixed', 'Age_Mixed', 'Age_Older', 'Age_Younger', 'Gender_Num', 'Age_Num'], dtype='object')"
                        ]
                    },
                    "execution_count": 75,
                    "metadata": {},
                    "output_type": "execute_result"
                }
            ],
            "source": [
                "df_jobs.columns\n"
            ]
        },
        {
            "cell_type": "code",
            "execution_count": 76,
            "metadata": {},
            "outputs": [
                {
                    "name": "stdout",
                    "output_type": "stream",
                    "text": [
                        "\n",
                        "DF INFO:\n",
                        "\n",
                        "<class 'pandas.core.frame.DataFrame'>\n",
                        "Int64Index: 17593 entries, 0 to 17592\n",
                        "Data columns (total 53 columns):\n",
                        " #   Column                               Non-Null Count  Dtype   \n",
                        "---  ------                               --------------  -----   \n",
                        " 0   Search Keyword                       17593 non-null  object  \n",
                        " 1   Platform                             17593 non-null  object  \n",
                        " 2   Job ID                               17593 non-null  object  \n",
                        " 3   Job Title                            17593 non-null  object  \n",
                        " 4   Company Name                         17591 non-null  object  \n",
                        " 5   Location                             17593 non-null  object  \n",
                        " 6   Job Description                      17593 non-null  object  \n",
                        " 7   Rating                               3780 non-null   float64 \n",
                        " 8   Employment Type                      17011 non-null  object  \n",
                        " 9   Company URL                          15954 non-null  object  \n",
                        " 10  Job URL                              17593 non-null  object  \n",
                        " 11  Job Age                              17593 non-null  object  \n",
                        " 12  Job Age Number                       17593 non-null  object  \n",
                        " 13  Collection Date                      17593 non-null  object  \n",
                        " 14  Data Row                             13810 non-null  float64 \n",
                        " 15  Tracking ID                          13810 non-null  object  \n",
                        " 16  Industry                             14395 non-null  object  \n",
                        " 17  Job Date                             13813 non-null  object  \n",
                        " 18  Type of ownership                    582 non-null    object  \n",
                        " 19  Language                             17593 non-null  object  \n",
                        " 20  Dutch Requirement in Job Ad          17593 non-null  category\n",
                        " 21  English Requirement in Job Ad        17593 non-null  category\n",
                        " 22  Sector Code                          17593 non-null  object  \n",
                        " 23  Sector                               17593 non-null  object  \n",
                        " 24  Keywords Count                       17593 non-null  float64 \n",
                        " 25  Gender_Female_n                      17593 non-null  float64 \n",
                        " 26  Gender_Female_% per Sector           17593 non-null  float64 \n",
                        " 27  Gender_Female_% per Social Category  17593 non-null  float64 \n",
                        " 28  Gender_Female_% per Workforce        17593 non-null  float64 \n",
                        " 29  Gender_Male_n                        17593 non-null  float64 \n",
                        " 30  Gender_Male_% per Sector             17593 non-null  float64 \n",
                        " 31  Gender_Male_% per Social Category    17593 non-null  float64 \n",
                        " 32  Gender_Male_% per Workforce          17593 non-null  float64 \n",
                        " 33  Gender                               17593 non-null  category\n",
                        " 34  Age_Older_n                          17593 non-null  float64 \n",
                        " 35  Age_Older_% per Sector               17593 non-null  float64 \n",
                        " 36  Age_Older_% per Social Category      17593 non-null  float64 \n",
                        " 37  Age_Older_% per Workforce            17593 non-null  float64 \n",
                        " 38  Age_Younger_n                        17593 non-null  float64 \n",
                        " 39  Age_Younger_% per Sector             17593 non-null  float64 \n",
                        " 40  Age_Younger_% per Social Category    17593 non-null  float64 \n",
                        " 41  Age_Younger_% per Workforce          17593 non-null  float64 \n",
                        " 42  Age                                  17593 non-null  category\n",
                        " 43  Sector_n                             17593 non-null  float64 \n",
                        " 44  % Sector per Workforce               17593 non-null  float64 \n",
                        " 45  Gender_Female                        17593 non-null  int64   \n",
                        " 46  Gender_Male                          17593 non-null  int64   \n",
                        " 47  Gender_Mixed                         17593 non-null  int64   \n",
                        " 48  Age_Mixed                            17593 non-null  int64   \n",
                        " 49  Age_Older                            17593 non-null  int64   \n",
                        " 50  Age_Younger                          17593 non-null  int64   \n",
                        " 51  Gender_Num                           17593 non-null  int64   \n",
                        " 52  Age_Num                              17593 non-null  int64   \n",
                        "dtypes: category(4), float64(21), int64(8), object(20)\n",
                        "memory usage: 7.3+ MB\n",
                        "====================\n",
                        "Gender:\n",
                        "--------------------\n",
                        "Gender Counts:\n",
                        "Male            6974\n",
                        "Mixed Gender    6664\n",
                        "Female          3955\n",
                        "Name: Gender, dtype: int64\n",
                        "--------------------\n",
                        "Gender Percentages:\n",
                        "Male           39.60\n",
                        "Mixed Gender   37.90\n",
                        "Female         22.50\n",
                        "Name: Gender, dtype: float64\n",
                        "--------------------\n",
                        "Min Gender value: Female\n",
                        "Max Gender value: Male\n",
                        "--------------------\n",
                        "====================\n",
                        "Gender_Num:\n",
                        "--------------------\n",
                        "Gender_Num Counts:\n",
                        "2    6974\n",
                        "1    6664\n",
                        "0    3955\n",
                        "Name: Gender_Num, dtype: int64\n",
                        "--------------------\n",
                        "Gender_Num Percentages:\n",
                        "2   39.60\n",
                        "1   37.90\n",
                        "0   22.50\n",
                        "Name: Gender_Num, dtype: float64\n",
                        "--------------------\n",
                        "Min Gender_Num value: 0\n",
                        "Max Gender_Num value: 2\n",
                        "--------------------\n",
                        "Gender_Num Mean: 1.17\n",
                        "--------------------\n",
                        "Gender_Num Standard Deviation: 0.77\n",
                        "====================\n",
                        "Gender_Female:\n",
                        "--------------------\n",
                        "Gender_Female Counts:\n",
                        "0    13638\n",
                        "1     3955\n",
                        "Name: Gender_Female, dtype: int64\n",
                        "--------------------\n",
                        "Gender_Female Percentages:\n",
                        "0   77.50\n",
                        "1   22.50\n",
                        "Name: Gender_Female, dtype: float64\n",
                        "--------------------\n",
                        "Min Gender_Female value: 0\n",
                        "Max Gender_Female value: 1\n",
                        "--------------------\n",
                        "Gender_Female Mean: 0.22\n",
                        "--------------------\n",
                        "Gender_Female Standard Deviation: 0.42\n",
                        "====================\n",
                        "Gender_Mixed:\n",
                        "--------------------\n",
                        "Gender_Mixed Counts:\n",
                        "0    10929\n",
                        "1     6664\n",
                        "Name: Gender_Mixed, dtype: int64\n",
                        "--------------------\n",
                        "Gender_Mixed Percentages:\n",
                        "0   62.10\n",
                        "1   37.90\n",
                        "Name: Gender_Mixed, dtype: float64\n",
                        "--------------------\n",
                        "Min Gender_Mixed value: 0\n",
                        "Max Gender_Mixed value: 1\n",
                        "--------------------\n",
                        "Gender_Mixed Mean: 0.38\n",
                        "--------------------\n",
                        "Gender_Mixed Standard Deviation: 0.49\n",
                        "====================\n",
                        "Gender_Male:\n",
                        "--------------------\n",
                        "Gender_Male Counts:\n",
                        "0    10619\n",
                        "1     6974\n",
                        "Name: Gender_Male, dtype: int64\n",
                        "--------------------\n",
                        "Gender_Male Percentages:\n",
                        "0   60.40\n",
                        "1   39.60\n",
                        "Name: Gender_Male, dtype: float64\n",
                        "--------------------\n",
                        "Min Gender_Male value: 0\n",
                        "Max Gender_Male value: 1\n",
                        "--------------------\n",
                        "Gender_Male Mean: 0.4\n",
                        "--------------------\n",
                        "Gender_Male Standard Deviation: 0.49\n",
                        "====================\n",
                        "Gender_Female_n:\n",
                        "--------------------\n",
                        "Min Gender_Female_n value: 7.0\n",
                        "Max Gender_Female_n value: 3970.0\n",
                        "--------------------\n",
                        "Gender_Female_n Mean: 637.85\n",
                        "--------------------\n",
                        "Gender_Female_n Standard Deviation: 1041.37\n",
                        "====================\n",
                        "Gender_Male_n:\n",
                        "--------------------\n",
                        "Min Gender_Male_n value: 21.0\n",
                        "Max Gender_Male_n value: 4510.0\n",
                        "--------------------\n",
                        "Gender_Male_n Mean: 759.4\n",
                        "--------------------\n",
                        "Gender_Male_n Standard Deviation: 1302.58\n",
                        "====================\n",
                        "Gender_Female_% per Sector:\n",
                        "--------------------\n",
                        "Min Gender_Female_% per Sector value: 12.5\n",
                        "Max Gender_Female_% per Sector value: 84.2986741102582\n",
                        "--------------------\n",
                        "Gender_Female_% per Sector Mean: 44.01\n",
                        "--------------------\n",
                        "Gender_Female_% per Sector Standard Deviation: 19.08\n",
                        "====================\n",
                        "Gender_Male_% per Sector:\n",
                        "--------------------\n",
                        "Min Gender_Male_% per Sector value: 15.631542219120725\n",
                        "Max Gender_Male_% per Sector value: 87.5\n",
                        "--------------------\n",
                        "Gender_Male_% per Sector Mean: 55.94\n",
                        "--------------------\n",
                        "Gender_Male_% per Sector Standard Deviation: 19.11\n",
                        "====================\n",
                        "Age:\n",
                        "--------------------\n",
                        "Age Counts:\n",
                        "Mixed Age    11464\n",
                        "Older         3778\n",
                        "Younger       2351\n",
                        "Name: Age, dtype: int64\n",
                        "--------------------\n",
                        "Age Percentages:\n",
                        "Mixed Age   65.20\n",
                        "Older       21.50\n",
                        "Younger     13.40\n",
                        "Name: Age, dtype: float64\n",
                        "--------------------\n",
                        "Min Age value: Older\n",
                        "Max Age value: Younger\n",
                        "--------------------\n",
                        "====================\n",
                        "Age_Num:\n",
                        "--------------------\n",
                        "Age_Num Counts:\n",
                        "1    11464\n",
                        "0     3778\n",
                        "2     2351\n",
                        "Name: Age_Num, dtype: int64\n",
                        "--------------------\n",
                        "Age_Num Percentages:\n",
                        "1   65.20\n",
                        "0   21.50\n",
                        "2   13.40\n",
                        "Name: Age_Num, dtype: float64\n",
                        "--------------------\n",
                        "Min Age_Num value: 0\n",
                        "Max Age_Num value: 2\n",
                        "--------------------\n",
                        "Age_Num Mean: 0.92\n",
                        "--------------------\n",
                        "Age_Num Standard Deviation: 0.58\n",
                        "====================\n",
                        "Age_Older:\n",
                        "--------------------\n",
                        "Age_Older Counts:\n",
                        "0    13815\n",
                        "1     3778\n",
                        "Name: Age_Older, dtype: int64\n",
                        "--------------------\n",
                        "Age_Older Percentages:\n",
                        "0   78.50\n",
                        "1   21.50\n",
                        "Name: Age_Older, dtype: float64\n",
                        "--------------------\n",
                        "Min Age_Older value: 0\n",
                        "Max Age_Older value: 1\n",
                        "--------------------\n",
                        "Age_Older Mean: 0.21\n",
                        "--------------------\n",
                        "Age_Older Standard Deviation: 0.41\n",
                        "====================\n",
                        "Age_Mixed:\n",
                        "--------------------\n",
                        "Age_Mixed Counts:\n",
                        "1    11464\n",
                        "0     6129\n",
                        "Name: Age_Mixed, dtype: int64\n",
                        "--------------------\n",
                        "Age_Mixed Percentages:\n",
                        "1   65.20\n",
                        "0   34.80\n",
                        "Name: Age_Mixed, dtype: float64\n",
                        "--------------------\n",
                        "Min Age_Mixed value: 0\n",
                        "Max Age_Mixed value: 1\n",
                        "--------------------\n",
                        "Age_Mixed Mean: 0.65\n",
                        "--------------------\n",
                        "Age_Mixed Standard Deviation: 0.48\n",
                        "====================\n",
                        "Age_Younger:\n",
                        "--------------------\n",
                        "Age_Younger Counts:\n",
                        "0    15242\n",
                        "1     2351\n",
                        "Name: Age_Younger, dtype: int64\n",
                        "--------------------\n",
                        "Age_Younger Percentages:\n",
                        "0   86.60\n",
                        "1   13.40\n",
                        "Name: Age_Younger, dtype: float64\n",
                        "--------------------\n",
                        "Min Age_Younger value: 0\n",
                        "Max Age_Younger value: 1\n",
                        "--------------------\n",
                        "Age_Younger Mean: 0.13\n",
                        "--------------------\n",
                        "Age_Younger Standard Deviation: 0.34\n",
                        "====================\n",
                        "Age_Older_n:\n",
                        "--------------------\n",
                        "Min Age_Older_n value: 15.0\n",
                        "Max Age_Older_n value: 2844.0\n",
                        "--------------------\n",
                        "Age_Older_n Mean: 528.9\n",
                        "--------------------\n",
                        "Age_Older_n Standard Deviation: 800.49\n",
                        "====================\n",
                        "Age_Younger_n:\n",
                        "--------------------\n",
                        "Min Age_Younger_n value: 13.0\n",
                        "Max Age_Younger_n value: 5228.0\n",
                        "--------------------\n",
                        "Age_Younger_n Mean: 867.99\n",
                        "--------------------\n",
                        "Age_Younger_n Standard Deviation: 1509.18\n",
                        "====================\n",
                        "Age_Older_% per Sector:\n",
                        "--------------------\n",
                        "Min Age_Older_% per Sector value: 18.939393939393938\n",
                        "Max Age_Older_% per Sector value: 58.333333333333336\n",
                        "--------------------\n",
                        "Age_Older_% per Sector Mean: 40.62\n",
                        "--------------------\n",
                        "Age_Older_% per Sector Standard Deviation: 10.08\n",
                        "====================\n",
                        "Age_Younger_% per Sector:\n",
                        "--------------------\n",
                        "Min Age_Younger_% per Sector value: 44.44444444444444\n",
                        "Max Age_Younger_% per Sector value: 80.8080808080808\n",
                        "--------------------\n",
                        "Age_Younger_% per Sector Mean: 59.23\n",
                        "--------------------\n",
                        "Age_Younger_% per Sector Standard Deviation: 10.0\n",
                        "\n",
                        "\n"
                    ]
                }
            ],
            "source": [
                "get_df_info(df_jobs, ivs_all=ivs_all)"
            ]
        },
        {
            "cell_type": "code",
            "execution_count": 77,
            "metadata": {},
            "outputs": [
                {
                    "name": "stdout",
                    "output_type": "stream",
                    "text": [
                        "\n",
                        "DF INFO:\n",
                        "\n",
                        "<class 'pandas.core.frame.DataFrame'>\n",
                        "Int64Index: 17593 entries, 0 to 17592\n",
                        "Data columns (total 53 columns):\n",
                        " #   Column                               Non-Null Count  Dtype   \n",
                        "---  ------                               --------------  -----   \n",
                        " 0   Search Keyword                       17593 non-null  object  \n",
                        " 1   Platform                             17593 non-null  object  \n",
                        " 2   Job ID                               17593 non-null  object  \n",
                        " 3   Job Title                            17593 non-null  object  \n",
                        " 4   Company Name                         17591 non-null  object  \n",
                        " 5   Location                             17593 non-null  object  \n",
                        " 6   Job Description                      17593 non-null  object  \n",
                        " 7   Rating                               3780 non-null   float64 \n",
                        " 8   Employment Type                      17011 non-null  object  \n",
                        " 9   Company URL                          15954 non-null  object  \n",
                        " 10  Job URL                              17593 non-null  object  \n",
                        " 11  Job Age                              17593 non-null  object  \n",
                        " 12  Job Age Number                       17593 non-null  object  \n",
                        " 13  Collection Date                      17593 non-null  object  \n",
                        " 14  Data Row                             13810 non-null  float64 \n",
                        " 15  Tracking ID                          13810 non-null  object  \n",
                        " 16  Industry                             14395 non-null  object  \n",
                        " 17  Job Date                             13813 non-null  object  \n",
                        " 18  Type of ownership                    582 non-null    object  \n",
                        " 19  Language                             17593 non-null  object  \n",
                        " 20  Dutch Requirement in Job Ad          17593 non-null  category\n",
                        " 21  English Requirement in Job Ad        17593 non-null  category\n",
                        " 22  Sector Code                          17593 non-null  object  \n",
                        " 23  Sector                               17593 non-null  object  \n",
                        " 24  Keywords Count                       17593 non-null  float64 \n",
                        " 25  Gender_Female_n                      17593 non-null  float64 \n",
                        " 26  Gender_Female_% per Sector           17593 non-null  float64 \n",
                        " 27  Gender_Female_% per Social Category  17593 non-null  float64 \n",
                        " 28  Gender_Female_% per Workforce        17593 non-null  float64 \n",
                        " 29  Gender_Male_n                        17593 non-null  float64 \n",
                        " 30  Gender_Male_% per Sector             17593 non-null  float64 \n",
                        " 31  Gender_Male_% per Social Category    17593 non-null  float64 \n",
                        " 32  Gender_Male_% per Workforce          17593 non-null  float64 \n",
                        " 33  Gender                               17593 non-null  category\n",
                        " 34  Age_Older_n                          17593 non-null  float64 \n",
                        " 35  Age_Older_% per Sector               17593 non-null  float64 \n",
                        " 36  Age_Older_% per Social Category      17593 non-null  float64 \n",
                        " 37  Age_Older_% per Workforce            17593 non-null  float64 \n",
                        " 38  Age_Younger_n                        17593 non-null  float64 \n",
                        " 39  Age_Younger_% per Sector             17593 non-null  float64 \n",
                        " 40  Age_Younger_% per Social Category    17593 non-null  float64 \n",
                        " 41  Age_Younger_% per Workforce          17593 non-null  float64 \n",
                        " 42  Age                                  17593 non-null  category\n",
                        " 43  Sector_n                             17593 non-null  float64 \n",
                        " 44  % Sector per Workforce               17593 non-null  float64 \n",
                        " 45  Gender_Female                        17593 non-null  int64   \n",
                        " 46  Gender_Male                          17593 non-null  int64   \n",
                        " 47  Gender_Mixed                         17593 non-null  int64   \n",
                        " 48  Age_Mixed                            17593 non-null  int64   \n",
                        " 49  Age_Older                            17593 non-null  int64   \n",
                        " 50  Age_Younger                          17593 non-null  int64   \n",
                        " 51  Gender_Num                           17593 non-null  int64   \n",
                        " 52  Age_Num                              17593 non-null  int64   \n",
                        "dtypes: category(4), float64(21), int64(8), object(20)\n",
                        "memory usage: 7.3+ MB\n",
                        "====================\n",
                        "Warmth:\n",
                        "--------------------\n",
                        "Warmth not available.\n",
                        "====================\n",
                        "Competence:\n",
                        "--------------------\n",
                        "Competence not available.\n",
                        "\n",
                        "\n"
                    ]
                }
            ],
            "source": [
                "get_df_info(df_jobs, ivs_all=dvs)"
            ]
        },
        {
            "cell_type": "code",
            "execution_count": 78,
            "metadata": {},
            "outputs": [
                {
                    "data": {
                        "text/plain": [
                            "Male            6974\n",
                            "Mixed Gender    6664\n",
                            "Female          3955\n",
                            "Name: Gender, dtype: int64"
                        ]
                    },
                    "execution_count": 78,
                    "metadata": {},
                    "output_type": "execute_result"
                }
            ],
            "source": [
                "df_jobs['Gender'].value_counts()\n"
            ]
        },
        {
            "cell_type": "code",
            "execution_count": 79,
            "metadata": {},
            "outputs": [
                {
                    "data": {
                        "text/plain": [
                            "0    13638\n",
                            "1     3955\n",
                            "Name: Gender_Female, dtype: int64"
                        ]
                    },
                    "execution_count": 79,
                    "metadata": {},
                    "output_type": "execute_result"
                }
            ],
            "source": [
                "df_jobs['Gender_Female'].value_counts()"
            ]
        },
        {
            "cell_type": "code",
            "execution_count": 80,
            "metadata": {},
            "outputs": [
                {
                    "data": {
                        "text/plain": [
                            "2    6974\n",
                            "1    6664\n",
                            "0    3955\n",
                            "Name: Gender_Num, dtype: int64"
                        ]
                    },
                    "execution_count": 80,
                    "metadata": {},
                    "output_type": "execute_result"
                }
            ],
            "source": [
                "df_jobs['Gender_Num'].value_counts()"
            ]
        },
        {
            "cell_type": "code",
            "execution_count": 81,
            "metadata": {},
            "outputs": [
                {
                    "data": {
                        "text/plain": [
                            "LinkedIn     13813\n",
                            "Indeed        3198\n",
                            "Glassdoor      582\n",
                            "Name: Platform, dtype: int64"
                        ]
                    },
                    "execution_count": 81,
                    "metadata": {},
                    "output_type": "execute_result"
                }
            ],
            "source": [
                "df_jobs['Platform'].value_counts()"
            ]
        },
        {
            "cell_type": "code",
            "execution_count": 82,
            "metadata": {},
            "outputs": [],
            "source": [
                "platform_order = ['LinkedIn', 'Indeed', 'Glassdoor']\n",
                "df_jobs['Platform'] = df_jobs['Platform'].astype('category').cat.reorder_categories(platform_order, ordered=True)\n",
                "df_jobs['Platform'] = pd.Categorical(df_jobs['Platform'], categories=platform_order, ordered=True)\n",
                "df_jobs['Platform_Num'] = pd.to_numeric(df_jobs['Platform'].cat.codes).astype('int64')\n",
                "df_jobs = df_jobs.join(pd.get_dummies(df_jobs[['Platform']], dtype='int64'))"
            ]
        },
        {
            "cell_type": "code",
            "execution_count": 83,
            "metadata": {},
            "outputs": [
                {
                    "data": {
                        "text/plain": [
                            "Platform_Num  Platform_LinkedIn  Platform_Indeed  Platform_Glassdoor\n",
                            "0             1                  0                0                     13813\n",
                            "1             0                  1                0                      3198\n",
                            "2             0                  0                1                       582\n",
                            "dtype: int64"
                        ]
                    },
                    "execution_count": 83,
                    "metadata": {},
                    "output_type": "execute_result"
                }
            ],
            "source": [
                "# LinkedIn=13818, Indeed=3198, Glassdoor=3198\n",
                "df_jobs[['Platform_Num', 'Platform_LinkedIn', 'Platform_Indeed', 'Platform_Glassdoor']].value_counts()"
            ]
        },
        {
            "cell_type": "code",
            "execution_count": 84,
            "metadata": {},
            "outputs": [],
            "source": [
                "assert len(df_jobs) > 0 and isinstance(df_jobs, pd.DataFrame), f'ERORR: LENGTH OF DF = {len(df_jobs)}'\n",
                "df_jobs.to_pickle(f'{df_save_dir}df_jobs_including_sector_genage_data.pkl')\n",
                "df_jobs.to_csv(f'{df_save_dir}df_jobs_including_sector_genage_data.csv', index=False)\n"
            ]
        },
        {
            "cell_type": "markdown",
            "metadata": {},
            "source": [
                "# Use spacy to split job ads to sentences\n"
            ]
        },
        {
            "cell_type": "markdown",
            "metadata": {},
            "source": [
                "### START HERE IF SOURCING FROM DF_JOBS_INCLUDING_SECTOR_GENAGE_DATA\n",
                "### PLEASE SET CORRECT DIRECTORY PATHS BELOW\n"
            ]
        },
        {
            "cell_type": "code",
            "execution_count": 85,
            "metadata": {},
            "outputs": [],
            "source": [
                "import os # type:ignore # isort:skip # fmt:skip # noqa # nopep8\n",
                "import sys # type:ignore # isort:skip # fmt:skip # noqa # nopep8\n",
                "from pathlib import Path # type:ignore # isort:skip # fmt:skip # noqa # nopep8\n",
                "\n",
                "mod = sys.modules[__name__]\n",
                "\n",
                "code_dir = None\n",
                "code_dir_name = 'Code'\n",
                "unwanted_subdir_name = 'Analysis'\n",
                "\n",
                "for _ in range(5):\n",
                "\n",
                "    parent_path = str(Path.cwd().parents[_]).split('/')[-1]\n",
                "\n",
                "    if (code_dir_name in parent_path) and (unwanted_subdir_name not in parent_path):\n",
                "\n",
                "        code_dir = str(Path.cwd().parents[_])\n",
                "\n",
                "        if code_dir is not None:\n",
                "            break\n",
                "\n",
                "sys.path.append(code_dir)\n",
                "# %load_ext autoreload\n",
                "# %autoreload 2\n"
            ]
        },
        {
            "cell_type": "code",
            "execution_count": 86,
            "metadata": {},
            "outputs": [],
            "source": [
                "from setup_module.imports import *  # type:ignore # isort:skip # fmt:skip # noqa # nopep8\n"
            ]
        },
        {
            "cell_type": "code",
            "execution_count": 87,
            "metadata": {},
            "outputs": [],
            "source": [
                "df_jobs = pd.read_pickle(f'{df_save_dir}df_jobs_including_sector_genage_data.pkl')\n"
            ]
        },
        {
            "cell_type": "code",
            "execution_count": 88,
            "metadata": {},
            "outputs": [
                {
                    "name": "stdout",
                    "output_type": "stream",
                    "text": [
                        "<class 'pandas.core.frame.DataFrame'>\n",
                        "Int64Index: 17593 entries, 0 to 17592\n",
                        "Data columns (total 57 columns):\n",
                        " #   Column                               Non-Null Count  Dtype   \n",
                        "---  ------                               --------------  -----   \n",
                        " 0   Search Keyword                       17593 non-null  object  \n",
                        " 1   Platform                             17593 non-null  category\n",
                        " 2   Job ID                               17593 non-null  object  \n",
                        " 3   Job Title                            17593 non-null  object  \n",
                        " 4   Company Name                         17591 non-null  object  \n",
                        " 5   Location                             17593 non-null  object  \n",
                        " 6   Job Description                      17593 non-null  object  \n",
                        " 7   Rating                               3780 non-null   float64 \n",
                        " 8   Employment Type                      17011 non-null  object  \n",
                        " 9   Company URL                          15954 non-null  object  \n",
                        " 10  Job URL                              17593 non-null  object  \n",
                        " 11  Job Age                              17593 non-null  object  \n",
                        " 12  Job Age Number                       17593 non-null  object  \n",
                        " 13  Collection Date                      17593 non-null  object  \n",
                        " 14  Data Row                             13810 non-null  float64 \n",
                        " 15  Tracking ID                          13810 non-null  object  \n",
                        " 16  Industry                             14395 non-null  object  \n",
                        " 17  Job Date                             13813 non-null  object  \n",
                        " 18  Type of ownership                    582 non-null    object  \n",
                        " 19  Language                             17593 non-null  object  \n",
                        " 20  Dutch Requirement in Job Ad          17593 non-null  category\n",
                        " 21  English Requirement in Job Ad        17593 non-null  category\n",
                        " 22  Sector Code                          17593 non-null  object  \n",
                        " 23  Sector                               17593 non-null  object  \n",
                        " 24  Keywords Count                       17593 non-null  float64 \n",
                        " 25  Gender_Female_n                      17593 non-null  float64 \n",
                        " 26  Gender_Female_% per Sector           17593 non-null  float64 \n",
                        " 27  Gender_Female_% per Social Category  17593 non-null  float64 \n",
                        " 28  Gender_Female_% per Workforce        17593 non-null  float64 \n",
                        " 29  Gender_Male_n                        17593 non-null  float64 \n",
                        " 30  Gender_Male_% per Sector             17593 non-null  float64 \n",
                        " 31  Gender_Male_% per Social Category    17593 non-null  float64 \n",
                        " 32  Gender_Male_% per Workforce          17593 non-null  float64 \n",
                        " 33  Gender                               17593 non-null  category\n",
                        " 34  Age_Older_n                          17593 non-null  float64 \n",
                        " 35  Age_Older_% per Sector               17593 non-null  float64 \n",
                        " 36  Age_Older_% per Social Category      17593 non-null  float64 \n",
                        " 37  Age_Older_% per Workforce            17593 non-null  float64 \n",
                        " 38  Age_Younger_n                        17593 non-null  float64 \n",
                        " 39  Age_Younger_% per Sector             17593 non-null  float64 \n",
                        " 40  Age_Younger_% per Social Category    17593 non-null  float64 \n",
                        " 41  Age_Younger_% per Workforce          17593 non-null  float64 \n",
                        " 42  Age                                  17593 non-null  category\n",
                        " 43  Sector_n                             17593 non-null  float64 \n",
                        " 44  % Sector per Workforce               17593 non-null  float64 \n",
                        " 45  Gender_Female                        17593 non-null  int64   \n",
                        " 46  Gender_Male                          17593 non-null  int64   \n",
                        " 47  Gender_Mixed                         17593 non-null  int64   \n",
                        " 48  Age_Mixed                            17593 non-null  int64   \n",
                        " 49  Age_Older                            17593 non-null  int64   \n",
                        " 50  Age_Younger                          17593 non-null  int64   \n",
                        " 51  Gender_Num                           17593 non-null  int64   \n",
                        " 52  Age_Num                              17593 non-null  int64   \n",
                        " 53  Platform_Num                         17593 non-null  int64   \n",
                        " 54  Platform_LinkedIn                    17593 non-null  int64   \n",
                        " 55  Platform_Indeed                      17593 non-null  int64   \n",
                        " 56  Platform_Glassdoor                   17593 non-null  int64   \n",
                        "dtypes: category(5), float64(21), int64(12), object(19)\n",
                        "memory usage: 7.2+ MB\n"
                    ]
                }
            ],
            "source": [
                "df_jobs.info()\n"
            ]
        },
        {
            "cell_type": "code",
            "execution_count": 89,
            "metadata": {},
            "outputs": [],
            "source": [
                "df_jobs['Job Description'] = df_jobs['Job Description'].apply(lambda x: unicodedata.normalize('NFKD', x.encode('ascii', 'ignore').decode('utf-8', 'ignore')))\n"
            ]
        },
        {
            "cell_type": "code",
            "execution_count": 90,
            "metadata": {},
            "outputs": [
                {
                    "data": {
                        "text/plain": [
                            "0    About Our Client\\nThe Global KYC organisation ...\n",
                            "1    Your role:\\n\\nWere in business to save our hom...\n",
                            "2    During the past four years Colourful Rebel has...\n",
                            "3    Job Description\\nWe are currently recruiting a...\n",
                            "4    KARL LAGERFELD COMPANY PROFILE\\n\\nThe house of...\n",
                            "Name: Job Description, dtype: object"
                        ]
                    },
                    "execution_count": 90,
                    "metadata": {},
                    "output_type": "execute_result"
                }
            ],
            "source": [
                "df_jobs['Job Description'].head()\n"
            ]
        },
        {
            "cell_type": "code",
            "execution_count": 91,
            "metadata": {},
            "outputs": [
                {
                    "name": "stdout",
                    "output_type": "stream",
                    "text": [
                        "CPU times: user 8.4 ms, sys: 4.66 ms, total: 13.1 ms\n",
                        "Wall time: 13.6 ms\n"
                    ]
                }
            ],
            "source": [
                "%%time\n",
                "# Add sentencizer to spacy pipe and set custom punctuations\n",
                "with open(f'{data_dir}punctuations.txt', 'rb') as f:\n",
                "    custom_punct_chars = pickle.load(f)\n",
                "\n",
                "if 'sentencizer' not in nlp.pipe_names:\n",
                "    sentencizer = nlp.add_pipe('sentencizer')\n",
                "sentencizer.punct_chars.update(custom_punct_chars)\n",
                "\n",
                "if all(custom_punct_char in sentencizer.punct_chars for custom_punct_char in custom_punct_chars):\n",
                "    with open(f'{data_dir}punctuations.txt', 'wb') as f:\n",
                "        pickle.dump(sentencizer.punct_chars, f)\n",
                "\n",
                "with open(f'{data_dir}punctuations.txt', 'rb') as f:\n",
                "    custom_punct_chars = pickle.load(f)\n"
            ]
        },
        {
            "cell_type": "code",
            "execution_count": 92,
            "metadata": {},
            "outputs": [],
            "source": [
                "# Add special cases to spacy\n",
                "special_cases_dict = {\n",
                "    'incl.': [{65: 'incl', 67: 'including'}],\n",
                "    'incl. ': [{65: 'incl', 67: 'including'}],\n",
                "    '(incl.': [{65: 'incl', 67: 'including'}],\n",
                "    'etc.': [{65: 'etc', 67: 'et cetera'}],\n",
                "    'etc. ': [{65: 'etc', 67: 'et cetera'}],\n",
                "    'e.g.': [{65: 'e.g', 67: 'for example'}],\n",
                "    'e.g. ': [{65: 'e.g', 67: 'for example'}],\n",
                "    'andor ': [{65: 'andor', 67: 'and or'}],\n",
                "    'and/or ': [{65: 'andor', 67: 'and or'}],\n",
                "}\n",
                "\n",
                "nlp.tokenizer.rules.update(special_cases_dict)\n"
            ]
        },
        {
            "cell_type": "code",
            "execution_count": 93,
            "metadata": {},
            "outputs": [
                {
                    "data": {
                        "text/plain": [
                            "0    About Our Client\\nThe Global KYC organisation ...\n",
                            "1    Your role:\\n\\nWere in business to save our hom...\n",
                            "2    During the past four years Colourful Rebel has...\n",
                            "3    Job Description\\nWe are currently recruiting a...\n",
                            "4    KARL LAGERFELD COMPANY PROFILE\\n\\nThe house of...\n",
                            "Name: Job Description, dtype: object"
                        ]
                    },
                    "execution_count": 93,
                    "metadata": {},
                    "output_type": "execute_result"
                }
            ],
            "source": [
                "df_jobs['Job Description'].head()\n"
            ]
        },
        {
            "cell_type": "code",
            "execution_count": 94,
            "metadata": {},
            "outputs": [
                {
                    "data": {
                        "text/plain": [
                            "count                                                 17593\n",
                            "unique                                                17593\n",
                            "top       About Our Client\\nThe Global KYC organisation ...\n",
                            "freq                                                      1\n",
                            "Name: Job Description, dtype: object"
                        ]
                    },
                    "execution_count": 94,
                    "metadata": {},
                    "output_type": "execute_result"
                }
            ],
            "source": [
                "df_jobs['Job Description'].describe()\n"
            ]
        },
        {
            "cell_type": "code",
            "execution_count": 95,
            "metadata": {},
            "outputs": [
                {
                    "data": {
                        "application/vnd.jupyter.widget-view+json": {
                            "model_id": "0226975307cc4e8d929639208942ec68",
                            "version_major": 2,
                            "version_minor": 0
                        },
                        "text/plain": [
                            "progress-bar:   0%|          | 0/17593 [00:00<?, ?it/s]"
                        ]
                    },
                    "metadata": {},
                    "output_type": "display_data"
                },
                {
                    "name": "stdout",
                    "output_type": "stream",
                    "text": [
                        "CPU times: user 20min 3s, sys: 32.1 s, total: 20min 35s\n",
                        "Wall time: 25min 46s\n"
                    ]
                }
            ],
            "source": [
                "%%time\n",
                "# Spacy sentencize\n",
                "if all(custom_punct_char in sentencizer.punct_chars for custom_punct_char in custom_punct_chars):\n",
                "    df_jobs['Job Description spacy_sentencized'] = df_jobs['Job Description'].progress_apply(\n",
                "        lambda job_description: [\n",
                "            sent\n",
                "            for sentence in nlp(job_description).sents \n",
                "            for sent in re.split(pattern, sentence.text)\n",
                "            if sent is not None\n",
                "            and bool(sent) == True\n",
                "            and len(sent) < 2\n",
                "            and not isinstance(sent, str)\n",
                "            and sent != '...'\n",
                "            and sent not in nan_list\n",
                "            and sent not in custom_punct_chars\n",
                "            # and sent not in list(string.punctuation)\n",
                "            # and sent not in list(string.whitespace)\n",
                "            ]\n",
                "    )\n",
                "\n",
                "assert len(df_jobs) > 0 and isinstance(df_jobs, pd.DataFrame), f'ERORR: LENGTH OF DF = {len(df_jobs)}'\n",
                "df_jobs.to_pickle(f'{df_save_dir}df_jobs_sentencized.pkl')\n",
                "df_jobs.to_csv(f'{df_save_dir}df_jobs_sentencized.csv', index=False)\n"
            ]
        },
        {
            "cell_type": "code",
            "execution_count": 96,
            "metadata": {},
            "outputs": [
                {
                    "data": {
                        "text/plain": [
                            "17593"
                        ]
                    },
                    "execution_count": 96,
                    "metadata": {},
                    "output_type": "execute_result"
                }
            ],
            "source": [
                "# len=17593\n",
                "len(df_jobs)\n"
            ]
        },
        {
            "cell_type": "code",
            "execution_count": 97,
            "metadata": {},
            "outputs": [
                {
                    "data": {
                        "text/plain": [
                            "0    []\n",
                            "1    []\n",
                            "2    []\n",
                            "3    []\n",
                            "4    []\n",
                            "Name: Job Description spacy_sentencized, dtype: object"
                        ]
                    },
                    "execution_count": 97,
                    "metadata": {},
                    "output_type": "execute_result"
                }
            ],
            "source": [
                "df_jobs['Job Description spacy_sentencized'].head()\n"
            ]
        },
        {
            "cell_type": "code",
            "execution_count": 98,
            "metadata": {},
            "outputs": [
                {
                    "data": {
                        "text/plain": [
                            "count     17593\n",
                            "unique        1\n",
                            "top          []\n",
                            "freq      17593\n",
                            "Name: Job Description spacy_sentencized, dtype: object"
                        ]
                    },
                    "execution_count": 98,
                    "metadata": {},
                    "output_type": "execute_result"
                }
            ],
            "source": [
                "df_jobs['Job Description spacy_sentencized'].describe()\n"
            ]
        },
        {
            "cell_type": "code",
            "execution_count": 99,
            "metadata": {},
            "outputs": [],
            "source": [
                "# Drop na, empty strings, punctuations, and keep only sentences of length more than 0\n",
                "df_jobs = df_jobs.dropna(subset=['Job Description spacy_sentencized'])\n",
                "df_jobs = df_jobs.loc[\n",
                "    (df_jobs['Job Description spacy_sentencized'].isnull() == False)\n",
                "    & (df_jobs['Job Description spacy_sentencized'].isna() == False)\n",
                "    & (df_jobs['Job Description spacy_sentencized'].notnull() == True)\n",
                "    & (df_jobs['Job Description spacy_sentencized'].notna() == True)\n",
                "    & (df_jobs['Job Description spacy_sentencized'].astype(bool) == True)\n",
                "    & (df_jobs['Job Description spacy_sentencized'].astype(str).apply(len) > 0)\n",
                "    & (pd.isna(df_jobs['Job Description spacy_sentencized']) == False)\n",
                "    & (df_jobs['Job Description spacy_sentencized'].astype(str).isin(custom_punct_chars) == False)\n",
                "    & (df_jobs['Job Description spacy_sentencized'].astype(str).isin(non_whitespace_nan_list) == False)\n",
                "    & (df_jobs['Job Description spacy_sentencized'].astype(str).isin(list(string.punctuation)) == False)\n",
                "    & (df_jobs['Job Description spacy_sentencized'].astype(str).isin(list(string.whitespace)) == False)\n",
                "]\n",
                "df_jobs = df_jobs.dropna(subset=['Job Description spacy_sentencized'])\n"
            ]
        },
        {
            "cell_type": "code",
            "execution_count": 100,
            "metadata": {},
            "outputs": [
                {
                    "data": {
                        "text/plain": [
                            "0"
                        ]
                    },
                    "execution_count": 100,
                    "metadata": {},
                    "output_type": "execute_result"
                }
            ],
            "source": [
                "# len=17593\n",
                "len(df_jobs)"
            ]
        },
        {
            "cell_type": "code",
            "execution_count": 101,
            "metadata": {},
            "outputs": [
                {
                    "data": {
                        "text/plain": [
                            "Series([], Name: Job Description spacy_sentencized, dtype: object)"
                        ]
                    },
                    "execution_count": 101,
                    "metadata": {},
                    "output_type": "execute_result"
                }
            ],
            "source": [
                "df_jobs['Job Description spacy_sentencized'].head()\n"
            ]
        },
        {
            "cell_type": "code",
            "execution_count": 102,
            "metadata": {},
            "outputs": [
                {
                    "data": {
                        "text/plain": [
                            "count       0\n",
                            "unique      0\n",
                            "top       NaN\n",
                            "freq      NaN\n",
                            "Name: Job Description spacy_sentencized, dtype: object"
                        ]
                    },
                    "execution_count": 102,
                    "metadata": {},
                    "output_type": "execute_result"
                }
            ],
            "source": [
                "# count=, unique=\n",
                "df_jobs['Job Description spacy_sentencized'].describe()\n"
            ]
        },
        {
            "cell_type": "code",
            "execution_count": 103,
            "metadata": {},
            "outputs": [
                {
                    "data": {
                        "text/plain": [
                            "nan"
                        ]
                    },
                    "execution_count": 103,
                    "metadata": {},
                    "output_type": "execute_result"
                }
            ],
            "source": [
                "# sentences=934\n",
                "df_jobs['Job Description spacy_sentencized'].apply(len).max()\n"
            ]
        },
        {
            "cell_type": "code",
            "execution_count": 104,
            "metadata": {},
            "outputs": [
                {
                    "data": {
                        "text/html": [
                            "<pre style=\"white-space:pre;overflow-x:auto;line-height:normal;font-family:Menlo,'DejaVu Sans Mono',consolas,'Courier New',monospace\"><span style=\"color: #800000; text-decoration-color: #800000\">╭─────────────────────────────── </span><span style=\"color: #800000; text-decoration-color: #800000; font-weight: bold\">Traceback </span><span style=\"color: #bf7f7f; text-decoration-color: #bf7f7f; font-weight: bold\">(most recent call last)</span><span style=\"color: #800000; text-decoration-color: #800000\"> ────────────────────────────────╮</span>\n",
                            "<span style=\"color: #800000; text-decoration-color: #800000\">│</span> <span style=\"color: #bfbf7f; text-decoration-color: #bfbf7f\">/var/folders/46/q15p556n1dd63z6gkwyh896c0000gn/T/ipykernel_986/</span><span style=\"color: #808000; text-decoration-color: #808000; font-weight: bold\">3907542433.py</span>:<span style=\"color: #0000ff; text-decoration-color: #0000ff\">1</span> in <span style=\"color: #00ff00; text-decoration-color: #00ff00\">&lt;module&gt;</span>       <span style=\"color: #800000; text-decoration-color: #800000\">│</span>\n",
                            "<span style=\"color: #800000; text-decoration-color: #800000\">│</span>                                                                                                  <span style=\"color: #800000; text-decoration-color: #800000\">│</span>\n",
                            "<span style=\"color: #800000; text-decoration-color: #800000\">│</span> <span style=\"color: #800000; text-decoration-color: #800000; font-style: italic\">[Errno 2] No such file or directory: </span>                                                            <span style=\"color: #800000; text-decoration-color: #800000\">│</span>\n",
                            "<span style=\"color: #800000; text-decoration-color: #800000\">│</span> <span style=\"color: #800000; text-decoration-color: #800000; font-style: italic\">'/var/folders/46/q15p556n1dd63z6gkwyh896c0000gn/T/ipykernel_986/3907542433.py'</span>                   <span style=\"color: #800000; text-decoration-color: #800000\">│</span>\n",
                            "<span style=\"color: #800000; text-decoration-color: #800000\">│</span>                                                                                                  <span style=\"color: #800000; text-decoration-color: #800000\">│</span>\n",
                            "<span style=\"color: #800000; text-decoration-color: #800000\">│</span> <span style=\"color: #bfbf7f; text-decoration-color: #bfbf7f\">/opt/homebrew/Caskroom/mambaforge/base/envs/study1_3.10/lib/python3.10/site-packages/pandas/core</span> <span style=\"color: #800000; text-decoration-color: #800000\">│</span>\n",
                            "<span style=\"color: #800000; text-decoration-color: #800000\">│</span> <span style=\"color: #bfbf7f; text-decoration-color: #bfbf7f\">/</span><span style=\"color: #808000; text-decoration-color: #808000; font-weight: bold\">series.py</span>:<span style=\"color: #0000ff; text-decoration-color: #0000ff\">2495</span> in <span style=\"color: #00ff00; text-decoration-color: #00ff00\">idxmin</span>                                                                        <span style=\"color: #800000; text-decoration-color: #800000\">│</span>\n",
                            "<span style=\"color: #800000; text-decoration-color: #800000\">│</span>                                                                                                  <span style=\"color: #800000; text-decoration-color: #800000\">│</span>\n",
                            "<span style=\"color: #800000; text-decoration-color: #800000\">│</span>   <span style=\"color: #7f7f7f; text-decoration-color: #7f7f7f\">2492 </span><span style=\"color: #bfbf7f; text-decoration-color: #bfbf7f\">│   │   </span><span style=\"color: #808000; text-decoration-color: #808000\">&gt;&gt;&gt; s.idxmin(skipna=False)</span>                                                        <span style=\"color: #800000; text-decoration-color: #800000\">│</span>\n",
                            "<span style=\"color: #800000; text-decoration-color: #800000\">│</span>   <span style=\"color: #7f7f7f; text-decoration-color: #7f7f7f\">2493 </span><span style=\"color: #bfbf7f; text-decoration-color: #bfbf7f\">│   │   </span><span style=\"color: #808000; text-decoration-color: #808000\">nan</span>                                                                               <span style=\"color: #800000; text-decoration-color: #800000\">│</span>\n",
                            "<span style=\"color: #800000; text-decoration-color: #800000\">│</span>   <span style=\"color: #7f7f7f; text-decoration-color: #7f7f7f\">2494 </span><span style=\"color: #bfbf7f; text-decoration-color: #bfbf7f\">│   │   </span><span style=\"color: #808000; text-decoration-color: #808000\">\"\"\"</span>                                                                               <span style=\"color: #800000; text-decoration-color: #800000\">│</span>\n",
                            "<span style=\"color: #800000; text-decoration-color: #800000\">│</span> <span style=\"color: #800000; text-decoration-color: #800000\">❱ </span>2495 <span style=\"color: #7f7f7f; text-decoration-color: #7f7f7f\">│   │   </span>i = <span style=\"color: #00ffff; text-decoration-color: #00ffff\">self</span>.argmin(axis, skipna, *args, **kwargs)                                    <span style=\"color: #800000; text-decoration-color: #800000\">│</span>\n",
                            "<span style=\"color: #800000; text-decoration-color: #800000\">│</span>   <span style=\"color: #7f7f7f; text-decoration-color: #7f7f7f\">2496 │   │   </span><span style=\"color: #0000ff; text-decoration-color: #0000ff\">if</span> i == -<span style=\"color: #0000ff; text-decoration-color: #0000ff\">1</span>:                                                                       <span style=\"color: #800000; text-decoration-color: #800000\">│</span>\n",
                            "<span style=\"color: #800000; text-decoration-color: #800000\">│</span>   <span style=\"color: #7f7f7f; text-decoration-color: #7f7f7f\">2497 │   │   │   </span><span style=\"color: #0000ff; text-decoration-color: #0000ff\">return</span> np.nan                                                                 <span style=\"color: #800000; text-decoration-color: #800000\">│</span>\n",
                            "<span style=\"color: #800000; text-decoration-color: #800000\">│</span>   <span style=\"color: #7f7f7f; text-decoration-color: #7f7f7f\">2498 │   │   </span><span style=\"color: #0000ff; text-decoration-color: #0000ff\">return</span> <span style=\"color: #00ffff; text-decoration-color: #00ffff\">self</span>.index[i]                                                              <span style=\"color: #800000; text-decoration-color: #800000\">│</span>\n",
                            "<span style=\"color: #800000; text-decoration-color: #800000\">│</span>                                                                                                  <span style=\"color: #800000; text-decoration-color: #800000\">│</span>\n",
                            "<span style=\"color: #800000; text-decoration-color: #800000\">│</span> <span style=\"color: #bfbf7f; text-decoration-color: #bfbf7f\">/opt/homebrew/Caskroom/mambaforge/base/envs/study1_3.10/lib/python3.10/site-packages/pandas/core</span> <span style=\"color: #800000; text-decoration-color: #800000\">│</span>\n",
                            "<span style=\"color: #800000; text-decoration-color: #800000\">│</span> <span style=\"color: #bfbf7f; text-decoration-color: #bfbf7f\">/</span><span style=\"color: #808000; text-decoration-color: #808000; font-weight: bold\">base.py</span>:<span style=\"color: #0000ff; text-decoration-color: #0000ff\">717</span> in <span style=\"color: #00ff00; text-decoration-color: #00ff00\">argmin</span>                                                                           <span style=\"color: #800000; text-decoration-color: #800000\">│</span>\n",
                            "<span style=\"color: #800000; text-decoration-color: #800000\">│</span>                                                                                                  <span style=\"color: #800000; text-decoration-color: #800000\">│</span>\n",
                            "<span style=\"color: #800000; text-decoration-color: #800000\">│</span>   <span style=\"color: #7f7f7f; text-decoration-color: #7f7f7f\"> 714 │   │   </span><span style=\"color: #0000ff; text-decoration-color: #0000ff\">else</span>:                                                                             <span style=\"color: #800000; text-decoration-color: #800000\">│</span>\n",
                            "<span style=\"color: #800000; text-decoration-color: #800000\">│</span>   <span style=\"color: #7f7f7f; text-decoration-color: #7f7f7f\"> 715 │   │   │   # error: Incompatible return value type (got \"Union[int, ndarray]\", expected</span>  <span style=\"color: #800000; text-decoration-color: #800000\">│</span>\n",
                            "<span style=\"color: #800000; text-decoration-color: #800000\">│</span>   <span style=\"color: #7f7f7f; text-decoration-color: #7f7f7f\"> 716 │   │   │   # \"int\")</span>                                                                      <span style=\"color: #800000; text-decoration-color: #800000\">│</span>\n",
                            "<span style=\"color: #800000; text-decoration-color: #800000\">│</span> <span style=\"color: #800000; text-decoration-color: #800000\">❱ </span> 717 <span style=\"color: #7f7f7f; text-decoration-color: #7f7f7f\">│   │   │   </span><span style=\"color: #0000ff; text-decoration-color: #0000ff\">return</span> nanops.nanargmin(  <span style=\"color: #7f7f7f; text-decoration-color: #7f7f7f\"># type: ignore[return-value]</span>                        <span style=\"color: #800000; text-decoration-color: #800000\">│</span>\n",
                            "<span style=\"color: #800000; text-decoration-color: #800000\">│</span>   <span style=\"color: #7f7f7f; text-decoration-color: #7f7f7f\"> 718 │   │   │   │   </span>delegate, skipna=skipna                                                   <span style=\"color: #800000; text-decoration-color: #800000\">│</span>\n",
                            "<span style=\"color: #800000; text-decoration-color: #800000\">│</span>   <span style=\"color: #7f7f7f; text-decoration-color: #7f7f7f\"> 719 │   │   │   </span>)                                                                             <span style=\"color: #800000; text-decoration-color: #800000\">│</span>\n",
                            "<span style=\"color: #800000; text-decoration-color: #800000\">│</span>   <span style=\"color: #7f7f7f; text-decoration-color: #7f7f7f\"> 720 </span>                                                                                          <span style=\"color: #800000; text-decoration-color: #800000\">│</span>\n",
                            "<span style=\"color: #800000; text-decoration-color: #800000\">│</span>                                                                                                  <span style=\"color: #800000; text-decoration-color: #800000\">│</span>\n",
                            "<span style=\"color: #800000; text-decoration-color: #800000\">│</span> <span style=\"color: #bfbf7f; text-decoration-color: #bfbf7f\">/opt/homebrew/Caskroom/mambaforge/base/envs/study1_3.10/lib/python3.10/site-packages/pandas/core</span> <span style=\"color: #800000; text-decoration-color: #800000\">│</span>\n",
                            "<span style=\"color: #800000; text-decoration-color: #800000\">│</span> <span style=\"color: #bfbf7f; text-decoration-color: #bfbf7f\">/</span><span style=\"color: #808000; text-decoration-color: #808000; font-weight: bold\">nanops.py</span>:<span style=\"color: #0000ff; text-decoration-color: #0000ff\">88</span> in <span style=\"color: #00ff00; text-decoration-color: #00ff00\">_f</span>                                                                              <span style=\"color: #800000; text-decoration-color: #800000\">│</span>\n",
                            "<span style=\"color: #800000; text-decoration-color: #800000\">│</span>                                                                                                  <span style=\"color: #800000; text-decoration-color: #800000\">│</span>\n",
                            "<span style=\"color: #800000; text-decoration-color: #800000\">│</span>   <span style=\"color: #7f7f7f; text-decoration-color: #7f7f7f\">  85 │   │   │   </span>obj_iter = itertools.chain(args, kwargs.values())                             <span style=\"color: #800000; text-decoration-color: #800000\">│</span>\n",
                            "<span style=\"color: #800000; text-decoration-color: #800000\">│</span>   <span style=\"color: #7f7f7f; text-decoration-color: #7f7f7f\">  86 │   │   │   </span><span style=\"color: #0000ff; text-decoration-color: #0000ff\">if</span> <span style=\"color: #00ffff; text-decoration-color: #00ffff\">any</span>(<span style=\"color: #00ffff; text-decoration-color: #00ffff\">self</span>.check(obj) <span style=\"color: #0000ff; text-decoration-color: #0000ff\">for</span> obj <span style=\"color: #ff00ff; text-decoration-color: #ff00ff\">in</span> obj_iter):                                  <span style=\"color: #800000; text-decoration-color: #800000\">│</span>\n",
                            "<span style=\"color: #800000; text-decoration-color: #800000\">│</span>   <span style=\"color: #7f7f7f; text-decoration-color: #7f7f7f\">  87 │   │   │   │   </span>f_name = f.<span style=\"color: #ff0000; text-decoration-color: #ff0000\">__name__</span>.replace(<span style=\"color: #808000; text-decoration-color: #808000\">\"nan\"</span>, <span style=\"color: #808000; text-decoration-color: #808000\">\"\"</span>)                                    <span style=\"color: #800000; text-decoration-color: #800000\">│</span>\n",
                            "<span style=\"color: #800000; text-decoration-color: #800000\">│</span> <span style=\"color: #800000; text-decoration-color: #800000\">❱ </span>  88 <span style=\"color: #7f7f7f; text-decoration-color: #7f7f7f\">│   │   │   │   </span><span style=\"color: #0000ff; text-decoration-color: #0000ff\">raise</span> <span style=\"color: #00ffff; text-decoration-color: #00ffff\">TypeError</span>(                                                          <span style=\"color: #800000; text-decoration-color: #800000\">│</span>\n",
                            "<span style=\"color: #800000; text-decoration-color: #800000\">│</span>   <span style=\"color: #7f7f7f; text-decoration-color: #7f7f7f\">  89 │   │   │   │   │   </span><span style=\"color: #808000; text-decoration-color: #808000\">f\"reduction operation '{</span>f_name<span style=\"color: #808000; text-decoration-color: #808000\">}' not allowed for this dtype\"</span>          <span style=\"color: #800000; text-decoration-color: #800000\">│</span>\n",
                            "<span style=\"color: #800000; text-decoration-color: #800000\">│</span>   <span style=\"color: #7f7f7f; text-decoration-color: #7f7f7f\">  90 │   │   │   │   </span>)                                                                         <span style=\"color: #800000; text-decoration-color: #800000\">│</span>\n",
                            "<span style=\"color: #800000; text-decoration-color: #800000\">│</span>   <span style=\"color: #7f7f7f; text-decoration-color: #7f7f7f\">  91 │   │   │   </span><span style=\"color: #0000ff; text-decoration-color: #0000ff\">try</span>:                                                                          <span style=\"color: #800000; text-decoration-color: #800000\">│</span>\n",
                            "<span style=\"color: #800000; text-decoration-color: #800000\">╰──────────────────────────────────────────────────────────────────────────────────────────────────╯</span>\n",
                            "<span style=\"color: #ff0000; text-decoration-color: #ff0000; font-weight: bold\">TypeError: </span>reduction operation <span style=\"color: #008000; text-decoration-color: #008000\">'argmin'</span> not allowed for this dtype\n",
                            "</pre>\n"
                        ],
                        "text/plain": [
                            "\u001b[31m╭─\u001b[0m\u001b[31m──────────────────────────────\u001b[0m\u001b[31m \u001b[0m\u001b[1;31mTraceback \u001b[0m\u001b[1;2;31m(most recent call last)\u001b[0m\u001b[31m \u001b[0m\u001b[31m───────────────────────────────\u001b[0m\u001b[31m─╮\u001b[0m\n",
                            "\u001b[31m│\u001b[0m \u001b[2;33m/var/folders/46/q15p556n1dd63z6gkwyh896c0000gn/T/ipykernel_986/\u001b[0m\u001b[1;33m3907542433.py\u001b[0m:\u001b[94m1\u001b[0m in \u001b[92m<module>\u001b[0m       \u001b[31m│\u001b[0m\n",
                            "\u001b[31m│\u001b[0m                                                                                                  \u001b[31m│\u001b[0m\n",
                            "\u001b[31m│\u001b[0m \u001b[3;31m[Errno 2] No such file or directory: \u001b[0m                                                            \u001b[31m│\u001b[0m\n",
                            "\u001b[31m│\u001b[0m \u001b[3;31m'/var/folders/46/q15p556n1dd63z6gkwyh896c0000gn/T/ipykernel_986/3907542433.py'\u001b[0m                   \u001b[31m│\u001b[0m\n",
                            "\u001b[31m│\u001b[0m                                                                                                  \u001b[31m│\u001b[0m\n",
                            "\u001b[31m│\u001b[0m \u001b[2;33m/opt/homebrew/Caskroom/mambaforge/base/envs/study1_3.10/lib/python3.10/site-packages/pandas/core\u001b[0m \u001b[31m│\u001b[0m\n",
                            "\u001b[31m│\u001b[0m \u001b[2;33m/\u001b[0m\u001b[1;33mseries.py\u001b[0m:\u001b[94m2495\u001b[0m in \u001b[92midxmin\u001b[0m                                                                        \u001b[31m│\u001b[0m\n",
                            "\u001b[31m│\u001b[0m                                                                                                  \u001b[31m│\u001b[0m\n",
                            "\u001b[31m│\u001b[0m   \u001b[2m2492 \u001b[0m\u001b[2;33m│   │   \u001b[0m\u001b[33m>>> s.idxmin(skipna=False)\u001b[0m                                                        \u001b[31m│\u001b[0m\n",
                            "\u001b[31m│\u001b[0m   \u001b[2m2493 \u001b[0m\u001b[2;33m│   │   \u001b[0m\u001b[33mnan\u001b[0m                                                                               \u001b[31m│\u001b[0m\n",
                            "\u001b[31m│\u001b[0m   \u001b[2m2494 \u001b[0m\u001b[2;33m│   │   \u001b[0m\u001b[33m\"\"\"\u001b[0m                                                                               \u001b[31m│\u001b[0m\n",
                            "\u001b[31m│\u001b[0m \u001b[31m❱ \u001b[0m2495 \u001b[2m│   │   \u001b[0mi = \u001b[96mself\u001b[0m.argmin(axis, skipna, *args, **kwargs)                                    \u001b[31m│\u001b[0m\n",
                            "\u001b[31m│\u001b[0m   \u001b[2m2496 \u001b[0m\u001b[2m│   │   \u001b[0m\u001b[94mif\u001b[0m i == -\u001b[94m1\u001b[0m:                                                                       \u001b[31m│\u001b[0m\n",
                            "\u001b[31m│\u001b[0m   \u001b[2m2497 \u001b[0m\u001b[2m│   │   │   \u001b[0m\u001b[94mreturn\u001b[0m np.nan                                                                 \u001b[31m│\u001b[0m\n",
                            "\u001b[31m│\u001b[0m   \u001b[2m2498 \u001b[0m\u001b[2m│   │   \u001b[0m\u001b[94mreturn\u001b[0m \u001b[96mself\u001b[0m.index[i]                                                              \u001b[31m│\u001b[0m\n",
                            "\u001b[31m│\u001b[0m                                                                                                  \u001b[31m│\u001b[0m\n",
                            "\u001b[31m│\u001b[0m \u001b[2;33m/opt/homebrew/Caskroom/mambaforge/base/envs/study1_3.10/lib/python3.10/site-packages/pandas/core\u001b[0m \u001b[31m│\u001b[0m\n",
                            "\u001b[31m│\u001b[0m \u001b[2;33m/\u001b[0m\u001b[1;33mbase.py\u001b[0m:\u001b[94m717\u001b[0m in \u001b[92margmin\u001b[0m                                                                           \u001b[31m│\u001b[0m\n",
                            "\u001b[31m│\u001b[0m                                                                                                  \u001b[31m│\u001b[0m\n",
                            "\u001b[31m│\u001b[0m   \u001b[2m 714 \u001b[0m\u001b[2m│   │   \u001b[0m\u001b[94melse\u001b[0m:                                                                             \u001b[31m│\u001b[0m\n",
                            "\u001b[31m│\u001b[0m   \u001b[2m 715 \u001b[0m\u001b[2m│   │   │   \u001b[0m\u001b[2m# error: Incompatible return value type (got \"Union[int, ndarray]\", expected\u001b[0m  \u001b[31m│\u001b[0m\n",
                            "\u001b[31m│\u001b[0m   \u001b[2m 716 \u001b[0m\u001b[2m│   │   │   \u001b[0m\u001b[2m# \"int\")\u001b[0m                                                                      \u001b[31m│\u001b[0m\n",
                            "\u001b[31m│\u001b[0m \u001b[31m❱ \u001b[0m 717 \u001b[2m│   │   │   \u001b[0m\u001b[94mreturn\u001b[0m nanops.nanargmin(  \u001b[2m# type: ignore[return-value]\u001b[0m                        \u001b[31m│\u001b[0m\n",
                            "\u001b[31m│\u001b[0m   \u001b[2m 718 \u001b[0m\u001b[2m│   │   │   │   \u001b[0mdelegate, skipna=skipna                                                   \u001b[31m│\u001b[0m\n",
                            "\u001b[31m│\u001b[0m   \u001b[2m 719 \u001b[0m\u001b[2m│   │   │   \u001b[0m)                                                                             \u001b[31m│\u001b[0m\n",
                            "\u001b[31m│\u001b[0m   \u001b[2m 720 \u001b[0m                                                                                          \u001b[31m│\u001b[0m\n",
                            "\u001b[31m│\u001b[0m                                                                                                  \u001b[31m│\u001b[0m\n",
                            "\u001b[31m│\u001b[0m \u001b[2;33m/opt/homebrew/Caskroom/mambaforge/base/envs/study1_3.10/lib/python3.10/site-packages/pandas/core\u001b[0m \u001b[31m│\u001b[0m\n",
                            "\u001b[31m│\u001b[0m \u001b[2;33m/\u001b[0m\u001b[1;33mnanops.py\u001b[0m:\u001b[94m88\u001b[0m in \u001b[92m_f\u001b[0m                                                                              \u001b[31m│\u001b[0m\n",
                            "\u001b[31m│\u001b[0m                                                                                                  \u001b[31m│\u001b[0m\n",
                            "\u001b[31m│\u001b[0m   \u001b[2m  85 \u001b[0m\u001b[2m│   │   │   \u001b[0mobj_iter = itertools.chain(args, kwargs.values())                             \u001b[31m│\u001b[0m\n",
                            "\u001b[31m│\u001b[0m   \u001b[2m  86 \u001b[0m\u001b[2m│   │   │   \u001b[0m\u001b[94mif\u001b[0m \u001b[96many\u001b[0m(\u001b[96mself\u001b[0m.check(obj) \u001b[94mfor\u001b[0m obj \u001b[95min\u001b[0m obj_iter):                                  \u001b[31m│\u001b[0m\n",
                            "\u001b[31m│\u001b[0m   \u001b[2m  87 \u001b[0m\u001b[2m│   │   │   │   \u001b[0mf_name = f.\u001b[91m__name__\u001b[0m.replace(\u001b[33m\"\u001b[0m\u001b[33mnan\u001b[0m\u001b[33m\"\u001b[0m, \u001b[33m\"\u001b[0m\u001b[33m\"\u001b[0m)                                    \u001b[31m│\u001b[0m\n",
                            "\u001b[31m│\u001b[0m \u001b[31m❱ \u001b[0m  88 \u001b[2m│   │   │   │   \u001b[0m\u001b[94mraise\u001b[0m \u001b[96mTypeError\u001b[0m(                                                          \u001b[31m│\u001b[0m\n",
                            "\u001b[31m│\u001b[0m   \u001b[2m  89 \u001b[0m\u001b[2m│   │   │   │   │   \u001b[0m\u001b[33mf\u001b[0m\u001b[33m\"\u001b[0m\u001b[33mreduction operation \u001b[0m\u001b[33m'\u001b[0m\u001b[33m{\u001b[0mf_name\u001b[33m}\u001b[0m\u001b[33m'\u001b[0m\u001b[33m not allowed for this dtype\u001b[0m\u001b[33m\"\u001b[0m          \u001b[31m│\u001b[0m\n",
                            "\u001b[31m│\u001b[0m   \u001b[2m  90 \u001b[0m\u001b[2m│   │   │   │   \u001b[0m)                                                                         \u001b[31m│\u001b[0m\n",
                            "\u001b[31m│\u001b[0m   \u001b[2m  91 \u001b[0m\u001b[2m│   │   │   \u001b[0m\u001b[94mtry\u001b[0m:                                                                          \u001b[31m│\u001b[0m\n",
                            "\u001b[31m╰──────────────────────────────────────────────────────────────────────────────────────────────────╯\u001b[0m\n",
                            "\u001b[1;91mTypeError: \u001b[0mreduction operation \u001b[32m'argmin'\u001b[0m not allowed for this dtype\n"
                        ]
                    },
                    "metadata": {},
                    "output_type": "display_data"
                }
            ],
            "source": [
                "df_jobs['Job Description spacy_sentencized'].loc[df_jobs['Job Description spacy_sentencized'].apply(len).idxmin()]\n"
            ]
        },
        {
            "cell_type": "code",
            "execution_count": 105,
            "metadata": {},
            "outputs": [
                {
                    "data": {
                        "application/vnd.jupyter.widget-view+json": {
                            "model_id": "c3f9c45802bd45ae97432e6be30fb411",
                            "version_major": 2,
                            "version_minor": 0
                        },
                        "text/plain": [
                            "progress-bar: 0it [00:00, ?it/s]"
                        ]
                    },
                    "metadata": {},
                    "output_type": "display_data"
                }
            ],
            "source": [
                "# Remove sentences with only punctuations, whitespace, and nan, etc from list of sentences\n",
                "with open(f'{data_dir}punctuations.txt', 'rb') as f:\n",
                "    custom_punct_chars = pickle.load(f)\n",
                "\n",
                "df_jobs['Job Description spacy_sentencized'] = df_jobs['Job Description spacy_sentencized'].progress_apply(\n",
                "    lambda job_sentences_list: [\n",
                "        sentence.strip()\n",
                "        for sentence in job_sentences_list\n",
                "        if sentence is not None\n",
                "        and len(sentence) > 5\n",
                "        and sentence not in nan_list\n",
                "        and sentence not in custom_punct_chars\n",
                "        and sentence not in list(string.punctuation)\n",
                "        and sentence not in list(string.whitespace)\n",
                "    ]\n",
                ")\n"
            ]
        },
        {
            "cell_type": "code",
            "execution_count": 106,
            "metadata": {},
            "outputs": [
                {
                    "data": {
                        "text/plain": [
                            "Series([], Name: Job Description spacy_sentencized, dtype: object)"
                        ]
                    },
                    "execution_count": 106,
                    "metadata": {},
                    "output_type": "execute_result"
                }
            ],
            "source": [
                "df_jobs['Job Description spacy_sentencized'].head()\n"
            ]
        },
        {
            "cell_type": "code",
            "execution_count": 107,
            "metadata": {},
            "outputs": [
                {
                    "data": {
                        "text/plain": [
                            "count       0\n",
                            "unique      0\n",
                            "top       NaN\n",
                            "freq      NaN\n",
                            "Name: Job Description spacy_sentencized, dtype: object"
                        ]
                    },
                    "execution_count": 107,
                    "metadata": {},
                    "output_type": "execute_result"
                }
            ],
            "source": [
                "df_jobs['Job Description spacy_sentencized'].describe()\n"
            ]
        },
        {
            "cell_type": "code",
            "execution_count": 108,
            "metadata": {},
            "outputs": [],
            "source": [
                "# Drop na, empty strings, punctuations, and keep only sentences of length more than 0\n",
                "df_jobs = df_jobs.dropna(subset=['Job Description spacy_sentencized'])\n",
                "df_jobs = df_jobs.loc[\n",
                "    (df_jobs['Job Description spacy_sentencized'].isnull() == False)\n",
                "    & (df_jobs['Job Description spacy_sentencized'].isna() == False)\n",
                "    & (df_jobs['Job Description spacy_sentencized'].notnull() == True)\n",
                "    & (df_jobs['Job Description spacy_sentencized'].notna() == True)\n",
                "    & (df_jobs['Job Description spacy_sentencized'].astype(bool) == True)\n",
                "    & (df_jobs['Job Description spacy_sentencized'].astype(str).apply(len) > 0)\n",
                "    & (pd.isna(df_jobs['Job Description spacy_sentencized']) == False)\n",
                "    & (df_jobs['Job Description spacy_sentencized'].astype(str).isin(custom_punct_chars) == False)\n",
                "    & (df_jobs['Job Description spacy_sentencized'].astype(str).isin(non_whitespace_nan_list) == False)\n",
                "    & (df_jobs['Job Description spacy_sentencized'].astype(str).isin(list(string.punctuation)) == False)\n",
                "    & (df_jobs['Job Description spacy_sentencized'].astype(str).isin(list(string.whitespace)) == False)\n",
                "]\n",
                "df_jobs = df_jobs.dropna(subset=['Job Description spacy_sentencized'])\n"
            ]
        },
        {
            "cell_type": "code",
            "execution_count": 109,
            "metadata": {},
            "outputs": [
                {
                    "data": {
                        "text/plain": [
                            "0"
                        ]
                    },
                    "execution_count": 109,
                    "metadata": {},
                    "output_type": "execute_result"
                }
            ],
            "source": [
                "# len=17592\n",
                "len(df_jobs)"
            ]
        },
        {
            "cell_type": "code",
            "execution_count": 110,
            "metadata": {},
            "outputs": [
                {
                    "name": "stdout",
                    "output_type": "stream",
                    "text": [
                        "<class 'pandas.core.frame.DataFrame'>\n",
                        "Int64Index: 0 entries\n",
                        "Data columns (total 58 columns):\n",
                        " #   Column                               Non-Null Count  Dtype   \n",
                        "---  ------                               --------------  -----   \n",
                        " 0   Search Keyword                       0 non-null      object  \n",
                        " 1   Platform                             0 non-null      category\n",
                        " 2   Job ID                               0 non-null      object  \n",
                        " 3   Job Title                            0 non-null      object  \n",
                        " 4   Company Name                         0 non-null      object  \n",
                        " 5   Location                             0 non-null      object  \n",
                        " 6   Job Description                      0 non-null      object  \n",
                        " 7   Rating                               0 non-null      float64 \n",
                        " 8   Employment Type                      0 non-null      object  \n",
                        " 9   Company URL                          0 non-null      object  \n",
                        " 10  Job URL                              0 non-null      object  \n",
                        " 11  Job Age                              0 non-null      object  \n",
                        " 12  Job Age Number                       0 non-null      object  \n",
                        " 13  Collection Date                      0 non-null      object  \n",
                        " 14  Data Row                             0 non-null      float64 \n",
                        " 15  Tracking ID                          0 non-null      object  \n",
                        " 16  Industry                             0 non-null      object  \n",
                        " 17  Job Date                             0 non-null      object  \n",
                        " 18  Type of ownership                    0 non-null      object  \n",
                        " 19  Language                             0 non-null      object  \n",
                        " 20  Dutch Requirement in Job Ad          0 non-null      category\n",
                        " 21  English Requirement in Job Ad        0 non-null      category\n",
                        " 22  Sector Code                          0 non-null      object  \n",
                        " 23  Sector                               0 non-null      object  \n",
                        " 24  Keywords Count                       0 non-null      float64 \n",
                        " 25  Gender_Female_n                      0 non-null      float64 \n",
                        " 26  Gender_Female_% per Sector           0 non-null      float64 \n",
                        " 27  Gender_Female_% per Social Category  0 non-null      float64 \n",
                        " 28  Gender_Female_% per Workforce        0 non-null      float64 \n",
                        " 29  Gender_Male_n                        0 non-null      float64 \n",
                        " 30  Gender_Male_% per Sector             0 non-null      float64 \n",
                        " 31  Gender_Male_% per Social Category    0 non-null      float64 \n",
                        " 32  Gender_Male_% per Workforce          0 non-null      float64 \n",
                        " 33  Gender                               0 non-null      category\n",
                        " 34  Age_Older_n                          0 non-null      float64 \n",
                        " 35  Age_Older_% per Sector               0 non-null      float64 \n",
                        " 36  Age_Older_% per Social Category      0 non-null      float64 \n",
                        " 37  Age_Older_% per Workforce            0 non-null      float64 \n",
                        " 38  Age_Younger_n                        0 non-null      float64 \n",
                        " 39  Age_Younger_% per Sector             0 non-null      float64 \n",
                        " 40  Age_Younger_% per Social Category    0 non-null      float64 \n",
                        " 41  Age_Younger_% per Workforce          0 non-null      float64 \n",
                        " 42  Age                                  0 non-null      category\n",
                        " 43  Sector_n                             0 non-null      float64 \n",
                        " 44  % Sector per Workforce               0 non-null      float64 \n",
                        " 45  Gender_Female                        0 non-null      int64   \n",
                        " 46  Gender_Male                          0 non-null      int64   \n",
                        " 47  Gender_Mixed                         0 non-null      int64   \n",
                        " 48  Age_Mixed                            0 non-null      int64   \n",
                        " 49  Age_Older                            0 non-null      int64   \n",
                        " 50  Age_Younger                          0 non-null      int64   \n",
                        " 51  Gender_Num                           0 non-null      int64   \n",
                        " 52  Age_Num                              0 non-null      int64   \n",
                        " 53  Platform_Num                         0 non-null      int64   \n",
                        " 54  Platform_LinkedIn                    0 non-null      int64   \n",
                        " 55  Platform_Indeed                      0 non-null      int64   \n",
                        " 56  Platform_Glassdoor                   0 non-null      int64   \n",
                        " 57  Job Description spacy_sentencized    0 non-null      object  \n",
                        "dtypes: category(5), float64(21), int64(12), object(20)\n",
                        "memory usage: 104.0+ bytes\n"
                    ]
                }
            ],
            "source": [
                "df_jobs.info()"
            ]
        },
        {
            "cell_type": "code",
            "execution_count": 111,
            "metadata": {},
            "outputs": [
                {
                    "data": {
                        "text/plain": [
                            "Series([], Name: Job Description spacy_sentencized, dtype: object)"
                        ]
                    },
                    "execution_count": 111,
                    "metadata": {},
                    "output_type": "execute_result"
                }
            ],
            "source": [
                "df_jobs['Job Description spacy_sentencized'].head()\n"
            ]
        },
        {
            "cell_type": "code",
            "execution_count": 112,
            "metadata": {},
            "outputs": [
                {
                    "data": {
                        "text/plain": [
                            "count       0\n",
                            "unique      0\n",
                            "top       NaN\n",
                            "freq      NaN\n",
                            "Name: Job Description spacy_sentencized, dtype: object"
                        ]
                    },
                    "execution_count": 112,
                    "metadata": {},
                    "output_type": "execute_result"
                }
            ],
            "source": [
                "# count=17598, unique=17546\n",
                "df_jobs['Job Description spacy_sentencized'].describe()\n"
            ]
        },
        {
            "cell_type": "code",
            "execution_count": 113,
            "metadata": {},
            "outputs": [
                {
                    "data": {
                        "text/html": [
                            "<pre style=\"white-space:pre;overflow-x:auto;line-height:normal;font-family:Menlo,'DejaVu Sans Mono',consolas,'Courier New',monospace\"><span style=\"color: #800000; text-decoration-color: #800000\">╭─────────────────────────────── </span><span style=\"color: #800000; text-decoration-color: #800000; font-weight: bold\">Traceback </span><span style=\"color: #bf7f7f; text-decoration-color: #bf7f7f; font-weight: bold\">(most recent call last)</span><span style=\"color: #800000; text-decoration-color: #800000\"> ────────────────────────────────╮</span>\n",
                            "<span style=\"color: #800000; text-decoration-color: #800000\">│</span> <span style=\"color: #bfbf7f; text-decoration-color: #bfbf7f\">/var/folders/46/q15p556n1dd63z6gkwyh896c0000gn/T/ipykernel_986/</span><span style=\"color: #808000; text-decoration-color: #808000; font-weight: bold\">3767229632.py</span>:<span style=\"color: #0000ff; text-decoration-color: #0000ff\">1</span> in <span style=\"color: #00ff00; text-decoration-color: #00ff00\">&lt;module&gt;</span>       <span style=\"color: #800000; text-decoration-color: #800000\">│</span>\n",
                            "<span style=\"color: #800000; text-decoration-color: #800000\">│</span>                                                                                                  <span style=\"color: #800000; text-decoration-color: #800000\">│</span>\n",
                            "<span style=\"color: #800000; text-decoration-color: #800000\">│</span> <span style=\"color: #800000; text-decoration-color: #800000; font-style: italic\">[Errno 2] No such file or directory: </span>                                                            <span style=\"color: #800000; text-decoration-color: #800000\">│</span>\n",
                            "<span style=\"color: #800000; text-decoration-color: #800000\">│</span> <span style=\"color: #800000; text-decoration-color: #800000; font-style: italic\">'/var/folders/46/q15p556n1dd63z6gkwyh896c0000gn/T/ipykernel_986/3767229632.py'</span>                   <span style=\"color: #800000; text-decoration-color: #800000\">│</span>\n",
                            "<span style=\"color: #800000; text-decoration-color: #800000\">╰──────────────────────────────────────────────────────────────────────────────────────────────────╯</span>\n",
                            "<span style=\"color: #ff0000; text-decoration-color: #ff0000; font-weight: bold\">AssertionError: </span>ERORR: LENGTH OF DF = <span style=\"color: #008080; text-decoration-color: #008080; font-weight: bold\">0</span>\n",
                            "</pre>\n"
                        ],
                        "text/plain": [
                            "\u001b[31m╭─\u001b[0m\u001b[31m──────────────────────────────\u001b[0m\u001b[31m \u001b[0m\u001b[1;31mTraceback \u001b[0m\u001b[1;2;31m(most recent call last)\u001b[0m\u001b[31m \u001b[0m\u001b[31m───────────────────────────────\u001b[0m\u001b[31m─╮\u001b[0m\n",
                            "\u001b[31m│\u001b[0m \u001b[2;33m/var/folders/46/q15p556n1dd63z6gkwyh896c0000gn/T/ipykernel_986/\u001b[0m\u001b[1;33m3767229632.py\u001b[0m:\u001b[94m1\u001b[0m in \u001b[92m<module>\u001b[0m       \u001b[31m│\u001b[0m\n",
                            "\u001b[31m│\u001b[0m                                                                                                  \u001b[31m│\u001b[0m\n",
                            "\u001b[31m│\u001b[0m \u001b[3;31m[Errno 2] No such file or directory: \u001b[0m                                                            \u001b[31m│\u001b[0m\n",
                            "\u001b[31m│\u001b[0m \u001b[3;31m'/var/folders/46/q15p556n1dd63z6gkwyh896c0000gn/T/ipykernel_986/3767229632.py'\u001b[0m                   \u001b[31m│\u001b[0m\n",
                            "\u001b[31m╰──────────────────────────────────────────────────────────────────────────────────────────────────╯\u001b[0m\n",
                            "\u001b[1;91mAssertionError: \u001b[0mERORR: LENGTH OF DF = \u001b[1;36m0\u001b[0m\n"
                        ]
                    },
                    "metadata": {},
                    "output_type": "display_data"
                }
            ],
            "source": [
                "assert len(df_jobs) > 0 and isinstance(df_jobs, pd.DataFrame), f'ERORR: LENGTH OF DF = {len(df_jobs)}'\n",
                "df_jobs.to_pickle(f'{df_save_dir}df_jobs_sentencized.pkl')\n",
                "df_jobs.to_csv(f'{df_save_dir}df_jobs_sentencized.csv', index=False)\n"
            ]
        },
        {
            "cell_type": "code",
            "execution_count": null,
            "metadata": {},
            "outputs": [],
            "source": []
        }
    ],
    "metadata": {
        "kernelspec": {
            "display_name": "study1_3.10",
            "language": "python",
            "name": "python3"
        },
        "language_info": {
            "codemirror_mode": {
                "name": "ipython",
                "version": 3
            },
            "file_extension": ".py",
            "mimetype": "text/x-python",
            "name": "python",
            "nbconvert_exporter": "python",
            "pygments_lexer": "ipython3",
            "version": "3.10.10"
        },
        "varInspector": {
            "cols": {
                "lenName": 16,
                "lenType": 16,
                "lenVar": 40
            },
            "kernels_config": {
                "python": {
                    "delete_cmd_postfix": "",
                    "delete_cmd_prefix": "del ",
                    "library": "var_list.py",
                    "varRefreshCmd": "print(var_dic_list())"
                },
                "r": {
                    "delete_cmd_postfix": ") ",
                    "delete_cmd_prefix": "rm(",
                    "library": "var_list.r",
                    "varRefreshCmd": "cat(var_dic_list()) "
                }
            },
            "types_to_exclude": [
                "module",
                "function",
                "builtin_function_or_method",
                "instance",
                "_Feature"
            ],
            "window_display": false
        },
        "widgets": {
            "application/vnd.jupyter.widget-state+json": {
                "state": {},
                "version_major": 2,
                "version_minor": 0
            }
        }
    },
    "nbformat": 4,
    "nbformat_minor": 4
}
