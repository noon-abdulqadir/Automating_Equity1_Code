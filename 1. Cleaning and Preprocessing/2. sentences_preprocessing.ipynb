{
    "cells": [
        {
            "cell_type": "markdown",
            "metadata": {},
            "source": [
                "# ATTN: This script should be run AFTER language detection is completed."
            ]
        },
        {
            "cell_type": "markdown",
            "metadata": {},
            "source": [
                "# Drop non-English job descriptions"
            ]
        },
        {
            "cell_type": "markdown",
            "metadata": {},
            "source": [
                "### START HERE IF SOURCING FROM DF_JOBS_RAW_LANGUAGE_DETECTED\n",
                "### PLEASE SET CORRECT DIRECTORY PATHS BELOW\n"
            ]
        },
        {
            "cell_type": "code",
            "execution_count": 1,
            "metadata": {},
            "outputs": [],
            "source": [
                "import os # type:ignore # isort:skip # fmt:skip # noqa # nopep8\n",
                "import sys # type:ignore # isort:skip # fmt:skip # noqa # nopep8\n",
                "from pathlib import Path # type:ignore # isort:skip # fmt:skip # noqa # nopep8\n",
                "\n",
                "mod = sys.modules[__name__]\n",
                "\n",
                "code_dir = None\n",
                "code_dir_name = 'Code'\n",
                "unwanted_subdir_name = 'Analysis'\n",
                "\n",
                "for _ in range(5):\n",
                "\n",
                "    parent_path = str(Path.cwd().parents[_]).split('/')[-1]\n",
                "\n",
                "    if (code_dir_name in parent_path) and (unwanted_subdir_name not in parent_path):\n",
                "\n",
                "        code_dir = str(Path.cwd().parents[_])\n",
                "\n",
                "        if code_dir is not None:\n",
                "            break\n",
                "\n",
                "sys.path.append(code_dir)\n",
                "# %load_ext autoreload\n",
                "# %autoreload 2\n"
            ]
        },
        {
            "cell_type": "code",
            "execution_count": 2,
            "metadata": {},
            "outputs": [
                {
                    "name": "stdout",
                    "output_type": "stream",
                    "text": [
                        "Using MPS\n"
                    ]
                },
                {
                    "data": {
                        "application/vnd.jupyter.widget-view+json": {
                            "model_id": "f575b1d0ce1845f8b740f9076cffcf5d",
                            "version_major": 2,
                            "version_minor": 0
                        },
                        "text/plain": [
                            "0it [00:00, ?it/s]"
                        ]
                    },
                    "metadata": {},
                    "output_type": "display_data"
                },
                {
                    "data": {
                        "text/plain": [
                            "<Figure size 640x480 with 0 Axes>"
                        ]
                    },
                    "metadata": {},
                    "output_type": "display_data"
                }
            ],
            "source": [
                "from setup_module.imports import * # type:ignore # isort:skip # fmt:skip # noqa # nopep8\n"
            ]
        },
        {
            "cell_type": "code",
            "execution_count": 3,
            "metadata": {},
            "outputs": [],
            "source": [
                "df_jobs = pd.read_pickle(f'{df_save_dir}df_jobs_raw_language_detected.pkl')\n"
            ]
        },
        {
            "cell_type": "code",
            "execution_count": 4,
            "metadata": {},
            "outputs": [
                {
                    "name": "stdout",
                    "output_type": "stream",
                    "text": [
                        "<class 'pandas.core.frame.DataFrame'>\n",
                        "RangeIndex: 62577 entries, 0 to 62576\n",
                        "Data columns (total 20 columns):\n",
                        " #   Column             Non-Null Count  Dtype  \n",
                        "---  ------             --------------  -----  \n",
                        " 0   Search Keyword     62577 non-null  object \n",
                        " 1   Platform           62577 non-null  object \n",
                        " 2   Job ID             62577 non-null  object \n",
                        " 3   Job Title          62577 non-null  object \n",
                        " 4   Company Name       62574 non-null  object \n",
                        " 5   Location           62577 non-null  object \n",
                        " 6   Job Description    62577 non-null  object \n",
                        " 7   Rating             3975 non-null   float64\n",
                        " 8   Employment Type    61995 non-null  object \n",
                        " 9   Company URL        59263 non-null  object \n",
                        " 10  Job URL            62577 non-null  object \n",
                        " 11  Job Age            62577 non-null  object \n",
                        " 12  Job Age Number     62577 non-null  object \n",
                        " 13  Collection Date    62577 non-null  object \n",
                        " 14  Data Row           58599 non-null  float64\n",
                        " 15  Tracking ID        58599 non-null  object \n",
                        " 16  Industry           59184 non-null  object \n",
                        " 17  Job Date           58602 non-null  object \n",
                        " 18  Type of ownership  582 non-null    object \n",
                        " 19  Language           62577 non-null  object \n",
                        "dtypes: float64(2), object(18)\n",
                        "memory usage: 9.5+ MB\n"
                    ]
                }
            ],
            "source": [
                "# len = 62577\n",
                "df_jobs.info()\n"
            ]
        },
        {
            "cell_type": "code",
            "execution_count": 5,
            "metadata": {},
            "outputs": [
                {
                    "data": {
                        "text/plain": [
                            "nl              44863\n",
                            "en              17591\n",
                            "de                 53\n",
                            "fr                 36\n",
                            "['nl', 'en']        9\n",
                            "['en', 'nl']        8\n",
                            "pl                  5\n",
                            "id                  4\n",
                            "da                  4\n",
                            "tr                  1\n",
                            "['nl', 'af']        1\n",
                            "st                  1\n",
                            "af                  1\n",
                            "Name: Language, dtype: int64"
                        ]
                    },
                    "execution_count": 5,
                    "metadata": {},
                    "output_type": "execute_result"
                }
            ],
            "source": [
                "# nl = 44863, en = 17591, ['en', 'nl'] = 8, ['nl', 'en'] = 9\n",
                "df_jobs['Language'].value_counts()\n"
            ]
        },
        {
            "cell_type": "code",
            "execution_count": 6,
            "metadata": {},
            "outputs": [
                {
                    "data": {
                        "application/vnd.jupyter.widget-view+json": {
                            "model_id": "35199c14106e4402bf43fd9e852701eb",
                            "version_major": 2,
                            "version_minor": 0
                        },
                        "text/plain": [
                            "progress-bar:   0%|          | 0/62577 [00:00<?, ?it/s]"
                        ]
                    },
                    "metadata": {},
                    "output_type": "display_data"
                },
                {
                    "name": "stdout",
                    "output_type": "stream",
                    "text": [
                        "CPU times: user 58.2 ms, sys: 4.9 ms, total: 63.1 ms\n",
                        "Wall time: 64.2 ms\n"
                    ]
                }
            ],
            "source": [
                "%%time\n",
                "# The majority of ['en', 'nl'] labeled job descriptions contain mostly English\n",
                "df_jobs['Language'] = df_jobs['Language'].progress_apply(\n",
                "    lambda lang: 'en' if lang == \"['en', 'nl']\" else lang\n",
                ")\n"
            ]
        },
        {
            "cell_type": "code",
            "execution_count": 7,
            "metadata": {},
            "outputs": [],
            "source": [
                "# Drop non-English ads\n",
                "df_jobs = df_jobs.drop(\n",
                "    df_jobs[\n",
                "        df_jobs['Language'] != 'en'\n",
                "    ].index, \n",
                "        axis='index', \n",
                ")\n"
            ]
        },
        {
            "cell_type": "code",
            "execution_count": 8,
            "metadata": {},
            "outputs": [
                {
                    "data": {
                        "text/plain": [
                            "17599"
                        ]
                    },
                    "execution_count": 8,
                    "metadata": {},
                    "output_type": "execute_result"
                }
            ],
            "source": [
                "# 17599\n",
                "len(df_jobs)\n"
            ]
        },
        {
            "cell_type": "code",
            "execution_count": 9,
            "metadata": {},
            "outputs": [],
            "source": [
                "assert len(df_jobs) > 0 and isinstance(df_jobs, pd.DataFrame), f'ERORR: LENGTH OF DF = {len(df_jobs)}'\n",
                "df_jobs.to_pickle(f'{df_save_dir}df_jobs_raw_english_only.pkl')\n",
                "df_jobs.to_csv(f'{df_save_dir}df_jobs_raw_english_only.csv', index=False)\n"
            ]
        },
        {
            "cell_type": "markdown",
            "metadata": {},
            "source": [
                "# Fix abbreviations in job descriptions"
            ]
        },
        {
            "cell_type": "markdown",
            "metadata": {},
            "source": [
                "### START HERE IF SOURCING FROM DF_JOBS_RAW_ENGLISH_ONLY\n",
                "### PLEASE SET CORRECT DIRECTORY PATHS BELOW\n"
            ]
        },
        {
            "cell_type": "code",
            "execution_count": 10,
            "metadata": {},
            "outputs": [],
            "source": [
                "import os # type:ignore # isort:skip # fmt:skip # noqa # nopep8\n",
                "import sys # type:ignore # isort:skip # fmt:skip # noqa # nopep8\n",
                "from pathlib import Path # type:ignore # isort:skip # fmt:skip # noqa # nopep8\n",
                "\n",
                "mod = sys.modules[__name__]\n",
                "\n",
                "code_dir = None\n",
                "code_dir_name = 'Code'\n",
                "unwanted_subdir_name = 'Analysis'\n",
                "\n",
                "for _ in range(5):\n",
                "\n",
                "    parent_path = str(Path.cwd().parents[_]).split('/')[-1]\n",
                "\n",
                "    if (code_dir_name in parent_path) and (unwanted_subdir_name not in parent_path):\n",
                "\n",
                "        code_dir = str(Path.cwd().parents[_])\n",
                "\n",
                "        if code_dir is not None:\n",
                "            break\n",
                "\n",
                "sys.path.append(code_dir)\n",
                "# %load_ext autoreload\n",
                "# %autoreload 2\n"
            ]
        },
        {
            "cell_type": "code",
            "execution_count": 11,
            "metadata": {},
            "outputs": [],
            "source": [
                "from setup_module.imports import * # type:ignore # isort:skip # fmt:skip # noqa # nopep8\n"
            ]
        },
        {
            "cell_type": "code",
            "execution_count": 12,
            "metadata": {},
            "outputs": [],
            "source": [
                "df_jobs = pd.read_pickle(f'{df_save_dir}df_jobs_raw_english_only.pkl')\n"
            ]
        },
        {
            "cell_type": "code",
            "execution_count": 13,
            "metadata": {},
            "outputs": [
                {
                    "name": "stdout",
                    "output_type": "stream",
                    "text": [
                        "<class 'pandas.core.frame.DataFrame'>\n",
                        "Int64Index: 17599 entries, 0 to 62535\n",
                        "Data columns (total 20 columns):\n",
                        " #   Column             Non-Null Count  Dtype  \n",
                        "---  ------             --------------  -----  \n",
                        " 0   Search Keyword     17599 non-null  object \n",
                        " 1   Platform           17599 non-null  object \n",
                        " 2   Job ID             17599 non-null  object \n",
                        " 3   Job Title          17599 non-null  object \n",
                        " 4   Company Name       17597 non-null  object \n",
                        " 5   Location           17599 non-null  object \n",
                        " 6   Job Description    17599 non-null  object \n",
                        " 7   Rating             3780 non-null   float64\n",
                        " 8   Employment Type    17017 non-null  object \n",
                        " 9   Company URL        15959 non-null  object \n",
                        " 10  Job URL            17599 non-null  object \n",
                        " 11  Job Age            17599 non-null  object \n",
                        " 12  Job Age Number     17599 non-null  object \n",
                        " 13  Collection Date    17599 non-null  object \n",
                        " 14  Data Row           13816 non-null  float64\n",
                        " 15  Tracking ID        13816 non-null  object \n",
                        " 16  Industry           14401 non-null  object \n",
                        " 17  Job Date           13819 non-null  object \n",
                        " 18  Type of ownership  582 non-null    object \n",
                        " 19  Language           17599 non-null  object \n",
                        "dtypes: float64(2), object(18)\n",
                        "memory usage: 2.8+ MB\n"
                    ]
                }
            ],
            "source": [
                "# len = 17599\n",
                "df_jobs.info()\n"
            ]
        },
        {
            "cell_type": "code",
            "execution_count": 14,
            "metadata": {},
            "outputs": [
                {
                    "data": {
                        "application/vnd.jupyter.widget-view+json": {
                            "model_id": "f70d34a4031342f69c20ae657568d155",
                            "version_major": 2,
                            "version_minor": 0
                        },
                        "text/plain": [
                            "progress-bar:   0%|          | 0/17599 [00:00<?, ?it/s]"
                        ]
                    },
                    "metadata": {},
                    "output_type": "display_data"
                }
            ],
            "source": [
                "df_jobs['Job Description'] = df_jobs.loc[df_jobs['Job Description'].notnull(), 'Job Description'].progress_apply(\n",
                "    lambda job_description: ' '.join(job_description.split('/')) if '/' in job_description else job_description\n",
                ")\n"
            ]
        },
        {
            "cell_type": "code",
            "execution_count": 15,
            "metadata": {},
            "outputs": [],
            "source": [
                "abb_dict = {\n",
                "    r'incl\\.': 'including', \n",
                "    r'e\\.g\\.': 'for example', \n",
                "    r'e\\.g': 'for example', \n",
                "    r'etc\\.': 'et cetera', \n",
                "}\n"
            ]
        },
        {
            "cell_type": "code",
            "execution_count": 16,
            "metadata": {},
            "outputs": [
                {
                    "name": "stdout",
                    "output_type": "stream",
                    "text": [
                        "CPU times: user 243 ms, sys: 3.24 ms, total: 246 ms\n",
                        "Wall time: 246 ms\n"
                    ]
                }
            ],
            "source": [
                "%%time\n",
                "df_jobs['Job Description'] = df_jobs['Job Description'].replace(abb_dict, regex=True)\n"
            ]
        },
        {
            "cell_type": "code",
            "execution_count": 17,
            "metadata": {},
            "outputs": [],
            "source": [
                "assert len(df_jobs) > 0 and isinstance(df_jobs, pd.DataFrame), f'ERORR: LENGTH OF DF = {len(df_jobs)}'\n",
                "df_jobs.to_pickle(f'{df_save_dir}df_jobs_raw_fixed_abbreviations.pkl')\n",
                "df_jobs.to_csv(f'{df_save_dir}df_jobs_raw_fixed_abbreviations.csv', index=False)\n"
            ]
        },
        {
            "attachments": {},
            "cell_type": "markdown",
            "metadata": {},
            "source": [
                "# Add English and Dutch language requirement columns"
            ]
        },
        {
            "cell_type": "markdown",
            "metadata": {},
            "source": [
                "### START HERE IF SOURCING FROM DF_JOBS_RAW_FIXED_ABBREVIATIONS\n",
                "### PLEASE SET CORRECT DIRECTORY PATHS BELOW\n"
            ]
        },
        {
            "cell_type": "code",
            "execution_count": 18,
            "metadata": {},
            "outputs": [],
            "source": [
                "import os # type:ignore # isort:skip # fmt:skip # noqa # nopep8\n",
                "import sys # type:ignore # isort:skip # fmt:skip # noqa # nopep8\n",
                "from pathlib import Path # type:ignore # isort:skip # fmt:skip # noqa # nopep8\n",
                "\n",
                "mod = sys.modules[__name__]\n",
                "\n",
                "code_dir = None\n",
                "code_dir_name = 'Code'\n",
                "unwanted_subdir_name = 'Analysis'\n",
                "\n",
                "for _ in range(5):\n",
                "\n",
                "    parent_path = str(Path.cwd().parents[_]).split('/')[-1]\n",
                "\n",
                "    if (code_dir_name in parent_path) and (unwanted_subdir_name not in parent_path):\n",
                "\n",
                "        code_dir = str(Path.cwd().parents[_])\n",
                "\n",
                "        if code_dir is not None:\n",
                "            break\n",
                "\n",
                "sys.path.append(code_dir)\n",
                "# %load_ext autoreload\n",
                "# %autoreload 2\n"
            ]
        },
        {
            "cell_type": "code",
            "execution_count": 19,
            "metadata": {},
            "outputs": [],
            "source": [
                "from setup_module.imports import * # type:ignore # isort:skip # fmt:skip # noqa # nopep8\n"
            ]
        },
        {
            "cell_type": "code",
            "execution_count": 20,
            "metadata": {},
            "outputs": [],
            "source": [
                "df_jobs = pd.read_pickle(f'{df_save_dir}df_jobs_raw_fixed_abbreviations.pkl')\n"
            ]
        },
        {
            "cell_type": "code",
            "execution_count": 21,
            "metadata": {},
            "outputs": [
                {
                    "name": "stdout",
                    "output_type": "stream",
                    "text": [
                        "<class 'pandas.core.frame.DataFrame'>\n",
                        "Int64Index: 17599 entries, 0 to 62535\n",
                        "Data columns (total 20 columns):\n",
                        " #   Column             Non-Null Count  Dtype  \n",
                        "---  ------             --------------  -----  \n",
                        " 0   Search Keyword     17599 non-null  object \n",
                        " 1   Platform           17599 non-null  object \n",
                        " 2   Job ID             17599 non-null  object \n",
                        " 3   Job Title          17599 non-null  object \n",
                        " 4   Company Name       17597 non-null  object \n",
                        " 5   Location           17599 non-null  object \n",
                        " 6   Job Description    17599 non-null  object \n",
                        " 7   Rating             3780 non-null   float64\n",
                        " 8   Employment Type    17017 non-null  object \n",
                        " 9   Company URL        15959 non-null  object \n",
                        " 10  Job URL            17599 non-null  object \n",
                        " 11  Job Age            17599 non-null  object \n",
                        " 12  Job Age Number     17599 non-null  object \n",
                        " 13  Collection Date    17599 non-null  object \n",
                        " 14  Data Row           13816 non-null  float64\n",
                        " 15  Tracking ID        13816 non-null  object \n",
                        " 16  Industry           14401 non-null  object \n",
                        " 17  Job Date           13819 non-null  object \n",
                        " 18  Type of ownership  582 non-null    object \n",
                        " 19  Language           17599 non-null  object \n",
                        "dtypes: float64(2), object(18)\n",
                        "memory usage: 2.8+ MB\n"
                    ]
                }
            ],
            "source": [
                "df_jobs.info()\n"
            ]
        },
        {
            "cell_type": "code",
            "execution_count": 22,
            "metadata": {},
            "outputs": [
                {
                    "name": "stdout",
                    "output_type": "stream",
                    "text": [
                        "CPU times: user 4.47 s, sys: 88.2 ms, total: 4.56 s\n",
                        "Wall time: 4.72 s\n"
                    ]
                }
            ],
            "source": [
                "%%time\n",
                "# Add language requirement column\n",
                "# Use regex to find language requirement\n",
                "dutch_requirement_pattern = r'[Ll]anguage: [Dd]utch|[Dd]utch [Pp]referred|[Dd]utch [Re]quired|[Dd]utch [Ll]anguage|[Pp]roficient in [Dd]utch|[Ss]peak [Dd]utch|[Kk]now [Dd]utch'\n",
                "english_requirement_pattern = r'[Ll]anguage: [Ee]nglish|[Ee]nglish [Pp]referred|[Ee]nglish [Re]quired|[Ee]nglish [Ll]anguage|[Pp]roficient in [Ee]nglish|[Ss]peak [Ee]nglish|[Kk]now [Ee]nglish'\n",
                "\n",
                "lang_requirements = {\n",
                "    'Dutch Requirement': dutch_requirement_pattern, 'English Requirement': english_requirement_pattern\n",
                "}\n",
                "\n",
                "for lang_req, lang_req_pattern in lang_requirements.items():\n",
                "\n",
                "    if lang_req in df_jobs.columns:\n",
                "        df_jobs = df_jobs.drop(columns=[lang_req])\n",
                "    df_jobs[lang_req] = np.where(\n",
                "        df_jobs['Job Description'].str.contains(lang_req_pattern),\n",
                "        'Yes',\n",
                "        'No',\n",
                "    )\n",
                "    df_jobs[lang_req] = df_jobs[lang_req].astype('category').cat.reorder_categories(['No', 'Yes'], ordered=True)\n",
                "    df_jobs[lang_req] = pd.Categorical(df_jobs[lang_req], categories=['No', 'Yes'], ordered=True)\n",
                "\n",
                "assert len(df_jobs) > 0 and isinstance(df_jobs, pd.DataFrame), f'ERORR: LENGTH OF DF = {len(df_jobs)}'\n",
                "df_jobs.to_pickle(f'{df_save_dir}df_jobs_raw_language_requirement.pkl')\n",
                "df_jobs.to_csv(f'{df_save_dir}df_jobs_raw_english_requirement.csv', index=False)\n"
            ]
        },
        {
            "cell_type": "code",
            "execution_count": 23,
            "metadata": {},
            "outputs": [
                {
                    "data": {
                        "text/plain": [
                            "No     17364\n",
                            "Yes      235\n",
                            "Name: Dutch Requirement, dtype: int64"
                        ]
                    },
                    "execution_count": 23,
                    "metadata": {},
                    "output_type": "execute_result"
                }
            ],
            "source": [
                "# Yes = 235\n",
                "df_jobs['Dutch Requirement'].value_counts()"
            ]
        },
        {
            "cell_type": "code",
            "execution_count": 24,
            "metadata": {},
            "outputs": [
                {
                    "data": {
                        "text/plain": [
                            "No     17073\n",
                            "Yes      526\n",
                            "Name: English Requirement, dtype: int64"
                        ]
                    },
                    "execution_count": 24,
                    "metadata": {},
                    "output_type": "execute_result"
                }
            ],
            "source": [
                "# Yes = 526\n",
                "df_jobs['English Requirement'].value_counts()\n"
            ]
        },
        {
            "cell_type": "code",
            "execution_count": 25,
            "metadata": {},
            "outputs": [],
            "source": [
                "assert len(df_jobs) > 0 and isinstance(df_jobs, pd.DataFrame), f'ERORR: LENGTH OF DF = {len(df_jobs)}'\n",
                "df_jobs.to_pickle(f'{df_save_dir}df_jobs_raw_language_requirement.pkl')\n",
                "df_jobs.to_csv(f'{df_save_dir}df_jobs_raw_language_requirement.csv', index=False)\n"
            ]
        },
        {
            "cell_type": "markdown",
            "metadata": {},
            "source": [
                "# Add data from Sectors dataframe (see CBS directory under scrapped_data directory)\n"
            ]
        },
        {
            "cell_type": "markdown",
            "metadata": {},
            "source": [
                "### START HERE IF SOURCING FROM DF_JOBS_RAW_LANGUAGE_REQUIREMENT\n",
                "### PLEASE SET CORRECT DIRECTORY PATHS BELOW\n"
            ]
        },
        {
            "cell_type": "code",
            "execution_count": 26,
            "metadata": {},
            "outputs": [],
            "source": [
                "import os # type:ignore # isort:skip # fmt:skip # noqa # nopep8\n",
                "import sys # type:ignore # isort:skip # fmt:skip # noqa # nopep8\n",
                "from pathlib import Path # type:ignore # isort:skip # fmt:skip # noqa # nopep8\n",
                "\n",
                "mod = sys.modules[__name__]\n",
                "\n",
                "code_dir = None\n",
                "code_dir_name = 'Code'\n",
                "unwanted_subdir_name = 'Analysis'\n",
                "\n",
                "for _ in range(5):\n",
                "\n",
                "    parent_path = str(Path.cwd().parents[_]).split('/')[-1]\n",
                "\n",
                "    if (code_dir_name in parent_path) and (unwanted_subdir_name not in parent_path):\n",
                "\n",
                "        code_dir = str(Path.cwd().parents[_])\n",
                "\n",
                "        if code_dir is not None:\n",
                "            break\n",
                "\n",
                "sys.path.append(code_dir)\n",
                "# %load_ext autoreload\n",
                "# %autoreload 2\n"
            ]
        },
        {
            "cell_type": "code",
            "execution_count": 27,
            "metadata": {},
            "outputs": [],
            "source": [
                "from setup_module.imports import * # type:ignore # isort:skip # fmt:skip # noqa # nopep8\n"
            ]
        },
        {
            "cell_type": "code",
            "execution_count": 28,
            "metadata": {},
            "outputs": [],
            "source": [
                "df_jobs = pd.read_pickle(f'{df_save_dir}df_jobs_raw_language_requirement.pkl')\n"
            ]
        },
        {
            "cell_type": "code",
            "execution_count": 29,
            "metadata": {},
            "outputs": [
                {
                    "name": "stdout",
                    "output_type": "stream",
                    "text": [
                        "<class 'pandas.core.frame.DataFrame'>\n",
                        "Int64Index: 17599 entries, 0 to 62535\n",
                        "Data columns (total 22 columns):\n",
                        " #   Column               Non-Null Count  Dtype   \n",
                        "---  ------               --------------  -----   \n",
                        " 0   Search Keyword       17599 non-null  object  \n",
                        " 1   Platform             17599 non-null  object  \n",
                        " 2   Job ID               17599 non-null  object  \n",
                        " 3   Job Title            17599 non-null  object  \n",
                        " 4   Company Name         17597 non-null  object  \n",
                        " 5   Location             17599 non-null  object  \n",
                        " 6   Job Description      17599 non-null  object  \n",
                        " 7   Rating               3780 non-null   float64 \n",
                        " 8   Employment Type      17017 non-null  object  \n",
                        " 9   Company URL          15959 non-null  object  \n",
                        " 10  Job URL              17599 non-null  object  \n",
                        " 11  Job Age              17599 non-null  object  \n",
                        " 12  Job Age Number       17599 non-null  object  \n",
                        " 13  Collection Date      17599 non-null  object  \n",
                        " 14  Data Row             13816 non-null  float64 \n",
                        " 15  Tracking ID          13816 non-null  object  \n",
                        " 16  Industry             14401 non-null  object  \n",
                        " 17  Job Date             13819 non-null  object  \n",
                        " 18  Type of ownership    582 non-null    object  \n",
                        " 19  Language             17599 non-null  object  \n",
                        " 20  Dutch Requirement    17599 non-null  category\n",
                        " 21  English Requirement  17599 non-null  category\n",
                        "dtypes: category(2), float64(2), object(18)\n",
                        "memory usage: 2.9+ MB\n"
                    ]
                }
            ],
            "source": [
                "df_jobs.info()\n"
            ]
        },
        {
            "cell_type": "code",
            "execution_count": 30,
            "metadata": {},
            "outputs": [],
            "source": [
                "df_sectors = pd.read_pickle(f'{scraped_data}CBS/Data/Sectors Output from script.pkl')\n"
            ]
        },
        {
            "cell_type": "code",
            "execution_count": 31,
            "metadata": {},
            "outputs": [
                {
                    "data": {
                        "text/plain": [
                            "MultiIndex([('SBI Sector Titles', 'Industry class / branch (SIC2008)',                   'Code'),\n",
                            "            ('SBI Sector Titles', 'Industry class / branch (SIC2008)',            'Sector Name'),\n",
                            "            ('SBI Sector Titles', 'Industry class / branch (SIC2008)',               'Keywords'),\n",
                            "            ('SBI Sector Titles', 'Industry class / branch (SIC2008)',         'Keywords Count'),\n",
                            "            (           'Gender',                            'Female',                      'n'),\n",
                            "            (           'Gender',                            'Female',           '% per Sector'),\n",
                            "            (           'Gender',                            'Female',  '% per Social Category'),\n",
                            "            (           'Gender',                            'Female',        '% per Workforce'),\n",
                            "            (           'Gender',                              'Male',                      'n'),\n",
                            "            (           'Gender',                              'Male',           '% per Sector'),\n",
                            "            (           'Gender',                              'Male',  '% per Social Category'),\n",
                            "            (           'Gender',                              'Male',        '% per Workforce'),\n",
                            "            (           'Gender',       'Sectoral Gender Segregation',      'Dominant Category'),\n",
                            "            (              'Age',               'Older (>= 45 years)',                      'n'),\n",
                            "            (              'Age',               'Older (>= 45 years)',           '% per Sector'),\n",
                            "            (              'Age',               'Older (>= 45 years)',  '% per Social Category'),\n",
                            "            (              'Age',               'Older (>= 45 years)',        '% per Workforce'),\n",
                            "            (              'Age',              'Younger (< 45 years)',                      'n'),\n",
                            "            (              'Age',              'Younger (< 45 years)',           '% per Sector'),\n",
                            "            (              'Age',              'Younger (< 45 years)',  '% per Social Category'),\n",
                            "            (              'Age',              'Younger (< 45 years)',        '% per Workforce'),\n",
                            "            (              'Age',          'Sectoral Age Segregation',      'Dominant Category'),\n",
                            "            (  'Total Workforce',                   'Total Workforce',                      'n'),\n",
                            "            (  'Total Workforce',                   'Total Workforce', '% Sector per Workforce')],\n",
                            "           names=['Variables', 'Categories', 'Counts'])"
                        ]
                    },
                    "execution_count": 31,
                    "metadata": {},
                    "output_type": "execute_result"
                }
            ],
            "source": [
                "df_sectors.columns\n"
            ]
        },
        {
            "cell_type": "code",
            "execution_count": 32,
            "metadata": {},
            "outputs": [],
            "source": [
                "df_sectors.columns = [\n",
                "    '_'.join(col) \n",
                "    if 'SBI Sector Titles' not in col \n",
                "    and 'Total Workforce' not in col \n",
                "    else col[-1] \n",
                "    for col in df_sectors.columns\n",
                "]\n"
            ]
        },
        {
            "cell_type": "code",
            "execution_count": 33,
            "metadata": {},
            "outputs": [],
            "source": [
                "df_sectors = df_sectors.rename(\n",
                "    columns={\n",
                "        'Keywords': 'Search Keyword', \n",
                "        'Code': 'Sector Code', \n",
                "        'Sector Name': 'Sector', \n",
                "        'Gender_Sectoral Gender Segregation_Dominant Category': 'Gender', \n",
                "        'Age_Sectoral Age Segregation_Dominant Category': 'Age', \n",
                "        'n': 'Sector_n', \n",
                "    },\n",
                ")\n",
                "df_sectors = df_sectors.rename(columns={element: re.sub(r' \\(\\W*45 years\\)', '', element) for element in df_sectors.columns.tolist()})\n"
            ]
        },
        {
            "cell_type": "code",
            "execution_count": 34,
            "metadata": {},
            "outputs": [
                {
                    "data": {
                        "text/plain": [
                            "Index(['Sector Code', 'Sector', 'Search Keyword', 'Keywords Count', 'Gender_Female_n', 'Gender_Female_% per Sector', 'Gender_Female_% per Social Category', 'Gender_Female_% per Workforce', 'Gender_Male_n', 'Gender_Male_% per Sector', 'Gender_Male_% per Social Category', 'Gender_Male_% per Workforce', 'Gender', 'Age_Older_n', 'Age_Older_% per Sector', 'Age_Older_% per Social Category', 'Age_Older_% per Workforce', 'Age_Younger_n', 'Age_Younger_% per Sector', 'Age_Younger_% per Social Category', 'Age_Younger_% per Workforce', 'Age', 'Sector_n', '% Sector per Workforce'], dtype='object')"
                        ]
                    },
                    "execution_count": 34,
                    "metadata": {},
                    "output_type": "execute_result"
                }
            ],
            "source": [
                "df_sectors.columns"
            ]
        },
        {
            "cell_type": "code",
            "execution_count": 35,
            "metadata": {},
            "outputs": [],
            "source": [
                "df_sectors = df_sectors.explode(\n",
                "    'Search Keyword', ignore_index=True\n",
                ")\n"
            ]
        },
        {
            "cell_type": "code",
            "execution_count": 36,
            "metadata": {},
            "outputs": [
                {
                    "data": {
                        "text/plain": [
                            "Index(['Sector Code', 'Sector', 'Search Keyword', 'Keywords Count', 'Gender_Female_n', 'Gender_Female_% per Sector', 'Gender_Female_% per Social Category', 'Gender_Female_% per Workforce', 'Gender_Male_n', 'Gender_Male_% per Sector', 'Gender_Male_% per Social Category', 'Gender_Male_% per Workforce', 'Gender', 'Age_Older_n', 'Age_Older_% per Sector', 'Age_Older_% per Social Category', 'Age_Older_% per Workforce', 'Age_Younger_n', 'Age_Younger_% per Sector', 'Age_Younger_% per Social Category', 'Age_Younger_% per Workforce', 'Age', 'Sector_n', '% Sector per Workforce'], dtype='object')"
                        ]
                    },
                    "execution_count": 36,
                    "metadata": {},
                    "output_type": "execute_result"
                }
            ],
            "source": [
                "df_sectors.columns"
            ]
        },
        {
            "cell_type": "code",
            "execution_count": 37,
            "metadata": {},
            "outputs": [
                {
                    "data": {
                        "text/plain": [
                            "101"
                        ]
                    },
                    "execution_count": 37,
                    "metadata": {},
                    "output_type": "execute_result"
                }
            ],
            "source": [
                "# len 101\n",
                "len(df_sectors)\n"
            ]
        },
        {
            "cell_type": "markdown",
            "metadata": {},
            "source": [
                "#### Before adding sector data, make sure keywords are correct as to not have any missing sector data when merging"
            ]
        },
        {
            "cell_type": "code",
            "execution_count": 38,
            "metadata": {},
            "outputs": [],
            "source": [
                "# This is a manually collected dictionary of incorrect/faulty keywords in scraped site data\n",
                "with open(f'{scraped_data}CBS/Data/keyword_trans_dict.txt') as f:\n",
                "    keyword_trans_dict = json.load(f)\n",
                "\n",
                "def fix_keywords(df_temp):\n",
                "\n",
                "    if len(df_temp) > 0 and isinstance(df_temp, pd.DataFrame):\n",
                "        for key, value in keyword_trans_dict.items():\n",
                "            df_temp.loc[\n",
                "                df_temp[df_temp['Search Keyword'].notnull()]['Search Keyword'].astype(str).progress_apply(\n",
                "                lambda x: x.lower().strip()\n",
                "                ) == str(key).lower().strip(), 'Search Keyword'\n",
                "            ] = str(value).lower().strip()\n",
                "\n",
                "        unfixed = df_temp.loc[\n",
                "            df_temp[df_temp['Search Keyword'].notnull()]['Search Keyword'].astype(str).progress_apply(lambda x: x.lower().strip()).isin([x.lower().strip() for x in list(keyword_trans_dict.keys())])\n",
                "        ]\n",
                "\n",
                "        if len(unfixed) != 0:\n",
                "            for key, value in keyword_trans_dict.items():\n",
                "                for idx, row in df_temp.iterrows():\n",
                "                    if row['Search Keyword'].astype(str).lower().strip() == str(key).lower().strip():\n",
                "                        df_temp.loc[idx, 'Search Keyword'] = str(value).lower().strip()\n",
                "    \n",
                "        unfixed = df_temp.loc[\n",
                "                df_temp[df_temp['Search Keyword'].notnull()]['Search Keyword'].astype(str).progress_apply(lambda x: x.lower().strip()).isin([x.lower().strip() for x in list(keyword_trans_dict.keys())])\n",
                "            ]\n",
                "        if len(unfixed) != 0:\n",
                "            print('Some keywords were not fixed. Please check file unfixed_keywords.txt in data directory.')\n",
                "            with open(f'{data_dir}unfixed_keywords.txt', 'w') as f:\n",
                "                json.dump(unfixed, f)\n",
                "    \n",
                "    return df_temp\n",
                "\n",
                "# Fix keywords\n",
                "if len(df_jobs['Search Keyword'].loc[df_jobs['Search Keyword'].isin(list(keyword_trans_dict.keys()))]) != 0:\n",
                "    print('Some search keywords did not match a sector. Fixing')\n",
                "#     print(set(df_jobs['Search Keyword'].loc[df_jobs['Sector'].isna()].to_list()))\n",
                "    print(len(df_jobs['Search Keyword'].loc[df_jobs['Search Keyword'].isin(list(keyword_trans_dict.keys()))]))\n",
                "    df_jobs = fix_keywords(df_jobs)\n",
                "#     print(set(df_jobs['Search Keyword'].loc[df_jobs['Sector'].isna()].to_list()))\n",
                "    print(len(df_jobs['Search Keyword'].loc[df_jobs['Search Keyword'].isin(list(keyword_trans_dict.keys()))]))\n"
            ]
        },
        {
            "cell_type": "code",
            "execution_count": 39,
            "metadata": {},
            "outputs": [],
            "source": [
                "df_jobs = df_jobs.merge(df_sectors, on='Search Keyword', how='left')\n"
            ]
        },
        {
            "cell_type": "code",
            "execution_count": 40,
            "metadata": {},
            "outputs": [
                {
                    "data": {
                        "text/plain": [
                            "17599"
                        ]
                    },
                    "execution_count": 40,
                    "metadata": {},
                    "output_type": "execute_result"
                }
            ],
            "source": [
                "# 17599\n",
                "len(df_jobs)\n"
            ]
        },
        {
            "cell_type": "code",
            "execution_count": 41,
            "metadata": {},
            "outputs": [
                {
                    "name": "stdout",
                    "output_type": "stream",
                    "text": [
                        "<class 'pandas.core.frame.DataFrame'>\n",
                        "Int64Index: 17599 entries, 0 to 17598\n",
                        "Data columns (total 45 columns):\n",
                        " #   Column                               Non-Null Count  Dtype   \n",
                        "---  ------                               --------------  -----   \n",
                        " 0   Search Keyword                       17599 non-null  object  \n",
                        " 1   Platform                             17599 non-null  object  \n",
                        " 2   Job ID                               17599 non-null  object  \n",
                        " 3   Job Title                            17599 non-null  object  \n",
                        " 4   Company Name                         17597 non-null  object  \n",
                        " 5   Location                             17599 non-null  object  \n",
                        " 6   Job Description                      17599 non-null  object  \n",
                        " 7   Rating                               3780 non-null   float64 \n",
                        " 8   Employment Type                      17017 non-null  object  \n",
                        " 9   Company URL                          15959 non-null  object  \n",
                        " 10  Job URL                              17599 non-null  object  \n",
                        " 11  Job Age                              17599 non-null  object  \n",
                        " 12  Job Age Number                       17599 non-null  object  \n",
                        " 13  Collection Date                      17599 non-null  object  \n",
                        " 14  Data Row                             13816 non-null  float64 \n",
                        " 15  Tracking ID                          13816 non-null  object  \n",
                        " 16  Industry                             14401 non-null  object  \n",
                        " 17  Job Date                             13819 non-null  object  \n",
                        " 18  Type of ownership                    582 non-null    object  \n",
                        " 19  Language                             17599 non-null  object  \n",
                        " 20  Dutch Requirement                    17599 non-null  category\n",
                        " 21  English Requirement                  17599 non-null  category\n",
                        " 22  Sector Code                          17599 non-null  object  \n",
                        " 23  Sector                               17599 non-null  object  \n",
                        " 24  Keywords Count                       17599 non-null  float64 \n",
                        " 25  Gender_Female_n                      17599 non-null  float64 \n",
                        " 26  Gender_Female_% per Sector           17599 non-null  float64 \n",
                        " 27  Gender_Female_% per Social Category  17599 non-null  float64 \n",
                        " 28  Gender_Female_% per Workforce        17599 non-null  float64 \n",
                        " 29  Gender_Male_n                        17599 non-null  float64 \n",
                        " 30  Gender_Male_% per Sector             17599 non-null  float64 \n",
                        " 31  Gender_Male_% per Social Category    17599 non-null  float64 \n",
                        " 32  Gender_Male_% per Workforce          17599 non-null  float64 \n",
                        " 33  Gender                               17599 non-null  object  \n",
                        " 34  Age_Older_n                          17599 non-null  float64 \n",
                        " 35  Age_Older_% per Sector               17599 non-null  float64 \n",
                        " 36  Age_Older_% per Social Category      17599 non-null  float64 \n",
                        " 37  Age_Older_% per Workforce            17599 non-null  float64 \n",
                        " 38  Age_Younger_n                        17599 non-null  float64 \n",
                        " 39  Age_Younger_% per Sector             17599 non-null  float64 \n",
                        " 40  Age_Younger_% per Social Category    17599 non-null  float64 \n",
                        " 41  Age_Younger_% per Workforce          17599 non-null  float64 \n",
                        " 42  Age                                  17599 non-null  object  \n",
                        " 43  Sector_n                             17599 non-null  float64 \n",
                        " 44  % Sector per Workforce               17599 non-null  float64 \n",
                        "dtypes: category(2), float64(21), object(22)\n",
                        "memory usage: 5.9+ MB\n"
                    ]
                }
            ],
            "source": [
                "df_jobs.info()\n"
            ]
        },
        {
            "cell_type": "markdown",
            "metadata": {},
            "source": [
                "#### Check if there is any missing sector data in the merged dataframe"
            ]
        },
        {
            "cell_type": "code",
            "execution_count": 42,
            "metadata": {},
            "outputs": [
                {
                    "data": {
                        "text/plain": [
                            "0"
                        ]
                    },
                    "execution_count": 42,
                    "metadata": {},
                    "output_type": "execute_result"
                }
            ],
            "source": [
                "df_jobs['Sector'].isna().sum()"
            ]
        },
        {
            "cell_type": "code",
            "execution_count": 43,
            "metadata": {},
            "outputs": [],
            "source": [
                "if df_jobs['Sector'].isna().sum() != 0:\n",
                "    print('Some search keywords did not match a sector. Fixing')\n",
                "    print(set(df_jobs['Search Keyword'].loc[df_jobs['Sector'].isna()].to_list()))\n",
                "    print(len(df_jobs['Search Keyword'].loc[df_jobs['Search Keyword'].isin(list(keyword_trans_dict.keys()))]))\n",
                "    df_jobs = fix_keywords(df_jobs)\n",
                "    print(set(df_jobs['Search Keyword'].loc[df_jobs['Sector'].isna()].to_list()))\n",
                "    print(len(df_jobs['Search Keyword'].loc[df_jobs['Search Keyword'].isin(list(keyword_trans_dict.keys()))]))\n"
            ]
        },
        {
            "cell_type": "code",
            "execution_count": 44,
            "metadata": {},
            "outputs": [
                {
                    "data": {
                        "text/plain": [
                            "Male      10515\n",
                            "Female     7084\n",
                            "Name: Gender, dtype: int64"
                        ]
                    },
                    "execution_count": 44,
                    "metadata": {},
                    "output_type": "execute_result"
                }
            ],
            "source": [
                "df_jobs['Gender'].value_counts()\n"
            ]
        },
        {
            "cell_type": "code",
            "execution_count": 45,
            "metadata": {},
            "outputs": [
                {
                    "data": {
                        "text/plain": [
                            "Younger    9965\n",
                            "Older      7634\n",
                            "Name: Age, dtype: int64"
                        ]
                    },
                    "execution_count": 45,
                    "metadata": {},
                    "output_type": "execute_result"
                }
            ],
            "source": [
                "df_jobs['Age'].value_counts()"
            ]
        },
        {
            "cell_type": "code",
            "execution_count": 46,
            "metadata": {},
            "outputs": [],
            "source": [
                "if df_jobs['Sector'].isna().sum() == 0:\n",
                "    assert len(df_jobs) > 0 and isinstance(df_jobs, pd.DataFrame), f'ERORR: LENGTH OF DF = {len(df_jobs)}'\n",
                "    df_jobs.to_pickle(f'{df_save_dir}df_jobs_including_sector_data.pkl')\n",
                "    df_jobs.to_csv(f'{df_save_dir}df_jobs_including_sector_data.csv', index=False)\n",
                "\n",
                "else:\n",
                "    print(f\"MISSING SECTOR DATA: COUNT {df_jobs['Sector'].isna().sum()}\")"
            ]
        },
        {
            "cell_type": "markdown",
            "metadata": {},
            "source": [
                "# Add categorical data\n"
            ]
        },
        {
            "cell_type": "markdown",
            "metadata": {},
            "source": [
                "### START HERE IF SOURCING FROM DF_JOBS_INCLUDING_SECTOR_DATA\n",
                "### PLEASE SET CORRECT DIRECTORY PATHS BELOW\n"
            ]
        },
        {
            "cell_type": "code",
            "execution_count": 47,
            "metadata": {},
            "outputs": [],
            "source": [
                "import os # type:ignore # isort:skip # fmt:skip # noqa # nopep8\n",
                "import sys # type:ignore # isort:skip # fmt:skip # noqa # nopep8\n",
                "from pathlib import Path # type:ignore # isort:skip # fmt:skip # noqa # nopep8\n",
                "\n",
                "mod = sys.modules[__name__]\n",
                "\n",
                "code_dir = None\n",
                "code_dir_name = 'Code'\n",
                "unwanted_subdir_name = 'Analysis'\n",
                "\n",
                "for _ in range(5):\n",
                "\n",
                "    parent_path = str(Path.cwd().parents[_]).split('/')[-1]\n",
                "\n",
                "    if (code_dir_name in parent_path) and (unwanted_subdir_name not in parent_path):\n",
                "\n",
                "        code_dir = str(Path.cwd().parents[_])\n",
                "\n",
                "        if code_dir is not None:\n",
                "            break\n",
                "\n",
                "sys.path.append(code_dir)\n",
                "# %load_ext autoreload\n",
                "# %autoreload 2\n"
            ]
        },
        {
            "cell_type": "code",
            "execution_count": 48,
            "metadata": {},
            "outputs": [],
            "source": [
                "from setup_module.imports import * # type:ignore # isort:skip # fmt:skip # noqa # nopep8\n"
            ]
        },
        {
            "cell_type": "code",
            "execution_count": 107,
            "metadata": {},
            "outputs": [],
            "source": [
                "# Function to order categories\n",
                "def categorize_df_gender_age(df, gender_order=None, age_order=None, ivs=None):\n",
                "    if gender_order is None:\n",
                "        gender_order = ['Female', 'Mixed Gender', 'Male']\n",
                "    if age_order is None:\n",
                "        age_order = ['Older', 'Mixed Age', 'Younger']\n",
                "    if ivs is None:\n",
                "        ivs = ['Gender', 'Age']\n",
                "    # Arrange Categories\n",
                "    for iv in ivs:\n",
                "        if iv == 'Gender':\n",
                "            order = gender_order\n",
                "        elif iv == 'Age':\n",
                "            order = age_order\n",
                "        with contextlib.suppress(ValueError):\n",
                "            df[iv] = df[iv].astype('category').cat.reorder_categories(order, ordered=True)\n",
                "            df[iv] = pd.Categorical(\n",
                "                df[iv], categories=order, ordered=True\n",
                "            )\n",
                "            df[f'{iv}_Num'] = pd.to_numeric(df[iv].cat.codes).astype('int64')\n",
                "\n",
                "    return df\n"
            ]
        },
        {
            "cell_type": "code",
            "execution_count": 50,
            "metadata": {},
            "outputs": [],
            "source": [
                "def get_df_info(df, ivs_all=None):\n",
                "    if ivs_all is None:\n",
                "        ivs_all = [\n",
                "            'Gender',\n",
                "            'Gender_Num',\n",
                "            'Gender_Female',\n",
                "            'Gender_Mixed',\n",
                "            'Gender_Male',\n",
                "            'Age',\n",
                "            'Age_Num',\n",
                "            'Age_Older',\n",
                "            'Age_Mixed',\n",
                "            'Age_Younger',\n",
                "        ]\n",
                "    # Print Info\n",
                "    print('\\nDF INFO:\\n')\n",
                "    df.info()\n",
                "\n",
                "    for iv in ivs_all:\n",
                "        try:\n",
                "            print('='*20)\n",
                "            print(f'{iv}:')\n",
                "            print('-'*20)\n",
                "            if len(df[iv].value_counts()) > 5:\n",
                "                print(f'{iv} Counts:\\n{df[iv].value_counts()}')\n",
                "                print('-'*20)\n",
                "                print(f'{iv} Percentages:\\n{df[iv].value_counts(normalize=True).mul(100).round(1).astype(float)}')\n",
                "                print('-'*20)\n",
                "            min_val = df[iv].min()\n",
                "            max_val = df[iv].max()\n",
                "            if min_val not in [0, 1]:\n",
                "                print(f'Min {iv} value: {min_val}')\n",
                "            if max_val not in [1, 3]:\n",
                "                print(f'Max {iv} value: {max_val}')\n",
                "            with contextlib.suppress(Exception):\n",
                "                print('-'*20)\n",
                "                print(f'{iv} Mean: {df[iv].mean().round(2).astype(float)}')\n",
                "                print('-'*20)\n",
                "                print(f'{iv} Standard Deviation: {df[iv].std().round(2).astype(float)}')\n",
                "        except Exception:\n",
                "            print(f'{iv} not available.')\n",
                "\n",
                "    print('\\n')\n"
            ]
        },
        {
            "cell_type": "code",
            "execution_count": 105,
            "metadata": {},
            "outputs": [],
            "source": [
                "df_jobs = pd.read_pickle(f'{df_save_dir}df_jobs_including_sector_data.pkl')\n"
            ]
        },
        {
            "cell_type": "code",
            "execution_count": 93,
            "metadata": {},
            "outputs": [
                {
                    "name": "stdout",
                    "output_type": "stream",
                    "text": [
                        "<class 'pandas.core.frame.DataFrame'>\n",
                        "Int64Index: 17599 entries, 0 to 17598\n",
                        "Data columns (total 45 columns):\n",
                        " #   Column                               Non-Null Count  Dtype   \n",
                        "---  ------                               --------------  -----   \n",
                        " 0   Search Keyword                       17599 non-null  object  \n",
                        " 1   Platform                             17599 non-null  object  \n",
                        " 2   Job ID                               17599 non-null  object  \n",
                        " 3   Job Title                            17599 non-null  object  \n",
                        " 4   Company Name                         17597 non-null  object  \n",
                        " 5   Location                             17599 non-null  object  \n",
                        " 6   Job Description                      17599 non-null  object  \n",
                        " 7   Rating                               3780 non-null   float64 \n",
                        " 8   Employment Type                      17017 non-null  object  \n",
                        " 9   Company URL                          15959 non-null  object  \n",
                        " 10  Job URL                              17599 non-null  object  \n",
                        " 11  Job Age                              17599 non-null  object  \n",
                        " 12  Job Age Number                       17599 non-null  object  \n",
                        " 13  Collection Date                      17599 non-null  object  \n",
                        " 14  Data Row                             13816 non-null  float64 \n",
                        " 15  Tracking ID                          13816 non-null  object  \n",
                        " 16  Industry                             14401 non-null  object  \n",
                        " 17  Job Date                             13819 non-null  object  \n",
                        " 18  Type of ownership                    582 non-null    object  \n",
                        " 19  Language                             17599 non-null  object  \n",
                        " 20  Dutch Requirement                    17599 non-null  category\n",
                        " 21  English Requirement                  17599 non-null  category\n",
                        " 22  Sector Code                          17599 non-null  object  \n",
                        " 23  Sector                               17599 non-null  object  \n",
                        " 24  Keywords Count                       17599 non-null  float64 \n",
                        " 25  Gender_Female_n                      17599 non-null  float64 \n",
                        " 26  Gender_Female_% per Sector           17599 non-null  float64 \n",
                        " 27  Gender_Female_% per Social Category  17599 non-null  float64 \n",
                        " 28  Gender_Female_% per Workforce        17599 non-null  float64 \n",
                        " 29  Gender_Male_n                        17599 non-null  float64 \n",
                        " 30  Gender_Male_% per Sector             17599 non-null  float64 \n",
                        " 31  Gender_Male_% per Social Category    17599 non-null  float64 \n",
                        " 32  Gender_Male_% per Workforce          17599 non-null  float64 \n",
                        " 33  Gender                               17599 non-null  object  \n",
                        " 34  Age_Older_n                          17599 non-null  float64 \n",
                        " 35  Age_Older_% per Sector               17599 non-null  float64 \n",
                        " 36  Age_Older_% per Social Category      17599 non-null  float64 \n",
                        " 37  Age_Older_% per Workforce            17599 non-null  float64 \n",
                        " 38  Age_Younger_n                        17599 non-null  float64 \n",
                        " 39  Age_Younger_% per Sector             17599 non-null  float64 \n",
                        " 40  Age_Younger_% per Social Category    17599 non-null  float64 \n",
                        " 41  Age_Younger_% per Workforce          17599 non-null  float64 \n",
                        " 42  Age                                  17599 non-null  object  \n",
                        " 43  Sector_n                             17599 non-null  float64 \n",
                        " 44  % Sector per Workforce               17599 non-null  float64 \n",
                        "dtypes: category(2), float64(21), object(22)\n",
                        "memory usage: 5.9+ MB\n"
                    ]
                }
            ],
            "source": [
                "df_jobs.info()\n"
            ]
        },
        {
            "cell_type": "code",
            "execution_count": 94,
            "metadata": {},
            "outputs": [
                {
                    "data": {
                        "text/plain": [
                            "False"
                        ]
                    },
                    "execution_count": 94,
                    "metadata": {},
                    "output_type": "execute_result"
                }
            ],
            "source": [
                "'Gender_Female' in df_jobs.columns.to_list()"
            ]
        },
        {
            "cell_type": "code",
            "execution_count": 95,
            "metadata": {},
            "outputs": [],
            "source": [
                "df_jobs = df_jobs.join(pd.get_dummies(df_jobs[['Gender', 'Age']], dtype='int64'))\n",
                "df_jobs = df_jobs.rename({'Gender_Mixed Gender': 'Gender_Mixed', 'Age_Mixed Age': 'Age_Mixed'}, axis='columns')\n"
            ]
        },
        {
            "cell_type": "code",
            "execution_count": 96,
            "metadata": {},
            "outputs": [
                {
                    "data": {
                        "text/plain": [
                            "Index(['Search Keyword', 'Platform', 'Job ID', 'Job Title', 'Company Name', 'Location', 'Job Description', 'Rating', 'Employment Type', 'Company URL', 'Job URL', 'Job Age', 'Job Age Number', 'Collection Date', 'Data Row', 'Tracking ID', 'Industry', 'Job Date', 'Type of ownership', 'Language', 'Dutch Requirement', 'English Requirement', 'Sector Code', 'Sector', 'Keywords Count', 'Gender_Female_n', 'Gender_Female_% per Sector', 'Gender_Female_% per Social Category', 'Gender_Female_% per Workforce', 'Gender_Male_n', 'Gender_Male_% per Sector', 'Gender_Male_% per Social Category', 'Gender_Male_% per Workforce', 'Gender', 'Age_Older_n', 'Age_Older_% per Sector', 'Age_Older_% per Social Category', 'Age_Older_% per Workforce', 'Age_Younger_n', 'Age_Younger_% per Sector', 'Age_Younger_% per Social Category', 'Age_Younger_% per Workforce', 'Age', 'Sector_n', '% Sector per Workforce', 'Gender_Female', 'Gender_Male', 'Age_Older', 'Age_Younger'], dtype='object')"
                        ]
                    },
                    "execution_count": 96,
                    "metadata": {},
                    "output_type": "execute_result"
                }
            ],
            "source": [
                "df_jobs.columns\n"
            ]
        },
        {
            "cell_type": "code",
            "execution_count": 97,
            "metadata": {},
            "outputs": [],
            "source": [
                "df_jobs = categorize_df_gender_age(df_jobs)"
            ]
        },
        {
            "cell_type": "code",
            "execution_count": 101,
            "metadata": {},
            "outputs": [
                {
                    "data": {
                        "text/plain": [
                            "Index(['Search Keyword', 'Platform', 'Job ID', 'Job Title', 'Company Name', 'Location', 'Job Description', 'Rating', 'Employment Type', 'Company URL', 'Job URL', 'Job Age', 'Job Age Number', 'Collection Date', 'Data Row', 'Tracking ID', 'Industry', 'Job Date', 'Type of ownership', 'Language', 'Dutch Requirement', 'English Requirement', 'Sector Code', 'Sector', 'Keywords Count', 'Gender_Female_n', 'Gender_Female_% per Sector', 'Gender_Female_% per Social Category', 'Gender_Female_% per Workforce', 'Gender_Male_n', 'Gender_Male_% per Sector', 'Gender_Male_% per Social Category', 'Gender_Male_% per Workforce', 'Gender', 'Age_Older_n', 'Age_Older_% per Sector', 'Age_Older_% per Social Category', 'Age_Older_% per Workforce', 'Age_Younger_n', 'Age_Younger_% per Sector', 'Age_Younger_% per Social Category', 'Age_Younger_% per Workforce', 'Age', 'Sector_n', '% Sector per Workforce', 'Gender_Female', 'Gender_Male', 'Age_Older', 'Age_Younger'], dtype='object')"
                        ]
                    },
                    "execution_count": 101,
                    "metadata": {},
                    "output_type": "execute_result"
                }
            ],
            "source": [
                "df_jobs.columns\n"
            ]
        },
        {
            "cell_type": "code",
            "execution_count": 98,
            "metadata": {},
            "outputs": [
                {
                    "data": {
                        "text/plain": [
                            "Male      10515\n",
                            "Female     7084\n",
                            "Name: Gender, dtype: int64"
                        ]
                    },
                    "execution_count": 98,
                    "metadata": {},
                    "output_type": "execute_result"
                }
            ],
            "source": [
                "df_jobs['Gender'].value_counts()"
            ]
        },
        {
            "cell_type": "code",
            "execution_count": 99,
            "metadata": {},
            "outputs": [
                {
                    "data": {
                        "text/plain": [
                            "0    10515\n",
                            "1     7084\n",
                            "Name: Gender_Female, dtype: int64"
                        ]
                    },
                    "execution_count": 99,
                    "metadata": {},
                    "output_type": "execute_result"
                }
            ],
            "source": [
                "df_jobs['Gender_Female'].value_counts()"
            ]
        },
        {
            "cell_type": "code",
            "execution_count": 100,
            "metadata": {},
            "outputs": [
                {
                    "data": {
                        "text/html": [
                            "<pre style=\"white-space:pre;overflow-x:auto;line-height:normal;font-family:Menlo,'DejaVu Sans Mono',consolas,'Courier New',monospace\"><span style=\"color: #800000; text-decoration-color: #800000\">╭─────────────────────────────── </span><span style=\"color: #800000; text-decoration-color: #800000; font-weight: bold\">Traceback </span><span style=\"color: #bf7f7f; text-decoration-color: #bf7f7f; font-weight: bold\">(most recent call last)</span><span style=\"color: #800000; text-decoration-color: #800000\"> ────────────────────────────────╮</span>\n",
                            "<span style=\"color: #800000; text-decoration-color: #800000\">│</span> <span style=\"color: #bfbf7f; text-decoration-color: #bfbf7f\">/opt/homebrew/Caskroom/mambaforge/base/envs/study1_3.10/lib/python3.10/site-packages/pandas/core</span> <span style=\"color: #800000; text-decoration-color: #800000\">│</span>\n",
                            "<span style=\"color: #800000; text-decoration-color: #800000\">│</span> <span style=\"color: #bfbf7f; text-decoration-color: #bfbf7f\">/indexes/</span><span style=\"color: #808000; text-decoration-color: #808000; font-weight: bold\">base.py</span>:<span style=\"color: #0000ff; text-decoration-color: #0000ff\">3802</span> in <span style=\"color: #00ff00; text-decoration-color: #00ff00\">get_loc</span>                                                                 <span style=\"color: #800000; text-decoration-color: #800000\">│</span>\n",
                            "<span style=\"color: #800000; text-decoration-color: #800000\">│</span>                                                                                                  <span style=\"color: #800000; text-decoration-color: #800000\">│</span>\n",
                            "<span style=\"color: #800000; text-decoration-color: #800000\">│</span>   <span style=\"color: #7f7f7f; text-decoration-color: #7f7f7f\">3799 │   │   │   │   </span>)                                                                         <span style=\"color: #800000; text-decoration-color: #800000\">│</span>\n",
                            "<span style=\"color: #800000; text-decoration-color: #800000\">│</span>   <span style=\"color: #7f7f7f; text-decoration-color: #7f7f7f\">3800 │   │   │   </span>casted_key = <span style=\"color: #00ffff; text-decoration-color: #00ffff\">self</span>._maybe_cast_indexer(key)                                    <span style=\"color: #800000; text-decoration-color: #800000\">│</span>\n",
                            "<span style=\"color: #800000; text-decoration-color: #800000\">│</span>   <span style=\"color: #7f7f7f; text-decoration-color: #7f7f7f\">3801 │   │   │   </span><span style=\"color: #0000ff; text-decoration-color: #0000ff\">try</span>:                                                                          <span style=\"color: #800000; text-decoration-color: #800000\">│</span>\n",
                            "<span style=\"color: #800000; text-decoration-color: #800000\">│</span> <span style=\"color: #800000; text-decoration-color: #800000\">❱ </span>3802 <span style=\"color: #7f7f7f; text-decoration-color: #7f7f7f\">│   │   │   │   </span><span style=\"color: #0000ff; text-decoration-color: #0000ff\">return</span> <span style=\"color: #00ffff; text-decoration-color: #00ffff\">self</span>._engine.get_loc(casted_key)                                   <span style=\"color: #800000; text-decoration-color: #800000\">│</span>\n",
                            "<span style=\"color: #800000; text-decoration-color: #800000\">│</span>   <span style=\"color: #7f7f7f; text-decoration-color: #7f7f7f\">3803 │   │   │   </span><span style=\"color: #0000ff; text-decoration-color: #0000ff\">except</span> <span style=\"color: #00ffff; text-decoration-color: #00ffff\">KeyError</span> <span style=\"color: #0000ff; text-decoration-color: #0000ff\">as</span> err:                                                       <span style=\"color: #800000; text-decoration-color: #800000\">│</span>\n",
                            "<span style=\"color: #800000; text-decoration-color: #800000\">│</span>   <span style=\"color: #7f7f7f; text-decoration-color: #7f7f7f\">3804 │   │   │   │   </span><span style=\"color: #0000ff; text-decoration-color: #0000ff\">raise</span> <span style=\"color: #00ffff; text-decoration-color: #00ffff\">KeyError</span>(key) <span style=\"color: #0000ff; text-decoration-color: #0000ff\">from</span> <span style=\"color: #00ffff; text-decoration-color: #00ffff; text-decoration: underline\">err</span>                                              <span style=\"color: #800000; text-decoration-color: #800000\">│</span>\n",
                            "<span style=\"color: #800000; text-decoration-color: #800000\">│</span>   <span style=\"color: #7f7f7f; text-decoration-color: #7f7f7f\">3805 │   │   │   </span><span style=\"color: #0000ff; text-decoration-color: #0000ff\">except</span> <span style=\"color: #00ffff; text-decoration-color: #00ffff\">TypeError</span>:                                                             <span style=\"color: #800000; text-decoration-color: #800000\">│</span>\n",
                            "<span style=\"color: #800000; text-decoration-color: #800000\">│</span>                                                                                                  <span style=\"color: #800000; text-decoration-color: #800000\">│</span>\n",
                            "<span style=\"color: #800000; text-decoration-color: #800000\">│</span> <span style=\"color: #bfbf7f; text-decoration-color: #bfbf7f\">/Users/nyxinsane/Documents/Work - UvA/Automating Equity/Study 1/Study1_Code/1. Cleaning and </span>     <span style=\"color: #800000; text-decoration-color: #800000\">│</span>\n",
                            "<span style=\"color: #800000; text-decoration-color: #800000\">│</span> <span style=\"color: #bfbf7f; text-decoration-color: #bfbf7f\">Preprocessing/pandas/_libs/</span><span style=\"color: #808000; text-decoration-color: #808000; font-weight: bold\">index.pyx</span>:<span style=\"color: #0000ff; text-decoration-color: #0000ff\">138</span> in <span style=\"color: #00ff00; text-decoration-color: #00ff00\">pandas._libs.index.IndexEngine.get_loc</span>               <span style=\"color: #800000; text-decoration-color: #800000\">│</span>\n",
                            "<span style=\"color: #800000; text-decoration-color: #800000\">│</span>                                                                                                  <span style=\"color: #800000; text-decoration-color: #800000\">│</span>\n",
                            "<span style=\"color: #800000; text-decoration-color: #800000\">│</span> <span style=\"color: #800000; text-decoration-color: #800000; font-style: italic\">[Errno 2] No such file or directory: '/Users/nyxinsane/Documents/Work - UvA/Automating </span>          <span style=\"color: #800000; text-decoration-color: #800000\">│</span>\n",
                            "<span style=\"color: #800000; text-decoration-color: #800000\">│</span> <span style=\"color: #800000; text-decoration-color: #800000; font-style: italic\">Equity/Study 1/Study1_Code/1. Cleaning and Preprocessing/pandas/_libs/index.pyx'</span>                 <span style=\"color: #800000; text-decoration-color: #800000\">│</span>\n",
                            "<span style=\"color: #800000; text-decoration-color: #800000\">│</span>                                                                                                  <span style=\"color: #800000; text-decoration-color: #800000\">│</span>\n",
                            "<span style=\"color: #800000; text-decoration-color: #800000\">│</span> <span style=\"color: #bfbf7f; text-decoration-color: #bfbf7f\">/Users/nyxinsane/Documents/Work - UvA/Automating Equity/Study 1/Study1_Code/1. Cleaning and </span>     <span style=\"color: #800000; text-decoration-color: #800000\">│</span>\n",
                            "<span style=\"color: #800000; text-decoration-color: #800000\">│</span> <span style=\"color: #bfbf7f; text-decoration-color: #bfbf7f\">Preprocessing/pandas/_libs/</span><span style=\"color: #808000; text-decoration-color: #808000; font-weight: bold\">index.pyx</span>:<span style=\"color: #0000ff; text-decoration-color: #0000ff\">165</span> in <span style=\"color: #00ff00; text-decoration-color: #00ff00\">pandas._libs.index.IndexEngine.get_loc</span>               <span style=\"color: #800000; text-decoration-color: #800000\">│</span>\n",
                            "<span style=\"color: #800000; text-decoration-color: #800000\">│</span>                                                                                                  <span style=\"color: #800000; text-decoration-color: #800000\">│</span>\n",
                            "<span style=\"color: #800000; text-decoration-color: #800000\">│</span> <span style=\"color: #800000; text-decoration-color: #800000; font-style: italic\">[Errno 2] No such file or directory: '/Users/nyxinsane/Documents/Work - UvA/Automating </span>          <span style=\"color: #800000; text-decoration-color: #800000\">│</span>\n",
                            "<span style=\"color: #800000; text-decoration-color: #800000\">│</span> <span style=\"color: #800000; text-decoration-color: #800000; font-style: italic\">Equity/Study 1/Study1_Code/1. Cleaning and Preprocessing/pandas/_libs/index.pyx'</span>                 <span style=\"color: #800000; text-decoration-color: #800000\">│</span>\n",
                            "<span style=\"color: #800000; text-decoration-color: #800000\">│</span>                                                                                                  <span style=\"color: #800000; text-decoration-color: #800000\">│</span>\n",
                            "<span style=\"color: #800000; text-decoration-color: #800000\">│</span> <span style=\"color: #bfbf7f; text-decoration-color: #bfbf7f\">/Users/nyxinsane/Documents/Work - UvA/Automating Equity/Study 1/Study1_Code/1. Cleaning and </span>     <span style=\"color: #800000; text-decoration-color: #800000\">│</span>\n",
                            "<span style=\"color: #800000; text-decoration-color: #800000\">│</span> <span style=\"color: #bfbf7f; text-decoration-color: #bfbf7f\">Preprocessing/pandas/_libs/</span><span style=\"color: #808000; text-decoration-color: #808000; font-weight: bold\">hashtable_class_helper.pxi</span>:<span style=\"color: #0000ff; text-decoration-color: #0000ff\">5745</span> in                                    <span style=\"color: #800000; text-decoration-color: #800000\">│</span>\n",
                            "<span style=\"color: #800000; text-decoration-color: #800000\">│</span> <span style=\"color: #00ff00; text-decoration-color: #00ff00\">pandas._libs.hashtable.PyObjectHashTable.get_item</span>                                                <span style=\"color: #800000; text-decoration-color: #800000\">│</span>\n",
                            "<span style=\"color: #800000; text-decoration-color: #800000\">│</span>                                                                                                  <span style=\"color: #800000; text-decoration-color: #800000\">│</span>\n",
                            "<span style=\"color: #800000; text-decoration-color: #800000\">│</span> <span style=\"color: #800000; text-decoration-color: #800000; font-style: italic\">[Errno 2] No such file or directory: '/Users/nyxinsane/Documents/Work - UvA/Automating </span>          <span style=\"color: #800000; text-decoration-color: #800000\">│</span>\n",
                            "<span style=\"color: #800000; text-decoration-color: #800000\">│</span> <span style=\"color: #800000; text-decoration-color: #800000; font-style: italic\">Equity/Study 1/Study1_Code/1. Cleaning and </span>                                                      <span style=\"color: #800000; text-decoration-color: #800000\">│</span>\n",
                            "<span style=\"color: #800000; text-decoration-color: #800000\">│</span> <span style=\"color: #800000; text-decoration-color: #800000; font-style: italic\">Preprocessing/pandas/_libs/hashtable_class_helper.pxi'</span>                                           <span style=\"color: #800000; text-decoration-color: #800000\">│</span>\n",
                            "<span style=\"color: #800000; text-decoration-color: #800000\">│</span>                                                                                                  <span style=\"color: #800000; text-decoration-color: #800000\">│</span>\n",
                            "<span style=\"color: #800000; text-decoration-color: #800000\">│</span> <span style=\"color: #bfbf7f; text-decoration-color: #bfbf7f\">/Users/nyxinsane/Documents/Work - UvA/Automating Equity/Study 1/Study1_Code/1. Cleaning and </span>     <span style=\"color: #800000; text-decoration-color: #800000\">│</span>\n",
                            "<span style=\"color: #800000; text-decoration-color: #800000\">│</span> <span style=\"color: #bfbf7f; text-decoration-color: #bfbf7f\">Preprocessing/pandas/_libs/</span><span style=\"color: #808000; text-decoration-color: #808000; font-weight: bold\">hashtable_class_helper.pxi</span>:<span style=\"color: #0000ff; text-decoration-color: #0000ff\">5753</span> in                                    <span style=\"color: #800000; text-decoration-color: #800000\">│</span>\n",
                            "<span style=\"color: #800000; text-decoration-color: #800000\">│</span> <span style=\"color: #00ff00; text-decoration-color: #00ff00\">pandas._libs.hashtable.PyObjectHashTable.get_item</span>                                                <span style=\"color: #800000; text-decoration-color: #800000\">│</span>\n",
                            "<span style=\"color: #800000; text-decoration-color: #800000\">│</span>                                                                                                  <span style=\"color: #800000; text-decoration-color: #800000\">│</span>\n",
                            "<span style=\"color: #800000; text-decoration-color: #800000\">│</span> <span style=\"color: #800000; text-decoration-color: #800000; font-style: italic\">[Errno 2] No such file or directory: '/Users/nyxinsane/Documents/Work - UvA/Automating </span>          <span style=\"color: #800000; text-decoration-color: #800000\">│</span>\n",
                            "<span style=\"color: #800000; text-decoration-color: #800000\">│</span> <span style=\"color: #800000; text-decoration-color: #800000; font-style: italic\">Equity/Study 1/Study1_Code/1. Cleaning and </span>                                                      <span style=\"color: #800000; text-decoration-color: #800000\">│</span>\n",
                            "<span style=\"color: #800000; text-decoration-color: #800000\">│</span> <span style=\"color: #800000; text-decoration-color: #800000; font-style: italic\">Preprocessing/pandas/_libs/hashtable_class_helper.pxi'</span>                                           <span style=\"color: #800000; text-decoration-color: #800000\">│</span>\n",
                            "<span style=\"color: #800000; text-decoration-color: #800000\">╰──────────────────────────────────────────────────────────────────────────────────────────────────╯</span>\n",
                            "<span style=\"color: #ff0000; text-decoration-color: #ff0000; font-weight: bold\">KeyError: </span><span style=\"color: #008000; text-decoration-color: #008000\">'Gender_Num'</span>\n",
                            "\n",
                            "<span style=\"font-style: italic\">The above exception was the direct cause of the following exception:</span>\n",
                            "\n",
                            "<span style=\"color: #800000; text-decoration-color: #800000\">╭─────────────────────────────── </span><span style=\"color: #800000; text-decoration-color: #800000; font-weight: bold\">Traceback </span><span style=\"color: #bf7f7f; text-decoration-color: #bf7f7f; font-weight: bold\">(most recent call last)</span><span style=\"color: #800000; text-decoration-color: #800000\"> ────────────────────────────────╮</span>\n",
                            "<span style=\"color: #800000; text-decoration-color: #800000\">│</span> <span style=\"color: #bfbf7f; text-decoration-color: #bfbf7f\">/var/folders/46/q15p556n1dd63z6gkwyh896c0000gn/T/ipykernel_80079/</span><span style=\"color: #808000; text-decoration-color: #808000; font-weight: bold\">1030899428.py</span>:<span style=\"color: #0000ff; text-decoration-color: #0000ff\">1</span> in <span style=\"color: #00ff00; text-decoration-color: #00ff00\">&lt;module&gt;</span>     <span style=\"color: #800000; text-decoration-color: #800000\">│</span>\n",
                            "<span style=\"color: #800000; text-decoration-color: #800000\">│</span>                                                                                                  <span style=\"color: #800000; text-decoration-color: #800000\">│</span>\n",
                            "<span style=\"color: #800000; text-decoration-color: #800000\">│</span> <span style=\"color: #800000; text-decoration-color: #800000; font-style: italic\">[Errno 2] No such file or directory: </span>                                                            <span style=\"color: #800000; text-decoration-color: #800000\">│</span>\n",
                            "<span style=\"color: #800000; text-decoration-color: #800000\">│</span> <span style=\"color: #800000; text-decoration-color: #800000; font-style: italic\">'/var/folders/46/q15p556n1dd63z6gkwyh896c0000gn/T/ipykernel_80079/1030899428.py'</span>                 <span style=\"color: #800000; text-decoration-color: #800000\">│</span>\n",
                            "<span style=\"color: #800000; text-decoration-color: #800000\">│</span>                                                                                                  <span style=\"color: #800000; text-decoration-color: #800000\">│</span>\n",
                            "<span style=\"color: #800000; text-decoration-color: #800000\">│</span> <span style=\"color: #bfbf7f; text-decoration-color: #bfbf7f\">/opt/homebrew/Caskroom/mambaforge/base/envs/study1_3.10/lib/python3.10/site-packages/pandas/core</span> <span style=\"color: #800000; text-decoration-color: #800000\">│</span>\n",
                            "<span style=\"color: #800000; text-decoration-color: #800000\">│</span> <span style=\"color: #bfbf7f; text-decoration-color: #bfbf7f\">/</span><span style=\"color: #808000; text-decoration-color: #808000; font-weight: bold\">frame.py</span>:<span style=\"color: #0000ff; text-decoration-color: #0000ff\">3807</span> in <span style=\"color: #00ff00; text-decoration-color: #00ff00\">__getitem__</span>                                                                    <span style=\"color: #800000; text-decoration-color: #800000\">│</span>\n",
                            "<span style=\"color: #800000; text-decoration-color: #800000\">│</span>                                                                                                  <span style=\"color: #800000; text-decoration-color: #800000\">│</span>\n",
                            "<span style=\"color: #800000; text-decoration-color: #800000\">│</span>   <span style=\"color: #7f7f7f; text-decoration-color: #7f7f7f\"> 3804 │   │   </span><span style=\"color: #0000ff; text-decoration-color: #0000ff\">if</span> is_single_key:                                                                <span style=\"color: #800000; text-decoration-color: #800000\">│</span>\n",
                            "<span style=\"color: #800000; text-decoration-color: #800000\">│</span>   <span style=\"color: #7f7f7f; text-decoration-color: #7f7f7f\"> 3805 │   │   │   </span><span style=\"color: #0000ff; text-decoration-color: #0000ff\">if</span> <span style=\"color: #00ffff; text-decoration-color: #00ffff\">self</span>.columns.nlevels &gt; <span style=\"color: #0000ff; text-decoration-color: #0000ff\">1</span>:                                                 <span style=\"color: #800000; text-decoration-color: #800000\">│</span>\n",
                            "<span style=\"color: #800000; text-decoration-color: #800000\">│</span>   <span style=\"color: #7f7f7f; text-decoration-color: #7f7f7f\"> 3806 │   │   │   │   </span><span style=\"color: #0000ff; text-decoration-color: #0000ff\">return</span> <span style=\"color: #00ffff; text-decoration-color: #00ffff\">self</span>._getitem_multilevel(key)                                     <span style=\"color: #800000; text-decoration-color: #800000\">│</span>\n",
                            "<span style=\"color: #800000; text-decoration-color: #800000\">│</span> <span style=\"color: #800000; text-decoration-color: #800000\">❱ </span> 3807 <span style=\"color: #7f7f7f; text-decoration-color: #7f7f7f\">│   │   │   </span>indexer = <span style=\"color: #00ffff; text-decoration-color: #00ffff\">self</span>.columns.get_loc(key)                                          <span style=\"color: #800000; text-decoration-color: #800000\">│</span>\n",
                            "<span style=\"color: #800000; text-decoration-color: #800000\">│</span>   <span style=\"color: #7f7f7f; text-decoration-color: #7f7f7f\"> 3808 │   │   │   </span><span style=\"color: #0000ff; text-decoration-color: #0000ff\">if</span> is_integer(indexer):                                                      <span style=\"color: #800000; text-decoration-color: #800000\">│</span>\n",
                            "<span style=\"color: #800000; text-decoration-color: #800000\">│</span>   <span style=\"color: #7f7f7f; text-decoration-color: #7f7f7f\"> 3809 │   │   │   │   </span>indexer = [indexer]                                                      <span style=\"color: #800000; text-decoration-color: #800000\">│</span>\n",
                            "<span style=\"color: #800000; text-decoration-color: #800000\">│</span>   <span style=\"color: #7f7f7f; text-decoration-color: #7f7f7f\"> 3810 │   │   </span><span style=\"color: #0000ff; text-decoration-color: #0000ff\">else</span>:                                                                            <span style=\"color: #800000; text-decoration-color: #800000\">│</span>\n",
                            "<span style=\"color: #800000; text-decoration-color: #800000\">│</span>                                                                                                  <span style=\"color: #800000; text-decoration-color: #800000\">│</span>\n",
                            "<span style=\"color: #800000; text-decoration-color: #800000\">│</span> <span style=\"color: #bfbf7f; text-decoration-color: #bfbf7f\">/opt/homebrew/Caskroom/mambaforge/base/envs/study1_3.10/lib/python3.10/site-packages/pandas/core</span> <span style=\"color: #800000; text-decoration-color: #800000\">│</span>\n",
                            "<span style=\"color: #800000; text-decoration-color: #800000\">│</span> <span style=\"color: #bfbf7f; text-decoration-color: #bfbf7f\">/indexes/</span><span style=\"color: #808000; text-decoration-color: #808000; font-weight: bold\">base.py</span>:<span style=\"color: #0000ff; text-decoration-color: #0000ff\">3804</span> in <span style=\"color: #00ff00; text-decoration-color: #00ff00\">get_loc</span>                                                                 <span style=\"color: #800000; text-decoration-color: #800000\">│</span>\n",
                            "<span style=\"color: #800000; text-decoration-color: #800000\">│</span>                                                                                                  <span style=\"color: #800000; text-decoration-color: #800000\">│</span>\n",
                            "<span style=\"color: #800000; text-decoration-color: #800000\">│</span>   <span style=\"color: #7f7f7f; text-decoration-color: #7f7f7f\">3801 │   │   │   </span><span style=\"color: #0000ff; text-decoration-color: #0000ff\">try</span>:                                                                          <span style=\"color: #800000; text-decoration-color: #800000\">│</span>\n",
                            "<span style=\"color: #800000; text-decoration-color: #800000\">│</span>   <span style=\"color: #7f7f7f; text-decoration-color: #7f7f7f\">3802 │   │   │   │   </span><span style=\"color: #0000ff; text-decoration-color: #0000ff\">return</span> <span style=\"color: #00ffff; text-decoration-color: #00ffff\">self</span>._engine.get_loc(casted_key)                                   <span style=\"color: #800000; text-decoration-color: #800000\">│</span>\n",
                            "<span style=\"color: #800000; text-decoration-color: #800000\">│</span>   <span style=\"color: #7f7f7f; text-decoration-color: #7f7f7f\">3803 │   │   │   </span><span style=\"color: #0000ff; text-decoration-color: #0000ff\">except</span> <span style=\"color: #00ffff; text-decoration-color: #00ffff\">KeyError</span> <span style=\"color: #0000ff; text-decoration-color: #0000ff\">as</span> err:                                                       <span style=\"color: #800000; text-decoration-color: #800000\">│</span>\n",
                            "<span style=\"color: #800000; text-decoration-color: #800000\">│</span> <span style=\"color: #800000; text-decoration-color: #800000\">❱ </span>3804 <span style=\"color: #7f7f7f; text-decoration-color: #7f7f7f\">│   │   │   │   </span><span style=\"color: #0000ff; text-decoration-color: #0000ff\">raise</span> <span style=\"color: #00ffff; text-decoration-color: #00ffff\">KeyError</span>(key) <span style=\"color: #0000ff; text-decoration-color: #0000ff\">from</span> <span style=\"color: #00ffff; text-decoration-color: #00ffff; text-decoration: underline\">err</span>                                              <span style=\"color: #800000; text-decoration-color: #800000\">│</span>\n",
                            "<span style=\"color: #800000; text-decoration-color: #800000\">│</span>   <span style=\"color: #7f7f7f; text-decoration-color: #7f7f7f\">3805 │   │   │   </span><span style=\"color: #0000ff; text-decoration-color: #0000ff\">except</span> <span style=\"color: #00ffff; text-decoration-color: #00ffff\">TypeError</span>:                                                             <span style=\"color: #800000; text-decoration-color: #800000\">│</span>\n",
                            "<span style=\"color: #800000; text-decoration-color: #800000\">│</span>   <span style=\"color: #7f7f7f; text-decoration-color: #7f7f7f\">3806 │   │   │   │   # If we have a listlike key, _check_indexing_error will raise</span>             <span style=\"color: #800000; text-decoration-color: #800000\">│</span>\n",
                            "<span style=\"color: #800000; text-decoration-color: #800000\">│</span>   <span style=\"color: #7f7f7f; text-decoration-color: #7f7f7f\">3807 │   │   │   │   #  InvalidIndexError. Otherwise we fall through and re-raise</span>              <span style=\"color: #800000; text-decoration-color: #800000\">│</span>\n",
                            "<span style=\"color: #800000; text-decoration-color: #800000\">╰──────────────────────────────────────────────────────────────────────────────────────────────────╯</span>\n",
                            "<span style=\"color: #ff0000; text-decoration-color: #ff0000; font-weight: bold\">KeyError: </span><span style=\"color: #008000; text-decoration-color: #008000\">'Gender_Num'</span>\n",
                            "</pre>\n"
                        ],
                        "text/plain": [
                            "\u001b[31m╭─\u001b[0m\u001b[31m──────────────────────────────\u001b[0m\u001b[31m \u001b[0m\u001b[1;31mTraceback \u001b[0m\u001b[1;2;31m(most recent call last)\u001b[0m\u001b[31m \u001b[0m\u001b[31m───────────────────────────────\u001b[0m\u001b[31m─╮\u001b[0m\n",
                            "\u001b[31m│\u001b[0m \u001b[2;33m/opt/homebrew/Caskroom/mambaforge/base/envs/study1_3.10/lib/python3.10/site-packages/pandas/core\u001b[0m \u001b[31m│\u001b[0m\n",
                            "\u001b[31m│\u001b[0m \u001b[2;33m/indexes/\u001b[0m\u001b[1;33mbase.py\u001b[0m:\u001b[94m3802\u001b[0m in \u001b[92mget_loc\u001b[0m                                                                 \u001b[31m│\u001b[0m\n",
                            "\u001b[31m│\u001b[0m                                                                                                  \u001b[31m│\u001b[0m\n",
                            "\u001b[31m│\u001b[0m   \u001b[2m3799 \u001b[0m\u001b[2m│   │   │   │   \u001b[0m)                                                                         \u001b[31m│\u001b[0m\n",
                            "\u001b[31m│\u001b[0m   \u001b[2m3800 \u001b[0m\u001b[2m│   │   │   \u001b[0mcasted_key = \u001b[96mself\u001b[0m._maybe_cast_indexer(key)                                    \u001b[31m│\u001b[0m\n",
                            "\u001b[31m│\u001b[0m   \u001b[2m3801 \u001b[0m\u001b[2m│   │   │   \u001b[0m\u001b[94mtry\u001b[0m:                                                                          \u001b[31m│\u001b[0m\n",
                            "\u001b[31m│\u001b[0m \u001b[31m❱ \u001b[0m3802 \u001b[2m│   │   │   │   \u001b[0m\u001b[94mreturn\u001b[0m \u001b[96mself\u001b[0m._engine.get_loc(casted_key)                                   \u001b[31m│\u001b[0m\n",
                            "\u001b[31m│\u001b[0m   \u001b[2m3803 \u001b[0m\u001b[2m│   │   │   \u001b[0m\u001b[94mexcept\u001b[0m \u001b[96mKeyError\u001b[0m \u001b[94mas\u001b[0m err:                                                       \u001b[31m│\u001b[0m\n",
                            "\u001b[31m│\u001b[0m   \u001b[2m3804 \u001b[0m\u001b[2m│   │   │   │   \u001b[0m\u001b[94mraise\u001b[0m \u001b[96mKeyError\u001b[0m(key) \u001b[94mfrom\u001b[0m \u001b[4;96merr\u001b[0m                                              \u001b[31m│\u001b[0m\n",
                            "\u001b[31m│\u001b[0m   \u001b[2m3805 \u001b[0m\u001b[2m│   │   │   \u001b[0m\u001b[94mexcept\u001b[0m \u001b[96mTypeError\u001b[0m:                                                             \u001b[31m│\u001b[0m\n",
                            "\u001b[31m│\u001b[0m                                                                                                  \u001b[31m│\u001b[0m\n",
                            "\u001b[31m│\u001b[0m \u001b[2;33m/Users/nyxinsane/Documents/Work - UvA/Automating Equity/Study 1/Study1_Code/1. Cleaning and \u001b[0m     \u001b[31m│\u001b[0m\n",
                            "\u001b[31m│\u001b[0m \u001b[2;33mPreprocessing/pandas/_libs/\u001b[0m\u001b[1;33mindex.pyx\u001b[0m:\u001b[94m138\u001b[0m in \u001b[92mpandas._libs.index.IndexEngine.get_loc\u001b[0m               \u001b[31m│\u001b[0m\n",
                            "\u001b[31m│\u001b[0m                                                                                                  \u001b[31m│\u001b[0m\n",
                            "\u001b[31m│\u001b[0m \u001b[3;31m[Errno 2] No such file or directory: '/Users/nyxinsane/Documents/Work - UvA/Automating \u001b[0m          \u001b[31m│\u001b[0m\n",
                            "\u001b[31m│\u001b[0m \u001b[3;31mEquity/Study 1/Study1_Code/1. Cleaning and Preprocessing/pandas/_libs/index.pyx'\u001b[0m                 \u001b[31m│\u001b[0m\n",
                            "\u001b[31m│\u001b[0m                                                                                                  \u001b[31m│\u001b[0m\n",
                            "\u001b[31m│\u001b[0m \u001b[2;33m/Users/nyxinsane/Documents/Work - UvA/Automating Equity/Study 1/Study1_Code/1. Cleaning and \u001b[0m     \u001b[31m│\u001b[0m\n",
                            "\u001b[31m│\u001b[0m \u001b[2;33mPreprocessing/pandas/_libs/\u001b[0m\u001b[1;33mindex.pyx\u001b[0m:\u001b[94m165\u001b[0m in \u001b[92mpandas._libs.index.IndexEngine.get_loc\u001b[0m               \u001b[31m│\u001b[0m\n",
                            "\u001b[31m│\u001b[0m                                                                                                  \u001b[31m│\u001b[0m\n",
                            "\u001b[31m│\u001b[0m \u001b[3;31m[Errno 2] No such file or directory: '/Users/nyxinsane/Documents/Work - UvA/Automating \u001b[0m          \u001b[31m│\u001b[0m\n",
                            "\u001b[31m│\u001b[0m \u001b[3;31mEquity/Study 1/Study1_Code/1. Cleaning and Preprocessing/pandas/_libs/index.pyx'\u001b[0m                 \u001b[31m│\u001b[0m\n",
                            "\u001b[31m│\u001b[0m                                                                                                  \u001b[31m│\u001b[0m\n",
                            "\u001b[31m│\u001b[0m \u001b[2;33m/Users/nyxinsane/Documents/Work - UvA/Automating Equity/Study 1/Study1_Code/1. Cleaning and \u001b[0m     \u001b[31m│\u001b[0m\n",
                            "\u001b[31m│\u001b[0m \u001b[2;33mPreprocessing/pandas/_libs/\u001b[0m\u001b[1;33mhashtable_class_helper.pxi\u001b[0m:\u001b[94m5745\u001b[0m in                                    \u001b[31m│\u001b[0m\n",
                            "\u001b[31m│\u001b[0m \u001b[92mpandas._libs.hashtable.PyObjectHashTable.get_item\u001b[0m                                                \u001b[31m│\u001b[0m\n",
                            "\u001b[31m│\u001b[0m                                                                                                  \u001b[31m│\u001b[0m\n",
                            "\u001b[31m│\u001b[0m \u001b[3;31m[Errno 2] No such file or directory: '/Users/nyxinsane/Documents/Work - UvA/Automating \u001b[0m          \u001b[31m│\u001b[0m\n",
                            "\u001b[31m│\u001b[0m \u001b[3;31mEquity/Study 1/Study1_Code/1. Cleaning and \u001b[0m                                                      \u001b[31m│\u001b[0m\n",
                            "\u001b[31m│\u001b[0m \u001b[3;31mPreprocessing/pandas/_libs/hashtable_class_helper.pxi'\u001b[0m                                           \u001b[31m│\u001b[0m\n",
                            "\u001b[31m│\u001b[0m                                                                                                  \u001b[31m│\u001b[0m\n",
                            "\u001b[31m│\u001b[0m \u001b[2;33m/Users/nyxinsane/Documents/Work - UvA/Automating Equity/Study 1/Study1_Code/1. Cleaning and \u001b[0m     \u001b[31m│\u001b[0m\n",
                            "\u001b[31m│\u001b[0m \u001b[2;33mPreprocessing/pandas/_libs/\u001b[0m\u001b[1;33mhashtable_class_helper.pxi\u001b[0m:\u001b[94m5753\u001b[0m in                                    \u001b[31m│\u001b[0m\n",
                            "\u001b[31m│\u001b[0m \u001b[92mpandas._libs.hashtable.PyObjectHashTable.get_item\u001b[0m                                                \u001b[31m│\u001b[0m\n",
                            "\u001b[31m│\u001b[0m                                                                                                  \u001b[31m│\u001b[0m\n",
                            "\u001b[31m│\u001b[0m \u001b[3;31m[Errno 2] No such file or directory: '/Users/nyxinsane/Documents/Work - UvA/Automating \u001b[0m          \u001b[31m│\u001b[0m\n",
                            "\u001b[31m│\u001b[0m \u001b[3;31mEquity/Study 1/Study1_Code/1. Cleaning and \u001b[0m                                                      \u001b[31m│\u001b[0m\n",
                            "\u001b[31m│\u001b[0m \u001b[3;31mPreprocessing/pandas/_libs/hashtable_class_helper.pxi'\u001b[0m                                           \u001b[31m│\u001b[0m\n",
                            "\u001b[31m╰──────────────────────────────────────────────────────────────────────────────────────────────────╯\u001b[0m\n",
                            "\u001b[1;91mKeyError: \u001b[0m\u001b[32m'Gender_Num'\u001b[0m\n",
                            "\n",
                            "\u001b[3mThe above exception was the direct cause of the following exception:\u001b[0m\n",
                            "\n",
                            "\u001b[31m╭─\u001b[0m\u001b[31m──────────────────────────────\u001b[0m\u001b[31m \u001b[0m\u001b[1;31mTraceback \u001b[0m\u001b[1;2;31m(most recent call last)\u001b[0m\u001b[31m \u001b[0m\u001b[31m───────────────────────────────\u001b[0m\u001b[31m─╮\u001b[0m\n",
                            "\u001b[31m│\u001b[0m \u001b[2;33m/var/folders/46/q15p556n1dd63z6gkwyh896c0000gn/T/ipykernel_80079/\u001b[0m\u001b[1;33m1030899428.py\u001b[0m:\u001b[94m1\u001b[0m in \u001b[92m<module>\u001b[0m     \u001b[31m│\u001b[0m\n",
                            "\u001b[31m│\u001b[0m                                                                                                  \u001b[31m│\u001b[0m\n",
                            "\u001b[31m│\u001b[0m \u001b[3;31m[Errno 2] No such file or directory: \u001b[0m                                                            \u001b[31m│\u001b[0m\n",
                            "\u001b[31m│\u001b[0m \u001b[3;31m'/var/folders/46/q15p556n1dd63z6gkwyh896c0000gn/T/ipykernel_80079/1030899428.py'\u001b[0m                 \u001b[31m│\u001b[0m\n",
                            "\u001b[31m│\u001b[0m                                                                                                  \u001b[31m│\u001b[0m\n",
                            "\u001b[31m│\u001b[0m \u001b[2;33m/opt/homebrew/Caskroom/mambaforge/base/envs/study1_3.10/lib/python3.10/site-packages/pandas/core\u001b[0m \u001b[31m│\u001b[0m\n",
                            "\u001b[31m│\u001b[0m \u001b[2;33m/\u001b[0m\u001b[1;33mframe.py\u001b[0m:\u001b[94m3807\u001b[0m in \u001b[92m__getitem__\u001b[0m                                                                    \u001b[31m│\u001b[0m\n",
                            "\u001b[31m│\u001b[0m                                                                                                  \u001b[31m│\u001b[0m\n",
                            "\u001b[31m│\u001b[0m   \u001b[2m 3804 \u001b[0m\u001b[2m│   │   \u001b[0m\u001b[94mif\u001b[0m is_single_key:                                                                \u001b[31m│\u001b[0m\n",
                            "\u001b[31m│\u001b[0m   \u001b[2m 3805 \u001b[0m\u001b[2m│   │   │   \u001b[0m\u001b[94mif\u001b[0m \u001b[96mself\u001b[0m.columns.nlevels > \u001b[94m1\u001b[0m:                                                 \u001b[31m│\u001b[0m\n",
                            "\u001b[31m│\u001b[0m   \u001b[2m 3806 \u001b[0m\u001b[2m│   │   │   │   \u001b[0m\u001b[94mreturn\u001b[0m \u001b[96mself\u001b[0m._getitem_multilevel(key)                                     \u001b[31m│\u001b[0m\n",
                            "\u001b[31m│\u001b[0m \u001b[31m❱ \u001b[0m 3807 \u001b[2m│   │   │   \u001b[0mindexer = \u001b[96mself\u001b[0m.columns.get_loc(key)                                          \u001b[31m│\u001b[0m\n",
                            "\u001b[31m│\u001b[0m   \u001b[2m 3808 \u001b[0m\u001b[2m│   │   │   \u001b[0m\u001b[94mif\u001b[0m is_integer(indexer):                                                      \u001b[31m│\u001b[0m\n",
                            "\u001b[31m│\u001b[0m   \u001b[2m 3809 \u001b[0m\u001b[2m│   │   │   │   \u001b[0mindexer = [indexer]                                                      \u001b[31m│\u001b[0m\n",
                            "\u001b[31m│\u001b[0m   \u001b[2m 3810 \u001b[0m\u001b[2m│   │   \u001b[0m\u001b[94melse\u001b[0m:                                                                            \u001b[31m│\u001b[0m\n",
                            "\u001b[31m│\u001b[0m                                                                                                  \u001b[31m│\u001b[0m\n",
                            "\u001b[31m│\u001b[0m \u001b[2;33m/opt/homebrew/Caskroom/mambaforge/base/envs/study1_3.10/lib/python3.10/site-packages/pandas/core\u001b[0m \u001b[31m│\u001b[0m\n",
                            "\u001b[31m│\u001b[0m \u001b[2;33m/indexes/\u001b[0m\u001b[1;33mbase.py\u001b[0m:\u001b[94m3804\u001b[0m in \u001b[92mget_loc\u001b[0m                                                                 \u001b[31m│\u001b[0m\n",
                            "\u001b[31m│\u001b[0m                                                                                                  \u001b[31m│\u001b[0m\n",
                            "\u001b[31m│\u001b[0m   \u001b[2m3801 \u001b[0m\u001b[2m│   │   │   \u001b[0m\u001b[94mtry\u001b[0m:                                                                          \u001b[31m│\u001b[0m\n",
                            "\u001b[31m│\u001b[0m   \u001b[2m3802 \u001b[0m\u001b[2m│   │   │   │   \u001b[0m\u001b[94mreturn\u001b[0m \u001b[96mself\u001b[0m._engine.get_loc(casted_key)                                   \u001b[31m│\u001b[0m\n",
                            "\u001b[31m│\u001b[0m   \u001b[2m3803 \u001b[0m\u001b[2m│   │   │   \u001b[0m\u001b[94mexcept\u001b[0m \u001b[96mKeyError\u001b[0m \u001b[94mas\u001b[0m err:                                                       \u001b[31m│\u001b[0m\n",
                            "\u001b[31m│\u001b[0m \u001b[31m❱ \u001b[0m3804 \u001b[2m│   │   │   │   \u001b[0m\u001b[94mraise\u001b[0m \u001b[96mKeyError\u001b[0m(key) \u001b[94mfrom\u001b[0m \u001b[4;96merr\u001b[0m                                              \u001b[31m│\u001b[0m\n",
                            "\u001b[31m│\u001b[0m   \u001b[2m3805 \u001b[0m\u001b[2m│   │   │   \u001b[0m\u001b[94mexcept\u001b[0m \u001b[96mTypeError\u001b[0m:                                                             \u001b[31m│\u001b[0m\n",
                            "\u001b[31m│\u001b[0m   \u001b[2m3806 \u001b[0m\u001b[2m│   │   │   │   \u001b[0m\u001b[2m# If we have a listlike key, _check_indexing_error will raise\u001b[0m             \u001b[31m│\u001b[0m\n",
                            "\u001b[31m│\u001b[0m   \u001b[2m3807 \u001b[0m\u001b[2m│   │   │   │   \u001b[0m\u001b[2m#  InvalidIndexError. Otherwise we fall through and re-raise\u001b[0m              \u001b[31m│\u001b[0m\n",
                            "\u001b[31m╰──────────────────────────────────────────────────────────────────────────────────────────────────╯\u001b[0m\n",
                            "\u001b[1;91mKeyError: \u001b[0m\u001b[32m'Gender_Num'\u001b[0m\n"
                        ]
                    },
                    "metadata": {},
                    "output_type": "display_data"
                }
            ],
            "source": [
                "df_jobs['Gender_Num'].value_counts()"
            ]
        },
        {
            "cell_type": "code",
            "execution_count": 58,
            "metadata": {},
            "outputs": [
                {
                    "data": {
                        "text/plain": [
                            "LinkedIn     13819\n",
                            "Indeed        3198\n",
                            "Glassdoor      582\n",
                            "Name: Platform, dtype: int64"
                        ]
                    },
                    "execution_count": 58,
                    "metadata": {},
                    "output_type": "execute_result"
                }
            ],
            "source": [
                "df_jobs['Platform'].value_counts()"
            ]
        },
        {
            "cell_type": "code",
            "execution_count": 59,
            "metadata": {},
            "outputs": [],
            "source": [
                "platform_order = ['LinkedIn', 'Indeed', 'Glassdoor']\n",
                "df_jobs['Platform'] = df_jobs['Platform'].astype('category').cat.reorder_categories(platform_order, ordered=True)\n",
                "df_jobs['Platform'] = pd.Categorical(df_jobs['Platform'], categories=platform_order, ordered=True)\n",
                "df_jobs['Platform_Num'] = pd.to_numeric(df_jobs['Platform'].cat.codes).astype('int64')\n",
                "df_jobs = df_jobs.join(pd.get_dummies(df_jobs[['Platform']], dtype='int64'))"
            ]
        },
        {
            "cell_type": "code",
            "execution_count": 60,
            "metadata": {},
            "outputs": [
                {
                    "data": {
                        "text/plain": [
                            "Platform_Num  Platform_LinkedIn  Platform_Indeed  Platform_Glassdoor\n",
                            "0             1                  0                0                     13819\n",
                            "1             0                  1                0                      3198\n",
                            "2             0                  0                1                       582\n",
                            "dtype: int64"
                        ]
                    },
                    "execution_count": 60,
                    "metadata": {},
                    "output_type": "execute_result"
                }
            ],
            "source": [
                "df_jobs[['Platform_Num', 'Platform_LinkedIn', 'Platform_Indeed', 'Platform_Glassdoor']].value_counts()"
            ]
        },
        {
            "cell_type": "code",
            "execution_count": 61,
            "metadata": {},
            "outputs": [],
            "source": [
                "assert len(df_jobs) > 0 and isinstance(df_jobs, pd.DataFrame), f'ERORR: LENGTH OF DF = {len(df_jobs)}'\n",
                "df_jobs.to_pickle(f'{df_save_dir}df_jobs_including_sector_genage_data.pkl')\n",
                "df_jobs.to_csv(f'{df_save_dir}df_jobs_including_sector_genage_data.csv', index=False)\n",
                "\n"
            ]
        },
        {
            "cell_type": "markdown",
            "metadata": {},
            "source": [
                "# Use spacy to split job ads to sentences\n"
            ]
        },
        {
            "cell_type": "markdown",
            "metadata": {},
            "source": [
                "### START HERE IF SOURCING FROM DF_JOBS_INCLUDING_SECTOR_GENAGE_DATA\n",
                "### PLEASE SET CORRECT DIRECTORY PATHS BELOW\n"
            ]
        },
        {
            "cell_type": "code",
            "execution_count": 62,
            "metadata": {},
            "outputs": [],
            "source": [
                "import os # type:ignore # isort:skip # fmt:skip # noqa # nopep8\n",
                "import sys # type:ignore # isort:skip # fmt:skip # noqa # nopep8\n",
                "from pathlib import Path # type:ignore # isort:skip # fmt:skip # noqa # nopep8\n",
                "\n",
                "mod = sys.modules[__name__]\n",
                "\n",
                "code_dir = None\n",
                "code_dir_name = 'Code'\n",
                "unwanted_subdir_name = 'Analysis'\n",
                "\n",
                "for _ in range(5):\n",
                "\n",
                "    parent_path = str(Path.cwd().parents[_]).split('/')[-1]\n",
                "\n",
                "    if (code_dir_name in parent_path) and (unwanted_subdir_name not in parent_path):\n",
                "\n",
                "        code_dir = str(Path.cwd().parents[_])\n",
                "\n",
                "        if code_dir is not None:\n",
                "            break\n",
                "\n",
                "sys.path.append(code_dir)\n",
                "# %load_ext autoreload\n",
                "# %autoreload 2\n"
            ]
        },
        {
            "cell_type": "code",
            "execution_count": 63,
            "metadata": {},
            "outputs": [],
            "source": [
                "from setup_module.imports import *  # type:ignore # isort:skip # fmt:skip # noqa # nopep8\n"
            ]
        },
        {
            "cell_type": "code",
            "execution_count": 64,
            "metadata": {},
            "outputs": [],
            "source": [
                "df_jobs = pd.read_pickle(f'{df_save_dir}df_jobs_including_sector_genage_data.pkl')\n"
            ]
        },
        {
            "cell_type": "code",
            "execution_count": 65,
            "metadata": {},
            "outputs": [
                {
                    "name": "stdout",
                    "output_type": "stream",
                    "text": [
                        "<class 'pandas.core.frame.DataFrame'>\n",
                        "Int64Index: 17599 entries, 0 to 17598\n",
                        "Data columns (total 53 columns):\n",
                        " #   Column                               Non-Null Count  Dtype   \n",
                        "---  ------                               --------------  -----   \n",
                        " 0   Search Keyword                       17599 non-null  object  \n",
                        " 1   Platform                             17599 non-null  category\n",
                        " 2   Job ID                               17599 non-null  object  \n",
                        " 3   Job Title                            17599 non-null  object  \n",
                        " 4   Company Name                         17597 non-null  object  \n",
                        " 5   Location                             17599 non-null  object  \n",
                        " 6   Job Description                      17599 non-null  object  \n",
                        " 7   Rating                               3780 non-null   float64 \n",
                        " 8   Employment Type                      17017 non-null  object  \n",
                        " 9   Company URL                          15959 non-null  object  \n",
                        " 10  Job URL                              17599 non-null  object  \n",
                        " 11  Job Age                              17599 non-null  object  \n",
                        " 12  Job Age Number                       17599 non-null  object  \n",
                        " 13  Collection Date                      17599 non-null  object  \n",
                        " 14  Data Row                             13816 non-null  float64 \n",
                        " 15  Tracking ID                          13816 non-null  object  \n",
                        " 16  Industry                             14401 non-null  object  \n",
                        " 17  Job Date                             13819 non-null  object  \n",
                        " 18  Type of ownership                    582 non-null    object  \n",
                        " 19  Language                             17599 non-null  object  \n",
                        " 20  Dutch Requirement                    17599 non-null  category\n",
                        " 21  English Requirement                  17599 non-null  category\n",
                        " 22  Sector Code                          17599 non-null  object  \n",
                        " 23  Sector                               17599 non-null  object  \n",
                        " 24  Keywords Count                       17599 non-null  float64 \n",
                        " 25  Gender_Female_n                      17599 non-null  float64 \n",
                        " 26  Gender_Female_% per Sector           17599 non-null  float64 \n",
                        " 27  Gender_Female_% per Social Category  17599 non-null  float64 \n",
                        " 28  Gender_Female_% per Workforce        17599 non-null  float64 \n",
                        " 29  Gender_Male_n                        17599 non-null  float64 \n",
                        " 30  Gender_Male_% per Sector             17599 non-null  float64 \n",
                        " 31  Gender_Male_% per Social Category    17599 non-null  float64 \n",
                        " 32  Gender_Male_% per Workforce          17599 non-null  float64 \n",
                        " 33  Gender                               17599 non-null  object  \n",
                        " 34  Age_Older_n                          17599 non-null  float64 \n",
                        " 35  Age_Older_% per Sector               17599 non-null  float64 \n",
                        " 36  Age_Older_% per Social Category      17599 non-null  float64 \n",
                        " 37  Age_Older_% per Workforce            17599 non-null  float64 \n",
                        " 38  Age_Younger_n                        17599 non-null  float64 \n",
                        " 39  Age_Younger_% per Sector             17599 non-null  float64 \n",
                        " 40  Age_Younger_% per Social Category    17599 non-null  float64 \n",
                        " 41  Age_Younger_% per Workforce          17599 non-null  float64 \n",
                        " 42  Age                                  17599 non-null  object  \n",
                        " 43  Sector_n                             17599 non-null  float64 \n",
                        " 44  % Sector per Workforce               17599 non-null  float64 \n",
                        " 45  Gender_Female                        17599 non-null  int64   \n",
                        " 46  Gender_Male                          17599 non-null  int64   \n",
                        " 47  Age_Older                            17599 non-null  int64   \n",
                        " 48  Age_Younger                          17599 non-null  int64   \n",
                        " 49  Platform_Num                         17599 non-null  int64   \n",
                        " 50  Platform_LinkedIn                    17599 non-null  int64   \n",
                        " 51  Platform_Indeed                      17599 non-null  int64   \n",
                        " 52  Platform_Glassdoor                   17599 non-null  int64   \n",
                        "dtypes: category(3), float64(21), int64(8), object(21)\n",
                        "memory usage: 6.9+ MB\n"
                    ]
                }
            ],
            "source": [
                "df_jobs.info()\n"
            ]
        },
        {
            "cell_type": "code",
            "execution_count": 66,
            "metadata": {},
            "outputs": [],
            "source": [
                "# Function to make a list of punctuations that determine sentence boundry, i.e., split characters\n",
                "def make_custom_punct_chars(main_punct_chars=None, repeated_punct_chars=None):\n",
                "    if main_punct_chars is None:\n",
                "        main_punct_chars = [':', '|']\n",
                "    if repeated_punct_chars is None:\n",
                "        repeated_punct_chars = ['\\n', ',']\n",
                "    custom_punct_chars = []\n",
                "    temp_multi = []\n",
                "    temp_spaced = []\n",
                "\n",
                "    for punct_char in main_punct_chars:\n",
                "        custom_punct_chars+= f'{punct_char}', f'{punct_char} '\n",
                "\n",
                "    for idx in range(4):\n",
                "        for punct_char in repeated_punct_chars:\n",
                "            temp_multi.append(f'{punct_char}'*int(idx+1))\n",
                "            temp_spaced.append(f'{punct_char} '*int(idx+1))\n",
                "\n",
                "    for multi, spaced in zip(temp_multi, temp_spaced):\n",
                "        custom_punct_chars+= multi, spaced\n",
                "\n",
                "    custom_punct_chars.remove(',')\n",
                "    custom_punct_chars.remove(', ')\n",
                "\n",
                "    return custom_punct_chars\n",
                "\n",
                "custom_punct_chars = make_custom_punct_chars()\n"
            ]
        },
        {
            "cell_type": "code",
            "execution_count": 67,
            "metadata": {},
            "outputs": [
                {
                    "data": {
                        "text/plain": [
                            "[':',\n",
                            " ': ',\n",
                            " '|',\n",
                            " '| ',\n",
                            " '\\n',\n",
                            " '\\n ',\n",
                            " '\\n\\n',\n",
                            " '\\n \\n ',\n",
                            " ',,',\n",
                            " ', , ',\n",
                            " '\\n\\n\\n',\n",
                            " '\\n \\n \\n ',\n",
                            " ',,,',\n",
                            " ', , , ',\n",
                            " '\\n\\n\\n\\n',\n",
                            " '\\n \\n \\n \\n ',\n",
                            " ',,,,',\n",
                            " ', , , , ']"
                        ]
                    },
                    "execution_count": 67,
                    "metadata": {},
                    "output_type": "execute_result"
                }
            ],
            "source": [
                "custom_punct_chars\n"
            ]
        },
        {
            "cell_type": "code",
            "execution_count": 68,
            "metadata": {},
            "outputs": [
                {
                    "name": "stdout",
                    "output_type": "stream",
                    "text": [
                        "CPU times: user 2.38 ms, sys: 751 µs, total: 3.13 ms\n",
                        "Wall time: 2.68 ms\n"
                    ]
                }
            ],
            "source": [
                "%%time\n",
                "# Add sentencizer to spacy pipe and set custom punctuations\n",
                "if 'sentencizer' not in nlp.pipe_names:\n",
                "    sentencizer = nlp.add_pipe('sentencizer')\n",
                "sentencizer.punct_chars.update(custom_punct_chars)\n",
                "\n",
                "if all(custom_punct_char in sentencizer.punct_chars for custom_punct_char in custom_punct_chars):\n",
                "    with open(f'{data_dir}punctuations.txt', 'wb') as f:\n",
                "        pickle.dump(sentencizer.punct_chars, f)\n",
                "\n",
                "with open(f'{data_dir}punctuations.txt', 'rb') as f:\n",
                "    custom_punct_chars = pickle.load(f)\n"
            ]
        },
        {
            "cell_type": "code",
            "execution_count": 69,
            "metadata": {},
            "outputs": [],
            "source": [
                "# Add special cases to spacy\n",
                "special_cases_dict = {\n",
                "    'incl.': [{65: 'incl', 67: 'including'}],\n",
                "    'incl. ': [{65: 'incl', 67: 'including'}],\n",
                "    '(incl.': [{65: 'incl', 67: 'including'}],\n",
                "    'etc.': [{65: 'etc', 67: 'et cetera'}],\n",
                "    'etc. ': [{65: 'etc', 67: 'et cetera'}],\n",
                "    'e.g.': [{65: 'e.g', 67: 'for example'}],\n",
                "    'e.g. ': [{65: 'e.g', 67: 'for example'}],\n",
                "}\n",
                "\n",
                "nlp.tokenizer.rules.update(special_cases_dict)\n"
            ]
        },
        {
            "cell_type": "code",
            "execution_count": 70,
            "metadata": {},
            "outputs": [
                {
                    "data": {
                        "application/vnd.jupyter.widget-view+json": {
                            "model_id": "1bff9443f27b4d35884fc39b6d5297c0",
                            "version_major": 2,
                            "version_minor": 0
                        },
                        "text/plain": [
                            "progress-bar:   0%|          | 0/17599 [00:00<?, ?it/s]"
                        ]
                    },
                    "metadata": {},
                    "output_type": "display_data"
                },
                {
                    "data": {
                        "text/html": [
                            "<pre style=\"white-space:pre;overflow-x:auto;line-height:normal;font-family:Menlo,'DejaVu Sans Mono',consolas,'Courier New',monospace\"><span style=\"color: #800000; text-decoration-color: #800000\">╭─────────────────────────────── </span><span style=\"color: #800000; text-decoration-color: #800000; font-weight: bold\">Traceback </span><span style=\"color: #bf7f7f; text-decoration-color: #bf7f7f; font-weight: bold\">(most recent call last)</span><span style=\"color: #800000; text-decoration-color: #800000\"> ────────────────────────────────╮</span>\n",
                            "<span style=\"color: #800000; text-decoration-color: #800000\">│</span> <span style=\"color: #bfbf7f; text-decoration-color: #bfbf7f\">/opt/homebrew/Caskroom/mambaforge/base/envs/study1_3.10/lib/python3.10/site-packages/IPython/cor</span> <span style=\"color: #800000; text-decoration-color: #800000\">│</span>\n",
                            "<span style=\"color: #800000; text-decoration-color: #800000\">│</span> <span style=\"color: #bfbf7f; text-decoration-color: #bfbf7f\">e/magics/</span><span style=\"color: #808000; text-decoration-color: #808000; font-weight: bold\">execution.py</span>:<span style=\"color: #0000ff; text-decoration-color: #0000ff\">1325</span> in <span style=\"color: #00ff00; text-decoration-color: #00ff00\">time</span>                                                               <span style=\"color: #800000; text-decoration-color: #800000\">│</span>\n",
                            "<span style=\"color: #800000; text-decoration-color: #800000\">│</span>                                                                                                  <span style=\"color: #800000; text-decoration-color: #800000\">│</span>\n",
                            "<span style=\"color: #800000; text-decoration-color: #800000\">│</span>   <span style=\"color: #7f7f7f; text-decoration-color: #7f7f7f\">1322 │   │   </span><span style=\"color: #0000ff; text-decoration-color: #0000ff\">else</span>:                                                                             <span style=\"color: #800000; text-decoration-color: #800000\">│</span>\n",
                            "<span style=\"color: #800000; text-decoration-color: #800000\">│</span>   <span style=\"color: #7f7f7f; text-decoration-color: #7f7f7f\">1323 │   │   │   </span>st = clock2()                                                                 <span style=\"color: #800000; text-decoration-color: #800000\">│</span>\n",
                            "<span style=\"color: #800000; text-decoration-color: #800000\">│</span>   <span style=\"color: #7f7f7f; text-decoration-color: #7f7f7f\">1324 │   │   │   </span><span style=\"color: #0000ff; text-decoration-color: #0000ff\">try</span>:                                                                          <span style=\"color: #800000; text-decoration-color: #800000\">│</span>\n",
                            "<span style=\"color: #800000; text-decoration-color: #800000\">│</span> <span style=\"color: #800000; text-decoration-color: #800000\">❱ </span>1325 <span style=\"color: #7f7f7f; text-decoration-color: #7f7f7f\">│   │   │   │   </span>exec(code, glob, local_ns)                                                <span style=\"color: #800000; text-decoration-color: #800000\">│</span>\n",
                            "<span style=\"color: #800000; text-decoration-color: #800000\">│</span>   <span style=\"color: #7f7f7f; text-decoration-color: #7f7f7f\">1326 │   │   │   │   </span>out=<span style=\"color: #0000ff; text-decoration-color: #0000ff\">None</span>                                                                  <span style=\"color: #800000; text-decoration-color: #800000\">│</span>\n",
                            "<span style=\"color: #800000; text-decoration-color: #800000\">│</span>   <span style=\"color: #7f7f7f; text-decoration-color: #7f7f7f\">1327 │   │   │   │   # multi-line %%time case</span>                                                  <span style=\"color: #800000; text-decoration-color: #800000\">│</span>\n",
                            "<span style=\"color: #800000; text-decoration-color: #800000\">│</span>   <span style=\"color: #7f7f7f; text-decoration-color: #7f7f7f\">1328 │   │   │   │   </span><span style=\"color: #0000ff; text-decoration-color: #0000ff\">if</span> expr_val <span style=\"color: #ff00ff; text-decoration-color: #ff00ff\">is</span> <span style=\"color: #ff00ff; text-decoration-color: #ff00ff\">not</span> <span style=\"color: #0000ff; text-decoration-color: #0000ff\">None</span>:                                                  <span style=\"color: #800000; text-decoration-color: #800000\">│</span>\n",
                            "<span style=\"color: #800000; text-decoration-color: #800000\">│</span> <span style=\"color: #808000; text-decoration-color: #808000\">&lt;timed exec&gt;</span>:<span style=\"color: #0000ff; text-decoration-color: #0000ff\">4</span> in <span style=\"color: #00ff00; text-decoration-color: #00ff00\">&lt;module&gt;</span>                                                                       <span style=\"color: #800000; text-decoration-color: #800000\">│</span>\n",
                            "<span style=\"color: #800000; text-decoration-color: #800000\">│</span>                                                                                                  <span style=\"color: #800000; text-decoration-color: #800000\">│</span>\n",
                            "<span style=\"color: #800000; text-decoration-color: #800000\">│</span> <span style=\"color: #bfbf7f; text-decoration-color: #bfbf7f\">/opt/homebrew/Caskroom/mambaforge/base/envs/study1_3.10/lib/python3.10/site-packages/tqdm/</span><span style=\"color: #808000; text-decoration-color: #808000; font-weight: bold\">std.py</span> <span style=\"color: #800000; text-decoration-color: #800000\">│</span>\n",
                            "<span style=\"color: #800000; text-decoration-color: #800000\">│</span> :<span style=\"color: #0000ff; text-decoration-color: #0000ff\">805</span> in <span style=\"color: #00ff00; text-decoration-color: #00ff00\">inner</span>                                                                                    <span style=\"color: #800000; text-decoration-color: #800000\">│</span>\n",
                            "<span style=\"color: #800000; text-decoration-color: #800000\">│</span>                                                                                                  <span style=\"color: #800000; text-decoration-color: #800000\">│</span>\n",
                            "<span style=\"color: #800000; text-decoration-color: #800000\">│</span>   <span style=\"color: #7f7f7f; text-decoration-color: #7f7f7f\"> 802 │   │   │   │   # Apply the provided function (in **kwargs)</span>                               <span style=\"color: #800000; text-decoration-color: #800000\">│</span>\n",
                            "<span style=\"color: #800000; text-decoration-color: #800000\">│</span>   <span style=\"color: #7f7f7f; text-decoration-color: #7f7f7f\"> 803 │   │   │   │   # on the df using our wrapper (which provides bar updating)</span>               <span style=\"color: #800000; text-decoration-color: #800000\">│</span>\n",
                            "<span style=\"color: #800000; text-decoration-color: #800000\">│</span>   <span style=\"color: #7f7f7f; text-decoration-color: #7f7f7f\"> 804 │   │   │   │   </span><span style=\"color: #0000ff; text-decoration-color: #0000ff\">try</span>:                                                                      <span style=\"color: #800000; text-decoration-color: #800000\">│</span>\n",
                            "<span style=\"color: #800000; text-decoration-color: #800000\">│</span> <span style=\"color: #800000; text-decoration-color: #800000\">❱ </span> 805 <span style=\"color: #7f7f7f; text-decoration-color: #7f7f7f\">│   │   │   │   │   </span><span style=\"color: #0000ff; text-decoration-color: #0000ff\">return</span> <span style=\"color: #00ffff; text-decoration-color: #00ffff\">getattr</span>(df, df_function)(wrapper, **kwargs)                    <span style=\"color: #800000; text-decoration-color: #800000\">│</span>\n",
                            "<span style=\"color: #800000; text-decoration-color: #800000\">│</span>   <span style=\"color: #7f7f7f; text-decoration-color: #7f7f7f\"> 806 │   │   │   │   </span><span style=\"color: #0000ff; text-decoration-color: #0000ff\">finally</span>:                                                                  <span style=\"color: #800000; text-decoration-color: #800000\">│</span>\n",
                            "<span style=\"color: #800000; text-decoration-color: #800000\">│</span>   <span style=\"color: #7f7f7f; text-decoration-color: #7f7f7f\"> 807 │   │   │   │   │   </span>t.close()                                                             <span style=\"color: #800000; text-decoration-color: #800000\">│</span>\n",
                            "<span style=\"color: #800000; text-decoration-color: #800000\">│</span>   <span style=\"color: #7f7f7f; text-decoration-color: #7f7f7f\"> 808 </span>                                                                                          <span style=\"color: #800000; text-decoration-color: #800000\">│</span>\n",
                            "<span style=\"color: #800000; text-decoration-color: #800000\">│</span>                                                                                                  <span style=\"color: #800000; text-decoration-color: #800000\">│</span>\n",
                            "<span style=\"color: #800000; text-decoration-color: #800000\">│</span> <span style=\"color: #bfbf7f; text-decoration-color: #bfbf7f\">/opt/homebrew/Caskroom/mambaforge/base/envs/study1_3.10/lib/python3.10/site-packages/pandas/core</span> <span style=\"color: #800000; text-decoration-color: #800000\">│</span>\n",
                            "<span style=\"color: #800000; text-decoration-color: #800000\">│</span> <span style=\"color: #bfbf7f; text-decoration-color: #bfbf7f\">/</span><span style=\"color: #808000; text-decoration-color: #808000; font-weight: bold\">series.py</span>:<span style=\"color: #0000ff; text-decoration-color: #0000ff\">4771</span> in <span style=\"color: #00ff00; text-decoration-color: #00ff00\">apply</span>                                                                         <span style=\"color: #800000; text-decoration-color: #800000\">│</span>\n",
                            "<span style=\"color: #800000; text-decoration-color: #800000\">│</span>                                                                                                  <span style=\"color: #800000; text-decoration-color: #800000\">│</span>\n",
                            "<span style=\"color: #800000; text-decoration-color: #800000\">│</span>   <span style=\"color: #7f7f7f; text-decoration-color: #7f7f7f\">4768 </span><span style=\"color: #bfbf7f; text-decoration-color: #bfbf7f\">│   │   </span><span style=\"color: #808000; text-decoration-color: #808000\">Helsinki    2.484907</span>                                                              <span style=\"color: #800000; text-decoration-color: #800000\">│</span>\n",
                            "<span style=\"color: #800000; text-decoration-color: #800000\">│</span>   <span style=\"color: #7f7f7f; text-decoration-color: #7f7f7f\">4769 </span><span style=\"color: #bfbf7f; text-decoration-color: #bfbf7f\">│   │   </span><span style=\"color: #808000; text-decoration-color: #808000\">dtype: float64</span>                                                                    <span style=\"color: #800000; text-decoration-color: #800000\">│</span>\n",
                            "<span style=\"color: #800000; text-decoration-color: #800000\">│</span>   <span style=\"color: #7f7f7f; text-decoration-color: #7f7f7f\">4770 </span><span style=\"color: #bfbf7f; text-decoration-color: #bfbf7f\">│   │   </span><span style=\"color: #808000; text-decoration-color: #808000\">\"\"\"</span>                                                                               <span style=\"color: #800000; text-decoration-color: #800000\">│</span>\n",
                            "<span style=\"color: #800000; text-decoration-color: #800000\">│</span> <span style=\"color: #800000; text-decoration-color: #800000\">❱ </span>4771 <span style=\"color: #7f7f7f; text-decoration-color: #7f7f7f\">│   │   </span><span style=\"color: #0000ff; text-decoration-color: #0000ff\">return</span> SeriesApply(<span style=\"color: #00ffff; text-decoration-color: #00ffff\">self</span>, func, convert_dtype, args, kwargs).apply()               <span style=\"color: #800000; text-decoration-color: #800000\">│</span>\n",
                            "<span style=\"color: #800000; text-decoration-color: #800000\">│</span>   <span style=\"color: #7f7f7f; text-decoration-color: #7f7f7f\">4772 │   </span>                                                                                      <span style=\"color: #800000; text-decoration-color: #800000\">│</span>\n",
                            "<span style=\"color: #800000; text-decoration-color: #800000\">│</span>   <span style=\"color: #7f7f7f; text-decoration-color: #7f7f7f\">4773 │   </span><span style=\"color: #0000ff; text-decoration-color: #0000ff\">def</span> <span style=\"color: #00ff00; text-decoration-color: #00ff00\">_reduce</span>(                                                                          <span style=\"color: #800000; text-decoration-color: #800000\">│</span>\n",
                            "<span style=\"color: #800000; text-decoration-color: #800000\">│</span>   <span style=\"color: #7f7f7f; text-decoration-color: #7f7f7f\">4774 │   │   </span><span style=\"color: #00ffff; text-decoration-color: #00ffff\">self</span>,                                                                             <span style=\"color: #800000; text-decoration-color: #800000\">│</span>\n",
                            "<span style=\"color: #800000; text-decoration-color: #800000\">│</span>                                                                                                  <span style=\"color: #800000; text-decoration-color: #800000\">│</span>\n",
                            "<span style=\"color: #800000; text-decoration-color: #800000\">│</span> <span style=\"color: #bfbf7f; text-decoration-color: #bfbf7f\">/opt/homebrew/Caskroom/mambaforge/base/envs/study1_3.10/lib/python3.10/site-packages/pandas/core</span> <span style=\"color: #800000; text-decoration-color: #800000\">│</span>\n",
                            "<span style=\"color: #800000; text-decoration-color: #800000\">│</span> <span style=\"color: #bfbf7f; text-decoration-color: #bfbf7f\">/</span><span style=\"color: #808000; text-decoration-color: #808000; font-weight: bold\">apply.py</span>:<span style=\"color: #0000ff; text-decoration-color: #0000ff\">1123</span> in <span style=\"color: #00ff00; text-decoration-color: #00ff00\">apply</span>                                                                          <span style=\"color: #800000; text-decoration-color: #800000\">│</span>\n",
                            "<span style=\"color: #800000; text-decoration-color: #800000\">│</span>                                                                                                  <span style=\"color: #800000; text-decoration-color: #800000\">│</span>\n",
                            "<span style=\"color: #800000; text-decoration-color: #800000\">│</span>   <span style=\"color: #7f7f7f; text-decoration-color: #7f7f7f\">1120 │   │   │   </span><span style=\"color: #0000ff; text-decoration-color: #0000ff\">return</span> <span style=\"color: #00ffff; text-decoration-color: #00ffff\">self</span>.apply_str()                                                       <span style=\"color: #800000; text-decoration-color: #800000\">│</span>\n",
                            "<span style=\"color: #800000; text-decoration-color: #800000\">│</span>   <span style=\"color: #7f7f7f; text-decoration-color: #7f7f7f\">1121 │   │   </span>                                                                                  <span style=\"color: #800000; text-decoration-color: #800000\">│</span>\n",
                            "<span style=\"color: #800000; text-decoration-color: #800000\">│</span>   <span style=\"color: #7f7f7f; text-decoration-color: #7f7f7f\">1122 │   │   # self.f is Callable</span>                                                              <span style=\"color: #800000; text-decoration-color: #800000\">│</span>\n",
                            "<span style=\"color: #800000; text-decoration-color: #800000\">│</span> <span style=\"color: #800000; text-decoration-color: #800000\">❱ </span>1123 <span style=\"color: #7f7f7f; text-decoration-color: #7f7f7f\">│   │   </span><span style=\"color: #0000ff; text-decoration-color: #0000ff\">return</span> <span style=\"color: #00ffff; text-decoration-color: #00ffff\">self</span>.apply_standard()                                                      <span style=\"color: #800000; text-decoration-color: #800000\">│</span>\n",
                            "<span style=\"color: #800000; text-decoration-color: #800000\">│</span>   <span style=\"color: #7f7f7f; text-decoration-color: #7f7f7f\">1124 │   </span>                                                                                      <span style=\"color: #800000; text-decoration-color: #800000\">│</span>\n",
                            "<span style=\"color: #800000; text-decoration-color: #800000\">│</span>   <span style=\"color: #7f7f7f; text-decoration-color: #7f7f7f\">1125 │   </span><span style=\"color: #0000ff; text-decoration-color: #0000ff\">def</span> <span style=\"color: #00ff00; text-decoration-color: #00ff00\">agg</span>(<span style=\"color: #00ffff; text-decoration-color: #00ffff\">self</span>):                                                                        <span style=\"color: #800000; text-decoration-color: #800000\">│</span>\n",
                            "<span style=\"color: #800000; text-decoration-color: #800000\">│</span>   <span style=\"color: #7f7f7f; text-decoration-color: #7f7f7f\">1126 │   │   </span>result = <span style=\"color: #00ffff; text-decoration-color: #00ffff\">super</span>().agg()                                                            <span style=\"color: #800000; text-decoration-color: #800000\">│</span>\n",
                            "<span style=\"color: #800000; text-decoration-color: #800000\">│</span>                                                                                                  <span style=\"color: #800000; text-decoration-color: #800000\">│</span>\n",
                            "<span style=\"color: #800000; text-decoration-color: #800000\">│</span> <span style=\"color: #bfbf7f; text-decoration-color: #bfbf7f\">/opt/homebrew/Caskroom/mambaforge/base/envs/study1_3.10/lib/python3.10/site-packages/pandas/core</span> <span style=\"color: #800000; text-decoration-color: #800000\">│</span>\n",
                            "<span style=\"color: #800000; text-decoration-color: #800000\">│</span> <span style=\"color: #bfbf7f; text-decoration-color: #bfbf7f\">/</span><span style=\"color: #808000; text-decoration-color: #808000; font-weight: bold\">apply.py</span>:<span style=\"color: #0000ff; text-decoration-color: #0000ff\">1174</span> in <span style=\"color: #00ff00; text-decoration-color: #00ff00\">apply_standard</span>                                                                 <span style=\"color: #800000; text-decoration-color: #800000\">│</span>\n",
                            "<span style=\"color: #800000; text-decoration-color: #800000\">│</span>                                                                                                  <span style=\"color: #800000; text-decoration-color: #800000\">│</span>\n",
                            "<span style=\"color: #800000; text-decoration-color: #800000\">│</span>   <span style=\"color: #7f7f7f; text-decoration-color: #7f7f7f\">1171 │   │   │   │   </span>mapped = obj._values.map(f)                                               <span style=\"color: #800000; text-decoration-color: #800000\">│</span>\n",
                            "<span style=\"color: #800000; text-decoration-color: #800000\">│</span>   <span style=\"color: #7f7f7f; text-decoration-color: #7f7f7f\">1172 │   │   │   </span><span style=\"color: #0000ff; text-decoration-color: #0000ff\">else</span>:                                                                         <span style=\"color: #800000; text-decoration-color: #800000\">│</span>\n",
                            "<span style=\"color: #800000; text-decoration-color: #800000\">│</span>   <span style=\"color: #7f7f7f; text-decoration-color: #7f7f7f\">1173 │   │   │   │   </span>values = obj.astype(<span style=\"color: #00ffff; text-decoration-color: #00ffff\">object</span>)._values                                       <span style=\"color: #800000; text-decoration-color: #800000\">│</span>\n",
                            "<span style=\"color: #800000; text-decoration-color: #800000\">│</span> <span style=\"color: #800000; text-decoration-color: #800000\">❱ </span>1174 <span style=\"color: #7f7f7f; text-decoration-color: #7f7f7f\">│   │   │   │   </span>mapped = lib.map_infer(                                                   <span style=\"color: #800000; text-decoration-color: #800000\">│</span>\n",
                            "<span style=\"color: #800000; text-decoration-color: #800000\">│</span>   <span style=\"color: #7f7f7f; text-decoration-color: #7f7f7f\">1175 │   │   │   │   │   </span>values,                                                               <span style=\"color: #800000; text-decoration-color: #800000\">│</span>\n",
                            "<span style=\"color: #800000; text-decoration-color: #800000\">│</span>   <span style=\"color: #7f7f7f; text-decoration-color: #7f7f7f\">1176 │   │   │   │   │   </span>f,                                                                    <span style=\"color: #800000; text-decoration-color: #800000\">│</span>\n",
                            "<span style=\"color: #800000; text-decoration-color: #800000\">│</span>   <span style=\"color: #7f7f7f; text-decoration-color: #7f7f7f\">1177 │   │   │   │   │   </span>convert=<span style=\"color: #00ffff; text-decoration-color: #00ffff\">self</span>.convert_dtype,                                           <span style=\"color: #800000; text-decoration-color: #800000\">│</span>\n",
                            "<span style=\"color: #800000; text-decoration-color: #800000\">│</span>                                                                                                  <span style=\"color: #800000; text-decoration-color: #800000\">│</span>\n",
                            "<span style=\"color: #800000; text-decoration-color: #800000\">│</span> <span style=\"color: #bfbf7f; text-decoration-color: #bfbf7f\">/Users/nyxinsane/Documents/Work - UvA/Automating Equity/Study 1/Study1_Code/1. Cleaning and </span>     <span style=\"color: #800000; text-decoration-color: #800000\">│</span>\n",
                            "<span style=\"color: #800000; text-decoration-color: #800000\">│</span> <span style=\"color: #bfbf7f; text-decoration-color: #bfbf7f\">Preprocessing/pandas/_libs/</span><span style=\"color: #808000; text-decoration-color: #808000; font-weight: bold\">lib.pyx</span>:<span style=\"color: #0000ff; text-decoration-color: #0000ff\">2924</span> in <span style=\"color: #00ff00; text-decoration-color: #00ff00\">pandas._libs.lib.map_infer</span>                            <span style=\"color: #800000; text-decoration-color: #800000\">│</span>\n",
                            "<span style=\"color: #800000; text-decoration-color: #800000\">│</span>                                                                                                  <span style=\"color: #800000; text-decoration-color: #800000\">│</span>\n",
                            "<span style=\"color: #800000; text-decoration-color: #800000\">│</span> <span style=\"color: #800000; text-decoration-color: #800000; font-style: italic\">[Errno 2] No such file or directory: '/Users/nyxinsane/Documents/Work - UvA/Automating </span>          <span style=\"color: #800000; text-decoration-color: #800000\">│</span>\n",
                            "<span style=\"color: #800000; text-decoration-color: #800000\">│</span> <span style=\"color: #800000; text-decoration-color: #800000; font-style: italic\">Equity/Study 1/Study1_Code/1. Cleaning and Preprocessing/pandas/_libs/lib.pyx'</span>                   <span style=\"color: #800000; text-decoration-color: #800000\">│</span>\n",
                            "<span style=\"color: #800000; text-decoration-color: #800000\">│</span>                                                                                                  <span style=\"color: #800000; text-decoration-color: #800000\">│</span>\n",
                            "<span style=\"color: #800000; text-decoration-color: #800000\">│</span> <span style=\"color: #bfbf7f; text-decoration-color: #bfbf7f\">/opt/homebrew/Caskroom/mambaforge/base/envs/study1_3.10/lib/python3.10/site-packages/tqdm/</span><span style=\"color: #808000; text-decoration-color: #808000; font-weight: bold\">std.py</span> <span style=\"color: #800000; text-decoration-color: #800000\">│</span>\n",
                            "<span style=\"color: #800000; text-decoration-color: #800000\">│</span> :<span style=\"color: #0000ff; text-decoration-color: #0000ff\">800</span> in <span style=\"color: #00ff00; text-decoration-color: #00ff00\">wrapper</span>                                                                                  <span style=\"color: #800000; text-decoration-color: #800000\">│</span>\n",
                            "<span style=\"color: #800000; text-decoration-color: #800000\">│</span>                                                                                                  <span style=\"color: #800000; text-decoration-color: #800000\">│</span>\n",
                            "<span style=\"color: #800000; text-decoration-color: #800000\">│</span>   <span style=\"color: #7f7f7f; text-decoration-color: #7f7f7f\"> 797 │   │   │   │   │   # on the first column/row to decide whether it can</span>                    <span style=\"color: #800000; text-decoration-color: #800000\">│</span>\n",
                            "<span style=\"color: #800000; text-decoration-color: #800000\">│</span>   <span style=\"color: #7f7f7f; text-decoration-color: #7f7f7f\"> 798 │   │   │   │   │   # take a fast or slow code path; so stop when t.total==t.n</span>            <span style=\"color: #800000; text-decoration-color: #800000\">│</span>\n",
                            "<span style=\"color: #800000; text-decoration-color: #800000\">│</span>   <span style=\"color: #7f7f7f; text-decoration-color: #7f7f7f\"> 799 │   │   │   │   │   </span>t.update(n=<span style=\"color: #0000ff; text-decoration-color: #0000ff\">1</span> <span style=\"color: #0000ff; text-decoration-color: #0000ff\">if</span> <span style=\"color: #ff00ff; text-decoration-color: #ff00ff\">not</span> t.total <span style=\"color: #ff00ff; text-decoration-color: #ff00ff\">or</span> t.n &lt; t.total <span style=\"color: #0000ff; text-decoration-color: #0000ff\">else</span> <span style=\"color: #0000ff; text-decoration-color: #0000ff\">0</span>)                  <span style=\"color: #800000; text-decoration-color: #800000\">│</span>\n",
                            "<span style=\"color: #800000; text-decoration-color: #800000\">│</span> <span style=\"color: #800000; text-decoration-color: #800000\">❱ </span> 800 <span style=\"color: #7f7f7f; text-decoration-color: #7f7f7f\">│   │   │   │   │   </span><span style=\"color: #0000ff; text-decoration-color: #0000ff\">return</span> func(*args, **kwargs)                                          <span style=\"color: #800000; text-decoration-color: #800000\">│</span>\n",
                            "<span style=\"color: #800000; text-decoration-color: #800000\">│</span>   <span style=\"color: #7f7f7f; text-decoration-color: #7f7f7f\"> 801 │   │   │   │   </span>                                                                          <span style=\"color: #800000; text-decoration-color: #800000\">│</span>\n",
                            "<span style=\"color: #800000; text-decoration-color: #800000\">│</span>   <span style=\"color: #7f7f7f; text-decoration-color: #7f7f7f\"> 802 │   │   │   │   # Apply the provided function (in **kwargs)</span>                               <span style=\"color: #800000; text-decoration-color: #800000\">│</span>\n",
                            "<span style=\"color: #800000; text-decoration-color: #800000\">│</span>   <span style=\"color: #7f7f7f; text-decoration-color: #7f7f7f\"> 803 │   │   │   │   # on the df using our wrapper (which provides bar updating)</span>               <span style=\"color: #800000; text-decoration-color: #800000\">│</span>\n",
                            "<span style=\"color: #800000; text-decoration-color: #800000\">│</span> <span style=\"color: #808000; text-decoration-color: #808000\">&lt;timed exec&gt;</span>:<span style=\"color: #0000ff; text-decoration-color: #0000ff\">7</span> in <span style=\"color: #00ff00; text-decoration-color: #00ff00\">&lt;lambda&gt;</span>                                                                       <span style=\"color: #800000; text-decoration-color: #800000\">│</span>\n",
                            "<span style=\"color: #800000; text-decoration-color: #800000\">│</span>                                                                                                  <span style=\"color: #800000; text-decoration-color: #800000\">│</span>\n",
                            "<span style=\"color: #800000; text-decoration-color: #800000\">│</span> <span style=\"color: #bfbf7f; text-decoration-color: #bfbf7f\">/opt/homebrew/Caskroom/mambaforge/base/envs/study1_3.10/lib/python3.10/site-packages/spacy/</span><span style=\"color: #808000; text-decoration-color: #808000; font-weight: bold\">langu</span> <span style=\"color: #800000; text-decoration-color: #800000\">│</span>\n",
                            "<span style=\"color: #800000; text-decoration-color: #800000\">│</span> <span style=\"color: #808000; text-decoration-color: #808000; font-weight: bold\">age.py</span>:<span style=\"color: #0000ff; text-decoration-color: #0000ff\">1011</span> in <span style=\"color: #00ff00; text-decoration-color: #00ff00\">__call__</span>                                                                          <span style=\"color: #800000; text-decoration-color: #800000\">│</span>\n",
                            "<span style=\"color: #800000; text-decoration-color: #800000\">│</span>                                                                                                  <span style=\"color: #800000; text-decoration-color: #800000\">│</span>\n",
                            "<span style=\"color: #800000; text-decoration-color: #800000\">│</span>   <span style=\"color: #7f7f7f; text-decoration-color: #7f7f7f\">1008 │   │   │   </span><span style=\"color: #0000ff; text-decoration-color: #0000ff\">if</span> <span style=\"color: #00ffff; text-decoration-color: #00ffff\">hasattr</span>(proc, <span style=\"color: #808000; text-decoration-color: #808000\">\"get_error_handler\"</span>):                                        <span style=\"color: #800000; text-decoration-color: #800000\">│</span>\n",
                            "<span style=\"color: #800000; text-decoration-color: #800000\">│</span>   <span style=\"color: #7f7f7f; text-decoration-color: #7f7f7f\">1009 │   │   │   │   </span>error_handler = proc.get_error_handler()                                  <span style=\"color: #800000; text-decoration-color: #800000\">│</span>\n",
                            "<span style=\"color: #800000; text-decoration-color: #800000\">│</span>   <span style=\"color: #7f7f7f; text-decoration-color: #7f7f7f\">1010 │   │   │   </span><span style=\"color: #0000ff; text-decoration-color: #0000ff\">try</span>:                                                                          <span style=\"color: #800000; text-decoration-color: #800000\">│</span>\n",
                            "<span style=\"color: #800000; text-decoration-color: #800000\">│</span> <span style=\"color: #800000; text-decoration-color: #800000\">❱ </span>1011 <span style=\"color: #7f7f7f; text-decoration-color: #7f7f7f\">│   │   │   │   </span>doc = proc(doc, **component_cfg.get(name, {}))  <span style=\"color: #7f7f7f; text-decoration-color: #7f7f7f\"># type: ignore[call-arg]</span>  <span style=\"color: #800000; text-decoration-color: #800000\">│</span>\n",
                            "<span style=\"color: #800000; text-decoration-color: #800000\">│</span>   <span style=\"color: #7f7f7f; text-decoration-color: #7f7f7f\">1012 │   │   │   </span><span style=\"color: #0000ff; text-decoration-color: #0000ff\">except</span> <span style=\"color: #00ffff; text-decoration-color: #00ffff\">KeyError</span> <span style=\"color: #0000ff; text-decoration-color: #0000ff\">as</span> e:                                                         <span style=\"color: #800000; text-decoration-color: #800000\">│</span>\n",
                            "<span style=\"color: #800000; text-decoration-color: #800000\">│</span>   <span style=\"color: #7f7f7f; text-decoration-color: #7f7f7f\">1013 │   │   │   │   # This typically happens if a component is not initialized</span>                <span style=\"color: #800000; text-decoration-color: #800000\">│</span>\n",
                            "<span style=\"color: #800000; text-decoration-color: #800000\">│</span>   <span style=\"color: #7f7f7f; text-decoration-color: #7f7f7f\">1014 │   │   │   │   </span><span style=\"color: #0000ff; text-decoration-color: #0000ff\">raise</span> <span style=\"color: #00ffff; text-decoration-color: #00ffff\">ValueError</span>(Errors.E109.format(name=name)) <span style=\"color: #0000ff; text-decoration-color: #0000ff\">from</span> <span style=\"color: #00ffff; text-decoration-color: #00ffff; text-decoration: underline\">e</span>                    <span style=\"color: #800000; text-decoration-color: #800000\">│</span>\n",
                            "<span style=\"color: #800000; text-decoration-color: #800000\">│</span>                                                                                                  <span style=\"color: #800000; text-decoration-color: #800000\">│</span>\n",
                            "<span style=\"color: #800000; text-decoration-color: #800000\">│</span> <span style=\"color: #bfbf7f; text-decoration-color: #bfbf7f\">/Users/nyxinsane/Documents/Work - UvA/Automating Equity/Study 1/Study1_Code/1. Cleaning and </span>     <span style=\"color: #800000; text-decoration-color: #800000\">│</span>\n",
                            "<span style=\"color: #800000; text-decoration-color: #800000\">│</span> <span style=\"color: #bfbf7f; text-decoration-color: #bfbf7f\">Preprocessing/spacy/pipeline/</span><span style=\"color: #808000; text-decoration-color: #808000; font-weight: bold\">trainable_pipe.pyx</span>:<span style=\"color: #0000ff; text-decoration-color: #0000ff\">52</span> in                                            <span style=\"color: #800000; text-decoration-color: #800000\">│</span>\n",
                            "<span style=\"color: #800000; text-decoration-color: #800000\">│</span> <span style=\"color: #00ff00; text-decoration-color: #00ff00\">spacy.pipeline.trainable_pipe.TrainablePipe.__call__</span>                                             <span style=\"color: #800000; text-decoration-color: #800000\">│</span>\n",
                            "<span style=\"color: #800000; text-decoration-color: #800000\">│</span>                                                                                                  <span style=\"color: #800000; text-decoration-color: #800000\">│</span>\n",
                            "<span style=\"color: #800000; text-decoration-color: #800000\">│</span> <span style=\"color: #800000; text-decoration-color: #800000; font-style: italic\">[Errno 2] No such file or directory: '/Users/nyxinsane/Documents/Work - UvA/Automating </span>          <span style=\"color: #800000; text-decoration-color: #800000\">│</span>\n",
                            "<span style=\"color: #800000; text-decoration-color: #800000\">│</span> <span style=\"color: #800000; text-decoration-color: #800000; font-style: italic\">Equity/Study 1/Study1_Code/1. Cleaning and Preprocessing/spacy/pipeline/trainable_pipe.pyx'</span>      <span style=\"color: #800000; text-decoration-color: #800000\">│</span>\n",
                            "<span style=\"color: #800000; text-decoration-color: #800000\">│</span>                                                                                                  <span style=\"color: #800000; text-decoration-color: #800000\">│</span>\n",
                            "<span style=\"color: #800000; text-decoration-color: #800000\">│</span> <span style=\"color: #bfbf7f; text-decoration-color: #bfbf7f\">/Users/nyxinsane/Documents/Work - UvA/Automating Equity/Study 1/Study1_Code/1. Cleaning and </span>     <span style=\"color: #800000; text-decoration-color: #800000\">│</span>\n",
                            "<span style=\"color: #800000; text-decoration-color: #800000\">│</span> <span style=\"color: #bfbf7f; text-decoration-color: #bfbf7f\">Preprocessing/spacy/pipeline/</span><span style=\"color: #808000; text-decoration-color: #808000; font-weight: bold\">transition_parser.pyx</span>:<span style=\"color: #0000ff; text-decoration-color: #0000ff\">253</span> in                                        <span style=\"color: #800000; text-decoration-color: #800000\">│</span>\n",
                            "<span style=\"color: #800000; text-decoration-color: #800000\">│</span> <span style=\"color: #00ff00; text-decoration-color: #00ff00\">spacy.pipeline.transition_parser.Parser.predict</span>                                                  <span style=\"color: #800000; text-decoration-color: #800000\">│</span>\n",
                            "<span style=\"color: #800000; text-decoration-color: #800000\">│</span>                                                                                                  <span style=\"color: #800000; text-decoration-color: #800000\">│</span>\n",
                            "<span style=\"color: #800000; text-decoration-color: #800000\">│</span> <span style=\"color: #800000; text-decoration-color: #800000; font-style: italic\">[Errno 2] No such file or directory: '/Users/nyxinsane/Documents/Work - UvA/Automating </span>          <span style=\"color: #800000; text-decoration-color: #800000\">│</span>\n",
                            "<span style=\"color: #800000; text-decoration-color: #800000\">│</span> <span style=\"color: #800000; text-decoration-color: #800000; font-style: italic\">Equity/Study 1/Study1_Code/1. Cleaning and Preprocessing/spacy/pipeline/transition_parser.pyx'</span>   <span style=\"color: #800000; text-decoration-color: #800000\">│</span>\n",
                            "<span style=\"color: #800000; text-decoration-color: #800000\">│</span>                                                                                                  <span style=\"color: #800000; text-decoration-color: #800000\">│</span>\n",
                            "<span style=\"color: #800000; text-decoration-color: #800000\">│</span> <span style=\"color: #bfbf7f; text-decoration-color: #bfbf7f\">/Users/nyxinsane/Documents/Work - UvA/Automating Equity/Study 1/Study1_Code/1. Cleaning and </span>     <span style=\"color: #800000; text-decoration-color: #800000\">│</span>\n",
                            "<span style=\"color: #800000; text-decoration-color: #800000\">│</span> <span style=\"color: #bfbf7f; text-decoration-color: #bfbf7f\">Preprocessing/spacy/pipeline/</span><span style=\"color: #808000; text-decoration-color: #808000; font-weight: bold\">transition_parser.pyx</span>:<span style=\"color: #0000ff; text-decoration-color: #0000ff\">274</span> in                                        <span style=\"color: #800000; text-decoration-color: #800000\">│</span>\n",
                            "<span style=\"color: #800000; text-decoration-color: #800000\">│</span> <span style=\"color: #00ff00; text-decoration-color: #00ff00\">spacy.pipeline.transition_parser.Parser.greedy_parse</span>                                             <span style=\"color: #800000; text-decoration-color: #800000\">│</span>\n",
                            "<span style=\"color: #800000; text-decoration-color: #800000\">│</span>                                                                                                  <span style=\"color: #800000; text-decoration-color: #800000\">│</span>\n",
                            "<span style=\"color: #800000; text-decoration-color: #800000\">│</span> <span style=\"color: #800000; text-decoration-color: #800000; font-style: italic\">[Errno 2] No such file or directory: '/Users/nyxinsane/Documents/Work - UvA/Automating </span>          <span style=\"color: #800000; text-decoration-color: #800000\">│</span>\n",
                            "<span style=\"color: #800000; text-decoration-color: #800000\">│</span> <span style=\"color: #800000; text-decoration-color: #800000; font-style: italic\">Equity/Study 1/Study1_Code/1. Cleaning and Preprocessing/spacy/pipeline/transition_parser.pyx'</span>   <span style=\"color: #800000; text-decoration-color: #800000\">│</span>\n",
                            "<span style=\"color: #800000; text-decoration-color: #800000\">│</span>                                                                                                  <span style=\"color: #800000; text-decoration-color: #800000\">│</span>\n",
                            "<span style=\"color: #800000; text-decoration-color: #800000\">│</span> <span style=\"color: #bfbf7f; text-decoration-color: #bfbf7f\">/opt/homebrew/Caskroom/mambaforge/base/envs/study1_3.10/lib/python3.10/site-packages/thinc/</span><span style=\"color: #808000; text-decoration-color: #808000; font-weight: bold\">model</span> <span style=\"color: #800000; text-decoration-color: #800000\">│</span>\n",
                            "<span style=\"color: #800000; text-decoration-color: #800000\">│</span> <span style=\"color: #808000; text-decoration-color: #808000; font-weight: bold\">.py</span>:<span style=\"color: #0000ff; text-decoration-color: #0000ff\">315</span> in <span style=\"color: #00ff00; text-decoration-color: #00ff00\">predict</span>                                                                               <span style=\"color: #800000; text-decoration-color: #800000\">│</span>\n",
                            "<span style=\"color: #800000; text-decoration-color: #800000\">│</span>                                                                                                  <span style=\"color: #800000; text-decoration-color: #800000\">│</span>\n",
                            "<span style=\"color: #800000; text-decoration-color: #800000\">│</span>   <span style=\"color: #7f7f7f; text-decoration-color: #7f7f7f\">312 </span><span style=\"color: #bfbfbf; text-decoration-color: #bfbfbf\">│   │   </span><span style=\"color: #808000; text-decoration-color: #808000\">\"\"\"Call the model's `forward` function with `is_train=False`, and return</span>           <span style=\"color: #800000; text-decoration-color: #800000\">│</span>\n",
                            "<span style=\"color: #800000; text-decoration-color: #800000\">│</span>   <span style=\"color: #7f7f7f; text-decoration-color: #7f7f7f\">313 </span><span style=\"color: #bfbf7f; text-decoration-color: #bfbf7f\">│   │   </span><span style=\"color: #808000; text-decoration-color: #808000\">only the output, instead of the `(output, callback)` tuple.</span>                        <span style=\"color: #800000; text-decoration-color: #800000\">│</span>\n",
                            "<span style=\"color: #800000; text-decoration-color: #800000\">│</span>   <span style=\"color: #7f7f7f; text-decoration-color: #7f7f7f\">314 </span><span style=\"color: #bfbf7f; text-decoration-color: #bfbf7f\">│   │   </span><span style=\"color: #808000; text-decoration-color: #808000\">\"\"\"</span>                                                                                <span style=\"color: #800000; text-decoration-color: #800000\">│</span>\n",
                            "<span style=\"color: #800000; text-decoration-color: #800000\">│</span> <span style=\"color: #800000; text-decoration-color: #800000\">❱ </span>315 <span style=\"color: #7f7f7f; text-decoration-color: #7f7f7f\">│   │   </span><span style=\"color: #0000ff; text-decoration-color: #0000ff\">return</span> <span style=\"color: #00ffff; text-decoration-color: #00ffff\">self</span>._func(<span style=\"color: #00ffff; text-decoration-color: #00ffff\">self</span>, X, is_train=<span style=\"color: #0000ff; text-decoration-color: #0000ff\">False</span>)[<span style=\"color: #0000ff; text-decoration-color: #0000ff\">0</span>]                                      <span style=\"color: #800000; text-decoration-color: #800000\">│</span>\n",
                            "<span style=\"color: #800000; text-decoration-color: #800000\">│</span>   <span style=\"color: #7f7f7f; text-decoration-color: #7f7f7f\">316 │   </span>                                                                                       <span style=\"color: #800000; text-decoration-color: #800000\">│</span>\n",
                            "<span style=\"color: #800000; text-decoration-color: #800000\">│</span>   <span style=\"color: #7f7f7f; text-decoration-color: #7f7f7f\">317 │   </span><span style=\"color: #0000ff; text-decoration-color: #0000ff\">def</span> <span style=\"color: #00ff00; text-decoration-color: #00ff00\">finish_update</span>(<span style=\"color: #00ffff; text-decoration-color: #00ffff\">self</span>, optimizer: Optimizer) -&gt; <span style=\"color: #0000ff; text-decoration-color: #0000ff\">None</span>:                                 <span style=\"color: #800000; text-decoration-color: #800000\">│</span>\n",
                            "<span style=\"color: #800000; text-decoration-color: #800000\">│</span>   <span style=\"color: #7f7f7f; text-decoration-color: #7f7f7f\">318 </span><span style=\"color: #bfbfbf; text-decoration-color: #bfbfbf\">│   │   </span><span style=\"color: #808000; text-decoration-color: #808000\">\"\"\"Update parameters with current gradients. The optimizer is called</span>               <span style=\"color: #800000; text-decoration-color: #800000\">│</span>\n",
                            "<span style=\"color: #800000; text-decoration-color: #800000\">│</span>                                                                                                  <span style=\"color: #800000; text-decoration-color: #800000\">│</span>\n",
                            "<span style=\"color: #800000; text-decoration-color: #800000\">│</span> <span style=\"color: #bfbf7f; text-decoration-color: #bfbf7f\">/opt/homebrew/Caskroom/mambaforge/base/envs/study1_3.10/lib/python3.10/site-packages/spacy/ml/</span><span style=\"color: #808000; text-decoration-color: #808000; font-weight: bold\">tb</span> <span style=\"color: #800000; text-decoration-color: #800000\">│</span>\n",
                            "<span style=\"color: #800000; text-decoration-color: #800000\">│</span> <span style=\"color: #808000; text-decoration-color: #808000; font-weight: bold\">_framework.py</span>:<span style=\"color: #0000ff; text-decoration-color: #0000ff\">33</span> in <span style=\"color: #00ff00; text-decoration-color: #00ff00\">forward</span>                                                                      <span style=\"color: #800000; text-decoration-color: #800000\">│</span>\n",
                            "<span style=\"color: #800000; text-decoration-color: #800000\">│</span>                                                                                                  <span style=\"color: #800000; text-decoration-color: #800000\">│</span>\n",
                            "<span style=\"color: #800000; text-decoration-color: #800000\">│</span>   <span style=\"color: #7f7f7f; text-decoration-color: #7f7f7f\">30 </span>                                                                                            <span style=\"color: #800000; text-decoration-color: #800000\">│</span>\n",
                            "<span style=\"color: #800000; text-decoration-color: #800000\">│</span>   <span style=\"color: #7f7f7f; text-decoration-color: #7f7f7f\">31 </span>                                                                                            <span style=\"color: #800000; text-decoration-color: #800000\">│</span>\n",
                            "<span style=\"color: #800000; text-decoration-color: #800000\">│</span>   <span style=\"color: #7f7f7f; text-decoration-color: #7f7f7f\">32 </span><span style=\"color: #0000ff; text-decoration-color: #0000ff\">def</span> <span style=\"color: #00ff00; text-decoration-color: #00ff00\">forward</span>(model, X, is_train):                                                            <span style=\"color: #800000; text-decoration-color: #800000\">│</span>\n",
                            "<span style=\"color: #800000; text-decoration-color: #800000\">│</span> <span style=\"color: #800000; text-decoration-color: #800000\">❱ </span>33 <span style=\"color: #7f7f7f; text-decoration-color: #7f7f7f\">│   </span>step_model = ParserStepModel(                                                           <span style=\"color: #800000; text-decoration-color: #800000\">│</span>\n",
                            "<span style=\"color: #800000; text-decoration-color: #800000\">│</span>   <span style=\"color: #7f7f7f; text-decoration-color: #7f7f7f\">34 │   │   </span>X,                                                                                  <span style=\"color: #800000; text-decoration-color: #800000\">│</span>\n",
                            "<span style=\"color: #800000; text-decoration-color: #800000\">│</span>   <span style=\"color: #7f7f7f; text-decoration-color: #7f7f7f\">35 │   │   </span>model.layers,                                                                       <span style=\"color: #800000; text-decoration-color: #800000\">│</span>\n",
                            "<span style=\"color: #800000; text-decoration-color: #800000\">│</span>   <span style=\"color: #7f7f7f; text-decoration-color: #7f7f7f\">36 │   │   </span>unseen_classes=model.attrs[<span style=\"color: #808000; text-decoration-color: #808000\">\"unseen_classes\"</span>],                                       <span style=\"color: #800000; text-decoration-color: #800000\">│</span>\n",
                            "<span style=\"color: #800000; text-decoration-color: #800000\">│</span>                                                                                                  <span style=\"color: #800000; text-decoration-color: #800000\">│</span>\n",
                            "<span style=\"color: #800000; text-decoration-color: #800000\">│</span> <span style=\"color: #bfbf7f; text-decoration-color: #bfbf7f\">/Users/nyxinsane/Documents/Work - UvA/Automating Equity/Study 1/Study1_Code/1. Cleaning and </span>     <span style=\"color: #800000; text-decoration-color: #800000\">│</span>\n",
                            "<span style=\"color: #800000; text-decoration-color: #800000\">│</span> <span style=\"color: #bfbf7f; text-decoration-color: #bfbf7f\">Preprocessing/spacy/ml/</span><span style=\"color: #808000; text-decoration-color: #808000; font-weight: bold\">parser_model.pyx</span>:<span style=\"color: #0000ff; text-decoration-color: #0000ff\">213</span> in <span style=\"color: #00ff00; text-decoration-color: #00ff00\">spacy.ml.parser_model.ParserStepModel.__init__</span>    <span style=\"color: #800000; text-decoration-color: #800000\">│</span>\n",
                            "<span style=\"color: #800000; text-decoration-color: #800000\">│</span>                                                                                                  <span style=\"color: #800000; text-decoration-color: #800000\">│</span>\n",
                            "<span style=\"color: #800000; text-decoration-color: #800000\">│</span> <span style=\"color: #800000; text-decoration-color: #800000; font-style: italic\">[Errno 2] No such file or directory: '/Users/nyxinsane/Documents/Work - UvA/Automating </span>          <span style=\"color: #800000; text-decoration-color: #800000\">│</span>\n",
                            "<span style=\"color: #800000; text-decoration-color: #800000\">│</span> <span style=\"color: #800000; text-decoration-color: #800000; font-style: italic\">Equity/Study 1/Study1_Code/1. Cleaning and Preprocessing/spacy/ml/parser_model.pyx'</span>              <span style=\"color: #800000; text-decoration-color: #800000\">│</span>\n",
                            "<span style=\"color: #800000; text-decoration-color: #800000\">│</span>                                                                                                  <span style=\"color: #800000; text-decoration-color: #800000\">│</span>\n",
                            "<span style=\"color: #800000; text-decoration-color: #800000\">│</span> <span style=\"color: #bfbf7f; text-decoration-color: #bfbf7f\">/opt/homebrew/Caskroom/mambaforge/base/envs/study1_3.10/lib/python3.10/site-packages/thinc/</span><span style=\"color: #808000; text-decoration-color: #808000; font-weight: bold\">model</span> <span style=\"color: #800000; text-decoration-color: #800000\">│</span>\n",
                            "<span style=\"color: #800000; text-decoration-color: #800000\">│</span> <span style=\"color: #808000; text-decoration-color: #808000; font-weight: bold\">.py</span>:<span style=\"color: #0000ff; text-decoration-color: #0000ff\">291</span> in <span style=\"color: #00ff00; text-decoration-color: #00ff00\">__call__</span>                                                                              <span style=\"color: #800000; text-decoration-color: #800000\">│</span>\n",
                            "<span style=\"color: #800000; text-decoration-color: #800000\">│</span>                                                                                                  <span style=\"color: #800000; text-decoration-color: #800000\">│</span>\n",
                            "<span style=\"color: #800000; text-decoration-color: #800000\">│</span>   <span style=\"color: #7f7f7f; text-decoration-color: #7f7f7f\">288 │   </span><span style=\"color: #0000ff; text-decoration-color: #0000ff\">def</span> <span style=\"color: #00ff00; text-decoration-color: #00ff00\">__call__</span>(<span style=\"color: #00ffff; text-decoration-color: #00ffff\">self</span>, X: InT, is_train: <span style=\"color: #00ffff; text-decoration-color: #00ffff\">bool</span>) -&gt; Tuple[OutT, Callable]:                   <span style=\"color: #800000; text-decoration-color: #800000\">│</span>\n",
                            "<span style=\"color: #800000; text-decoration-color: #800000\">│</span>   <span style=\"color: #7f7f7f; text-decoration-color: #7f7f7f\">289 </span><span style=\"color: #bfbfbf; text-decoration-color: #bfbfbf\">│   │   </span><span style=\"color: #808000; text-decoration-color: #808000\">\"\"\"Call the model's `forward` function, returning the output and a</span>                 <span style=\"color: #800000; text-decoration-color: #800000\">│</span>\n",
                            "<span style=\"color: #800000; text-decoration-color: #800000\">│</span>   <span style=\"color: #7f7f7f; text-decoration-color: #7f7f7f\">290 </span><span style=\"color: #bfbf7f; text-decoration-color: #bfbf7f\">│   │   </span><span style=\"color: #808000; text-decoration-color: #808000\">callback to compute the gradients via backpropagation.\"\"\"</span>                          <span style=\"color: #800000; text-decoration-color: #800000\">│</span>\n",
                            "<span style=\"color: #800000; text-decoration-color: #800000\">│</span> <span style=\"color: #800000; text-decoration-color: #800000\">❱ </span>291 <span style=\"color: #7f7f7f; text-decoration-color: #7f7f7f\">│   │   </span><span style=\"color: #0000ff; text-decoration-color: #0000ff\">return</span> <span style=\"color: #00ffff; text-decoration-color: #00ffff\">self</span>._func(<span style=\"color: #00ffff; text-decoration-color: #00ffff\">self</span>, X, is_train=is_train)                                      <span style=\"color: #800000; text-decoration-color: #800000\">│</span>\n",
                            "<span style=\"color: #800000; text-decoration-color: #800000\">│</span>   <span style=\"color: #7f7f7f; text-decoration-color: #7f7f7f\">292 │   </span>                                                                                       <span style=\"color: #800000; text-decoration-color: #800000\">│</span>\n",
                            "<span style=\"color: #800000; text-decoration-color: #800000\">│</span>   <span style=\"color: #7f7f7f; text-decoration-color: #7f7f7f\">293 │   </span><span style=\"color: #0000ff; text-decoration-color: #0000ff\">def</span> <span style=\"color: #00ff00; text-decoration-color: #00ff00\">initialize</span>(<span style=\"color: #00ffff; text-decoration-color: #00ffff\">self</span>, X: Optional[InT] = <span style=\"color: #0000ff; text-decoration-color: #0000ff\">None</span>, Y: Optional[OutT] = <span style=\"color: #0000ff; text-decoration-color: #0000ff\">None</span>) -&gt; <span style=\"color: #808000; text-decoration-color: #808000\">\"Model\"</span>:    <span style=\"color: #800000; text-decoration-color: #800000\">│</span>\n",
                            "<span style=\"color: #800000; text-decoration-color: #800000\">│</span>   <span style=\"color: #7f7f7f; text-decoration-color: #7f7f7f\">294 </span><span style=\"color: #bfbfbf; text-decoration-color: #bfbfbf\">│   │   </span><span style=\"color: #808000; text-decoration-color: #808000\">\"\"\"Finish initialization of the model, optionally providing a batch of</span>             <span style=\"color: #800000; text-decoration-color: #800000\">│</span>\n",
                            "<span style=\"color: #800000; text-decoration-color: #800000\">│</span>                                                                                                  <span style=\"color: #800000; text-decoration-color: #800000\">│</span>\n",
                            "<span style=\"color: #800000; text-decoration-color: #800000\">│</span> <span style=\"color: #bfbf7f; text-decoration-color: #bfbf7f\">/opt/homebrew/Caskroom/mambaforge/base/envs/study1_3.10/lib/python3.10/site-packages/thinc/layer</span> <span style=\"color: #800000; text-decoration-color: #800000\">│</span>\n",
                            "<span style=\"color: #800000; text-decoration-color: #800000\">│</span> <span style=\"color: #bfbf7f; text-decoration-color: #bfbf7f\">s/</span><span style=\"color: #808000; text-decoration-color: #808000; font-weight: bold\">chain.py</span>:<span style=\"color: #0000ff; text-decoration-color: #0000ff\">55</span> in <span style=\"color: #00ff00; text-decoration-color: #00ff00\">forward</span>                                                                         <span style=\"color: #800000; text-decoration-color: #800000\">│</span>\n",
                            "<span style=\"color: #800000; text-decoration-color: #800000\">│</span>                                                                                                  <span style=\"color: #800000; text-decoration-color: #800000\">│</span>\n",
                            "<span style=\"color: #800000; text-decoration-color: #800000\">│</span>   <span style=\"color: #7f7f7f; text-decoration-color: #7f7f7f\"> 52 </span><span style=\"color: #bfbf7f; text-decoration-color: #bfbf7f\">│   </span><span style=\"color: #808000; text-decoration-color: #808000\">\"\"\"</span>                                                                                    <span style=\"color: #800000; text-decoration-color: #800000\">│</span>\n",
                            "<span style=\"color: #800000; text-decoration-color: #800000\">│</span>   <span style=\"color: #7f7f7f; text-decoration-color: #7f7f7f\"> 53 │   </span>callbacks = []                                                                         <span style=\"color: #800000; text-decoration-color: #800000\">│</span>\n",
                            "<span style=\"color: #800000; text-decoration-color: #800000\">│</span>   <span style=\"color: #7f7f7f; text-decoration-color: #7f7f7f\"> 54 │   </span><span style=\"color: #0000ff; text-decoration-color: #0000ff\">for</span> layer <span style=\"color: #ff00ff; text-decoration-color: #ff00ff\">in</span> model.layers:                                                             <span style=\"color: #800000; text-decoration-color: #800000\">│</span>\n",
                            "<span style=\"color: #800000; text-decoration-color: #800000\">│</span> <span style=\"color: #800000; text-decoration-color: #800000\">❱ </span> 55 <span style=\"color: #7f7f7f; text-decoration-color: #7f7f7f\">│   │   </span>Y, inc_layer_grad = layer(X, is_train=is_train)                                    <span style=\"color: #800000; text-decoration-color: #800000\">│</span>\n",
                            "<span style=\"color: #800000; text-decoration-color: #800000\">│</span>   <span style=\"color: #7f7f7f; text-decoration-color: #7f7f7f\"> 56 │   │   </span>callbacks.append(inc_layer_grad)                                                   <span style=\"color: #800000; text-decoration-color: #800000\">│</span>\n",
                            "<span style=\"color: #800000; text-decoration-color: #800000\">│</span>   <span style=\"color: #7f7f7f; text-decoration-color: #7f7f7f\"> 57 │   │   </span>X = Y                                                                              <span style=\"color: #800000; text-decoration-color: #800000\">│</span>\n",
                            "<span style=\"color: #800000; text-decoration-color: #800000\">│</span>   <span style=\"color: #7f7f7f; text-decoration-color: #7f7f7f\"> 58 </span>                                                                                           <span style=\"color: #800000; text-decoration-color: #800000\">│</span>\n",
                            "<span style=\"color: #800000; text-decoration-color: #800000\">│</span>                                                                                                  <span style=\"color: #800000; text-decoration-color: #800000\">│</span>\n",
                            "<span style=\"color: #800000; text-decoration-color: #800000\">│</span> <span style=\"color: #bfbf7f; text-decoration-color: #bfbf7f\">/opt/homebrew/Caskroom/mambaforge/base/envs/study1_3.10/lib/python3.10/site-packages/thinc/</span><span style=\"color: #808000; text-decoration-color: #808000; font-weight: bold\">model</span> <span style=\"color: #800000; text-decoration-color: #800000\">│</span>\n",
                            "<span style=\"color: #800000; text-decoration-color: #800000\">│</span> <span style=\"color: #808000; text-decoration-color: #808000; font-weight: bold\">.py</span>:<span style=\"color: #0000ff; text-decoration-color: #0000ff\">291</span> in <span style=\"color: #00ff00; text-decoration-color: #00ff00\">__call__</span>                                                                              <span style=\"color: #800000; text-decoration-color: #800000\">│</span>\n",
                            "<span style=\"color: #800000; text-decoration-color: #800000\">│</span>                                                                                                  <span style=\"color: #800000; text-decoration-color: #800000\">│</span>\n",
                            "<span style=\"color: #800000; text-decoration-color: #800000\">│</span>   <span style=\"color: #7f7f7f; text-decoration-color: #7f7f7f\">288 │   </span><span style=\"color: #0000ff; text-decoration-color: #0000ff\">def</span> <span style=\"color: #00ff00; text-decoration-color: #00ff00\">__call__</span>(<span style=\"color: #00ffff; text-decoration-color: #00ffff\">self</span>, X: InT, is_train: <span style=\"color: #00ffff; text-decoration-color: #00ffff\">bool</span>) -&gt; Tuple[OutT, Callable]:                   <span style=\"color: #800000; text-decoration-color: #800000\">│</span>\n",
                            "<span style=\"color: #800000; text-decoration-color: #800000\">│</span>   <span style=\"color: #7f7f7f; text-decoration-color: #7f7f7f\">289 </span><span style=\"color: #bfbfbf; text-decoration-color: #bfbfbf\">│   │   </span><span style=\"color: #808000; text-decoration-color: #808000\">\"\"\"Call the model's `forward` function, returning the output and a</span>                 <span style=\"color: #800000; text-decoration-color: #800000\">│</span>\n",
                            "<span style=\"color: #800000; text-decoration-color: #800000\">│</span>   <span style=\"color: #7f7f7f; text-decoration-color: #7f7f7f\">290 </span><span style=\"color: #bfbf7f; text-decoration-color: #bfbf7f\">│   │   </span><span style=\"color: #808000; text-decoration-color: #808000\">callback to compute the gradients via backpropagation.\"\"\"</span>                          <span style=\"color: #800000; text-decoration-color: #800000\">│</span>\n",
                            "<span style=\"color: #800000; text-decoration-color: #800000\">│</span> <span style=\"color: #800000; text-decoration-color: #800000\">❱ </span>291 <span style=\"color: #7f7f7f; text-decoration-color: #7f7f7f\">│   │   </span><span style=\"color: #0000ff; text-decoration-color: #0000ff\">return</span> <span style=\"color: #00ffff; text-decoration-color: #00ffff\">self</span>._func(<span style=\"color: #00ffff; text-decoration-color: #00ffff\">self</span>, X, is_train=is_train)                                      <span style=\"color: #800000; text-decoration-color: #800000\">│</span>\n",
                            "<span style=\"color: #800000; text-decoration-color: #800000\">│</span>   <span style=\"color: #7f7f7f; text-decoration-color: #7f7f7f\">292 │   </span>                                                                                       <span style=\"color: #800000; text-decoration-color: #800000\">│</span>\n",
                            "<span style=\"color: #800000; text-decoration-color: #800000\">│</span>   <span style=\"color: #7f7f7f; text-decoration-color: #7f7f7f\">293 │   </span><span style=\"color: #0000ff; text-decoration-color: #0000ff\">def</span> <span style=\"color: #00ff00; text-decoration-color: #00ff00\">initialize</span>(<span style=\"color: #00ffff; text-decoration-color: #00ffff\">self</span>, X: Optional[InT] = <span style=\"color: #0000ff; text-decoration-color: #0000ff\">None</span>, Y: Optional[OutT] = <span style=\"color: #0000ff; text-decoration-color: #0000ff\">None</span>) -&gt; <span style=\"color: #808000; text-decoration-color: #808000\">\"Model\"</span>:    <span style=\"color: #800000; text-decoration-color: #800000\">│</span>\n",
                            "<span style=\"color: #800000; text-decoration-color: #800000\">│</span>   <span style=\"color: #7f7f7f; text-decoration-color: #7f7f7f\">294 </span><span style=\"color: #bfbfbf; text-decoration-color: #bfbfbf\">│   │   </span><span style=\"color: #808000; text-decoration-color: #808000\">\"\"\"Finish initialization of the model, optionally providing a batch of</span>             <span style=\"color: #800000; text-decoration-color: #800000\">│</span>\n",
                            "<span style=\"color: #800000; text-decoration-color: #800000\">│</span>                                                                                                  <span style=\"color: #800000; text-decoration-color: #800000\">│</span>\n",
                            "<span style=\"color: #800000; text-decoration-color: #800000\">│</span> <span style=\"color: #bfbf7f; text-decoration-color: #bfbf7f\">/opt/homebrew/Caskroom/mambaforge/base/envs/study1_3.10/lib/python3.10/site-packages/thinc/layer</span> <span style=\"color: #800000; text-decoration-color: #800000\">│</span>\n",
                            "<span style=\"color: #800000; text-decoration-color: #800000\">│</span> <span style=\"color: #bfbf7f; text-decoration-color: #bfbf7f\">s/</span><span style=\"color: #808000; text-decoration-color: #808000; font-weight: bold\">chain.py</span>:<span style=\"color: #0000ff; text-decoration-color: #0000ff\">55</span> in <span style=\"color: #00ff00; text-decoration-color: #00ff00\">forward</span>                                                                         <span style=\"color: #800000; text-decoration-color: #800000\">│</span>\n",
                            "<span style=\"color: #800000; text-decoration-color: #800000\">│</span>                                                                                                  <span style=\"color: #800000; text-decoration-color: #800000\">│</span>\n",
                            "<span style=\"color: #800000; text-decoration-color: #800000\">│</span>   <span style=\"color: #7f7f7f; text-decoration-color: #7f7f7f\"> 52 </span><span style=\"color: #bfbf7f; text-decoration-color: #bfbf7f\">│   </span><span style=\"color: #808000; text-decoration-color: #808000\">\"\"\"</span>                                                                                    <span style=\"color: #800000; text-decoration-color: #800000\">│</span>\n",
                            "<span style=\"color: #800000; text-decoration-color: #800000\">│</span>   <span style=\"color: #7f7f7f; text-decoration-color: #7f7f7f\"> 53 │   </span>callbacks = []                                                                         <span style=\"color: #800000; text-decoration-color: #800000\">│</span>\n",
                            "<span style=\"color: #800000; text-decoration-color: #800000\">│</span>   <span style=\"color: #7f7f7f; text-decoration-color: #7f7f7f\"> 54 │   </span><span style=\"color: #0000ff; text-decoration-color: #0000ff\">for</span> layer <span style=\"color: #ff00ff; text-decoration-color: #ff00ff\">in</span> model.layers:                                                             <span style=\"color: #800000; text-decoration-color: #800000\">│</span>\n",
                            "<span style=\"color: #800000; text-decoration-color: #800000\">│</span> <span style=\"color: #800000; text-decoration-color: #800000\">❱ </span> 55 <span style=\"color: #7f7f7f; text-decoration-color: #7f7f7f\">│   │   </span>Y, inc_layer_grad = layer(X, is_train=is_train)                                    <span style=\"color: #800000; text-decoration-color: #800000\">│</span>\n",
                            "<span style=\"color: #800000; text-decoration-color: #800000\">│</span>   <span style=\"color: #7f7f7f; text-decoration-color: #7f7f7f\"> 56 │   │   </span>callbacks.append(inc_layer_grad)                                                   <span style=\"color: #800000; text-decoration-color: #800000\">│</span>\n",
                            "<span style=\"color: #800000; text-decoration-color: #800000\">│</span>   <span style=\"color: #7f7f7f; text-decoration-color: #7f7f7f\"> 57 │   │   </span>X = Y                                                                              <span style=\"color: #800000; text-decoration-color: #800000\">│</span>\n",
                            "<span style=\"color: #800000; text-decoration-color: #800000\">│</span>   <span style=\"color: #7f7f7f; text-decoration-color: #7f7f7f\"> 58 </span>                                                                                           <span style=\"color: #800000; text-decoration-color: #800000\">│</span>\n",
                            "<span style=\"color: #800000; text-decoration-color: #800000\">│</span>                                                                                                  <span style=\"color: #800000; text-decoration-color: #800000\">│</span>\n",
                            "<span style=\"color: #800000; text-decoration-color: #800000\">│</span> <span style=\"color: #bfbf7f; text-decoration-color: #bfbf7f\">/opt/homebrew/Caskroom/mambaforge/base/envs/study1_3.10/lib/python3.10/site-packages/thinc/</span><span style=\"color: #808000; text-decoration-color: #808000; font-weight: bold\">model</span> <span style=\"color: #800000; text-decoration-color: #800000\">│</span>\n",
                            "<span style=\"color: #800000; text-decoration-color: #800000\">│</span> <span style=\"color: #808000; text-decoration-color: #808000; font-weight: bold\">.py</span>:<span style=\"color: #0000ff; text-decoration-color: #0000ff\">291</span> in <span style=\"color: #00ff00; text-decoration-color: #00ff00\">__call__</span>                                                                              <span style=\"color: #800000; text-decoration-color: #800000\">│</span>\n",
                            "<span style=\"color: #800000; text-decoration-color: #800000\">│</span>                                                                                                  <span style=\"color: #800000; text-decoration-color: #800000\">│</span>\n",
                            "<span style=\"color: #800000; text-decoration-color: #800000\">│</span>   <span style=\"color: #7f7f7f; text-decoration-color: #7f7f7f\">288 │   </span><span style=\"color: #0000ff; text-decoration-color: #0000ff\">def</span> <span style=\"color: #00ff00; text-decoration-color: #00ff00\">__call__</span>(<span style=\"color: #00ffff; text-decoration-color: #00ffff\">self</span>, X: InT, is_train: <span style=\"color: #00ffff; text-decoration-color: #00ffff\">bool</span>) -&gt; Tuple[OutT, Callable]:                   <span style=\"color: #800000; text-decoration-color: #800000\">│</span>\n",
                            "<span style=\"color: #800000; text-decoration-color: #800000\">│</span>   <span style=\"color: #7f7f7f; text-decoration-color: #7f7f7f\">289 </span><span style=\"color: #bfbfbf; text-decoration-color: #bfbfbf\">│   │   </span><span style=\"color: #808000; text-decoration-color: #808000\">\"\"\"Call the model's `forward` function, returning the output and a</span>                 <span style=\"color: #800000; text-decoration-color: #800000\">│</span>\n",
                            "<span style=\"color: #800000; text-decoration-color: #800000\">│</span>   <span style=\"color: #7f7f7f; text-decoration-color: #7f7f7f\">290 </span><span style=\"color: #bfbf7f; text-decoration-color: #bfbf7f\">│   │   </span><span style=\"color: #808000; text-decoration-color: #808000\">callback to compute the gradients via backpropagation.\"\"\"</span>                          <span style=\"color: #800000; text-decoration-color: #800000\">│</span>\n",
                            "<span style=\"color: #800000; text-decoration-color: #800000\">│</span> <span style=\"color: #800000; text-decoration-color: #800000\">❱ </span>291 <span style=\"color: #7f7f7f; text-decoration-color: #7f7f7f\">│   │   </span><span style=\"color: #0000ff; text-decoration-color: #0000ff\">return</span> <span style=\"color: #00ffff; text-decoration-color: #00ffff\">self</span>._func(<span style=\"color: #00ffff; text-decoration-color: #00ffff\">self</span>, X, is_train=is_train)                                      <span style=\"color: #800000; text-decoration-color: #800000\">│</span>\n",
                            "<span style=\"color: #800000; text-decoration-color: #800000\">│</span>   <span style=\"color: #7f7f7f; text-decoration-color: #7f7f7f\">292 │   </span>                                                                                       <span style=\"color: #800000; text-decoration-color: #800000\">│</span>\n",
                            "<span style=\"color: #800000; text-decoration-color: #800000\">│</span>   <span style=\"color: #7f7f7f; text-decoration-color: #7f7f7f\">293 │   </span><span style=\"color: #0000ff; text-decoration-color: #0000ff\">def</span> <span style=\"color: #00ff00; text-decoration-color: #00ff00\">initialize</span>(<span style=\"color: #00ffff; text-decoration-color: #00ffff\">self</span>, X: Optional[InT] = <span style=\"color: #0000ff; text-decoration-color: #0000ff\">None</span>, Y: Optional[OutT] = <span style=\"color: #0000ff; text-decoration-color: #0000ff\">None</span>) -&gt; <span style=\"color: #808000; text-decoration-color: #808000\">\"Model\"</span>:    <span style=\"color: #800000; text-decoration-color: #800000\">│</span>\n",
                            "<span style=\"color: #800000; text-decoration-color: #800000\">│</span>   <span style=\"color: #7f7f7f; text-decoration-color: #7f7f7f\">294 </span><span style=\"color: #bfbfbf; text-decoration-color: #bfbfbf\">│   │   </span><span style=\"color: #808000; text-decoration-color: #808000\">\"\"\"Finish initialization of the model, optionally providing a batch of</span>             <span style=\"color: #800000; text-decoration-color: #800000\">│</span>\n",
                            "<span style=\"color: #800000; text-decoration-color: #800000\">│</span>                                                                                                  <span style=\"color: #800000; text-decoration-color: #800000\">│</span>\n",
                            "<span style=\"color: #800000; text-decoration-color: #800000\">│</span> <span style=\"color: #bfbf7f; text-decoration-color: #bfbf7f\">/opt/homebrew/Caskroom/mambaforge/base/envs/study1_3.10/lib/python3.10/site-packages/thinc/layer</span> <span style=\"color: #800000; text-decoration-color: #800000\">│</span>\n",
                            "<span style=\"color: #800000; text-decoration-color: #800000\">│</span> <span style=\"color: #bfbf7f; text-decoration-color: #bfbf7f\">s/</span><span style=\"color: #808000; text-decoration-color: #808000; font-weight: bold\">with_array.py</span>:<span style=\"color: #0000ff; text-decoration-color: #0000ff\">38</span> in <span style=\"color: #00ff00; text-decoration-color: #00ff00\">forward</span>                                                                    <span style=\"color: #800000; text-decoration-color: #800000\">│</span>\n",
                            "<span style=\"color: #800000; text-decoration-color: #800000\">│</span>                                                                                                  <span style=\"color: #800000; text-decoration-color: #800000\">│</span>\n",
                            "<span style=\"color: #800000; text-decoration-color: #800000\">│</span>   <span style=\"color: #7f7f7f; text-decoration-color: #7f7f7f\"> 35 │   </span><span style=\"color: #0000ff; text-decoration-color: #0000ff\">elif</span> <span style=\"color: #ff00ff; text-decoration-color: #ff00ff\">not</span> <span style=\"color: #00ffff; text-decoration-color: #00ffff\">isinstance</span>(Xseq, (<span style=\"color: #00ffff; text-decoration-color: #00ffff\">list</span>, <span style=\"color: #00ffff; text-decoration-color: #00ffff\">tuple</span>)):                                              <span style=\"color: #800000; text-decoration-color: #800000\">│</span>\n",
                            "<span style=\"color: #800000; text-decoration-color: #800000\">│</span>   <span style=\"color: #7f7f7f; text-decoration-color: #7f7f7f\"> 36 │   │   </span><span style=\"color: #0000ff; text-decoration-color: #0000ff\">return</span> model.layers[<span style=\"color: #0000ff; text-decoration-color: #0000ff\">0</span>](Xseq, is_train)                                             <span style=\"color: #800000; text-decoration-color: #800000\">│</span>\n",
                            "<span style=\"color: #800000; text-decoration-color: #800000\">│</span>   <span style=\"color: #7f7f7f; text-decoration-color: #7f7f7f\"> 37 │   </span><span style=\"color: #0000ff; text-decoration-color: #0000ff\">else</span>:                                                                                  <span style=\"color: #800000; text-decoration-color: #800000\">│</span>\n",
                            "<span style=\"color: #800000; text-decoration-color: #800000\">│</span> <span style=\"color: #800000; text-decoration-color: #800000\">❱ </span> 38 <span style=\"color: #7f7f7f; text-decoration-color: #7f7f7f\">│   │   </span><span style=\"color: #0000ff; text-decoration-color: #0000ff\">return</span> cast(Tuple[SeqT, Callable], _list_forward(model, Xseq, is_train))           <span style=\"color: #800000; text-decoration-color: #800000\">│</span>\n",
                            "<span style=\"color: #800000; text-decoration-color: #800000\">│</span>   <span style=\"color: #7f7f7f; text-decoration-color: #7f7f7f\"> 39 </span>                                                                                           <span style=\"color: #800000; text-decoration-color: #800000\">│</span>\n",
                            "<span style=\"color: #800000; text-decoration-color: #800000\">│</span>   <span style=\"color: #7f7f7f; text-decoration-color: #7f7f7f\"> 40 </span>                                                                                           <span style=\"color: #800000; text-decoration-color: #800000\">│</span>\n",
                            "<span style=\"color: #800000; text-decoration-color: #800000\">│</span>   <span style=\"color: #7f7f7f; text-decoration-color: #7f7f7f\"> 41 </span><span style=\"color: #0000ff; text-decoration-color: #0000ff\">def</span> <span style=\"color: #00ff00; text-decoration-color: #00ff00\">init</span>(                                                                                  <span style=\"color: #800000; text-decoration-color: #800000\">│</span>\n",
                            "<span style=\"color: #800000; text-decoration-color: #800000\">│</span>                                                                                                  <span style=\"color: #800000; text-decoration-color: #800000\">│</span>\n",
                            "<span style=\"color: #800000; text-decoration-color: #800000\">│</span> <span style=\"color: #bfbf7f; text-decoration-color: #bfbf7f\">/opt/homebrew/Caskroom/mambaforge/base/envs/study1_3.10/lib/python3.10/site-packages/thinc/layer</span> <span style=\"color: #800000; text-decoration-color: #800000\">│</span>\n",
                            "<span style=\"color: #800000; text-decoration-color: #800000\">│</span> <span style=\"color: #bfbf7f; text-decoration-color: #bfbf7f\">s/</span><span style=\"color: #808000; text-decoration-color: #808000; font-weight: bold\">with_array.py</span>:<span style=\"color: #0000ff; text-decoration-color: #0000ff\">73</span> in <span style=\"color: #00ff00; text-decoration-color: #00ff00\">_list_forward</span>                                                              <span style=\"color: #800000; text-decoration-color: #800000\">│</span>\n",
                            "<span style=\"color: #800000; text-decoration-color: #800000\">│</span>                                                                                                  <span style=\"color: #800000; text-decoration-color: #800000\">│</span>\n",
                            "<span style=\"color: #800000; text-decoration-color: #800000\">│</span>   <span style=\"color: #7f7f7f; text-decoration-color: #7f7f7f\"> 70 │   </span>pad = model.attrs[<span style=\"color: #808000; text-decoration-color: #808000\">\"pad\"</span>]                                                               <span style=\"color: #800000; text-decoration-color: #800000\">│</span>\n",
                            "<span style=\"color: #800000; text-decoration-color: #800000\">│</span>   <span style=\"color: #7f7f7f; text-decoration-color: #7f7f7f\"> 71 │   </span>lengths = layer.ops.asarray1i([<span style=\"color: #00ffff; text-decoration-color: #00ffff\">len</span>(seq) <span style=\"color: #0000ff; text-decoration-color: #0000ff\">for</span> seq <span style=\"color: #ff00ff; text-decoration-color: #ff00ff\">in</span> Xs])                                <span style=\"color: #800000; text-decoration-color: #800000\">│</span>\n",
                            "<span style=\"color: #800000; text-decoration-color: #800000\">│</span>   <span style=\"color: #7f7f7f; text-decoration-color: #7f7f7f\"> 72 │   </span>Xf = layer.ops.flatten(Xs, pad=pad)                                                    <span style=\"color: #800000; text-decoration-color: #800000\">│</span>\n",
                            "<span style=\"color: #800000; text-decoration-color: #800000\">│</span> <span style=\"color: #800000; text-decoration-color: #800000\">❱ </span> 73 <span style=\"color: #7f7f7f; text-decoration-color: #7f7f7f\">│   </span>Yf, get_dXf = layer(Xf, is_train)                                                      <span style=\"color: #800000; text-decoration-color: #800000\">│</span>\n",
                            "<span style=\"color: #800000; text-decoration-color: #800000\">│</span>   <span style=\"color: #7f7f7f; text-decoration-color: #7f7f7f\"> 74 │   </span>                                                                                       <span style=\"color: #800000; text-decoration-color: #800000\">│</span>\n",
                            "<span style=\"color: #800000; text-decoration-color: #800000\">│</span>   <span style=\"color: #7f7f7f; text-decoration-color: #7f7f7f\"> 75 │   </span><span style=\"color: #0000ff; text-decoration-color: #0000ff\">def</span> <span style=\"color: #00ff00; text-decoration-color: #00ff00\">backprop</span>(dYs: ListXd) -&gt; ListXd:                                                   <span style=\"color: #800000; text-decoration-color: #800000\">│</span>\n",
                            "<span style=\"color: #800000; text-decoration-color: #800000\">│</span>   <span style=\"color: #7f7f7f; text-decoration-color: #7f7f7f\"> 76 │   │   </span>dYf = layer.ops.flatten(dYs, pad=pad)                                              <span style=\"color: #800000; text-decoration-color: #800000\">│</span>\n",
                            "<span style=\"color: #800000; text-decoration-color: #800000\">│</span>                                                                                                  <span style=\"color: #800000; text-decoration-color: #800000\">│</span>\n",
                            "<span style=\"color: #800000; text-decoration-color: #800000\">│</span> <span style=\"color: #bfbf7f; text-decoration-color: #bfbf7f\">/opt/homebrew/Caskroom/mambaforge/base/envs/study1_3.10/lib/python3.10/site-packages/thinc/</span><span style=\"color: #808000; text-decoration-color: #808000; font-weight: bold\">model</span> <span style=\"color: #800000; text-decoration-color: #800000\">│</span>\n",
                            "<span style=\"color: #800000; text-decoration-color: #800000\">│</span> <span style=\"color: #808000; text-decoration-color: #808000; font-weight: bold\">.py</span>:<span style=\"color: #0000ff; text-decoration-color: #0000ff\">291</span> in <span style=\"color: #00ff00; text-decoration-color: #00ff00\">__call__</span>                                                                              <span style=\"color: #800000; text-decoration-color: #800000\">│</span>\n",
                            "<span style=\"color: #800000; text-decoration-color: #800000\">│</span>                                                                                                  <span style=\"color: #800000; text-decoration-color: #800000\">│</span>\n",
                            "<span style=\"color: #800000; text-decoration-color: #800000\">│</span>   <span style=\"color: #7f7f7f; text-decoration-color: #7f7f7f\">288 │   </span><span style=\"color: #0000ff; text-decoration-color: #0000ff\">def</span> <span style=\"color: #00ff00; text-decoration-color: #00ff00\">__call__</span>(<span style=\"color: #00ffff; text-decoration-color: #00ffff\">self</span>, X: InT, is_train: <span style=\"color: #00ffff; text-decoration-color: #00ffff\">bool</span>) -&gt; Tuple[OutT, Callable]:                   <span style=\"color: #800000; text-decoration-color: #800000\">│</span>\n",
                            "<span style=\"color: #800000; text-decoration-color: #800000\">│</span>   <span style=\"color: #7f7f7f; text-decoration-color: #7f7f7f\">289 </span><span style=\"color: #bfbfbf; text-decoration-color: #bfbfbf\">│   │   </span><span style=\"color: #808000; text-decoration-color: #808000\">\"\"\"Call the model's `forward` function, returning the output and a</span>                 <span style=\"color: #800000; text-decoration-color: #800000\">│</span>\n",
                            "<span style=\"color: #800000; text-decoration-color: #800000\">│</span>   <span style=\"color: #7f7f7f; text-decoration-color: #7f7f7f\">290 </span><span style=\"color: #bfbf7f; text-decoration-color: #bfbf7f\">│   │   </span><span style=\"color: #808000; text-decoration-color: #808000\">callback to compute the gradients via backpropagation.\"\"\"</span>                          <span style=\"color: #800000; text-decoration-color: #800000\">│</span>\n",
                            "<span style=\"color: #800000; text-decoration-color: #800000\">│</span> <span style=\"color: #800000; text-decoration-color: #800000\">❱ </span>291 <span style=\"color: #7f7f7f; text-decoration-color: #7f7f7f\">│   │   </span><span style=\"color: #0000ff; text-decoration-color: #0000ff\">return</span> <span style=\"color: #00ffff; text-decoration-color: #00ffff\">self</span>._func(<span style=\"color: #00ffff; text-decoration-color: #00ffff\">self</span>, X, is_train=is_train)                                      <span style=\"color: #800000; text-decoration-color: #800000\">│</span>\n",
                            "<span style=\"color: #800000; text-decoration-color: #800000\">│</span>   <span style=\"color: #7f7f7f; text-decoration-color: #7f7f7f\">292 │   </span>                                                                                       <span style=\"color: #800000; text-decoration-color: #800000\">│</span>\n",
                            "<span style=\"color: #800000; text-decoration-color: #800000\">│</span>   <span style=\"color: #7f7f7f; text-decoration-color: #7f7f7f\">293 │   </span><span style=\"color: #0000ff; text-decoration-color: #0000ff\">def</span> <span style=\"color: #00ff00; text-decoration-color: #00ff00\">initialize</span>(<span style=\"color: #00ffff; text-decoration-color: #00ffff\">self</span>, X: Optional[InT] = <span style=\"color: #0000ff; text-decoration-color: #0000ff\">None</span>, Y: Optional[OutT] = <span style=\"color: #0000ff; text-decoration-color: #0000ff\">None</span>) -&gt; <span style=\"color: #808000; text-decoration-color: #808000\">\"Model\"</span>:    <span style=\"color: #800000; text-decoration-color: #800000\">│</span>\n",
                            "<span style=\"color: #800000; text-decoration-color: #800000\">│</span>   <span style=\"color: #7f7f7f; text-decoration-color: #7f7f7f\">294 </span><span style=\"color: #bfbfbf; text-decoration-color: #bfbfbf\">│   │   </span><span style=\"color: #808000; text-decoration-color: #808000\">\"\"\"Finish initialization of the model, optionally providing a batch of</span>             <span style=\"color: #800000; text-decoration-color: #800000\">│</span>\n",
                            "<span style=\"color: #800000; text-decoration-color: #800000\">│</span>                                                                                                  <span style=\"color: #800000; text-decoration-color: #800000\">│</span>\n",
                            "<span style=\"color: #800000; text-decoration-color: #800000\">│</span> <span style=\"color: #bfbf7f; text-decoration-color: #bfbf7f\">/opt/homebrew/Caskroom/mambaforge/base/envs/study1_3.10/lib/python3.10/site-packages/thinc/layer</span> <span style=\"color: #800000; text-decoration-color: #800000\">│</span>\n",
                            "<span style=\"color: #800000; text-decoration-color: #800000\">│</span> <span style=\"color: #bfbf7f; text-decoration-color: #bfbf7f\">s/</span><span style=\"color: #808000; text-decoration-color: #808000; font-weight: bold\">chain.py</span>:<span style=\"color: #0000ff; text-decoration-color: #0000ff\">55</span> in <span style=\"color: #00ff00; text-decoration-color: #00ff00\">forward</span>                                                                         <span style=\"color: #800000; text-decoration-color: #800000\">│</span>\n",
                            "<span style=\"color: #800000; text-decoration-color: #800000\">│</span>                                                                                                  <span style=\"color: #800000; text-decoration-color: #800000\">│</span>\n",
                            "<span style=\"color: #800000; text-decoration-color: #800000\">│</span>   <span style=\"color: #7f7f7f; text-decoration-color: #7f7f7f\"> 52 </span><span style=\"color: #bfbf7f; text-decoration-color: #bfbf7f\">│   </span><span style=\"color: #808000; text-decoration-color: #808000\">\"\"\"</span>                                                                                    <span style=\"color: #800000; text-decoration-color: #800000\">│</span>\n",
                            "<span style=\"color: #800000; text-decoration-color: #800000\">│</span>   <span style=\"color: #7f7f7f; text-decoration-color: #7f7f7f\"> 53 │   </span>callbacks = []                                                                         <span style=\"color: #800000; text-decoration-color: #800000\">│</span>\n",
                            "<span style=\"color: #800000; text-decoration-color: #800000\">│</span>   <span style=\"color: #7f7f7f; text-decoration-color: #7f7f7f\"> 54 │   </span><span style=\"color: #0000ff; text-decoration-color: #0000ff\">for</span> layer <span style=\"color: #ff00ff; text-decoration-color: #ff00ff\">in</span> model.layers:                                                             <span style=\"color: #800000; text-decoration-color: #800000\">│</span>\n",
                            "<span style=\"color: #800000; text-decoration-color: #800000\">│</span> <span style=\"color: #800000; text-decoration-color: #800000\">❱ </span> 55 <span style=\"color: #7f7f7f; text-decoration-color: #7f7f7f\">│   │   </span>Y, inc_layer_grad = layer(X, is_train=is_train)                                    <span style=\"color: #800000; text-decoration-color: #800000\">│</span>\n",
                            "<span style=\"color: #800000; text-decoration-color: #800000\">│</span>   <span style=\"color: #7f7f7f; text-decoration-color: #7f7f7f\"> 56 │   │   </span>callbacks.append(inc_layer_grad)                                                   <span style=\"color: #800000; text-decoration-color: #800000\">│</span>\n",
                            "<span style=\"color: #800000; text-decoration-color: #800000\">│</span>   <span style=\"color: #7f7f7f; text-decoration-color: #7f7f7f\"> 57 │   │   </span>X = Y                                                                              <span style=\"color: #800000; text-decoration-color: #800000\">│</span>\n",
                            "<span style=\"color: #800000; text-decoration-color: #800000\">│</span>   <span style=\"color: #7f7f7f; text-decoration-color: #7f7f7f\"> 58 </span>                                                                                           <span style=\"color: #800000; text-decoration-color: #800000\">│</span>\n",
                            "<span style=\"color: #800000; text-decoration-color: #800000\">│</span>                                                                                                  <span style=\"color: #800000; text-decoration-color: #800000\">│</span>\n",
                            "<span style=\"color: #800000; text-decoration-color: #800000\">│</span> <span style=\"color: #bfbf7f; text-decoration-color: #bfbf7f\">/opt/homebrew/Caskroom/mambaforge/base/envs/study1_3.10/lib/python3.10/site-packages/thinc/</span><span style=\"color: #808000; text-decoration-color: #808000; font-weight: bold\">model</span> <span style=\"color: #800000; text-decoration-color: #800000\">│</span>\n",
                            "<span style=\"color: #800000; text-decoration-color: #800000\">│</span> <span style=\"color: #808000; text-decoration-color: #808000; font-weight: bold\">.py</span>:<span style=\"color: #0000ff; text-decoration-color: #0000ff\">291</span> in <span style=\"color: #00ff00; text-decoration-color: #00ff00\">__call__</span>                                                                              <span style=\"color: #800000; text-decoration-color: #800000\">│</span>\n",
                            "<span style=\"color: #800000; text-decoration-color: #800000\">│</span>                                                                                                  <span style=\"color: #800000; text-decoration-color: #800000\">│</span>\n",
                            "<span style=\"color: #800000; text-decoration-color: #800000\">│</span>   <span style=\"color: #7f7f7f; text-decoration-color: #7f7f7f\">288 │   </span><span style=\"color: #0000ff; text-decoration-color: #0000ff\">def</span> <span style=\"color: #00ff00; text-decoration-color: #00ff00\">__call__</span>(<span style=\"color: #00ffff; text-decoration-color: #00ffff\">self</span>, X: InT, is_train: <span style=\"color: #00ffff; text-decoration-color: #00ffff\">bool</span>) -&gt; Tuple[OutT, Callable]:                   <span style=\"color: #800000; text-decoration-color: #800000\">│</span>\n",
                            "<span style=\"color: #800000; text-decoration-color: #800000\">│</span>   <span style=\"color: #7f7f7f; text-decoration-color: #7f7f7f\">289 </span><span style=\"color: #bfbfbf; text-decoration-color: #bfbfbf\">│   │   </span><span style=\"color: #808000; text-decoration-color: #808000\">\"\"\"Call the model's `forward` function, returning the output and a</span>                 <span style=\"color: #800000; text-decoration-color: #800000\">│</span>\n",
                            "<span style=\"color: #800000; text-decoration-color: #800000\">│</span>   <span style=\"color: #7f7f7f; text-decoration-color: #7f7f7f\">290 </span><span style=\"color: #bfbf7f; text-decoration-color: #bfbf7f\">│   │   </span><span style=\"color: #808000; text-decoration-color: #808000\">callback to compute the gradients via backpropagation.\"\"\"</span>                          <span style=\"color: #800000; text-decoration-color: #800000\">│</span>\n",
                            "<span style=\"color: #800000; text-decoration-color: #800000\">│</span> <span style=\"color: #800000; text-decoration-color: #800000\">❱ </span>291 <span style=\"color: #7f7f7f; text-decoration-color: #7f7f7f\">│   │   </span><span style=\"color: #0000ff; text-decoration-color: #0000ff\">return</span> <span style=\"color: #00ffff; text-decoration-color: #00ffff\">self</span>._func(<span style=\"color: #00ffff; text-decoration-color: #00ffff\">self</span>, X, is_train=is_train)                                      <span style=\"color: #800000; text-decoration-color: #800000\">│</span>\n",
                            "<span style=\"color: #800000; text-decoration-color: #800000\">│</span>   <span style=\"color: #7f7f7f; text-decoration-color: #7f7f7f\">292 │   </span>                                                                                       <span style=\"color: #800000; text-decoration-color: #800000\">│</span>\n",
                            "<span style=\"color: #800000; text-decoration-color: #800000\">│</span>   <span style=\"color: #7f7f7f; text-decoration-color: #7f7f7f\">293 │   </span><span style=\"color: #0000ff; text-decoration-color: #0000ff\">def</span> <span style=\"color: #00ff00; text-decoration-color: #00ff00\">initialize</span>(<span style=\"color: #00ffff; text-decoration-color: #00ffff\">self</span>, X: Optional[InT] = <span style=\"color: #0000ff; text-decoration-color: #0000ff\">None</span>, Y: Optional[OutT] = <span style=\"color: #0000ff; text-decoration-color: #0000ff\">None</span>) -&gt; <span style=\"color: #808000; text-decoration-color: #808000\">\"Model\"</span>:    <span style=\"color: #800000; text-decoration-color: #800000\">│</span>\n",
                            "<span style=\"color: #800000; text-decoration-color: #800000\">│</span>   <span style=\"color: #7f7f7f; text-decoration-color: #7f7f7f\">294 </span><span style=\"color: #bfbfbf; text-decoration-color: #bfbfbf\">│   │   </span><span style=\"color: #808000; text-decoration-color: #808000\">\"\"\"Finish initialization of the model, optionally providing a batch of</span>             <span style=\"color: #800000; text-decoration-color: #800000\">│</span>\n",
                            "<span style=\"color: #800000; text-decoration-color: #800000\">│</span>                                                                                                  <span style=\"color: #800000; text-decoration-color: #800000\">│</span>\n",
                            "<span style=\"color: #800000; text-decoration-color: #800000\">│</span> <span style=\"color: #bfbf7f; text-decoration-color: #bfbf7f\">/opt/homebrew/Caskroom/mambaforge/base/envs/study1_3.10/lib/python3.10/site-packages/thinc/layer</span> <span style=\"color: #800000; text-decoration-color: #800000\">│</span>\n",
                            "<span style=\"color: #800000; text-decoration-color: #800000\">│</span> <span style=\"color: #bfbf7f; text-decoration-color: #bfbf7f\">s/</span><span style=\"color: #808000; text-decoration-color: #808000; font-weight: bold\">residual.py</span>:<span style=\"color: #0000ff; text-decoration-color: #0000ff\">41</span> in <span style=\"color: #00ff00; text-decoration-color: #00ff00\">forward</span>                                                                      <span style=\"color: #800000; text-decoration-color: #800000\">│</span>\n",
                            "<span style=\"color: #800000; text-decoration-color: #800000\">│</span>                                                                                                  <span style=\"color: #800000; text-decoration-color: #800000\">│</span>\n",
                            "<span style=\"color: #800000; text-decoration-color: #800000\">│</span>   <span style=\"color: #7f7f7f; text-decoration-color: #7f7f7f\">38 │   │   </span><span style=\"color: #0000ff; text-decoration-color: #0000ff\">else</span>:                                                                               <span style=\"color: #800000; text-decoration-color: #800000\">│</span>\n",
                            "<span style=\"color: #800000; text-decoration-color: #800000\">│</span>   <span style=\"color: #7f7f7f; text-decoration-color: #7f7f7f\">39 │   │   │   </span><span style=\"color: #0000ff; text-decoration-color: #0000ff\">return</span> d_output + dX                                                            <span style=\"color: #800000; text-decoration-color: #800000\">│</span>\n",
                            "<span style=\"color: #800000; text-decoration-color: #800000\">│</span>   <span style=\"color: #7f7f7f; text-decoration-color: #7f7f7f\">40 │   </span>                                                                                        <span style=\"color: #800000; text-decoration-color: #800000\">│</span>\n",
                            "<span style=\"color: #800000; text-decoration-color: #800000\">│</span> <span style=\"color: #800000; text-decoration-color: #800000\">❱ </span>41 <span style=\"color: #7f7f7f; text-decoration-color: #7f7f7f\">│   </span>Y, backprop_layer = model.layers[<span style=\"color: #0000ff; text-decoration-color: #0000ff\">0</span>](X, is_train)                                        <span style=\"color: #800000; text-decoration-color: #800000\">│</span>\n",
                            "<span style=\"color: #800000; text-decoration-color: #800000\">│</span>   <span style=\"color: #7f7f7f; text-decoration-color: #7f7f7f\">42 │   </span><span style=\"color: #0000ff; text-decoration-color: #0000ff\">if</span> <span style=\"color: #00ffff; text-decoration-color: #00ffff\">isinstance</span>(X, <span style=\"color: #00ffff; text-decoration-color: #00ffff\">list</span>):                                                                 <span style=\"color: #800000; text-decoration-color: #800000\">│</span>\n",
                            "<span style=\"color: #800000; text-decoration-color: #800000\">│</span>   <span style=\"color: #7f7f7f; text-decoration-color: #7f7f7f\">43 │   │   </span><span style=\"color: #0000ff; text-decoration-color: #0000ff\">return</span> [X[i] + Y[i] <span style=\"color: #0000ff; text-decoration-color: #0000ff\">for</span> i <span style=\"color: #ff00ff; text-decoration-color: #ff00ff\">in</span> <span style=\"color: #00ffff; text-decoration-color: #00ffff\">range</span>(<span style=\"color: #00ffff; text-decoration-color: #00ffff\">len</span>(X))], backprop                               <span style=\"color: #800000; text-decoration-color: #800000\">│</span>\n",
                            "<span style=\"color: #800000; text-decoration-color: #800000\">│</span>   <span style=\"color: #7f7f7f; text-decoration-color: #7f7f7f\">44 │   </span><span style=\"color: #0000ff; text-decoration-color: #0000ff\">elif</span> <span style=\"color: #00ffff; text-decoration-color: #00ffff\">isinstance</span>(X, Ragged):                                                             <span style=\"color: #800000; text-decoration-color: #800000\">│</span>\n",
                            "<span style=\"color: #800000; text-decoration-color: #800000\">│</span>                                                                                                  <span style=\"color: #800000; text-decoration-color: #800000\">│</span>\n",
                            "<span style=\"color: #800000; text-decoration-color: #800000\">│</span> <span style=\"color: #bfbf7f; text-decoration-color: #bfbf7f\">/opt/homebrew/Caskroom/mambaforge/base/envs/study1_3.10/lib/python3.10/site-packages/thinc/</span><span style=\"color: #808000; text-decoration-color: #808000; font-weight: bold\">model</span> <span style=\"color: #800000; text-decoration-color: #800000\">│</span>\n",
                            "<span style=\"color: #800000; text-decoration-color: #800000\">│</span> <span style=\"color: #808000; text-decoration-color: #808000; font-weight: bold\">.py</span>:<span style=\"color: #0000ff; text-decoration-color: #0000ff\">291</span> in <span style=\"color: #00ff00; text-decoration-color: #00ff00\">__call__</span>                                                                              <span style=\"color: #800000; text-decoration-color: #800000\">│</span>\n",
                            "<span style=\"color: #800000; text-decoration-color: #800000\">│</span>                                                                                                  <span style=\"color: #800000; text-decoration-color: #800000\">│</span>\n",
                            "<span style=\"color: #800000; text-decoration-color: #800000\">│</span>   <span style=\"color: #7f7f7f; text-decoration-color: #7f7f7f\">288 │   </span><span style=\"color: #0000ff; text-decoration-color: #0000ff\">def</span> <span style=\"color: #00ff00; text-decoration-color: #00ff00\">__call__</span>(<span style=\"color: #00ffff; text-decoration-color: #00ffff\">self</span>, X: InT, is_train: <span style=\"color: #00ffff; text-decoration-color: #00ffff\">bool</span>) -&gt; Tuple[OutT, Callable]:                   <span style=\"color: #800000; text-decoration-color: #800000\">│</span>\n",
                            "<span style=\"color: #800000; text-decoration-color: #800000\">│</span>   <span style=\"color: #7f7f7f; text-decoration-color: #7f7f7f\">289 </span><span style=\"color: #bfbfbf; text-decoration-color: #bfbfbf\">│   │   </span><span style=\"color: #808000; text-decoration-color: #808000\">\"\"\"Call the model's `forward` function, returning the output and a</span>                 <span style=\"color: #800000; text-decoration-color: #800000\">│</span>\n",
                            "<span style=\"color: #800000; text-decoration-color: #800000\">│</span>   <span style=\"color: #7f7f7f; text-decoration-color: #7f7f7f\">290 </span><span style=\"color: #bfbf7f; text-decoration-color: #bfbf7f\">│   │   </span><span style=\"color: #808000; text-decoration-color: #808000\">callback to compute the gradients via backpropagation.\"\"\"</span>                          <span style=\"color: #800000; text-decoration-color: #800000\">│</span>\n",
                            "<span style=\"color: #800000; text-decoration-color: #800000\">│</span> <span style=\"color: #800000; text-decoration-color: #800000\">❱ </span>291 <span style=\"color: #7f7f7f; text-decoration-color: #7f7f7f\">│   │   </span><span style=\"color: #0000ff; text-decoration-color: #0000ff\">return</span> <span style=\"color: #00ffff; text-decoration-color: #00ffff\">self</span>._func(<span style=\"color: #00ffff; text-decoration-color: #00ffff\">self</span>, X, is_train=is_train)                                      <span style=\"color: #800000; text-decoration-color: #800000\">│</span>\n",
                            "<span style=\"color: #800000; text-decoration-color: #800000\">│</span>   <span style=\"color: #7f7f7f; text-decoration-color: #7f7f7f\">292 │   </span>                                                                                       <span style=\"color: #800000; text-decoration-color: #800000\">│</span>\n",
                            "<span style=\"color: #800000; text-decoration-color: #800000\">│</span>   <span style=\"color: #7f7f7f; text-decoration-color: #7f7f7f\">293 │   </span><span style=\"color: #0000ff; text-decoration-color: #0000ff\">def</span> <span style=\"color: #00ff00; text-decoration-color: #00ff00\">initialize</span>(<span style=\"color: #00ffff; text-decoration-color: #00ffff\">self</span>, X: Optional[InT] = <span style=\"color: #0000ff; text-decoration-color: #0000ff\">None</span>, Y: Optional[OutT] = <span style=\"color: #0000ff; text-decoration-color: #0000ff\">None</span>) -&gt; <span style=\"color: #808000; text-decoration-color: #808000\">\"Model\"</span>:    <span style=\"color: #800000; text-decoration-color: #800000\">│</span>\n",
                            "<span style=\"color: #800000; text-decoration-color: #800000\">│</span>   <span style=\"color: #7f7f7f; text-decoration-color: #7f7f7f\">294 </span><span style=\"color: #bfbfbf; text-decoration-color: #bfbfbf\">│   │   </span><span style=\"color: #808000; text-decoration-color: #808000\">\"\"\"Finish initialization of the model, optionally providing a batch of</span>             <span style=\"color: #800000; text-decoration-color: #800000\">│</span>\n",
                            "<span style=\"color: #800000; text-decoration-color: #800000\">│</span>                                                                                                  <span style=\"color: #800000; text-decoration-color: #800000\">│</span>\n",
                            "<span style=\"color: #800000; text-decoration-color: #800000\">│</span> <span style=\"color: #bfbf7f; text-decoration-color: #bfbf7f\">/opt/homebrew/Caskroom/mambaforge/base/envs/study1_3.10/lib/python3.10/site-packages/thinc/layer</span> <span style=\"color: #800000; text-decoration-color: #800000\">│</span>\n",
                            "<span style=\"color: #800000; text-decoration-color: #800000\">│</span> <span style=\"color: #bfbf7f; text-decoration-color: #bfbf7f\">s/</span><span style=\"color: #808000; text-decoration-color: #808000; font-weight: bold\">chain.py</span>:<span style=\"color: #0000ff; text-decoration-color: #0000ff\">55</span> in <span style=\"color: #00ff00; text-decoration-color: #00ff00\">forward</span>                                                                         <span style=\"color: #800000; text-decoration-color: #800000\">│</span>\n",
                            "<span style=\"color: #800000; text-decoration-color: #800000\">│</span>                                                                                                  <span style=\"color: #800000; text-decoration-color: #800000\">│</span>\n",
                            "<span style=\"color: #800000; text-decoration-color: #800000\">│</span>   <span style=\"color: #7f7f7f; text-decoration-color: #7f7f7f\"> 52 </span><span style=\"color: #bfbf7f; text-decoration-color: #bfbf7f\">│   </span><span style=\"color: #808000; text-decoration-color: #808000\">\"\"\"</span>                                                                                    <span style=\"color: #800000; text-decoration-color: #800000\">│</span>\n",
                            "<span style=\"color: #800000; text-decoration-color: #800000\">│</span>   <span style=\"color: #7f7f7f; text-decoration-color: #7f7f7f\"> 53 │   </span>callbacks = []                                                                         <span style=\"color: #800000; text-decoration-color: #800000\">│</span>\n",
                            "<span style=\"color: #800000; text-decoration-color: #800000\">│</span>   <span style=\"color: #7f7f7f; text-decoration-color: #7f7f7f\"> 54 │   </span><span style=\"color: #0000ff; text-decoration-color: #0000ff\">for</span> layer <span style=\"color: #ff00ff; text-decoration-color: #ff00ff\">in</span> model.layers:                                                             <span style=\"color: #800000; text-decoration-color: #800000\">│</span>\n",
                            "<span style=\"color: #800000; text-decoration-color: #800000\">│</span> <span style=\"color: #800000; text-decoration-color: #800000\">❱ </span> 55 <span style=\"color: #7f7f7f; text-decoration-color: #7f7f7f\">│   │   </span>Y, inc_layer_grad = layer(X, is_train=is_train)                                    <span style=\"color: #800000; text-decoration-color: #800000\">│</span>\n",
                            "<span style=\"color: #800000; text-decoration-color: #800000\">│</span>   <span style=\"color: #7f7f7f; text-decoration-color: #7f7f7f\"> 56 │   │   </span>callbacks.append(inc_layer_grad)                                                   <span style=\"color: #800000; text-decoration-color: #800000\">│</span>\n",
                            "<span style=\"color: #800000; text-decoration-color: #800000\">│</span>   <span style=\"color: #7f7f7f; text-decoration-color: #7f7f7f\"> 57 │   │   </span>X = Y                                                                              <span style=\"color: #800000; text-decoration-color: #800000\">│</span>\n",
                            "<span style=\"color: #800000; text-decoration-color: #800000\">│</span>   <span style=\"color: #7f7f7f; text-decoration-color: #7f7f7f\"> 58 </span>                                                                                           <span style=\"color: #800000; text-decoration-color: #800000\">│</span>\n",
                            "<span style=\"color: #800000; text-decoration-color: #800000\">│</span>                                                                                                  <span style=\"color: #800000; text-decoration-color: #800000\">│</span>\n",
                            "<span style=\"color: #800000; text-decoration-color: #800000\">│</span> <span style=\"color: #bfbf7f; text-decoration-color: #bfbf7f\">/opt/homebrew/Caskroom/mambaforge/base/envs/study1_3.10/lib/python3.10/site-packages/thinc/</span><span style=\"color: #808000; text-decoration-color: #808000; font-weight: bold\">model</span> <span style=\"color: #800000; text-decoration-color: #800000\">│</span>\n",
                            "<span style=\"color: #800000; text-decoration-color: #800000\">│</span> <span style=\"color: #808000; text-decoration-color: #808000; font-weight: bold\">.py</span>:<span style=\"color: #0000ff; text-decoration-color: #0000ff\">291</span> in <span style=\"color: #00ff00; text-decoration-color: #00ff00\">__call__</span>                                                                              <span style=\"color: #800000; text-decoration-color: #800000\">│</span>\n",
                            "<span style=\"color: #800000; text-decoration-color: #800000\">│</span>                                                                                                  <span style=\"color: #800000; text-decoration-color: #800000\">│</span>\n",
                            "<span style=\"color: #800000; text-decoration-color: #800000\">│</span>   <span style=\"color: #7f7f7f; text-decoration-color: #7f7f7f\">288 │   </span><span style=\"color: #0000ff; text-decoration-color: #0000ff\">def</span> <span style=\"color: #00ff00; text-decoration-color: #00ff00\">__call__</span>(<span style=\"color: #00ffff; text-decoration-color: #00ffff\">self</span>, X: InT, is_train: <span style=\"color: #00ffff; text-decoration-color: #00ffff\">bool</span>) -&gt; Tuple[OutT, Callable]:                   <span style=\"color: #800000; text-decoration-color: #800000\">│</span>\n",
                            "<span style=\"color: #800000; text-decoration-color: #800000\">│</span>   <span style=\"color: #7f7f7f; text-decoration-color: #7f7f7f\">289 </span><span style=\"color: #bfbfbf; text-decoration-color: #bfbfbf\">│   │   </span><span style=\"color: #808000; text-decoration-color: #808000\">\"\"\"Call the model's `forward` function, returning the output and a</span>                 <span style=\"color: #800000; text-decoration-color: #800000\">│</span>\n",
                            "<span style=\"color: #800000; text-decoration-color: #800000\">│</span>   <span style=\"color: #7f7f7f; text-decoration-color: #7f7f7f\">290 </span><span style=\"color: #bfbf7f; text-decoration-color: #bfbf7f\">│   │   </span><span style=\"color: #808000; text-decoration-color: #808000\">callback to compute the gradients via backpropagation.\"\"\"</span>                          <span style=\"color: #800000; text-decoration-color: #800000\">│</span>\n",
                            "<span style=\"color: #800000; text-decoration-color: #800000\">│</span> <span style=\"color: #800000; text-decoration-color: #800000\">❱ </span>291 <span style=\"color: #7f7f7f; text-decoration-color: #7f7f7f\">│   │   </span><span style=\"color: #0000ff; text-decoration-color: #0000ff\">return</span> <span style=\"color: #00ffff; text-decoration-color: #00ffff\">self</span>._func(<span style=\"color: #00ffff; text-decoration-color: #00ffff\">self</span>, X, is_train=is_train)                                      <span style=\"color: #800000; text-decoration-color: #800000\">│</span>\n",
                            "<span style=\"color: #800000; text-decoration-color: #800000\">│</span>   <span style=\"color: #7f7f7f; text-decoration-color: #7f7f7f\">292 │   </span>                                                                                       <span style=\"color: #800000; text-decoration-color: #800000\">│</span>\n",
                            "<span style=\"color: #800000; text-decoration-color: #800000\">│</span>   <span style=\"color: #7f7f7f; text-decoration-color: #7f7f7f\">293 │   </span><span style=\"color: #0000ff; text-decoration-color: #0000ff\">def</span> <span style=\"color: #00ff00; text-decoration-color: #00ff00\">initialize</span>(<span style=\"color: #00ffff; text-decoration-color: #00ffff\">self</span>, X: Optional[InT] = <span style=\"color: #0000ff; text-decoration-color: #0000ff\">None</span>, Y: Optional[OutT] = <span style=\"color: #0000ff; text-decoration-color: #0000ff\">None</span>) -&gt; <span style=\"color: #808000; text-decoration-color: #808000\">\"Model\"</span>:    <span style=\"color: #800000; text-decoration-color: #800000\">│</span>\n",
                            "<span style=\"color: #800000; text-decoration-color: #800000\">│</span>   <span style=\"color: #7f7f7f; text-decoration-color: #7f7f7f\">294 </span><span style=\"color: #bfbfbf; text-decoration-color: #bfbfbf\">│   │   </span><span style=\"color: #808000; text-decoration-color: #808000\">\"\"\"Finish initialization of the model, optionally providing a batch of</span>             <span style=\"color: #800000; text-decoration-color: #800000\">│</span>\n",
                            "<span style=\"color: #800000; text-decoration-color: #800000\">│</span>                                                                                                  <span style=\"color: #800000; text-decoration-color: #800000\">│</span>\n",
                            "<span style=\"color: #800000; text-decoration-color: #800000\">│</span> <span style=\"color: #bfbf7f; text-decoration-color: #bfbf7f\">/opt/homebrew/Caskroom/mambaforge/base/envs/study1_3.10/lib/python3.10/site-packages/thinc/layer</span> <span style=\"color: #800000; text-decoration-color: #800000\">│</span>\n",
                            "<span style=\"color: #800000; text-decoration-color: #800000\">│</span> <span style=\"color: #bfbf7f; text-decoration-color: #bfbf7f\">s/</span><span style=\"color: #808000; text-decoration-color: #808000; font-weight: bold\">chain.py</span>:<span style=\"color: #0000ff; text-decoration-color: #0000ff\">55</span> in <span style=\"color: #00ff00; text-decoration-color: #00ff00\">forward</span>                                                                         <span style=\"color: #800000; text-decoration-color: #800000\">│</span>\n",
                            "<span style=\"color: #800000; text-decoration-color: #800000\">│</span>                                                                                                  <span style=\"color: #800000; text-decoration-color: #800000\">│</span>\n",
                            "<span style=\"color: #800000; text-decoration-color: #800000\">│</span>   <span style=\"color: #7f7f7f; text-decoration-color: #7f7f7f\"> 52 </span><span style=\"color: #bfbf7f; text-decoration-color: #bfbf7f\">│   </span><span style=\"color: #808000; text-decoration-color: #808000\">\"\"\"</span>                                                                                    <span style=\"color: #800000; text-decoration-color: #800000\">│</span>\n",
                            "<span style=\"color: #800000; text-decoration-color: #800000\">│</span>   <span style=\"color: #7f7f7f; text-decoration-color: #7f7f7f\"> 53 │   </span>callbacks = []                                                                         <span style=\"color: #800000; text-decoration-color: #800000\">│</span>\n",
                            "<span style=\"color: #800000; text-decoration-color: #800000\">│</span>   <span style=\"color: #7f7f7f; text-decoration-color: #7f7f7f\"> 54 │   </span><span style=\"color: #0000ff; text-decoration-color: #0000ff\">for</span> layer <span style=\"color: #ff00ff; text-decoration-color: #ff00ff\">in</span> model.layers:                                                             <span style=\"color: #800000; text-decoration-color: #800000\">│</span>\n",
                            "<span style=\"color: #800000; text-decoration-color: #800000\">│</span> <span style=\"color: #800000; text-decoration-color: #800000\">❱ </span> 55 <span style=\"color: #7f7f7f; text-decoration-color: #7f7f7f\">│   │   </span>Y, inc_layer_grad = layer(X, is_train=is_train)                                    <span style=\"color: #800000; text-decoration-color: #800000\">│</span>\n",
                            "<span style=\"color: #800000; text-decoration-color: #800000\">│</span>   <span style=\"color: #7f7f7f; text-decoration-color: #7f7f7f\"> 56 │   │   </span>callbacks.append(inc_layer_grad)                                                   <span style=\"color: #800000; text-decoration-color: #800000\">│</span>\n",
                            "<span style=\"color: #800000; text-decoration-color: #800000\">│</span>   <span style=\"color: #7f7f7f; text-decoration-color: #7f7f7f\"> 57 │   │   </span>X = Y                                                                              <span style=\"color: #800000; text-decoration-color: #800000\">│</span>\n",
                            "<span style=\"color: #800000; text-decoration-color: #800000\">│</span>   <span style=\"color: #7f7f7f; text-decoration-color: #7f7f7f\"> 58 </span>                                                                                           <span style=\"color: #800000; text-decoration-color: #800000\">│</span>\n",
                            "<span style=\"color: #800000; text-decoration-color: #800000\">│</span>                                                                                                  <span style=\"color: #800000; text-decoration-color: #800000\">│</span>\n",
                            "<span style=\"color: #800000; text-decoration-color: #800000\">│</span> <span style=\"color: #bfbf7f; text-decoration-color: #bfbf7f\">/opt/homebrew/Caskroom/mambaforge/base/envs/study1_3.10/lib/python3.10/site-packages/thinc/</span><span style=\"color: #808000; text-decoration-color: #808000; font-weight: bold\">model</span> <span style=\"color: #800000; text-decoration-color: #800000\">│</span>\n",
                            "<span style=\"color: #800000; text-decoration-color: #800000\">│</span> <span style=\"color: #808000; text-decoration-color: #808000; font-weight: bold\">.py</span>:<span style=\"color: #0000ff; text-decoration-color: #0000ff\">291</span> in <span style=\"color: #00ff00; text-decoration-color: #00ff00\">__call__</span>                                                                              <span style=\"color: #800000; text-decoration-color: #800000\">│</span>\n",
                            "<span style=\"color: #800000; text-decoration-color: #800000\">│</span>                                                                                                  <span style=\"color: #800000; text-decoration-color: #800000\">│</span>\n",
                            "<span style=\"color: #800000; text-decoration-color: #800000\">│</span>   <span style=\"color: #7f7f7f; text-decoration-color: #7f7f7f\">288 │   </span><span style=\"color: #0000ff; text-decoration-color: #0000ff\">def</span> <span style=\"color: #00ff00; text-decoration-color: #00ff00\">__call__</span>(<span style=\"color: #00ffff; text-decoration-color: #00ffff\">self</span>, X: InT, is_train: <span style=\"color: #00ffff; text-decoration-color: #00ffff\">bool</span>) -&gt; Tuple[OutT, Callable]:                   <span style=\"color: #800000; text-decoration-color: #800000\">│</span>\n",
                            "<span style=\"color: #800000; text-decoration-color: #800000\">│</span>   <span style=\"color: #7f7f7f; text-decoration-color: #7f7f7f\">289 </span><span style=\"color: #bfbfbf; text-decoration-color: #bfbfbf\">│   │   </span><span style=\"color: #808000; text-decoration-color: #808000\">\"\"\"Call the model's `forward` function, returning the output and a</span>                 <span style=\"color: #800000; text-decoration-color: #800000\">│</span>\n",
                            "<span style=\"color: #800000; text-decoration-color: #800000\">│</span>   <span style=\"color: #7f7f7f; text-decoration-color: #7f7f7f\">290 </span><span style=\"color: #bfbf7f; text-decoration-color: #bfbf7f\">│   │   </span><span style=\"color: #808000; text-decoration-color: #808000\">callback to compute the gradients via backpropagation.\"\"\"</span>                          <span style=\"color: #800000; text-decoration-color: #800000\">│</span>\n",
                            "<span style=\"color: #800000; text-decoration-color: #800000\">│</span> <span style=\"color: #800000; text-decoration-color: #800000\">❱ </span>291 <span style=\"color: #7f7f7f; text-decoration-color: #7f7f7f\">│   │   </span><span style=\"color: #0000ff; text-decoration-color: #0000ff\">return</span> <span style=\"color: #00ffff; text-decoration-color: #00ffff\">self</span>._func(<span style=\"color: #00ffff; text-decoration-color: #00ffff\">self</span>, X, is_train=is_train)                                      <span style=\"color: #800000; text-decoration-color: #800000\">│</span>\n",
                            "<span style=\"color: #800000; text-decoration-color: #800000\">│</span>   <span style=\"color: #7f7f7f; text-decoration-color: #7f7f7f\">292 │   </span>                                                                                       <span style=\"color: #800000; text-decoration-color: #800000\">│</span>\n",
                            "<span style=\"color: #800000; text-decoration-color: #800000\">│</span>   <span style=\"color: #7f7f7f; text-decoration-color: #7f7f7f\">293 │   </span><span style=\"color: #0000ff; text-decoration-color: #0000ff\">def</span> <span style=\"color: #00ff00; text-decoration-color: #00ff00\">initialize</span>(<span style=\"color: #00ffff; text-decoration-color: #00ffff\">self</span>, X: Optional[InT] = <span style=\"color: #0000ff; text-decoration-color: #0000ff\">None</span>, Y: Optional[OutT] = <span style=\"color: #0000ff; text-decoration-color: #0000ff\">None</span>) -&gt; <span style=\"color: #808000; text-decoration-color: #808000\">\"Model\"</span>:    <span style=\"color: #800000; text-decoration-color: #800000\">│</span>\n",
                            "<span style=\"color: #800000; text-decoration-color: #800000\">│</span>   <span style=\"color: #7f7f7f; text-decoration-color: #7f7f7f\">294 </span><span style=\"color: #bfbfbf; text-decoration-color: #bfbfbf\">│   │   </span><span style=\"color: #808000; text-decoration-color: #808000\">\"\"\"Finish initialization of the model, optionally providing a batch of</span>             <span style=\"color: #800000; text-decoration-color: #800000\">│</span>\n",
                            "<span style=\"color: #800000; text-decoration-color: #800000\">│</span>                                                                                                  <span style=\"color: #800000; text-decoration-color: #800000\">│</span>\n",
                            "<span style=\"color: #800000; text-decoration-color: #800000\">│</span> <span style=\"color: #bfbf7f; text-decoration-color: #bfbf7f\">/opt/homebrew/Caskroom/mambaforge/base/envs/study1_3.10/lib/python3.10/site-packages/thinc/layer</span> <span style=\"color: #800000; text-decoration-color: #800000\">│</span>\n",
                            "<span style=\"color: #800000; text-decoration-color: #800000\">│</span> <span style=\"color: #bfbf7f; text-decoration-color: #bfbf7f\">s/</span><span style=\"color: #808000; text-decoration-color: #808000; font-weight: bold\">chain.py</span>:<span style=\"color: #0000ff; text-decoration-color: #0000ff\">55</span> in <span style=\"color: #00ff00; text-decoration-color: #00ff00\">forward</span>                                                                         <span style=\"color: #800000; text-decoration-color: #800000\">│</span>\n",
                            "<span style=\"color: #800000; text-decoration-color: #800000\">│</span>                                                                                                  <span style=\"color: #800000; text-decoration-color: #800000\">│</span>\n",
                            "<span style=\"color: #800000; text-decoration-color: #800000\">│</span>   <span style=\"color: #7f7f7f; text-decoration-color: #7f7f7f\"> 52 </span><span style=\"color: #bfbf7f; text-decoration-color: #bfbf7f\">│   </span><span style=\"color: #808000; text-decoration-color: #808000\">\"\"\"</span>                                                                                    <span style=\"color: #800000; text-decoration-color: #800000\">│</span>\n",
                            "<span style=\"color: #800000; text-decoration-color: #800000\">│</span>   <span style=\"color: #7f7f7f; text-decoration-color: #7f7f7f\"> 53 │   </span>callbacks = []                                                                         <span style=\"color: #800000; text-decoration-color: #800000\">│</span>\n",
                            "<span style=\"color: #800000; text-decoration-color: #800000\">│</span>   <span style=\"color: #7f7f7f; text-decoration-color: #7f7f7f\"> 54 │   </span><span style=\"color: #0000ff; text-decoration-color: #0000ff\">for</span> layer <span style=\"color: #ff00ff; text-decoration-color: #ff00ff\">in</span> model.layers:                                                             <span style=\"color: #800000; text-decoration-color: #800000\">│</span>\n",
                            "<span style=\"color: #800000; text-decoration-color: #800000\">│</span> <span style=\"color: #800000; text-decoration-color: #800000\">❱ </span> 55 <span style=\"color: #7f7f7f; text-decoration-color: #7f7f7f\">│   │   </span>Y, inc_layer_grad = layer(X, is_train=is_train)                                    <span style=\"color: #800000; text-decoration-color: #800000\">│</span>\n",
                            "<span style=\"color: #800000; text-decoration-color: #800000\">│</span>   <span style=\"color: #7f7f7f; text-decoration-color: #7f7f7f\"> 56 │   │   </span>callbacks.append(inc_layer_grad)                                                   <span style=\"color: #800000; text-decoration-color: #800000\">│</span>\n",
                            "<span style=\"color: #800000; text-decoration-color: #800000\">│</span>   <span style=\"color: #7f7f7f; text-decoration-color: #7f7f7f\"> 57 │   │   </span>X = Y                                                                              <span style=\"color: #800000; text-decoration-color: #800000\">│</span>\n",
                            "<span style=\"color: #800000; text-decoration-color: #800000\">│</span>   <span style=\"color: #7f7f7f; text-decoration-color: #7f7f7f\"> 58 </span>                                                                                           <span style=\"color: #800000; text-decoration-color: #800000\">│</span>\n",
                            "<span style=\"color: #800000; text-decoration-color: #800000\">│</span>                                                                                                  <span style=\"color: #800000; text-decoration-color: #800000\">│</span>\n",
                            "<span style=\"color: #800000; text-decoration-color: #800000\">│</span> <span style=\"color: #bfbf7f; text-decoration-color: #bfbf7f\">/opt/homebrew/Caskroom/mambaforge/base/envs/study1_3.10/lib/python3.10/site-packages/thinc/</span><span style=\"color: #808000; text-decoration-color: #808000; font-weight: bold\">model</span> <span style=\"color: #800000; text-decoration-color: #800000\">│</span>\n",
                            "<span style=\"color: #800000; text-decoration-color: #800000\">│</span> <span style=\"color: #808000; text-decoration-color: #808000; font-weight: bold\">.py</span>:<span style=\"color: #0000ff; text-decoration-color: #0000ff\">291</span> in <span style=\"color: #00ff00; text-decoration-color: #00ff00\">__call__</span>                                                                              <span style=\"color: #800000; text-decoration-color: #800000\">│</span>\n",
                            "<span style=\"color: #800000; text-decoration-color: #800000\">│</span>                                                                                                  <span style=\"color: #800000; text-decoration-color: #800000\">│</span>\n",
                            "<span style=\"color: #800000; text-decoration-color: #800000\">│</span>   <span style=\"color: #7f7f7f; text-decoration-color: #7f7f7f\">288 │   </span><span style=\"color: #0000ff; text-decoration-color: #0000ff\">def</span> <span style=\"color: #00ff00; text-decoration-color: #00ff00\">__call__</span>(<span style=\"color: #00ffff; text-decoration-color: #00ffff\">self</span>, X: InT, is_train: <span style=\"color: #00ffff; text-decoration-color: #00ffff\">bool</span>) -&gt; Tuple[OutT, Callable]:                   <span style=\"color: #800000; text-decoration-color: #800000\">│</span>\n",
                            "<span style=\"color: #800000; text-decoration-color: #800000\">│</span>   <span style=\"color: #7f7f7f; text-decoration-color: #7f7f7f\">289 </span><span style=\"color: #bfbfbf; text-decoration-color: #bfbfbf\">│   │   </span><span style=\"color: #808000; text-decoration-color: #808000\">\"\"\"Call the model's `forward` function, returning the output and a</span>                 <span style=\"color: #800000; text-decoration-color: #800000\">│</span>\n",
                            "<span style=\"color: #800000; text-decoration-color: #800000\">│</span>   <span style=\"color: #7f7f7f; text-decoration-color: #7f7f7f\">290 </span><span style=\"color: #bfbf7f; text-decoration-color: #bfbf7f\">│   │   </span><span style=\"color: #808000; text-decoration-color: #808000\">callback to compute the gradients via backpropagation.\"\"\"</span>                          <span style=\"color: #800000; text-decoration-color: #800000\">│</span>\n",
                            "<span style=\"color: #800000; text-decoration-color: #800000\">│</span> <span style=\"color: #800000; text-decoration-color: #800000\">❱ </span>291 <span style=\"color: #7f7f7f; text-decoration-color: #7f7f7f\">│   │   </span><span style=\"color: #0000ff; text-decoration-color: #0000ff\">return</span> <span style=\"color: #00ffff; text-decoration-color: #00ffff\">self</span>._func(<span style=\"color: #00ffff; text-decoration-color: #00ffff\">self</span>, X, is_train=is_train)                                      <span style=\"color: #800000; text-decoration-color: #800000\">│</span>\n",
                            "<span style=\"color: #800000; text-decoration-color: #800000\">│</span>   <span style=\"color: #7f7f7f; text-decoration-color: #7f7f7f\">292 │   </span>                                                                                       <span style=\"color: #800000; text-decoration-color: #800000\">│</span>\n",
                            "<span style=\"color: #800000; text-decoration-color: #800000\">│</span>   <span style=\"color: #7f7f7f; text-decoration-color: #7f7f7f\">293 │   </span><span style=\"color: #0000ff; text-decoration-color: #0000ff\">def</span> <span style=\"color: #00ff00; text-decoration-color: #00ff00\">initialize</span>(<span style=\"color: #00ffff; text-decoration-color: #00ffff\">self</span>, X: Optional[InT] = <span style=\"color: #0000ff; text-decoration-color: #0000ff\">None</span>, Y: Optional[OutT] = <span style=\"color: #0000ff; text-decoration-color: #0000ff\">None</span>) -&gt; <span style=\"color: #808000; text-decoration-color: #808000\">\"Model\"</span>:    <span style=\"color: #800000; text-decoration-color: #800000\">│</span>\n",
                            "<span style=\"color: #800000; text-decoration-color: #800000\">│</span>   <span style=\"color: #7f7f7f; text-decoration-color: #7f7f7f\">294 </span><span style=\"color: #bfbfbf; text-decoration-color: #bfbfbf\">│   │   </span><span style=\"color: #808000; text-decoration-color: #808000\">\"\"\"Finish initialization of the model, optionally providing a batch of</span>             <span style=\"color: #800000; text-decoration-color: #800000\">│</span>\n",
                            "<span style=\"color: #800000; text-decoration-color: #800000\">│</span>                                                                                                  <span style=\"color: #800000; text-decoration-color: #800000\">│</span>\n",
                            "<span style=\"color: #800000; text-decoration-color: #800000\">│</span> <span style=\"color: #bfbf7f; text-decoration-color: #bfbf7f\">/opt/homebrew/Caskroom/mambaforge/base/envs/study1_3.10/lib/python3.10/site-packages/thinc/layer</span> <span style=\"color: #800000; text-decoration-color: #800000\">│</span>\n",
                            "<span style=\"color: #800000; text-decoration-color: #800000\">│</span> <span style=\"color: #bfbf7f; text-decoration-color: #bfbf7f\">s/</span><span style=\"color: #808000; text-decoration-color: #808000; font-weight: bold\">maxout.py</span>:<span style=\"color: #0000ff; text-decoration-color: #0000ff\">53</span> in <span style=\"color: #00ff00; text-decoration-color: #00ff00\">forward</span>                                                                        <span style=\"color: #800000; text-decoration-color: #800000\">│</span>\n",
                            "<span style=\"color: #800000; text-decoration-color: #800000\">│</span>                                                                                                  <span style=\"color: #800000; text-decoration-color: #800000\">│</span>\n",
                            "<span style=\"color: #800000; text-decoration-color: #800000\">│</span>   <span style=\"color: #7f7f7f; text-decoration-color: #7f7f7f\">50 │   </span>b = model.get_param(<span style=\"color: #808000; text-decoration-color: #808000\">\"b\"</span>)                                                                <span style=\"color: #800000; text-decoration-color: #800000\">│</span>\n",
                            "<span style=\"color: #800000; text-decoration-color: #800000\">│</span>   <span style=\"color: #7f7f7f; text-decoration-color: #7f7f7f\">51 │   </span>W = model.get_param(<span style=\"color: #808000; text-decoration-color: #808000\">\"W\"</span>)                                                                <span style=\"color: #800000; text-decoration-color: #800000\">│</span>\n",
                            "<span style=\"color: #800000; text-decoration-color: #800000\">│</span>   <span style=\"color: #7f7f7f; text-decoration-color: #7f7f7f\">52 │   </span>W = model.ops.reshape2f(W, nO * nP, nI)                                                 <span style=\"color: #800000; text-decoration-color: #800000\">│</span>\n",
                            "<span style=\"color: #800000; text-decoration-color: #800000\">│</span> <span style=\"color: #800000; text-decoration-color: #800000\">❱ </span>53 <span style=\"color: #7f7f7f; text-decoration-color: #7f7f7f\">│   </span>Y = model.ops.gemm(X, W, trans2=<span style=\"color: #0000ff; text-decoration-color: #0000ff\">True</span>)                                                   <span style=\"color: #800000; text-decoration-color: #800000\">│</span>\n",
                            "<span style=\"color: #800000; text-decoration-color: #800000\">│</span>   <span style=\"color: #7f7f7f; text-decoration-color: #7f7f7f\">54 │   </span>Y += model.ops.reshape1f(b, nO * nP)                                                    <span style=\"color: #800000; text-decoration-color: #800000\">│</span>\n",
                            "<span style=\"color: #800000; text-decoration-color: #800000\">│</span>   <span style=\"color: #7f7f7f; text-decoration-color: #7f7f7f\">55 │   </span>Z = model.ops.reshape3f(Y, Y.shape[<span style=\"color: #0000ff; text-decoration-color: #0000ff\">0</span>], nO, nP)                                          <span style=\"color: #800000; text-decoration-color: #800000\">│</span>\n",
                            "<span style=\"color: #800000; text-decoration-color: #800000\">│</span>   <span style=\"color: #7f7f7f; text-decoration-color: #7f7f7f\">56 │   </span>best, which = model.ops.maxout(Z)                                                       <span style=\"color: #800000; text-decoration-color: #800000\">│</span>\n",
                            "<span style=\"color: #800000; text-decoration-color: #800000\">╰──────────────────────────────────────────────────────────────────────────────────────────────────╯</span>\n",
                            "<span style=\"color: #ff0000; text-decoration-color: #ff0000; font-weight: bold\">KeyboardInterrupt</span>\n",
                            "</pre>\n"
                        ],
                        "text/plain": [
                            "\u001b[31m╭─\u001b[0m\u001b[31m──────────────────────────────\u001b[0m\u001b[31m \u001b[0m\u001b[1;31mTraceback \u001b[0m\u001b[1;2;31m(most recent call last)\u001b[0m\u001b[31m \u001b[0m\u001b[31m───────────────────────────────\u001b[0m\u001b[31m─╮\u001b[0m\n",
                            "\u001b[31m│\u001b[0m \u001b[2;33m/opt/homebrew/Caskroom/mambaforge/base/envs/study1_3.10/lib/python3.10/site-packages/IPython/cor\u001b[0m \u001b[31m│\u001b[0m\n",
                            "\u001b[31m│\u001b[0m \u001b[2;33me/magics/\u001b[0m\u001b[1;33mexecution.py\u001b[0m:\u001b[94m1325\u001b[0m in \u001b[92mtime\u001b[0m                                                               \u001b[31m│\u001b[0m\n",
                            "\u001b[31m│\u001b[0m                                                                                                  \u001b[31m│\u001b[0m\n",
                            "\u001b[31m│\u001b[0m   \u001b[2m1322 \u001b[0m\u001b[2m│   │   \u001b[0m\u001b[94melse\u001b[0m:                                                                             \u001b[31m│\u001b[0m\n",
                            "\u001b[31m│\u001b[0m   \u001b[2m1323 \u001b[0m\u001b[2m│   │   │   \u001b[0mst = clock2()                                                                 \u001b[31m│\u001b[0m\n",
                            "\u001b[31m│\u001b[0m   \u001b[2m1324 \u001b[0m\u001b[2m│   │   │   \u001b[0m\u001b[94mtry\u001b[0m:                                                                          \u001b[31m│\u001b[0m\n",
                            "\u001b[31m│\u001b[0m \u001b[31m❱ \u001b[0m1325 \u001b[2m│   │   │   │   \u001b[0mexec(code, glob, local_ns)                                                \u001b[31m│\u001b[0m\n",
                            "\u001b[31m│\u001b[0m   \u001b[2m1326 \u001b[0m\u001b[2m│   │   │   │   \u001b[0mout=\u001b[94mNone\u001b[0m                                                                  \u001b[31m│\u001b[0m\n",
                            "\u001b[31m│\u001b[0m   \u001b[2m1327 \u001b[0m\u001b[2m│   │   │   │   \u001b[0m\u001b[2m# multi-line %%time case\u001b[0m                                                  \u001b[31m│\u001b[0m\n",
                            "\u001b[31m│\u001b[0m   \u001b[2m1328 \u001b[0m\u001b[2m│   │   │   │   \u001b[0m\u001b[94mif\u001b[0m expr_val \u001b[95mis\u001b[0m \u001b[95mnot\u001b[0m \u001b[94mNone\u001b[0m:                                                  \u001b[31m│\u001b[0m\n",
                            "\u001b[31m│\u001b[0m \u001b[33m<timed exec>\u001b[0m:\u001b[94m4\u001b[0m in \u001b[92m<module>\u001b[0m                                                                       \u001b[31m│\u001b[0m\n",
                            "\u001b[31m│\u001b[0m                                                                                                  \u001b[31m│\u001b[0m\n",
                            "\u001b[31m│\u001b[0m \u001b[2;33m/opt/homebrew/Caskroom/mambaforge/base/envs/study1_3.10/lib/python3.10/site-packages/tqdm/\u001b[0m\u001b[1;33mstd.py\u001b[0m \u001b[31m│\u001b[0m\n",
                            "\u001b[31m│\u001b[0m :\u001b[94m805\u001b[0m in \u001b[92minner\u001b[0m                                                                                    \u001b[31m│\u001b[0m\n",
                            "\u001b[31m│\u001b[0m                                                                                                  \u001b[31m│\u001b[0m\n",
                            "\u001b[31m│\u001b[0m   \u001b[2m 802 \u001b[0m\u001b[2m│   │   │   │   \u001b[0m\u001b[2m# Apply the provided function (in **kwargs)\u001b[0m                               \u001b[31m│\u001b[0m\n",
                            "\u001b[31m│\u001b[0m   \u001b[2m 803 \u001b[0m\u001b[2m│   │   │   │   \u001b[0m\u001b[2m# on the df using our wrapper (which provides bar updating)\u001b[0m               \u001b[31m│\u001b[0m\n",
                            "\u001b[31m│\u001b[0m   \u001b[2m 804 \u001b[0m\u001b[2m│   │   │   │   \u001b[0m\u001b[94mtry\u001b[0m:                                                                      \u001b[31m│\u001b[0m\n",
                            "\u001b[31m│\u001b[0m \u001b[31m❱ \u001b[0m 805 \u001b[2m│   │   │   │   │   \u001b[0m\u001b[94mreturn\u001b[0m \u001b[96mgetattr\u001b[0m(df, df_function)(wrapper, **kwargs)                    \u001b[31m│\u001b[0m\n",
                            "\u001b[31m│\u001b[0m   \u001b[2m 806 \u001b[0m\u001b[2m│   │   │   │   \u001b[0m\u001b[94mfinally\u001b[0m:                                                                  \u001b[31m│\u001b[0m\n",
                            "\u001b[31m│\u001b[0m   \u001b[2m 807 \u001b[0m\u001b[2m│   │   │   │   │   \u001b[0mt.close()                                                             \u001b[31m│\u001b[0m\n",
                            "\u001b[31m│\u001b[0m   \u001b[2m 808 \u001b[0m                                                                                          \u001b[31m│\u001b[0m\n",
                            "\u001b[31m│\u001b[0m                                                                                                  \u001b[31m│\u001b[0m\n",
                            "\u001b[31m│\u001b[0m \u001b[2;33m/opt/homebrew/Caskroom/mambaforge/base/envs/study1_3.10/lib/python3.10/site-packages/pandas/core\u001b[0m \u001b[31m│\u001b[0m\n",
                            "\u001b[31m│\u001b[0m \u001b[2;33m/\u001b[0m\u001b[1;33mseries.py\u001b[0m:\u001b[94m4771\u001b[0m in \u001b[92mapply\u001b[0m                                                                         \u001b[31m│\u001b[0m\n",
                            "\u001b[31m│\u001b[0m                                                                                                  \u001b[31m│\u001b[0m\n",
                            "\u001b[31m│\u001b[0m   \u001b[2m4768 \u001b[0m\u001b[2;33m│   │   \u001b[0m\u001b[33mHelsinki    2.484907\u001b[0m                                                              \u001b[31m│\u001b[0m\n",
                            "\u001b[31m│\u001b[0m   \u001b[2m4769 \u001b[0m\u001b[2;33m│   │   \u001b[0m\u001b[33mdtype: float64\u001b[0m                                                                    \u001b[31m│\u001b[0m\n",
                            "\u001b[31m│\u001b[0m   \u001b[2m4770 \u001b[0m\u001b[2;33m│   │   \u001b[0m\u001b[33m\"\"\"\u001b[0m                                                                               \u001b[31m│\u001b[0m\n",
                            "\u001b[31m│\u001b[0m \u001b[31m❱ \u001b[0m4771 \u001b[2m│   │   \u001b[0m\u001b[94mreturn\u001b[0m SeriesApply(\u001b[96mself\u001b[0m, func, convert_dtype, args, kwargs).apply()               \u001b[31m│\u001b[0m\n",
                            "\u001b[31m│\u001b[0m   \u001b[2m4772 \u001b[0m\u001b[2m│   \u001b[0m                                                                                      \u001b[31m│\u001b[0m\n",
                            "\u001b[31m│\u001b[0m   \u001b[2m4773 \u001b[0m\u001b[2m│   \u001b[0m\u001b[94mdef\u001b[0m \u001b[92m_reduce\u001b[0m(                                                                          \u001b[31m│\u001b[0m\n",
                            "\u001b[31m│\u001b[0m   \u001b[2m4774 \u001b[0m\u001b[2m│   │   \u001b[0m\u001b[96mself\u001b[0m,                                                                             \u001b[31m│\u001b[0m\n",
                            "\u001b[31m│\u001b[0m                                                                                                  \u001b[31m│\u001b[0m\n",
                            "\u001b[31m│\u001b[0m \u001b[2;33m/opt/homebrew/Caskroom/mambaforge/base/envs/study1_3.10/lib/python3.10/site-packages/pandas/core\u001b[0m \u001b[31m│\u001b[0m\n",
                            "\u001b[31m│\u001b[0m \u001b[2;33m/\u001b[0m\u001b[1;33mapply.py\u001b[0m:\u001b[94m1123\u001b[0m in \u001b[92mapply\u001b[0m                                                                          \u001b[31m│\u001b[0m\n",
                            "\u001b[31m│\u001b[0m                                                                                                  \u001b[31m│\u001b[0m\n",
                            "\u001b[31m│\u001b[0m   \u001b[2m1120 \u001b[0m\u001b[2m│   │   │   \u001b[0m\u001b[94mreturn\u001b[0m \u001b[96mself\u001b[0m.apply_str()                                                       \u001b[31m│\u001b[0m\n",
                            "\u001b[31m│\u001b[0m   \u001b[2m1121 \u001b[0m\u001b[2m│   │   \u001b[0m                                                                                  \u001b[31m│\u001b[0m\n",
                            "\u001b[31m│\u001b[0m   \u001b[2m1122 \u001b[0m\u001b[2m│   │   \u001b[0m\u001b[2m# self.f is Callable\u001b[0m                                                              \u001b[31m│\u001b[0m\n",
                            "\u001b[31m│\u001b[0m \u001b[31m❱ \u001b[0m1123 \u001b[2m│   │   \u001b[0m\u001b[94mreturn\u001b[0m \u001b[96mself\u001b[0m.apply_standard()                                                      \u001b[31m│\u001b[0m\n",
                            "\u001b[31m│\u001b[0m   \u001b[2m1124 \u001b[0m\u001b[2m│   \u001b[0m                                                                                      \u001b[31m│\u001b[0m\n",
                            "\u001b[31m│\u001b[0m   \u001b[2m1125 \u001b[0m\u001b[2m│   \u001b[0m\u001b[94mdef\u001b[0m \u001b[92magg\u001b[0m(\u001b[96mself\u001b[0m):                                                                        \u001b[31m│\u001b[0m\n",
                            "\u001b[31m│\u001b[0m   \u001b[2m1126 \u001b[0m\u001b[2m│   │   \u001b[0mresult = \u001b[96msuper\u001b[0m().agg()                                                            \u001b[31m│\u001b[0m\n",
                            "\u001b[31m│\u001b[0m                                                                                                  \u001b[31m│\u001b[0m\n",
                            "\u001b[31m│\u001b[0m \u001b[2;33m/opt/homebrew/Caskroom/mambaforge/base/envs/study1_3.10/lib/python3.10/site-packages/pandas/core\u001b[0m \u001b[31m│\u001b[0m\n",
                            "\u001b[31m│\u001b[0m \u001b[2;33m/\u001b[0m\u001b[1;33mapply.py\u001b[0m:\u001b[94m1174\u001b[0m in \u001b[92mapply_standard\u001b[0m                                                                 \u001b[31m│\u001b[0m\n",
                            "\u001b[31m│\u001b[0m                                                                                                  \u001b[31m│\u001b[0m\n",
                            "\u001b[31m│\u001b[0m   \u001b[2m1171 \u001b[0m\u001b[2m│   │   │   │   \u001b[0mmapped = obj._values.map(f)                                               \u001b[31m│\u001b[0m\n",
                            "\u001b[31m│\u001b[0m   \u001b[2m1172 \u001b[0m\u001b[2m│   │   │   \u001b[0m\u001b[94melse\u001b[0m:                                                                         \u001b[31m│\u001b[0m\n",
                            "\u001b[31m│\u001b[0m   \u001b[2m1173 \u001b[0m\u001b[2m│   │   │   │   \u001b[0mvalues = obj.astype(\u001b[96mobject\u001b[0m)._values                                       \u001b[31m│\u001b[0m\n",
                            "\u001b[31m│\u001b[0m \u001b[31m❱ \u001b[0m1174 \u001b[2m│   │   │   │   \u001b[0mmapped = lib.map_infer(                                                   \u001b[31m│\u001b[0m\n",
                            "\u001b[31m│\u001b[0m   \u001b[2m1175 \u001b[0m\u001b[2m│   │   │   │   │   \u001b[0mvalues,                                                               \u001b[31m│\u001b[0m\n",
                            "\u001b[31m│\u001b[0m   \u001b[2m1176 \u001b[0m\u001b[2m│   │   │   │   │   \u001b[0mf,                                                                    \u001b[31m│\u001b[0m\n",
                            "\u001b[31m│\u001b[0m   \u001b[2m1177 \u001b[0m\u001b[2m│   │   │   │   │   \u001b[0mconvert=\u001b[96mself\u001b[0m.convert_dtype,                                           \u001b[31m│\u001b[0m\n",
                            "\u001b[31m│\u001b[0m                                                                                                  \u001b[31m│\u001b[0m\n",
                            "\u001b[31m│\u001b[0m \u001b[2;33m/Users/nyxinsane/Documents/Work - UvA/Automating Equity/Study 1/Study1_Code/1. Cleaning and \u001b[0m     \u001b[31m│\u001b[0m\n",
                            "\u001b[31m│\u001b[0m \u001b[2;33mPreprocessing/pandas/_libs/\u001b[0m\u001b[1;33mlib.pyx\u001b[0m:\u001b[94m2924\u001b[0m in \u001b[92mpandas._libs.lib.map_infer\u001b[0m                            \u001b[31m│\u001b[0m\n",
                            "\u001b[31m│\u001b[0m                                                                                                  \u001b[31m│\u001b[0m\n",
                            "\u001b[31m│\u001b[0m \u001b[3;31m[Errno 2] No such file or directory: '/Users/nyxinsane/Documents/Work - UvA/Automating \u001b[0m          \u001b[31m│\u001b[0m\n",
                            "\u001b[31m│\u001b[0m \u001b[3;31mEquity/Study 1/Study1_Code/1. Cleaning and Preprocessing/pandas/_libs/lib.pyx'\u001b[0m                   \u001b[31m│\u001b[0m\n",
                            "\u001b[31m│\u001b[0m                                                                                                  \u001b[31m│\u001b[0m\n",
                            "\u001b[31m│\u001b[0m \u001b[2;33m/opt/homebrew/Caskroom/mambaforge/base/envs/study1_3.10/lib/python3.10/site-packages/tqdm/\u001b[0m\u001b[1;33mstd.py\u001b[0m \u001b[31m│\u001b[0m\n",
                            "\u001b[31m│\u001b[0m :\u001b[94m800\u001b[0m in \u001b[92mwrapper\u001b[0m                                                                                  \u001b[31m│\u001b[0m\n",
                            "\u001b[31m│\u001b[0m                                                                                                  \u001b[31m│\u001b[0m\n",
                            "\u001b[31m│\u001b[0m   \u001b[2m 797 \u001b[0m\u001b[2m│   │   │   │   │   \u001b[0m\u001b[2m# on the first column/row to decide whether it can\u001b[0m                    \u001b[31m│\u001b[0m\n",
                            "\u001b[31m│\u001b[0m   \u001b[2m 798 \u001b[0m\u001b[2m│   │   │   │   │   \u001b[0m\u001b[2m# take a fast or slow code path; so stop when t.total==t.n\u001b[0m            \u001b[31m│\u001b[0m\n",
                            "\u001b[31m│\u001b[0m   \u001b[2m 799 \u001b[0m\u001b[2m│   │   │   │   │   \u001b[0mt.update(n=\u001b[94m1\u001b[0m \u001b[94mif\u001b[0m \u001b[95mnot\u001b[0m t.total \u001b[95mor\u001b[0m t.n < t.total \u001b[94melse\u001b[0m \u001b[94m0\u001b[0m)                  \u001b[31m│\u001b[0m\n",
                            "\u001b[31m│\u001b[0m \u001b[31m❱ \u001b[0m 800 \u001b[2m│   │   │   │   │   \u001b[0m\u001b[94mreturn\u001b[0m func(*args, **kwargs)                                          \u001b[31m│\u001b[0m\n",
                            "\u001b[31m│\u001b[0m   \u001b[2m 801 \u001b[0m\u001b[2m│   │   │   │   \u001b[0m                                                                          \u001b[31m│\u001b[0m\n",
                            "\u001b[31m│\u001b[0m   \u001b[2m 802 \u001b[0m\u001b[2m│   │   │   │   \u001b[0m\u001b[2m# Apply the provided function (in **kwargs)\u001b[0m                               \u001b[31m│\u001b[0m\n",
                            "\u001b[31m│\u001b[0m   \u001b[2m 803 \u001b[0m\u001b[2m│   │   │   │   \u001b[0m\u001b[2m# on the df using our wrapper (which provides bar updating)\u001b[0m               \u001b[31m│\u001b[0m\n",
                            "\u001b[31m│\u001b[0m \u001b[33m<timed exec>\u001b[0m:\u001b[94m7\u001b[0m in \u001b[92m<lambda>\u001b[0m                                                                       \u001b[31m│\u001b[0m\n",
                            "\u001b[31m│\u001b[0m                                                                                                  \u001b[31m│\u001b[0m\n",
                            "\u001b[31m│\u001b[0m \u001b[2;33m/opt/homebrew/Caskroom/mambaforge/base/envs/study1_3.10/lib/python3.10/site-packages/spacy/\u001b[0m\u001b[1;33mlangu\u001b[0m \u001b[31m│\u001b[0m\n",
                            "\u001b[31m│\u001b[0m \u001b[1;33mage.py\u001b[0m:\u001b[94m1011\u001b[0m in \u001b[92m__call__\u001b[0m                                                                          \u001b[31m│\u001b[0m\n",
                            "\u001b[31m│\u001b[0m                                                                                                  \u001b[31m│\u001b[0m\n",
                            "\u001b[31m│\u001b[0m   \u001b[2m1008 \u001b[0m\u001b[2m│   │   │   \u001b[0m\u001b[94mif\u001b[0m \u001b[96mhasattr\u001b[0m(proc, \u001b[33m\"\u001b[0m\u001b[33mget_error_handler\u001b[0m\u001b[33m\"\u001b[0m):                                        \u001b[31m│\u001b[0m\n",
                            "\u001b[31m│\u001b[0m   \u001b[2m1009 \u001b[0m\u001b[2m│   │   │   │   \u001b[0merror_handler = proc.get_error_handler()                                  \u001b[31m│\u001b[0m\n",
                            "\u001b[31m│\u001b[0m   \u001b[2m1010 \u001b[0m\u001b[2m│   │   │   \u001b[0m\u001b[94mtry\u001b[0m:                                                                          \u001b[31m│\u001b[0m\n",
                            "\u001b[31m│\u001b[0m \u001b[31m❱ \u001b[0m1011 \u001b[2m│   │   │   │   \u001b[0mdoc = proc(doc, **component_cfg.get(name, {}))  \u001b[2m# type: ignore[call-arg]\u001b[0m  \u001b[31m│\u001b[0m\n",
                            "\u001b[31m│\u001b[0m   \u001b[2m1012 \u001b[0m\u001b[2m│   │   │   \u001b[0m\u001b[94mexcept\u001b[0m \u001b[96mKeyError\u001b[0m \u001b[94mas\u001b[0m e:                                                         \u001b[31m│\u001b[0m\n",
                            "\u001b[31m│\u001b[0m   \u001b[2m1013 \u001b[0m\u001b[2m│   │   │   │   \u001b[0m\u001b[2m# This typically happens if a component is not initialized\u001b[0m                \u001b[31m│\u001b[0m\n",
                            "\u001b[31m│\u001b[0m   \u001b[2m1014 \u001b[0m\u001b[2m│   │   │   │   \u001b[0m\u001b[94mraise\u001b[0m \u001b[96mValueError\u001b[0m(Errors.E109.format(name=name)) \u001b[94mfrom\u001b[0m \u001b[4;96me\u001b[0m                    \u001b[31m│\u001b[0m\n",
                            "\u001b[31m│\u001b[0m                                                                                                  \u001b[31m│\u001b[0m\n",
                            "\u001b[31m│\u001b[0m \u001b[2;33m/Users/nyxinsane/Documents/Work - UvA/Automating Equity/Study 1/Study1_Code/1. Cleaning and \u001b[0m     \u001b[31m│\u001b[0m\n",
                            "\u001b[31m│\u001b[0m \u001b[2;33mPreprocessing/spacy/pipeline/\u001b[0m\u001b[1;33mtrainable_pipe.pyx\u001b[0m:\u001b[94m52\u001b[0m in                                            \u001b[31m│\u001b[0m\n",
                            "\u001b[31m│\u001b[0m \u001b[92mspacy.pipeline.trainable_pipe.TrainablePipe.__call__\u001b[0m                                             \u001b[31m│\u001b[0m\n",
                            "\u001b[31m│\u001b[0m                                                                                                  \u001b[31m│\u001b[0m\n",
                            "\u001b[31m│\u001b[0m \u001b[3;31m[Errno 2] No such file or directory: '/Users/nyxinsane/Documents/Work - UvA/Automating \u001b[0m          \u001b[31m│\u001b[0m\n",
                            "\u001b[31m│\u001b[0m \u001b[3;31mEquity/Study 1/Study1_Code/1. Cleaning and Preprocessing/spacy/pipeline/trainable_pipe.pyx'\u001b[0m      \u001b[31m│\u001b[0m\n",
                            "\u001b[31m│\u001b[0m                                                                                                  \u001b[31m│\u001b[0m\n",
                            "\u001b[31m│\u001b[0m \u001b[2;33m/Users/nyxinsane/Documents/Work - UvA/Automating Equity/Study 1/Study1_Code/1. Cleaning and \u001b[0m     \u001b[31m│\u001b[0m\n",
                            "\u001b[31m│\u001b[0m \u001b[2;33mPreprocessing/spacy/pipeline/\u001b[0m\u001b[1;33mtransition_parser.pyx\u001b[0m:\u001b[94m253\u001b[0m in                                        \u001b[31m│\u001b[0m\n",
                            "\u001b[31m│\u001b[0m \u001b[92mspacy.pipeline.transition_parser.Parser.predict\u001b[0m                                                  \u001b[31m│\u001b[0m\n",
                            "\u001b[31m│\u001b[0m                                                                                                  \u001b[31m│\u001b[0m\n",
                            "\u001b[31m│\u001b[0m \u001b[3;31m[Errno 2] No such file or directory: '/Users/nyxinsane/Documents/Work - UvA/Automating \u001b[0m          \u001b[31m│\u001b[0m\n",
                            "\u001b[31m│\u001b[0m \u001b[3;31mEquity/Study 1/Study1_Code/1. Cleaning and Preprocessing/spacy/pipeline/transition_parser.pyx'\u001b[0m   \u001b[31m│\u001b[0m\n",
                            "\u001b[31m│\u001b[0m                                                                                                  \u001b[31m│\u001b[0m\n",
                            "\u001b[31m│\u001b[0m \u001b[2;33m/Users/nyxinsane/Documents/Work - UvA/Automating Equity/Study 1/Study1_Code/1. Cleaning and \u001b[0m     \u001b[31m│\u001b[0m\n",
                            "\u001b[31m│\u001b[0m \u001b[2;33mPreprocessing/spacy/pipeline/\u001b[0m\u001b[1;33mtransition_parser.pyx\u001b[0m:\u001b[94m274\u001b[0m in                                        \u001b[31m│\u001b[0m\n",
                            "\u001b[31m│\u001b[0m \u001b[92mspacy.pipeline.transition_parser.Parser.greedy_parse\u001b[0m                                             \u001b[31m│\u001b[0m\n",
                            "\u001b[31m│\u001b[0m                                                                                                  \u001b[31m│\u001b[0m\n",
                            "\u001b[31m│\u001b[0m \u001b[3;31m[Errno 2] No such file or directory: '/Users/nyxinsane/Documents/Work - UvA/Automating \u001b[0m          \u001b[31m│\u001b[0m\n",
                            "\u001b[31m│\u001b[0m \u001b[3;31mEquity/Study 1/Study1_Code/1. Cleaning and Preprocessing/spacy/pipeline/transition_parser.pyx'\u001b[0m   \u001b[31m│\u001b[0m\n",
                            "\u001b[31m│\u001b[0m                                                                                                  \u001b[31m│\u001b[0m\n",
                            "\u001b[31m│\u001b[0m \u001b[2;33m/opt/homebrew/Caskroom/mambaforge/base/envs/study1_3.10/lib/python3.10/site-packages/thinc/\u001b[0m\u001b[1;33mmodel\u001b[0m \u001b[31m│\u001b[0m\n",
                            "\u001b[31m│\u001b[0m \u001b[1;33m.py\u001b[0m:\u001b[94m315\u001b[0m in \u001b[92mpredict\u001b[0m                                                                               \u001b[31m│\u001b[0m\n",
                            "\u001b[31m│\u001b[0m                                                                                                  \u001b[31m│\u001b[0m\n",
                            "\u001b[31m│\u001b[0m   \u001b[2m312 \u001b[0m\u001b[2;90m│   │   \u001b[0m\u001b[33m\"\"\"Call the model's `forward` function with `is_train=False`, and return\u001b[0m           \u001b[31m│\u001b[0m\n",
                            "\u001b[31m│\u001b[0m   \u001b[2m313 \u001b[0m\u001b[2;33m│   │   \u001b[0m\u001b[33monly the output, instead of the `(output, callback)` tuple.\u001b[0m                        \u001b[31m│\u001b[0m\n",
                            "\u001b[31m│\u001b[0m   \u001b[2m314 \u001b[0m\u001b[2;33m│   │   \u001b[0m\u001b[33m\"\"\"\u001b[0m                                                                                \u001b[31m│\u001b[0m\n",
                            "\u001b[31m│\u001b[0m \u001b[31m❱ \u001b[0m315 \u001b[2m│   │   \u001b[0m\u001b[94mreturn\u001b[0m \u001b[96mself\u001b[0m._func(\u001b[96mself\u001b[0m, X, is_train=\u001b[94mFalse\u001b[0m)[\u001b[94m0\u001b[0m]                                      \u001b[31m│\u001b[0m\n",
                            "\u001b[31m│\u001b[0m   \u001b[2m316 \u001b[0m\u001b[2m│   \u001b[0m                                                                                       \u001b[31m│\u001b[0m\n",
                            "\u001b[31m│\u001b[0m   \u001b[2m317 \u001b[0m\u001b[2m│   \u001b[0m\u001b[94mdef\u001b[0m \u001b[92mfinish_update\u001b[0m(\u001b[96mself\u001b[0m, optimizer: Optimizer) -> \u001b[94mNone\u001b[0m:                                 \u001b[31m│\u001b[0m\n",
                            "\u001b[31m│\u001b[0m   \u001b[2m318 \u001b[0m\u001b[2;90m│   │   \u001b[0m\u001b[33m\"\"\"Update parameters with current gradients. The optimizer is called\u001b[0m               \u001b[31m│\u001b[0m\n",
                            "\u001b[31m│\u001b[0m                                                                                                  \u001b[31m│\u001b[0m\n",
                            "\u001b[31m│\u001b[0m \u001b[2;33m/opt/homebrew/Caskroom/mambaforge/base/envs/study1_3.10/lib/python3.10/site-packages/spacy/ml/\u001b[0m\u001b[1;33mtb\u001b[0m \u001b[31m│\u001b[0m\n",
                            "\u001b[31m│\u001b[0m \u001b[1;33m_framework.py\u001b[0m:\u001b[94m33\u001b[0m in \u001b[92mforward\u001b[0m                                                                      \u001b[31m│\u001b[0m\n",
                            "\u001b[31m│\u001b[0m                                                                                                  \u001b[31m│\u001b[0m\n",
                            "\u001b[31m│\u001b[0m   \u001b[2m30 \u001b[0m                                                                                            \u001b[31m│\u001b[0m\n",
                            "\u001b[31m│\u001b[0m   \u001b[2m31 \u001b[0m                                                                                            \u001b[31m│\u001b[0m\n",
                            "\u001b[31m│\u001b[0m   \u001b[2m32 \u001b[0m\u001b[94mdef\u001b[0m \u001b[92mforward\u001b[0m(model, X, is_train):                                                            \u001b[31m│\u001b[0m\n",
                            "\u001b[31m│\u001b[0m \u001b[31m❱ \u001b[0m33 \u001b[2m│   \u001b[0mstep_model = ParserStepModel(                                                           \u001b[31m│\u001b[0m\n",
                            "\u001b[31m│\u001b[0m   \u001b[2m34 \u001b[0m\u001b[2m│   │   \u001b[0mX,                                                                                  \u001b[31m│\u001b[0m\n",
                            "\u001b[31m│\u001b[0m   \u001b[2m35 \u001b[0m\u001b[2m│   │   \u001b[0mmodel.layers,                                                                       \u001b[31m│\u001b[0m\n",
                            "\u001b[31m│\u001b[0m   \u001b[2m36 \u001b[0m\u001b[2m│   │   \u001b[0munseen_classes=model.attrs[\u001b[33m\"\u001b[0m\u001b[33munseen_classes\u001b[0m\u001b[33m\"\u001b[0m],                                       \u001b[31m│\u001b[0m\n",
                            "\u001b[31m│\u001b[0m                                                                                                  \u001b[31m│\u001b[0m\n",
                            "\u001b[31m│\u001b[0m \u001b[2;33m/Users/nyxinsane/Documents/Work - UvA/Automating Equity/Study 1/Study1_Code/1. Cleaning and \u001b[0m     \u001b[31m│\u001b[0m\n",
                            "\u001b[31m│\u001b[0m \u001b[2;33mPreprocessing/spacy/ml/\u001b[0m\u001b[1;33mparser_model.pyx\u001b[0m:\u001b[94m213\u001b[0m in \u001b[92mspacy.ml.parser_model.ParserStepModel.__init__\u001b[0m    \u001b[31m│\u001b[0m\n",
                            "\u001b[31m│\u001b[0m                                                                                                  \u001b[31m│\u001b[0m\n",
                            "\u001b[31m│\u001b[0m \u001b[3;31m[Errno 2] No such file or directory: '/Users/nyxinsane/Documents/Work - UvA/Automating \u001b[0m          \u001b[31m│\u001b[0m\n",
                            "\u001b[31m│\u001b[0m \u001b[3;31mEquity/Study 1/Study1_Code/1. Cleaning and Preprocessing/spacy/ml/parser_model.pyx'\u001b[0m              \u001b[31m│\u001b[0m\n",
                            "\u001b[31m│\u001b[0m                                                                                                  \u001b[31m│\u001b[0m\n",
                            "\u001b[31m│\u001b[0m \u001b[2;33m/opt/homebrew/Caskroom/mambaforge/base/envs/study1_3.10/lib/python3.10/site-packages/thinc/\u001b[0m\u001b[1;33mmodel\u001b[0m \u001b[31m│\u001b[0m\n",
                            "\u001b[31m│\u001b[0m \u001b[1;33m.py\u001b[0m:\u001b[94m291\u001b[0m in \u001b[92m__call__\u001b[0m                                                                              \u001b[31m│\u001b[0m\n",
                            "\u001b[31m│\u001b[0m                                                                                                  \u001b[31m│\u001b[0m\n",
                            "\u001b[31m│\u001b[0m   \u001b[2m288 \u001b[0m\u001b[2m│   \u001b[0m\u001b[94mdef\u001b[0m \u001b[92m__call__\u001b[0m(\u001b[96mself\u001b[0m, X: InT, is_train: \u001b[96mbool\u001b[0m) -> Tuple[OutT, Callable]:                   \u001b[31m│\u001b[0m\n",
                            "\u001b[31m│\u001b[0m   \u001b[2m289 \u001b[0m\u001b[2;90m│   │   \u001b[0m\u001b[33m\"\"\"Call the model's `forward` function, returning the output and a\u001b[0m                 \u001b[31m│\u001b[0m\n",
                            "\u001b[31m│\u001b[0m   \u001b[2m290 \u001b[0m\u001b[2;33m│   │   \u001b[0m\u001b[33mcallback to compute the gradients via backpropagation.\"\"\"\u001b[0m                          \u001b[31m│\u001b[0m\n",
                            "\u001b[31m│\u001b[0m \u001b[31m❱ \u001b[0m291 \u001b[2m│   │   \u001b[0m\u001b[94mreturn\u001b[0m \u001b[96mself\u001b[0m._func(\u001b[96mself\u001b[0m, X, is_train=is_train)                                      \u001b[31m│\u001b[0m\n",
                            "\u001b[31m│\u001b[0m   \u001b[2m292 \u001b[0m\u001b[2m│   \u001b[0m                                                                                       \u001b[31m│\u001b[0m\n",
                            "\u001b[31m│\u001b[0m   \u001b[2m293 \u001b[0m\u001b[2m│   \u001b[0m\u001b[94mdef\u001b[0m \u001b[92minitialize\u001b[0m(\u001b[96mself\u001b[0m, X: Optional[InT] = \u001b[94mNone\u001b[0m, Y: Optional[OutT] = \u001b[94mNone\u001b[0m) -> \u001b[33m\"\u001b[0m\u001b[33mModel\u001b[0m\u001b[33m\"\u001b[0m:    \u001b[31m│\u001b[0m\n",
                            "\u001b[31m│\u001b[0m   \u001b[2m294 \u001b[0m\u001b[2;90m│   │   \u001b[0m\u001b[33m\"\"\"Finish initialization of the model, optionally providing a batch of\u001b[0m             \u001b[31m│\u001b[0m\n",
                            "\u001b[31m│\u001b[0m                                                                                                  \u001b[31m│\u001b[0m\n",
                            "\u001b[31m│\u001b[0m \u001b[2;33m/opt/homebrew/Caskroom/mambaforge/base/envs/study1_3.10/lib/python3.10/site-packages/thinc/layer\u001b[0m \u001b[31m│\u001b[0m\n",
                            "\u001b[31m│\u001b[0m \u001b[2;33ms/\u001b[0m\u001b[1;33mchain.py\u001b[0m:\u001b[94m55\u001b[0m in \u001b[92mforward\u001b[0m                                                                         \u001b[31m│\u001b[0m\n",
                            "\u001b[31m│\u001b[0m                                                                                                  \u001b[31m│\u001b[0m\n",
                            "\u001b[31m│\u001b[0m   \u001b[2m 52 \u001b[0m\u001b[2;33m│   \u001b[0m\u001b[33m\"\"\"\u001b[0m                                                                                    \u001b[31m│\u001b[0m\n",
                            "\u001b[31m│\u001b[0m   \u001b[2m 53 \u001b[0m\u001b[2m│   \u001b[0mcallbacks = []                                                                         \u001b[31m│\u001b[0m\n",
                            "\u001b[31m│\u001b[0m   \u001b[2m 54 \u001b[0m\u001b[2m│   \u001b[0m\u001b[94mfor\u001b[0m layer \u001b[95min\u001b[0m model.layers:                                                             \u001b[31m│\u001b[0m\n",
                            "\u001b[31m│\u001b[0m \u001b[31m❱ \u001b[0m 55 \u001b[2m│   │   \u001b[0mY, inc_layer_grad = layer(X, is_train=is_train)                                    \u001b[31m│\u001b[0m\n",
                            "\u001b[31m│\u001b[0m   \u001b[2m 56 \u001b[0m\u001b[2m│   │   \u001b[0mcallbacks.append(inc_layer_grad)                                                   \u001b[31m│\u001b[0m\n",
                            "\u001b[31m│\u001b[0m   \u001b[2m 57 \u001b[0m\u001b[2m│   │   \u001b[0mX = Y                                                                              \u001b[31m│\u001b[0m\n",
                            "\u001b[31m│\u001b[0m   \u001b[2m 58 \u001b[0m                                                                                           \u001b[31m│\u001b[0m\n",
                            "\u001b[31m│\u001b[0m                                                                                                  \u001b[31m│\u001b[0m\n",
                            "\u001b[31m│\u001b[0m \u001b[2;33m/opt/homebrew/Caskroom/mambaforge/base/envs/study1_3.10/lib/python3.10/site-packages/thinc/\u001b[0m\u001b[1;33mmodel\u001b[0m \u001b[31m│\u001b[0m\n",
                            "\u001b[31m│\u001b[0m \u001b[1;33m.py\u001b[0m:\u001b[94m291\u001b[0m in \u001b[92m__call__\u001b[0m                                                                              \u001b[31m│\u001b[0m\n",
                            "\u001b[31m│\u001b[0m                                                                                                  \u001b[31m│\u001b[0m\n",
                            "\u001b[31m│\u001b[0m   \u001b[2m288 \u001b[0m\u001b[2m│   \u001b[0m\u001b[94mdef\u001b[0m \u001b[92m__call__\u001b[0m(\u001b[96mself\u001b[0m, X: InT, is_train: \u001b[96mbool\u001b[0m) -> Tuple[OutT, Callable]:                   \u001b[31m│\u001b[0m\n",
                            "\u001b[31m│\u001b[0m   \u001b[2m289 \u001b[0m\u001b[2;90m│   │   \u001b[0m\u001b[33m\"\"\"Call the model's `forward` function, returning the output and a\u001b[0m                 \u001b[31m│\u001b[0m\n",
                            "\u001b[31m│\u001b[0m   \u001b[2m290 \u001b[0m\u001b[2;33m│   │   \u001b[0m\u001b[33mcallback to compute the gradients via backpropagation.\"\"\"\u001b[0m                          \u001b[31m│\u001b[0m\n",
                            "\u001b[31m│\u001b[0m \u001b[31m❱ \u001b[0m291 \u001b[2m│   │   \u001b[0m\u001b[94mreturn\u001b[0m \u001b[96mself\u001b[0m._func(\u001b[96mself\u001b[0m, X, is_train=is_train)                                      \u001b[31m│\u001b[0m\n",
                            "\u001b[31m│\u001b[0m   \u001b[2m292 \u001b[0m\u001b[2m│   \u001b[0m                                                                                       \u001b[31m│\u001b[0m\n",
                            "\u001b[31m│\u001b[0m   \u001b[2m293 \u001b[0m\u001b[2m│   \u001b[0m\u001b[94mdef\u001b[0m \u001b[92minitialize\u001b[0m(\u001b[96mself\u001b[0m, X: Optional[InT] = \u001b[94mNone\u001b[0m, Y: Optional[OutT] = \u001b[94mNone\u001b[0m) -> \u001b[33m\"\u001b[0m\u001b[33mModel\u001b[0m\u001b[33m\"\u001b[0m:    \u001b[31m│\u001b[0m\n",
                            "\u001b[31m│\u001b[0m   \u001b[2m294 \u001b[0m\u001b[2;90m│   │   \u001b[0m\u001b[33m\"\"\"Finish initialization of the model, optionally providing a batch of\u001b[0m             \u001b[31m│\u001b[0m\n",
                            "\u001b[31m│\u001b[0m                                                                                                  \u001b[31m│\u001b[0m\n",
                            "\u001b[31m│\u001b[0m \u001b[2;33m/opt/homebrew/Caskroom/mambaforge/base/envs/study1_3.10/lib/python3.10/site-packages/thinc/layer\u001b[0m \u001b[31m│\u001b[0m\n",
                            "\u001b[31m│\u001b[0m \u001b[2;33ms/\u001b[0m\u001b[1;33mchain.py\u001b[0m:\u001b[94m55\u001b[0m in \u001b[92mforward\u001b[0m                                                                         \u001b[31m│\u001b[0m\n",
                            "\u001b[31m│\u001b[0m                                                                                                  \u001b[31m│\u001b[0m\n",
                            "\u001b[31m│\u001b[0m   \u001b[2m 52 \u001b[0m\u001b[2;33m│   \u001b[0m\u001b[33m\"\"\"\u001b[0m                                                                                    \u001b[31m│\u001b[0m\n",
                            "\u001b[31m│\u001b[0m   \u001b[2m 53 \u001b[0m\u001b[2m│   \u001b[0mcallbacks = []                                                                         \u001b[31m│\u001b[0m\n",
                            "\u001b[31m│\u001b[0m   \u001b[2m 54 \u001b[0m\u001b[2m│   \u001b[0m\u001b[94mfor\u001b[0m layer \u001b[95min\u001b[0m model.layers:                                                             \u001b[31m│\u001b[0m\n",
                            "\u001b[31m│\u001b[0m \u001b[31m❱ \u001b[0m 55 \u001b[2m│   │   \u001b[0mY, inc_layer_grad = layer(X, is_train=is_train)                                    \u001b[31m│\u001b[0m\n",
                            "\u001b[31m│\u001b[0m   \u001b[2m 56 \u001b[0m\u001b[2m│   │   \u001b[0mcallbacks.append(inc_layer_grad)                                                   \u001b[31m│\u001b[0m\n",
                            "\u001b[31m│\u001b[0m   \u001b[2m 57 \u001b[0m\u001b[2m│   │   \u001b[0mX = Y                                                                              \u001b[31m│\u001b[0m\n",
                            "\u001b[31m│\u001b[0m   \u001b[2m 58 \u001b[0m                                                                                           \u001b[31m│\u001b[0m\n",
                            "\u001b[31m│\u001b[0m                                                                                                  \u001b[31m│\u001b[0m\n",
                            "\u001b[31m│\u001b[0m \u001b[2;33m/opt/homebrew/Caskroom/mambaforge/base/envs/study1_3.10/lib/python3.10/site-packages/thinc/\u001b[0m\u001b[1;33mmodel\u001b[0m \u001b[31m│\u001b[0m\n",
                            "\u001b[31m│\u001b[0m \u001b[1;33m.py\u001b[0m:\u001b[94m291\u001b[0m in \u001b[92m__call__\u001b[0m                                                                              \u001b[31m│\u001b[0m\n",
                            "\u001b[31m│\u001b[0m                                                                                                  \u001b[31m│\u001b[0m\n",
                            "\u001b[31m│\u001b[0m   \u001b[2m288 \u001b[0m\u001b[2m│   \u001b[0m\u001b[94mdef\u001b[0m \u001b[92m__call__\u001b[0m(\u001b[96mself\u001b[0m, X: InT, is_train: \u001b[96mbool\u001b[0m) -> Tuple[OutT, Callable]:                   \u001b[31m│\u001b[0m\n",
                            "\u001b[31m│\u001b[0m   \u001b[2m289 \u001b[0m\u001b[2;90m│   │   \u001b[0m\u001b[33m\"\"\"Call the model's `forward` function, returning the output and a\u001b[0m                 \u001b[31m│\u001b[0m\n",
                            "\u001b[31m│\u001b[0m   \u001b[2m290 \u001b[0m\u001b[2;33m│   │   \u001b[0m\u001b[33mcallback to compute the gradients via backpropagation.\"\"\"\u001b[0m                          \u001b[31m│\u001b[0m\n",
                            "\u001b[31m│\u001b[0m \u001b[31m❱ \u001b[0m291 \u001b[2m│   │   \u001b[0m\u001b[94mreturn\u001b[0m \u001b[96mself\u001b[0m._func(\u001b[96mself\u001b[0m, X, is_train=is_train)                                      \u001b[31m│\u001b[0m\n",
                            "\u001b[31m│\u001b[0m   \u001b[2m292 \u001b[0m\u001b[2m│   \u001b[0m                                                                                       \u001b[31m│\u001b[0m\n",
                            "\u001b[31m│\u001b[0m   \u001b[2m293 \u001b[0m\u001b[2m│   \u001b[0m\u001b[94mdef\u001b[0m \u001b[92minitialize\u001b[0m(\u001b[96mself\u001b[0m, X: Optional[InT] = \u001b[94mNone\u001b[0m, Y: Optional[OutT] = \u001b[94mNone\u001b[0m) -> \u001b[33m\"\u001b[0m\u001b[33mModel\u001b[0m\u001b[33m\"\u001b[0m:    \u001b[31m│\u001b[0m\n",
                            "\u001b[31m│\u001b[0m   \u001b[2m294 \u001b[0m\u001b[2;90m│   │   \u001b[0m\u001b[33m\"\"\"Finish initialization of the model, optionally providing a batch of\u001b[0m             \u001b[31m│\u001b[0m\n",
                            "\u001b[31m│\u001b[0m                                                                                                  \u001b[31m│\u001b[0m\n",
                            "\u001b[31m│\u001b[0m \u001b[2;33m/opt/homebrew/Caskroom/mambaforge/base/envs/study1_3.10/lib/python3.10/site-packages/thinc/layer\u001b[0m \u001b[31m│\u001b[0m\n",
                            "\u001b[31m│\u001b[0m \u001b[2;33ms/\u001b[0m\u001b[1;33mwith_array.py\u001b[0m:\u001b[94m38\u001b[0m in \u001b[92mforward\u001b[0m                                                                    \u001b[31m│\u001b[0m\n",
                            "\u001b[31m│\u001b[0m                                                                                                  \u001b[31m│\u001b[0m\n",
                            "\u001b[31m│\u001b[0m   \u001b[2m 35 \u001b[0m\u001b[2m│   \u001b[0m\u001b[94melif\u001b[0m \u001b[95mnot\u001b[0m \u001b[96misinstance\u001b[0m(Xseq, (\u001b[96mlist\u001b[0m, \u001b[96mtuple\u001b[0m)):                                              \u001b[31m│\u001b[0m\n",
                            "\u001b[31m│\u001b[0m   \u001b[2m 36 \u001b[0m\u001b[2m│   │   \u001b[0m\u001b[94mreturn\u001b[0m model.layers[\u001b[94m0\u001b[0m](Xseq, is_train)                                             \u001b[31m│\u001b[0m\n",
                            "\u001b[31m│\u001b[0m   \u001b[2m 37 \u001b[0m\u001b[2m│   \u001b[0m\u001b[94melse\u001b[0m:                                                                                  \u001b[31m│\u001b[0m\n",
                            "\u001b[31m│\u001b[0m \u001b[31m❱ \u001b[0m 38 \u001b[2m│   │   \u001b[0m\u001b[94mreturn\u001b[0m cast(Tuple[SeqT, Callable], _list_forward(model, Xseq, is_train))           \u001b[31m│\u001b[0m\n",
                            "\u001b[31m│\u001b[0m   \u001b[2m 39 \u001b[0m                                                                                           \u001b[31m│\u001b[0m\n",
                            "\u001b[31m│\u001b[0m   \u001b[2m 40 \u001b[0m                                                                                           \u001b[31m│\u001b[0m\n",
                            "\u001b[31m│\u001b[0m   \u001b[2m 41 \u001b[0m\u001b[94mdef\u001b[0m \u001b[92minit\u001b[0m(                                                                                  \u001b[31m│\u001b[0m\n",
                            "\u001b[31m│\u001b[0m                                                                                                  \u001b[31m│\u001b[0m\n",
                            "\u001b[31m│\u001b[0m \u001b[2;33m/opt/homebrew/Caskroom/mambaforge/base/envs/study1_3.10/lib/python3.10/site-packages/thinc/layer\u001b[0m \u001b[31m│\u001b[0m\n",
                            "\u001b[31m│\u001b[0m \u001b[2;33ms/\u001b[0m\u001b[1;33mwith_array.py\u001b[0m:\u001b[94m73\u001b[0m in \u001b[92m_list_forward\u001b[0m                                                              \u001b[31m│\u001b[0m\n",
                            "\u001b[31m│\u001b[0m                                                                                                  \u001b[31m│\u001b[0m\n",
                            "\u001b[31m│\u001b[0m   \u001b[2m 70 \u001b[0m\u001b[2m│   \u001b[0mpad = model.attrs[\u001b[33m\"\u001b[0m\u001b[33mpad\u001b[0m\u001b[33m\"\u001b[0m]                                                               \u001b[31m│\u001b[0m\n",
                            "\u001b[31m│\u001b[0m   \u001b[2m 71 \u001b[0m\u001b[2m│   \u001b[0mlengths = layer.ops.asarray1i([\u001b[96mlen\u001b[0m(seq) \u001b[94mfor\u001b[0m seq \u001b[95min\u001b[0m Xs])                                \u001b[31m│\u001b[0m\n",
                            "\u001b[31m│\u001b[0m   \u001b[2m 72 \u001b[0m\u001b[2m│   \u001b[0mXf = layer.ops.flatten(Xs, pad=pad)                                                    \u001b[31m│\u001b[0m\n",
                            "\u001b[31m│\u001b[0m \u001b[31m❱ \u001b[0m 73 \u001b[2m│   \u001b[0mYf, get_dXf = layer(Xf, is_train)                                                      \u001b[31m│\u001b[0m\n",
                            "\u001b[31m│\u001b[0m   \u001b[2m 74 \u001b[0m\u001b[2m│   \u001b[0m                                                                                       \u001b[31m│\u001b[0m\n",
                            "\u001b[31m│\u001b[0m   \u001b[2m 75 \u001b[0m\u001b[2m│   \u001b[0m\u001b[94mdef\u001b[0m \u001b[92mbackprop\u001b[0m(dYs: ListXd) -> ListXd:                                                   \u001b[31m│\u001b[0m\n",
                            "\u001b[31m│\u001b[0m   \u001b[2m 76 \u001b[0m\u001b[2m│   │   \u001b[0mdYf = layer.ops.flatten(dYs, pad=pad)                                              \u001b[31m│\u001b[0m\n",
                            "\u001b[31m│\u001b[0m                                                                                                  \u001b[31m│\u001b[0m\n",
                            "\u001b[31m│\u001b[0m \u001b[2;33m/opt/homebrew/Caskroom/mambaforge/base/envs/study1_3.10/lib/python3.10/site-packages/thinc/\u001b[0m\u001b[1;33mmodel\u001b[0m \u001b[31m│\u001b[0m\n",
                            "\u001b[31m│\u001b[0m \u001b[1;33m.py\u001b[0m:\u001b[94m291\u001b[0m in \u001b[92m__call__\u001b[0m                                                                              \u001b[31m│\u001b[0m\n",
                            "\u001b[31m│\u001b[0m                                                                                                  \u001b[31m│\u001b[0m\n",
                            "\u001b[31m│\u001b[0m   \u001b[2m288 \u001b[0m\u001b[2m│   \u001b[0m\u001b[94mdef\u001b[0m \u001b[92m__call__\u001b[0m(\u001b[96mself\u001b[0m, X: InT, is_train: \u001b[96mbool\u001b[0m) -> Tuple[OutT, Callable]:                   \u001b[31m│\u001b[0m\n",
                            "\u001b[31m│\u001b[0m   \u001b[2m289 \u001b[0m\u001b[2;90m│   │   \u001b[0m\u001b[33m\"\"\"Call the model's `forward` function, returning the output and a\u001b[0m                 \u001b[31m│\u001b[0m\n",
                            "\u001b[31m│\u001b[0m   \u001b[2m290 \u001b[0m\u001b[2;33m│   │   \u001b[0m\u001b[33mcallback to compute the gradients via backpropagation.\"\"\"\u001b[0m                          \u001b[31m│\u001b[0m\n",
                            "\u001b[31m│\u001b[0m \u001b[31m❱ \u001b[0m291 \u001b[2m│   │   \u001b[0m\u001b[94mreturn\u001b[0m \u001b[96mself\u001b[0m._func(\u001b[96mself\u001b[0m, X, is_train=is_train)                                      \u001b[31m│\u001b[0m\n",
                            "\u001b[31m│\u001b[0m   \u001b[2m292 \u001b[0m\u001b[2m│   \u001b[0m                                                                                       \u001b[31m│\u001b[0m\n",
                            "\u001b[31m│\u001b[0m   \u001b[2m293 \u001b[0m\u001b[2m│   \u001b[0m\u001b[94mdef\u001b[0m \u001b[92minitialize\u001b[0m(\u001b[96mself\u001b[0m, X: Optional[InT] = \u001b[94mNone\u001b[0m, Y: Optional[OutT] = \u001b[94mNone\u001b[0m) -> \u001b[33m\"\u001b[0m\u001b[33mModel\u001b[0m\u001b[33m\"\u001b[0m:    \u001b[31m│\u001b[0m\n",
                            "\u001b[31m│\u001b[0m   \u001b[2m294 \u001b[0m\u001b[2;90m│   │   \u001b[0m\u001b[33m\"\"\"Finish initialization of the model, optionally providing a batch of\u001b[0m             \u001b[31m│\u001b[0m\n",
                            "\u001b[31m│\u001b[0m                                                                                                  \u001b[31m│\u001b[0m\n",
                            "\u001b[31m│\u001b[0m \u001b[2;33m/opt/homebrew/Caskroom/mambaforge/base/envs/study1_3.10/lib/python3.10/site-packages/thinc/layer\u001b[0m \u001b[31m│\u001b[0m\n",
                            "\u001b[31m│\u001b[0m \u001b[2;33ms/\u001b[0m\u001b[1;33mchain.py\u001b[0m:\u001b[94m55\u001b[0m in \u001b[92mforward\u001b[0m                                                                         \u001b[31m│\u001b[0m\n",
                            "\u001b[31m│\u001b[0m                                                                                                  \u001b[31m│\u001b[0m\n",
                            "\u001b[31m│\u001b[0m   \u001b[2m 52 \u001b[0m\u001b[2;33m│   \u001b[0m\u001b[33m\"\"\"\u001b[0m                                                                                    \u001b[31m│\u001b[0m\n",
                            "\u001b[31m│\u001b[0m   \u001b[2m 53 \u001b[0m\u001b[2m│   \u001b[0mcallbacks = []                                                                         \u001b[31m│\u001b[0m\n",
                            "\u001b[31m│\u001b[0m   \u001b[2m 54 \u001b[0m\u001b[2m│   \u001b[0m\u001b[94mfor\u001b[0m layer \u001b[95min\u001b[0m model.layers:                                                             \u001b[31m│\u001b[0m\n",
                            "\u001b[31m│\u001b[0m \u001b[31m❱ \u001b[0m 55 \u001b[2m│   │   \u001b[0mY, inc_layer_grad = layer(X, is_train=is_train)                                    \u001b[31m│\u001b[0m\n",
                            "\u001b[31m│\u001b[0m   \u001b[2m 56 \u001b[0m\u001b[2m│   │   \u001b[0mcallbacks.append(inc_layer_grad)                                                   \u001b[31m│\u001b[0m\n",
                            "\u001b[31m│\u001b[0m   \u001b[2m 57 \u001b[0m\u001b[2m│   │   \u001b[0mX = Y                                                                              \u001b[31m│\u001b[0m\n",
                            "\u001b[31m│\u001b[0m   \u001b[2m 58 \u001b[0m                                                                                           \u001b[31m│\u001b[0m\n",
                            "\u001b[31m│\u001b[0m                                                                                                  \u001b[31m│\u001b[0m\n",
                            "\u001b[31m│\u001b[0m \u001b[2;33m/opt/homebrew/Caskroom/mambaforge/base/envs/study1_3.10/lib/python3.10/site-packages/thinc/\u001b[0m\u001b[1;33mmodel\u001b[0m \u001b[31m│\u001b[0m\n",
                            "\u001b[31m│\u001b[0m \u001b[1;33m.py\u001b[0m:\u001b[94m291\u001b[0m in \u001b[92m__call__\u001b[0m                                                                              \u001b[31m│\u001b[0m\n",
                            "\u001b[31m│\u001b[0m                                                                                                  \u001b[31m│\u001b[0m\n",
                            "\u001b[31m│\u001b[0m   \u001b[2m288 \u001b[0m\u001b[2m│   \u001b[0m\u001b[94mdef\u001b[0m \u001b[92m__call__\u001b[0m(\u001b[96mself\u001b[0m, X: InT, is_train: \u001b[96mbool\u001b[0m) -> Tuple[OutT, Callable]:                   \u001b[31m│\u001b[0m\n",
                            "\u001b[31m│\u001b[0m   \u001b[2m289 \u001b[0m\u001b[2;90m│   │   \u001b[0m\u001b[33m\"\"\"Call the model's `forward` function, returning the output and a\u001b[0m                 \u001b[31m│\u001b[0m\n",
                            "\u001b[31m│\u001b[0m   \u001b[2m290 \u001b[0m\u001b[2;33m│   │   \u001b[0m\u001b[33mcallback to compute the gradients via backpropagation.\"\"\"\u001b[0m                          \u001b[31m│\u001b[0m\n",
                            "\u001b[31m│\u001b[0m \u001b[31m❱ \u001b[0m291 \u001b[2m│   │   \u001b[0m\u001b[94mreturn\u001b[0m \u001b[96mself\u001b[0m._func(\u001b[96mself\u001b[0m, X, is_train=is_train)                                      \u001b[31m│\u001b[0m\n",
                            "\u001b[31m│\u001b[0m   \u001b[2m292 \u001b[0m\u001b[2m│   \u001b[0m                                                                                       \u001b[31m│\u001b[0m\n",
                            "\u001b[31m│\u001b[0m   \u001b[2m293 \u001b[0m\u001b[2m│   \u001b[0m\u001b[94mdef\u001b[0m \u001b[92minitialize\u001b[0m(\u001b[96mself\u001b[0m, X: Optional[InT] = \u001b[94mNone\u001b[0m, Y: Optional[OutT] = \u001b[94mNone\u001b[0m) -> \u001b[33m\"\u001b[0m\u001b[33mModel\u001b[0m\u001b[33m\"\u001b[0m:    \u001b[31m│\u001b[0m\n",
                            "\u001b[31m│\u001b[0m   \u001b[2m294 \u001b[0m\u001b[2;90m│   │   \u001b[0m\u001b[33m\"\"\"Finish initialization of the model, optionally providing a batch of\u001b[0m             \u001b[31m│\u001b[0m\n",
                            "\u001b[31m│\u001b[0m                                                                                                  \u001b[31m│\u001b[0m\n",
                            "\u001b[31m│\u001b[0m \u001b[2;33m/opt/homebrew/Caskroom/mambaforge/base/envs/study1_3.10/lib/python3.10/site-packages/thinc/layer\u001b[0m \u001b[31m│\u001b[0m\n",
                            "\u001b[31m│\u001b[0m \u001b[2;33ms/\u001b[0m\u001b[1;33mresidual.py\u001b[0m:\u001b[94m41\u001b[0m in \u001b[92mforward\u001b[0m                                                                      \u001b[31m│\u001b[0m\n",
                            "\u001b[31m│\u001b[0m                                                                                                  \u001b[31m│\u001b[0m\n",
                            "\u001b[31m│\u001b[0m   \u001b[2m38 \u001b[0m\u001b[2m│   │   \u001b[0m\u001b[94melse\u001b[0m:                                                                               \u001b[31m│\u001b[0m\n",
                            "\u001b[31m│\u001b[0m   \u001b[2m39 \u001b[0m\u001b[2m│   │   │   \u001b[0m\u001b[94mreturn\u001b[0m d_output + dX                                                            \u001b[31m│\u001b[0m\n",
                            "\u001b[31m│\u001b[0m   \u001b[2m40 \u001b[0m\u001b[2m│   \u001b[0m                                                                                        \u001b[31m│\u001b[0m\n",
                            "\u001b[31m│\u001b[0m \u001b[31m❱ \u001b[0m41 \u001b[2m│   \u001b[0mY, backprop_layer = model.layers[\u001b[94m0\u001b[0m](X, is_train)                                        \u001b[31m│\u001b[0m\n",
                            "\u001b[31m│\u001b[0m   \u001b[2m42 \u001b[0m\u001b[2m│   \u001b[0m\u001b[94mif\u001b[0m \u001b[96misinstance\u001b[0m(X, \u001b[96mlist\u001b[0m):                                                                 \u001b[31m│\u001b[0m\n",
                            "\u001b[31m│\u001b[0m   \u001b[2m43 \u001b[0m\u001b[2m│   │   \u001b[0m\u001b[94mreturn\u001b[0m [X[i] + Y[i] \u001b[94mfor\u001b[0m i \u001b[95min\u001b[0m \u001b[96mrange\u001b[0m(\u001b[96mlen\u001b[0m(X))], backprop                               \u001b[31m│\u001b[0m\n",
                            "\u001b[31m│\u001b[0m   \u001b[2m44 \u001b[0m\u001b[2m│   \u001b[0m\u001b[94melif\u001b[0m \u001b[96misinstance\u001b[0m(X, Ragged):                                                             \u001b[31m│\u001b[0m\n",
                            "\u001b[31m│\u001b[0m                                                                                                  \u001b[31m│\u001b[0m\n",
                            "\u001b[31m│\u001b[0m \u001b[2;33m/opt/homebrew/Caskroom/mambaforge/base/envs/study1_3.10/lib/python3.10/site-packages/thinc/\u001b[0m\u001b[1;33mmodel\u001b[0m \u001b[31m│\u001b[0m\n",
                            "\u001b[31m│\u001b[0m \u001b[1;33m.py\u001b[0m:\u001b[94m291\u001b[0m in \u001b[92m__call__\u001b[0m                                                                              \u001b[31m│\u001b[0m\n",
                            "\u001b[31m│\u001b[0m                                                                                                  \u001b[31m│\u001b[0m\n",
                            "\u001b[31m│\u001b[0m   \u001b[2m288 \u001b[0m\u001b[2m│   \u001b[0m\u001b[94mdef\u001b[0m \u001b[92m__call__\u001b[0m(\u001b[96mself\u001b[0m, X: InT, is_train: \u001b[96mbool\u001b[0m) -> Tuple[OutT, Callable]:                   \u001b[31m│\u001b[0m\n",
                            "\u001b[31m│\u001b[0m   \u001b[2m289 \u001b[0m\u001b[2;90m│   │   \u001b[0m\u001b[33m\"\"\"Call the model's `forward` function, returning the output and a\u001b[0m                 \u001b[31m│\u001b[0m\n",
                            "\u001b[31m│\u001b[0m   \u001b[2m290 \u001b[0m\u001b[2;33m│   │   \u001b[0m\u001b[33mcallback to compute the gradients via backpropagation.\"\"\"\u001b[0m                          \u001b[31m│\u001b[0m\n",
                            "\u001b[31m│\u001b[0m \u001b[31m❱ \u001b[0m291 \u001b[2m│   │   \u001b[0m\u001b[94mreturn\u001b[0m \u001b[96mself\u001b[0m._func(\u001b[96mself\u001b[0m, X, is_train=is_train)                                      \u001b[31m│\u001b[0m\n",
                            "\u001b[31m│\u001b[0m   \u001b[2m292 \u001b[0m\u001b[2m│   \u001b[0m                                                                                       \u001b[31m│\u001b[0m\n",
                            "\u001b[31m│\u001b[0m   \u001b[2m293 \u001b[0m\u001b[2m│   \u001b[0m\u001b[94mdef\u001b[0m \u001b[92minitialize\u001b[0m(\u001b[96mself\u001b[0m, X: Optional[InT] = \u001b[94mNone\u001b[0m, Y: Optional[OutT] = \u001b[94mNone\u001b[0m) -> \u001b[33m\"\u001b[0m\u001b[33mModel\u001b[0m\u001b[33m\"\u001b[0m:    \u001b[31m│\u001b[0m\n",
                            "\u001b[31m│\u001b[0m   \u001b[2m294 \u001b[0m\u001b[2;90m│   │   \u001b[0m\u001b[33m\"\"\"Finish initialization of the model, optionally providing a batch of\u001b[0m             \u001b[31m│\u001b[0m\n",
                            "\u001b[31m│\u001b[0m                                                                                                  \u001b[31m│\u001b[0m\n",
                            "\u001b[31m│\u001b[0m \u001b[2;33m/opt/homebrew/Caskroom/mambaforge/base/envs/study1_3.10/lib/python3.10/site-packages/thinc/layer\u001b[0m \u001b[31m│\u001b[0m\n",
                            "\u001b[31m│\u001b[0m \u001b[2;33ms/\u001b[0m\u001b[1;33mchain.py\u001b[0m:\u001b[94m55\u001b[0m in \u001b[92mforward\u001b[0m                                                                         \u001b[31m│\u001b[0m\n",
                            "\u001b[31m│\u001b[0m                                                                                                  \u001b[31m│\u001b[0m\n",
                            "\u001b[31m│\u001b[0m   \u001b[2m 52 \u001b[0m\u001b[2;33m│   \u001b[0m\u001b[33m\"\"\"\u001b[0m                                                                                    \u001b[31m│\u001b[0m\n",
                            "\u001b[31m│\u001b[0m   \u001b[2m 53 \u001b[0m\u001b[2m│   \u001b[0mcallbacks = []                                                                         \u001b[31m│\u001b[0m\n",
                            "\u001b[31m│\u001b[0m   \u001b[2m 54 \u001b[0m\u001b[2m│   \u001b[0m\u001b[94mfor\u001b[0m layer \u001b[95min\u001b[0m model.layers:                                                             \u001b[31m│\u001b[0m\n",
                            "\u001b[31m│\u001b[0m \u001b[31m❱ \u001b[0m 55 \u001b[2m│   │   \u001b[0mY, inc_layer_grad = layer(X, is_train=is_train)                                    \u001b[31m│\u001b[0m\n",
                            "\u001b[31m│\u001b[0m   \u001b[2m 56 \u001b[0m\u001b[2m│   │   \u001b[0mcallbacks.append(inc_layer_grad)                                                   \u001b[31m│\u001b[0m\n",
                            "\u001b[31m│\u001b[0m   \u001b[2m 57 \u001b[0m\u001b[2m│   │   \u001b[0mX = Y                                                                              \u001b[31m│\u001b[0m\n",
                            "\u001b[31m│\u001b[0m   \u001b[2m 58 \u001b[0m                                                                                           \u001b[31m│\u001b[0m\n",
                            "\u001b[31m│\u001b[0m                                                                                                  \u001b[31m│\u001b[0m\n",
                            "\u001b[31m│\u001b[0m \u001b[2;33m/opt/homebrew/Caskroom/mambaforge/base/envs/study1_3.10/lib/python3.10/site-packages/thinc/\u001b[0m\u001b[1;33mmodel\u001b[0m \u001b[31m│\u001b[0m\n",
                            "\u001b[31m│\u001b[0m \u001b[1;33m.py\u001b[0m:\u001b[94m291\u001b[0m in \u001b[92m__call__\u001b[0m                                                                              \u001b[31m│\u001b[0m\n",
                            "\u001b[31m│\u001b[0m                                                                                                  \u001b[31m│\u001b[0m\n",
                            "\u001b[31m│\u001b[0m   \u001b[2m288 \u001b[0m\u001b[2m│   \u001b[0m\u001b[94mdef\u001b[0m \u001b[92m__call__\u001b[0m(\u001b[96mself\u001b[0m, X: InT, is_train: \u001b[96mbool\u001b[0m) -> Tuple[OutT, Callable]:                   \u001b[31m│\u001b[0m\n",
                            "\u001b[31m│\u001b[0m   \u001b[2m289 \u001b[0m\u001b[2;90m│   │   \u001b[0m\u001b[33m\"\"\"Call the model's `forward` function, returning the output and a\u001b[0m                 \u001b[31m│\u001b[0m\n",
                            "\u001b[31m│\u001b[0m   \u001b[2m290 \u001b[0m\u001b[2;33m│   │   \u001b[0m\u001b[33mcallback to compute the gradients via backpropagation.\"\"\"\u001b[0m                          \u001b[31m│\u001b[0m\n",
                            "\u001b[31m│\u001b[0m \u001b[31m❱ \u001b[0m291 \u001b[2m│   │   \u001b[0m\u001b[94mreturn\u001b[0m \u001b[96mself\u001b[0m._func(\u001b[96mself\u001b[0m, X, is_train=is_train)                                      \u001b[31m│\u001b[0m\n",
                            "\u001b[31m│\u001b[0m   \u001b[2m292 \u001b[0m\u001b[2m│   \u001b[0m                                                                                       \u001b[31m│\u001b[0m\n",
                            "\u001b[31m│\u001b[0m   \u001b[2m293 \u001b[0m\u001b[2m│   \u001b[0m\u001b[94mdef\u001b[0m \u001b[92minitialize\u001b[0m(\u001b[96mself\u001b[0m, X: Optional[InT] = \u001b[94mNone\u001b[0m, Y: Optional[OutT] = \u001b[94mNone\u001b[0m) -> \u001b[33m\"\u001b[0m\u001b[33mModel\u001b[0m\u001b[33m\"\u001b[0m:    \u001b[31m│\u001b[0m\n",
                            "\u001b[31m│\u001b[0m   \u001b[2m294 \u001b[0m\u001b[2;90m│   │   \u001b[0m\u001b[33m\"\"\"Finish initialization of the model, optionally providing a batch of\u001b[0m             \u001b[31m│\u001b[0m\n",
                            "\u001b[31m│\u001b[0m                                                                                                  \u001b[31m│\u001b[0m\n",
                            "\u001b[31m│\u001b[0m \u001b[2;33m/opt/homebrew/Caskroom/mambaforge/base/envs/study1_3.10/lib/python3.10/site-packages/thinc/layer\u001b[0m \u001b[31m│\u001b[0m\n",
                            "\u001b[31m│\u001b[0m \u001b[2;33ms/\u001b[0m\u001b[1;33mchain.py\u001b[0m:\u001b[94m55\u001b[0m in \u001b[92mforward\u001b[0m                                                                         \u001b[31m│\u001b[0m\n",
                            "\u001b[31m│\u001b[0m                                                                                                  \u001b[31m│\u001b[0m\n",
                            "\u001b[31m│\u001b[0m   \u001b[2m 52 \u001b[0m\u001b[2;33m│   \u001b[0m\u001b[33m\"\"\"\u001b[0m                                                                                    \u001b[31m│\u001b[0m\n",
                            "\u001b[31m│\u001b[0m   \u001b[2m 53 \u001b[0m\u001b[2m│   \u001b[0mcallbacks = []                                                                         \u001b[31m│\u001b[0m\n",
                            "\u001b[31m│\u001b[0m   \u001b[2m 54 \u001b[0m\u001b[2m│   \u001b[0m\u001b[94mfor\u001b[0m layer \u001b[95min\u001b[0m model.layers:                                                             \u001b[31m│\u001b[0m\n",
                            "\u001b[31m│\u001b[0m \u001b[31m❱ \u001b[0m 55 \u001b[2m│   │   \u001b[0mY, inc_layer_grad = layer(X, is_train=is_train)                                    \u001b[31m│\u001b[0m\n",
                            "\u001b[31m│\u001b[0m   \u001b[2m 56 \u001b[0m\u001b[2m│   │   \u001b[0mcallbacks.append(inc_layer_grad)                                                   \u001b[31m│\u001b[0m\n",
                            "\u001b[31m│\u001b[0m   \u001b[2m 57 \u001b[0m\u001b[2m│   │   \u001b[0mX = Y                                                                              \u001b[31m│\u001b[0m\n",
                            "\u001b[31m│\u001b[0m   \u001b[2m 58 \u001b[0m                                                                                           \u001b[31m│\u001b[0m\n",
                            "\u001b[31m│\u001b[0m                                                                                                  \u001b[31m│\u001b[0m\n",
                            "\u001b[31m│\u001b[0m \u001b[2;33m/opt/homebrew/Caskroom/mambaforge/base/envs/study1_3.10/lib/python3.10/site-packages/thinc/\u001b[0m\u001b[1;33mmodel\u001b[0m \u001b[31m│\u001b[0m\n",
                            "\u001b[31m│\u001b[0m \u001b[1;33m.py\u001b[0m:\u001b[94m291\u001b[0m in \u001b[92m__call__\u001b[0m                                                                              \u001b[31m│\u001b[0m\n",
                            "\u001b[31m│\u001b[0m                                                                                                  \u001b[31m│\u001b[0m\n",
                            "\u001b[31m│\u001b[0m   \u001b[2m288 \u001b[0m\u001b[2m│   \u001b[0m\u001b[94mdef\u001b[0m \u001b[92m__call__\u001b[0m(\u001b[96mself\u001b[0m, X: InT, is_train: \u001b[96mbool\u001b[0m) -> Tuple[OutT, Callable]:                   \u001b[31m│\u001b[0m\n",
                            "\u001b[31m│\u001b[0m   \u001b[2m289 \u001b[0m\u001b[2;90m│   │   \u001b[0m\u001b[33m\"\"\"Call the model's `forward` function, returning the output and a\u001b[0m                 \u001b[31m│\u001b[0m\n",
                            "\u001b[31m│\u001b[0m   \u001b[2m290 \u001b[0m\u001b[2;33m│   │   \u001b[0m\u001b[33mcallback to compute the gradients via backpropagation.\"\"\"\u001b[0m                          \u001b[31m│\u001b[0m\n",
                            "\u001b[31m│\u001b[0m \u001b[31m❱ \u001b[0m291 \u001b[2m│   │   \u001b[0m\u001b[94mreturn\u001b[0m \u001b[96mself\u001b[0m._func(\u001b[96mself\u001b[0m, X, is_train=is_train)                                      \u001b[31m│\u001b[0m\n",
                            "\u001b[31m│\u001b[0m   \u001b[2m292 \u001b[0m\u001b[2m│   \u001b[0m                                                                                       \u001b[31m│\u001b[0m\n",
                            "\u001b[31m│\u001b[0m   \u001b[2m293 \u001b[0m\u001b[2m│   \u001b[0m\u001b[94mdef\u001b[0m \u001b[92minitialize\u001b[0m(\u001b[96mself\u001b[0m, X: Optional[InT] = \u001b[94mNone\u001b[0m, Y: Optional[OutT] = \u001b[94mNone\u001b[0m) -> \u001b[33m\"\u001b[0m\u001b[33mModel\u001b[0m\u001b[33m\"\u001b[0m:    \u001b[31m│\u001b[0m\n",
                            "\u001b[31m│\u001b[0m   \u001b[2m294 \u001b[0m\u001b[2;90m│   │   \u001b[0m\u001b[33m\"\"\"Finish initialization of the model, optionally providing a batch of\u001b[0m             \u001b[31m│\u001b[0m\n",
                            "\u001b[31m│\u001b[0m                                                                                                  \u001b[31m│\u001b[0m\n",
                            "\u001b[31m│\u001b[0m \u001b[2;33m/opt/homebrew/Caskroom/mambaforge/base/envs/study1_3.10/lib/python3.10/site-packages/thinc/layer\u001b[0m \u001b[31m│\u001b[0m\n",
                            "\u001b[31m│\u001b[0m \u001b[2;33ms/\u001b[0m\u001b[1;33mchain.py\u001b[0m:\u001b[94m55\u001b[0m in \u001b[92mforward\u001b[0m                                                                         \u001b[31m│\u001b[0m\n",
                            "\u001b[31m│\u001b[0m                                                                                                  \u001b[31m│\u001b[0m\n",
                            "\u001b[31m│\u001b[0m   \u001b[2m 52 \u001b[0m\u001b[2;33m│   \u001b[0m\u001b[33m\"\"\"\u001b[0m                                                                                    \u001b[31m│\u001b[0m\n",
                            "\u001b[31m│\u001b[0m   \u001b[2m 53 \u001b[0m\u001b[2m│   \u001b[0mcallbacks = []                                                                         \u001b[31m│\u001b[0m\n",
                            "\u001b[31m│\u001b[0m   \u001b[2m 54 \u001b[0m\u001b[2m│   \u001b[0m\u001b[94mfor\u001b[0m layer \u001b[95min\u001b[0m model.layers:                                                             \u001b[31m│\u001b[0m\n",
                            "\u001b[31m│\u001b[0m \u001b[31m❱ \u001b[0m 55 \u001b[2m│   │   \u001b[0mY, inc_layer_grad = layer(X, is_train=is_train)                                    \u001b[31m│\u001b[0m\n",
                            "\u001b[31m│\u001b[0m   \u001b[2m 56 \u001b[0m\u001b[2m│   │   \u001b[0mcallbacks.append(inc_layer_grad)                                                   \u001b[31m│\u001b[0m\n",
                            "\u001b[31m│\u001b[0m   \u001b[2m 57 \u001b[0m\u001b[2m│   │   \u001b[0mX = Y                                                                              \u001b[31m│\u001b[0m\n",
                            "\u001b[31m│\u001b[0m   \u001b[2m 58 \u001b[0m                                                                                           \u001b[31m│\u001b[0m\n",
                            "\u001b[31m│\u001b[0m                                                                                                  \u001b[31m│\u001b[0m\n",
                            "\u001b[31m│\u001b[0m \u001b[2;33m/opt/homebrew/Caskroom/mambaforge/base/envs/study1_3.10/lib/python3.10/site-packages/thinc/\u001b[0m\u001b[1;33mmodel\u001b[0m \u001b[31m│\u001b[0m\n",
                            "\u001b[31m│\u001b[0m \u001b[1;33m.py\u001b[0m:\u001b[94m291\u001b[0m in \u001b[92m__call__\u001b[0m                                                                              \u001b[31m│\u001b[0m\n",
                            "\u001b[31m│\u001b[0m                                                                                                  \u001b[31m│\u001b[0m\n",
                            "\u001b[31m│\u001b[0m   \u001b[2m288 \u001b[0m\u001b[2m│   \u001b[0m\u001b[94mdef\u001b[0m \u001b[92m__call__\u001b[0m(\u001b[96mself\u001b[0m, X: InT, is_train: \u001b[96mbool\u001b[0m) -> Tuple[OutT, Callable]:                   \u001b[31m│\u001b[0m\n",
                            "\u001b[31m│\u001b[0m   \u001b[2m289 \u001b[0m\u001b[2;90m│   │   \u001b[0m\u001b[33m\"\"\"Call the model's `forward` function, returning the output and a\u001b[0m                 \u001b[31m│\u001b[0m\n",
                            "\u001b[31m│\u001b[0m   \u001b[2m290 \u001b[0m\u001b[2;33m│   │   \u001b[0m\u001b[33mcallback to compute the gradients via backpropagation.\"\"\"\u001b[0m                          \u001b[31m│\u001b[0m\n",
                            "\u001b[31m│\u001b[0m \u001b[31m❱ \u001b[0m291 \u001b[2m│   │   \u001b[0m\u001b[94mreturn\u001b[0m \u001b[96mself\u001b[0m._func(\u001b[96mself\u001b[0m, X, is_train=is_train)                                      \u001b[31m│\u001b[0m\n",
                            "\u001b[31m│\u001b[0m   \u001b[2m292 \u001b[0m\u001b[2m│   \u001b[0m                                                                                       \u001b[31m│\u001b[0m\n",
                            "\u001b[31m│\u001b[0m   \u001b[2m293 \u001b[0m\u001b[2m│   \u001b[0m\u001b[94mdef\u001b[0m \u001b[92minitialize\u001b[0m(\u001b[96mself\u001b[0m, X: Optional[InT] = \u001b[94mNone\u001b[0m, Y: Optional[OutT] = \u001b[94mNone\u001b[0m) -> \u001b[33m\"\u001b[0m\u001b[33mModel\u001b[0m\u001b[33m\"\u001b[0m:    \u001b[31m│\u001b[0m\n",
                            "\u001b[31m│\u001b[0m   \u001b[2m294 \u001b[0m\u001b[2;90m│   │   \u001b[0m\u001b[33m\"\"\"Finish initialization of the model, optionally providing a batch of\u001b[0m             \u001b[31m│\u001b[0m\n",
                            "\u001b[31m│\u001b[0m                                                                                                  \u001b[31m│\u001b[0m\n",
                            "\u001b[31m│\u001b[0m \u001b[2;33m/opt/homebrew/Caskroom/mambaforge/base/envs/study1_3.10/lib/python3.10/site-packages/thinc/layer\u001b[0m \u001b[31m│\u001b[0m\n",
                            "\u001b[31m│\u001b[0m \u001b[2;33ms/\u001b[0m\u001b[1;33mmaxout.py\u001b[0m:\u001b[94m53\u001b[0m in \u001b[92mforward\u001b[0m                                                                        \u001b[31m│\u001b[0m\n",
                            "\u001b[31m│\u001b[0m                                                                                                  \u001b[31m│\u001b[0m\n",
                            "\u001b[31m│\u001b[0m   \u001b[2m50 \u001b[0m\u001b[2m│   \u001b[0mb = model.get_param(\u001b[33m\"\u001b[0m\u001b[33mb\u001b[0m\u001b[33m\"\u001b[0m)                                                                \u001b[31m│\u001b[0m\n",
                            "\u001b[31m│\u001b[0m   \u001b[2m51 \u001b[0m\u001b[2m│   \u001b[0mW = model.get_param(\u001b[33m\"\u001b[0m\u001b[33mW\u001b[0m\u001b[33m\"\u001b[0m)                                                                \u001b[31m│\u001b[0m\n",
                            "\u001b[31m│\u001b[0m   \u001b[2m52 \u001b[0m\u001b[2m│   \u001b[0mW = model.ops.reshape2f(W, nO * nP, nI)                                                 \u001b[31m│\u001b[0m\n",
                            "\u001b[31m│\u001b[0m \u001b[31m❱ \u001b[0m53 \u001b[2m│   \u001b[0mY = model.ops.gemm(X, W, trans2=\u001b[94mTrue\u001b[0m)                                                   \u001b[31m│\u001b[0m\n",
                            "\u001b[31m│\u001b[0m   \u001b[2m54 \u001b[0m\u001b[2m│   \u001b[0mY += model.ops.reshape1f(b, nO * nP)                                                    \u001b[31m│\u001b[0m\n",
                            "\u001b[31m│\u001b[0m   \u001b[2m55 \u001b[0m\u001b[2m│   \u001b[0mZ = model.ops.reshape3f(Y, Y.shape[\u001b[94m0\u001b[0m], nO, nP)                                          \u001b[31m│\u001b[0m\n",
                            "\u001b[31m│\u001b[0m   \u001b[2m56 \u001b[0m\u001b[2m│   \u001b[0mbest, which = model.ops.maxout(Z)                                                       \u001b[31m│\u001b[0m\n",
                            "\u001b[31m╰──────────────────────────────────────────────────────────────────────────────────────────────────╯\u001b[0m\n",
                            "\u001b[1;91mKeyboardInterrupt\u001b[0m\n"
                        ]
                    },
                    "metadata": {},
                    "output_type": "display_data"
                }
            ],
            "source": [
                "%%time\n",
                "# Spacy sentencize\n",
                "pattern = r'[\\n]+|[,]{2,}|[|]{2,}|[\\n\\r]+|(?<=[a-z]\\.)(?=\\s*[A-Z])|(?=\\:+[A-Z])'\n",
                "if all(custom_punct_char in sentencizer.punct_chars for custom_punct_char in custom_punct_chars):\n",
                "    df_jobs['Job Description spacy_sentencized'] = df_jobs['Job Description'].progress_apply(\n",
                "        lambda job_description: [\n",
                "            sent \n",
                "            for sentence in nlp(job_description).sents \n",
                "            for sent in re.split(pattern, sentence.text) \n",
                "            if len(sent) != 0 \n",
                "        ]\n",
                "    )\n",
                "\n",
                "assert len(df_jobs) > 0 and isinstance(df_jobs, pd.DataFrame), f'ERORR: LENGTH OF DF = {len(df_jobs)}'\n",
                "df_jobs.to_pickle(f'{df_save_dir}df_jobs_sentencized.pkl')\n",
                "df_jobs.to_csv(f'{df_save_dir}df_jobs_sentencized.csv', index=False)\n"
            ]
        },
        {
            "cell_type": "code",
            "execution_count": null,
            "metadata": {},
            "outputs": [],
            "source": [
                "df_jobs['Job Description spacy_sentencized'].head()\n"
            ]
        },
        {
            "cell_type": "code",
            "execution_count": null,
            "metadata": {},
            "outputs": [],
            "source": [
                "assert len(df_jobs) > 0 and isinstance(df_jobs, pd.DataFrame), f'ERORR: LENGTH OF DF = {len(df_jobs)}'\n",
                "df_jobs.to_pickle(f'{df_save_dir}df_jobs_sentencized.pkl')\n",
                "df_jobs.to_csv(f'{df_save_dir}df_jobs_sentencized.csv', index=False)\n"
            ]
        },
        {
            "cell_type": "code",
            "execution_count": null,
            "metadata": {},
            "outputs": [],
            "source": []
        }
    ],
    "metadata": {
        "kernelspec": {
            "display_name": "study1_3.10",
            "language": "python",
            "name": "python3"
        },
        "language_info": {
            "codemirror_mode": {
                "name": "ipython",
                "version": 3
            },
            "file_extension": ".py",
            "mimetype": "text/x-python",
            "name": "python",
            "nbconvert_exporter": "python",
            "pygments_lexer": "ipython3",
            "version": "3.10.10"
        },
        "varInspector": {
            "cols": {
                "lenName": 16,
                "lenType": 16,
                "lenVar": 40
            },
            "kernels_config": {
                "python": {
                    "delete_cmd_postfix": "",
                    "delete_cmd_prefix": "del ",
                    "library": "var_list.py",
                    "varRefreshCmd": "print(var_dic_list())"
                },
                "r": {
                    "delete_cmd_postfix": ") ",
                    "delete_cmd_prefix": "rm(",
                    "library": "var_list.r",
                    "varRefreshCmd": "cat(var_dic_list()) "
                }
            },
            "types_to_exclude": [
                "module",
                "function",
                "builtin_function_or_method",
                "instance",
                "_Feature"
            ],
            "window_display": false
        },
        "widgets": {
            "application/vnd.jupyter.widget-state+json": {
                "state": {},
                "version_major": 2,
                "version_minor": 0
            }
        }
    },
    "nbformat": 4,
    "nbformat_minor": 4
}
