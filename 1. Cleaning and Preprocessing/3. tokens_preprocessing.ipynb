{
    "cells": [
        {
            "cell_type": "markdown",
            "id": "6373c116",
            "metadata": {},
            "source": [
                "# ATTN: This script should be run AFTER spacy sentence splitting is completed.\n"
            ]
        },
        {
            "cell_type": "markdown",
            "id": "993064a6",
            "metadata": {},
            "source": [
                "# Use spacy to tokenize sentences\n"
            ]
        },
        {
            "cell_type": "markdown",
            "id": "c744a550",
            "metadata": {},
            "source": [
                "### START HERE IF SOURCING FROM DF_JOBS_SENTENCIZED\n",
                "### PLEASE SET CORRECT DIRECTORY PATHS BELOW\n"
            ]
        },
        {
            "cell_type": "code",
            "execution_count": 1,
            "id": "b997d96c",
            "metadata": {},
            "outputs": [],
            "source": [
                "import os # type:ignore # isort:skip # fmt:skip # noqa # nopep8\n",
                "import sys # type:ignore # isort:skip # fmt:skip # noqa # nopep8\n",
                "from pathlib import Path # type:ignore # isort:skip # fmt:skip # noqa # nopep8\n",
                "\n",
                "mod = sys.modules[__name__]\n",
                "\n",
                "code_dir = None\n",
                "code_dir_name = 'Code'\n",
                "unwanted_subdir_name = 'Analysis'\n",
                "\n",
                "for _ in range(5):\n",
                "\n",
                "    parent_path = str(Path.cwd().parents[_]).split('/')[-1]\n",
                "\n",
                "    if (code_dir_name in parent_path) and (unwanted_subdir_name not in parent_path):\n",
                "\n",
                "        code_dir = str(Path.cwd().parents[_])\n",
                "\n",
                "        if code_dir is not None:\n",
                "            break\n",
                "\n",
                "sys.path.append(code_dir)\n",
                "# %load_ext autoreload\n",
                "# %autoreload 2\n"
            ]
        },
        {
            "cell_type": "code",
            "execution_count": 2,
            "id": "dc6c9e4c",
            "metadata": {},
            "outputs": [
                {
                    "name": "stdout",
                    "output_type": "stream",
                    "text": [
                        "Using MPS\n"
                    ]
                },
                {
                    "data": {
                        "application/vnd.jupyter.widget-view+json": {
                            "model_id": "928742827e9a41e8ad42d0f263e7514a",
                            "version_major": 2,
                            "version_minor": 0
                        },
                        "text/plain": [
                            "0it [00:00, ?it/s]"
                        ]
                    },
                    "metadata": {},
                    "output_type": "display_data"
                },
                {
                    "data": {
                        "text/plain": [
                            "<Figure size 640x480 with 0 Axes>"
                        ]
                    },
                    "metadata": {},
                    "output_type": "display_data"
                }
            ],
            "source": [
                "from setup_module.imports import * # type:ignore # isort:skip # fmt:skip # noqa # nopep8\n"
            ]
        },
        {
            "cell_type": "code",
            "execution_count": 3,
            "id": "4c3b98f1",
            "metadata": {},
            "outputs": [],
            "source": [
                "def get_word_num_and_frequency(row, text_col):\n",
                "\n",
                "    with open(f'{data_dir}punctuations.txt', 'rb') as f:\n",
                "        custom_punct_chars = pickle.load(f)\n",
                "    row['Job Description num_words'] = len(str(row[text_col]).split())\n",
                "    row['Job Description num_unique_words'] = len(set(str(row[text_col]).split()))\n",
                "    row['Job Description num_chars'] = len(str(row[text_col]))\n",
                "    row['Job Description num_chars_no_whitespact_and_punt'] = len(\n",
                "        [\n",
                "            c\n",
                "            for c in str(row[text_col])\n",
                "            if c not in custom_punct_chars and c not in string.punctuation and c != ' '\n",
                "        ]\n",
                "    )\n",
                "    row['Job Description num_punctuations'] = len(\n",
                "        [\n",
                "            c\n",
                "            for c in str(row[text_col])\n",
                "            if c in custom_punct_chars and c in string.punctuation and c != ' '\n",
                "        ]\n",
                "    )\n",
                "\n",
                "    return row\n"
            ]
        },
        {
            "cell_type": "code",
            "execution_count": 4,
            "id": "aa8e3204",
            "metadata": {},
            "outputs": [],
            "source": [
                "# Funtion to print df gender and age info\n",
                "def df_gender_age_info(df, ivs_all=None):\n",
                "    if ivs_all is None:\n",
                "        ivs_all = [\n",
                "            'Gender',\n",
                "            'Gender_Num',\n",
                "            'Gender_Female',\n",
                "            'Gender_Mixed',\n",
                "            'Gender_Male',\n",
                "            'Age',\n",
                "            'Age_Num',\n",
                "            'Age_Older',\n",
                "            'Age_Mixed',\n",
                "            'Age_Younger',\n",
                "        ]\n",
                "    # Print Info\n",
                "    print('\\nDF INFO:\\n')\n",
                "    df.info()\n",
                "\n",
                "    for iv in ivs_all:\n",
                "        try:\n",
                "            print('='*20)\n",
                "            print(f'{iv}:')\n",
                "            print('-'*20)\n",
                "            print(f'{iv} Counts:\\n{df[f\"{iv}\"].value_counts()}')\n",
                "            print('-'*20)\n",
                "            print(f'{iv} Percentages:\\n{df[f\"{iv}\"].value_counts(normalize=True).mul(100).round(1).astype(float)}')\n",
                "            with contextlib.suppress(Exception):\n",
                "                print('-'*20)\n",
                "                print(f'{iv} Mean: {df[f\"{iv}\"].mean().round(2).astype(float)}')\n",
                "                print('-'*20)\n",
                "                print(f'{iv} Standard Deviation: {df[f\"{iv}\"].std().round(2).astype(float)}')\n",
                "        except Exception:\n",
                "            print(f'{iv} not available.')\n",
                "\n",
                "    print('\\n')\n"
            ]
        },
        {
            "cell_type": "code",
            "execution_count": 5,
            "id": "3d31a583",
            "metadata": {},
            "outputs": [],
            "source": [
                "df_jobs = pd.read_pickle(f'{df_save_dir}df_jobs_sentencized.pkl').reset_index(drop=True)\n"
            ]
        },
        {
            "cell_type": "code",
            "execution_count": 6,
            "id": "1899a0d9",
            "metadata": {},
            "outputs": [
                {
                    "name": "stdout",
                    "output_type": "stream",
                    "text": [
                        "<class 'pandas.core.frame.DataFrame'>\n",
                        "RangeIndex: 17599 entries, 0 to 17598\n",
                        "Data columns (total 57 columns):\n",
                        " #   Column                               Non-Null Count  Dtype   \n",
                        "---  ------                               --------------  -----   \n",
                        " 0   Search Keyword                       17599 non-null  object  \n",
                        " 1   Platform                             17599 non-null  object  \n",
                        " 2   Job ID                               17599 non-null  object  \n",
                        " 3   Job Title                            17599 non-null  object  \n",
                        " 4   Company Name                         17597 non-null  object  \n",
                        " 5   Location                             17599 non-null  object  \n",
                        " 6   Job Description                      17599 non-null  object  \n",
                        " 7   Rating                               3780 non-null   float64 \n",
                        " 8   Employment Type                      17017 non-null  object  \n",
                        " 9   Company URL                          15959 non-null  object  \n",
                        " 10  Job URL                              17599 non-null  object  \n",
                        " 11  Job Age                              17599 non-null  object  \n",
                        " 12  Job Age Number                       17599 non-null  object  \n",
                        " 13  Collection Date                      17599 non-null  object  \n",
                        " 14  Data Row                             13816 non-null  float64 \n",
                        " 15  Tracking ID                          13816 non-null  object  \n",
                        " 16  Industry                             14401 non-null  object  \n",
                        " 17  Job Date                             13819 non-null  object  \n",
                        " 18  Type of ownership                    582 non-null    object  \n",
                        " 19  Language                             17599 non-null  object  \n",
                        " 20  Dutch Requirement                    17599 non-null  object  \n",
                        " 21  English Requirement                  17599 non-null  object  \n",
                        " 22  Sector Code                          17599 non-null  object  \n",
                        " 23  Sector                               17599 non-null  object  \n",
                        " 24  Keywords Count                       17599 non-null  float64 \n",
                        " 25  % per Sector                         17599 non-null  float64 \n",
                        " 26  % per Social Category                17599 non-null  float64 \n",
                        " 27  % per Workforce                      17599 non-null  float64 \n",
                        " 28  Female Count (x 1000)                17599 non-null  float64 \n",
                        " 29  Gender_Female_% per Sector           17599 non-null  float64 \n",
                        " 30  Gender_Female_% per Social Category  17599 non-null  float64 \n",
                        " 31  Gender_Female_% per Workforce        17599 non-null  float64 \n",
                        " 32  Male Count (x 1000)                  17599 non-null  float64 \n",
                        " 33  Gender_Male_% per Sector             17599 non-null  float64 \n",
                        " 34  Gender_Male_% per Social Category    17599 non-null  float64 \n",
                        " 35  Gender_Male_% per Workforce          17599 non-null  float64 \n",
                        " 36  Gender                               17599 non-null  category\n",
                        " 37  Age_Older_n                          17599 non-null  float64 \n",
                        " 38  Age_Older_% per Sector               17599 non-null  float64 \n",
                        " 39  Age_Older_% per Social Category      17599 non-null  float64 \n",
                        " 40  Age_Older_% per Workforce            17599 non-null  float64 \n",
                        " 41  Age_Younger_n                        17599 non-null  float64 \n",
                        " 42  Age_Younger_% per Sector             17599 non-null  float64 \n",
                        " 43  Age_Younger_% per Social Category    17599 non-null  float64 \n",
                        " 44  Age_Younger_% per Workforce          17599 non-null  float64 \n",
                        " 45  Age                                  17599 non-null  category\n",
                        " 46  Sector Count (x 1000)                17599 non-null  float64 \n",
                        " 47  % Sector per Workforce               17599 non-null  float64 \n",
                        " 48  Gender_Female                        17599 non-null  int64   \n",
                        " 49  Gender_Male                          17599 non-null  int64   \n",
                        " 50  Gender_Mixed                         17599 non-null  int64   \n",
                        " 51  Age_Mixed                            17599 non-null  int64   \n",
                        " 52  Age_Older                            17599 non-null  int64   \n",
                        " 53  Age_Younger                          17599 non-null  int64   \n",
                        " 54  Gender_Num                           17599 non-null  int64   \n",
                        " 55  Age_Num                              17599 non-null  int64   \n",
                        " 56  Job Description spacy_sentencized    17599 non-null  object  \n",
                        "dtypes: category(2), float64(24), int64(8), object(23)\n",
                        "memory usage: 7.4+ MB\n"
                    ]
                }
            ],
            "source": [
                "# len=17599\n",
                "df_jobs.info()"
            ]
        },
        {
            "cell_type": "code",
            "execution_count": 7,
            "id": "ade74c2a",
            "metadata": {
                "scrolled": false
            },
            "outputs": [
                {
                    "name": "stdout",
                    "output_type": "stream",
                    "text": [
                        "\n",
                        "DF INFO:\n",
                        "\n",
                        "<class 'pandas.core.frame.DataFrame'>\n",
                        "RangeIndex: 17599 entries, 0 to 17598\n",
                        "Data columns (total 57 columns):\n",
                        " #   Column                               Non-Null Count  Dtype   \n",
                        "---  ------                               --------------  -----   \n",
                        " 0   Search Keyword                       17599 non-null  object  \n",
                        " 1   Platform                             17599 non-null  object  \n",
                        " 2   Job ID                               17599 non-null  object  \n",
                        " 3   Job Title                            17599 non-null  object  \n",
                        " 4   Company Name                         17597 non-null  object  \n",
                        " 5   Location                             17599 non-null  object  \n",
                        " 6   Job Description                      17599 non-null  object  \n",
                        " 7   Rating                               3780 non-null   float64 \n",
                        " 8   Employment Type                      17017 non-null  object  \n",
                        " 9   Company URL                          15959 non-null  object  \n",
                        " 10  Job URL                              17599 non-null  object  \n",
                        " 11  Job Age                              17599 non-null  object  \n",
                        " 12  Job Age Number                       17599 non-null  object  \n",
                        " 13  Collection Date                      17599 non-null  object  \n",
                        " 14  Data Row                             13816 non-null  float64 \n",
                        " 15  Tracking ID                          13816 non-null  object  \n",
                        " 16  Industry                             14401 non-null  object  \n",
                        " 17  Job Date                             13819 non-null  object  \n",
                        " 18  Type of ownership                    582 non-null    object  \n",
                        " 19  Language                             17599 non-null  object  \n",
                        " 20  Dutch Requirement                    17599 non-null  object  \n",
                        " 21  English Requirement                  17599 non-null  object  \n",
                        " 22  Sector Code                          17599 non-null  object  \n",
                        " 23  Sector                               17599 non-null  object  \n",
                        " 24  Keywords Count                       17599 non-null  float64 \n",
                        " 25  % per Sector                         17599 non-null  float64 \n",
                        " 26  % per Social Category                17599 non-null  float64 \n",
                        " 27  % per Workforce                      17599 non-null  float64 \n",
                        " 28  Female Count (x 1000)                17599 non-null  float64 \n",
                        " 29  Gender_Female_% per Sector           17599 non-null  float64 \n",
                        " 30  Gender_Female_% per Social Category  17599 non-null  float64 \n",
                        " 31  Gender_Female_% per Workforce        17599 non-null  float64 \n",
                        " 32  Male Count (x 1000)                  17599 non-null  float64 \n",
                        " 33  Gender_Male_% per Sector             17599 non-null  float64 \n",
                        " 34  Gender_Male_% per Social Category    17599 non-null  float64 \n",
                        " 35  Gender_Male_% per Workforce          17599 non-null  float64 \n",
                        " 36  Gender                               17599 non-null  category\n",
                        " 37  Age_Older_n                          17599 non-null  float64 \n",
                        " 38  Age_Older_% per Sector               17599 non-null  float64 \n",
                        " 39  Age_Older_% per Social Category      17599 non-null  float64 \n",
                        " 40  Age_Older_% per Workforce            17599 non-null  float64 \n",
                        " 41  Age_Younger_n                        17599 non-null  float64 \n",
                        " 42  Age_Younger_% per Sector             17599 non-null  float64 \n",
                        " 43  Age_Younger_% per Social Category    17599 non-null  float64 \n",
                        " 44  Age_Younger_% per Workforce          17599 non-null  float64 \n",
                        " 45  Age                                  17599 non-null  category\n",
                        " 46  Sector Count (x 1000)                17599 non-null  float64 \n",
                        " 47  % Sector per Workforce               17599 non-null  float64 \n",
                        " 48  Gender_Female                        17599 non-null  int64   \n",
                        " 49  Gender_Male                          17599 non-null  int64   \n",
                        " 50  Gender_Mixed                         17599 non-null  int64   \n",
                        " 51  Age_Mixed                            17599 non-null  int64   \n",
                        " 52  Age_Older                            17599 non-null  int64   \n",
                        " 53  Age_Younger                          17599 non-null  int64   \n",
                        " 54  Gender_Num                           17599 non-null  int64   \n",
                        " 55  Age_Num                              17599 non-null  int64   \n",
                        " 56  Job Description spacy_sentencized    17599 non-null  object  \n",
                        "dtypes: category(2), float64(24), int64(8), object(23)\n",
                        "memory usage: 7.4+ MB\n",
                        "====================\n",
                        "Gender:\n",
                        "--------------------\n",
                        "Gender Counts:\n",
                        "Mixed Gender    12256\n",
                        "Male             3830\n",
                        "Female           1513\n",
                        "Name: Gender, dtype: int64\n",
                        "--------------------\n",
                        "Gender Percentages:\n",
                        "Mixed Gender   69.60\n",
                        "Male           21.80\n",
                        "Female          8.60\n",
                        "Name: Gender, dtype: float64\n",
                        "--------------------\n",
                        "====================\n",
                        "Gender_Num:\n",
                        "--------------------\n",
                        "Gender_Num Counts:\n",
                        "1    12256\n",
                        "2     3830\n",
                        "0     1513\n",
                        "Name: Gender_Num, dtype: int64\n",
                        "--------------------\n",
                        "Gender_Num Percentages:\n",
                        "1   69.60\n",
                        "2   21.80\n",
                        "0    8.60\n",
                        "Name: Gender_Num, dtype: float64\n",
                        "--------------------\n",
                        "Gender_Num Mean: 1.13\n",
                        "--------------------\n",
                        "Gender_Num Standard Deviation: 0.54\n",
                        "====================\n",
                        "Gender_Female:\n",
                        "--------------------\n",
                        "Gender_Female Counts:\n",
                        "0    16086\n",
                        "1     1513\n",
                        "Name: Gender_Female, dtype: int64\n",
                        "--------------------\n",
                        "Gender_Female Percentages:\n",
                        "0   91.40\n",
                        "1    8.60\n",
                        "Name: Gender_Female, dtype: float64\n",
                        "--------------------\n",
                        "Gender_Female Mean: 0.09\n",
                        "--------------------\n",
                        "Gender_Female Standard Deviation: 0.28\n",
                        "====================\n",
                        "Gender_Mixed:\n",
                        "--------------------\n",
                        "Gender_Mixed Counts:\n",
                        "1    12256\n",
                        "0     5343\n",
                        "Name: Gender_Mixed, dtype: int64\n",
                        "--------------------\n",
                        "Gender_Mixed Percentages:\n",
                        "1   69.60\n",
                        "0   30.40\n",
                        "Name: Gender_Mixed, dtype: float64\n",
                        "--------------------\n",
                        "Gender_Mixed Mean: 0.7\n",
                        "--------------------\n",
                        "Gender_Mixed Standard Deviation: 0.46\n",
                        "====================\n",
                        "Gender_Male:\n",
                        "--------------------\n",
                        "Gender_Male Counts:\n",
                        "0    13769\n",
                        "1     3830\n",
                        "Name: Gender_Male, dtype: int64\n",
                        "--------------------\n",
                        "Gender_Male Percentages:\n",
                        "0   78.20\n",
                        "1   21.80\n",
                        "Name: Gender_Male, dtype: float64\n",
                        "--------------------\n",
                        "Gender_Male Mean: 0.22\n",
                        "--------------------\n",
                        "Gender_Male Standard Deviation: 0.41\n",
                        "====================\n",
                        "Age:\n",
                        "--------------------\n",
                        "Age Counts:\n",
                        "Mixed Age    11467\n",
                        "Older         3778\n",
                        "Younger       2354\n",
                        "Name: Age, dtype: int64\n",
                        "--------------------\n",
                        "Age Percentages:\n",
                        "Mixed Age   65.20\n",
                        "Older       21.50\n",
                        "Younger     13.40\n",
                        "Name: Age, dtype: float64\n",
                        "--------------------\n",
                        "====================\n",
                        "Age_Num:\n",
                        "--------------------\n",
                        "Age_Num Counts:\n",
                        "1    11467\n",
                        "0     3778\n",
                        "2     2354\n",
                        "Name: Age_Num, dtype: int64\n",
                        "--------------------\n",
                        "Age_Num Percentages:\n",
                        "1   65.20\n",
                        "0   21.50\n",
                        "2   13.40\n",
                        "Name: Age_Num, dtype: float64\n",
                        "--------------------\n",
                        "Age_Num Mean: 0.92\n",
                        "--------------------\n",
                        "Age_Num Standard Deviation: 0.58\n",
                        "====================\n",
                        "Age_Older:\n",
                        "--------------------\n",
                        "Age_Older Counts:\n",
                        "0    13821\n",
                        "1     3778\n",
                        "Name: Age_Older, dtype: int64\n",
                        "--------------------\n",
                        "Age_Older Percentages:\n",
                        "0   78.50\n",
                        "1   21.50\n",
                        "Name: Age_Older, dtype: float64\n",
                        "--------------------\n",
                        "Age_Older Mean: 0.21\n",
                        "--------------------\n",
                        "Age_Older Standard Deviation: 0.41\n",
                        "====================\n",
                        "Age_Mixed:\n",
                        "--------------------\n",
                        "Age_Mixed Counts:\n",
                        "1    11467\n",
                        "0     6132\n",
                        "Name: Age_Mixed, dtype: int64\n",
                        "--------------------\n",
                        "Age_Mixed Percentages:\n",
                        "1   65.20\n",
                        "0   34.80\n",
                        "Name: Age_Mixed, dtype: float64\n",
                        "--------------------\n",
                        "Age_Mixed Mean: 0.65\n",
                        "--------------------\n",
                        "Age_Mixed Standard Deviation: 0.48\n",
                        "====================\n",
                        "Age_Younger:\n",
                        "--------------------\n",
                        "Age_Younger Counts:\n",
                        "0    15245\n",
                        "1     2354\n",
                        "Name: Age_Younger, dtype: int64\n",
                        "--------------------\n",
                        "Age_Younger Percentages:\n",
                        "0   86.60\n",
                        "1   13.40\n",
                        "Name: Age_Younger, dtype: float64\n",
                        "--------------------\n",
                        "Age_Younger Mean: 0.13\n",
                        "--------------------\n",
                        "Age_Younger Standard Deviation: 0.34\n",
                        "\n",
                        "\n"
                    ]
                }
            ],
            "source": [
                "# Job Ad info\n",
                "df_gender_age_info(df_jobs)\n"
            ]
        },
        {
            "cell_type": "code",
            "execution_count": 8,
            "id": "256dcb71",
            "metadata": {},
            "outputs": [],
            "source": [
                "# Explode df so that every row is one sentence\n",
                "df_jobs = df_jobs.explode('Job Description spacy_sentencized', ignore_index=True).reset_index(drop=True)\n"
            ]
        },
        {
            "cell_type": "code",
            "execution_count": 9,
            "id": "458b9f3b",
            "metadata": {},
            "outputs": [
                {
                    "data": {
                        "text/plain": [
                            "194820"
                        ]
                    },
                    "execution_count": 9,
                    "metadata": {},
                    "output_type": "execute_result"
                }
            ],
            "source": [
                "# 194820\n",
                "len(df_jobs)\n"
            ]
        },
        {
            "cell_type": "code",
            "execution_count": 10,
            "id": "2224df52",
            "metadata": {},
            "outputs": [
                {
                    "name": "stdout",
                    "output_type": "stream",
                    "text": [
                        "<class 'pandas.core.frame.DataFrame'>\n",
                        "RangeIndex: 194820 entries, 0 to 194819\n",
                        "Data columns (total 57 columns):\n",
                        " #   Column                               Non-Null Count   Dtype   \n",
                        "---  ------                               --------------   -----   \n",
                        " 0   Search Keyword                       194820 non-null  object  \n",
                        " 1   Platform                             194820 non-null  object  \n",
                        " 2   Job ID                               194820 non-null  object  \n",
                        " 3   Job Title                            194820 non-null  object  \n",
                        " 4   Company Name                         194816 non-null  object  \n",
                        " 5   Location                             194820 non-null  object  \n",
                        " 6   Job Description                      194820 non-null  object  \n",
                        " 7   Rating                               170120 non-null  float64 \n",
                        " 8   Employment Type                      163313 non-null  object  \n",
                        " 9   Company URL                          192654 non-null  object  \n",
                        " 10  Job URL                              194820 non-null  object  \n",
                        " 11  Job Age                              194820 non-null  object  \n",
                        " 12  Job Age Number                       194820 non-null  object  \n",
                        " 13  Collection Date                      194820 non-null  object  \n",
                        " 14  Data Row                             24535 non-null   float64 \n",
                        " 15  Tracking ID                          24535 non-null   object  \n",
                        " 16  Industry                             56207 non-null   object  \n",
                        " 17  Job Date                             24700 non-null   object  \n",
                        " 18  Type of ownership                    31507 non-null   object  \n",
                        " 19  Language                             194820 non-null  object  \n",
                        " 20  Dutch Requirement                    194820 non-null  object  \n",
                        " 21  English Requirement                  194820 non-null  object  \n",
                        " 22  Sector Code                          194820 non-null  object  \n",
                        " 23  Sector                               194820 non-null  object  \n",
                        " 24  Keywords Count                       194820 non-null  float64 \n",
                        " 25  % per Sector                         194820 non-null  float64 \n",
                        " 26  % per Social Category                194820 non-null  float64 \n",
                        " 27  % per Workforce                      194820 non-null  float64 \n",
                        " 28  Female Count (x 1000)                194820 non-null  float64 \n",
                        " 29  Gender_Female_% per Sector           194820 non-null  float64 \n",
                        " 30  Gender_Female_% per Social Category  194820 non-null  float64 \n",
                        " 31  Gender_Female_% per Workforce        194820 non-null  float64 \n",
                        " 32  Male Count (x 1000)                  194820 non-null  float64 \n",
                        " 33  Gender_Male_% per Sector             194820 non-null  float64 \n",
                        " 34  Gender_Male_% per Social Category    194820 non-null  float64 \n",
                        " 35  Gender_Male_% per Workforce          194820 non-null  float64 \n",
                        " 36  Gender                               194820 non-null  category\n",
                        " 37  Age_Older_n                          194820 non-null  float64 \n",
                        " 38  Age_Older_% per Sector               194820 non-null  float64 \n",
                        " 39  Age_Older_% per Social Category      194820 non-null  float64 \n",
                        " 40  Age_Older_% per Workforce            194820 non-null  float64 \n",
                        " 41  Age_Younger_n                        194820 non-null  float64 \n",
                        " 42  Age_Younger_% per Sector             194820 non-null  float64 \n",
                        " 43  Age_Younger_% per Social Category    194820 non-null  float64 \n",
                        " 44  Age_Younger_% per Workforce          194820 non-null  float64 \n",
                        " 45  Age                                  194820 non-null  category\n",
                        " 46  Sector Count (x 1000)                194820 non-null  float64 \n",
                        " 47  % Sector per Workforce               194820 non-null  float64 \n",
                        " 48  Gender_Female                        194820 non-null  int64   \n",
                        " 49  Gender_Male                          194820 non-null  int64   \n",
                        " 50  Gender_Mixed                         194820 non-null  int64   \n",
                        " 51  Age_Mixed                            194820 non-null  int64   \n",
                        " 52  Age_Older                            194820 non-null  int64   \n",
                        " 53  Age_Younger                          194820 non-null  int64   \n",
                        " 54  Gender_Num                           194820 non-null  int64   \n",
                        " 55  Age_Num                              194820 non-null  int64   \n",
                        " 56  Job Description spacy_sentencized    194820 non-null  object  \n",
                        "dtypes: category(2), float64(24), int64(8), object(23)\n",
                        "memory usage: 82.1+ MB\n"
                    ]
                }
            ],
            "source": [
                "df_jobs.info()\n"
            ]
        },
        {
            "cell_type": "code",
            "execution_count": 11,
            "id": "bc21643d",
            "metadata": {},
            "outputs": [
                {
                    "data": {
                        "application/vnd.jupyter.widget-view+json": {
                            "model_id": "a14388af8d4144d69ad4b11f77e9efdd",
                            "version_major": 2,
                            "version_minor": 0
                        },
                        "text/plain": [
                            "progress-bar:   0%|          | 0/194820 [00:00<?, ?it/s]"
                        ]
                    },
                    "metadata": {},
                    "output_type": "display_data"
                }
            ],
            "source": [
                "df_jobs['Job Description spacy_sentencized_lower'] = df_jobs['Job Description spacy_sentencized'].progress_apply(\n",
                "    lambda job_sentence: job_sentence.strip().lower()\n",
                ")\n"
            ]
        },
        {
            "cell_type": "code",
            "execution_count": 12,
            "id": "1b8dac3e",
            "metadata": {},
            "outputs": [
                {
                    "data": {
                        "text/html": [
                            "<div>\n",
                            "<style scoped>\n",
                            "    .dataframe tbody tr th:only-of-type {\n",
                            "        vertical-align: middle;\n",
                            "    }\n",
                            "\n",
                            "    .dataframe tbody tr th {\n",
                            "        vertical-align: top;\n",
                            "    }\n",
                            "\n",
                            "    .dataframe thead th {\n",
                            "        text-align: right;\n",
                            "    }\n",
                            "</style>\n",
                            "<table border=\"1\" class=\"dataframe\">\n",
                            "  <thead>\n",
                            "    <tr style=\"text-align: center;\">\n",
                            "      <th></th>\n",
                            "      <th>Job Description spacy_sentencized</th>\n",
                            "      <th>Job Description spacy_sentencized_lower</th>\n",
                            "    </tr>\n",
                            "  </thead>\n",
                            "  <tbody>\n",
                            "    <tr>\n",
                            "      <th>0</th>\n",
                            "      <td>About Our Client</td>\n",
                            "      <td>about our client</td>\n",
                            "    </tr>\n",
                            "    <tr>\n",
                            "      <th>1</th>\n",
                            "      <td>The Global KYC organisation is part of ING's C...</td>\n",
                            "      <td>the global kyc organisation is part of ing's c...</td>\n",
                            "    </tr>\n",
                            "    <tr>\n",
                            "      <th>2</th>\n",
                            "      <td>Its purpose is Enabling people and organisatio...</td>\n",
                            "      <td>its purpose is enabling people and organisatio...</td>\n",
                            "    </tr>\n",
                            "    <tr>\n",
                            "      <th>3</th>\n",
                            "      <td>Our Global KYC organisation is a first line of...</td>\n",
                            "      <td>our global kyc organisation is a first line of...</td>\n",
                            "    </tr>\n",
                            "    <tr>\n",
                            "      <th>4</th>\n",
                            "      <td>In our Global KYC organisation you will be wor...</td>\n",
                            "      <td>in our global kyc organisation you will be wor...</td>\n",
                            "    </tr>\n",
                            "  </tbody>\n",
                            "</table>\n",
                            "</div>"
                        ],
                        "text/plain": [
                            "          Job Description spacy_sentencized               Job Description spacy_sentencized_lower      \n",
                            "0                                   About Our Client                                   about our client\n",
                            "1  The Global KYC organisation is part of ING's C...  the global kyc organisation is part of ing's c...\n",
                            "2  Its purpose is Enabling people and organisatio...  its purpose is enabling people and organisatio...\n",
                            "3  Our Global KYC organisation is a first line of...  our global kyc organisation is a first line of...\n",
                            "4  In our Global KYC organisation you will be wor...  in our global kyc organisation you will be wor..."
                        ]
                    },
                    "execution_count": 12,
                    "metadata": {},
                    "output_type": "execute_result"
                }
            ],
            "source": [
                "df_jobs[['Job Description spacy_sentencized', 'Job Description spacy_sentencized_lower']].head()\n"
            ]
        },
        {
            "cell_type": "code",
            "execution_count": 13,
            "id": "1cf56055",
            "metadata": {},
            "outputs": [
                {
                    "data": {
                        "application/vnd.jupyter.widget-view+json": {
                            "model_id": "6edb9359524b4cfa9783542d6a9ffa19",
                            "version_major": 2,
                            "version_minor": 0
                        },
                        "text/plain": [
                            "progress-bar:   0%|          | 0/194820 [00:00<?, ?it/s]"
                        ]
                    },
                    "metadata": {},
                    "output_type": "display_data"
                },
                {
                    "name": "stdout",
                    "output_type": "stream",
                    "text": [
                        "CPU times: user 38.6 s, sys: 3.55 s, total: 42.2 s\n",
                        "Wall time: 56.3 s\n"
                    ]
                }
            ],
            "source": [
                "%%time\n",
                "# Spacy tokenize\n",
                "with open(f'{data_dir}punctuations.txt', 'rb') as f:\n",
                "    custom_punct_chars = pickle.load(f)\n",
                "\n",
                "df_jobs['Job Description spacy_tokenized'] = df_jobs['Job Description spacy_sentencized'].progress_apply(\n",
                "    lambda job_sentence: [\n",
                "        str(token.text.strip().lower())\n",
                "        for token in nlp.tokenizer(job_sentence)\n",
                "        if len(token) != 0\n",
                "        and not token.is_space\n",
                "        and not token.is_stop\n",
                "        and not token.is_punct\n",
                "        and not token.is_bracket\n",
                "        and not token.like_email\n",
                "        and not token.text in custom_punct_chars\n",
                "    ]\n",
                ")\n",
                "\n",
                "assert len(df_jobs) > 0 and isinstance(df_jobs, pd.DataFrame), f'ERORR: LENGTH OF DF = {len(df_jobs)}'\n",
                "df_jobs.to_pickle(f'{df_save_dir}df_jobs_tokenized_spacy.pkl')\n",
                "df_jobs.to_csv(f'{df_save_dir}df_jobs_tokenized_spacy.csv', index=False)\n"
            ]
        },
        {
            "cell_type": "code",
            "execution_count": 14,
            "id": "bd443d94",
            "metadata": {},
            "outputs": [],
            "source": [
                "df_jobs['Job Description spacy_sentencized_cleaned'] = df_jobs['Job Description spacy_tokenized'].str.join(' ')\n"
            ]
        },
        {
            "cell_type": "code",
            "execution_count": 15,
            "id": "65043f92",
            "metadata": {},
            "outputs": [
                {
                    "data": {
                        "application/vnd.jupyter.widget-view+json": {
                            "model_id": "f9a88a160c78444cb8758745a4177a2a",
                            "version_major": 2,
                            "version_minor": 0
                        },
                        "text/plain": [
                            "progress-bar:   0%|          | 0/194820 [00:00<?, ?it/s]"
                        ]
                    },
                    "metadata": {},
                    "output_type": "display_data"
                },
                {
                    "name": "stdout",
                    "output_type": "stream",
                    "text": [
                        "CPU times: user 3min 13s, sys: 12.4 s, total: 3min 25s\n",
                        "Wall time: 3min 58s\n"
                    ]
                }
            ],
            "source": [
                "%%time\n",
                "# Get sentence word frequencies\n",
                "df_jobs = df_jobs.progress_apply(\n",
                "    lambda row: get_word_num_and_frequency(\n",
                "        row=row, text_col='Job Description spacy_sentencized'\n",
                "    ), \n",
                "    axis='columns',\n",
                ")\n"
            ]
        },
        {
            "cell_type": "code",
            "execution_count": 16,
            "id": "71fe497b",
            "metadata": {},
            "outputs": [
                {
                    "data": {
                        "text/html": [
                            "<div>\n",
                            "<style scoped>\n",
                            "    .dataframe tbody tr th:only-of-type {\n",
                            "        vertical-align: middle;\n",
                            "    }\n",
                            "\n",
                            "    .dataframe tbody tr th {\n",
                            "        vertical-align: top;\n",
                            "    }\n",
                            "\n",
                            "    .dataframe thead th {\n",
                            "        text-align: right;\n",
                            "    }\n",
                            "</style>\n",
                            "<table border=\"1\" class=\"dataframe\">\n",
                            "  <thead>\n",
                            "    <tr style=\"text-align: center;\">\n",
                            "      <th></th>\n",
                            "      <th>Job Description spacy_sentencized</th>\n",
                            "      <th>Job Description num_words</th>\n",
                            "      <th>Job Description num_unique_words</th>\n",
                            "      <th>Job Description num_chars</th>\n",
                            "      <th>Job Description num_chars_no_whitespact_and_punt</th>\n",
                            "    </tr>\n",
                            "  </thead>\n",
                            "  <tbody>\n",
                            "    <tr>\n",
                            "      <th>0</th>\n",
                            "      <td>About Our Client</td>\n",
                            "      <td>3</td>\n",
                            "      <td>3</td>\n",
                            "      <td>16</td>\n",
                            "      <td>14</td>\n",
                            "    </tr>\n",
                            "    <tr>\n",
                            "      <th>1</th>\n",
                            "      <td>The Global KYC organisation is part of ING's C...</td>\n",
                            "      <td>10</td>\n",
                            "      <td>10</td>\n",
                            "      <td>56</td>\n",
                            "      <td>45</td>\n",
                            "    </tr>\n",
                            "    <tr>\n",
                            "      <th>2</th>\n",
                            "      <td>Its purpose is Enabling people and organisatio...</td>\n",
                            "      <td>20</td>\n",
                            "      <td>19</td>\n",
                            "      <td>131</td>\n",
                            "      <td>111</td>\n",
                            "    </tr>\n",
                            "    <tr>\n",
                            "      <th>3</th>\n",
                            "      <td>Our Global KYC organisation is a first line of...</td>\n",
                            "      <td>34</td>\n",
                            "      <td>31</td>\n",
                            "      <td>239</td>\n",
                            "      <td>203</td>\n",
                            "    </tr>\n",
                            "    <tr>\n",
                            "      <th>4</th>\n",
                            "      <td>In our Global KYC organisation you will be wor...</td>\n",
                            "      <td>18</td>\n",
                            "      <td>18</td>\n",
                            "      <td>128</td>\n",
                            "      <td>109</td>\n",
                            "    </tr>\n",
                            "  </tbody>\n",
                            "</table>\n",
                            "</div>"
                        ],
                        "text/plain": [
                            "          Job Description spacy_sentencized           Job Description num_words  Job Description num_unique_words  Job Description num_chars  Job Description num_chars_no_whitespact_and_punt\n",
                            "0                                   About Our Client              3                              3                             16                                     14                      \n",
                            "1  The Global KYC organisation is part of ING's C...             10                             10                             56                                     45                      \n",
                            "2  Its purpose is Enabling people and organisatio...             20                             19                            131                                    111                      \n",
                            "3  Our Global KYC organisation is a first line of...             34                             31                            239                                    203                      \n",
                            "4  In our Global KYC organisation you will be wor...             18                             18                            128                                    109                      "
                        ]
                    },
                    "execution_count": 16,
                    "metadata": {},
                    "output_type": "execute_result"
                }
            ],
            "source": [
                "df_jobs[\n",
                "    [\n",
                "        'Job Description spacy_sentencized',\n",
                "        'Job Description num_words', 'Job Description num_unique_words',\n",
                "        'Job Description num_chars', 'Job Description num_chars_no_whitespact_and_punt'\n",
                "    ]\n",
                "].head()"
            ]
        },
        {
            "cell_type": "code",
            "execution_count": 17,
            "id": "b24c9976",
            "metadata": {},
            "outputs": [
                {
                    "data": {
                        "text/plain": [
                            "Index(['Search Keyword', 'Platform', 'Job ID', 'Job Title', 'Company Name', 'Location', 'Job Description', 'Rating', 'Employment Type', 'Company URL', 'Job URL', 'Job Age', 'Job Age Number', 'Collection Date', 'Data Row', 'Tracking ID', 'Industry', 'Job Date', 'Type of ownership', 'Language', 'Dutch Requirement', 'English Requirement', 'Sector Code', 'Sector', 'Keywords Count', '% per Sector', '% per Social Category', '% per Workforce', 'Female Count (x 1000)', 'Gender_Female_% per Sector', 'Gender_Female_% per Social Category', 'Gender_Female_% per Workforce', 'Male Count (x 1000)', 'Gender_Male_% per Sector', 'Gender_Male_% per Social Category', 'Gender_Male_% per Workforce', 'Gender', 'Age_Older_n', 'Age_Older_% per Sector', 'Age_Older_% per Social Category', 'Age_Older_% per Workforce', 'Age_Younger_n', 'Age_Younger_% per Sector', 'Age_Younger_% per Social Category', 'Age_Younger_% per Workforce', 'Age', 'Sector Count (x 1000)', '% Sector per Workforce', 'Gender_Female', 'Gender_Male', 'Gender_Mixed', 'Age_Mixed', 'Age_Older', 'Age_Younger', 'Gender_Num', 'Age_Num', 'Job Description spacy_sentencized', 'Job Description spacy_sentencized_lower', 'Job Description spacy_tokenized', 'Job Description spacy_sentencized_cleaned', 'Job Description num_words', 'Job Description num_unique_words', 'Job Description num_chars', 'Job Description num_chars_no_whitespact_and_punt', 'Job Description num_punctuations'], dtype='object')"
                        ]
                    },
                    "execution_count": 17,
                    "metadata": {},
                    "output_type": "execute_result"
                }
            ],
            "source": [
                "df_jobs.columns\n"
            ]
        },
        {
            "cell_type": "code",
            "execution_count": 18,
            "id": "ba33d712",
            "metadata": {},
            "outputs": [
                {
                    "name": "stdout",
                    "output_type": "stream",
                    "text": [
                        "\n",
                        "DF INFO:\n",
                        "\n",
                        "<class 'pandas.core.frame.DataFrame'>\n",
                        "RangeIndex: 194820 entries, 0 to 194819\n",
                        "Data columns (total 65 columns):\n",
                        " #   Column                                            Non-Null Count   Dtype  \n",
                        "---  ------                                            --------------   -----  \n",
                        " 0   Search Keyword                                    194820 non-null  object \n",
                        " 1   Platform                                          194820 non-null  object \n",
                        " 2   Job ID                                            194820 non-null  object \n",
                        " 3   Job Title                                         194820 non-null  object \n",
                        " 4   Company Name                                      194816 non-null  object \n",
                        " 5   Location                                          194820 non-null  object \n",
                        " 6   Job Description                                   194820 non-null  object \n",
                        " 7   Rating                                            170120 non-null  float64\n",
                        " 8   Employment Type                                   163313 non-null  object \n",
                        " 9   Company URL                                       192654 non-null  object \n",
                        " 10  Job URL                                           194820 non-null  object \n",
                        " 11  Job Age                                           194820 non-null  object \n",
                        " 12  Job Age Number                                    194820 non-null  object \n",
                        " 13  Collection Date                                   194820 non-null  object \n",
                        " 14  Data Row                                          24535 non-null   float64\n",
                        " 15  Tracking ID                                       24535 non-null   object \n",
                        " 16  Industry                                          56207 non-null   object \n",
                        " 17  Job Date                                          24700 non-null   object \n",
                        " 18  Type of ownership                                 31507 non-null   object \n",
                        " 19  Language                                          194820 non-null  object \n",
                        " 20  Dutch Requirement                                 194820 non-null  object \n",
                        " 21  English Requirement                               194820 non-null  object \n",
                        " 22  Sector Code                                       194820 non-null  object \n",
                        " 23  Sector                                            194820 non-null  object \n",
                        " 24  Keywords Count                                    194820 non-null  float64\n",
                        " 25  % per Sector                                      194820 non-null  float64\n",
                        " 26  % per Social Category                             194820 non-null  float64\n",
                        " 27  % per Workforce                                   194820 non-null  float64\n",
                        " 28  Female Count (x 1000)                             194820 non-null  float64\n",
                        " 29  Gender_Female_% per Sector                        194820 non-null  float64\n",
                        " 30  Gender_Female_% per Social Category               194820 non-null  float64\n",
                        " 31  Gender_Female_% per Workforce                     194820 non-null  float64\n",
                        " 32  Male Count (x 1000)                               194820 non-null  float64\n",
                        " 33  Gender_Male_% per Sector                          194820 non-null  float64\n",
                        " 34  Gender_Male_% per Social Category                 194820 non-null  float64\n",
                        " 35  Gender_Male_% per Workforce                       194820 non-null  float64\n",
                        " 36  Gender                                            194820 non-null  object \n",
                        " 37  Age_Older_n                                       194820 non-null  float64\n",
                        " 38  Age_Older_% per Sector                            194820 non-null  float64\n",
                        " 39  Age_Older_% per Social Category                   194820 non-null  float64\n",
                        " 40  Age_Older_% per Workforce                         194820 non-null  float64\n",
                        " 41  Age_Younger_n                                     194820 non-null  float64\n",
                        " 42  Age_Younger_% per Sector                          194820 non-null  float64\n",
                        " 43  Age_Younger_% per Social Category                 194820 non-null  float64\n",
                        " 44  Age_Younger_% per Workforce                       194820 non-null  float64\n",
                        " 45  Age                                               194820 non-null  object \n",
                        " 46  Sector Count (x 1000)                             194820 non-null  float64\n",
                        " 47  % Sector per Workforce                            194820 non-null  float64\n",
                        " 48  Gender_Female                                     194820 non-null  int64  \n",
                        " 49  Gender_Male                                       194820 non-null  int64  \n",
                        " 50  Gender_Mixed                                      194820 non-null  int64  \n",
                        " 51  Age_Mixed                                         194820 non-null  int64  \n",
                        " 52  Age_Older                                         194820 non-null  int64  \n",
                        " 53  Age_Younger                                       194820 non-null  int64  \n",
                        " 54  Gender_Num                                        194820 non-null  int64  \n",
                        " 55  Age_Num                                           194820 non-null  int64  \n",
                        " 56  Job Description spacy_sentencized                 194820 non-null  object \n",
                        " 57  Job Description spacy_sentencized_lower           194820 non-null  object \n",
                        " 58  Job Description spacy_tokenized                   194820 non-null  object \n",
                        " 59  Job Description spacy_sentencized_cleaned         194820 non-null  object \n",
                        " 60  Job Description num_words                         194820 non-null  int64  \n",
                        " 61  Job Description num_unique_words                  194820 non-null  int64  \n",
                        " 62  Job Description num_chars                         194820 non-null  int64  \n",
                        " 63  Job Description num_chars_no_whitespact_and_punt  194820 non-null  int64  \n",
                        " 64  Job Description num_punctuations                  194820 non-null  int64  \n",
                        "dtypes: float64(24), int64(13), object(28)\n",
                        "memory usage: 96.6+ MB\n",
                        "====================\n",
                        "Gender:\n",
                        "--------------------\n",
                        "Gender Counts:\n",
                        "Mixed Gender    135755\n",
                        "Male             32291\n",
                        "Female           26774\n",
                        "Name: Gender, dtype: int64\n",
                        "--------------------\n",
                        "Gender Percentages:\n",
                        "Mixed Gender   69.70\n",
                        "Male           16.60\n",
                        "Female         13.70\n",
                        "Name: Gender, dtype: float64\n",
                        "--------------------\n",
                        "====================\n",
                        "Gender_Num:\n",
                        "--------------------\n",
                        "Gender_Num Counts:\n",
                        "1    135755\n",
                        "2     32291\n",
                        "0     26774\n",
                        "Name: Gender_Num, dtype: int64\n",
                        "--------------------\n",
                        "Gender_Num Percentages:\n",
                        "1   69.70\n",
                        "2   16.60\n",
                        "0   13.70\n",
                        "Name: Gender_Num, dtype: float64\n",
                        "--------------------\n",
                        "Gender_Num Mean: 1.03\n",
                        "--------------------\n",
                        "Gender_Num Standard Deviation: 0.55\n",
                        "====================\n",
                        "Gender_Female:\n",
                        "--------------------\n",
                        "Gender_Female Counts:\n",
                        "0    168046\n",
                        "1     26774\n",
                        "Name: Gender_Female, dtype: int64\n",
                        "--------------------\n",
                        "Gender_Female Percentages:\n",
                        "0   86.30\n",
                        "1   13.70\n",
                        "Name: Gender_Female, dtype: float64\n",
                        "--------------------\n",
                        "Gender_Female Mean: 0.14\n",
                        "--------------------\n",
                        "Gender_Female Standard Deviation: 0.34\n",
                        "====================\n",
                        "Gender_Mixed:\n",
                        "--------------------\n",
                        "Gender_Mixed Counts:\n",
                        "1    135755\n",
                        "0     59065\n",
                        "Name: Gender_Mixed, dtype: int64\n",
                        "--------------------\n",
                        "Gender_Mixed Percentages:\n",
                        "1   69.70\n",
                        "0   30.30\n",
                        "Name: Gender_Mixed, dtype: float64\n",
                        "--------------------\n",
                        "Gender_Mixed Mean: 0.7\n",
                        "--------------------\n",
                        "Gender_Mixed Standard Deviation: 0.46\n",
                        "====================\n",
                        "Gender_Male:\n",
                        "--------------------\n",
                        "Gender_Male Counts:\n",
                        "0    162529\n",
                        "1     32291\n",
                        "Name: Gender_Male, dtype: int64\n",
                        "--------------------\n",
                        "Gender_Male Percentages:\n",
                        "0   83.40\n",
                        "1   16.60\n",
                        "Name: Gender_Male, dtype: float64\n",
                        "--------------------\n",
                        "Gender_Male Mean: 0.17\n",
                        "--------------------\n",
                        "Gender_Male Standard Deviation: 0.37\n",
                        "====================\n",
                        "Age:\n",
                        "--------------------\n",
                        "Age Counts:\n",
                        "Mixed Age    126988\n",
                        "Older         36709\n",
                        "Younger       31123\n",
                        "Name: Age, dtype: int64\n",
                        "--------------------\n",
                        "Age Percentages:\n",
                        "Mixed Age   65.20\n",
                        "Older       18.80\n",
                        "Younger     16.00\n",
                        "Name: Age, dtype: float64\n",
                        "--------------------\n",
                        "====================\n",
                        "Age_Num:\n",
                        "--------------------\n",
                        "Age_Num Counts:\n",
                        "1    126988\n",
                        "0     36709\n",
                        "2     31123\n",
                        "Name: Age_Num, dtype: int64\n",
                        "--------------------\n",
                        "Age_Num Percentages:\n",
                        "1   65.20\n",
                        "0   18.80\n",
                        "2   16.00\n",
                        "Name: Age_Num, dtype: float64\n",
                        "--------------------\n",
                        "Age_Num Mean: 0.97\n",
                        "--------------------\n",
                        "Age_Num Standard Deviation: 0.59\n",
                        "====================\n",
                        "Age_Older:\n",
                        "--------------------\n",
                        "Age_Older Counts:\n",
                        "0    158111\n",
                        "1     36709\n",
                        "Name: Age_Older, dtype: int64\n",
                        "--------------------\n",
                        "Age_Older Percentages:\n",
                        "0   81.20\n",
                        "1   18.80\n",
                        "Name: Age_Older, dtype: float64\n",
                        "--------------------\n",
                        "Age_Older Mean: 0.19\n",
                        "--------------------\n",
                        "Age_Older Standard Deviation: 0.39\n",
                        "====================\n",
                        "Age_Mixed:\n",
                        "--------------------\n",
                        "Age_Mixed Counts:\n",
                        "1    126988\n",
                        "0     67832\n",
                        "Name: Age_Mixed, dtype: int64\n",
                        "--------------------\n",
                        "Age_Mixed Percentages:\n",
                        "1   65.20\n",
                        "0   34.80\n",
                        "Name: Age_Mixed, dtype: float64\n",
                        "--------------------\n",
                        "Age_Mixed Mean: 0.65\n",
                        "--------------------\n",
                        "Age_Mixed Standard Deviation: 0.48\n",
                        "====================\n",
                        "Age_Younger:\n",
                        "--------------------\n",
                        "Age_Younger Counts:\n",
                        "0    163697\n",
                        "1     31123\n",
                        "Name: Age_Younger, dtype: int64\n",
                        "--------------------\n",
                        "Age_Younger Percentages:\n",
                        "0   84.00\n",
                        "1   16.00\n",
                        "Name: Age_Younger, dtype: float64\n",
                        "--------------------\n",
                        "Age_Younger Mean: 0.16\n",
                        "--------------------\n",
                        "Age_Younger Standard Deviation: 0.37\n",
                        "\n",
                        "\n"
                    ]
                }
            ],
            "source": [
                "# Job Sentence info\n",
                "df_gender_age_info(df_jobs)\n"
            ]
        },
        {
            "cell_type": "code",
            "execution_count": 19,
            "id": "7eac5764",
            "metadata": {},
            "outputs": [],
            "source": [
                "with open(f'{data_dir}df_jobs_len.txt', 'wb') as f:\n",
                "    pickle.dump(len(df_jobs), f)"
            ]
        },
        {
            "cell_type": "code",
            "execution_count": 20,
            "id": "5deddb9d",
            "metadata": {},
            "outputs": [],
            "source": [
                "assert len(df_jobs) > 0 and isinstance(df_jobs, pd.DataFrame), f'ERORR: LENGTH OF DF = {len(df_jobs)}'\n",
                "df_jobs.to_pickle(f'{df_save_dir}df_jobs_tokenized_spacy.pkl')\n",
                "df_jobs.to_csv(f'{df_save_dir}df_jobs_tokenized_spacy.csv', index=False)\n"
            ]
        },
        {
            "cell_type": "markdown",
            "id": "e7f002d2",
            "metadata": {},
            "source": [
                "# Use NLTK to tokenize sentences\n"
            ]
        },
        {
            "cell_type": "markdown",
            "id": "92922872",
            "metadata": {},
            "source": [
                "### START HERE IF SOURCING FROM DF_JOBS_TOKENIZED_SPACY\n",
                "### PLEASE SET CORRECT DIRECTORY PATHS BELOW\n"
            ]
        },
        {
            "cell_type": "code",
            "execution_count": 21,
            "id": "9fae46f4",
            "metadata": {},
            "outputs": [],
            "source": [
                "import os # type:ignore # isort:skip # fmt:skip # noqa # nopep8\n",
                "import sys # type:ignore # isort:skip # fmt:skip # noqa # nopep8\n",
                "from pathlib import Path # type:ignore # isort:skip # fmt:skip # noqa # nopep8\n",
                "\n",
                "mod = sys.modules[__name__]\n",
                "\n",
                "code_dir = None\n",
                "code_dir_name = 'Code'\n",
                "unwanted_subdir_name = 'Analysis'\n",
                "\n",
                "for _ in range(5):\n",
                "\n",
                "    parent_path = str(Path.cwd().parents[_]).split('/')[-1]\n",
                "\n",
                "    if (code_dir_name in parent_path) and (unwanted_subdir_name not in parent_path):\n",
                "\n",
                "        code_dir = str(Path.cwd().parents[_])\n",
                "\n",
                "        if code_dir is not None:\n",
                "            break\n",
                "\n",
                "sys.path.append(code_dir)\n",
                "# %load_ext autoreload\n",
                "# %autoreload 2\n"
            ]
        },
        {
            "cell_type": "code",
            "execution_count": 22,
            "id": "e7cbbc2a",
            "metadata": {},
            "outputs": [],
            "source": [
                "from setup_module.imports import * # type:ignore # isort:skip # fmt:skip # noqa # nopep8\n"
            ]
        },
        {
            "cell_type": "code",
            "execution_count": 23,
            "id": "5011ea0a",
            "metadata": {},
            "outputs": [],
            "source": [
                "df_jobs = pd.read_pickle(f'{df_save_dir}df_jobs_tokenized_spacy.pkl').reset_index(drop=True)\n"
            ]
        },
        {
            "cell_type": "code",
            "execution_count": 24,
            "id": "9c8a9f1e",
            "metadata": {},
            "outputs": [
                {
                    "name": "stdout",
                    "output_type": "stream",
                    "text": [
                        "<class 'pandas.core.frame.DataFrame'>\n",
                        "RangeIndex: 194820 entries, 0 to 194819\n",
                        "Data columns (total 65 columns):\n",
                        " #   Column                                            Non-Null Count   Dtype  \n",
                        "---  ------                                            --------------   -----  \n",
                        " 0   Search Keyword                                    194820 non-null  object \n",
                        " 1   Platform                                          194820 non-null  object \n",
                        " 2   Job ID                                            194820 non-null  object \n",
                        " 3   Job Title                                         194820 non-null  object \n",
                        " 4   Company Name                                      194816 non-null  object \n",
                        " 5   Location                                          194820 non-null  object \n",
                        " 6   Job Description                                   194820 non-null  object \n",
                        " 7   Rating                                            170120 non-null  float64\n",
                        " 8   Employment Type                                   163313 non-null  object \n",
                        " 9   Company URL                                       192654 non-null  object \n",
                        " 10  Job URL                                           194820 non-null  object \n",
                        " 11  Job Age                                           194820 non-null  object \n",
                        " 12  Job Age Number                                    194820 non-null  object \n",
                        " 13  Collection Date                                   194820 non-null  object \n",
                        " 14  Data Row                                          24535 non-null   float64\n",
                        " 15  Tracking ID                                       24535 non-null   object \n",
                        " 16  Industry                                          56207 non-null   object \n",
                        " 17  Job Date                                          24700 non-null   object \n",
                        " 18  Type of ownership                                 31507 non-null   object \n",
                        " 19  Language                                          194820 non-null  object \n",
                        " 20  Dutch Requirement                                 194820 non-null  object \n",
                        " 21  English Requirement                               194820 non-null  object \n",
                        " 22  Sector Code                                       194820 non-null  object \n",
                        " 23  Sector                                            194820 non-null  object \n",
                        " 24  Keywords Count                                    194820 non-null  float64\n",
                        " 25  % per Sector                                      194820 non-null  float64\n",
                        " 26  % per Social Category                             194820 non-null  float64\n",
                        " 27  % per Workforce                                   194820 non-null  float64\n",
                        " 28  Female Count (x 1000)                             194820 non-null  float64\n",
                        " 29  Gender_Female_% per Sector                        194820 non-null  float64\n",
                        " 30  Gender_Female_% per Social Category               194820 non-null  float64\n",
                        " 31  Gender_Female_% per Workforce                     194820 non-null  float64\n",
                        " 32  Male Count (x 1000)                               194820 non-null  float64\n",
                        " 33  Gender_Male_% per Sector                          194820 non-null  float64\n",
                        " 34  Gender_Male_% per Social Category                 194820 non-null  float64\n",
                        " 35  Gender_Male_% per Workforce                       194820 non-null  float64\n",
                        " 36  Gender                                            194820 non-null  object \n",
                        " 37  Age_Older_n                                       194820 non-null  float64\n",
                        " 38  Age_Older_% per Sector                            194820 non-null  float64\n",
                        " 39  Age_Older_% per Social Category                   194820 non-null  float64\n",
                        " 40  Age_Older_% per Workforce                         194820 non-null  float64\n",
                        " 41  Age_Younger_n                                     194820 non-null  float64\n",
                        " 42  Age_Younger_% per Sector                          194820 non-null  float64\n",
                        " 43  Age_Younger_% per Social Category                 194820 non-null  float64\n",
                        " 44  Age_Younger_% per Workforce                       194820 non-null  float64\n",
                        " 45  Age                                               194820 non-null  object \n",
                        " 46  Sector Count (x 1000)                             194820 non-null  float64\n",
                        " 47  % Sector per Workforce                            194820 non-null  float64\n",
                        " 48  Gender_Female                                     194820 non-null  int64  \n",
                        " 49  Gender_Male                                       194820 non-null  int64  \n",
                        " 50  Gender_Mixed                                      194820 non-null  int64  \n",
                        " 51  Age_Mixed                                         194820 non-null  int64  \n",
                        " 52  Age_Older                                         194820 non-null  int64  \n",
                        " 53  Age_Younger                                       194820 non-null  int64  \n",
                        " 54  Gender_Num                                        194820 non-null  int64  \n",
                        " 55  Age_Num                                           194820 non-null  int64  \n",
                        " 56  Job Description spacy_sentencized                 194820 non-null  object \n",
                        " 57  Job Description spacy_sentencized_lower           194820 non-null  object \n",
                        " 58  Job Description spacy_tokenized                   194820 non-null  object \n",
                        " 59  Job Description spacy_sentencized_cleaned         194820 non-null  object \n",
                        " 60  Job Description num_words                         194820 non-null  int64  \n",
                        " 61  Job Description num_unique_words                  194820 non-null  int64  \n",
                        " 62  Job Description num_chars                         194820 non-null  int64  \n",
                        " 63  Job Description num_chars_no_whitespact_and_punt  194820 non-null  int64  \n",
                        " 64  Job Description num_punctuations                  194820 non-null  int64  \n",
                        "dtypes: float64(24), int64(13), object(28)\n",
                        "memory usage: 96.6+ MB\n"
                    ]
                }
            ],
            "source": [
                "df_jobs.info()\n"
            ]
        },
        {
            "cell_type": "code",
            "execution_count": 25,
            "id": "4475248f",
            "metadata": {},
            "outputs": [
                {
                    "data": {
                        "application/vnd.jupyter.widget-view+json": {
                            "model_id": "ada12b840848462d9b7788cd07be42bc",
                            "version_major": 2,
                            "version_minor": 0
                        },
                        "text/plain": [
                            "progress-bar:   0%|          | 0/194820 [00:00<?, ?it/s]"
                        ]
                    },
                    "metadata": {},
                    "output_type": "display_data"
                },
                {
                    "name": "stdout",
                    "output_type": "stream",
                    "text": [
                        "CPU times: user 6min, sys: 1min 59s, total: 8min\n",
                        "Wall time: 8min 19s\n"
                    ]
                }
            ],
            "source": [
                "%%time\n",
                "# Tokenize with NLTK\n",
                "# stop_words = set(stopwords.words('english'))\n",
                "# punctuations = list(string.punctuation)\n",
                "# lemmatizer = WordNetLemmatizer()\n",
                "# stemmer = PorterStemmer()\n",
                "\n",
                "df_jobs['Job Description nltk_tokenized'] = df_jobs['Job Description spacy_sentencized'].progress_apply(\n",
                "    lambda job_sentence: [\n",
                "        str(token.strip().lower()) \n",
                "        for token in word_tokenize(job_sentence) \n",
                "        if len(token) != 0 \n",
                "        and token != '...' \n",
                "        and not token.lower() in set(stopwords.words('english')) \n",
                "        and not token.lower() in list(string.punctuation) \n",
                "    ]\n",
                ")\n",
                "\n",
                "assert len(df_jobs) > 0 and isinstance(df_jobs, pd.DataFrame), f'ERORR: LENGTH OF DF = {len(df_jobs)}'\n",
                "df_jobs.to_pickle(f'{df_save_dir}df_jobs_tokenized_spacy_nltk.pkl')\n",
                "df_jobs.to_csv(f'{df_save_dir}df_jobs_tokenized_spacy_nltk.csv', index=False)\n"
            ]
        },
        {
            "cell_type": "code",
            "execution_count": 26,
            "id": "3bbd5d3f",
            "metadata": {},
            "outputs": [
                {
                    "data": {
                        "text/plain": [
                            "0                                             [client]\n",
                            "1    [global, kyc, organisation, part, ing, 's, coo...\n",
                            "2    [purpose, enabling, people, organisations, use...\n",
                            "3    [global, kyc, organisation, first, line, defen...\n",
                            "4    [global, kyc, organisation, working, many, col...\n",
                            "Name: Job Description nltk_tokenized, dtype: object"
                        ]
                    },
                    "execution_count": 26,
                    "metadata": {},
                    "output_type": "execute_result"
                }
            ],
            "source": [
                "df_jobs['Job Description nltk_tokenized'].head()\n"
            ]
        },
        {
            "cell_type": "code",
            "execution_count": 27,
            "id": "86da6772",
            "metadata": {},
            "outputs": [
                {
                    "name": "stdout",
                    "output_type": "stream",
                    "text": [
                        "<class 'pandas.core.frame.DataFrame'>\n",
                        "RangeIndex: 194820 entries, 0 to 194819\n",
                        "Data columns (total 66 columns):\n",
                        " #   Column                                            Non-Null Count   Dtype  \n",
                        "---  ------                                            --------------   -----  \n",
                        " 0   Search Keyword                                    194820 non-null  object \n",
                        " 1   Platform                                          194820 non-null  object \n",
                        " 2   Job ID                                            194820 non-null  object \n",
                        " 3   Job Title                                         194820 non-null  object \n",
                        " 4   Company Name                                      194816 non-null  object \n",
                        " 5   Location                                          194820 non-null  object \n",
                        " 6   Job Description                                   194820 non-null  object \n",
                        " 7   Rating                                            170120 non-null  float64\n",
                        " 8   Employment Type                                   163313 non-null  object \n",
                        " 9   Company URL                                       192654 non-null  object \n",
                        " 10  Job URL                                           194820 non-null  object \n",
                        " 11  Job Age                                           194820 non-null  object \n",
                        " 12  Job Age Number                                    194820 non-null  object \n",
                        " 13  Collection Date                                   194820 non-null  object \n",
                        " 14  Data Row                                          24535 non-null   float64\n",
                        " 15  Tracking ID                                       24535 non-null   object \n",
                        " 16  Industry                                          56207 non-null   object \n",
                        " 17  Job Date                                          24700 non-null   object \n",
                        " 18  Type of ownership                                 31507 non-null   object \n",
                        " 19  Language                                          194820 non-null  object \n",
                        " 20  Dutch Requirement                                 194820 non-null  object \n",
                        " 21  English Requirement                               194820 non-null  object \n",
                        " 22  Sector Code                                       194820 non-null  object \n",
                        " 23  Sector                                            194820 non-null  object \n",
                        " 24  Keywords Count                                    194820 non-null  float64\n",
                        " 25  % per Sector                                      194820 non-null  float64\n",
                        " 26  % per Social Category                             194820 non-null  float64\n",
                        " 27  % per Workforce                                   194820 non-null  float64\n",
                        " 28  Female Count (x 1000)                             194820 non-null  float64\n",
                        " 29  Gender_Female_% per Sector                        194820 non-null  float64\n",
                        " 30  Gender_Female_% per Social Category               194820 non-null  float64\n",
                        " 31  Gender_Female_% per Workforce                     194820 non-null  float64\n",
                        " 32  Male Count (x 1000)                               194820 non-null  float64\n",
                        " 33  Gender_Male_% per Sector                          194820 non-null  float64\n",
                        " 34  Gender_Male_% per Social Category                 194820 non-null  float64\n",
                        " 35  Gender_Male_% per Workforce                       194820 non-null  float64\n",
                        " 36  Gender                                            194820 non-null  object \n",
                        " 37  Age_Older_n                                       194820 non-null  float64\n",
                        " 38  Age_Older_% per Sector                            194820 non-null  float64\n",
                        " 39  Age_Older_% per Social Category                   194820 non-null  float64\n",
                        " 40  Age_Older_% per Workforce                         194820 non-null  float64\n",
                        " 41  Age_Younger_n                                     194820 non-null  float64\n",
                        " 42  Age_Younger_% per Sector                          194820 non-null  float64\n",
                        " 43  Age_Younger_% per Social Category                 194820 non-null  float64\n",
                        " 44  Age_Younger_% per Workforce                       194820 non-null  float64\n",
                        " 45  Age                                               194820 non-null  object \n",
                        " 46  Sector Count (x 1000)                             194820 non-null  float64\n",
                        " 47  % Sector per Workforce                            194820 non-null  float64\n",
                        " 48  Gender_Female                                     194820 non-null  int64  \n",
                        " 49  Gender_Male                                       194820 non-null  int64  \n",
                        " 50  Gender_Mixed                                      194820 non-null  int64  \n",
                        " 51  Age_Mixed                                         194820 non-null  int64  \n",
                        " 52  Age_Older                                         194820 non-null  int64  \n",
                        " 53  Age_Younger                                       194820 non-null  int64  \n",
                        " 54  Gender_Num                                        194820 non-null  int64  \n",
                        " 55  Age_Num                                           194820 non-null  int64  \n",
                        " 56  Job Description spacy_sentencized                 194820 non-null  object \n",
                        " 57  Job Description spacy_sentencized_lower           194820 non-null  object \n",
                        " 58  Job Description spacy_tokenized                   194820 non-null  object \n",
                        " 59  Job Description spacy_sentencized_cleaned         194820 non-null  object \n",
                        " 60  Job Description num_words                         194820 non-null  int64  \n",
                        " 61  Job Description num_unique_words                  194820 non-null  int64  \n",
                        " 62  Job Description num_chars                         194820 non-null  int64  \n",
                        " 63  Job Description num_chars_no_whitespact_and_punt  194820 non-null  int64  \n",
                        " 64  Job Description num_punctuations                  194820 non-null  int64  \n",
                        " 65  Job Description nltk_tokenized                    194820 non-null  object \n",
                        "dtypes: float64(24), int64(13), object(29)\n",
                        "memory usage: 98.1+ MB\n"
                    ]
                }
            ],
            "source": [
                "df_jobs.info()\n"
            ]
        },
        {
            "cell_type": "code",
            "execution_count": 28,
            "id": "69e6640b",
            "metadata": {},
            "outputs": [],
            "source": [
                "assert len(df_jobs) > 0 and isinstance(df_jobs, pd.DataFrame), f'ERORR: LENGTH OF DF = {len(df_jobs)}'\n",
                "df_jobs.to_pickle(f'{df_save_dir}df_jobs_tokenized_spacy_nltk.pkl')\n",
                "df_jobs.to_csv(f'{df_save_dir}df_jobs_tokenized_spacy_nltk.csv', index=False)\n"
            ]
        },
        {
            "cell_type": "markdown",
            "id": "81e54149",
            "metadata": {},
            "source": [
                "# Use gensim to tokenize sentences\n"
            ]
        },
        {
            "cell_type": "markdown",
            "id": "ff307dba",
            "metadata": {},
            "source": [
                "### START HERE IF SOURCING FROM DF_JOBS_TOKENIZED_SPACY_NLTK\n",
                "### PLEASE SET CORRECT DIRECTORY PATHS BELOW\n"
            ]
        },
        {
            "cell_type": "code",
            "execution_count": 29,
            "id": "3f89cb65",
            "metadata": {},
            "outputs": [],
            "source": [
                "import os # type:ignore # isort:skip # fmt:skip # noqa # nopep8\n",
                "import sys # type:ignore # isort:skip # fmt:skip # noqa # nopep8\n",
                "from pathlib import Path # type:ignore # isort:skip # fmt:skip # noqa # nopep8\n",
                "\n",
                "mod = sys.modules[__name__]\n",
                "\n",
                "code_dir = None\n",
                "code_dir_name = 'Code'\n",
                "unwanted_subdir_name = 'Analysis'\n",
                "\n",
                "for _ in range(5):\n",
                "\n",
                "    parent_path = str(Path.cwd().parents[_]).split('/')[-1]\n",
                "\n",
                "    if (code_dir_name in parent_path) and (unwanted_subdir_name not in parent_path):\n",
                "\n",
                "        code_dir = str(Path.cwd().parents[_])\n",
                "\n",
                "        if code_dir is not None:\n",
                "            break\n",
                "\n",
                "sys.path.append(code_dir)\n",
                "# %load_ext autoreload\n",
                "# %autoreload 2\n"
            ]
        },
        {
            "cell_type": "code",
            "execution_count": 30,
            "id": "4ddc01de",
            "metadata": {},
            "outputs": [],
            "source": [
                "from setup_module.imports import * # type:ignore # isort:skip # fmt:skip # noqa # nopep8\n"
            ]
        },
        {
            "cell_type": "code",
            "execution_count": 31,
            "id": "c13d88fb",
            "metadata": {},
            "outputs": [],
            "source": [
                "df_jobs = pd.read_pickle(f'{df_save_dir}df_jobs_tokenized_spacy_nltk.pkl').reset_index(drop=True)\n"
            ]
        },
        {
            "cell_type": "code",
            "execution_count": 32,
            "id": "bc48f290",
            "metadata": {},
            "outputs": [
                {
                    "name": "stdout",
                    "output_type": "stream",
                    "text": [
                        "<class 'pandas.core.frame.DataFrame'>\n",
                        "RangeIndex: 194820 entries, 0 to 194819\n",
                        "Data columns (total 66 columns):\n",
                        " #   Column                                            Non-Null Count   Dtype  \n",
                        "---  ------                                            --------------   -----  \n",
                        " 0   Search Keyword                                    194820 non-null  object \n",
                        " 1   Platform                                          194820 non-null  object \n",
                        " 2   Job ID                                            194820 non-null  object \n",
                        " 3   Job Title                                         194820 non-null  object \n",
                        " 4   Company Name                                      194816 non-null  object \n",
                        " 5   Location                                          194820 non-null  object \n",
                        " 6   Job Description                                   194820 non-null  object \n",
                        " 7   Rating                                            170120 non-null  float64\n",
                        " 8   Employment Type                                   163313 non-null  object \n",
                        " 9   Company URL                                       192654 non-null  object \n",
                        " 10  Job URL                                           194820 non-null  object \n",
                        " 11  Job Age                                           194820 non-null  object \n",
                        " 12  Job Age Number                                    194820 non-null  object \n",
                        " 13  Collection Date                                   194820 non-null  object \n",
                        " 14  Data Row                                          24535 non-null   float64\n",
                        " 15  Tracking ID                                       24535 non-null   object \n",
                        " 16  Industry                                          56207 non-null   object \n",
                        " 17  Job Date                                          24700 non-null   object \n",
                        " 18  Type of ownership                                 31507 non-null   object \n",
                        " 19  Language                                          194820 non-null  object \n",
                        " 20  Dutch Requirement                                 194820 non-null  object \n",
                        " 21  English Requirement                               194820 non-null  object \n",
                        " 22  Sector Code                                       194820 non-null  object \n",
                        " 23  Sector                                            194820 non-null  object \n",
                        " 24  Keywords Count                                    194820 non-null  float64\n",
                        " 25  % per Sector                                      194820 non-null  float64\n",
                        " 26  % per Social Category                             194820 non-null  float64\n",
                        " 27  % per Workforce                                   194820 non-null  float64\n",
                        " 28  Female Count (x 1000)                             194820 non-null  float64\n",
                        " 29  Gender_Female_% per Sector                        194820 non-null  float64\n",
                        " 30  Gender_Female_% per Social Category               194820 non-null  float64\n",
                        " 31  Gender_Female_% per Workforce                     194820 non-null  float64\n",
                        " 32  Male Count (x 1000)                               194820 non-null  float64\n",
                        " 33  Gender_Male_% per Sector                          194820 non-null  float64\n",
                        " 34  Gender_Male_% per Social Category                 194820 non-null  float64\n",
                        " 35  Gender_Male_% per Workforce                       194820 non-null  float64\n",
                        " 36  Gender                                            194820 non-null  object \n",
                        " 37  Age_Older_n                                       194820 non-null  float64\n",
                        " 38  Age_Older_% per Sector                            194820 non-null  float64\n",
                        " 39  Age_Older_% per Social Category                   194820 non-null  float64\n",
                        " 40  Age_Older_% per Workforce                         194820 non-null  float64\n",
                        " 41  Age_Younger_n                                     194820 non-null  float64\n",
                        " 42  Age_Younger_% per Sector                          194820 non-null  float64\n",
                        " 43  Age_Younger_% per Social Category                 194820 non-null  float64\n",
                        " 44  Age_Younger_% per Workforce                       194820 non-null  float64\n",
                        " 45  Age                                               194820 non-null  object \n",
                        " 46  Sector Count (x 1000)                             194820 non-null  float64\n",
                        " 47  % Sector per Workforce                            194820 non-null  float64\n",
                        " 48  Gender_Female                                     194820 non-null  int64  \n",
                        " 49  Gender_Male                                       194820 non-null  int64  \n",
                        " 50  Gender_Mixed                                      194820 non-null  int64  \n",
                        " 51  Age_Mixed                                         194820 non-null  int64  \n",
                        " 52  Age_Older                                         194820 non-null  int64  \n",
                        " 53  Age_Younger                                       194820 non-null  int64  \n",
                        " 54  Gender_Num                                        194820 non-null  int64  \n",
                        " 55  Age_Num                                           194820 non-null  int64  \n",
                        " 56  Job Description spacy_sentencized                 194820 non-null  object \n",
                        " 57  Job Description spacy_sentencized_lower           194820 non-null  object \n",
                        " 58  Job Description spacy_tokenized                   194820 non-null  object \n",
                        " 59  Job Description spacy_sentencized_cleaned         194820 non-null  object \n",
                        " 60  Job Description num_words                         194820 non-null  int64  \n",
                        " 61  Job Description num_unique_words                  194820 non-null  int64  \n",
                        " 62  Job Description num_chars                         194820 non-null  int64  \n",
                        " 63  Job Description num_chars_no_whitespact_and_punt  194820 non-null  int64  \n",
                        " 64  Job Description num_punctuations                  194820 non-null  int64  \n",
                        " 65  Job Description nltk_tokenized                    194820 non-null  object \n",
                        "dtypes: float64(24), int64(13), object(29)\n",
                        "memory usage: 98.1+ MB\n"
                    ]
                }
            ],
            "source": [
                "df_jobs.info()\n"
            ]
        },
        {
            "cell_type": "code",
            "execution_count": 33,
            "id": "e95fec77",
            "metadata": {},
            "outputs": [
                {
                    "data": {
                        "application/vnd.jupyter.widget-view+json": {
                            "model_id": "d100adeec44d44c9878d5072adaa165f",
                            "version_major": 2,
                            "version_minor": 0
                        },
                        "text/plain": [
                            "progress-bar:   0%|          | 0/194820 [00:00<?, ?it/s]"
                        ]
                    },
                    "metadata": {},
                    "output_type": "display_data"
                },
                {
                    "name": "stdout",
                    "output_type": "stream",
                    "text": [
                        "CPU times: user 46.5 s, sys: 1.78 s, total: 48.3 s\n",
                        "Wall time: 49.4 s\n"
                    ]
                }
            ],
            "source": [
                "%%time\n",
                "pattern = r'[\\n]+|[,]{2,}|[|]{2,}|[\\n\\r]+|(?<=[a-z]\\.)(?=\\s*[A-Z])|(?=\\:+[A-Z])'\n",
                "df_jobs['Job Description gensim_tokenized'] = df_jobs['Job Description spacy_sentencized'].progress_apply(\n",
                "    lambda sentence: preprocess_string(re.sub(pattern, ' ', sentence.strip().lower()))\n",
                ")\n",
                "\n",
                "assert len(df_jobs) > 0 and isinstance(df_jobs, pd.DataFrame), f'ERORR: LENGTH OF DF = {len(df_jobs)}'\n",
                "df_jobs.to_pickle(f'{df_save_dir}df_jobs_tokenized_spacy_nltk_gensim.pkl')\n",
                "df_jobs.to_csv(f'{df_save_dir}df_jobs_tokenized_spacy_nltk_gensim.csv', index=False)\n"
            ]
        },
        {
            "cell_type": "code",
            "execution_count": 34,
            "id": "1cc29198",
            "metadata": {},
            "outputs": [
                {
                    "data": {
                        "text/plain": [
                            "0                                             [client]\n",
                            "1             [global, kyc, organis, ing, coo, domain]\n",
                            "2    [purpos, enabl, peopl, organis, us, bank, serv...\n",
                            "3    [global, kyc, organis, line, defenc, depart, p...\n",
                            "4    [global, kyc, organis, work, colleagu, differ,...\n",
                            "Name: Job Description gensim_tokenized, dtype: object"
                        ]
                    },
                    "execution_count": 34,
                    "metadata": {},
                    "output_type": "execute_result"
                }
            ],
            "source": [
                "df_jobs['Job Description gensim_tokenized'].head()\n"
            ]
        },
        {
            "cell_type": "code",
            "execution_count": 35,
            "id": "0a69a8de",
            "metadata": {},
            "outputs": [
                {
                    "name": "stdout",
                    "output_type": "stream",
                    "text": [
                        "<class 'pandas.core.frame.DataFrame'>\n",
                        "RangeIndex: 194820 entries, 0 to 194819\n",
                        "Data columns (total 67 columns):\n",
                        " #   Column                                            Non-Null Count   Dtype  \n",
                        "---  ------                                            --------------   -----  \n",
                        " 0   Search Keyword                                    194820 non-null  object \n",
                        " 1   Platform                                          194820 non-null  object \n",
                        " 2   Job ID                                            194820 non-null  object \n",
                        " 3   Job Title                                         194820 non-null  object \n",
                        " 4   Company Name                                      194816 non-null  object \n",
                        " 5   Location                                          194820 non-null  object \n",
                        " 6   Job Description                                   194820 non-null  object \n",
                        " 7   Rating                                            170120 non-null  float64\n",
                        " 8   Employment Type                                   163313 non-null  object \n",
                        " 9   Company URL                                       192654 non-null  object \n",
                        " 10  Job URL                                           194820 non-null  object \n",
                        " 11  Job Age                                           194820 non-null  object \n",
                        " 12  Job Age Number                                    194820 non-null  object \n",
                        " 13  Collection Date                                   194820 non-null  object \n",
                        " 14  Data Row                                          24535 non-null   float64\n",
                        " 15  Tracking ID                                       24535 non-null   object \n",
                        " 16  Industry                                          56207 non-null   object \n",
                        " 17  Job Date                                          24700 non-null   object \n",
                        " 18  Type of ownership                                 31507 non-null   object \n",
                        " 19  Language                                          194820 non-null  object \n",
                        " 20  Dutch Requirement                                 194820 non-null  object \n",
                        " 21  English Requirement                               194820 non-null  object \n",
                        " 22  Sector Code                                       194820 non-null  object \n",
                        " 23  Sector                                            194820 non-null  object \n",
                        " 24  Keywords Count                                    194820 non-null  float64\n",
                        " 25  % per Sector                                      194820 non-null  float64\n",
                        " 26  % per Social Category                             194820 non-null  float64\n",
                        " 27  % per Workforce                                   194820 non-null  float64\n",
                        " 28  Female Count (x 1000)                             194820 non-null  float64\n",
                        " 29  Gender_Female_% per Sector                        194820 non-null  float64\n",
                        " 30  Gender_Female_% per Social Category               194820 non-null  float64\n",
                        " 31  Gender_Female_% per Workforce                     194820 non-null  float64\n",
                        " 32  Male Count (x 1000)                               194820 non-null  float64\n",
                        " 33  Gender_Male_% per Sector                          194820 non-null  float64\n",
                        " 34  Gender_Male_% per Social Category                 194820 non-null  float64\n",
                        " 35  Gender_Male_% per Workforce                       194820 non-null  float64\n",
                        " 36  Gender                                            194820 non-null  object \n",
                        " 37  Age_Older_n                                       194820 non-null  float64\n",
                        " 38  Age_Older_% per Sector                            194820 non-null  float64\n",
                        " 39  Age_Older_% per Social Category                   194820 non-null  float64\n",
                        " 40  Age_Older_% per Workforce                         194820 non-null  float64\n",
                        " 41  Age_Younger_n                                     194820 non-null  float64\n",
                        " 42  Age_Younger_% per Sector                          194820 non-null  float64\n",
                        " 43  Age_Younger_% per Social Category                 194820 non-null  float64\n",
                        " 44  Age_Younger_% per Workforce                       194820 non-null  float64\n",
                        " 45  Age                                               194820 non-null  object \n",
                        " 46  Sector Count (x 1000)                             194820 non-null  float64\n",
                        " 47  % Sector per Workforce                            194820 non-null  float64\n",
                        " 48  Gender_Female                                     194820 non-null  int64  \n",
                        " 49  Gender_Male                                       194820 non-null  int64  \n",
                        " 50  Gender_Mixed                                      194820 non-null  int64  \n",
                        " 51  Age_Mixed                                         194820 non-null  int64  \n",
                        " 52  Age_Older                                         194820 non-null  int64  \n",
                        " 53  Age_Younger                                       194820 non-null  int64  \n",
                        " 54  Gender_Num                                        194820 non-null  int64  \n",
                        " 55  Age_Num                                           194820 non-null  int64  \n",
                        " 56  Job Description spacy_sentencized                 194820 non-null  object \n",
                        " 57  Job Description spacy_sentencized_lower           194820 non-null  object \n",
                        " 58  Job Description spacy_tokenized                   194820 non-null  object \n",
                        " 59  Job Description spacy_sentencized_cleaned         194820 non-null  object \n",
                        " 60  Job Description num_words                         194820 non-null  int64  \n",
                        " 61  Job Description num_unique_words                  194820 non-null  int64  \n",
                        " 62  Job Description num_chars                         194820 non-null  int64  \n",
                        " 63  Job Description num_chars_no_whitespact_and_punt  194820 non-null  int64  \n",
                        " 64  Job Description num_punctuations                  194820 non-null  int64  \n",
                        " 65  Job Description nltk_tokenized                    194820 non-null  object \n",
                        " 66  Job Description gensim_tokenized                  194820 non-null  object \n",
                        "dtypes: float64(24), int64(13), object(30)\n",
                        "memory usage: 99.6+ MB\n"
                    ]
                }
            ],
            "source": [
                "df_jobs.info()\n"
            ]
        },
        {
            "cell_type": "code",
            "execution_count": 36,
            "id": "a62be70e",
            "metadata": {},
            "outputs": [],
            "source": [
                "assert len(df_jobs) > 0 and isinstance(df_jobs, pd.DataFrame), f'ERORR: LENGTH OF DF = {len(df_jobs)}'\n",
                "df_jobs.to_pickle(f'{df_save_dir}df_jobs_tokenized_spacy_nltk_gensim.pkl')\n",
                "df_jobs.to_csv(f'{df_save_dir}df_jobs_tokenized_spacy_nltk_gensim.csv', index=False)\n"
            ]
        },
        {
            "cell_type": "markdown",
            "id": "eeb0131f",
            "metadata": {},
            "source": [
                "# Use BERT to tokenize sentences\n"
            ]
        },
        {
            "cell_type": "markdown",
            "id": "efcf30fc",
            "metadata": {},
            "source": [
                "### START HERE IF SOURCING FROM DF_JOBS_TOKENIZED_SPACY_NLTK_GENSIM\n",
                "### PLEASE SET CORRECT DIRECTORY PATHS BELOW\n"
            ]
        },
        {
            "cell_type": "code",
            "execution_count": 37,
            "id": "c81e981f",
            "metadata": {},
            "outputs": [],
            "source": [
                "import os # type:ignore # isort:skip # fmt:skip # noqa # nopep8\n",
                "import sys # type:ignore # isort:skip # fmt:skip # noqa # nopep8\n",
                "from pathlib import Path # type:ignore # isort:skip # fmt:skip # noqa # nopep8\n",
                "\n",
                "mod = sys.modules[__name__]\n",
                "\n",
                "code_dir = None\n",
                "code_dir_name = 'Code'\n",
                "unwanted_subdir_name = 'Analysis'\n",
                "\n",
                "for _ in range(5):\n",
                "\n",
                "    parent_path = str(Path.cwd().parents[_]).split('/')[-1]\n",
                "\n",
                "    if (code_dir_name in parent_path) and (unwanted_subdir_name not in parent_path):\n",
                "\n",
                "        code_dir = str(Path.cwd().parents[_])\n",
                "\n",
                "        if code_dir is not None:\n",
                "            break\n",
                "\n",
                "sys.path.append(code_dir)\n",
                "# %load_ext autoreload\n",
                "# %autoreload 2\n"
            ]
        },
        {
            "cell_type": "code",
            "execution_count": 38,
            "id": "df5d59b2",
            "metadata": {},
            "outputs": [],
            "source": [
                "from setup_module.imports import *  # type:ignore # isort:skip # fmt:skip # noqa # nopep8\n"
            ]
        },
        {
            "cell_type": "code",
            "execution_count": 39,
            "id": "ec899945",
            "metadata": {},
            "outputs": [],
            "source": [
                "df_jobs = pd.read_pickle(f'{df_save_dir}df_jobs_tokenized_spacy_nltk_gensim.pkl').reset_index(drop=True)\n"
            ]
        },
        {
            "cell_type": "code",
            "execution_count": 40,
            "id": "d42a3b60",
            "metadata": {},
            "outputs": [
                {
                    "name": "stdout",
                    "output_type": "stream",
                    "text": [
                        "<class 'pandas.core.frame.DataFrame'>\n",
                        "RangeIndex: 194820 entries, 0 to 194819\n",
                        "Data columns (total 67 columns):\n",
                        " #   Column                                            Non-Null Count   Dtype  \n",
                        "---  ------                                            --------------   -----  \n",
                        " 0   Search Keyword                                    194820 non-null  object \n",
                        " 1   Platform                                          194820 non-null  object \n",
                        " 2   Job ID                                            194820 non-null  object \n",
                        " 3   Job Title                                         194820 non-null  object \n",
                        " 4   Company Name                                      194816 non-null  object \n",
                        " 5   Location                                          194820 non-null  object \n",
                        " 6   Job Description                                   194820 non-null  object \n",
                        " 7   Rating                                            170120 non-null  float64\n",
                        " 8   Employment Type                                   163313 non-null  object \n",
                        " 9   Company URL                                       192654 non-null  object \n",
                        " 10  Job URL                                           194820 non-null  object \n",
                        " 11  Job Age                                           194820 non-null  object \n",
                        " 12  Job Age Number                                    194820 non-null  object \n",
                        " 13  Collection Date                                   194820 non-null  object \n",
                        " 14  Data Row                                          24535 non-null   float64\n",
                        " 15  Tracking ID                                       24535 non-null   object \n",
                        " 16  Industry                                          56207 non-null   object \n",
                        " 17  Job Date                                          24700 non-null   object \n",
                        " 18  Type of ownership                                 31507 non-null   object \n",
                        " 19  Language                                          194820 non-null  object \n",
                        " 20  Dutch Requirement                                 194820 non-null  object \n",
                        " 21  English Requirement                               194820 non-null  object \n",
                        " 22  Sector Code                                       194820 non-null  object \n",
                        " 23  Sector                                            194820 non-null  object \n",
                        " 24  Keywords Count                                    194820 non-null  float64\n",
                        " 25  % per Sector                                      194820 non-null  float64\n",
                        " 26  % per Social Category                             194820 non-null  float64\n",
                        " 27  % per Workforce                                   194820 non-null  float64\n",
                        " 28  Female Count (x 1000)                             194820 non-null  float64\n",
                        " 29  Gender_Female_% per Sector                        194820 non-null  float64\n",
                        " 30  Gender_Female_% per Social Category               194820 non-null  float64\n",
                        " 31  Gender_Female_% per Workforce                     194820 non-null  float64\n",
                        " 32  Male Count (x 1000)                               194820 non-null  float64\n",
                        " 33  Gender_Male_% per Sector                          194820 non-null  float64\n",
                        " 34  Gender_Male_% per Social Category                 194820 non-null  float64\n",
                        " 35  Gender_Male_% per Workforce                       194820 non-null  float64\n",
                        " 36  Gender                                            194820 non-null  object \n",
                        " 37  Age_Older_n                                       194820 non-null  float64\n",
                        " 38  Age_Older_% per Sector                            194820 non-null  float64\n",
                        " 39  Age_Older_% per Social Category                   194820 non-null  float64\n",
                        " 40  Age_Older_% per Workforce                         194820 non-null  float64\n",
                        " 41  Age_Younger_n                                     194820 non-null  float64\n",
                        " 42  Age_Younger_% per Sector                          194820 non-null  float64\n",
                        " 43  Age_Younger_% per Social Category                 194820 non-null  float64\n",
                        " 44  Age_Younger_% per Workforce                       194820 non-null  float64\n",
                        " 45  Age                                               194820 non-null  object \n",
                        " 46  Sector Count (x 1000)                             194820 non-null  float64\n",
                        " 47  % Sector per Workforce                            194820 non-null  float64\n",
                        " 48  Gender_Female                                     194820 non-null  int64  \n",
                        " 49  Gender_Male                                       194820 non-null  int64  \n",
                        " 50  Gender_Mixed                                      194820 non-null  int64  \n",
                        " 51  Age_Mixed                                         194820 non-null  int64  \n",
                        " 52  Age_Older                                         194820 non-null  int64  \n",
                        " 53  Age_Younger                                       194820 non-null  int64  \n",
                        " 54  Gender_Num                                        194820 non-null  int64  \n",
                        " 55  Age_Num                                           194820 non-null  int64  \n",
                        " 56  Job Description spacy_sentencized                 194820 non-null  object \n",
                        " 57  Job Description spacy_sentencized_lower           194820 non-null  object \n",
                        " 58  Job Description spacy_tokenized                   194820 non-null  object \n",
                        " 59  Job Description spacy_sentencized_cleaned         194820 non-null  object \n",
                        " 60  Job Description num_words                         194820 non-null  int64  \n",
                        " 61  Job Description num_unique_words                  194820 non-null  int64  \n",
                        " 62  Job Description num_chars                         194820 non-null  int64  \n",
                        " 63  Job Description num_chars_no_whitespact_and_punt  194820 non-null  int64  \n",
                        " 64  Job Description num_punctuations                  194820 non-null  int64  \n",
                        " 65  Job Description nltk_tokenized                    194820 non-null  object \n",
                        " 66  Job Description gensim_tokenized                  194820 non-null  object \n",
                        "dtypes: float64(24), int64(13), object(30)\n",
                        "memory usage: 99.6+ MB\n"
                    ]
                }
            ],
            "source": [
                "df_jobs.info()\n"
            ]
        },
        {
            "cell_type": "code",
            "execution_count": 41,
            "id": "f8bc6622",
            "metadata": {},
            "outputs": [
                {
                    "name": "stdout",
                    "output_type": "stream",
                    "text": [
                        "Using MPS\n"
                    ]
                },
                {
                    "name": "stderr",
                    "output_type": "stream",
                    "text": [
                        "Some weights of the model checkpoint at bert-base-uncased were not used when initializing BertForSequenceClassification: ['cls.predictions.transform.dense.bias', 'cls.predictions.bias', 'cls.predictions.transform.dense.weight', 'cls.predictions.transform.LayerNorm.weight', 'cls.predictions.transform.LayerNorm.bias', 'cls.seq_relationship.bias', 'cls.predictions.decoder.weight', 'cls.seq_relationship.weight']\n",
                        "- This IS expected if you are initializing BertForSequenceClassification from the checkpoint of a model trained on another task or with another architecture (e.g. initializing a BertForSequenceClassification model from a BertForPreTraining model).\n",
                        "- This IS NOT expected if you are initializing BertForSequenceClassification from the checkpoint of a model that you expect to be exactly identical (initializing a BertForSequenceClassification model from a BertForSequenceClassification model).\n",
                        "Some weights of BertForSequenceClassification were not initialized from the model checkpoint at bert-base-uncased and are newly initialized: ['classifier.bias', 'classifier.weight']\n",
                        "You should probably TRAIN this model on a down-stream task to be able to use it for predictions and inference.\n"
                    ]
                },
                {
                    "data": {
                        "application/vnd.jupyter.widget-view+json": {
                            "model_id": "57a3540eea9b4e68bb90a759631f727e",
                            "version_major": 2,
                            "version_minor": 0
                        },
                        "text/plain": [
                            "progress-bar:   0%|          | 0/194820 [00:00<?, ?it/s]"
                        ]
                    },
                    "metadata": {},
                    "output_type": "display_data"
                },
                {
                    "name": "stderr",
                    "output_type": "stream",
                    "text": [
                        "Token indices sequence length is longer than the specified maximum sequence length for this model (1539 > 512). Running this sequence through the model will result in indexing errors\n"
                    ]
                },
                {
                    "name": "stdout",
                    "output_type": "stream",
                    "text": [
                        "CPU times: user 50.2 s, sys: 2.49 s, total: 52.7 s\n",
                        "Wall time: 55 s\n"
                    ]
                }
            ],
            "source": [
                "%%time\n",
                "max_length = 512\n",
                "returned_tensor = 'pt'\n",
                "cpu_counts = torch.multiprocessing.cpu_count()\n",
                "device = torch.device('mps') if torch.has_mps and torch.backends.mps.is_built() and torch.backends.mps.is_available() else torch.device('cuda') if torch.cuda.is_available() else torch.device('cpu')\n",
                "device_name = str(device.type)\n",
                "print(f'Using {device_name.upper()}')\n",
                "bert_model_name = 'bert-base-uncased'\n",
                "bert_tokenizer = BertTokenizerFast.from_pretrained(bert_model_name, strip_accents = True)\n",
                "bert_model = BertForSequenceClassification.from_pretrained(bert_model_name).to(device)\n",
                "\n",
                "df_jobs['Job Description bert_tokenized'] = df_jobs['Job Description spacy_sentencized'].progress_apply(\n",
                "    lambda sentence: bert_tokenizer.tokenize(str(sentence))\n",
                ")\n",
                "\n",
                "assert len(df_jobs) > 0 and isinstance(df_jobs, pd.DataFrame), f'ERORR: LENGTH OF DF = {len(df_jobs)}'\n",
                "df_jobs.to_pickle(f'{df_save_dir}df_jobs_tokenized_spacy_nltk_gensim_bert.pkl')\n",
                "df_jobs.to_csv(f'{df_save_dir}df_jobs_tokenized_spacy_nltk_gensim_bert.csv', index=False)\n"
            ]
        },
        {
            "cell_type": "code",
            "execution_count": 42,
            "id": "9ae92181",
            "metadata": {},
            "outputs": [
                {
                    "data": {
                        "text/plain": [
                            "0                                 [about, our, client]\n",
                            "1    [the, global, ky, ##c, organisation, is, part,...\n",
                            "2    [its, purpose, is, enabling, people, and, orga...\n",
                            "3    [our, global, ky, ##c, organisation, is, a, fi...\n",
                            "4    [in, our, global, ky, ##c, organisation, you, ...\n",
                            "Name: Job Description bert_tokenized, dtype: object"
                        ]
                    },
                    "execution_count": 42,
                    "metadata": {},
                    "output_type": "execute_result"
                }
            ],
            "source": [
                "df_jobs['Job Description bert_tokenized'].head()\n"
            ]
        },
        {
            "cell_type": "code",
            "execution_count": 43,
            "id": "8936c818",
            "metadata": {},
            "outputs": [],
            "source": [
                "assert len(df_jobs) > 0 and isinstance(df_jobs, pd.DataFrame), f'ERORR: LENGTH OF DF = {len(df_jobs)}'\n",
                "df_jobs.to_pickle(f'{df_save_dir}df_jobs_tokenized_spacy_nltk_gensim_bert.pkl')\n",
                "df_jobs.to_csv(f'{df_save_dir}df_jobs_tokenized_spacy_nltk_gensim_bert.csv', index=False)\n"
            ]
        },
        {
            "cell_type": "code",
            "execution_count": null,
            "id": "45c900fb",
            "metadata": {},
            "outputs": [],
            "source": []
        }
    ],
    "metadata": {
        "kernelspec": {
            "display_name": "study1_3.10",
            "language": "python",
            "name": "python3"
        },
        "language_info": {
            "codemirror_mode": {
                "name": "ipython",
                "version": 3
            },
            "file_extension": ".py",
            "mimetype": "text/x-python",
            "name": "python",
            "nbconvert_exporter": "python",
            "pygments_lexer": "ipython3",
            "version": "3.10.10"
        },
        "varInspector": {
            "cols": {
                "lenName": 16,
                "lenType": 16,
                "lenVar": 40
            },
            "kernels_config": {
                "python": {
                    "delete_cmd_postfix": "",
                    "delete_cmd_prefix": "del ",
                    "library": "var_list.py",
                    "varRefreshCmd": "print(var_dic_list())"
                },
                "r": {
                    "delete_cmd_postfix": ") ",
                    "delete_cmd_prefix": "rm(",
                    "library": "var_list.r",
                    "varRefreshCmd": "cat(var_dic_list()) "
                }
            },
            "types_to_exclude": [
                "module",
                "function",
                "builtin_function_or_method",
                "instance",
                "_Feature"
            ],
            "window_display": false
        }
    },
    "nbformat": 4,
    "nbformat_minor": 5
}
