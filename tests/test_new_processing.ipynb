{
 "cells": [
  {
   "cell_type": "code",
   "execution_count": 1,
   "id": "9f7d3efa",
   "metadata": {},
   "outputs": [],
   "source": [
    "import os\n",
    "import sys\n",
    "import importlib\n",
    "from pathlib import Path\n",
    "\n",
    "mod = sys.modules[__name__]\n",
    "\n",
    "code_dir = None\n",
    "code_dir_name = 'Code'\n",
    "unwanted_subdir_name = 'Analysis'\n",
    "\n",
    "for _ in range(5):\n",
    "\n",
    "    parent_path = str(Path.cwd().parents[_]).split('/')[-1]\n",
    "\n",
    "    if (code_dir_name in parent_path) and (unwanted_subdir_name not in parent_path):\n",
    "\n",
    "        code_dir = str(Path.cwd().parents[_])\n",
    "\n",
    "        if code_dir is not None:\n",
    "            break\n",
    "\n",
    "# %load_ext autoreload\n",
    "# %autoreload 2"
   ]
  },
  {
   "cell_type": "code",
   "execution_count": 2,
   "id": "189dea97",
   "metadata": {},
   "outputs": [],
   "source": [
    "# MAIN DIR\n",
    "main_dir = f'{str(Path(code_dir).parents[0])}/'\n",
    "\n",
    "# code_dir\n",
    "code_dir = f'{code_dir}/'\n",
    "sys.path.append(code_dir)\n",
    "\n",
    "# scraping dir\n",
    "scraped_data = f'{code_dir}scraped_data/'\n",
    "\n",
    "# data dir\n",
    "data_dir = f'{code_dir}data/'\n",
    "\n",
    "# lang models dir\n",
    "llm_path = f'{data_dir}Language Models'\n",
    "\n",
    "# sites\n",
    "site_list=['Indeed', 'Glassdoor', 'LinkedIn']\n",
    "\n",
    "# columns\n",
    "cols=['Sector', \n",
    "      'Sector Code', \n",
    "      'Gender', \n",
    "      'Age', \n",
    "      'Language', \n",
    "      'Dutch Requirement', \n",
    "      'English Requirement', \n",
    "      'Gender_Female', \n",
    "      'Gender_Mixed', \n",
    "      'Gender_Male', \n",
    "      'Age_Older', \n",
    "      'Age_Mixed', \n",
    "      'Age_Younger', \n",
    "      'Gender_Num', \n",
    "      'Age_Num', \n",
    "      '% Female', \n",
    "      '% Male', \n",
    "      '% Older', \n",
    "      '% Younger']\n",
    "\n",
    "int_variable: str = 'Job ID'\n",
    "str_variable: str = 'Job Description'\n",
    "gender: str = 'Gender'\n",
    "age: str = 'Age'\n",
    "language: str = 'en'\n",
    "str_cols = ['Search Keyword', 'Platform', 'Job ID', 'Job Title', 'Company Name', 'Location', 'Job Description', 'Company URL', 'Job URL', 'Tracking ID']\n",
    "# pattern = r'[\\n\\r]+|(?<=[a-z]\\.)(?=\\s*[A-Z])|(?<=[a-z])(?=[A-Z])'\n",
    "pattern = r'[\\n\\r]+|(?<=[a-z]\\.)|(?<=[a-z])'\n"
   ]
  },
  {
   "cell_type": "code",
   "execution_count": 3,
   "id": "21414866",
   "metadata": {},
   "outputs": [],
   "source": [
    "import os\n",
    "import sys\n",
    "import re\n",
    "import time\n",
    "import json\n",
    "import csv\n",
    "import glob\n",
    "import pickle\n",
    "import pandas as pd\n",
    "import googletrans\n",
    "from pathlib import Path\n",
    "from googletrans import Translator\n",
    "import nltk\n",
    "from nltk.tokenize import sent_tokenize, word_tokenize\n",
    "from spacy.pipeline import Sentencizer\n"
   ]
  },
  {
   "cell_type": "code",
   "execution_count": 4,
   "id": "8c22dfd6",
   "metadata": {},
   "outputs": [],
   "source": [
    "df_jobs = pd.read_pickle(f'{data_dir}df_jobs_raw_dropped.pkl').reset_index(drop=True)\n"
   ]
  },
  {
   "cell_type": "code",
   "execution_count": 5,
   "id": "15d45507",
   "metadata": {},
   "outputs": [],
   "source": [
    "df_jobs = df_jobs[:100]"
   ]
  },
  {
   "cell_type": "code",
   "execution_count": 6,
   "id": "1039d08d",
   "metadata": {},
   "outputs": [],
   "source": [
    "# df_jobs = df_jobs.sample(n=100, random_state=1)"
   ]
  },
  {
   "cell_type": "code",
   "execution_count": 7,
   "id": "f7b23278",
   "metadata": {},
   "outputs": [],
   "source": [
    "# df_jobs = pd.read_pickle(f'{data_dir}df_jobs_raw_glob_paths_10.pkl').reset_index(drop=True)\n"
   ]
  },
  {
   "cell_type": "code",
   "execution_count": 8,
   "id": "c9c9ce03",
   "metadata": {},
   "outputs": [
    {
     "name": "stdout",
     "output_type": "stream",
     "text": [
      "<class 'pandas.core.frame.DataFrame'>\n",
      "RangeIndex: 100 entries, 0 to 99\n",
      "Data columns (total 19 columns):\n",
      " #   Column             Non-Null Count  Dtype  \n",
      "---  ------             --------------  -----  \n",
      " 0   Search Keyword     100 non-null    object \n",
      " 1   Platform           100 non-null    object \n",
      " 2   Job ID             100 non-null    object \n",
      " 3   Job Title          100 non-null    object \n",
      " 4   Company Name       100 non-null    object \n",
      " 5   Location           100 non-null    object \n",
      " 6   Job Description    100 non-null    object \n",
      " 7   Rating             100 non-null    float64\n",
      " 8   Employment Type    100 non-null    object \n",
      " 9   Company URL        100 non-null    object \n",
      " 10  Job URL            100 non-null    object \n",
      " 11  Job Age            100 non-null    object \n",
      " 12  Job Age Number     100 non-null    object \n",
      " 13  Collection Date    100 non-null    object \n",
      " 14  Data Row           0 non-null      float64\n",
      " 15  Tracking ID        0 non-null      object \n",
      " 16  Industry           0 non-null      object \n",
      " 17  Job Date           0 non-null      object \n",
      " 18  Type of ownership  0 non-null      object \n",
      "dtypes: float64(2), object(17)\n",
      "memory usage: 15.0+ KB\n"
     ]
    }
   ],
   "source": [
    "df_jobs.info()\n"
   ]
  },
  {
   "cell_type": "code",
   "execution_count": 9,
   "id": "1fee089f",
   "metadata": {},
   "outputs": [
    {
     "data": {
      "text/plain": [
       "Index(['Search Keyword', 'Platform', 'Job ID', 'Job Title', 'Company Name',\n",
       "       'Location', 'Job Description', 'Rating', 'Employment Type',\n",
       "       'Company URL', 'Job URL', 'Job Age', 'Job Age Number',\n",
       "       'Collection Date', 'Data Row', 'Tracking ID', 'Industry', 'Job Date',\n",
       "       'Type of ownership'],\n",
       "      dtype='object')"
      ]
     },
     "execution_count": 9,
     "metadata": {},
     "output_type": "execute_result"
    }
   ],
   "source": [
    "df_jobs.columns\n"
   ]
  },
  {
   "cell_type": "code",
   "execution_count": 10,
   "id": "a22cc6b5",
   "metadata": {},
   "outputs": [],
   "source": [
    "str_fix_incl = 'Apply appropriate and effective communication methods to senior management and important stakeholders \\(incl.'\n",
    "str_fix_eg = 'Partner with Procurement in order to manage suppliers for the projects & programs in scope, e.g.'\n",
    "\n"
   ]
  },
  {
   "cell_type": "code",
   "execution_count": 11,
   "id": "9884dfe1",
   "metadata": {},
   "outputs": [
    {
     "data": {
      "text/plain": [
       "1"
      ]
     },
     "execution_count": 11,
     "metadata": {},
     "output_type": "execute_result"
    }
   ],
   "source": [
    "len(df_jobs.loc[(df_jobs['Job Description'].str.contains(str_fix_incl)) | (df_jobs['Job Description'].str.contains(str_fix_eg))])\n"
   ]
  },
  {
   "cell_type": "code",
   "execution_count": 12,
   "id": "8e556d0b",
   "metadata": {},
   "outputs": [],
   "source": [
    "# job_descriptions = list(set(df_jobs_incl['Job Description'].to_list()))\n"
   ]
  },
  {
   "cell_type": "code",
   "execution_count": 13,
   "id": "9da09d15",
   "metadata": {},
   "outputs": [],
   "source": [
    "job_descriptions = list(\n",
    "    set(\n",
    "        df_jobs['Job Description'].loc[\n",
    "            (df_jobs['Job Description'].str.contains(str_fix_incl)) |\n",
    "            (df_jobs['Job Description'].str.contains(str_fix_eg))\n",
    "        ].to_list()\n",
    "    )\n",
    ")\n"
   ]
  },
  {
   "cell_type": "code",
   "execution_count": 14,
   "id": "0de4de75",
   "metadata": {},
   "outputs": [
    {
     "data": {
      "text/plain": [
       "1"
      ]
     },
     "execution_count": 14,
     "metadata": {},
     "output_type": "execute_result"
    }
   ],
   "source": [
    "len(job_descriptions)\n"
   ]
  },
  {
   "cell_type": "code",
   "execution_count": 15,
   "id": "eaf53549",
   "metadata": {},
   "outputs": [
    {
     "name": "stderr",
     "output_type": "stream",
     "text": [
      "[nltk_data] Downloading package words to\n",
      "[nltk_data]     /Users/nyxinsane/Documents/Work - UvA/Automating\n",
      "[nltk_data]     Equity/Study 1/Study1_Code/data/Language\n",
      "[nltk_data]     Models/nltk...\n",
      "[nltk_data]   Package words is already up-to-date!\n",
      "[nltk_data] Downloading package punkt to\n",
      "[nltk_data]     /Users/nyxinsane/Documents/Work - UvA/Automating\n",
      "[nltk_data]     Equity/Study 1/Study1_Code/data/Language\n",
      "[nltk_data]     Models/nltk...\n",
      "[nltk_data]   Package punkt is already up-to-date!\n",
      "[nltk_data] Downloading package stopwords to\n",
      "[nltk_data]     /Users/nyxinsane/Documents/Work - UvA/Automating\n",
      "[nltk_data]     Equity/Study 1/Study1_Code/data/Language\n",
      "[nltk_data]     Models/nltk...\n",
      "[nltk_data]   Package stopwords is already up-to-date!\n"
     ]
    },
    {
     "data": {
      "text/plain": [
       "True"
      ]
     },
     "execution_count": 15,
     "metadata": {},
     "output_type": "execute_result"
    }
   ],
   "source": [
    "# Load NLK\n",
    "from nltk.tokenize import sent_tokenize, word_tokenize\n",
    "nltk_path = f'{llm_path}/nltk'\n",
    "nltk.data.path.append(nltk_path)\n",
    "\n",
    "nltk.download('words', download_dir = nltk_path)\n",
    "nltk.download('punkt', download_dir = nltk_path)\n",
    "nltk.download('stopwords', download_dir = nltk_path)\n"
   ]
  },
  {
   "cell_type": "code",
   "execution_count": 16,
   "id": "87f15f9f",
   "metadata": {},
   "outputs": [
    {
     "data": {
      "text/plain": [
       "'suppliers for the projects & programs in scope, e.g. interviews, staffing, supplier costs.\\n\\nCommunication / stakeholder management\\nAct as the key contact person for strategic stakeholders.\\nApply appropriate and effective communication methods to senior management and important stakeholders (incl. vendor) throughout the project lifecycle.\\nAs conflicts and escalations arise within projects, identify solutions and manage the resolution in a timely and appropriate manner.\\nDrive change management act'"
      ]
     },
     "execution_count": 16,
     "metadata": {},
     "output_type": "execute_result"
    }
   ],
   "source": [
    "job_descriptions[0][1500:2000]"
   ]
  },
  {
   "cell_type": "code",
   "execution_count": 17,
   "id": "7771bf66",
   "metadata": {},
   "outputs": [],
   "source": [
    "# pattern = r'[\\n\\r]+|(?<=[a-z]\\.)(?=\\s*[A-Z])|(?<=[a-z])(?=[A-Z])'\n",
    "pattern = r'[\\n]+|[,]{2,}|[|]{2,}|[\\n\\r]+|(?<=[a-z]\\.)(?=\\s*[A-Z])|(?=\\:+[A-Z])'\n",
    "\n"
   ]
  },
  {
   "cell_type": "code",
   "execution_count": 18,
   "id": "483e577d",
   "metadata": {},
   "outputs": [],
   "source": [
    "# nltk_sentencizer = []\n",
    "\n",
    "# for job_description in job_descriptions:\n",
    "#     for sentence in sent_tokenize(job_description):\n",
    "#         for sent in re.split(pattern, sentence):\n",
    "#             nltk_sentencizer.append(sent)"
   ]
  },
  {
   "cell_type": "code",
   "execution_count": 123,
   "id": "3defa20d",
   "metadata": {},
   "outputs": [],
   "source": [
    "nltk_sentencizer = [\n",
    "    sent \n",
    "    for job_description in job_descriptions \n",
    "    for sentence in sent_tokenize(job_description) \n",
    "    for sent in re.split(pattern, sentence)\n",
    "    if len(sent) != 0\n",
    "]"
   ]
  },
  {
   "cell_type": "code",
   "execution_count": 120,
   "id": "404ce3ca",
   "metadata": {},
   "outputs": [],
   "source": [
    "test_nltk_sentencizer = [\n",
    "    sentence \n",
    "    for job_description in job_descriptions \n",
    "    for sentence in sent_tokenize(job_description) \n",
    "#     for sent in re.split(pattern, sentence)\n",
    "    if len(sent) != 0\n",
    "]"
   ]
  },
  {
   "cell_type": "code",
   "execution_count": 121,
   "id": "bca9dc9b",
   "metadata": {},
   "outputs": [
    {
     "data": {
      "text/plain": [
       "26"
      ]
     },
     "execution_count": 121,
     "metadata": {},
     "output_type": "execute_result"
    }
   ],
   "source": [
    "len(test_nltk_sentencizer)"
   ]
  },
  {
   "cell_type": "code",
   "execution_count": 122,
   "id": "b41edb69",
   "metadata": {},
   "outputs": [
    {
     "data": {
      "text/plain": [
       "25"
      ]
     },
     "execution_count": 122,
     "metadata": {},
     "output_type": "execute_result"
    }
   ],
   "source": [
    "next(idx for idx, sent in enumerate(test_nltk_sentencizer) if 'Power' in sent)"
   ]
  },
  {
   "cell_type": "code",
   "execution_count": 118,
   "id": "b8f12fd2",
   "metadata": {},
   "outputs": [
    {
     "data": {
      "text/plain": [
       "'3+ years of experience in leading a team\\n\\nSoft-Skills\\nVery good communication skills, especially when interacting with different levels of business\\nAbility to work in a fast-paced environment with different international cultures\\nAbility to handle ambiguity and untangle complex situations into actionable activities\\nDistinctive strategic mindset and ability to prioritize and delegate high numbers of tasks with varying workload and importance\\nSolutions-oriented approach and entrepreneurial mindset\\nGood numerical and analytical skills\\nHighly developed leadership skills are required\\n\\nHard-Skills\\nKnowledge of digital technologies and communications platforms and culture\\nStrong MS-Office skills (Word, Excel, PowerPoint)\\nAbility to travel, domestic or international, as required\\nIn-depth understanding of IT\\nFluent English both verbally and written'"
      ]
     },
     "execution_count": 118,
     "metadata": {},
     "output_type": "execute_result"
    }
   ],
   "source": [
    "t[25]"
   ]
  },
  {
   "cell_type": "code",
   "execution_count": 80,
   "id": "b2e74865",
   "metadata": {},
   "outputs": [],
   "source": [
    "# nltk_sentencizer"
   ]
  },
  {
   "cell_type": "code",
   "execution_count": 114,
   "id": "ce6c6596",
   "metadata": {},
   "outputs": [
    {
     "data": {
      "text/plain": [
       "70"
      ]
     },
     "execution_count": 114,
     "metadata": {},
     "output_type": "execute_result"
    }
   ],
   "source": [
    "len(nltk_sentencizer)"
   ]
  },
  {
   "cell_type": "code",
   "execution_count": 82,
   "id": "0bde1c22",
   "metadata": {},
   "outputs": [
    {
     "name": "stdout",
     "output_type": "stream",
     "text": [
      "18\n"
     ]
    }
   ],
   "source": [
    "for idx, sent in enumerate(nltk_sentencizer):\n",
    "    if str_fix_eg in sent:\n",
    "        print(idx)"
   ]
  },
  {
   "cell_type": "code",
   "execution_count": 74,
   "id": "8fdc134b",
   "metadata": {},
   "outputs": [
    {
     "name": "stdout",
     "output_type": "stream",
     "text": [
      "22\n"
     ]
    }
   ],
   "source": [
    "# str_fix = 'Apply appropriate and effective communication methods to senior management and important stakeholders \\(incl.'\n",
    "\n",
    "for idx, sent in enumerate(nltk_sentencizer):\n",
    "    if str_fix_incl.split('\\(')[0] in sent:\n",
    "        print(idx)"
   ]
  },
  {
   "cell_type": "code",
   "execution_count": 107,
   "id": "1548e80f",
   "metadata": {},
   "outputs": [
    {
     "data": {
      "text/plain": [
       "18"
      ]
     },
     "execution_count": 107,
     "metadata": {},
     "output_type": "execute_result"
    }
   ],
   "source": [
    "next(idx for idx, sent in enumerate(nltk_sentencizer) if str_fix_eg in sent)"
   ]
  },
  {
   "cell_type": "code",
   "execution_count": 108,
   "id": "c1476b3e",
   "metadata": {},
   "outputs": [
    {
     "data": {
      "text/plain": [
       "['Partner with Procurement in order to manage suppliers for the projects & programs in scope, e.g.',\n",
       " 'interviews, staffing, supplier costs.',\n",
       " 'Communication / stakeholder management',\n",
       " 'Act as the key contact person for strategic stakeholders.',\n",
       " 'Apply appropriate and effective communication methods to senior management and important stakeholders (incl.',\n",
       " 'vendor) throughout the project lifecycle.']"
      ]
     },
     "execution_count": 108,
     "metadata": {},
     "output_type": "execute_result"
    }
   ],
   "source": [
    "# sentences split on e.g. and incl.\n",
    "nltk_sentencizer[18:24]"
   ]
  },
  {
   "cell_type": "code",
   "execution_count": 76,
   "id": "4da72e0a",
   "metadata": {},
   "outputs": [
    {
     "name": "stdout",
     "output_type": "stream",
     "text": [
      "66\n"
     ]
    }
   ],
   "source": [
    "for idx, sent in enumerate(nltk_sentencizer):\n",
    "    if 'Power' in sent:\n",
    "        print(idx)"
   ]
  },
  {
   "cell_type": "code",
   "execution_count": 111,
   "id": "3013d2fa",
   "metadata": {},
   "outputs": [
    {
     "data": {
      "text/plain": [
       "66"
      ]
     },
     "execution_count": 111,
     "metadata": {},
     "output_type": "execute_result"
    }
   ],
   "source": [
    "next(idx for idx, sent in enumerate(nltk_sentencizer) if 'Power' in sent)"
   ]
  },
  {
   "cell_type": "code",
   "execution_count": 77,
   "id": "6ece8b51",
   "metadata": {},
   "outputs": [
    {
     "data": {
      "text/plain": [
       "'Strong MS-Office skills (Word, Excel, PowerPoint)'"
      ]
     },
     "execution_count": 77,
     "metadata": {},
     "output_type": "execute_result"
    }
   ],
   "source": [
    "nltk_sentencizer[66]"
   ]
  },
  {
   "cell_type": "code",
   "execution_count": 78,
   "id": "47c2a40e",
   "metadata": {},
   "outputs": [
    {
     "name": "stdout",
     "output_type": "stream",
     "text": [
      "Sentence 1: Partner with Procurement in order to manage suppliers for the projects & programs in scope, e.g.\n",
      "\n",
      "Sentence 2: interviews, staffing, supplier costs.\n",
      "\n",
      "Sentence 3: Communication / stakeholder management\n",
      "\n",
      "Sentence 4: Act as the key contact person for strategic stakeholders.\n",
      "\n",
      "Sentence 5: Apply appropriate and effective communication methods to senior management and important stakeholders (incl.\n",
      "\n",
      "Sentence 6: vendor) throughout the project lifecycle.\n",
      "\n"
     ]
    }
   ],
   "source": [
    "for idx, sentence in enumerate(nltk_sentencizer[18:24]):\n",
    "    print(f'Sentence {idx+1}: {sentence}\\n')"
   ]
  },
  {
   "cell_type": "code",
   "execution_count": 26,
   "id": "8d5e14c6",
   "metadata": {},
   "outputs": [],
   "source": [
    "# Function to make a list of punctuations that determine sentence boundry, i.e., split characters\n",
    "def make_custom_punct_chars(main_punct_chars = [':', '|'], repeated_punct_chars = ['\\n', ',']):\n",
    "    custom_punct_chars = []\n",
    "    temp_multi = []\n",
    "    temp_spaced = []\n",
    "\n",
    "    for punct_char in main_punct_chars:\n",
    "        custom_punct_chars+= f'{punct_char}', f'{punct_char} '\n",
    "\n",
    "    for idx in range(4):\n",
    "        for punct_char in repeated_punct_chars:\n",
    "            temp_multi.append(f'{punct_char}'*int(idx+1))\n",
    "            temp_spaced.append(f'{punct_char} '*int(idx+1))\n",
    "\n",
    "    for multi, spaced in zip(temp_multi, temp_spaced):\n",
    "        custom_punct_chars+= multi, spaced\n",
    "\n",
    "    custom_punct_chars.remove(',')\n",
    "    custom_punct_chars.remove(', ')\n",
    "\n",
    "    return custom_punct_chars\n"
   ]
  },
  {
   "cell_type": "code",
   "execution_count": 27,
   "id": "0c7f61ac",
   "metadata": {},
   "outputs": [],
   "source": [
    "custom_punct_chars = make_custom_punct_chars()"
   ]
  },
  {
   "cell_type": "code",
   "execution_count": 28,
   "id": "183846a4",
   "metadata": {},
   "outputs": [
    {
     "data": {
      "text/plain": [
       "[':',\n",
       " ': ',\n",
       " '|',\n",
       " '| ',\n",
       " '\\n',\n",
       " '\\n ',\n",
       " '\\n\\n',\n",
       " '\\n \\n ',\n",
       " ',,',\n",
       " ', , ',\n",
       " '\\n\\n\\n',\n",
       " '\\n \\n \\n ',\n",
       " ',,,',\n",
       " ', , , ',\n",
       " '\\n\\n\\n\\n',\n",
       " '\\n \\n \\n \\n ',\n",
       " ',,,,',\n",
       " ', , , , ']"
      ]
     },
     "execution_count": 28,
     "metadata": {},
     "output_type": "execute_result"
    }
   ],
   "source": [
    "custom_punct_chars"
   ]
  },
  {
   "cell_type": "code",
   "execution_count": 29,
   "id": "5c845236",
   "metadata": {},
   "outputs": [],
   "source": [
    "# Set up Spacy\n",
    "import spacy\n",
    "from spacy.symbols import ORTH, LEMMA\n",
    "\n",
    "nlp = spacy.load('en_core_web_sm')\n"
   ]
  },
  {
   "cell_type": "code",
   "execution_count": 30,
   "id": "cd2f4b63",
   "metadata": {},
   "outputs": [],
   "source": [
    "sentencizer = nlp.add_pipe('sentencizer')\n",
    "sentencizer.punct_chars.update(custom_punct_chars)\n"
   ]
  },
  {
   "cell_type": "code",
   "execution_count": 31,
   "id": "37292ea3",
   "metadata": {},
   "outputs": [],
   "source": [
    "if all(custom_punct_char in sentencizer.punct_chars for custom_punct_char in custom_punct_chars):\n",
    "    with open(f'{data_dir}punctuations.txt', 'wb') as f:\n",
    "        pickle.dump(sentencizer.punct_chars, f)"
   ]
  },
  {
   "cell_type": "code",
   "execution_count": 32,
   "id": "08e8ecda",
   "metadata": {},
   "outputs": [],
   "source": [
    "with open(f'{data_dir}punctuations.txt', 'rb') as f:\n",
    "    custom_punct_char = pickle.load(f)"
   ]
  },
  {
   "cell_type": "code",
   "execution_count": 33,
   "id": "52198bdc",
   "metadata": {},
   "outputs": [],
   "source": [
    "# special_cases = {\":)\": [{\"ORTH\": \":)\"}]}\n",
    "# prefix_re = re.compile(r'''^[\\\\[\\\\(\"']''')\n",
    "# suffix_re = re.compile(r'''[\\\\]\\\\)\"']$''')\n",
    "# infix_re = re.compile(r'''[-~]''')\n",
    "# simple_url_re = re.compile(r'''^https?://''')\n",
    "\n",
    "# def custom_tokenizer(nlp):\n",
    "#     return Tokenizer(nlp.vocab, rules=special_cases,\n",
    "#                                 prefix_search=prefix_re.search,\n",
    "#                                 suffix_search=suffix_re.search,\n",
    "#                                 infix_finditer=infix_re.finditer,\n",
    "#                                 url_match=simple_url_re.match)"
   ]
  },
  {
   "cell_type": "code",
   "execution_count": 34,
   "id": "a65795c6",
   "metadata": {},
   "outputs": [],
   "source": [
    "# nlp = spacy.load('en_core_web_sm')\n",
    "# nlp.tokenizer.add_special_case('incl.', [{ORTH: 'incl', LEMMA: 'including'}])\n"
   ]
  },
  {
   "cell_type": "code",
   "execution_count": 35,
   "id": "6425cf27",
   "metadata": {},
   "outputs": [],
   "source": [
    "# from spacy.symbols import ORTH, LEMMA\n",
    "\n",
    "special_cases_dict = {\n",
    "    'incl.': [{65: 'incl', 67: 'including'}],\n",
    "    'incl. ': [{65: 'incl', 67: 'including'}],\n",
    "    '(incl.': [{65: 'incl', 67: 'including'}],\n",
    "    'etc.': [{65: 'etc', 67: 'et cetera'}],\n",
    "    'etc. ': [{65: 'etc', 67: 'et cetera'}],\n",
    "    'e.g.': [{65: 'e.g', 67: 'for example'}],\n",
    "    'e.g. ': [{65: 'e.g', 67: 'for example'}],\n",
    "}\n",
    "\n",
    "nlp.tokenizer.rules.update(special_cases_dict)\n"
   ]
  },
  {
   "cell_type": "code",
   "execution_count": 36,
   "id": "4987aa13",
   "metadata": {},
   "outputs": [
    {
     "data": {
      "text/plain": [
       "[{65: 'e.g', 67: 'for example'}]"
      ]
     },
     "execution_count": 36,
     "metadata": {},
     "output_type": "execute_result"
    }
   ],
   "source": [
    "nlp.tokenizer.rules['e.g.']"
   ]
  },
  {
   "cell_type": "code",
   "execution_count": 37,
   "id": "fbbafd3c",
   "metadata": {},
   "outputs": [],
   "source": [
    "# [y for x in a for y in [x[0]] * x[1]]\n"
   ]
  },
  {
   "cell_type": "code",
   "execution_count": 84,
   "id": "c760575c",
   "metadata": {},
   "outputs": [],
   "source": [
    "# # Spacy sentencizer\n",
    "# spacy_sentencizer = []\n",
    "\n",
    "# if all(custom_punct_char in sentencizer.punct_chars for custom_punct_char in custom_punct_chars):\n",
    "#     for job_description in job_descriptions:\n",
    "#         for sentence in nlp(job_description).sents:\n",
    "#             for sent in re.split(pattern, sentence.text):\n",
    "#                 if len(sent) != 0:\n",
    "#                     spacy_sentencizer.append(sent)\n",
    "# #         doc = nlp(job_description)\n",
    "# #         spacy_sentencizer.extend([sent.text for sent in nlp(job_description).sents])\n"
   ]
  },
  {
   "cell_type": "code",
   "execution_count": 169,
   "id": "aa78330b",
   "metadata": {},
   "outputs": [],
   "source": [
    "# Spacy tokenizer\n",
    "spacy_tokenizer = []\n",
    "\n",
    "if all(custom_punct_char in sentencizer.punct_chars for custom_punct_char in custom_punct_chars):\n",
    "    for job_sentence in spacy_sentencizer:\n",
    "        for token in nlp.tokenizer(job_sentence):\n",
    "            if len(token.text) > 1 and token.text not in custom_punct_chars and not token.is_stop:\n",
    "                spacy_tokenizer.append(token.text)"
   ]
  },
  {
   "cell_type": "code",
   "execution_count": 170,
   "id": "78f574e5",
   "metadata": {},
   "outputs": [
    {
     "data": {
      "text/plain": [
       "str"
      ]
     },
     "execution_count": 170,
     "metadata": {},
     "output_type": "execute_result"
    }
   ],
   "source": [
    "type(spacy_tokenizer[0])"
   ]
  },
  {
   "cell_type": "code",
   "execution_count": 171,
   "id": "b715ec90",
   "metadata": {},
   "outputs": [
    {
     "data": {
      "text/plain": [
       "488"
      ]
     },
     "execution_count": 171,
     "metadata": {},
     "output_type": "execute_result"
    }
   ],
   "source": [
    "len(spacy_tokenizer)"
   ]
  },
  {
   "cell_type": "code",
   "execution_count": 172,
   "id": "d92c5a79",
   "metadata": {},
   "outputs": [
    {
     "data": {
      "text/plain": [
       "['Purpose',\n",
       " 'Studio',\n",
       " 'Director',\n",
       " 'Special',\n",
       " 'Projects',\n",
       " 'adidas',\n",
       " 'Digital',\n",
       " 'task',\n",
       " 'manage',\n",
       " 'deliver',\n",
       " 'Studio',\n",
       " 'programs',\n",
       " 'including',\n",
       " 'projects',\n",
       " 'roadmap',\n",
       " 'program',\n",
       " 'scope',\n",
       " 'comprise',\n",
       " 'multiple',\n",
       " 'countries',\n",
       " 'functions',\n",
       " 'objective',\n",
       " 'conduct',\n",
       " 'projects',\n",
       " 'boundaries',\n",
       " 'time',\n",
       " 'cost',\n",
       " 'quality',\n",
       " 'focusing',\n",
       " 'consumers',\n",
       " 'expectations',\n",
       " 'requirements',\n",
       " 'Planning',\n",
       " 'executing',\n",
       " 'tracking',\n",
       " 'projects',\n",
       " 'programs',\n",
       " 'cooperation',\n",
       " 'respective',\n",
       " 'functions',\n",
       " 'project',\n",
       " 'team',\n",
       " 'members',\n",
       " 'examples',\n",
       " 'expected',\n",
       " 'role',\n",
       " 'Additionally',\n",
       " 'focusing',\n",
       " 'resource',\n",
       " 'planning',\n",
       " 'vendor',\n",
       " 'management',\n",
       " 'coordination',\n",
       " 'activities',\n",
       " 'acting',\n",
       " 'central',\n",
       " 'interface',\n",
       " 'key',\n",
       " 'stakeholders',\n",
       " 'Scope',\n",
       " 'Manage',\n",
       " 'deliver',\n",
       " 'Studio',\n",
       " 'programs',\n",
       " 'including',\n",
       " 'projects',\n",
       " 'roadmap',\n",
       " 'Project/',\n",
       " 'Program',\n",
       " 'Delivery',\n",
       " 'Manage',\n",
       " 'set',\n",
       " 'roll',\n",
       " 'Studio',\n",
       " 'hubs',\n",
       " 'Portland',\n",
       " 'Shanghai',\n",
       " 'locations',\n",
       " 'Ensure',\n",
       " 'clear',\n",
       " 'operating',\n",
       " 'interaction',\n",
       " 'models',\n",
       " 'processes',\n",
       " 'reporting',\n",
       " 'frameworks',\n",
       " 'Manage',\n",
       " 'strategic',\n",
       " 'partnership',\n",
       " 'Oliver',\n",
       " 'globally',\n",
       " 'market',\n",
       " 'Set',\n",
       " 'pilots',\n",
       " 'new',\n",
       " 'production',\n",
       " 'topics',\n",
       " 'ie',\n",
       " 'Tier',\n",
       " 'elevated',\n",
       " 'content',\n",
       " 'manage',\n",
       " 'point',\n",
       " 'moved',\n",
       " 'mass',\n",
       " 'production',\n",
       " 'scale',\n",
       " 'Manage',\n",
       " 'creator',\n",
       " 'production',\n",
       " 'requests',\n",
       " 'ie',\n",
       " 'Beyonce',\n",
       " 'Pharrell',\n",
       " 'etc',\n",
       " 'Manage',\n",
       " 'supporting',\n",
       " 'system',\n",
       " 'platforms',\n",
       " 'Resource',\n",
       " 'Planning',\n",
       " 'Form',\n",
       " 'lead',\n",
       " 'manage',\n",
       " 'monitor',\n",
       " 'multi',\n",
       " 'functional',\n",
       " 'team',\n",
       " 'resources',\n",
       " 'internals',\n",
       " 'externals',\n",
       " 'deliver',\n",
       " 'support',\n",
       " 'projects',\n",
       " 'programs',\n",
       " 'Partner',\n",
       " 'Procurement',\n",
       " 'order',\n",
       " 'manage',\n",
       " 'suppliers',\n",
       " 'projects',\n",
       " 'programs',\n",
       " 'scope',\n",
       " 'e.g.',\n",
       " 'interviews',\n",
       " 'staffing',\n",
       " 'supplier',\n",
       " 'costs',\n",
       " 'Communication',\n",
       " 'stakeholder',\n",
       " 'management',\n",
       " 'Act',\n",
       " 'key',\n",
       " 'contact',\n",
       " 'person',\n",
       " 'strategic',\n",
       " 'stakeholders',\n",
       " 'Apply',\n",
       " 'appropriate',\n",
       " 'effective',\n",
       " 'communication',\n",
       " 'methods',\n",
       " 'senior',\n",
       " 'management',\n",
       " 'important',\n",
       " 'stakeholders',\n",
       " 'incl',\n",
       " 'vendor',\n",
       " 'project',\n",
       " 'lifecycle',\n",
       " 'conflicts',\n",
       " 'escalations',\n",
       " 'arise',\n",
       " 'projects',\n",
       " 'identify',\n",
       " 'solutions',\n",
       " 'manage',\n",
       " 'resolution',\n",
       " 'timely',\n",
       " 'appropriate',\n",
       " 'manner',\n",
       " 'Drive',\n",
       " 'change',\n",
       " 'management',\n",
       " 'activities',\n",
       " 'respective',\n",
       " 'projects',\n",
       " 'programs',\n",
       " 'ensure',\n",
       " 'changes',\n",
       " 'smoothly',\n",
       " 'successfully',\n",
       " 'implemented',\n",
       " 'achieve',\n",
       " 'lasting',\n",
       " 'benefits',\n",
       " 'Project',\n",
       " 'Controlling',\n",
       " 'Manage',\n",
       " 'project',\n",
       " 'controlling',\n",
       " 'independent',\n",
       " 'element',\n",
       " 'ensure',\n",
       " 'actual',\n",
       " 'project',\n",
       " 'costs',\n",
       " 'line',\n",
       " 'committed',\n",
       " 'budget',\n",
       " 'Lead',\n",
       " 'conduct',\n",
       " 'engagement',\n",
       " 'reviews',\n",
       " 'Verify',\n",
       " 'implementation',\n",
       " 'quality',\n",
       " 'assurance',\n",
       " 'procedures',\n",
       " 'Ensure',\n",
       " 'project',\n",
       " 'program',\n",
       " 'delivery',\n",
       " 'program',\n",
       " 'KPIs',\n",
       " 'Monitor',\n",
       " 'project',\n",
       " 'program',\n",
       " 'variables',\n",
       " 'cost',\n",
       " 'effort',\n",
       " 'scope',\n",
       " 'etc',\n",
       " 'plan',\n",
       " 'order',\n",
       " 'implement',\n",
       " 'corrective',\n",
       " 'preventive',\n",
       " 'actions',\n",
       " 'People',\n",
       " 'Management',\n",
       " 'Ensure',\n",
       " 'appropriate',\n",
       " 'leadership',\n",
       " 'skills',\n",
       " 'present',\n",
       " 'level',\n",
       " 'creating',\n",
       " 'motivational',\n",
       " 'supportive',\n",
       " 'work',\n",
       " 'environment',\n",
       " 'employees',\n",
       " 'coached',\n",
       " 'trained',\n",
       " 'provided',\n",
       " 'career',\n",
       " 'opportunities',\n",
       " 'development',\n",
       " 'Continuously',\n",
       " 'monitor',\n",
       " 'evaluate',\n",
       " 'team',\n",
       " 'workload',\n",
       " 'organizational',\n",
       " 'efficiency',\n",
       " 'support',\n",
       " 'systems',\n",
       " 'data',\n",
       " 'analysis',\n",
       " 'team',\n",
       " 'feedback',\n",
       " 'appropriate',\n",
       " 'changes',\n",
       " 'order',\n",
       " 'meet',\n",
       " 'business',\n",
       " 'needs',\n",
       " 'Provide',\n",
       " 'team',\n",
       " 'members',\n",
       " 'direct',\n",
       " 'reports',\n",
       " 'clear',\n",
       " 'direction',\n",
       " 'targets',\n",
       " 'aligned',\n",
       " 'business',\n",
       " 'needs',\n",
       " 'Digital',\n",
       " 'objectives',\n",
       " 'Key',\n",
       " 'Relationships',\n",
       " 'Studio',\n",
       " 'Creative',\n",
       " 'Operations',\n",
       " 'Production',\n",
       " 'Content',\n",
       " 'Strategy',\n",
       " 'Digital',\n",
       " 'Teams',\n",
       " 'Planning',\n",
       " 'Experience',\n",
       " 'Design',\n",
       " 'Activation',\n",
       " '...',\n",
       " 'Major',\n",
       " 'Global',\n",
       " 'Stakeholders',\n",
       " 'Global',\n",
       " 'comms',\n",
       " 'teams',\n",
       " 'Global',\n",
       " 'operations',\n",
       " 'Brand',\n",
       " 'Design',\n",
       " '...',\n",
       " 'Major',\n",
       " 'Digital',\n",
       " 'teams',\n",
       " 'Digital',\n",
       " 'Planning',\n",
       " 'Growth',\n",
       " 'Digital',\n",
       " 'Products',\n",
       " 'DTO',\n",
       " '...',\n",
       " 'Respective',\n",
       " 'business',\n",
       " 'function',\n",
       " 'GOPS',\n",
       " 'Finance',\n",
       " 'HR',\n",
       " 'Brand',\n",
       " 'Marketing',\n",
       " 'Wholesale',\n",
       " 'Retail',\n",
       " 'Global',\n",
       " 'External',\n",
       " 'studios',\n",
       " 'agencies',\n",
       " 'Procurement',\n",
       " 'Requirements',\n",
       " 'Education',\n",
       " 'Experience',\n",
       " 'Ideally',\n",
       " 'Master',\n",
       " 'degree',\n",
       " 'focus',\n",
       " 'Business',\n",
       " 'Administration',\n",
       " 'Communication',\n",
       " 'related',\n",
       " 'areas',\n",
       " 'equivalent',\n",
       " 'combination',\n",
       " 'education',\n",
       " 'experience',\n",
       " '10',\n",
       " 'years',\n",
       " 'depth',\n",
       " 'experience',\n",
       " 'related',\n",
       " 'project',\n",
       " 'management',\n",
       " 'similar',\n",
       " 'topics',\n",
       " 'years',\n",
       " 'professional',\n",
       " 'experience',\n",
       " 'digital',\n",
       " 'ecosystem',\n",
       " 'environment',\n",
       " 'Experience',\n",
       " 'house',\n",
       " 'studio',\n",
       " 'roll',\n",
       " 'Understanding',\n",
       " 'eCom',\n",
       " 'image',\n",
       " 'video',\n",
       " 'copy',\n",
       " 'mass',\n",
       " 'production',\n",
       " 'Experience',\n",
       " 'working',\n",
       " 'agencies',\n",
       " 'and/or',\n",
       " 'consultancy',\n",
       " 'plus',\n",
       " 'Experience',\n",
       " 'working',\n",
       " 'stakeholders',\n",
       " 'seniority',\n",
       " 'levels',\n",
       " 'subject',\n",
       " 'matter',\n",
       " 'experts',\n",
       " 'functions',\n",
       " 'Developers',\n",
       " 'business',\n",
       " 'stakeholders',\n",
       " 'product',\n",
       " 'marketing',\n",
       " 'teams',\n",
       " 'etc',\n",
       " 'years',\n",
       " 'experience',\n",
       " 'leading',\n",
       " 'team',\n",
       " 'Soft',\n",
       " 'Skills',\n",
       " 'good',\n",
       " 'communication',\n",
       " 'skills',\n",
       " 'especially',\n",
       " 'interacting',\n",
       " 'different',\n",
       " 'levels',\n",
       " 'business',\n",
       " 'Ability',\n",
       " 'work',\n",
       " 'fast',\n",
       " 'paced',\n",
       " 'environment',\n",
       " 'different',\n",
       " 'international',\n",
       " 'cultures',\n",
       " 'Ability',\n",
       " 'handle',\n",
       " 'ambiguity',\n",
       " 'untangle',\n",
       " 'complex',\n",
       " 'situations',\n",
       " 'actionable',\n",
       " 'activities',\n",
       " 'Distinctive',\n",
       " 'strategic',\n",
       " 'mindset',\n",
       " 'ability',\n",
       " 'prioritize',\n",
       " 'delegate',\n",
       " 'high',\n",
       " 'numbers',\n",
       " 'tasks',\n",
       " 'varying',\n",
       " 'workload',\n",
       " 'importance',\n",
       " 'Solutions',\n",
       " 'oriented',\n",
       " 'approach',\n",
       " 'entrepreneurial',\n",
       " 'mindset',\n",
       " 'Good',\n",
       " 'numerical',\n",
       " 'analytical',\n",
       " 'skills',\n",
       " 'Highly',\n",
       " 'developed',\n",
       " 'leadership',\n",
       " 'skills',\n",
       " 'required',\n",
       " 'Hard',\n",
       " 'Skills',\n",
       " 'Knowledge',\n",
       " 'digital',\n",
       " 'technologies',\n",
       " 'communications',\n",
       " 'platforms',\n",
       " 'culture',\n",
       " 'Strong',\n",
       " 'MS',\n",
       " 'Office',\n",
       " 'skills',\n",
       " 'Word',\n",
       " 'Excel',\n",
       " 'PowerPoint',\n",
       " 'Ability',\n",
       " 'travel',\n",
       " 'domestic',\n",
       " 'international',\n",
       " 'required',\n",
       " 'depth',\n",
       " 'understanding',\n",
       " 'Fluent',\n",
       " 'English',\n",
       " 'verbally',\n",
       " 'written']"
      ]
     },
     "execution_count": 172,
     "metadata": {},
     "output_type": "execute_result"
    }
   ],
   "source": [
    "spacy_tokenizer"
   ]
  },
  {
   "cell_type": "code",
   "execution_count": 173,
   "id": "8d84b088",
   "metadata": {},
   "outputs": [],
   "source": [
    "# Spacy tokenizer\n",
    "if all(custom_punct_char in sentencizer.punct_chars for custom_punct_char in custom_punct_chars):\n",
    "    spacy_tokenizer = [\n",
    "        token.text \n",
    "        for job_sentence in spacy_sentencizer \n",
    "        for token in nlp.tokenizer(job_sentence) \n",
    "        if len(token.text) > 1 and token.text not in custom_punct_chars and not token.is_stop\n",
    "    ]"
   ]
  },
  {
   "cell_type": "code",
   "execution_count": 174,
   "id": "ab9cc643",
   "metadata": {},
   "outputs": [
    {
     "data": {
      "text/plain": [
       "str"
      ]
     },
     "execution_count": 174,
     "metadata": {},
     "output_type": "execute_result"
    }
   ],
   "source": [
    "type(spacy_tokenizer[0])"
   ]
  },
  {
   "cell_type": "code",
   "execution_count": 175,
   "id": "2e36b544",
   "metadata": {},
   "outputs": [
    {
     "data": {
      "text/plain": [
       "488"
      ]
     },
     "execution_count": 175,
     "metadata": {},
     "output_type": "execute_result"
    }
   ],
   "source": [
    "len(spacy_tokenizer)"
   ]
  },
  {
   "cell_type": "code",
   "execution_count": 176,
   "id": "d799d81a",
   "metadata": {},
   "outputs": [
    {
     "data": {
      "text/plain": [
       "['Purpose',\n",
       " 'Studio',\n",
       " 'Director',\n",
       " 'Special',\n",
       " 'Projects',\n",
       " 'adidas',\n",
       " 'Digital',\n",
       " 'task',\n",
       " 'manage',\n",
       " 'deliver',\n",
       " 'Studio',\n",
       " 'programs',\n",
       " 'including',\n",
       " 'projects',\n",
       " 'roadmap',\n",
       " 'program',\n",
       " 'scope',\n",
       " 'comprise',\n",
       " 'multiple',\n",
       " 'countries',\n",
       " 'functions',\n",
       " 'objective',\n",
       " 'conduct',\n",
       " 'projects',\n",
       " 'boundaries',\n",
       " 'time',\n",
       " 'cost',\n",
       " 'quality',\n",
       " 'focusing',\n",
       " 'consumers',\n",
       " 'expectations',\n",
       " 'requirements',\n",
       " 'Planning',\n",
       " 'executing',\n",
       " 'tracking',\n",
       " 'projects',\n",
       " 'programs',\n",
       " 'cooperation',\n",
       " 'respective',\n",
       " 'functions',\n",
       " 'project',\n",
       " 'team',\n",
       " 'members',\n",
       " 'examples',\n",
       " 'expected',\n",
       " 'role',\n",
       " 'Additionally',\n",
       " 'focusing',\n",
       " 'resource',\n",
       " 'planning',\n",
       " 'vendor',\n",
       " 'management',\n",
       " 'coordination',\n",
       " 'activities',\n",
       " 'acting',\n",
       " 'central',\n",
       " 'interface',\n",
       " 'key',\n",
       " 'stakeholders',\n",
       " 'Scope',\n",
       " 'Manage',\n",
       " 'deliver',\n",
       " 'Studio',\n",
       " 'programs',\n",
       " 'including',\n",
       " 'projects',\n",
       " 'roadmap',\n",
       " 'Project/',\n",
       " 'Program',\n",
       " 'Delivery',\n",
       " 'Manage',\n",
       " 'set',\n",
       " 'roll',\n",
       " 'Studio',\n",
       " 'hubs',\n",
       " 'Portland',\n",
       " 'Shanghai',\n",
       " 'locations',\n",
       " 'Ensure',\n",
       " 'clear',\n",
       " 'operating',\n",
       " 'interaction',\n",
       " 'models',\n",
       " 'processes',\n",
       " 'reporting',\n",
       " 'frameworks',\n",
       " 'Manage',\n",
       " 'strategic',\n",
       " 'partnership',\n",
       " 'Oliver',\n",
       " 'globally',\n",
       " 'market',\n",
       " 'Set',\n",
       " 'pilots',\n",
       " 'new',\n",
       " 'production',\n",
       " 'topics',\n",
       " 'ie',\n",
       " 'Tier',\n",
       " 'elevated',\n",
       " 'content',\n",
       " 'manage',\n",
       " 'point',\n",
       " 'moved',\n",
       " 'mass',\n",
       " 'production',\n",
       " 'scale',\n",
       " 'Manage',\n",
       " 'creator',\n",
       " 'production',\n",
       " 'requests',\n",
       " 'ie',\n",
       " 'Beyonce',\n",
       " 'Pharrell',\n",
       " 'etc',\n",
       " 'Manage',\n",
       " 'supporting',\n",
       " 'system',\n",
       " 'platforms',\n",
       " 'Resource',\n",
       " 'Planning',\n",
       " 'Form',\n",
       " 'lead',\n",
       " 'manage',\n",
       " 'monitor',\n",
       " 'multi',\n",
       " 'functional',\n",
       " 'team',\n",
       " 'resources',\n",
       " 'internals',\n",
       " 'externals',\n",
       " 'deliver',\n",
       " 'support',\n",
       " 'projects',\n",
       " 'programs',\n",
       " 'Partner',\n",
       " 'Procurement',\n",
       " 'order',\n",
       " 'manage',\n",
       " 'suppliers',\n",
       " 'projects',\n",
       " 'programs',\n",
       " 'scope',\n",
       " 'e.g.',\n",
       " 'interviews',\n",
       " 'staffing',\n",
       " 'supplier',\n",
       " 'costs',\n",
       " 'Communication',\n",
       " 'stakeholder',\n",
       " 'management',\n",
       " 'Act',\n",
       " 'key',\n",
       " 'contact',\n",
       " 'person',\n",
       " 'strategic',\n",
       " 'stakeholders',\n",
       " 'Apply',\n",
       " 'appropriate',\n",
       " 'effective',\n",
       " 'communication',\n",
       " 'methods',\n",
       " 'senior',\n",
       " 'management',\n",
       " 'important',\n",
       " 'stakeholders',\n",
       " 'incl',\n",
       " 'vendor',\n",
       " 'project',\n",
       " 'lifecycle',\n",
       " 'conflicts',\n",
       " 'escalations',\n",
       " 'arise',\n",
       " 'projects',\n",
       " 'identify',\n",
       " 'solutions',\n",
       " 'manage',\n",
       " 'resolution',\n",
       " 'timely',\n",
       " 'appropriate',\n",
       " 'manner',\n",
       " 'Drive',\n",
       " 'change',\n",
       " 'management',\n",
       " 'activities',\n",
       " 'respective',\n",
       " 'projects',\n",
       " 'programs',\n",
       " 'ensure',\n",
       " 'changes',\n",
       " 'smoothly',\n",
       " 'successfully',\n",
       " 'implemented',\n",
       " 'achieve',\n",
       " 'lasting',\n",
       " 'benefits',\n",
       " 'Project',\n",
       " 'Controlling',\n",
       " 'Manage',\n",
       " 'project',\n",
       " 'controlling',\n",
       " 'independent',\n",
       " 'element',\n",
       " 'ensure',\n",
       " 'actual',\n",
       " 'project',\n",
       " 'costs',\n",
       " 'line',\n",
       " 'committed',\n",
       " 'budget',\n",
       " 'Lead',\n",
       " 'conduct',\n",
       " 'engagement',\n",
       " 'reviews',\n",
       " 'Verify',\n",
       " 'implementation',\n",
       " 'quality',\n",
       " 'assurance',\n",
       " 'procedures',\n",
       " 'Ensure',\n",
       " 'project',\n",
       " 'program',\n",
       " 'delivery',\n",
       " 'program',\n",
       " 'KPIs',\n",
       " 'Monitor',\n",
       " 'project',\n",
       " 'program',\n",
       " 'variables',\n",
       " 'cost',\n",
       " 'effort',\n",
       " 'scope',\n",
       " 'etc',\n",
       " 'plan',\n",
       " 'order',\n",
       " 'implement',\n",
       " 'corrective',\n",
       " 'preventive',\n",
       " 'actions',\n",
       " 'People',\n",
       " 'Management',\n",
       " 'Ensure',\n",
       " 'appropriate',\n",
       " 'leadership',\n",
       " 'skills',\n",
       " 'present',\n",
       " 'level',\n",
       " 'creating',\n",
       " 'motivational',\n",
       " 'supportive',\n",
       " 'work',\n",
       " 'environment',\n",
       " 'employees',\n",
       " 'coached',\n",
       " 'trained',\n",
       " 'provided',\n",
       " 'career',\n",
       " 'opportunities',\n",
       " 'development',\n",
       " 'Continuously',\n",
       " 'monitor',\n",
       " 'evaluate',\n",
       " 'team',\n",
       " 'workload',\n",
       " 'organizational',\n",
       " 'efficiency',\n",
       " 'support',\n",
       " 'systems',\n",
       " 'data',\n",
       " 'analysis',\n",
       " 'team',\n",
       " 'feedback',\n",
       " 'appropriate',\n",
       " 'changes',\n",
       " 'order',\n",
       " 'meet',\n",
       " 'business',\n",
       " 'needs',\n",
       " 'Provide',\n",
       " 'team',\n",
       " 'members',\n",
       " 'direct',\n",
       " 'reports',\n",
       " 'clear',\n",
       " 'direction',\n",
       " 'targets',\n",
       " 'aligned',\n",
       " 'business',\n",
       " 'needs',\n",
       " 'Digital',\n",
       " 'objectives',\n",
       " 'Key',\n",
       " 'Relationships',\n",
       " 'Studio',\n",
       " 'Creative',\n",
       " 'Operations',\n",
       " 'Production',\n",
       " 'Content',\n",
       " 'Strategy',\n",
       " 'Digital',\n",
       " 'Teams',\n",
       " 'Planning',\n",
       " 'Experience',\n",
       " 'Design',\n",
       " 'Activation',\n",
       " '...',\n",
       " 'Major',\n",
       " 'Global',\n",
       " 'Stakeholders',\n",
       " 'Global',\n",
       " 'comms',\n",
       " 'teams',\n",
       " 'Global',\n",
       " 'operations',\n",
       " 'Brand',\n",
       " 'Design',\n",
       " '...',\n",
       " 'Major',\n",
       " 'Digital',\n",
       " 'teams',\n",
       " 'Digital',\n",
       " 'Planning',\n",
       " 'Growth',\n",
       " 'Digital',\n",
       " 'Products',\n",
       " 'DTO',\n",
       " '...',\n",
       " 'Respective',\n",
       " 'business',\n",
       " 'function',\n",
       " 'GOPS',\n",
       " 'Finance',\n",
       " 'HR',\n",
       " 'Brand',\n",
       " 'Marketing',\n",
       " 'Wholesale',\n",
       " 'Retail',\n",
       " 'Global',\n",
       " 'External',\n",
       " 'studios',\n",
       " 'agencies',\n",
       " 'Procurement',\n",
       " 'Requirements',\n",
       " 'Education',\n",
       " 'Experience',\n",
       " 'Ideally',\n",
       " 'Master',\n",
       " 'degree',\n",
       " 'focus',\n",
       " 'Business',\n",
       " 'Administration',\n",
       " 'Communication',\n",
       " 'related',\n",
       " 'areas',\n",
       " 'equivalent',\n",
       " 'combination',\n",
       " 'education',\n",
       " 'experience',\n",
       " '10',\n",
       " 'years',\n",
       " 'depth',\n",
       " 'experience',\n",
       " 'related',\n",
       " 'project',\n",
       " 'management',\n",
       " 'similar',\n",
       " 'topics',\n",
       " 'years',\n",
       " 'professional',\n",
       " 'experience',\n",
       " 'digital',\n",
       " 'ecosystem',\n",
       " 'environment',\n",
       " 'Experience',\n",
       " 'house',\n",
       " 'studio',\n",
       " 'roll',\n",
       " 'Understanding',\n",
       " 'eCom',\n",
       " 'image',\n",
       " 'video',\n",
       " 'copy',\n",
       " 'mass',\n",
       " 'production',\n",
       " 'Experience',\n",
       " 'working',\n",
       " 'agencies',\n",
       " 'and/or',\n",
       " 'consultancy',\n",
       " 'plus',\n",
       " 'Experience',\n",
       " 'working',\n",
       " 'stakeholders',\n",
       " 'seniority',\n",
       " 'levels',\n",
       " 'subject',\n",
       " 'matter',\n",
       " 'experts',\n",
       " 'functions',\n",
       " 'Developers',\n",
       " 'business',\n",
       " 'stakeholders',\n",
       " 'product',\n",
       " 'marketing',\n",
       " 'teams',\n",
       " 'etc',\n",
       " 'years',\n",
       " 'experience',\n",
       " 'leading',\n",
       " 'team',\n",
       " 'Soft',\n",
       " 'Skills',\n",
       " 'good',\n",
       " 'communication',\n",
       " 'skills',\n",
       " 'especially',\n",
       " 'interacting',\n",
       " 'different',\n",
       " 'levels',\n",
       " 'business',\n",
       " 'Ability',\n",
       " 'work',\n",
       " 'fast',\n",
       " 'paced',\n",
       " 'environment',\n",
       " 'different',\n",
       " 'international',\n",
       " 'cultures',\n",
       " 'Ability',\n",
       " 'handle',\n",
       " 'ambiguity',\n",
       " 'untangle',\n",
       " 'complex',\n",
       " 'situations',\n",
       " 'actionable',\n",
       " 'activities',\n",
       " 'Distinctive',\n",
       " 'strategic',\n",
       " 'mindset',\n",
       " 'ability',\n",
       " 'prioritize',\n",
       " 'delegate',\n",
       " 'high',\n",
       " 'numbers',\n",
       " 'tasks',\n",
       " 'varying',\n",
       " 'workload',\n",
       " 'importance',\n",
       " 'Solutions',\n",
       " 'oriented',\n",
       " 'approach',\n",
       " 'entrepreneurial',\n",
       " 'mindset',\n",
       " 'Good',\n",
       " 'numerical',\n",
       " 'analytical',\n",
       " 'skills',\n",
       " 'Highly',\n",
       " 'developed',\n",
       " 'leadership',\n",
       " 'skills',\n",
       " 'required',\n",
       " 'Hard',\n",
       " 'Skills',\n",
       " 'Knowledge',\n",
       " 'digital',\n",
       " 'technologies',\n",
       " 'communications',\n",
       " 'platforms',\n",
       " 'culture',\n",
       " 'Strong',\n",
       " 'MS',\n",
       " 'Office',\n",
       " 'skills',\n",
       " 'Word',\n",
       " 'Excel',\n",
       " 'PowerPoint',\n",
       " 'Ability',\n",
       " 'travel',\n",
       " 'domestic',\n",
       " 'international',\n",
       " 'required',\n",
       " 'depth',\n",
       " 'understanding',\n",
       " 'Fluent',\n",
       " 'English',\n",
       " 'verbally',\n",
       " 'written']"
      ]
     },
     "execution_count": 176,
     "metadata": {},
     "output_type": "execute_result"
    }
   ],
   "source": [
    "spacy_tokenizer"
   ]
  },
  {
   "cell_type": "code",
   "execution_count": 95,
   "id": "5a0b76ec",
   "metadata": {},
   "outputs": [
    {
     "name": "stdout",
     "output_type": "stream",
     "text": [
      "19\n"
     ]
    }
   ],
   "source": [
    "for idx, sent in enumerate(spacy_sentencizer):\n",
    "    if str_fix_eg in sent:\n",
    "        print(idx)"
   ]
  },
  {
   "cell_type": "code",
   "execution_count": 105,
   "id": "c222370e",
   "metadata": {},
   "outputs": [
    {
     "data": {
      "text/plain": [
       "19"
      ]
     },
     "execution_count": 105,
     "metadata": {},
     "output_type": "execute_result"
    }
   ],
   "source": [
    "next(idx for idx, sent in enumerate(spacy_sentencizer) if str_fix_eg in sent)"
   ]
  },
  {
   "cell_type": "code",
   "execution_count": 96,
   "id": "a454eeb7",
   "metadata": {},
   "outputs": [
    {
     "name": "stdout",
     "output_type": "stream",
     "text": [
      "22\n"
     ]
    }
   ],
   "source": [
    "# str_fix = 'Apply appropriate and effective communication methods to senior management and important stakeholders \\(incl.'\n",
    "\n",
    "\n",
    "for idx, sent in enumerate(spacy_sentencizer):\n",
    "    if str_fix_incl.split('\\(')[0] in sent:\n",
    "        print(idx)"
   ]
  },
  {
   "cell_type": "code",
   "execution_count": 106,
   "id": "bd2a7d0e",
   "metadata": {},
   "outputs": [
    {
     "data": {
      "text/plain": [
       "22"
      ]
     },
     "execution_count": 106,
     "metadata": {},
     "output_type": "execute_result"
    }
   ],
   "source": [
    "next(idx for idx, sent in enumerate(spacy_sentencizer) if str_fix_incl.split('\\(')[0] in sent)"
   ]
  },
  {
   "cell_type": "code",
   "execution_count": 127,
   "id": "3c515eca",
   "metadata": {},
   "outputs": [
    {
     "data": {
      "text/plain": [
       "['Partner with Procurement in order to manage suppliers for the projects & programs in scope, e.g. interviews, staffing, supplier costs.',\n",
       " 'Communication / stakeholder management',\n",
       " 'Act as the key contact person for strategic stakeholders.',\n",
       " 'Apply appropriate and effective communication methods to senior management and important stakeholders (incl.']"
      ]
     },
     "execution_count": 127,
     "metadata": {},
     "output_type": "execute_result"
    }
   ],
   "source": [
    "spacy_sentencizer[19:23]"
   ]
  },
  {
   "cell_type": "code",
   "execution_count": 109,
   "id": "d97282ef",
   "metadata": {},
   "outputs": [
    {
     "name": "stdout",
     "output_type": "stream",
     "text": [
      "66\n"
     ]
    }
   ],
   "source": [
    "for idx, sent in enumerate(spacy_sentencizer):\n",
    "    if 'Power' in sent:\n",
    "        print(idx)"
   ]
  },
  {
   "cell_type": "code",
   "execution_count": 110,
   "id": "b2147d60",
   "metadata": {},
   "outputs": [
    {
     "data": {
      "text/plain": [
       "66"
      ]
     },
     "execution_count": 110,
     "metadata": {},
     "output_type": "execute_result"
    }
   ],
   "source": [
    "next(idx for idx, sent in enumerate(spacy_sentencizer) if 'Power' in sent)"
   ]
  },
  {
   "cell_type": "code",
   "execution_count": 128,
   "id": "b314b701",
   "metadata": {},
   "outputs": [
    {
     "data": {
      "text/plain": [
       "'Strong MS-Office skills (Word, Excel, PowerPoint)'"
      ]
     },
     "execution_count": 128,
     "metadata": {},
     "output_type": "execute_result"
    }
   ],
   "source": [
    "spacy_sentencizer[66]"
   ]
  },
  {
   "cell_type": "code",
   "execution_count": 129,
   "id": "5dcf1dae",
   "metadata": {
    "scrolled": true
   },
   "outputs": [
    {
     "name": "stdout",
     "output_type": "stream",
     "text": [
      "Sentence 1: Apply appropriate and effective communication methods to senior management and important stakeholders (incl.\n",
      "\n",
      "Sentence 2: vendor) throughout the project lifecycle.\n",
      "\n",
      "Sentence 3: As conflicts and escalations arise within projects, identify solutions and manage the resolution in a timely and appropriate manner.\n",
      "\n",
      "Sentence 4: Drive change management activities for respective projects & programs and ensure changes are smoothly and successfully implemented to achieve lasting benefits.\n",
      "\n",
      "Sentence 5: Project Controlling\n",
      "\n",
      "Sentence 6: Manage project controlling as an independent element to ensure that actual project costs are in line the committed budget.\n",
      "\n"
     ]
    }
   ],
   "source": [
    "for idx, sentence in enumerate(spacy_sentencizer[22:28]):\n",
    "    print(f'Sentence {idx+1}: {sentence}\\n')"
   ]
  },
  {
   "cell_type": "code",
   "execution_count": null,
   "id": "869b4ca2",
   "metadata": {},
   "outputs": [],
   "source": [
    "# Spacy tokenizer\n",
    "spacy_tokenizer = []\n",
    "\n",
    "if all(custom_punct_char in sentencizer.punct_chars for custom_punct_char in custom_punct_chars):\n",
    "    for job_sentence in spacy_sentencizer:\n",
    "#         doc = nlp.tokenizer(job_sentence)\n",
    "        spacy_tokenizer.extend(\n",
    "            [\n",
    "                token.text for token in nlp.tokenizer(job_sentence) \n",
    "                if token.text not in custom_punct_chars\n",
    "                and not token.is_stop \n",
    "                \n",
    "            ]\n",
    "        )"
   ]
  },
  {
   "cell_type": "code",
   "execution_count": null,
   "id": "c5f6eb34",
   "metadata": {},
   "outputs": [],
   "source": [
    "len(spacy_tokenizer)"
   ]
  },
  {
   "cell_type": "code",
   "execution_count": null,
   "id": "7c9a630b",
   "metadata": {},
   "outputs": [],
   "source": [
    "spacy_tokenizer[:10]"
   ]
  },
  {
   "cell_type": "code",
   "execution_count": null,
   "id": "9303a0ec",
   "metadata": {},
   "outputs": [],
   "source": [
    "# from spacy.lang.en import English\n",
    "# nlp = English()\n",
    "# nlp.add_pipe('sentencizer')\n",
    "doc = nlp('Operating income incl. JV was SEK 2.1 b. with an operating margin of 4.0%')"
   ]
  },
  {
   "cell_type": "code",
   "execution_count": null,
   "id": "7181bb0b",
   "metadata": {},
   "outputs": [],
   "source": [
    "[s for s in doc.sents]"
   ]
  },
  {
   "cell_type": "code",
   "execution_count": null,
   "id": "526da0e0",
   "metadata": {},
   "outputs": [],
   "source": [
    "from spacy.matcher import Matcher\n",
    "nlp = spacy.load('en_core_web_trf')\n",
    "\n",
    "matcher = Matcher(nlp.vocab)\n",
    "\n",
    "bigram_rules = [\n",
    "    ['VERB', 'ADJ', 'NOUN'],\n",
    "    ['NOUN', 'VERB', 'ADV'],\n",
    "    ['NOUN', 'ADP', 'NOUN'],\n",
    "    # more rules here...\n",
    "]\n",
    "\n",
    "rules = [\n",
    "    ['VERB', 'ADJ', 'NOUN'],\n",
    "    ['NOUN', 'VERB', 'ADV'],\n",
    "    ['NOUN', 'ADP', 'NOUN'],\n",
    "    # more rules here...\n",
    "]\n",
    "\n",
    "trigram_patterns = [[{\"POS\": i} for i in j] for j in rules]\n"
   ]
  },
  {
   "cell_type": "code",
   "execution_count": null,
   "id": "fa22c7c5",
   "metadata": {},
   "outputs": [],
   "source": [
    "patterns"
   ]
  },
  {
   "cell_type": "code",
   "execution_count": null,
   "id": "7b2de96a",
   "metadata": {},
   "outputs": [],
   "source": [
    "patterns = {\n",
    "    'noun_verb': [{'POS': 'NOUN'}, {'POS': 'VERB'}],\n",
    "    'verb_noun': [{'POS': 'VERB'}, {'POS': 'NOUN'}],\n",
    "    'adj_noun': [{'POS': 'ADJ'}, {'POS': 'NOUN'}],\n",
    "    'adj_propn': [{'POS': 'ADJ'}, {'POS': 'PROPN'}],\n",
    "}"
   ]
  },
  {
   "cell_type": "code",
   "execution_count": null,
   "id": "fe3c384d",
   "metadata": {},
   "outputs": [],
   "source": [
    "for pattern_name, pattern in patterns.items():\n",
    "    matcher.add(pattern_name, [pattern])\n"
   ]
  },
  {
   "cell_type": "code",
   "execution_count": null,
   "id": "11e002bc",
   "metadata": {},
   "outputs": [],
   "source": [
    "for job_description in job_descriptions:\n",
    "    doc = nlp(job_description)\n",
    "    matches = matcher(doc)"
   ]
  },
  {
   "cell_type": "code",
   "execution_count": null,
   "id": "50ae16bd",
   "metadata": {},
   "outputs": [],
   "source": [
    "for match_id, start, end in matches:\n",
    "    \n",
    "    # Get string representation\n",
    "    string_id = nlp.vocab.strings[match_id]\n",
    "\n",
    "    # The matched span\n",
    "    span = doc[start:end]\n",
    "    \n",
    "    print(repr(span.text))\n",
    "    print(match_id, string_id, start, end)\n",
    "    print()\n"
   ]
  },
  {
   "cell_type": "code",
   "execution_count": null,
   "id": "91e73cc1",
   "metadata": {},
   "outputs": [],
   "source": [
    "from sentence_transformers import SentenceTransformer\n",
    "model = SentenceTransformer('paraphrase-MiniLM-L6-v2')\n"
   ]
  },
  {
   "cell_type": "code",
   "execution_count": null,
   "id": "e6595ed0",
   "metadata": {},
   "outputs": [],
   "source": [
    "# for sentence in spacy_sentencizer:\n",
    "#     print(model.encode(sentence))\n",
    "\n"
   ]
  },
  {
   "cell_type": "code",
   "execution_count": null,
   "id": "7ad4dbda",
   "metadata": {},
   "outputs": [],
   "source": [
    "from transformers.models.electra.modeling_tf_electra import TFElectraMainLayer"
   ]
  },
  {
   "cell_type": "code",
   "execution_count": null,
   "id": "eb42adc7",
   "metadata": {},
   "outputs": [],
   "source": [
    "from transformers import AutoTokenizer, AutoModelForPreTraining\n",
    "\n",
    "tokenizer = AutoTokenizer.from_pretrained(\"pavanchhatpar/electra-base-sentence-splitter\")\n",
    "\n",
    "model = AutoModelForPreTraining.from_pretrained(\"pavanchhatpar/electra-base-sentence-splitter\", from_tf=True)\n"
   ]
  },
  {
   "cell_type": "code",
   "execution_count": null,
   "id": "115ee3aa",
   "metadata": {},
   "outputs": [],
   "source": [
    "nlp = pipeline('sentence-splitter', model)"
   ]
  },
  {
   "cell_type": "code",
   "execution_count": null,
   "id": "08d8d4bf",
   "metadata": {},
   "outputs": [],
   "source": []
  }
 ],
 "metadata": {
  "kernelspec": {
   "display_name": "study1_3.10",
   "language": "python",
   "name": "study1_3.10"
  },
  "language_info": {
   "codemirror_mode": {
    "name": "ipython",
    "version": 3
   },
   "file_extension": ".py",
   "mimetype": "text/x-python",
   "name": "python",
   "nbconvert_exporter": "python",
   "pygments_lexer": "ipython3",
   "version": "3.10.8"
  },
  "varInspector": {
   "cols": {
    "lenName": 16,
    "lenType": 16,
    "lenVar": 40
   },
   "kernels_config": {
    "python": {
     "delete_cmd_postfix": "",
     "delete_cmd_prefix": "del ",
     "library": "var_list.py",
     "varRefreshCmd": "print(var_dic_list())"
    },
    "r": {
     "delete_cmd_postfix": ") ",
     "delete_cmd_prefix": "rm(",
     "library": "var_list.r",
     "varRefreshCmd": "cat(var_dic_list()) "
    }
   },
   "types_to_exclude": [
    "module",
    "function",
    "builtin_function_or_method",
    "instance",
    "_Feature"
   ],
   "window_display": false
  }
 },
 "nbformat": 4,
 "nbformat_minor": 5
}
