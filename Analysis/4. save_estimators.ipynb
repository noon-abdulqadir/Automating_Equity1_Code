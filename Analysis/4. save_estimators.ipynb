{
 "cells": [
  {
   "cell_type": "markdown",
   "id": "05d7e736",
   "metadata": {
    "lines_to_next_cell": 0
   },
   "source": [
    "### processing_functions"
   ]
  },
  {
   "cell_type": "code",
   "execution_count": 1,
   "id": "dfde0c50",
   "metadata": {},
   "outputs": [
    {
     "data": {
      "text/html": [
       "        <script type=\"text/javascript\">\n",
       "        window.PlotlyConfig = {MathJaxConfig: 'local'};\n",
       "        if (window.MathJax) {MathJax.Hub.Config({SVG: {font: \"STIX-Web\"}});}\n",
       "        if (typeof require !== 'undefined') {\n",
       "        require.undef(\"plotly\");\n",
       "        requirejs.config({\n",
       "            paths: {\n",
       "                'plotly': ['https://cdn.plot.ly/plotly-2.11.1.min']\n",
       "            }\n",
       "        });\n",
       "        require(['plotly'], function(Plotly) {\n",
       "            window._Plotly = Plotly;\n",
       "        });\n",
       "        }\n",
       "        </script>\n",
       "        "
      ]
     },
     "metadata": {},
     "output_type": "display_data"
    },
    {
     "data": {
      "text/html": [
       "<style>.container { width:90% !important; }</style>"
      ],
      "text/plain": [
       "<IPython.core.display.HTML object>"
      ]
     },
     "metadata": {},
     "output_type": "display_data"
    },
    {
     "data": {
      "text/html": [
       "        <script type=\"text/javascript\">\n",
       "        window.PlotlyConfig = {MathJaxConfig: 'local'};\n",
       "        if (window.MathJax) {MathJax.Hub.Config({SVG: {font: \"STIX-Web\"}});}\n",
       "        if (typeof require !== 'undefined') {\n",
       "        require.undef(\"plotly\");\n",
       "        requirejs.config({\n",
       "            paths: {\n",
       "                'plotly': ['https://cdn.plot.ly/plotly-2.11.1.min']\n",
       "            }\n",
       "        });\n",
       "        require(['plotly'], function(Plotly) {\n",
       "            window._Plotly = Plotly;\n",
       "        });\n",
       "        }\n",
       "        </script>\n",
       "        "
      ]
     },
     "metadata": {},
     "output_type": "display_data"
    },
    {
     "name": "stdout",
     "output_type": "stream",
     "text": [
      "File /Users/nyxinsane/Library/CloudStorage/OneDrive-UvA/Automating Equity/Study 1/Study1_Code/Age and Gender Composition of Industires and Jobs/ not found.\n",
      "Printing keywords not enabled.\n",
      "Printing keywords not enabled.\n",
      "Printing keywords not enabled.\n",
      "Printing keywords not enabled.\n",
      "Printing keywords not enabled.\n",
      "Printing keywords not enabled.\n",
      "Printing keywords not enabled.\n",
      "Printing keywords not enabled.\n",
      "Printing keywords not enabled.\n",
      "Printing keywords not enabled.\n",
      "Printing keywords not enabled.\n",
      "Printing keywords not enabled.\n",
      "Printing keywords not enabled.\n",
      "Printing keywords not enabled.\n",
      "Printing keywords not enabled.\n",
      "Printing keywords not enabled.\n",
      "Printing keywords not enabled.\n",
      "Printing keywords not enabled.\n",
      "Printing keywords not enabled.\n",
      "Printing keywords not enabled.\n",
      "Printing keywords not enabled.\n",
      "Printing keywords not enabled.\n",
      "Printing keywords not enabled.\n",
      "Printing keywords not enabled.\n",
      "Printing keywords not enabled.\n",
      "Printing keywords not enabled.\n",
      "Printing keywords not enabled.\n",
      "Warning: Cannot change to a different GUI toolkit: widget. Using notebook instead.\n"
     ]
    }
   ],
   "source": [
    "# -*- coding: utf-8 -*-\n",
    "# %%\n",
    "# To add a new cell, type '# %%'\n",
    "# To add a new markdown cell, type '# %% [markdown]'\n",
    "# %% [markdown]\n",
    "# ### Install packages and import\n",
    "# %%\n",
    "# #################################### PLEASE INSTALL LATEST CHROME WEBDRIVER #####################################\n",
    "# Uncomment to run as required\n",
    "# #     --install-option=\"--chromedriver-version= *.**\" \\\n",
    "#   --install-option=\"--chromedriver-checksums=4fecc99b066cb1a346035bf022607104,058cd8b7b4b9688507701b5e648fd821\"\n",
    "# %%\n",
    "# ##### COPY THE LINES IN THIS COMMENT TO THE TOP OF NEW SCRIPTS #####\n",
    "# # Function to import this package to other files\n",
    "# import os\n",
    "# import sys\n",
    "# from pathlib import Path\n",
    "\n",
    "# code_dir = None\n",
    "# code_dir_name = 'Code'\n",
    "# unwanted_subdir_name = 'Analysis'\n",
    "\n",
    "# for _ in range(5):\n",
    "\n",
    "#     parent_path = str(Path.cwd().parents[_]).split('/')[-1]\n",
    "\n",
    "#     if (code_dir_name in parent_path) and (unwanted_subdir_name not in parent_path):\n",
    "\n",
    "#         code_dir = str(Path.cwd().parents[_])\n",
    "\n",
    "#         if code_dir is not None:\n",
    "#             break\n",
    "\n",
    "# main_dir = str(Path(code_dir).parents[0])\n",
    "# sys.path.append(code_dir)\n",
    "\n",
    "# from setup_module.imports import *\n",
    "# from setup_module.params import *\n",
    "# from setup_module.scraping import *\n",
    "# from setup_module.classification import *\n",
    "# from setup_module.vectorizers_classifiers import *\n",
    "\n",
    "# warnings.filterwarnings(\"ignore\", category=DeprecationWarning)\n",
    "# %matplotlib notebook\n",
    "# %matplotlib inline\n",
    "\n",
    "# %%\n",
    "import os\n",
    "import sys\n",
    "from pathlib import Path\n",
    "\n",
    "code_dir = None\n",
    "code_dir_name = 'Code'\n",
    "unwanted_subdir_name = 'Analysis'\n",
    "\n",
    "for _ in range(5):\n",
    "\n",
    "    parent_path = str(Path.cwd().parents[_]).split('/')[-1]\n",
    "\n",
    "    if (code_dir_name in parent_path) and (unwanted_subdir_name not in parent_path):\n",
    "\n",
    "        code_dir = str(Path.cwd().parents[_])\n",
    "\n",
    "        if code_dir is not None:\n",
    "            break\n",
    "\n",
    "main_dir = str(Path(code_dir).parents[0])\n",
    "sys.path.append(code_dir)\n",
    "\n",
    "from setup_module.imports import *\n",
    "from setup_module.params import *\n",
    "from setup_module.scraping import *\n",
    "from setup_module.classification import *\n",
    "from setup_module.vectorizers_classifiers import *\n",
    "\n",
    "warnings.filterwarnings(\"ignore\")\n",
    "\n",
    "%matplotlib notebook\n",
    "%matplotlib widget\n",
    "%matplotlib inline"
   ]
  },
  {
   "cell_type": "code",
   "execution_count": 2,
   "id": "836c8a12",
   "metadata": {},
   "outputs": [
    {
     "name": "stdout",
     "output_type": "stream",
     "text": [
      "<class 'lux.core.frame.LuxDataFrame'>\n",
      "RangeIndex: 6389 entries, 0 to 6388\n",
      "Data columns (total 29 columns):\n",
      " #   Column                   Non-Null Count  Dtype  \n",
      "---  ------                   --------------  -----  \n",
      " 0   Job ID                   6389 non-null   object \n",
      " 1   Job Description          6389 non-null   object \n",
      " 2   Gender                   6389 non-null   object \n",
      " 3   Age                      6389 non-null   object \n",
      " 4   Warmth                   6389 non-null   int8   \n",
      " 5   Competence               6389 non-null   int8   \n",
      " 6   Task_Mentioned           6389 non-null   int8   \n",
      " 7   Task_Warmth              6389 non-null   int8   \n",
      " 8   Task_Competence          6389 non-null   int8   \n",
      " 9   Gender_Female            6389 non-null   float64\n",
      " 10  Gender_Mixed             6389 non-null   float64\n",
      " 11  Gender_Male              6389 non-null   float64\n",
      " 12  Age_Older                6389 non-null   float64\n",
      " 13  Age_Mixed                6389 non-null   float64\n",
      " 14  Age_Younger              6389 non-null   float64\n",
      " 15  Gender_Num               6389 non-null   float64\n",
      " 16  Age_Num                  6389 non-null   float64\n",
      " 17  Dutch Requirement        6389 non-null   object \n",
      " 18  English Requirement      6389 non-null   object \n",
      " 19  Job Description_cleaned  6389 non-null   object \n",
      " 20  num_words                6389 non-null   int64  \n",
      " 21  num_unique_words         6389 non-null   int64  \n",
      " 22  num_chars                6389 non-null   int64  \n",
      " 23  num_punctuations         6389 non-null   int64  \n",
      " 24  1gram                    6389 non-null   object \n",
      " 25  2grams_gensim            6389 non-null   object \n",
      " 26  3grams_gensim            6389 non-null   object \n",
      " 27  2grams_nltk              6389 non-null   object \n",
      " 28  3grams_nltk              6389 non-null   object \n",
      "dtypes: float64(8), int64(4), int8(5), object(12)\n",
      "memory usage: 1.2+ MB\n"
     ]
    },
    {
     "data": {
      "application/vnd.jupyter.widget-view+json": {
       "model_id": "c4e181ef9d944d4f95e5a37487aaadf3",
       "version_major": 2,
       "version_minor": 0
      },
      "text/plain": [
       "Button(description='Toggle Pandas/Lux', layout=Layout(top='5px', width='140px'), style=ButtonStyle())"
      ]
     },
     "metadata": {},
     "output_type": "display_data"
    },
    {
     "data": {
      "application/vnd.jupyter.widget-view+json": {
       "model_id": "1eb94301117f408baa5c7ba6af77baef",
       "version_major": 2,
       "version_minor": 0
      },
      "text/plain": [
       "Output()"
      ]
     },
     "metadata": {},
     "output_type": "display_data"
    },
    {
     "data": {
      "application/vnd.jupyter.widget-view+json": {
       "model_id": "562d425ad1a14d61a5c66090c7398236",
       "version_major": 2,
       "version_minor": 0
      },
      "text/plain": [
       "Button(description='Toggle Pandas/Lux', layout=Layout(top='5px', width='140px'), style=ButtonStyle())"
      ]
     },
     "metadata": {},
     "output_type": "display_data"
    },
    {
     "data": {
      "application/vnd.jupyter.widget-view+json": {
       "model_id": "ca6432390556495899b7210c2cb9b511",
       "version_major": 2,
       "version_minor": 0
      },
      "text/plain": [
       "Output()"
      ]
     },
     "metadata": {},
     "output_type": "display_data"
    },
    {
     "data": {
      "text/plain": [
       "Text(0.5, 0.98, 'Training Dataset: Warmth and Competence Sentence Counts')"
      ]
     },
     "execution_count": 2,
     "metadata": {},
     "output_type": "execute_result"
    },
    {
     "data": {
      "image/png": "[encoded data removed]",
      "image/svg+xml": "<?xml version=\"1.0\" encoding=\"utf-8\" standalone=\"no\"?>\n<!DOCTYPE svg PUBLIC \"-//W3C//DTD SVG 1.1//EN\"\n  \"http://www.w3.org/Graphics/SVG/1.1/DTD/svg11.dtd\">\n<svg xmlns:xlink=\"http://www.w3.org/1999/xlink\" width=\"476.07pt\" height=\"275.258045pt\" viewBox=\"0 0 476.07 275.258045\" xmlns=\"http://www.w3.org/2000/svg\" version=\"1.1\">\n <metadata>\n  <rdf:RDF xmlns:dc=\"http://purl.org/dc/elements/1.1/\" xmlns:cc=\"http://creativecommons.org/ns#\" xmlns:rdf=\"http://www.w3.org/1999/02/22-rdf-syntax-ns#\">\n   <cc:Work>\n    <dc:type rdf:resource=\"http://purl.org/dc/dcmitype/StillImage\"/>\n    <dc:date>2022-04-14T01:32:27.259029</dc:date>\n    <dc:format>image/svg+xml</dc:format>\n    <dc:creator>\n     <cc:Agent>\n      <dc:title>Matplotlib v3.5.1, https://matplotlib.org/</dc:title>\n     </cc:Agent>\n    </dc:creator>\n   </cc:Work>\n  </rdf:RDF>\n </metadata>\n <defs>\n  <style type=\"text/css\">*{stroke-linejoin: round; stroke-linecap: butt}</style>\n </defs>\n <g id=\"figure_1\">\n  <g id=\"patch_1\">\n   <path d=\"M 0 275.258045 \nL 476.07 275.258045 \nL 476.07 0 \nL 0 0 \nL 0 275.258045 \nz\n\" style=\"fill: none\"/>\n  </g>\n  <g id=\"axes_1\">\n   <g id=\"patch_2\">\n    <path d=\"M 76.035 253.44 \nL 410.835 253.44 \nL 410.835 36 \nL 76.035 36 \nz\n\" style=\"fill: #e5e5e5\"/>\n   </g>\n   <g id=\"matplotlib.axis_1\">\n    <g id=\"xtick_1\">\n     <g id=\"line2d_1\">\n      <path d=\"M 76.035 253.44 \nL 76.035 36 \n\" clip-path=\"url(#pa1f947799e)\" style=\"fill: none; stroke: #ffffff; stroke-linecap: round\"/>\n     </g>\n     <g id=\"line2d_2\"/>\n     <g id=\"text_1\">\n      <!-- 0 -->\n      <g style=\"fill: #555555\" transform=\"translate(73.71887 266.402458)scale(0.0833 -0.0833)\">\n       <defs>\n        <path id=\"ArialMT-30\" d=\"M 266 2259 \nQ 266 3072 433 3567 \nQ 600 4063 929 4331 \nQ 1259 4600 1759 4600 \nQ 2128 4600 2406 4451 \nQ 2684 4303 2865 4023 \nQ 3047 3744 3150 3342 \nQ 3253 2941 3253 2259 \nQ 3253 1453 3087 958 \nQ 2922 463 2592 192 \nQ 2263 -78 1759 -78 \nQ 1097 -78 719 397 \nQ 266 969 266 2259 \nz\nM 844 2259 \nQ 844 1131 1108 757 \nQ 1372 384 1759 384 \nQ 2147 384 2411 759 \nQ 2675 1134 2675 2259 \nQ 2675 3391 2411 3762 \nQ 2147 4134 1753 4134 \nQ 1366 4134 1134 3806 \nQ 844 3388 844 2259 \nz\n\" transform=\"scale(0.015625)\"/>\n       </defs>\n       <use xlink:href=\"#ArialMT-30\"/>\n      </g>\n     </g>\n    </g>\n    <g id=\"xtick_2\">\n     <g id=\"line2d_3\">\n      <path d=\"M 131.835 253.44 \nL 131.835 36 \n\" clip-path=\"url(#pa1f947799e)\" style=\"fill: none; stroke: #ffffff; stroke-linecap: round\"/>\n     </g>\n     <g id=\"line2d_4\"/>\n     <g id=\"text_2\">\n      <!-- 500 -->\n      <g style=\"fill: #555555\" transform=\"translate(124.886609 266.402458)scale(0.0833 -0.0833)\">\n       <defs>\n        <path id=\"ArialMT-35\" d=\"M 266 1200 \nL 856 1250 \nQ 922 819 1161 601 \nQ 1400 384 1738 384 \nQ 2144 384 2425 690 \nQ 2706 997 2706 1503 \nQ 2706 1984 2436 2262 \nQ 2166 2541 1728 2541 \nQ 1456 2541 1237 2417 \nQ 1019 2294 894 2097 \nL 366 2166 \nL 809 4519 \nL 3088 4519 \nL 3088 3981 \nL 1259 3981 \nL 1013 2750 \nQ 1425 3038 1878 3038 \nQ 2478 3038 2890 2622 \nQ 3303 2206 3303 1553 \nQ 3303 931 2941 478 \nQ 2500 -78 1738 -78 \nQ 1113 -78 717 272 \nQ 322 622 266 1200 \nz\n\" transform=\"scale(0.015625)\"/>\n       </defs>\n       <use xlink:href=\"#ArialMT-35\"/>\n       <use xlink:href=\"#ArialMT-30\" x=\"55.615234\"/>\n       <use xlink:href=\"#ArialMT-30\" x=\"111.230469\"/>\n      </g>\n     </g>\n    </g>\n    <g id=\"xtick_3\">\n     <g id=\"line2d_5\">\n      <path d=\"M 187.635 253.44 \nL 187.635 36 \n\" clip-path=\"url(#pa1f947799e)\" style=\"fill: none; stroke: #ffffff; stroke-linecap: round\"/>\n     </g>\n     <g id=\"line2d_6\"/>\n     <g id=\"text_3\">\n      <!-- 1000 -->\n      <g style=\"fill: #555555\" transform=\"translate(178.370478 266.402458)scale(0.0833 -0.0833)\">\n       <defs>\n        <path id=\"ArialMT-31\" d=\"M 2384 0 \nL 1822 0 \nL 1822 3584 \nQ 1619 3391 1289 3197 \nQ 959 3003 697 2906 \nL 697 3450 \nQ 1169 3672 1522 3987 \nQ 1875 4303 2022 4600 \nL 2384 4600 \nL 2384 0 \nz\n\" transform=\"scale(0.015625)\"/>\n       </defs>\n       <use xlink:href=\"#ArialMT-31\"/>\n       <use xlink:href=\"#ArialMT-30\" x=\"55.615234\"/>\n       <use xlink:href=\"#ArialMT-30\" x=\"111.230469\"/>\n       <use xlink:href=\"#ArialMT-30\" x=\"166.845703\"/>\n      </g>\n     </g>\n    </g>\n    <g id=\"xtick_4\">\n     <g id=\"line2d_7\">\n      <path d=\"M 243.435 253.44 \nL 243.435 36 \n\" clip-path=\"url(#pa1f947799e)\" style=\"fill: none; stroke: #ffffff; stroke-linecap: round\"/>\n     </g>\n     <g id=\"line2d_8\"/>\n     <g id=\"text_4\">\n      <!-- 1500 -->\n      <g style=\"fill: #555555\" transform=\"translate(234.170478 266.402458)scale(0.0833 -0.0833)\">\n       <use xlink:href=\"#ArialMT-31\"/>\n       <use xlink:href=\"#ArialMT-35\" x=\"55.615234\"/>\n       <use xlink:href=\"#ArialMT-30\" x=\"111.230469\"/>\n       <use xlink:href=\"#ArialMT-30\" x=\"166.845703\"/>\n      </g>\n     </g>\n    </g>\n    <g id=\"xtick_5\">\n     <g id=\"line2d_9\">\n      <path d=\"M 299.235 253.44 \nL 299.235 36 \n\" clip-path=\"url(#pa1f947799e)\" style=\"fill: none; stroke: #ffffff; stroke-linecap: round\"/>\n     </g>\n     <g id=\"line2d_10\"/>\n     <g id=\"text_5\">\n      <!-- 2000 -->\n      <g style=\"fill: #555555\" transform=\"translate(289.970478 266.402458)scale(0.0833 -0.0833)\">\n       <defs>\n        <path id=\"ArialMT-32\" d=\"M 3222 541 \nL 3222 0 \nL 194 0 \nQ 188 203 259 391 \nQ 375 700 629 1000 \nQ 884 1300 1366 1694 \nQ 2113 2306 2375 2664 \nQ 2638 3022 2638 3341 \nQ 2638 3675 2398 3904 \nQ 2159 4134 1775 4134 \nQ 1369 4134 1125 3890 \nQ 881 3647 878 3216 \nL 300 3275 \nQ 359 3922 746 4261 \nQ 1134 4600 1788 4600 \nQ 2447 4600 2831 4234 \nQ 3216 3869 3216 3328 \nQ 3216 3053 3103 2787 \nQ 2991 2522 2730 2228 \nQ 2469 1934 1863 1422 \nQ 1356 997 1212 845 \nQ 1069 694 975 541 \nL 3222 541 \nz\n\" transform=\"scale(0.015625)\"/>\n       </defs>\n       <use xlink:href=\"#ArialMT-32\"/>\n       <use xlink:href=\"#ArialMT-30\" x=\"55.615234\"/>\n       <use xlink:href=\"#ArialMT-30\" x=\"111.230469\"/>\n       <use xlink:href=\"#ArialMT-30\" x=\"166.845703\"/>\n      </g>\n     </g>\n    </g>\n    <g id=\"xtick_6\">\n     <g id=\"line2d_11\">\n      <path d=\"M 355.035 253.44 \nL 355.035 36 \n\" clip-path=\"url(#pa1f947799e)\" style=\"fill: none; stroke: #ffffff; stroke-linecap: round\"/>\n     </g>\n     <g id=\"line2d_12\"/>\n     <g id=\"text_6\">\n      <!-- 2500 -->\n      <g style=\"fill: #555555\" transform=\"translate(345.770478 266.402458)scale(0.0833 -0.0833)\">\n       <use xlink:href=\"#ArialMT-32\"/>\n       <use xlink:href=\"#ArialMT-35\" x=\"55.615234\"/>\n       <use xlink:href=\"#ArialMT-30\" x=\"111.230469\"/>\n       <use xlink:href=\"#ArialMT-30\" x=\"166.845703\"/>\n      </g>\n     </g>\n    </g>\n    <g id=\"xtick_7\">\n     <g id=\"line2d_13\">\n      <path d=\"M 410.835 253.44 \nL 410.835 36 \n\" clip-path=\"url(#pa1f947799e)\" style=\"fill: none; stroke: #ffffff; stroke-linecap: round\"/>\n     </g>\n     <g id=\"line2d_14\"/>\n     <g id=\"text_7\">\n      <!-- 3000 -->\n      <g style=\"fill: #555555\" transform=\"translate(401.570478 266.402458)scale(0.0833 -0.0833)\">\n       <defs>\n        <path id=\"ArialMT-33\" d=\"M 269 1209 \nL 831 1284 \nQ 928 806 1161 595 \nQ 1394 384 1728 384 \nQ 2125 384 2398 659 \nQ 2672 934 2672 1341 \nQ 2672 1728 2419 1979 \nQ 2166 2231 1775 2231 \nQ 1616 2231 1378 2169 \nL 1441 2663 \nQ 1497 2656 1531 2656 \nQ 1891 2656 2178 2843 \nQ 2466 3031 2466 3422 \nQ 2466 3731 2256 3934 \nQ 2047 4138 1716 4138 \nQ 1388 4138 1169 3931 \nQ 950 3725 888 3313 \nL 325 3413 \nQ 428 3978 793 4289 \nQ 1159 4600 1703 4600 \nQ 2078 4600 2393 4439 \nQ 2709 4278 2876 4000 \nQ 3044 3722 3044 3409 \nQ 3044 3113 2884 2869 \nQ 2725 2625 2413 2481 \nQ 2819 2388 3044 2092 \nQ 3269 1797 3269 1353 \nQ 3269 753 2831 336 \nQ 2394 -81 1725 -81 \nQ 1122 -81 723 278 \nQ 325 638 269 1209 \nz\n\" transform=\"scale(0.015625)\"/>\n       </defs>\n       <use xlink:href=\"#ArialMT-33\"/>\n       <use xlink:href=\"#ArialMT-30\" x=\"55.615234\"/>\n       <use xlink:href=\"#ArialMT-30\" x=\"111.230469\"/>\n       <use xlink:href=\"#ArialMT-30\" x=\"166.845703\"/>\n      </g>\n     </g>\n    </g>\n   </g>\n   <g id=\"matplotlib.axis_2\">\n    <g id=\"ytick_1\">\n     <g id=\"line2d_15\"/>\n     <g id=\"text_8\">\n      <!-- (1, 1) -->\n      <g style=\"fill: #555555\" transform=\"translate(49.594863 229.29199)scale(0.0833 -0.0833)\">\n       <defs>\n        <path id=\"ArialMT-28\" d=\"M 1497 -1347 \nQ 1031 -759 709 28 \nQ 388 816 388 1659 \nQ 388 2403 628 3084 \nQ 909 3875 1497 4659 \nL 1900 4659 \nQ 1522 4009 1400 3731 \nQ 1209 3300 1100 2831 \nQ 966 2247 966 1656 \nQ 966 153 1900 -1347 \nL 1497 -1347 \nz\n\" transform=\"scale(0.015625)\"/>\n        <path id=\"ArialMT-2c\" d=\"M 569 0 \nL 569 641 \nL 1209 641 \nL 1209 0 \nQ 1209 -353 1084 -570 \nQ 959 -788 688 -906 \nL 531 -666 \nQ 709 -588 793 -436 \nQ 878 -284 888 0 \nL 569 0 \nz\n\" transform=\"scale(0.015625)\"/>\n        <path id=\"ArialMT-20\" transform=\"scale(0.015625)\"/>\n        <path id=\"ArialMT-29\" d=\"M 791 -1347 \nL 388 -1347 \nQ 1322 153 1322 1656 \nQ 1322 2244 1188 2822 \nQ 1081 3291 891 3722 \nQ 769 4003 388 4659 \nL 791 4659 \nQ 1378 3875 1659 3084 \nQ 1900 2403 1900 1659 \nQ 1900 816 1576 28 \nQ 1253 -759 791 -1347 \nz\n\" transform=\"scale(0.015625)\"/>\n       </defs>\n       <use xlink:href=\"#ArialMT-28\"/>\n       <use xlink:href=\"#ArialMT-31\" x=\"33.300781\"/>\n       <use xlink:href=\"#ArialMT-2c\" x=\"88.916016\"/>\n       <use xlink:href=\"#ArialMT-20\" x=\"116.699219\"/>\n       <use xlink:href=\"#ArialMT-31\" x=\"144.482422\"/>\n       <use xlink:href=\"#ArialMT-29\" x=\"200.097656\"/>\n      </g>\n     </g>\n    </g>\n    <g id=\"ytick_2\">\n     <g id=\"line2d_16\"/>\n     <g id=\"text_9\">\n      <!-- (1, 0) -->\n      <g style=\"fill: #555555\" transform=\"translate(49.594863 174.93199)scale(0.0833 -0.0833)\">\n       <use xlink:href=\"#ArialMT-28\"/>\n       <use xlink:href=\"#ArialMT-31\" x=\"33.300781\"/>\n       <use xlink:href=\"#ArialMT-2c\" x=\"88.916016\"/>\n       <use xlink:href=\"#ArialMT-20\" x=\"116.699219\"/>\n       <use xlink:href=\"#ArialMT-30\" x=\"144.482422\"/>\n       <use xlink:href=\"#ArialMT-29\" x=\"200.097656\"/>\n      </g>\n     </g>\n    </g>\n    <g id=\"ytick_3\">\n     <g id=\"line2d_17\"/>\n     <g id=\"text_10\">\n      <!-- (0, 1) -->\n      <g style=\"fill: #555555\" transform=\"translate(49.594863 120.57199)scale(0.0833 -0.0833)\">\n       <use xlink:href=\"#ArialMT-28\"/>\n       <use xlink:href=\"#ArialMT-30\" x=\"33.300781\"/>\n       <use xlink:href=\"#ArialMT-2c\" x=\"88.916016\"/>\n       <use xlink:href=\"#ArialMT-20\" x=\"116.699219\"/>\n       <use xlink:href=\"#ArialMT-31\" x=\"144.482422\"/>\n       <use xlink:href=\"#ArialMT-29\" x=\"200.097656\"/>\n      </g>\n     </g>\n    </g>\n    <g id=\"ytick_4\">\n     <g id=\"line2d_18\"/>\n     <g id=\"text_11\">\n      <!-- (0, 0) -->\n      <g style=\"fill: #555555\" transform=\"translate(49.594863 66.21199)scale(0.0833 -0.0833)\">\n       <use xlink:href=\"#ArialMT-28\"/>\n       <use xlink:href=\"#ArialMT-30\" x=\"33.300781\"/>\n       <use xlink:href=\"#ArialMT-2c\" x=\"88.916016\"/>\n       <use xlink:href=\"#ArialMT-20\" x=\"116.699219\"/>\n       <use xlink:href=\"#ArialMT-30\" x=\"144.482422\"/>\n       <use xlink:href=\"#ArialMT-29\" x=\"200.097656\"/>\n      </g>\n     </g>\n    </g>\n    <g id=\"text_12\">\n     <!-- Warmth,Competence -->\n     <g style=\"fill: #555555\" transform=\"translate(42.226738 204.501562)rotate(-90)scale(0.12 -0.12)\">\n      <defs>\n       <path id=\"Arial-BoldMT-57\" d=\"M 1116 0 \nL 22 4581 \nL 969 4581 \nL 1659 1434 \nL 2497 4581 \nL 3597 4581 \nL 4400 1381 \nL 5103 4581 \nL 6034 4581 \nL 4922 0 \nL 3941 0 \nL 3028 3425 \nL 2119 0 \nL 1116 0 \nz\n\" transform=\"scale(0.015625)\"/>\n       <path id=\"Arial-BoldMT-61\" d=\"M 1116 2306 \nL 319 2450 \nQ 453 2931 781 3162 \nQ 1109 3394 1756 3394 \nQ 2344 3394 2631 3255 \nQ 2919 3116 3036 2902 \nQ 3153 2688 3153 2116 \nL 3144 1091 \nQ 3144 653 3186 445 \nQ 3228 238 3344 0 \nL 2475 0 \nQ 2441 88 2391 259 \nQ 2369 338 2359 363 \nQ 2134 144 1878 34 \nQ 1622 -75 1331 -75 \nQ 819 -75 523 203 \nQ 228 481 228 906 \nQ 228 1188 362 1408 \nQ 497 1628 739 1745 \nQ 981 1863 1438 1950 \nQ 2053 2066 2291 2166 \nL 2291 2253 \nQ 2291 2506 2166 2614 \nQ 2041 2722 1694 2722 \nQ 1459 2722 1328 2630 \nQ 1197 2538 1116 2306 \nz\nM 2291 1594 \nQ 2122 1538 1756 1459 \nQ 1391 1381 1278 1306 \nQ 1106 1184 1106 997 \nQ 1106 813 1243 678 \nQ 1381 544 1594 544 \nQ 1831 544 2047 700 \nQ 2206 819 2256 991 \nQ 2291 1103 2291 1419 \nL 2291 1594 \nz\n\" transform=\"scale(0.015625)\"/>\n       <path id=\"Arial-BoldMT-72\" d=\"M 1300 0 \nL 422 0 \nL 422 3319 \nL 1238 3319 \nL 1238 2847 \nQ 1447 3181 1614 3287 \nQ 1781 3394 1994 3394 \nQ 2294 3394 2572 3228 \nL 2300 2463 \nQ 2078 2606 1888 2606 \nQ 1703 2606 1575 2504 \nQ 1447 2403 1373 2137 \nQ 1300 1872 1300 1025 \nL 1300 0 \nz\n\" transform=\"scale(0.015625)\"/>\n       <path id=\"Arial-BoldMT-6d\" d=\"M 394 3319 \nL 1203 3319 \nL 1203 2866 \nQ 1638 3394 2238 3394 \nQ 2556 3394 2790 3262 \nQ 3025 3131 3175 2866 \nQ 3394 3131 3647 3262 \nQ 3900 3394 4188 3394 \nQ 4553 3394 4806 3245 \nQ 5059 3097 5184 2809 \nQ 5275 2597 5275 2122 \nL 5275 0 \nL 4397 0 \nL 4397 1897 \nQ 4397 2391 4306 2534 \nQ 4184 2722 3931 2722 \nQ 3747 2722 3584 2609 \nQ 3422 2497 3350 2280 \nQ 3278 2063 3278 1594 \nL 3278 0 \nL 2400 0 \nL 2400 1819 \nQ 2400 2303 2353 2443 \nQ 2306 2584 2207 2653 \nQ 2109 2722 1941 2722 \nQ 1738 2722 1575 2612 \nQ 1413 2503 1342 2297 \nQ 1272 2091 1272 1613 \nL 1272 0 \nL 394 0 \nL 394 3319 \nz\n\" transform=\"scale(0.015625)\"/>\n       <path id=\"Arial-BoldMT-74\" d=\"M 1981 3319 \nL 1981 2619 \nL 1381 2619 \nL 1381 1281 \nQ 1381 875 1398 808 \nQ 1416 741 1477 697 \nQ 1538 653 1625 653 \nQ 1747 653 1978 738 \nL 2053 56 \nQ 1747 -75 1359 -75 \nQ 1122 -75 931 4 \nQ 741 84 652 211 \nQ 563 338 528 553 \nQ 500 706 500 1172 \nL 500 2619 \nL 97 2619 \nL 97 3319 \nL 500 3319 \nL 500 3978 \nL 1381 4491 \nL 1381 3319 \nL 1981 3319 \nz\n\" transform=\"scale(0.015625)\"/>\n       <path id=\"Arial-BoldMT-68\" d=\"M 1334 4581 \nL 1334 2897 \nQ 1759 3394 2350 3394 \nQ 2653 3394 2897 3281 \nQ 3141 3169 3264 2994 \nQ 3388 2819 3433 2606 \nQ 3478 2394 3478 1947 \nL 3478 0 \nL 2600 0 \nL 2600 1753 \nQ 2600 2275 2550 2415 \nQ 2500 2556 2373 2639 \nQ 2247 2722 2056 2722 \nQ 1838 2722 1666 2615 \nQ 1494 2509 1414 2295 \nQ 1334 2081 1334 1663 \nL 1334 0 \nL 456 0 \nL 456 4581 \nL 1334 4581 \nz\n\" transform=\"scale(0.015625)\"/>\n       <path id=\"Arial-BoldMT-2c\" d=\"M 438 878 \nL 1316 878 \nL 1316 250 \nQ 1316 -131 1250 -351 \nQ 1184 -572 1001 -747 \nQ 819 -922 538 -1022 \nL 366 -659 \nQ 631 -572 743 -419 \nQ 856 -266 863 0 \nL 438 0 \nL 438 878 \nz\n\" transform=\"scale(0.015625)\"/>\n       <path id=\"Arial-BoldMT-43\" d=\"M 3397 1684 \nL 4294 1400 \nQ 4088 650 3608 286 \nQ 3128 -78 2391 -78 \nQ 1478 -78 890 545 \nQ 303 1169 303 2250 \nQ 303 3394 893 4026 \nQ 1484 4659 2447 4659 \nQ 3288 4659 3813 4163 \nQ 4125 3869 4281 3319 \nL 3366 3100 \nQ 3284 3456 3026 3662 \nQ 2769 3869 2400 3869 \nQ 1891 3869 1573 3503 \nQ 1256 3138 1256 2319 \nQ 1256 1450 1568 1081 \nQ 1881 713 2381 713 \nQ 2750 713 3015 947 \nQ 3281 1181 3397 1684 \nz\n\" transform=\"scale(0.015625)\"/>\n       <path id=\"Arial-BoldMT-6f\" d=\"M 256 1706 \nQ 256 2144 472 2553 \nQ 688 2963 1083 3178 \nQ 1478 3394 1966 3394 \nQ 2719 3394 3200 2905 \nQ 3681 2416 3681 1669 \nQ 3681 916 3195 420 \nQ 2709 -75 1972 -75 \nQ 1516 -75 1102 131 \nQ 688 338 472 736 \nQ 256 1134 256 1706 \nz\nM 1156 1659 \nQ 1156 1166 1390 903 \nQ 1625 641 1969 641 \nQ 2313 641 2545 903 \nQ 2778 1166 2778 1666 \nQ 2778 2153 2545 2415 \nQ 2313 2678 1969 2678 \nQ 1625 2678 1390 2415 \nQ 1156 2153 1156 1659 \nz\n\" transform=\"scale(0.015625)\"/>\n       <path id=\"Arial-BoldMT-70\" d=\"M 434 3319 \nL 1253 3319 \nL 1253 2831 \nQ 1413 3081 1684 3237 \nQ 1956 3394 2288 3394 \nQ 2866 3394 3269 2941 \nQ 3672 2488 3672 1678 \nQ 3672 847 3265 386 \nQ 2859 -75 2281 -75 \nQ 2006 -75 1782 34 \nQ 1559 144 1313 409 \nL 1313 -1263 \nL 434 -1263 \nL 434 3319 \nz\nM 1303 1716 \nQ 1303 1156 1525 889 \nQ 1747 622 2066 622 \nQ 2372 622 2575 867 \nQ 2778 1113 2778 1672 \nQ 2778 2194 2568 2447 \nQ 2359 2700 2050 2700 \nQ 1728 2700 1515 2451 \nQ 1303 2203 1303 1716 \nz\n\" transform=\"scale(0.015625)\"/>\n       <path id=\"Arial-BoldMT-65\" d=\"M 2381 1056 \nL 3256 909 \nQ 3088 428 2723 176 \nQ 2359 -75 1813 -75 \nQ 947 -75 531 491 \nQ 203 944 203 1634 \nQ 203 2459 634 2926 \nQ 1066 3394 1725 3394 \nQ 2466 3394 2894 2905 \nQ 3322 2416 3303 1406 \nL 1103 1406 \nQ 1113 1016 1316 798 \nQ 1519 581 1822 581 \nQ 2028 581 2168 693 \nQ 2309 806 2381 1056 \nz\nM 2431 1944 \nQ 2422 2325 2234 2523 \nQ 2047 2722 1778 2722 \nQ 1491 2722 1303 2513 \nQ 1116 2303 1119 1944 \nL 2431 1944 \nz\n\" transform=\"scale(0.015625)\"/>\n       <path id=\"Arial-BoldMT-6e\" d=\"M 3478 0 \nL 2600 0 \nL 2600 1694 \nQ 2600 2231 2544 2389 \nQ 2488 2547 2361 2634 \nQ 2234 2722 2056 2722 \nQ 1828 2722 1647 2597 \nQ 1466 2472 1398 2265 \nQ 1331 2059 1331 1503 \nL 1331 0 \nL 453 0 \nL 453 3319 \nL 1269 3319 \nL 1269 2831 \nQ 1703 3394 2363 3394 \nQ 2653 3394 2893 3289 \nQ 3134 3184 3257 3021 \nQ 3381 2859 3429 2653 \nQ 3478 2447 3478 2063 \nL 3478 0 \nz\n\" transform=\"scale(0.015625)\"/>\n       <path id=\"Arial-BoldMT-63\" d=\"M 3353 2338 \nL 2488 2181 \nQ 2444 2441 2289 2572 \nQ 2134 2703 1888 2703 \nQ 1559 2703 1364 2476 \nQ 1169 2250 1169 1719 \nQ 1169 1128 1367 884 \nQ 1566 641 1900 641 \nQ 2150 641 2309 783 \nQ 2469 925 2534 1272 \nL 3397 1125 \nQ 3263 531 2881 228 \nQ 2500 -75 1859 -75 \nQ 1131 -75 698 384 \nQ 266 844 266 1656 \nQ 266 2478 700 2936 \nQ 1134 3394 1875 3394 \nQ 2481 3394 2839 3133 \nQ 3197 2872 3353 2338 \nz\n\" transform=\"scale(0.015625)\"/>\n      </defs>\n      <use xlink:href=\"#Arial-BoldMT-57\"/>\n      <use xlink:href=\"#Arial-BoldMT-61\" x=\"90.634766\"/>\n      <use xlink:href=\"#Arial-BoldMT-72\" x=\"146.25\"/>\n      <use xlink:href=\"#Arial-BoldMT-6d\" x=\"185.166016\"/>\n      <use xlink:href=\"#Arial-BoldMT-74\" x=\"274.082031\"/>\n      <use xlink:href=\"#Arial-BoldMT-68\" x=\"307.382812\"/>\n      <use xlink:href=\"#Arial-BoldMT-2c\" x=\"368.466797\"/>\n      <use xlink:href=\"#Arial-BoldMT-43\" x=\"396.25\"/>\n      <use xlink:href=\"#Arial-BoldMT-6f\" x=\"468.466797\"/>\n      <use xlink:href=\"#Arial-BoldMT-6d\" x=\"529.550781\"/>\n      <use xlink:href=\"#Arial-BoldMT-70\" x=\"618.466797\"/>\n      <use xlink:href=\"#Arial-BoldMT-65\" x=\"679.550781\"/>\n      <use xlink:href=\"#Arial-BoldMT-74\" x=\"735.166016\"/>\n      <use xlink:href=\"#Arial-BoldMT-65\" x=\"768.466797\"/>\n      <use xlink:href=\"#Arial-BoldMT-6e\" x=\"824.082031\"/>\n      <use xlink:href=\"#Arial-BoldMT-63\" x=\"885.166016\"/>\n      <use xlink:href=\"#Arial-BoldMT-65\" x=\"940.78125\"/>\n     </g>\n    </g>\n   </g>\n   <g id=\"patch_3\">\n    <path d=\"M 76.035 239.85 \nL 156.7218 239.85 \nL 156.7218 212.67 \nL 76.035 212.67 \nz\n\" clip-path=\"url(#pa1f947799e)\" style=\"fill: #0000ff\"/>\n   </g>\n   <g id=\"patch_4\">\n    <path d=\"M 76.035 185.49 \nL 175.917 185.49 \nL 175.917 158.31 \nL 76.035 158.31 \nz\n\" clip-path=\"url(#pa1f947799e)\" style=\"fill: #0000ff\"/>\n   </g>\n   <g id=\"patch_5\">\n    <path d=\"M 76.035 131.13 \nL 317.5374 131.13 \nL 317.5374 103.95 \nL 76.035 103.95 \nz\n\" clip-path=\"url(#pa1f947799e)\" style=\"fill: #0000ff\"/>\n   </g>\n   <g id=\"patch_6\">\n    <path d=\"M 76.035 76.77 \nL 366.9762 76.77 \nL 366.9762 49.59 \nL 76.035 49.59 \nz\n\" clip-path=\"url(#pa1f947799e)\" style=\"fill: #0000ff\"/>\n   </g>\n   <g id=\"patch_7\">\n    <path d=\"M 76.035 253.44 \nL 76.035 36 \n\" style=\"fill: none; stroke: #ffffff; stroke-linejoin: miter; stroke-linecap: square\"/>\n   </g>\n   <g id=\"patch_8\">\n    <path d=\"M 76.035 253.44 \nL 410.835 253.44 \n\" style=\"fill: none; stroke: #ffffff; stroke-linejoin: miter; stroke-linecap: square\"/>\n   </g>\n   <g id=\"legend_1\">\n    <g id=\"patch_9\">\n     <path d=\"M 349.930313 242.4525 \nL 369.930313 242.4525 \nL 369.930313 235.4525 \nL 349.930313 235.4525 \nz\n\" style=\"fill: #0000ff\"/>\n    </g>\n    <g id=\"text_13\">\n     <!-- index -->\n     <g style=\"fill: #262626\" transform=\"translate(377.930313 242.4525)scale(0.1 -0.1)\">\n      <defs>\n       <path id=\"ArialMT-69\" d=\"M 425 3934 \nL 425 4581 \nL 988 4581 \nL 988 3934 \nL 425 3934 \nz\nM 425 0 \nL 425 3319 \nL 988 3319 \nL 988 0 \nL 425 0 \nz\n\" transform=\"scale(0.015625)\"/>\n       <path id=\"ArialMT-6e\" d=\"M 422 0 \nL 422 3319 \nL 928 3319 \nL 928 2847 \nQ 1294 3394 1984 3394 \nQ 2284 3394 2536 3286 \nQ 2788 3178 2913 3003 \nQ 3038 2828 3088 2588 \nQ 3119 2431 3119 2041 \nL 3119 0 \nL 2556 0 \nL 2556 2019 \nQ 2556 2363 2490 2533 \nQ 2425 2703 2258 2804 \nQ 2091 2906 1866 2906 \nQ 1506 2906 1245 2678 \nQ 984 2450 984 1813 \nL 984 0 \nL 422 0 \nz\n\" transform=\"scale(0.015625)\"/>\n       <path id=\"ArialMT-64\" d=\"M 2575 0 \nL 2575 419 \nQ 2259 -75 1647 -75 \nQ 1250 -75 917 144 \nQ 584 363 401 755 \nQ 219 1147 219 1656 \nQ 219 2153 384 2558 \nQ 550 2963 881 3178 \nQ 1213 3394 1622 3394 \nQ 1922 3394 2156 3267 \nQ 2391 3141 2538 2938 \nL 2538 4581 \nL 3097 4581 \nL 3097 0 \nL 2575 0 \nz\nM 797 1656 \nQ 797 1019 1065 703 \nQ 1334 388 1700 388 \nQ 2069 388 2326 689 \nQ 2584 991 2584 1609 \nQ 2584 2291 2321 2609 \nQ 2059 2928 1675 2928 \nQ 1300 2928 1048 2622 \nQ 797 2316 797 1656 \nz\n\" transform=\"scale(0.015625)\"/>\n       <path id=\"ArialMT-65\" d=\"M 2694 1069 \nL 3275 997 \nQ 3138 488 2766 206 \nQ 2394 -75 1816 -75 \nQ 1088 -75 661 373 \nQ 234 822 234 1631 \nQ 234 2469 665 2931 \nQ 1097 3394 1784 3394 \nQ 2450 3394 2872 2941 \nQ 3294 2488 3294 1666 \nQ 3294 1616 3291 1516 \nL 816 1516 \nQ 847 969 1125 678 \nQ 1403 388 1819 388 \nQ 2128 388 2347 550 \nQ 2566 713 2694 1069 \nz\nM 847 1978 \nL 2700 1978 \nQ 2663 2397 2488 2606 \nQ 2219 2931 1791 2931 \nQ 1403 2931 1139 2672 \nQ 875 2413 847 1978 \nz\n\" transform=\"scale(0.015625)\"/>\n       <path id=\"ArialMT-78\" d=\"M 47 0 \nL 1259 1725 \nL 138 3319 \nL 841 3319 \nL 1350 2541 \nQ 1494 2319 1581 2169 \nQ 1719 2375 1834 2534 \nL 2394 3319 \nL 3066 3319 \nL 1919 1756 \nL 3153 0 \nL 2463 0 \nL 1781 1031 \nL 1600 1309 \nL 728 0 \nL 47 0 \nz\n\" transform=\"scale(0.015625)\"/>\n      </defs>\n      <use xlink:href=\"#ArialMT-69\"/>\n      <use xlink:href=\"#ArialMT-6e\" x=\"22.216797\"/>\n      <use xlink:href=\"#ArialMT-64\" x=\"77.832031\"/>\n      <use xlink:href=\"#ArialMT-65\" x=\"133.447266\"/>\n      <use xlink:href=\"#ArialMT-78\" x=\"189.0625\"/>\n     </g>\n    </g>\n   </g>\n  </g>\n  <g id=\"text_14\">\n   <!-- Training Dataset: Warmth and Competence Sentence Counts -->\n   <g style=\"fill: #262626\" transform=\"translate(7.2 18.8475)scale(0.16 -0.16)\">\n    <defs>\n     <path id=\"Arial-BoldMT-54\" d=\"M 1497 0 \nL 1497 3806 \nL 138 3806 \nL 138 4581 \nL 3778 4581 \nL 3778 3806 \nL 2422 3806 \nL 2422 0 \nL 1497 0 \nz\n\" transform=\"scale(0.015625)\"/>\n     <path id=\"Arial-BoldMT-69\" d=\"M 459 3769 \nL 459 4581 \nL 1338 4581 \nL 1338 3769 \nL 459 3769 \nz\nM 459 0 \nL 459 3319 \nL 1338 3319 \nL 1338 0 \nL 459 0 \nz\n\" transform=\"scale(0.015625)\"/>\n     <path id=\"Arial-BoldMT-67\" d=\"M 378 -219 \nL 1381 -341 \nQ 1406 -516 1497 -581 \nQ 1622 -675 1891 -675 \nQ 2234 -675 2406 -572 \nQ 2522 -503 2581 -350 \nQ 2622 -241 2622 53 \nL 2622 538 \nQ 2228 0 1628 0 \nQ 959 0 569 566 \nQ 263 1013 263 1678 \nQ 263 2513 664 2953 \nQ 1066 3394 1663 3394 \nQ 2278 3394 2678 2853 \nL 2678 3319 \nL 3500 3319 \nL 3500 341 \nQ 3500 -247 3403 -537 \nQ 3306 -828 3131 -993 \nQ 2956 -1159 2664 -1253 \nQ 2372 -1347 1925 -1347 \nQ 1081 -1347 728 -1058 \nQ 375 -769 375 -325 \nQ 375 -281 378 -219 \nz\nM 1163 1728 \nQ 1163 1200 1367 954 \nQ 1572 709 1872 709 \nQ 2194 709 2416 961 \nQ 2638 1213 2638 1706 \nQ 2638 2222 2425 2472 \nQ 2213 2722 1888 2722 \nQ 1572 2722 1367 2476 \nQ 1163 2231 1163 1728 \nz\n\" transform=\"scale(0.015625)\"/>\n     <path id=\"Arial-BoldMT-20\" transform=\"scale(0.015625)\"/>\n     <path id=\"Arial-BoldMT-44\" d=\"M 463 4581 \nL 2153 4581 \nQ 2725 4581 3025 4494 \nQ 3428 4375 3715 4072 \nQ 4003 3769 4153 3330 \nQ 4303 2891 4303 2247 \nQ 4303 1681 4163 1272 \nQ 3991 772 3672 463 \nQ 3431 228 3022 97 \nQ 2716 0 2203 0 \nL 463 0 \nL 463 4581 \nz\nM 1388 3806 \nL 1388 772 \nL 2078 772 \nQ 2466 772 2638 816 \nQ 2863 872 3011 1006 \nQ 3159 1141 3253 1448 \nQ 3347 1756 3347 2288 \nQ 3347 2819 3253 3103 \nQ 3159 3388 2990 3547 \nQ 2822 3706 2563 3763 \nQ 2369 3806 1803 3806 \nL 1388 3806 \nz\n\" transform=\"scale(0.015625)\"/>\n     <path id=\"Arial-BoldMT-73\" d=\"M 150 947 \nL 1031 1081 \nQ 1088 825 1259 692 \nQ 1431 559 1741 559 \nQ 2081 559 2253 684 \nQ 2369 772 2369 919 \nQ 2369 1019 2306 1084 \nQ 2241 1147 2013 1200 \nQ 950 1434 666 1628 \nQ 272 1897 272 2375 \nQ 272 2806 612 3100 \nQ 953 3394 1669 3394 \nQ 2350 3394 2681 3172 \nQ 3013 2950 3138 2516 \nL 2309 2363 \nQ 2256 2556 2107 2659 \nQ 1959 2763 1684 2763 \nQ 1338 2763 1188 2666 \nQ 1088 2597 1088 2488 \nQ 1088 2394 1175 2328 \nQ 1294 2241 1995 2081 \nQ 2697 1922 2975 1691 \nQ 3250 1456 3250 1038 \nQ 3250 581 2869 253 \nQ 2488 -75 1741 -75 \nQ 1063 -75 667 200 \nQ 272 475 150 947 \nz\n\" transform=\"scale(0.015625)\"/>\n     <path id=\"Arial-BoldMT-3a\" d=\"M 628 2441 \nL 628 3319 \nL 1506 3319 \nL 1506 2441 \nL 628 2441 \nz\nM 628 0 \nL 628 878 \nL 1506 878 \nL 1506 0 \nL 628 0 \nz\n\" transform=\"scale(0.015625)\"/>\n     <path id=\"Arial-BoldMT-64\" d=\"M 3503 0 \nL 2688 0 \nL 2688 488 \nQ 2484 203 2207 64 \nQ 1931 -75 1650 -75 \nQ 1078 -75 670 386 \nQ 263 847 263 1672 \nQ 263 2516 659 2955 \nQ 1056 3394 1663 3394 \nQ 2219 3394 2625 2931 \nL 2625 4581 \nL 3503 4581 \nL 3503 0 \nz\nM 1159 1731 \nQ 1159 1200 1306 963 \nQ 1519 619 1900 619 \nQ 2203 619 2415 876 \nQ 2628 1134 2628 1647 \nQ 2628 2219 2422 2470 \nQ 2216 2722 1894 2722 \nQ 1581 2722 1370 2473 \nQ 1159 2225 1159 1731 \nz\n\" transform=\"scale(0.015625)\"/>\n     <path id=\"Arial-BoldMT-53\" d=\"M 231 1491 \nL 1131 1578 \nQ 1213 1125 1461 912 \nQ 1709 700 2131 700 \nQ 2578 700 2804 889 \nQ 3031 1078 3031 1331 \nQ 3031 1494 2936 1608 \nQ 2841 1722 2603 1806 \nQ 2441 1863 1863 2006 \nQ 1119 2191 819 2459 \nQ 397 2838 397 3381 \nQ 397 3731 595 4036 \nQ 794 4341 1167 4500 \nQ 1541 4659 2069 4659 \nQ 2931 4659 3367 4281 \nQ 3803 3903 3825 3272 \nL 2900 3231 \nQ 2841 3584 2645 3739 \nQ 2450 3894 2059 3894 \nQ 1656 3894 1428 3728 \nQ 1281 3622 1281 3444 \nQ 1281 3281 1419 3166 \nQ 1594 3019 2269 2859 \nQ 2944 2700 3267 2529 \nQ 3591 2359 3773 2064 \nQ 3956 1769 3956 1334 \nQ 3956 941 3737 597 \nQ 3519 253 3119 86 \nQ 2719 -81 2122 -81 \nQ 1253 -81 787 320 \nQ 322 722 231 1491 \nz\n\" transform=\"scale(0.015625)\"/>\n     <path id=\"Arial-BoldMT-75\" d=\"M 2644 0 \nL 2644 497 \nQ 2463 231 2167 78 \nQ 1872 -75 1544 -75 \nQ 1209 -75 943 72 \nQ 678 219 559 484 \nQ 441 750 441 1219 \nL 441 3319 \nL 1319 3319 \nL 1319 1794 \nQ 1319 1094 1367 936 \nQ 1416 778 1544 686 \nQ 1672 594 1869 594 \nQ 2094 594 2272 717 \nQ 2450 841 2515 1023 \nQ 2581 1206 2581 1919 \nL 2581 3319 \nL 3459 3319 \nL 3459 0 \nL 2644 0 \nz\n\" transform=\"scale(0.015625)\"/>\n    </defs>\n    <use xlink:href=\"#Arial-BoldMT-54\"/>\n    <use xlink:href=\"#Arial-BoldMT-72\" x=\"55.583984\"/>\n    <use xlink:href=\"#Arial-BoldMT-61\" x=\"94.5\"/>\n    <use xlink:href=\"#Arial-BoldMT-69\" x=\"150.115234\"/>\n    <use xlink:href=\"#Arial-BoldMT-6e\" x=\"177.898438\"/>\n    <use xlink:href=\"#Arial-BoldMT-69\" x=\"238.982422\"/>\n    <use xlink:href=\"#Arial-BoldMT-6e\" x=\"266.765625\"/>\n    <use xlink:href=\"#Arial-BoldMT-67\" x=\"327.849609\"/>\n    <use xlink:href=\"#Arial-BoldMT-20\" x=\"388.933594\"/>\n    <use xlink:href=\"#Arial-BoldMT-44\" x=\"416.716797\"/>\n    <use xlink:href=\"#Arial-BoldMT-61\" x=\"488.933594\"/>\n    <use xlink:href=\"#Arial-BoldMT-74\" x=\"544.548828\"/>\n    <use xlink:href=\"#Arial-BoldMT-61\" x=\"577.849609\"/>\n    <use xlink:href=\"#Arial-BoldMT-73\" x=\"633.464844\"/>\n    <use xlink:href=\"#Arial-BoldMT-65\" x=\"689.080078\"/>\n    <use xlink:href=\"#Arial-BoldMT-74\" x=\"744.695312\"/>\n    <use xlink:href=\"#Arial-BoldMT-3a\" x=\"777.996094\"/>\n    <use xlink:href=\"#Arial-BoldMT-20\" x=\"811.296875\"/>\n    <use xlink:href=\"#Arial-BoldMT-57\" x=\"839.080078\"/>\n    <use xlink:href=\"#Arial-BoldMT-61\" x=\"929.714844\"/>\n    <use xlink:href=\"#Arial-BoldMT-72\" x=\"985.330078\"/>\n    <use xlink:href=\"#Arial-BoldMT-6d\" x=\"1024.246094\"/>\n    <use xlink:href=\"#Arial-BoldMT-74\" x=\"1113.162109\"/>\n    <use xlink:href=\"#Arial-BoldMT-68\" x=\"1146.462891\"/>\n    <use xlink:href=\"#Arial-BoldMT-20\" x=\"1207.546875\"/>\n    <use xlink:href=\"#Arial-BoldMT-61\" x=\"1235.330078\"/>\n    <use xlink:href=\"#Arial-BoldMT-6e\" x=\"1290.945312\"/>\n    <use xlink:href=\"#Arial-BoldMT-64\" x=\"1352.029297\"/>\n    <use xlink:href=\"#Arial-BoldMT-20\" x=\"1413.113281\"/>\n    <use xlink:href=\"#Arial-BoldMT-43\" x=\"1440.896484\"/>\n    <use xlink:href=\"#Arial-BoldMT-6f\" x=\"1513.113281\"/>\n    <use xlink:href=\"#Arial-BoldMT-6d\" x=\"1574.197266\"/>\n    <use xlink:href=\"#Arial-BoldMT-70\" x=\"1663.113281\"/>\n    <use xlink:href=\"#Arial-BoldMT-65\" x=\"1724.197266\"/>\n    <use xlink:href=\"#Arial-BoldMT-74\" x=\"1779.8125\"/>\n    <use xlink:href=\"#Arial-BoldMT-65\" x=\"1813.113281\"/>\n    <use xlink:href=\"#Arial-BoldMT-6e\" x=\"1868.728516\"/>\n    <use xlink:href=\"#Arial-BoldMT-63\" x=\"1929.8125\"/>\n    <use xlink:href=\"#Arial-BoldMT-65\" x=\"1985.427734\"/>\n    <use xlink:href=\"#Arial-BoldMT-20\" x=\"2041.042969\"/>\n    <use xlink:href=\"#Arial-BoldMT-53\" x=\"2068.826172\"/>\n    <use xlink:href=\"#Arial-BoldMT-65\" x=\"2135.525391\"/>\n    <use xlink:href=\"#Arial-BoldMT-6e\" x=\"2191.140625\"/>\n    <use xlink:href=\"#Arial-BoldMT-74\" x=\"2252.224609\"/>\n    <use xlink:href=\"#Arial-BoldMT-65\" x=\"2285.525391\"/>\n    <use xlink:href=\"#Arial-BoldMT-6e\" x=\"2341.140625\"/>\n    <use xlink:href=\"#Arial-BoldMT-63\" x=\"2402.224609\"/>\n    <use xlink:href=\"#Arial-BoldMT-65\" x=\"2457.839844\"/>\n    <use xlink:href=\"#Arial-BoldMT-20\" x=\"2513.455078\"/>\n    <use xlink:href=\"#Arial-BoldMT-43\" x=\"2541.238281\"/>\n    <use xlink:href=\"#Arial-BoldMT-6f\" x=\"2613.455078\"/>\n    <use xlink:href=\"#Arial-BoldMT-75\" x=\"2674.539062\"/>\n    <use xlink:href=\"#Arial-BoldMT-6e\" x=\"2735.623047\"/>\n    <use xlink:href=\"#Arial-BoldMT-74\" x=\"2796.707031\"/>\n    <use xlink:href=\"#Arial-BoldMT-73\" x=\"2830.007812\"/>\n   </g>\n  </g>\n </g>\n <defs>\n  <clipPath id=\"pa1f947799e\">\n   <rect x=\"76.035\" y=\"36\" width=\"334.8\" height=\"217.44\"/>\n  </clipPath>\n </defs>\n</svg>\n",
      "text/plain": [
       "<Figure size 432x288 with 1 Axes>"
      ]
     },
     "metadata": {
      "needs_background": "light"
     },
     "output_type": "display_data"
    }
   ],
   "source": [
    "# Visualize data balance\n",
    "df_jobs_labeled.info()\n",
    "df_jobs_labeled['Warmth'].value_counts()\n",
    "df_jobs_labeled['Competence'].value_counts()\n",
    "warm_comp_count = (\n",
    "    df_jobs_labeled[analysis_columns]\n",
    "    .reset_index()\n",
    "    .groupby(analysis_columns)\n",
    "    .count()\n",
    "    .sort_values(by='index')\n",
    ")\n",
    "fig, ax = plt.subplots()\n",
    "fig.suptitle('Training Dataset: Warmth and Competence Sentence Counts', fontsize=16.0)\n",
    "warm_comp_count.plot(kind='barh', stacked=True, legend=True, color='blue', ax=ax).grid(\n",
    "    axis='y'\n",
    ")\n",
    "# fig.tight_layout()\n",
    "if save_enabled == True:\n",
    "    fig.savefig(f'{plot_save_path}Warmth and Competence Sentence Counts.{image_save_format}', format=image_save_format, dpi=3000)\n",
    "\n",
    "fig.show()"
   ]
  },
  {
   "cell_type": "code",
   "execution_count": 3,
   "id": "4fcfe9c9",
   "metadata": {},
   "outputs": [
    {
     "name": "stderr",
     "output_type": "stream",
     "text": [
      "  0%|          | 0/2 [00:00<?, ?it/s]"
     ]
    },
    {
     "name": "stdout",
     "output_type": "stream",
     "text": [
      "--------------------\n",
      "\n",
      "\n",
      "============================ PROCESSING Warmth ============================\n",
      "\n",
      "\n",
      "--------------------\n"
     ]
    },
    {
     "data": {
      "text/plain": [
       "TfidfVectorizer(lowercase='False', max_features=10000, ngram_range=(1, 3),\n",
       "                use_idf='True')"
      ]
     },
     "execution_count": 3,
     "metadata": {},
     "output_type": "execute_result"
    },
    {
     "data": {
      "text/plain": [
       "LogisticRegression(class_weight='balanced', multi_class='ovr', n_jobs=1,\n",
       "                   random_state=42, solver='liblinear')"
      ]
     },
     "execution_count": 3,
     "metadata": {},
     "output_type": "execute_result"
    },
    {
     "name": "stdout",
     "output_type": "stream",
     "text": [
      "Splitting data into training and test sets.\n",
      "Fitting and transforming data.\n",
      "Resampling Warmth to fix imbalance.\n",
      "====================\n",
      "--------------------\n",
      "Original dataset shape (4791,)\n",
      "Original dataset, counts of label \"1\": 1206\n",
      "Original dataset, counts of label \"0\": 3585\n",
      "Resampled dataset shape (4791,)\n",
      "Resampled dataset, counts of label \"1\": 1206\n",
      "Resampled dataset, counts of label \"0\": 3585\n",
      "--------------------\n",
      "Selecting best features.\n"
     ]
    },
    {
     "name": "stderr",
     "output_type": "stream",
     "text": [
      " 50%|█████     | 1/2 [00:04<00:04,  4.19s/it]"
     ]
    },
    {
     "name": "stdout",
     "output_type": "stream",
     "text": [
      "--------------------\n",
      "\n",
      "\n",
      "============================ PROCESSING Competence ============================\n",
      "\n",
      "\n",
      "--------------------\n"
     ]
    },
    {
     "data": {
      "text/plain": [
       "FeatureUnion(transformer_list=[('CountVectorizer',\n",
       "                                CountVectorizer(lowercase='True',\n",
       "                                                max_features=10000,\n",
       "                                                ngram_range=(1, 3))),\n",
       "                               ('TfidfVectorizer',\n",
       "                                TfidfVectorizer(lowercase='False',\n",
       "                                                max_features=10000,\n",
       "                                                ngram_range=(1, 3),\n",
       "                                                use_idf='True'))])"
      ]
     },
     "execution_count": 3,
     "metadata": {},
     "output_type": "execute_result"
    },
    {
     "data": {
      "text/plain": [
       "VotingClassifier(estimators=[('Multinomial Naive Bayes', MultinomialNB()),\n",
       "                             ('Logistic Regression',\n",
       "                              LogisticRegression(class_weight='balanced',\n",
       "                                                 random_state=42))],\n",
       "                 n_jobs=1, voting='soft')"
      ]
     },
     "execution_count": 3,
     "metadata": {},
     "output_type": "execute_result"
    },
    {
     "name": "stdout",
     "output_type": "stream",
     "text": [
      "Splitting data into training and test sets.\n",
      "Fitting and transforming data.\n",
      "Selecting best features.\n"
     ]
    },
    {
     "name": "stderr",
     "output_type": "stream",
     "text": [
      "100%|██████████| 2/2 [00:06<00:00,  3.34s/it]\n"
     ]
    }
   ],
   "source": [
    "for col in tqdm.tqdm(analysis_columns):\n",
    "    if (\n",
    "        len(\n",
    "            df_jobs_labeled[\n",
    "                df_jobs_labeled[str(col)].map(\n",
    "                    df_jobs_labeled[str(col)].value_counts() > 50\n",
    "                )\n",
    "            ]\n",
    "        )\n",
    "        != 0\n",
    "    ):\n",
    "        print('-' * 20)\n",
    "        print('\\n')\n",
    "        print(\n",
    "            f'============================ PROCESSING {col} ============================'\n",
    "        )\n",
    "        print('\\n')\n",
    "        print('-' * 20)\n",
    "\n",
    "        if str(col) == 'Warmth':\n",
    "            vectorizer_name = final_warmth_vectorizer\n",
    "            classifier_name = final_warmth_classifier\n",
    "        elif str(col) == 'Competence':\n",
    "            vectorizer_name = final_competence_vectorizer\n",
    "            classifier_name = final_competence_classifier\n",
    "\n",
    "        # Set vectorizer and params\n",
    "        vectorizer = vectorizers[vectorizer_name][0]\n",
    "        vectorizer_params = vectorizers[vectorizer_name][1]\n",
    "        vectorizer.set_params(**vectorizer_params)\n",
    "\n",
    "        # Set classifier and params\n",
    "        classifier = classifiers[classifier_name][0]\n",
    "        classifier_params = classifiers[classifier_name][1]\n",
    "        classifier.set_params(**classifier_params)\n",
    "\n",
    "        # BOW Split\n",
    "        print('Splitting data into training and test sets.')\n",
    "        df_jobs_labeled.dropna(subset=[col, text_col], how='any', inplace=True)\n",
    "\n",
    "        train, test = train_test_split(\n",
    "            df_jobs_labeled, test_size=test_split, train_size = 1-test_split, random_state=random_state\n",
    "        )\n",
    "\n",
    "        X_train = train[f'{str(text_col)}'].astype('str').values\n",
    "        y_train = train[str(col)].astype('int64').values\n",
    "\n",
    "        # BOW fit\n",
    "        # Fit, transform, and get vocabulary\n",
    "        print('Fitting and transforming data.')\n",
    "\n",
    "        # BOW fit transform\n",
    "        X_train = vectorizer.fit_transform(X_train)\n",
    "\n",
    "        # Oversampling to fix imbalance\n",
    "        if (resampling_enabled == True) and (col == 'Warmth'):\n",
    "            X_train, y_train = resample_data(X_train, y_train, col, resampling_enabled, resampling_method)\n",
    "\n",
    "        # Selecting best features\n",
    "        if select_best_enabled == True:\n",
    "            print('Selecting best features.')\n",
    "            X_train = selector.fit_transform(X_train, y_train)\n",
    "\n",
    "        # y to numpy array\n",
    "        y_train = torch.from_numpy(np.array(y_train)).float()\n",
    "        if print_enabled:\n",
    "            print(f'Train targets: {y_train}')\n",
    "\n",
    "        # Save vectorizer and selector\n",
    "        if save_enabled == True:\n",
    "            with open(\n",
    "                f'{models_save_path}FINAL Vectorizer {str(col)} - {vectorizer_name} + {classifier_name}.{file_save_format}',\n",
    "                'wb',\n",
    "            ) as f:\n",
    "                joblib.dump(vectorizer, f)\n",
    "            if select_best_enabled == True:\n",
    "                with open(\n",
    "                    f'{models_save_path}FINAL Selector {str(col)} - {vectorizer_name} + {classifier_name}.{file_save_format}',\n",
    "                    'wb',\n",
    "                ) as f:\n",
    "                    joblib.dump(selector, f)"
   ]
  },
  {
   "cell_type": "code",
   "execution_count": null,
   "id": "823c5502",
   "metadata": {},
   "outputs": [],
   "source": []
  }
 ],
 "metadata": {
  "jupytext": {
   "cell_metadata_filter": "-all",
   "notebook_metadata_filter": "-all",
   "text_representation": {
    "extension": ".py",
    "format_name": "percent"
   }
  },
  "kernelspec": {
   "display_name": "Python 3.8.13 ('study1')",
   "language": "python",
   "name": "python3"
  },
  "language_info": {
   "codemirror_mode": {
    "name": "ipython",
    "version": 3
   },
   "file_extension": ".py",
   "mimetype": "text/x-python",
   "name": "python",
   "nbconvert_exporter": "python",
   "pygments_lexer": "ipython3",
   "version": "3.8.13"
  },
  "toc": {
   "base_numbering": 1,
   "nav_menu": {},
   "number_sections": true,
   "sideBar": true,
   "skip_h1_title": false,
   "title_cell": "Table of Contents",
   "title_sidebar": "Contents",
   "toc_cell": false,
   "toc_position": {},
   "toc_section_display": true,
   "toc_window_display": false
  },
  "varInspector": {
   "cols": {
    "lenName": 16,
    "lenType": 16,
    "lenVar": 40
   },
   "kernels_config": {
    "python": {
     "delete_cmd_postfix": "",
     "delete_cmd_prefix": "del ",
     "library": "var_list.py",
     "varRefreshCmd": "print(var_dic_list())"
    },
    "r": {
     "delete_cmd_postfix": ") ",
     "delete_cmd_prefix": "rm(",
     "library": "var_list.r",
     "varRefreshCmd": "cat(var_dic_list()) "
    }
   },
   "types_to_exclude": [
    "module",
    "function",
    "builtin_function_or_method",
    "instance",
    "_Feature"
   ],
   "window_display": false
  },
  "vscode": {
   "interpreter": {
    "hash": "5b0d7544f82776c2b902af54887e7cde1aa7d2da4fd982551ffc3948bf7522f2"
   }
  }
 },
 "nbformat": 4,
 "nbformat_minor": 5
}
