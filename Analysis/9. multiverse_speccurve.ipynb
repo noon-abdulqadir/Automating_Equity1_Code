{
 "cells": [
  {
   "cell_type": "code",
   "execution_count": null,
   "id": "a26fa756",
   "metadata": {
    "lines_to_next_cell": 0
   },
   "outputs": [],
   "source": [
    "# -*- coding: utf-8 -*-\n",
    "# %%\n",
    "# To add a new cell, type '# %%'\n",
    "# To add a new markdown cell, type '# %% [markdown]'\n",
    "# %% [markdown]\n",
    "# ### Install packages and import\n",
    "# %%\n",
    "# #################################### PLEASE INSTALL LATEST CHROME WEBDRIVER #####################################\n",
    "# Uncomment to run as required\n",
    "# #     --install-option=\"--chromedriver-version= *.**\" \\\n",
    "#   --install-option=\"--chromedriver-checksums=4fecc99b066cb1a346035bf022607104,058cd8b7b4b9688507701b5e648fd821\"\n",
    "# %%\n",
    "# ##### COPY THE LINES IN THIS COMMENT TO THE TOP OF NEW SCRIPTS #####\n",
    "# # Function to import this package to other files\n",
    "# import os\n",
    "# import sys\n",
    "# from pathlib import Path\n",
    "\n",
    "# code_dir = None\n",
    "# code_dir_name = 'Code'\n",
    "# unwanted_subdir_name = 'Analysis'\n",
    "\n",
    "# for _ in range(5):\n",
    "\n",
    "#     parent_path = str(Path.cwd().parents[_]).split('/')[-1]\n",
    "\n",
    "#     if (code_dir_name in parent_path) and (\n",
    "#         unwanted_subdir_name not in parent_path):\n",
    "\n",
    "#         code_dir = str(Path.cwd().parents[_])\n",
    "\n",
    "#         if code_dir is not None:\n",
    "#             break\n",
    "\n",
    "# main_dir = str(Path(code_dir).parents[0])\n",
    "# sys.path.append(code_dir)\n",
    "\n",
    "# from setup_module.imports import *\n",
    "# from setup_module.params import *\n",
    "# from setup_module.scraping import *\n",
    "# from setup_module.classification import *\n",
    "# from setup_module.vectorizers_classifiers import *\n",
    "\n",
    "# warnings.filterwarnings(\"ignore\", category=DeprecationWarning)\n",
    "# %matplotlib notebook\n",
    "# %matplotlib inline\n",
    "\n",
    "# %%\n",
    "import os\n",
    "import sys\n",
    "from pathlib import Path\n",
    "\n",
    "code_dir = None\n",
    "code_dir_name = 'Code'\n",
    "unwanted_subdir_name = 'Analysis'\n",
    "\n",
    "for _ in range(5):\n",
    "\n",
    "    parent_path = str(Path.cwd().parents[_]).split('/')[-1]\n",
    "\n",
    "    if (code_dir_name in parent_path) and (\n",
    "        unwanted_subdir_name not in parent_path):\n",
    "\n",
    "        code_dir = str(Path.cwd().parents[_])\n",
    "\n",
    "        if code_dir is not None:\n",
    "            break\n",
    "\n",
    "main_dir = str(Path(code_dir).parents[0])\n",
    "sys.path.append(code_dir)\n",
    "\n",
    "from setup_module.imports import *\n",
    "from setup_module.params import *\n",
    "from setup_module.scraping import *\n",
    "from setup_module.classification import *\n",
    "from setup_module.vectorizers_classifiers import *\n",
    "\n",
    "warnings.filterwarnings(\"ignore\")\n",
    "# %matplotlib widget\n",
    "# %matplotlib inline"
   ]
  },
  {
   "cell_type": "markdown",
   "id": "02e9c244",
   "metadata": {},
   "source": [
    "# Outliers check"
   ]
  },
  {
   "cell_type": "code",
   "execution_count": null,
   "id": "bb485ed3",
   "metadata": {},
   "outputs": [],
   "source": [
    "# Get dict for normal and mean dfs + visualize\n",
    "dataframes =  get_and_viz_df_dict(dataframes, df_loc)\n",
    "print('='*80)\n",
    "print(f'DATAFRAME KEYS:\\n{dataframes.keys()}')\n",
    "print('='*80)"
   ]
  },
  {
   "cell_type": "markdown",
   "id": "7b4de431",
   "metadata": {},
   "source": [
    "## Specify sample/outliers based on Multiverse Analysis"
   ]
  },
  {
   "cell_type": "code",
   "execution_count": null,
   "id": "061d88c9",
   "metadata": {},
   "outputs": [],
   "source": [
    "# Get cutoff threasholds dict\n",
    "spec_curve_dataframes = {}\n",
    "\n",
    "if (os.path.isfile('spec_curve_cutoff_dict.json')):\n",
    "    with open(f'{table_save_path}spec_curve_cutoff_dict.json', 'r') as f:\n",
    "        spec_curve_cutoff_dict = json.load(f)\n",
    "\n",
    "elif not os.path.isfile('spec_curve_cutoff_dict.json'):\n",
    "    spec_curve_cutoff_dict = {\"decisions\": [{\"var\": \"cutoff\", \"options\": [0, 1.96, 2.58, 3.29]}]}\n",
    "    with open(f'{table_save_path}spec_curve_cutoff_dict.json', 'w', encoding='utf8') as f:\n",
    "        json.dump(spec_curve_cutoff_dict, f)"
   ]
  },
  {
   "cell_type": "code",
   "execution_count": null,
   "id": "29ac3a6f",
   "metadata": {},
   "outputs": [],
   "source": [
    "for df_name, df_df in dataframes.items():\n",
    "\n",
    "    print('=' * 20)\n",
    "    print(f'Analysing {df_name}:')\n",
    "    print('=' * 20)\n",
    "\n",
    "    for dv in dv_cols:\n",
    "\n",
    "        # --- (BOBA_CONFIG)\n",
    "        {\"decisions\": [{\"var\": \"cutoff\", \"options\": [0, 1.96, 2.58, 3.29]}]}\n",
    "        # --- (END)\n",
    "\n",
    "        # --- (A) std\n",
    "        spec_curve_dataframes[{{cutoff}}] = df_df[np.abs(df_df[f'{dv}'] - df_df[f'{dv}'].mean()) <= ({{cutoff}} * df_df['Warmth'].std())]\n",
    "\n",
    "        print('-' * 20)\n",
    "        print(f'{dv}')\n",
    "        print('-' * 20)\n",
    "        print(f\"Minimum: {spec_curve_dataframes[{{cutoff}}][f'{dv}'].min()}\")\n",
    "        print(f\"Maximum: {spec_curve_dataframes[{{cutoff}}][f'{dv}'].max()}\")\n",
    "\n",
    "        spec_curve_dataframes[{{cutoff}}].to_csv(f'{data_save_path}{df_name}_zscore{{cutoff}}_spec_curve_outliers_age_limit-{age_limit}_age_ratio-{age_ratio}_gender_ratio-{gender_ratio}.{file_save_format_backup}', index=False)\n",
    "\n",
    "\n",
    "        spec_curve_dataframes[{{cutoff}}].to_pickle(f'{data_save_path}{df_name}_zscore{{cutoff}}_spec_curve_outliers_age_limit-{age_limit}_age_ratio-{age_ratio}_gender_ratio-{gender_ratio}.{file_save_format}')\n"
   ]
  },
  {
   "cell_type": "markdown",
   "id": "c9619015",
   "metadata": {},
   "source": [
    "## Specification Curve Analysis"
   ]
  },
  {
   "cell_type": "code",
   "execution_count": null,
   "id": "57c9e121",
   "metadata": {},
   "outputs": [],
   "source": [
    "x_exog = ivs\n",
    "y_endog = dvs\n",
    "sc = specy.SpecificationCurve(spec_curve_dataframes[{{cutoff}}], y_endog, x_exog)\n",
    "sc.fit()\n",
    "sc.plot()"
   ]
  },
  {
   "cell_type": "code",
   "execution_count": null,
   "id": "e38bd14b",
   "metadata": {},
   "outputs": [],
   "source": [
    "import itertools\n",
    "for iv, dv in itertools.product(ivs, dvs):\n",
    "    x_exog = iv\n",
    "    y_endog = dv\n",
    "    sc = specy.SpecificationCurve(spec_curve_dataframes[{{cutoff}}], y_endog, x_exog)\n",
    "    sc.fit()\n",
    "    sc.plot()"
   ]
  }
 ],
 "metadata": {
  "interpreter": {
   "hash": "aee8b7b246df8f9039afb4144a1f6fd8d2ca17a180786b69acc140d282b71a49"
  },
  "jupytext": {
   "cell_metadata_filter": "-all",
   "notebook_metadata_filter": "-all",
   "text_representation": {
    "extension": ".py",
    "format_name": "percent"
   }
  },
  "kernelspec": {
   "display_name": "Python 3.8.10 64-bit",
   "name": "python3"
  },
  "language_info": {
   "codemirror_mode": {
    "name": "ipython",
    "version": 3
   },
   "file_extension": ".py",
   "mimetype": "text/x-python",
   "name": "python",
   "nbconvert_exporter": "python",
   "pygments_lexer": "ipython3",
   "version": "3.9.10"
  },
  "toc": {
   "base_numbering": 1,
   "nav_menu": {},
   "number_sections": true,
   "sideBar": true,
   "skip_h1_title": false,
   "title_cell": "Table of Contents",
   "title_sidebar": "Contents",
   "toc_cell": false,
   "toc_position": {},
   "toc_section_display": true,
   "toc_window_display": false
  },
  "varInspector": {
   "cols": {
    "lenName": 16,
    "lenType": 16,
    "lenVar": 40
   },
   "kernels_config": {
    "python": {
     "delete_cmd_postfix": "",
     "delete_cmd_prefix": "del ",
     "library": "var_list.py",
     "varRefreshCmd": "print(var_dic_list())"
    },
    "r": {
     "delete_cmd_postfix": ") ",
     "delete_cmd_prefix": "rm(",
     "library": "var_list.r",
     "varRefreshCmd": "cat(var_dic_list()) "
    }
   },
   "types_to_exclude": [
    "module",
    "function",
    "builtin_function_or_method",
    "instance",
    "_Feature"
   ],
   "window_display": false
  }
 },
 "nbformat": 4,
 "nbformat_minor": 5
}
