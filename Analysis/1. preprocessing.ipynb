{
 "cells": [
  {
   "cell_type": "code",
   "execution_count": 1,
   "metadata": {
    "ExecuteTime": {
     "end_time": "2022-05-23T01:48:28.408892Z",
     "start_time": "2022-05-23T01:47:51.554179Z"
    },
    "scrolled": true
   },
   "outputs": [
    {
     "data": {
      "text/html": [
       "<style>.container { width:90% !important; }</style>"
      ],
      "text/plain": [
       "<IPython.core.display.HTML object>"
      ]
     },
     "metadata": {},
     "output_type": "display_data"
    },
    {
     "data": {
      "application/vnd.jupyter.widget-view+json": {
       "model_id": "9d249924d7a04908aebea2fe63fa9f3c",
       "version_major": 2,
       "version_minor": 0
      },
      "text/plain": [
       "0it [00:00, ?it/s]"
      ]
     },
     "metadata": {},
     "output_type": "display_data"
    },
    {
     "name": "stdout",
     "output_type": "stream",
     "text": [
      "Metal device set to: Apple M1\n",
      "\n",
      "systemMemory: 16.00 GB\n",
      "maxCacheSize: 5.33 GB\n",
      "\n"
     ]
    },
    {
     "name": "stderr",
     "output_type": "stream",
     "text": [
      "2022-12-09 12:10:40.225801: I tensorflow/core/common_runtime/pluggable_device/pluggable_device_factory.cc:306] Could not identify NUMA node of platform GPU ID 0, defaulting to 0. Your kernel may not have been built with NUMA support.\n",
      "2022-12-09 12:10:40.226070: I tensorflow/core/common_runtime/pluggable_device/pluggable_device_factory.cc:272] Created TensorFlow device (/job:localhost/replica:0/task:0/device:GPU:0 with 0 MB memory) -> physical PluggableDevice (device: 0, name: METAL, pci bus id: <undefined>)\n",
      "WARNING:gensim.models.keyedvectors:destructive init_sims(replace=True) deprecated & no longer required for space-efficiency\n"
     ]
    },
    {
     "name": "stdout",
     "output_type": "stream",
     "text": [
      "Warning: Cannot change to a different GUI toolkit: widget. Using notebook instead.\n"
     ]
    }
   ],
   "source": [
    "# -*- coding: utf-8 -*-\n",
    "# %%\n",
    "# To add a new cell, type '# %%'\n",
    "# To add a new markdown cell, type '# %% [markdown]'\n",
    "# %% [markdown]\n",
    "# ### Install packages and import\n",
    "# %%\n",
    "# #################################### PLEASE INSTALL LATEST CHROME WEBDRIVER #####################################\n",
    "# Uncomment to run as required\n",
    "# #     --install-option=\"--chromedriver-version= *.**\" \\\n",
    "#   --install-option=\"--chromedriver-checksums=4fecc99b066cb1a346035bf022607104,058cd8b7b4b9688507701b5e648fd821\"\n",
    "# %%\n",
    "# ##### COPY THE LINES IN THIS COMMENT TO THE TOP OF NEW SCRIPTS #####\n",
    "# # Function to import this package to other files\n",
    "# import os\n",
    "# import sys\n",
    "# from pathlib import Path\n",
    "\n",
    "# code_dir = None\n",
    "# code_dir_name = 'Code'\n",
    "# unwanted_subdir_name = 'Analysis'\n",
    "\n",
    "# for _ in range(5):\n",
    "\n",
    "#     parent_path = str(Path.cwd().parents[_]).split('/')[-1]\n",
    "\n",
    "#     if (code_dir_name in parent_path) and (unwanted_subdir_name not in parent_path):\n",
    "\n",
    "#         code_dir = str(Path.cwd().parents[_])\n",
    "\n",
    "#         if code_dir is not None:\n",
    "#             breakconda env export >\n",
    "\n",
    "# main_dir = str(Path(code_dir).parents[0])\n",
    "# scraped_data = f'{code_dir}/scraped_data'\n",
    "# sys.path.append(code_dir)\n",
    "\n",
    "# from setup_module.imports import *\n",
    "# from setup_module.params import *\n",
    "# from setup_module.scraping import *\n",
    "# from setup_module.classification import *\n",
    "# from setup_module.vectorizers_classifiers import *\n",
    "\n",
    "# warnings.filterwarnings(\"ignore\", category=DeprecationWarning)\n",
    "# %matplotlib notebook\n",
    "# %matplotlib inline\n",
    "\n",
    "# %%\n",
    "import os\n",
    "import sys\n",
    "from pathlib import Path\n",
    "\n",
    "code_dir = None\n",
    "code_dir_name = 'Code'\n",
    "unwanted_subdir_name = 'Analysis'\n",
    "\n",
    "for _ in range(5):\n",
    "\n",
    "    parent_path = str(Path.cwd().parents[_]).split('/')[-1]\n",
    "\n",
    "    if (code_dir_name in parent_path) and (unwanted_subdir_name not in parent_path):\n",
    "\n",
    "        code_dir = str(Path.cwd().parents[_])\n",
    "\n",
    "        if code_dir is not None:\n",
    "            break\n",
    "\n",
    "main_dir = str(Path(code_dir).parents[0])\n",
    "scraped_data = f'{code_dir}/scraped_data'\n",
    "sys.path.append(code_dir)\n",
    "\n",
    "from setup_module.imports import *\n",
    "from setup_module.params import *\n",
    "from setup_module.scraping import *\n",
    "from setup_module.classification import *\n",
    "from setup_module.vectorizers_classifiers import *\n",
    "\n",
    "warnings.filterwarnings(\"ignore\")\n",
    "%matplotlib notebook\n",
    "%matplotlib widget\n",
    "%matplotlib inline"
   ]
  },
  {
   "cell_type": "markdown",
   "metadata": {},
   "source": [
    "# Complete Dataset"
   ]
  },
  {
   "cell_type": "code",
   "execution_count": 2,
   "metadata": {
    "ExecuteTime": {
     "start_time": "2022-05-23T01:47:51.586Z"
    }
   },
   "outputs": [
    {
     "name": "stdout",
     "output_type": "stream",
     "text": [
      "DF Processed:\n",
      "<class 'pandas.core.frame.DataFrame'>\n",
      "RangeIndex: 21204 entries, 0 to 21203\n",
      "Data columns (total 25 columns):\n",
      " #   Column               Non-Null Count  Dtype         \n",
      "---  ------               --------------  -----         \n",
      " 0   Search Keyword       21204 non-null  object        \n",
      " 1   Platform             21204 non-null  object        \n",
      " 2   Job ID               21204 non-null  object        \n",
      " 3   Job Title            21204 non-null  object        \n",
      " 4   Company Name         21201 non-null  object        \n",
      " 5   Location             21204 non-null  object        \n",
      " 6   Job Description      21204 non-null  object        \n",
      " 7   Rating               9226 non-null   float64       \n",
      " 8   Employment Type      20563 non-null  object        \n",
      " 9   Company URL          19907 non-null  object        \n",
      " 10  Job URL              21204 non-null  object        \n",
      " 11  Job Age              21204 non-null  object        \n",
      " 12  Job Age Number       21204 non-null  object        \n",
      " 13  Collection Date      21204 non-null  datetime64[ns]\n",
      " 14  Language             21204 non-null  object        \n",
      " 15  Gender               21204 non-null  object        \n",
      " 16  Age                  21204 non-null  object        \n",
      " 17  English Requirement  21204 non-null  object        \n",
      " 18  Dutch Requirement    21204 non-null  object        \n",
      " 19  Industry             12619 non-null  object        \n",
      " 20  Sector               12619 non-null  object        \n",
      " 21  Type of ownership    641 non-null    object        \n",
      " 22  Data Row             11677 non-null  float64       \n",
      " 23  Tracking ID          11677 non-null  object        \n",
      " 24  Job Date             11978 non-null  object        \n",
      "dtypes: datetime64[ns](1), float64(2), object(22)\n",
      "memory usage: 4.0+ MB\n"
     ]
    },
    {
     "data": {
      "text/plain": [
       "Mixed Gender    16134\n",
       "Male             3334\n",
       "Female           1736\n",
       "Name: Gender, dtype: int64"
      ]
     },
     "execution_count": 2,
     "metadata": {},
     "output_type": "execute_result"
    },
    {
     "data": {
      "text/plain": [
       "Mixed Age         15503\n",
       "Older Worker       3898\n",
       "Younger     1803\n",
       "Name: Age, dtype: int64"
      ]
     },
     "execution_count": 2,
     "metadata": {},
     "output_type": "execute_result"
    },
    {
     "name": "stdout",
     "output_type": "stream",
     "text": [
      "\n",
      "DF INFO:\n",
      "\n",
      "<class 'pandas.core.frame.DataFrame'>\n",
      "RangeIndex: 21204 entries, 0 to 21203\n",
      "Data columns (total 25 columns):\n",
      " #   Column               Non-Null Count  Dtype         \n",
      "---  ------               --------------  -----         \n",
      " 0   Search Keyword       21204 non-null  object        \n",
      " 1   Platform             21204 non-null  object        \n",
      " 2   Job ID               21204 non-null  object        \n",
      " 3   Job Title            21204 non-null  object        \n",
      " 4   Company Name         21201 non-null  object        \n",
      " 5   Location             21204 non-null  object        \n",
      " 6   Job Description      21204 non-null  object        \n",
      " 7   Rating               9226 non-null   float64       \n",
      " 8   Employment Type      20563 non-null  object        \n",
      " 9   Company URL          19907 non-null  object        \n",
      " 10  Job URL              21204 non-null  object        \n",
      " 11  Job Age              21204 non-null  object        \n",
      " 12  Job Age Number       21204 non-null  object        \n",
      " 13  Collection Date      21204 non-null  datetime64[ns]\n",
      " 14  Language             21204 non-null  object        \n",
      " 15  Gender               21204 non-null  object        \n",
      " 16  Age                  21204 non-null  object        \n",
      " 17  English Requirement  21204 non-null  object        \n",
      " 18  Dutch Requirement    21204 non-null  object        \n",
      " 19  Industry             12619 non-null  object        \n",
      " 20  Sector               12619 non-null  object        \n",
      " 21  Type of ownership    641 non-null    object        \n",
      " 22  Data Row             11677 non-null  float64       \n",
      " 23  Tracking ID          11677 non-null  object        \n",
      " 24  Job Date             11978 non-null  object        \n",
      "dtypes: datetime64[ns](1), float64(2), object(22)\n",
      "memory usage: 4.0+ MB\n",
      "====================\n",
      "Gender:\n",
      "--------------------\n",
      "Gender Counts:\n",
      "Mixed Gender    16134\n",
      "Male             3334\n",
      "Female           1736\n",
      "Name: Gender, dtype: int64\n",
      "--------------------\n",
      "Gender Percentages:\n",
      "Mixed Gender   76.100\n",
      "Male           15.700\n",
      "Female          8.200\n",
      "Name: Gender, dtype: float64\n",
      "--------------------\n",
      "====================\n",
      "Gender_Num:\n",
      "--------------------\n",
      "Gender_Num not available.\n",
      "====================\n",
      "Gender_Female:\n",
      "--------------------\n",
      "Gender_Female not available.\n",
      "====================\n",
      "Gender_Mixed:\n",
      "--------------------\n",
      "Gender_Mixed not available.\n",
      "====================\n",
      "Gender_Male:\n",
      "--------------------\n",
      "Gender_Male not available.\n",
      "====================\n",
      "Age:\n",
      "--------------------\n",
      "Age Counts:\n",
      "Mixed Age         15503\n",
      "Older Worker       3898\n",
      "Younger     1803\n",
      "Name: Age, dtype: int64\n",
      "--------------------\n",
      "Age Percentages:\n",
      "Mixed Age        73.100\n",
      "Older Worker     18.400\n",
      "Younger    8.500\n",
      "Name: Age, dtype: float64\n",
      "--------------------\n",
      "====================\n",
      "Age_Num:\n",
      "--------------------\n",
      "Age_Num not available.\n",
      "====================\n",
      "Age_Older:\n",
      "--------------------\n",
      "Age_Older not available.\n",
      "====================\n",
      "Age_Mixed:\n",
      "--------------------\n",
      "Age_Mixed not available.\n",
      "====================\n",
      "Age_Younger:\n",
      "--------------------\n",
      "Age_Younger not available.\n",
      "\n",
      "\n"
     ]
    },
    {
     "data": {
      "text/plain": [
       "No     20192\n",
       "Yes     1012\n",
       "Name: English Requirement, dtype: int64"
      ]
     },
     "execution_count": 2,
     "metadata": {},
     "output_type": "execute_result"
    },
    {
     "data": {
      "text/plain": [
       "No     20753\n",
       "Yes      451\n",
       "Name: Dutch Requirement, dtype: int64"
      ]
     },
     "execution_count": 2,
     "metadata": {},
     "output_type": "execute_result"
    }
   ],
   "source": [
    "if classification_final_from_post_cleanup is True and is_non_zero_file(df_dir + f'df_jobs_post_cleanup.{file_save_format}') is False:\n",
    "\n",
    "    print('Post Cleanup Started.')\n",
    "    df_jobs = post_cleanup(\n",
    "        keywords_from_list=True,\n",
    "        site_from_list=True)\n",
    "    print('Post Cleanup Finished.')\n",
    "\n",
    "    # with open(df_dir + f'df_jobs_post_cleanup.{file_save_format_backup}', 'w', newline=\"\") as f:\n",
    "    #     writer = csv.writer(f)\n",
    "    #     writer.writerows(df_jobs)\n",
    "\n",
    "    with open(df_dir + f'df_jobs_post_cleanup.{file_save_format}', 'wb') as f:\n",
    "        pickle.dump(df_jobs, f)\n",
    "\n",
    "elif classification_final_from_post_cleanup is False or is_non_zero_file(df_dir + f'df_jobs_post_cleanup.{file_save_format}') is True:\n",
    "\n",
    "    with open(df_dir + f'df_jobs_post_cleanup.{file_save_format}', 'rb') as f:\n",
    "        df_jobs = pickle.load(f)\n",
    "\n",
    "if classification_final_from_df_jobs_list is True:\n",
    "    print('Reading Jobs List.')\n",
    "    df_all = []\n",
    "    for jobs_list in tqdm.tqdm(df_jobs):\n",
    "        if isinstance(jobs_list, list):\n",
    "            df_all.extend(d for d in jobs_list if isinstance(d, pd.DataFrame))\n",
    "        elif isinstance(jobs_list, pd.DataFrame):\n",
    "            df_all.append(jobs_list)\n",
    "\n",
    "    print('Concatenating Jobs List.')\n",
    "    df_all = pd.concat(df_all)\n",
    "\n",
    "    print('DF from list:')\n",
    "    df_all.info()\n",
    "    df_all['Gender'].value_counts()\n",
    "    df_all['Age'].value_counts()\n",
    "\n",
    "    df_all.to_pickle(\n",
    "        f'{df_dir}df_from_list_age_limit-{age_limit}_age_ratio-{age_ratio}_gender_ratio-{gender_ratio}.{file_save_format}')\n",
    "\n",
    "    df_all.to_csv(\n",
    "        f'{df_dir}df_from_list_age_limit-{age_limit}_age_ratio-{age_ratio}_gender_ratio-{gender_ratio}.{file_save_format_backup}',\n",
    "        index=False,\n",
    "    )\n",
    "\n",
    "    df_all.drop_duplicates(\n",
    "        subset=[\n",
    "            'Search Keyword',\n",
    "            'Platform',\n",
    "            'Job ID',\n",
    "            'Job Title',\n",
    "            'Company Name',\n",
    "            'Job Description',\n",
    "        ],\n",
    "        keep='first',\n",
    "        inplace=True,\n",
    "        ignore_index=True,\n",
    "    )\n",
    "\n",
    "    # Fix Date\n",
    "    df_all['Collection Date'] = pd.to_datetime(df_all['Collection Date'])\n",
    "\n",
    "    # Arrange Categories\n",
    "    df_all = categorize_df_gender_age(df_all)\n",
    "\n",
    "    # Gender Recode\n",
    "    df_all = dummy_code_df_gender_age(df_all)\n",
    "\n",
    "    print('DF Main:')\n",
    "    df_all.info()\n",
    "    df_all['Gender'].value_counts()\n",
    "    df_all['Age'].value_counts()\n",
    "\n",
    "    df_all.to_pickle(\n",
    "        f'{df_dir}df_age_limit-{age_limit}_age_ratio-{age_ratio}_gender_ratio-{gender_ratio}.{file_save_format}')\n",
    "\n",
    "    df_all.to_csv(\n",
    "        f'{df_dir}df_age_limit-{age_limit}_age_ratio-{age_ratio}_gender_ratio-{gender_ratio}.{file_save_format_backup}',\n",
    "        index=False,\n",
    "    )\n",
    "\n",
    "    print(df_all['Collection Date'].drop_duplicates().nlargest(5))\n",
    "\n",
    "    df_all = df_all.loc[df_all['Collection Date'] < '2021-05-01']\n",
    "\n",
    "    print('DF Fixed Date:')\n",
    "    df_all.info()\n",
    "    df_all['Gender'].value_counts()\n",
    "    df_all['Age'].value_counts()\n",
    "\n",
    "    df_all.to_pickle(\n",
    "        f'{df_dir}df_fixed_date_age_limit-{age_limit}_age_ratio-{age_ratio}_gender_ratio-{gender_ratio}.{file_save_format}')\n",
    "\n",
    "    df_all.to_csv(\n",
    "        f'{df_dir}df_fixed_date_age_limit-{age_limit}_age_ratio-{age_ratio}_gender_ratio-{gender_ratio}.{file_save_format_backup}',\n",
    "        index=False,\n",
    "    )\n",
    "\n",
    "    print('Spliting into Sentences.')\n",
    "    df_all = split_df_jobs_to_df_sent(df_all)\n",
    "\n",
    "    print('DF Split:')\n",
    "    df_all.info()\n",
    "    df_all['Gender'].value_counts()\n",
    "    df_all['Age'].value_counts()\n",
    "\n",
    "    df_all.to_pickle(\n",
    "        f'{df_dir}df_split_age_limit-{age_limit}_age_ratio-{age_ratio}_gender_ratio-{gender_ratio}.{file_save_format}')\n",
    "\n",
    "    df_all.to_csv(\n",
    "        f'{df_dir}df_split_age_limit-{age_limit}_age_ratio-{age_ratio}_gender_ratio-{gender_ratio}.{file_save_format_backup}',\n",
    "        index=False,\n",
    "    )\n",
    "\n",
    "    print('Simple Preprocessing')\n",
    "    df_all = simple_preprocess_df(\n",
    "        df_jobs_to_be_processed=df_all,\n",
    "    )\n",
    "\n",
    "    # Arrange Categories\n",
    "    df_all = categorize_df_gender_age(df_all)\n",
    "\n",
    "    # Gender Recode\n",
    "    df_all = dummy_code_df_gender_age(df_all)\n",
    "\n",
    "    print('DF Processed:')\n",
    "    df_all.info()\n",
    "    df_all['Gender'].value_counts()\n",
    "    df_all['Age'].value_counts()\n",
    "    df_gender_age_info(df_all)\n",
    "    df_all['English Requirement'].value_counts()\n",
    "    df_all['Dutch Requirement'].value_counts()\n",
    "\n",
    "    df_all.to_pickle(f'{df_dir}df_processed_age_limit-{age_limit}_age_ratio-{age_ratio}_gender_ratio-{gender_ratio}.{file_save_format}')\n",
    "\n",
    "\n",
    "    df_all.to_csv(f'{df_dir}df_processed_age_limit-{age_limit}_age_ratio-{age_ratio}_gender_ratio-{gender_ratio}.{file_save_format_backup}',\n",
    "        index=False)\n",
    "\n",
    "elif classification_final_from_df_jobs_list is False:\n",
    "    df_all = pd.read_pickle(f'{df_dir}df_processed_age_limit-{age_limit}_age_ratio-{age_ratio}_gender_ratio-{gender_ratio}.{file_save_format}')\n",
    "    print('DF Processed:')\n",
    "    df_all.info()\n",
    "    df_all['Gender'].value_counts()\n",
    "    df_all['Age'].value_counts()\n",
    "    df_gender_age_info(df_all)\n",
    "    df_all['English Requirement'].value_counts()\n",
    "    df_all['Dutch Requirement'].value_counts()\n"
   ]
  },
  {
   "cell_type": "code",
   "execution_count": null,
   "metadata": {},
   "outputs": [],
   "source": []
  }
 ],
 "metadata": {
  "kernelspec": {
   "display_name": "study1_3.10",
   "language": "python",
   "name": "python3"
  },
  "language_info": {
   "codemirror_mode": {
    "name": "ipython",
    "version": 3
   },
   "file_extension": ".py",
   "mimetype": "text/x-python",
   "name": "python",
   "nbconvert_exporter": "python",
   "pygments_lexer": "ipython3",
   "version": "3.10.7 | packaged by conda-forge | (main, Nov 21 2022, 13:22:15) [Clang 14.0.6 ]"
  },
  "latex_envs": {
   "LaTeX_envs_menu_present": true,
   "autoclose": false,
   "autocomplete": true,
   "bibliofile": "biblio.bib",
   "cite_by": "apalike",
   "current_citInitial": 1,
   "eqLabelWithNumbers": true,
   "eqNumInitial": 1,
   "hotkeys": {
    "equation": "Ctrl-E",
    "itemize": "Ctrl-I"
   },
   "labels_anchors": false,
   "latex_user_defs": false,
   "report_style_numbering": false,
   "user_envs_cfg": false
  },
  "toc": {
   "base_numbering": 1,
   "nav_menu": {},
   "number_sections": true,
   "sideBar": true,
   "skip_h1_title": false,
   "title_cell": "Table of Contents",
   "title_sidebar": "Contents",
   "toc_cell": false,
   "toc_position": {},
   "toc_section_display": true,
   "toc_window_display": false
  },
  "varInspector": {
   "cols": {
    "lenName": 16,
    "lenType": 16,
    "lenVar": 40
   },
   "kernels_config": {
    "python": {
     "delete_cmd_postfix": "",
     "delete_cmd_prefix": "del ",
     "library": "var_list.py",
     "varRefreshCmd": "print(var_dic_list())"
    },
    "r": {
     "delete_cmd_postfix": ") ",
     "delete_cmd_prefix": "rm(",
     "library": "var_list.r",
     "varRefreshCmd": "cat(var_dic_list()) "
    }
   },
   "types_to_exclude": [
    "module",
    "function",
    "builtin_function_or_method",
    "instance",
    "_Feature"
   ],
   "window_display": false
  },
  "vscode": {
   "interpreter": {
    "hash": "e64b55c31e662d3b8ca165241f15a246a93354fe580fc7a1249b2f351dbc5a06"
   }
  }
 },
 "nbformat": 4,
 "nbformat_minor": 2
}
