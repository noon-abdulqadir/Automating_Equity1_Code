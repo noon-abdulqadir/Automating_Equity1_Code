{
 "cells": [
  {
   "cell_type": "code",
   "execution_count": 1,
   "id": "6817a06a",
   "metadata": {
    "lines_to_next_cell": 0
   },
   "outputs": [
    {
     "data": {
      "text/html": [
       "        <script type=\"text/javascript\">\n",
       "        window.PlotlyConfig = {MathJaxConfig: 'local'};\n",
       "        if (window.MathJax) {MathJax.Hub.Config({SVG: {font: \"STIX-Web\"}});}\n",
       "        if (typeof require !== 'undefined') {\n",
       "        require.undef(\"plotly\");\n",
       "        requirejs.config({\n",
       "            paths: {\n",
       "                'plotly': ['https://cdn.plot.ly/plotly-2.11.1.min']\n",
       "            }\n",
       "        });\n",
       "        require(['plotly'], function(Plotly) {\n",
       "            window._Plotly = Plotly;\n",
       "        });\n",
       "        }\n",
       "        </script>\n",
       "        "
      ]
     },
     "metadata": {},
     "output_type": "display_data"
    },
    {
     "data": {
      "text/html": [
       "<style>.container { width:90% !important; }</style>"
      ],
      "text/plain": [
       "<IPython.core.display.HTML object>"
      ]
     },
     "metadata": {},
     "output_type": "display_data"
    },
    {
     "data": {
      "text/html": [
       "        <script type=\"text/javascript\">\n",
       "        window.PlotlyConfig = {MathJaxConfig: 'local'};\n",
       "        if (window.MathJax) {MathJax.Hub.Config({SVG: {font: \"STIX-Web\"}});}\n",
       "        if (typeof require !== 'undefined') {\n",
       "        require.undef(\"plotly\");\n",
       "        requirejs.config({\n",
       "            paths: {\n",
       "                'plotly': ['https://cdn.plot.ly/plotly-2.11.1.min']\n",
       "            }\n",
       "        });\n",
       "        require(['plotly'], function(Plotly) {\n",
       "            window._Plotly = Plotly;\n",
       "        });\n",
       "        }\n",
       "        </script>\n",
       "        "
      ]
     },
     "metadata": {},
     "output_type": "display_data"
    },
    {
     "name": "stdout",
     "output_type": "stream",
     "text": [
      "File /Users/nyxinsane/Library/CloudStorage/OneDrive-UvA/Automating Equity/Study 1/Study1_Code/Sectors + Age and Gender Composition of Industires and Jobs/ not found.\n",
      "Printing keywords not enabled.\n",
      "Printing keywords not enabled.\n",
      "Printing keywords not enabled.\n",
      "Printing keywords not enabled.\n",
      "Printing keywords not enabled.\n",
      "Printing keywords not enabled.\n",
      "Printing keywords not enabled.\n",
      "Printing keywords not enabled.\n",
      "Printing keywords not enabled.\n",
      "Printing keywords not enabled.\n",
      "Printing keywords not enabled.\n",
      "Printing keywords not enabled.\n",
      "Printing keywords not enabled.\n",
      "Printing keywords not enabled.\n",
      "Printing keywords not enabled.\n",
      "Printing keywords not enabled.\n",
      "Printing keywords not enabled.\n",
      "Printing keywords not enabled.\n",
      "Printing keywords not enabled.\n",
      "Printing keywords not enabled.\n",
      "Printing keywords not enabled.\n",
      "Printing keywords not enabled.\n",
      "Printing keywords not enabled.\n",
      "Printing keywords not enabled.\n",
      "Printing keywords not enabled.\n",
      "Printing keywords not enabled.\n",
      "Printing keywords not enabled.\n",
      "Warning: Cannot change to a different GUI toolkit: widget. Using notebook instead.\n"
     ]
    }
   ],
   "source": [
    "# -*- coding: utf-8 -*-\n",
    "# %%\n",
    "# To add a new cell, type '# %%'\n",
    "# To add a new markdown cell, type '# %% [markdown]'\n",
    "# %% [markdown]\n",
    "# ### Install packages and import\n",
    "# %%\n",
    "# #################################### PLEASE INSTALL LATEST CHROME WEBDRIVER #####################################\n",
    "# Uncomment to run as required\n",
    "# #     --install-option=\"--chromedriver-version= *.**\" \\\n",
    "#   --install-option=\"--chromedriver-checksums=4fecc99b066cb1a346035bf022607104,058cd8b7b4b9688507701b5e648fd821\"\n",
    "# %%\n",
    "# ##### COPY THE LINES IN THIS COMMENT TO THE TOP OF NEW SCRIPTS #####\n",
    "# # Function to import this package to other files\n",
    "# import os\n",
    "# import sys\n",
    "# from pathlib import Path\n",
    "\n",
    "# code_dir = None\n",
    "# code_dir_name = 'Code'\n",
    "# unwanted_subdir_name = 'Analysis'\n",
    "\n",
    "# for _ in range(5):\n",
    "\n",
    "#     parent_path = str(Path.cwd().parents[_]).split('/')[-1]\n",
    "\n",
    "#     if (code_dir_name in parent_path) and (unwanted_subdir_name not in parent_path):\n",
    "\n",
    "#         code_dir = str(Path.cwd().parents[_])\n",
    "\n",
    "#         if code_dir is not None:\n",
    "#             break\n",
    "\n",
    "# main_dir = str(Path(code_dir).parents[0])\n",
    "# scraped_data = f'{code_dir}/scraped_data'\n",
    "# sys.path.append(code_dir)\n",
    "\n",
    "# from setup_module.imports import *\n",
    "# from setup_module.params import *\n",
    "# from setup_module.scraping import *\n",
    "# from setup_module.classification import *\n",
    "# from setup_module.vectorizers_classifiers import *\n",
    "\n",
    "# warnings.filterwarnings(\"ignore\", category=DeprecationWarning)\n",
    "# %matplotlib notebook\n",
    "# %matplotlib inline\n",
    "\n",
    "# %%\n",
    "import os\n",
    "import sys\n",
    "from pathlib import Path\n",
    "\n",
    "code_dir = None\n",
    "code_dir_name = 'Code'\n",
    "unwanted_subdir_name = 'Analysis'\n",
    "\n",
    "for _ in range(5):\n",
    "\n",
    "    parent_path = str(Path.cwd().parents[_]).split('/')[-1]\n",
    "\n",
    "    if (code_dir_name in parent_path) and (unwanted_subdir_name not in parent_path):\n",
    "\n",
    "        code_dir = str(Path.cwd().parents[_])\n",
    "\n",
    "        if code_dir is not None:\n",
    "            break\n",
    "\n",
    "main_dir = str(Path(code_dir).parents[0])\n",
    "scraped_data = f'{code_dir}/scraped_data'\n",
    "sys.path.append(code_dir)\n",
    "\n",
    "from setup_module.imports import *\n",
    "from setup_module.params import *\n",
    "from setup_module.scraping import *\n",
    "from setup_module.classification import *\n",
    "from setup_module.vectorizers_classifiers import *\n",
    "\n",
    "warnings.filterwarnings(\"ignore\")\n",
    "\n",
    "%matplotlib notebook\n",
    "%matplotlib widget\n",
    "%matplotlib inline"
   ]
  },
  {
   "cell_type": "code",
   "execution_count": null,
   "id": "2b13d5f0",
   "metadata": {},
   "outputs": [],
   "source": [
    "if save_enabled is True:\n",
    "    try:\n",
    "        table_df = pd.read_csv(table_save_path + csv_file_name, index_col=[0], header=[0,1,2], skipinitialspace=True)\n",
    "    except Exception:\n",
    "        table_df = pd.read_excel(table_save_path + excel_file_name, index_col=[0], header=[0,1,2])\n",
    "    except Exception:\n",
    "        table_df = pd.read_pickle(table_save_path + pickle_file_name, index_col=[0], header=[0,1,2])\n",
    "\n",
    "# table_df.loc[slice(None), (slice(None), slice(None), 'Confusion Matrix')]"
   ]
  },
  {
   "cell_type": "code",
   "execution_count": null,
   "id": "bef9987b",
   "metadata": {},
   "outputs": [],
   "source": [
    "df = pd.read_csv(f'{df_dir}df_processed_age_limit-{age_limit}_age_ratio-{age_ratio}_gender_ratio-{gender_ratio}.{file_save_format_backup}')\n",
    "\n",
    "for col in tqdm.tqdm(analysis_columns):\n",
    "\n",
    "    print('-' * 20)\n",
    "    print('\\n')\n",
    "    print(f'============================ PROCESSING {col} ============================')\n",
    "    print('\\n')\n",
    "    print('-' * 20)\n",
    "\n",
    "    if str(col) == 'Warmth':\n",
    "        vectorizer_name = final_warmth_vectorizer\n",
    "        classifier_name = final_warmth_classifier\n",
    "    elif str(col) == 'Competence':\n",
    "        vectorizer_name = final_competence_vectorizer\n",
    "        classifier_name = final_competence_classifier\n",
    "\n",
    "    vectorizer_loc = (f'FINAL Vectorizer {col} - {vectorizer_name} + {classifier_name}.{file_save_format}')\n",
    "    if select_best_enabled is True:\n",
    "        selector = 'SelectKBest'\n",
    "        selector_loc = (\n",
    "            f'FINAL Selector {col} - {vectorizer_name} + {classifier_name}.{file_save_format}'\n",
    "        )\n",
    "    model_loc = (f'Model {col} - {vectorizer_name} + {classifier_name}.{file_save_format}')\n",
    "\n",
    "    # Plot Confusion Matrix\n",
    "    cm = table_df.loc[(classifier_name), (col, vectorizer_name, 'Confusion Matrix')]\n",
    "    if isinstance(cm, str):\n",
    "        cm = cm.replace('[','').replace(']','')\n",
    "        cm = np.fromstring(cm,dtype=int,sep=' ').reshape((-1, 2))\n",
    "    heatmap = plot_confusion_matrix_percentage(col, cm, classifier_name, vectorizer_name)\n",
    "    # plt.tight_layout()\n",
    "    plt.show()\n",
    "    if save_enabled is True:\n",
    "        heatmap.figure.savefig(\n",
    "            f'{plot_save_path}Confusion Matrix {str(col)} - {classifier_name} - {vectorizer_name}.{image_save_format}',\n",
    "            format=image_save_format,\n",
    "            dpi=3000,\n",
    "            )\n",
    "    plt.clf()\n",
    "    plt.cla()\n",
    "    plt.close()\n",
    "\n",
    "    with open(models_save_path + model_loc, 'rb') as f:\n",
    "        model = joblib.load(f)\n",
    "    with open(models_save_path + vectorizer_loc, 'rb') as f:\n",
    "        vectorizer = joblib.load(f)\n",
    "    if select_best_enabled is True:\n",
    "        with open(models_save_path + selector_loc, 'rb') as f:\n",
    "            selector = joblib.load(f)\n",
    "\n",
    "    # BOW transform\n",
    "    X_test = df[str(text_col)].astype(\"str\").values\n",
    "    features = vectorizer.transform(X_test)\n",
    "    if select_best_enabled is True:\n",
    "        features = selector.transform(features)\n",
    "    y_pred = model.predict(features)\n",
    "    df[f'{str(col)}'] = y_pred\n",
    "    if hasattr(model, 'predict_proba'):\n",
    "        y_test_prob_pred = model.predict_proba(features)\n",
    "        probability_of_1 = y_test_prob_pred[:, 1]\n",
    "        df[f'{str(col)}_Probability'] = probability_of_1"
   ]
  },
  {
   "cell_type": "code",
   "execution_count": null,
   "id": "fcbacb79",
   "metadata": {},
   "outputs": [],
   "source": [
    "df = categorize_df_gender_age(df)\n",
    "df.dropna(subset=['Warmth', 'Warmth_Probability', 'Competence', 'Competence_Probability'], inplace=True)"
   ]
  },
  {
   "cell_type": "code",
   "execution_count": null,
   "id": "a9bb11e9",
   "metadata": {},
   "outputs": [],
   "source": [
    "df_gender_age_info(df, print_info=True)\n",
    "df_warm_comp_info(df, print_info=True)\n"
   ]
  },
  {
   "cell_type": "code",
   "execution_count": null,
   "id": "9a138e13",
   "metadata": {},
   "outputs": [],
   "source": [
    "df_gender_age_info(df, print_info=True)"
   ]
  },
  {
   "cell_type": "code",
   "execution_count": null,
   "id": "ec2ba323",
   "metadata": {},
   "outputs": [],
   "source": [
    "df.describe()"
   ]
  },
  {
   "cell_type": "code",
   "execution_count": null,
   "id": "b56f1a8d",
   "metadata": {},
   "outputs": [],
   "source": [
    "df.to_pickle(\n",
    "    f'{df_dir}df_classified_age_limit-{age_limit}_age_ratio-{age_ratio}_gender_ratio-{gender_ratio}.{file_save_format}')\n",
    "\n",
    "df.to_csv(\n",
    "    f'{df_dir}df_classified_age_limit-{age_limit}_age_ratio-{age_ratio}_gender_ratio-{gender_ratio}.{file_save_format_backup}',\n",
    "    index=False,\n",
    ")"
   ]
  },
  {
   "cell_type": "code",
   "execution_count": null,
   "id": "c672d40c",
   "metadata": {},
   "outputs": [],
   "source": []
  }
 ],
 "metadata": {
  "jupytext": {
   "cell_metadata_filter": "-all",
   "notebook_metadata_filter": "-all",
   "text_representation": {
    "extension": ".py",
    "format_name": "percent"
   }
  },
  "kernelspec": {
   "display_name": "Python 3.8.13 ('study1')",
   "language": "python",
   "name": "python3"
  },
  "language_info": {
   "codemirror_mode": {
    "name": "ipython",
    "version": 3
   },
   "file_extension": ".py",
   "mimetype": "text/x-python",
   "name": "python",
   "nbconvert_exporter": "python",
   "pygments_lexer": "ipython3",
   "version": "3.9.13 | packaged by conda-forge | (main, May 27 2022, 17:00:33) \n[Clang 13.0.1 ]"
  },
  "toc": {
   "base_numbering": 1,
   "nav_menu": {},
   "number_sections": true,
   "sideBar": true,
   "skip_h1_title": false,
   "title_cell": "Table of Contents",
   "title_sidebar": "Contents",
   "toc_cell": false,
   "toc_position": {},
   "toc_section_display": true,
   "toc_window_display": false
  },
  "varInspector": {
   "cols": {
    "lenName": 16,
    "lenType": 16,
    "lenVar": 40
   },
   "kernels_config": {
    "python": {
     "delete_cmd_postfix": "",
     "delete_cmd_prefix": "del ",
     "library": "var_list.py",
     "varRefreshCmd": "print(var_dic_list())"
    },
    "r": {
     "delete_cmd_postfix": ") ",
     "delete_cmd_prefix": "rm(",
     "library": "var_list.r",
     "varRefreshCmd": "cat(var_dic_list()) "
    }
   },
   "types_to_exclude": [
    "module",
    "function",
    "builtin_function_or_method",
    "instance",
    "_Feature"
   ],
   "window_display": false
  },
  "vscode": {
   "interpreter": {
    "hash": "5b0d7544f82776c2b902af54887e7cde1aa7d2da4fd982551ffc3948bf7522f2"
   }
  }
 },
 "nbformat": 4,
 "nbformat_minor": 5
}
