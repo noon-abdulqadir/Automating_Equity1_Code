{
 "cells": [
  {
   "cell_type": "code",
   "execution_count": 1,
   "metadata": {},
   "outputs": [],
   "source": [
    "import os # type:ignore # isort:skip # fmt:skip # noqa # nopep8\n",
    "import sys # type:ignore # isort:skip # fmt:skip # noqa # nopep8\n",
    "from pathlib import Path # type:ignore # isort:skip # fmt:skip # noqa # nopep8\n",
    "\n",
    "mod = sys.modules[__name__]\n",
    "\n",
    "code_dir = None\n",
    "code_dir_name = 'Code'\n",
    "unwanted_subdir_name = 'Analysis'\n",
    "\n",
    "if code_dir_name not in str(Path.cwd()).split('/')[-1]:\n",
    "    for _ in range(5):\n",
    "\n",
    "        parent_path = str(Path.cwd().parents[_]).split('/')[-1]\n",
    "\n",
    "        if (code_dir_name in parent_path) and (unwanted_subdir_name not in parent_path):\n",
    "\n",
    "            code_dir = str(Path.cwd().parents[_])\n",
    "\n",
    "            if code_dir is not None:\n",
    "                break\n",
    "else:\n",
    "    code_dir = Path.cwd()\n",
    "sys.path.append(code_dir)\n",
    "\n",
    "# %load_ext autoreload\n",
    "# %autoreload 2\n"
   ]
  },
  {
   "cell_type": "code",
   "execution_count": 2,
   "metadata": {},
   "outputs": [
    {
     "name": "stdout",
     "output_type": "stream",
     "text": [
      "Using MPS\n"
     ]
    },
    {
     "data": {
      "application/vnd.jupyter.widget-view+json": {
       "model_id": "83644d39703d400cbbd3218907ef01d1",
       "version_major": 2,
       "version_minor": 0
      },
      "text/plain": [
       "0it [00:00, ?it/s]"
      ]
     },
     "metadata": {},
     "output_type": "display_data"
    },
    {
     "data": {
      "text/plain": [
       "<Figure size 640x480 with 0 Axes>"
      ]
     },
     "metadata": {},
     "output_type": "display_data"
    }
   ],
   "source": [
    "from setup_module.imports import *  # type:ignore # isort:skip # fmt:skip # noqa # nopep8\n",
    "from setup_module import researchpy_fork as rp # type:ignore # isort:skip # fmt:skip # noqa # nopep8\n",
    "from setup_module import specification_curve_fork as specy # type:ignore # isort:skip # fmt:skip # noqa # nopep8\n"
   ]
  },
  {
   "attachments": {},
   "cell_type": "markdown",
   "metadata": {},
   "source": [
    "# Functions"
   ]
  },
  {
   "attachments": {},
   "cell_type": "markdown",
   "metadata": {},
   "source": [
    "# READ DATA"
   ]
  },
  {
   "cell_type": "code",
   "execution_count": 3,
   "metadata": {},
   "outputs": [
    {
     "name": "stdout",
     "output_type": "stream",
     "text": [
      "Dataframe loaded with shape: (5947, 68)\n"
     ]
    }
   ],
   "source": [
    "with open(f'{data_dir}df_manual_len.txt', 'r') as f:\n",
    "    df_manual_len = int(f.read())\n",
    "\n",
    "df_manual = pd.read_pickle(f'{df_save_dir}df_manual_for_training.pkl')\n",
    "assert len(df_manual) == df_manual_len, f'DATAFRAME MISSING DATA! DF SHOULD BE OF LENGTH {df_manual_len} BUT IS OF LENGTH {len(df_manual)}'\n",
    "print(f'Dataframe loaded with shape: {df_manual.shape}')\n",
    "df_manual = categorize_df_gender_age(df_manual)\n"
   ]
  },
  {
   "cell_type": "code",
   "execution_count": 4,
   "metadata": {},
   "outputs": [
    {
     "name": "stdout",
     "output_type": "stream",
     "text": [
      "Dataframe loaded with shape: (307154, 83)\n"
     ]
    }
   ],
   "source": [
    "with open(f'{data_dir}df_jobs_for_analysis_len.txt', 'r') as f:\n",
    "    df_jobs_len = int(f.read())\n",
    "\n",
    "# df_jobs = pd.read_pickle(f'{df_save_dir}df_jobs_for_analysis.pkl')\n",
    "df_jobs = pd.read_pickle(f'{df_save_dir}df_jobs_for_analysis.pkl')\n",
    "assert len(df_jobs) == df_jobs_len, f'DATAFRAME MISSING DATA! DF SHOULD BE OF LENGTH {df_jobs_len} BUT IS OF LENGTH {len(df_jobs)}'\n",
    "print(f'Dataframe loaded with shape: {df_jobs.shape}')\n",
    "df_jobs = categorize_df_gender_age(df_jobs)\n"
   ]
  },
  {
   "attachments": {},
   "cell_type": "markdown",
   "metadata": {},
   "source": [
    "# Analysis plan:\n",
    "\n",
    "1. ## [Descriptives, visualizations, and tables](./1.%20descriptives_visualization_and_tables.ipynb)\n",
    "2. ## [Frequencies and Normality tests](./2.%20frequencies_and_normality_test.ipynb)\n",
    "   1. ### Frequencies, histograms, and QQ plots\n",
    "      * Normal test\n",
    "      * Kurtosis test\n",
    "      * Shapiro\n",
    "      * Anderson\n",
    "      * Bartlett\n",
    "   2. ### Correlation between independent variables (IVs) and control variables and Multicolinarity test\n",
    "      * Pearson's R\n",
    "      * VIF\n",
    "     - ***ivs_dummy*** (binary nominal) = Social category designation (Female, Male, Mixed Gender)\n",
    "     - ***ivs_perc*** (continous ratio) = Social category percentage per sector (0-100)\n",
    "     - ***% Sector per Workforce*** (continous ratio) = Sector percentage per worksforce (0-100)\n",
    "     - ***num_words*** (continous ratio) = Number of words in job description\n",
    "     - ***English Requirement in Job Ad*** (binary nominal) = English requirement in job description (0 vs. 1)\n",
    "     - ***Dutch Requirement in Job Ad*** (binary nominal) = Dutch requirement in job description (0 vs. 1)\n",
    "     - ***Platform*** (binary dummy) = LinkedIn (0 vs. 1), Indeed (0 vs. 1), Glassdoor (0 vs. 1)\n",
    "\n",
    "3. ## [ANOVA and Chi-square (Pearson's R)](./3.%20chisqt_and_anova.ipynb)\n",
    "\n",
    "   1. ### Chi-square\n",
    "      * **df_manual:**\n",
    "        - ***dvs*** (binary nominal) = 'Warmth' and 'Competence' (0 vs. 1)\n",
    "        - ***ivs*** (binary nominal) = Social category designation (Female, Male, Mixed Gender)\n",
    "      * **df_jobs:**\n",
    "        - ***dvs*** (binary nominal) = 'Warmth' and 'Competence' (0 vs. 1)\n",
    "        - ***ivs*** (binary nominal) = Social category designation (Female, Male, Mixed Gender)\n",
    "\n",
    "   2. ### One-way ANOVA, interactions, and post-hoc test\n",
    "      * **df_manual:**\n",
    "        - ***dvs*** (binary nominal) = 'Warmth' and 'Competence' (0 vs. 1)\n",
    "        - ***ivs*** (binary nominal) = Social category designation (Female, Male, Mixed Gender)\n",
    "          - If Levene's test is *not significant*, use classic ANOVA and Tukey's post hoc test\n",
    "          - If Levene's test is *significant*, use Welch's and Kruskal-Wallis ANOVA and Games Howell's post hoc test\n",
    "      * **df_jobs:**\n",
    "         - ***dvs_prob*** (continous ratio) = 'Warmth' and 'Competence' probabilities (0-1)\n",
    "         - ***ivs*** (binary nominal) = Social category designation (Female, Male, Mixed Gender)\n",
    "           - If Levene's test is *not significant*, use classic ANOVA and Tukey's post hoc test\n",
    "           - If Levene's test is *significant*, use Welch's and Kruskal-Wallis ANOVA and Games Howell's post hoc test\n",
    "\n",
    "4. ## [Regression Analysis](./3.%20regression_analysis.ipynb)\n",
    "   1. ### Logistic Regression  with all interaction (smf):\n",
    "      * **df_manual:**\n",
    "        - ***dvs*** (binary nominal) = 'Warmth' and 'Competence' (0 vs. 1)\n",
    "        - ***ivs_perc*** (continous ratio) = Social category percentage per sector (0-100)\n",
    "      * **df_jobs:**\n",
    "        - ***dvs*** (binary nominal) = 'Warmth' and 'Competence' (0 vs. 1)\n",
    "        - ***ivs_perc*** (continous ratio) = Social category percentage per sector (0-100)\n",
    "   2. ### OLS Regression with all interaction:\n",
    "      * **df_jobs:**\n",
    "        - ***dvs_prob*** (continous ratio) = 'Warmth' and 'Competence' probabilities (0-1)\n",
    "        - ***ivs_perc*** (continous ratio) = Social category percentage per sector (0-100)\n",
    "   3. ### Multilevel OLS Regression with all interaction:\n",
    "      * **df_jobs:**\n",
    "        - ***dvs_prob*** (continous ratio) = 'Warmth' and 'Competence' probabilities (0-1)\n",
    "        - ***ivs_perc*** (continous ratio) = Social category percentage per sector (0-100)\n",
    "\n",
    "5. ## [Specification Curve Analysis](./4.%20specification_curve_analysis.ipynb)\n",
    "\n",
    "   1. ### Logistic Specification Curve Analysis:\n",
    "      * **df_manual:**\n",
    "        - ***dvs*** (binary nominal) = 'Warmth' and 'Competence' (0 vs. 1)\n",
    "        - ***ivs_perc*** (continous ratio) = Social category percentage per sector (0-100)\n",
    "      * **df_jobs:**\n",
    "        - ***dvs*** (binary nominal) = 'Warmth' and 'Competence' (0 vs. 1)\n",
    "        - ***ivs_perc*** (continous ratio) = Social category percentage per sector (0-100)\n",
    "   2. ### OLS Specification Curve Analysis:\n",
    "      * **df_jobs:**\n",
    "        - ***dvs_prob*** (continous ratio) = 'Warmth' and 'Competence' probabilities (0-1)\n",
    "        - ***ivs_perc*** (continous ratio) = Social category percentage per sector (0-100)\n"
   ]
  },
  {
   "attachments": {},
   "cell_type": "markdown",
   "metadata": {},
   "source": [
    "## Set dataframes"
   ]
  },
  {
   "attachments": {},
   "cell_type": "markdown",
   "metadata": {},
   "source": [
    "#### Dataframes dict"
   ]
  },
  {
   "cell_type": "code",
   "execution_count": 5,
   "metadata": {},
   "outputs": [],
   "source": [
    "dataframes = {\n",
    "    'df_jobs': df_jobs,\n",
    "    'df_manual': df_manual,\n",
    "}"
   ]
  },
  {
   "attachments": {},
   "cell_type": "markdown",
   "metadata": {},
   "source": [
    "# Frequencies\n"
   ]
  },
  {
   "cell_type": "code",
   "execution_count": 6,
   "metadata": {},
   "outputs": [],
   "source": [
    "def run_freq_and_normality_tests(df_name, df):\n",
    "    print('\\n')\n",
    "    print('+'*120)\n",
    "    print(f'{\"=\"*50} RESULTS FOR {df_name} {\"=\"*50}')\n",
    "\n",
    "    data_names = dvs[:]+ivs_dummy_and_perc[:]\n",
    "\n",
    "    if df_name == 'df_manual':\n",
    "        dvs_ = dvs[:]\n",
    "    elif df_name == 'df_jobs':\n",
    "        data_names.extend(dvs_prob[:])\n",
    "        dvs_ = dvs_all[:]\n",
    "\n",
    "    print('~'*20)\n",
    "    # print(rp.codebook(df[data_names]))\n",
    "\n",
    "    # Gender and Age\n",
    "    print('-'*20)\n",
    "    print(f'Categorical Summary {ivs}')\n",
    "    freq_iv=rp.summary_cat(df[ivs]).round(3)\n",
    "    print(freq_iv)\n",
    "    freq_iv.to_csv(f'{table_save_path}frequencies {df_name} - Gender and Age.csv')\n",
    "    freq_iv.style.to_latex(f'{table_save_path}frequencies {df_name} - Gender and Age.tex', hrules=True)\n",
    "    print('-'*20)\n",
    "    print('\\n')\n",
    "\n",
    "    # Gender and Age Percentages\n",
    "    print('-'*20)\n",
    "    print(f'Continuous Summary {ivs_perc}')\n",
    "    freq_iv_perc=rp.summarize(df[ivs_perc], ci_level = 0.95, decimals = 3)\n",
    "    print(freq_iv_perc)\n",
    "    freq_iv_perc.to_csv(f'{table_save_path}frequencies {df_name} - Gender and Age Percentages.csv')\n",
    "    freq_iv_perc.style.to_latex(f'{table_save_path}frequencies {df_name} - Gender and Age Percentages.tex', hrules=True)\n",
    "    print('-'*20)\n",
    "    print('\\n')\n",
    "\n",
    "    # Gender and Age Dummies\n",
    "    print('-'*20)\n",
    "    print(f'Continuous Summary {ivs_dummy}')\n",
    "    freq_iv_dummy=rp.summarize(df[ivs_dummy], ci_level = 0.95, decimals = 3)\n",
    "    print(freq_iv_dummy)\n",
    "    freq_iv_dummy.to_csv(f'{table_save_path}frequencies {df_name} - Gender and Age Dummies.csv')\n",
    "    freq_iv_dummy.style.to_latex(f'{table_save_path}frequencies {df_name} - Gender and Age Dummies.tex', hrules=True)\n",
    "    print('-'*20)\n",
    "    print('\\n')\n",
    "\n",
    "    # Gender and Age Counts\n",
    "    print('-'*20)\n",
    "    print(f'Continuous Summary {ivs_count}')\n",
    "    freq_iv_count=rp.summarize(df[ivs_count], ci_level = 0.95, decimals = 3)\n",
    "    print(freq_iv_count)\n",
    "    freq_iv_count.to_csv(f'{table_save_path}frequencies {df_name} - Gender and Age Counts.csv')\n",
    "    freq_iv_count.style.to_latex(f'{table_save_path}frequencies {df_name} - Gender and Age Counts.text')\n",
    "    print('-'*20)\n",
    "    print('\\n')\n",
    "\n",
    "    # Warmth and Competence\n",
    "    print('-'*20)\n",
    "    print(f'Categorical Summary {dvs}')\n",
    "    freq_dv=rp.summary_cat(df[dvs]).round(3)\n",
    "    print(freq_dv)\n",
    "    freq_dv.to_csv(f'{table_save_path}frequencies {df_name} - Warmth and Competence.csv')\n",
    "    freq_dv.style.to_latex(f'{table_save_path}frequencies {df_name} - Warmth and Competence.tex', hrules=True)\n",
    "    print('-'*20)\n",
    "    print('\\n')\n",
    "\n",
    "    if df_name == 'df_jobs':\n",
    "        # Warmth and Competence Probabilities\n",
    "        print('-'*20)\n",
    "        print(f'Continuous Summary {dvs_prob}')\n",
    "        freq_dv_prob=rp.summarize(df[dvs_prob], ci_level = 0.95, decimals = 3)\n",
    "        print(freq_dv_prob)\n",
    "        freq_dv_prob.to_csv(f'{table_save_path}frequencies {df_name} - Warmth and Competence Probabilities.csv')\n",
    "        freq_dv_prob.style.to_latex(f'{table_save_path}frequencies {df_name} - Warmth and Competence Probabilities.tex', hrules=True)\n",
    "        print('-'*20)\n",
    "        print('\\n')\n",
    "\n",
    "    print('-'*20)\n",
    "    print('Grouped Frequencies/ Summary ANOVAs Categorical Gender and Age')\n",
    "    summary_aova = rp.summary_cont(df.groupby(ivs)[dvs_prob], conf=0.95, decimals=3)\n",
    "    print(summary_aova)\n",
    "    summary_aova.to_csv(f'{table_save_path}summary anova {df_name} - {ivs} x {dvs}.csv')\n",
    "    summary_aova.style.to_latex(f'{table_save_path}summary anova {df_name} - {ivs} x {dvs}.tex', hrules=True)\n",
    "    print('-'*20)\n",
    "    print('\\n')\n",
    "\n",
    "    for iv, dv in tqdm_product(ivs, dvs):\n",
    "        print('-'*20)\n",
    "        print(f'Grouped Frequencies/ Summary ANOVAs {dv} with {iv} Dummies')\n",
    "        summary_aova_probs_dummy = rp.summary_cont(df_jobs[dv].groupby(df_jobs[iv]), conf=0.95, decimals=3)\n",
    "        print(summary_aova_probs_dummy)\n",
    "        summary_aova_probs_dummy.to_csv(f'{table_save_path}summary anova probabilities dummy {df_name} - {iv} x {dv}.csv')\n",
    "        summary_aova_probs_dummy.style.to_latex(f'{table_save_path}summary anova probabilities dummy {df_name} - {iv} x {dv}.tex', hrules=True)\n",
    "        print('-'*20)\n",
    "        print('\\n')\n",
    "\n",
    "    if df_name == 'df_jobs':\n",
    "        print('-'*20)\n",
    "        print('Grouped Frequencies/ Summary ANOVAs')\n",
    "        summary_aova_probs = rp.summary_cont(df.groupby(ivs)[dvs_all], conf=0.95, decimals=3)\n",
    "        print(summary_aova_probs)\n",
    "        summary_aova_probs.to_csv(f'{table_save_path}summary anova probabilities {df_name} - {ivs} x {dvs_all}.csv')\n",
    "        summary_aova_probs.style.to_latex(f'{table_save_path}summary anova probabilities {df_name} - {ivs} x {dvs_all}.tex', hrules=True)\n",
    "        print('-'*20)\n",
    "        print('\\n')\n",
    "\n",
    "        for iv, dv in tqdm_product(ivs, dvs_all):\n",
    "            print('-'*20)\n",
    "            print(f'Grouped Frequencies/ Summary ANOVAs {dv} with {iv} Dummies')\n",
    "            summary_aova_probs_dummy = rp.summary_cont(df_jobs[dv].groupby(df_jobs[iv]), conf=0.95, decimals=3)\n",
    "            print(summary_aova_probs_dummy)\n",
    "            summary_aova_probs_dummy.to_csv(f'{table_save_path}summary anova probabilities dummy {df_name} - {iv} x {dv}.csv')\n",
    "            summary_aova_probs_dummy.style.to_latex(f'{table_save_path}summary anova probabilities dummy {df_name} - {iv} x {dv}.tex', hrules=True)\n",
    "            print('-'*20)\n",
    "            print('\\n')\n",
    "\n",
    "    # # Histogram\n",
    "    # df[ivs_perc].hist()\n",
    "    # plt.show()\n",
    "    # plt.clf()\n",
    "    # plt.cla()\n",
    "    # plt.close()\n",
    "    # print('-'*20)\n",
    "    # print('\\n')\n",
    "\n",
    "    # df[ivs_count].hist()\n",
    "    # plt.show()\n",
    "    # plt.clf()\n",
    "    # plt.cla()\n",
    "    # plt.close()\n",
    "    # print('-'*20)\n",
    "    # print('\\n')\n",
    "\n",
    "    # df[ivs_dummy].hist()\n",
    "    # plt.show()\n",
    "    # plt.clf()\n",
    "    # plt.cla()\n",
    "    # plt.close()\n",
    "    # print('-'*20)\n",
    "    # print('\\n')\n",
    "\n",
    "    # if df_name == 'df_jobs':\n",
    "    #     # Histogram\n",
    "    #     df[dvs_prob].hist()\n",
    "    #     plt.show()\n",
    "    #     plt.clf()\n",
    "    #     plt.cla()\n",
    "    #     plt.close()\n",
    "    #     print('-'*20)\n",
    "    #     print('\\n')\n",
    "\n",
    "    # # QQ plot\n",
    "    # qq_plot = pg.qqplot(df[ivs_perc], dist='norm')\n",
    "    # plt.show()\n",
    "    # plt.clf()\n",
    "    # plt.cla()\n",
    "    # plt.close()\n",
    "    # print('-'*20)\n",
    "    # print('\\n')\n",
    "\n",
    "    # qq_plot = pg.qqplot(df[ivs_count], dist='norm')\n",
    "    # plt.show()\n",
    "    # plt.clf()\n",
    "    # plt.cla()\n",
    "    # plt.close()\n",
    "    # print('-'*20)\n",
    "    # print('\\n')\n",
    "\n",
    "    # qq_plot = pg.qqplot(df[ivs_dummy], dist='norm')\n",
    "    # plt.show()\n",
    "    # plt.clf()\n",
    "    # plt.cla()\n",
    "    # plt.close()\n",
    "    # print('-'*20)\n",
    "    # print('\\n')\n",
    "\n",
    "    # if df_name == 'df_jobs':\n",
    "    #     # QQ plot dvs_prob\n",
    "    #     qq_plot = pg.qqplot(df[dvs_prob], dist='norm')\n",
    "    #     plt.show()\n",
    "    #     plt.clf()\n",
    "    #     plt.cla()\n",
    "    #     plt.close()\n",
    "    #     print('-'*20)\n",
    "    #     print('\\n')\n"
   ]
  },
  {
   "cell_type": "code",
   "execution_count": 7,
   "metadata": {},
   "outputs": [
    {
     "data": {
      "application/vnd.jupyter.widget-view+json": {
       "model_id": "ae34892f97914b10bde06eb964359820",
       "version_major": 2,
       "version_minor": 0
      },
      "text/plain": [
       "interactive(children=(Dropdown(description='df_name', options=('df_jobs', 'df_manual'), value='df_jobs'), Outp…"
      ]
     },
     "metadata": {},
     "output_type": "display_data"
    },
    {
     "name": "stdout",
     "output_type": "stream",
     "text": [
      "CPU times: user 700 ms, sys: 99 ms, total: 799 ms\n",
      "Wall time: 946 ms\n"
     ]
    }
   ],
   "source": [
    "%%time\n",
    "@interact(df_name=dataframes.keys())\n",
    "def run_freq_and_normality_tests_interactive(df_name):\n",
    "    run_freq_and_normality_tests(df_name=df_name, df=dataframes[df_name])\n"
   ]
  },
  {
   "attachments": {},
   "cell_type": "markdown",
   "metadata": {},
   "source": [
    "# Normality Tests\n"
   ]
  },
  {
   "cell_type": "code",
   "execution_count": 8,
   "metadata": {},
   "outputs": [],
   "source": [
    "def run_normality_tests(df_name, df):\n",
    "    print('\\n')\n",
    "    print('+'*120)\n",
    "    print(f'{\"=\"*50} RESULTS FOR {df_name} {\"=\"*50}')\n",
    "\n",
    "    if df_name == 'df_manual':\n",
    "        dvs_ = dvs\n",
    "    elif df_name == 'df_jobs':\n",
    "        dvs_ = dvs_all\n",
    "\n",
    "    # Test of Normality for skew and kurtosis\n",
    "    # if p < alpha, the null hypothesis is rejected,\\nis not from a normal distribution\n",
    "    norm = scipy.stats.normaltest(df[dvs_])\n",
    "    print('\\n')\n",
    "    print('='*80)\n",
    "    print(f'{dvs_} Test of Normality:')\n",
    "    print('-'*80)\n",
    "    for key, val in dict(zip(normality_tests_labels, norm)).items():\n",
    "        print(key,': ', val) # not significant\n",
    "    print('\\n')\n",
    "\n",
    "    # Shapir-Wilk Test of Normality\n",
    "    # if p < alpha, the null hypothesis is rejected,\\nis not from a normal distribution\n",
    "    norm_res = scipy.stats.shapiro(df[dvs_])\n",
    "    print('\\n')\n",
    "    print('='*80)\n",
    "    print(f'{dvs_} Shapir-Wilk Test of Normality:')\n",
    "    print('-'*80)\n",
    "    for key, val in dict(zip(normality_tests_labels, norm_res)).items():\n",
    "        print(key,': ', val) # significant\n",
    "    print('\\n')\n",
    "\n",
    "    for dv, iv in tqdm_product(dvs_, ivs_dummy_and_perc):\n",
    "        print('\\n')\n",
    "        print('+'*120)\n",
    "        print(f'Dependent Variable: {dv}\\nIndependent Variable: {iv}')\n",
    "        print('\\n')\n",
    "        print('~' * 20)\n",
    "\n",
    "        # Anderson-Darling Test of Normality\n",
    "        # if p < alpha, the null hypothesis is rejected, x is not from a normal distribution\n",
    "        norm_and = scipy.stats.anderson(df[dv])\n",
    "        print('\\n')\n",
    "        print('='*80)\n",
    "        print('Anderson-Darling Test of Normality:')\n",
    "        print('\\n')\n",
    "        print('~' * 20)\n",
    "        print(f'{iv} x {dv}')\n",
    "        for key, val in dict(zip(normality_tests_labels, norm_and)).items():\n",
    "            print(key,': ', val) # not significant\n",
    "        print('\\n')\n",
    "        if norm_and.fit_result.success:\n",
    "            print('Anderson-Darling Test of Normality: The test was successful.')\n",
    "        else:\n",
    "            print('Anderson-Darling Test of Normality: The test was not successful.')\n",
    "        print('~' * 20)\n",
    "        print('\\n')\n",
    "\n",
    "        # NORMALITY TESTS\n",
    "        print('\\n')\n",
    "        print('='*80)\n",
    "        print('NORMALITY TEST')\n",
    "        print('\\n')\n",
    "        print('~' * 20)\n",
    "        print(f'{iv} x {dv}')\n",
    "        norm = pg.normality(data=df, dv=dv, group=iv).round(3)\n",
    "        if normal := all(norm.normal == True):\n",
    "            print(f\"{iv} x {dv} Normality test: All groups are normally distributed.\")\n",
    "        else:\n",
    "            print(f\"{iv} x {dv} Normality test: Not all groups are normally distributed.\")\n",
    "        print(f\"{iv} x {dv} Normality test:\\n{norm}\")\n",
    "        norm.to_csv(f'{table_save_path}normality {df_name} - {iv} x {dv}.csv')\n",
    "        norm.style.to_latex(f'{table_save_path}normality {df_name} - {iv} x {dv}.tex', hrules=True)\n",
    "        print('~' * 20)\n",
    "        print('\\n')\n",
    "\n",
    "        # # ANOVA SPHERICITY TEST\n",
    "        # print('\\n')\n",
    "        # print('='*80)\n",
    "        # print('SPHERICITY TEST')\n",
    "        # print('\\n')\n",
    "        # print('~' * 20)\n",
    "        # print(f'{iv} x {dv}')\n",
    "        # spher_all = pg.sphericity(data=df, dv=dv, within=iv, method='mauchly')\n",
    "        # spher, test_stat, chisq, dof, pval = spher_all\n",
    "        # print('-' * 20)\n",
    "        # print(f\"{iv} x {dv} Sphericity test:\\n{spher} at p-value: {round(pval, 3)}, chi-square: {round(chisq, 3)}, degrees of freedom: {round(dof)}, Test statistic: {round(test_stat)}\") # if p-value < 0.05, then the data are not spherically distributed = Multivariate analysis\n",
    "        # # spher.to_csv(f'{table_save_path}sphericity {df_name} - {iv} x {dv}.csv')\n",
    "        # # spher.style.to_latex(f'{table_save_path}sphericity {df_name} - {iv} x {dv}.tex', hrules=True)\n",
    "        # print('~' * 20)\n",
    "        # print('\\n')\n",
    "\n",
    "        # BARTLETTS TESTS\n",
    "        print('\\n')\n",
    "        print('='*80)\n",
    "        print(\"BARTLETT'S TEST\")\n",
    "        print('\\n')\n",
    "        print('~' * 20)\n",
    "        print(f'{iv} x {dv}')\n",
    "        bartlett = pg.homoscedasticity(data=df, dv=dv, group=iv, method='bartlett').round(3) #dv\n",
    "        if equal_var_bartlett := eval(bartlett.equal_var.to_string(index=False)):\n",
    "            print(f\"{iv} x {dv} Bartlett's test: All groups have equal variances.\")\n",
    "        else:\n",
    "            print(f\"{iv} x {dv} Bartlett's test: Not all groups have equal variances.\")\n",
    "        print(f\"{iv} x {dv} Bartlett's test:\\n{bartlett}\")\n",
    "        bartlett.to_csv(f\"{table_save_path}bartlett's {df_name} - {iv} x {dv}.csv\")\n",
    "        bartlett.style.to_latex(f\"{table_save_path}bartlett's {df_name} - {iv} x {dv}.tex\")\n",
    "        print('~' * 20)\n",
    "        print('\\n')\n",
    "\n"
   ]
  },
  {
   "cell_type": "code",
   "execution_count": 9,
   "metadata": {},
   "outputs": [
    {
     "data": {
      "application/vnd.jupyter.widget-view+json": {
       "model_id": "1f6eaba794fb4eb0b3dad5006aa697e0",
       "version_major": 2,
       "version_minor": 0
      },
      "text/plain": [
       "interactive(children=(Dropdown(description='df_name', options=('df_jobs', 'df_manual'), value='df_jobs'), Outp…"
      ]
     },
     "metadata": {},
     "output_type": "display_data"
    },
    {
     "name": "stdout",
     "output_type": "stream",
     "text": [
      "CPU times: user 9.79 s, sys: 4.53 s, total: 14.3 s\n",
      "Wall time: 15.8 s\n"
     ]
    }
   ],
   "source": [
    "%%time\n",
    "@interact(df_name=dataframes.keys())\n",
    "def run_normality_tests_interactive(df_name):\n",
    "    run_normality_tests(df_name=df_name, df=dataframes[df_name])\n"
   ]
  },
  {
   "attachments": {},
   "cell_type": "markdown",
   "metadata": {},
   "source": [
    "## Correlation between IVs and Control Variables (Multicollinearity)"
   ]
  },
  {
   "attachments": {},
   "cell_type": "markdown",
   "metadata": {},
   "source": [
    "### Categorical Gender Sectors"
   ]
  },
  {
   "cell_type": "code",
   "execution_count": 10,
   "metadata": {},
   "outputs": [],
   "source": [
    "def run_corr_cat_gender_sectors(df_name, df):\n",
    "    print('\\n')\n",
    "    print('+'*120)\n",
    "    print(f'{\"=\"*50} RESULTS FOR {df_name} {\"=\"*50}')\n",
    "\n",
    "    # Full chi-square\n",
    "    expected, observed, full_chisqt = pg.chi2_independence(data=df, x=ivs_dummy[0], y=ivs_dummy[2])\n",
    "    print('\\n')\n",
    "    print('+'*120)\n",
    "    print(f'IV 1: {ivs_dummy[0]}\\nIV 2: {ivs_dummy[2]}')\n",
    "    print('\\n')\n",
    "    print('~' * 20)\n",
    "    print('FULL CHI-SQUARE TEST:')\n",
    "    print('-'*20)\n",
    "    print(f'Observed Count:\\n{observed}\\n')\n",
    "    print('-'*20)\n",
    "    print(f'Expected Count:\\n{expected}\\n')\n",
    "    print('-'*20)\n",
    "    print(f'Chi-square:\\n{full_chisqt.round(3)}\\n')\n",
    "    print('~' * 20)\n",
    "    chi_to_save = pd.concat([pd.concat([observed, pd.DataFrame(expected)], axis='index'), full_chisqt], axis='index')\n",
    "    chi_to_save.to_csv(f'{table_save_path}chi-square {df_name} - {ivs_dummy[0]} x {ivs_dummy[2]}.csv')\n",
    "    chi_to_save.style.to_latex(f'{table_save_path}chi-square {df_name} - {ivs_dummy[0]} x {ivs_dummy[2]}.tex', hrules=True)\n",
    "\n",
    "    # Chi-square\n",
    "    chisqt = pd.crosstab(df[ivs_dummy[0]], df[ivs_dummy[2]])\n",
    "    pearson_r, p_value, dof, expected = scipy.stats.chi2_contingency(chisqt)\n",
    "    reject_H0 = p_value > alpha\n",
    "    reject_H = p_value < alpha\n",
    "\n",
    "    # if not reject_H0 and reject_H:\n",
    "    #     print('\\n')\n",
    "    #     print('+'*120)\n",
    "    #     print(f'IV 1: {ivs_dummy[0]}\\nIV 2: {ivs_dummy[2]}\\nNOT SIGNIFICANT at p-value: {p_value:.3f}!')\n",
    "    #     print('\\n')\n",
    "    #     print('~' * 20)\n",
    "    #     print(f\"Pearsons's R: {pearson_r}.\\np-value: {p_value:.3f}.\\nDegree of freedom: {dof}.\\nH0 Rejected: {reject_H0}\\nH Rejected: {reject_H}\")\n",
    "    #     print('\\n')\n",
    "    # elif reject_H0 and not reject_H:\n",
    "    print('\\n')\n",
    "    print('+'*120)\n",
    "    print(f'IV 1: {ivs_dummy[0]}\\nIV 2: {ivs_dummy[2]}')\n",
    "    print('\\n')\n",
    "    print('~' * 20)\n",
    "    print(f\"Pearsons's R: {pearson_r}.\\np-value: {p_value:.3f}.\\nDegree of freedom: {dof}.\\nH0 Rejected: {reject_H0}\\nH Rejected: {reject_H}\")\n",
    "    print('-'*20)\n",
    "    print(f'Observed Count:\\n{chisqt}\\n')\n",
    "    print('-'*20)\n",
    "    print(f'Expected Count:\\n{expected}\\n')\n",
    "    print('~' * 20)\n"
   ]
  },
  {
   "attachments": {},
   "cell_type": "markdown",
   "metadata": {},
   "source": [
    "### Categorical Age Sectors"
   ]
  },
  {
   "cell_type": "code",
   "execution_count": 11,
   "metadata": {},
   "outputs": [],
   "source": [
    "def run_corr_cat_age_sectors(df_name, df):\n",
    "    print('\\n')\n",
    "    print('+'*120)\n",
    "    print(f'{\"=\"*50} RESULTS FOR {df_name} {\"=\"*50}')\n",
    "\n",
    "    # Full chi-square\n",
    "    expected, observed, full_chisqt = pg.chi2_independence(data=df, x=ivs_dummy[3], y=ivs_dummy[5])\n",
    "    print('\\n')\n",
    "    print('+'*120)\n",
    "    print(f'IV 1: {ivs_dummy[3]}\\nIV 2: {ivs_dummy[5]}')\n",
    "    print('\\n')\n",
    "    print('~' * 20)\n",
    "    print('FULL CHI-SQUARE TEST:')\n",
    "    print('-'*20)\n",
    "    print(f'Observed Count:\\n{observed}\\n')\n",
    "    print('-'*20)\n",
    "    print(f'Expected Count:\\n{expected}\\n')\n",
    "    print('-'*20)\n",
    "    print(f'Chi-square:\\n{full_chisqt.round(3)}\\n')\n",
    "    print('~' * 20)\n",
    "    chi_to_save = pd.concat([pd.concat([observed, pd.DataFrame(expected)], axis='index'), full_chisqt], axis='index')\n",
    "    chi_to_save.to_csv(f'{table_save_path}chi-square {df_name} - {ivs_dummy[3]} x {ivs_dummy[5]}.csv')\n",
    "    chi_to_save.style.to_latex(f'{table_save_path}chi-square {df_name} - {ivs_dummy[3]} x {ivs_dummy[5]}.tex', hrules=True)\n",
    "\n",
    "    # Chi-square\n",
    "    chisqt = pd.crosstab(df[ivs_dummy[3]], df[ivs_dummy[5]])\n",
    "    pearson_r, p_value, dof, expected = scipy.stats.chi2_contingency(chisqt)\n",
    "    reject_H0 = p_value > alpha\n",
    "    reject_H = p_value < alpha\n",
    "\n",
    "    # if not reject_H0 and reject_H:\n",
    "    #     print('\\n')\n",
    "    #     print('+'*120)\n",
    "    #     print(f'IV 1: {ivs_dummy[3]}\\nIV 2: {ivs_dummy[5]}\\nNOT SIGNIFICANT at p-value: {p_value:.3f}!')\n",
    "    #     print('\\n')\n",
    "    #     print('~' * 20)\n",
    "    #     print(f\"Pearsons's R: {pearson_r}.\\np-value: {p_value:.3f}.\\nDegree of freedom: {dof}.\\nH0 Rejected: {reject_H0}\\nH Rejected: {reject_H}\")\n",
    "    #     print('\\n')\n",
    "    # elif reject_H0 and not reject_H:\n",
    "    print('\\n')\n",
    "    print('+'*120)\n",
    "    print(f'IV 1: {ivs_dummy[3]}\\nIV 2: {ivs_dummy[5]}')\n",
    "    print('\\n')\n",
    "    print('~' * 20)\n",
    "    print(f\"Pearsons's R: {pearson_r}.\\np-value: {p_value:.3f}.\\nDegree of freedom: {dof}.\\nH0 Rejected: {reject_H0}\\nH Rejected: {reject_H}\")\n",
    "    print('-'*20)\n",
    "    print(f'Observed Count:\\n{chisqt}\\n')\n",
    "    print('-'*20)\n",
    "    print(f'Expected Count:\\n{expected}\\n')\n",
    "    print('~' * 20)\n"
   ]
  },
  {
   "attachments": {},
   "cell_type": "markdown",
   "metadata": {},
   "source": [
    "### Categorical Gender and Age Sectors"
   ]
  },
  {
   "cell_type": "code",
   "execution_count": 12,
   "metadata": {},
   "outputs": [],
   "source": [
    "def run_corr_cat_gender_and_age_sectors(df_name, df):\n",
    "    print('\\n')\n",
    "    print('+'*120)\n",
    "    print(f'{\"=\"*50} RESULTS FOR {df_name} {\"=\"*50}')\n",
    "\n",
    "    for iv_gender_dummy, iv_age_dummy in tqdm_product(ivs_gender_dummy, ivs_age_dummy):\n",
    "        # Full chi-square\n",
    "        expected, observed, full_chisqt = pg.chi2_independence(data=df, x=iv_gender_dummy, y=iv_age_dummy)\n",
    "        print('\\n')\n",
    "        print('+'*120)\n",
    "        print(f'IV 1: {iv_gender_dummy}\\nIV 2: {iv_age_dummy}')\n",
    "        print('\\n')\n",
    "        print('~' * 20)\n",
    "        print('FULL CHI-SQUARE TEST:')\n",
    "        print('-'*20)\n",
    "        print(f'Observed Count:\\n{observed}\\n')\n",
    "        print('-'*20)\n",
    "        print(f'Expected Count:\\n{expected}\\n')\n",
    "        print('-'*20)\n",
    "        print(f'Chi-square:\\n{full_chisqt.round(3)}\\n')\n",
    "        print('~' * 20)\n",
    "        chi_to_save = pd.concat([pd.concat([observed, pd.DataFrame(expected)], axis='index'), full_chisqt], axis='index')\n",
    "        chi_to_save.to_csv(f'{table_save_path}chi-square {df_name} - {iv_gender_dummy} x {iv_age_dummy}.csv')\n",
    "        chi_to_save.style.to_latex(f'{table_save_path}chi-square {df_name} - {iv_gender_dummy} x {iv_age_dummy}.tex', hrules=True)\n",
    "\n",
    "        # Chi-square\n",
    "        chisqt = pd.crosstab(df[iv_gender_dummy], df[iv_age_dummy])\n",
    "        pearson_r, p_value, dof, expected = scipy.stats.chi2_contingency(chisqt)\n",
    "        reject_H0 = p_value > alpha\n",
    "        reject_H = p_value < alpha\n",
    "\n",
    "        # if not reject_H0 and reject_H:\n",
    "        #     print('\\n')\n",
    "        #     print('+'*120)\n",
    "        #     print(f'IV 1: {iv_gender_dummy}\\nIV 2: {iv_age_dummy}\\nNOT SIGNIFICANT at p-value: {p_value:.3f}!')\n",
    "        #     print('\\n')\n",
    "        #     print('~' * 20)\n",
    "        #     print(f\"Pearsons's R: {pearson_r}.\\np-value: {p_value:.3f}.\\nDegree of freedom: {dof}.\\nH0 Rejected: {reject_H0}\\nH Rejected: {reject_H}\")\n",
    "        #     print('\\n')\n",
    "        # elif reject_H0 and not reject_H:\n",
    "        print('\\n')\n",
    "        print('+'*120)\n",
    "        print(f'IV 1: {iv_gender_dummy}\\nIV 2: {iv_age_dummy}')\n",
    "        print('\\n')\n",
    "        print('~' * 20)\n",
    "        print(f\"Pearsons's R: {pearson_r}.\\np-value: {p_value:.3f}.\\nDegree of freedom: {dof}.\\nH0 Rejected: {reject_H0}\\nH Rejected: {reject_H}\")\n",
    "        print('-'*20)\n",
    "        print(f'Observed Count:\\n{chisqt}\\n')\n",
    "        print('-'*20)\n",
    "        print(f'Expected Count:\\n{expected}\\n')\n",
    "        print('~' * 20)"
   ]
  },
  {
   "attachments": {},
   "cell_type": "markdown",
   "metadata": {},
   "source": [
    "### Binary Warmth and Competence"
   ]
  },
  {
   "cell_type": "code",
   "execution_count": 13,
   "metadata": {},
   "outputs": [],
   "source": [
    "def run_corr_bi_warmth_and_competence(df_name, df):\n",
    "    print('\\n')\n",
    "    print('+'*120)\n",
    "    print(f'{\"=\"*50} RESULTS FOR {df_name} {\"=\"*50}')\n",
    "\n",
    "    # Full chi-square\n",
    "    expected, observed, full_chisqt = pg.chi2_independence(data=df, x=dvs[0], y=dvs[1])\n",
    "    print('\\n')\n",
    "    print('+'*120)\n",
    "    print(f'DV 1: {dvs[0]}\\nDV 2: {dvs[1]}')\n",
    "    print('\\n')\n",
    "    print('~' * 20)\n",
    "    print('FULL CHI-SQUARE TEST:')\n",
    "    print('-'*20)\n",
    "    print(f'Observed Count:\\n{observed}\\n')\n",
    "    print('-'*20)\n",
    "    print(f'Expected Count:\\n{expected}\\n')\n",
    "    print('-'*20)\n",
    "    print(f'Chi-square:\\n{full_chisqt.round(3)}\\n')\n",
    "    print('~' * 20)\n",
    "    chi_to_save = pd.concat([pd.concat([observed, pd.DataFrame(expected)], axis='index'), full_chisqt], axis='index')\n",
    "    chi_to_save.to_csv(f'{table_save_path}chi-square {df_name} - {dvs[0]} x {dvs[1]}.csv')\n",
    "    chi_to_save.style.to_latex(f'{table_save_path}chi-square {df_name} - {dvs[0]} x {dvs[1]}.tex', hrules=True)\n",
    "\n",
    "    # Chi-square\n",
    "    chisqt = pd.crosstab(df[dvs[0]], df[dvs[1]])\n",
    "    pearson_r, p_value, dof, expected = scipy.stats.chi2_contingency(chisqt)\n",
    "    reject_H0 = p_value > alpha\n",
    "    reject_H = p_value < alpha\n",
    "\n",
    "    # if not reject_H0 and reject_H:\n",
    "    #     print('\\n')\n",
    "    #     print('+'*120)\n",
    "    #     print(f'IV 1: {dvs[0]}\\nIV 2: {dvs[1]}\\nNOT SIGNIFICANT at p-value: {p_value:.3f}!')\n",
    "    #     print('\\n')\n",
    "    #     print('~' * 20)\n",
    "    #     print(f\"Pearsons's R: {pearson_r}.\\np-value: {p_value:.3f}.\\nDegree of freedom: {dof}.\\nH0 Rejected: {reject_H0}\\nH Rejected: {reject_H}\")\n",
    "    #     print('\\n')\n",
    "    # elif reject_H0 and not reject_H:\n",
    "    print('\\n')\n",
    "    print('+'*120)\n",
    "    print(f'DV 1: {dvs[0]}\\nDV 2: {dvs[1]}')\n",
    "    print('\\n')\n",
    "    print('~' * 20)\n",
    "    print(f\"Pearsons's R: {pearson_r}.\\np-value: {p_value:.3f}.\\nDegree of freedom: {dof}.\\nH0 Rejected: {reject_H0}\\nH Rejected: {reject_H}\")\n",
    "    print('-'*20)\n",
    "    print(f'Observed Count:\\n{chisqt}\\n')\n",
    "    print('-'*20)\n",
    "    print(f'Expected Count:\\n{expected}\\n')\n",
    "    print('~' * 20)"
   ]
  },
  {
   "attachments": {},
   "cell_type": "markdown",
   "metadata": {},
   "source": [
    "### Categorical Language Requirement"
   ]
  },
  {
   "cell_type": "code",
   "execution_count": 14,
   "metadata": {},
   "outputs": [],
   "source": [
    "def run_corr_cat_lang_req(df_name, df):\n",
    "    print('\\n')\n",
    "    print('+'*120)\n",
    "    print(f'{\"=\"*50} RESULTS FOR {df_name} {\"=\"*50}')\n",
    "\n",
    "    # Full chi-square\n",
    "    expected, observed, full_chisqt = pg.chi2_independence(data=df, x=controls[2], y=controls[3])\n",
    "    print('\\n')\n",
    "    print('+'*120)\n",
    "    print(f'Control 1: {controls[2]}\\nControl 2: {controls[3]}')\n",
    "    print('\\n')\n",
    "    print('~' * 20)\n",
    "    print('FULL CHI-SQUARE TEST:')\n",
    "    print('-'*20)\n",
    "    print(f'Observed Count:\\n{observed}\\n')\n",
    "    print('-'*20)\n",
    "    print(f'Expected Count:\\n{expected}\\n')\n",
    "    print('-'*20)\n",
    "    print(f'Chi-square:\\n{full_chisqt.round(3)}\\n')\n",
    "    print('~' * 20)\n",
    "    chi_to_save = pd.concat([pd.concat([observed, pd.DataFrame(expected)], axis='index'), full_chisqt], axis='index')\n",
    "    chi_to_save.to_csv(f'{table_save_path}chi-square {df_name} - {controls[2]} x {controls[3]}.csv')\n",
    "    chi_to_save.style.to_latex(f'{table_save_path}chi-square {df_name} - {controls[2]} x {controls[3]}.tex', hrules=True)\n",
    "\n",
    "    # Chi-square\n",
    "    chisqt = pd.crosstab(df[controls[2]], df[controls[3]])\n",
    "    pearson_r, p_value, dof, expected = scipy.stats.chi2_contingency(chisqt)\n",
    "    reject_H0 = p_value > alpha\n",
    "    reject_H = p_value < alpha\n",
    "\n",
    "    # if not reject_H0 and reject_H:\n",
    "    #     print('\\n')\n",
    "    #     print('+'*120)\n",
    "    #     print(f'Control 1: {controls[2]}\\nControl 2: {controls[3]}\\nNOT SIGNIFICANT at p-value: {p_value:.3f}!')\n",
    "    #     print('\\n')\n",
    "    #     print('~' * 20)\n",
    "    #     print(f\"Pearsons's R: {pearson_r}.\\np-value: {p_value:.3f}.\\nDegree of freedom: {dof}.\\nH0 Rejected: {reject_H0}\\nH Rejected: {reject_H}\")\n",
    "    #     print('\\n')\n",
    "    # elif reject_H0 and not reject_H:\n",
    "    print('\\n')\n",
    "    print('+'*120)\n",
    "    print(f'Control 1: {controls[2]}\\nControl 2: {controls[3]}')\n",
    "    print('\\n')\n",
    "    print('~' * 20)\n",
    "    print(f\"Pearsons's R: {pearson_r}.\\np-value: {p_value:.3f}.\\nDegree of freedom: {dof}.\\nH0 Rejected: {reject_H0}\\nH Rejected: {reject_H}\")\n",
    "    print('-'*20)\n",
    "    print(f'Observed Count:\\n{chisqt}\\n')\n",
    "    print('-'*20)\n",
    "    print(f'Expected Count:\\n{expected}\\n')\n",
    "    print('~' * 20)\n"
   ]
  },
  {
   "cell_type": "code",
   "execution_count": 15,
   "metadata": {},
   "outputs": [
    {
     "data": {
      "application/vnd.jupyter.widget-view+json": {
       "model_id": "5b0138d02ab14d4bbac6c2c990807a1d",
       "version_major": 2,
       "version_minor": 0
      },
      "text/plain": [
       "interactive(children=(Dropdown(description='df_name', options=('df_jobs', 'df_manual'), value='df_jobs'), Outp…"
      ]
     },
     "metadata": {},
     "output_type": "display_data"
    },
    {
     "name": "stdout",
     "output_type": "stream",
     "text": [
      "CPU times: user 409 ms, sys: 102 ms, total: 511 ms\n",
      "Wall time: 528 ms\n"
     ]
    }
   ],
   "source": [
    "%%time\n",
    "@interact(df_name=dataframes.keys())\n",
    "def run_corr_interactive(df_name):\n",
    "    run_corr_cat_gender_sectors(df_name=df_name, df=dataframes[df_name])\n",
    "    run_corr_cat_age_sectors(df_name=df_name, df=dataframes[df_name])\n",
    "    run_corr_cat_gender_and_age_sectors(df_name=df_name, df=dataframes[df_name])\n",
    "    run_corr_bi_warmth_and_competence(df_name=df_name, df=dataframes[df_name])\n",
    "    run_corr_cat_lang_req(df_name=df_name, df=dataframes[df_name])\n"
   ]
  },
  {
   "attachments": {},
   "cell_type": "markdown",
   "metadata": {},
   "source": [
    "# VIF"
   ]
  },
  {
   "cell_type": "code",
   "execution_count": 16,
   "metadata": {},
   "outputs": [],
   "source": [
    "# compute the vif for all given features\n",
    "def compute_vif(df, considered_features):\n",
    "\n",
    "    X = df[considered_features]\n",
    "    # the calculation of variance inflation requires a constant\n",
    "    X.insert(0, 'intercept', 1)\n",
    "\n",
    "    # create dataframe to store vif values\n",
    "    vif = pd.DataFrame()\n",
    "    vif['Variable'] = X.columns\n",
    "    vif['VIF'] = [variance_inflation_factor(X.values, i) for i in range(X.shape[1])]\n",
    "    vif = vif.loc[vif['Variable']!='intercept']\n",
    "\n",
    "    return vif"
   ]
  },
  {
   "attachments": {},
   "cell_type": "markdown",
   "metadata": {},
   "source": [
    "### VIF for Percentage IVs"
   ]
  },
  {
   "cell_type": "code",
   "execution_count": 17,
   "metadata": {},
   "outputs": [],
   "source": [
    "def run_vif_ivs_perc_controls(df_name, df):\n",
    "    print('\\n')\n",
    "    print('+'*120)\n",
    "    print(f'{\"=\"*50} RESULTS FOR {df_name} {\"=\"*50}')\n",
    "\n",
    "    for iv_gender_perc, iv_age_perc in tqdm_product(ivs_gender_perc, ivs_age_perc):\n",
    "        considered_features = [iv_gender_perc, iv_age_perc] + controls[:2]\n",
    "        vif = compute_vif(df, considered_features)\n",
    "        print(vif.sort_values('VIF', ascending=False))\n"
   ]
  },
  {
   "cell_type": "code",
   "execution_count": 18,
   "metadata": {},
   "outputs": [
    {
     "data": {
      "application/vnd.jupyter.widget-view+json": {
       "model_id": "52c2b373a689491687ac6f11f464cc4b",
       "version_major": 2,
       "version_minor": 0
      },
      "text/plain": [
       "interactive(children=(Dropdown(description='df_name', options=('df_jobs', 'df_manual'), value='df_jobs'), Outp…"
      ]
     },
     "metadata": {},
     "output_type": "display_data"
    },
    {
     "name": "stdout",
     "output_type": "stream",
     "text": [
      "CPU times: user 6.51 s, sys: 704 ms, total: 7.22 s\n",
      "Wall time: 1.28 s\n"
     ]
    }
   ],
   "source": [
    "%%time\n",
    "@interact(df_name=dataframes.keys())\n",
    "def run_vif_ivs_perc_controls_interactive(df_name):\n",
    "    run_vif_ivs_perc_controls(df_name=df_name, df=dataframes[df_name])\n"
   ]
  },
  {
   "attachments": {},
   "cell_type": "markdown",
   "metadata": {},
   "source": [
    "### VIF for Categorical Dummy IVs"
   ]
  },
  {
   "cell_type": "code",
   "execution_count": 19,
   "metadata": {},
   "outputs": [],
   "source": [
    "def run_vif_ivs_dummy(df_name, df):\n",
    "    print('\\n')\n",
    "    print('+'*120)\n",
    "    print(f'{\"=\"*50} RESULTS FOR {df_name} {\"=\"*50}')\n",
    "\n",
    "    considered_features = ivs_dummy[:]\n",
    "    vif = compute_vif(df, considered_features)\n",
    "    print(vif.sort_values('VIF', ascending=False))\n"
   ]
  },
  {
   "cell_type": "code",
   "execution_count": 20,
   "metadata": {},
   "outputs": [
    {
     "data": {
      "application/vnd.jupyter.widget-view+json": {
       "model_id": "8f9810e5dc3a4bdcb6455404217b2d11",
       "version_major": 2,
       "version_minor": 0
      },
      "text/plain": [
       "interactive(children=(Dropdown(description='df_name', options=('df_jobs', 'df_manual'), value='df_jobs'), Outp…"
      ]
     },
     "metadata": {},
     "output_type": "display_data"
    },
    {
     "name": "stdout",
     "output_type": "stream",
     "text": [
      "CPU times: user 2.84 s, sys: 637 ms, total: 3.48 s\n",
      "Wall time: 660 ms\n"
     ]
    }
   ],
   "source": [
    "%%time\n",
    "@interact(df_name=dataframes.keys())\n",
    "def run_vif_ivs_dummy_interactive(df_name):\n",
    "    run_vif_ivs_dummy(df_name=df_name, df=dataframes[df_name])\n"
   ]
  },
  {
   "cell_type": "code",
   "execution_count": 21,
   "metadata": {},
   "outputs": [],
   "source": [
    "def run_vif_ivs_dummy_no_mixed(df_name, df):\n",
    "    print('\\n')\n",
    "    print('+'*120)\n",
    "    print(f'{\"=\"*50} RESULTS FOR {df_name} {\"=\"*50}')\n",
    "\n",
    "    considered_features = ivs_dummy[:]\n",
    "    considered_features.remove('Age_Mixed')\n",
    "    considered_features.remove('Gender_Mixed')\n",
    "    vif = compute_vif(df, considered_features)\n",
    "    print(vif.sort_values('VIF', ascending=False))\n"
   ]
  },
  {
   "cell_type": "code",
   "execution_count": 22,
   "metadata": {},
   "outputs": [
    {
     "data": {
      "application/vnd.jupyter.widget-view+json": {
       "model_id": "a970d7ec330b426681924a47485bfa2a",
       "version_major": 2,
       "version_minor": 0
      },
      "text/plain": [
       "interactive(children=(Dropdown(description='df_name', options=('df_jobs', 'df_manual'), value='df_jobs'), Outp…"
      ]
     },
     "metadata": {},
     "output_type": "display_data"
    },
    {
     "name": "stdout",
     "output_type": "stream",
     "text": [
      "CPU times: user 1.31 s, sys: 372 ms, total: 1.68 s\n",
      "Wall time: 269 ms\n"
     ]
    }
   ],
   "source": [
    "%%time\n",
    "@interact(df_name=dataframes.keys())\n",
    "def run_vif_ivs_dummy_no_mixed_interactive(df_name):\n",
    "    run_vif_ivs_dummy_no_mixed(df_name=df_name, df=dataframes[df_name])\n"
   ]
  },
  {
   "cell_type": "code",
   "execution_count": 23,
   "metadata": {},
   "outputs": [],
   "source": [
    "def run_vif_num(df_name, df):\n",
    "    print('\\n')\n",
    "    print('+'*120)\n",
    "    print(f'{\"=\"*50} RESULTS FOR {df_name} {\"=\"*50}')\n",
    "\n",
    "    considered_features = ['Gender_Num', 'Age_Num']\n",
    "    vif = compute_vif(df, considered_features)\n",
    "    print(vif.sort_values('VIF', ascending=False))\n"
   ]
  },
  {
   "cell_type": "code",
   "execution_count": 24,
   "metadata": {},
   "outputs": [
    {
     "data": {
      "application/vnd.jupyter.widget-view+json": {
       "model_id": "61c9f1ed5bd64c2e8fada5b0cd2ac184",
       "version_major": 2,
       "version_minor": 0
      },
      "text/plain": [
       "interactive(children=(Dropdown(description='df_name', options=('df_jobs', 'df_manual'), value='df_jobs'), Outp…"
      ]
     },
     "metadata": {},
     "output_type": "display_data"
    },
    {
     "name": "stdout",
     "output_type": "stream",
     "text": [
      "CPU times: user 593 ms, sys: 58.8 ms, total: 652 ms\n",
      "Wall time: 170 ms\n"
     ]
    }
   ],
   "source": [
    "%%time\n",
    "@interact(df_name=dataframes.keys())\n",
    "def run_vif_num_interactive(df_name):\n",
    "    run_vif_num(df_name=df_name, df=dataframes[df_name])\n"
   ]
  },
  {
   "cell_type": "code",
   "execution_count": 25,
   "metadata": {},
   "outputs": [],
   "source": [
    "def run_vif_ivs_dummy_genxage_controls(df_name, df):\n",
    "    print('\\n')\n",
    "    print('+'*120)\n",
    "    print(f'{\"=\"*50} RESULTS FOR {df_name} {\"=\"*50}')\n",
    "\n",
    "    for iv_gender_dummy, iv_age_dummy in tqdm_product(ivs_gender_dummy, ivs_age_dummy):\n",
    "        print('-'*20)\n",
    "        print(f'VIF for {iv_gender_dummy} x {iv_age_dummy}')\n",
    "        considered_features = [iv_gender_dummy, iv_age_dummy] + controls[:2]\n",
    "        vif = compute_vif(df, considered_features)\n",
    "        print(vif.sort_values('VIF', ascending=False))\n"
   ]
  },
  {
   "cell_type": "code",
   "execution_count": 26,
   "metadata": {},
   "outputs": [
    {
     "data": {
      "application/vnd.jupyter.widget-view+json": {
       "model_id": "b2332e3f2f35438ebc8fd6861a8e3bef",
       "version_major": 2,
       "version_minor": 0
      },
      "text/plain": [
       "interactive(children=(Dropdown(description='df_name', options=('df_jobs', 'df_manual'), value='df_jobs'), Outp…"
      ]
     },
     "metadata": {},
     "output_type": "display_data"
    },
    {
     "name": "stdout",
     "output_type": "stream",
     "text": [
      "CPU times: user 11.9 s, sys: 2.24 s, total: 14.2 s\n",
      "Wall time: 2.28 s\n"
     ]
    }
   ],
   "source": [
    "%%time\n",
    "@interact(df_name=dataframes.keys())\n",
    "def run_vif_ivs_dummy_genxage_controls_interactive(df_name):\n",
    "    run_vif_ivs_dummy_genxage_controls(df_name=df_name, df=dataframes[df_name])\n"
   ]
  },
  {
   "cell_type": "code",
   "execution_count": 27,
   "metadata": {},
   "outputs": [],
   "source": [
    "def run_vif_ivs_dummy_controls(df_name, df):\n",
    "    print('\\n')\n",
    "    print('+'*120)\n",
    "    print(f'{\"=\"*50} RESULTS FOR {df_name} {\"=\"*50}')\n",
    "\n",
    "    considered_features = ivs_dummy[:] + controls[:2]\n",
    "    vif = compute_vif(df, considered_features)\n",
    "    print(vif.sort_values('VIF', ascending=False))\n",
    "    vif.to_csv(f'{table_save_path}vif {df_name} - {ivs_dummy} x Controls.csv')\n",
    "    vif.style.to_latex(f'{table_save_path}vif {df_name} - {ivs_dummy} x Controls.tex', hrules=True)\n"
   ]
  },
  {
   "cell_type": "code",
   "execution_count": 28,
   "metadata": {},
   "outputs": [
    {
     "data": {
      "application/vnd.jupyter.widget-view+json": {
       "model_id": "f62ae31ea5fb4311b975962706f4fa18",
       "version_major": 2,
       "version_minor": 0
      },
      "text/plain": [
       "interactive(children=(Dropdown(description='df_name', options=('df_jobs', 'df_manual'), value='df_jobs'), Outp…"
      ]
     },
     "metadata": {},
     "output_type": "display_data"
    },
    {
     "name": "stdout",
     "output_type": "stream",
     "text": [
      "CPU times: user 5.42 s, sys: 594 ms, total: 6.02 s\n",
      "Wall time: 1.07 s\n"
     ]
    }
   ],
   "source": [
    "%%time\n",
    "@interact(df_name=dataframes.keys())\n",
    "def run_vif_ivs_dummy_controls_interactive(df_name):\n",
    "    run_vif_ivs_dummy_controls(df_name=df_name, df=dataframes[df_name])\n"
   ]
  },
  {
   "cell_type": "code",
   "execution_count": 29,
   "metadata": {},
   "outputs": [],
   "source": [
    "def run_vif_ivs_dummy_no_mixed_controls(df_name, df):\n",
    "    print('\\n')\n",
    "    print('+'*120)\n",
    "    print(f'{\"=\"*50} RESULTS FOR {df_name} {\"=\"*50}')\n",
    "\n",
    "    considered_features = ivs_dummy[:] + controls[:2]\n",
    "    considered_features.remove('Age_Mixed')\n",
    "    considered_features.remove('Gender_Mixed')\n",
    "    vif = compute_vif(df, considered_features)\n",
    "    print(vif.sort_values('VIF', ascending=False))\n",
    "    vif.to_csv(f'{table_save_path}vif {df_name} - MIXED REMOVED {ivs_dummy} x Controls.csv')\n",
    "    vif.style.to_latex(f'{table_save_path}vif {df_name} - MIXED REMOVED {ivs_dummy} x Controls.tex', hrules=True)\n"
   ]
  },
  {
   "cell_type": "code",
   "execution_count": 30,
   "metadata": {},
   "outputs": [
    {
     "data": {
      "application/vnd.jupyter.widget-view+json": {
       "model_id": "8fff1b1a01b04a9085d6d865f7c7e1d0",
       "version_major": 2,
       "version_minor": 0
      },
      "text/plain": [
       "interactive(children=(Dropdown(description='df_name', options=('df_jobs', 'df_manual'), value='df_jobs'), Outp…"
      ]
     },
     "metadata": {},
     "output_type": "display_data"
    },
    {
     "name": "stdout",
     "output_type": "stream",
     "text": [
      "CPU times: user 2.44 s, sys: 482 ms, total: 2.92 s\n",
      "Wall time: 478 ms\n"
     ]
    }
   ],
   "source": [
    "%%time\n",
    "@interact(df_name=dataframes.keys())\n",
    "def run_vif_ivs_dummy_no_mixed_controls_interactive(df_name):\n",
    "    run_vif_ivs_dummy_no_mixed_controls(df_name=df_name, df=dataframes[df_name])\n"
   ]
  },
  {
   "cell_type": "code",
   "execution_count": 31,
   "metadata": {},
   "outputs": [],
   "source": [
    "def run_vif_ivs_num_controls(df_name, df):\n",
    "    print('\\n')\n",
    "    print('+'*120)\n",
    "    print(f'{\"=\"*50} RESULTS FOR {df_name} {\"=\"*50}')\n",
    "\n",
    "    print('-'*20)\n",
    "    print('VIF for Gender_Num x Age_Num')\n",
    "    considered_features = ['Gender_Num', 'Age_Num'] + controls[:2]\n",
    "    vif = compute_vif(df, considered_features)\n",
    "    print(vif.sort_values('VIF', ascending=False))\n"
   ]
  },
  {
   "cell_type": "code",
   "execution_count": 32,
   "metadata": {},
   "outputs": [
    {
     "data": {
      "application/vnd.jupyter.widget-view+json": {
       "model_id": "9c19d6ea1ef74da28b0d3b79aeed4e02",
       "version_major": 2,
       "version_minor": 0
      },
      "text/plain": [
       "interactive(children=(Dropdown(description='df_name', options=('df_jobs', 'df_manual'), value='df_jobs'), Outp…"
      ]
     },
     "metadata": {},
     "output_type": "display_data"
    },
    {
     "name": "stdout",
     "output_type": "stream",
     "text": [
      "CPU times: user 1.29 s, sys: 436 ms, total: 1.72 s\n",
      "Wall time: 335 ms\n"
     ]
    }
   ],
   "source": [
    "%%time\n",
    "@interact(df_name=dataframes.keys())\n",
    "def run_vif_ivs_num_controls_interactive(df_name):\n",
    "    run_vif_ivs_num_controls(df_name=df_name, df=dataframes[df_name])\n"
   ]
  },
  {
   "cell_type": "code",
   "execution_count": 33,
   "metadata": {},
   "outputs": [],
   "source": [
    "def run_vif_ivs_perc_controls(df_name, df):\n",
    "    print('\\n')\n",
    "    print('+'*120)\n",
    "    print(f'{\"=\"*50} RESULTS FOR {df_name} {\"=\"*50}')\n",
    "\n",
    "    considered_features = ivs_perc[:] + controls[:2]\n",
    "    vif = compute_vif(df, considered_features)\n",
    "    print(vif.sort_values('VIF', ascending=False))\n",
    "    vif.to_csv(f'{table_save_path}vif {df_name} - {ivs_perc} x Controls.csv')\n",
    "    vif.style.to_latex(f'{table_save_path}vif {df_name} - {ivs_perc} x Controls.tex', hrules=True)\n"
   ]
  },
  {
   "cell_type": "code",
   "execution_count": 34,
   "metadata": {},
   "outputs": [
    {
     "data": {
      "application/vnd.jupyter.widget-view+json": {
       "model_id": "6b906df813de4f49a38f6281760d33ec",
       "version_major": 2,
       "version_minor": 0
      },
      "text/plain": [
       "interactive(children=(Dropdown(description='df_name', options=('df_jobs', 'df_manual'), value='df_jobs'), Outp…"
      ]
     },
     "metadata": {},
     "output_type": "display_data"
    },
    {
     "name": "stdout",
     "output_type": "stream",
     "text": [
      "CPU times: user 2.51 s, sys: 729 ms, total: 3.24 s\n",
      "Wall time: 524 ms\n"
     ]
    }
   ],
   "source": [
    "%%time\n",
    "@interact(df_name=dataframes.keys())\n",
    "def run_vif_ivs_perc_controls_interactive(df_name):\n",
    "    run_vif_ivs_perc_controls(df_name=df_name, df=dataframes[df_name])\n"
   ]
  },
  {
   "cell_type": "code",
   "execution_count": 35,
   "metadata": {},
   "outputs": [],
   "source": [
    "def run_vif_ivs_dummy_and_perc_controls(df_name, df):\n",
    "    print('\\n')\n",
    "    print('+'*120)\n",
    "    print(f'{\"=\"*50} RESULTS FOR {df_name} {\"=\"*50}')\n",
    "\n",
    "    considered_features = ivs_dummy_and_perc[:] + controls[:2]\n",
    "    vif = compute_vif(df, considered_features)\n",
    "    print(vif.sort_values('VIF', ascending=False))\n",
    "    vif.to_csv(f'{table_save_path}vif {df_name} - {ivs_dummy_and_perc} x Controls.csv')\n",
    "    vif.style.to_latex(f'{table_save_path}vif {df_name} - {ivs_dummy_and_perc} x Controls.tex', hrules=True)\n"
   ]
  },
  {
   "cell_type": "code",
   "execution_count": 36,
   "metadata": {},
   "outputs": [
    {
     "data": {
      "application/vnd.jupyter.widget-view+json": {
       "model_id": "800fb145d0aa4c0c8fc89c486d8c32ea",
       "version_major": 2,
       "version_minor": 0
      },
      "text/plain": [
       "interactive(children=(Dropdown(description='df_name', options=('df_jobs', 'df_manual'), value='df_jobs'), Outp…"
      ]
     },
     "metadata": {},
     "output_type": "display_data"
    },
    {
     "name": "stdout",
     "output_type": "stream",
     "text": [
      "CPU times: user 10.9 s, sys: 1.64 s, total: 12.5 s\n",
      "Wall time: 2.09 s\n"
     ]
    }
   ],
   "source": [
    "%%time\n",
    "@interact(df_name=dataframes.keys())\n",
    "def run_vif_ivs_dummy_and_perc_controls_interactive(df_name):\n",
    "    run_vif_ivs_dummy_and_perc_controls(df_name=df_name, df=dataframes[df_name])\n"
   ]
  },
  {
   "cell_type": "code",
   "execution_count": 37,
   "metadata": {},
   "outputs": [],
   "source": [
    "def run_vif_ivs_dummy_and_perc_controls_no_mixed(df_name, df):\n",
    "    print('\\n')\n",
    "    print('+'*120)\n",
    "    print(f'{\"=\"*50} RESULTS FOR {df_name} {\"=\"*50}')\n",
    "\n",
    "    considered_features = ivs_dummy_and_perc[:] + controls[:2]\n",
    "    considered_features.remove('Age_Mixed')\n",
    "    considered_features.remove('Gender_Mixed')\n",
    "    vif = compute_vif(df, considered_features)\n",
    "    print(vif.sort_values('VIF', ascending=False))\n",
    "    vif.to_csv(f'{table_save_path}vif {df_name} - MIXED REMOVED {ivs_dummy_and_perc} x Controls.csv')\n",
    "    vif.style.to_latex(f'{table_save_path}vif {df_name} - MIXED REMOVED {ivs_dummy_and_perc} x Controls.tex', hrules=True)\n"
   ]
  },
  {
   "cell_type": "code",
   "execution_count": 38,
   "metadata": {},
   "outputs": [
    {
     "data": {
      "application/vnd.jupyter.widget-view+json": {
       "model_id": "5c2fbae8f2b7437ba17b64587bd1146f",
       "version_major": 2,
       "version_minor": 0
      },
      "text/plain": [
       "interactive(children=(Dropdown(description='df_name', options=('df_jobs', 'df_manual'), value='df_jobs'), Outp…"
      ]
     },
     "metadata": {},
     "output_type": "display_data"
    },
    {
     "name": "stdout",
     "output_type": "stream",
     "text": [
      "CPU times: user 6.58 s, sys: 1.3 s, total: 7.88 s\n",
      "Wall time: 1.26 s\n"
     ]
    }
   ],
   "source": [
    "%%time\n",
    "@interact(df_name=dataframes.keys())\n",
    "def run_vif_ivs_dummy_and_perc_controls_no_mixed_interactive(df_name):\n",
    "    run_vif_ivs_dummy_and_perc_controls_no_mixed(df_name=df_name, df=dataframes[df_name])\n"
   ]
  },
  {
   "cell_type": "code",
   "execution_count": 39,
   "metadata": {},
   "outputs": [],
   "source": [
    "def run_vif_ivs_num_and_perc_controls(df_name, df):\n",
    "    print('\\n')\n",
    "    print('+'*120)\n",
    "    print(f'{\"=\"*50} RESULTS FOR {df_name} {\"=\"*50}')\n",
    "\n",
    "    considered_features = ivs_num_and_perc[:] + controls[:2]\n",
    "    vif = compute_vif(df, considered_features)\n",
    "    print(vif.sort_values('VIF', ascending=False))\n",
    "    vif.to_csv(f'{table_save_path}vif {df_name} - {ivs_dummy_and_perc} x Controls.csv')\n",
    "    vif.style.to_latex(f'{table_save_path}vif {df_name} - {ivs_dummy_and_perc} x Controls.tex', hrules=True)\n"
   ]
  },
  {
   "cell_type": "code",
   "execution_count": 40,
   "metadata": {},
   "outputs": [
    {
     "data": {
      "application/vnd.jupyter.widget-view+json": {
       "model_id": "059f612d273c4d398a4d92ff9b150c4c",
       "version_major": 2,
       "version_minor": 0
      },
      "text/plain": [
       "interactive(children=(Dropdown(description='df_name', options=('df_jobs', 'df_manual'), value='df_jobs'), Outp…"
      ]
     },
     "metadata": {},
     "output_type": "display_data"
    },
    {
     "name": "stdout",
     "output_type": "stream",
     "text": [
      "CPU times: user 4.39 s, sys: 716 ms, total: 5.1 s\n",
      "Wall time: 810 ms\n"
     ]
    }
   ],
   "source": [
    "%%time\n",
    "@interact(df_name=dataframes.keys())\n",
    "def run_vif_ivs_num_and_perc_controls_interactive(df_name):\n",
    "    run_vif_ivs_num_and_perc_controls(df_name=df_name, df=dataframes[df_name])\n"
   ]
  },
  {
   "cell_type": "code",
   "execution_count": 41,
   "metadata": {},
   "outputs": [],
   "source": [
    "def run_vif_dvs(df_name, df):\n",
    "    print('\\n')\n",
    "    print('+'*120)\n",
    "    print(f'{\"=\"*50} RESULTS FOR {df_name} {\"=\"*50}')\n",
    "\n",
    "    if df_name == 'df_manual':\n",
    "        considered_features_list = [dvs]\n",
    "    elif df_name == 'df_jobs':\n",
    "        considered_features_list = [dvs, dvs_prob]\n",
    "\n",
    "    for considered_features in considered_features_list:\n",
    "        vif = compute_vif(df, considered_features)\n",
    "        print(vif.sort_values('VIF', ascending=False))\n"
   ]
  },
  {
   "cell_type": "code",
   "execution_count": 42,
   "metadata": {},
   "outputs": [
    {
     "data": {
      "application/vnd.jupyter.widget-view+json": {
       "model_id": "94de324d97a44bfbbece83c0bfb7f789",
       "version_major": 2,
       "version_minor": 0
      },
      "text/plain": [
       "interactive(children=(Dropdown(description='df_name', options=('df_jobs', 'df_manual'), value='df_jobs'), Outp…"
      ]
     },
     "metadata": {},
     "output_type": "display_data"
    },
    {
     "name": "stdout",
     "output_type": "stream",
     "text": [
      "CPU times: user 1.29 s, sys: 163 ms, total: 1.45 s\n",
      "Wall time: 279 ms\n"
     ]
    }
   ],
   "source": [
    "%%time\n",
    "@interact(df_name=dataframes.keys())\n",
    "def run_vif_dvs_interactive(df_name):\n",
    "    run_vif_dvs(df_name=df_name, df=dataframes[df_name])\n"
   ]
  },
  {
   "cell_type": "code",
   "execution_count": 43,
   "metadata": {},
   "outputs": [],
   "source": [
    "def run_vif_controls(df_name, df):\n",
    "    print('\\n')\n",
    "    print('+'*120)\n",
    "    print(f'{\"=\"*50} RESULTS FOR {df_name} {\"=\"*50}')\n",
    "\n",
    "    considered_features = controls[:2]\n",
    "    vif = compute_vif(df, considered_features)\n",
    "    print(vif.sort_values('VIF', ascending=False))\n",
    "    vif.to_csv(f'{table_save_path}vif {df_name} - Controls.csv')\n",
    "    vif.style.to_latex(f'{table_save_path}vif {df_name} - Controls.tex', hrules=True)\n"
   ]
  },
  {
   "cell_type": "code",
   "execution_count": 44,
   "metadata": {},
   "outputs": [
    {
     "data": {
      "application/vnd.jupyter.widget-view+json": {
       "model_id": "8d1d8f10ec1c41d3b8be9ac93b02f84b",
       "version_major": 2,
       "version_minor": 0
      },
      "text/plain": [
       "interactive(children=(Dropdown(description='df_name', options=('df_jobs', 'df_manual'), value='df_jobs'), Outp…"
      ]
     },
     "metadata": {},
     "output_type": "display_data"
    },
    {
     "name": "stdout",
     "output_type": "stream",
     "text": [
      "CPU times: user 574 ms, sys: 61.3 ms, total: 635 ms\n",
      "Wall time: 142 ms\n"
     ]
    }
   ],
   "source": [
    "%%time\n",
    "@interact(df_name=dataframes.keys())\n",
    "def run_vif_controls_interactive(df_name):\n",
    "    run_vif_controls(df_name=df_name, df=dataframes[df_name])\n"
   ]
  },
  {
   "attachments": {},
   "cell_type": "markdown",
   "metadata": {},
   "source": [
    "# Double LASSO Regression"
   ]
  },
  {
   "attachments": {},
   "cell_type": "markdown",
   "metadata": {},
   "source": [
    "### Double LASSO Regression for Controls x DVs"
   ]
  },
  {
   "cell_type": "code",
   "execution_count": 45,
   "metadata": {},
   "outputs": [],
   "source": [
    "def run_double_lasso_dvs_controls(df_name, df):\n",
    "    print('\\n')\n",
    "    print('+'*120)\n",
    "    print(f'{\"=\"*50} RESULTS FOR {df_name} {\"=\"*50}')\n",
    "\n",
    "    endog_names = dvs\n",
    "    exog_names = controls[:2]\n",
    "\n",
    "    endog = df[endog_names]\n",
    "    exog = df[exog_names]\n",
    "    constant = sm.add_constant(exog)\n",
    "\n",
    "    lasso = Lasso(alpha=0.1)\n",
    "    lasso.fit(constant, endog)\n",
    "    print('Estimate coefficients for Lasso')\n",
    "    for i, name in enumerate(exog_names):\n",
    "        print(f'{name}: {lasso.coef_[i]}')\n"
   ]
  },
  {
   "cell_type": "code",
   "execution_count": 46,
   "metadata": {},
   "outputs": [
    {
     "data": {
      "application/vnd.jupyter.widget-view+json": {
       "model_id": "6bb90df1cab049579ccbb727ee97145e",
       "version_major": 2,
       "version_minor": 0
      },
      "text/plain": [
       "interactive(children=(Dropdown(description='df_name', options=('df_jobs', 'df_manual'), value='df_jobs'), Outp…"
      ]
     },
     "metadata": {},
     "output_type": "display_data"
    },
    {
     "name": "stdout",
     "output_type": "stream",
     "text": [
      "CPU times: user 397 ms, sys: 194 ms, total: 592 ms\n",
      "Wall time: 99.7 ms\n"
     ]
    }
   ],
   "source": [
    "%%time\n",
    "@interact(df_name=dataframes.keys())\n",
    "def run_double_lasso_dvs_controls_interactive(df_name):\n",
    "    run_double_lasso_dvs_controls(df_name=df_name, df=dataframes[df_name])"
   ]
  },
  {
   "attachments": {},
   "cell_type": "markdown",
   "metadata": {},
   "source": [
    "### Double LASSO Regression for Controls x IVs Percentage"
   ]
  },
  {
   "cell_type": "code",
   "execution_count": 47,
   "metadata": {},
   "outputs": [],
   "source": [
    "def run_double_lasso_ivs_controls(df_name, df):\n",
    "    print('\\n')\n",
    "    print('+'*120)\n",
    "    print(f'{\"=\"*50} RESULTS FOR {df_name} {\"=\"*50}')\n",
    "\n",
    "    for iv in ivs_perc:\n",
    "        print(f'{\"-\"*20} {iv} {\"-\"*20}')\n",
    "        endog_names = iv\n",
    "        exog_names = controls[:2]\n",
    "\n",
    "        endog = df[endog_names]\n",
    "        exog = df[exog_names]\n",
    "        constant = sm.add_constant(exog)\n",
    "\n",
    "        lasso = Lasso(alpha=0.1)\n",
    "        lasso.fit(constant, endog)\n",
    "        print('Estimate coefficients for Lasso')\n",
    "        for i, name in enumerate(exog_names):\n",
    "            print(f'{name}: {lasso.coef_[i]}')\n"
   ]
  },
  {
   "cell_type": "code",
   "execution_count": 48,
   "metadata": {},
   "outputs": [
    {
     "data": {
      "application/vnd.jupyter.widget-view+json": {
       "model_id": "610acdde30324a089c7953f7997dba44",
       "version_major": 2,
       "version_minor": 0
      },
      "text/plain": [
       "interactive(children=(Dropdown(description='df_name', options=('df_jobs', 'df_manual'), value='df_jobs'), Outp…"
      ]
     },
     "metadata": {},
     "output_type": "display_data"
    },
    {
     "name": "stdout",
     "output_type": "stream",
     "text": [
      "CPU times: user 533 ms, sys: 173 ms, total: 706 ms\n",
      "Wall time: 113 ms\n"
     ]
    }
   ],
   "source": [
    "%%time\n",
    "@interact(df_name=dataframes.keys())\n",
    "def run_double_lasso_ivs_controls_interactive(df_name):\n",
    "    run_double_lasso_ivs_controls(df_name=df_name, df=dataframes[df_name])\n"
   ]
  },
  {
   "attachments": {},
   "cell_type": "markdown",
   "metadata": {},
   "source": [
    "### Double LASSO Regression for Controls x IVs Dummy"
   ]
  },
  {
   "cell_type": "code",
   "execution_count": 49,
   "metadata": {},
   "outputs": [],
   "source": [
    "def run_double_lasso_ivs_dummy_controls(df_name, df):\n",
    "    print('\\n')\n",
    "    print('+'*120)\n",
    "    print(f'{\"=\"*50} RESULTS FOR {df_name} {\"=\"*50}')\n",
    "\n",
    "    for iv in ivs_dummy:\n",
    "        print(f'{\"-\"*20} {iv} {\"-\"*20}')\n",
    "        endog_names = iv\n",
    "        exog_names = controls[:2]\n",
    "\n",
    "        endog = df[endog_names]\n",
    "        exog = df[exog_names]\n",
    "        constant = sm.add_constant(exog)\n",
    "\n",
    "        lasso = Lasso(alpha=0.1)\n",
    "        lasso.fit(constant, endog)\n",
    "        print('Estimate coefficients for Lasso')\n",
    "        for i, name in enumerate(exog_names):\n",
    "            print(f'{name}: {lasso.coef_[i]}')\n"
   ]
  },
  {
   "cell_type": "code",
   "execution_count": 50,
   "metadata": {},
   "outputs": [
    {
     "data": {
      "application/vnd.jupyter.widget-view+json": {
       "model_id": "2231513b1c1844a184d3049786de5a44",
       "version_major": 2,
       "version_minor": 0
      },
      "text/plain": [
       "interactive(children=(Dropdown(description='df_name', options=('df_jobs', 'df_manual'), value='df_jobs'), Outp…"
      ]
     },
     "metadata": {},
     "output_type": "display_data"
    },
    {
     "name": "stdout",
     "output_type": "stream",
     "text": [
      "CPU times: user 884 ms, sys: 114 ms, total: 997 ms\n",
      "Wall time: 159 ms\n"
     ]
    }
   ],
   "source": [
    "%%time\n",
    "@interact(df_name=dataframes.keys())\n",
    "def run_double_lasso_ivs_dummy_controls_interactive(df_name):\n",
    "    run_double_lasso_ivs_dummy_controls(df_name=df_name, df=dataframes[df_name])\n"
   ]
  },
  {
   "attachments": {},
   "cell_type": "markdown",
   "metadata": {},
   "source": [
    "### Double LASSO Regression for Controls x IVs Dummy and Percentage"
   ]
  },
  {
   "cell_type": "code",
   "execution_count": 51,
   "metadata": {},
   "outputs": [],
   "source": [
    "def run_double_lasso_ivs_dummy_and_perc_controls(df_name, df):\n",
    "    print('\\n')\n",
    "    print('+'*120)\n",
    "    print(f'{\"=\"*50} RESULTS FOR {df_name} {\"=\"*50}')\n",
    "\n",
    "    for iv in ivs_dummy_and_perc:\n",
    "        print(f'{\"-\"*20} {iv} {\"-\"*20}')\n",
    "        endog_names = iv\n",
    "        exog_names = controls[:2]\n",
    "\n",
    "        endog = df[endog_names]\n",
    "        exog = df[exog_names]\n",
    "        constant = sm.add_constant(exog)\n",
    "\n",
    "        lasso = Lasso(alpha=0.1)\n",
    "        lasso.fit(constant, endog)\n",
    "        print('Estimate coefficients for Lasso')\n",
    "        for i, name in enumerate(exog_names):\n",
    "            print(f'{name}: {lasso.coef_[i]}')\n"
   ]
  },
  {
   "cell_type": "code",
   "execution_count": 52,
   "metadata": {},
   "outputs": [
    {
     "data": {
      "application/vnd.jupyter.widget-view+json": {
       "model_id": "2e8378874fbe4ccda1c3ea26ba0f59d5",
       "version_major": 2,
       "version_minor": 0
      },
      "text/plain": [
       "interactive(children=(Dropdown(description='df_name', options=('df_jobs', 'df_manual'), value='df_jobs'), Outp…"
      ]
     },
     "metadata": {},
     "output_type": "display_data"
    },
    {
     "name": "stdout",
     "output_type": "stream",
     "text": [
      "CPU times: user 1.06 s, sys: 427 ms, total: 1.49 s\n",
      "Wall time: 237 ms\n"
     ]
    }
   ],
   "source": [
    "%%time\n",
    "@interact(df_name=dataframes.keys())\n",
    "def run_double_lasso_ivs_dummy_and_perc_controls_interactive(df_name):\n",
    "    run_double_lasso_ivs_dummy_and_perc_controls(df_name=df_name, df=dataframes[df_name])\n"
   ]
  },
  {
   "cell_type": "code",
   "execution_count": null,
   "metadata": {},
   "outputs": [],
   "source": []
  }
 ],
 "metadata": {
  "kernelspec": {
   "display_name": "Automating_Equity1_3.10",
   "language": "python",
   "name": "python3"
  },
  "language_info": {
   "codemirror_mode": {
    "name": "ipython",
    "version": 3
   },
   "file_extension": ".py",
   "mimetype": "text/x-python",
   "name": "python",
   "nbconvert_exporter": "python",
   "pygments_lexer": "ipython3",
   "version": "3.10.11"
  },
  "orig_nbformat": 4
 },
 "nbformat": 4,
 "nbformat_minor": 2
}
