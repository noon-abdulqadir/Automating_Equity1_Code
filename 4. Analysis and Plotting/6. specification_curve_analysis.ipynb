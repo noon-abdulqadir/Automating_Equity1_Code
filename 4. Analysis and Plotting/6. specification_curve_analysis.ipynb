{
 "cells": [
  {
   "cell_type": "code",
   "execution_count": 1,
   "metadata": {},
   "outputs": [],
   "source": [
    "import os # type:ignore # isort:skip # fmt:skip # noqa # nopep8\n",
    "import sys # type:ignore # isort:skip # fmt:skip # noqa # nopep8\n",
    "from pathlib import Path # type:ignore # isort:skip # fmt:skip # noqa # nopep8\n",
    "\n",
    "mod = sys.modules[__name__]\n",
    "\n",
    "code_dir = None\n",
    "code_dir_name = 'Code'\n",
    "unwanted_subdir_name = 'Analysis'\n",
    "\n",
    "if code_dir_name not in str(Path.cwd()).split('/')[-1]:\n",
    "    for _ in range(5):\n",
    "\n",
    "        parent_path = str(Path.cwd().parents[_]).split('/')[-1]\n",
    "\n",
    "        if (code_dir_name in parent_path) and (unwanted_subdir_name not in parent_path):\n",
    "\n",
    "            code_dir = str(Path.cwd().parents[_])\n",
    "\n",
    "            if code_dir is not None:\n",
    "                break\n",
    "else:\n",
    "    code_dir = str(Path.cwd())\n",
    "sys.path.append(code_dir)\n",
    "\n",
    "# %load_ext autoreload\n",
    "# %autoreload 2\n"
   ]
  },
  {
   "cell_type": "code",
   "execution_count": 2,
   "metadata": {},
   "outputs": [
    {
     "name": "stderr",
     "output_type": "stream",
     "text": [
      "/opt/homebrew/Caskroom/mambaforge/base/envs/Automating_Equity1/lib/python3.10/site-packages/outdated/utils.py:14: OutdatedPackageWarning: The package pingouin is out of date. Your version is 0.5.3, the latest is 0.5.4.\n",
      "Set the environment variable OUTDATED_IGNORE=1 to disable these warnings.\n",
      "  return warn(\n"
     ]
    },
    {
     "name": "stdout",
     "output_type": "stream",
     "text": [
      "Using MPS\n"
     ]
    },
    {
     "data": {
      "application/vnd.jupyter.widget-view+json": {
       "model_id": "10bc8052bb95465bacfce741b1ac124c",
       "version_major": 2,
       "version_minor": 0
      },
      "text/plain": [
       "0it [00:00, ?it/s]"
      ]
     },
     "metadata": {},
     "output_type": "display_data"
    },
    {
     "data": {
      "text/plain": [
       "<Figure size 640x480 with 0 Axes>"
      ]
     },
     "metadata": {},
     "output_type": "display_data"
    }
   ],
   "source": [
    "from setup_module.imports import *  # type:ignore # isort:skip # fmt:skip # noqa # nopep8\n",
    "from setup_module import researchpy_fork as rp # type:ignore # isort:skip # fmt:skip # noqa # nopep8\n",
    "from setup_module import specification_curve_fork as specy # type:ignore # isort:skip # fmt:skip # noqa # nopep8\n",
    "from setup_module import researchpy_fork as rp # type:ignore # isort:skip # fmt:skip # noqa # nopep8\n"
   ]
  },
  {
   "cell_type": "markdown",
   "metadata": {},
   "source": [
    "# Functions"
   ]
  },
  {
   "cell_type": "markdown",
   "metadata": {},
   "source": [
    "# Analysis plan:\n",
    "\n",
    "1. ## [Descriptives and tables](./1.%20descriptives_and_tables.ipynb)\n",
    "2. ## [Visualization](./2.%20visualization.ipynb)\n",
    "3. ## [Frequencies and Normality tests](./2.%20frequencies_and_normality_test.ipynb)\n",
    "   1. ### Frequencies, histograms, and QQ plots\n",
    "      * Normal test\n",
    "      * Kurtosis test\n",
    "      * Shapiro\n",
    "      * Anderson\n",
    "      * Bartlett\n",
    "   2. ### Correlation between independent variables (IVs) and control variables and Multicolinarity test\n",
    "      * Pearson's R\n",
    "      * VIF\n",
    "     - ***ivs_dummy*** (binary nominal) = Social category designation (Female, Male, Mixed Gender)\n",
    "     - ***ivs_perc*** (continous ratio) = Social category percentage per sector (0-100)\n",
    "     - ***% Sector per Workforce*** (continous ratio) = Sector percentage per worksforce (0-100)\n",
    "     - ***num_words*** (continous ratio) = Number of words in job description\n",
    "     - ***English Requirement in Job Ad*** (binary nominal) = English requirement in job description (0 vs. 1)\n",
    "     - ***Dutch Requirement in Job Ad*** (binary nominal) = Dutch requirement in job description (0 vs. 1)\n",
    "     - ***Platform*** (binary dummy) = LinkedIn (0 vs. 1), Indeed (0 vs. 1), Glassdoor (0 vs. 1)\n",
    "\n",
    "4. ## [ANOVA and Chi-square (Pearson's R)](./3.%20chisqt_and_anova.ipynb)\n",
    "\n",
    "   1. ### Chi-square\n",
    "      * **df_manual:**\n",
    "        - ***dvs*** (binary nominal) = 'Warmth' and 'Competence' (0 vs. 1)\n",
    "        - ***ivs*** (binary nominal) = Social category designation (Female, Male, Mixed Gender)\n",
    "      * **df_jobs:**\n",
    "        - ***dvs*** (binary nominal) = 'Warmth' and 'Competence' (0 vs. 1)\n",
    "        - ***ivs*** (binary nominal) = Social category designation (Female, Male, Mixed Gender)\n",
    "\n",
    "   2. ### One-way ANOVA, interactions, and post-hoc test\n",
    "      * **df_manual:**\n",
    "        - ***dvs*** (binary nominal) = 'Warmth' and 'Competence' (0 vs. 1)\n",
    "        - ***ivs*** (binary nominal) = Social category designation (Female, Male, Mixed Gender)\n",
    "          - If Levene's test is *not significant*, use classic ANOVA and Tukey's post hoc test\n",
    "          - If Levene's test is *significant*, use Welch's and Kruskal-Wallis ANOVA and Games Howell's post hoc test\n",
    "      * **df_jobs:**\n",
    "         - ***dvs_prob*** (continous ratio) = 'Warmth' and 'Competence' probabilities (0-1)\n",
    "         - ***ivs*** (binary nominal) = Social category designation (Female, Male, Mixed Gender)\n",
    "           - If Levene's test is *not significant*, use classic ANOVA and Tukey's post hoc test\n",
    "           - If Levene's test is *significant*, use Welch's and Kruskal-Wallis ANOVA and Games Howell's post hoc test\n",
    "\n",
    "5. ## [Regression Analysis](./3.%20regression_analysis.ipynb)\n",
    "   1. ### Logistic Regression  with all interaction (smf):\n",
    "      * **df_manual:**\n",
    "        - ***dvs*** (binary nominal) = 'Warmth' and 'Competence' (0 vs. 1)\n",
    "        - ***ivs_perc*** (continous ratio) = Social category percentage per sector (0-100)\n",
    "      * **df_jobs:**\n",
    "        - ***dvs*** (binary nominal) = 'Warmth' and 'Competence' (0 vs. 1)\n",
    "        - ***ivs_perc*** (continous ratio) = Social category percentage per sector (0-100)\n",
    "   2. ### OLS Regression with all interaction:\n",
    "      * **df_jobs:**\n",
    "        - ***dvs_prob*** (continous ratio) = 'Warmth' and 'Competence' probabilities (0-1)\n",
    "        - ***ivs_perc*** (continous ratio) = Social category percentage per sector (0-100)\n",
    "   3. ### Multilevel OLS Regression with all interaction:\n",
    "      * **df_jobs:**\n",
    "        - ***dvs_prob*** (continous ratio) = 'Warmth' and 'Competence' probabilities (0-1)\n",
    "        - ***ivs_perc*** (continous ratio) = Social category percentage per sector (0-100)\n",
    "\n",
    "6. ## [Specification Curve Analysis](./4.%20specification_curve_analysis.ipynb)\n",
    "\n",
    "   1. ### Logistic Specification Curve Analysis:\n",
    "      * **df_manual:**\n",
    "        - ***dvs*** (binary nominal) = 'Warmth' and 'Competence' (0 vs. 1)\n",
    "        - ***ivs_perc*** (continous ratio) = Social category percentage per sector (0-100)\n",
    "      * **df_jobs:**\n",
    "        - ***dvs*** (binary nominal) = 'Warmth' and 'Competence' (0 vs. 1)\n",
    "        - ***ivs_perc*** (continous ratio) = Social category percentage per sector (0-100)\n",
    "   2. ### OLS Specification Curve Analysis:\n",
    "      * **df_jobs:**\n",
    "        - ***dvs_prob*** (continous ratio) = 'Warmth' and 'Competence' probabilities (0-1)\n",
    "        - ***ivs_perc*** (continous ratio) = Social category percentage per sector (0-100)\n"
   ]
  },
  {
   "cell_type": "markdown",
   "metadata": {},
   "source": [
    "# READ DATA"
   ]
  },
  {
   "cell_type": "code",
   "execution_count": 3,
   "metadata": {},
   "outputs": [
    {
     "name": "stdout",
     "output_type": "stream",
     "text": [
      "Dataframe loaded with shape: (5947, 75)\n"
     ]
    }
   ],
   "source": [
    "with open(f'{data_dir}df_manual_len.txt', 'r') as f:\n",
    "    df_manual_len = int(f.read())\n",
    "\n",
    "df_manual = pd.read_pickle(f'{df_save_dir}df_manual_for_training.pkl')\n",
    "assert len(df_manual) == df_manual_len, f'DATAFRAME MISSING DATA! DF SHOULD BE OF LENGTH {df_manual_len} BUT IS OF LENGTH {len(df_manual)}'\n",
    "print(f'Dataframe loaded with shape: {df_manual.shape}')\n",
    "df_manual = categorize_df_gender_age(df_manual)\n"
   ]
  },
  {
   "cell_type": "code",
   "execution_count": 4,
   "metadata": {},
   "outputs": [
    {
     "name": "stdout",
     "output_type": "stream",
     "text": [
      "Dataframe loaded with shape: (308583, 101)\n"
     ]
    }
   ],
   "source": [
    "with open(f'{data_dir}df_jobs_for_analysis_len.txt', 'r') as f:\n",
    "    df_jobs_len = int(f.read())\n",
    "\n",
    "df_jobs = pd.read_pickle(f'{df_save_dir}df_jobs_for_analysis.pkl')\n",
    "assert len(df_jobs) == df_jobs_len, f'DATAFRAME MISSING DATA! DF SHOULD BE OF LENGTH {df_jobs_len} BUT IS OF LENGTH {len(df_jobs)}'\n",
    "print(f'Dataframe loaded with shape: {df_jobs.shape}')\n",
    "df_jobs = categorize_df_gender_age(df_jobs)\n"
   ]
  },
  {
   "cell_type": "code",
   "execution_count": 5,
   "metadata": {},
   "outputs": [],
   "source": [
    "# Aggregate df_jobs into a new df_jobs_agg on column 'Sector' and mean of dvs_all, first for all other columns\n",
    "word_nums_cols = [\n",
    "    'Job Description spacy_sentencized_num_words',\n",
    "    'Job Description spacy_sentencized_num_unique_words',\n",
    "    'Job Description spacy_sentencized_num_chars',\n",
    "    'Job Description spacy_sentencized_num_chars_no_whitespact_and_punt',\n",
    "    'Job Description spacy_sentencized_num_punctuations',\n",
    "    'Job Description_num_words',\n",
    "    'Job Description_num_unique_words',\n",
    "    'Job Description_num_chars',\n",
    "    'Job Description_num_chars_no_whitespact_and_punt',\n",
    "    'Job Description_num_punctuations',\n",
    "]\n",
    "df_jobs_agg = df_jobs.groupby('Job ID').agg(\n",
    "    {\n",
    "        **{col: 'first' for col in df_jobs.columns if col not in dvs_all and col != controls[0]},\n",
    "        **{col: 'sum' for col in word_nums_cols},\n",
    "        **{col: 'mean' for col in dvs_all},\n",
    "    }\n",
    ").reset_index(drop=True)\n"
   ]
  },
  {
   "cell_type": "code",
   "execution_count": 6,
   "metadata": {},
   "outputs": [
    {
     "data": {
      "text/html": [
       "<div>\n",
       "<style scoped>\n",
       "    .dataframe tbody tr th:only-of-type {\n",
       "        vertical-align: middle;\n",
       "    }\n",
       "\n",
       "    .dataframe tbody tr th {\n",
       "        vertical-align: top;\n",
       "    }\n",
       "\n",
       "    .dataframe thead th {\n",
       "        text-align: right;\n",
       "    }\n",
       "</style>\n",
       "<table border=\"1\" class=\"dataframe\">\n",
       "  <thead>\n",
       "    <tr style=\"text-align: center;\">\n",
       "      <th></th>\n",
       "      <th>Search Keyword</th>\n",
       "      <th>Platform</th>\n",
       "      <th>Job ID</th>\n",
       "      <th>Job Title</th>\n",
       "      <th>Company Name</th>\n",
       "      <th>Location</th>\n",
       "      <th>Job Description</th>\n",
       "      <th>Rating</th>\n",
       "      <th>Employment Type</th>\n",
       "      <th>Company URL</th>\n",
       "      <th>Job URL</th>\n",
       "      <th>Job Age</th>\n",
       "      <th>Job Age Number</th>\n",
       "      <th>Collection Date</th>\n",
       "      <th>Data Row</th>\n",
       "      <th>Tracking ID</th>\n",
       "      <th>Industry</th>\n",
       "      <th>Job Date</th>\n",
       "      <th>Type of ownership</th>\n",
       "      <th>Language</th>\n",
       "      <th>Dutch Requirement in Job Ad</th>\n",
       "      <th>English Requirement in Job Ad</th>\n",
       "      <th>Dutch Requirement in Job Ad_No</th>\n",
       "      <th>Dutch Requirement in Job Ad_Yes</th>\n",
       "      <th>English Requirement in Job Ad_No</th>\n",
       "      <th>English Requirement in Job Ad_Yes</th>\n",
       "      <th>Sector Code</th>\n",
       "      <th>Sector</th>\n",
       "      <th>Keywords Count</th>\n",
       "      <th>Gender_Female_n</th>\n",
       "      <th>Gender_Female_% per Sector</th>\n",
       "      <th>Gender_Female_% per Social Category</th>\n",
       "      <th>Gender_Female_% per Workforce</th>\n",
       "      <th>Gender_Male_n</th>\n",
       "      <th>Gender_Male_% per Sector</th>\n",
       "      <th>Gender_Male_% per Social Category</th>\n",
       "      <th>Gender_Male_% per Workforce</th>\n",
       "      <th>Gender</th>\n",
       "      <th>Age_Older_n</th>\n",
       "      <th>Age_Older_% per Sector</th>\n",
       "      <th>Age_Older_% per Social Category</th>\n",
       "      <th>Age_Older_% per Workforce</th>\n",
       "      <th>Age_Younger_n</th>\n",
       "      <th>Age_Younger_% per Sector</th>\n",
       "      <th>Age_Younger_% per Social Category</th>\n",
       "      <th>Age_Younger_% per Workforce</th>\n",
       "      <th>Age</th>\n",
       "      <th>Sector_n</th>\n",
       "      <th>% Sector per Workforce</th>\n",
       "      <th>Sector Job Advertisement Count</th>\n",
       "      <th>Sector Gender Designation Job Advertisement Count</th>\n",
       "      <th>Sector Age Designation Job Advertisement Count</th>\n",
       "      <th>Gender_Female</th>\n",
       "      <th>Gender_Male</th>\n",
       "      <th>Gender_Mixed</th>\n",
       "      <th>Age_Mixed</th>\n",
       "      <th>Age_Older</th>\n",
       "      <th>Age_Younger</th>\n",
       "      <th>Gender_Num</th>\n",
       "      <th>Age_Num</th>\n",
       "      <th>Interaction_Female_Older_% per Sector</th>\n",
       "      <th>Interaction_Female_Younger_% per Sector</th>\n",
       "      <th>Interaction_Male_Older_% per Sector</th>\n",
       "      <th>Interaction_Male_Younger_% per Sector</th>\n",
       "      <th>Platform_Num</th>\n",
       "      <th>Platform_LinkedIn</th>\n",
       "      <th>Platform_Indeed</th>\n",
       "      <th>Platform_Glassdoor</th>\n",
       "      <th>Job Description spacy_sentencized</th>\n",
       "      <th>Job Description spacy_sentencized_num_unique_words</th>\n",
       "      <th>Job Description spacy_sentencized_num_chars</th>\n",
       "      <th>Job Description spacy_sentencized_num_chars_no_whitespact_and_punt</th>\n",
       "      <th>Job Description spacy_sentencized_num_punctuations</th>\n",
       "      <th>Job Description_num_words</th>\n",
       "      <th>Job Description_num_unique_words</th>\n",
       "      <th>Job Description_num_chars</th>\n",
       "      <th>Job Description_num_chars_no_whitespact_and_punt</th>\n",
       "      <th>Job Description_num_punctuations</th>\n",
       "      <th>Job Description spacy_sentencized_lower</th>\n",
       "      <th>Dutch Requirement in Sentence</th>\n",
       "      <th>English Requirement in Sentence</th>\n",
       "      <th>Dutch Requirement in Sentence_No</th>\n",
       "      <th>Dutch Requirement in Sentence_Yes</th>\n",
       "      <th>English Requirement in Sentence_No</th>\n",
       "      <th>English Requirement in Sentence_Yes</th>\n",
       "      <th>Job Description spacy_tokenized</th>\n",
       "      <th>Job Description spacy_sentencized_cleaned</th>\n",
       "      <th>Job Description nltk_tokenized</th>\n",
       "      <th>Job Description gensim_tokenized</th>\n",
       "      <th>Job Description bert_tokenized</th>\n",
       "      <th>Warmth_actual</th>\n",
       "      <th>Competence_actual</th>\n",
       "      <th>Warmth_predicted</th>\n",
       "      <th>Warmth_Probability_predicted</th>\n",
       "      <th>Competence_predicted</th>\n",
       "      <th>Competence_Probability_predicted</th>\n",
       "      <th>Job Description spacy_sentencized_num_words</th>\n",
       "      <th>Warmth</th>\n",
       "      <th>Competence</th>\n",
       "      <th>Warmth_Probability</th>\n",
       "      <th>Competence_Probability</th>\n",
       "    </tr>\n",
       "  </thead>\n",
       "  <tbody>\n",
       "    <tr>\n",
       "      <th>0</th>\n",
       "      <td>application developer</td>\n",
       "      <td>LinkedIn</td>\n",
       "      <td>1254300802</td>\n",
       "      <td>Software Engineer</td>\n",
       "      <td>bolcom</td>\n",
       "      <td>Utrecht, Utrecht, Netherlands</td>\n",
       "      <td>How do you make our customers happyWith 10 mil...</td>\n",
       "      <td>NaN</td>\n",
       "      <td>Full-time</td>\n",
       "      <td>https://www.linkedin.com/jobs/view/externalApp...</td>\n",
       "      <td>https://nl.linkedin.com/jobs/view/software-eng...</td>\n",
       "      <td>4 days ago</td>\n",
       "      <td>4 days ago</td>\n",
       "      <td>25/11/2020</td>\n",
       "      <td>35.000</td>\n",
       "      <td>yqtOF0EWSqW+jj5XzmnqsQ==</td>\n",
       "      <td>['Retail', 'Logistics and Supply Chain', 'Info...</td>\n",
       "      <td>21/11/2020</td>\n",
       "      <td>None</td>\n",
       "      <td>en</td>\n",
       "      <td>No</td>\n",
       "      <td>No</td>\n",
       "      <td>1.000</td>\n",
       "      <td>0.000</td>\n",
       "      <td>1.000</td>\n",
       "      <td>0.000</td>\n",
       "      <td>J</td>\n",
       "      <td>Information and communication</td>\n",
       "      <td>9.000</td>\n",
       "      <td>80.000</td>\n",
       "      <td>27.586</td>\n",
       "      <td>0.666</td>\n",
       "      <td>0.317</td>\n",
       "      <td>210.000</td>\n",
       "      <td>72.414</td>\n",
       "      <td>1.585</td>\n",
       "      <td>0.831</td>\n",
       "      <td>Male</td>\n",
       "      <td>95.000</td>\n",
       "      <td>32.759</td>\n",
       "      <td>0.894</td>\n",
       "      <td>0.376</td>\n",
       "      <td>195.000</td>\n",
       "      <td>67.241</td>\n",
       "      <td>1.333</td>\n",
       "      <td>0.772</td>\n",
       "      <td>Mixed Age</td>\n",
       "      <td>290.000</td>\n",
       "      <td>1.148</td>\n",
       "      <td>2895.000</td>\n",
       "      <td>6974.000</td>\n",
       "      <td>11464.000</td>\n",
       "      <td>0.000</td>\n",
       "      <td>1.000</td>\n",
       "      <td>0.000</td>\n",
       "      <td>1.000</td>\n",
       "      <td>0.000</td>\n",
       "      <td>0.000</td>\n",
       "      <td>2</td>\n",
       "      <td>1</td>\n",
       "      <td>903.686</td>\n",
       "      <td>1854.935</td>\n",
       "      <td>2372.176</td>\n",
       "      <td>4869.203</td>\n",
       "      <td>0.000</td>\n",
       "      <td>1.000</td>\n",
       "      <td>0.000</td>\n",
       "      <td>0.000</td>\n",
       "      <td>How do you make our customers happy</td>\n",
       "      <td>432.000</td>\n",
       "      <td>2726.000</td>\n",
       "      <td>2235.000</td>\n",
       "      <td>0.000</td>\n",
       "      <td>9400.000</td>\n",
       "      <td>5560.000</td>\n",
       "      <td>54960.000</td>\n",
       "      <td>44700.000</td>\n",
       "      <td>0.000</td>\n",
       "      <td>how do you make our customers happy</td>\n",
       "      <td>No</td>\n",
       "      <td>No</td>\n",
       "      <td>1.000</td>\n",
       "      <td>0.000</td>\n",
       "      <td>1.000</td>\n",
       "      <td>0.000</td>\n",
       "      <td>[how, do, you, make, our, customers, happy]</td>\n",
       "      <td>how do you make our customers happy</td>\n",
       "      <td>[make, customers, happy]</td>\n",
       "      <td>[custom, happi]</td>\n",
       "      <td>[how, do, you, make, our, customers, happy]</td>\n",
       "      <td>NaN</td>\n",
       "      <td>NaN</td>\n",
       "      <td>NaN</td>\n",
       "      <td>NaN</td>\n",
       "      <td>NaN</td>\n",
       "      <td>NaN</td>\n",
       "      <td>477.000</td>\n",
       "      <td>0.400</td>\n",
       "      <td>0.400</td>\n",
       "      <td>0.417</td>\n",
       "      <td>0.350</td>\n",
       "    </tr>\n",
       "    <tr>\n",
       "      <th>1</th>\n",
       "      <td>education</td>\n",
       "      <td>LinkedIn</td>\n",
       "      <td>1310845106</td>\n",
       "      <td>Volunteer: Teaching and Education Project in G...</td>\n",
       "      <td>Global Nomadic</td>\n",
       "      <td>Amsterdam, North Holland, Netherlands</td>\n",
       "      <td>Location Quetzaltenango, GuatemalaDuration Min...</td>\n",
       "      <td>NaN</td>\n",
       "      <td>Volunteer</td>\n",
       "      <td>https://www.linkedin.com/jobs/view/externalApp...</td>\n",
       "      <td>https://nl.linkedin.com/jobs/view/volunteer-te...</td>\n",
       "      <td>5 days ago</td>\n",
       "      <td>5 days ago</td>\n",
       "      <td>2020-11-24</td>\n",
       "      <td>559.000</td>\n",
       "      <td>OejPIMBaQ2GWilZSZMID5Q==</td>\n",
       "      <td>['Nonprofit Organization Management', 'Primary...</td>\n",
       "      <td>2020-11-19</td>\n",
       "      <td>None</td>\n",
       "      <td>en</td>\n",
       "      <td>No</td>\n",
       "      <td>No</td>\n",
       "      <td>1.000</td>\n",
       "      <td>0.000</td>\n",
       "      <td>1.000</td>\n",
       "      <td>0.000</td>\n",
       "      <td>P</td>\n",
       "      <td>Education</td>\n",
       "      <td>6.000</td>\n",
       "      <td>353.000</td>\n",
       "      <td>65.129</td>\n",
       "      <td>2.938</td>\n",
       "      <td>1.397</td>\n",
       "      <td>189.000</td>\n",
       "      <td>34.871</td>\n",
       "      <td>1.426</td>\n",
       "      <td>0.748</td>\n",
       "      <td>Female</td>\n",
       "      <td>253.000</td>\n",
       "      <td>46.679</td>\n",
       "      <td>2.380</td>\n",
       "      <td>1.001</td>\n",
       "      <td>288.000</td>\n",
       "      <td>53.137</td>\n",
       "      <td>1.969</td>\n",
       "      <td>1.140</td>\n",
       "      <td>Mixed Age</td>\n",
       "      <td>542.000</td>\n",
       "      <td>2.145</td>\n",
       "      <td>1411.000</td>\n",
       "      <td>3955.000</td>\n",
       "      <td>11464.000</td>\n",
       "      <td>1.000</td>\n",
       "      <td>0.000</td>\n",
       "      <td>0.000</td>\n",
       "      <td>1.000</td>\n",
       "      <td>0.000</td>\n",
       "      <td>0.000</td>\n",
       "      <td>0</td>\n",
       "      <td>1</td>\n",
       "      <td>3040.161</td>\n",
       "      <td>3460.737</td>\n",
       "      <td>1627.735</td>\n",
       "      <td>1852.916</td>\n",
       "      <td>0.000</td>\n",
       "      <td>1.000</td>\n",
       "      <td>0.000</td>\n",
       "      <td>0.000</td>\n",
       "      <td>Location Quetzaltenango, Guatemala</td>\n",
       "      <td>638.000</td>\n",
       "      <td>4338.000</td>\n",
       "      <td>3623.000</td>\n",
       "      <td>0.000</td>\n",
       "      <td>16359.000</td>\n",
       "      <td>9209.000</td>\n",
       "      <td>103344.000</td>\n",
       "      <td>86016.000</td>\n",
       "      <td>0.000</td>\n",
       "      <td>location quetzaltenango, guatemala</td>\n",
       "      <td>No</td>\n",
       "      <td>No</td>\n",
       "      <td>1.000</td>\n",
       "      <td>0.000</td>\n",
       "      <td>1.000</td>\n",
       "      <td>0.000</td>\n",
       "      <td>[location, quetzaltenango, guatemala]</td>\n",
       "      <td>location quetzaltenango guatemala</td>\n",
       "      <td>[location, quetzaltenango, guatemala]</td>\n",
       "      <td>[locat, quetzaltenango, guatemala]</td>\n",
       "      <td>[location, que, ##tz, ##al, ##ten, ##ango, ,, ...</td>\n",
       "      <td>NaN</td>\n",
       "      <td>NaN</td>\n",
       "      <td>NaN</td>\n",
       "      <td>NaN</td>\n",
       "      <td>NaN</td>\n",
       "      <td>NaN</td>\n",
       "      <td>710.000</td>\n",
       "      <td>0.393</td>\n",
       "      <td>0.071</td>\n",
       "      <td>0.482</td>\n",
       "      <td>0.122</td>\n",
       "    </tr>\n",
       "    <tr>\n",
       "      <th>2</th>\n",
       "      <td>application developer</td>\n",
       "      <td>LinkedIn</td>\n",
       "      <td>1315107182</td>\n",
       "      <td>Graduate Application Engineer</td>\n",
       "      <td>Optiver</td>\n",
       "      <td>Amsterdam, North Holland, Netherlands</td>\n",
       "      <td>Enjoy solving complex problems and optimizing ...</td>\n",
       "      <td>NaN</td>\n",
       "      <td>Full-time</td>\n",
       "      <td>https://www.linkedin.com/jobs/view/externalApp...</td>\n",
       "      <td>https://nl.linkedin.com/jobs/view/graduate-app...</td>\n",
       "      <td>2 weeks ago</td>\n",
       "      <td>2 weeks ago</td>\n",
       "      <td>2020-11-28</td>\n",
       "      <td>587.000</td>\n",
       "      <td>pkQaRQ2oR16XTLLMeDGsQw==</td>\n",
       "      <td>['Information Technology and Services', 'Compu...</td>\n",
       "      <td>2020-11-12</td>\n",
       "      <td>None</td>\n",
       "      <td>en</td>\n",
       "      <td>No</td>\n",
       "      <td>No</td>\n",
       "      <td>1.000</td>\n",
       "      <td>0.000</td>\n",
       "      <td>1.000</td>\n",
       "      <td>0.000</td>\n",
       "      <td>J</td>\n",
       "      <td>Information and communication</td>\n",
       "      <td>9.000</td>\n",
       "      <td>80.000</td>\n",
       "      <td>27.586</td>\n",
       "      <td>0.666</td>\n",
       "      <td>0.317</td>\n",
       "      <td>210.000</td>\n",
       "      <td>72.414</td>\n",
       "      <td>1.585</td>\n",
       "      <td>0.831</td>\n",
       "      <td>Male</td>\n",
       "      <td>95.000</td>\n",
       "      <td>32.759</td>\n",
       "      <td>0.894</td>\n",
       "      <td>0.376</td>\n",
       "      <td>195.000</td>\n",
       "      <td>67.241</td>\n",
       "      <td>1.333</td>\n",
       "      <td>0.772</td>\n",
       "      <td>Mixed Age</td>\n",
       "      <td>290.000</td>\n",
       "      <td>1.148</td>\n",
       "      <td>2895.000</td>\n",
       "      <td>6974.000</td>\n",
       "      <td>11464.000</td>\n",
       "      <td>0.000</td>\n",
       "      <td>1.000</td>\n",
       "      <td>0.000</td>\n",
       "      <td>1.000</td>\n",
       "      <td>0.000</td>\n",
       "      <td>0.000</td>\n",
       "      <td>2</td>\n",
       "      <td>1</td>\n",
       "      <td>903.686</td>\n",
       "      <td>1854.935</td>\n",
       "      <td>2372.176</td>\n",
       "      <td>4869.203</td>\n",
       "      <td>0.000</td>\n",
       "      <td>1.000</td>\n",
       "      <td>0.000</td>\n",
       "      <td>0.000</td>\n",
       "      <td>Enjoy solving complex problems and optimizing ...</td>\n",
       "      <td>166.000</td>\n",
       "      <td>1146.000</td>\n",
       "      <td>965.000</td>\n",
       "      <td>0.000</td>\n",
       "      <td>855.000</td>\n",
       "      <td>673.000</td>\n",
       "      <td>5462.000</td>\n",
       "      <td>4578.000</td>\n",
       "      <td>0.000</td>\n",
       "      <td>enjoy solving complex problems and optimizing ...</td>\n",
       "      <td>No</td>\n",
       "      <td>No</td>\n",
       "      <td>1.000</td>\n",
       "      <td>0.000</td>\n",
       "      <td>1.000</td>\n",
       "      <td>0.000</td>\n",
       "      <td>[enjoy, solving, complex, problems, and, optim...</td>\n",
       "      <td>enjoy solving complex problems and optimizing ...</td>\n",
       "      <td>[enjoy, solving, complex, problems, optimizing...</td>\n",
       "      <td>[enjoi, solv, complex, problem, optim, perform...</td>\n",
       "      <td>[enjoy, solving, complex, problems, and, opt, ...</td>\n",
       "      <td>NaN</td>\n",
       "      <td>NaN</td>\n",
       "      <td>NaN</td>\n",
       "      <td>NaN</td>\n",
       "      <td>NaN</td>\n",
       "      <td>NaN</td>\n",
       "      <td>181.000</td>\n",
       "      <td>0.286</td>\n",
       "      <td>0.714</td>\n",
       "      <td>0.366</td>\n",
       "      <td>0.622</td>\n",
       "    </tr>\n",
       "    <tr>\n",
       "      <th>3</th>\n",
       "      <td>sale</td>\n",
       "      <td>LinkedIn</td>\n",
       "      <td>1331811495</td>\n",
       "      <td>Sales Account Executive</td>\n",
       "      <td>Fusion Worldwide</td>\n",
       "      <td>Amsterdam, North Holland, Netherlands</td>\n",
       "      <td>Position Summary As a member of our sales orga...</td>\n",
       "      <td>NaN</td>\n",
       "      <td>Full-time</td>\n",
       "      <td>https://www.linkedin.com/jobs/view/externalApp...</td>\n",
       "      <td>https://nl.linkedin.com/jobs/view/sales-accoun...</td>\n",
       "      <td>2 weeks ago</td>\n",
       "      <td>2 weeks ago</td>\n",
       "      <td>2020-12-04</td>\n",
       "      <td>154.000</td>\n",
       "      <td>mNyRgtfxZ4q6WWcCZ/fAKA==</td>\n",
       "      <td>['Computer Hardware', 'Electrical/', 'Electron...</td>\n",
       "      <td>2020-11-18</td>\n",
       "      <td>None</td>\n",
       "      <td>en</td>\n",
       "      <td>No</td>\n",
       "      <td>No</td>\n",
       "      <td>1.000</td>\n",
       "      <td>0.000</td>\n",
       "      <td>1.000</td>\n",
       "      <td>0.000</td>\n",
       "      <td>G</td>\n",
       "      <td>Commercial services</td>\n",
       "      <td>11.000</td>\n",
       "      <td>3421.000</td>\n",
       "      <td>43.135</td>\n",
       "      <td>28.468</td>\n",
       "      <td>13.538</td>\n",
       "      <td>4510.000</td>\n",
       "      <td>56.865</td>\n",
       "      <td>34.038</td>\n",
       "      <td>17.847</td>\n",
       "      <td>Mixed Gender</td>\n",
       "      <td>2704.000</td>\n",
       "      <td>34.094</td>\n",
       "      <td>25.435</td>\n",
       "      <td>10.700</td>\n",
       "      <td>5228.000</td>\n",
       "      <td>65.919</td>\n",
       "      <td>35.735</td>\n",
       "      <td>20.689</td>\n",
       "      <td>Mixed Age</td>\n",
       "      <td>7931.000</td>\n",
       "      <td>31.385</td>\n",
       "      <td>1787.000</td>\n",
       "      <td>6664.000</td>\n",
       "      <td>11464.000</td>\n",
       "      <td>0.000</td>\n",
       "      <td>0.000</td>\n",
       "      <td>1.000</td>\n",
       "      <td>1.000</td>\n",
       "      <td>0.000</td>\n",
       "      <td>0.000</td>\n",
       "      <td>1</td>\n",
       "      <td>1</td>\n",
       "      <td>1470.631</td>\n",
       "      <td>2843.366</td>\n",
       "      <td>1938.775</td>\n",
       "      <td>3748.489</td>\n",
       "      <td>0.000</td>\n",
       "      <td>1.000</td>\n",
       "      <td>0.000</td>\n",
       "      <td>0.000</td>\n",
       "      <td>As a member of our sales organization, you wil...</td>\n",
       "      <td>58.000</td>\n",
       "      <td>431.000</td>\n",
       "      <td>366.000</td>\n",
       "      <td>0.000</td>\n",
       "      <td>130.000</td>\n",
       "      <td>114.000</td>\n",
       "      <td>898.000</td>\n",
       "      <td>762.000</td>\n",
       "      <td>0.000</td>\n",
       "      <td>as a member of our sales organization, you wil...</td>\n",
       "      <td>No</td>\n",
       "      <td>No</td>\n",
       "      <td>1.000</td>\n",
       "      <td>0.000</td>\n",
       "      <td>1.000</td>\n",
       "      <td>0.000</td>\n",
       "      <td>[as, a, member, of, our, sales, organization, ...</td>\n",
       "      <td>as a member of our sales organization you will...</td>\n",
       "      <td>[member, sales, organization, expected, use, i...</td>\n",
       "      <td>[member, sale, organ, expect, us, intern, data...</td>\n",
       "      <td>[as, a, member, of, our, sales, organization, ...</td>\n",
       "      <td>NaN</td>\n",
       "      <td>NaN</td>\n",
       "      <td>NaN</td>\n",
       "      <td>NaN</td>\n",
       "      <td>NaN</td>\n",
       "      <td>NaN</td>\n",
       "      <td>63.000</td>\n",
       "      <td>0.500</td>\n",
       "      <td>1.000</td>\n",
       "      <td>0.734</td>\n",
       "      <td>0.872</td>\n",
       "    </tr>\n",
       "    <tr>\n",
       "      <th>4</th>\n",
       "      <td>culture</td>\n",
       "      <td>LinkedIn</td>\n",
       "      <td>1344560291</td>\n",
       "      <td>Graduate Trader</td>\n",
       "      <td>Flow Traders</td>\n",
       "      <td>Zaandam, North Holland, Netherlands</td>\n",
       "      <td>Flow Traders is looking for Graduate Traders t...</td>\n",
       "      <td>NaN</td>\n",
       "      <td>Full-time</td>\n",
       "      <td>https://www.linkedin.com/jobs/view/externalApp...</td>\n",
       "      <td>https://nl.linkedin.com/jobs/view/graduate-tra...</td>\n",
       "      <td>3 weeks ago</td>\n",
       "      <td>3 weeks ago</td>\n",
       "      <td>2020-11-29</td>\n",
       "      <td>420.000</td>\n",
       "      <td>66v8FTdSQ0S89cv4nm4GDw==</td>\n",
       "      <td>['Financial Services', 'Capital Markets', 'Com...</td>\n",
       "      <td>2020-11-06</td>\n",
       "      <td>None</td>\n",
       "      <td>en</td>\n",
       "      <td>No</td>\n",
       "      <td>No</td>\n",
       "      <td>1.000</td>\n",
       "      <td>0.000</td>\n",
       "      <td>1.000</td>\n",
       "      <td>0.000</td>\n",
       "      <td>R</td>\n",
       "      <td>Culture, recreation, other services</td>\n",
       "      <td>4.000</td>\n",
       "      <td>226.000</td>\n",
       "      <td>56.784</td>\n",
       "      <td>1.881</td>\n",
       "      <td>0.894</td>\n",
       "      <td>171.000</td>\n",
       "      <td>42.965</td>\n",
       "      <td>1.291</td>\n",
       "      <td>0.677</td>\n",
       "      <td>Mixed Gender</td>\n",
       "      <td>155.000</td>\n",
       "      <td>38.945</td>\n",
       "      <td>1.458</td>\n",
       "      <td>0.613</td>\n",
       "      <td>241.000</td>\n",
       "      <td>60.553</td>\n",
       "      <td>1.647</td>\n",
       "      <td>0.954</td>\n",
       "      <td>Mixed Age</td>\n",
       "      <td>398.000</td>\n",
       "      <td>1.575</td>\n",
       "      <td>1477.000</td>\n",
       "      <td>6664.000</td>\n",
       "      <td>11464.000</td>\n",
       "      <td>0.000</td>\n",
       "      <td>0.000</td>\n",
       "      <td>1.000</td>\n",
       "      <td>1.000</td>\n",
       "      <td>0.000</td>\n",
       "      <td>0.000</td>\n",
       "      <td>1</td>\n",
       "      <td>1</td>\n",
       "      <td>2211.434</td>\n",
       "      <td>3438.423</td>\n",
       "      <td>1673.253</td>\n",
       "      <td>2601.639</td>\n",
       "      <td>0.000</td>\n",
       "      <td>1.000</td>\n",
       "      <td>0.000</td>\n",
       "      <td>0.000</td>\n",
       "      <td>Flow Traders is looking for Graduate Traders t...</td>\n",
       "      <td>66.000</td>\n",
       "      <td>443.000</td>\n",
       "      <td>369.000</td>\n",
       "      <td>0.000</td>\n",
       "      <td>225.000</td>\n",
       "      <td>183.000</td>\n",
       "      <td>1365.000</td>\n",
       "      <td>1134.000</td>\n",
       "      <td>0.000</td>\n",
       "      <td>flow traders is looking for graduate traders t...</td>\n",
       "      <td>No</td>\n",
       "      <td>No</td>\n",
       "      <td>1.000</td>\n",
       "      <td>0.000</td>\n",
       "      <td>1.000</td>\n",
       "      <td>0.000</td>\n",
       "      <td>[flow, traders, is, looking, for, graduate, tr...</td>\n",
       "      <td>flow traders is looking for graduate traders t...</td>\n",
       "      <td>[flow, traders, looking, graduate, traders, jo...</td>\n",
       "      <td>[flow, trader, look, graduat, trader, join, gr...</td>\n",
       "      <td>[flow, traders, is, looking, for, graduate, tr...</td>\n",
       "      <td>NaN</td>\n",
       "      <td>NaN</td>\n",
       "      <td>NaN</td>\n",
       "      <td>NaN</td>\n",
       "      <td>NaN</td>\n",
       "      <td>NaN</td>\n",
       "      <td>74.000</td>\n",
       "      <td>0.667</td>\n",
       "      <td>0.667</td>\n",
       "      <td>0.765</td>\n",
       "      <td>0.720</td>\n",
       "    </tr>\n",
       "  </tbody>\n",
       "</table>\n",
       "</div>"
      ],
      "text/plain": [
       "      Search Keyword      Platform    Job ID                       Job Title                         Company Name                  Location                                 Job Description                    Rating Employment Type                    Company URL                                          Job URL                         Job Age    Job Age Number Collection Date  Data Row        Tracking ID                             Industry                        Job Date  Type of ownership Language Dutch Requirement in Job Ad English Requirement in Job Ad  Dutch Requirement in Job Ad_No  Dutch Requirement in Job Ad_Yes  English Requirement in Job Ad_No  English Requirement in Job Ad_Yes Sector Code                Sector                 Keywords Count  Gender_Female_n  Gender_Female_% per Sector  Gender_Female_% per Social Category  Gender_Female_% per Workforce  Gender_Male_n  Gender_Male_% per Sector  Gender_Male_% per Social Category  Gender_Male_% per Workforce     Gender     Age_Older_n  Age_Older_% per Sector  Age_Older_% per Social Category  Age_Older_% per Workforce  Age_Younger_n  Age_Younger_% per Sector  Age_Younger_% per Social Category  Age_Younger_% per Workforce    Age      Sector_n  % Sector per Workforce  Sector Job Advertisement Count  Sector Gender Designation Job Advertisement Count  Sector Age Designation Job Advertisement Count  Gender_Female  Gender_Male  Gender_Mixed  Age_Mixed  Age_Older  Age_Younger  Gender_Num  Age_Num  Interaction_Female_Older_% per Sector  Interaction_Female_Younger_% per Sector  Interaction_Male_Older_% per Sector  Interaction_Male_Younger_% per Sector  Platform_Num  Platform_LinkedIn  Platform_Indeed  Platform_Glassdoor         Job Description spacy_sentencized           Job Description spacy_sentencized_num_unique_words  Job Description spacy_sentencized_num_chars  Job Description spacy_sentencized_num_chars_no_whitespact_and_punt  Job Description spacy_sentencized_num_punctuations  Job Description_num_words  Job Description_num_unique_words  Job Description_num_chars  Job Description_num_chars_no_whitespact_and_punt  Job Description_num_punctuations      Job Description spacy_sentencized_lower       Dutch Requirement in Sentence English Requirement in Sentence  Dutch Requirement in Sentence_No  Dutch Requirement in Sentence_Yes  English Requirement in Sentence_No  English Requirement in Sentence_Yes          Job Description spacy_tokenized               Job Description spacy_sentencized_cleaned                Job Description nltk_tokenized                    Job Description gensim_tokenized                    Job Description bert_tokenized            Warmth_actual  Competence_actual  Warmth_predicted  Warmth_Probability_predicted  Competence_predicted  Competence_Probability_predicted  Job Description spacy_sentencized_num_words  Warmth  Competence  Warmth_Probability  Competence_Probability\n",
       "0  application developer  LinkedIn  1254300802                                  Software Engineer            bolcom          Utrecht, Utrecht, Netherlands  How do you make our customers happyWith 10 mil...   NaN       Full-time    https://www.linkedin.com/jobs/view/externalApp...  https://nl.linkedin.com/jobs/view/software-eng...   4 days ago    4 days ago     25/11/2020     35.000   yqtOF0EWSqW+jj5XzmnqsQ==  ['Retail', 'Logistics and Supply Chain', 'Info...  21/11/2020        None          en                 No                           No                           1.000                           0.000                             1.000                             0.000                      J            Information and communication       9.000           80.000                27.586                           0.666                             0.317                 210.000              72.414                         1.585                           0.831                     Male     95.000            32.759                       0.894                         0.376               195.000              67.241                         1.333                           0.772             Mixed Age   290.000           1.148                     2895.000                                 6974.000                                         11464.000                        0.000         1.000         0.000       1.000      0.000       0.000           2         1                    903.686                                1854.935                               2372.176                              4869.203                    0.000           1.000             0.000              0.000                       How do you make our customers happy                      432.000                                          2726.000                                        2235.000                                                             0.000                                  9400.000                       5560.000                      54960.000                             44700.000                                   0.000                              how do you make our customers happy               No                             No                             1.000                             0.000                               1.000                               0.000                        [how, do, you, make, our, customers, happy]                how do you make our customers happy                           [make, customers, happy]                                    [custom, happi]        [how, do, you, make, our, customers, happy]      NaN              NaN                NaN                     NaN                       NaN                         NaN                                  477.000                     0.400     0.400           0.417                 0.350         \n",
       "1              education  LinkedIn  1310845106  Volunteer: Teaching and Education Project in G...    Global Nomadic  Amsterdam, North Holland, Netherlands  Location Quetzaltenango, GuatemalaDuration Min...   NaN       Volunteer    https://www.linkedin.com/jobs/view/externalApp...  https://nl.linkedin.com/jobs/view/volunteer-te...   5 days ago    5 days ago     2020-11-24    559.000   OejPIMBaQ2GWilZSZMID5Q==  ['Nonprofit Organization Management', 'Primary...  2020-11-19        None          en                 No                           No                           1.000                           0.000                             1.000                             0.000                      P                                Education       6.000          353.000                65.129                           2.938                             1.397                 189.000              34.871                         1.426                           0.748                   Female    253.000            46.679                       2.380                         1.001               288.000              53.137                         1.969                           1.140             Mixed Age   542.000           2.145                     1411.000                                 3955.000                                         11464.000                        1.000         0.000         0.000       1.000      0.000       0.000           0         1                   3040.161                                3460.737                               1627.735                              1852.916                    0.000           1.000             0.000              0.000                        Location Quetzaltenango, Guatemala                      638.000                                          4338.000                                        3623.000                                                             0.000                                 16359.000                       9209.000                     103344.000                             86016.000                                   0.000                               location quetzaltenango, guatemala               No                             No                             1.000                             0.000                               1.000                               0.000                              [location, quetzaltenango, guatemala]                  location quetzaltenango guatemala              [location, quetzaltenango, guatemala]                 [locat, quetzaltenango, guatemala]  [location, que, ##tz, ##al, ##ten, ##ango, ,, ...      NaN              NaN                NaN                     NaN                       NaN                         NaN                                  710.000                     0.393     0.071           0.482                 0.122         \n",
       "2  application developer  LinkedIn  1315107182                      Graduate Application Engineer           Optiver  Amsterdam, North Holland, Netherlands  Enjoy solving complex problems and optimizing ...   NaN       Full-time    https://www.linkedin.com/jobs/view/externalApp...  https://nl.linkedin.com/jobs/view/graduate-app...  2 weeks ago   2 weeks ago     2020-11-28    587.000   pkQaRQ2oR16XTLLMeDGsQw==  ['Information Technology and Services', 'Compu...  2020-11-12        None          en                 No                           No                           1.000                           0.000                             1.000                             0.000                      J            Information and communication       9.000           80.000                27.586                           0.666                             0.317                 210.000              72.414                         1.585                           0.831                     Male     95.000            32.759                       0.894                         0.376               195.000              67.241                         1.333                           0.772             Mixed Age   290.000           1.148                     2895.000                                 6974.000                                         11464.000                        0.000         1.000         0.000       1.000      0.000       0.000           2         1                    903.686                                1854.935                               2372.176                              4869.203                    0.000           1.000             0.000              0.000         Enjoy solving complex problems and optimizing ...                      166.000                                          1146.000                                         965.000                                                             0.000                                   855.000                        673.000                       5462.000                              4578.000                                   0.000                enjoy solving complex problems and optimizing ...               No                             No                             1.000                             0.000                               1.000                               0.000                  [enjoy, solving, complex, problems, and, optim...  enjoy solving complex problems and optimizing ...  [enjoy, solving, complex, problems, optimizing...  [enjoi, solv, complex, problem, optim, perform...  [enjoy, solving, complex, problems, and, opt, ...      NaN              NaN                NaN                     NaN                       NaN                         NaN                                  181.000                     0.286     0.714           0.366                 0.622         \n",
       "3                   sale  LinkedIn  1331811495                            Sales Account Executive  Fusion Worldwide  Amsterdam, North Holland, Netherlands  Position Summary As a member of our sales orga...   NaN       Full-time    https://www.linkedin.com/jobs/view/externalApp...  https://nl.linkedin.com/jobs/view/sales-accoun...  2 weeks ago   2 weeks ago     2020-12-04    154.000   mNyRgtfxZ4q6WWcCZ/fAKA==  ['Computer Hardware', 'Electrical/', 'Electron...  2020-11-18        None          en                 No                           No                           1.000                           0.000                             1.000                             0.000                      G                      Commercial services      11.000         3421.000                43.135                          28.468                            13.538                4510.000              56.865                        34.038                          17.847             Mixed Gender   2704.000            34.094                      25.435                        10.700              5228.000              65.919                        35.735                          20.689             Mixed Age  7931.000          31.385                     1787.000                                 6664.000                                         11464.000                        0.000         0.000         1.000       1.000      0.000       0.000           1         1                   1470.631                                2843.366                               1938.775                              3748.489                    0.000           1.000             0.000              0.000         As a member of our sales organization, you wil...                       58.000                                           431.000                                         366.000                                                             0.000                                   130.000                        114.000                        898.000                               762.000                                   0.000                as a member of our sales organization, you wil...               No                             No                             1.000                             0.000                               1.000                               0.000                  [as, a, member, of, our, sales, organization, ...  as a member of our sales organization you will...  [member, sales, organization, expected, use, i...  [member, sale, organ, expect, us, intern, data...  [as, a, member, of, our, sales, organization, ...      NaN              NaN                NaN                     NaN                       NaN                         NaN                                   63.000                     0.500     1.000           0.734                 0.872         \n",
       "4                culture  LinkedIn  1344560291                                    Graduate Trader      Flow Traders    Zaandam, North Holland, Netherlands  Flow Traders is looking for Graduate Traders t...   NaN       Full-time    https://www.linkedin.com/jobs/view/externalApp...  https://nl.linkedin.com/jobs/view/graduate-tra...  3 weeks ago   3 weeks ago     2020-11-29    420.000   66v8FTdSQ0S89cv4nm4GDw==  ['Financial Services', 'Capital Markets', 'Com...  2020-11-06        None          en                 No                           No                           1.000                           0.000                             1.000                             0.000                      R      Culture, recreation, other services       4.000          226.000                56.784                           1.881                             0.894                 171.000              42.965                         1.291                           0.677             Mixed Gender    155.000            38.945                       1.458                         0.613               241.000              60.553                         1.647                           0.954             Mixed Age   398.000           1.575                     1477.000                                 6664.000                                         11464.000                        0.000         0.000         1.000       1.000      0.000       0.000           1         1                   2211.434                                3438.423                               1673.253                              2601.639                    0.000           1.000             0.000              0.000         Flow Traders is looking for Graduate Traders t...                       66.000                                           443.000                                         369.000                                                             0.000                                   225.000                        183.000                       1365.000                              1134.000                                   0.000                flow traders is looking for graduate traders t...               No                             No                             1.000                             0.000                               1.000                               0.000                  [flow, traders, is, looking, for, graduate, tr...  flow traders is looking for graduate traders t...  [flow, traders, looking, graduate, traders, jo...  [flow, trader, look, graduat, trader, join, gr...  [flow, traders, is, looking, for, graduate, tr...      NaN              NaN                NaN                     NaN                       NaN                         NaN                                   74.000                     0.667     0.667           0.765                 0.720         "
      ]
     },
     "execution_count": 6,
     "metadata": {},
     "output_type": "execute_result"
    }
   ],
   "source": [
    "df_jobs_agg.head()\n"
   ]
  },
  {
   "cell_type": "code",
   "execution_count": 7,
   "metadata": {},
   "outputs": [
    {
     "name": "stdout",
     "output_type": "stream",
     "text": [
      "<class 'pandas.core.frame.DataFrame'>\n",
      "RangeIndex: 16135 entries, 0 to 16134\n",
      "Columns: 101 entries, Search Keyword to Competence_Probability\n",
      "dtypes: category(4), float64(66), int64(2), object(29)\n",
      "memory usage: 12.0+ MB\n"
     ]
    }
   ],
   "source": [
    "df_jobs_agg.info()\n"
   ]
  },
  {
   "cell_type": "code",
   "execution_count": 8,
   "metadata": {},
   "outputs": [
    {
     "data": {
      "text/html": [
       "<div>\n",
       "<style scoped>\n",
       "    .dataframe tbody tr th:only-of-type {\n",
       "        vertical-align: middle;\n",
       "    }\n",
       "\n",
       "    .dataframe tbody tr th {\n",
       "        vertical-align: top;\n",
       "    }\n",
       "\n",
       "    .dataframe thead th {\n",
       "        text-align: right;\n",
       "    }\n",
       "</style>\n",
       "<table border=\"1\" class=\"dataframe\">\n",
       "  <thead>\n",
       "    <tr style=\"text-align: center;\">\n",
       "      <th></th>\n",
       "      <th>Rating</th>\n",
       "      <th>Data Row</th>\n",
       "      <th>Dutch Requirement in Job Ad_No</th>\n",
       "      <th>Dutch Requirement in Job Ad_Yes</th>\n",
       "      <th>English Requirement in Job Ad_No</th>\n",
       "      <th>English Requirement in Job Ad_Yes</th>\n",
       "      <th>Keywords Count</th>\n",
       "      <th>Gender_Female_n</th>\n",
       "      <th>Gender_Female_% per Sector</th>\n",
       "      <th>Gender_Female_% per Social Category</th>\n",
       "      <th>Gender_Female_% per Workforce</th>\n",
       "      <th>Gender_Male_n</th>\n",
       "      <th>Gender_Male_% per Sector</th>\n",
       "      <th>Gender_Male_% per Social Category</th>\n",
       "      <th>Gender_Male_% per Workforce</th>\n",
       "      <th>Age_Older_n</th>\n",
       "      <th>Age_Older_% per Sector</th>\n",
       "      <th>Age_Older_% per Social Category</th>\n",
       "      <th>Age_Older_% per Workforce</th>\n",
       "      <th>Age_Younger_n</th>\n",
       "      <th>Age_Younger_% per Sector</th>\n",
       "      <th>Age_Younger_% per Social Category</th>\n",
       "      <th>Age_Younger_% per Workforce</th>\n",
       "      <th>Sector_n</th>\n",
       "      <th>% Sector per Workforce</th>\n",
       "      <th>Sector Job Advertisement Count</th>\n",
       "      <th>Sector Gender Designation Job Advertisement Count</th>\n",
       "      <th>Sector Age Designation Job Advertisement Count</th>\n",
       "      <th>Gender_Female</th>\n",
       "      <th>Gender_Male</th>\n",
       "      <th>Gender_Mixed</th>\n",
       "      <th>Age_Mixed</th>\n",
       "      <th>Age_Older</th>\n",
       "      <th>Age_Younger</th>\n",
       "      <th>Gender_Num</th>\n",
       "      <th>Age_Num</th>\n",
       "      <th>Interaction_Female_Older_% per Sector</th>\n",
       "      <th>Interaction_Female_Younger_% per Sector</th>\n",
       "      <th>Interaction_Male_Older_% per Sector</th>\n",
       "      <th>Interaction_Male_Younger_% per Sector</th>\n",
       "      <th>Platform_Num</th>\n",
       "      <th>Platform_LinkedIn</th>\n",
       "      <th>Platform_Indeed</th>\n",
       "      <th>Platform_Glassdoor</th>\n",
       "      <th>Job Description spacy_sentencized_num_unique_words</th>\n",
       "      <th>Job Description spacy_sentencized_num_chars</th>\n",
       "      <th>Job Description spacy_sentencized_num_chars_no_whitespact_and_punt</th>\n",
       "      <th>Job Description spacy_sentencized_num_punctuations</th>\n",
       "      <th>Job Description_num_words</th>\n",
       "      <th>Job Description_num_unique_words</th>\n",
       "      <th>Job Description_num_chars</th>\n",
       "      <th>Job Description_num_chars_no_whitespact_and_punt</th>\n",
       "      <th>Job Description_num_punctuations</th>\n",
       "      <th>Dutch Requirement in Sentence_No</th>\n",
       "      <th>Dutch Requirement in Sentence_Yes</th>\n",
       "      <th>English Requirement in Sentence_No</th>\n",
       "      <th>English Requirement in Sentence_Yes</th>\n",
       "      <th>Warmth_actual</th>\n",
       "      <th>Competence_actual</th>\n",
       "      <th>Warmth_predicted</th>\n",
       "      <th>Warmth_Probability_predicted</th>\n",
       "      <th>Competence_predicted</th>\n",
       "      <th>Competence_Probability_predicted</th>\n",
       "      <th>Job Description spacy_sentencized_num_words</th>\n",
       "      <th>Warmth</th>\n",
       "      <th>Competence</th>\n",
       "      <th>Warmth_Probability</th>\n",
       "      <th>Competence_Probability</th>\n",
       "    </tr>\n",
       "  </thead>\n",
       "  <tbody>\n",
       "    <tr>\n",
       "      <th>count</th>\n",
       "      <td>3694.000</td>\n",
       "      <td>12438.000</td>\n",
       "      <td>16135.000</td>\n",
       "      <td>16135.000</td>\n",
       "      <td>16135.000</td>\n",
       "      <td>16135.000</td>\n",
       "      <td>16135.000</td>\n",
       "      <td>16135.000</td>\n",
       "      <td>16135.000</td>\n",
       "      <td>16135.000</td>\n",
       "      <td>16135.000</td>\n",
       "      <td>16135.000</td>\n",
       "      <td>16135.000</td>\n",
       "      <td>16135.000</td>\n",
       "      <td>16135.000</td>\n",
       "      <td>16135.000</td>\n",
       "      <td>16135.000</td>\n",
       "      <td>16135.000</td>\n",
       "      <td>16135.000</td>\n",
       "      <td>16135.000</td>\n",
       "      <td>16135.000</td>\n",
       "      <td>16135.000</td>\n",
       "      <td>16135.000</td>\n",
       "      <td>16135.000</td>\n",
       "      <td>16135.000</td>\n",
       "      <td>16135.000</td>\n",
       "      <td>16135.000</td>\n",
       "      <td>16135.000</td>\n",
       "      <td>16135.000</td>\n",
       "      <td>16135.000</td>\n",
       "      <td>16135.000</td>\n",
       "      <td>16135.000</td>\n",
       "      <td>16135.000</td>\n",
       "      <td>16135.000</td>\n",
       "      <td>16135.000</td>\n",
       "      <td>16135.000</td>\n",
       "      <td>16135.000</td>\n",
       "      <td>16135.000</td>\n",
       "      <td>16135.000</td>\n",
       "      <td>16135.000</td>\n",
       "      <td>16135.000</td>\n",
       "      <td>16135.000</td>\n",
       "      <td>16135.000</td>\n",
       "      <td>16135.000</td>\n",
       "      <td>16135.000</td>\n",
       "      <td>16135.000</td>\n",
       "      <td>16135.000</td>\n",
       "      <td>16135.000</td>\n",
       "      <td>16135.000</td>\n",
       "      <td>16135.000</td>\n",
       "      <td>16135.000</td>\n",
       "      <td>16135.000</td>\n",
       "      <td>16135.000</td>\n",
       "      <td>16135.000</td>\n",
       "      <td>16135.000</td>\n",
       "      <td>16135.000</td>\n",
       "      <td>16135.000</td>\n",
       "      <td>117.000</td>\n",
       "      <td>117.000</td>\n",
       "      <td>117.000</td>\n",
       "      <td>117.000</td>\n",
       "      <td>117.000</td>\n",
       "      <td>117.000</td>\n",
       "      <td>16135.000</td>\n",
       "      <td>16135.000</td>\n",
       "      <td>16135.000</td>\n",
       "      <td>16135.000</td>\n",
       "      <td>16135.000</td>\n",
       "    </tr>\n",
       "    <tr>\n",
       "      <th>mean</th>\n",
       "      <td>-0.392</td>\n",
       "      <td>340.351</td>\n",
       "      <td>0.983</td>\n",
       "      <td>0.017</td>\n",
       "      <td>0.968</td>\n",
       "      <td>0.032</td>\n",
       "      <td>6.735</td>\n",
       "      <td>642.733</td>\n",
       "      <td>43.822</td>\n",
       "      <td>5.349</td>\n",
       "      <td>2.543</td>\n",
       "      <td>767.350</td>\n",
       "      <td>56.131</td>\n",
       "      <td>5.791</td>\n",
       "      <td>3.037</td>\n",
       "      <td>532.188</td>\n",
       "      <td>40.605</td>\n",
       "      <td>5.006</td>\n",
       "      <td>2.106</td>\n",
       "      <td>877.563</td>\n",
       "      <td>59.257</td>\n",
       "      <td>5.998</td>\n",
       "      <td>3.473</td>\n",
       "      <td>1410.320</td>\n",
       "      <td>5.581</td>\n",
       "      <td>1455.214</td>\n",
       "      <td>6202.737</td>\n",
       "      <td>8474.250</td>\n",
       "      <td>0.215</td>\n",
       "      <td>0.394</td>\n",
       "      <td>0.391</td>\n",
       "      <td>0.637</td>\n",
       "      <td>0.223</td>\n",
       "      <td>0.140</td>\n",
       "      <td>1.179</td>\n",
       "      <td>0.916</td>\n",
       "      <td>1758.078</td>\n",
       "      <td>2614.448</td>\n",
       "      <td>2300.975</td>\n",
       "      <td>3308.072</td>\n",
       "      <td>0.264</td>\n",
       "      <td>0.771</td>\n",
       "      <td>0.193</td>\n",
       "      <td>0.035</td>\n",
       "      <td>302.388</td>\n",
       "      <td>2182.322</td>\n",
       "      <td>1833.127</td>\n",
       "      <td>5.988</td>\n",
       "      <td>11674.836</td>\n",
       "      <td>6020.523</td>\n",
       "      <td>77844.632</td>\n",
       "      <td>64488.981</td>\n",
       "      <td>418.165</td>\n",
       "      <td>0.983</td>\n",
       "      <td>0.017</td>\n",
       "      <td>0.968</td>\n",
       "      <td>0.032</td>\n",
       "      <td>0.197</td>\n",
       "      <td>0.479</td>\n",
       "      <td>0.111</td>\n",
       "      <td>0.223</td>\n",
       "      <td>0.470</td>\n",
       "      <td>0.428</td>\n",
       "      <td>337.820</td>\n",
       "      <td>0.251</td>\n",
       "      <td>0.495</td>\n",
       "      <td>0.340</td>\n",
       "      <td>0.465</td>\n",
       "    </tr>\n",
       "    <tr>\n",
       "      <th>std</th>\n",
       "      <td>1.619</td>\n",
       "      <td>283.849</td>\n",
       "      <td>0.130</td>\n",
       "      <td>0.130</td>\n",
       "      <td>0.175</td>\n",
       "      <td>0.175</td>\n",
       "      <td>2.927</td>\n",
       "      <td>1051.909</td>\n",
       "      <td>18.862</td>\n",
       "      <td>8.754</td>\n",
       "      <td>4.163</td>\n",
       "      <td>1316.803</td>\n",
       "      <td>18.895</td>\n",
       "      <td>9.938</td>\n",
       "      <td>5.211</td>\n",
       "      <td>809.307</td>\n",
       "      <td>10.230</td>\n",
       "      <td>7.613</td>\n",
       "      <td>3.203</td>\n",
       "      <td>1526.476</td>\n",
       "      <td>10.140</td>\n",
       "      <td>10.434</td>\n",
       "      <td>6.041</td>\n",
       "      <td>2323.725</td>\n",
       "      <td>9.196</td>\n",
       "      <td>756.155</td>\n",
       "      <td>1185.635</td>\n",
       "      <td>3982.140</td>\n",
       "      <td>0.411</td>\n",
       "      <td>0.489</td>\n",
       "      <td>0.488</td>\n",
       "      <td>0.481</td>\n",
       "      <td>0.417</td>\n",
       "      <td>0.347</td>\n",
       "      <td>0.760</td>\n",
       "      <td>0.597</td>\n",
       "      <td>916.541</td>\n",
       "      <td>1141.144</td>\n",
       "      <td>1118.842</td>\n",
       "      <td>1149.228</td>\n",
       "      <td>0.515</td>\n",
       "      <td>0.420</td>\n",
       "      <td>0.395</td>\n",
       "      <td>0.185</td>\n",
       "      <td>245.697</td>\n",
       "      <td>1767.965</td>\n",
       "      <td>1483.903</td>\n",
       "      <td>13.155</td>\n",
       "      <td>24997.019</td>\n",
       "      <td>9625.290</td>\n",
       "      <td>170708.653</td>\n",
       "      <td>141955.074</td>\n",
       "      <td>1388.893</td>\n",
       "      <td>0.130</td>\n",
       "      <td>0.130</td>\n",
       "      <td>0.175</td>\n",
       "      <td>0.175</td>\n",
       "      <td>0.399</td>\n",
       "      <td>0.502</td>\n",
       "      <td>0.316</td>\n",
       "      <td>0.296</td>\n",
       "      <td>0.501</td>\n",
       "      <td>0.401</td>\n",
       "      <td>270.393</td>\n",
       "      <td>0.199</td>\n",
       "      <td>0.236</td>\n",
       "      <td>0.177</td>\n",
       "      <td>0.185</td>\n",
       "    </tr>\n",
       "    <tr>\n",
       "      <th>min</th>\n",
       "      <td>-1.000</td>\n",
       "      <td>1.000</td>\n",
       "      <td>0.000</td>\n",
       "      <td>0.000</td>\n",
       "      <td>0.000</td>\n",
       "      <td>0.000</td>\n",
       "      <td>1.000</td>\n",
       "      <td>7.000</td>\n",
       "      <td>12.500</td>\n",
       "      <td>0.058</td>\n",
       "      <td>0.028</td>\n",
       "      <td>21.000</td>\n",
       "      <td>15.632</td>\n",
       "      <td>0.158</td>\n",
       "      <td>0.083</td>\n",
       "      <td>15.000</td>\n",
       "      <td>18.939</td>\n",
       "      <td>0.141</td>\n",
       "      <td>0.059</td>\n",
       "      <td>13.000</td>\n",
       "      <td>44.444</td>\n",
       "      <td>0.089</td>\n",
       "      <td>0.051</td>\n",
       "      <td>29.000</td>\n",
       "      <td>0.115</td>\n",
       "      <td>150.000</td>\n",
       "      <td>3955.000</td>\n",
       "      <td>2351.000</td>\n",
       "      <td>0.000</td>\n",
       "      <td>0.000</td>\n",
       "      <td>0.000</td>\n",
       "      <td>0.000</td>\n",
       "      <td>0.000</td>\n",
       "      <td>0.000</td>\n",
       "      <td>0.000</td>\n",
       "      <td>0.000</td>\n",
       "      <td>595.238</td>\n",
       "      <td>662.202</td>\n",
       "      <td>721.036</td>\n",
       "      <td>839.936</td>\n",
       "      <td>0.000</td>\n",
       "      <td>0.000</td>\n",
       "      <td>0.000</td>\n",
       "      <td>0.000</td>\n",
       "      <td>2.000</td>\n",
       "      <td>12.000</td>\n",
       "      <td>7.000</td>\n",
       "      <td>0.000</td>\n",
       "      <td>4.000</td>\n",
       "      <td>4.000</td>\n",
       "      <td>31.000</td>\n",
       "      <td>20.000</td>\n",
       "      <td>0.000</td>\n",
       "      <td>0.000</td>\n",
       "      <td>0.000</td>\n",
       "      <td>0.000</td>\n",
       "      <td>0.000</td>\n",
       "      <td>0.000</td>\n",
       "      <td>0.000</td>\n",
       "      <td>0.000</td>\n",
       "      <td>0.002</td>\n",
       "      <td>0.000</td>\n",
       "      <td>0.012</td>\n",
       "      <td>3.000</td>\n",
       "      <td>0.000</td>\n",
       "      <td>0.000</td>\n",
       "      <td>0.001</td>\n",
       "      <td>0.014</td>\n",
       "    </tr>\n",
       "    <tr>\n",
       "      <th>25%</th>\n",
       "      <td>-1.000</td>\n",
       "      <td>94.000</td>\n",
       "      <td>1.000</td>\n",
       "      <td>0.000</td>\n",
       "      <td>1.000</td>\n",
       "      <td>0.000</td>\n",
       "      <td>5.000</td>\n",
       "      <td>87.000</td>\n",
       "      <td>27.586</td>\n",
       "      <td>0.724</td>\n",
       "      <td>0.344</td>\n",
       "      <td>189.000</td>\n",
       "      <td>42.965</td>\n",
       "      <td>1.426</td>\n",
       "      <td>0.748</td>\n",
       "      <td>95.000</td>\n",
       "      <td>32.759</td>\n",
       "      <td>0.894</td>\n",
       "      <td>0.376</td>\n",
       "      <td>195.000</td>\n",
       "      <td>50.608</td>\n",
       "      <td>1.333</td>\n",
       "      <td>0.772</td>\n",
       "      <td>290.000</td>\n",
       "      <td>1.148</td>\n",
       "      <td>1064.000</td>\n",
       "      <td>6664.000</td>\n",
       "      <td>3778.000</td>\n",
       "      <td>0.000</td>\n",
       "      <td>0.000</td>\n",
       "      <td>0.000</td>\n",
       "      <td>0.000</td>\n",
       "      <td>0.000</td>\n",
       "      <td>0.000</td>\n",
       "      <td>1.000</td>\n",
       "      <td>1.000</td>\n",
       "      <td>951.752</td>\n",
       "      <td>1841.334</td>\n",
       "      <td>1627.735</td>\n",
       "      <td>2601.639</td>\n",
       "      <td>0.000</td>\n",
       "      <td>1.000</td>\n",
       "      <td>0.000</td>\n",
       "      <td>0.000</td>\n",
       "      <td>102.000</td>\n",
       "      <td>738.000</td>\n",
       "      <td>621.500</td>\n",
       "      <td>0.000</td>\n",
       "      <td>675.000</td>\n",
       "      <td>480.000</td>\n",
       "      <td>4464.000</td>\n",
       "      <td>3692.500</td>\n",
       "      <td>0.000</td>\n",
       "      <td>1.000</td>\n",
       "      <td>0.000</td>\n",
       "      <td>1.000</td>\n",
       "      <td>0.000</td>\n",
       "      <td>0.000</td>\n",
       "      <td>0.000</td>\n",
       "      <td>0.000</td>\n",
       "      <td>0.012</td>\n",
       "      <td>0.000</td>\n",
       "      <td>0.020</td>\n",
       "      <td>115.000</td>\n",
       "      <td>0.115</td>\n",
       "      <td>0.333</td>\n",
       "      <td>0.222</td>\n",
       "      <td>0.340</td>\n",
       "    </tr>\n",
       "    <tr>\n",
       "      <th>50%</th>\n",
       "      <td>-1.000</td>\n",
       "      <td>267.000</td>\n",
       "      <td>1.000</td>\n",
       "      <td>0.000</td>\n",
       "      <td>1.000</td>\n",
       "      <td>0.000</td>\n",
       "      <td>7.000</td>\n",
       "      <td>199.000</td>\n",
       "      <td>43.135</td>\n",
       "      <td>1.656</td>\n",
       "      <td>0.787</td>\n",
       "      <td>210.000</td>\n",
       "      <td>56.865</td>\n",
       "      <td>1.585</td>\n",
       "      <td>0.831</td>\n",
       "      <td>205.000</td>\n",
       "      <td>38.945</td>\n",
       "      <td>1.928</td>\n",
       "      <td>0.811</td>\n",
       "      <td>288.000</td>\n",
       "      <td>60.553</td>\n",
       "      <td>1.969</td>\n",
       "      <td>1.140</td>\n",
       "      <td>398.000</td>\n",
       "      <td>1.575</td>\n",
       "      <td>1411.000</td>\n",
       "      <td>6664.000</td>\n",
       "      <td>11464.000</td>\n",
       "      <td>0.000</td>\n",
       "      <td>0.000</td>\n",
       "      <td>0.000</td>\n",
       "      <td>1.000</td>\n",
       "      <td>0.000</td>\n",
       "      <td>0.000</td>\n",
       "      <td>1.000</td>\n",
       "      <td>1.000</td>\n",
       "      <td>1366.558</td>\n",
       "      <td>2843.366</td>\n",
       "      <td>1938.775</td>\n",
       "      <td>3571.638</td>\n",
       "      <td>0.000</td>\n",
       "      <td>1.000</td>\n",
       "      <td>0.000</td>\n",
       "      <td>0.000</td>\n",
       "      <td>247.000</td>\n",
       "      <td>1799.000</td>\n",
       "      <td>1514.000</td>\n",
       "      <td>0.000</td>\n",
       "      <td>3542.000</td>\n",
       "      <td>2171.000</td>\n",
       "      <td>22440.000</td>\n",
       "      <td>18502.000</td>\n",
       "      <td>0.000</td>\n",
       "      <td>1.000</td>\n",
       "      <td>0.000</td>\n",
       "      <td>1.000</td>\n",
       "      <td>0.000</td>\n",
       "      <td>0.000</td>\n",
       "      <td>0.000</td>\n",
       "      <td>0.000</td>\n",
       "      <td>0.071</td>\n",
       "      <td>0.000</td>\n",
       "      <td>0.322</td>\n",
       "      <td>282.000</td>\n",
       "      <td>0.231</td>\n",
       "      <td>0.500</td>\n",
       "      <td>0.325</td>\n",
       "      <td>0.457</td>\n",
       "    </tr>\n",
       "    <tr>\n",
       "      <th>75%</th>\n",
       "      <td>-1.000</td>\n",
       "      <td>549.000</td>\n",
       "      <td>1.000</td>\n",
       "      <td>0.000</td>\n",
       "      <td>1.000</td>\n",
       "      <td>0.000</td>\n",
       "      <td>9.000</td>\n",
       "      <td>416.000</td>\n",
       "      <td>56.784</td>\n",
       "      <td>3.462</td>\n",
       "      <td>1.646</td>\n",
       "      <td>557.000</td>\n",
       "      <td>72.414</td>\n",
       "      <td>4.204</td>\n",
       "      <td>2.204</td>\n",
       "      <td>413.000</td>\n",
       "      <td>49.321</td>\n",
       "      <td>3.885</td>\n",
       "      <td>1.634</td>\n",
       "      <td>660.000</td>\n",
       "      <td>67.241</td>\n",
       "      <td>4.511</td>\n",
       "      <td>2.612</td>\n",
       "      <td>973.000</td>\n",
       "      <td>3.850</td>\n",
       "      <td>1787.000</td>\n",
       "      <td>6974.000</td>\n",
       "      <td>11464.000</td>\n",
       "      <td>0.000</td>\n",
       "      <td>1.000</td>\n",
       "      <td>1.000</td>\n",
       "      <td>1.000</td>\n",
       "      <td>0.000</td>\n",
       "      <td>0.000</td>\n",
       "      <td>2.000</td>\n",
       "      <td>1.000</td>\n",
       "      <td>2211.434</td>\n",
       "      <td>3460.737</td>\n",
       "      <td>3228.195</td>\n",
       "      <td>3999.592</td>\n",
       "      <td>0.000</td>\n",
       "      <td>1.000</td>\n",
       "      <td>0.000</td>\n",
       "      <td>0.000</td>\n",
       "      <td>435.000</td>\n",
       "      <td>3135.500</td>\n",
       "      <td>2632.500</td>\n",
       "      <td>0.000</td>\n",
       "      <td>13019.500</td>\n",
       "      <td>7413.000</td>\n",
       "      <td>85365.000</td>\n",
       "      <td>70666.000</td>\n",
       "      <td>0.000</td>\n",
       "      <td>1.000</td>\n",
       "      <td>0.000</td>\n",
       "      <td>1.000</td>\n",
       "      <td>0.000</td>\n",
       "      <td>0.000</td>\n",
       "      <td>1.000</td>\n",
       "      <td>0.000</td>\n",
       "      <td>0.306</td>\n",
       "      <td>1.000</td>\n",
       "      <td>0.850</td>\n",
       "      <td>485.000</td>\n",
       "      <td>0.340</td>\n",
       "      <td>0.636</td>\n",
       "      <td>0.439</td>\n",
       "      <td>0.575</td>\n",
       "    </tr>\n",
       "    <tr>\n",
       "      <th>max</th>\n",
       "      <td>5.000</td>\n",
       "      <td>1000.000</td>\n",
       "      <td>1.000</td>\n",
       "      <td>1.000</td>\n",
       "      <td>1.000</td>\n",
       "      <td>1.000</td>\n",
       "      <td>11.000</td>\n",
       "      <td>3970.000</td>\n",
       "      <td>84.299</td>\n",
       "      <td>33.037</td>\n",
       "      <td>15.710</td>\n",
       "      <td>4510.000</td>\n",
       "      <td>87.500</td>\n",
       "      <td>34.038</td>\n",
       "      <td>17.847</td>\n",
       "      <td>2844.000</td>\n",
       "      <td>58.333</td>\n",
       "      <td>26.752</td>\n",
       "      <td>11.254</td>\n",
       "      <td>5228.000</td>\n",
       "      <td>80.808</td>\n",
       "      <td>35.735</td>\n",
       "      <td>20.689</td>\n",
       "      <td>7931.000</td>\n",
       "      <td>31.385</td>\n",
       "      <td>2895.000</td>\n",
       "      <td>6974.000</td>\n",
       "      <td>11464.000</td>\n",
       "      <td>1.000</td>\n",
       "      <td>1.000</td>\n",
       "      <td>1.000</td>\n",
       "      <td>1.000</td>\n",
       "      <td>1.000</td>\n",
       "      <td>1.000</td>\n",
       "      <td>2.000</td>\n",
       "      <td>2.000</td>\n",
       "      <td>3888.445</td>\n",
       "      <td>4529.657</td>\n",
       "      <td>4699.074</td>\n",
       "      <td>4869.203</td>\n",
       "      <td>2.000</td>\n",
       "      <td>1.000</td>\n",
       "      <td>1.000</td>\n",
       "      <td>1.000</td>\n",
       "      <td>3769.000</td>\n",
       "      <td>25378.000</td>\n",
       "      <td>21438.000</td>\n",
       "      <td>137.000</td>\n",
       "      <td>674593.000</td>\n",
       "      <td>299151.000</td>\n",
       "      <td>4840630.000</td>\n",
       "      <td>4062742.000</td>\n",
       "      <td>34383.000</td>\n",
       "      <td>1.000</td>\n",
       "      <td>1.000</td>\n",
       "      <td>1.000</td>\n",
       "      <td>1.000</td>\n",
       "      <td>1.000</td>\n",
       "      <td>1.000</td>\n",
       "      <td>1.000</td>\n",
       "      <td>0.958</td>\n",
       "      <td>1.000</td>\n",
       "      <td>0.956</td>\n",
       "      <td>3993.000</td>\n",
       "      <td>1.000</td>\n",
       "      <td>1.000</td>\n",
       "      <td>0.986</td>\n",
       "      <td>0.959</td>\n",
       "    </tr>\n",
       "  </tbody>\n",
       "</table>\n",
       "</div>"
      ],
      "text/plain": [
       "       Rating   Data Row  Dutch Requirement in Job Ad_No  Dutch Requirement in Job Ad_Yes  English Requirement in Job Ad_No  English Requirement in Job Ad_Yes  Keywords Count  Gender_Female_n  Gender_Female_% per Sector  Gender_Female_% per Social Category  Gender_Female_% per Workforce  Gender_Male_n  Gender_Male_% per Sector  Gender_Male_% per Social Category  Gender_Male_% per Workforce  Age_Older_n  Age_Older_% per Sector  Age_Older_% per Social Category  Age_Older_% per Workforce  Age_Younger_n  Age_Younger_% per Sector  Age_Younger_% per Social Category  Age_Younger_% per Workforce  Sector_n  % Sector per Workforce  Sector Job Advertisement Count  Sector Gender Designation Job Advertisement Count  Sector Age Designation Job Advertisement Count  Gender_Female  Gender_Male  Gender_Mixed  Age_Mixed  Age_Older  Age_Younger  Gender_Num   Age_Num  Interaction_Female_Older_% per Sector  Interaction_Female_Younger_% per Sector  Interaction_Male_Older_% per Sector  Interaction_Male_Younger_% per Sector  Platform_Num  Platform_LinkedIn  Platform_Indeed  Platform_Glassdoor  Job Description spacy_sentencized_num_unique_words  Job Description spacy_sentencized_num_chars  Job Description spacy_sentencized_num_chars_no_whitespact_and_punt  Job Description spacy_sentencized_num_punctuations  Job Description_num_words  Job Description_num_unique_words  Job Description_num_chars  Job Description_num_chars_no_whitespact_and_punt  Job Description_num_punctuations  Dutch Requirement in Sentence_No  Dutch Requirement in Sentence_Yes  English Requirement in Sentence_No  English Requirement in Sentence_Yes  Warmth_actual  Competence_actual  Warmth_predicted  Warmth_Probability_predicted  Competence_predicted  Competence_Probability_predicted  Job Description spacy_sentencized_num_words   Warmth   Competence  Warmth_Probability  Competence_Probability\n",
       "count 3694.000 12438.000            16135.000                       16135.000                         16135.000                         16135.000                 16135.000       16135.000              16135.000                       16135.000                         16135.000              16135.000            16135.000                     16135.000                       16135.000            16135.000          16135.000                   16135.000                     16135.000            16135.000            16135.000                     16135.000                       16135.000           16135.000        16135.000                   16135.000                                16135.000                                         16135.000                      16135.000     16135.000     16135.000   16135.000  16135.000   16135.000    16135.000  16135.000               16135.000                               16135.000                              16135.000                             16135.000                  16135.000       16135.000         16135.000          16135.000                          16135.000                                        16135.000                                       16135.000                                                           16135.000                                16135.000                      16135.000                     16135.000                              16135.000                                16135.000                         16135.000                         16135.000                           16135.000                           16135.000                  117.000          117.000            117.000                 117.000                   117.000                     117.000                               16135.000                   16135.000  16135.000       16135.000             16135.000       \n",
       "mean    -0.392   340.351                0.983                           0.017                             0.968                             0.032                     6.735         642.733                 43.822                           5.349                             2.543                767.350               56.131                         5.791                           3.037              532.188             40.605                       5.006                         2.106              877.563               59.257                         5.998                           3.473            1410.320            5.581                    1455.214                                 6202.737                                          8474.250                          0.215         0.394         0.391       0.637      0.223       0.140        1.179      0.916                1758.078                                2614.448                               2300.975                              3308.072                      0.264           0.771             0.193              0.035                            302.388                                         2182.322                                        1833.127                                                               5.988                                11674.836                       6020.523                     77844.632                              64488.981                                  418.165                             0.983                             0.017                               0.968                               0.032                    0.197            0.479              0.111                   0.223                     0.470                       0.428                                 337.820                       0.251      0.495           0.340                 0.465       \n",
       "std      1.619   283.849                0.130                           0.130                             0.175                             0.175                     2.927        1051.909                 18.862                           8.754                             4.163               1316.803               18.895                         9.938                           5.211              809.307             10.230                       7.613                         3.203             1526.476               10.140                        10.434                           6.041            2323.725            9.196                     756.155                                 1185.635                                          3982.140                          0.411         0.489         0.488       0.481      0.417       0.347        0.760      0.597                 916.541                                1141.144                               1118.842                              1149.228                      0.515           0.420             0.395              0.185                            245.697                                         1767.965                                        1483.903                                                              13.155                                24997.019                       9625.290                    170708.653                             141955.074                                 1388.893                             0.130                             0.130                               0.175                               0.175                    0.399            0.502              0.316                   0.296                     0.501                       0.401                                 270.393                       0.199      0.236           0.177                 0.185       \n",
       "min     -1.000     1.000                0.000                           0.000                             0.000                             0.000                     1.000           7.000                 12.500                           0.058                             0.028                 21.000               15.632                         0.158                           0.083               15.000             18.939                       0.141                         0.059               13.000               44.444                         0.089                           0.051              29.000            0.115                     150.000                                 3955.000                                          2351.000                          0.000         0.000         0.000       0.000      0.000       0.000        0.000      0.000                 595.238                                 662.202                                721.036                               839.936                      0.000           0.000             0.000              0.000                              2.000                                           12.000                                           7.000                                                               0.000                                    4.000                          4.000                        31.000                                 20.000                                    0.000                             0.000                             0.000                               0.000                               0.000                    0.000            0.000              0.000                   0.002                     0.000                       0.012                                   3.000                       0.000      0.000           0.001                 0.014       \n",
       "25%     -1.000    94.000                1.000                           0.000                             1.000                             0.000                     5.000          87.000                 27.586                           0.724                             0.344                189.000               42.965                         1.426                           0.748               95.000             32.759                       0.894                         0.376              195.000               50.608                         1.333                           0.772             290.000            1.148                    1064.000                                 6664.000                                          3778.000                          0.000         0.000         0.000       0.000      0.000       0.000        1.000      1.000                 951.752                                1841.334                               1627.735                              2601.639                      0.000           1.000             0.000              0.000                            102.000                                          738.000                                         621.500                                                               0.000                                  675.000                        480.000                      4464.000                               3692.500                                    0.000                             1.000                             0.000                               1.000                               0.000                    0.000            0.000              0.000                   0.012                     0.000                       0.020                                 115.000                       0.115      0.333           0.222                 0.340       \n",
       "50%     -1.000   267.000                1.000                           0.000                             1.000                             0.000                     7.000         199.000                 43.135                           1.656                             0.787                210.000               56.865                         1.585                           0.831              205.000             38.945                       1.928                         0.811              288.000               60.553                         1.969                           1.140             398.000            1.575                    1411.000                                 6664.000                                         11464.000                          0.000         0.000         0.000       1.000      0.000       0.000        1.000      1.000                1366.558                                2843.366                               1938.775                              3571.638                      0.000           1.000             0.000              0.000                            247.000                                         1799.000                                        1514.000                                                               0.000                                 3542.000                       2171.000                     22440.000                              18502.000                                    0.000                             1.000                             0.000                               1.000                               0.000                    0.000            0.000              0.000                   0.071                     0.000                       0.322                                 282.000                       0.231      0.500           0.325                 0.457       \n",
       "75%     -1.000   549.000                1.000                           0.000                             1.000                             0.000                     9.000         416.000                 56.784                           3.462                             1.646                557.000               72.414                         4.204                           2.204              413.000             49.321                       3.885                         1.634              660.000               67.241                         4.511                           2.612             973.000            3.850                    1787.000                                 6974.000                                         11464.000                          0.000         1.000         1.000       1.000      0.000       0.000        2.000      1.000                2211.434                                3460.737                               3228.195                              3999.592                      0.000           1.000             0.000              0.000                            435.000                                         3135.500                                        2632.500                                                               0.000                                13019.500                       7413.000                     85365.000                              70666.000                                    0.000                             1.000                             0.000                               1.000                               0.000                    0.000            1.000              0.000                   0.306                     1.000                       0.850                                 485.000                       0.340      0.636           0.439                 0.575       \n",
       "max      5.000  1000.000                1.000                           1.000                             1.000                             1.000                    11.000        3970.000                 84.299                          33.037                            15.710               4510.000               87.500                        34.038                          17.847             2844.000             58.333                      26.752                        11.254             5228.000               80.808                        35.735                          20.689            7931.000           31.385                    2895.000                                 6974.000                                         11464.000                          1.000         1.000         1.000       1.000      1.000       1.000        2.000      2.000                3888.445                                4529.657                               4699.074                              4869.203                      2.000           1.000             1.000              1.000                           3769.000                                        25378.000                                       21438.000                                                             137.000                               674593.000                     299151.000                   4840630.000                            4062742.000                                34383.000                             1.000                             1.000                               1.000                               1.000                    1.000            1.000              1.000                   0.958                     1.000                       0.956                                3993.000                       1.000      1.000           0.986                 0.959       "
      ]
     },
     "execution_count": 8,
     "metadata": {},
     "output_type": "execute_result"
    }
   ],
   "source": [
    "df_jobs_agg.describe()\n"
   ]
  },
  {
   "cell_type": "markdown",
   "metadata": {},
   "source": [
    "## Set dataframes"
   ]
  },
  {
   "cell_type": "markdown",
   "metadata": {},
   "source": [
    "#### Set variables"
   ]
  },
  {
   "cell_type": "code",
   "execution_count": 9,
   "metadata": {},
   "outputs": [],
   "source": [
    "# Dataframes dict\n",
    "dataframes = {\n",
    "    'df_jobs': df_jobs,\n",
    "    'df_jobs_agg': df_jobs_agg,\n",
    "    # 'df_manual': df_manual,\n",
    "}\n",
    "\n",
    "# Models dict\n",
    "sm_models = {\n",
    "    'OLS': sm.OLS,\n",
    "    # 'Logistic': sm.Logit,\n",
    "}\n",
    "\n",
    "# DVs dict for analysis\n",
    "dvs_for_analysis = {\n",
    "    'probability': ['Probability Warmth and Competence', dvs_prob],\n",
    "    # 'binary': ['Categorical Warmth and Competence', dvs],\n",
    "    # 'binary and probability': ['Categorical and Probability Warmth and Competence', dvs_all],\n",
    "}\n",
    "\n",
    "# Make extra IV dicts\n",
    "ivs_dummy_for_analysis = ivs_dummy#[iv for iv in ivs_dummy if 'Mixed' not in iv]\n",
    "ivs_dummy_and_perc_for_analysis = ivs_dummy_and_perc#[iv for iv in ivs_dummy_and_perc if 'Mixed' not in iv]\n",
    "ivs_dummy_perc_and_perc_interactions_for_analysis = ivs_dummy_perc_and_perc_interactions#[iv for iv in ivs_dummy_perc_and_perc_interactions if 'Mixed' not in iv]\n",
    "\n",
    "# IVs dict for analysis\n",
    "ivs_for_analysis = {\n",
    "    'categories, percentages, and interactions': [\n",
    "        'Categorical, PPS, and PPS Interactions Gender and Age',\n",
    "        ivs_dummy_perc_and_perc_interactions_for_analysis\n",
    "    ],\n",
    "    'categories and percentages': [\n",
    "        'Categorical and PPS Gender and Age',\n",
    "        ivs_dummy_and_perc_for_analysis\n",
    "    ],\n",
    "    'percentages and interactions': [\n",
    "        'PPS and PPS Interactions',\n",
    "        ivs_perc_and_perc_interactions\n",
    "    ],\n",
    "    'categories': [\n",
    "        'Categorical Gender and Age',\n",
    "        ivs_dummy_for_analysis\n",
    "    ],\n",
    "    'percentages': [\n",
    "        'PPS Gender and Age',\n",
    "        ivs_perc\n",
    "    ],\n",
    "    'interactions': [\n",
    "        'PPS Interactions',\n",
    "        ivs_perc_interactions\n",
    "    ],\n",
    "}\n"
   ]
  },
  {
   "cell_type": "code",
   "execution_count": 10,
   "metadata": {},
   "outputs": [],
   "source": [
    "def save_df_full_summary_excel(\n",
    "    df_full_summary,\n",
    "    title,\n",
    "    text_to_add_list,\n",
    "    file_save_path,\n",
    "    sheet_name=None,\n",
    "    startrow=None,\n",
    "    startcol=None,\n",
    "):\n",
    "    if sheet_name is None:\n",
    "        sheet_name = 'All'\n",
    "    if startrow is None:\n",
    "        startrow = 1\n",
    "    if startcol is None:\n",
    "        startcol = 1\n",
    "\n",
    "    # Define last rows and cols locs\n",
    "    header_range = 1\n",
    "    endrow = startrow + header_range + df_full_summary.shape[0]\n",
    "    endcol = startcol + df_full_summary.shape[1]\n",
    "\n",
    "    # Remove NAs\n",
    "    df_full_summary = df_full_summary.fillna('')\n",
    "\n",
    "    # Write\n",
    "    writer = pd.ExcelWriter(f'{file_save_path}.xlsx')\n",
    "    df_full_summary.to_excel(writer, sheet_name=sheet_name, merge_cells=True, startrow=startrow, startcol=startcol)\n",
    "    workbook  = writer.book\n",
    "    worksheet = writer.sheets[sheet_name]\n",
    "    worksheet.set_column(startrow, 1, None, None, {'hidden': True}) # hide the index column\n",
    "\n",
    "    # Title\n",
    "    worksheet.merge_range(1, startcol, 1, endcol, title, workbook.add_format({'italic': True, 'font_name': 'Times New Roman', 'font_size': 12, 'font_color': 'black', 'align': 'left', 'top': True, 'bottom': True, 'left': False, 'right': False}))\n",
    "\n",
    "    # Main body\n",
    "    body_max_row_idx, body_max_col_idx = df_full_summary.shape\n",
    "\n",
    "    for c, r in tqdm_product(range(body_max_col_idx), range(body_max_row_idx)):\n",
    "        row_to_write = startrow + header_range + r\n",
    "        col_to_write = startcol + 1 + c # 1 is for index\n",
    "        body_formats = {'num_format': '0.00', 'font_name': 'Times New Roman', 'font_size': 12, 'font_color': 'black', 'align': 'center', 'text_wrap': True, 'left': False, 'right': False}\n",
    "\n",
    "        if r == 0:\n",
    "            body_formats |= {'top': True, 'bottom': True, 'left': False, 'right': False}\n",
    "            worksheet.set_column(col_to_write, col_to_write, 10)\n",
    "\n",
    "        if r == body_max_row_idx-1:\n",
    "            body_formats |= {'bottom': True}\n",
    "\n",
    "        if c == 0:\n",
    "            body_formats |= {'align': 'left'}\n",
    "            worksheet.set_column(col_to_write, col_to_write, 15)\n",
    "\n",
    "        worksheet.write(row_to_write, col_to_write, df_full_summary.iloc[r, c], workbook.add_format(body_formats))\n",
    "\n",
    "    # Add Note\n",
    "    note_format = {'italic': True, 'font_name': 'Times New Roman', 'font_size': 10, 'font_color': 'black', 'align': 'left', 'left': False, 'right': False}\n",
    "    worksheet.merge_range(endrow, startcol, endrow, endcol, 'Note.', workbook.add_format(note_format))\n",
    "    # Add text\n",
    "    for i, text in enumerate(text_to_add_list):\n",
    "        worksheet.merge_range(endrow + 1 + i , startcol, endrow + 1 + i, endcol, text, workbook.add_format(note_format))\n",
    "\n",
    "    writer.close()\n"
   ]
  },
  {
   "cell_type": "code",
   "execution_count": 11,
   "metadata": {},
   "outputs": [],
   "source": [
    "def make_full_report(\n",
    "    results, dv, analysis_type, model_name, dvs_name, ivs_name, ivs_type, df_name,\n",
    "    regression_info_dict=None, regressor_order=None, text_to_add_list=None, title=None, model_names=None\n",
    "):\n",
    "    '''\n",
    "    Make a full report for a regression analysis.\n",
    "    results: statsmodels regression results object or list of results objects\n",
    "    dv: str, dependent variable name\n",
    "    '''\n",
    "\n",
    "    if regression_info_dict is None:\n",
    "        # Regression info dict\n",
    "        regression_info_dict = {\n",
    "            'F': lambda x: f'{x.fvalue:.3f}',\n",
    "            'F (p-value)': lambda x: f'{x.f_pvalue:.3f}',\n",
    "            'df_model': lambda x: f'{x.df_model:.0f}',\n",
    "            'df_resid': lambda x: f'{x.df_resid:.0f}',\n",
    "            'df_total': lambda x: f'{x.df_resid + x.df_model + 1:.0f}',\n",
    "            'R-squared': lambda x: f'{x.rsquared:.3f}',\n",
    "            'R-squared Adj.': lambda x: f'{x.rsquared_adj:.3f}',\n",
    "            'Unstandardized Coefficent B (b)': lambda x: f'{x.params[0]:.3f}',\n",
    "            'Standard Error (SE)': lambda x: f'{x.bse[0]:.3f}',\n",
    "            'Standardized Coefficient b* (β)': lambda x: f'{x.params[0] / x.model.endog.std():.3f}',\n",
    "            't': lambda x: f'{x.tvalues[0]:.3f}',\n",
    "            't (p-value)': lambda x: f'{x.pvalues[0]:.3f}',\n",
    "            '95% CI': lambda x: f'{x.conf_int().iloc[0, 1]:.3f} - {x.conf_int().iloc[0, 1]:.3f}',\n",
    "            'Log-Likelihood': lambda x: f'{x.llf:.3f}',\n",
    "            'Pseudo R2': lambda x: f'{x.prsquared:.3f}',\n",
    "            'AIC': lambda x: f'{x.aic:.3f}',\n",
    "            'BIC': lambda x: f'{x.bic:.3f}',\n",
    "            'ICC': lambda x: f'{x.rsquared / (x.rsquared + (x.nobs - 1) * x.mse_resid):.3f}',\n",
    "            'RMSE': lambda x: f'{x.mse_resid ** 0.5:.3f}',\n",
    "            'RMSE (std)': lambda x: f'{x.mse_resid ** 0.5 / x.model.endog.std():.3f}',\n",
    "            'Omnibus': lambda x: f'{sms.omni_normtest(x.resid).statistic:.3f}',\n",
    "            'Omnibus (p-value)': lambda x: f'{sms.omni_normtest(x.resid).pvalue:.3f}',\n",
    "            'Skew': lambda x: f'{sms.jarque_bera(x.resid)[-2]:.3f}',\n",
    "            'Kurtosis': lambda x: f'{sms.jarque_bera(x.resid)[-1]:.3f}',\n",
    "            'Jarque-Bera (JB)': lambda x: f'{sms.jarque_bera(x.resid)[0]:.3f}',\n",
    "            'Jarque-Bera (p-value)': lambda x: f'{sms.jarque_bera(x.resid)[1]:.3f}',\n",
    "            'Model Name': lambda x: f'{x.model.__class__.__name__}',\n",
    "            'N': lambda x: f'{int(x.nobs):d}',\n",
    "            # 'Summary': lambda x: f'{x.summary()}',\n",
    "            # 'F (p-value - FDR)': lambda x: f'{x.f_pvalue_fdr:.3f}',\n",
    "            # 'F (p-value - Bonferroni)': lambda x: f'{x.f_pvalue_bonf:.3f}',\n",
    "            # 't (p-value - FDR)': lambda x: f'{x.pvalues_fdr[1]:.3f}',\n",
    "            # 't (p-value - Bonferroni)': lambda x: f'{x.pvalues_bonf[1]:.3f}',\n",
    "        }\n",
    "        if isinstance(results, list):\n",
    "            results_to_check = results[0]\n",
    "        else:\n",
    "            results_to_check = results\n",
    "        if all('const' in x for x in zip(results_to_check.params.index, results_to_check.bse.index, results_to_check.tvalues.index, results_to_check.pvalues.index)):\n",
    "            regression_info_dict = regression_info_dict | {\n",
    "                'Intercept': lambda x: f'{x.params[\"const\"]:.3f}',\n",
    "                'Intercept (std)': lambda x: f'{x.bse[\"const\"]:.3f}',\n",
    "                'Intercept t': lambda x: f'{x.tvalues[\"const\"]:.3f}',\n",
    "                'Intercept t (p-value)': lambda x: f'{x.pvalues[\"const\"]:.3f}',\n",
    "                'Intercept (95% CI)': lambda x: f'{x.conf_int().loc[\"const\"][0]:.3f} - {x.conf_int().loc[\"const\"][1]:.3f}',\n",
    "            }\n",
    "    if model_names is None:\n",
    "        if isinstance(results, list):\n",
    "            model_names = [\n",
    "                f'{results_to_check.model.endog_names.split(\"_\")[0] if \"_\" in results_to_check.model.endog_names else results_to_check.model.endog_names} Model {i}'\n",
    "                for i in range(len(results))\n",
    "            ]\n",
    "            model_names[0] = model_names[0].replace('Model 0', 'Full Model')\n",
    "        else:\n",
    "            model_names = [\n",
    "                f'{results.model.endog_names.split(\"_\")[0] if \"_\" in results.model.endog_names else results.model.endog_names}'\n",
    "            ]\n",
    "\n",
    "    order_type = 'unordered' if regressor_order is None else 'ordered'\n",
    "    if text_to_add_list is None:\n",
    "        text_to_add_list = []\n",
    "        if regressor_order is not None:\n",
    "            text_to_add_list.append('Models are ordered by independent variable type.')\n",
    "\n",
    "        else:\n",
    "            text_to_add_list.append('Models are ordered by coefficient size, largest to smallest.')\n",
    "\n",
    "    if title is None:\n",
    "        title = f'{model_name} {analysis_type}: {dvs_name} x {ivs_name}'\n",
    "\n",
    "    try:\n",
    "        # Statsmodels summary_col\n",
    "        full_summary = summary_col(\n",
    "            results,\n",
    "            stars=True,\n",
    "            info_dict=regression_info_dict,\n",
    "            regressor_order=regressor_order,\n",
    "            float_format='%0.2f',\n",
    "            model_names=model_names,\n",
    "        )\n",
    "        if isinstance(results, list) and len(results) > 4:\n",
    "            full_summary.tables[0][full_summary.tables[0].filter(regex='Full Model').columns[0]].loc['Unstandardized Coefficent B (b)': '95% CI'] = ''\n",
    "\n",
    "        # Add title and notes\n",
    "        full_summary.add_title(title)\n",
    "        text_to_add_list.extend(full_summary.extra_txt)\n",
    "        for text in text_to_add_list:\n",
    "            full_summary.add_text(text)\n",
    "        # Save\n",
    "        save_name = f'{table_save_path}{model_name} {df_name} - ALL {dv} {order_type} {analysis_type} on {ivs_type}'\n",
    "        df_full_summary = pd.read_html(full_summary.as_html())[0]\n",
    "        df_full_summary.to_csv(f'{save_name}.csv')\n",
    "        df_full_summary.style.to_latex(f'{save_name}.tex', hrules=True)\n",
    "        save_df_full_summary_excel(df_full_summary, title, text_to_add_list, save_name)\n",
    "\n",
    "        return full_summary\n",
    "    except IndexError as e:\n",
    "        print(f'Making full report for {model_names[0]} due to the following error: {e}')\n",
    "        return None\n"
   ]
  },
  {
   "cell_type": "code",
   "execution_count": 12,
   "metadata": {},
   "outputs": [],
   "source": [
    "def get_summary_results(df, df_results_controls, dv, constant, controls, ivs_, model_name, dvs_name, ivs_name, ivs_type, df_name):\n",
    "    results_list = [\n",
    "        sm.OLS(endog=df[dv], exog=df[constant + controls[:1]]).fit()\n",
    "    ]\\\n",
    "        + df_results_controls['Results'].loc[df_results_controls['y_endog'] == dv].tolist()\n",
    "    full_summary = make_full_report(\n",
    "        results_list, dv,\n",
    "        dvs_name=dvs_name, ivs_name=ivs_name, ivs_type=ivs_type, df_name=df_name,\n",
    "        model_name=model_name, analysis_type='specification curve'\n",
    "    )\n",
    "    ordered_full_summary = make_full_report(\n",
    "        results_list, dv,\n",
    "        dvs_name=dvs_name, ivs_name=ivs_name, ivs_type=ivs_type, df_name=df_name,\n",
    "        model_name=model_name, analysis_type='specification curve', regressor_order=ivs_[:] + controls[:1]\n",
    "    )\n",
    "    print('\\n')\n",
    "    print('-'*20)\n",
    "    print(f'{dv}\\n')\n",
    "    print('-'*20)\n",
    "    print('\\n')\n",
    "    print(f'{dv} SUMMARY RESULTS:\\n{full_summary}')\n",
    "    print('\\n')\n",
    "\n",
    "    return results_list, full_summary, ordered_full_summary\n"
   ]
  },
  {
   "cell_type": "code",
   "execution_count": 13,
   "metadata": {},
   "outputs": [],
   "source": [
    "def make_masks(df_results, mask_gender_ivs=None, mask_age_ivs=None, mask_ivs=None, mask_dvs=None, masks_dict=None):\n",
    "\n",
    "    if mask_gender_ivs is None:\n",
    "        mask_gender_ivs = ['Female', 'Male', 'Gender_Mixed']\n",
    "    if mask_age_ivs is None:\n",
    "        mask_age_ivs = ['Older', 'Younger', 'Age_Mixed']\n",
    "    if mask_ivs is None:\n",
    "        mask_ivs = mask_gender_ivs + mask_age_ivs\n",
    "    if mask_dvs is None:\n",
    "        mask_dvs = dvs\n",
    "    if masks_dict is None:\n",
    "        masks_dict = {}\n",
    "\n",
    "    # Warmth and Competence masks\n",
    "    for mask_dv in mask_dvs:\n",
    "        masks_dict[f'{mask_dv.lower()}_mask'] = df_results['Specification'].progress_apply(\n",
    "            lambda x: any(mask_dv in item for item in x if item in x)\n",
    "            # HACK\n",
    "            # & any('Interaction' not in item for item in x if item in x)\n",
    "        )\n",
    "\n",
    "    # Gender and Age masks\n",
    "    for mask_iv in mask_ivs:\n",
    "        masks_dict[f'{mask_iv.lower()}_mask'] = df_results['Specification'].progress_apply(\n",
    "            lambda x: any(mask_iv in item for item in x if item in x)\n",
    "            # HACK\n",
    "            # & any('Interaction' not in item for item in x if item in x)\n",
    "        )\n",
    "\n",
    "    # IV and DV masks\n",
    "    for mask_iv, mask_dv in tqdm_product(mask_ivs, mask_dvs):\n",
    "        masks_dict[f'{mask_iv.lower()}_{mask_dv.lower()}_mask'] = df_results['Specification'].progress_apply(\n",
    "            lambda x: any(mask_iv in item for item in x if item in x)\n",
    "            & any(mask_dv in item for item in x if item in x)\n",
    "            # HACK\n",
    "            # & any('Interaction' not in item for item in x if item in x)\n",
    "        )\n",
    "\n",
    "    # All Gender masks\n",
    "    masks_dict['gender_mask'] = pd.Series([False] * len(df_results))\n",
    "    for mask_gender_iv in mask_gender_ivs:\n",
    "        masks_dict['gender_mask'] |= masks_dict[f'{mask_gender_iv.lower()}_mask']\n",
    "\n",
    "    for mask_dv in mask_dvs:\n",
    "        masks_dict[f'gender_{mask_dv.lower()}_mask'] = pd.Series([False] * len(df_results))\n",
    "        for mask_gender_iv in mask_gender_ivs:\n",
    "            masks_dict[f'gender_{mask_dv.lower()}_mask'] |= masks_dict[f'{mask_gender_iv.lower()}_{mask_dv.lower()}_mask']\n",
    "\n",
    "    # All Age masks\n",
    "    masks_dict['age_mask'] = pd.Series([False] * len(df_results))\n",
    "    for mask_age_iv in mask_age_ivs:\n",
    "        masks_dict['age_mask'] |= masks_dict[f'{mask_age_iv.lower()}_mask']\n",
    "\n",
    "    for mask_dv in mask_dvs:\n",
    "        masks_dict[f'age_{mask_dv.lower()}_mask'] = pd.Series([False] * len(df_results))\n",
    "        for mask_age_iv in mask_age_ivs:\n",
    "            masks_dict[f'age_{mask_dv.lower()}_mask'] |= masks_dict[f'{mask_age_iv.lower()}_{mask_dv.lower()}_mask']\n",
    "\n",
    "    # Interaction masks\n",
    "    masks_dict['interactions_mask'] = df_results['Specification'].progress_apply(\n",
    "        lambda x: any('Interaction' in item for item in x)\n",
    "    )\n",
    "    for mask_dv in mask_dvs:\n",
    "        masks_dict[f'interactions_{mask_dv.lower()}_mask'] = df_results['Specification'].progress_apply(\n",
    "            lambda x: any('Interaction' in item for item in x)\n",
    "            & any(mask_dv in item for item in x)\n",
    "        )\n",
    "\n",
    "    return masks_dict\n"
   ]
  },
  {
   "cell_type": "code",
   "execution_count": 14,
   "metadata": {},
   "outputs": [],
   "source": [
    "def get_sc_stats(\n",
    "    df_results,\n",
    "    dvs_,\n",
    "    masks_dict,\n",
    "    text_to_add_list=None,\n",
    "    sc_stats_dict=None,\n",
    "    alpha=None,\n",
    "):\n",
    "    if text_to_add_list is None:\n",
    "        text_to_add_list = []\n",
    "    if sc_stats_dict is None:\n",
    "        sc_stats_dict = {}\n",
    "    if alpha is None:\n",
    "        alpha = 0.05\n",
    "\n",
    "    spec_variables = list({item for spec in df_results['Specification'].values for item in spec if item != 'const'})\n",
    "\n",
    "    # Stouffer’s Z-score and p-value for each mask\n",
    "    for mask_name, mask in masks_dict.items():\n",
    "        if not df_results[mask].empty and not all(df_results[mask]['coeff_pvals'] == False):\n",
    "            # Share of significant effects\n",
    "            significant_count = (df_results[mask]['coeff_pvals'] <= alpha).sum()\n",
    "            total_count = len(df_results[mask])\n",
    "            share_significant = significant_count / total_count\n",
    "            null_share = 1 / total_count\n",
    "            share_significant_pval = scipy.stats.binom_test(significant_count, n=total_count, p=null_share, alternative='greater')\n",
    "            share_fraction = f'{significant_count}/{len(df_results[mask])}'\n",
    "            # Stoutffer\n",
    "            pvalues = df_results[mask]['coeff_pvals'].tolist()\n",
    "            stouffer_z , stouffer_pval = scipy.stats.combine_pvalues(pvalues=pvalues, method='stouffer')\n",
    "\n",
    "            sc_stats_dict[mask_name] = {\n",
    "                'share_significant': share_significant,\n",
    "                'share_significant_pval': share_significant_pval,\n",
    "                'stouffer_z': stouffer_z,\n",
    "                'stouffer_pval': stouffer_pval,\n",
    "            }\n",
    "\n",
    "            text_to_add_list.extend(\n",
    "                f'{\"-\" * 10}\\n{dv.split(\"_Probability\")[0]}:\\nSign. share: {share_fraction}\\np-value = {share_significant_pval:.3f}\\nStouffer Z: {stouffer_z:.3f}\\np-value = {stouffer_pval:.3f}'\n",
    "                for dv in dvs_\n",
    "                if mask_name.split('_mask')[0]\n",
    "                == f'{dv.split(\"_Probability\")[0].lower()}'\n",
    "            )\n",
    "        else:\n",
    "            sc_stats_dict[mask_name] = {\n",
    "                'share_significant': 0,\n",
    "                'share_significant_pval': 1,\n",
    "                'stouffer_z': 0,\n",
    "                'stouffer_pval': 1,\n",
    "            }\n",
    "\n",
    "        print(f'{\"=\"*5} SCA {mask_name.split(\"_mask\")[0].upper()} {\"=\"*5}')\n",
    "        print(f'Total number of specification: {len(df_results)}')\n",
    "        print(f'Total number of variables: {len(spec_variables)}')\n",
    "        # print(f'Length of {mask_name.split(\"_mask\")[0]} results: {len(df_results[mask])}')\n",
    "        # print(f'Number of significant p-values for {mask_name.split(\"_mask\")[0]}: {significant_count}')\n",
    "        print(f'Share of significant effects for {mask_name.split(\"_mask\")[0]}: {share_significant:.3f} - {significant_count}/{len(df_results[mask])}')\n",
    "        print(f'Share of significant effects p-value: {share_significant_pval:.3f}')\n",
    "        print(f'Stoutffer Z: {stouffer_z:.3f}')\n",
    "        print(f'Stoutffer p-value: {stouffer_pval:.3f}')\n",
    "        print('-'*20)\n",
    "        print('\\n')\n",
    "\n",
    "    return sc_stats_dict, text_to_add_list\n"
   ]
  },
  {
   "cell_type": "code",
   "execution_count": 15,
   "metadata": {},
   "outputs": [],
   "source": [
    "def get_significant_predictors(df_results, top_n=None, dv_name=None, alpha=None, asc=None, enable_return=False):\n",
    "    if top_n is None:\n",
    "        top_n = 10\n",
    "    if alpha is None:\n",
    "        alpha = 0.05\n",
    "    if asc is None:\n",
    "        asc = False\n",
    "\n",
    "    condition = (df_results['coeff_pvals'] < alpha) & (df_results['x_exog'] != 'const')\n",
    "    if dv_name is not None:\n",
    "        condition = pd.concat([condition, (df_results['y_endog'] == dv_name)])\n",
    "\n",
    "    df_top_coeff_p = df_results.loc[condition].sort_values(by=['Coefficient'], ascending=asc)\n",
    "    print('\\n')\n",
    "    print('+'*20)\n",
    "    print('\\n')\n",
    "    print('-'*20)\n",
    "    print(f\"{top_n} {'Highest' if asc==False else 'Lowest'} significant coefficients:\\n{df_top_coeff_p[['x_exog', 'y_endog', 'coeff_pvals', 'Coefficient', 'conf_int', 'pvalues']].head(top_n)}\")\n",
    "    print('-'*20)\n",
    "    print('\\n')\n",
    "    print('+'*20)\n",
    "    print('\\n')\n",
    "\n",
    "    if enable_return:\n",
    "        return df_top_coeff_p\n"
   ]
  },
  {
   "cell_type": "code",
   "execution_count": 16,
   "metadata": {},
   "outputs": [],
   "source": [
    "def save_dfs(row, save_name, df_to_save, df_std_coef):\n",
    "    row['Results'].save(f'{save_name}.pkl')\n",
    "    df_to_save.to_csv(f'{save_name}.csv')\n",
    "    df_to_save.style.to_latex(f'{save_name}.tex', hrules=True)\n",
    "    df_std_coef.to_csv(f'{save_name} - standardized coefficients.csv')\n",
    "    df_std_coef.style.to_latex(f'{save_name} - standardized coefficients.tex', hrules=True)\n"
   ]
  },
  {
   "cell_type": "markdown",
   "metadata": {},
   "source": [
    "# Specification Curve Analysis"
   ]
  },
  {
   "cell_type": "code",
   "execution_count": 17,
   "metadata": {},
   "outputs": [],
   "source": [
    "def run_sc(df_name, df, model_name, model, dvs_type, dvs_name, dvs_, ivs_type, ivs_name, ivs_):\n",
    "\n",
    "    # Set DVs for df_manual\n",
    "    if df_name == 'df_manual':\n",
    "        dvs_ = dvs\n",
    "\n",
    "    # Run specification curve analysis\n",
    "    print('\\n')\n",
    "    print(f'{df_name} Running specification curve analysis with:\\nDEPENDENT VARIABLES = {dvs_}\\nINDEPENDENT VARIABLES = {ivs_}\\nCONTROLS = {controls}')\n",
    "    print(f'{\"=\"*5} {df_name} {model_name.upper()} SPECIFICATION MODE RESULTS FOR {df_name} USING {dvs_type.upper()} x {ivs_type.upper()} {\"=\"*5}')\n",
    "    print('\\n')\n",
    "\n",
    "    # Add constant\n",
    "    df = sm.add_constant(df)\n",
    "    constant = ivs_[:] + ['const']\n",
    "\n",
    "    try:\n",
    "        plot_title = f'{model_name}: {dvs_name} x {ivs_name}'\n",
    "        sc = specy.SpecificationCurve(df=df, y_endog=dvs_, x_exog=constant, controls=controls[:1], always_include=['const'])\n",
    "        sc.fit(estimator=model)\n",
    "        df_results = sc.df_r\n",
    "\n",
    "        # Compare models with controls\n",
    "        controls_mask = df_results['Specification'].progress_apply(lambda x: all(control in x for control in controls[:1]))\n",
    "        df_results_controls = df_results.loc[controls_mask]\n",
    "\n",
    "        # Warmth full report\n",
    "        for dv in dvs_[:len(dvs_)//2]:\n",
    "            warmth_results_list, warmth_full_summary, ordered_warmth_full_summary = get_summary_results(\n",
    "                df, df_results_controls, dv, constant, controls, ivs_, model_name, dvs_name, ivs_name, ivs_type, df_name\n",
    "            )\n",
    "\n",
    "        # Competence full report\n",
    "        for dv in dvs_[len(dvs_)//2:]:\n",
    "            competence_results_list, competence_full_summary, ordered_competence_full_summary = get_summary_results(\n",
    "                df, df_results_controls, dv, constant, controls, ivs_, model_name, dvs_name, ivs_name, ivs_type, df_name\n",
    "            )\n",
    "\n",
    "        # Get Specification Curve Analysis stats\n",
    "        masks_dict = make_masks(df_results)\n",
    "        sc_stats_dict, text_to_add_list = get_sc_stats(df_results, dvs_, masks_dict)\n",
    "\n",
    "        # Get gender and age masks with controls for final regression reporting\n",
    "        df_results_gender = df_results_controls.loc[masks_dict['gender_mask']]\n",
    "        df_results_gender = df_results_gender.reset_index(drop=True)\n",
    "        df_results_age = df_results_controls.loc[masks_dict['age_mask']]\n",
    "        df_results_age = df_results_age.reset_index(drop=True)\n",
    "\n",
    "        # Iterate over results and print summary\n",
    "        df_std_coef_dict = {}\n",
    "        for df_masked in [df_results_gender, df_results_age]:\n",
    "            for idx, row in df_masked.iterrows():\n",
    "                iv_name = row['x_exog']\n",
    "                dv_name = row['y_endog']\n",
    "                print('\\n')\n",
    "                print('+'*20)\n",
    "                print(f'{dv_name} x {iv_name}\\n')\n",
    "                print('+'*20)\n",
    "                print(f'{row[\"Results\"].summary(title=plot_title)}')\n",
    "                tt, df_std_coef = get_standardized_coefficients(row['Results'])\n",
    "                df_std_coef_dict[f'{dv_name} x {iv_name}'] = df_std_coef\n",
    "                print('+'*50)\n",
    "                print('~'*20)\n",
    "                print(f'STANDARDIZED BETA REGRESSION COEFFICIENTS FOR {dv_name} x {iv_name}:\\n{df_std_coef}')\n",
    "                if '%' not in iv_name:\n",
    "                    print('-'*20)\n",
    "                    print(\n",
    "                        f'MEANS FOR {dv_name} x {iv_name}:\\n{pg.pairwise_gameshowell(data=df, dv=dv_name, between=iv_name, effsize=\"eta-square\").round(3)}'\n",
    "                    )\n",
    "                    print('-'*20)\n",
    "                print('~'*20)\n",
    "\n",
    "                # Save results to file\n",
    "                save_name = f'{table_save_path}{model_name} specification curve on {ivs_type} {df_name} - {dv_name} x {iv_name} ({dvs_type} Warmth and Competence x {ivs_type} Gender and Age)'\n",
    "                df_to_save = pd.DataFrame(csv.reader(row['Results'].summary(title=plot_title).as_csv().split('\\n'), delimiter=','))\n",
    "                try:\n",
    "                    save_dfs(row, save_name, df_to_save, df_std_coef)\n",
    "                except OSError:\n",
    "                    save_name = f'{table_save_path}{model_name} specification curve on {ivs_type} {df_name} - {dv_name} x {iv_name} ({dvs_type} WarmComp x {ivs_type} GenAge)'\n",
    "                    save_dfs(row, save_name, df_to_save, df_std_coef)\n",
    "\n",
    "        # Get top predictors\n",
    "        df_top_coeff_p = get_significant_predictors(df_results, top_n=10, enable_return=True)\n",
    "\n",
    "        # Get bottom predictors\n",
    "        get_significant_predictors(df_results, top_n=10, asc=True)\n",
    "\n",
    "        # Plot and save\n",
    "        print('\\n')\n",
    "        print('~'*80)\n",
    "        print(f'\\n{\"=\"*5} {df_name} RESULTS FOR {plot_title} {\"=\"*5}\\n')\n",
    "        print('~'*80)\n",
    "        print('\\n')\n",
    "\n",
    "        for image_save_format in tqdm.tqdm(['png', 'svg']):\n",
    "            # Use following if not using forked specification_curve\n",
    "            # sc.plot(preferred_spec=[iv, dv], save_path=save_path,)\n",
    "            save_path = f'{plot_save_path}{df_name} - {model_name} Specification Curve - {dvs_type} Warmth and Competence x {ivs_type} Gender and Age.{image_save_format}'\n",
    "            sc_fig = sc.plot(\n",
    "                save_path=save_path,\n",
    "                show_plot=False,\n",
    "                return_fig=True,\n",
    "                plot_title=plot_title,\n",
    "                text_to_add=text_to_add_list,\n",
    "                matplotlib_style='tableau-colorblind10',\n",
    "            )\n",
    "\n",
    "    except(np.linalg.LinAlgError):\n",
    "        print(f'Singular matrix when using {model_name} with {dvs_type} x {ivs_type}')\n",
    "        df_results = None\n",
    "\n",
    "    print(f'{\"=\"*5} END OF {df_name} RESULTS FOR {dvs_type.upper()} x {ivs_type.upper()} {\"=\"*5}')\n",
    "    print('~'*80, '\\n')\n",
    "\n",
    "    return sc, df_results, df_top_coeff_p, df_std_coef_dict, df_to_save, masks_dict, sc_stats_dict\n"
   ]
  },
  {
   "cell_type": "code",
   "execution_count": 18,
   "metadata": {},
   "outputs": [
    {
     "data": {
      "application/vnd.jupyter.widget-view+json": {
       "model_id": "45c7ef4489744aecaa041d58a20eca4b",
       "version_major": 2,
       "version_minor": 0
      },
      "text/plain": [
       "interactive(children=(Dropdown(description='df_name', options=('df_jobs', 'df_jobs_agg'), value='df_jobs'), Dr…"
      ]
     },
     "metadata": {},
     "output_type": "display_data"
    },
    {
     "name": "stdout",
     "output_type": "stream",
     "text": [
      "CPU times: user 46.5 s, sys: 12.3 s, total: 58.7 s\n",
      "Wall time: 39.5 s\n"
     ]
    }
   ],
   "source": [
    "%%time\n",
    "if len(dataframes) > 1:\n",
    "    df_name = list(dataframes.keys())\n",
    "else:\n",
    "    df_name = list(dataframes.keys())[0]\n",
    "\n",
    "@interact(df_name=df_name, model_name=sm_models.keys(), dvs_type=dvs_for_analysis.keys(), ivs_type=ivs_for_analysis.keys())\n",
    "def run_sc_interactive(df_name, model_name, dvs_type, ivs_type):\n",
    "    sc, df_results, df_top_coeff_p, df_std_coef_dict, df_to_save, masks_dict, sc_stats_dict = run_sc(\n",
    "        df_name=df_name,\n",
    "        df=dataframes[df_name],\n",
    "        model_name=model_name,\n",
    "        model=sm_models[model_name],\n",
    "        dvs_type=dvs_type,\n",
    "        dvs_name=dvs_for_analysis[dvs_type][0],\n",
    "        dvs_=dvs_for_analysis[dvs_type][1],\n",
    "        ivs_type=ivs_type,\n",
    "        ivs_name=ivs_for_analysis[ivs_type][0],\n",
    "        ivs_=ivs_for_analysis[ivs_type][1],\n",
    "    )\n"
   ]
  },
  {
   "cell_type": "code",
   "execution_count": 19,
   "metadata": {},
   "outputs": [
    {
     "name": "stdout",
     "output_type": "stream",
     "text": [
      "\n",
      "\n",
      "df_jobs Running specification curve analysis with:\n",
      "DEPENDENT VARIABLES = ['Warmth_Probability', 'Competence_Probability']\n",
      "INDEPENDENT VARIABLES = ['Gender_Female', 'Gender_Mixed', 'Gender_Male', 'Gender_Female_% per Sector', 'Gender_Male_% per Sector', 'Age_Older', 'Age_Mixed', 'Age_Younger', 'Age_Older_% per Sector', 'Age_Younger_% per Sector']\n",
      "CONTROLS = ['Job Description spacy_sentencized_num_words', '% Sector per Workforce', 'Sector Job Advertisement Count', 'Keywords Count', 'English Requirement in Job Ad_Yes', 'Dutch Requirement in Job Ad_Yes']\n",
      "===== df_jobs OLS SPECIFICATION MODE RESULTS FOR df_jobs USING PROBABILITY x CATEGORIES AND PERCENTAGES =====\n",
      "\n",
      "\n",
      "Fit complete\n"
     ]
    },
    {
     "data": {
      "application/vnd.jupyter.widget-view+json": {
       "model_id": "5e1cb44c62e34a48a974000a752b7218",
       "version_major": 2,
       "version_minor": 0
      },
      "text/plain": [
       "progress-bar:   0%|          | 0/40 [00:00<?, ?it/s]"
      ]
     },
     "metadata": {},
     "output_type": "display_data"
    },
    {
     "data": {
      "application/vnd.jupyter.widget-view+json": {
       "model_id": "cbfc3f95d61f4c4289f1a85c59293637",
       "version_major": 2,
       "version_minor": 0
      },
      "text/plain": [
       "  0%|          | 0/660 [00:00<?, ?it/s]"
      ]
     },
     "metadata": {},
     "output_type": "display_data"
    },
    {
     "data": {
      "application/vnd.jupyter.widget-view+json": {
       "model_id": "84b05f077e41476ab063fa5b392ac95e",
       "version_major": 2,
       "version_minor": 0
      },
      "text/plain": [
       "  0%|          | 0/660 [00:00<?, ?it/s]"
      ]
     },
     "metadata": {},
     "output_type": "display_data"
    },
    {
     "name": "stdout",
     "output_type": "stream",
     "text": [
      "\n",
      "\n",
      "--------------------\n",
      "Warmth_Probability\n",
      "\n",
      "--------------------\n",
      "\n",
      "\n",
      "Warmth_Probability SUMMARY RESULTS:\n",
      "                                                            OLS specification curve: Probability Warmth and Competence x Categorical and PPS Gender and Age\n",
      "========================================================================================================================================================================================================================\n",
      "                                            Warmth Full Model  Warmth Model 1  Warmth Model 2  Warmth Model 3  Warmth Model 4 Warmth Model 5 Warmth Model 6 Warmth Model 7 Warmth Model 8 Warmth Model 9 Warmth Model 10\n",
      "------------------------------------------------------------------------------------------------------------------------------------------------------------------------------------------------------------------------\n",
      "Age_Mixed                                   -1232586080.74                                                                                                  0.01***                                                     \n",
      "                                            (1808211899.98)                                                                                                 (0.00)                                                      \n",
      "Age_Older                                   -1232586080.78                    -0.03***                                                                                                                                  \n",
      "                                            (1808211899.98)                   (0.00)                                                                                                                                    \n",
      "Age_Older_% per Sector                      0.02***                                                           -0.00***                                                                                                  \n",
      "                                            (0.00)                                                            (0.00)                                                                                                    \n",
      "Age_Younger                                 -1232586080.74                                                                                                                                0.02***                       \n",
      "                                            (1808211899.98)                                                                                                                               (0.00)                        \n",
      "Age_Younger_% per Sector                    0.02***                                                                                          0.00***                                                                    \n",
      "                                            (0.00)                                                                                           (0.00)                                                                     \n",
      "Gender_Female                               461302053.67                                                                                                                   0.01***                                      \n",
      "                                            (676733147.42)                                                                                                                 (0.00)                                       \n",
      "Gender_Female_% per Sector                  -0.12***                                                                          0.00***                                                                                   \n",
      "                                            (0.01)                                                                            (0.00)                                                                                    \n",
      "Gender_Male                                 461302053.67      -0.04***                                                                                                                                                  \n",
      "                                            (676733147.43)    (0.00)                                                                                                                                                    \n",
      "Gender_Male_% per Sector                    -0.12***                                          -0.00***                                                                                                                  \n",
      "                                            (0.01)                                            (0.00)                                                                                                                    \n",
      "Gender_Mixed                                461302053.70                                                                                                                                                 0.03***        \n",
      "                                            (676733147.43)                                                                                                                                               (0.00)         \n",
      "Job Description spacy_sentencized_num_words 0.01***           0.01***         0.01***         0.01***         0.01***         0.01***        0.01***        0.01***        0.01***        0.01***        0.01***        \n",
      "                                            (0.00)            (0.00)          (0.00)          (0.00)          (0.00)          (0.00)         (0.00)         (0.00)         (0.00)         (0.00)         (0.00)         \n",
      "R-squared                                   0.13              0.13            0.13            0.13            0.13            0.13           0.13           0.13           0.13           0.13           0.13           \n",
      "R-squared Adj.                              0.13              0.13            0.13            0.13            0.13            0.13           0.13           0.13           0.13           0.13           0.13           \n",
      "const                                       771284037.29      0.20***         0.19***         0.24***         0.22***         0.15***        0.13***        0.18***        0.18***        0.18***        0.18***        \n",
      "                                            (1131478752.64)   (0.00)          (0.00)          (0.00)          (0.00)          (0.00)         (0.00)         (0.00)         (0.00)         (0.00)         (0.00)         \n",
      "F                                           5158.271          22781.128       22417.699       22630.061       22294.161       22627.396      22306.532      22227.264      22232.596      22239.539      22490.600      \n",
      "F (p-value)                                 0.000             0.000           0.000           0.000           0.000           0.000          0.000          0.000          0.000          0.000          0.000          \n",
      "df_model                                    9                 2               2               2               2               2              2              2              2              2              2              \n",
      "df_resid                                    308573            308580          308580          308580          308580          308580         308580         308580         308580         308580         308580         \n",
      "df_total                                    308583            308583          308583          308583          308583          308583         308583         308583         308583         308583         308583         \n",
      "R-squared                                   0.131             0.129           0.127           0.128           0.126           0.128          0.126          0.126          0.126          0.126          0.127          \n",
      "R-squared Adj.                              0.131             0.129           0.127           0.128           0.126           0.128          0.126          0.126          0.126          0.126          0.127          \n",
      "Unstandardized Coefficent B (b)                               -0.042          -0.031          -0.001          -0.001          0.001          0.001          0.012          0.014          0.018          0.030          \n",
      "Standard Error (SE)                                           0.001           0.002           0.000           0.000           0.000          0.000          0.001          0.001          0.002          0.001          \n",
      "Standardized Coefficient b* (β)                               -0.113          -0.086          -0.002          -0.002          0.002          0.003          0.033          0.038          0.049          0.081          \n",
      "t                                                             -32.495         -20.504         -28.138         -14.296         28.055         15.034         9.349          9.835          10.434         23.407         \n",
      "t (p-value)                                                   0.000           0.000           0.000           0.000           0.000          0.000          0.000          0.000          0.000          0.000          \n",
      "95% CI                                                        -0.039 - -0.039 -0.028 - -0.028 -0.001 - -0.001 -0.001 - -0.001 0.001 - 0.001  0.001 - 0.001  0.015 - 0.015  0.017 - 0.017  0.021 - 0.021  0.032 - 0.032  \n",
      "Log-Likelihood                              -106297.258       -106672.893     -106989.894     -106804.582     -107097.799     -106806.906    -107086.989    -107156.261    -107151.601    -107145.532    -106926.254    \n",
      "Pseudo R2                                                                                                                                                                                                               \n",
      "AIC                                         212614.515        213351.787      213985.787      213615.165      214201.597      213619.813     214179.979     214318.522     214309.201     214297.064     213858.508     \n",
      "BIC                                         212720.913        213383.706      214017.706      213647.084      214233.516      213651.732     214211.898     214350.442     214341.120     214328.983     213890.427     \n",
      "ICC                                         0.000             0.000           0.000           0.000           0.000           0.000          0.000          0.000          0.000          0.000          0.000          \n",
      "RMSE                                        0.341             0.342           0.342           0.342           0.342           0.342          0.342          0.342          0.342          0.342          0.342          \n",
      "RMSE (std)                                  0.932             0.933           0.934           0.934           0.935           0.934          0.935          0.935          0.935          0.935          0.934          \n",
      "Omnibus                                     35511.618         36006.777       36310.614       36098.807       36478.529       36101.269      36464.560      36508.047      36503.943      36540.831      36327.554      \n",
      "Omnibus (p-value)                           0.000             0.000           0.000           0.000           0.000           0.000          0.000          0.000          0.000          0.000          0.000          \n",
      "Skew                                        0.716             0.717           0.719           0.717           0.720           0.717          0.720          0.719          0.718          0.719          0.720          \n",
      "Kurtosis                                    2.331             2.325           2.322           2.324           2.321           2.324          2.321          2.319          2.319          2.319          2.322          \n",
      "Jarque-Bera (JB)                            32100.117         32320.912       32487.265       32323.247       32608.875       32324.015      32605.053      32553.966      32506.584      32565.673      32555.861      \n",
      "Jarque-Bera (p-value)                       0.000             0.000           0.000           0.000           0.000           0.000          0.000          0.000          0.000          0.000          0.000          \n",
      "Model Name                                  OLS               OLS             OLS             OLS             OLS             OLS            OLS            OLS            OLS            OLS            OLS            \n",
      "N                                           308583            308583          308583          308583          308583          308583         308583         308583         308583         308583         308583         \n",
      "========================================================================================================================================================================================================================\n",
      "Standard errors in parentheses.\n",
      "* p<.1, ** p<.05, ***p<.01\n",
      "Models are ordered by coefficient size, largest to smallest.\n",
      "Standard errors in parentheses.\n",
      "* p<.1, ** p<.05, ***p<.01\n",
      "\n",
      "\n"
     ]
    },
    {
     "data": {
      "application/vnd.jupyter.widget-view+json": {
       "model_id": "f94e7dda7bfb48c19357408768244dda",
       "version_major": 2,
       "version_minor": 0
      },
      "text/plain": [
       "  0%|          | 0/660 [00:00<?, ?it/s]"
      ]
     },
     "metadata": {},
     "output_type": "display_data"
    },
    {
     "data": {
      "application/vnd.jupyter.widget-view+json": {
       "model_id": "58a51a3f14a44223b91d92364e920e27",
       "version_major": 2,
       "version_minor": 0
      },
      "text/plain": [
       "  0%|          | 0/660 [00:00<?, ?it/s]"
      ]
     },
     "metadata": {},
     "output_type": "display_data"
    },
    {
     "name": "stdout",
     "output_type": "stream",
     "text": [
      "\n",
      "\n",
      "--------------------\n",
      "Competence_Probability\n",
      "\n",
      "--------------------\n",
      "\n",
      "\n",
      "Competence_Probability SUMMARY RESULTS:\n",
      "                                                                                OLS specification curve: Probability Warmth and Competence x Categorical and PPS Gender and Age\n",
      "================================================================================================================================================================================================================================================================\n",
      "                                            Competence Full Model Competence Model 1 Competence Model 2 Competence Model 3 Competence Model 4 Competence Model 5 Competence Model 6 Competence Model 7 Competence Model 8 Competence Model 9 Competence Model 10\n",
      "----------------------------------------------------------------------------------------------------------------------------------------------------------------------------------------------------------------------------------------------------------------\n",
      "Age_Mixed                                   275309245.50                                                -0.01***                                                                                                                                                \n",
      "                                            (1893870789.89)                                             (0.00)                                                                                                                                                  \n",
      "Age_Older                                   275309245.51                                                                                                                                                                                     0.03***            \n",
      "                                            (1893870789.89)                                                                                                                                                                                  (0.00)             \n",
      "Age_Older_% per Sector                      0.01***                                                                                                                                 0.00***                                                                     \n",
      "                                            (0.00)                                                                                                                                  (0.00)                                                                      \n",
      "Age_Younger                                 275309245.47          -0.03***                                                                                                                                                                                      \n",
      "                                            (1893870789.89)       (0.00)                                                                                                                                                                                        \n",
      "Age_Younger_% per Sector                    0.01***                                                                                                              -0.00***                                                                                       \n",
      "                                            (0.00)                                                                                                               (0.00)                                                                                         \n",
      "Gender_Female                               -103035992.86                            -0.02***                                                                                                                                                                   \n",
      "                                            (708791453.30)                           (0.00)                                                                                                                                                                     \n",
      "Gender_Female_% per Sector                  0.32***                                                                                           -0.00***                                                                                                          \n",
      "                                            (0.01)                                                                                            (0.00)                                                                                                            \n",
      "Gender_Male                                 -103035992.81                                                                                                                                                                 0.03***                               \n",
      "                                            (708791453.30)                                                                                                                                                                (0.00)                                \n",
      "Gender_Male_% per Sector                    0.32***                                                                                                                                                    0.00***                                                  \n",
      "                                            (0.01)                                                                                                                                                     (0.00)                                                   \n",
      "Gender_Mixed                                -103035992.80                                                                  -0.01***                                                                                                                             \n",
      "                                            (708791453.30)                                                                 (0.00)                                                                                                                               \n",
      "Job Description spacy_sentencized_num_words 0.01***               0.01***            0.01***            0.01***            0.01***            0.01***            0.01***            0.01***            0.01***            0.01***            0.01***            \n",
      "                                            (0.00)                (0.00)             (0.00)             (0.00)             (0.00)             (0.00)             (0.00)             (0.00)             (0.00)             (0.00)             (0.00)             \n",
      "R-squared                                   0.11                  0.10               0.10               0.10               0.10               0.10               0.10               0.10               0.10               0.10               0.10               \n",
      "R-squared Adj.                              0.11                  0.10               0.10               0.10               0.10               0.10               0.10               0.10               0.10               0.10               0.10               \n",
      "const                                       -172273285.15         0.33***            0.33***            0.33***            0.32***            0.36***            0.37***            0.29***            0.28***            0.31***            0.32***            \n",
      "                                            (1185079336.68)       (0.00)             (0.00)             (0.00)             (0.00)             (0.00)             (0.00)             (0.00)             (0.00)             (0.00)             (0.00)             \n",
      "F                                           4041.810              17158.574          17191.991          17058.730          17052.797          17423.324          17115.965          17138.262          17426.869          17258.081          17263.840          \n",
      "F (p-value)                                 0.000                 0.000              0.000              0.000              0.000              0.000              0.000              0.000              0.000              0.000              0.000              \n",
      "df_model                                    9                     2                  2                  2                  2                  2                  2                  2                  2                  2                  2                  \n",
      "df_resid                                    308573                308580             308580             308580             308580             308580             308580             308580             308580             308580             308580             \n",
      "df_total                                    308583                308583             308583             308583             308583             308583             308583             308583             308583             308583             308583             \n",
      "R-squared                                   0.105                 0.100              0.100              0.100              0.100              0.101              0.100              0.100              0.101              0.101              0.101              \n",
      "R-squared Adj.                              0.105                 0.100              0.100              0.100              0.100              0.101              0.100              0.100              0.101              0.101              0.101              \n",
      "Unstandardized Coefficent B (b)                                   -0.026             -0.025             -0.008             -0.006             -0.001             -0.001             0.001              0.001              0.027              0.032              \n",
      "Standard Error (SE)                                               0.002              0.001              0.001              0.001              0.000              0.000              0.000              0.000              0.001              0.002              \n",
      "Standardized Coefficient b* (β)                                   -0.069             -0.065             -0.021             -0.017             -0.002             -0.002             0.002              0.002              0.070              0.085              \n",
      "t                                                                 -14.627            -16.557            -5.840             -4.840             -26.283            -11.713            13.317             26.404             19.828             20.088             \n",
      "t (p-value)                                                       0.000              0.000              0.000              0.000              0.000              0.000              0.000              0.000              0.000              0.000              \n",
      "95% CI                                                            -0.023 - -0.023    -0.022 - -0.022    -0.005 - -0.005    -0.004 - -0.004    -0.001 - -0.001    -0.001 - -0.001    0.001 - 0.001      0.001 - 0.001      0.029 - 0.029      0.035 - 0.035      \n",
      "Log-Likelihood                              -120579.810           -121503.949        -121473.880        -121593.829        -121599.171        -121265.877        -121542.300        -121522.230        -121262.692        -121414.426        -121409.247        \n",
      "Pseudo R2                                                                                                                                                                                                                                                       \n",
      "AIC                                         241179.621            243013.899         242953.760         243193.657         243204.342         242537.754         243090.600         243050.460         242531.384         242834.852         242824.493         \n",
      "BIC                                         241286.018            243045.818         242985.679         243225.577         243236.261         242569.673         243122.519         243082.379         242563.303         242866.772         242856.413         \n",
      "ICC                                         0.000                 0.000              0.000              0.000              0.000              0.000              0.000              0.000              0.000              0.000              0.000              \n",
      "RMSE                                        0.358                 0.359              0.359              0.359              0.359              0.358              0.359              0.359              0.358              0.359              0.359              \n",
      "RMSE (std)                                  0.946                 0.949              0.949              0.949              0.949              0.948              0.949              0.949              0.948              0.948              0.948              \n",
      "Omnibus                                     1878566.203           1803851.783        1814616.850        1804345.067        1801053.856        1830599.708        1802129.198        1803309.101        1830836.364        1815009.305        1817224.319        \n",
      "Omnibus (p-value)                           0.000                 0.000              0.000              0.000              0.000              0.000              0.000              0.000              0.000              0.000              0.000              \n",
      "Skew                                        0.096                 0.095              0.095              0.094              0.094              0.096              0.095              0.095              0.096              0.095              0.095              \n",
      "Kurtosis                                    1.505                 1.490              1.492              1.490              1.489              1.495              1.489              1.489              1.495              1.492              1.493              \n",
      "Jarque-Bera (JB)                            29205.782             29802.108          29706.901          29784.330          29815.583          29578.401          29810.035          29799.600          29576.544          29704.775          29680.830          \n",
      "Jarque-Bera (p-value)                       0.000                 0.000              0.000              0.000              0.000              0.000              0.000              0.000              0.000              0.000              0.000              \n",
      "Model Name                                  OLS                   OLS                OLS                OLS                OLS                OLS                OLS                OLS                OLS                OLS                OLS                \n",
      "N                                           308583                308583             308583             308583             308583             308583             308583             308583             308583             308583             308583             \n",
      "================================================================================================================================================================================================================================================================\n",
      "Standard errors in parentheses.\n",
      "* p<.1, ** p<.05, ***p<.01\n",
      "Models are ordered by coefficient size, largest to smallest.\n",
      "Standard errors in parentheses.\n",
      "* p<.1, ** p<.05, ***p<.01\n",
      "\n",
      "\n"
     ]
    },
    {
     "data": {
      "application/vnd.jupyter.widget-view+json": {
       "model_id": "f7e031f9697e406bb9c7274a740e5931",
       "version_major": 2,
       "version_minor": 0
      },
      "text/plain": [
       "progress-bar:   0%|          | 0/40 [00:00<?, ?it/s]"
      ]
     },
     "metadata": {},
     "output_type": "display_data"
    },
    {
     "data": {
      "application/vnd.jupyter.widget-view+json": {
       "model_id": "b7fdc373d2974c9190e50f415503ff22",
       "version_major": 2,
       "version_minor": 0
      },
      "text/plain": [
       "progress-bar:   0%|          | 0/40 [00:00<?, ?it/s]"
      ]
     },
     "metadata": {},
     "output_type": "display_data"
    },
    {
     "data": {
      "application/vnd.jupyter.widget-view+json": {
       "model_id": "b7ae50cb49aa4c70b43e0655ec8fc1ae",
       "version_major": 2,
       "version_minor": 0
      },
      "text/plain": [
       "progress-bar:   0%|          | 0/40 [00:00<?, ?it/s]"
      ]
     },
     "metadata": {},
     "output_type": "display_data"
    },
    {
     "data": {
      "application/vnd.jupyter.widget-view+json": {
       "model_id": "e3b646899a5e481b92a2f1b1022c77bb",
       "version_major": 2,
       "version_minor": 0
      },
      "text/plain": [
       "progress-bar:   0%|          | 0/40 [00:00<?, ?it/s]"
      ]
     },
     "metadata": {},
     "output_type": "display_data"
    },
    {
     "data": {
      "application/vnd.jupyter.widget-view+json": {
       "model_id": "e3c906276b694b22bbff5f8ac1839714",
       "version_major": 2,
       "version_minor": 0
      },
      "text/plain": [
       "progress-bar:   0%|          | 0/40 [00:00<?, ?it/s]"
      ]
     },
     "metadata": {},
     "output_type": "display_data"
    },
    {
     "data": {
      "application/vnd.jupyter.widget-view+json": {
       "model_id": "ee0c94d12666434899b89c26acdcb4bd",
       "version_major": 2,
       "version_minor": 0
      },
      "text/plain": [
       "progress-bar:   0%|          | 0/40 [00:00<?, ?it/s]"
      ]
     },
     "metadata": {},
     "output_type": "display_data"
    },
    {
     "data": {
      "application/vnd.jupyter.widget-view+json": {
       "model_id": "3c0456de9e12476bb22774253d95291f",
       "version_major": 2,
       "version_minor": 0
      },
      "text/plain": [
       "progress-bar:   0%|          | 0/40 [00:00<?, ?it/s]"
      ]
     },
     "metadata": {},
     "output_type": "display_data"
    },
    {
     "data": {
      "application/vnd.jupyter.widget-view+json": {
       "model_id": "3a359dc6a7fa411f8c11b0a0466eae83",
       "version_major": 2,
       "version_minor": 0
      },
      "text/plain": [
       "progress-bar:   0%|          | 0/40 [00:00<?, ?it/s]"
      ]
     },
     "metadata": {},
     "output_type": "display_data"
    },
    {
     "data": {
      "application/vnd.jupyter.widget-view+json": {
       "model_id": "0af35dc2dbad4eb8894182abc37eabca",
       "version_major": 2,
       "version_minor": 0
      },
      "text/plain": [
       "  0%|          | 0/12 [00:00<?, ?it/s]"
      ]
     },
     "metadata": {},
     "output_type": "display_data"
    },
    {
     "data": {
      "application/vnd.jupyter.widget-view+json": {
       "model_id": "0375d488604f4be0ae0f657d9ee23e1b",
       "version_major": 2,
       "version_minor": 0
      },
      "text/plain": [
       "progress-bar:   0%|          | 0/40 [00:00<?, ?it/s]"
      ]
     },
     "metadata": {},
     "output_type": "display_data"
    },
    {
     "data": {
      "application/vnd.jupyter.widget-view+json": {
       "model_id": "4deb211d20b142ae81d8d84bec98396a",
       "version_major": 2,
       "version_minor": 0
      },
      "text/plain": [
       "progress-bar:   0%|          | 0/40 [00:00<?, ?it/s]"
      ]
     },
     "metadata": {},
     "output_type": "display_data"
    },
    {
     "data": {
      "application/vnd.jupyter.widget-view+json": {
       "model_id": "ddf5472cce804b258662fa7b051f10c0",
       "version_major": 2,
       "version_minor": 0
      },
      "text/plain": [
       "progress-bar:   0%|          | 0/40 [00:00<?, ?it/s]"
      ]
     },
     "metadata": {},
     "output_type": "display_data"
    },
    {
     "data": {
      "application/vnd.jupyter.widget-view+json": {
       "model_id": "c2b50154b40845d5994a5d9de6b43d29",
       "version_major": 2,
       "version_minor": 0
      },
      "text/plain": [
       "progress-bar:   0%|          | 0/40 [00:00<?, ?it/s]"
      ]
     },
     "metadata": {},
     "output_type": "display_data"
    },
    {
     "data": {
      "application/vnd.jupyter.widget-view+json": {
       "model_id": "6792907ee42a48bab6c97f6020df248e",
       "version_major": 2,
       "version_minor": 0
      },
      "text/plain": [
       "progress-bar:   0%|          | 0/40 [00:00<?, ?it/s]"
      ]
     },
     "metadata": {},
     "output_type": "display_data"
    },
    {
     "data": {
      "application/vnd.jupyter.widget-view+json": {
       "model_id": "8c8f9b7506db4d5fb19b28e4170b48f4",
       "version_major": 2,
       "version_minor": 0
      },
      "text/plain": [
       "progress-bar:   0%|          | 0/40 [00:00<?, ?it/s]"
      ]
     },
     "metadata": {},
     "output_type": "display_data"
    },
    {
     "data": {
      "application/vnd.jupyter.widget-view+json": {
       "model_id": "bfa830daa42e44cd8f94ae78801a7bd2",
       "version_major": 2,
       "version_minor": 0
      },
      "text/plain": [
       "progress-bar:   0%|          | 0/40 [00:00<?, ?it/s]"
      ]
     },
     "metadata": {},
     "output_type": "display_data"
    },
    {
     "data": {
      "application/vnd.jupyter.widget-view+json": {
       "model_id": "ce3e35f78ec1466c972e92f5e98652d3",
       "version_major": 2,
       "version_minor": 0
      },
      "text/plain": [
       "progress-bar:   0%|          | 0/40 [00:00<?, ?it/s]"
      ]
     },
     "metadata": {},
     "output_type": "display_data"
    },
    {
     "data": {
      "application/vnd.jupyter.widget-view+json": {
       "model_id": "388fb5517deb41a2974b4b0f46553060",
       "version_major": 2,
       "version_minor": 0
      },
      "text/plain": [
       "progress-bar:   0%|          | 0/40 [00:00<?, ?it/s]"
      ]
     },
     "metadata": {},
     "output_type": "display_data"
    },
    {
     "data": {
      "application/vnd.jupyter.widget-view+json": {
       "model_id": "13d101615d064e03ba0d3c92a84dc144",
       "version_major": 2,
       "version_minor": 0
      },
      "text/plain": [
       "progress-bar:   0%|          | 0/40 [00:00<?, ?it/s]"
      ]
     },
     "metadata": {},
     "output_type": "display_data"
    },
    {
     "data": {
      "application/vnd.jupyter.widget-view+json": {
       "model_id": "d3218db5a1c5426bb498a9f001ed5e25",
       "version_major": 2,
       "version_minor": 0
      },
      "text/plain": [
       "progress-bar:   0%|          | 0/40 [00:00<?, ?it/s]"
      ]
     },
     "metadata": {},
     "output_type": "display_data"
    },
    {
     "data": {
      "application/vnd.jupyter.widget-view+json": {
       "model_id": "eb5a6897b1ba47198d7d2ae1c75cff35",
       "version_major": 2,
       "version_minor": 0
      },
      "text/plain": [
       "progress-bar:   0%|          | 0/40 [00:00<?, ?it/s]"
      ]
     },
     "metadata": {},
     "output_type": "display_data"
    },
    {
     "data": {
      "application/vnd.jupyter.widget-view+json": {
       "model_id": "d842d8cee2d547e1bbfda8de2a0f62c3",
       "version_major": 2,
       "version_minor": 0
      },
      "text/plain": [
       "progress-bar:   0%|          | 0/40 [00:00<?, ?it/s]"
      ]
     },
     "metadata": {},
     "output_type": "display_data"
    },
    {
     "data": {
      "application/vnd.jupyter.widget-view+json": {
       "model_id": "219287760799457498950330fb0be3fd",
       "version_major": 2,
       "version_minor": 0
      },
      "text/plain": [
       "progress-bar:   0%|          | 0/40 [00:00<?, ?it/s]"
      ]
     },
     "metadata": {},
     "output_type": "display_data"
    },
    {
     "data": {
      "application/vnd.jupyter.widget-view+json": {
       "model_id": "4fc0b701d4a1472bb45f13cb6c95beb2",
       "version_major": 2,
       "version_minor": 0
      },
      "text/plain": [
       "progress-bar:   0%|          | 0/40 [00:00<?, ?it/s]"
      ]
     },
     "metadata": {},
     "output_type": "display_data"
    },
    {
     "name": "stdout",
     "output_type": "stream",
     "text": [
      "===== SCA WARMTH =====\n",
      "Total number of specification: 40\n",
      "Total number of variables: 13\n",
      "Share of significant effects for warmth: 0.950 - 19/20\n",
      "Share of significant effects p-value: 0.000\n",
      "Stoutffer Z: 80.192\n",
      "Stoutffer p-value: 0.000\n",
      "--------------------\n",
      "\n",
      "\n",
      "===== SCA COMPETENCE =====\n",
      "Total number of specification: 40\n",
      "Total number of variables: 13\n",
      "Share of significant effects for competence: 0.950 - 19/20\n",
      "Share of significant effects p-value: 0.000\n",
      "Stoutffer Z: 71.565\n",
      "Stoutffer p-value: 0.000\n",
      "--------------------\n",
      "\n",
      "\n",
      "===== SCA FEMALE =====\n",
      "Total number of specification: 40\n",
      "Total number of variables: 13\n",
      "Share of significant effects for female: 0.875 - 7/8\n",
      "Share of significant effects p-value: 0.000\n",
      "Stoutffer Z: 54.420\n",
      "Stoutffer p-value: 0.000\n",
      "--------------------\n",
      "\n",
      "\n",
      "===== SCA MALE =====\n",
      "Total number of specification: 40\n",
      "Total number of variables: 13\n",
      "Share of significant effects for male: 1.000 - 8/8\n",
      "Share of significant effects p-value: 0.000\n",
      "Stoutffer Z: 72.971\n",
      "Stoutffer p-value: 0.000\n",
      "--------------------\n",
      "\n",
      "\n",
      "===== SCA GENDER_MIXED =====\n",
      "Total number of specification: 40\n",
      "Total number of variables: 13\n",
      "Share of significant effects for gender_mixed: 0.750 - 3/4\n",
      "Share of significant effects p-value: 0.051\n",
      "Stoutffer Z: 28.395\n",
      "Stoutffer p-value: 0.000\n",
      "--------------------\n",
      "\n",
      "\n",
      "===== SCA OLDER =====\n",
      "Total number of specification: 40\n",
      "Total number of variables: 13\n",
      "Share of significant effects for older: 1.000 - 8/8\n",
      "Share of significant effects p-value: 0.000\n",
      "Stoutffer Z: 46.730\n",
      "Stoutffer p-value: 0.000\n",
      "--------------------\n",
      "\n",
      "\n",
      "===== SCA YOUNGER =====\n",
      "Total number of specification: 40\n",
      "Total number of variables: 13\n",
      "Share of significant effects for younger: 1.000 - 8/8\n",
      "Share of significant effects p-value: 0.000\n",
      "Stoutffer Z: 35.669\n",
      "Stoutffer p-value: 0.000\n",
      "--------------------\n",
      "\n",
      "\n",
      "===== SCA AGE_MIXED =====\n",
      "Total number of specification: 40\n",
      "Total number of variables: 13\n",
      "Share of significant effects for age_mixed: 1.000 - 4/4\n",
      "Share of significant effects p-value: 0.004\n",
      "Stoutffer Z: 14.256\n",
      "Stoutffer p-value: 0.000\n",
      "--------------------\n",
      "\n",
      "\n",
      "===== SCA FEMALE_WARMTH =====\n",
      "Total number of specification: 40\n",
      "Total number of variables: 13\n",
      "Share of significant effects for female_warmth: 0.750 - 3/4\n",
      "Share of significant effects p-value: 0.051\n",
      "Stoutffer Z: 29.363\n",
      "Stoutffer p-value: 0.000\n",
      "--------------------\n",
      "\n",
      "\n",
      "===== SCA FEMALE_COMPETENCE =====\n",
      "Total number of specification: 40\n",
      "Total number of variables: 13\n",
      "Share of significant effects for female_competence: 1.000 - 4/4\n",
      "Share of significant effects p-value: 0.004\n",
      "Stoutffer Z: 47.598\n",
      "Stoutffer p-value: 0.000\n",
      "--------------------\n",
      "\n",
      "\n",
      "===== SCA MALE_WARMTH =====\n",
      "Total number of specification: 40\n",
      "Total number of variables: 13\n",
      "Share of significant effects for male_warmth: 1.000 - 4/4\n",
      "Share of significant effects p-value: 0.004\n",
      "Stoutffer Z: 55.537\n",
      "Stoutffer p-value: 0.000\n",
      "--------------------\n",
      "\n",
      "\n",
      "===== SCA MALE_COMPETENCE =====\n",
      "Total number of specification: 40\n",
      "Total number of variables: 13\n",
      "Share of significant effects for male_competence: 1.000 - 4/4\n",
      "Share of significant effects p-value: 0.004\n",
      "Stoutffer Z: 47.659\n",
      "Stoutffer p-value: 0.000\n",
      "--------------------\n",
      "\n",
      "\n",
      "===== SCA GENDER_MIXED_WARMTH =====\n",
      "Total number of specification: 40\n",
      "Total number of variables: 13\n",
      "Share of significant effects for gender_mixed_warmth: 1.000 - 2/2\n",
      "Share of significant effects p-value: 0.250\n",
      "Stoutffer Z: 36.453\n",
      "Stoutffer p-value: 0.000\n",
      "--------------------\n",
      "\n",
      "\n",
      "===== SCA GENDER_MIXED_COMPETENCE =====\n",
      "Total number of specification: 40\n",
      "Total number of variables: 13\n",
      "Share of significant effects for gender_mixed_competence: 0.500 - 1/2\n",
      "Share of significant effects p-value: 0.750\n",
      "Stoutffer Z: 3.704\n",
      "Stoutffer p-value: 0.000\n",
      "--------------------\n",
      "\n",
      "\n",
      "===== SCA OLDER_WARMTH =====\n",
      "Total number of specification: 40\n",
      "Total number of variables: 13\n",
      "Share of significant effects for older_warmth: 1.000 - 4/4\n",
      "Share of significant effects p-value: 0.004\n",
      "Stoutffer Z: 34.162\n",
      "Stoutffer p-value: 0.000\n",
      "--------------------\n",
      "\n",
      "\n",
      "===== SCA OLDER_COMPETENCE =====\n",
      "Total number of specification: 40\n",
      "Total number of variables: 13\n",
      "Share of significant effects for older_competence: 1.000 - 4/4\n",
      "Share of significant effects p-value: 0.004\n",
      "Stoutffer Z: 31.925\n",
      "Stoutffer p-value: 0.000\n",
      "--------------------\n",
      "\n",
      "\n",
      "===== SCA YOUNGER_WARMTH =====\n",
      "Total number of specification: 40\n",
      "Total number of variables: 13\n",
      "Share of significant effects for younger_warmth: 1.000 - 4/4\n",
      "Share of significant effects p-value: 0.004\n",
      "Stoutffer Z: 27.940\n",
      "Stoutffer p-value: 0.000\n",
      "--------------------\n",
      "\n",
      "\n",
      "===== SCA YOUNGER_COMPETENCE =====\n",
      "Total number of specification: 40\n",
      "Total number of variables: 13\n",
      "Share of significant effects for younger_competence: 1.000 - 4/4\n",
      "Share of significant effects p-value: 0.004\n",
      "Stoutffer Z: 22.504\n",
      "Stoutffer p-value: 0.000\n",
      "--------------------\n",
      "\n",
      "\n",
      "===== SCA AGE_MIXED_WARMTH =====\n",
      "Total number of specification: 40\n",
      "Total number of variables: 13\n",
      "Share of significant effects for age_mixed_warmth: 1.000 - 2/2\n",
      "Share of significant effects p-value: 0.250\n",
      "Stoutffer Z: 9.244\n",
      "Stoutffer p-value: 0.000\n",
      "--------------------\n",
      "\n",
      "\n",
      "===== SCA AGE_MIXED_COMPETENCE =====\n",
      "Total number of specification: 40\n",
      "Total number of variables: 13\n",
      "Share of significant effects for age_mixed_competence: 1.000 - 2/2\n",
      "Share of significant effects p-value: 0.250\n",
      "Stoutffer Z: 10.917\n",
      "Stoutffer p-value: 0.000\n",
      "--------------------\n",
      "\n",
      "\n",
      "===== SCA GENDER =====\n",
      "Total number of specification: 40\n",
      "Total number of variables: 13\n",
      "Share of significant effects for gender: 0.900 - 18/20\n",
      "Share of significant effects p-value: 0.000\n",
      "Stoutffer Z: 93.268\n",
      "Stoutffer p-value: 0.000\n",
      "--------------------\n",
      "\n",
      "\n",
      "===== SCA GENDER_WARMTH =====\n",
      "Total number of specification: 40\n",
      "Total number of variables: 13\n",
      "Share of significant effects for gender_warmth: 0.900 - 9/10\n",
      "Share of significant effects p-value: 0.000\n",
      "Stoutffer Z: 69.998\n",
      "Stoutffer p-value: 0.000\n",
      "--------------------\n",
      "\n",
      "\n",
      "===== SCA GENDER_COMPETENCE =====\n",
      "Total number of specification: 40\n",
      "Total number of variables: 13\n",
      "Share of significant effects for gender_competence: 0.900 - 9/10\n",
      "Share of significant effects p-value: 0.000\n",
      "Stoutffer Z: 61.902\n",
      "Stoutffer p-value: 0.000\n",
      "--------------------\n",
      "\n",
      "\n",
      "===== SCA AGE =====\n",
      "Total number of specification: 40\n",
      "Total number of variables: 13\n",
      "Share of significant effects for age: 1.000 - 20/20\n",
      "Share of significant effects p-value: 0.000\n",
      "Stoutffer Z: 58.489\n",
      "Stoutffer p-value: 0.000\n",
      "--------------------\n",
      "\n",
      "\n",
      "===== SCA AGE_WARMTH =====\n",
      "Total number of specification: 40\n",
      "Total number of variables: 13\n",
      "Share of significant effects for age_warmth: 1.000 - 10/10\n",
      "Share of significant effects p-value: 0.000\n",
      "Stoutffer Z: 43.410\n",
      "Stoutffer p-value: 0.000\n",
      "--------------------\n",
      "\n",
      "\n",
      "===== SCA AGE_COMPETENCE =====\n",
      "Total number of specification: 40\n",
      "Total number of variables: 13\n",
      "Share of significant effects for age_competence: 1.000 - 10/10\n",
      "Share of significant effects p-value: 0.000\n",
      "Stoutffer Z: 39.306\n",
      "Stoutffer p-value: 0.000\n",
      "--------------------\n",
      "\n",
      "\n",
      "===== SCA INTERACTIONS =====\n",
      "Total number of specification: 40\n",
      "Total number of variables: 13\n",
      "Share of significant effects for interactions: 1.000 - 10/0\n",
      "Share of significant effects p-value: 0.000\n",
      "Stoutffer Z: 39.306\n",
      "Stoutffer p-value: 0.000\n",
      "--------------------\n",
      "\n",
      "\n",
      "===== SCA INTERACTIONS_WARMTH =====\n",
      "Total number of specification: 40\n",
      "Total number of variables: 13\n",
      "Share of significant effects for interactions_warmth: 1.000 - 10/0\n",
      "Share of significant effects p-value: 0.000\n",
      "Stoutffer Z: 39.306\n",
      "Stoutffer p-value: 0.000\n",
      "--------------------\n",
      "\n",
      "\n",
      "===== SCA INTERACTIONS_COMPETENCE =====\n",
      "Total number of specification: 40\n",
      "Total number of variables: 13\n",
      "Share of significant effects for interactions_competence: 1.000 - 10/0\n",
      "Share of significant effects p-value: 0.000\n",
      "Stoutffer Z: 39.306\n",
      "Stoutffer p-value: 0.000\n",
      "--------------------\n",
      "\n",
      "\n",
      "\n",
      "\n",
      "++++++++++++++++++++\n",
      "Warmth_Probability x Gender_Male\n",
      "\n",
      "++++++++++++++++++++\n",
      " OLS: Probability Warmth and Competence x Categorical and PPS Gender and Age  \n",
      "==============================================================================\n",
      "Dep. Variable:     Warmth_Probability   R-squared:                       0.129\n",
      "Model:                            OLS   Adj. R-squared:                  0.129\n",
      "Method:                 Least Squares   F-statistic:                 2.278e+04\n",
      "Date:                Wed, 10 Apr 2024   Prob (F-statistic):               0.00\n",
      "Time:                        11:38:56   Log-Likelihood:            -1.0667e+05\n",
      "No. Observations:              308583   AIC:                         2.134e+05\n",
      "Df Residuals:                  308580   BIC:                         2.134e+05\n",
      "Df Model:                           2                                         \n",
      "Covariance Type:            nonrobust                                         \n",
      "===============================================================================================================\n",
      "                                                  coef    std err          t      P>|t|      [0.025      0.975]\n",
      "---------------------------------------------------------------------------------------------------------------\n",
      "Gender_Male                                    -0.0415      0.001    -32.495      0.000      -0.044      -0.039\n",
      "Job Description spacy_sentencized_num_words     0.0079   3.74e-05    211.233      0.000       0.008       0.008\n",
      "const                                           0.2022      0.001    199.333      0.000       0.200       0.204\n",
      "==============================================================================\n",
      "Omnibus:                    36006.777   Durbin-Watson:                   1.554\n",
      "Prob(Omnibus):                  0.000   Jarque-Bera (JB):            32320.912\n",
      "Skew:                           0.717   Prob(JB):                         0.00\n",
      "Kurtosis:                       2.325   Cond. No.                         55.4\n",
      "==============================================================================\n",
      "\n",
      "Notes:\n",
      "[1] Standard Errors assume that the covariance matrix of the errors is correctly specified.\n"
     ]
    },
    {
     "data": {
      "application/vnd.jupyter.widget-view+json": {
       "model_id": "c06ee01340b54ed4b651476ca9196655",
       "version_major": 2,
       "version_minor": 0
      },
      "text/plain": [
       "progress-bar:   0%|          | 0/3 [00:00<?, ?it/s]"
      ]
     },
     "metadata": {},
     "output_type": "display_data"
    },
    {
     "data": {
      "application/vnd.jupyter.widget-view+json": {
       "model_id": "392f3868f6fa480da93ba44e67bd62ae",
       "version_major": 2,
       "version_minor": 0
      },
      "text/plain": [
       "progress-bar:   0%|          | 0/3 [00:00<?, ?it/s]"
      ]
     },
     "metadata": {},
     "output_type": "display_data"
    },
    {
     "data": {
      "application/vnd.jupyter.widget-view+json": {
       "model_id": "3ab5abf6f0f94836976bf24d9dbbdfb5",
       "version_major": 2,
       "version_minor": 0
      },
      "text/plain": [
       "progress-bar:   0%|          | 0/3 [00:00<?, ?it/s]"
      ]
     },
     "metadata": {},
     "output_type": "display_data"
    },
    {
     "data": {
      "application/vnd.jupyter.widget-view+json": {
       "model_id": "63ee9e41bb9f4dc8958a0416e980eeb1",
       "version_major": 2,
       "version_minor": 0
      },
      "text/plain": [
       "progress-bar:   0%|          | 0/3 [00:00<?, ?it/s]"
      ]
     },
     "metadata": {},
     "output_type": "display_data"
    },
    {
     "data": {
      "application/vnd.jupyter.widget-view+json": {
       "model_id": "fa3af1675b8342779aec7e14c84f13b5",
       "version_major": 2,
       "version_minor": 0
      },
      "text/plain": [
       "progress-bar:   0%|          | 0/3 [00:00<?, ?it/s]"
      ]
     },
     "metadata": {},
     "output_type": "display_data"
    },
    {
     "data": {
      "application/vnd.jupyter.widget-view+json": {
       "model_id": "57341bb0419e410291916a2923cc81b9",
       "version_major": 2,
       "version_minor": 0
      },
      "text/plain": [
       "progress-bar:   0%|          | 0/3 [00:00<?, ?it/s]"
      ]
     },
     "metadata": {},
     "output_type": "display_data"
    },
    {
     "data": {
      "application/vnd.jupyter.widget-view+json": {
       "model_id": "6c7090388f7d45e4905eee6a8aaee272",
       "version_major": 2,
       "version_minor": 0
      },
      "text/plain": [
       "progress-bar:   0%|          | 0/3 [00:00<?, ?it/s]"
      ]
     },
     "metadata": {},
     "output_type": "display_data"
    },
    {
     "name": "stdout",
     "output_type": "stream",
     "text": [
      "++++++++++++++++++++++++++++++++++++++++++++++++++\n",
      "~~~~~~~~~~~~~~~~~~~~\n",
      "STANDARDIZED BETA REGRESSION COEFFICIENTS FOR Warmth_Probability x Gender_Male:\n",
      "                    Variable                   Unstandardized Coefficent B (b) Standard Error Standardized Coefficient b* (β)  t-value   p-value  95% CI Lower 95% CI Upper\n",
      "0                                  Gender_Male             -0.04153                0.00128                -0.08622             -32.49494  0.00000   -0.04403     -0.03902  \n",
      "1  Job Description spacy_sentencized_num_words              0.00791                0.00004                 0.00048             211.23271  0.00000    0.00784      0.00798  \n",
      "2                                        const              0.20225                0.00101                     inf             199.33312  0.00000    0.20026      0.20424  \n",
      "--------------------\n",
      "MEANS FOR Warmth_Probability x Gender_Male:\n",
      "     A     B   mean(A)  mean(B)  diff   se     T       df      pval  eta-square\n",
      "0 0.000 1.000  0.341    0.302   0.039 0.001 28.983 242417.407 0.000    0.003   \n",
      "--------------------\n",
      "~~~~~~~~~~~~~~~~~~~~\n",
      "\n",
      "\n",
      "++++++++++++++++++++\n",
      "Competence_Probability x Gender_Female\n",
      "\n",
      "++++++++++++++++++++\n",
      "   OLS: Probability Warmth and Competence x Categorical and PPS Gender and Age    \n",
      "==================================================================================\n",
      "Dep. Variable:     Competence_Probability   R-squared:                       0.100\n",
      "Model:                                OLS   Adj. R-squared:                  0.100\n",
      "Method:                     Least Squares   F-statistic:                 1.719e+04\n",
      "Date:                    Wed, 10 Apr 2024   Prob (F-statistic):               0.00\n",
      "Time:                            11:38:57   Log-Likelihood:            -1.2147e+05\n",
      "No. Observations:                  308583   AIC:                         2.430e+05\n",
      "Df Residuals:                      308580   BIC:                         2.430e+05\n",
      "Df Model:                               2                                         \n",
      "Covariance Type:                nonrobust                                         \n",
      "===============================================================================================================\n",
      "                                                  coef    std err          t      P>|t|      [0.025      0.975]\n",
      "---------------------------------------------------------------------------------------------------------------\n",
      "Gender_Female                                  -0.0246      0.001    -16.557      0.000      -0.028      -0.022\n",
      "Job Description spacy_sentencized_num_words     0.0072   3.93e-05    183.750      0.000       0.007       0.007\n",
      "const                                           0.3292      0.001    318.959      0.000       0.327       0.331\n",
      "==============================================================================\n",
      "Omnibus:                  1814616.850   Durbin-Watson:                   1.237\n",
      "Prob(Omnibus):                  0.000   Jarque-Bera (JB):            29706.901\n",
      "Skew:                           0.095   Prob(JB):                         0.00\n",
      "Kurtosis:                       1.492   Cond. No.                         58.7\n",
      "==============================================================================\n",
      "\n",
      "Notes:\n",
      "[1] Standard Errors assume that the covariance matrix of the errors is correctly specified.\n"
     ]
    },
    {
     "data": {
      "application/vnd.jupyter.widget-view+json": {
       "model_id": "639ba835d63e4ba4b5bf5f7d2b29c6c0",
       "version_major": 2,
       "version_minor": 0
      },
      "text/plain": [
       "progress-bar:   0%|          | 0/3 [00:00<?, ?it/s]"
      ]
     },
     "metadata": {},
     "output_type": "display_data"
    },
    {
     "data": {
      "application/vnd.jupyter.widget-view+json": {
       "model_id": "cf664fba6d4e41a9832cfedf602ef89d",
       "version_major": 2,
       "version_minor": 0
      },
      "text/plain": [
       "progress-bar:   0%|          | 0/3 [00:00<?, ?it/s]"
      ]
     },
     "metadata": {},
     "output_type": "display_data"
    },
    {
     "data": {
      "application/vnd.jupyter.widget-view+json": {
       "model_id": "b991eecdb3594f0bb353ae58db1476b2",
       "version_major": 2,
       "version_minor": 0
      },
      "text/plain": [
       "progress-bar:   0%|          | 0/3 [00:00<?, ?it/s]"
      ]
     },
     "metadata": {},
     "output_type": "display_data"
    },
    {
     "data": {
      "application/vnd.jupyter.widget-view+json": {
       "model_id": "c28df54b8aff4f51b345bf13368971f2",
       "version_major": 2,
       "version_minor": 0
      },
      "text/plain": [
       "progress-bar:   0%|          | 0/3 [00:00<?, ?it/s]"
      ]
     },
     "metadata": {},
     "output_type": "display_data"
    },
    {
     "data": {
      "application/vnd.jupyter.widget-view+json": {
       "model_id": "7264c2c3d87c4373b5e37411c7c66dcc",
       "version_major": 2,
       "version_minor": 0
      },
      "text/plain": [
       "progress-bar:   0%|          | 0/3 [00:00<?, ?it/s]"
      ]
     },
     "metadata": {},
     "output_type": "display_data"
    },
    {
     "data": {
      "application/vnd.jupyter.widget-view+json": {
       "model_id": "8dd0d7f7edec424189e6df11615c0724",
       "version_major": 2,
       "version_minor": 0
      },
      "text/plain": [
       "progress-bar:   0%|          | 0/3 [00:00<?, ?it/s]"
      ]
     },
     "metadata": {},
     "output_type": "display_data"
    },
    {
     "data": {
      "application/vnd.jupyter.widget-view+json": {
       "model_id": "b671351507a1457d82a35bdfe9c2264f",
       "version_major": 2,
       "version_minor": 0
      },
      "text/plain": [
       "progress-bar:   0%|          | 0/3 [00:00<?, ?it/s]"
      ]
     },
     "metadata": {},
     "output_type": "display_data"
    },
    {
     "name": "stdout",
     "output_type": "stream",
     "text": [
      "++++++++++++++++++++++++++++++++++++++++++++++++++\n",
      "~~~~~~~~~~~~~~~~~~~~\n",
      "STANDARDIZED BETA REGRESSION COEFFICIENTS FOR Competence_Probability x Gender_Female:\n",
      "                    Variable                   Unstandardized Coefficent B (b) Standard Error Standardized Coefficient b* (β)  t-value   p-value  95% CI Lower 95% CI Upper\n",
      "0                                Gender_Female             -0.02459                0.00149                -0.05650             -16.55673  0.00000   -0.02750     -0.02168  \n",
      "1  Job Description spacy_sentencized_num_words              0.00723                0.00004                 0.00044             183.74993  0.00000    0.00715      0.00730  \n",
      "2                                        const              0.32920                0.00103                     inf             318.95915  0.00000    0.32718      0.33122  \n",
      "--------------------\n",
      "MEANS FOR Competence_Probability x Gender_Female:\n",
      "     A     B   mean(A)  mean(B)  diff   se     T       df      pval  eta-square\n",
      "0 0.000 1.000  0.460    0.423   0.037 0.002 23.687 135848.307 0.000    0.002   \n",
      "--------------------\n",
      "~~~~~~~~~~~~~~~~~~~~\n",
      "\n",
      "\n",
      "++++++++++++++++++++\n",
      "Competence_Probability x Gender_Mixed\n",
      "\n",
      "++++++++++++++++++++\n",
      "   OLS: Probability Warmth and Competence x Categorical and PPS Gender and Age    \n",
      "==================================================================================\n",
      "Dep. Variable:     Competence_Probability   R-squared:                       0.100\n",
      "Model:                                OLS   Adj. R-squared:                  0.100\n",
      "Method:                     Least Squares   F-statistic:                 1.705e+04\n",
      "Date:                    Wed, 10 Apr 2024   Prob (F-statistic):               0.00\n",
      "Time:                            11:38:58   Log-Likelihood:            -1.2160e+05\n",
      "No. Observations:                  308583   AIC:                         2.432e+05\n",
      "Df Residuals:                      308580   BIC:                         2.432e+05\n",
      "Df Model:                               2                                         \n",
      "Covariance Type:                nonrobust                                         \n",
      "===============================================================================================================\n",
      "                                                  coef    std err          t      P>|t|      [0.025      0.975]\n",
      "---------------------------------------------------------------------------------------------------------------\n",
      "Gender_Mixed                                   -0.0064      0.001     -4.840      0.000      -0.009      -0.004\n",
      "Job Description spacy_sentencized_num_words     0.0073   3.93e-05    184.674      0.000       0.007       0.007\n",
      "const                                           0.3248      0.001    305.054      0.000       0.323       0.327\n",
      "==============================================================================\n",
      "Omnibus:                  1801053.856   Durbin-Watson:                   1.235\n",
      "Prob(Omnibus):                  0.000   Jarque-Bera (JB):            29815.583\n",
      "Skew:                           0.094   Prob(JB):                         0.00\n",
      "Kurtosis:                       1.489   Cond. No.                         55.1\n",
      "==============================================================================\n",
      "\n",
      "Notes:\n",
      "[1] Standard Errors assume that the covariance matrix of the errors is correctly specified.\n"
     ]
    },
    {
     "data": {
      "application/vnd.jupyter.widget-view+json": {
       "model_id": "8ecacac64efd4e2185b0662b1c5d6a1b",
       "version_major": 2,
       "version_minor": 0
      },
      "text/plain": [
       "progress-bar:   0%|          | 0/3 [00:00<?, ?it/s]"
      ]
     },
     "metadata": {},
     "output_type": "display_data"
    },
    {
     "data": {
      "application/vnd.jupyter.widget-view+json": {
       "model_id": "cddacc7bad654c41a6b3156b18f69572",
       "version_major": 2,
       "version_minor": 0
      },
      "text/plain": [
       "progress-bar:   0%|          | 0/3 [00:00<?, ?it/s]"
      ]
     },
     "metadata": {},
     "output_type": "display_data"
    },
    {
     "data": {
      "application/vnd.jupyter.widget-view+json": {
       "model_id": "d6c8425a71f94ac6915e2f952d14f887",
       "version_major": 2,
       "version_minor": 0
      },
      "text/plain": [
       "progress-bar:   0%|          | 0/3 [00:00<?, ?it/s]"
      ]
     },
     "metadata": {},
     "output_type": "display_data"
    },
    {
     "data": {
      "application/vnd.jupyter.widget-view+json": {
       "model_id": "951f9b0c8d194234902c50038f6f77a4",
       "version_major": 2,
       "version_minor": 0
      },
      "text/plain": [
       "progress-bar:   0%|          | 0/3 [00:00<?, ?it/s]"
      ]
     },
     "metadata": {},
     "output_type": "display_data"
    },
    {
     "data": {
      "application/vnd.jupyter.widget-view+json": {
       "model_id": "91c83104a8ff47658aac59a2389baa07",
       "version_major": 2,
       "version_minor": 0
      },
      "text/plain": [
       "progress-bar:   0%|          | 0/3 [00:00<?, ?it/s]"
      ]
     },
     "metadata": {},
     "output_type": "display_data"
    },
    {
     "data": {
      "application/vnd.jupyter.widget-view+json": {
       "model_id": "ce6088d60ecf4c199e640b04af8b9b94",
       "version_major": 2,
       "version_minor": 0
      },
      "text/plain": [
       "progress-bar:   0%|          | 0/3 [00:00<?, ?it/s]"
      ]
     },
     "metadata": {},
     "output_type": "display_data"
    },
    {
     "data": {
      "application/vnd.jupyter.widget-view+json": {
       "model_id": "192ff9b3fbc54c668ef33cafb90d97e8",
       "version_major": 2,
       "version_minor": 0
      },
      "text/plain": [
       "progress-bar:   0%|          | 0/3 [00:00<?, ?it/s]"
      ]
     },
     "metadata": {},
     "output_type": "display_data"
    },
    {
     "name": "stdout",
     "output_type": "stream",
     "text": [
      "++++++++++++++++++++++++++++++++++++++++++++++++++\n",
      "~~~~~~~~~~~~~~~~~~~~\n",
      "STANDARDIZED BETA REGRESSION COEFFICIENTS FOR Competence_Probability x Gender_Mixed:\n",
      "                    Variable                   Unstandardized Coefficent B (b) Standard Error Standardized Coefficient b* (β)  t-value   p-value  95% CI Lower 95% CI Upper\n",
      "0                                 Gender_Mixed             -0.00644                0.00133                -0.01327              -4.83990  0.00000   -0.00905     -0.00383  \n",
      "1  Job Description spacy_sentencized_num_words              0.00726                0.00004                 0.00044             184.67371  0.00000    0.00718      0.00734  \n",
      "2                                        const              0.32478                0.00106                     inf             305.05411  0.00000    0.32269      0.32687  \n",
      "--------------------\n",
      "MEANS FOR Competence_Probability x Gender_Mixed:\n",
      "     A     B   mean(A)  mean(B)  diff    se     T       df      pval  eta-square\n",
      "0 0.000 1.000  0.450    0.451   -0.001 0.001 -1.046 248464.900 0.295    0.000   \n",
      "--------------------\n",
      "~~~~~~~~~~~~~~~~~~~~\n",
      "\n",
      "\n",
      "++++++++++++++++++++\n",
      "Warmth_Probability x Gender_Male_% per Sector\n",
      "\n",
      "++++++++++++++++++++\n",
      " OLS: Probability Warmth and Competence x Categorical and PPS Gender and Age  \n",
      "==============================================================================\n",
      "Dep. Variable:     Warmth_Probability   R-squared:                       0.128\n",
      "Model:                            OLS   Adj. R-squared:                  0.128\n",
      "Method:                 Least Squares   F-statistic:                 2.263e+04\n",
      "Date:                Wed, 10 Apr 2024   Prob (F-statistic):               0.00\n",
      "Time:                        11:38:58   Log-Likelihood:            -1.0680e+05\n",
      "No. Observations:              308583   AIC:                         2.136e+05\n",
      "Df Residuals:                  308580   BIC:                         2.136e+05\n",
      "Df Model:                           2                                         \n",
      "Covariance Type:            nonrobust                                         \n",
      "===============================================================================================================\n",
      "                                                  coef    std err          t      P>|t|      [0.025      0.975]\n",
      "---------------------------------------------------------------------------------------------------------------\n",
      "Gender_Male_% per Sector                       -0.0009   3.16e-05    -28.138      0.000      -0.001      -0.001\n",
      "Job Description spacy_sentencized_num_words     0.0079   3.75e-05    211.448      0.000       0.008       0.008\n",
      "const                                           0.2353      0.002    121.737      0.000       0.232       0.239\n",
      "==============================================================================\n",
      "Omnibus:                    36098.807   Durbin-Watson:                   1.553\n",
      "Prob(Omnibus):                  0.000   Jarque-Bera (JB):            32323.247\n",
      "Skew:                           0.717   Prob(JB):                         0.00\n",
      "Kurtosis:                       2.324   Cond. No.                         190.\n",
      "==============================================================================\n",
      "\n",
      "Notes:\n",
      "[1] Standard Errors assume that the covariance matrix of the errors is correctly specified.\n"
     ]
    },
    {
     "data": {
      "application/vnd.jupyter.widget-view+json": {
       "model_id": "fc5fd96f20fc4a718d36a5d4bdc53a71",
       "version_major": 2,
       "version_minor": 0
      },
      "text/plain": [
       "progress-bar:   0%|          | 0/3 [00:00<?, ?it/s]"
      ]
     },
     "metadata": {},
     "output_type": "display_data"
    },
    {
     "data": {
      "application/vnd.jupyter.widget-view+json": {
       "model_id": "3da0476380ae430aa67a0d5c11083db4",
       "version_major": 2,
       "version_minor": 0
      },
      "text/plain": [
       "progress-bar:   0%|          | 0/3 [00:00<?, ?it/s]"
      ]
     },
     "metadata": {},
     "output_type": "display_data"
    },
    {
     "data": {
      "application/vnd.jupyter.widget-view+json": {
       "model_id": "e4c973164e19428896f79d40411b0bd9",
       "version_major": 2,
       "version_minor": 0
      },
      "text/plain": [
       "progress-bar:   0%|          | 0/3 [00:00<?, ?it/s]"
      ]
     },
     "metadata": {},
     "output_type": "display_data"
    },
    {
     "data": {
      "application/vnd.jupyter.widget-view+json": {
       "model_id": "ce5a681641e24a22b878ddcb6cf16b37",
       "version_major": 2,
       "version_minor": 0
      },
      "text/plain": [
       "progress-bar:   0%|          | 0/3 [00:00<?, ?it/s]"
      ]
     },
     "metadata": {},
     "output_type": "display_data"
    },
    {
     "data": {
      "application/vnd.jupyter.widget-view+json": {
       "model_id": "7c8b5682f24e463ab6c7b8dfc846fce3",
       "version_major": 2,
       "version_minor": 0
      },
      "text/plain": [
       "progress-bar:   0%|          | 0/3 [00:00<?, ?it/s]"
      ]
     },
     "metadata": {},
     "output_type": "display_data"
    },
    {
     "data": {
      "application/vnd.jupyter.widget-view+json": {
       "model_id": "330c17f1ac6d4e5eb5c913b858a13172",
       "version_major": 2,
       "version_minor": 0
      },
      "text/plain": [
       "progress-bar:   0%|          | 0/3 [00:00<?, ?it/s]"
      ]
     },
     "metadata": {},
     "output_type": "display_data"
    },
    {
     "data": {
      "application/vnd.jupyter.widget-view+json": {
       "model_id": "26d974add1c441f8b3bbf6da921a412b",
       "version_major": 2,
       "version_minor": 0
      },
      "text/plain": [
       "progress-bar:   0%|          | 0/3 [00:00<?, ?it/s]"
      ]
     },
     "metadata": {},
     "output_type": "display_data"
    },
    {
     "name": "stdout",
     "output_type": "stream",
     "text": [
      "++++++++++++++++++++++++++++++++++++++++++++++++++\n",
      "~~~~~~~~~~~~~~~~~~~~\n",
      "STANDARDIZED BETA REGRESSION COEFFICIENTS FOR Warmth_Probability x Gender_Male_% per Sector:\n",
      "                    Variable                   Unstandardized Coefficent B (b) Standard Error Standardized Coefficient b* (β)  t-value   p-value  95% CI Lower 95% CI Upper\n",
      "0                     Gender_Male_% per Sector             -0.00089                0.00003                -0.00005             -28.13818  0.00000   -0.00095     -0.00083  \n",
      "1  Job Description spacy_sentencized_num_words              0.00792                0.00004                 0.00048             211.44826  0.00000    0.00785      0.00800  \n",
      "2                                        const              0.23532                0.00193                     inf             121.73651  0.00000    0.23154      0.23911  \n",
      "~~~~~~~~~~~~~~~~~~~~\n",
      "\n",
      "\n",
      "++++++++++++++++++++\n",
      "Competence_Probability x Gender_Female_% per Sector\n",
      "\n",
      "++++++++++++++++++++\n",
      "   OLS: Probability Warmth and Competence x Categorical and PPS Gender and Age    \n",
      "==================================================================================\n",
      "Dep. Variable:     Competence_Probability   R-squared:                       0.101\n",
      "Model:                                OLS   Adj. R-squared:                  0.101\n",
      "Method:                     Least Squares   F-statistic:                 1.742e+04\n",
      "Date:                    Wed, 10 Apr 2024   Prob (F-statistic):               0.00\n",
      "Time:                            11:38:58   Log-Likelihood:            -1.2127e+05\n",
      "No. Observations:                  308583   AIC:                         2.425e+05\n",
      "Df Residuals:                      308580   BIC:                         2.426e+05\n",
      "Df Model:                               2                                         \n",
      "Covariance Type:                nonrobust                                         \n",
      "===============================================================================================================\n",
      "                                                  coef    std err          t      P>|t|      [0.025      0.975]\n",
      "---------------------------------------------------------------------------------------------------------------\n",
      "Gender_Female_% per Sector                     -0.0009   3.31e-05    -26.283      0.000      -0.001      -0.001\n",
      "Job Description spacy_sentencized_num_words     0.0072   3.93e-05    184.175      0.000       0.007       0.007\n",
      "const                                           0.3624      0.002    202.448      0.000       0.359       0.366\n",
      "==============================================================================\n",
      "Omnibus:                  1830599.708   Durbin-Watson:                   1.238\n",
      "Prob(Omnibus):                  0.000   Jarque-Bera (JB):            29578.401\n",
      "Skew:                           0.096   Prob(JB):                         0.00\n",
      "Kurtosis:                       1.495   Cond. No.                         145.\n",
      "==============================================================================\n",
      "\n",
      "Notes:\n",
      "[1] Standard Errors assume that the covariance matrix of the errors is correctly specified.\n"
     ]
    },
    {
     "data": {
      "application/vnd.jupyter.widget-view+json": {
       "model_id": "ece7f058dab54c98a255cbc0f301991f",
       "version_major": 2,
       "version_minor": 0
      },
      "text/plain": [
       "progress-bar:   0%|          | 0/3 [00:00<?, ?it/s]"
      ]
     },
     "metadata": {},
     "output_type": "display_data"
    },
    {
     "data": {
      "application/vnd.jupyter.widget-view+json": {
       "model_id": "f868c6b6cf034b38b7998456e6c08c6e",
       "version_major": 2,
       "version_minor": 0
      },
      "text/plain": [
       "progress-bar:   0%|          | 0/3 [00:02<?, ?it/s]"
      ]
     },
     "metadata": {},
     "output_type": "display_data"
    },
    {
     "data": {
      "application/vnd.jupyter.widget-view+json": {
       "model_id": "6bc272bc9d744429a5f41f8e3cc178a4",
       "version_major": 2,
       "version_minor": 0
      },
      "text/plain": [
       "progress-bar:   0%|          | 0/3 [00:00<?, ?it/s]"
      ]
     },
     "metadata": {},
     "output_type": "display_data"
    },
    {
     "data": {
      "application/vnd.jupyter.widget-view+json": {
       "model_id": "c2e8ea928f43476993d97828784b4bed",
       "version_major": 2,
       "version_minor": 0
      },
      "text/plain": [
       "progress-bar:   0%|          | 0/3 [00:00<?, ?it/s]"
      ]
     },
     "metadata": {},
     "output_type": "display_data"
    },
    {
     "data": {
      "application/vnd.jupyter.widget-view+json": {
       "model_id": "cc2ab12479b847fea0d5038945e54280",
       "version_major": 2,
       "version_minor": 0
      },
      "text/plain": [
       "progress-bar:   0%|          | 0/3 [00:00<?, ?it/s]"
      ]
     },
     "metadata": {},
     "output_type": "display_data"
    },
    {
     "data": {
      "application/vnd.jupyter.widget-view+json": {
       "model_id": "efa09989906e4ad6802051c3eb5e55c2",
       "version_major": 2,
       "version_minor": 0
      },
      "text/plain": [
       "progress-bar:   0%|          | 0/3 [00:00<?, ?it/s]"
      ]
     },
     "metadata": {},
     "output_type": "display_data"
    },
    {
     "data": {
      "application/vnd.jupyter.widget-view+json": {
       "model_id": "a8c9ea3aae634d3db64c57aaf35bff7e",
       "version_major": 2,
       "version_minor": 0
      },
      "text/plain": [
       "progress-bar:   0%|          | 0/3 [00:00<?, ?it/s]"
      ]
     },
     "metadata": {},
     "output_type": "display_data"
    },
    {
     "name": "stdout",
     "output_type": "stream",
     "text": [
      "++++++++++++++++++++++++++++++++++++++++++++++++++\n",
      "~~~~~~~~~~~~~~~~~~~~\n",
      "STANDARDIZED BETA REGRESSION COEFFICIENTS FOR Competence_Probability x Gender_Female_% per Sector:\n",
      "                    Variable                   Unstandardized Coefficent B (b) Standard Error Standardized Coefficient b* (β)  t-value   p-value  95% CI Lower 95% CI Upper\n",
      "0                   Gender_Female_% per Sector             -0.00087                0.00003                -0.00004             -26.28265  0.00000   -0.00094     -0.00081  \n",
      "1  Job Description spacy_sentencized_num_words              0.00723                0.00004                 0.00044             184.17488  0.00000    0.00715      0.00731  \n",
      "2                                        const              0.36235                0.00179                     inf             202.44844  0.00000    0.35884      0.36586  \n",
      "~~~~~~~~~~~~~~~~~~~~\n",
      "\n",
      "\n",
      "++++++++++++++++++++\n",
      "Competence_Probability x Gender_Male_% per Sector\n",
      "\n",
      "++++++++++++++++++++\n",
      "   OLS: Probability Warmth and Competence x Categorical and PPS Gender and Age    \n",
      "==================================================================================\n",
      "Dep. Variable:     Competence_Probability   R-squared:                       0.101\n",
      "Model:                                OLS   Adj. R-squared:                  0.101\n",
      "Method:                     Least Squares   F-statistic:                 1.743e+04\n",
      "Date:                    Wed, 10 Apr 2024   Prob (F-statistic):               0.00\n",
      "Time:                            11:39:01   Log-Likelihood:            -1.2126e+05\n",
      "No. Observations:                  308583   AIC:                         2.425e+05\n",
      "Df Residuals:                      308580   BIC:                         2.426e+05\n",
      "Df Model:                               2                                         \n",
      "Covariance Type:                nonrobust                                         \n",
      "===============================================================================================================\n",
      "                                                  coef    std err          t      P>|t|      [0.025      0.975]\n",
      "---------------------------------------------------------------------------------------------------------------\n",
      "Gender_Male_% per Sector                        0.0009   3.31e-05     26.404      0.000       0.001       0.001\n",
      "Job Description spacy_sentencized_num_words     0.0072   3.93e-05    184.183      0.000       0.007       0.007\n",
      "const                                           0.2752      0.002    135.827      0.000       0.271       0.279\n",
      "==============================================================================\n",
      "Omnibus:                  1830836.364   Durbin-Watson:                   1.238\n",
      "Prob(Omnibus):                  0.000   Jarque-Bera (JB):            29576.544\n",
      "Skew:                           0.096   Prob(JB):                         0.00\n",
      "Kurtosis:                       1.495   Cond. No.                         190.\n",
      "==============================================================================\n",
      "\n",
      "Notes:\n",
      "[1] Standard Errors assume that the covariance matrix of the errors is correctly specified.\n"
     ]
    },
    {
     "data": {
      "application/vnd.jupyter.widget-view+json": {
       "model_id": "06e2fd8a4d9347089d6bbe35d1719552",
       "version_major": 2,
       "version_minor": 0
      },
      "text/plain": [
       "progress-bar:   0%|          | 0/3 [00:00<?, ?it/s]"
      ]
     },
     "metadata": {},
     "output_type": "display_data"
    },
    {
     "data": {
      "application/vnd.jupyter.widget-view+json": {
       "model_id": "e0ff15791b0a4e13afc53a4af97dd89f",
       "version_major": 2,
       "version_minor": 0
      },
      "text/plain": [
       "progress-bar:   0%|          | 0/3 [00:00<?, ?it/s]"
      ]
     },
     "metadata": {},
     "output_type": "display_data"
    },
    {
     "data": {
      "application/vnd.jupyter.widget-view+json": {
       "model_id": "1ac91fccc61640dab095c9a9d42ea10f",
       "version_major": 2,
       "version_minor": 0
      },
      "text/plain": [
       "progress-bar:   0%|          | 0/3 [00:00<?, ?it/s]"
      ]
     },
     "metadata": {},
     "output_type": "display_data"
    },
    {
     "data": {
      "application/vnd.jupyter.widget-view+json": {
       "model_id": "849495115c8e40119acb0684be0d3e94",
       "version_major": 2,
       "version_minor": 0
      },
      "text/plain": [
       "progress-bar:   0%|          | 0/3 [00:00<?, ?it/s]"
      ]
     },
     "metadata": {},
     "output_type": "display_data"
    },
    {
     "data": {
      "application/vnd.jupyter.widget-view+json": {
       "model_id": "b3dd7ec92089442394b10e0e526f38f6",
       "version_major": 2,
       "version_minor": 0
      },
      "text/plain": [
       "progress-bar:   0%|          | 0/3 [00:00<?, ?it/s]"
      ]
     },
     "metadata": {},
     "output_type": "display_data"
    },
    {
     "data": {
      "application/vnd.jupyter.widget-view+json": {
       "model_id": "a905dc8eee0243928be04397fadc43e3",
       "version_major": 2,
       "version_minor": 0
      },
      "text/plain": [
       "progress-bar:   0%|          | 0/3 [00:00<?, ?it/s]"
      ]
     },
     "metadata": {},
     "output_type": "display_data"
    },
    {
     "data": {
      "application/vnd.jupyter.widget-view+json": {
       "model_id": "082d9496f38e461992a988a9e390fb7d",
       "version_major": 2,
       "version_minor": 0
      },
      "text/plain": [
       "progress-bar:   0%|          | 0/3 [00:00<?, ?it/s]"
      ]
     },
     "metadata": {},
     "output_type": "display_data"
    },
    {
     "name": "stdout",
     "output_type": "stream",
     "text": [
      "++++++++++++++++++++++++++++++++++++++++++++++++++\n",
      "~~~~~~~~~~~~~~~~~~~~\n",
      "STANDARDIZED BETA REGRESSION COEFFICIENTS FOR Competence_Probability x Gender_Male_% per Sector:\n",
      "                    Variable                   Unstandardized Coefficent B (b) Standard Error Standardized Coefficient b* (β)  t-value   p-value  95% CI Lower 95% CI Upper\n",
      "0                     Gender_Male_% per Sector              0.00087                0.00003                 0.00004              26.40383  0.00000    0.00081      0.00094  \n",
      "1  Job Description spacy_sentencized_num_words              0.00723                0.00004                 0.00044             184.18285  0.00000    0.00716      0.00731  \n",
      "2                                        const              0.27516                0.00203                     inf             135.82651  0.00000    0.27119      0.27913  \n",
      "~~~~~~~~~~~~~~~~~~~~\n",
      "\n",
      "\n",
      "++++++++++++++++++++\n",
      "Warmth_Probability x Gender_Female_% per Sector\n",
      "\n",
      "++++++++++++++++++++\n",
      " OLS: Probability Warmth and Competence x Categorical and PPS Gender and Age  \n",
      "==============================================================================\n",
      "Dep. Variable:     Warmth_Probability   R-squared:                       0.128\n",
      "Model:                            OLS   Adj. R-squared:                  0.128\n",
      "Method:                 Least Squares   F-statistic:                 2.263e+04\n",
      "Date:                Wed, 10 Apr 2024   Prob (F-statistic):               0.00\n",
      "Time:                        11:39:02   Log-Likelihood:            -1.0681e+05\n",
      "No. Observations:              308583   AIC:                         2.136e+05\n",
      "Df Residuals:                  308580   BIC:                         2.137e+05\n",
      "Df Model:                           2                                         \n",
      "Covariance Type:            nonrobust                                         \n",
      "===============================================================================================================\n",
      "                                                  coef    std err          t      P>|t|      [0.025      0.975]\n",
      "---------------------------------------------------------------------------------------------------------------\n",
      "Gender_Female_% per Sector                      0.0009   3.16e-05     28.055      0.000       0.001       0.001\n",
      "Job Description spacy_sentencized_num_words     0.0079   3.75e-05    211.452      0.000       0.008       0.008\n",
      "const                                           0.1466      0.002     85.828      0.000       0.143       0.150\n",
      "==============================================================================\n",
      "Omnibus:                    36101.269   Durbin-Watson:                   1.553\n",
      "Prob(Omnibus):                  0.000   Jarque-Bera (JB):            32324.015\n",
      "Skew:                           0.717   Prob(JB):                         0.00\n",
      "Kurtosis:                       2.324   Cond. No.                         145.\n",
      "==============================================================================\n",
      "\n",
      "Notes:\n",
      "[1] Standard Errors assume that the covariance matrix of the errors is correctly specified.\n"
     ]
    },
    {
     "data": {
      "application/vnd.jupyter.widget-view+json": {
       "model_id": "5db330c3b5874053b6b03cc9884ffb51",
       "version_major": 2,
       "version_minor": 0
      },
      "text/plain": [
       "progress-bar:   0%|          | 0/3 [00:00<?, ?it/s]"
      ]
     },
     "metadata": {},
     "output_type": "display_data"
    },
    {
     "data": {
      "application/vnd.jupyter.widget-view+json": {
       "model_id": "a61b1df7e3f741639d983f2f3afb7b6b",
       "version_major": 2,
       "version_minor": 0
      },
      "text/plain": [
       "progress-bar:   0%|          | 0/3 [00:00<?, ?it/s]"
      ]
     },
     "metadata": {},
     "output_type": "display_data"
    },
    {
     "data": {
      "application/vnd.jupyter.widget-view+json": {
       "model_id": "7255d0dc0d63494db673ebad9d8ee550",
       "version_major": 2,
       "version_minor": 0
      },
      "text/plain": [
       "progress-bar:   0%|          | 0/3 [00:00<?, ?it/s]"
      ]
     },
     "metadata": {},
     "output_type": "display_data"
    },
    {
     "data": {
      "application/vnd.jupyter.widget-view+json": {
       "model_id": "40db2f3571ee4bde9469f5edcd879348",
       "version_major": 2,
       "version_minor": 0
      },
      "text/plain": [
       "progress-bar:   0%|          | 0/3 [00:00<?, ?it/s]"
      ]
     },
     "metadata": {},
     "output_type": "display_data"
    },
    {
     "data": {
      "application/vnd.jupyter.widget-view+json": {
       "model_id": "6f1da75a667b49018da65c5ffb8a5ae1",
       "version_major": 2,
       "version_minor": 0
      },
      "text/plain": [
       "progress-bar:   0%|          | 0/3 [00:00<?, ?it/s]"
      ]
     },
     "metadata": {},
     "output_type": "display_data"
    },
    {
     "data": {
      "application/vnd.jupyter.widget-view+json": {
       "model_id": "e0f608fe25344ccbb00aba7743cc402f",
       "version_major": 2,
       "version_minor": 0
      },
      "text/plain": [
       "progress-bar:   0%|          | 0/3 [00:00<?, ?it/s]"
      ]
     },
     "metadata": {},
     "output_type": "display_data"
    },
    {
     "data": {
      "application/vnd.jupyter.widget-view+json": {
       "model_id": "cdc91933ed9d4ea9b7ffae32c66093d9",
       "version_major": 2,
       "version_minor": 0
      },
      "text/plain": [
       "progress-bar:   0%|          | 0/3 [00:00<?, ?it/s]"
      ]
     },
     "metadata": {},
     "output_type": "display_data"
    },
    {
     "name": "stdout",
     "output_type": "stream",
     "text": [
      "++++++++++++++++++++++++++++++++++++++++++++++++++\n",
      "~~~~~~~~~~~~~~~~~~~~\n",
      "STANDARDIZED BETA REGRESSION COEFFICIENTS FOR Warmth_Probability x Gender_Female_% per Sector:\n",
      "                    Variable                   Unstandardized Coefficent B (b) Standard Error Standardized Coefficient b* (β)  t-value   p-value  95% CI Lower 95% CI Upper\n",
      "0                   Gender_Female_% per Sector              0.00089                0.00003                 0.00005              28.05525  0.00000    0.00083      0.00095  \n",
      "1  Job Description spacy_sentencized_num_words              0.00792                0.00004                 0.00048             211.45154  0.00000    0.00785      0.00800  \n",
      "2                                        const              0.14659                0.00171                     inf              85.82807  0.00000    0.14324      0.14993  \n",
      "~~~~~~~~~~~~~~~~~~~~\n",
      "\n",
      "\n",
      "++++++++++++++++++++\n",
      "Warmth_Probability x Gender_Female\n",
      "\n",
      "++++++++++++++++++++\n",
      " OLS: Probability Warmth and Competence x Categorical and PPS Gender and Age  \n",
      "==============================================================================\n",
      "Dep. Variable:     Warmth_Probability   R-squared:                       0.126\n",
      "Model:                            OLS   Adj. R-squared:                  0.126\n",
      "Method:                 Least Squares   F-statistic:                 2.223e+04\n",
      "Date:                Wed, 10 Apr 2024   Prob (F-statistic):               0.00\n",
      "Time:                        11:39:02   Log-Likelihood:            -1.0715e+05\n",
      "No. Observations:              308583   AIC:                         2.143e+05\n",
      "Df Residuals:                  308580   BIC:                         2.143e+05\n",
      "Df Model:                           2                                         \n",
      "Covariance Type:            nonrobust                                         \n",
      "===============================================================================================================\n",
      "                                                  coef    std err          t      P>|t|      [0.025      0.975]\n",
      "---------------------------------------------------------------------------------------------------------------\n",
      "Gender_Female                                   0.0139      0.001      9.835      0.000       0.011       0.017\n",
      "Job Description spacy_sentencized_num_words     0.0079   3.75e-05    210.868      0.000       0.008       0.008\n",
      "const                                           0.1834      0.001    186.145      0.000       0.181       0.185\n",
      "==============================================================================\n",
      "Omnibus:                    36503.943   Durbin-Watson:                   1.550\n",
      "Prob(Omnibus):                  0.000   Jarque-Bera (JB):            32506.584\n",
      "Skew:                           0.718   Prob(JB):                         0.00\n",
      "Kurtosis:                       2.319   Cond. No.                         58.7\n",
      "==============================================================================\n",
      "\n",
      "Notes:\n",
      "[1] Standard Errors assume that the covariance matrix of the errors is correctly specified.\n"
     ]
    },
    {
     "data": {
      "application/vnd.jupyter.widget-view+json": {
       "model_id": "41c217b202274bcfaff4b736dcd7e985",
       "version_major": 2,
       "version_minor": 0
      },
      "text/plain": [
       "progress-bar:   0%|          | 0/3 [00:00<?, ?it/s]"
      ]
     },
     "metadata": {},
     "output_type": "display_data"
    },
    {
     "data": {
      "application/vnd.jupyter.widget-view+json": {
       "model_id": "65ab6677c3a54cdba7172b0c43d0b4cb",
       "version_major": 2,
       "version_minor": 0
      },
      "text/plain": [
       "progress-bar:   0%|          | 0/3 [00:00<?, ?it/s]"
      ]
     },
     "metadata": {},
     "output_type": "display_data"
    },
    {
     "data": {
      "application/vnd.jupyter.widget-view+json": {
       "model_id": "8f8a17ab9408403bb25a5a190471ed83",
       "version_major": 2,
       "version_minor": 0
      },
      "text/plain": [
       "progress-bar:   0%|          | 0/3 [00:00<?, ?it/s]"
      ]
     },
     "metadata": {},
     "output_type": "display_data"
    },
    {
     "data": {
      "application/vnd.jupyter.widget-view+json": {
       "model_id": "ae1610081e794cb6afec1d67aaf01688",
       "version_major": 2,
       "version_minor": 0
      },
      "text/plain": [
       "progress-bar:   0%|          | 0/3 [00:00<?, ?it/s]"
      ]
     },
     "metadata": {},
     "output_type": "display_data"
    },
    {
     "data": {
      "application/vnd.jupyter.widget-view+json": {
       "model_id": "faf549079c344f31af57464984fa9c93",
       "version_major": 2,
       "version_minor": 0
      },
      "text/plain": [
       "progress-bar:   0%|          | 0/3 [00:00<?, ?it/s]"
      ]
     },
     "metadata": {},
     "output_type": "display_data"
    },
    {
     "data": {
      "application/vnd.jupyter.widget-view+json": {
       "model_id": "94bf011c8032404884e7c3d9a7b99e8c",
       "version_major": 2,
       "version_minor": 0
      },
      "text/plain": [
       "progress-bar:   0%|          | 0/3 [00:00<?, ?it/s]"
      ]
     },
     "metadata": {},
     "output_type": "display_data"
    },
    {
     "data": {
      "application/vnd.jupyter.widget-view+json": {
       "model_id": "1710e11e4c0c4025a378446b73d1d41d",
       "version_major": 2,
       "version_minor": 0
      },
      "text/plain": [
       "progress-bar:   0%|          | 0/3 [00:00<?, ?it/s]"
      ]
     },
     "metadata": {},
     "output_type": "display_data"
    },
    {
     "name": "stdout",
     "output_type": "stream",
     "text": [
      "++++++++++++++++++++++++++++++++++++++++++++++++++\n",
      "~~~~~~~~~~~~~~~~~~~~\n",
      "STANDARDIZED BETA REGRESSION COEFFICIENTS FOR Warmth_Probability x Gender_Female:\n",
      "                    Variable                   Unstandardized Coefficent B (b) Standard Error Standardized Coefficient b* (β)  t-value   p-value  95% CI Lower 95% CI Upper\n",
      "0                                Gender_Female              0.01394                0.00142                 0.03204               9.83507  0.00000    0.01117      0.01672  \n",
      "1  Job Description spacy_sentencized_num_words              0.00792                0.00004                 0.00048             210.86751  0.00000    0.00784      0.00799  \n",
      "2                                        const              0.18341                0.00099                     inf             186.14531  0.00000    0.18148      0.18534  \n",
      "--------------------\n",
      "MEANS FOR Warmth_Probability x Gender_Female:\n",
      "     A     B   mean(A)  mean(B)  diff    se     T       df      pval  eta-square\n",
      "0 0.000 1.000  0.327    0.327   -0.000 0.002 -0.272 134547.249 0.786    0.000   \n",
      "--------------------\n",
      "~~~~~~~~~~~~~~~~~~~~\n",
      "\n",
      "\n",
      "++++++++++++++++++++\n",
      "Competence_Probability x Gender_Male\n",
      "\n",
      "++++++++++++++++++++\n",
      "   OLS: Probability Warmth and Competence x Categorical and PPS Gender and Age    \n",
      "==================================================================================\n",
      "Dep. Variable:     Competence_Probability   R-squared:                       0.101\n",
      "Model:                                OLS   Adj. R-squared:                  0.101\n",
      "Method:                     Least Squares   F-statistic:                 1.726e+04\n",
      "Date:                    Wed, 10 Apr 2024   Prob (F-statistic):               0.00\n",
      "Time:                            11:39:03   Log-Likelihood:            -1.2141e+05\n",
      "No. Observations:                  308583   AIC:                         2.428e+05\n",
      "Df Residuals:                      308580   BIC:                         2.429e+05\n",
      "Df Model:                               2                                         \n",
      "Covariance Type:                nonrobust                                         \n",
      "===============================================================================================================\n",
      "                                                  coef    std err          t      P>|t|      [0.025      0.975]\n",
      "---------------------------------------------------------------------------------------------------------------\n",
      "Gender_Male                                     0.0266      0.001     19.828      0.000       0.024       0.029\n",
      "Job Description spacy_sentencized_num_words     0.0072   3.93e-05    184.550      0.000       0.007       0.007\n",
      "const                                           0.3128      0.001    293.941      0.000       0.311       0.315\n",
      "==============================================================================\n",
      "Omnibus:                  1815009.305   Durbin-Watson:                   1.237\n",
      "Prob(Omnibus):                  0.000   Jarque-Bera (JB):            29704.775\n",
      "Skew:                           0.095   Prob(JB):                         0.00\n",
      "Kurtosis:                       1.492   Cond. No.                         55.4\n",
      "==============================================================================\n",
      "\n",
      "Notes:\n",
      "[1] Standard Errors assume that the covariance matrix of the errors is correctly specified.\n"
     ]
    },
    {
     "data": {
      "application/vnd.jupyter.widget-view+json": {
       "model_id": "01eb4d432e484d2593413df4ca86ff8b",
       "version_major": 2,
       "version_minor": 0
      },
      "text/plain": [
       "progress-bar:   0%|          | 0/3 [00:00<?, ?it/s]"
      ]
     },
     "metadata": {},
     "output_type": "display_data"
    },
    {
     "data": {
      "application/vnd.jupyter.widget-view+json": {
       "model_id": "16dd91520c334c80b20d472557890d12",
       "version_major": 2,
       "version_minor": 0
      },
      "text/plain": [
       "progress-bar:   0%|          | 0/3 [00:00<?, ?it/s]"
      ]
     },
     "metadata": {},
     "output_type": "display_data"
    },
    {
     "data": {
      "application/vnd.jupyter.widget-view+json": {
       "model_id": "5274321c236141c989ab3462ff6d60cc",
       "version_major": 2,
       "version_minor": 0
      },
      "text/plain": [
       "progress-bar:   0%|          | 0/3 [00:00<?, ?it/s]"
      ]
     },
     "metadata": {},
     "output_type": "display_data"
    },
    {
     "data": {
      "application/vnd.jupyter.widget-view+json": {
       "model_id": "c2cb002a33134576a3c86b4a14316a6f",
       "version_major": 2,
       "version_minor": 0
      },
      "text/plain": [
       "progress-bar:   0%|          | 0/3 [00:00<?, ?it/s]"
      ]
     },
     "metadata": {},
     "output_type": "display_data"
    },
    {
     "data": {
      "application/vnd.jupyter.widget-view+json": {
       "model_id": "aa30c36857694cbfb8cce2f6373cfec3",
       "version_major": 2,
       "version_minor": 0
      },
      "text/plain": [
       "progress-bar:   0%|          | 0/3 [00:00<?, ?it/s]"
      ]
     },
     "metadata": {},
     "output_type": "display_data"
    },
    {
     "data": {
      "application/vnd.jupyter.widget-view+json": {
       "model_id": "17435e0766764b40b67bf99256656bba",
       "version_major": 2,
       "version_minor": 0
      },
      "text/plain": [
       "progress-bar:   0%|          | 0/3 [00:00<?, ?it/s]"
      ]
     },
     "metadata": {},
     "output_type": "display_data"
    },
    {
     "data": {
      "application/vnd.jupyter.widget-view+json": {
       "model_id": "4dedbb1c4dbf42d781728ec20d5f58d3",
       "version_major": 2,
       "version_minor": 0
      },
      "text/plain": [
       "progress-bar:   0%|          | 0/3 [00:00<?, ?it/s]"
      ]
     },
     "metadata": {},
     "output_type": "display_data"
    },
    {
     "name": "stdout",
     "output_type": "stream",
     "text": [
      "++++++++++++++++++++++++++++++++++++++++++++++++++\n",
      "~~~~~~~~~~~~~~~~~~~~\n",
      "STANDARDIZED BETA REGRESSION COEFFICIENTS FOR Competence_Probability x Gender_Male:\n",
      "                    Variable                   Unstandardized Coefficent B (b) Standard Error Standardized Coefficient b* (β)  t-value   p-value  95% CI Lower 95% CI Upper\n",
      "0                                  Gender_Male              0.02658                0.00134                 0.05519              19.82827  0.00000    0.02395      0.02921  \n",
      "1  Job Description spacy_sentencized_num_words              0.00725                0.00004                 0.00044             184.54969  0.00000    0.00717      0.00733  \n",
      "2                                        const              0.31283                0.00106                     inf             293.94099  0.00000    0.31075      0.31492  \n",
      "--------------------\n",
      "MEANS FOR Competence_Probability x Gender_Male:\n",
      "     A     B   mean(A)  mean(B)  diff    se      T       df      pval  eta-square\n",
      "0 0.000 1.000  0.440    0.469   -0.029 0.001 -20.293 235127.382 0.000    0.001   \n",
      "--------------------\n",
      "~~~~~~~~~~~~~~~~~~~~\n",
      "\n",
      "\n",
      "++++++++++++++++++++\n",
      "Warmth_Probability x Gender_Mixed\n",
      "\n",
      "++++++++++++++++++++\n",
      " OLS: Probability Warmth and Competence x Categorical and PPS Gender and Age  \n",
      "==============================================================================\n",
      "Dep. Variable:     Warmth_Probability   R-squared:                       0.127\n",
      "Model:                            OLS   Adj. R-squared:                  0.127\n",
      "Method:                 Least Squares   F-statistic:                 2.249e+04\n",
      "Date:                Wed, 10 Apr 2024   Prob (F-statistic):               0.00\n",
      "Time:                        11:39:04   Log-Likelihood:            -1.0693e+05\n",
      "No. Observations:              308583   AIC:                         2.139e+05\n",
      "Df Residuals:                  308580   BIC:                         2.139e+05\n",
      "Df Model:                           2                                         \n",
      "Covariance Type:            nonrobust                                         \n",
      "===============================================================================================================\n",
      "                                                  coef    std err          t      P>|t|      [0.025      0.975]\n",
      "---------------------------------------------------------------------------------------------------------------\n",
      "Gender_Mixed                                    0.0297      0.001     23.407      0.000       0.027       0.032\n",
      "Job Description spacy_sentencized_num_words     0.0079   3.75e-05    209.930      0.000       0.008       0.008\n",
      "const                                           0.1764      0.001    173.792      0.000       0.174       0.178\n",
      "==============================================================================\n",
      "Omnibus:                    36327.554   Durbin-Watson:                   1.552\n",
      "Prob(Omnibus):                  0.000   Jarque-Bera (JB):            32555.861\n",
      "Skew:                           0.720   Prob(JB):                         0.00\n",
      "Kurtosis:                       2.322   Cond. No.                         55.1\n",
      "==============================================================================\n",
      "\n",
      "Notes:\n",
      "[1] Standard Errors assume that the covariance matrix of the errors is correctly specified.\n"
     ]
    },
    {
     "data": {
      "application/vnd.jupyter.widget-view+json": {
       "model_id": "b14eed8b701f4fc4b81934e747395cfc",
       "version_major": 2,
       "version_minor": 0
      },
      "text/plain": [
       "progress-bar:   0%|          | 0/3 [00:00<?, ?it/s]"
      ]
     },
     "metadata": {},
     "output_type": "display_data"
    },
    {
     "data": {
      "application/vnd.jupyter.widget-view+json": {
       "model_id": "05c532f8105f4fa798f633a4f3f780c1",
       "version_major": 2,
       "version_minor": 0
      },
      "text/plain": [
       "progress-bar:   0%|          | 0/3 [00:00<?, ?it/s]"
      ]
     },
     "metadata": {},
     "output_type": "display_data"
    },
    {
     "data": {
      "application/vnd.jupyter.widget-view+json": {
       "model_id": "4b406f5491044054bbce106e573d42d3",
       "version_major": 2,
       "version_minor": 0
      },
      "text/plain": [
       "progress-bar:   0%|          | 0/3 [00:00<?, ?it/s]"
      ]
     },
     "metadata": {},
     "output_type": "display_data"
    },
    {
     "data": {
      "application/vnd.jupyter.widget-view+json": {
       "model_id": "544376095b2d4a71b5831d35578b114a",
       "version_major": 2,
       "version_minor": 0
      },
      "text/plain": [
       "progress-bar:   0%|          | 0/3 [00:00<?, ?it/s]"
      ]
     },
     "metadata": {},
     "output_type": "display_data"
    },
    {
     "data": {
      "application/vnd.jupyter.widget-view+json": {
       "model_id": "a1867cbd839445edb0a48acc108a313c",
       "version_major": 2,
       "version_minor": 0
      },
      "text/plain": [
       "progress-bar:   0%|          | 0/3 [00:00<?, ?it/s]"
      ]
     },
     "metadata": {},
     "output_type": "display_data"
    },
    {
     "data": {
      "application/vnd.jupyter.widget-view+json": {
       "model_id": "f19f7d93e0fb468c9f858a680338c423",
       "version_major": 2,
       "version_minor": 0
      },
      "text/plain": [
       "progress-bar:   0%|          | 0/3 [00:00<?, ?it/s]"
      ]
     },
     "metadata": {},
     "output_type": "display_data"
    },
    {
     "data": {
      "application/vnd.jupyter.widget-view+json": {
       "model_id": "655b0a656d334ddebd20f21fce7c3ac5",
       "version_major": 2,
       "version_minor": 0
      },
      "text/plain": [
       "progress-bar:   0%|          | 0/3 [00:00<?, ?it/s]"
      ]
     },
     "metadata": {},
     "output_type": "display_data"
    },
    {
     "name": "stdout",
     "output_type": "stream",
     "text": [
      "++++++++++++++++++++++++++++++++++++++++++++++++++\n",
      "~~~~~~~~~~~~~~~~~~~~\n",
      "STANDARDIZED BETA REGRESSION COEFFICIENTS FOR Warmth_Probability x Gender_Mixed:\n",
      "                    Variable                   Unstandardized Coefficent B (b) Standard Error Standardized Coefficient b* (β)  t-value   p-value  95% CI Lower 95% CI Upper\n",
      "0                                 Gender_Mixed              0.02971                0.00127                 0.06120              23.40701  0.00000    0.02723      0.03220  \n",
      "1  Job Description spacy_sentencized_num_words              0.00787                0.00004                 0.00048             209.92984  0.00000    0.00780      0.00794  \n",
      "2                                        const              0.17644                0.00102                     inf             173.79202  0.00000    0.17445      0.17843  \n",
      "--------------------\n",
      "MEANS FOR Warmth_Probability x Gender_Mixed:\n",
      "     A     B   mean(A)  mean(B)  diff    se      T       df      pval  eta-square\n",
      "0 0.000 1.000  0.312    0.350   -0.038 0.001 -28.050 243261.594 0.000    0.003   \n",
      "--------------------\n",
      "~~~~~~~~~~~~~~~~~~~~\n",
      "\n",
      "\n",
      "++++++++++++++++++++\n",
      "Warmth_Probability x Age_Older\n",
      "\n",
      "++++++++++++++++++++\n",
      " OLS: Probability Warmth and Competence x Categorical and PPS Gender and Age  \n",
      "==============================================================================\n",
      "Dep. Variable:     Warmth_Probability   R-squared:                       0.127\n",
      "Model:                            OLS   Adj. R-squared:                  0.127\n",
      "Method:                 Least Squares   F-statistic:                 2.242e+04\n",
      "Date:                Wed, 10 Apr 2024   Prob (F-statistic):               0.00\n",
      "Time:                        11:39:04   Log-Likelihood:            -1.0699e+05\n",
      "No. Observations:              308583   AIC:                         2.140e+05\n",
      "Df Residuals:                  308580   BIC:                         2.140e+05\n",
      "Df Model:                           2                                         \n",
      "Covariance Type:            nonrobust                                         \n",
      "===============================================================================================================\n",
      "                                                  coef    std err          t      P>|t|      [0.025      0.975]\n",
      "---------------------------------------------------------------------------------------------------------------\n",
      "Age_Older                                      -0.0314      0.002    -20.504      0.000      -0.034      -0.028\n",
      "Job Description spacy_sentencized_num_words     0.0079   3.75e-05    211.028      0.000       0.008       0.008\n",
      "const                                           0.1934      0.001    202.878      0.000       0.192       0.195\n",
      "==============================================================================\n",
      "Omnibus:                    36310.614   Durbin-Watson:                   1.551\n",
      "Prob(Omnibus):                  0.000   Jarque-Bera (JB):            32487.265\n",
      "Skew:                           0.719   Prob(JB):                         0.00\n",
      "Kurtosis:                       2.322   Cond. No.                         61.7\n",
      "==============================================================================\n",
      "\n",
      "Notes:\n",
      "[1] Standard Errors assume that the covariance matrix of the errors is correctly specified.\n"
     ]
    },
    {
     "data": {
      "application/vnd.jupyter.widget-view+json": {
       "model_id": "f6b70f219e6040d5984ba3e896497898",
       "version_major": 2,
       "version_minor": 0
      },
      "text/plain": [
       "progress-bar:   0%|          | 0/3 [00:00<?, ?it/s]"
      ]
     },
     "metadata": {},
     "output_type": "display_data"
    },
    {
     "data": {
      "application/vnd.jupyter.widget-view+json": {
       "model_id": "58440447089b4bb09da6dffa0ddc2b34",
       "version_major": 2,
       "version_minor": 0
      },
      "text/plain": [
       "progress-bar:   0%|          | 0/3 [00:00<?, ?it/s]"
      ]
     },
     "metadata": {},
     "output_type": "display_data"
    },
    {
     "data": {
      "application/vnd.jupyter.widget-view+json": {
       "model_id": "934a31b642234f0a8f67b5e632f7400d",
       "version_major": 2,
       "version_minor": 0
      },
      "text/plain": [
       "progress-bar:   0%|          | 0/3 [00:00<?, ?it/s]"
      ]
     },
     "metadata": {},
     "output_type": "display_data"
    },
    {
     "data": {
      "application/vnd.jupyter.widget-view+json": {
       "model_id": "8d526201a12a49068a071d4e8f303bc5",
       "version_major": 2,
       "version_minor": 0
      },
      "text/plain": [
       "progress-bar:   0%|          | 0/3 [00:00<?, ?it/s]"
      ]
     },
     "metadata": {},
     "output_type": "display_data"
    },
    {
     "data": {
      "application/vnd.jupyter.widget-view+json": {
       "model_id": "41c37663f89a487da515c13733e69c9e",
       "version_major": 2,
       "version_minor": 0
      },
      "text/plain": [
       "progress-bar:   0%|          | 0/3 [00:00<?, ?it/s]"
      ]
     },
     "metadata": {},
     "output_type": "display_data"
    },
    {
     "data": {
      "application/vnd.jupyter.widget-view+json": {
       "model_id": "a899289a07f148c9bd7193cebc1d2883",
       "version_major": 2,
       "version_minor": 0
      },
      "text/plain": [
       "progress-bar:   0%|          | 0/3 [00:00<?, ?it/s]"
      ]
     },
     "metadata": {},
     "output_type": "display_data"
    },
    {
     "data": {
      "application/vnd.jupyter.widget-view+json": {
       "model_id": "2476c60115064e728454705c4c597a53",
       "version_major": 2,
       "version_minor": 0
      },
      "text/plain": [
       "progress-bar:   0%|          | 0/3 [00:00<?, ?it/s]"
      ]
     },
     "metadata": {},
     "output_type": "display_data"
    },
    {
     "name": "stdout",
     "output_type": "stream",
     "text": [
      "++++++++++++++++++++++++++++++++++++++++++++++++++\n",
      "~~~~~~~~~~~~~~~~~~~~\n",
      "STANDARDIZED BETA REGRESSION COEFFICIENTS FOR Warmth_Probability x Age_Older:\n",
      "                    Variable                   Unstandardized Coefficent B (b) Standard Error Standardized Coefficient b* (β)  t-value   p-value  95% CI Lower 95% CI Upper\n",
      "0                                    Age_Older             -0.03137                0.00153                -0.07788             -20.50391  0.00000   -0.03437     -0.02837  \n",
      "1  Job Description spacy_sentencized_num_words              0.00791                0.00004                 0.00048             211.02827  0.00000    0.00784      0.00798  \n",
      "2                                        const              0.19343                0.00095                     inf             202.87814  0.00000    0.19157      0.19530  \n",
      "--------------------\n",
      "MEANS FOR Warmth_Probability x Age_Older:\n",
      "     A     B   mean(A)  mean(B)  diff   se     T       df     pval  eta-square\n",
      "0 0.000 1.000  0.332    0.306   0.027 0.002 16.495 99346.566 0.000    0.001   \n",
      "--------------------\n",
      "~~~~~~~~~~~~~~~~~~~~\n",
      "\n",
      "\n",
      "++++++++++++++++++++\n",
      "Competence_Probability x Age_Younger\n",
      "\n",
      "++++++++++++++++++++\n",
      "   OLS: Probability Warmth and Competence x Categorical and PPS Gender and Age    \n",
      "==================================================================================\n",
      "Dep. Variable:     Competence_Probability   R-squared:                       0.100\n",
      "Model:                                OLS   Adj. R-squared:                  0.100\n",
      "Method:                     Least Squares   F-statistic:                 1.716e+04\n",
      "Date:                    Wed, 10 Apr 2024   Prob (F-statistic):               0.00\n",
      "Time:                            11:39:06   Log-Likelihood:            -1.2150e+05\n",
      "No. Observations:                  308583   AIC:                         2.430e+05\n",
      "Df Residuals:                      308580   BIC:                         2.430e+05\n",
      "Df Model:                               2                                         \n",
      "Covariance Type:                nonrobust                                         \n",
      "===============================================================================================================\n",
      "                                                  coef    std err          t      P>|t|      [0.025      0.975]\n",
      "---------------------------------------------------------------------------------------------------------------\n",
      "Age_Younger                                    -0.0261      0.002    -14.627      0.000      -0.030      -0.023\n",
      "Job Description spacy_sentencized_num_words     0.0073   3.93e-05    184.877      0.000       0.007       0.007\n",
      "const                                           0.3263      0.001    331.502      0.000       0.324       0.328\n",
      "==============================================================================\n",
      "Omnibus:                  1803851.783   Durbin-Watson:                   1.236\n",
      "Prob(Omnibus):                  0.000   Jarque-Bera (JB):            29802.108\n",
      "Skew:                           0.095   Prob(JB):                         0.00\n",
      "Kurtosis:                       1.490   Cond. No.                         67.8\n",
      "==============================================================================\n",
      "\n",
      "Notes:\n",
      "[1] Standard Errors assume that the covariance matrix of the errors is correctly specified.\n"
     ]
    },
    {
     "data": {
      "application/vnd.jupyter.widget-view+json": {
       "model_id": "14f710564b054df3a8fcc85ee76a0759",
       "version_major": 2,
       "version_minor": 0
      },
      "text/plain": [
       "progress-bar:   0%|          | 0/3 [00:00<?, ?it/s]"
      ]
     },
     "metadata": {},
     "output_type": "display_data"
    },
    {
     "data": {
      "application/vnd.jupyter.widget-view+json": {
       "model_id": "30832cfd43fd47daa79c979bb7541966",
       "version_major": 2,
       "version_minor": 0
      },
      "text/plain": [
       "progress-bar:   0%|          | 0/3 [00:00<?, ?it/s]"
      ]
     },
     "metadata": {},
     "output_type": "display_data"
    },
    {
     "data": {
      "application/vnd.jupyter.widget-view+json": {
       "model_id": "33330bdcfafd45b3a202eee4dd2a07ce",
       "version_major": 2,
       "version_minor": 0
      },
      "text/plain": [
       "progress-bar:   0%|          | 0/3 [00:00<?, ?it/s]"
      ]
     },
     "metadata": {},
     "output_type": "display_data"
    },
    {
     "data": {
      "application/vnd.jupyter.widget-view+json": {
       "model_id": "7c0d5334bdc747e9bce52ea3b5597b19",
       "version_major": 2,
       "version_minor": 0
      },
      "text/plain": [
       "progress-bar:   0%|          | 0/3 [00:00<?, ?it/s]"
      ]
     },
     "metadata": {},
     "output_type": "display_data"
    },
    {
     "data": {
      "application/vnd.jupyter.widget-view+json": {
       "model_id": "5e1dde93ce2c4afd982325126462a028",
       "version_major": 2,
       "version_minor": 0
      },
      "text/plain": [
       "progress-bar:   0%|          | 0/3 [00:00<?, ?it/s]"
      ]
     },
     "metadata": {},
     "output_type": "display_data"
    },
    {
     "data": {
      "application/vnd.jupyter.widget-view+json": {
       "model_id": "2d29edb7c8e14da38b0049fe4a5ba03a",
       "version_major": 2,
       "version_minor": 0
      },
      "text/plain": [
       "progress-bar:   0%|          | 0/3 [00:00<?, ?it/s]"
      ]
     },
     "metadata": {},
     "output_type": "display_data"
    },
    {
     "data": {
      "application/vnd.jupyter.widget-view+json": {
       "model_id": "12163d96d1db42779c19cbcd2e0f9b66",
       "version_major": 2,
       "version_minor": 0
      },
      "text/plain": [
       "progress-bar:   0%|          | 0/3 [00:00<?, ?it/s]"
      ]
     },
     "metadata": {},
     "output_type": "display_data"
    },
    {
     "name": "stdout",
     "output_type": "stream",
     "text": [
      "++++++++++++++++++++++++++++++++++++++++++++++++++\n",
      "~~~~~~~~~~~~~~~~~~~~\n",
      "STANDARDIZED BETA REGRESSION COEFFICIENTS FOR Competence_Probability x Age_Younger:\n",
      "                    Variable                   Unstandardized Coefficent B (b) Standard Error Standardized Coefficient b* (β)  t-value   p-value  95% CI Lower 95% CI Upper\n",
      "0                                  Age_Younger             -0.02613                0.00179                -0.07228             -14.62668  0.00000   -0.02963     -0.02263  \n",
      "1  Job Description spacy_sentencized_num_words              0.00726                0.00004                 0.00044             184.87738  0.00000    0.00719      0.00734  \n",
      "2                                        const              0.32632                0.00098                     inf             331.50172  0.00000    0.32439      0.32825  \n",
      "--------------------\n",
      "MEANS FOR Competence_Probability x Age_Younger:\n",
      "     A     B   mean(A)  mean(B)  diff   se     T       df     pval  eta-square\n",
      "0 0.000 1.000  0.454    0.433   0.021 0.002 11.086 66130.876 0.000    0.001   \n",
      "--------------------\n",
      "~~~~~~~~~~~~~~~~~~~~\n",
      "\n",
      "\n",
      "++++++++++++++++++++\n",
      "Competence_Probability x Age_Mixed\n",
      "\n",
      "++++++++++++++++++++\n",
      "   OLS: Probability Warmth and Competence x Categorical and PPS Gender and Age    \n",
      "==================================================================================\n",
      "Dep. Variable:     Competence_Probability   R-squared:                       0.100\n",
      "Model:                                OLS   Adj. R-squared:                  0.100\n",
      "Method:                     Least Squares   F-statistic:                 1.706e+04\n",
      "Date:                    Wed, 10 Apr 2024   Prob (F-statistic):               0.00\n",
      "Time:                            11:39:06   Log-Likelihood:            -1.2159e+05\n",
      "No. Observations:                  308583   AIC:                         2.432e+05\n",
      "Df Residuals:                      308580   BIC:                         2.432e+05\n",
      "Df Model:                               2                                         \n",
      "Covariance Type:                nonrobust                                         \n",
      "===============================================================================================================\n",
      "                                                  coef    std err          t      P>|t|      [0.025      0.975]\n",
      "---------------------------------------------------------------------------------------------------------------\n",
      "Age_Mixed                                      -0.0079      0.001     -5.840      0.000      -0.011      -0.005\n",
      "Job Description spacy_sentencized_num_words     0.0072   3.93e-05    184.421      0.000       0.007       0.007\n",
      "const                                           0.3276      0.001    253.026      0.000       0.325       0.330\n",
      "==============================================================================\n",
      "Omnibus:                  1804345.067   Durbin-Watson:                   1.235\n",
      "Prob(Omnibus):                  0.000   Jarque-Bera (JB):            29784.330\n",
      "Skew:                           0.094   Prob(JB):                         0.00\n",
      "Kurtosis:                       1.490   Cond. No.                         64.0\n",
      "==============================================================================\n",
      "\n",
      "Notes:\n",
      "[1] Standard Errors assume that the covariance matrix of the errors is correctly specified.\n"
     ]
    },
    {
     "data": {
      "application/vnd.jupyter.widget-view+json": {
       "model_id": "8c98b258f92e4cefb54ac8c8cbaf86fe",
       "version_major": 2,
       "version_minor": 0
      },
      "text/plain": [
       "progress-bar:   0%|          | 0/3 [00:00<?, ?it/s]"
      ]
     },
     "metadata": {},
     "output_type": "display_data"
    },
    {
     "data": {
      "application/vnd.jupyter.widget-view+json": {
       "model_id": "794a64b992b0489fac210addc2df277f",
       "version_major": 2,
       "version_minor": 0
      },
      "text/plain": [
       "progress-bar:   0%|          | 0/3 [00:00<?, ?it/s]"
      ]
     },
     "metadata": {},
     "output_type": "display_data"
    },
    {
     "data": {
      "application/vnd.jupyter.widget-view+json": {
       "model_id": "64bd5de04f9e4b6abd3f70f540c6c568",
       "version_major": 2,
       "version_minor": 0
      },
      "text/plain": [
       "progress-bar:   0%|          | 0/3 [00:00<?, ?it/s]"
      ]
     },
     "metadata": {},
     "output_type": "display_data"
    },
    {
     "data": {
      "application/vnd.jupyter.widget-view+json": {
       "model_id": "975add14e04543eca26825d14b8e319c",
       "version_major": 2,
       "version_minor": 0
      },
      "text/plain": [
       "progress-bar:   0%|          | 0/3 [00:00<?, ?it/s]"
      ]
     },
     "metadata": {},
     "output_type": "display_data"
    },
    {
     "data": {
      "application/vnd.jupyter.widget-view+json": {
       "model_id": "49ce31e346c3412c91ccb8333c6ff58b",
       "version_major": 2,
       "version_minor": 0
      },
      "text/plain": [
       "progress-bar:   0%|          | 0/3 [00:00<?, ?it/s]"
      ]
     },
     "metadata": {},
     "output_type": "display_data"
    },
    {
     "data": {
      "application/vnd.jupyter.widget-view+json": {
       "model_id": "4a8d1e1319484742a88c3e2ab163437a",
       "version_major": 2,
       "version_minor": 0
      },
      "text/plain": [
       "progress-bar:   0%|          | 0/3 [00:00<?, ?it/s]"
      ]
     },
     "metadata": {},
     "output_type": "display_data"
    },
    {
     "data": {
      "application/vnd.jupyter.widget-view+json": {
       "model_id": "bc4d7c4cbf294500a1b41b450b70b683",
       "version_major": 2,
       "version_minor": 0
      },
      "text/plain": [
       "progress-bar:   0%|          | 0/3 [00:00<?, ?it/s]"
      ]
     },
     "metadata": {},
     "output_type": "display_data"
    },
    {
     "name": "stdout",
     "output_type": "stream",
     "text": [
      "++++++++++++++++++++++++++++++++++++++++++++++++++\n",
      "~~~~~~~~~~~~~~~~~~~~\n",
      "STANDARDIZED BETA REGRESSION COEFFICIENTS FOR Competence_Probability x Age_Mixed:\n",
      "                    Variable                   Unstandardized Coefficent B (b) Standard Error Standardized Coefficient b* (β)  t-value   p-value  95% CI Lower 95% CI Upper\n",
      "0                                    Age_Mixed             -0.00787                0.00135                -0.01641              -5.84041  0.00000   -0.01051     -0.00523  \n",
      "1  Job Description spacy_sentencized_num_words              0.00725                0.00004                 0.00044             184.42105  0.00000    0.00717      0.00733  \n",
      "2                                        const              0.32759                0.00129                     inf             253.02557  0.00000    0.32505      0.33012  \n",
      "--------------------\n",
      "MEANS FOR Competence_Probability x Age_Mixed:\n",
      "     A     B   mean(A)  mean(B)  diff   se     T      df      pval  eta-square\n",
      "0 0.000 1.000  0.460    0.446   0.014 0.001 9.763 227081.852 0.000    0.000   \n",
      "--------------------\n",
      "~~~~~~~~~~~~~~~~~~~~\n",
      "\n",
      "\n",
      "++++++++++++++++++++\n",
      "Warmth_Probability x Age_Older_% per Sector\n",
      "\n",
      "++++++++++++++++++++\n",
      " OLS: Probability Warmth and Competence x Categorical and PPS Gender and Age  \n",
      "==============================================================================\n",
      "Dep. Variable:     Warmth_Probability   R-squared:                       0.126\n",
      "Model:                            OLS   Adj. R-squared:                  0.126\n",
      "Method:                 Least Squares   F-statistic:                 2.229e+04\n",
      "Date:                Wed, 10 Apr 2024   Prob (F-statistic):               0.00\n",
      "Time:                        11:39:07   Log-Likelihood:            -1.0710e+05\n",
      "No. Observations:              308583   AIC:                         2.142e+05\n",
      "Df Residuals:                  308580   BIC:                         2.142e+05\n",
      "Df Model:                           2                                         \n",
      "Covariance Type:            nonrobust                                         \n",
      "===============================================================================================================\n",
      "                                                  coef    std err          t      P>|t|      [0.025      0.975]\n",
      "---------------------------------------------------------------------------------------------------------------\n",
      "Age_Older_% per Sector                         -0.0009   6.09e-05    -14.296      0.000      -0.001      -0.001\n",
      "Job Description spacy_sentencized_num_words     0.0079   3.75e-05    210.334      0.000       0.008       0.008\n",
      "const                                           0.2230      0.003     83.786      0.000       0.218       0.228\n",
      "==============================================================================\n",
      "Omnibus:                    36478.529   Durbin-Watson:                   1.550\n",
      "Prob(Omnibus):                  0.000   Jarque-Bera (JB):            32608.875\n",
      "Skew:                           0.720   Prob(JB):                         0.00\n",
      "Kurtosis:                       2.321   Cond. No.                         198.\n",
      "==============================================================================\n",
      "\n",
      "Notes:\n",
      "[1] Standard Errors assume that the covariance matrix of the errors is correctly specified.\n"
     ]
    },
    {
     "data": {
      "application/vnd.jupyter.widget-view+json": {
       "model_id": "943ead934e5b42748b2ca08379871868",
       "version_major": 2,
       "version_minor": 0
      },
      "text/plain": [
       "progress-bar:   0%|          | 0/3 [00:00<?, ?it/s]"
      ]
     },
     "metadata": {},
     "output_type": "display_data"
    },
    {
     "data": {
      "application/vnd.jupyter.widget-view+json": {
       "model_id": "5745a406ca9e4285bf960ab32dc3eace",
       "version_major": 2,
       "version_minor": 0
      },
      "text/plain": [
       "progress-bar:   0%|          | 0/3 [00:00<?, ?it/s]"
      ]
     },
     "metadata": {},
     "output_type": "display_data"
    },
    {
     "data": {
      "application/vnd.jupyter.widget-view+json": {
       "model_id": "ee26fecc9b644f6a870bb46d6bc465fd",
       "version_major": 2,
       "version_minor": 0
      },
      "text/plain": [
       "progress-bar:   0%|          | 0/3 [00:00<?, ?it/s]"
      ]
     },
     "metadata": {},
     "output_type": "display_data"
    },
    {
     "data": {
      "application/vnd.jupyter.widget-view+json": {
       "model_id": "86ad5d401ae24b18b5b7d76590a504d3",
       "version_major": 2,
       "version_minor": 0
      },
      "text/plain": [
       "progress-bar:   0%|          | 0/3 [00:00<?, ?it/s]"
      ]
     },
     "metadata": {},
     "output_type": "display_data"
    },
    {
     "data": {
      "application/vnd.jupyter.widget-view+json": {
       "model_id": "983460c55ad74f4d9edea9137861b8bb",
       "version_major": 2,
       "version_minor": 0
      },
      "text/plain": [
       "progress-bar:   0%|          | 0/3 [00:00<?, ?it/s]"
      ]
     },
     "metadata": {},
     "output_type": "display_data"
    },
    {
     "data": {
      "application/vnd.jupyter.widget-view+json": {
       "model_id": "6f03743eb62f4e808c2ed3bce4a960ef",
       "version_major": 2,
       "version_minor": 0
      },
      "text/plain": [
       "progress-bar:   0%|          | 0/3 [00:00<?, ?it/s]"
      ]
     },
     "metadata": {},
     "output_type": "display_data"
    },
    {
     "data": {
      "application/vnd.jupyter.widget-view+json": {
       "model_id": "786cd56d84d94db88ba6f5eb92c084d0",
       "version_major": 2,
       "version_minor": 0
      },
      "text/plain": [
       "progress-bar:   0%|          | 0/3 [00:00<?, ?it/s]"
      ]
     },
     "metadata": {},
     "output_type": "display_data"
    },
    {
     "name": "stdout",
     "output_type": "stream",
     "text": [
      "++++++++++++++++++++++++++++++++++++++++++++++++++\n",
      "~~~~~~~~~~~~~~~~~~~~\n",
      "STANDARDIZED BETA REGRESSION COEFFICIENTS FOR Warmth_Probability x Age_Older_% per Sector:\n",
      "                    Variable                   Unstandardized Coefficent B (b) Standard Error Standardized Coefficient b* (β)  t-value   p-value  95% CI Lower 95% CI Upper\n",
      "0                       Age_Older_% per Sector             -0.00087                0.00006                -0.00009             -14.29629  0.00000   -0.00099     -0.00075  \n",
      "1  Job Description spacy_sentencized_num_words              0.00789                0.00004                 0.00048             210.33381  0.00000    0.00781      0.00796  \n",
      "2                                        const              0.22303                0.00266                     inf              83.78612  0.00000    0.21782      0.22825  \n",
      "~~~~~~~~~~~~~~~~~~~~\n",
      "\n",
      "\n",
      "++++++++++++++++++++\n",
      "Competence_Probability x Age_Younger_% per Sector\n",
      "\n",
      "++++++++++++++++++++\n",
      "   OLS: Probability Warmth and Competence x Categorical and PPS Gender and Age    \n",
      "==================================================================================\n",
      "Dep. Variable:     Competence_Probability   R-squared:                       0.100\n",
      "Model:                                OLS   Adj. R-squared:                  0.100\n",
      "Method:                     Least Squares   F-statistic:                 1.712e+04\n",
      "Date:                    Wed, 10 Apr 2024   Prob (F-statistic):               0.00\n",
      "Time:                            11:39:07   Log-Likelihood:            -1.2154e+05\n",
      "No. Observations:                  308583   AIC:                         2.431e+05\n",
      "Df Residuals:                      308580   BIC:                         2.431e+05\n",
      "Df Model:                               2                                         \n",
      "Covariance Type:                nonrobust                                         \n",
      "===============================================================================================================\n",
      "                                                  coef    std err          t      P>|t|      [0.025      0.975]\n",
      "---------------------------------------------------------------------------------------------------------------\n",
      "Age_Younger_% per Sector                       -0.0008   6.47e-05    -11.713      0.000      -0.001      -0.001\n",
      "Job Description spacy_sentencized_num_words     0.0073   3.93e-05    184.836      0.000       0.007       0.007\n",
      "const                                           0.3670      0.004     93.519      0.000       0.359       0.375\n",
      "==============================================================================\n",
      "Omnibus:                  1802129.198   Durbin-Watson:                   1.236\n",
      "Prob(Omnibus):                  0.000   Jarque-Bera (JB):            29810.035\n",
      "Skew:                           0.095   Prob(JB):                         0.00\n",
      "Kurtosis:                       1.489   Cond. No.                         380.\n",
      "==============================================================================\n",
      "\n",
      "Notes:\n",
      "[1] Standard Errors assume that the covariance matrix of the errors is correctly specified.\n"
     ]
    },
    {
     "data": {
      "application/vnd.jupyter.widget-view+json": {
       "model_id": "f0b295c97f10496bb770d0c27341a692",
       "version_major": 2,
       "version_minor": 0
      },
      "text/plain": [
       "progress-bar:   0%|          | 0/3 [00:00<?, ?it/s]"
      ]
     },
     "metadata": {},
     "output_type": "display_data"
    },
    {
     "data": {
      "application/vnd.jupyter.widget-view+json": {
       "model_id": "cbd078af456c48ebb325b3ae09fa4fd5",
       "version_major": 2,
       "version_minor": 0
      },
      "text/plain": [
       "progress-bar:   0%|          | 0/3 [00:00<?, ?it/s]"
      ]
     },
     "metadata": {},
     "output_type": "display_data"
    },
    {
     "data": {
      "application/vnd.jupyter.widget-view+json": {
       "model_id": "a6e110294e58417092840cacf5b4f8de",
       "version_major": 2,
       "version_minor": 0
      },
      "text/plain": [
       "progress-bar:   0%|          | 0/3 [00:00<?, ?it/s]"
      ]
     },
     "metadata": {},
     "output_type": "display_data"
    },
    {
     "data": {
      "application/vnd.jupyter.widget-view+json": {
       "model_id": "a648bb3cf7e440568f4f151c7a2dce7d",
       "version_major": 2,
       "version_minor": 0
      },
      "text/plain": [
       "progress-bar:   0%|          | 0/3 [00:00<?, ?it/s]"
      ]
     },
     "metadata": {},
     "output_type": "display_data"
    },
    {
     "data": {
      "application/vnd.jupyter.widget-view+json": {
       "model_id": "c9a54f2001194bd4b76252d008203f0f",
       "version_major": 2,
       "version_minor": 0
      },
      "text/plain": [
       "progress-bar:   0%|          | 0/3 [00:00<?, ?it/s]"
      ]
     },
     "metadata": {},
     "output_type": "display_data"
    },
    {
     "data": {
      "application/vnd.jupyter.widget-view+json": {
       "model_id": "0a1a74def9534f4cbcb4f558200590bf",
       "version_major": 2,
       "version_minor": 0
      },
      "text/plain": [
       "progress-bar:   0%|          | 0/3 [00:00<?, ?it/s]"
      ]
     },
     "metadata": {},
     "output_type": "display_data"
    },
    {
     "data": {
      "application/vnd.jupyter.widget-view+json": {
       "model_id": "cdad9e0a12fe4f84b419b37293a7321e",
       "version_major": 2,
       "version_minor": 0
      },
      "text/plain": [
       "progress-bar:   0%|          | 0/3 [00:00<?, ?it/s]"
      ]
     },
     "metadata": {},
     "output_type": "display_data"
    },
    {
     "name": "stdout",
     "output_type": "stream",
     "text": [
      "++++++++++++++++++++++++++++++++++++++++++++++++++\n",
      "~~~~~~~~~~~~~~~~~~~~\n",
      "STANDARDIZED BETA REGRESSION COEFFICIENTS FOR Competence_Probability x Age_Younger_% per Sector:\n",
      "                    Variable                   Unstandardized Coefficent B (b) Standard Error Standardized Coefficient b* (β)  t-value   p-value  95% CI Lower 95% CI Upper\n",
      "0                     Age_Younger_% per Sector             -0.00076                0.00006                -0.00008             -11.71305  0.00000   -0.00088     -0.00063  \n",
      "1  Job Description spacy_sentencized_num_words              0.00726                0.00004                 0.00044             184.83588  0.00000    0.00719      0.00734  \n",
      "2                                        const              0.36705                0.00392                     inf              93.51889  0.00000    0.35936      0.37474  \n",
      "~~~~~~~~~~~~~~~~~~~~\n",
      "\n",
      "\n",
      "++++++++++++++++++++\n",
      "Competence_Probability x Age_Older_% per Sector\n",
      "\n",
      "++++++++++++++++++++\n",
      "   OLS: Probability Warmth and Competence x Categorical and PPS Gender and Age    \n",
      "==================================================================================\n",
      "Dep. Variable:     Competence_Probability   R-squared:                       0.100\n",
      "Model:                                OLS   Adj. R-squared:                  0.100\n",
      "Method:                     Least Squares   F-statistic:                 1.714e+04\n",
      "Date:                    Wed, 10 Apr 2024   Prob (F-statistic):               0.00\n",
      "Time:                            11:39:07   Log-Likelihood:            -1.2152e+05\n",
      "No. Observations:                  308583   AIC:                         2.431e+05\n",
      "Df Residuals:                      308580   BIC:                         2.431e+05\n",
      "Df Model:                               2                                         \n",
      "Covariance Type:                nonrobust                                         \n",
      "===============================================================================================================\n",
      "                                                  coef    std err          t      P>|t|      [0.025      0.975]\n",
      "---------------------------------------------------------------------------------------------------------------\n",
      "Age_Older_% per Sector                          0.0009   6.39e-05     13.317      0.000       0.001       0.001\n",
      "Job Description spacy_sentencized_num_words     0.0073   3.93e-05    184.896      0.000       0.007       0.007\n",
      "const                                           0.2875      0.003    103.072      0.000       0.282       0.293\n",
      "==============================================================================\n",
      "Omnibus:                  1803309.101   Durbin-Watson:                   1.236\n",
      "Prob(Omnibus):                  0.000   Jarque-Bera (JB):            29799.600\n",
      "Skew:                           0.095   Prob(JB):                         0.00\n",
      "Kurtosis:                       1.489   Cond. No.                         198.\n",
      "==============================================================================\n",
      "\n",
      "Notes:\n",
      "[1] Standard Errors assume that the covariance matrix of the errors is correctly specified.\n"
     ]
    },
    {
     "data": {
      "application/vnd.jupyter.widget-view+json": {
       "model_id": "306ba9598c7640e4b73565cf6123c78a",
       "version_major": 2,
       "version_minor": 0
      },
      "text/plain": [
       "progress-bar:   0%|          | 0/3 [00:00<?, ?it/s]"
      ]
     },
     "metadata": {},
     "output_type": "display_data"
    },
    {
     "data": {
      "application/vnd.jupyter.widget-view+json": {
       "model_id": "fc8585b073e04a3d89dcfd5141ea84e9",
       "version_major": 2,
       "version_minor": 0
      },
      "text/plain": [
       "progress-bar:   0%|          | 0/3 [00:00<?, ?it/s]"
      ]
     },
     "metadata": {},
     "output_type": "display_data"
    },
    {
     "data": {
      "application/vnd.jupyter.widget-view+json": {
       "model_id": "525624f5ab34486d925416d6cc8a35e6",
       "version_major": 2,
       "version_minor": 0
      },
      "text/plain": [
       "progress-bar:   0%|          | 0/3 [00:00<?, ?it/s]"
      ]
     },
     "metadata": {},
     "output_type": "display_data"
    },
    {
     "data": {
      "application/vnd.jupyter.widget-view+json": {
       "model_id": "0d35b0294e934c5aa338008aa97719a4",
       "version_major": 2,
       "version_minor": 0
      },
      "text/plain": [
       "progress-bar:   0%|          | 0/3 [00:00<?, ?it/s]"
      ]
     },
     "metadata": {},
     "output_type": "display_data"
    },
    {
     "data": {
      "application/vnd.jupyter.widget-view+json": {
       "model_id": "4b271576b19a450ab2e0ea317c163b7a",
       "version_major": 2,
       "version_minor": 0
      },
      "text/plain": [
       "progress-bar:   0%|          | 0/3 [00:00<?, ?it/s]"
      ]
     },
     "metadata": {},
     "output_type": "display_data"
    },
    {
     "data": {
      "application/vnd.jupyter.widget-view+json": {
       "model_id": "f93dada1186d4774baec45eaec380301",
       "version_major": 2,
       "version_minor": 0
      },
      "text/plain": [
       "progress-bar:   0%|          | 0/3 [00:00<?, ?it/s]"
      ]
     },
     "metadata": {},
     "output_type": "display_data"
    },
    {
     "data": {
      "application/vnd.jupyter.widget-view+json": {
       "model_id": "47cef8a90bcf443a9994b0c463aa450f",
       "version_major": 2,
       "version_minor": 0
      },
      "text/plain": [
       "progress-bar:   0%|          | 0/3 [00:00<?, ?it/s]"
      ]
     },
     "metadata": {},
     "output_type": "display_data"
    },
    {
     "name": "stdout",
     "output_type": "stream",
     "text": [
      "++++++++++++++++++++++++++++++++++++++++++++++++++\n",
      "~~~~~~~~~~~~~~~~~~~~\n",
      "STANDARDIZED BETA REGRESSION COEFFICIENTS FOR Competence_Probability x Age_Older_% per Sector:\n",
      "                    Variable                   Unstandardized Coefficent B (b) Standard Error Standardized Coefficient b* (β)  t-value   p-value  95% CI Lower 95% CI Upper\n",
      "0                       Age_Older_% per Sector              0.00085                0.00006                 0.00008              13.31748  0.00000    0.00073      0.00098  \n",
      "1  Job Description spacy_sentencized_num_words              0.00727                0.00004                 0.00044             184.89574  0.00000    0.00719      0.00734  \n",
      "2                                        const              0.28750                0.00279                     inf             103.07194  0.00000    0.28204      0.29297  \n",
      "~~~~~~~~~~~~~~~~~~~~\n",
      "\n",
      "\n",
      "++++++++++++++++++++\n",
      "Warmth_Probability x Age_Younger_% per Sector\n",
      "\n",
      "++++++++++++++++++++\n",
      " OLS: Probability Warmth and Competence x Categorical and PPS Gender and Age  \n",
      "==============================================================================\n",
      "Dep. Variable:     Warmth_Probability   R-squared:                       0.126\n",
      "Model:                            OLS   Adj. R-squared:                  0.126\n",
      "Method:                 Least Squares   F-statistic:                 2.231e+04\n",
      "Date:                Wed, 10 Apr 2024   Prob (F-statistic):               0.00\n",
      "Time:                        11:39:07   Log-Likelihood:            -1.0709e+05\n",
      "No. Observations:              308583   AIC:                         2.142e+05\n",
      "Df Residuals:                  308580   BIC:                         2.142e+05\n",
      "Df Model:                           2                                         \n",
      "Covariance Type:            nonrobust                                         \n",
      "===============================================================================================================\n",
      "                                                  coef    std err          t      P>|t|      [0.025      0.975]\n",
      "---------------------------------------------------------------------------------------------------------------\n",
      "Age_Younger_% per Sector                        0.0009   6.18e-05     15.034      0.000       0.001       0.001\n",
      "Job Description spacy_sentencized_num_words     0.0079   3.75e-05    210.361      0.000       0.008       0.008\n",
      "const                                           0.1326      0.004     35.406      0.000       0.125       0.140\n",
      "==============================================================================\n",
      "Omnibus:                    36464.560   Durbin-Watson:                   1.550\n",
      "Prob(Omnibus):                  0.000   Jarque-Bera (JB):            32605.053\n",
      "Skew:                           0.720   Prob(JB):                         0.00\n",
      "Kurtosis:                       2.321   Cond. No.                         380.\n",
      "==============================================================================\n",
      "\n",
      "Notes:\n",
      "[1] Standard Errors assume that the covariance matrix of the errors is correctly specified.\n"
     ]
    },
    {
     "data": {
      "application/vnd.jupyter.widget-view+json": {
       "model_id": "b5218c12c4bf47049b63774b927fc2cf",
       "version_major": 2,
       "version_minor": 0
      },
      "text/plain": [
       "progress-bar:   0%|          | 0/3 [00:00<?, ?it/s]"
      ]
     },
     "metadata": {},
     "output_type": "display_data"
    },
    {
     "data": {
      "application/vnd.jupyter.widget-view+json": {
       "model_id": "f7d3d31a15c94f59b44654a7842ba3c6",
       "version_major": 2,
       "version_minor": 0
      },
      "text/plain": [
       "progress-bar:   0%|          | 0/3 [00:00<?, ?it/s]"
      ]
     },
     "metadata": {},
     "output_type": "display_data"
    },
    {
     "data": {
      "application/vnd.jupyter.widget-view+json": {
       "model_id": "0d6a1c64ecb141b2a3be3c835a7c3e4c",
       "version_major": 2,
       "version_minor": 0
      },
      "text/plain": [
       "progress-bar:   0%|          | 0/3 [00:00<?, ?it/s]"
      ]
     },
     "metadata": {},
     "output_type": "display_data"
    },
    {
     "data": {
      "application/vnd.jupyter.widget-view+json": {
       "model_id": "b1ec57d93028432eb8e3944a4ad1b593",
       "version_major": 2,
       "version_minor": 0
      },
      "text/plain": [
       "progress-bar:   0%|          | 0/3 [00:00<?, ?it/s]"
      ]
     },
     "metadata": {},
     "output_type": "display_data"
    },
    {
     "data": {
      "application/vnd.jupyter.widget-view+json": {
       "model_id": "5d1ff4a4eac54ccba98af21b1218209d",
       "version_major": 2,
       "version_minor": 0
      },
      "text/plain": [
       "progress-bar:   0%|          | 0/3 [00:00<?, ?it/s]"
      ]
     },
     "metadata": {},
     "output_type": "display_data"
    },
    {
     "data": {
      "application/vnd.jupyter.widget-view+json": {
       "model_id": "dbddaf8917b844a595a45dfe0e9a3748",
       "version_major": 2,
       "version_minor": 0
      },
      "text/plain": [
       "progress-bar:   0%|          | 0/3 [00:00<?, ?it/s]"
      ]
     },
     "metadata": {},
     "output_type": "display_data"
    },
    {
     "data": {
      "application/vnd.jupyter.widget-view+json": {
       "model_id": "a7c350a2d52f42cd8598ff6aeafce232",
       "version_major": 2,
       "version_minor": 0
      },
      "text/plain": [
       "progress-bar:   0%|          | 0/3 [00:00<?, ?it/s]"
      ]
     },
     "metadata": {},
     "output_type": "display_data"
    },
    {
     "name": "stdout",
     "output_type": "stream",
     "text": [
      "++++++++++++++++++++++++++++++++++++++++++++++++++\n",
      "~~~~~~~~~~~~~~~~~~~~\n",
      "STANDARDIZED BETA REGRESSION COEFFICIENTS FOR Warmth_Probability x Age_Younger_% per Sector:\n",
      "                    Variable                   Unstandardized Coefficent B (b) Standard Error Standardized Coefficient b* (β)  t-value   p-value  95% CI Lower 95% CI Upper\n",
      "0                     Age_Younger_% per Sector              0.00093                0.00006                 0.00009              15.03387  0.00000    0.00081      0.00105  \n",
      "1  Job Description spacy_sentencized_num_words              0.00789                0.00004                 0.00048             210.36082  0.00000    0.00782      0.00796  \n",
      "2                                        const              0.13261                0.00375                     inf              35.40640  0.00000    0.12527      0.13995  \n",
      "~~~~~~~~~~~~~~~~~~~~\n",
      "\n",
      "\n",
      "++++++++++++++++++++\n",
      "Warmth_Probability x Age_Mixed\n",
      "\n",
      "++++++++++++++++++++\n",
      " OLS: Probability Warmth and Competence x Categorical and PPS Gender and Age  \n",
      "==============================================================================\n",
      "Dep. Variable:     Warmth_Probability   R-squared:                       0.126\n",
      "Model:                            OLS   Adj. R-squared:                  0.126\n",
      "Method:                 Least Squares   F-statistic:                 2.223e+04\n",
      "Date:                Wed, 10 Apr 2024   Prob (F-statistic):               0.00\n",
      "Time:                        11:39:07   Log-Likelihood:            -1.0716e+05\n",
      "No. Observations:              308583   AIC:                         2.143e+05\n",
      "Df Residuals:                  308580   BIC:                         2.144e+05\n",
      "Df Model:                           2                                         \n",
      "Covariance Type:            nonrobust                                         \n",
      "===============================================================================================================\n",
      "                                                  coef    std err          t      P>|t|      [0.025      0.975]\n",
      "---------------------------------------------------------------------------------------------------------------\n",
      "Age_Mixed                                       0.0120      0.001      9.349      0.000       0.010       0.015\n",
      "Job Description spacy_sentencized_num_words     0.0079   3.75e-05    210.800      0.000       0.008       0.008\n",
      "const                                           0.1794      0.001    145.188      0.000       0.177       0.182\n",
      "==============================================================================\n",
      "Omnibus:                    36508.047   Durbin-Watson:                   1.550\n",
      "Prob(Omnibus):                  0.000   Jarque-Bera (JB):            32553.966\n",
      "Skew:                           0.719   Prob(JB):                         0.00\n",
      "Kurtosis:                       2.319   Cond. No.                         64.0\n",
      "==============================================================================\n",
      "\n",
      "Notes:\n",
      "[1] Standard Errors assume that the covariance matrix of the errors is correctly specified.\n"
     ]
    },
    {
     "data": {
      "application/vnd.jupyter.widget-view+json": {
       "model_id": "d38f5988c4f44507a44e0a4fad926107",
       "version_major": 2,
       "version_minor": 0
      },
      "text/plain": [
       "progress-bar:   0%|          | 0/3 [00:00<?, ?it/s]"
      ]
     },
     "metadata": {},
     "output_type": "display_data"
    },
    {
     "data": {
      "application/vnd.jupyter.widget-view+json": {
       "model_id": "251fe90abe8740afba83dc559eb6fa27",
       "version_major": 2,
       "version_minor": 0
      },
      "text/plain": [
       "progress-bar:   0%|          | 0/3 [00:00<?, ?it/s]"
      ]
     },
     "metadata": {},
     "output_type": "display_data"
    },
    {
     "data": {
      "application/vnd.jupyter.widget-view+json": {
       "model_id": "edd320c535c94cbcb451201800051fc4",
       "version_major": 2,
       "version_minor": 0
      },
      "text/plain": [
       "progress-bar:   0%|          | 0/3 [00:00<?, ?it/s]"
      ]
     },
     "metadata": {},
     "output_type": "display_data"
    },
    {
     "data": {
      "application/vnd.jupyter.widget-view+json": {
       "model_id": "dd9596a0717e4cc79299dde9171be2c0",
       "version_major": 2,
       "version_minor": 0
      },
      "text/plain": [
       "progress-bar:   0%|          | 0/3 [00:00<?, ?it/s]"
      ]
     },
     "metadata": {},
     "output_type": "display_data"
    },
    {
     "data": {
      "application/vnd.jupyter.widget-view+json": {
       "model_id": "c2406cd97b314a5d9e9bc073c4e24dd3",
       "version_major": 2,
       "version_minor": 0
      },
      "text/plain": [
       "progress-bar:   0%|          | 0/3 [00:00<?, ?it/s]"
      ]
     },
     "metadata": {},
     "output_type": "display_data"
    },
    {
     "data": {
      "application/vnd.jupyter.widget-view+json": {
       "model_id": "707bdefeb00f443db57f891f4f035180",
       "version_major": 2,
       "version_minor": 0
      },
      "text/plain": [
       "progress-bar:   0%|          | 0/3 [00:00<?, ?it/s]"
      ]
     },
     "metadata": {},
     "output_type": "display_data"
    },
    {
     "data": {
      "application/vnd.jupyter.widget-view+json": {
       "model_id": "bf138009cfdb402e82ed3ae510573cb6",
       "version_major": 2,
       "version_minor": 0
      },
      "text/plain": [
       "progress-bar:   0%|          | 0/3 [00:00<?, ?it/s]"
      ]
     },
     "metadata": {},
     "output_type": "display_data"
    },
    {
     "name": "stdout",
     "output_type": "stream",
     "text": [
      "++++++++++++++++++++++++++++++++++++++++++++++++++\n",
      "~~~~~~~~~~~~~~~~~~~~\n",
      "STANDARDIZED BETA REGRESSION COEFFICIENTS FOR Warmth_Probability x Age_Mixed:\n",
      "                    Variable                   Unstandardized Coefficent B (b) Standard Error Standardized Coefficient b* (β)  t-value   p-value  95% CI Lower 95% CI Upper\n",
      "0                                    Age_Mixed              0.01202                0.00129                 0.02507               9.34904  0.00000    0.00950      0.01454  \n",
      "1  Job Description spacy_sentencized_num_words              0.00791                0.00004                 0.00048             210.79973  0.00000    0.00783      0.00798  \n",
      "2                                        const              0.17938                0.00124                     inf             145.18774  0.00000    0.17696      0.18180  \n",
      "--------------------\n",
      "MEANS FOR Warmth_Probability x Age_Mixed:\n",
      "     A     B   mean(A)  mean(B)  diff    se     T       df      pval  eta-square\n",
      "0 0.000 1.000  0.323    0.329   -0.005 0.001 -3.974 229886.321 0.000    0.000   \n",
      "--------------------\n",
      "~~~~~~~~~~~~~~~~~~~~\n",
      "\n",
      "\n",
      "++++++++++++++++++++\n",
      "Warmth_Probability x Age_Younger\n",
      "\n",
      "++++++++++++++++++++\n",
      " OLS: Probability Warmth and Competence x Categorical and PPS Gender and Age  \n",
      "==============================================================================\n",
      "Dep. Variable:     Warmth_Probability   R-squared:                       0.126\n",
      "Model:                            OLS   Adj. R-squared:                  0.126\n",
      "Method:                 Least Squares   F-statistic:                 2.224e+04\n",
      "Date:                Wed, 10 Apr 2024   Prob (F-statistic):               0.00\n",
      "Time:                        11:39:09   Log-Likelihood:            -1.0715e+05\n",
      "No. Observations:              308583   AIC:                         2.143e+05\n",
      "Df Residuals:                  308580   BIC:                         2.143e+05\n",
      "Df Model:                           2                                         \n",
      "Covariance Type:            nonrobust                                         \n",
      "===============================================================================================================\n",
      "                                                  coef    std err          t      P>|t|      [0.025      0.975]\n",
      "---------------------------------------------------------------------------------------------------------------\n",
      "Age_Younger                                     0.0178      0.002     10.434      0.000       0.014       0.021\n",
      "Job Description spacy_sentencized_num_words     0.0079   3.75e-05    210.453      0.000       0.008       0.008\n",
      "const                                           0.1846      0.001    196.466      0.000       0.183       0.186\n",
      "==============================================================================\n",
      "Omnibus:                    36540.831   Durbin-Watson:                   1.550\n",
      "Prob(Omnibus):                  0.000   Jarque-Bera (JB):            32565.673\n",
      "Skew:                           0.719   Prob(JB):                         0.00\n",
      "Kurtosis:                       2.319   Cond. No.                         67.8\n",
      "==============================================================================\n",
      "\n",
      "Notes:\n",
      "[1] Standard Errors assume that the covariance matrix of the errors is correctly specified.\n"
     ]
    },
    {
     "data": {
      "application/vnd.jupyter.widget-view+json": {
       "model_id": "421ea600d151441a855512715e340c7a",
       "version_major": 2,
       "version_minor": 0
      },
      "text/plain": [
       "progress-bar:   0%|          | 0/3 [00:00<?, ?it/s]"
      ]
     },
     "metadata": {},
     "output_type": "display_data"
    },
    {
     "data": {
      "application/vnd.jupyter.widget-view+json": {
       "model_id": "ebb5f29315c543fa9e517dcf6de3cd25",
       "version_major": 2,
       "version_minor": 0
      },
      "text/plain": [
       "progress-bar:   0%|          | 0/3 [00:00<?, ?it/s]"
      ]
     },
     "metadata": {},
     "output_type": "display_data"
    },
    {
     "data": {
      "application/vnd.jupyter.widget-view+json": {
       "model_id": "fb4f3c99f8874483b9796e360fad4317",
       "version_major": 2,
       "version_minor": 0
      },
      "text/plain": [
       "progress-bar:   0%|          | 0/3 [00:00<?, ?it/s]"
      ]
     },
     "metadata": {},
     "output_type": "display_data"
    },
    {
     "data": {
      "application/vnd.jupyter.widget-view+json": {
       "model_id": "51512ff0818f4ec5888926d030bce7d8",
       "version_major": 2,
       "version_minor": 0
      },
      "text/plain": [
       "progress-bar:   0%|          | 0/3 [00:00<?, ?it/s]"
      ]
     },
     "metadata": {},
     "output_type": "display_data"
    },
    {
     "data": {
      "application/vnd.jupyter.widget-view+json": {
       "model_id": "1949dc6676664b7faf93446a6fc55160",
       "version_major": 2,
       "version_minor": 0
      },
      "text/plain": [
       "progress-bar:   0%|          | 0/3 [00:00<?, ?it/s]"
      ]
     },
     "metadata": {},
     "output_type": "display_data"
    },
    {
     "data": {
      "application/vnd.jupyter.widget-view+json": {
       "model_id": "4ee37cf549dc497cb2b3633bfadd973c",
       "version_major": 2,
       "version_minor": 0
      },
      "text/plain": [
       "progress-bar:   0%|          | 0/3 [00:00<?, ?it/s]"
      ]
     },
     "metadata": {},
     "output_type": "display_data"
    },
    {
     "data": {
      "application/vnd.jupyter.widget-view+json": {
       "model_id": "023402f65fe14e7997cc96f258534e32",
       "version_major": 2,
       "version_minor": 0
      },
      "text/plain": [
       "progress-bar:   0%|          | 0/3 [00:00<?, ?it/s]"
      ]
     },
     "metadata": {},
     "output_type": "display_data"
    },
    {
     "name": "stdout",
     "output_type": "stream",
     "text": [
      "++++++++++++++++++++++++++++++++++++++++++++++++++\n",
      "~~~~~~~~~~~~~~~~~~~~\n",
      "STANDARDIZED BETA REGRESSION COEFFICIENTS FOR Warmth_Probability x Age_Younger:\n",
      "                    Variable                   Unstandardized Coefficent B (b) Standard Error Standardized Coefficient b* (β)  t-value   p-value  95% CI Lower 95% CI Upper\n",
      "0                                  Age_Younger              0.01779                0.00171                 0.04922              10.43406  0.00000    0.01445      0.02114  \n",
      "1  Job Description spacy_sentencized_num_words              0.00789                0.00004                 0.00048             210.45264  0.00000    0.00782      0.00797  \n",
      "2                                        const              0.18460                0.00094                     inf             196.46629  0.00000    0.18276      0.18644  \n",
      "--------------------\n",
      "MEANS FOR Warmth_Probability x Age_Younger:\n",
      "     A     B   mean(A)  mean(B)  diff    se      T       df     pval  eta-square\n",
      "0 0.000 1.000  0.323    0.347   -0.023 0.002 -12.710 65731.340 0.000    0.001   \n",
      "--------------------\n",
      "~~~~~~~~~~~~~~~~~~~~\n",
      "\n",
      "\n",
      "++++++++++++++++++++\n",
      "Competence_Probability x Age_Older\n",
      "\n",
      "++++++++++++++++++++\n",
      "   OLS: Probability Warmth and Competence x Categorical and PPS Gender and Age    \n",
      "==================================================================================\n",
      "Dep. Variable:     Competence_Probability   R-squared:                       0.101\n",
      "Model:                                OLS   Adj. R-squared:                  0.101\n",
      "Method:                     Least Squares   F-statistic:                 1.726e+04\n",
      "Date:                    Wed, 10 Apr 2024   Prob (F-statistic):               0.00\n",
      "Time:                            11:39:10   Log-Likelihood:            -1.2141e+05\n",
      "No. Observations:                  308583   AIC:                         2.428e+05\n",
      "Df Residuals:                      308580   BIC:                         2.429e+05\n",
      "Df Model:                               2                                         \n",
      "Covariance Type:                nonrobust                                         \n",
      "===============================================================================================================\n",
      "                                                  coef    std err          t      P>|t|      [0.025      0.975]\n",
      "---------------------------------------------------------------------------------------------------------------\n",
      "Age_Older                                       0.0322      0.002     20.088      0.000       0.029       0.035\n",
      "Job Description spacy_sentencized_num_words     0.0072   3.93e-05    184.411      0.000       0.007       0.007\n",
      "const                                           0.3161      0.001    316.381      0.000       0.314       0.318\n",
      "==============================================================================\n",
      "Omnibus:                  1817224.319   Durbin-Watson:                   1.237\n",
      "Prob(Omnibus):                  0.000   Jarque-Bera (JB):            29680.830\n",
      "Skew:                           0.095   Prob(JB):                         0.00\n",
      "Kurtosis:                       1.493   Cond. No.                         61.7\n",
      "==============================================================================\n",
      "\n",
      "Notes:\n",
      "[1] Standard Errors assume that the covariance matrix of the errors is correctly specified.\n"
     ]
    },
    {
     "data": {
      "application/vnd.jupyter.widget-view+json": {
       "model_id": "3512f36d322d4569addc8c916a6703c2",
       "version_major": 2,
       "version_minor": 0
      },
      "text/plain": [
       "progress-bar:   0%|          | 0/3 [00:00<?, ?it/s]"
      ]
     },
     "metadata": {},
     "output_type": "display_data"
    },
    {
     "data": {
      "application/vnd.jupyter.widget-view+json": {
       "model_id": "8ac5504dc299457eb01a05254c2a014a",
       "version_major": 2,
       "version_minor": 0
      },
      "text/plain": [
       "progress-bar:   0%|          | 0/3 [00:00<?, ?it/s]"
      ]
     },
     "metadata": {},
     "output_type": "display_data"
    },
    {
     "data": {
      "application/vnd.jupyter.widget-view+json": {
       "model_id": "f4cb69d6d9ab4518902b732f72b18b47",
       "version_major": 2,
       "version_minor": 0
      },
      "text/plain": [
       "progress-bar:   0%|          | 0/3 [00:00<?, ?it/s]"
      ]
     },
     "metadata": {},
     "output_type": "display_data"
    },
    {
     "data": {
      "application/vnd.jupyter.widget-view+json": {
       "model_id": "a8acb920c8474d03bca2f91ea89df1cf",
       "version_major": 2,
       "version_minor": 0
      },
      "text/plain": [
       "progress-bar:   0%|          | 0/3 [00:00<?, ?it/s]"
      ]
     },
     "metadata": {},
     "output_type": "display_data"
    },
    {
     "data": {
      "application/vnd.jupyter.widget-view+json": {
       "model_id": "0811d06dfe914cf1900cef5257b4b351",
       "version_major": 2,
       "version_minor": 0
      },
      "text/plain": [
       "progress-bar:   0%|          | 0/3 [00:00<?, ?it/s]"
      ]
     },
     "metadata": {},
     "output_type": "display_data"
    },
    {
     "data": {
      "application/vnd.jupyter.widget-view+json": {
       "model_id": "3719e918ab1746dabb07b34bbd9814ea",
       "version_major": 2,
       "version_minor": 0
      },
      "text/plain": [
       "progress-bar:   0%|          | 0/3 [00:00<?, ?it/s]"
      ]
     },
     "metadata": {},
     "output_type": "display_data"
    },
    {
     "data": {
      "application/vnd.jupyter.widget-view+json": {
       "model_id": "7aaaf80ea4d54de7a8829f3b91eb1da2",
       "version_major": 2,
       "version_minor": 0
      },
      "text/plain": [
       "progress-bar:   0%|          | 0/3 [00:00<?, ?it/s]"
      ]
     },
     "metadata": {},
     "output_type": "display_data"
    },
    {
     "name": "stdout",
     "output_type": "stream",
     "text": [
      "++++++++++++++++++++++++++++++++++++++++++++++++++\n",
      "~~~~~~~~~~~~~~~~~~~~\n",
      "STANDARDIZED BETA REGRESSION COEFFICIENTS FOR Competence_Probability x Age_Older:\n",
      "                    Variable                   Unstandardized Coefficent B (b) Standard Error Standardized Coefficient b* (β)  t-value   p-value  95% CI Lower 95% CI Upper\n",
      "0                                    Age_Older              0.03220                0.00160                 0.07995              20.08812  0.00000    0.02906      0.03534  \n",
      "1  Job Description spacy_sentencized_num_words              0.00724                0.00004                 0.00044             184.41067  0.00000    0.00717      0.00732  \n",
      "2                                        const              0.31608                0.00100                     inf             316.38085  0.00000    0.31412      0.31804  \n",
      "--------------------\n",
      "MEANS FOR Competence_Probability x Age_Older:\n",
      "     A     B   mean(A)  mean(B)  diff    se      T       df     pval  eta-square\n",
      "0 0.000 1.000  0.443    0.480   -0.037 0.002 -21.593 97193.117 0.000    0.002   \n",
      "--------------------\n",
      "~~~~~~~~~~~~~~~~~~~~\n",
      "\n",
      "\n",
      "++++++++++++++++++++\n",
      "\n",
      "\n",
      "--------------------\n",
      "10 Highest significant coefficients:\n",
      "                      x_exog             y_endog          coeff_pvals  Coefficient                    conf_int                                        pvalues                      \n",
      "Specification No.                                                                                                                                                                  \n",
      "39                  Gender_Mixed      Warmth_Probability    0.000        0.038        [0.0356292581980384, 0.040946021769401014]  {'Gender_Mixed': 4.348395067494259e-175, 'cons...\n",
      "38                     Age_Older  Competence_Probability    0.000        0.037       [0.033253802560585764, 0.03987399200765716]  {'Age_Older': 7.235384879598471e-104, 'const':...\n",
      "37                     Age_Older  Competence_Probability    0.000        0.032      [0.029059644530841238, 0.035343362388604714]  {'Age_Older': 1.0702590236268365e-89, 'Job Des...\n",
      "36                  Gender_Mixed      Warmth_Probability    0.000        0.030       [0.027225271414425857, 0.03220131965184529]  {'Gender_Mixed': 4.626378482193149e-121, 'Job ...\n",
      "35                   Gender_Male  Competence_Probability    0.000        0.029      [0.025904564139340662, 0.031441312774438304]  {'Gender_Male': 1.4746978284288227e-91, 'const...\n",
      "34                   Gender_Male  Competence_Probability    0.000        0.027      [0.023951911234416628, 0.029206476824652248]  {'Gender_Male': 1.925393086230654e-87, 'Job De...\n",
      "33                   Age_Younger      Warmth_Probability    0.000        0.023       [0.019853053467528692, 0.02700057151537815]  {'Age_Younger': 9.018027300804329e-38, 'const'...\n",
      "32                   Age_Younger      Warmth_Probability    0.000        0.018      [0.014451043138023496, 0.021135802827172607]  {'Age_Younger': 1.7501606416012633e-25, 'Job D...\n",
      "31                 Gender_Female      Warmth_Probability    0.000        0.014       [0.01116572424455391, 0.016723625075459637]  {'Gender_Female': 8.013097666005655e-23, 'Job ...\n",
      "30                     Age_Mixed      Warmth_Probability    0.000        0.012       [0.00950192890930644, 0.014542755709139129]  {'Age_Mixed': 8.900683202943786e-21, 'Job Desc...\n",
      "--------------------\n",
      "\n",
      "\n",
      "++++++++++++++++++++\n",
      "\n",
      "\n",
      "\n",
      "\n",
      "++++++++++++++++++++\n",
      "\n",
      "\n",
      "--------------------\n",
      "10 Lowest significant coefficients:\n",
      "                      x_exog             y_endog          coeff_pvals  Coefficient                     conf_int                                         pvalues                      \n",
      "Specification No.                                                                                                                                                                    \n",
      "0                    Gender_Male      Warmth_Probability    0.000        -0.042      [-0.04403126696247353, -0.039021819409837996]  {'Gender_Male': 3.1010429898116846e-231, 'Job ...\n",
      "1                    Gender_Male      Warmth_Probability    0.000        -0.039      [-0.041921465225087585, -0.03656226997692134]  {'Gender_Male': 6.038426162941847e-181, 'const...\n",
      "2                  Gender_Female  Competence_Probability    0.000        -0.037       [-0.04000479484240181, -0.03387890397055911]  {'Gender_Female': 1.973538460293326e-123, 'con...\n",
      "3                      Age_Older      Warmth_Probability    0.000        -0.031      [-0.03436593425890627, -0.028369085118588152]  {'Age_Older': 2.293781365247455e-93, 'Job Desc...\n",
      "4                      Age_Older      Warmth_Probability    0.000        -0.027      [-0.02981049535896888, -0.023396213369970557]  {'Age_Older': 2.0740191541966704e-59, 'const':...\n",
      "5                    Age_Younger  Competence_Probability    0.000        -0.026      [-0.029632783784815014, -0.02262963114162598]  {'Age_Younger': 1.9707079677994755e-48, 'Job D...\n",
      "6                  Gender_Female  Competence_Probability    0.000        -0.025     [-0.027501189732762953, -0.021679249714631404]  {'Gender_Female': 1.5222403194504571e-61, 'Job...\n",
      "7                    Age_Younger  Competence_Probability    0.000        -0.021     [-0.024636655038547645, -0.017256757445144065]  {'Age_Younger': 9.477110593539964e-29, 'const'...\n",
      "8                      Age_Mixed  Competence_Probability    0.000        -0.014      [-0.01667366760556636, -0.011109542250092815]  {'Age_Mixed': 1.2942447365704615e-22, 'const':...\n",
      "9                      Age_Mixed  Competence_Probability    0.000        -0.008      [-0.010511313779332633, -0.00522903931426298]  {'Age_Mixed': 5.212460607135424e-09, 'Job Desc...\n",
      "--------------------\n",
      "\n",
      "\n",
      "++++++++++++++++++++\n",
      "\n",
      "\n",
      "\n",
      "\n",
      "~~~~~~~~~~~~~~~~~~~~~~~~~~~~~~~~~~~~~~~~~~~~~~~~~~~~~~~~~~~~~~~~~~~~~~~~~~~~~~~~\n",
      "\n",
      "===== df_jobs RESULTS FOR OLS: Probability Warmth and Competence x Categorical and PPS Gender and Age =====\n",
      "\n",
      "~~~~~~~~~~~~~~~~~~~~~~~~~~~~~~~~~~~~~~~~~~~~~~~~~~~~~~~~~~~~~~~~~~~~~~~~~~~~~~~~\n",
      "\n",
      "\n"
     ]
    },
    {
     "name": "stderr",
     "output_type": "stream",
     "text": [
      "  0%|          | 0/3 [00:00<?, ?it/s]WARNING:matplotlib.backends.backend_ps:The PostScript backend does not support transparency; partially transparent artists will be rendered opaque.\n",
      "100%|██████████| 3/3 [00:01<00:00,  1.57it/s]\n"
     ]
    },
    {
     "name": "stdout",
     "output_type": "stream",
     "text": [
      "===== END OF df_jobs RESULTS FOR PROBABILITY x CATEGORIES AND PERCENTAGES =====\n",
      "~~~~~~~~~~~~~~~~~~~~~~~~~~~~~~~~~~~~~~~~~~~~~~~~~~~~~~~~~~~~~~~~~~~~~~~~~~~~~~~~ \n",
      "\n",
      "CPU times: user 33.9 s, sys: 8.95 s, total: 42.9 s\n",
      "Wall time: 27.8 s\n"
     ]
    },
    {
     "data": {
      "image/png": "[encoded data removed]",
      "text/plain": [
       "<Figure size 1200x800 with 4 Axes>"
      ]
     },
     "metadata": {},
     "output_type": "display_data"
    }
   ],
   "source": [
    "%%time\n",
    "df_name = list(dataframes.keys())[0]\n",
    "model_name=list(sm_models.keys())[0]\n",
    "dvs_type=list(dvs_for_analysis.keys())[0]\n",
    "ivs_type=list(ivs_for_analysis.keys())[1]\n",
    "\n",
    "sc, df_results, df_top_coeff_p, df_std_coef_dict, df_to_save, masks_dict, sc_stats_dict = run_sc(\n",
    "    df_name=df_name,\n",
    "    df=dataframes[df_name],\n",
    "    model_name=model_name,\n",
    "    model=sm_models[model_name],\n",
    "    dvs_type=dvs_type,\n",
    "    dvs_name=dvs_for_analysis[dvs_type][0],\n",
    "    dvs_=dvs_for_analysis[dvs_type][1],\n",
    "    ivs_type=ivs_type,\n",
    "    ivs_name=ivs_for_analysis[ivs_type][0],\n",
    "    ivs_=ivs_for_analysis[ivs_type][1],\n",
    ")\n"
   ]
  },
  {
   "cell_type": "code",
   "execution_count": null,
   "metadata": {},
   "outputs": [],
   "source": []
  }
 ],
 "metadata": {
  "kernelspec": {
   "display_name": "Automating_Equity1",
   "language": "python",
   "name": "python3"
  },
  "language_info": {
   "codemirror_mode": {
    "name": "ipython",
    "version": 3
   },
   "file_extension": ".py",
   "mimetype": "text/x-python",
   "name": "python",
   "nbconvert_exporter": "python",
   "pygments_lexer": "ipython3",
   "version": "3.10.11"
  },
  "varInspector": {
   "cols": {
    "lenName": 16,
    "lenType": 16,
    "lenVar": 40
   },
   "kernels_config": {
    "python": {
     "delete_cmd_postfix": "",
     "delete_cmd_prefix": "del ",
     "library": "var_list.py",
     "varRefreshCmd": "print(var_dic_list())"
    },
    "r": {
     "delete_cmd_postfix": ") ",
     "delete_cmd_prefix": "rm(",
     "library": "var_list.r",
     "varRefreshCmd": "cat(var_dic_list()) "
    }
   },
   "types_to_exclude": [
    "module",
    "function",
    "builtin_function_or_method",
    "instance",
    "_Feature"
   ],
   "window_display": false
  }
 },
 "nbformat": 4,
 "nbformat_minor": 2
}
